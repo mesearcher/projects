{
 "cells": [
  {
   "cell_type": "markdown",
   "id": "d0d65915",
   "metadata": {
    "deletable": false,
    "id": "c81daeeb"
   },
   "source": [
    "# Payment Capacity Assessment\n"
   ]
  },
  {
   "cell_type": "markdown",
   "id": "eff637b0",
   "metadata": {
    "deletable": false,
    "id": "827c20bf"
   },
   "source": [
    "The project aims to evaluate the creditworthiness of bank clients and provide valuable insights for the development of a credit scoring model.\n",
    "The project analyzes the link between socio-economic factors of potential borrowers and their timely loan repayment ability.\n",
    "\n",
    "\n",
    "**Data provided by the customer bank's credit department:**\n",
    "\n",
    "- Number of children\n",
    "- Marital status\n",
    "- Income level\n",
    "- Purpose of the loan\n",
    "\n",
    "**RQs:**\n",
    "\n",
    "1. Does the number of children impact timely loan repayment?\n",
    "2. How does marital status affect loan repayment?\n",
    "3. Is there a connection between income level and timely loan repayment?\n",
    "4. How do loan purposes influence timely repayment?\n",
    "\n",
    "**Tools and libraries:**\n",
    "\n",
    "- Python, pandas"
   ]
  },
  {
   "cell_type": "markdown",
   "id": "401067ce",
   "metadata": {},
   "source": [
    "# Исследование надежности заемщиков"
   ]
  },
  {
   "cell_type": "markdown",
   "id": "ea004dff",
   "metadata": {},
   "source": [
    "На данных статистики кредитного отдела банка-заказчика о платёжеспособности клиентов проводится исследование, результаты которого будут учтены при построении модели кредитного скоринга.\n",
    "\n",
    "**Цель исследования** — оценить зависимость между возвратом кредита в срок и отдельными социально-экономическими параметрами потенциального кредитополучателя. Такими как: *количество детей, семейное положение, уровень дохода, цели кредита*.\n",
    "\n",
    "**Ход исследования**\n",
    "1. Обзор данных.\n",
    "2. Предобработка данных.\n",
    "3. Проверка гипотез."
   ]
  },
  {
   "cell_type": "markdown",
   "id": "cee56416",
   "metadata": {
    "deletable": false,
    "id": "744d7639"
   },
   "source": [
    "## Обзор данных"
   ]
  },
  {
   "cell_type": "code",
   "execution_count": 1,
   "id": "69297e51",
   "metadata": {
    "deletable": false,
    "id": "7bcf75c9"
   },
   "outputs": [],
   "source": [
    "# импортируем библиотеку pandas и считываем данные из csv-файла в датафрейм\n",
    "import pandas as pd\n",
    "\n",
    "try:\n",
    "    data = pd.read_csv('/datasets/data.csv')\n",
    "except:\n",
    "    data = pd.read_csv('https://code.s3.yandex.net/datasets/data.csv')"
   ]
  },
  {
   "cell_type": "code",
   "execution_count": 2,
   "id": "eb9c0b9c",
   "metadata": {
    "deletable": false,
    "id": "2a7cab99",
    "outputId": "1a8f3ef2-d323-4ec2-ddf7-89670b5944c4"
   },
   "outputs": [
    {
     "data": {
      "text/html": [
       "<div>\n",
       "<style scoped>\n",
       "    .dataframe tbody tr th:only-of-type {\n",
       "        vertical-align: middle;\n",
       "    }\n",
       "\n",
       "    .dataframe tbody tr th {\n",
       "        vertical-align: top;\n",
       "    }\n",
       "\n",
       "    .dataframe thead th {\n",
       "        text-align: right;\n",
       "    }\n",
       "</style>\n",
       "<table border=\"1\" class=\"dataframe\">\n",
       "  <thead>\n",
       "    <tr style=\"text-align: right;\">\n",
       "      <th></th>\n",
       "      <th>children</th>\n",
       "      <th>days_employed</th>\n",
       "      <th>dob_years</th>\n",
       "      <th>education</th>\n",
       "      <th>education_id</th>\n",
       "      <th>family_status</th>\n",
       "      <th>family_status_id</th>\n",
       "      <th>gender</th>\n",
       "      <th>income_type</th>\n",
       "      <th>debt</th>\n",
       "      <th>total_income</th>\n",
       "      <th>purpose</th>\n",
       "    </tr>\n",
       "  </thead>\n",
       "  <tbody>\n",
       "    <tr>\n",
       "      <th>0</th>\n",
       "      <td>1</td>\n",
       "      <td>-8437.673028</td>\n",
       "      <td>42</td>\n",
       "      <td>высшее</td>\n",
       "      <td>0</td>\n",
       "      <td>женат / замужем</td>\n",
       "      <td>0</td>\n",
       "      <td>F</td>\n",
       "      <td>сотрудник</td>\n",
       "      <td>0</td>\n",
       "      <td>253875.639453</td>\n",
       "      <td>покупка жилья</td>\n",
       "    </tr>\n",
       "    <tr>\n",
       "      <th>1</th>\n",
       "      <td>1</td>\n",
       "      <td>-4024.803754</td>\n",
       "      <td>36</td>\n",
       "      <td>среднее</td>\n",
       "      <td>1</td>\n",
       "      <td>женат / замужем</td>\n",
       "      <td>0</td>\n",
       "      <td>F</td>\n",
       "      <td>сотрудник</td>\n",
       "      <td>0</td>\n",
       "      <td>112080.014102</td>\n",
       "      <td>приобретение автомобиля</td>\n",
       "    </tr>\n",
       "    <tr>\n",
       "      <th>2</th>\n",
       "      <td>0</td>\n",
       "      <td>-5623.422610</td>\n",
       "      <td>33</td>\n",
       "      <td>Среднее</td>\n",
       "      <td>1</td>\n",
       "      <td>женат / замужем</td>\n",
       "      <td>0</td>\n",
       "      <td>M</td>\n",
       "      <td>сотрудник</td>\n",
       "      <td>0</td>\n",
       "      <td>145885.952297</td>\n",
       "      <td>покупка жилья</td>\n",
       "    </tr>\n",
       "    <tr>\n",
       "      <th>3</th>\n",
       "      <td>3</td>\n",
       "      <td>-4124.747207</td>\n",
       "      <td>32</td>\n",
       "      <td>среднее</td>\n",
       "      <td>1</td>\n",
       "      <td>женат / замужем</td>\n",
       "      <td>0</td>\n",
       "      <td>M</td>\n",
       "      <td>сотрудник</td>\n",
       "      <td>0</td>\n",
       "      <td>267628.550329</td>\n",
       "      <td>дополнительное образование</td>\n",
       "    </tr>\n",
       "    <tr>\n",
       "      <th>4</th>\n",
       "      <td>0</td>\n",
       "      <td>340266.072047</td>\n",
       "      <td>53</td>\n",
       "      <td>среднее</td>\n",
       "      <td>1</td>\n",
       "      <td>гражданский брак</td>\n",
       "      <td>1</td>\n",
       "      <td>F</td>\n",
       "      <td>пенсионер</td>\n",
       "      <td>0</td>\n",
       "      <td>158616.077870</td>\n",
       "      <td>сыграть свадьбу</td>\n",
       "    </tr>\n",
       "    <tr>\n",
       "      <th>5</th>\n",
       "      <td>0</td>\n",
       "      <td>-926.185831</td>\n",
       "      <td>27</td>\n",
       "      <td>высшее</td>\n",
       "      <td>0</td>\n",
       "      <td>гражданский брак</td>\n",
       "      <td>1</td>\n",
       "      <td>M</td>\n",
       "      <td>компаньон</td>\n",
       "      <td>0</td>\n",
       "      <td>255763.565419</td>\n",
       "      <td>покупка жилья</td>\n",
       "    </tr>\n",
       "    <tr>\n",
       "      <th>6</th>\n",
       "      <td>0</td>\n",
       "      <td>-2879.202052</td>\n",
       "      <td>43</td>\n",
       "      <td>высшее</td>\n",
       "      <td>0</td>\n",
       "      <td>женат / замужем</td>\n",
       "      <td>0</td>\n",
       "      <td>F</td>\n",
       "      <td>компаньон</td>\n",
       "      <td>0</td>\n",
       "      <td>240525.971920</td>\n",
       "      <td>операции с жильем</td>\n",
       "    </tr>\n",
       "    <tr>\n",
       "      <th>7</th>\n",
       "      <td>0</td>\n",
       "      <td>-152.779569</td>\n",
       "      <td>50</td>\n",
       "      <td>СРЕДНЕЕ</td>\n",
       "      <td>1</td>\n",
       "      <td>женат / замужем</td>\n",
       "      <td>0</td>\n",
       "      <td>M</td>\n",
       "      <td>сотрудник</td>\n",
       "      <td>0</td>\n",
       "      <td>135823.934197</td>\n",
       "      <td>образование</td>\n",
       "    </tr>\n",
       "    <tr>\n",
       "      <th>8</th>\n",
       "      <td>2</td>\n",
       "      <td>-6929.865299</td>\n",
       "      <td>35</td>\n",
       "      <td>ВЫСШЕЕ</td>\n",
       "      <td>0</td>\n",
       "      <td>гражданский брак</td>\n",
       "      <td>1</td>\n",
       "      <td>F</td>\n",
       "      <td>сотрудник</td>\n",
       "      <td>0</td>\n",
       "      <td>95856.832424</td>\n",
       "      <td>на проведение свадьбы</td>\n",
       "    </tr>\n",
       "    <tr>\n",
       "      <th>9</th>\n",
       "      <td>0</td>\n",
       "      <td>-2188.756445</td>\n",
       "      <td>41</td>\n",
       "      <td>среднее</td>\n",
       "      <td>1</td>\n",
       "      <td>женат / замужем</td>\n",
       "      <td>0</td>\n",
       "      <td>M</td>\n",
       "      <td>сотрудник</td>\n",
       "      <td>0</td>\n",
       "      <td>144425.938277</td>\n",
       "      <td>покупка жилья для семьи</td>\n",
       "    </tr>\n",
       "    <tr>\n",
       "      <th>10</th>\n",
       "      <td>2</td>\n",
       "      <td>-4171.483647</td>\n",
       "      <td>36</td>\n",
       "      <td>высшее</td>\n",
       "      <td>0</td>\n",
       "      <td>женат / замужем</td>\n",
       "      <td>0</td>\n",
       "      <td>M</td>\n",
       "      <td>компаньон</td>\n",
       "      <td>0</td>\n",
       "      <td>113943.491460</td>\n",
       "      <td>покупка недвижимости</td>\n",
       "    </tr>\n",
       "    <tr>\n",
       "      <th>11</th>\n",
       "      <td>0</td>\n",
       "      <td>-792.701887</td>\n",
       "      <td>40</td>\n",
       "      <td>среднее</td>\n",
       "      <td>1</td>\n",
       "      <td>женат / замужем</td>\n",
       "      <td>0</td>\n",
       "      <td>F</td>\n",
       "      <td>сотрудник</td>\n",
       "      <td>0</td>\n",
       "      <td>77069.234271</td>\n",
       "      <td>покупка коммерческой недвижимости</td>\n",
       "    </tr>\n",
       "    <tr>\n",
       "      <th>12</th>\n",
       "      <td>0</td>\n",
       "      <td>NaN</td>\n",
       "      <td>65</td>\n",
       "      <td>среднее</td>\n",
       "      <td>1</td>\n",
       "      <td>гражданский брак</td>\n",
       "      <td>1</td>\n",
       "      <td>M</td>\n",
       "      <td>пенсионер</td>\n",
       "      <td>0</td>\n",
       "      <td>NaN</td>\n",
       "      <td>сыграть свадьбу</td>\n",
       "    </tr>\n",
       "    <tr>\n",
       "      <th>13</th>\n",
       "      <td>0</td>\n",
       "      <td>-1846.641941</td>\n",
       "      <td>54</td>\n",
       "      <td>неоконченное высшее</td>\n",
       "      <td>2</td>\n",
       "      <td>женат / замужем</td>\n",
       "      <td>0</td>\n",
       "      <td>F</td>\n",
       "      <td>сотрудник</td>\n",
       "      <td>0</td>\n",
       "      <td>130458.228857</td>\n",
       "      <td>приобретение автомобиля</td>\n",
       "    </tr>\n",
       "    <tr>\n",
       "      <th>14</th>\n",
       "      <td>0</td>\n",
       "      <td>-1844.956182</td>\n",
       "      <td>56</td>\n",
       "      <td>высшее</td>\n",
       "      <td>0</td>\n",
       "      <td>гражданский брак</td>\n",
       "      <td>1</td>\n",
       "      <td>F</td>\n",
       "      <td>компаньон</td>\n",
       "      <td>1</td>\n",
       "      <td>165127.911772</td>\n",
       "      <td>покупка жилой недвижимости</td>\n",
       "    </tr>\n",
       "    <tr>\n",
       "      <th>15</th>\n",
       "      <td>1</td>\n",
       "      <td>-972.364419</td>\n",
       "      <td>26</td>\n",
       "      <td>среднее</td>\n",
       "      <td>1</td>\n",
       "      <td>женат / замужем</td>\n",
       "      <td>0</td>\n",
       "      <td>F</td>\n",
       "      <td>сотрудник</td>\n",
       "      <td>0</td>\n",
       "      <td>116820.904450</td>\n",
       "      <td>строительство собственной недвижимости</td>\n",
       "    </tr>\n",
       "    <tr>\n",
       "      <th>16</th>\n",
       "      <td>0</td>\n",
       "      <td>-1719.934226</td>\n",
       "      <td>35</td>\n",
       "      <td>среднее</td>\n",
       "      <td>1</td>\n",
       "      <td>женат / замужем</td>\n",
       "      <td>0</td>\n",
       "      <td>F</td>\n",
       "      <td>сотрудник</td>\n",
       "      <td>0</td>\n",
       "      <td>289202.704229</td>\n",
       "      <td>недвижимость</td>\n",
       "    </tr>\n",
       "    <tr>\n",
       "      <th>17</th>\n",
       "      <td>0</td>\n",
       "      <td>-2369.999720</td>\n",
       "      <td>33</td>\n",
       "      <td>высшее</td>\n",
       "      <td>0</td>\n",
       "      <td>гражданский брак</td>\n",
       "      <td>1</td>\n",
       "      <td>M</td>\n",
       "      <td>сотрудник</td>\n",
       "      <td>0</td>\n",
       "      <td>90410.586745</td>\n",
       "      <td>строительство недвижимости</td>\n",
       "    </tr>\n",
       "    <tr>\n",
       "      <th>18</th>\n",
       "      <td>0</td>\n",
       "      <td>400281.136913</td>\n",
       "      <td>53</td>\n",
       "      <td>среднее</td>\n",
       "      <td>1</td>\n",
       "      <td>вдовец / вдова</td>\n",
       "      <td>2</td>\n",
       "      <td>F</td>\n",
       "      <td>пенсионер</td>\n",
       "      <td>0</td>\n",
       "      <td>56823.777243</td>\n",
       "      <td>на покупку подержанного автомобиля</td>\n",
       "    </tr>\n",
       "    <tr>\n",
       "      <th>19</th>\n",
       "      <td>0</td>\n",
       "      <td>-10038.818549</td>\n",
       "      <td>48</td>\n",
       "      <td>СРЕДНЕЕ</td>\n",
       "      <td>1</td>\n",
       "      <td>в разводе</td>\n",
       "      <td>3</td>\n",
       "      <td>F</td>\n",
       "      <td>сотрудник</td>\n",
       "      <td>0</td>\n",
       "      <td>242831.107982</td>\n",
       "      <td>на покупку своего автомобиля</td>\n",
       "    </tr>\n",
       "  </tbody>\n",
       "</table>\n",
       "</div>"
      ],
      "text/plain": [
       "    children  days_employed  dob_years            education  education_id  \\\n",
       "0          1   -8437.673028         42               высшее             0   \n",
       "1          1   -4024.803754         36              среднее             1   \n",
       "2          0   -5623.422610         33              Среднее             1   \n",
       "3          3   -4124.747207         32              среднее             1   \n",
       "4          0  340266.072047         53              среднее             1   \n",
       "5          0    -926.185831         27               высшее             0   \n",
       "6          0   -2879.202052         43               высшее             0   \n",
       "7          0    -152.779569         50              СРЕДНЕЕ             1   \n",
       "8          2   -6929.865299         35               ВЫСШЕЕ             0   \n",
       "9          0   -2188.756445         41              среднее             1   \n",
       "10         2   -4171.483647         36               высшее             0   \n",
       "11         0    -792.701887         40              среднее             1   \n",
       "12         0            NaN         65              среднее             1   \n",
       "13         0   -1846.641941         54  неоконченное высшее             2   \n",
       "14         0   -1844.956182         56               высшее             0   \n",
       "15         1    -972.364419         26              среднее             1   \n",
       "16         0   -1719.934226         35              среднее             1   \n",
       "17         0   -2369.999720         33               высшее             0   \n",
       "18         0  400281.136913         53              среднее             1   \n",
       "19         0  -10038.818549         48              СРЕДНЕЕ             1   \n",
       "\n",
       "       family_status  family_status_id gender income_type  debt  \\\n",
       "0    женат / замужем                 0      F   сотрудник     0   \n",
       "1    женат / замужем                 0      F   сотрудник     0   \n",
       "2    женат / замужем                 0      M   сотрудник     0   \n",
       "3    женат / замужем                 0      M   сотрудник     0   \n",
       "4   гражданский брак                 1      F   пенсионер     0   \n",
       "5   гражданский брак                 1      M   компаньон     0   \n",
       "6    женат / замужем                 0      F   компаньон     0   \n",
       "7    женат / замужем                 0      M   сотрудник     0   \n",
       "8   гражданский брак                 1      F   сотрудник     0   \n",
       "9    женат / замужем                 0      M   сотрудник     0   \n",
       "10   женат / замужем                 0      M   компаньон     0   \n",
       "11   женат / замужем                 0      F   сотрудник     0   \n",
       "12  гражданский брак                 1      M   пенсионер     0   \n",
       "13   женат / замужем                 0      F   сотрудник     0   \n",
       "14  гражданский брак                 1      F   компаньон     1   \n",
       "15   женат / замужем                 0      F   сотрудник     0   \n",
       "16   женат / замужем                 0      F   сотрудник     0   \n",
       "17  гражданский брак                 1      M   сотрудник     0   \n",
       "18    вдовец / вдова                 2      F   пенсионер     0   \n",
       "19         в разводе                 3      F   сотрудник     0   \n",
       "\n",
       "     total_income                                 purpose  \n",
       "0   253875.639453                           покупка жилья  \n",
       "1   112080.014102                 приобретение автомобиля  \n",
       "2   145885.952297                           покупка жилья  \n",
       "3   267628.550329              дополнительное образование  \n",
       "4   158616.077870                         сыграть свадьбу  \n",
       "5   255763.565419                           покупка жилья  \n",
       "6   240525.971920                       операции с жильем  \n",
       "7   135823.934197                             образование  \n",
       "8    95856.832424                   на проведение свадьбы  \n",
       "9   144425.938277                 покупка жилья для семьи  \n",
       "10  113943.491460                    покупка недвижимости  \n",
       "11   77069.234271       покупка коммерческой недвижимости  \n",
       "12            NaN                         сыграть свадьбу  \n",
       "13  130458.228857                 приобретение автомобиля  \n",
       "14  165127.911772              покупка жилой недвижимости  \n",
       "15  116820.904450  строительство собственной недвижимости  \n",
       "16  289202.704229                            недвижимость  \n",
       "17   90410.586745              строительство недвижимости  \n",
       "18   56823.777243      на покупку подержанного автомобиля  \n",
       "19  242831.107982            на покупку своего автомобиля  "
      ]
     },
     "execution_count": 2,
     "metadata": {},
     "output_type": "execute_result"
    }
   ],
   "source": [
    "# выведем первые 20 строчек датафрейма `data`\n",
    "data.head(20)"
   ]
  },
  {
   "cell_type": "code",
   "execution_count": 3,
   "id": "84fd5e4b",
   "metadata": {
    "deletable": false,
    "id": "2b757bca",
    "outputId": "15376089-8dad-46c9-b520-c05248d43158"
   },
   "outputs": [
    {
     "name": "stdout",
     "output_type": "stream",
     "text": [
      "<class 'pandas.core.frame.DataFrame'>\n",
      "RangeIndex: 21525 entries, 0 to 21524\n",
      "Data columns (total 12 columns):\n",
      " #   Column            Non-Null Count  Dtype  \n",
      "---  ------            --------------  -----  \n",
      " 0   children          21525 non-null  int64  \n",
      " 1   days_employed     19351 non-null  float64\n",
      " 2   dob_years         21525 non-null  int64  \n",
      " 3   education         21525 non-null  object \n",
      " 4   education_id      21525 non-null  int64  \n",
      " 5   family_status     21525 non-null  object \n",
      " 6   family_status_id  21525 non-null  int64  \n",
      " 7   gender            21525 non-null  object \n",
      " 8   income_type       21525 non-null  object \n",
      " 9   debt              21525 non-null  int64  \n",
      " 10  total_income      19351 non-null  float64\n",
      " 11  purpose           21525 non-null  object \n",
      "dtypes: float64(2), int64(5), object(5)\n",
      "memory usage: 2.0+ MB\n"
     ]
    }
   ],
   "source": [
    "# выведем основную информацию о датафрейме с помощью метода info()\n",
    "data.info()"
   ]
  },
  {
   "cell_type": "markdown",
   "id": "d92e0ab1",
   "metadata": {
    "deletable": false,
    "editable": false,
    "id": "333ec665"
   },
   "source": [
    "## Предобработка данных"
   ]
  },
  {
   "cell_type": "code",
   "execution_count": 4,
   "id": "81639662",
   "metadata": {
    "deletable": false,
    "id": "7f9b2309",
    "outputId": "81f4d817-781c-465c-ed15-91ce4446810d"
   },
   "outputs": [
    {
     "data": {
      "text/plain": [
       "children               0\n",
       "days_employed       2174\n",
       "dob_years              0\n",
       "education              0\n",
       "education_id           0\n",
       "family_status          0\n",
       "family_status_id       0\n",
       "gender                 0\n",
       "income_type            0\n",
       "debt                   0\n",
       "total_income        2174\n",
       "purpose                0\n",
       "dtype: int64"
      ]
     },
     "execution_count": 4,
     "metadata": {},
     "output_type": "execute_result"
    }
   ],
   "source": [
    "# выведем количество пропущенных значений для каждого столбца, используя комбинацию двух методов\n",
    "data.isna().sum()"
   ]
  },
  {
   "cell_type": "markdown",
   "id": "23a3c4a4",
   "metadata": {},
   "source": [
    "В двух столбцах `days_employed` и `total_income` есть пропущенные значения. В `total_income` хранятся данные о доходах. \n",
    "На сумму дохода существенно влияет тип занятости, поэтому заполним пропуски в этом столбце медианным значением по каждому типу из столбца `income_type`.\n",
    "\n",
    "Медианные значения представляют более объективную информация о доходах, в отличии от средних значений, которые могут некорректно характеризовать данные в случаях когда некоторые значения в датафрейме крайне выделяются среди большинства."
   ]
  },
  {
   "cell_type": "code",
   "execution_count": 5,
   "id": "6bd0fc47",
   "metadata": {
    "deletable": false,
    "id": "42006a93"
   },
   "outputs": [
    {
     "data": {
      "text/plain": [
       "0"
      ]
     },
     "execution_count": 5,
     "metadata": {},
     "output_type": "execute_result"
    }
   ],
   "source": [
    "# перебираем каждый тип занятости в наборе уникальных значений столба income_type\n",
    "for occupation in data['income_type'].unique():\n",
    "    # на каждом шаге цикла с помощью атрибута loc выбираем строки,\n",
    "    # в которых в income_type текущий тип занятости (occupation) и есть пропуски в total_income\n",
    "    # и записываем в них медианное значение total_income строк с текущим типом занятости (occupation)\n",
    "    data.loc[(data['income_type'] == occupation) & (data['total_income'].isna()), 'total_income'] = \\\n",
    "    data.loc[(data['income_type'] == occupation), 'total_income'].median()\n",
    "\n",
    "# проверяем, что все пропуски заполнены\n",
    "data['total_income'].isna().sum()"
   ]
  },
  {
   "cell_type": "code",
   "execution_count": 8,
   "id": "775a2ef5",
   "metadata": {
    "deletable": false,
    "id": "f6f055bf"
   },
   "outputs": [],
   "source": [
    "# обработаем аномальные значения в столбце days_employed\n",
    "# заменим все отрицательные значения положительными с помощью метода abs()\n",
    "data['days_employed'] = data['days_employed'].abs()"
   ]
  },
  {
   "cell_type": "code",
   "execution_count": 9,
   "id": "69c33211",
   "metadata": {
    "deletable": false,
    "id": "85a5faf6",
    "outputId": "801ef80e-522b-4668-f34e-565af7432bcf"
   },
   "outputs": [
    {
     "data": {
      "text/plain": [
       "income_type\n",
       "безработный        366413.652744\n",
       "в декрете            3296.759962\n",
       "госслужащий          2689.368353\n",
       "компаньон            1547.382223\n",
       "пенсионер          365213.306266\n",
       "предприниматель       520.848083\n",
       "сотрудник            1574.202821\n",
       "студент               578.751554\n",
       "Name: days_employed, dtype: float64"
      ]
     },
     "execution_count": 9,
     "metadata": {},
     "output_type": "execute_result"
    }
   ],
   "source": [
    "# определим медианное значение трудового стажа для каждого типа занятости\n",
    "data.groupby('income_type')['days_employed'].median()"
   ]
  },
  {
   "cell_type": "markdown",
   "id": "9b2eebd4",
   "metadata": {
    "deletable": false,
    "id": "38d1a030"
   },
   "source": [
    "Два типа занятости (безработные и пенсионеры) представлены аномально большими значениями. Эти сведения не понадобятся для дальнейшего анализа, поэтому оставим значения в таком виде."
   ]
  },
  {
   "cell_type": "code",
   "execution_count": 10,
   "id": "b904317e",
   "metadata": {
    "deletable": false,
    "id": "ef5056eb",
    "outputId": "6975b15c-7f95-4697-d16d-a0c79b657b03"
   },
   "outputs": [
    {
     "data": {
      "text/plain": [
       "array([ 1,  0,  3,  2, -1,  4, 20,  5])"
      ]
     },
     "execution_count": 10,
     "metadata": {},
     "output_type": "execute_result"
    }
   ],
   "source": [
    "# применим метод unique() для поиска уникальных значений в столбце children\n",
    "data['children'].unique()"
   ]
  },
  {
   "cell_type": "markdown",
   "id": "a9c9a952",
   "metadata": {},
   "source": [
    "В столбце `children` обнаружены два аномальных значения `-1` и `20`"
   ]
  },
  {
   "cell_type": "code",
   "execution_count": 11,
   "id": "eaf8f141",
   "metadata": {
    "deletable": false,
    "id": "3ff9801d"
   },
   "outputs": [],
   "source": [
    "# удалим строки методом логической индексации на основе двух условий\n",
    "data = data[(data['children'] != -1) & (data['children'] != 20)]"
   ]
  },
  {
   "cell_type": "code",
   "execution_count": 12,
   "id": "b033bc60",
   "metadata": {
    "deletable": false,
    "id": "ad4fa8b7",
    "outputId": "b2097101-d49d-44d9-901b-32a65c9463d1"
   },
   "outputs": [
    {
     "data": {
      "text/plain": [
       "array([1, 0, 3, 2, 4, 5])"
      ]
     },
     "execution_count": 12,
     "metadata": {},
     "output_type": "execute_result"
    }
   ],
   "source": [
    "# убедимся, что артефакты удалены\n",
    "data['children'].unique()"
   ]
  },
  {
   "cell_type": "code",
   "execution_count": 13,
   "id": "69fe3ec8",
   "metadata": {
    "deletable": false,
    "id": "af6b1a7e"
   },
   "outputs": [],
   "source": [
    "# заполним пропуски в столбце days_employed медианными значениями по каждому типу занятости в income_type\n",
    "# перебираем каждый тип занятости в наборе уникальных значений столба income_type\n",
    "for occupation in data['income_type'].unique():\n",
    "    # на каждом шаге цикла с помощью атрибута loc выбираем строки,\n",
    "    # в которых в income_type текущий тип занятости (occupation) и есть пропуски в days_employed\n",
    "    # и записываем в них медианное значение days_employed строк с текущим типом занятости (occupation)\n",
    "    data.loc[(data['income_type'] == occupation) & (data['days_employed'].isna()), 'days_employed'] = \\\n",
    "    data.loc[(data['income_type'] == occupation), 'days_employed'].median()"
   ]
  },
  {
   "cell_type": "code",
   "execution_count": 14,
   "id": "bcbc295a",
   "metadata": {
    "deletable": false,
    "id": "55f78bc2",
    "outputId": "8da1e4e1-358e-4e87-98c9-f261bce0a7b2"
   },
   "outputs": [
    {
     "data": {
      "text/plain": [
       "children            0\n",
       "days_employed       0\n",
       "dob_years           0\n",
       "education           0\n",
       "education_id        0\n",
       "family_status       0\n",
       "family_status_id    0\n",
       "gender              0\n",
       "income_type         0\n",
       "debt                0\n",
       "total_income        0\n",
       "purpose             0\n",
       "dtype: int64"
      ]
     },
     "execution_count": 14,
     "metadata": {},
     "output_type": "execute_result"
    }
   ],
   "source": [
    "# убедимся, что все пропуски заполнены\n",
    "data.isna().sum()"
   ]
  },
  {
   "cell_type": "code",
   "execution_count": 15,
   "id": "1049bf00",
   "metadata": {
    "deletable": false,
    "id": "920b65ad"
   },
   "outputs": [],
   "source": [
    "# заменим вещественный тип данных в столбце total_income на целочисленный\n",
    "# используем метод astype() с аргументом ('int') для перевода типа значения в целое число\n",
    "data['total_income'] = data['total_income'].astype(int)"
   ]
  },
  {
   "cell_type": "code",
   "execution_count": 16,
   "id": "0bc1f30a",
   "metadata": {
    "deletable": false
   },
   "outputs": [],
   "source": [
    "# обработаем неявные дубликаты в столбце education\n",
    "# методом lower() приведём все символы в столбцах education к нижнему регистру\n",
    "data['education'] = data['education'].str.lower()"
   ]
  },
  {
   "cell_type": "code",
   "execution_count": 17,
   "id": "2a81edcf",
   "metadata": {
    "deletable": false,
    "id": "3ee445e4",
    "outputId": "9684deba-1934-42d1-99e1-cda61740f822"
   },
   "outputs": [
    {
     "data": {
      "text/plain": [
       "71"
      ]
     },
     "execution_count": 17,
     "metadata": {},
     "output_type": "execute_result"
    }
   ],
   "source": [
    "# посчитаем количество строк-дубликатов в столбце с помощью двух методов\n",
    "data.duplicated().sum()"
   ]
  },
  {
   "cell_type": "code",
   "execution_count": 18,
   "id": "0c6742de",
   "metadata": {
    "deletable": false,
    "id": "8575fe05"
   },
   "outputs": [],
   "source": [
    "# удалим дубликаты\n",
    "data = data.drop_duplicates()"
   ]
  },
  {
   "cell_type": "code",
   "execution_count": 19,
   "id": "75990982",
   "metadata": {},
   "outputs": [],
   "source": [
    "# методом lower() приведём все символы в столбцах amily_status к нижнему регистру\n",
    "data['family_status'] = data['family_status'].str.lower()"
   ]
  },
  {
   "cell_type": "markdown",
   "id": "39a3cf0c",
   "metadata": {
    "deletable": false,
    "id": "72fcc8a2"
   },
   "source": [
    "Создадим собственную функцию, которая назначает клиенту категорию в зависимости от ежемесячного дохода на основании диапазонов:\n",
    "- 0–30000 — `'E'`;\n",
    "- 30001–50000 — `'D'`;\n",
    "- 50001–200000 — `'C'`;\n",
    "- 200001–1000000 — `'B'`;\n",
    "- 1000001 и выше — `'A'`."
   ]
  },
  {
   "cell_type": "code",
   "execution_count": 20,
   "id": "6127b4d1",
   "metadata": {
    "deletable": false,
    "id": "e1771346"
   },
   "outputs": [],
   "source": [
    "# создадим функцию categorize_income(), используя конструкцию try - except для обработки исключений\n",
    "def categorize_income(income):\n",
    "    try:\n",
    "        if income <= 30000:\n",
    "            return 'E'\n",
    "        elif income <= 50000:\n",
    "            return 'D'\n",
    "        elif income <= 200000:\n",
    "            return 'C'\n",
    "        elif income <= 1000000:\n",
    "            return 'B'\n",
    "        elif income >= 1000001:\n",
    "            return 'A'\n",
    "    except:\n",
    "        pass"
   ]
  },
  {
   "cell_type": "code",
   "execution_count": 21,
   "id": "366b6173",
   "metadata": {
    "deletable": false,
    "id": "d5f3586d"
   },
   "outputs": [],
   "source": [
    "# создадим отдельный столбец с категориями клиентов, \n",
    "# в ячейках столбца будут записаны возвращаемые функцией значения\n",
    "# применим функцию методом apply()\n",
    "data['total_income_category'] = data['total_income'].apply(categorize_income)"
   ]
  },
  {
   "cell_type": "code",
   "execution_count": 22,
   "id": "4f7c3f07",
   "metadata": {
    "deletable": false,
    "id": "f67ce9b3",
    "outputId": "673c12d9-7d7e-4ae0-9812-c622c89dd244"
   },
   "outputs": [
    {
     "data": {
      "text/plain": [
       "array(['покупка жилья', 'приобретение автомобиля',\n",
       "       'дополнительное образование', 'сыграть свадьбу',\n",
       "       'операции с жильем', 'образование', 'на проведение свадьбы',\n",
       "       'покупка жилья для семьи', 'покупка недвижимости',\n",
       "       'покупка коммерческой недвижимости', 'покупка жилой недвижимости',\n",
       "       'строительство собственной недвижимости', 'недвижимость',\n",
       "       'строительство недвижимости', 'на покупку подержанного автомобиля',\n",
       "       'на покупку своего автомобиля',\n",
       "       'операции с коммерческой недвижимостью',\n",
       "       'строительство жилой недвижимости', 'жилье',\n",
       "       'операции со своей недвижимостью', 'автомобили',\n",
       "       'заняться образованием', 'сделка с подержанным автомобилем',\n",
       "       'получение образования', 'автомобиль', 'свадьба',\n",
       "       'получение дополнительного образования', 'покупка своего жилья',\n",
       "       'операции с недвижимостью', 'получение высшего образования',\n",
       "       'свой автомобиль', 'сделка с автомобилем',\n",
       "       'профильное образование', 'высшее образование',\n",
       "       'покупка жилья для сдачи', 'на покупку автомобиля', 'ремонт жилью',\n",
       "       'заняться высшим образованием'], dtype=object)"
      ]
     },
     "execution_count": 22,
     "metadata": {},
     "output_type": "execute_result"
    }
   ],
   "source": [
    "# используем метод unique() для поиска уникальных значений в столбце purpose\n",
    "data['purpose'].unique()"
   ]
  },
  {
   "cell_type": "markdown",
   "id": "11951724",
   "metadata": {
    "deletable": false,
    "id": "85d0aef0"
   },
   "source": [
    "Создадим собственную функцию, которая категоризует кредитные операции в соответствии с данными в столбце `purpose`.\n",
    "Новый столбец `purpose_category` будет хранить следующие категории:\n",
    "- `'операции с автомобилем'`,\n",
    "- `'операции с недвижимостью'`,\n",
    "- `'проведение свадьбы'`,\n",
    "- `'получение образования'`."
   ]
  },
  {
   "cell_type": "code",
   "execution_count": 23,
   "id": "e25d48f0",
   "metadata": {
    "deletable": false,
    "id": "e149fab4"
   },
   "outputs": [],
   "source": [
    "# создадим функцию categorize_purpose(), используя конструкцию try - except для обработки исключений\n",
    "def categorize_purpose(row):\n",
    "    try:\n",
    "        if 'автом' in row:\n",
    "            return 'операции с автомобилем'\n",
    "        elif 'жил'in row or 'недвиж' in row:\n",
    "            return 'операции с недвижимостью'\n",
    "        elif 'свадьб' in row:\n",
    "            return 'проведение свадьбы'\n",
    "        elif 'образов' in row:\n",
    "            return 'получение образования'\n",
    "    except:\n",
    "        return 'нет категории'"
   ]
  },
  {
   "cell_type": "code",
   "execution_count": 24,
   "id": "dcdcaf0f",
   "metadata": {
    "deletable": false,
    "id": "bf36e69b"
   },
   "outputs": [
    {
     "data": {
      "text/html": [
       "<div>\n",
       "<style scoped>\n",
       "    .dataframe tbody tr th:only-of-type {\n",
       "        vertical-align: middle;\n",
       "    }\n",
       "\n",
       "    .dataframe tbody tr th {\n",
       "        vertical-align: top;\n",
       "    }\n",
       "\n",
       "    .dataframe thead th {\n",
       "        text-align: right;\n",
       "    }\n",
       "</style>\n",
       "<table border=\"1\" class=\"dataframe\">\n",
       "  <thead>\n",
       "    <tr style=\"text-align: right;\">\n",
       "      <th></th>\n",
       "      <th>children</th>\n",
       "      <th>days_employed</th>\n",
       "      <th>dob_years</th>\n",
       "      <th>education</th>\n",
       "      <th>education_id</th>\n",
       "      <th>family_status</th>\n",
       "      <th>family_status_id</th>\n",
       "      <th>gender</th>\n",
       "      <th>income_type</th>\n",
       "      <th>debt</th>\n",
       "      <th>total_income</th>\n",
       "      <th>purpose</th>\n",
       "      <th>total_income_category</th>\n",
       "      <th>purpose_category</th>\n",
       "    </tr>\n",
       "  </thead>\n",
       "  <tbody>\n",
       "    <tr>\n",
       "      <th>0</th>\n",
       "      <td>1</td>\n",
       "      <td>8437.673028</td>\n",
       "      <td>42</td>\n",
       "      <td>высшее</td>\n",
       "      <td>0</td>\n",
       "      <td>женат / замужем</td>\n",
       "      <td>0</td>\n",
       "      <td>F</td>\n",
       "      <td>сотрудник</td>\n",
       "      <td>0</td>\n",
       "      <td>253875</td>\n",
       "      <td>покупка жилья</td>\n",
       "      <td>B</td>\n",
       "      <td>операции с недвижимостью</td>\n",
       "    </tr>\n",
       "    <tr>\n",
       "      <th>1</th>\n",
       "      <td>1</td>\n",
       "      <td>4024.803754</td>\n",
       "      <td>36</td>\n",
       "      <td>среднее</td>\n",
       "      <td>1</td>\n",
       "      <td>женат / замужем</td>\n",
       "      <td>0</td>\n",
       "      <td>F</td>\n",
       "      <td>сотрудник</td>\n",
       "      <td>0</td>\n",
       "      <td>112080</td>\n",
       "      <td>приобретение автомобиля</td>\n",
       "      <td>C</td>\n",
       "      <td>операции с автомобилем</td>\n",
       "    </tr>\n",
       "    <tr>\n",
       "      <th>2</th>\n",
       "      <td>0</td>\n",
       "      <td>5623.422610</td>\n",
       "      <td>33</td>\n",
       "      <td>среднее</td>\n",
       "      <td>1</td>\n",
       "      <td>женат / замужем</td>\n",
       "      <td>0</td>\n",
       "      <td>M</td>\n",
       "      <td>сотрудник</td>\n",
       "      <td>0</td>\n",
       "      <td>145885</td>\n",
       "      <td>покупка жилья</td>\n",
       "      <td>C</td>\n",
       "      <td>операции с недвижимостью</td>\n",
       "    </tr>\n",
       "    <tr>\n",
       "      <th>3</th>\n",
       "      <td>3</td>\n",
       "      <td>4124.747207</td>\n",
       "      <td>32</td>\n",
       "      <td>среднее</td>\n",
       "      <td>1</td>\n",
       "      <td>женат / замужем</td>\n",
       "      <td>0</td>\n",
       "      <td>M</td>\n",
       "      <td>сотрудник</td>\n",
       "      <td>0</td>\n",
       "      <td>267628</td>\n",
       "      <td>дополнительное образование</td>\n",
       "      <td>B</td>\n",
       "      <td>получение образования</td>\n",
       "    </tr>\n",
       "    <tr>\n",
       "      <th>4</th>\n",
       "      <td>0</td>\n",
       "      <td>340266.072047</td>\n",
       "      <td>53</td>\n",
       "      <td>среднее</td>\n",
       "      <td>1</td>\n",
       "      <td>гражданский брак</td>\n",
       "      <td>1</td>\n",
       "      <td>F</td>\n",
       "      <td>пенсионер</td>\n",
       "      <td>0</td>\n",
       "      <td>158616</td>\n",
       "      <td>сыграть свадьбу</td>\n",
       "      <td>C</td>\n",
       "      <td>проведение свадьбы</td>\n",
       "    </tr>\n",
       "  </tbody>\n",
       "</table>\n",
       "</div>"
      ],
      "text/plain": [
       "   children  days_employed  dob_years education  education_id  \\\n",
       "0         1    8437.673028         42    высшее             0   \n",
       "1         1    4024.803754         36   среднее             1   \n",
       "2         0    5623.422610         33   среднее             1   \n",
       "3         3    4124.747207         32   среднее             1   \n",
       "4         0  340266.072047         53   среднее             1   \n",
       "\n",
       "      family_status  family_status_id gender income_type  debt  total_income  \\\n",
       "0   женат / замужем                 0      F   сотрудник     0        253875   \n",
       "1   женат / замужем                 0      F   сотрудник     0        112080   \n",
       "2   женат / замужем                 0      M   сотрудник     0        145885   \n",
       "3   женат / замужем                 0      M   сотрудник     0        267628   \n",
       "4  гражданский брак                 1      F   пенсионер     0        158616   \n",
       "\n",
       "                      purpose total_income_category          purpose_category  \n",
       "0               покупка жилья                     B  операции с недвижимостью  \n",
       "1     приобретение автомобиля                     C    операции с автомобилем  \n",
       "2               покупка жилья                     C  операции с недвижимостью  \n",
       "3  дополнительное образование                     B     получение образования  \n",
       "4             сыграть свадьбу                     C        проведение свадьбы  "
      ]
     },
     "execution_count": 24,
     "metadata": {},
     "output_type": "execute_result"
    }
   ],
   "source": [
    "# создадим отдельный столбец с категориями кредитных операций, \n",
    "# в ячейках столбца будут записаны значения, возвращаемые функцией\n",
    "# применим функцию методом apply()\n",
    "data['purpose_category'] = data['purpose'].apply(categorize_purpose)\n",
    "data.head()"
   ]
  },
  {
   "cell_type": "markdown",
   "id": "a1d08ccb",
   "metadata": {
    "deletable": false,
    "id": "09b242bf"
   },
   "source": [
    "## Исследование данных и проверка гипотез"
   ]
  },
  {
   "cell_type": "markdown",
   "id": "9737b646",
   "metadata": {},
   "source": [
    "На предварительном этапе мы изучили основную информацию о датафрейме, определили количество и тип данных в таблице, обработали аномальные значения и пропуски, избавились от дубликатов и убедились, что все данные отображаются корректно.\n",
    "\n",
    "Кроме того, мы создали функции `categorize_income()` и `categorize_purpose()`, которые позволили объединить данные отдельных столбцов в категории, чтобы численности каждой группы было достаточно для формулировки выводов.\n",
    "\n",
    "В таком виде данные готовы для более подробного исследовательского анализа, чтобы выяснить существует ли зависимость между возвратом кредита в срок и отдельными социально-экономическими параметрами потенциального кредитополучателя. Такими как:\n",
    "- количество детей,\n",
    "- семейное положение,\n",
    "- уровень дохода,\n",
    "- цели кредита.\n",
    "\n",
    "Отметим, что датафрейм не представляет содержательных сведений о кредитной истории клиента, а ограничевается фактом наличия/отсутствия задолженности по возврату кредитов (`debt`). На наш взгляд, наличие более полных данных (например, сколько займов выдали и в скольких случаях отказали, на какой срок были задержки по выплате) могло бы существенно увеличить точность прогноза в отношении вероятности возврата кредита в срок.\n",
    "\n",
    "В этой связи, предсказание кредитных рисков в данном исследовании будет исходить из наблюдаемых зависимостей между указанными социально-экономическими параметрами. Это позволит оценить существующую финансовую нагрузку клиента и сформулировать вероятность возврата кредита в срок."
   ]
  },
  {
   "cell_type": "markdown",
   "id": "d68bfbb5",
   "metadata": {
    "deletable": false,
    "id": "c5d66278"
   },
   "source": [
    "**Есть ли зависимость между количеством детей и возвратом кредита в срок?**"
   ]
  },
  {
   "cell_type": "code",
   "execution_count": 25,
   "id": "b401793d",
   "metadata": {
    "deletable": false,
    "id": "2cacfc4a",
    "scrolled": false
   },
   "outputs": [
    {
     "data": {
      "text/plain": [
       "0    14091\n",
       "1     4808\n",
       "2     2052\n",
       "3      330\n",
       "4       41\n",
       "5        9\n",
       "Name: children, dtype: int64"
      ]
     },
     "execution_count": 25,
     "metadata": {},
     "output_type": "execute_result"
    }
   ],
   "source": [
    "# посчитаем значения в столбце children методом value_counts()\n",
    "# узнаем сколько строк приходится на каждую группу\n",
    "data['children'].value_counts()"
   ]
  },
  {
   "cell_type": "markdown",
   "id": "341f4699",
   "metadata": {},
   "source": [
    "- Количество строк в группах сильно различается. Это говорит о том, что выборки не сбалансированы.\n",
    "- Очевидно, что самый многочисленный сегмент образуют семьи без детей. \n",
    "- Среди клиентов с детьми наиболее многочисленный сегмент составляют семьи с одним ребенком.\n",
    "- В целом, количество потенциальных заёмщиков снижается с увеличением количества детей в семье. Клиенты с тремя и более детьми в семье встречаются в выборке довольно редко. В этой связи, для обеспечения достоверности результатов анализа мы оставим только сопоставимые по размеру группы."
   ]
  },
  {
   "cell_type": "code",
   "execution_count": 26,
   "id": "e62887ac",
   "metadata": {},
   "outputs": [],
   "source": [
    "# при помощи логической индексации удалим строки на основе соответствующих условий\n",
    "child_group_balance = data[(data['children'] != 3) & (data['children'] != 4) & (data['children'] != 5)]"
   ]
  },
  {
   "cell_type": "code",
   "execution_count": 27,
   "id": "c56a3670",
   "metadata": {
    "scrolled": true
   },
   "outputs": [
    {
     "data": {
      "text/plain": [
       "children\n",
       "0    7.543822\n",
       "1    9.234609\n",
       "2    9.454191\n",
       "Name: debt, dtype: float64"
      ]
     },
     "execution_count": 27,
     "metadata": {},
     "output_type": "execute_result"
    }
   ],
   "source": [
    "# определим зависимость между показателем задолженности по возврату кредитов и наличием детей в семье\n",
    "# 1) группируем данные по количеству детей в семье (children) с помощью groupby('children')\n",
    "# 2) достаём из сгруппированной таблицы только столбец с данными о задолженности по возврату кредитов ('debt')\n",
    "# 3) рассчитываем процент погашения кредита по каждой группе с количеством детей\n",
    "child_loan_repayment = child_group_balance.groupby('children')['debt'].mean() * 100\n",
    "child_loan_repayment"
   ]
  },
  {
   "cell_type": "code",
   "execution_count": 28,
   "id": "b5d290f4",
   "metadata": {},
   "outputs": [
    {
     "data": {
      "text/html": [
       "<div>\n",
       "<style scoped>\n",
       "    .dataframe tbody tr th:only-of-type {\n",
       "        vertical-align: middle;\n",
       "    }\n",
       "\n",
       "    .dataframe tbody tr th {\n",
       "        vertical-align: top;\n",
       "    }\n",
       "\n",
       "    .dataframe thead th {\n",
       "        text-align: right;\n",
       "    }\n",
       "</style>\n",
       "<table border=\"1\" class=\"dataframe\">\n",
       "  <thead>\n",
       "    <tr style=\"text-align: right;\">\n",
       "      <th></th>\n",
       "      <th>borrowers</th>\n",
       "      <th>payment_delay</th>\n",
       "    </tr>\n",
       "    <tr>\n",
       "      <th>children</th>\n",
       "      <th></th>\n",
       "      <th></th>\n",
       "    </tr>\n",
       "  </thead>\n",
       "  <tbody>\n",
       "    <tr>\n",
       "      <th>0</th>\n",
       "      <td>14091.0</td>\n",
       "      <td>7.543822</td>\n",
       "    </tr>\n",
       "    <tr>\n",
       "      <th>1</th>\n",
       "      <td>4808.0</td>\n",
       "      <td>9.234609</td>\n",
       "    </tr>\n",
       "    <tr>\n",
       "      <th>2</th>\n",
       "      <td>2052.0</td>\n",
       "      <td>9.454191</td>\n",
       "    </tr>\n",
       "  </tbody>\n",
       "</table>\n",
       "</div>"
      ],
      "text/plain": [
       "          borrowers  payment_delay\n",
       "children                          \n",
       "0           14091.0       7.543822\n",
       "1            4808.0       9.234609\n",
       "2            2052.0       9.454191"
      ]
     },
     "execution_count": 28,
     "metadata": {},
     "output_type": "execute_result"
    }
   ],
   "source": [
    "# создадим сводную таблицу для набора data_balance с помощью метода pivot_table()\n",
    "child_data_pivot = child_group_balance.pivot_table(index='children', values='debt', aggfunc={'debt': ['count', 'mean']})\n",
    "# создадим в таблице child_data_pivot новые столбцы и сохраним в них значения по заёмщикам и просрочкам\n",
    "child_data_pivot.columns = ['borrowers', 'payment_delay']\n",
    "# рассчитаем процент по каждой группе\n",
    "child_data_pivot['payment_delay'] = child_data_pivot['payment_delay'] * 100\n",
    "# отсортируем таблицу по столбцу 'payment_delay' в порядке возрастания\n",
    "child_data_pivot.sort_values(by='payment_delay')"
   ]
  },
  {
   "cell_type": "markdown",
   "id": "075eb8b2",
   "metadata": {
    "deletable": false,
    "id": "3a6b99ec"
   },
   "source": [
    "**Вывод:** \n",
    "- Вероятность возврата кредита в срок выше среди потенциальных заёмщиков без детей. Отмечается разница по возврату кредитов заёмщиками без детей и при наличии детей в семье. Вероятно наличие детей в семье обуславливает дополнительную финансовую нагрузку, что в свою очередь может стать причиной просрочек погашения кредита.\n",
    "- Количество детей в семье хотя и не существенно, но влияет на показатель возврата кредита в срок. Доля просрочек в семьях с двумя детьми возрастает по сравнению с семьями с одним ребёнком. Вместе с тем, такие выводы нуждаются в уточнении при учёте дополнительных сведений о составе семьи (например, один родитель воспитывающий двоих детей и др.)."
   ]
  },
  {
   "cell_type": "markdown",
   "id": "184e3d8c",
   "metadata": {
    "deletable": false,
    "id": "97be82ca"
   },
   "source": [
    "**Есть ли зависимость между семейным положением и возвратом кредита в срок?**"
   ]
  },
  {
   "cell_type": "code",
   "execution_count": 29,
   "id": "7e5320e0",
   "metadata": {
    "deletable": false,
    "id": "dc3f7ee8"
   },
   "outputs": [
    {
     "data": {
      "text/plain": [
       "женат / замужем          12261\n",
       "гражданский брак          4134\n",
       "не женат / не замужем     2796\n",
       "в разводе                 1189\n",
       "вдовец / вдова             951\n",
       "Name: family_status, dtype: int64"
      ]
     },
     "execution_count": 29,
     "metadata": {},
     "output_type": "execute_result"
    }
   ],
   "source": [
    "# посчитаем значения в столбце family_status методом value_counts()\n",
    "data['family_status'].value_counts()"
   ]
  },
  {
   "cell_type": "code",
   "execution_count": 30,
   "id": "580e00df",
   "metadata": {},
   "outputs": [
    {
     "data": {
      "text/plain": [
       "family_status\n",
       "в разводе                7.064760\n",
       "вдовец / вдова           6.624606\n",
       "гражданский брак         9.313014\n",
       "женат / замужем          7.560558\n",
       "не женат / не замужем    9.763948\n",
       "Name: debt, dtype: float64"
      ]
     },
     "execution_count": 30,
     "metadata": {},
     "output_type": "execute_result"
    }
   ],
   "source": [
    "# определим зависимость между показателем задолженности по возврату кредитов и семейным положением\n",
    "# 1) группируем данные по столбцу (family_status) с помощью метода groupby()\n",
    "# 2) достаём из сгруппированной таблицы только столбец с данными о задолженности по возврату кредитов ('debt')\n",
    "# 3) рассчитываем процент погашения кредита по каждой группе\n",
    "marital_status_group = data.groupby('family_status')['debt'].mean() * 100\n",
    "marital_status_group"
   ]
  },
  {
   "cell_type": "code",
   "execution_count": 28,
   "id": "c6e64c44",
   "metadata": {},
   "outputs": [
    {
     "data": {
      "text/html": [
       "<div>\n",
       "<style scoped>\n",
       "    .dataframe tbody tr th:only-of-type {\n",
       "        vertical-align: middle;\n",
       "    }\n",
       "\n",
       "    .dataframe tbody tr th {\n",
       "        vertical-align: top;\n",
       "    }\n",
       "\n",
       "    .dataframe thead th {\n",
       "        text-align: right;\n",
       "    }\n",
       "</style>\n",
       "<table border=\"1\" class=\"dataframe\">\n",
       "  <thead>\n",
       "    <tr style=\"text-align: right;\">\n",
       "      <th></th>\n",
       "      <th>borrowers</th>\n",
       "      <th>payment_delay</th>\n",
       "    </tr>\n",
       "    <tr>\n",
       "      <th>family_status</th>\n",
       "      <th></th>\n",
       "      <th></th>\n",
       "    </tr>\n",
       "  </thead>\n",
       "  <tbody>\n",
       "    <tr>\n",
       "      <th>вдовец / вдова</th>\n",
       "      <td>951.0</td>\n",
       "      <td>6.624606</td>\n",
       "    </tr>\n",
       "    <tr>\n",
       "      <th>в разводе</th>\n",
       "      <td>1189.0</td>\n",
       "      <td>7.064760</td>\n",
       "    </tr>\n",
       "    <tr>\n",
       "      <th>женат / замужем</th>\n",
       "      <td>12261.0</td>\n",
       "      <td>7.560558</td>\n",
       "    </tr>\n",
       "    <tr>\n",
       "      <th>гражданский брак</th>\n",
       "      <td>4134.0</td>\n",
       "      <td>9.313014</td>\n",
       "    </tr>\n",
       "    <tr>\n",
       "      <th>не женат / не замужем</th>\n",
       "      <td>2796.0</td>\n",
       "      <td>9.763948</td>\n",
       "    </tr>\n",
       "  </tbody>\n",
       "</table>\n",
       "</div>"
      ],
      "text/plain": [
       "                       borrowers  payment_delay\n",
       "family_status                                  \n",
       "вдовец / вдова             951.0       6.624606\n",
       "в разводе                 1189.0       7.064760\n",
       "женат / замужем          12261.0       7.560558\n",
       "гражданский брак          4134.0       9.313014\n",
       "не женат / не замужем     2796.0       9.763948"
      ]
     },
     "execution_count": 28,
     "metadata": {},
     "output_type": "execute_result"
    }
   ],
   "source": [
    "# создадим сводную таблицу по результатам с помощью метода pivot_table()\n",
    "marital_status_data_pivot = data.pivot_table(index='family_status', values='debt', aggfunc={'debt': ['count', 'mean']})\n",
    "# создадим в таблице marital_status_data_pivot новые столбцы и сохраним в них значения по заёмщикам и просрочкам\n",
    "marital_status_data_pivot.columns = ['borrowers', 'payment_delay']\n",
    "# рассчитаем процент по каждой группе\n",
    "marital_status_data_pivot['payment_delay'] = marital_status_data_pivot['payment_delay'] * 100\n",
    "# отсортируем таблицу по столбцу 'payment_delay' в порядке возрастания\n",
    "marital_status_data_pivot.sort_values(by='payment_delay')"
   ]
  },
  {
   "cell_type": "markdown",
   "id": "76f8abec",
   "metadata": {
    "deletable": false,
    "id": "1cef7837"
   },
   "source": [
    "**Вывод:** \n",
    "- Наименьшая вероятность задолженности по возврату кредитов наблюдается у потенциальных заёмщиков в статусе `вдовец / вдова`. Возможно это связано с получением государственной помощи в виде выплат и компенсаций.\n",
    "- Наиболее высокий показатель просроченных платежей по сравнению с другими группами представляют клиенты в статусе `не женат / не замужем`. Это может быть связано с отсутствием финансовой поддержки со стороны партнера, а также менее зависимым поведением в плане организации бюджета."
   ]
  },
  {
   "cell_type": "markdown",
   "id": "1b8926f6",
   "metadata": {
    "deletable": false,
    "id": "1e8b2fca"
   },
   "source": [
    "**Есть ли зависимость между уровнем дохода и возвратом кредита в срок?**"
   ]
  },
  {
   "cell_type": "code",
   "execution_count": 31,
   "id": "aec76001",
   "metadata": {
    "deletable": false,
    "id": "cd7e3720"
   },
   "outputs": [
    {
     "data": {
      "text/plain": [
       "C    15921\n",
       "B     5014\n",
       "D      349\n",
       "A       25\n",
       "E       22\n",
       "Name: total_income_category, dtype: int64"
      ]
     },
     "execution_count": 31,
     "metadata": {},
     "output_type": "execute_result"
    }
   ],
   "source": [
    "# оценим значения в столбце total_income_category методом value_counts()\n",
    "data['total_income_category'].value_counts()"
   ]
  },
  {
   "cell_type": "markdown",
   "id": "43b89081",
   "metadata": {},
   "source": [
    "Количество строк в группах существенно различается. Это говорит о том, что выборки не сбалансированы. В этой связи, для обеспечения достоверности результатов анализа оставим наиболее сопоставимые по размеру категории."
   ]
  },
  {
   "cell_type": "code",
   "execution_count": 32,
   "id": "8b7dec92",
   "metadata": {},
   "outputs": [],
   "source": [
    "# при помощи логической индексации удалим строки на основе соответствующих условий\n",
    "income_group_balance = data[(data['total_income_category'] != 'E') & (data['total_income_category'] != 'A') & (data['total_income_category'] != 'D')]"
   ]
  },
  {
   "cell_type": "code",
   "execution_count": 33,
   "id": "65fec810",
   "metadata": {},
   "outputs": [
    {
     "data": {
      "text/plain": [
       "total_income_category\n",
       "B    7.060231\n",
       "C    8.498210\n",
       "Name: debt, dtype: float64"
      ]
     },
     "execution_count": 33,
     "metadata": {},
     "output_type": "execute_result"
    }
   ],
   "source": [
    "# определим зависимость между показателем задолженности по возврату кредитов и уровнем дохода\n",
    "# 1) группируем данные по столбцу (total_income_category) с помощью метода groupby()\n",
    "# 2) достаём из сгруппированной таблицы только столбец с данными о задолженности по возврату кредитов ('debt')\n",
    "# 3) рассчитываем процент погашения кредита по каждой группе\n",
    "income_level_group = income_group_balance.groupby('total_income_category')['debt'].mean() * 100\n",
    "income_level_group"
   ]
  },
  {
   "cell_type": "code",
   "execution_count": 34,
   "id": "1305acc4",
   "metadata": {},
   "outputs": [
    {
     "data": {
      "text/html": [
       "<div>\n",
       "<style scoped>\n",
       "    .dataframe tbody tr th:only-of-type {\n",
       "        vertical-align: middle;\n",
       "    }\n",
       "\n",
       "    .dataframe tbody tr th {\n",
       "        vertical-align: top;\n",
       "    }\n",
       "\n",
       "    .dataframe thead th {\n",
       "        text-align: right;\n",
       "    }\n",
       "</style>\n",
       "<table border=\"1\" class=\"dataframe\">\n",
       "  <thead>\n",
       "    <tr style=\"text-align: right;\">\n",
       "      <th></th>\n",
       "      <th>borrowers</th>\n",
       "      <th>payment_delay</th>\n",
       "    </tr>\n",
       "    <tr>\n",
       "      <th>total_income_category</th>\n",
       "      <th></th>\n",
       "      <th></th>\n",
       "    </tr>\n",
       "  </thead>\n",
       "  <tbody>\n",
       "    <tr>\n",
       "      <th>B</th>\n",
       "      <td>5014.0</td>\n",
       "      <td>7.060231</td>\n",
       "    </tr>\n",
       "    <tr>\n",
       "      <th>C</th>\n",
       "      <td>15921.0</td>\n",
       "      <td>8.498210</td>\n",
       "    </tr>\n",
       "  </tbody>\n",
       "</table>\n",
       "</div>"
      ],
      "text/plain": [
       "                       borrowers  payment_delay\n",
       "total_income_category                          \n",
       "B                         5014.0       7.060231\n",
       "C                        15921.0       8.498210"
      ]
     },
     "execution_count": 34,
     "metadata": {},
     "output_type": "execute_result"
    }
   ],
   "source": [
    "# создадим сводную таблицу для набора income_group_balance с помощью метода pivot_table()\n",
    "income_data_pivot = income_group_balance.pivot_table(index='total_income_category', values='debt', aggfunc={'debt': ['count', 'mean']})\n",
    "# создадим в таблице income_data_pivot новые столбцы и сохраним в них значения по заёмщикам и просрочкам\n",
    "income_data_pivot.columns = ['borrowers', 'payment_delay']\n",
    "# рассчитаем процент по каждой группе\n",
    "income_data_pivot['payment_delay'] = income_data_pivot['payment_delay'] * 100\n",
    "# отсортируем таблицу по столбцу 'payment_delay' в порядке возрастания\n",
    "income_data_pivot.sort_values(by='payment_delay')"
   ]
  },
  {
   "cell_type": "markdown",
   "id": "970779d0",
   "metadata": {
    "deletable": false,
    "id": "e8593def"
   },
   "source": [
    "**Вывод:** \n",
    "Категория клиентов `B` с доходом от 200 000 до 1 000 000 с бóльшей долей вероятности возвращает кредит в срок по сравнению с заёмщиками из категории `C` с доходом от 50 000 до 200 000 рублей в месяц. Это вполне согласуется с представлениями о платежеспособности потенциальных клиентов при оценке кредитных рисков."
   ]
  },
  {
   "cell_type": "markdown",
   "id": "eb579edb",
   "metadata": {
    "deletable": false,
    "id": "99ecbd1f"
   },
   "source": [
    "**Как разные цели кредита влияют на его возврат в срок?**"
   ]
  },
  {
   "cell_type": "code",
   "execution_count": 35,
   "id": "0eae729b",
   "metadata": {
    "deletable": false,
    "id": "2b687290"
   },
   "outputs": [
    {
     "data": {
      "text/plain": [
       "операции с недвижимостью    10751\n",
       "операции с автомобилем       4279\n",
       "получение образования        3988\n",
       "проведение свадьбы           2313\n",
       "Name: purpose_category, dtype: int64"
      ]
     },
     "execution_count": 35,
     "metadata": {},
     "output_type": "execute_result"
    }
   ],
   "source": [
    "# оценим значения в столбце purpose_category методом value_counts()\n",
    "data['purpose_category'].value_counts()"
   ]
  },
  {
   "cell_type": "code",
   "execution_count": 36,
   "id": "5b147f59",
   "metadata": {},
   "outputs": [
    {
     "data": {
      "text/plain": [
       "purpose_category\n",
       "операции с автомобилем      9.347978\n",
       "операции с недвижимостью    7.255139\n",
       "получение образования       9.252758\n",
       "проведение свадьбы          7.911803\n",
       "Name: debt, dtype: float64"
      ]
     },
     "execution_count": 36,
     "metadata": {},
     "output_type": "execute_result"
    }
   ],
   "source": [
    "# оценим зависимость между показателем задолженности по возврату кредитов и цели получения кредита\n",
    "# 1) группируем данные по столбцу (purpose_category) с помощью метода groupby()\n",
    "# 2) достаём из сгруппированной таблицы только столбец с данными о задолженности по возврату кредитов ('debt')\n",
    "# 3) рассчитываем процент погашения кредита по каждой группе\n",
    "purpose_loan_group = data.groupby('purpose_category')['debt'].mean() * 100\n",
    "purpose_loan_group"
   ]
  },
  {
   "cell_type": "code",
   "execution_count": 148,
   "id": "394c4ef3",
   "metadata": {},
   "outputs": [
    {
     "data": {
      "text/html": [
       "<div>\n",
       "<style scoped>\n",
       "    .dataframe tbody tr th:only-of-type {\n",
       "        vertical-align: middle;\n",
       "    }\n",
       "\n",
       "    .dataframe tbody tr th {\n",
       "        vertical-align: top;\n",
       "    }\n",
       "\n",
       "    .dataframe thead th {\n",
       "        text-align: right;\n",
       "    }\n",
       "</style>\n",
       "<table border=\"1\" class=\"dataframe\">\n",
       "  <thead>\n",
       "    <tr style=\"text-align: right;\">\n",
       "      <th></th>\n",
       "      <th>borrowers</th>\n",
       "      <th>payment_delay</th>\n",
       "    </tr>\n",
       "    <tr>\n",
       "      <th>purpose_category</th>\n",
       "      <th></th>\n",
       "      <th></th>\n",
       "    </tr>\n",
       "  </thead>\n",
       "  <tbody>\n",
       "    <tr>\n",
       "      <th>операции с недвижимостью</th>\n",
       "      <td>10751.0</td>\n",
       "      <td>7.255139</td>\n",
       "    </tr>\n",
       "    <tr>\n",
       "      <th>проведение свадьбы</th>\n",
       "      <td>2313.0</td>\n",
       "      <td>7.911803</td>\n",
       "    </tr>\n",
       "    <tr>\n",
       "      <th>получение образования</th>\n",
       "      <td>3988.0</td>\n",
       "      <td>9.252758</td>\n",
       "    </tr>\n",
       "    <tr>\n",
       "      <th>операции с автомобилем</th>\n",
       "      <td>4279.0</td>\n",
       "      <td>9.347978</td>\n",
       "    </tr>\n",
       "  </tbody>\n",
       "</table>\n",
       "</div>"
      ],
      "text/plain": [
       "                          borrowers  payment_delay\n",
       "purpose_category                                  \n",
       "операции с недвижимостью    10751.0       7.255139\n",
       "проведение свадьбы           2313.0       7.911803\n",
       "получение образования        3988.0       9.252758\n",
       "операции с автомобилем       4279.0       9.347978"
      ]
     },
     "execution_count": 148,
     "metadata": {},
     "output_type": "execute_result"
    }
   ],
   "source": [
    "# создадим сводную таблицу по результатам с помощью метода pivot_table()\n",
    "purpose_data_pivot = data.pivot_table(index='purpose_category', values='debt', aggfunc={'debt': ['count', 'mean']})\n",
    "# создадим в таблице purpose_data_pivot новые столбцы и сохраним в них значения по заёмщикам и просрочкам\n",
    "purpose_data_pivot.columns = ['borrowers', 'payment_delay']\n",
    "# рассчитаем процент по каждой группе\n",
    "purpose_data_pivot['payment_delay'] = purpose_data_pivot['payment_delay'] * 100\n",
    "# отсортируем таблицу по столбцу 'payment_delay' в порядке возрастания\n",
    "purpose_data_pivot.sort_values(by='payment_delay')"
   ]
  },
  {
   "cell_type": "markdown",
   "id": "993e7c6d",
   "metadata": {
    "deletable": false,
    "id": "b4bb2ce6"
   },
   "source": [
    "**Вывод:** \n",
    "- Клиенты с целью получения кредита на `недвижимость и жилье` с бóльшей вероятностью осуществляют платежи в срок. \n",
    "- Тогда как займы связанные с `автомобилем` или `получением образования` имеют наибольшую долю просрочек.\n",
    "- Такие показатели могут свидетельствовать о том, что риск потерять жилье стимулирует заёмщиков вносить кредитные платежи в срок."
   ]
  },
  {
   "cell_type": "markdown",
   "id": "e9ec62c7",
   "metadata": {
    "deletable": false,
    "id": "6db5255a"
   },
   "source": [
    "**Общий вывод**"
   ]
  },
  {
   "cell_type": "markdown",
   "id": "24f03d7e",
   "metadata": {
    "deletable": false,
    "id": "bad65432"
   },
   "source": [
    "Предсказание кредитных рисков в данном исследовании основано на наблюдении зависимостей между социально-экономическими параметрами, что позволило оценить существующую финансовую нагрузку клиента и сформулировать вероятность возврата кредита в срок.\n",
    "- **Наличие детей в семье** связано с бóльшим количеством задолженностей по возврату кредитов (9.45%) по сравнению с заёмщиками без детей (7.54%). Очевидно, наличие детей в семье обуславливает дополнительную финансовую нагрузку, что в свою очередь может стать причиной просрочек по погашению кредита.\n",
    "- **Семейный статус** не женат / не замужем связан с более высоким показателем просроченных платежей по сравнению с другими группами (9.76%). Это может быть связано с отсутствием финансовой поддержки со стороны партнера, а также менее зависимым поведением в плане организации бюджета. Наименьшая вероятность просрочек наблюдается у заёмщиков в статусе вдовец / вдова (6.62%). Возможно это связано с получением государственной помощи в виде выплат и компенсаций.\n",
    "- **Уровень дохода** от 200 000 до 1 000 000 рублей в месяц связан с наименьшим показателем просроченных платежей: 7.06% против 8.50% в категории от 50 000 до 200 000 рублей в месяц, что вполне согласуется с представлениями о платежеспособности потенциальных клиентов при оценке кредитных рисков.\n",
    "- Клиенты с **целью получения кредита** на недвижимость и жилье с бóльшей вероятностью возвращают платежи в срок (7.26%). Тогда как займы связанные с автомобилем или получением образования имеют наибольшую долю просрочек (9.35% и 9.25%). Такие показатели могут свидетельствовать о том, что риск потерять жилье стимулирует заёмщиков вносить кредитные платежи в срок.\n",
    "\n",
    "Наблюдаемые различия в отношении зависимости между возвратом кредита в срок и отдельными социально-экономическими параметрами потенциального заёмщика говорят о том, что учёт таких данных обоснован при построении модели кредитного скоринга и оценки платёжеспособности клиентов.\n",
    "\n",
    "На наш взгляд, наличие более полных данных о кредитной истории потенциального заёмщика (например, сколько займов выдали и в скольких случаях отказали, на какой срок были задержки по выплате) могло бы существенно увеличить точность прогноза в отношении вероятности возврата кредита в срок."
   ]
  }
 ],
 "metadata": {
  "ExecuteTimeLog": [
   {
    "duration": 675,
    "start_time": "2023-09-09T17:06:26.711Z"
   },
   {
    "duration": 35,
    "start_time": "2023-09-09T17:06:30.463Z"
   },
   {
    "duration": 15,
    "start_time": "2023-09-09T17:08:03.424Z"
   },
   {
    "duration": 9,
    "start_time": "2023-09-09T17:10:44.930Z"
   },
   {
    "duration": 32,
    "start_time": "2023-09-09T17:10:50.376Z"
   },
   {
    "duration": 4,
    "start_time": "2023-09-09T17:11:02.846Z"
   },
   {
    "duration": 9,
    "start_time": "2023-09-09T17:11:05.423Z"
   },
   {
    "duration": 4,
    "start_time": "2023-09-09T17:11:44.720Z"
   },
   {
    "duration": 6,
    "start_time": "2023-09-09T17:11:52.537Z"
   },
   {
    "duration": 4,
    "start_time": "2023-09-09T17:11:55.287Z"
   },
   {
    "duration": 31,
    "start_time": "2023-09-09T17:12:01.610Z"
   },
   {
    "duration": 10,
    "start_time": "2023-09-09T17:12:06.586Z"
   },
   {
    "duration": 3,
    "start_time": "2023-09-09T17:12:11.368Z"
   },
   {
    "duration": 11,
    "start_time": "2023-09-09T17:12:22.165Z"
   },
   {
    "duration": 18,
    "start_time": "2023-09-09T17:12:25.021Z"
   },
   {
    "duration": 17,
    "start_time": "2023-09-09T17:12:27.755Z"
   },
   {
    "duration": 3,
    "start_time": "2023-09-09T17:12:34.385Z"
   },
   {
    "duration": 9,
    "start_time": "2023-09-09T17:12:36.719Z"
   },
   {
    "duration": 5,
    "start_time": "2023-09-09T17:12:41.156Z"
   },
   {
    "duration": 3,
    "start_time": "2023-09-09T17:12:51.840Z"
   },
   {
    "duration": 8,
    "start_time": "2023-09-09T17:12:54.399Z"
   },
   {
    "duration": 57,
    "start_time": "2023-09-09T22:20:12.366Z"
   },
   {
    "duration": 726,
    "start_time": "2023-09-09T22:20:22.960Z"
   },
   {
    "duration": 24,
    "start_time": "2023-09-09T22:20:26.451Z"
   },
   {
    "duration": 20,
    "start_time": "2023-09-09T22:20:34.112Z"
   },
   {
    "duration": 25,
    "start_time": "2023-09-09T22:20:38.887Z"
   },
   {
    "duration": 45,
    "start_time": "2023-09-09T22:20:43.710Z"
   },
   {
    "duration": 5,
    "start_time": "2023-09-09T22:20:48.092Z"
   },
   {
    "duration": 12,
    "start_time": "2023-09-09T22:20:50.543Z"
   },
   {
    "duration": 11,
    "start_time": "2023-09-09T22:20:55.559Z"
   },
   {
    "duration": 10,
    "start_time": "2023-09-09T22:21:08.924Z"
   },
   {
    "duration": 7,
    "start_time": "2023-09-09T22:21:11.624Z"
   },
   {
    "duration": 48,
    "start_time": "2023-09-09T22:21:17.325Z"
   },
   {
    "duration": 24,
    "start_time": "2023-09-09T22:21:21.254Z"
   },
   {
    "duration": 6,
    "start_time": "2023-09-09T22:21:25.423Z"
   },
   {
    "duration": 14,
    "start_time": "2023-09-09T22:21:27.981Z"
   },
   {
    "duration": 31,
    "start_time": "2023-09-09T22:21:33.851Z"
   },
   {
    "duration": 30,
    "start_time": "2023-09-09T22:21:36.492Z"
   },
   {
    "duration": 7,
    "start_time": "2023-09-09T22:22:31.244Z"
   },
   {
    "duration": 24,
    "start_time": "2023-09-09T22:22:33.569Z"
   },
   {
    "duration": 6,
    "start_time": "2023-09-09T22:22:36.320Z"
   },
   {
    "duration": 5,
    "start_time": "2023-09-09T22:22:42.280Z"
   },
   {
    "duration": 22,
    "start_time": "2023-09-09T22:22:45.319Z"
   },
   {
    "duration": 27,
    "start_time": "2023-09-09T22:55:43.113Z"
   },
   {
    "duration": 1335,
    "start_time": "2023-09-09T22:57:27.744Z"
   },
   {
    "duration": 161,
    "start_time": "2023-09-09T22:59:22.934Z"
   },
   {
    "duration": 92,
    "start_time": "2023-09-09T23:02:13.126Z"
   },
   {
    "duration": 18,
    "start_time": "2023-09-09T23:02:16.035Z"
   },
   {
    "duration": 18,
    "start_time": "2023-09-09T23:02:22.919Z"
   },
   {
    "duration": 13,
    "start_time": "2023-09-09T23:02:28.256Z"
   },
   {
    "duration": 62,
    "start_time": "2023-09-09T23:02:33.253Z"
   },
   {
    "duration": 6,
    "start_time": "2023-09-09T23:02:37.816Z"
   },
   {
    "duration": 9,
    "start_time": "2023-09-09T23:02:40.127Z"
   },
   {
    "duration": 7,
    "start_time": "2023-09-09T23:02:47.439Z"
   },
   {
    "duration": 8,
    "start_time": "2023-09-09T23:02:53.060Z"
   },
   {
    "duration": 6,
    "start_time": "2023-09-09T23:02:55.826Z"
   },
   {
    "duration": 41,
    "start_time": "2023-09-09T23:03:00.419Z"
   },
   {
    "duration": 18,
    "start_time": "2023-09-09T23:03:04.530Z"
   },
   {
    "duration": 5,
    "start_time": "2023-09-09T23:03:09.422Z"
   },
   {
    "duration": 20,
    "start_time": "2023-09-09T23:03:12.102Z"
   },
   {
    "duration": 31,
    "start_time": "2023-09-09T23:03:16.099Z"
   },
   {
    "duration": 20,
    "start_time": "2023-09-09T23:03:21.637Z"
   },
   {
    "duration": 4,
    "start_time": "2023-09-09T23:03:27.140Z"
   },
   {
    "duration": 11,
    "start_time": "2023-09-09T23:03:29.267Z"
   },
   {
    "duration": 14,
    "start_time": "2023-09-09T23:03:31.692Z"
   },
   {
    "duration": 4,
    "start_time": "2023-09-09T23:03:38.253Z"
   },
   {
    "duration": 22,
    "start_time": "2023-09-09T23:03:41.870Z"
   },
   {
    "duration": 119,
    "start_time": "2023-09-09T23:03:57.185Z"
   },
   {
    "duration": 26,
    "start_time": "2023-09-09T23:20:10.426Z"
   },
   {
    "duration": 50,
    "start_time": "2023-09-09T23:21:31.277Z"
   },
   {
    "duration": 36,
    "start_time": "2023-09-09T23:33:36.889Z"
   },
   {
    "duration": 30,
    "start_time": "2023-09-09T23:45:08.342Z"
   },
   {
    "duration": 28,
    "start_time": "2023-09-09T23:45:28.748Z"
   },
   {
    "duration": 62,
    "start_time": "2023-09-10T01:59:28.392Z"
   },
   {
    "duration": 716,
    "start_time": "2023-09-10T01:59:53.852Z"
   },
   {
    "duration": 24,
    "start_time": "2023-09-10T01:59:57.158Z"
   },
   {
    "duration": 18,
    "start_time": "2023-09-10T02:00:06.540Z"
   },
   {
    "duration": 11,
    "start_time": "2023-09-10T02:00:20.444Z"
   },
   {
    "duration": 43,
    "start_time": "2023-09-10T02:00:30.223Z"
   },
   {
    "duration": 4,
    "start_time": "2023-09-10T02:00:33.594Z"
   },
   {
    "duration": 10,
    "start_time": "2023-09-10T02:00:38.773Z"
   },
   {
    "duration": 5,
    "start_time": "2023-09-10T02:00:45.974Z"
   },
   {
    "duration": 7,
    "start_time": "2023-09-10T02:00:51.576Z"
   },
   {
    "duration": 5,
    "start_time": "2023-09-10T02:00:54.129Z"
   },
   {
    "duration": 42,
    "start_time": "2023-09-10T02:00:57.078Z"
   },
   {
    "duration": 13,
    "start_time": "2023-09-10T02:01:19.452Z"
   },
   {
    "duration": 4,
    "start_time": "2023-09-10T02:01:24.422Z"
   },
   {
    "duration": 13,
    "start_time": "2023-09-10T02:01:29.333Z"
   },
   {
    "duration": 25,
    "start_time": "2023-09-10T02:01:32.286Z"
   },
   {
    "duration": 17,
    "start_time": "2023-09-10T02:01:37.179Z"
   },
   {
    "duration": 4,
    "start_time": "2023-09-10T02:01:43.537Z"
   },
   {
    "duration": 11,
    "start_time": "2023-09-10T02:01:51.018Z"
   },
   {
    "duration": 9,
    "start_time": "2023-09-10T02:01:53.702Z"
   },
   {
    "duration": 4,
    "start_time": "2023-09-10T02:02:01.478Z"
   },
   {
    "duration": 34,
    "start_time": "2023-09-10T02:02:26.182Z"
   },
   {
    "duration": 22,
    "start_time": "2023-09-10T02:02:41.766Z"
   },
   {
    "duration": 41,
    "start_time": "2023-09-10T02:04:08.822Z"
   },
   {
    "duration": 10,
    "start_time": "2023-09-10T02:04:30.653Z"
   },
   {
    "duration": 17,
    "start_time": "2023-09-10T02:09:43.243Z"
   },
   {
    "duration": 15,
    "start_time": "2023-09-10T02:14:55.172Z"
   },
   {
    "duration": 16,
    "start_time": "2023-09-10T02:21:38.230Z"
   },
   {
    "duration": 23,
    "start_time": "2023-09-10T02:22:20.837Z"
   },
   {
    "duration": 16,
    "start_time": "2023-09-10T02:22:57.174Z"
   },
   {
    "duration": 22,
    "start_time": "2023-09-10T02:24:05.456Z"
   },
   {
    "duration": 19,
    "start_time": "2023-09-10T02:24:53.059Z"
   },
   {
    "duration": 7,
    "start_time": "2023-09-10T02:39:43.152Z"
   },
   {
    "duration": 13,
    "start_time": "2023-09-10T02:41:02.516Z"
   },
   {
    "duration": 7,
    "start_time": "2023-09-10T02:41:12.554Z"
   },
   {
    "duration": 9,
    "start_time": "2023-09-10T02:44:38.620Z"
   },
   {
    "duration": 9,
    "start_time": "2023-09-10T02:47:12.726Z"
   },
   {
    "duration": 19,
    "start_time": "2023-09-10T02:56:08.782Z"
   },
   {
    "duration": 9,
    "start_time": "2023-09-10T02:59:36.157Z"
   },
   {
    "duration": 7,
    "start_time": "2023-09-10T03:03:22.443Z"
   },
   {
    "duration": 7,
    "start_time": "2023-09-10T03:03:42.767Z"
   },
   {
    "duration": 11,
    "start_time": "2023-09-10T03:04:00.254Z"
   },
   {
    "duration": 960,
    "start_time": "2023-09-10T03:07:11.256Z"
   },
   {
    "duration": 145,
    "start_time": "2023-09-10T03:07:48.608Z"
   },
   {
    "duration": 108,
    "start_time": "2023-09-10T03:08:20.604Z"
   },
   {
    "duration": 126,
    "start_time": "2023-09-10T03:10:11.366Z"
   },
   {
    "duration": 11,
    "start_time": "2023-09-10T03:14:38.851Z"
   },
   {
    "duration": 138,
    "start_time": "2023-09-10T03:16:41.146Z"
   },
   {
    "duration": 55,
    "start_time": "2023-09-10T03:25:59.003Z"
   },
   {
    "duration": 31,
    "start_time": "2023-09-10T03:26:23.131Z"
   },
   {
    "duration": 23,
    "start_time": "2023-09-10T03:26:50.101Z"
   },
   {
    "duration": 12,
    "start_time": "2023-09-10T03:28:39.877Z"
   },
   {
    "duration": 22,
    "start_time": "2023-09-10T03:29:24.100Z"
   },
   {
    "duration": 11,
    "start_time": "2023-09-10T03:29:40.503Z"
   },
   {
    "duration": 122,
    "start_time": "2023-09-10T03:32:04.354Z"
   },
   {
    "duration": 121,
    "start_time": "2023-09-10T03:32:23.207Z"
   },
   {
    "duration": 119,
    "start_time": "2023-09-10T03:32:38.288Z"
   },
   {
    "duration": 2,
    "start_time": "2023-09-10T03:33:45.899Z"
   },
   {
    "duration": 2,
    "start_time": "2023-09-10T03:33:52.067Z"
   },
   {
    "duration": 2036,
    "start_time": "2023-09-10T03:38:53.329Z"
   },
   {
    "duration": 2996,
    "start_time": "2023-09-10T03:39:33.545Z"
   },
   {
    "duration": 12,
    "start_time": "2023-09-10T03:40:03.459Z"
   },
   {
    "duration": 11,
    "start_time": "2023-09-10T03:40:09.105Z"
   },
   {
    "duration": 1069,
    "start_time": "2023-09-10T16:03:40.370Z"
   },
   {
    "duration": 35,
    "start_time": "2023-09-10T16:03:42.631Z"
   },
   {
    "duration": 20,
    "start_time": "2023-09-10T16:03:49.125Z"
   },
   {
    "duration": 15,
    "start_time": "2023-09-10T16:03:54.105Z"
   },
   {
    "duration": 66,
    "start_time": "2023-09-10T16:03:58.831Z"
   },
   {
    "duration": 5,
    "start_time": "2023-09-10T16:04:03.427Z"
   },
   {
    "duration": 14,
    "start_time": "2023-09-10T16:04:05.801Z"
   },
   {
    "duration": 7,
    "start_time": "2023-09-10T16:04:10.962Z"
   },
   {
    "duration": 11,
    "start_time": "2023-09-10T16:04:14.369Z"
   },
   {
    "duration": 7,
    "start_time": "2023-09-10T16:04:18.608Z"
   },
   {
    "duration": 64,
    "start_time": "2023-09-10T16:04:25.270Z"
   },
   {
    "duration": 17,
    "start_time": "2023-09-10T16:04:31.337Z"
   },
   {
    "duration": 9,
    "start_time": "2023-09-10T16:04:35.688Z"
   },
   {
    "duration": 18,
    "start_time": "2023-09-10T16:04:38.024Z"
   },
   {
    "duration": 42,
    "start_time": "2023-09-10T16:04:42.152Z"
   },
   {
    "duration": 28,
    "start_time": "2023-09-10T16:04:49.144Z"
   },
   {
    "duration": 5,
    "start_time": "2023-09-10T16:04:53.540Z"
   },
   {
    "duration": 14,
    "start_time": "2023-09-10T16:04:55.724Z"
   },
   {
    "duration": 7,
    "start_time": "2023-09-10T16:04:58.071Z"
   },
   {
    "duration": 5,
    "start_time": "2023-09-10T16:05:04.334Z"
   },
   {
    "duration": 26,
    "start_time": "2023-09-10T16:05:11.163Z"
   },
   {
    "duration": 21,
    "start_time": "2023-09-10T16:06:19.863Z"
   },
   {
    "duration": 7,
    "start_time": "2023-09-10T16:07:05.049Z"
   },
   {
    "duration": 12,
    "start_time": "2023-09-10T16:12:06.073Z"
   },
   {
    "duration": 8,
    "start_time": "2023-09-10T16:12:47.969Z"
   },
   {
    "duration": 92,
    "start_time": "2023-09-10T16:13:12.027Z"
   },
   {
    "duration": 16,
    "start_time": "2023-09-10T16:13:43.154Z"
   },
   {
    "duration": 33,
    "start_time": "2023-09-10T16:13:54.031Z"
   },
   {
    "duration": 6,
    "start_time": "2023-09-10T16:14:54.921Z"
   },
   {
    "duration": 8,
    "start_time": "2023-09-10T16:20:36.609Z"
   },
   {
    "duration": 34,
    "start_time": "2023-09-10T16:20:45.735Z"
   },
   {
    "duration": 16,
    "start_time": "2023-09-10T16:21:09.359Z"
   },
   {
    "duration": 22,
    "start_time": "2023-09-10T16:26:27.200Z"
   },
   {
    "duration": 17,
    "start_time": "2023-09-10T16:27:06.437Z"
   },
   {
    "duration": 5,
    "start_time": "2023-09-10T16:27:55.094Z"
   },
   {
    "duration": 8,
    "start_time": "2023-09-10T16:31:21.129Z"
   },
   {
    "duration": 8,
    "start_time": "2023-09-10T16:31:39.066Z"
   },
   {
    "duration": 6,
    "start_time": "2023-09-10T16:33:07.136Z"
   },
   {
    "duration": 6,
    "start_time": "2023-09-10T16:44:59.604Z"
   },
   {
    "duration": 6,
    "start_time": "2023-09-10T16:45:27.043Z"
   },
   {
    "duration": 6,
    "start_time": "2023-09-10T16:46:26.925Z"
   },
   {
    "duration": 7,
    "start_time": "2023-09-10T16:50:37.079Z"
   },
   {
    "duration": 6,
    "start_time": "2023-09-10T16:51:37.013Z"
   },
   {
    "duration": 8,
    "start_time": "2023-09-10T17:00:53.242Z"
   },
   {
    "duration": 5,
    "start_time": "2023-09-10T17:01:53.776Z"
   },
   {
    "duration": 10,
    "start_time": "2023-09-10T17:04:26.599Z"
   },
   {
    "duration": 10,
    "start_time": "2023-09-10T17:07:23.517Z"
   },
   {
    "duration": 9,
    "start_time": "2023-09-10T17:08:31.431Z"
   },
   {
    "duration": 9,
    "start_time": "2023-09-10T17:09:11.086Z"
   },
   {
    "duration": 9,
    "start_time": "2023-09-10T17:10:05.711Z"
   },
   {
    "duration": 22,
    "start_time": "2023-09-10T17:16:53.379Z"
   },
   {
    "duration": 7,
    "start_time": "2023-09-10T17:17:05.329Z"
   },
   {
    "duration": 7,
    "start_time": "2023-09-10T17:31:01.236Z"
   },
   {
    "duration": 7,
    "start_time": "2023-09-10T17:31:23.014Z"
   },
   {
    "duration": 7,
    "start_time": "2023-09-10T17:37:28.994Z"
   },
   {
    "duration": 8,
    "start_time": "2023-09-10T17:45:21.462Z"
   },
   {
    "duration": 27,
    "start_time": "2023-09-10T17:55:48.491Z"
   },
   {
    "duration": 1441,
    "start_time": "2023-09-10T17:57:39.731Z"
   },
   {
    "duration": 15,
    "start_time": "2023-09-10T17:57:53.435Z"
   },
   {
    "duration": 5,
    "start_time": "2023-09-10T18:00:00.919Z"
   },
   {
    "duration": 12,
    "start_time": "2023-09-10T18:04:36.523Z"
   },
   {
    "duration": 998,
    "start_time": "2023-09-10T18:06:50.791Z"
   },
   {
    "duration": 1190,
    "start_time": "2023-09-10T18:07:15.215Z"
   },
   {
    "duration": 1080,
    "start_time": "2023-09-10T18:07:50.812Z"
   },
   {
    "duration": 28,
    "start_time": "2023-09-10T18:09:57.169Z"
   },
   {
    "duration": 15,
    "start_time": "2023-09-10T18:10:24.073Z"
   },
   {
    "duration": 30,
    "start_time": "2023-09-10T18:12:00.180Z"
   },
   {
    "duration": 28,
    "start_time": "2023-09-10T18:13:08.193Z"
   },
   {
    "duration": 30,
    "start_time": "2023-09-10T18:13:24.239Z"
   },
   {
    "duration": 22,
    "start_time": "2023-09-10T18:13:37.566Z"
   },
   {
    "duration": 18,
    "start_time": "2023-09-10T18:13:54.527Z"
   },
   {
    "duration": 19,
    "start_time": "2023-09-10T18:14:12.578Z"
   },
   {
    "duration": 691,
    "start_time": "2023-09-10T22:12:03.416Z"
   },
   {
    "duration": 1031,
    "start_time": "2023-09-10T22:14:24.004Z"
   },
   {
    "duration": 22,
    "start_time": "2023-09-10T22:14:28.636Z"
   },
   {
    "duration": 15,
    "start_time": "2023-09-10T22:21:28.730Z"
   },
   {
    "duration": 17,
    "start_time": "2023-09-10T22:21:37.159Z"
   },
   {
    "duration": 16,
    "start_time": "2023-09-10T22:21:42.352Z"
   },
   {
    "duration": 32,
    "start_time": "2023-09-10T22:21:46.895Z"
   },
   {
    "duration": 4,
    "start_time": "2023-09-10T22:21:49.425Z"
   },
   {
    "duration": 9,
    "start_time": "2023-09-10T22:21:51.931Z"
   },
   {
    "duration": 4,
    "start_time": "2023-09-10T22:22:01.329Z"
   },
   {
    "duration": 9,
    "start_time": "2023-09-10T22:22:06.007Z"
   },
   {
    "duration": 5,
    "start_time": "2023-09-10T22:22:11.469Z"
   },
   {
    "duration": 43,
    "start_time": "2023-09-10T22:22:16.624Z"
   },
   {
    "duration": 16,
    "start_time": "2023-09-10T22:22:19.557Z"
   },
   {
    "duration": 4,
    "start_time": "2023-09-10T22:22:24.362Z"
   },
   {
    "duration": 20,
    "start_time": "2023-09-10T22:22:26.677Z"
   },
   {
    "duration": 18,
    "start_time": "2023-09-10T22:22:28.961Z"
   },
   {
    "duration": 16,
    "start_time": "2023-09-10T22:22:32.381Z"
   },
   {
    "duration": 3,
    "start_time": "2023-09-10T22:22:37.429Z"
   },
   {
    "duration": 10,
    "start_time": "2023-09-10T22:22:39.693Z"
   },
   {
    "duration": 6,
    "start_time": "2023-09-10T22:22:45.528Z"
   },
   {
    "duration": 12,
    "start_time": "2023-09-10T22:22:52.066Z"
   },
   {
    "duration": 21,
    "start_time": "2023-09-10T22:22:59.799Z"
   },
   {
    "duration": 4,
    "start_time": "2023-09-10T22:23:11.885Z"
   },
   {
    "duration": 6,
    "start_time": "2023-09-10T22:23:45.621Z"
   },
   {
    "duration": 12,
    "start_time": "2023-09-10T22:24:42.871Z"
   },
   {
    "duration": 8,
    "start_time": "2023-09-10T22:40:18.540Z"
   },
   {
    "duration": 101,
    "start_time": "2023-09-10T22:42:22.050Z"
   },
   {
    "duration": 11,
    "start_time": "2023-09-10T22:42:53.364Z"
   },
   {
    "duration": 6,
    "start_time": "2023-09-10T22:53:34.187Z"
   },
   {
    "duration": 7,
    "start_time": "2023-09-10T22:53:39.727Z"
   },
   {
    "duration": 6,
    "start_time": "2023-09-10T22:53:47.784Z"
   },
   {
    "duration": 71,
    "start_time": "2023-09-10T23:31:42.964Z"
   },
   {
    "duration": 14,
    "start_time": "2023-09-10T23:31:45.733Z"
   },
   {
    "duration": 13,
    "start_time": "2023-09-10T23:31:52.865Z"
   },
   {
    "duration": 18,
    "start_time": "2023-09-10T23:31:57.546Z"
   },
   {
    "duration": 45,
    "start_time": "2023-09-10T23:32:02.235Z"
   },
   {
    "duration": 3,
    "start_time": "2023-09-10T23:32:04.624Z"
   },
   {
    "duration": 20,
    "start_time": "2023-09-10T23:32:06.844Z"
   },
   {
    "duration": 6,
    "start_time": "2023-09-10T23:32:13.458Z"
   },
   {
    "duration": 9,
    "start_time": "2023-09-10T23:32:16.076Z"
   },
   {
    "duration": 5,
    "start_time": "2023-09-10T23:32:18.273Z"
   },
   {
    "duration": 42,
    "start_time": "2023-09-10T23:32:22.832Z"
   },
   {
    "duration": 10,
    "start_time": "2023-09-10T23:32:25.727Z"
   },
   {
    "duration": 4,
    "start_time": "2023-09-10T23:32:29.898Z"
   },
   {
    "duration": 13,
    "start_time": "2023-09-10T23:32:32.067Z"
   },
   {
    "duration": 19,
    "start_time": "2023-09-10T23:32:34.564Z"
   },
   {
    "duration": 20,
    "start_time": "2023-09-10T23:32:39.334Z"
   },
   {
    "duration": 6,
    "start_time": "2023-09-10T23:32:46.452Z"
   },
   {
    "duration": 10,
    "start_time": "2023-09-10T23:32:48.864Z"
   },
   {
    "duration": 6,
    "start_time": "2023-09-10T23:32:52.784Z"
   },
   {
    "duration": 3,
    "start_time": "2023-09-10T23:33:03.478Z"
   },
   {
    "duration": 18,
    "start_time": "2023-09-10T23:33:17.621Z"
   },
   {
    "duration": 8,
    "start_time": "2023-09-10T23:33:38.405Z"
   },
   {
    "duration": 7,
    "start_time": "2023-09-10T23:35:03.516Z"
   },
   {
    "duration": 19,
    "start_time": "2023-09-10T23:36:56.483Z"
   },
   {
    "duration": 7,
    "start_time": "2023-09-11T00:10:04.720Z"
   },
   {
    "duration": 8,
    "start_time": "2023-09-11T00:26:57.079Z"
   },
   {
    "duration": 7,
    "start_time": "2023-09-11T01:19:52.155Z"
   },
   {
    "duration": 8,
    "start_time": "2023-09-11T01:20:25.971Z"
   },
   {
    "duration": 8,
    "start_time": "2023-09-11T02:47:27.000Z"
   },
   {
    "duration": 139,
    "start_time": "2023-09-11T02:51:31.652Z"
   },
   {
    "duration": 70,
    "start_time": "2023-09-11T02:52:17.145Z"
   },
   {
    "duration": 70,
    "start_time": "2023-09-11T02:52:53.668Z"
   },
   {
    "duration": 14,
    "start_time": "2023-09-11T02:52:56.642Z"
   },
   {
    "duration": 15,
    "start_time": "2023-09-11T02:53:02.862Z"
   },
   {
    "duration": 11,
    "start_time": "2023-09-11T02:53:07.437Z"
   },
   {
    "duration": 32,
    "start_time": "2023-09-11T02:53:10.324Z"
   },
   {
    "duration": 3,
    "start_time": "2023-09-11T02:53:14.567Z"
   },
   {
    "duration": 10,
    "start_time": "2023-09-11T02:53:16.696Z"
   },
   {
    "duration": 5,
    "start_time": "2023-09-11T02:53:19.726Z"
   },
   {
    "duration": 7,
    "start_time": "2023-09-11T02:53:25.846Z"
   },
   {
    "duration": 5,
    "start_time": "2023-09-11T02:53:32.997Z"
   },
   {
    "duration": 36,
    "start_time": "2023-09-11T02:53:37.316Z"
   },
   {
    "duration": 9,
    "start_time": "2023-09-11T02:53:43.288Z"
   },
   {
    "duration": 4,
    "start_time": "2023-09-11T02:53:49.535Z"
   },
   {
    "duration": 10,
    "start_time": "2023-09-11T02:53:51.806Z"
   },
   {
    "duration": 18,
    "start_time": "2023-09-11T02:53:54.300Z"
   },
   {
    "duration": 17,
    "start_time": "2023-09-11T02:53:56.947Z"
   },
   {
    "duration": 9,
    "start_time": "2023-09-11T02:54:08.264Z"
   },
   {
    "duration": 5,
    "start_time": "2023-09-11T02:54:22.155Z"
   },
   {
    "duration": 4,
    "start_time": "2023-09-11T02:54:28.907Z"
   },
   {
    "duration": 13,
    "start_time": "2023-09-11T02:54:33.890Z"
   },
   {
    "duration": 5,
    "start_time": "2023-09-11T02:54:40.952Z"
   },
   {
    "duration": 8,
    "start_time": "2023-09-11T02:54:46.460Z"
   },
   {
    "duration": 7,
    "start_time": "2023-09-11T02:54:52.276Z"
   },
   {
    "duration": 8,
    "start_time": "2023-09-11T02:54:57.002Z"
   },
   {
    "duration": 6,
    "start_time": "2023-09-11T02:55:09.028Z"
   },
   {
    "duration": 82,
    "start_time": "2023-09-11T02:55:15.459Z"
   },
   {
    "duration": 12,
    "start_time": "2023-09-11T02:56:19.217Z"
   },
   {
    "duration": 13,
    "start_time": "2023-09-11T02:56:46.912Z"
   },
   {
    "duration": 12,
    "start_time": "2023-09-11T02:57:09.526Z"
   },
   {
    "duration": 12,
    "start_time": "2023-09-11T02:57:12.192Z"
   },
   {
    "duration": 12,
    "start_time": "2023-09-11T02:58:30.104Z"
   },
   {
    "duration": 7,
    "start_time": "2023-09-11T03:01:24.715Z"
   },
   {
    "duration": 7,
    "start_time": "2023-09-11T03:03:52.140Z"
   },
   {
    "duration": 7,
    "start_time": "2023-09-11T03:03:55.060Z"
   },
   {
    "duration": 8,
    "start_time": "2023-09-11T03:04:06.772Z"
   },
   {
    "duration": 7,
    "start_time": "2023-09-11T03:04:13.090Z"
   },
   {
    "duration": 9,
    "start_time": "2023-09-11T03:04:17.877Z"
   },
   {
    "duration": 72,
    "start_time": "2023-09-11T03:04:28.242Z"
   },
   {
    "duration": 14,
    "start_time": "2023-09-11T03:04:30.815Z"
   },
   {
    "duration": 14,
    "start_time": "2023-09-11T03:04:38.470Z"
   },
   {
    "duration": 10,
    "start_time": "2023-09-11T03:04:43.421Z"
   },
   {
    "duration": 33,
    "start_time": "2023-09-11T03:04:48.638Z"
   },
   {
    "duration": 4,
    "start_time": "2023-09-11T03:04:51.288Z"
   },
   {
    "duration": 7,
    "start_time": "2023-09-11T03:04:55.507Z"
   },
   {
    "duration": 5,
    "start_time": "2023-09-11T03:05:00.380Z"
   },
   {
    "duration": 7,
    "start_time": "2023-09-11T03:05:03.227Z"
   },
   {
    "duration": 4,
    "start_time": "2023-09-11T03:05:05.737Z"
   },
   {
    "duration": 33,
    "start_time": "2023-09-11T03:05:11.548Z"
   },
   {
    "duration": 10,
    "start_time": "2023-09-11T03:05:14.133Z"
   },
   {
    "duration": 4,
    "start_time": "2023-09-11T03:05:18.641Z"
   },
   {
    "duration": 11,
    "start_time": "2023-09-11T03:05:20.982Z"
   },
   {
    "duration": 17,
    "start_time": "2023-09-11T03:05:25.211Z"
   },
   {
    "duration": 17,
    "start_time": "2023-09-11T03:05:27.575Z"
   },
   {
    "duration": 4,
    "start_time": "2023-09-11T03:05:34.479Z"
   },
   {
    "duration": 10,
    "start_time": "2023-09-11T03:05:37.026Z"
   },
   {
    "duration": 6,
    "start_time": "2023-09-11T03:05:41.090Z"
   },
   {
    "duration": 4,
    "start_time": "2023-09-11T03:05:51.725Z"
   },
   {
    "duration": 9,
    "start_time": "2023-09-11T03:05:54.341Z"
   },
   {
    "duration": 6,
    "start_time": "2023-09-11T03:05:59.320Z"
   },
   {
    "duration": 7,
    "start_time": "2023-09-11T03:06:04.312Z"
   },
   {
    "duration": 6,
    "start_time": "2023-09-11T03:06:14.370Z"
   },
   {
    "duration": 8,
    "start_time": "2023-09-11T03:06:19.191Z"
   },
   {
    "duration": 7,
    "start_time": "2023-09-11T03:06:27.242Z"
   },
   {
    "duration": 8,
    "start_time": "2023-09-11T03:06:33.125Z"
   },
   {
    "duration": 733,
    "start_time": "2023-09-11T04:23:06.032Z"
   },
   {
    "duration": 22,
    "start_time": "2023-09-11T04:23:09.386Z"
   },
   {
    "duration": 15,
    "start_time": "2023-09-11T04:23:16.631Z"
   },
   {
    "duration": 11,
    "start_time": "2023-09-11T04:23:22.649Z"
   },
   {
    "duration": 33,
    "start_time": "2023-09-11T04:23:28.789Z"
   },
   {
    "duration": 4,
    "start_time": "2023-09-11T04:23:31.430Z"
   },
   {
    "duration": 7,
    "start_time": "2023-09-11T04:23:34.044Z"
   },
   {
    "duration": 5,
    "start_time": "2023-09-11T04:23:40.322Z"
   },
   {
    "duration": 6,
    "start_time": "2023-09-11T04:23:43.584Z"
   },
   {
    "duration": 5,
    "start_time": "2023-09-11T04:23:48.759Z"
   },
   {
    "duration": 32,
    "start_time": "2023-09-11T04:23:51.324Z"
   },
   {
    "duration": 10,
    "start_time": "2023-09-11T04:23:53.777Z"
   },
   {
    "duration": 3,
    "start_time": "2023-09-11T04:23:58.297Z"
   },
   {
    "duration": 11,
    "start_time": "2023-09-11T04:24:00.859Z"
   },
   {
    "duration": 18,
    "start_time": "2023-09-11T04:24:03.422Z"
   },
   {
    "duration": 16,
    "start_time": "2023-09-11T04:24:08.105Z"
   },
   {
    "duration": 3,
    "start_time": "2023-09-11T04:24:13.660Z"
   },
   {
    "duration": 10,
    "start_time": "2023-09-11T04:24:17.657Z"
   },
   {
    "duration": 6,
    "start_time": "2023-09-11T04:24:21.939Z"
   },
   {
    "duration": 3,
    "start_time": "2023-09-11T04:24:29.850Z"
   },
   {
    "duration": 10,
    "start_time": "2023-09-11T04:24:38.479Z"
   },
   {
    "duration": 5,
    "start_time": "2023-09-11T04:25:04.414Z"
   },
   {
    "duration": 6,
    "start_time": "2023-09-11T04:25:19.044Z"
   },
   {
    "duration": 7,
    "start_time": "2023-09-11T04:26:03.091Z"
   },
   {
    "duration": 7,
    "start_time": "2023-09-11T04:26:10.085Z"
   },
   {
    "duration": 7,
    "start_time": "2023-09-11T04:26:24.748Z"
   },
   {
    "duration": 11,
    "start_time": "2023-09-11T04:27:16.144Z"
   },
   {
    "duration": 7,
    "start_time": "2023-09-11T04:27:27.549Z"
   },
   {
    "duration": 7,
    "start_time": "2023-09-11T04:27:59.652Z"
   },
   {
    "duration": 7,
    "start_time": "2023-09-11T04:56:10.195Z"
   },
   {
    "duration": 7,
    "start_time": "2023-09-11T04:56:50.051Z"
   },
   {
    "duration": 9,
    "start_time": "2023-09-11T05:01:19.834Z"
   },
   {
    "duration": 9,
    "start_time": "2023-09-11T05:01:48.796Z"
   },
   {
    "duration": 691,
    "start_time": "2023-09-11T14:23:24.640Z"
   },
   {
    "duration": 21,
    "start_time": "2023-09-11T14:23:27.158Z"
   },
   {
    "duration": 15,
    "start_time": "2023-09-11T14:25:07.526Z"
   },
   {
    "duration": 11,
    "start_time": "2023-09-11T14:25:14.668Z"
   },
   {
    "duration": 34,
    "start_time": "2023-09-11T14:25:22.044Z"
   },
   {
    "duration": 3,
    "start_time": "2023-09-11T14:25:26.223Z"
   },
   {
    "duration": 9,
    "start_time": "2023-09-11T14:25:28.676Z"
   },
   {
    "duration": 4,
    "start_time": "2023-09-11T14:25:36.627Z"
   },
   {
    "duration": 6,
    "start_time": "2023-09-11T14:25:39.824Z"
   },
   {
    "duration": 4,
    "start_time": "2023-09-11T14:25:42.311Z"
   },
   {
    "duration": 32,
    "start_time": "2023-09-11T14:25:46.911Z"
   },
   {
    "duration": 9,
    "start_time": "2023-09-11T14:25:49.336Z"
   },
   {
    "duration": 3,
    "start_time": "2023-09-11T14:25:54.830Z"
   },
   {
    "duration": 11,
    "start_time": "2023-09-11T14:25:59.364Z"
   },
   {
    "duration": 21,
    "start_time": "2023-09-11T14:26:01.574Z"
   },
   {
    "duration": 17,
    "start_time": "2023-09-11T14:26:03.967Z"
   },
   {
    "duration": 3,
    "start_time": "2023-09-11T14:26:09.747Z"
   },
   {
    "duration": 9,
    "start_time": "2023-09-11T14:26:20.236Z"
   },
   {
    "duration": 6,
    "start_time": "2023-09-11T14:26:25.882Z"
   },
   {
    "duration": 3,
    "start_time": "2023-09-11T14:26:33.485Z"
   },
   {
    "duration": 8,
    "start_time": "2023-09-11T14:26:38.265Z"
   },
   {
    "duration": 5,
    "start_time": "2023-09-11T14:31:15.456Z"
   },
   {
    "duration": 7,
    "start_time": "2023-09-11T14:32:44.141Z"
   },
   {
    "duration": 7,
    "start_time": "2023-09-11T14:34:29.852Z"
   },
   {
    "duration": 7,
    "start_time": "2023-09-11T14:34:36.040Z"
   },
   {
    "duration": 8,
    "start_time": "2023-09-11T14:41:21.888Z"
   },
   {
    "duration": 8,
    "start_time": "2023-09-11T14:41:33.016Z"
   },
   {
    "duration": 7,
    "start_time": "2023-09-11T14:42:19.349Z"
   },
   {
    "duration": 9,
    "start_time": "2023-09-11T14:42:27.437Z"
   },
   {
    "duration": 71,
    "start_time": "2023-09-11T16:13:28.698Z"
   },
   {
    "duration": 14,
    "start_time": "2023-09-11T16:13:31.165Z"
   },
   {
    "duration": 15,
    "start_time": "2023-09-11T16:13:38.348Z"
   },
   {
    "duration": 11,
    "start_time": "2023-09-11T16:13:43.436Z"
   },
   {
    "duration": 34,
    "start_time": "2023-09-11T16:13:47.756Z"
   },
   {
    "duration": 3,
    "start_time": "2023-09-11T16:13:51.699Z"
   },
   {
    "duration": 7,
    "start_time": "2023-09-11T16:13:55.047Z"
   },
   {
    "duration": 4,
    "start_time": "2023-09-11T16:14:03.339Z"
   },
   {
    "duration": 8,
    "start_time": "2023-09-11T16:14:05.917Z"
   },
   {
    "duration": 6,
    "start_time": "2023-09-11T16:14:08.459Z"
   },
   {
    "duration": 35,
    "start_time": "2023-09-11T16:14:14.654Z"
   },
   {
    "duration": 11,
    "start_time": "2023-09-11T16:14:17.135Z"
   },
   {
    "duration": 4,
    "start_time": "2023-09-11T16:14:21.502Z"
   },
   {
    "duration": 15,
    "start_time": "2023-09-11T16:14:25.971Z"
   },
   {
    "duration": 18,
    "start_time": "2023-09-11T16:14:28.335Z"
   },
   {
    "duration": 16,
    "start_time": "2023-09-11T16:14:30.592Z"
   },
   {
    "duration": 4,
    "start_time": "2023-09-11T16:14:36.656Z"
   },
   {
    "duration": 10,
    "start_time": "2023-09-11T16:14:39.103Z"
   },
   {
    "duration": 6,
    "start_time": "2023-09-11T16:14:44.043Z"
   },
   {
    "duration": 4,
    "start_time": "2023-09-11T16:14:52.753Z"
   },
   {
    "duration": 10,
    "start_time": "2023-09-11T16:14:56.055Z"
   },
   {
    "duration": 6,
    "start_time": "2023-09-11T16:15:02.037Z"
   },
   {
    "duration": 6,
    "start_time": "2023-09-11T16:15:06.930Z"
   },
   {
    "duration": 7,
    "start_time": "2023-09-11T16:15:12.441Z"
   },
   {
    "duration": 9,
    "start_time": "2023-09-11T16:15:19.064Z"
   },
   {
    "duration": 9,
    "start_time": "2023-09-11T16:15:24.391Z"
   },
   {
    "duration": 11,
    "start_time": "2023-09-11T16:15:28.817Z"
   },
   {
    "duration": 7,
    "start_time": "2023-09-11T16:15:33.851Z"
   },
   {
    "duration": 7,
    "start_time": "2023-09-11T16:15:38.517Z"
   },
   {
    "duration": 730,
    "start_time": "2023-09-11T18:35:37.138Z"
   },
   {
    "duration": 22,
    "start_time": "2023-09-11T18:35:37.870Z"
   },
   {
    "duration": 16,
    "start_time": "2023-09-11T18:35:37.894Z"
   },
   {
    "duration": 10,
    "start_time": "2023-09-11T18:35:37.912Z"
   },
   {
    "duration": 41,
    "start_time": "2023-09-11T18:35:37.924Z"
   },
   {
    "duration": 3,
    "start_time": "2023-09-11T18:35:37.967Z"
   },
   {
    "duration": 11,
    "start_time": "2023-09-11T18:35:37.971Z"
   },
   {
    "duration": 17,
    "start_time": "2023-09-11T18:35:37.984Z"
   },
   {
    "duration": 8,
    "start_time": "2023-09-11T18:35:38.003Z"
   },
   {
    "duration": 5,
    "start_time": "2023-09-11T18:35:38.024Z"
   },
   {
    "duration": 41,
    "start_time": "2023-09-11T18:35:38.031Z"
   },
   {
    "duration": 10,
    "start_time": "2023-09-11T18:35:38.073Z"
   },
   {
    "duration": 3,
    "start_time": "2023-09-11T18:35:38.085Z"
   },
   {
    "duration": 12,
    "start_time": "2023-09-11T18:35:38.089Z"
   },
   {
    "duration": 36,
    "start_time": "2023-09-11T18:35:38.103Z"
   },
   {
    "duration": 16,
    "start_time": "2023-09-11T18:35:38.141Z"
   },
   {
    "duration": 4,
    "start_time": "2023-09-11T18:35:38.158Z"
   },
   {
    "duration": 12,
    "start_time": "2023-09-11T18:35:38.163Z"
   },
   {
    "duration": 5,
    "start_time": "2023-09-11T18:35:38.176Z"
   },
   {
    "duration": 4,
    "start_time": "2023-09-11T18:35:38.182Z"
   },
   {
    "duration": 43,
    "start_time": "2023-09-11T18:35:38.187Z"
   },
   {
    "duration": 5,
    "start_time": "2023-09-11T18:35:38.232Z"
   },
   {
    "duration": 9,
    "start_time": "2023-09-11T18:35:38.238Z"
   },
   {
    "duration": 7,
    "start_time": "2023-09-11T18:35:38.248Z"
   },
   {
    "duration": 9,
    "start_time": "2023-09-11T18:35:38.256Z"
   },
   {
    "duration": 11,
    "start_time": "2023-09-11T18:35:38.266Z"
   },
   {
    "duration": 18,
    "start_time": "2023-09-11T18:35:38.278Z"
   },
   {
    "duration": 7,
    "start_time": "2023-09-11T18:35:38.327Z"
   },
   {
    "duration": 18,
    "start_time": "2023-09-11T18:35:38.335Z"
   },
   {
    "duration": 50,
    "start_time": "2023-09-11T20:35:02.650Z"
   },
   {
    "duration": 728,
    "start_time": "2023-09-11T20:35:22.273Z"
   },
   {
    "duration": 23,
    "start_time": "2023-09-11T20:35:25.365Z"
   },
   {
    "duration": 16,
    "start_time": "2023-09-11T20:35:31.282Z"
   },
   {
    "duration": 14,
    "start_time": "2023-09-11T20:35:36.192Z"
   },
   {
    "duration": 36,
    "start_time": "2023-09-11T20:35:41.525Z"
   },
   {
    "duration": 3,
    "start_time": "2023-09-11T20:35:45.667Z"
   },
   {
    "duration": 8,
    "start_time": "2023-09-11T20:35:49.518Z"
   },
   {
    "duration": 5,
    "start_time": "2023-09-11T20:35:56.277Z"
   },
   {
    "duration": 8,
    "start_time": "2023-09-11T20:36:02.381Z"
   },
   {
    "duration": 4,
    "start_time": "2023-09-11T20:36:09.160Z"
   },
   {
    "duration": 38,
    "start_time": "2023-09-11T20:36:15.349Z"
   },
   {
    "duration": 11,
    "start_time": "2023-09-11T20:36:18.593Z"
   },
   {
    "duration": 4,
    "start_time": "2023-09-11T20:36:23.480Z"
   },
   {
    "duration": 12,
    "start_time": "2023-09-11T20:36:25.750Z"
   },
   {
    "duration": 20,
    "start_time": "2023-09-11T20:36:28.532Z"
   },
   {
    "duration": 18,
    "start_time": "2023-09-11T20:36:31.105Z"
   },
   {
    "duration": 4,
    "start_time": "2023-09-11T20:36:52.515Z"
   },
   {
    "duration": 10,
    "start_time": "2023-09-11T20:36:55.452Z"
   },
   {
    "duration": 6,
    "start_time": "2023-09-11T20:36:57.974Z"
   },
   {
    "duration": 3,
    "start_time": "2023-09-11T20:37:05.113Z"
   },
   {
    "duration": 8,
    "start_time": "2023-09-11T20:37:07.726Z"
   },
   {
    "duration": 5,
    "start_time": "2023-09-11T20:37:14.313Z"
   },
   {
    "duration": 10,
    "start_time": "2023-09-11T20:37:19.445Z"
   },
   {
    "duration": 7,
    "start_time": "2023-09-11T20:37:59.714Z"
   },
   {
    "duration": 9,
    "start_time": "2023-09-11T20:38:41.401Z"
   },
   {
    "duration": 7,
    "start_time": "2023-09-11T20:39:10.078Z"
   },
   {
    "duration": 7,
    "start_time": "2023-09-11T22:09:26.583Z"
   },
   {
    "duration": 8,
    "start_time": "2023-09-11T22:09:30.306Z"
   },
   {
    "duration": 5,
    "start_time": "2023-09-11T22:20:12.687Z"
   },
   {
    "duration": 7,
    "start_time": "2023-09-11T22:22:18.708Z"
   },
   {
    "duration": 8,
    "start_time": "2023-09-11T22:22:35.245Z"
   },
   {
    "duration": 7,
    "start_time": "2023-09-11T22:22:43.843Z"
   },
   {
    "duration": 86,
    "start_time": "2023-09-11T22:22:57.175Z"
   },
   {
    "duration": 15,
    "start_time": "2023-09-11T22:23:01.835Z"
   },
   {
    "duration": 16,
    "start_time": "2023-09-11T22:23:07.728Z"
   },
   {
    "duration": 11,
    "start_time": "2023-09-11T22:23:12.634Z"
   },
   {
    "duration": 37,
    "start_time": "2023-09-11T22:23:19.094Z"
   },
   {
    "duration": 4,
    "start_time": "2023-09-11T22:23:21.905Z"
   },
   {
    "duration": 8,
    "start_time": "2023-09-11T22:23:24.436Z"
   },
   {
    "duration": 4,
    "start_time": "2023-09-11T22:23:30.409Z"
   },
   {
    "duration": 6,
    "start_time": "2023-09-11T22:23:35.404Z"
   },
   {
    "duration": 6,
    "start_time": "2023-09-11T22:23:38.106Z"
   },
   {
    "duration": 37,
    "start_time": "2023-09-11T22:23:42.627Z"
   },
   {
    "duration": 12,
    "start_time": "2023-09-11T22:23:48.416Z"
   },
   {
    "duration": 5,
    "start_time": "2023-09-11T22:23:51.195Z"
   },
   {
    "duration": 14,
    "start_time": "2023-09-11T22:23:55.446Z"
   },
   {
    "duration": 21,
    "start_time": "2023-09-11T22:23:58.037Z"
   },
   {
    "duration": 19,
    "start_time": "2023-09-11T22:24:00.480Z"
   },
   {
    "duration": 3,
    "start_time": "2023-09-11T22:24:05.721Z"
   },
   {
    "duration": 11,
    "start_time": "2023-09-11T22:24:08.300Z"
   },
   {
    "duration": 6,
    "start_time": "2023-09-11T22:24:10.849Z"
   },
   {
    "duration": 4,
    "start_time": "2023-09-11T22:24:18.574Z"
   },
   {
    "duration": 10,
    "start_time": "2023-09-11T22:24:21.018Z"
   },
   {
    "duration": 6,
    "start_time": "2023-09-11T22:24:26.322Z"
   },
   {
    "duration": 11,
    "start_time": "2023-09-11T22:24:32.074Z"
   },
   {
    "duration": 7,
    "start_time": "2023-09-11T22:24:37.593Z"
   },
   {
    "duration": 7,
    "start_time": "2023-09-11T22:25:05.695Z"
   },
   {
    "duration": 8,
    "start_time": "2023-09-11T22:25:08.430Z"
   },
   {
    "duration": 7,
    "start_time": "2023-09-11T22:43:29.426Z"
   },
   {
    "duration": 9,
    "start_time": "2023-09-11T22:43:35.494Z"
   },
   {
    "duration": 8,
    "start_time": "2023-09-11T22:43:50.567Z"
   },
   {
    "duration": 10,
    "start_time": "2023-09-11T22:51:46.297Z"
   },
   {
    "duration": 10,
    "start_time": "2023-09-11T22:52:50.736Z"
   },
   {
    "duration": 9,
    "start_time": "2023-09-11T22:53:01.367Z"
   },
   {
    "duration": 11,
    "start_time": "2023-09-11T22:53:21.222Z"
   },
   {
    "duration": 9,
    "start_time": "2023-09-11T22:53:23.988Z"
   },
   {
    "duration": 6,
    "start_time": "2023-09-11T22:54:09.976Z"
   },
   {
    "duration": 7,
    "start_time": "2023-09-11T22:54:12.756Z"
   },
   {
    "duration": 7,
    "start_time": "2023-09-11T22:54:21.255Z"
   },
   {
    "duration": 9,
    "start_time": "2023-09-11T22:54:26.031Z"
   },
   {
    "duration": 8,
    "start_time": "2023-09-11T22:54:41.012Z"
   },
   {
    "duration": 11,
    "start_time": "2023-09-11T22:54:52.299Z"
   },
   {
    "duration": 9,
    "start_time": "2023-09-11T22:54:57.299Z"
   },
   {
    "duration": 7,
    "start_time": "2023-09-11T23:09:05.769Z"
   },
   {
    "duration": 9,
    "start_time": "2023-09-11T23:09:15.562Z"
   },
   {
    "duration": 11,
    "start_time": "2023-09-11T23:38:30.239Z"
   },
   {
    "duration": 10,
    "start_time": "2023-09-11T23:38:50.095Z"
   },
   {
    "duration": 1383,
    "start_time": "2023-09-11T23:42:41.710Z"
   },
   {
    "duration": 11,
    "start_time": "2023-09-11T23:46:14.350Z"
   },
   {
    "duration": 13,
    "start_time": "2023-09-11T23:46:29.434Z"
   },
   {
    "duration": 11,
    "start_time": "2023-09-11T23:48:18.345Z"
   },
   {
    "duration": 11,
    "start_time": "2023-09-11T23:57:12.952Z"
   },
   {
    "duration": 17,
    "start_time": "2023-09-11T23:58:01.255Z"
   },
   {
    "duration": 15,
    "start_time": "2023-09-11T23:58:59.564Z"
   },
   {
    "duration": 12,
    "start_time": "2023-09-12T00:00:12.737Z"
   },
   {
    "duration": 9,
    "start_time": "2023-09-12T00:00:41.478Z"
   },
   {
    "duration": 9,
    "start_time": "2023-09-12T00:01:13.110Z"
   },
   {
    "duration": 7,
    "start_time": "2023-09-12T00:01:30.807Z"
   },
   {
    "duration": 22,
    "start_time": "2023-09-12T00:02:48.901Z"
   },
   {
    "duration": 1643,
    "start_time": "2023-09-12T00:08:37.923Z"
   },
   {
    "duration": 1107,
    "start_time": "2023-09-12T00:08:59.990Z"
   },
   {
    "duration": 1518,
    "start_time": "2023-09-12T00:09:08.442Z"
   },
   {
    "duration": 20,
    "start_time": "2023-09-12T00:10:21.867Z"
   },
   {
    "duration": 21,
    "start_time": "2023-09-12T00:10:55.206Z"
   },
   {
    "duration": 19,
    "start_time": "2023-09-12T00:11:51.771Z"
   },
   {
    "duration": 21,
    "start_time": "2023-09-12T00:40:04.884Z"
   },
   {
    "duration": 21,
    "start_time": "2023-09-12T00:40:57.941Z"
   },
   {
    "duration": 20,
    "start_time": "2023-09-12T00:48:29.612Z"
   },
   {
    "duration": 20,
    "start_time": "2023-09-12T00:48:51.883Z"
   },
   {
    "duration": 3944,
    "start_time": "2023-09-12T00:51:40.539Z"
   },
   {
    "duration": 19,
    "start_time": "2023-09-12T00:52:03.259Z"
   },
   {
    "duration": 20,
    "start_time": "2023-09-12T01:00:14.417Z"
   },
   {
    "duration": 20,
    "start_time": "2023-09-12T01:04:27.816Z"
   },
   {
    "duration": 21,
    "start_time": "2023-09-12T01:06:48.395Z"
   },
   {
    "duration": 23,
    "start_time": "2023-09-12T01:07:11.565Z"
   },
   {
    "duration": 19,
    "start_time": "2023-09-12T01:07:38.560Z"
   },
   {
    "duration": 22,
    "start_time": "2023-09-12T01:08:57.681Z"
   },
   {
    "duration": 21,
    "start_time": "2023-09-12T01:12:18.835Z"
   },
   {
    "duration": 23,
    "start_time": "2023-09-12T01:15:09.015Z"
   },
   {
    "duration": 22,
    "start_time": "2023-09-12T01:16:19.740Z"
   },
   {
    "duration": 24,
    "start_time": "2023-09-12T01:28:51.813Z"
   },
   {
    "duration": 76,
    "start_time": "2023-09-12T01:29:05.323Z"
   },
   {
    "duration": 17,
    "start_time": "2023-09-12T01:29:08.279Z"
   },
   {
    "duration": 17,
    "start_time": "2023-09-12T01:29:18.182Z"
   },
   {
    "duration": 11,
    "start_time": "2023-09-12T01:29:26.182Z"
   },
   {
    "duration": 35,
    "start_time": "2023-09-12T01:29:31.388Z"
   },
   {
    "duration": 4,
    "start_time": "2023-09-12T01:29:34.254Z"
   },
   {
    "duration": 8,
    "start_time": "2023-09-12T01:29:36.786Z"
   },
   {
    "duration": 4,
    "start_time": "2023-09-12T01:29:52.050Z"
   },
   {
    "duration": 6,
    "start_time": "2023-09-12T01:29:58.154Z"
   },
   {
    "duration": 5,
    "start_time": "2023-09-12T01:30:02.599Z"
   },
   {
    "duration": 39,
    "start_time": "2023-09-12T01:30:06.030Z"
   },
   {
    "duration": 11,
    "start_time": "2023-09-12T01:30:12.527Z"
   },
   {
    "duration": 4,
    "start_time": "2023-09-12T01:30:15.869Z"
   },
   {
    "duration": 24,
    "start_time": "2023-09-12T01:30:21.236Z"
   },
   {
    "duration": 24,
    "start_time": "2023-09-12T01:30:24.030Z"
   },
   {
    "duration": 26,
    "start_time": "2023-09-12T01:30:26.476Z"
   },
   {
    "duration": 23,
    "start_time": "2023-09-12T01:30:31.586Z"
   },
   {
    "duration": 19,
    "start_time": "2023-09-12T01:30:34.728Z"
   },
   {
    "duration": 4,
    "start_time": "2023-09-12T01:30:41.734Z"
   },
   {
    "duration": 12,
    "start_time": "2023-09-12T01:30:44.140Z"
   },
   {
    "duration": 6,
    "start_time": "2023-09-12T01:30:48.586Z"
   },
   {
    "duration": 4,
    "start_time": "2023-09-12T01:30:55.299Z"
   },
   {
    "duration": 9,
    "start_time": "2023-09-12T01:30:58.189Z"
   },
   {
    "duration": 5,
    "start_time": "2023-09-12T01:31:04.852Z"
   },
   {
    "duration": 12,
    "start_time": "2023-09-12T01:31:10.387Z"
   },
   {
    "duration": 8,
    "start_time": "2023-09-12T01:31:13.144Z"
   },
   {
    "duration": 8,
    "start_time": "2023-09-12T01:31:29.031Z"
   },
   {
    "duration": 9,
    "start_time": "2023-09-12T01:31:44.088Z"
   },
   {
    "duration": 26,
    "start_time": "2023-09-12T01:31:48.116Z"
   },
   {
    "duration": 7,
    "start_time": "2023-09-12T01:31:58.672Z"
   },
   {
    "duration": 11,
    "start_time": "2023-09-12T01:32:11.582Z"
   },
   {
    "duration": 8,
    "start_time": "2023-09-12T01:32:14.932Z"
   },
   {
    "duration": 20,
    "start_time": "2023-09-12T01:32:20.297Z"
   },
   {
    "duration": 7,
    "start_time": "2023-09-12T01:32:42.648Z"
   },
   {
    "duration": 8,
    "start_time": "2023-09-12T01:32:47.969Z"
   },
   {
    "duration": 23,
    "start_time": "2023-09-12T01:32:52.365Z"
   },
   {
    "duration": 776,
    "start_time": "2023-09-14T03:03:48.111Z"
   },
   {
    "duration": 25,
    "start_time": "2023-09-14T03:05:29.315Z"
   },
   {
    "duration": 17,
    "start_time": "2023-09-14T03:07:01.724Z"
   },
   {
    "duration": 25,
    "start_time": "2023-09-14T03:08:05.493Z"
   },
   {
    "duration": 12,
    "start_time": "2023-09-14T03:08:30.463Z"
   },
   {
    "duration": 534,
    "start_time": "2023-09-14T15:34:15.160Z"
   },
   {
    "duration": 19,
    "start_time": "2023-09-14T15:34:19.684Z"
   },
   {
    "duration": 14,
    "start_time": "2023-09-14T15:34:26.159Z"
   },
   {
    "duration": 11,
    "start_time": "2023-09-14T15:35:17.256Z"
   },
   {
    "duration": 35,
    "start_time": "2023-09-14T15:45:16.481Z"
   },
   {
    "duration": 3,
    "start_time": "2023-09-14T15:48:18.961Z"
   },
   {
    "duration": 7,
    "start_time": "2023-09-14T15:50:13.601Z"
   },
   {
    "duration": 13,
    "start_time": "2023-09-14T15:57:22.543Z"
   },
   {
    "duration": 6,
    "start_time": "2023-09-14T16:02:38.800Z"
   },
   {
    "duration": 4,
    "start_time": "2023-09-14T16:04:02.493Z"
   },
   {
    "duration": 47,
    "start_time": "2023-09-14T16:09:14.203Z"
   },
   {
    "duration": 10,
    "start_time": "2023-09-14T16:10:06.619Z"
   },
   {
    "duration": 4,
    "start_time": "2023-09-14T16:14:31.504Z"
   },
   {
    "duration": 21,
    "start_time": "2023-09-14T16:17:49.255Z"
   },
   {
    "duration": 15,
    "start_time": "2023-09-14T16:18:22.393Z"
   },
   {
    "duration": 3,
    "start_time": "2023-09-14T16:18:55.155Z"
   },
   {
    "duration": 11,
    "start_time": "2023-09-14T16:18:57.707Z"
   },
   {
    "duration": 29,
    "start_time": "2023-09-14T16:19:00.032Z"
   },
   {
    "duration": 20,
    "start_time": "2023-09-14T16:20:02.580Z"
   },
   {
    "duration": 19,
    "start_time": "2023-09-14T16:20:44.345Z"
   },
   {
    "duration": 24,
    "start_time": "2023-09-14T16:20:58.733Z"
   },
   {
    "duration": 21,
    "start_time": "2023-09-14T16:21:00.981Z"
   },
   {
    "duration": 3,
    "start_time": "2023-09-14T16:21:06.560Z"
   },
   {
    "duration": 12,
    "start_time": "2023-09-14T16:21:09.273Z"
   },
   {
    "duration": 17,
    "start_time": "2023-09-14T16:21:12.607Z"
   },
   {
    "duration": 18,
    "start_time": "2023-09-14T16:21:29.336Z"
   },
   {
    "duration": 5,
    "start_time": "2023-09-14T16:21:33.931Z"
   },
   {
    "duration": 12,
    "start_time": "2023-09-14T16:21:36.829Z"
   },
   {
    "duration": 18,
    "start_time": "2023-09-14T16:21:40.895Z"
   },
   {
    "duration": 4,
    "start_time": "2023-09-14T16:22:06.213Z"
   },
   {
    "duration": 13,
    "start_time": "2023-09-14T16:22:10.860Z"
   },
   {
    "duration": 17,
    "start_time": "2023-09-14T16:22:13.288Z"
   },
   {
    "duration": 75,
    "start_time": "2023-09-14T16:22:22.014Z"
   },
   {
    "duration": 14,
    "start_time": "2023-09-14T16:22:24.887Z"
   },
   {
    "duration": 15,
    "start_time": "2023-09-14T16:22:30.699Z"
   },
   {
    "duration": 13,
    "start_time": "2023-09-14T16:22:33.657Z"
   },
   {
    "duration": 35,
    "start_time": "2023-09-14T16:22:39.199Z"
   },
   {
    "duration": 4,
    "start_time": "2023-09-14T16:22:41.775Z"
   },
   {
    "duration": 9,
    "start_time": "2023-09-14T16:22:44.173Z"
   },
   {
    "duration": 4,
    "start_time": "2023-09-14T16:22:49.999Z"
   },
   {
    "duration": 5,
    "start_time": "2023-09-14T16:22:53.401Z"
   },
   {
    "duration": 5,
    "start_time": "2023-09-14T16:22:56.056Z"
   },
   {
    "duration": 14,
    "start_time": "2023-09-14T16:23:02.318Z"
   },
   {
    "duration": 35,
    "start_time": "2023-09-14T16:23:09.560Z"
   },
   {
    "duration": 15,
    "start_time": "2023-09-14T16:23:12.248Z"
   },
   {
    "duration": 3,
    "start_time": "2023-09-14T16:23:18.373Z"
   },
   {
    "duration": 10,
    "start_time": "2023-09-14T16:23:20.673Z"
   },
   {
    "duration": 18,
    "start_time": "2023-09-14T16:23:24.790Z"
   },
   {
    "duration": 24,
    "start_time": "2023-09-14T16:23:30.044Z"
   },
   {
    "duration": 13,
    "start_time": "2023-09-14T16:23:37.455Z"
   },
   {
    "duration": 3,
    "start_time": "2023-09-14T16:35:16.513Z"
   },
   {
    "duration": 9,
    "start_time": "2023-09-14T16:45:53.875Z"
   },
   {
    "duration": 5,
    "start_time": "2023-09-14T16:47:34.926Z"
   },
   {
    "duration": 3,
    "start_time": "2023-09-14T16:57:08.505Z"
   },
   {
    "duration": 8,
    "start_time": "2023-09-14T16:57:11.017Z"
   },
   {
    "duration": 4,
    "start_time": "2023-09-14T17:01:10.509Z"
   },
   {
    "duration": 26,
    "start_time": "2023-09-14T17:01:40.643Z"
   },
   {
    "duration": 4,
    "start_time": "2023-09-14T17:02:30.823Z"
   },
   {
    "duration": 3,
    "start_time": "2023-09-14T17:02:43.755Z"
   },
   {
    "duration": 5,
    "start_time": "2023-09-14T17:06:49.801Z"
   },
   {
    "duration": 10,
    "start_time": "2023-09-14T17:07:09.261Z"
   },
   {
    "duration": 60,
    "start_time": "2023-09-14T17:07:13.187Z"
   },
   {
    "duration": 8,
    "start_time": "2023-09-14T17:07:35.120Z"
   },
   {
    "duration": 11,
    "start_time": "2023-09-14T17:07:38.606Z"
   },
   {
    "duration": 18,
    "start_time": "2023-09-14T17:07:51.811Z"
   },
   {
    "duration": 6,
    "start_time": "2023-09-14T17:07:58.016Z"
   },
   {
    "duration": 8,
    "start_time": "2023-09-14T17:08:03.692Z"
   },
   {
    "duration": 7,
    "start_time": "2023-09-14T17:08:08.164Z"
   },
   {
    "duration": 7,
    "start_time": "2023-09-14T17:09:13.757Z"
   },
   {
    "duration": 7,
    "start_time": "2023-09-14T17:09:57.392Z"
   },
   {
    "duration": 8,
    "start_time": "2023-09-14T17:10:16.416Z"
   },
   {
    "duration": 19,
    "start_time": "2023-09-14T17:10:36.818Z"
   },
   {
    "duration": 557,
    "start_time": "2023-09-14T19:55:53.882Z"
   },
   {
    "duration": 22,
    "start_time": "2023-09-14T19:55:56.945Z"
   },
   {
    "duration": 15,
    "start_time": "2023-09-14T19:56:03.153Z"
   },
   {
    "duration": 10,
    "start_time": "2023-09-14T19:56:09.212Z"
   },
   {
    "duration": 35,
    "start_time": "2023-09-14T19:56:15.390Z"
   },
   {
    "duration": 3,
    "start_time": "2023-09-14T19:56:22.818Z"
   },
   {
    "duration": 7,
    "start_time": "2023-09-14T19:56:25.519Z"
   },
   {
    "duration": 4,
    "start_time": "2023-09-14T19:56:31.849Z"
   },
   {
    "duration": 6,
    "start_time": "2023-09-14T19:56:36.923Z"
   },
   {
    "duration": 4,
    "start_time": "2023-09-14T19:56:39.666Z"
   },
   {
    "duration": 31,
    "start_time": "2023-09-14T19:56:44.346Z"
   },
   {
    "duration": 10,
    "start_time": "2023-09-14T19:56:47.233Z"
   },
   {
    "duration": 4,
    "start_time": "2023-09-14T19:56:52.232Z"
   },
   {
    "duration": 12,
    "start_time": "2023-09-14T19:56:54.854Z"
   },
   {
    "duration": 19,
    "start_time": "2023-09-14T19:56:57.466Z"
   },
   {
    "duration": 16,
    "start_time": "2023-09-14T19:57:00.543Z"
   },
   {
    "duration": 13,
    "start_time": "2023-09-14T19:57:05.411Z"
   },
   {
    "duration": 3,
    "start_time": "2023-09-14T19:57:12.585Z"
   },
   {
    "duration": 9,
    "start_time": "2023-09-14T19:57:15.061Z"
   },
   {
    "duration": 4,
    "start_time": "2023-09-14T19:57:23.322Z"
   },
   {
    "duration": 18,
    "start_time": "2023-09-14T19:57:28.058Z"
   },
   {
    "duration": 5,
    "start_time": "2023-09-14T19:57:35.638Z"
   },
   {
    "duration": 10,
    "start_time": "2023-09-14T19:57:41.178Z"
   },
   {
    "duration": 10,
    "start_time": "2023-09-14T19:57:43.988Z"
   },
   {
    "duration": 18,
    "start_time": "2023-09-14T19:57:49.484Z"
   },
   {
    "duration": 8,
    "start_time": "2023-09-14T19:59:18.747Z"
   },
   {
    "duration": 10,
    "start_time": "2023-09-14T19:59:27.995Z"
   },
   {
    "duration": 20,
    "start_time": "2023-09-14T19:59:39.234Z"
   },
   {
    "duration": 8,
    "start_time": "2023-09-14T20:01:02.538Z"
   },
   {
    "duration": 10,
    "start_time": "2023-09-14T20:01:42.161Z"
   },
   {
    "duration": 9,
    "start_time": "2023-09-14T20:01:45.373Z"
   },
   {
    "duration": 19,
    "start_time": "2023-09-14T20:01:50.654Z"
   },
   {
    "duration": 7,
    "start_time": "2023-09-14T20:03:13.295Z"
   },
   {
    "duration": 7,
    "start_time": "2023-09-14T20:03:16.637Z"
   },
   {
    "duration": 1239,
    "start_time": "2023-09-18T23:52:03.997Z"
   },
   {
    "duration": 36,
    "start_time": "2023-09-18T23:52:11.236Z"
   },
   {
    "duration": 18,
    "start_time": "2023-09-18T23:52:17.593Z"
   },
   {
    "duration": 11,
    "start_time": "2023-09-18T23:52:23.868Z"
   },
   {
    "duration": 55,
    "start_time": "2023-09-18T23:52:30.343Z"
   },
   {
    "duration": 4,
    "start_time": "2023-09-18T23:52:33.563Z"
   },
   {
    "duration": 17,
    "start_time": "2023-09-18T23:52:36.910Z"
   },
   {
    "duration": 9,
    "start_time": "2023-09-18T23:52:40.437Z"
   },
   {
    "duration": 12,
    "start_time": "2023-09-18T23:52:44.580Z"
   },
   {
    "duration": 6,
    "start_time": "2023-09-18T23:52:50.793Z"
   },
   {
    "duration": 25,
    "start_time": "2023-09-18T23:52:53.835Z"
   },
   {
    "duration": 5,
    "start_time": "2023-09-18T23:52:56.365Z"
   },
   {
    "duration": 64,
    "start_time": "2023-09-18T23:53:01.329Z"
   },
   {
    "duration": 11,
    "start_time": "2023-09-18T23:53:04.090Z"
   },
   {
    "duration": 4,
    "start_time": "2023-09-18T23:53:08.688Z"
   },
   {
    "duration": 21,
    "start_time": "2023-09-18T23:53:10.929Z"
   },
   {
    "duration": 44,
    "start_time": "2023-09-18T23:53:13.400Z"
   },
   {
    "duration": 27,
    "start_time": "2023-09-18T23:53:18.476Z"
   },
   {
    "duration": 18,
    "start_time": "2023-09-18T23:53:21.137Z"
   },
   {
    "duration": 5,
    "start_time": "2023-09-18T23:53:26.208Z"
   },
   {
    "duration": 11,
    "start_time": "2023-09-18T23:53:31.760Z"
   },
   {
    "duration": 8,
    "start_time": "2023-09-18T23:53:34.471Z"
   },
   {
    "duration": 4,
    "start_time": "2023-09-18T23:53:45.881Z"
   },
   {
    "duration": 47,
    "start_time": "2023-09-18T23:53:48.693Z"
   },
   {
    "duration": 9,
    "start_time": "2023-09-18T23:53:58.329Z"
   },
   {
    "duration": 15,
    "start_time": "2023-09-18T23:54:05.491Z"
   },
   {
    "duration": 11,
    "start_time": "2023-09-18T23:54:08.140Z"
   },
   {
    "duration": 24,
    "start_time": "2023-09-18T23:54:13.039Z"
   },
   {
    "duration": 13,
    "start_time": "2023-09-18T23:54:18.945Z"
   },
   {
    "duration": 21,
    "start_time": "2023-09-18T23:54:22.353Z"
   },
   {
    "duration": 15,
    "start_time": "2023-09-18T23:54:28.534Z"
   },
   {
    "duration": 16,
    "start_time": "2023-09-18T23:54:37.257Z"
   },
   {
    "duration": 8,
    "start_time": "2023-09-18T23:54:40.267Z"
   },
   {
    "duration": 46,
    "start_time": "2023-09-18T23:54:47.998Z"
   },
   {
    "duration": 10,
    "start_time": "2023-09-18T23:54:53.749Z"
   },
   {
    "duration": 13,
    "start_time": "2023-09-18T23:54:56.994Z"
   }
  ],
  "celltoolbar": "Редактировать метаданные",
  "colab": {
   "name": "dpp_template_part2.ipynb",
   "provenance": []
  },
  "kernelspec": {
   "display_name": "Python 3 (ipykernel)",
   "language": "python",
   "name": "python3"
  },
  "language_info": {
   "codemirror_mode": {
    "name": "ipython",
    "version": 3
   },
   "file_extension": ".py",
   "mimetype": "text/x-python",
   "name": "python",
   "nbconvert_exporter": "python",
   "pygments_lexer": "ipython3",
   "version": "3.9.5"
  },
  "toc": {
   "base_numbering": 1,
   "nav_menu": {},
   "number_sections": true,
   "sideBar": true,
   "skip_h1_title": true,
   "title_cell": "Table of Contents",
   "title_sidebar": "Contents",
   "toc_cell": false,
   "toc_position": {},
   "toc_section_display": true,
   "toc_window_display": true
  }
 },
 "nbformat": 4,
 "nbformat_minor": 5
}
