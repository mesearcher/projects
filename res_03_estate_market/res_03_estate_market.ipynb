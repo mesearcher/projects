{
 "cells": [
  {
   "cell_type": "markdown",
   "metadata": {},
   "source": [
    "# Estate Market Analysis"
   ]
  },
  {
   "cell_type": "markdown",
   "metadata": {},
   "source": [
    "**Project Objective:**\n",
    "The primary objective of this project is to assess the various parameters that impact the market value of real estate.\n",
    "\n",
    "\n",
    "**Data Source:**\n",
    "The project utilizes data obtained from Yandex.Estate, a service for posting real estate advertisements. \n",
    "The dataset includes the following variables:\n",
    "\n",
    "- Last price\n",
    "- Total area\n",
    "- Living area\n",
    "- Kitchen area\n",
    "- Number of rooms\n",
    "- Floor\n",
    "- Locality name\n",
    "- Distance to the city center\n",
    "- Date of ad exposition\n",
    "\n",
    "**RQs:**\n",
    "\n",
    "1. Do total area, living area, kitchen area, and the number of rooms have a significant impact on the final sale price of real estate?\n",
    "2. How does the floor category (e.g., ground floor, middle floor, top floor) influence the last price of real estate?\n",
    "3. Is there a correlation between the date of ad exposition and the market value of real estate? \n",
    "4. Which localities exhibit the highest and lowest cost per square meter of real estate?\n",
    "5. What is the relationship between the distance of a property to the city center and its overall cost in the real estate market?\n",
    "\n",
    "**Tools and libraries:**\n",
    "- Python\n",
    "- Pandas\n",
    "- Matplotlib"
   ]
  },
  {
   "cell_type": "markdown",
   "metadata": {},
   "source": [
    "# Исследование объявлений о продаже квартир"
   ]
  },
  {
   "cell_type": "markdown",
   "metadata": {},
   "source": [
    "**Аннотация проекта** \n",
    "\n",
    "На архивных данных сервиса Яндекс.Недвижимость о продаже квартир в Санкт-Петербурге и соседних населённых пунктах проведём исследование, результаты которого будут учтены при построении автоматизированной системы для отслеживания аномалий и мошеннической деятельности.\n",
    "\n",
    "**Цель исследования** — оценить и установить параметры для определения рыночной стоимости объектов недвижимости. Исследование будет сфокусировано на следующих параметрах: *цена объекта, общая площадь, жилая площадь, площадь кухни, количество комнат, высота потолков, тип этажа квартиры, расстояние до центра города и до ближайшего парка*.\n",
    "\n",
    "**Ход исследования**\n",
    "1. Обзор данных.\n",
    "2. Предобработка данных.\n",
    "3. Исследовательский анализ данных.\n",
    "\n",
    "**Описание данных**\n",
    "\n",
    "Датасет содержит данные сервиса Яндекс Недвижимость — архив объявлений о продаже квартир в Санкт-Петербурге и соседних населённых пунктах с 2014 по 2019 год.\n",
    "\n",
    "**Инструменты и библиотеки:**\n",
    "- Python\n",
    "- Pandas\n",
    "- Matplotlib"
   ]
  },
  {
   "cell_type": "markdown",
   "metadata": {},
   "source": [
    "## Обзор данных"
   ]
  },
  {
   "cell_type": "code",
   "execution_count": 1,
   "metadata": {},
   "outputs": [],
   "source": [
    "# импортируем библиотеку pandas\n",
    "import pandas as pd\n",
    "import matplotlib.pyplot as plt"
   ]
  },
  {
   "cell_type": "code",
   "execution_count": 2,
   "metadata": {},
   "outputs": [
    {
     "data": {
      "text/html": [
       "<div>\n",
       "<style scoped>\n",
       "    .dataframe tbody tr th:only-of-type {\n",
       "        vertical-align: middle;\n",
       "    }\n",
       "\n",
       "    .dataframe tbody tr th {\n",
       "        vertical-align: top;\n",
       "    }\n",
       "\n",
       "    .dataframe thead th {\n",
       "        text-align: right;\n",
       "    }\n",
       "</style>\n",
       "<table border=\"1\" class=\"dataframe\">\n",
       "  <thead>\n",
       "    <tr style=\"text-align: right;\">\n",
       "      <th></th>\n",
       "      <th>total_images</th>\n",
       "      <th>last_price</th>\n",
       "      <th>total_area</th>\n",
       "      <th>first_day_exposition</th>\n",
       "      <th>rooms</th>\n",
       "      <th>ceiling_height</th>\n",
       "      <th>floors_total</th>\n",
       "      <th>living_area</th>\n",
       "      <th>floor</th>\n",
       "      <th>is_apartment</th>\n",
       "      <th>studio</th>\n",
       "      <th>open_plan</th>\n",
       "      <th>kitchen_area</th>\n",
       "      <th>balcony</th>\n",
       "      <th>locality_name</th>\n",
       "      <th>airports_nearest</th>\n",
       "      <th>cityCenters_nearest</th>\n",
       "      <th>parks_around3000</th>\n",
       "      <th>parks_nearest</th>\n",
       "      <th>ponds_around3000</th>\n",
       "      <th>ponds_nearest</th>\n",
       "      <th>days_exposition</th>\n",
       "    </tr>\n",
       "  </thead>\n",
       "  <tbody>\n",
       "    <tr>\n",
       "      <th>0</th>\n",
       "      <td>20</td>\n",
       "      <td>13000000.0</td>\n",
       "      <td>108.00</td>\n",
       "      <td>2019-03-07T00:00:00</td>\n",
       "      <td>3</td>\n",
       "      <td>2.70</td>\n",
       "      <td>16.0</td>\n",
       "      <td>51.00</td>\n",
       "      <td>8</td>\n",
       "      <td>NaN</td>\n",
       "      <td>False</td>\n",
       "      <td>False</td>\n",
       "      <td>25.00</td>\n",
       "      <td>NaN</td>\n",
       "      <td>Санкт-Петербург</td>\n",
       "      <td>18863.0</td>\n",
       "      <td>16028.0</td>\n",
       "      <td>1.0</td>\n",
       "      <td>482.0</td>\n",
       "      <td>2.0</td>\n",
       "      <td>755.0</td>\n",
       "      <td>NaN</td>\n",
       "    </tr>\n",
       "    <tr>\n",
       "      <th>1</th>\n",
       "      <td>7</td>\n",
       "      <td>3350000.0</td>\n",
       "      <td>40.40</td>\n",
       "      <td>2018-12-04T00:00:00</td>\n",
       "      <td>1</td>\n",
       "      <td>NaN</td>\n",
       "      <td>11.0</td>\n",
       "      <td>18.60</td>\n",
       "      <td>1</td>\n",
       "      <td>NaN</td>\n",
       "      <td>False</td>\n",
       "      <td>False</td>\n",
       "      <td>11.00</td>\n",
       "      <td>2.0</td>\n",
       "      <td>посёлок Шушары</td>\n",
       "      <td>12817.0</td>\n",
       "      <td>18603.0</td>\n",
       "      <td>0.0</td>\n",
       "      <td>NaN</td>\n",
       "      <td>0.0</td>\n",
       "      <td>NaN</td>\n",
       "      <td>81.0</td>\n",
       "    </tr>\n",
       "    <tr>\n",
       "      <th>2</th>\n",
       "      <td>10</td>\n",
       "      <td>5196000.0</td>\n",
       "      <td>56.00</td>\n",
       "      <td>2015-08-20T00:00:00</td>\n",
       "      <td>2</td>\n",
       "      <td>NaN</td>\n",
       "      <td>5.0</td>\n",
       "      <td>34.30</td>\n",
       "      <td>4</td>\n",
       "      <td>NaN</td>\n",
       "      <td>False</td>\n",
       "      <td>False</td>\n",
       "      <td>8.30</td>\n",
       "      <td>0.0</td>\n",
       "      <td>Санкт-Петербург</td>\n",
       "      <td>21741.0</td>\n",
       "      <td>13933.0</td>\n",
       "      <td>1.0</td>\n",
       "      <td>90.0</td>\n",
       "      <td>2.0</td>\n",
       "      <td>574.0</td>\n",
       "      <td>558.0</td>\n",
       "    </tr>\n",
       "    <tr>\n",
       "      <th>3</th>\n",
       "      <td>0</td>\n",
       "      <td>64900000.0</td>\n",
       "      <td>159.00</td>\n",
       "      <td>2015-07-24T00:00:00</td>\n",
       "      <td>3</td>\n",
       "      <td>NaN</td>\n",
       "      <td>14.0</td>\n",
       "      <td>NaN</td>\n",
       "      <td>9</td>\n",
       "      <td>NaN</td>\n",
       "      <td>False</td>\n",
       "      <td>False</td>\n",
       "      <td>NaN</td>\n",
       "      <td>0.0</td>\n",
       "      <td>Санкт-Петербург</td>\n",
       "      <td>28098.0</td>\n",
       "      <td>6800.0</td>\n",
       "      <td>2.0</td>\n",
       "      <td>84.0</td>\n",
       "      <td>3.0</td>\n",
       "      <td>234.0</td>\n",
       "      <td>424.0</td>\n",
       "    </tr>\n",
       "    <tr>\n",
       "      <th>4</th>\n",
       "      <td>2</td>\n",
       "      <td>10000000.0</td>\n",
       "      <td>100.00</td>\n",
       "      <td>2018-06-19T00:00:00</td>\n",
       "      <td>2</td>\n",
       "      <td>3.03</td>\n",
       "      <td>14.0</td>\n",
       "      <td>32.00</td>\n",
       "      <td>13</td>\n",
       "      <td>NaN</td>\n",
       "      <td>False</td>\n",
       "      <td>False</td>\n",
       "      <td>41.00</td>\n",
       "      <td>NaN</td>\n",
       "      <td>Санкт-Петербург</td>\n",
       "      <td>31856.0</td>\n",
       "      <td>8098.0</td>\n",
       "      <td>2.0</td>\n",
       "      <td>112.0</td>\n",
       "      <td>1.0</td>\n",
       "      <td>48.0</td>\n",
       "      <td>121.0</td>\n",
       "    </tr>\n",
       "    <tr>\n",
       "      <th>5</th>\n",
       "      <td>10</td>\n",
       "      <td>2890000.0</td>\n",
       "      <td>30.40</td>\n",
       "      <td>2018-09-10T00:00:00</td>\n",
       "      <td>1</td>\n",
       "      <td>NaN</td>\n",
       "      <td>12.0</td>\n",
       "      <td>14.40</td>\n",
       "      <td>5</td>\n",
       "      <td>NaN</td>\n",
       "      <td>False</td>\n",
       "      <td>False</td>\n",
       "      <td>9.10</td>\n",
       "      <td>NaN</td>\n",
       "      <td>городской посёлок Янино-1</td>\n",
       "      <td>NaN</td>\n",
       "      <td>NaN</td>\n",
       "      <td>NaN</td>\n",
       "      <td>NaN</td>\n",
       "      <td>NaN</td>\n",
       "      <td>NaN</td>\n",
       "      <td>55.0</td>\n",
       "    </tr>\n",
       "    <tr>\n",
       "      <th>6</th>\n",
       "      <td>6</td>\n",
       "      <td>3700000.0</td>\n",
       "      <td>37.30</td>\n",
       "      <td>2017-11-02T00:00:00</td>\n",
       "      <td>1</td>\n",
       "      <td>NaN</td>\n",
       "      <td>26.0</td>\n",
       "      <td>10.60</td>\n",
       "      <td>6</td>\n",
       "      <td>NaN</td>\n",
       "      <td>False</td>\n",
       "      <td>False</td>\n",
       "      <td>14.40</td>\n",
       "      <td>1.0</td>\n",
       "      <td>посёлок Парголово</td>\n",
       "      <td>52996.0</td>\n",
       "      <td>19143.0</td>\n",
       "      <td>0.0</td>\n",
       "      <td>NaN</td>\n",
       "      <td>0.0</td>\n",
       "      <td>NaN</td>\n",
       "      <td>155.0</td>\n",
       "    </tr>\n",
       "    <tr>\n",
       "      <th>7</th>\n",
       "      <td>5</td>\n",
       "      <td>7915000.0</td>\n",
       "      <td>71.60</td>\n",
       "      <td>2019-04-18T00:00:00</td>\n",
       "      <td>2</td>\n",
       "      <td>NaN</td>\n",
       "      <td>24.0</td>\n",
       "      <td>NaN</td>\n",
       "      <td>22</td>\n",
       "      <td>NaN</td>\n",
       "      <td>False</td>\n",
       "      <td>False</td>\n",
       "      <td>18.90</td>\n",
       "      <td>2.0</td>\n",
       "      <td>Санкт-Петербург</td>\n",
       "      <td>23982.0</td>\n",
       "      <td>11634.0</td>\n",
       "      <td>0.0</td>\n",
       "      <td>NaN</td>\n",
       "      <td>0.0</td>\n",
       "      <td>NaN</td>\n",
       "      <td>NaN</td>\n",
       "    </tr>\n",
       "    <tr>\n",
       "      <th>8</th>\n",
       "      <td>20</td>\n",
       "      <td>2900000.0</td>\n",
       "      <td>33.16</td>\n",
       "      <td>2018-05-23T00:00:00</td>\n",
       "      <td>1</td>\n",
       "      <td>NaN</td>\n",
       "      <td>27.0</td>\n",
       "      <td>15.43</td>\n",
       "      <td>26</td>\n",
       "      <td>NaN</td>\n",
       "      <td>False</td>\n",
       "      <td>False</td>\n",
       "      <td>8.81</td>\n",
       "      <td>NaN</td>\n",
       "      <td>посёлок Мурино</td>\n",
       "      <td>NaN</td>\n",
       "      <td>NaN</td>\n",
       "      <td>NaN</td>\n",
       "      <td>NaN</td>\n",
       "      <td>NaN</td>\n",
       "      <td>NaN</td>\n",
       "      <td>189.0</td>\n",
       "    </tr>\n",
       "    <tr>\n",
       "      <th>9</th>\n",
       "      <td>18</td>\n",
       "      <td>5400000.0</td>\n",
       "      <td>61.00</td>\n",
       "      <td>2017-02-26T00:00:00</td>\n",
       "      <td>3</td>\n",
       "      <td>2.50</td>\n",
       "      <td>9.0</td>\n",
       "      <td>43.60</td>\n",
       "      <td>7</td>\n",
       "      <td>NaN</td>\n",
       "      <td>False</td>\n",
       "      <td>False</td>\n",
       "      <td>6.50</td>\n",
       "      <td>2.0</td>\n",
       "      <td>Санкт-Петербург</td>\n",
       "      <td>50898.0</td>\n",
       "      <td>15008.0</td>\n",
       "      <td>0.0</td>\n",
       "      <td>NaN</td>\n",
       "      <td>0.0</td>\n",
       "      <td>NaN</td>\n",
       "      <td>289.0</td>\n",
       "    </tr>\n",
       "  </tbody>\n",
       "</table>\n",
       "</div>"
      ],
      "text/plain": [
       "   total_images  last_price  total_area first_day_exposition  rooms  \\\n",
       "0            20  13000000.0      108.00  2019-03-07T00:00:00      3   \n",
       "1             7   3350000.0       40.40  2018-12-04T00:00:00      1   \n",
       "2            10   5196000.0       56.00  2015-08-20T00:00:00      2   \n",
       "3             0  64900000.0      159.00  2015-07-24T00:00:00      3   \n",
       "4             2  10000000.0      100.00  2018-06-19T00:00:00      2   \n",
       "5            10   2890000.0       30.40  2018-09-10T00:00:00      1   \n",
       "6             6   3700000.0       37.30  2017-11-02T00:00:00      1   \n",
       "7             5   7915000.0       71.60  2019-04-18T00:00:00      2   \n",
       "8            20   2900000.0       33.16  2018-05-23T00:00:00      1   \n",
       "9            18   5400000.0       61.00  2017-02-26T00:00:00      3   \n",
       "\n",
       "   ceiling_height  floors_total  living_area  floor is_apartment  studio  \\\n",
       "0            2.70          16.0        51.00      8          NaN   False   \n",
       "1             NaN          11.0        18.60      1          NaN   False   \n",
       "2             NaN           5.0        34.30      4          NaN   False   \n",
       "3             NaN          14.0          NaN      9          NaN   False   \n",
       "4            3.03          14.0        32.00     13          NaN   False   \n",
       "5             NaN          12.0        14.40      5          NaN   False   \n",
       "6             NaN          26.0        10.60      6          NaN   False   \n",
       "7             NaN          24.0          NaN     22          NaN   False   \n",
       "8             NaN          27.0        15.43     26          NaN   False   \n",
       "9            2.50           9.0        43.60      7          NaN   False   \n",
       "\n",
       "   open_plan  kitchen_area  balcony              locality_name  \\\n",
       "0      False         25.00      NaN            Санкт-Петербург   \n",
       "1      False         11.00      2.0             посёлок Шушары   \n",
       "2      False          8.30      0.0            Санкт-Петербург   \n",
       "3      False           NaN      0.0            Санкт-Петербург   \n",
       "4      False         41.00      NaN            Санкт-Петербург   \n",
       "5      False          9.10      NaN  городской посёлок Янино-1   \n",
       "6      False         14.40      1.0          посёлок Парголово   \n",
       "7      False         18.90      2.0            Санкт-Петербург   \n",
       "8      False          8.81      NaN             посёлок Мурино   \n",
       "9      False          6.50      2.0            Санкт-Петербург   \n",
       "\n",
       "   airports_nearest  cityCenters_nearest  parks_around3000  parks_nearest  \\\n",
       "0           18863.0              16028.0               1.0          482.0   \n",
       "1           12817.0              18603.0               0.0            NaN   \n",
       "2           21741.0              13933.0               1.0           90.0   \n",
       "3           28098.0               6800.0               2.0           84.0   \n",
       "4           31856.0               8098.0               2.0          112.0   \n",
       "5               NaN                  NaN               NaN            NaN   \n",
       "6           52996.0              19143.0               0.0            NaN   \n",
       "7           23982.0              11634.0               0.0            NaN   \n",
       "8               NaN                  NaN               NaN            NaN   \n",
       "9           50898.0              15008.0               0.0            NaN   \n",
       "\n",
       "   ponds_around3000  ponds_nearest  days_exposition  \n",
       "0               2.0          755.0              NaN  \n",
       "1               0.0            NaN             81.0  \n",
       "2               2.0          574.0            558.0  \n",
       "3               3.0          234.0            424.0  \n",
       "4               1.0           48.0            121.0  \n",
       "5               NaN            NaN             55.0  \n",
       "6               0.0            NaN            155.0  \n",
       "7               0.0            NaN              NaN  \n",
       "8               NaN            NaN            189.0  \n",
       "9               0.0            NaN            289.0  "
      ]
     },
     "execution_count": 2,
     "metadata": {},
     "output_type": "execute_result"
    }
   ],
   "source": [
    "# считываем данные из csv-файла в df и выводим первые 10 строк таблицы\n",
    "df = pd.read_csv('https://code.s3.yandex.net/datasets/real_estate_data.csv', sep='\\t')\n",
    "# для отображения всех столбцов df\n",
    "pd.set_option('display.max_columns', 50)\n",
    "df.head(10)"
   ]
  },
  {
   "cell_type": "code",
   "execution_count": 3,
   "metadata": {},
   "outputs": [
    {
     "name": "stdout",
     "output_type": "stream",
     "text": [
      "<class 'pandas.core.frame.DataFrame'>\n",
      "RangeIndex: 23699 entries, 0 to 23698\n",
      "Data columns (total 22 columns):\n",
      " #   Column                Non-Null Count  Dtype  \n",
      "---  ------                --------------  -----  \n",
      " 0   total_images          23699 non-null  int64  \n",
      " 1   last_price            23699 non-null  float64\n",
      " 2   total_area            23699 non-null  float64\n",
      " 3   first_day_exposition  23699 non-null  object \n",
      " 4   rooms                 23699 non-null  int64  \n",
      " 5   ceiling_height        14504 non-null  float64\n",
      " 6   floors_total          23613 non-null  float64\n",
      " 7   living_area           21796 non-null  float64\n",
      " 8   floor                 23699 non-null  int64  \n",
      " 9   is_apartment          2775 non-null   object \n",
      " 10  studio                23699 non-null  bool   \n",
      " 11  open_plan             23699 non-null  bool   \n",
      " 12  kitchen_area          21421 non-null  float64\n",
      " 13  balcony               12180 non-null  float64\n",
      " 14  locality_name         23650 non-null  object \n",
      " 15  airports_nearest      18157 non-null  float64\n",
      " 16  cityCenters_nearest   18180 non-null  float64\n",
      " 17  parks_around3000      18181 non-null  float64\n",
      " 18  parks_nearest         8079 non-null   float64\n",
      " 19  ponds_around3000      18181 non-null  float64\n",
      " 20  ponds_nearest         9110 non-null   float64\n",
      " 21  days_exposition       20518 non-null  float64\n",
      "dtypes: bool(2), float64(14), int64(3), object(3)\n",
      "memory usage: 3.7+ MB\n"
     ]
    }
   ],
   "source": [
    "# выведем основную информацию о датафрейме с помощью метода info()\n",
    "df.info()"
   ]
  },
  {
   "cell_type": "markdown",
   "metadata": {},
   "source": [
    "Итак, в таблице 22 столбца, 17 из которых имеют числовой тип данных.\n",
    "\n",
    "Согласно документации к данным:\n",
    "* `airports_nearest` — расстояние до ближайшего аэропорта в метрах (м)\n",
    "* `balcony` — число балконов  \n",
    "* `ceiling_height` — высота потолков (м)\n",
    "* `cityCenters_nearest` — расстояние до центра города (м)\n",
    "* `days_exposition` — сколько дней было размещено объявление (от публикации до снятия)\n",
    "* `first_day_exposition` — дата публикации\n",
    "* `floor` — этаж\n",
    "* `floors_total` — всего этажей в доме\n",
    "* `is_apartment` — апартаменты (булев тип)  \n",
    "* `kitchen_area` — площадь кухни в квадратных метрах (м²)\n",
    "* `last_price` — цена на момент снятия с публикации\n",
    "* `living_area` — жилая площадь в квадратных метрах (м²)\n",
    "* `locality_name` — название населённого пункта\n",
    "* `open_plan` — свободная планировка (булев тип)\n",
    "* `parks_around3000` — число парков в радиусе 3 км\n",
    "* `parks_nearest` — расстояние до ближайшего парка (м)\n",
    "* `ponds_around3000` — число водоёмов в радиусе 3 км  \n",
    "* `ponds_nearest` — расстояние до ближайшего водоёма (м)\n",
    "* `rooms` — число комнат\n",
    "* `studio` — квартира-студия (булев тип)\n",
    "* `total_area` — общая площадь квартиры в квадратных метрах (м²)\n",
    "* `total_images` — число фотографий квартиры в объявлении"
   ]
  },
  {
   "cell_type": "code",
   "execution_count": 4,
   "metadata": {},
   "outputs": [
    {
     "data": {
      "image/png": "[encoded data removed]",
      "text/plain": [
       "<Figure size 1080x1440 with 20 Axes>"
      ]
     },
     "metadata": {
      "needs_background": "light"
     },
     "output_type": "display_data"
    }
   ],
   "source": [
    "# построим гистограмму, чтобы получить наглядное представление о структуре данных\n",
    "df.hist(figsize=(15, 20))\n",
    "None"
   ]
  },
  {
   "cell_type": "markdown",
   "metadata": {},
   "source": [
    "**Вывод:** \n",
    "\n",
    "Основываясь на предварительном обзоре датафрейма отметим следующее:\n",
    "- Объёма данных достаточно для проверки гипотез исследования.\n",
    "- При этом количество значений в столбцах различается. Значит, в данных есть пропущенные значения. \n",
    "- В названиях колонок есть расхождения с хорошим стилем. \n",
    "\n",
    "В этой связи, для дальнейшего анализа необходима предварительная обработка."
   ]
  },
  {
   "cell_type": "markdown",
   "metadata": {},
   "source": [
    "## Предобработка данных"
   ]
  },
  {
   "cell_type": "code",
   "execution_count": 5,
   "metadata": {},
   "outputs": [
    {
     "data": {
      "text/plain": [
       "Index(['total_images', 'last_price', 'total_area', 'first_day_exposition',\n",
       "       'rooms', 'ceiling_height', 'floors_total', 'living_area', 'floor',\n",
       "       'is_apartment', 'studio', 'open_plan', 'kitchen_area', 'balcony',\n",
       "       'locality_name', 'airports_nearest', 'cityCenters_nearest',\n",
       "       'parks_around3000', 'parks_nearest', 'ponds_around3000',\n",
       "       'ponds_nearest', 'days_exposition'],\n",
       "      dtype='object')"
      ]
     },
     "execution_count": 5,
     "metadata": {},
     "output_type": "execute_result"
    }
   ],
   "source": [
    "# выведем перечень названий столбцов таблицы df\n",
    "df.columns"
   ]
  },
  {
   "cell_type": "code",
   "execution_count": 6,
   "metadata": {},
   "outputs": [],
   "source": [
    "# переименуем столбец отличающийся по стилю\n",
    "df = df.rename(columns = {'cityCenters_nearest': 'city_centers_nearest'})"
   ]
  },
  {
   "cell_type": "code",
   "execution_count": 7,
   "metadata": {},
   "outputs": [
    {
     "data": {
      "text/plain": [
       "Index(['total_images', 'last_price', 'total_area', 'first_day_exposition',\n",
       "       'rooms', 'ceiling_height', 'floors_total', 'living_area', 'floor',\n",
       "       'is_apartment', 'studio', 'open_plan', 'kitchen_area', 'balcony',\n",
       "       'locality_name', 'airports_nearest', 'city_centers_nearest',\n",
       "       'parks_around3000', 'parks_nearest', 'ponds_around3000',\n",
       "       'ponds_nearest', 'days_exposition'],\n",
       "      dtype='object')"
      ]
     },
     "execution_count": 7,
     "metadata": {},
     "output_type": "execute_result"
    }
   ],
   "source": [
    "# убедимся, что столбец соответствует единообразию\n",
    "df.columns"
   ]
  },
  {
   "cell_type": "code",
   "execution_count": 8,
   "metadata": {},
   "outputs": [
    {
     "data": {
      "text/plain": [
       "total_images                0\n",
       "last_price                  0\n",
       "total_area                  0\n",
       "first_day_exposition        0\n",
       "rooms                       0\n",
       "ceiling_height           9195\n",
       "floors_total               86\n",
       "living_area              1903\n",
       "floor                       0\n",
       "is_apartment            20924\n",
       "studio                      0\n",
       "open_plan                   0\n",
       "kitchen_area             2278\n",
       "balcony                 11519\n",
       "locality_name              49\n",
       "airports_nearest         5542\n",
       "city_centers_nearest     5519\n",
       "parks_around3000         5518\n",
       "parks_nearest           15620\n",
       "ponds_around3000         5518\n",
       "ponds_nearest           14589\n",
       "days_exposition          3181\n",
       "dtype: int64"
      ]
     },
     "execution_count": 8,
     "metadata": {},
     "output_type": "execute_result"
    }
   ],
   "source": [
    "# определим в каких столбцах есть пропуски, используя комбинацию двух методов\n",
    "df.isna().sum()"
   ]
  },
  {
   "cell_type": "markdown",
   "metadata": {},
   "source": [
    "Перед тем как приступить к обработке данных оценим долю пропущенных значений по каждому столбцу, чтобы предупредить риски возможных потерь."
   ]
  },
  {
   "cell_type": "code",
   "execution_count": 9,
   "metadata": {},
   "outputs": [
    {
     "data": {
      "text/html": [
       "<div>\n",
       "<style scoped>\n",
       "    .dataframe tbody tr th:only-of-type {\n",
       "        vertical-align: middle;\n",
       "    }\n",
       "\n",
       "    .dataframe tbody tr th {\n",
       "        vertical-align: top;\n",
       "    }\n",
       "\n",
       "    .dataframe thead th {\n",
       "        text-align: right;\n",
       "    }\n",
       "</style>\n",
       "<table border=\"1\" class=\"dataframe\">\n",
       "  <thead>\n",
       "    <tr style=\"text-align: right;\">\n",
       "      <th></th>\n",
       "      <th>Missing Percentage</th>\n",
       "    </tr>\n",
       "  </thead>\n",
       "  <tbody>\n",
       "    <tr>\n",
       "      <th>total_images</th>\n",
       "      <td>0.00</td>\n",
       "    </tr>\n",
       "    <tr>\n",
       "      <th>last_price</th>\n",
       "      <td>0.00</td>\n",
       "    </tr>\n",
       "    <tr>\n",
       "      <th>total_area</th>\n",
       "      <td>0.00</td>\n",
       "    </tr>\n",
       "    <tr>\n",
       "      <th>first_day_exposition</th>\n",
       "      <td>0.00</td>\n",
       "    </tr>\n",
       "    <tr>\n",
       "      <th>rooms</th>\n",
       "      <td>0.00</td>\n",
       "    </tr>\n",
       "    <tr>\n",
       "      <th>ceiling_height</th>\n",
       "      <td>38.80</td>\n",
       "    </tr>\n",
       "    <tr>\n",
       "      <th>floors_total</th>\n",
       "      <td>0.36</td>\n",
       "    </tr>\n",
       "    <tr>\n",
       "      <th>living_area</th>\n",
       "      <td>8.03</td>\n",
       "    </tr>\n",
       "    <tr>\n",
       "      <th>floor</th>\n",
       "      <td>0.00</td>\n",
       "    </tr>\n",
       "    <tr>\n",
       "      <th>is_apartment</th>\n",
       "      <td>88.29</td>\n",
       "    </tr>\n",
       "    <tr>\n",
       "      <th>studio</th>\n",
       "      <td>0.00</td>\n",
       "    </tr>\n",
       "    <tr>\n",
       "      <th>open_plan</th>\n",
       "      <td>0.00</td>\n",
       "    </tr>\n",
       "    <tr>\n",
       "      <th>kitchen_area</th>\n",
       "      <td>9.61</td>\n",
       "    </tr>\n",
       "    <tr>\n",
       "      <th>balcony</th>\n",
       "      <td>48.61</td>\n",
       "    </tr>\n",
       "    <tr>\n",
       "      <th>locality_name</th>\n",
       "      <td>0.21</td>\n",
       "    </tr>\n",
       "    <tr>\n",
       "      <th>airports_nearest</th>\n",
       "      <td>23.38</td>\n",
       "    </tr>\n",
       "    <tr>\n",
       "      <th>city_centers_nearest</th>\n",
       "      <td>23.29</td>\n",
       "    </tr>\n",
       "    <tr>\n",
       "      <th>parks_around3000</th>\n",
       "      <td>23.28</td>\n",
       "    </tr>\n",
       "    <tr>\n",
       "      <th>parks_nearest</th>\n",
       "      <td>65.91</td>\n",
       "    </tr>\n",
       "    <tr>\n",
       "      <th>ponds_around3000</th>\n",
       "      <td>23.28</td>\n",
       "    </tr>\n",
       "    <tr>\n",
       "      <th>ponds_nearest</th>\n",
       "      <td>61.56</td>\n",
       "    </tr>\n",
       "    <tr>\n",
       "      <th>days_exposition</th>\n",
       "      <td>13.42</td>\n",
       "    </tr>\n",
       "  </tbody>\n",
       "</table>\n",
       "</div>"
      ],
      "text/plain": [
       "                      Missing Percentage\n",
       "total_images                        0.00\n",
       "last_price                          0.00\n",
       "total_area                          0.00\n",
       "first_day_exposition                0.00\n",
       "rooms                               0.00\n",
       "ceiling_height                     38.80\n",
       "floors_total                        0.36\n",
       "living_area                         8.03\n",
       "floor                               0.00\n",
       "is_apartment                       88.29\n",
       "studio                              0.00\n",
       "open_plan                           0.00\n",
       "kitchen_area                        9.61\n",
       "balcony                            48.61\n",
       "locality_name                       0.21\n",
       "airports_nearest                   23.38\n",
       "city_centers_nearest               23.29\n",
       "parks_around3000                   23.28\n",
       "parks_nearest                      65.91\n",
       "ponds_around3000                   23.28\n",
       "ponds_nearest                      61.56\n",
       "days_exposition                    13.42"
      ]
     },
     "execution_count": 9,
     "metadata": {},
     "output_type": "execute_result"
    }
   ],
   "source": [
    "# вычислим процент пропусков для каждого столбца\n",
    "missing_percentage = (df.isnull().mean() * 100).round(2)\n",
    "\n",
    "# создадим таблицу с результатами\n",
    "missing_data_info = pd.DataFrame({'Missing Percentage': missing_percentage})\n",
    "missing_data_info"
   ]
  },
  {
   "cell_type": "markdown",
   "metadata": {},
   "source": [
    "В данных довольно много столбцов с пропущенными значениями. Вместе с тем, не все пропущенные значения могут существенно повлиять на исследование. Так, пропуски в `floors_total`, `airports_nearest`, `parks_around3000`, `parks_nearest`, `ponds_around3000`, `ponds_nearest` хотя и могут внести определенный вклад в определение стоимости объекта недвижимости, всё же в текущем анализе они не являются ключевыми, пока оставим их как есть. Аналогично поступим и с пропусками в `locality_name`, которые могли возникнуть по причине того, что продавец, размещая объявление в разделе сайта соответствующего города (квартиры в Санкт-Петербурге), не стал уточнять название населённого пункта. По той же причине могли появиться пропуски в `is_apartment`.\n",
    "\n",
    "Отсутствие значений в `balcony` говорит о том, что продавец не указал число балконов, возможно потому, что в его квартире их нет. Это предположение может быть верным и в случае с пропусками в `kitchen_area`, если тип квартиры студия. Такие пропуски заменим на число 0. \n",
    "\n",
    "На практике было бы правильно установить причину пропусков и восстановить данные. Такой возможности нет в учебном проекте. Поэтому поступим следующим образом:\n",
    "* заполним пропущенные значения явными обозначениями там, где это возможно\n",
    "* оставим пропуски там, где невозможно предложить логичной замены\n",
    "* оценим, может ли это исказить расчёты\n",
    "\n",
    "Пропуски в таблице могли возникнуть по технологическим причинам. Например, расстояние до центра, аэропорта и других объектов — эти данные автоматически получены из геосервисов. Количество парков и водоёмов также заполнялись атоматически. Возможно ошибки возникли при копировании, считывании, смене формата или во время записи данных. \n",
    "Кроме того, часть данных вносилась пользователем, поэтому нельзя исключать вероятность ошибок вызванных человеческим фактором. Так или иначе, пропущенные значения являются важным сигналом, который следует учитывать. \n",
    "\n",
    "Далее, наряду с пропусками, оценим наличие некорректных типов данных и аномальных значений по столбцам, которые вызывают вопросы."
   ]
  },
  {
   "cell_type": "code",
   "execution_count": 10,
   "metadata": {},
   "outputs": [
    {
     "data": {
      "text/plain": [
       "2.50     3515\n",
       "2.60     1646\n",
       "2.70     1574\n",
       "3.00     1112\n",
       "2.80      993\n",
       "         ... \n",
       "4.25        1\n",
       "3.39        1\n",
       "3.93        1\n",
       "10.30       1\n",
       "4.65        1\n",
       "Name: ceiling_height, Length: 183, dtype: int64"
      ]
     },
     "execution_count": 10,
     "metadata": {},
     "output_type": "execute_result"
    }
   ],
   "source": [
    "# рассмотрим столбец ceiling_height\n",
    "df['ceiling_height'].value_counts()"
   ]
  },
  {
   "cell_type": "markdown",
   "metadata": {},
   "source": [
    "Чаще всего встречаются квартиры с высотой потолков 2.5 метров и выше. Что вполне характерно для подобного типа недвижимости. Вместе с тем, в данных очевидно присутствуют аномально большие значения. Чтобы узнать разброс значений по столбцу, среднюю и медиану, используем метод describe()."
   ]
  },
  {
   "cell_type": "code",
   "execution_count": 11,
   "metadata": {
    "scrolled": true
   },
   "outputs": [
    {
     "data": {
      "text/plain": [
       "count    14504.000000\n",
       "mean         2.771499\n",
       "std          1.261056\n",
       "min          1.000000\n",
       "25%          2.520000\n",
       "50%          2.650000\n",
       "75%          2.800000\n",
       "max        100.000000\n",
       "Name: ceiling_height, dtype: float64"
      ]
     },
     "execution_count": 11,
     "metadata": {},
     "output_type": "execute_result"
    }
   ],
   "source": [
    "# используем метод describe(), чтобы узнать разброс значений по столбцу, среднюю и медиану \n",
    "df['ceiling_height'].describe()"
   ]
  },
  {
   "cell_type": "markdown",
   "metadata": {},
   "source": [
    "Mедиана от среднего значения отличается не значительно из-за обнаруженных аномалий. Поэтому пока оставим значения в столбце `ceiling_height` как есть."
   ]
  },
  {
   "cell_type": "code",
   "execution_count": 12,
   "metadata": {
    "scrolled": true
   },
   "outputs": [
    {
     "data": {
      "text/plain": [
       "count    21796.000000\n",
       "mean        34.457852\n",
       "std         22.030445\n",
       "min          2.000000\n",
       "25%         18.600000\n",
       "50%         30.000000\n",
       "75%         42.300000\n",
       "max        409.700000\n",
       "Name: living_area, dtype: float64"
      ]
     },
     "execution_count": 12,
     "metadata": {},
     "output_type": "execute_result"
    }
   ],
   "source": [
    "# рассмотрим столбец living_area\n",
    "df['living_area'].describe()"
   ]
  },
  {
   "cell_type": "markdown",
   "metadata": {},
   "source": [
    "Столбец `living_area` содержит данные о жилой площади в квадратных метрах (м²). При этом в данных очевидно слишком много знаков после запятой. Для заполнения пропущеных значений можно было бы вычислить средний показатель по выборке. Однако учитывая, что средние значения крайне чувствительны к выбросам, оставим этот столбец как есть."
   ]
  },
  {
   "cell_type": "code",
   "execution_count": 13,
   "metadata": {
    "scrolled": true
   },
   "outputs": [
    {
     "data": {
      "text/plain": [
       "False    2725\n",
       "True       50\n",
       "Name: is_apartment, dtype: int64"
      ]
     },
     "execution_count": 13,
     "metadata": {},
     "output_type": "execute_result"
    }
   ],
   "source": [
    "# оценим значения в столбце is_apartment\n",
    "df['is_apartment'].value_counts()"
   ]
  },
  {
   "cell_type": "markdown",
   "metadata": {},
   "source": [
    "Данный столбец содержит логические значения с уточнением типа недвижимости. Вероятно этот раздел появился на сайте сравнительно недавно судя по количеству пропусков. Пропущенные значения в столбце будут заменены на False как определённое значение по умолчанию."
   ]
  },
  {
   "cell_type": "code",
   "execution_count": 14,
   "metadata": {},
   "outputs": [],
   "source": [
    "# обработаем пропуски в is_apartment заменой на False\n",
    "df['is_apartment'] = df['is_apartment'].fillna(False)"
   ]
  },
  {
   "cell_type": "code",
   "execution_count": 15,
   "metadata": {},
   "outputs": [],
   "source": [
    "# заменим пустые значения в kitchen_area на 0 только в тех строках, где столбец studio имеет значение true\n",
    "# используем .loc индексатор\n",
    "df.loc[df['studio'], 'kitchen_area'] = 0"
   ]
  },
  {
   "cell_type": "code",
   "execution_count": 16,
   "metadata": {},
   "outputs": [],
   "source": [
    "# заполним пропуски в balcony числом 0 и изменим тип данных на int\n",
    "df['balcony'] = df['balcony'].fillna(0).astype('int')"
   ]
  },
  {
   "cell_type": "markdown",
   "metadata": {},
   "source": [
    "Использование целых чисел (int) или чисел с плавающей запятой (float) зависит от характера данных и задач анализа. В данном случае, изменяя тип числовых данных с 'float' на 'int', мы с одной стороны предупреждаем некорректность будущих вычислений, если по какой-то причине в столбец попали строковые значения вместо чисел, с другой — вычисление с целочисленными данными может выполняться немного быстрее, чем с данными с плавающей запятой, из-за более простых арифметических операций.\n",
    "\n",
    "Кроме того, столбец `balcony` хранит категориальные значения, поэтому для возможности выполнения последующих вычислений необходимо изменить тип данных на 'int'.\n",
    "\n",
    "Довольно странным выглядит наличие пропущенных значений в столбце `days_exposition`. Обычно в подобных ресурсах объявления автоматически снимаются с публикации по истечении определенного срока. Вероятно будет разумным удалить эти данные, если они будут искажать картину по продажам. На данном этапе, не будем принимать поспешных решений, заполним пропуски и заменим тип данных."
   ]
  },
  {
   "cell_type": "code",
   "execution_count": 17,
   "metadata": {},
   "outputs": [],
   "source": [
    "# заполним пропуски в days_exposition и изменим тип данных на int\n",
    "df['days_exposition'] = df['days_exposition'].fillna(0).astype('int')"
   ]
  },
  {
   "cell_type": "code",
   "execution_count": 18,
   "metadata": {},
   "outputs": [],
   "source": [
    "# изменим значения в столбце last_price на тип int\n",
    "df['last_price'] = df['last_price'].astype('int')"
   ]
  },
  {
   "cell_type": "markdown",
   "metadata": {},
   "source": [
    "Для дальнейшего анализа нам могут понадобиться данные столбца с датой публикации объявлений. В первоначальном виде значения в столбце имеют не корректный формат. В частности, отсутствует указание времени. Переведем значения в соответствующий формат даты. "
   ]
  },
  {
   "cell_type": "code",
   "execution_count": 19,
   "metadata": {},
   "outputs": [],
   "source": [
    "# переведем значения в формат даты без указания времени\n",
    "df['first_day_exposition'] = pd.to_datetime(df['first_day_exposition'], format = '%Y-%m-%d')"
   ]
  },
  {
   "cell_type": "code",
   "execution_count": 20,
   "metadata": {},
   "outputs": [
    {
     "data": {
      "text/plain": [
       "total_images                0\n",
       "last_price                  0\n",
       "total_area                  0\n",
       "first_day_exposition        0\n",
       "rooms                       0\n",
       "ceiling_height           9195\n",
       "floors_total               86\n",
       "living_area              1903\n",
       "floor                       0\n",
       "is_apartment                0\n",
       "studio                      0\n",
       "open_plan                   0\n",
       "kitchen_area             2129\n",
       "balcony                     0\n",
       "locality_name              49\n",
       "airports_nearest         5542\n",
       "city_centers_nearest     5519\n",
       "parks_around3000         5518\n",
       "parks_nearest           15620\n",
       "ponds_around3000         5518\n",
       "ponds_nearest           14589\n",
       "days_exposition             0\n",
       "dtype: int64"
      ]
     },
     "execution_count": 20,
     "metadata": {},
     "output_type": "execute_result"
    }
   ],
   "source": [
    "# убедимся, что мы избавились от нежелательных пропусков\n",
    "df.isna().sum()"
   ]
  },
  {
   "cell_type": "markdown",
   "metadata": {},
   "source": [
    "Далее избавимся от неявных дубликатов в колонке `locality_name`. Например, название одного и того же населённого пункта может быть записано по-разному. Такие ошибки тоже повлияют на результат исследования."
   ]
  },
  {
   "cell_type": "code",
   "execution_count": 21,
   "metadata": {},
   "outputs": [
    {
     "data": {
      "text/plain": [
       "array(['Бокситогорск', 'Волосово', 'Волхов', 'Всеволожск', 'Выборг',\n",
       "       'Высоцк', 'Гатчина', 'Зеленогорск', 'Ивангород', 'Каменногорск',\n",
       "       'Кингисепп', 'Кириши', 'Кировск', 'Колпино', 'Коммунар',\n",
       "       'Красное Село', 'Кронштадт', 'Кудрово', 'Лодейное Поле',\n",
       "       'Ломоносов', 'Луга', 'Любань', 'Мурино', 'Никольское',\n",
       "       'Новая Ладога', 'Отрадное', 'Павловск', 'Петергоф', 'Пикалёво',\n",
       "       'Подпорожье', 'Приморск', 'Приозерск', 'Пушкин', 'Санкт-Петербург',\n",
       "       'Светогорск', 'Сертолово', 'Сестрорецк', 'Сланцы', 'Сосновый Бор',\n",
       "       'Сясьстрой', 'Тихвин', 'Тосно', 'Шлиссельбург',\n",
       "       'городской поселок Большая Ижора', 'городской поселок Янино-1',\n",
       "       'городской посёлок Будогощь', 'городской посёлок Виллози',\n",
       "       'городской посёлок Лесогорский', 'городской посёлок Мга',\n",
       "       'городской посёлок Назия', 'городской посёлок Новоселье',\n",
       "       'городской посёлок Павлово', 'городской посёлок Рощино',\n",
       "       'городской посёлок Свирьстрой', 'городской посёлок Советский',\n",
       "       'городской посёлок Фёдоровское', 'городской посёлок Янино-1',\n",
       "       'деревня Агалатово', 'деревня Аро', 'деревня Батово',\n",
       "       'деревня Бегуницы', 'деревня Белогорка', 'деревня Большая Вруда',\n",
       "       'деревня Большая Пустомержа', 'деревня Большие Колпаны',\n",
       "       'деревня Большое Рейзино', 'деревня Большой Сабск', 'деревня Бор',\n",
       "       'деревня Борисова Грива', 'деревня Ваганово', 'деревня Вартемяги',\n",
       "       'деревня Вахнова Кара', 'деревня Выскатка', 'деревня Гарболово',\n",
       "       'деревня Глинка', 'деревня Горбунки', 'деревня Гостилицы',\n",
       "       'деревня Заклинье', 'деревня Заневка', 'деревня Зимитицы',\n",
       "       'деревня Извара', 'деревня Иссад', 'деревня Калитино',\n",
       "       'деревня Кальтино', 'деревня Камышовка', 'деревня Каськово',\n",
       "       'деревня Келози', 'деревня Кипень', 'деревня Кисельня',\n",
       "       'деревня Колтуши', 'деревня Коркино', 'деревня Котлы',\n",
       "       'деревня Кривко', 'деревня Кудрово', 'деревня Кузьмолово',\n",
       "       'деревня Курковицы', 'деревня Куровицы', 'деревня Куттузи',\n",
       "       'деревня Лаврики', 'деревня Лаголово', 'деревня Лампово',\n",
       "       'деревня Лесколово', 'деревня Лопухинка', 'деревня Лупполово',\n",
       "       'деревня Малая Романовка', 'деревня Малое Верево',\n",
       "       'деревня Малое Карлино', 'деревня Малые Колпаны',\n",
       "       'деревня Мануйлово', 'деревня Меньково', 'деревня Мины',\n",
       "       'деревня Мистолово', 'деревня Ненимяки', 'деревня Нижние Осельки',\n",
       "       'деревня Нижняя', 'деревня Низино', 'деревня Новое Девяткино',\n",
       "       'деревня Новолисино', 'деревня Нурма', 'деревня Оржицы',\n",
       "       'деревня Парицы', 'деревня Пельгора', 'деревня Пеники',\n",
       "       'деревня Пижма', 'деревня Пикколово', 'деревня Пудомяги',\n",
       "       'деревня Пустынка', 'деревня Пчева', 'деревня Рабитицы',\n",
       "       'деревня Разбегаево', 'деревня Раздолье', 'деревня Разметелево',\n",
       "       'деревня Рапполово', 'деревня Реброво', 'деревня Русско',\n",
       "       'деревня Сижно', 'деревня Снегирёвка', 'деревня Старая',\n",
       "       'деревня Старая Пустошь', 'деревня Старое Хинколово',\n",
       "       'деревня Старополье', 'деревня Старосиверская',\n",
       "       'деревня Старые Бегуницы', 'деревня Суоранда',\n",
       "       'деревня Сяськелево', 'деревня Тарасово', 'деревня Терпилицы',\n",
       "       'деревня Тихковицы', 'деревня Тойворово', 'деревня Торосово',\n",
       "       'деревня Торошковичи', 'деревня Трубников Бор',\n",
       "       'деревня Фалилеево', 'деревня Фёдоровское', 'деревня Хапо-Ое',\n",
       "       'деревня Хязельки', 'деревня Чудской Бор', 'деревня Шпаньково',\n",
       "       'деревня Щеглово', 'деревня Юкки', 'деревня Ялгино',\n",
       "       'деревня Яльгелево', 'деревня Ям-Тесово',\n",
       "       'коттеджный поселок Кивеннапа Север', 'коттеджный поселок Счастье',\n",
       "       'коттеджный посёлок Лесное', 'поселок Аннино', 'поселок Барышево',\n",
       "       'поселок Бугры', 'поселок Возрождение', 'поселок Войсковицы',\n",
       "       'поселок Володарское', 'поселок Гаврилово', 'поселок Гарболово',\n",
       "       'поселок Гладкое', 'поселок Глажево', 'поселок Глебычево',\n",
       "       'поселок Гончарово', 'поселок Громово', 'поселок Дружноселье',\n",
       "       'поселок Елизаветино', 'поселок Жилгородок', 'поселок Жилпосёлок',\n",
       "       'поселок Житково', 'поселок Заводской', 'поселок Запорожское',\n",
       "       'поселок Зимитицы', 'поселок Ильичёво', 'поселок Калитино',\n",
       "       'поселок Каложицы', 'поселок Кингисеппский', 'поселок Кирпичное',\n",
       "       'поселок Кобралово', 'поселок Кобринское', 'поселок Коммунары',\n",
       "       'поселок Коробицыно', 'поселок Котельский',\n",
       "       'поселок Красная Долина', 'поселок Красносельское',\n",
       "       'поселок Лесное', 'поселок Лисий Нос', 'поселок Лукаши',\n",
       "       'поселок Любань', 'поселок Мельниково', 'поселок Мичуринское',\n",
       "       'поселок Молодцово', 'поселок Мурино', 'поселок Новый Свет',\n",
       "       'поселок Новый Учхоз', 'поселок Оредеж',\n",
       "       'поселок Пансионат Зелёный Бор', 'поселок Первомайское',\n",
       "       'поселок Перово', 'поселок Петровское', 'поселок Победа',\n",
       "       'поселок Поляны', 'поселок Почап', 'поселок Починок',\n",
       "       'поселок Пушное', 'поселок Пчевжа', 'поселок Рабитицы',\n",
       "       'поселок Романовка', 'поселок Ромашки', 'поселок Рябово',\n",
       "       'поселок Севастьяново', 'поселок Селезнёво', 'поселок Сельцо',\n",
       "       'поселок Семиозерье', 'поселок Семрино', 'поселок Серебрянский',\n",
       "       'поселок Совхозный', 'поселок Старая Малукса',\n",
       "       'поселок Стеклянный', 'поселок Сумино', 'поселок Суходолье',\n",
       "       'поселок Тельмана', 'поселок Терволово', 'поселок Торковичи',\n",
       "       'поселок Тёсово-4', 'поселок Углово', 'поселок Усть-Луга',\n",
       "       'поселок Ушаки', 'поселок Цвелодубово', 'поселок Цвылёво',\n",
       "       'поселок городского типа Большая Ижора',\n",
       "       'поселок городского типа Вырица',\n",
       "       'поселок городского типа Дружная Горка',\n",
       "       'поселок городского типа Дубровка',\n",
       "       'поселок городского типа Ефимовский',\n",
       "       'поселок городского типа Кондратьево',\n",
       "       'поселок городского типа Красный Бор',\n",
       "       'поселок городского типа Кузьмоловский',\n",
       "       'поселок городского типа Лебяжье',\n",
       "       'поселок городского типа Лесогорский',\n",
       "       'поселок городского типа Назия',\n",
       "       'поселок городского типа Никольский',\n",
       "       'поселок городского типа Приладожский',\n",
       "       'поселок городского типа Рахья', 'поселок городского типа Рощино',\n",
       "       'поселок городского типа Рябово',\n",
       "       'поселок городского типа Синявино',\n",
       "       'поселок городского типа Советский',\n",
       "       'поселок городского типа Токсово',\n",
       "       'поселок городского типа Форносово',\n",
       "       'поселок городского типа имени Свердлова',\n",
       "       'поселок станции Вещево', 'поселок станции Корнево',\n",
       "       'поселок станции Лужайка', 'поселок станции Приветнинское',\n",
       "       'посёлок Александровская', 'посёлок Алексеевка', 'посёлок Аннино',\n",
       "       'посёлок Белоостров', 'посёлок Бугры', 'посёлок Возрождение',\n",
       "       'посёлок Войскорово', 'посёлок Высокоключевой',\n",
       "       'посёлок Гаврилово', 'посёлок Дзержинского', 'посёлок Жилгородок',\n",
       "       'посёлок Ильичёво', 'посёлок Кикерино', 'посёлок Кобралово',\n",
       "       'посёлок Коробицыно', 'посёлок Левашово', 'посёлок Ленинское',\n",
       "       'посёлок Лисий Нос', 'посёлок Мельниково', 'посёлок Металлострой',\n",
       "       'посёлок Мичуринское', 'посёлок Молодёжное', 'посёлок Мурино',\n",
       "       'посёлок Мыза-Ивановка', 'посёлок Новогорелово',\n",
       "       'посёлок Новый Свет', 'посёлок Пансионат Зелёный Бор',\n",
       "       'посёлок Парголово', 'посёлок Перово', 'посёлок Песочный',\n",
       "       'посёлок Петро-Славянка', 'посёлок Петровское',\n",
       "       'посёлок Платформа 69-й километр', 'посёлок Плодовое',\n",
       "       'посёлок Плоское', 'посёлок Победа', 'посёлок Поляны',\n",
       "       'посёлок Понтонный', 'посёлок Пригородный', 'посёлок Пудость',\n",
       "       'посёлок Репино', 'посёлок Ропша', 'посёлок Сапёрное',\n",
       "       'посёлок Сапёрный', 'посёлок Сосново', 'посёлок Старая Малукса',\n",
       "       'посёлок Стеклянный', 'посёлок Стрельна', 'посёлок Суйда',\n",
       "       'посёлок Сумино', 'посёлок Тельмана', 'посёлок Терволово',\n",
       "       'посёлок Торфяное', 'посёлок Усть-Ижора', 'посёлок Усть-Луга',\n",
       "       'посёлок Форт Красная Горка', 'посёлок Шугозеро', 'посёлок Шушары',\n",
       "       'посёлок Щеглово', 'посёлок городского типа Важины',\n",
       "       'посёлок городского типа Вознесенье',\n",
       "       'посёлок городского типа Вырица',\n",
       "       'посёлок городского типа Красный Бор',\n",
       "       'посёлок городского типа Кузнечное',\n",
       "       'посёлок городского типа Кузьмоловский',\n",
       "       'посёлок городского типа Лебяжье', 'посёлок городского типа Мга',\n",
       "       'посёлок городского типа Павлово',\n",
       "       'посёлок городского типа Рощино', 'посёлок городского типа Рябово',\n",
       "       'посёлок городского типа Сиверский',\n",
       "       'посёлок городского типа Тайцы', 'посёлок городского типа Токсово',\n",
       "       'посёлок городского типа Ульяновка',\n",
       "       'посёлок городского типа Форносово',\n",
       "       'посёлок городского типа имени Морозова',\n",
       "       'посёлок городского типа имени Свердлова',\n",
       "       'посёлок при железнодорожной станции Вещево',\n",
       "       'посёлок при железнодорожной станции Приветнинское',\n",
       "       'посёлок станции Громово', 'посёлок станции Свирь',\n",
       "       'садоводческое некоммерческое товарищество Лесная Поляна',\n",
       "       'садовое товарищество Новая Ропша',\n",
       "       'садовое товарищество Приладожский', 'садовое товарищество Рахья',\n",
       "       'садовое товарищество Садко', 'село Копорье', 'село Никольское',\n",
       "       'село Павлово', 'село Паша', 'село Путилово', 'село Рождествено',\n",
       "       'село Русско-Высоцкое', 'село Старая Ладога', 'село Шум', nan],\n",
       "      dtype=object)"
      ]
     },
     "execution_count": 21,
     "metadata": {},
     "output_type": "execute_result"
    }
   ],
   "source": [
    "# просмотр уникальных названий населённого пункта\n",
    "df['locality_name'].sort_values().unique()"
   ]
  },
  {
   "cell_type": "code",
   "execution_count": 22,
   "metadata": {},
   "outputs": [],
   "source": [
    "# избавимся от части дубликатов вызванных употреблением 'ё', 'е' при вводе данных\n",
    "df['locality_name'] = df['locality_name'].str.replace('ё', 'е')"
   ]
  },
  {
   "cell_type": "code",
   "execution_count": 23,
   "metadata": {},
   "outputs": [
    {
     "data": {
      "text/plain": [
       "array(['Бокситогорск', 'Волосово', 'Волхов', 'Всеволожск', 'Выборг',\n",
       "       'Высоцк', 'Гатчина', 'Зеленогорск', 'Ивангород', 'Каменногорск',\n",
       "       'Кингисепп', 'Кириши', 'Кировск', 'Колпино', 'Коммунар',\n",
       "       'Красное Село', 'Кронштадт', 'Кудрово', 'Лодейное Поле',\n",
       "       'Ломоносов', 'Луга', 'Любань', 'Мурино', 'Никольское',\n",
       "       'Новая Ладога', 'Отрадное', 'Павловск', 'Петергоф', 'Пикалево',\n",
       "       'Подпорожье', 'Приморск', 'Приозерск', 'Пушкин', 'Санкт-Петербург',\n",
       "       'Светогорск', 'Сертолово', 'Сестрорецк', 'Сланцы', 'Сосновый Бор',\n",
       "       'Сясьстрой', 'Тихвин', 'Тосно', 'Шлиссельбург',\n",
       "       'городской поселок Большая Ижора', 'городской поселок Будогощь',\n",
       "       'городской поселок Виллози', 'городской поселок Лесогорский',\n",
       "       'городской поселок Мга', 'городской поселок Назия',\n",
       "       'городской поселок Новоселье', 'городской поселок Павлово',\n",
       "       'городской поселок Рощино', 'городской поселок Свирьстрой',\n",
       "       'городской поселок Советский', 'городской поселок Федоровское',\n",
       "       'городской поселок Янино-1', 'деревня Агалатово', 'деревня Аро',\n",
       "       'деревня Батово', 'деревня Бегуницы', 'деревня Белогорка',\n",
       "       'деревня Большая Вруда', 'деревня Большая Пустомержа',\n",
       "       'деревня Большие Колпаны', 'деревня Большое Рейзино',\n",
       "       'деревня Большой Сабск', 'деревня Бор', 'деревня Борисова Грива',\n",
       "       'деревня Ваганово', 'деревня Вартемяги', 'деревня Вахнова Кара',\n",
       "       'деревня Выскатка', 'деревня Гарболово', 'деревня Глинка',\n",
       "       'деревня Горбунки', 'деревня Гостилицы', 'деревня Заклинье',\n",
       "       'деревня Заневка', 'деревня Зимитицы', 'деревня Извара',\n",
       "       'деревня Иссад', 'деревня Калитино', 'деревня Кальтино',\n",
       "       'деревня Камышовка', 'деревня Каськово', 'деревня Келози',\n",
       "       'деревня Кипень', 'деревня Кисельня', 'деревня Колтуши',\n",
       "       'деревня Коркино', 'деревня Котлы', 'деревня Кривко',\n",
       "       'деревня Кудрово', 'деревня Кузьмолово', 'деревня Курковицы',\n",
       "       'деревня Куровицы', 'деревня Куттузи', 'деревня Лаврики',\n",
       "       'деревня Лаголово', 'деревня Лампово', 'деревня Лесколово',\n",
       "       'деревня Лопухинка', 'деревня Лупполово',\n",
       "       'деревня Малая Романовка', 'деревня Малое Верево',\n",
       "       'деревня Малое Карлино', 'деревня Малые Колпаны',\n",
       "       'деревня Мануйлово', 'деревня Меньково', 'деревня Мины',\n",
       "       'деревня Мистолово', 'деревня Ненимяки', 'деревня Нижние Осельки',\n",
       "       'деревня Нижняя', 'деревня Низино', 'деревня Новое Девяткино',\n",
       "       'деревня Новолисино', 'деревня Нурма', 'деревня Оржицы',\n",
       "       'деревня Парицы', 'деревня Пельгора', 'деревня Пеники',\n",
       "       'деревня Пижма', 'деревня Пикколово', 'деревня Пудомяги',\n",
       "       'деревня Пустынка', 'деревня Пчева', 'деревня Рабитицы',\n",
       "       'деревня Разбегаево', 'деревня Раздолье', 'деревня Разметелево',\n",
       "       'деревня Рапполово', 'деревня Реброво', 'деревня Русско',\n",
       "       'деревня Сижно', 'деревня Снегиревка', 'деревня Старая',\n",
       "       'деревня Старая Пустошь', 'деревня Старое Хинколово',\n",
       "       'деревня Старополье', 'деревня Старосиверская',\n",
       "       'деревня Старые Бегуницы', 'деревня Суоранда',\n",
       "       'деревня Сяськелево', 'деревня Тарасово', 'деревня Терпилицы',\n",
       "       'деревня Тихковицы', 'деревня Тойворово', 'деревня Торосово',\n",
       "       'деревня Торошковичи', 'деревня Трубников Бор',\n",
       "       'деревня Фалилеево', 'деревня Федоровское', 'деревня Хапо-Ое',\n",
       "       'деревня Хязельки', 'деревня Чудской Бор', 'деревня Шпаньково',\n",
       "       'деревня Щеглово', 'деревня Юкки', 'деревня Ялгино',\n",
       "       'деревня Яльгелево', 'деревня Ям-Тесово',\n",
       "       'коттеджный поселок Кивеннапа Север', 'коттеджный поселок Лесное',\n",
       "       'коттеджный поселок Счастье', 'поселок Александровская',\n",
       "       'поселок Алексеевка', 'поселок Аннино', 'поселок Барышево',\n",
       "       'поселок Белоостров', 'поселок Бугры', 'поселок Возрождение',\n",
       "       'поселок Войсковицы', 'поселок Войскорово', 'поселок Володарское',\n",
       "       'поселок Высокоключевой', 'поселок Гаврилово', 'поселок Гарболово',\n",
       "       'поселок Гладкое', 'поселок Глажево', 'поселок Глебычево',\n",
       "       'поселок Гончарово', 'поселок Громово', 'поселок Дзержинского',\n",
       "       'поселок Дружноселье', 'поселок Елизаветино', 'поселок Жилгородок',\n",
       "       'поселок Жилпоселок', 'поселок Житково', 'поселок Заводской',\n",
       "       'поселок Запорожское', 'поселок Зимитицы', 'поселок Ильичево',\n",
       "       'поселок Калитино', 'поселок Каложицы', 'поселок Кикерино',\n",
       "       'поселок Кингисеппский', 'поселок Кирпичное', 'поселок Кобралово',\n",
       "       'поселок Кобринское', 'поселок Коммунары', 'поселок Коробицыно',\n",
       "       'поселок Котельский', 'поселок Красная Долина',\n",
       "       'поселок Красносельское', 'поселок Левашово', 'поселок Ленинское',\n",
       "       'поселок Лесное', 'поселок Лисий Нос', 'поселок Лукаши',\n",
       "       'поселок Любань', 'поселок Мельниково', 'поселок Металлострой',\n",
       "       'поселок Мичуринское', 'поселок Молодежное', 'поселок Молодцово',\n",
       "       'поселок Мурино', 'поселок Мыза-Ивановка', 'поселок Новогорелово',\n",
       "       'поселок Новый Свет', 'поселок Новый Учхоз', 'поселок Оредеж',\n",
       "       'поселок Пансионат Зеленый Бор', 'поселок Парголово',\n",
       "       'поселок Первомайское', 'поселок Перово', 'поселок Песочный',\n",
       "       'поселок Петро-Славянка', 'поселок Петровское',\n",
       "       'поселок Платформа 69-й километр', 'поселок Плодовое',\n",
       "       'поселок Плоское', 'поселок Победа', 'поселок Поляны',\n",
       "       'поселок Понтонный', 'поселок Почап', 'поселок Починок',\n",
       "       'поселок Пригородный', 'поселок Пудость', 'поселок Пушное',\n",
       "       'поселок Пчевжа', 'поселок Рабитицы', 'поселок Репино',\n",
       "       'поселок Романовка', 'поселок Ромашки', 'поселок Ропша',\n",
       "       'поселок Рябово', 'поселок Саперное', 'поселок Саперный',\n",
       "       'поселок Севастьяново', 'поселок Селезнево', 'поселок Сельцо',\n",
       "       'поселок Семиозерье', 'поселок Семрино', 'поселок Серебрянский',\n",
       "       'поселок Совхозный', 'поселок Сосново', 'поселок Старая Малукса',\n",
       "       'поселок Стеклянный', 'поселок Стрельна', 'поселок Суйда',\n",
       "       'поселок Сумино', 'поселок Суходолье', 'поселок Тельмана',\n",
       "       'поселок Терволово', 'поселок Тесово-4', 'поселок Торковичи',\n",
       "       'поселок Торфяное', 'поселок Углово', 'поселок Усть-Ижора',\n",
       "       'поселок Усть-Луга', 'поселок Ушаки', 'поселок Форт Красная Горка',\n",
       "       'поселок Цвелодубово', 'поселок Цвылево', 'поселок Шугозеро',\n",
       "       'поселок Шушары', 'поселок Щеглово',\n",
       "       'поселок городского типа Большая Ижора',\n",
       "       'поселок городского типа Важины',\n",
       "       'поселок городского типа Вознесенье',\n",
       "       'поселок городского типа Вырица',\n",
       "       'поселок городского типа Дружная Горка',\n",
       "       'поселок городского типа Дубровка',\n",
       "       'поселок городского типа Ефимовский',\n",
       "       'поселок городского типа Кондратьево',\n",
       "       'поселок городского типа Красный Бор',\n",
       "       'поселок городского типа Кузнечное',\n",
       "       'поселок городского типа Кузьмоловский',\n",
       "       'поселок городского типа Лебяжье',\n",
       "       'поселок городского типа Лесогорский',\n",
       "       'поселок городского типа Мга', 'поселок городского типа Назия',\n",
       "       'поселок городского типа Никольский',\n",
       "       'поселок городского типа Павлово',\n",
       "       'поселок городского типа Приладожский',\n",
       "       'поселок городского типа Рахья', 'поселок городского типа Рощино',\n",
       "       'поселок городского типа Рябово',\n",
       "       'поселок городского типа Сиверский',\n",
       "       'поселок городского типа Синявино',\n",
       "       'поселок городского типа Советский',\n",
       "       'поселок городского типа Тайцы', 'поселок городского типа Токсово',\n",
       "       'поселок городского типа Ульяновка',\n",
       "       'поселок городского типа Форносово',\n",
       "       'поселок городского типа имени Морозова',\n",
       "       'поселок городского типа имени Свердлова',\n",
       "       'поселок при железнодорожной станции Вещево',\n",
       "       'поселок при железнодорожной станции Приветнинское',\n",
       "       'поселок станции Вещево', 'поселок станции Громово',\n",
       "       'поселок станции Корнево', 'поселок станции Лужайка',\n",
       "       'поселок станции Приветнинское', 'поселок станции Свирь',\n",
       "       'садоводческое некоммерческое товарищество Лесная Поляна',\n",
       "       'садовое товарищество Новая Ропша',\n",
       "       'садовое товарищество Приладожский', 'садовое товарищество Рахья',\n",
       "       'садовое товарищество Садко', 'село Копорье', 'село Никольское',\n",
       "       'село Павлово', 'село Паша', 'село Путилово', 'село Рождествено',\n",
       "       'село Русско-Высоцкое', 'село Старая Ладога', 'село Шум', nan],\n",
       "      dtype=object)"
      ]
     },
     "execution_count": 23,
     "metadata": {},
     "output_type": "execute_result"
    }
   ],
   "source": [
    "# проверим результат\n",
    "df['locality_name'].sort_values().unique()"
   ]
  },
  {
   "cell_type": "markdown",
   "metadata": {},
   "source": [
    "Список немного сократился, но всё еще очевидно наличие дубликатов. Продолжим избавляться от неявных дубликатов названий при помощи метода replace() с параметром regex=True, который указывает, что поиск и замену следует выполнять с использованием регулярных выражений т.е., для выполнения замен без учета регистра, чтобы оно соответствовало и другим вариантам написания букв."
   ]
  },
  {
   "cell_type": "code",
   "execution_count": 24,
   "metadata": {},
   "outputs": [],
   "source": [
    "# вызовем метод replace()\n",
    "df['locality_name'] = (\n",
    "    df['locality_name']\n",
    "    .replace('городской поселок Большая Ижора', 'поселок городского типа Большая Ижора', regex=True)\n",
    ")"
   ]
  },
  {
   "cell_type": "code",
   "execution_count": 25,
   "metadata": {},
   "outputs": [],
   "source": [
    "df['locality_name'] = (\n",
    "    df['locality_name']\n",
    "    .replace('городской поселок Лесогорский', 'поселок городского типа Лесогорский', regex=True)\n",
    ")"
   ]
  },
  {
   "cell_type": "code",
   "execution_count": 26,
   "metadata": {},
   "outputs": [],
   "source": [
    "df['locality_name'] = (\n",
    "    df['locality_name']\n",
    "    .replace('городской поселок Мга', 'поселок городского типа Мга', regex=True)\n",
    ")"
   ]
  },
  {
   "cell_type": "code",
   "execution_count": 27,
   "metadata": {},
   "outputs": [],
   "source": [
    "df['locality_name'] = (\n",
    "    df['locality_name']\n",
    "    .replace('городской поселок Назия', 'поселок городского типа Назия', regex=True)\n",
    ")"
   ]
  },
  {
   "cell_type": "code",
   "execution_count": 28,
   "metadata": {},
   "outputs": [],
   "source": [
    "df['locality_name'] = (\n",
    "    df['locality_name']\n",
    "    .replace('городской поселок Павлово', 'поселок городского типа Павлово', regex=True)\n",
    ")"
   ]
  },
  {
   "cell_type": "code",
   "execution_count": 29,
   "metadata": {},
   "outputs": [],
   "source": [
    "df['locality_name'] = (\n",
    "    df['locality_name']\n",
    "    .replace('городской поселок Рощино', 'поселок городского типа Рощино', regex=True)\n",
    ")"
   ]
  },
  {
   "cell_type": "code",
   "execution_count": 30,
   "metadata": {},
   "outputs": [],
   "source": [
    "df['locality_name'] = (\n",
    "    df['locality_name']\n",
    "    .replace('городской поселок Советский', 'поселок городского типа Советский', regex=True)\n",
    ")"
   ]
  },
  {
   "cell_type": "code",
   "execution_count": 31,
   "metadata": {},
   "outputs": [],
   "source": [
    "df['locality_name'] = (\n",
    "    df['locality_name']\n",
    "    .replace('поселок Рябово', 'поселок городского типа Рябово', regex=True)\n",
    ")"
   ]
  },
  {
   "cell_type": "code",
   "execution_count": 32,
   "metadata": {},
   "outputs": [],
   "source": [
    "df['locality_name'] = (\n",
    "    df['locality_name']\n",
    "    .replace('деревня Щеглово', 'поселок Щеглово', regex=True)\n",
    ")"
   ]
  },
  {
   "cell_type": "code",
   "execution_count": 33,
   "metadata": {},
   "outputs": [],
   "source": [
    "df['locality_name'] = (\n",
    "    df['locality_name']\n",
    "    .replace('поселок при железнодорожной станции Вещево', 'поселок станции Вещево', regex=True)\n",
    ")"
   ]
  },
  {
   "cell_type": "code",
   "execution_count": 34,
   "metadata": {},
   "outputs": [],
   "source": [
    "df['locality_name'] = (\n",
    "    df['locality_name']\n",
    "    .replace('поселок при железнодорожной станции Приветнинское', 'поселок станции Приветнинское', regex=True)\n",
    ")"
   ]
  },
  {
   "cell_type": "code",
   "execution_count": 35,
   "metadata": {},
   "outputs": [
    {
     "data": {
      "text/plain": [
       "array(['Бокситогорск', 'Волосово', 'Волхов', 'Всеволожск', 'Выборг',\n",
       "       'Высоцк', 'Гатчина', 'Зеленогорск', 'Ивангород', 'Каменногорск',\n",
       "       'Кингисепп', 'Кириши', 'Кировск', 'Колпино', 'Коммунар',\n",
       "       'Красное Село', 'Кронштадт', 'Кудрово', 'Лодейное Поле',\n",
       "       'Ломоносов', 'Луга', 'Любань', 'Мурино', 'Никольское',\n",
       "       'Новая Ладога', 'Отрадное', 'Павловск', 'Петергоф', 'Пикалево',\n",
       "       'Подпорожье', 'Приморск', 'Приозерск', 'Пушкин', 'Санкт-Петербург',\n",
       "       'Светогорск', 'Сертолово', 'Сестрорецк', 'Сланцы', 'Сосновый Бор',\n",
       "       'Сясьстрой', 'Тихвин', 'Тосно', 'Шлиссельбург',\n",
       "       'городской поселок Будогощь', 'городской поселок Виллози',\n",
       "       'городской поселок Новоселье', 'городской поселок Свирьстрой',\n",
       "       'городской поселок Федоровское', 'городской поселок Янино-1',\n",
       "       'деревня Агалатово', 'деревня Аро', 'деревня Батово',\n",
       "       'деревня Бегуницы', 'деревня Белогорка', 'деревня Большая Вруда',\n",
       "       'деревня Большая Пустомержа', 'деревня Большие Колпаны',\n",
       "       'деревня Большое Рейзино', 'деревня Большой Сабск', 'деревня Бор',\n",
       "       'деревня Борисова Грива', 'деревня Ваганово', 'деревня Вартемяги',\n",
       "       'деревня Вахнова Кара', 'деревня Выскатка', 'деревня Гарболово',\n",
       "       'деревня Глинка', 'деревня Горбунки', 'деревня Гостилицы',\n",
       "       'деревня Заклинье', 'деревня Заневка', 'деревня Зимитицы',\n",
       "       'деревня Извара', 'деревня Иссад', 'деревня Калитино',\n",
       "       'деревня Кальтино', 'деревня Камышовка', 'деревня Каськово',\n",
       "       'деревня Келози', 'деревня Кипень', 'деревня Кисельня',\n",
       "       'деревня Колтуши', 'деревня Коркино', 'деревня Котлы',\n",
       "       'деревня Кривко', 'деревня Кудрово', 'деревня Кузьмолово',\n",
       "       'деревня Курковицы', 'деревня Куровицы', 'деревня Куттузи',\n",
       "       'деревня Лаврики', 'деревня Лаголово', 'деревня Лампово',\n",
       "       'деревня Лесколово', 'деревня Лопухинка', 'деревня Лупполово',\n",
       "       'деревня Малая Романовка', 'деревня Малое Верево',\n",
       "       'деревня Малое Карлино', 'деревня Малые Колпаны',\n",
       "       'деревня Мануйлово', 'деревня Меньково', 'деревня Мины',\n",
       "       'деревня Мистолово', 'деревня Ненимяки', 'деревня Нижние Осельки',\n",
       "       'деревня Нижняя', 'деревня Низино', 'деревня Новое Девяткино',\n",
       "       'деревня Новолисино', 'деревня Нурма', 'деревня Оржицы',\n",
       "       'деревня Парицы', 'деревня Пельгора', 'деревня Пеники',\n",
       "       'деревня Пижма', 'деревня Пикколово', 'деревня Пудомяги',\n",
       "       'деревня Пустынка', 'деревня Пчева', 'деревня Рабитицы',\n",
       "       'деревня Разбегаево', 'деревня Раздолье', 'деревня Разметелево',\n",
       "       'деревня Рапполово', 'деревня Реброво', 'деревня Русско',\n",
       "       'деревня Сижно', 'деревня Снегиревка', 'деревня Старая',\n",
       "       'деревня Старая Пустошь', 'деревня Старое Хинколово',\n",
       "       'деревня Старополье', 'деревня Старосиверская',\n",
       "       'деревня Старые Бегуницы', 'деревня Суоранда',\n",
       "       'деревня Сяськелево', 'деревня Тарасово', 'деревня Терпилицы',\n",
       "       'деревня Тихковицы', 'деревня Тойворово', 'деревня Торосово',\n",
       "       'деревня Торошковичи', 'деревня Трубников Бор',\n",
       "       'деревня Фалилеево', 'деревня Федоровское', 'деревня Хапо-Ое',\n",
       "       'деревня Хязельки', 'деревня Чудской Бор', 'деревня Шпаньково',\n",
       "       'деревня Юкки', 'деревня Ялгино', 'деревня Яльгелево',\n",
       "       'деревня Ям-Тесово', 'коттеджный поселок Кивеннапа Север',\n",
       "       'коттеджный поселок Лесное', 'коттеджный поселок Счастье',\n",
       "       'поселок Александровская', 'поселок Алексеевка', 'поселок Аннино',\n",
       "       'поселок Барышево', 'поселок Белоостров', 'поселок Бугры',\n",
       "       'поселок Возрождение', 'поселок Войсковицы', 'поселок Войскорово',\n",
       "       'поселок Володарское', 'поселок Высокоключевой',\n",
       "       'поселок Гаврилово', 'поселок Гарболово', 'поселок Гладкое',\n",
       "       'поселок Глажево', 'поселок Глебычево', 'поселок Гончарово',\n",
       "       'поселок Громово', 'поселок Дзержинского', 'поселок Дружноселье',\n",
       "       'поселок Елизаветино', 'поселок Жилгородок', 'поселок Жилпоселок',\n",
       "       'поселок Житково', 'поселок Заводской', 'поселок Запорожское',\n",
       "       'поселок Зимитицы', 'поселок Ильичево', 'поселок Калитино',\n",
       "       'поселок Каложицы', 'поселок Кикерино', 'поселок Кингисеппский',\n",
       "       'поселок Кирпичное', 'поселок Кобралово', 'поселок Кобринское',\n",
       "       'поселок Коммунары', 'поселок Коробицыно', 'поселок Котельский',\n",
       "       'поселок Красная Долина', 'поселок Красносельское',\n",
       "       'поселок Левашово', 'поселок Ленинское', 'поселок Лесное',\n",
       "       'поселок Лисий Нос', 'поселок Лукаши', 'поселок Любань',\n",
       "       'поселок Мельниково', 'поселок Металлострой',\n",
       "       'поселок Мичуринское', 'поселок Молодежное', 'поселок Молодцово',\n",
       "       'поселок Мурино', 'поселок Мыза-Ивановка', 'поселок Новогорелово',\n",
       "       'поселок Новый Свет', 'поселок Новый Учхоз', 'поселок Оредеж',\n",
       "       'поселок Пансионат Зеленый Бор', 'поселок Парголово',\n",
       "       'поселок Первомайское', 'поселок Перово', 'поселок Песочный',\n",
       "       'поселок Петро-Славянка', 'поселок Петровское',\n",
       "       'поселок Платформа 69-й километр', 'поселок Плодовое',\n",
       "       'поселок Плоское', 'поселок Победа', 'поселок Поляны',\n",
       "       'поселок Понтонный', 'поселок Почап', 'поселок Починок',\n",
       "       'поселок Пригородный', 'поселок Пудость', 'поселок Пушное',\n",
       "       'поселок Пчевжа', 'поселок Рабитицы', 'поселок Репино',\n",
       "       'поселок Романовка', 'поселок Ромашки', 'поселок Ропша',\n",
       "       'поселок Саперное', 'поселок Саперный', 'поселок Севастьяново',\n",
       "       'поселок Селезнево', 'поселок Сельцо', 'поселок Семиозерье',\n",
       "       'поселок Семрино', 'поселок Серебрянский', 'поселок Совхозный',\n",
       "       'поселок Сосново', 'поселок Старая Малукса', 'поселок Стеклянный',\n",
       "       'поселок Стрельна', 'поселок Суйда', 'поселок Сумино',\n",
       "       'поселок Суходолье', 'поселок Тельмана', 'поселок Терволово',\n",
       "       'поселок Тесово-4', 'поселок Торковичи', 'поселок Торфяное',\n",
       "       'поселок Углово', 'поселок Усть-Ижора', 'поселок Усть-Луга',\n",
       "       'поселок Ушаки', 'поселок Форт Красная Горка',\n",
       "       'поселок Цвелодубово', 'поселок Цвылево', 'поселок Шугозеро',\n",
       "       'поселок Шушары', 'поселок Щеглово',\n",
       "       'поселок городского типа Большая Ижора',\n",
       "       'поселок городского типа Важины',\n",
       "       'поселок городского типа Вознесенье',\n",
       "       'поселок городского типа Вырица',\n",
       "       'поселок городского типа Дружная Горка',\n",
       "       'поселок городского типа Дубровка',\n",
       "       'поселок городского типа Ефимовский',\n",
       "       'поселок городского типа Кондратьево',\n",
       "       'поселок городского типа Красный Бор',\n",
       "       'поселок городского типа Кузнечное',\n",
       "       'поселок городского типа Кузьмоловский',\n",
       "       'поселок городского типа Лебяжье',\n",
       "       'поселок городского типа Лесогорский',\n",
       "       'поселок городского типа Мга', 'поселок городского типа Назия',\n",
       "       'поселок городского типа Никольский',\n",
       "       'поселок городского типа Павлово',\n",
       "       'поселок городского типа Приладожский',\n",
       "       'поселок городского типа Рахья', 'поселок городского типа Рощино',\n",
       "       'поселок городского типа Рябово',\n",
       "       'поселок городского типа Сиверский',\n",
       "       'поселок городского типа Синявино',\n",
       "       'поселок городского типа Советский',\n",
       "       'поселок городского типа Тайцы', 'поселок городского типа Токсово',\n",
       "       'поселок городского типа Ульяновка',\n",
       "       'поселок городского типа Форносово',\n",
       "       'поселок городского типа имени Морозова',\n",
       "       'поселок городского типа имени Свердлова',\n",
       "       'поселок станции Вещево', 'поселок станции Громово',\n",
       "       'поселок станции Корнево', 'поселок станции Лужайка',\n",
       "       'поселок станции Приветнинское', 'поселок станции Свирь',\n",
       "       'садоводческое некоммерческое товарищество Лесная Поляна',\n",
       "       'садовое товарищество Новая Ропша',\n",
       "       'садовое товарищество Приладожский', 'садовое товарищество Рахья',\n",
       "       'садовое товарищество Садко', 'село Копорье', 'село Никольское',\n",
       "       'село Павлово', 'село Паша', 'село Путилово', 'село Рождествено',\n",
       "       'село Русско-Высоцкое', 'село Старая Ладога', 'село Шум', nan],\n",
       "      dtype=object)"
      ]
     },
     "execution_count": 35,
     "metadata": {},
     "output_type": "execute_result"
    }
   ],
   "source": [
    "# проверим результат\n",
    "df['locality_name'].sort_values().unique()"
   ]
  },
  {
   "cell_type": "markdown",
   "metadata": {},
   "source": [
    "Теперь список выглядит значительно лучше. Неявные дубликаты устранены. Для дальнейшего анализа понадобятся определенные значения, которые будут храниться в отдельных столбцах."
   ]
  },
  {
   "cell_type": "markdown",
   "metadata": {},
   "source": [
    "Добавим в таблицу новые столбцы со значениями, которые будем использовать при исследовании. В частности, для анализа понадобятся:\n",
    "- цена одного квадратного метра\n",
    "- день недели публикации объявления\n",
    "- месяц публикации объявления\n",
    "- год публикации объявления\n",
    "- тип этажа квартиры\n",
    "- расстояние до центра города в километрах"
   ]
  },
  {
   "cell_type": "code",
   "execution_count": 36,
   "metadata": {},
   "outputs": [],
   "source": [
    "# вычислим цену квадратного метра и округлим до двух знаков после запятой \n",
    "# добавим в таблицу новый столбец price_per_sqm\n",
    "df['price_per_sqm'] = (df['last_price'] / df['total_area']).round(2)"
   ]
  },
  {
   "cell_type": "code",
   "execution_count": 37,
   "metadata": {},
   "outputs": [],
   "source": [
    "# добавим столбец с данными о дне недели публикации объявления\n",
    "df['day_exposed'] = df['first_day_exposition'].dt.weekday"
   ]
  },
  {
   "cell_type": "code",
   "execution_count": 38,
   "metadata": {},
   "outputs": [],
   "source": [
    "# добавим столбец с данными о месяце публикации объявления\n",
    "df['month_exposed'] = df['first_day_exposition'].dt.month"
   ]
  },
  {
   "cell_type": "code",
   "execution_count": 39,
   "metadata": {
    "scrolled": true
   },
   "outputs": [],
   "source": [
    "# добавим столбец с данными о годе публикации объявления\n",
    "df['year_exposed'] = df['first_day_exposition'].dt.year"
   ]
  },
  {
   "cell_type": "markdown",
   "metadata": {},
   "source": [
    "Создадим собственную функцию categorize_floor(), которая назначает тип этажа квартиры в зависимости от указанных данных в столбцах `floor` и `floors_total`. Создадим отдельный столбец в ячейках которого будут записаны возвращаемые функцией значения."
   ]
  },
  {
   "cell_type": "code",
   "execution_count": 40,
   "metadata": {},
   "outputs": [],
   "source": [
    "# определим функцию categorize_floor(), используя конструкцию try - except для обработки исключений\n",
    "def categorize_floor(row):\n",
    "    try:\n",
    "        if row['floor'] == 1:\n",
    "            return 'первый'\n",
    "        elif row['floor'] == row['floors_total']:\n",
    "            return 'последний'\n",
    "        else:\n",
    "            return 'другой'\n",
    "    except:\n",
    "        pass"
   ]
  },
  {
   "cell_type": "code",
   "execution_count": 41,
   "metadata": {},
   "outputs": [],
   "source": [
    "# применим функцию к каждой строке, используя apply(axis=1)\n",
    "df['floor_category'] = df.apply(categorize_floor, axis=1)"
   ]
  },
  {
   "cell_type": "code",
   "execution_count": 42,
   "metadata": {},
   "outputs": [],
   "source": [
    "# создадим новый столбец 'distance_to_center_km' с данными о расстоянии до центра города в км\n",
    "# назначим переменную с коэффициентом пересчета как 1/1000\n",
    "meters_to_kilometers = 1 / 1000\n",
    "\n",
    "# применим конвертацию и округление к столбцу 'city_centers_nearest'\n",
    "df['distance_to_center_km'] = (df['city_centers_nearest'] * meters_to_kilometers).round()"
   ]
  },
  {
   "cell_type": "code",
   "execution_count": 43,
   "metadata": {},
   "outputs": [
    {
     "data": {
      "text/plain": [
       "Index(['total_images', 'last_price', 'total_area', 'first_day_exposition',\n",
       "       'rooms', 'ceiling_height', 'floors_total', 'living_area', 'floor',\n",
       "       'is_apartment', 'studio', 'open_plan', 'kitchen_area', 'balcony',\n",
       "       'locality_name', 'airports_nearest', 'city_centers_nearest',\n",
       "       'parks_around3000', 'parks_nearest', 'ponds_around3000',\n",
       "       'ponds_nearest', 'days_exposition', 'price_per_sqm', 'day_exposed',\n",
       "       'month_exposed', 'year_exposed', 'floor_category',\n",
       "       'distance_to_center_km'],\n",
       "      dtype='object')"
      ]
     },
     "execution_count": 43,
     "metadata": {},
     "output_type": "execute_result"
    }
   ],
   "source": [
    "# убедимся, что новые столбцы есть в датафрейме\n",
    "df.columns"
   ]
  },
  {
   "cell_type": "markdown",
   "metadata": {},
   "source": [
    "**Вывод:**\n",
    "\n",
    "На предварительном этапе мы изучили основную информацию о датафрейме, определили количество и тип данных в таблице, обработали аномальные значения и пропуски, изменили тип значений в некоторых столбцах, избавились от дубликатов и убедились, что все данные отображаются корректно. \n",
    "\n",
    "Кроме того, мы добавили в таблицу новые столбцы с параметрами необходимыми для дальнейшего ислледования, а также определили функцию `categorize_floor()`, которая позволила объединить данные столбца 'floor' в категории, чтобы численности типов этажа недвижимости было достаточно для формулировки выводов.\n",
    "\n",
    "В таком виде данные готовы к более подробному исследовательскому анализу.\n",
    "\n",
    "Оценка рыночной стоимости объектов недвижимости в данном исследовании будет исходить из наблюдаемых зависимостей цены от таких параметров как: *общая площадь, жилая площадь, площадь кухни, цена объекта, количество комнат, высота потолков, тип этажа квартиры, общее количество этажей в доме, расстояние до центра города в метрах, расстояние до ближайшего парка*. Это позволит сформулировать наиболее достоверные выводы, которые будут учтены при построении автоматизированной системы для отслеживания аномалий и мошеннической деятельности."
   ]
  },
  {
   "cell_type": "markdown",
   "metadata": {},
   "source": [
    "## Исследовательский анализ данных"
   ]
  },
  {
   "cell_type": "markdown",
   "metadata": {},
   "source": [
    "Изучим параметры на предмет корректности значений, чтобы свести к минимуму вероятность ошибок в формате и искажение данных. Построим отдельные гистограммы по каждому параметру, чтобы оценить как часто в наборе данных встречается то или иное значение."
   ]
  },
  {
   "cell_type": "code",
   "execution_count": 44,
   "metadata": {},
   "outputs": [
    {
     "data": {
      "text/plain": [
       "count    23699.000000\n",
       "mean        60.348651\n",
       "std         35.654083\n",
       "min         12.000000\n",
       "25%         40.000000\n",
       "50%         52.000000\n",
       "75%         69.900000\n",
       "max        900.000000\n",
       "Name: total_area, dtype: float64"
      ]
     },
     "execution_count": 44,
     "metadata": {},
     "output_type": "execute_result"
    },
    {
     "data": {
      "image/png": "[encoded data removed]",
      "text/plain": [
       "<Figure size 360x216 with 1 Axes>"
      ]
     },
     "metadata": {
      "needs_background": "light"
     },
     "output_type": "display_data"
    }
   ],
   "source": [
    "# рассмотрим значения по столбцу 'общая площадь'\n",
    "df.plot(y='total_area', kind='hist', bins=100, grid=True, figsize=(5, 3), range=(0, 500))\n",
    "df['total_area'].describe()"
   ]
  },
  {
   "cell_type": "markdown",
   "metadata": {},
   "source": [
    "Заметные на гистограмме нюансы распределения также отражены и в числовом описании данных. \n",
    "- Общая площадь недвижимости в выборке находится в пределах 12 м² (min) и 900 м² (max). \n",
    "- Средний показатель составляет 60 м², а медиана 52 м². \n",
    "- В целом форма графика показывает, что крайние значения встречаются довольно редко. Есть выбросы, при этом они не сильно влияют на общую картину."
   ]
  },
  {
   "cell_type": "code",
   "execution_count": 45,
   "metadata": {},
   "outputs": [
    {
     "data": {
      "text/plain": [
       "count    21796.000000\n",
       "mean        34.457852\n",
       "std         22.030445\n",
       "min          2.000000\n",
       "25%         18.600000\n",
       "50%         30.000000\n",
       "75%         42.300000\n",
       "max        409.700000\n",
       "Name: living_area, dtype: float64"
      ]
     },
     "execution_count": 45,
     "metadata": {},
     "output_type": "execute_result"
    },
    {
     "data": {
      "image/png": "[encoded data removed]",
      "text/plain": [
       "<Figure size 360x216 with 1 Axes>"
      ]
     },
     "metadata": {
      "needs_background": "light"
     },
     "output_type": "display_data"
    }
   ],
   "source": [
    "# оценим данные по столбцу 'жилая площадь' \n",
    "df.plot(y='living_area', kind='hist', bins=100, grid=True, figsize=(5, 3), range=(0, 300))\n",
    "df['living_area'].describe()"
   ]
  },
  {
   "cell_type": "markdown",
   "metadata": {},
   "source": [
    "На гистограмме отчетливо выделяются два высоких пика около 20 и 30. По-видимому, наиболее часто продавцы квартир указывают размеры жилой площади примерно 20 и 30 м². Кроме того, в числовом описании данных минимальная жилая площадь равняется двум, а максимальная 409.7. Эти значения могут иметь аномальную природу."
   ]
  },
  {
   "cell_type": "code",
   "execution_count": 46,
   "metadata": {},
   "outputs": [
    {
     "data": {
      "text/html": [
       "<div>\n",
       "<style scoped>\n",
       "    .dataframe tbody tr th:only-of-type {\n",
       "        vertical-align: middle;\n",
       "    }\n",
       "\n",
       "    .dataframe tbody tr th {\n",
       "        vertical-align: top;\n",
       "    }\n",
       "\n",
       "    .dataframe thead th {\n",
       "        text-align: right;\n",
       "    }\n",
       "</style>\n",
       "<table border=\"1\" class=\"dataframe\">\n",
       "  <thead>\n",
       "    <tr style=\"text-align: right;\">\n",
       "      <th></th>\n",
       "      <th>total_images</th>\n",
       "      <th>last_price</th>\n",
       "      <th>total_area</th>\n",
       "      <th>first_day_exposition</th>\n",
       "      <th>rooms</th>\n",
       "      <th>ceiling_height</th>\n",
       "      <th>floors_total</th>\n",
       "      <th>living_area</th>\n",
       "      <th>floor</th>\n",
       "      <th>is_apartment</th>\n",
       "      <th>studio</th>\n",
       "      <th>open_plan</th>\n",
       "      <th>kitchen_area</th>\n",
       "      <th>balcony</th>\n",
       "      <th>locality_name</th>\n",
       "      <th>airports_nearest</th>\n",
       "      <th>city_centers_nearest</th>\n",
       "      <th>parks_around3000</th>\n",
       "      <th>parks_nearest</th>\n",
       "      <th>ponds_around3000</th>\n",
       "      <th>ponds_nearest</th>\n",
       "      <th>days_exposition</th>\n",
       "      <th>price_per_sqm</th>\n",
       "      <th>day_exposed</th>\n",
       "      <th>month_exposed</th>\n",
       "      <th>year_exposed</th>\n",
       "      <th>floor_category</th>\n",
       "      <th>distance_to_center_km</th>\n",
       "    </tr>\n",
       "  </thead>\n",
       "  <tbody>\n",
       "    <tr>\n",
       "      <th>21758</th>\n",
       "      <td>0</td>\n",
       "      <td>2330000</td>\n",
       "      <td>23.0</td>\n",
       "      <td>2018-01-01</td>\n",
       "      <td>0</td>\n",
       "      <td>NaN</td>\n",
       "      <td>24.0</td>\n",
       "      <td>2.0</td>\n",
       "      <td>22</td>\n",
       "      <td>False</td>\n",
       "      <td>True</td>\n",
       "      <td>False</td>\n",
       "      <td>0.0</td>\n",
       "      <td>0</td>\n",
       "      <td>поселок Мурино</td>\n",
       "      <td>NaN</td>\n",
       "      <td>NaN</td>\n",
       "      <td>NaN</td>\n",
       "      <td>NaN</td>\n",
       "      <td>NaN</td>\n",
       "      <td>NaN</td>\n",
       "      <td>66</td>\n",
       "      <td>101304.35</td>\n",
       "      <td>0</td>\n",
       "      <td>1</td>\n",
       "      <td>2018</td>\n",
       "      <td>другой</td>\n",
       "      <td>NaN</td>\n",
       "    </tr>\n",
       "    <tr>\n",
       "      <th>13915</th>\n",
       "      <td>20</td>\n",
       "      <td>6350000</td>\n",
       "      <td>52.0</td>\n",
       "      <td>2018-02-06</td>\n",
       "      <td>2</td>\n",
       "      <td>3.0</td>\n",
       "      <td>6.0</td>\n",
       "      <td>2.0</td>\n",
       "      <td>2</td>\n",
       "      <td>False</td>\n",
       "      <td>False</td>\n",
       "      <td>False</td>\n",
       "      <td>9.0</td>\n",
       "      <td>0</td>\n",
       "      <td>Санкт-Петербург</td>\n",
       "      <td>32453.0</td>\n",
       "      <td>6521.0</td>\n",
       "      <td>0.0</td>\n",
       "      <td>NaN</td>\n",
       "      <td>1.0</td>\n",
       "      <td>1012.0</td>\n",
       "      <td>91</td>\n",
       "      <td>122115.38</td>\n",
       "      <td>1</td>\n",
       "      <td>2</td>\n",
       "      <td>2018</td>\n",
       "      <td>другой</td>\n",
       "      <td>7.0</td>\n",
       "    </tr>\n",
       "    <tr>\n",
       "      <th>23574</th>\n",
       "      <td>14</td>\n",
       "      <td>64990000</td>\n",
       "      <td>139.0</td>\n",
       "      <td>2015-11-24</td>\n",
       "      <td>3</td>\n",
       "      <td>3.0</td>\n",
       "      <td>8.0</td>\n",
       "      <td>3.0</td>\n",
       "      <td>8</td>\n",
       "      <td>False</td>\n",
       "      <td>False</td>\n",
       "      <td>False</td>\n",
       "      <td>16.0</td>\n",
       "      <td>1</td>\n",
       "      <td>Санкт-Петербург</td>\n",
       "      <td>33255.0</td>\n",
       "      <td>5975.0</td>\n",
       "      <td>1.0</td>\n",
       "      <td>630.0</td>\n",
       "      <td>3.0</td>\n",
       "      <td>100.0</td>\n",
       "      <td>280</td>\n",
       "      <td>467553.96</td>\n",
       "      <td>1</td>\n",
       "      <td>11</td>\n",
       "      <td>2015</td>\n",
       "      <td>последний</td>\n",
       "      <td>6.0</td>\n",
       "    </tr>\n",
       "    <tr>\n",
       "      <th>3242</th>\n",
       "      <td>7</td>\n",
       "      <td>4440000</td>\n",
       "      <td>41.0</td>\n",
       "      <td>2017-07-02</td>\n",
       "      <td>1</td>\n",
       "      <td>NaN</td>\n",
       "      <td>17.0</td>\n",
       "      <td>3.0</td>\n",
       "      <td>17</td>\n",
       "      <td>False</td>\n",
       "      <td>False</td>\n",
       "      <td>False</td>\n",
       "      <td>11.0</td>\n",
       "      <td>0</td>\n",
       "      <td>Санкт-Петербург</td>\n",
       "      <td>19272.0</td>\n",
       "      <td>13073.0</td>\n",
       "      <td>0.0</td>\n",
       "      <td>NaN</td>\n",
       "      <td>0.0</td>\n",
       "      <td>NaN</td>\n",
       "      <td>216</td>\n",
       "      <td>108292.68</td>\n",
       "      <td>6</td>\n",
       "      <td>7</td>\n",
       "      <td>2017</td>\n",
       "      <td>последний</td>\n",
       "      <td>13.0</td>\n",
       "    </tr>\n",
       "    <tr>\n",
       "      <th>17582</th>\n",
       "      <td>11</td>\n",
       "      <td>2680000</td>\n",
       "      <td>22.0</td>\n",
       "      <td>2018-08-11</td>\n",
       "      <td>0</td>\n",
       "      <td>NaN</td>\n",
       "      <td>25.0</td>\n",
       "      <td>5.0</td>\n",
       "      <td>8</td>\n",
       "      <td>False</td>\n",
       "      <td>True</td>\n",
       "      <td>False</td>\n",
       "      <td>0.0</td>\n",
       "      <td>2</td>\n",
       "      <td>Санкт-Петербург</td>\n",
       "      <td>22735.0</td>\n",
       "      <td>11618.0</td>\n",
       "      <td>1.0</td>\n",
       "      <td>835.0</td>\n",
       "      <td>1.0</td>\n",
       "      <td>652.0</td>\n",
       "      <td>70</td>\n",
       "      <td>121818.18</td>\n",
       "      <td>5</td>\n",
       "      <td>8</td>\n",
       "      <td>2018</td>\n",
       "      <td>другой</td>\n",
       "      <td>12.0</td>\n",
       "    </tr>\n",
       "    <tr>\n",
       "      <th>21943</th>\n",
       "      <td>15</td>\n",
       "      <td>6100000</td>\n",
       "      <td>77.6</td>\n",
       "      <td>2019-02-28</td>\n",
       "      <td>4</td>\n",
       "      <td>2.5</td>\n",
       "      <td>9.0</td>\n",
       "      <td>5.4</td>\n",
       "      <td>1</td>\n",
       "      <td>False</td>\n",
       "      <td>False</td>\n",
       "      <td>False</td>\n",
       "      <td>9.8</td>\n",
       "      <td>0</td>\n",
       "      <td>Санкт-Петербург</td>\n",
       "      <td>29338.0</td>\n",
       "      <td>11270.0</td>\n",
       "      <td>1.0</td>\n",
       "      <td>584.0</td>\n",
       "      <td>0.0</td>\n",
       "      <td>NaN</td>\n",
       "      <td>33</td>\n",
       "      <td>78608.25</td>\n",
       "      <td>3</td>\n",
       "      <td>2</td>\n",
       "      <td>2019</td>\n",
       "      <td>первый</td>\n",
       "      <td>11.0</td>\n",
       "    </tr>\n",
       "    <tr>\n",
       "      <th>16431</th>\n",
       "      <td>13</td>\n",
       "      <td>3799000</td>\n",
       "      <td>31.0</td>\n",
       "      <td>2018-04-12</td>\n",
       "      <td>1</td>\n",
       "      <td>2.6</td>\n",
       "      <td>5.0</td>\n",
       "      <td>6.0</td>\n",
       "      <td>1</td>\n",
       "      <td>False</td>\n",
       "      <td>False</td>\n",
       "      <td>False</td>\n",
       "      <td>17.0</td>\n",
       "      <td>0</td>\n",
       "      <td>Санкт-Петербург</td>\n",
       "      <td>32177.0</td>\n",
       "      <td>4826.0</td>\n",
       "      <td>1.0</td>\n",
       "      <td>430.0</td>\n",
       "      <td>0.0</td>\n",
       "      <td>NaN</td>\n",
       "      <td>168</td>\n",
       "      <td>122548.39</td>\n",
       "      <td>3</td>\n",
       "      <td>4</td>\n",
       "      <td>2018</td>\n",
       "      <td>первый</td>\n",
       "      <td>5.0</td>\n",
       "    </tr>\n",
       "    <tr>\n",
       "      <th>19251</th>\n",
       "      <td>19</td>\n",
       "      <td>4050000</td>\n",
       "      <td>33.0</td>\n",
       "      <td>2018-10-15</td>\n",
       "      <td>1</td>\n",
       "      <td>2.5</td>\n",
       "      <td>22.0</td>\n",
       "      <td>6.5</td>\n",
       "      <td>21</td>\n",
       "      <td>False</td>\n",
       "      <td>False</td>\n",
       "      <td>False</td>\n",
       "      <td>18.0</td>\n",
       "      <td>0</td>\n",
       "      <td>Санкт-Петербург</td>\n",
       "      <td>9258.0</td>\n",
       "      <td>10592.0</td>\n",
       "      <td>1.0</td>\n",
       "      <td>458.0</td>\n",
       "      <td>0.0</td>\n",
       "      <td>NaN</td>\n",
       "      <td>44</td>\n",
       "      <td>122727.27</td>\n",
       "      <td>0</td>\n",
       "      <td>10</td>\n",
       "      <td>2018</td>\n",
       "      <td>другой</td>\n",
       "      <td>11.0</td>\n",
       "    </tr>\n",
       "    <tr>\n",
       "      <th>20994</th>\n",
       "      <td>7</td>\n",
       "      <td>8900000</td>\n",
       "      <td>50.6</td>\n",
       "      <td>2018-10-22</td>\n",
       "      <td>2</td>\n",
       "      <td>2.5</td>\n",
       "      <td>7.0</td>\n",
       "      <td>8.0</td>\n",
       "      <td>3</td>\n",
       "      <td>False</td>\n",
       "      <td>False</td>\n",
       "      <td>False</td>\n",
       "      <td>31.0</td>\n",
       "      <td>0</td>\n",
       "      <td>Санкт-Петербург</td>\n",
       "      <td>12771.0</td>\n",
       "      <td>8301.0</td>\n",
       "      <td>1.0</td>\n",
       "      <td>173.0</td>\n",
       "      <td>3.0</td>\n",
       "      <td>126.0</td>\n",
       "      <td>0</td>\n",
       "      <td>175889.33</td>\n",
       "      <td>0</td>\n",
       "      <td>10</td>\n",
       "      <td>2018</td>\n",
       "      <td>другой</td>\n",
       "      <td>8.0</td>\n",
       "    </tr>\n",
       "    <tr>\n",
       "      <th>23208</th>\n",
       "      <td>12</td>\n",
       "      <td>4800000</td>\n",
       "      <td>37.0</td>\n",
       "      <td>2016-02-24</td>\n",
       "      <td>1</td>\n",
       "      <td>NaN</td>\n",
       "      <td>14.0</td>\n",
       "      <td>8.0</td>\n",
       "      <td>11</td>\n",
       "      <td>False</td>\n",
       "      <td>False</td>\n",
       "      <td>False</td>\n",
       "      <td>22.0</td>\n",
       "      <td>0</td>\n",
       "      <td>Санкт-Петербург</td>\n",
       "      <td>27838.0</td>\n",
       "      <td>12387.0</td>\n",
       "      <td>2.0</td>\n",
       "      <td>358.0</td>\n",
       "      <td>1.0</td>\n",
       "      <td>950.0</td>\n",
       "      <td>139</td>\n",
       "      <td>129729.73</td>\n",
       "      <td>2</td>\n",
       "      <td>2</td>\n",
       "      <td>2016</td>\n",
       "      <td>другой</td>\n",
       "      <td>12.0</td>\n",
       "    </tr>\n",
       "  </tbody>\n",
       "</table>\n",
       "</div>"
      ],
      "text/plain": [
       "       total_images  last_price  total_area first_day_exposition  rooms  \\\n",
       "21758             0     2330000        23.0           2018-01-01      0   \n",
       "13915            20     6350000        52.0           2018-02-06      2   \n",
       "23574            14    64990000       139.0           2015-11-24      3   \n",
       "3242              7     4440000        41.0           2017-07-02      1   \n",
       "17582            11     2680000        22.0           2018-08-11      0   \n",
       "21943            15     6100000        77.6           2019-02-28      4   \n",
       "16431            13     3799000        31.0           2018-04-12      1   \n",
       "19251            19     4050000        33.0           2018-10-15      1   \n",
       "20994             7     8900000        50.6           2018-10-22      2   \n",
       "23208            12     4800000        37.0           2016-02-24      1   \n",
       "\n",
       "       ceiling_height  floors_total  living_area  floor  is_apartment  studio  \\\n",
       "21758             NaN          24.0          2.0     22         False    True   \n",
       "13915             3.0           6.0          2.0      2         False   False   \n",
       "23574             3.0           8.0          3.0      8         False   False   \n",
       "3242              NaN          17.0          3.0     17         False   False   \n",
       "17582             NaN          25.0          5.0      8         False    True   \n",
       "21943             2.5           9.0          5.4      1         False   False   \n",
       "16431             2.6           5.0          6.0      1         False   False   \n",
       "19251             2.5          22.0          6.5     21         False   False   \n",
       "20994             2.5           7.0          8.0      3         False   False   \n",
       "23208             NaN          14.0          8.0     11         False   False   \n",
       "\n",
       "       open_plan  kitchen_area  balcony    locality_name  airports_nearest  \\\n",
       "21758      False           0.0        0   поселок Мурино               NaN   \n",
       "13915      False           9.0        0  Санкт-Петербург           32453.0   \n",
       "23574      False          16.0        1  Санкт-Петербург           33255.0   \n",
       "3242       False          11.0        0  Санкт-Петербург           19272.0   \n",
       "17582      False           0.0        2  Санкт-Петербург           22735.0   \n",
       "21943      False           9.8        0  Санкт-Петербург           29338.0   \n",
       "16431      False          17.0        0  Санкт-Петербург           32177.0   \n",
       "19251      False          18.0        0  Санкт-Петербург            9258.0   \n",
       "20994      False          31.0        0  Санкт-Петербург           12771.0   \n",
       "23208      False          22.0        0  Санкт-Петербург           27838.0   \n",
       "\n",
       "       city_centers_nearest  parks_around3000  parks_nearest  \\\n",
       "21758                   NaN               NaN            NaN   \n",
       "13915                6521.0               0.0            NaN   \n",
       "23574                5975.0               1.0          630.0   \n",
       "3242                13073.0               0.0            NaN   \n",
       "17582               11618.0               1.0          835.0   \n",
       "21943               11270.0               1.0          584.0   \n",
       "16431                4826.0               1.0          430.0   \n",
       "19251               10592.0               1.0          458.0   \n",
       "20994                8301.0               1.0          173.0   \n",
       "23208               12387.0               2.0          358.0   \n",
       "\n",
       "       ponds_around3000  ponds_nearest  days_exposition  price_per_sqm  \\\n",
       "21758               NaN            NaN               66      101304.35   \n",
       "13915               1.0         1012.0               91      122115.38   \n",
       "23574               3.0          100.0              280      467553.96   \n",
       "3242                0.0            NaN              216      108292.68   \n",
       "17582               1.0          652.0               70      121818.18   \n",
       "21943               0.0            NaN               33       78608.25   \n",
       "16431               0.0            NaN              168      122548.39   \n",
       "19251               0.0            NaN               44      122727.27   \n",
       "20994               3.0          126.0                0      175889.33   \n",
       "23208               1.0          950.0              139      129729.73   \n",
       "\n",
       "       day_exposed  month_exposed  year_exposed floor_category  \\\n",
       "21758            0              1          2018         другой   \n",
       "13915            1              2          2018         другой   \n",
       "23574            1             11          2015      последний   \n",
       "3242             6              7          2017      последний   \n",
       "17582            5              8          2018         другой   \n",
       "21943            3              2          2019         первый   \n",
       "16431            3              4          2018         первый   \n",
       "19251            0             10          2018         другой   \n",
       "20994            0             10          2018         другой   \n",
       "23208            2              2          2016         другой   \n",
       "\n",
       "       distance_to_center_km  \n",
       "21758                    NaN  \n",
       "13915                    7.0  \n",
       "23574                    6.0  \n",
       "3242                    13.0  \n",
       "17582                   12.0  \n",
       "21943                   11.0  \n",
       "16431                    5.0  \n",
       "19251                   11.0  \n",
       "20994                    8.0  \n",
       "23208                   12.0  "
      ]
     },
     "execution_count": 46,
     "metadata": {},
     "output_type": "execute_result"
    }
   ],
   "source": [
    "# рассмотрим квартиры с минимальными значениями в столбце \n",
    "# отсортируем таблицу по возрастанию и выведем первые 10 строк\n",
    "df.sort_values('living_area').head(10)"
   ]
  },
  {
   "cell_type": "code",
   "execution_count": 47,
   "metadata": {},
   "outputs": [
    {
     "data": {
      "text/html": [
       "<div>\n",
       "<style scoped>\n",
       "    .dataframe tbody tr th:only-of-type {\n",
       "        vertical-align: middle;\n",
       "    }\n",
       "\n",
       "    .dataframe tbody tr th {\n",
       "        vertical-align: top;\n",
       "    }\n",
       "\n",
       "    .dataframe thead th {\n",
       "        text-align: right;\n",
       "    }\n",
       "</style>\n",
       "<table border=\"1\" class=\"dataframe\">\n",
       "  <thead>\n",
       "    <tr style=\"text-align: right;\">\n",
       "      <th></th>\n",
       "      <th>total_images</th>\n",
       "      <th>last_price</th>\n",
       "      <th>total_area</th>\n",
       "      <th>first_day_exposition</th>\n",
       "      <th>rooms</th>\n",
       "      <th>ceiling_height</th>\n",
       "      <th>floors_total</th>\n",
       "      <th>living_area</th>\n",
       "      <th>floor</th>\n",
       "      <th>is_apartment</th>\n",
       "      <th>studio</th>\n",
       "      <th>open_plan</th>\n",
       "      <th>kitchen_area</th>\n",
       "      <th>balcony</th>\n",
       "      <th>locality_name</th>\n",
       "      <th>airports_nearest</th>\n",
       "      <th>city_centers_nearest</th>\n",
       "      <th>parks_around3000</th>\n",
       "      <th>parks_nearest</th>\n",
       "      <th>ponds_around3000</th>\n",
       "      <th>ponds_nearest</th>\n",
       "      <th>days_exposition</th>\n",
       "      <th>price_per_sqm</th>\n",
       "      <th>day_exposed</th>\n",
       "      <th>month_exposed</th>\n",
       "      <th>year_exposed</th>\n",
       "      <th>floor_category</th>\n",
       "      <th>distance_to_center_km</th>\n",
       "    </tr>\n",
       "  </thead>\n",
       "  <tbody>\n",
       "    <tr>\n",
       "      <th>19540</th>\n",
       "      <td>8</td>\n",
       "      <td>420000000</td>\n",
       "      <td>900.0</td>\n",
       "      <td>2017-12-06</td>\n",
       "      <td>12</td>\n",
       "      <td>2.80</td>\n",
       "      <td>25.0</td>\n",
       "      <td>409.7</td>\n",
       "      <td>25</td>\n",
       "      <td>False</td>\n",
       "      <td>False</td>\n",
       "      <td>False</td>\n",
       "      <td>112.0</td>\n",
       "      <td>0</td>\n",
       "      <td>Санкт-Петербург</td>\n",
       "      <td>30706.0</td>\n",
       "      <td>7877.0</td>\n",
       "      <td>0.0</td>\n",
       "      <td>NaN</td>\n",
       "      <td>2.0</td>\n",
       "      <td>318.0</td>\n",
       "      <td>106</td>\n",
       "      <td>466666.67</td>\n",
       "      <td>2</td>\n",
       "      <td>12</td>\n",
       "      <td>2017</td>\n",
       "      <td>последний</td>\n",
       "      <td>8.0</td>\n",
       "    </tr>\n",
       "    <tr>\n",
       "      <th>5358</th>\n",
       "      <td>20</td>\n",
       "      <td>65000000</td>\n",
       "      <td>590.0</td>\n",
       "      <td>2019-02-14</td>\n",
       "      <td>15</td>\n",
       "      <td>3.50</td>\n",
       "      <td>6.0</td>\n",
       "      <td>409.0</td>\n",
       "      <td>3</td>\n",
       "      <td>False</td>\n",
       "      <td>False</td>\n",
       "      <td>False</td>\n",
       "      <td>100.0</td>\n",
       "      <td>0</td>\n",
       "      <td>Санкт-Петербург</td>\n",
       "      <td>24447.0</td>\n",
       "      <td>4666.0</td>\n",
       "      <td>1.0</td>\n",
       "      <td>767.0</td>\n",
       "      <td>0.0</td>\n",
       "      <td>NaN</td>\n",
       "      <td>14</td>\n",
       "      <td>110169.49</td>\n",
       "      <td>3</td>\n",
       "      <td>2</td>\n",
       "      <td>2019</td>\n",
       "      <td>другой</td>\n",
       "      <td>5.0</td>\n",
       "    </tr>\n",
       "    <tr>\n",
       "      <th>12401</th>\n",
       "      <td>20</td>\n",
       "      <td>91500000</td>\n",
       "      <td>495.0</td>\n",
       "      <td>2017-06-19</td>\n",
       "      <td>7</td>\n",
       "      <td>4.65</td>\n",
       "      <td>7.0</td>\n",
       "      <td>347.5</td>\n",
       "      <td>7</td>\n",
       "      <td>False</td>\n",
       "      <td>False</td>\n",
       "      <td>False</td>\n",
       "      <td>25.0</td>\n",
       "      <td>0</td>\n",
       "      <td>Санкт-Петербург</td>\n",
       "      <td>NaN</td>\n",
       "      <td>5735.0</td>\n",
       "      <td>2.0</td>\n",
       "      <td>110.0</td>\n",
       "      <td>0.0</td>\n",
       "      <td>NaN</td>\n",
       "      <td>14</td>\n",
       "      <td>184848.48</td>\n",
       "      <td>0</td>\n",
       "      <td>6</td>\n",
       "      <td>2017</td>\n",
       "      <td>последний</td>\n",
       "      <td>6.0</td>\n",
       "    </tr>\n",
       "    <tr>\n",
       "      <th>4237</th>\n",
       "      <td>1</td>\n",
       "      <td>50000000</td>\n",
       "      <td>517.0</td>\n",
       "      <td>2017-10-14</td>\n",
       "      <td>7</td>\n",
       "      <td>NaN</td>\n",
       "      <td>4.0</td>\n",
       "      <td>332.0</td>\n",
       "      <td>3</td>\n",
       "      <td>False</td>\n",
       "      <td>False</td>\n",
       "      <td>False</td>\n",
       "      <td>22.0</td>\n",
       "      <td>0</td>\n",
       "      <td>Санкт-Петербург</td>\n",
       "      <td>22835.0</td>\n",
       "      <td>1847.0</td>\n",
       "      <td>2.0</td>\n",
       "      <td>477.0</td>\n",
       "      <td>2.0</td>\n",
       "      <td>540.0</td>\n",
       "      <td>0</td>\n",
       "      <td>96711.80</td>\n",
       "      <td>5</td>\n",
       "      <td>10</td>\n",
       "      <td>2017</td>\n",
       "      <td>другой</td>\n",
       "      <td>2.0</td>\n",
       "    </tr>\n",
       "    <tr>\n",
       "      <th>12859</th>\n",
       "      <td>20</td>\n",
       "      <td>140000000</td>\n",
       "      <td>631.2</td>\n",
       "      <td>2019-04-09</td>\n",
       "      <td>7</td>\n",
       "      <td>3.90</td>\n",
       "      <td>4.0</td>\n",
       "      <td>322.3</td>\n",
       "      <td>4</td>\n",
       "      <td>False</td>\n",
       "      <td>False</td>\n",
       "      <td>False</td>\n",
       "      <td>19.5</td>\n",
       "      <td>1</td>\n",
       "      <td>Санкт-Петербург</td>\n",
       "      <td>25707.0</td>\n",
       "      <td>4972.0</td>\n",
       "      <td>0.0</td>\n",
       "      <td>NaN</td>\n",
       "      <td>2.0</td>\n",
       "      <td>210.0</td>\n",
       "      <td>0</td>\n",
       "      <td>221799.75</td>\n",
       "      <td>1</td>\n",
       "      <td>4</td>\n",
       "      <td>2019</td>\n",
       "      <td>последний</td>\n",
       "      <td>5.0</td>\n",
       "    </tr>\n",
       "    <tr>\n",
       "      <th>660</th>\n",
       "      <td>3</td>\n",
       "      <td>49950000</td>\n",
       "      <td>483.9</td>\n",
       "      <td>2017-10-04</td>\n",
       "      <td>7</td>\n",
       "      <td>3.20</td>\n",
       "      <td>6.0</td>\n",
       "      <td>312.5</td>\n",
       "      <td>4</td>\n",
       "      <td>False</td>\n",
       "      <td>False</td>\n",
       "      <td>False</td>\n",
       "      <td>26.4</td>\n",
       "      <td>0</td>\n",
       "      <td>Санкт-Петербург</td>\n",
       "      <td>23079.0</td>\n",
       "      <td>945.0</td>\n",
       "      <td>3.0</td>\n",
       "      <td>461.0</td>\n",
       "      <td>3.0</td>\n",
       "      <td>22.0</td>\n",
       "      <td>391</td>\n",
       "      <td>103223.81</td>\n",
       "      <td>2</td>\n",
       "      <td>10</td>\n",
       "      <td>2017</td>\n",
       "      <td>другой</td>\n",
       "      <td>1.0</td>\n",
       "    </tr>\n",
       "    <tr>\n",
       "      <th>8018</th>\n",
       "      <td>20</td>\n",
       "      <td>84000000</td>\n",
       "      <td>507.0</td>\n",
       "      <td>2015-12-17</td>\n",
       "      <td>5</td>\n",
       "      <td>4.45</td>\n",
       "      <td>7.0</td>\n",
       "      <td>301.5</td>\n",
       "      <td>7</td>\n",
       "      <td>True</td>\n",
       "      <td>False</td>\n",
       "      <td>False</td>\n",
       "      <td>45.5</td>\n",
       "      <td>1</td>\n",
       "      <td>Санкт-Петербург</td>\n",
       "      <td>NaN</td>\n",
       "      <td>5735.0</td>\n",
       "      <td>2.0</td>\n",
       "      <td>110.0</td>\n",
       "      <td>0.0</td>\n",
       "      <td>NaN</td>\n",
       "      <td>1078</td>\n",
       "      <td>165680.47</td>\n",
       "      <td>3</td>\n",
       "      <td>12</td>\n",
       "      <td>2015</td>\n",
       "      <td>последний</td>\n",
       "      <td>6.0</td>\n",
       "    </tr>\n",
       "    <tr>\n",
       "      <th>14088</th>\n",
       "      <td>8</td>\n",
       "      <td>51000000</td>\n",
       "      <td>402.0</td>\n",
       "      <td>2017-02-07</td>\n",
       "      <td>6</td>\n",
       "      <td>3.15</td>\n",
       "      <td>8.0</td>\n",
       "      <td>300.0</td>\n",
       "      <td>6</td>\n",
       "      <td>False</td>\n",
       "      <td>False</td>\n",
       "      <td>False</td>\n",
       "      <td>56.0</td>\n",
       "      <td>2</td>\n",
       "      <td>Санкт-Петербург</td>\n",
       "      <td>24484.0</td>\n",
       "      <td>5052.0</td>\n",
       "      <td>1.0</td>\n",
       "      <td>253.0</td>\n",
       "      <td>0.0</td>\n",
       "      <td>NaN</td>\n",
       "      <td>32</td>\n",
       "      <td>126865.67</td>\n",
       "      <td>1</td>\n",
       "      <td>2</td>\n",
       "      <td>2017</td>\n",
       "      <td>другой</td>\n",
       "      <td>5.0</td>\n",
       "    </tr>\n",
       "    <tr>\n",
       "      <th>20273</th>\n",
       "      <td>12</td>\n",
       "      <td>20000000</td>\n",
       "      <td>460.8</td>\n",
       "      <td>2019-03-20</td>\n",
       "      <td>6</td>\n",
       "      <td>3.10</td>\n",
       "      <td>3.0</td>\n",
       "      <td>279.6</td>\n",
       "      <td>1</td>\n",
       "      <td>False</td>\n",
       "      <td>False</td>\n",
       "      <td>False</td>\n",
       "      <td>55.5</td>\n",
       "      <td>0</td>\n",
       "      <td>Санкт-Петербург</td>\n",
       "      <td>43756.0</td>\n",
       "      <td>15459.0</td>\n",
       "      <td>1.0</td>\n",
       "      <td>852.0</td>\n",
       "      <td>3.0</td>\n",
       "      <td>122.0</td>\n",
       "      <td>21</td>\n",
       "      <td>43402.78</td>\n",
       "      <td>2</td>\n",
       "      <td>3</td>\n",
       "      <td>2019</td>\n",
       "      <td>первый</td>\n",
       "      <td>15.0</td>\n",
       "    </tr>\n",
       "    <tr>\n",
       "      <th>22494</th>\n",
       "      <td>7</td>\n",
       "      <td>91075000</td>\n",
       "      <td>491.0</td>\n",
       "      <td>2017-05-27</td>\n",
       "      <td>5</td>\n",
       "      <td>4.20</td>\n",
       "      <td>9.0</td>\n",
       "      <td>274.0</td>\n",
       "      <td>9</td>\n",
       "      <td>False</td>\n",
       "      <td>False</td>\n",
       "      <td>False</td>\n",
       "      <td>45.0</td>\n",
       "      <td>0</td>\n",
       "      <td>Санкт-Петербург</td>\n",
       "      <td>25525.0</td>\n",
       "      <td>5845.0</td>\n",
       "      <td>2.0</td>\n",
       "      <td>116.0</td>\n",
       "      <td>0.0</td>\n",
       "      <td>NaN</td>\n",
       "      <td>115</td>\n",
       "      <td>185488.80</td>\n",
       "      <td>5</td>\n",
       "      <td>5</td>\n",
       "      <td>2017</td>\n",
       "      <td>последний</td>\n",
       "      <td>6.0</td>\n",
       "    </tr>\n",
       "  </tbody>\n",
       "</table>\n",
       "</div>"
      ],
      "text/plain": [
       "       total_images  last_price  total_area first_day_exposition  rooms  \\\n",
       "19540             8   420000000       900.0           2017-12-06     12   \n",
       "5358             20    65000000       590.0           2019-02-14     15   \n",
       "12401            20    91500000       495.0           2017-06-19      7   \n",
       "4237              1    50000000       517.0           2017-10-14      7   \n",
       "12859            20   140000000       631.2           2019-04-09      7   \n",
       "660               3    49950000       483.9           2017-10-04      7   \n",
       "8018             20    84000000       507.0           2015-12-17      5   \n",
       "14088             8    51000000       402.0           2017-02-07      6   \n",
       "20273            12    20000000       460.8           2019-03-20      6   \n",
       "22494             7    91075000       491.0           2017-05-27      5   \n",
       "\n",
       "       ceiling_height  floors_total  living_area  floor  is_apartment  studio  \\\n",
       "19540            2.80          25.0        409.7     25         False   False   \n",
       "5358             3.50           6.0        409.0      3         False   False   \n",
       "12401            4.65           7.0        347.5      7         False   False   \n",
       "4237              NaN           4.0        332.0      3         False   False   \n",
       "12859            3.90           4.0        322.3      4         False   False   \n",
       "660              3.20           6.0        312.5      4         False   False   \n",
       "8018             4.45           7.0        301.5      7          True   False   \n",
       "14088            3.15           8.0        300.0      6         False   False   \n",
       "20273            3.10           3.0        279.6      1         False   False   \n",
       "22494            4.20           9.0        274.0      9         False   False   \n",
       "\n",
       "       open_plan  kitchen_area  balcony    locality_name  airports_nearest  \\\n",
       "19540      False         112.0        0  Санкт-Петербург           30706.0   \n",
       "5358       False         100.0        0  Санкт-Петербург           24447.0   \n",
       "12401      False          25.0        0  Санкт-Петербург               NaN   \n",
       "4237       False          22.0        0  Санкт-Петербург           22835.0   \n",
       "12859      False          19.5        1  Санкт-Петербург           25707.0   \n",
       "660        False          26.4        0  Санкт-Петербург           23079.0   \n",
       "8018       False          45.5        1  Санкт-Петербург               NaN   \n",
       "14088      False          56.0        2  Санкт-Петербург           24484.0   \n",
       "20273      False          55.5        0  Санкт-Петербург           43756.0   \n",
       "22494      False          45.0        0  Санкт-Петербург           25525.0   \n",
       "\n",
       "       city_centers_nearest  parks_around3000  parks_nearest  \\\n",
       "19540                7877.0               0.0            NaN   \n",
       "5358                 4666.0               1.0          767.0   \n",
       "12401                5735.0               2.0          110.0   \n",
       "4237                 1847.0               2.0          477.0   \n",
       "12859                4972.0               0.0            NaN   \n",
       "660                   945.0               3.0          461.0   \n",
       "8018                 5735.0               2.0          110.0   \n",
       "14088                5052.0               1.0          253.0   \n",
       "20273               15459.0               1.0          852.0   \n",
       "22494                5845.0               2.0          116.0   \n",
       "\n",
       "       ponds_around3000  ponds_nearest  days_exposition  price_per_sqm  \\\n",
       "19540               2.0          318.0              106      466666.67   \n",
       "5358                0.0            NaN               14      110169.49   \n",
       "12401               0.0            NaN               14      184848.48   \n",
       "4237                2.0          540.0                0       96711.80   \n",
       "12859               2.0          210.0                0      221799.75   \n",
       "660                 3.0           22.0              391      103223.81   \n",
       "8018                0.0            NaN             1078      165680.47   \n",
       "14088               0.0            NaN               32      126865.67   \n",
       "20273               3.0          122.0               21       43402.78   \n",
       "22494               0.0            NaN              115      185488.80   \n",
       "\n",
       "       day_exposed  month_exposed  year_exposed floor_category  \\\n",
       "19540            2             12          2017      последний   \n",
       "5358             3              2          2019         другой   \n",
       "12401            0              6          2017      последний   \n",
       "4237             5             10          2017         другой   \n",
       "12859            1              4          2019      последний   \n",
       "660              2             10          2017         другой   \n",
       "8018             3             12          2015      последний   \n",
       "14088            1              2          2017         другой   \n",
       "20273            2              3          2019         первый   \n",
       "22494            5              5          2017      последний   \n",
       "\n",
       "       distance_to_center_km  \n",
       "19540                    8.0  \n",
       "5358                     5.0  \n",
       "12401                    6.0  \n",
       "4237                     2.0  \n",
       "12859                    5.0  \n",
       "660                      1.0  \n",
       "8018                     6.0  \n",
       "14088                    5.0  \n",
       "20273                   15.0  \n",
       "22494                    6.0  "
      ]
     },
     "execution_count": 47,
     "metadata": {},
     "output_type": "execute_result"
    }
   ],
   "source": [
    "# рассмотрим квартиры с максимальными значениями в столбце \n",
    "# отсортируем таблицу по убыванию и выведем первые 10 строк\n",
    "df.sort_values('living_area', ascending=False).head(10)"
   ]
  },
  {
   "cell_type": "markdown",
   "metadata": {},
   "source": [
    "Вызывает сомнения реалистичность данных в плане соотношения цены, общей площади и жилой площади квартир с минимальными и максимальными значениями по столбцу.\n",
    "\n",
    "Нетипично маленькие/большие значения жилой площади признаем аномальными и избавимся от них. Во-первых, их немного. Во-вторых, вероятно, это не квартиры, а комнаты в коммунальных квартирах, или комерческие помещения, значит, данный тип недвижимости не входит в фокус нашего исследования.\n",
    "\n",
    "Примем нижнюю границу в 10 м², а верхнюю установим на 300 м². Это представляется вполне разумным. Если отбросить значения меньше 10 и больше 300, много данных не потеряется.\n",
    "\n",
    "Однако прежде чем избавиться от значений, оценим сколько процентов данных может быть потеряно."
   ]
  },
  {
   "cell_type": "code",
   "execution_count": 48,
   "metadata": {},
   "outputs": [],
   "source": [
    "# посчитаем общее число строк в df\n",
    "original_df = len(df)"
   ]
  },
  {
   "cell_type": "code",
   "execution_count": 49,
   "metadata": {},
   "outputs": [],
   "source": [
    "# отфильтруем данные согласно условиям и сохраним их в filtered_df \n",
    "filtered_df = df.query('(living_area >= 10) and (living_area <= 300)')"
   ]
  },
  {
   "cell_type": "code",
   "execution_count": 50,
   "metadata": {},
   "outputs": [],
   "source": [
    "# посчитаем общее число строк в filtered_df\n",
    "good_rows = len(filtered_df)"
   ]
  },
  {
   "cell_type": "code",
   "execution_count": 51,
   "metadata": {},
   "outputs": [],
   "source": [
    "# вычислим число удаленных строк\n",
    "removed_rows = original_df - good_rows"
   ]
  },
  {
   "cell_type": "code",
   "execution_count": 52,
   "metadata": {},
   "outputs": [
    {
     "name": "stdout",
     "output_type": "stream",
     "text": [
      "Процент отброшенных аномальных значений: 8.16%\n"
     ]
    }
   ],
   "source": [
    "# рассчитаем процент потерь\n",
    "percentage_removed = (removed_rows / original_df) * 100\n",
    "\n",
    "# выведем результат\n",
    "print(f\"Процент отброшенных аномальных значений: {percentage_removed:.2f}%\")"
   ]
  },
  {
   "cell_type": "markdown",
   "metadata": {},
   "source": [
    "Потери составляют не более 10%, поэтому смело избавляяемся от аномальных значений."
   ]
  },
  {
   "cell_type": "code",
   "execution_count": 53,
   "metadata": {},
   "outputs": [],
   "source": [
    "# фильтруем датафрейм при помощи логической индексации\n",
    "df = df[(df['living_area'] >= 10) & (df['living_area'] <= 300)]"
   ]
  },
  {
   "cell_type": "code",
   "execution_count": 54,
   "metadata": {},
   "outputs": [
    {
     "data": {
      "text/plain": [
       "count    21090.000000\n",
       "mean        10.427545\n",
       "std          5.795650\n",
       "min          0.000000\n",
       "25%          7.000000\n",
       "50%          9.000000\n",
       "75%         12.000000\n",
       "max        107.000000\n",
       "Name: kitchen_area, dtype: float64"
      ]
     },
     "execution_count": 54,
     "metadata": {},
     "output_type": "execute_result"
    },
    {
     "data": {
      "image/png": "[encoded data removed]",
      "text/plain": [
       "<Figure size 360x216 with 1 Axes>"
      ]
     },
     "metadata": {
      "needs_background": "light"
     },
     "output_type": "display_data"
    }
   ],
   "source": [
    "# оценим данные по столбцу 'площадь кухни' \n",
    "df.plot(y='kitchen_area', kind='hist', bins=100, grid=True, figsize=(5, 3), range=(0, 100))\n",
    "df['kitchen_area'].describe()"
   ]
  },
  {
   "cell_type": "markdown",
   "metadata": {},
   "source": [
    "На предыдущем этапе пропущенные значения в `kitchen_area` были заполнены на 0 только в тех строках, где столбец `studio` имеет истинное значение (true). Решение основывалось на том, что если продавец не указал площадь кухни, то, скорее всего, квартира относится к типу студии. В этой связи, на гистограмме представлен не большой пик около нуля. Выдаются три наиболее ярких пика в районе значений 5, 10 и 15."
   ]
  },
  {
   "cell_type": "code",
   "execution_count": 55,
   "metadata": {},
   "outputs": [
    {
     "data": {
      "text/plain": [
       "count    2.176400e+04\n",
       "mean     6.461481e+06\n",
       "std      1.041543e+07\n",
       "min      1.219000e+04\n",
       "25%      3.450000e+06\n",
       "50%      4.650000e+06\n",
       "75%      6.750000e+06\n",
       "max      7.630000e+08\n",
       "Name: last_price, dtype: float64"
      ]
     },
     "execution_count": 55,
     "metadata": {},
     "output_type": "execute_result"
    },
    {
     "data": {
      "image/png": "[encoded data removed]",
      "text/plain": [
       "<Figure size 360x216 with 1 Axes>"
      ]
     },
     "metadata": {
      "needs_background": "light"
     },
     "output_type": "display_data"
    }
   ],
   "source": [
    "# рассмотрим данные по столбцу 'цена объекта' \n",
    "df.plot(y='last_price', kind='hist', bins=100, grid=True, figsize=(5, 3), range=(0, 15000000))\n",
    "df['last_price'].describe()"
   ]
  },
  {
   "cell_type": "markdown",
   "metadata": {},
   "source": [
    "Распределение значений на гистограмме отражены и в числовом описании данных. Значения выражены в экспоненциальной форме. Так, цена объектов недвижимости находится в диапазоне 12 190 (min) и 763 000 000 (max), средний показатель составляет 1 000 000, а медиана  4 650 000."
   ]
  },
  {
   "cell_type": "code",
   "execution_count": 56,
   "metadata": {},
   "outputs": [
    {
     "data": {
      "text/plain": [
       "count    21764.000000\n",
       "mean         2.070621\n",
       "std          1.072573\n",
       "min          0.000000\n",
       "25%          1.000000\n",
       "50%          2.000000\n",
       "75%          3.000000\n",
       "max         19.000000\n",
       "Name: rooms, dtype: float64"
      ]
     },
     "execution_count": 56,
     "metadata": {},
     "output_type": "execute_result"
    },
    {
     "data": {
      "image/png": "[encoded data removed]",
      "text/plain": [
       "<Figure size 360x216 with 1 Axes>"
      ]
     },
     "metadata": {
      "needs_background": "light"
     },
     "output_type": "display_data"
    }
   ],
   "source": [
    "# рассмотрим данные по столбцу 'количество комнат'\n",
    "df.plot(y='rooms', kind='hist', bins=100, grid=True, figsize=(5, 3), range=(2, 5))\n",
    "df['rooms'].describe()"
   ]
  },
  {
   "cell_type": "markdown",
   "metadata": {},
   "source": [
    "Наиболее часто в столбце встречаются двухкомнатные квартиры, реже квартиры с тремя и более комнатами. Гистограмма и числовое описание данных не вызывают больших вопросов в плане корректности, за исключением максимального значения по столбцу, но похоже что оно практически не влияет на разрыв значений средней и медианы. Поэтому пока оставим данные как есть."
   ]
  },
  {
   "cell_type": "code",
   "execution_count": 57,
   "metadata": {},
   "outputs": [
    {
     "data": {
      "text/plain": [
       "count    13684.000000\n",
       "mean         2.772861\n",
       "std          1.295751\n",
       "min          1.000000\n",
       "25%          2.520000\n",
       "50%          2.650000\n",
       "75%          2.800000\n",
       "max        100.000000\n",
       "Name: ceiling_height, dtype: float64"
      ]
     },
     "execution_count": 57,
     "metadata": {},
     "output_type": "execute_result"
    },
    {
     "data": {
      "image/png": "[encoded data removed]",
      "text/plain": [
       "<Figure size 360x216 with 1 Axes>"
      ]
     },
     "metadata": {
      "needs_background": "light"
     },
     "output_type": "display_data"
    }
   ],
   "source": [
    "# рассмотрим данные по столбцу 'высота потолков'\n",
    "df.plot(y='ceiling_height', kind='hist', bins=100, grid=True, figsize=(5, 3), range=(2, 5))\n",
    "df['ceiling_height'].describe()"
   ]
  },
  {
   "cell_type": "markdown",
   "metadata": {},
   "source": [
    "На гистограмме очевидно наличие редких и выбивающиеся значений. Максимальна высота потолка 100 м выглядет необъяснимо странным для квартиры, также как и минимальная высота 1 м. При этом средняя высота потолка составляет 2.77 м, что вполне реалистично. Вероятно при вводе данных произошла ошибка.\n",
    "\n",
    "Оценим как много строк потеряется, если отбросить подозрительно низкие и высокие потолки? Посчитаем долю квартир с высотой потолка более 5 метров:"
   ]
  },
  {
   "cell_type": "code",
   "execution_count": 58,
   "metadata": {},
   "outputs": [
    {
     "name": "stdout",
     "output_type": "stream",
     "text": [
      "0.0015622128285241684\n"
     ]
    }
   ],
   "source": [
    "# делим количество потолков выше 5 метров на общее число квартир\n",
    "print(len(df.query('ceiling_height > 5')) / len(df))"
   ]
  },
  {
   "cell_type": "code",
   "execution_count": 59,
   "metadata": {},
   "outputs": [
    {
     "name": "stdout",
     "output_type": "stream",
     "text": [
      "0.003078478220915273\n"
     ]
    }
   ],
   "source": [
    "# делим количество потолков ниже 2 метров на общее число квартир\n",
    "print(len(df.query('ceiling_height < 2.5')) / len(df))"
   ]
  },
  {
   "cell_type": "markdown",
   "metadata": {},
   "source": [
    "Доли таких аномально высоких и низких значений несущественные. Если от них избавиться, то данные не будут искажены.\n",
    "Примем реалистичные для жилой квартиры границы высоты потолка — минимальная высота 2.5 метров, максимальная высота 5 метров."
   ]
  },
  {
   "cell_type": "code",
   "execution_count": 60,
   "metadata": {},
   "outputs": [],
   "source": [
    "# фильтруем датафрейм при помощи логической индексации\n",
    "df = df[(df['ceiling_height'] >= 2.5) & (df['ceiling_height'] <= 5.0)]"
   ]
  },
  {
   "cell_type": "code",
   "execution_count": 61,
   "metadata": {},
   "outputs": [
    {
     "data": {
      "text/plain": [
       "count    13583.000000\n",
       "mean         2.726161\n",
       "std          0.269036\n",
       "min          2.500000\n",
       "25%          2.520000\n",
       "50%          2.650000\n",
       "75%          2.800000\n",
       "max          4.900000\n",
       "Name: ceiling_height, dtype: float64"
      ]
     },
     "execution_count": 61,
     "metadata": {},
     "output_type": "execute_result"
    },
    {
     "data": {
      "image/png": "[encoded data removed]",
      "text/plain": [
       "<Figure size 360x216 with 1 Axes>"
      ]
     },
     "metadata": {
      "needs_background": "light"
     },
     "output_type": "display_data"
    }
   ],
   "source": [
    "# оценим данные после фильтрации\n",
    "df.plot(y='ceiling_height', kind='hist', bins=100, grid=True, figsize=(5, 3), range=(2, 5))\n",
    "df['ceiling_height'].describe()"
   ]
  },
  {
   "cell_type": "markdown",
   "metadata": {},
   "source": [
    "Чаще всего встречаются квартиры с высотой потолков 2.5 метров. Что вполне характерно для подобного типа недвижимости.\n",
    "В числовом описании данных можно заметить, что разница между средним и медианным значениями несколько сократилась."
   ]
  },
  {
   "cell_type": "code",
   "execution_count": 62,
   "metadata": {},
   "outputs": [
    {
     "data": {
      "image/png": "[encoded data removed]",
      "text/plain": [
       "<Figure size 360x216 with 1 Axes>"
      ]
     },
     "metadata": {
      "needs_background": "light"
     },
     "output_type": "display_data"
    }
   ],
   "source": [
    "# рассмотрим данные по столбцу 'тип этажа квартиры'\n",
    "df['floor_category'].value_counts().plot(kind='bar', grid=True, figsize=(5, 3))\n",
    "plt.show()"
   ]
  },
  {
   "cell_type": "markdown",
   "metadata": {},
   "source": [
    "График по столбцу, добавленному на предыдущем этапе с категориями типов этажа квартиры, показывает, что наиболее часто представлены квартиры между первым и верхним этажами. Квартиры на первом этаже встречаются реже, чем на самом верхнем. Вероятно это связано с тем, что первый этаж зданий часто занимают коммерческие площади."
   ]
  },
  {
   "cell_type": "code",
   "execution_count": 63,
   "metadata": {},
   "outputs": [
    {
     "data": {
      "text/plain": [
       "count    13577.000000\n",
       "mean        10.209030\n",
       "std          6.197334\n",
       "min          1.000000\n",
       "25%          5.000000\n",
       "50%          9.000000\n",
       "75%         14.000000\n",
       "max         60.000000\n",
       "Name: floors_total, dtype: float64"
      ]
     },
     "execution_count": 63,
     "metadata": {},
     "output_type": "execute_result"
    },
    {
     "data": {
      "image/png": "[encoded data removed]",
      "text/plain": [
       "<Figure size 360x216 with 1 Axes>"
      ]
     },
     "metadata": {
      "needs_background": "light"
     },
     "output_type": "display_data"
    }
   ],
   "source": [
    "# рассмотрим данные по столбцу 'общее количество этажей в доме'\n",
    "df.plot(y='floors_total', kind='hist', bins=100, grid=True, figsize=(5, 3), range=(0, 60))\n",
    "df['floors_total'].describe()"
   ]
  },
  {
   "cell_type": "markdown",
   "metadata": {},
   "source": [
    "Максимальное значение в 60 этажей выглядет необычным для жилого дома в Санкт-Петербурге. В данные по ошибке могла попасть коммерческая недвижимость, которая не является целью данного исследования. На практике следовало бы уточнить эту информацию. В рамках учебного проекта оценим как много строк потеряется, если отбросить подозрительно высокие здания."
   ]
  },
  {
   "cell_type": "code",
   "execution_count": 64,
   "metadata": {},
   "outputs": [
    {
     "name": "stdout",
     "output_type": "stream",
     "text": [
      "0.00022086431568872855\n"
     ]
    }
   ],
   "source": [
    "# делим количество зданий выше 35 этажей на общее число зданий\n",
    "print(len(df.query('floors_total > 35')) / len(df))"
   ]
  },
  {
   "cell_type": "code",
   "execution_count": 65,
   "metadata": {},
   "outputs": [],
   "source": [
    "# доля крайне высоких зданий невелика, их удаление не исказит общую картину\n",
    "# фильтруем датафрейм при помощи логической индексации\n",
    "df = df[df['floors_total'] <= 35]"
   ]
  },
  {
   "cell_type": "code",
   "execution_count": 66,
   "metadata": {},
   "outputs": [
    {
     "data": {
      "text/plain": [
       "count    13574.000000\n",
       "mean        10.200383\n",
       "std          6.168876\n",
       "min          1.000000\n",
       "25%          5.000000\n",
       "50%          9.000000\n",
       "75%         14.000000\n",
       "max         35.000000\n",
       "Name: floors_total, dtype: float64"
      ]
     },
     "execution_count": 66,
     "metadata": {},
     "output_type": "execute_result"
    },
    {
     "data": {
      "image/png": "[encoded data removed]",
      "text/plain": [
       "<Figure size 360x216 with 1 Axes>"
      ]
     },
     "metadata": {
      "needs_background": "light"
     },
     "output_type": "display_data"
    }
   ],
   "source": [
    "# оценим данные после фильтрации\n",
    "df.plot(y='floors_total', kind='hist', bins=100, grid=True, figsize=(5, 3), range=(0, 60))\n",
    "df['floors_total'].describe()"
   ]
  },
  {
   "cell_type": "code",
   "execution_count": 67,
   "metadata": {
    "scrolled": true
   },
   "outputs": [
    {
     "data": {
      "image/png": "[encoded data removed]",
      "text/plain": [
       "<Figure size 360x216 with 1 Axes>"
      ]
     },
     "metadata": {
      "needs_background": "light"
     },
     "output_type": "display_data"
    }
   ],
   "source": [
    "# рассмотрим данные по столбцу 'расстояние до центра города в метрах'\n",
    "plt.figure(figsize=(5, 3))\n",
    "plt.hist(df['city_centers_nearest'], bins=20)\n",
    "# добавим обозначения\n",
    "plt.xlabel('Distance to Center (m)')\n",
    "plt.ylabel('Frequency')\n",
    "# линия сетки на графике\n",
    "plt.grid(True)\n",
    "# выведем гистограмму\n",
    "plt.show()"
   ]
  },
  {
   "cell_type": "markdown",
   "metadata": {},
   "source": [
    "График показывает, что наиболее часто в продаже встречается недвижимость, которая расположена в пределах от 10 до 15 километров до центра города. Очевидно владельцы недвижимости расположенной в пределах центра города Санкт-Петербурга значительно реже выставляют квартиры на продажу."
   ]
  },
  {
   "cell_type": "code",
   "execution_count": 68,
   "metadata": {
    "scrolled": true
   },
   "outputs": [
    {
     "data": {
      "image/png": "[encoded data removed]",
      "text/plain": [
       "<Figure size 360x216 with 1 Axes>"
      ]
     },
     "metadata": {
      "needs_background": "light"
     },
     "output_type": "display_data"
    }
   ],
   "source": [
    "# рассмотрим данные по столбцу 'расстояние до ближайшего парка'\n",
    "plt.figure(figsize=(5, 3))\n",
    "plt.hist(df['parks_nearest'], bins=20)\n",
    "# добавим обозначения\n",
    "plt.xlabel('Distance to Parks (m)')\n",
    "plt.ylabel('Frequency')\n",
    "# линия сетки на графике\n",
    "plt.grid(True)\n",
    "# выведем гистограмму\n",
    "plt.show()"
   ]
  },
  {
   "cell_type": "markdown",
   "metadata": {},
   "source": [
    "Гистограмма показывает, что наиболее часто в продаже встречается недвижимость, которая расположена в районе 500 метров до ближайшего парка. Хранящаяся в датафрейме информация о расположении объектов была получена автоматически на основе картографических данных."
   ]
  },
  {
   "cell_type": "markdown",
   "metadata": {},
   "source": [
    "### Изучим, как быстро продавались квартиры"
   ]
  },
  {
   "cell_type": "code",
   "execution_count": 69,
   "metadata": {},
   "outputs": [
    {
     "data": {
      "text/plain": [
       "count    13574.000000\n",
       "mean       159.706350\n",
       "std        221.172009\n",
       "min          0.000000\n",
       "25%         16.000000\n",
       "50%         74.000000\n",
       "75%        204.750000\n",
       "max       1580.000000\n",
       "Name: days_exposition, dtype: float64"
      ]
     },
     "execution_count": 69,
     "metadata": {},
     "output_type": "execute_result"
    }
   ],
   "source": [
    "# рассмотрим числовое описание данных о том, сколько дней было размещено объявление (от публикации до снятия)\n",
    "df['days_exposition'].describe()"
   ]
  },
  {
   "cell_type": "markdown",
   "metadata": {},
   "source": [
    "Всего количество объявлений составляет 13574. Максимальная продолжительность размещения объявления 1580 дней, а минимальная 0, что вызывает сомнения. При этом среднее почти в два раза больше медианы. Посмотрим на распределение значений."
   ]
  },
  {
   "cell_type": "code",
   "execution_count": 70,
   "metadata": {},
   "outputs": [
    {
     "data": {
      "image/png": "[encoded data removed]",
      "text/plain": [
       "<Figure size 360x216 with 1 Axes>"
      ]
     },
     "metadata": {
      "needs_background": "light"
     },
     "output_type": "display_data"
    }
   ],
   "source": [
    "# построим гистограмму\n",
    "df['days_exposition'].hist(bins=100, figsize=(5, 3), range=(0, 1500))\n",
    "None"
   ]
  },
  {
   "cell_type": "markdown",
   "metadata": {},
   "source": [
    "Критический пик около 0 дней. Широкий пик около 100. Очень мало значений после 800. Распределение значений обрезано на нуле и имеет длинный «хвост» в положительную сторону, что типично для формы распределения Пуассона, где при небольших значениях распределение смещено влево, а с увеличением числа событий становится симметричным и уходит вправо."
   ]
  },
  {
   "cell_type": "code",
   "execution_count": 71,
   "metadata": {},
   "outputs": [
    {
     "data": {
      "image/png": "[encoded data removed]",
      "text/plain": [
       "<Figure size 432x288 with 1 Axes>"
      ]
     },
     "metadata": {
      "needs_background": "light"
     },
     "output_type": "display_data"
    }
   ],
   "source": [
    "# построим диаграмму размаха, чтобы визуально оценить характеристики распределения\n",
    "plt.boxplot(df['days_exposition'])\n",
    "plt.ylim(-100, 1000)\n",
    "plt.xlabel('days_exposition')\n",
    "None"
   ]
  },
  {
   "cell_type": "markdown",
   "metadata": {},
   "source": [
    "Очевидно, что большая часть значений находится в диапазоне до 200 дней. При этом первый квартиль лежит на уровне менее 50 дней.\n",
    "Нижний «ус» упирается в 0, минимальное значение. Верхний заканчивается около 500 дней. Это ориентировочная граница нормального размаха. Значения за этой границей, считаются выбросом. Более высокие значения обозначены отдельными точками, но сливаются в единую жирную линию: таких выбросов довольно много."
   ]
  },
  {
   "cell_type": "code",
   "execution_count": 72,
   "metadata": {
    "scrolled": true
   },
   "outputs": [
    {
     "data": {
      "image/png": "[encoded data removed]",
      "text/plain": [
       "<Figure size 360x216 with 1 Axes>"
      ]
     },
     "metadata": {
      "needs_background": "light"
     },
     "output_type": "display_data"
    }
   ],
   "source": [
    "# рассмотрим данные более прицельно с учётом выясненных границ нормального размаха   \n",
    "df.query('days_exposition < 500')['days_exposition'].hist(bins=100, grid=True, figsize=(5, 3), range=(1, 100))\n",
    "None"
   ]
  },
  {
   "cell_type": "markdown",
   "metadata": {},
   "source": [
    "График показывает два наиболее выдающихся пика на значениях 45 и 60. Согласно правилам Яндекс.Недвижимости объявления автоматически снимаются с публикции на 45-й и 60-й день, в зависимости от типа. Поэтому будет оправданным избавиться от этих значений, так как они искажают реалистичную картину продаж."
   ]
  },
  {
   "cell_type": "code",
   "execution_count": 73,
   "metadata": {},
   "outputs": [
    {
     "data": {
      "text/plain": [
       "count    9698.000000\n",
       "mean      135.959167\n",
       "std       122.769696\n",
       "min         1.000000\n",
       "25%        37.000000\n",
       "50%        97.000000\n",
       "75%       198.000000\n",
       "max       499.000000\n",
       "Name: days_exposition, dtype: float64"
      ]
     },
     "execution_count": 73,
     "metadata": {},
     "output_type": "execute_result"
    },
    {
     "data": {
      "image/png": "[encoded data removed]",
      "text/plain": [
       "<Figure size 360x216 with 1 Axes>"
      ]
     },
     "metadata": {
      "needs_background": "light"
     },
     "output_type": "display_data"
    }
   ],
   "source": [
    "# фильтруем данные согласно условиям \n",
    "# запишем очищенные от выбросов данные в новый датафрейм\n",
    "filtered_df = df.query('days_exposition < 500 and days_exposition != 45 and days_exposition != 60 and days_exposition != 0')\n",
    "# построим гистограмму\n",
    "filtered_df.plot(y='days_exposition', kind='hist', bins=100, grid=True, figsize=(5, 3), range=(0, 500))\n",
    "# выведем числовые описания\n",
    "filtered_df['days_exposition'].describe()"
   ]
  },
  {
   "cell_type": "markdown",
   "metadata": {},
   "source": [
    "Очищенные от выбросов данные имеют более согласованный вид. Разница между средним значением и медианой существенно сократилась. \n",
    "Принимая условие, что объявления были закрыты в связи с продажей квартир, продажи до 50 дней после размещения объявления можно считать быстрыми. В то время как долгими можно считать продажи от 200 дней и более."
   ]
  },
  {
   "cell_type": "markdown",
   "metadata": {},
   "source": [
    "### Какие факторы больше всего влияют на общую (полную) стоимость объекта?"
   ]
  },
  {
   "cell_type": "markdown",
   "metadata": {},
   "source": [
    "**Есть ли зависимость между общей площадью и ценой объекта недвижимости?**\n",
    "\n",
    "Для более полного анализа взаимосвязи между общей площадью и стоимостью квартир, вычислим следующие статистические данные:\n",
    "- Средняя цена `last_price` для каждого уникального значения `total_area`\n",
    "- Сколько квартир (строк в данных) имеют конкретную `total_area`\n",
    "- Медиана, которая дает среднее значение `last_price` для каждой группы `total_area`"
   ]
  },
  {
   "cell_type": "code",
   "execution_count": 74,
   "metadata": {
    "scrolled": true
   },
   "outputs": [],
   "source": [
    "# создадим сводную таблицу для расчета средней 'last_price' для каждой 'total_area'\n",
    "total_area_pivot = df.pivot_table(index='total_area', values='last_price', aggfunc=['mean', 'count', 'median'])\n",
    "total_area_pivot.columns = ['mean', 'count', 'median']"
   ]
  },
  {
   "cell_type": "code",
   "execution_count": 75,
   "metadata": {},
   "outputs": [
    {
     "data": {
      "text/html": [
       "<div>\n",
       "<style scoped>\n",
       "    .dataframe tbody tr th:only-of-type {\n",
       "        vertical-align: middle;\n",
       "    }\n",
       "\n",
       "    .dataframe tbody tr th {\n",
       "        vertical-align: top;\n",
       "    }\n",
       "\n",
       "    .dataframe thead th {\n",
       "        text-align: right;\n",
       "    }\n",
       "</style>\n",
       "<table border=\"1\" class=\"dataframe\">\n",
       "  <thead>\n",
       "    <tr style=\"text-align: right;\">\n",
       "      <th></th>\n",
       "      <th>mean</th>\n",
       "      <th>count</th>\n",
       "      <th>median</th>\n",
       "    </tr>\n",
       "    <tr>\n",
       "      <th>total_area</th>\n",
       "      <th></th>\n",
       "      <th></th>\n",
       "      <th></th>\n",
       "    </tr>\n",
       "  </thead>\n",
       "  <tbody>\n",
       "    <tr>\n",
       "      <th>618.00</th>\n",
       "      <td>300000000.0</td>\n",
       "      <td>1</td>\n",
       "      <td>300000000.0</td>\n",
       "    </tr>\n",
       "    <tr>\n",
       "      <th>187.50</th>\n",
       "      <td>289238400.0</td>\n",
       "      <td>1</td>\n",
       "      <td>289238400.0</td>\n",
       "    </tr>\n",
       "    <tr>\n",
       "      <th>285.70</th>\n",
       "      <td>245000000.0</td>\n",
       "      <td>1</td>\n",
       "      <td>245000000.0</td>\n",
       "    </tr>\n",
       "    <tr>\n",
       "      <th>410.00</th>\n",
       "      <td>240000000.0</td>\n",
       "      <td>1</td>\n",
       "      <td>240000000.0</td>\n",
       "    </tr>\n",
       "    <tr>\n",
       "      <th>347.00</th>\n",
       "      <td>180000000.0</td>\n",
       "      <td>1</td>\n",
       "      <td>180000000.0</td>\n",
       "    </tr>\n",
       "    <tr>\n",
       "      <th>...</th>\n",
       "      <td>...</td>\n",
       "      <td>...</td>\n",
       "      <td>...</td>\n",
       "    </tr>\n",
       "    <tr>\n",
       "      <th>27.32</th>\n",
       "      <td>1315000.0</td>\n",
       "      <td>1</td>\n",
       "      <td>1315000.0</td>\n",
       "    </tr>\n",
       "    <tr>\n",
       "      <th>29.62</th>\n",
       "      <td>1300000.0</td>\n",
       "      <td>1</td>\n",
       "      <td>1300000.0</td>\n",
       "    </tr>\n",
       "    <tr>\n",
       "      <th>28.60</th>\n",
       "      <td>1720000.0</td>\n",
       "      <td>4</td>\n",
       "      <td>1030000.0</td>\n",
       "    </tr>\n",
       "    <tr>\n",
       "      <th>19.50</th>\n",
       "      <td>945750.0</td>\n",
       "      <td>1</td>\n",
       "      <td>945750.0</td>\n",
       "    </tr>\n",
       "    <tr>\n",
       "      <th>28.66</th>\n",
       "      <td>690000.0</td>\n",
       "      <td>1</td>\n",
       "      <td>690000.0</td>\n",
       "    </tr>\n",
       "  </tbody>\n",
       "</table>\n",
       "<p>1558 rows × 3 columns</p>\n",
       "</div>"
      ],
      "text/plain": [
       "                   mean  count       median\n",
       "total_area                                 \n",
       "618.00      300000000.0      1  300000000.0\n",
       "187.50      289238400.0      1  289238400.0\n",
       "285.70      245000000.0      1  245000000.0\n",
       "410.00      240000000.0      1  240000000.0\n",
       "347.00      180000000.0      1  180000000.0\n",
       "...                 ...    ...          ...\n",
       "27.32         1315000.0      1    1315000.0\n",
       "29.62         1300000.0      1    1300000.0\n",
       "28.60         1720000.0      4    1030000.0\n",
       "19.50          945750.0      1     945750.0\n",
       "28.66          690000.0      1     690000.0\n",
       "\n",
       "[1558 rows x 3 columns]"
      ]
     },
     "execution_count": 75,
     "metadata": {},
     "output_type": "execute_result"
    }
   ],
   "source": [
    "# отсортируем таблицу по убыванию\n",
    "total_area_pivot.sort_values('median', ascending=False)"
   ]
  },
  {
   "cell_type": "code",
   "execution_count": 76,
   "metadata": {},
   "outputs": [
    {
     "data": {
      "image/png": "[encoded data removed]",
      "text/plain": [
       "<Figure size 432x288 with 1 Axes>"
      ]
     },
     "metadata": {
      "needs_background": "light"
     },
     "output_type": "display_data"
    }
   ],
   "source": [
    "# постороим график\n",
    "df.plot(x='total_area', y='last_price', kind='scatter', alpha=0.2)\n",
    "None"
   ]
  },
  {
   "cell_type": "code",
   "execution_count": 77,
   "metadata": {},
   "outputs": [
    {
     "data": {
      "text/plain": [
       "0.6855484977908696"
      ]
     },
     "execution_count": 77,
     "metadata": {},
     "output_type": "execute_result"
    }
   ],
   "source": [
    "# вычислим коэффициент корреляции Пирсона, чтобы оценить характер связи\n",
    "df['total_area'].corr(df['last_price'])"
   ]
  },
  {
   "cell_type": "markdown",
   "metadata": {},
   "source": [
    "**Вывод:**\n",
    "\n",
    "Полученный коэффициент корреляции 0,686 указывает на умеренную положительную линейную корреляцию между общей площадью и ценой недвижимости. То есть, существует заметная тенденция, заключающаяся в том, что квартиры большего размера, как правило, имеют более высокие цены. При этом корреляция не подразумевает причинно-следственной связи. На цены квартир могут повлиять и другие факторы."
   ]
  },
  {
   "cell_type": "markdown",
   "metadata": {},
   "source": [
    "**Есть ли зависимость между жилой площадью и ценой объекта недвижимости?**"
   ]
  },
  {
   "cell_type": "code",
   "execution_count": 78,
   "metadata": {},
   "outputs": [],
   "source": [
    "# создадим сводную таблицу для расчета средней 'last_price' для каждой 'living_area'\n",
    "living_area_pivot = df.pivot_table(index='living_area', values='last_price', aggfunc=['mean', 'count', 'median'])\n",
    "living_area_pivot.columns = ['mean', 'count', 'median']"
   ]
  },
  {
   "cell_type": "code",
   "execution_count": 79,
   "metadata": {},
   "outputs": [
    {
     "data": {
      "text/html": [
       "<div>\n",
       "<style scoped>\n",
       "    .dataframe tbody tr th:only-of-type {\n",
       "        vertical-align: middle;\n",
       "    }\n",
       "\n",
       "    .dataframe tbody tr th {\n",
       "        vertical-align: top;\n",
       "    }\n",
       "\n",
       "    .dataframe thead th {\n",
       "        text-align: right;\n",
       "    }\n",
       "</style>\n",
       "<table border=\"1\" class=\"dataframe\">\n",
       "  <thead>\n",
       "    <tr style=\"text-align: right;\">\n",
       "      <th></th>\n",
       "      <th>mean</th>\n",
       "      <th>count</th>\n",
       "      <th>median</th>\n",
       "    </tr>\n",
       "    <tr>\n",
       "      <th>living_area</th>\n",
       "      <th></th>\n",
       "      <th></th>\n",
       "      <th></th>\n",
       "    </tr>\n",
       "  </thead>\n",
       "  <tbody>\n",
       "    <tr>\n",
       "      <th>258.00</th>\n",
       "      <td>300000000.0</td>\n",
       "      <td>1</td>\n",
       "      <td>300000000.0</td>\n",
       "    </tr>\n",
       "    <tr>\n",
       "      <th>182.80</th>\n",
       "      <td>245000000.0</td>\n",
       "      <td>1</td>\n",
       "      <td>245000000.0</td>\n",
       "    </tr>\n",
       "    <tr>\n",
       "      <th>218.00</th>\n",
       "      <td>240000000.0</td>\n",
       "      <td>1</td>\n",
       "      <td>240000000.0</td>\n",
       "    </tr>\n",
       "    <tr>\n",
       "      <th>260.00</th>\n",
       "      <td>180000000.0</td>\n",
       "      <td>1</td>\n",
       "      <td>180000000.0</td>\n",
       "    </tr>\n",
       "    <tr>\n",
       "      <th>150.00</th>\n",
       "      <td>131000000.0</td>\n",
       "      <td>1</td>\n",
       "      <td>131000000.0</td>\n",
       "    </tr>\n",
       "    <tr>\n",
       "      <th>...</th>\n",
       "      <td>...</td>\n",
       "      <td>...</td>\n",
       "      <td>...</td>\n",
       "    </tr>\n",
       "    <tr>\n",
       "      <th>26.28</th>\n",
       "      <td>1720000.0</td>\n",
       "      <td>1</td>\n",
       "      <td>1720000.0</td>\n",
       "    </tr>\n",
       "    <tr>\n",
       "      <th>16.31</th>\n",
       "      <td>1700000.0</td>\n",
       "      <td>1</td>\n",
       "      <td>1700000.0</td>\n",
       "    </tr>\n",
       "    <tr>\n",
       "      <th>12.81</th>\n",
       "      <td>1690715.0</td>\n",
       "      <td>1</td>\n",
       "      <td>1690715.0</td>\n",
       "    </tr>\n",
       "    <tr>\n",
       "      <th>10.94</th>\n",
       "      <td>1550000.0</td>\n",
       "      <td>1</td>\n",
       "      <td>1550000.0</td>\n",
       "    </tr>\n",
       "    <tr>\n",
       "      <th>16.91</th>\n",
       "      <td>1300000.0</td>\n",
       "      <td>1</td>\n",
       "      <td>1300000.0</td>\n",
       "    </tr>\n",
       "  </tbody>\n",
       "</table>\n",
       "<p>1370 rows × 3 columns</p>\n",
       "</div>"
      ],
      "text/plain": [
       "                    mean  count       median\n",
       "living_area                                 \n",
       "258.00       300000000.0      1  300000000.0\n",
       "182.80       245000000.0      1  245000000.0\n",
       "218.00       240000000.0      1  240000000.0\n",
       "260.00       180000000.0      1  180000000.0\n",
       "150.00       131000000.0      1  131000000.0\n",
       "...                  ...    ...          ...\n",
       "26.28          1720000.0      1    1720000.0\n",
       "16.31          1700000.0      1    1700000.0\n",
       "12.81          1690715.0      1    1690715.0\n",
       "10.94          1550000.0      1    1550000.0\n",
       "16.91          1300000.0      1    1300000.0\n",
       "\n",
       "[1370 rows x 3 columns]"
      ]
     },
     "execution_count": 79,
     "metadata": {},
     "output_type": "execute_result"
    }
   ],
   "source": [
    "# отсортируем таблицу по убыванию\n",
    "living_area_pivot.sort_values('median', ascending=False)"
   ]
  },
  {
   "cell_type": "code",
   "execution_count": 80,
   "metadata": {},
   "outputs": [
    {
     "data": {
      "image/png": "[encoded data removed]",
      "text/plain": [
       "<Figure size 432x288 with 1 Axes>"
      ]
     },
     "metadata": {
      "needs_background": "light"
     },
     "output_type": "display_data"
    }
   ],
   "source": [
    "# постороим график\n",
    "df.plot(x='living_area', y='last_price', kind='scatter', alpha=0.2)\n",
    "None"
   ]
  },
  {
   "cell_type": "code",
   "execution_count": 81,
   "metadata": {},
   "outputs": [
    {
     "data": {
      "text/plain": [
       "0.5975984659886425"
      ]
     },
     "execution_count": 81,
     "metadata": {},
     "output_type": "execute_result"
    }
   ],
   "source": [
    "# вычислим коэффициент корреляции Пирсона, чтобы оценить характер связи\n",
    "df['living_area'].corr(df['last_price'])"
   ]
  },
  {
   "cell_type": "markdown",
   "metadata": {},
   "source": [
    "**Вывод:**\n",
    "\n",
    "Значение 0,598 предполагает умеренную степень корреляции. Другими словами, существует заметная тенденция, заключающаяся в том, что большие жилые площади обычно связаны с более высокими ценами."
   ]
  },
  {
   "cell_type": "markdown",
   "metadata": {},
   "source": [
    "**Есть ли зависимость между площадью кухни и ценой объекта недвижимости?**"
   ]
  },
  {
   "cell_type": "code",
   "execution_count": 82,
   "metadata": {},
   "outputs": [],
   "source": [
    "# создадим сводную таблицу для расчета средней 'last_price' для каждой 'kitchen_area'\n",
    "kitchen_area_pivot = df.pivot_table(index='kitchen_area', values='last_price', aggfunc=['mean', 'count', 'median'])\n",
    "kitchen_area_pivot.columns = ['mean', 'count', 'median']"
   ]
  },
  {
   "cell_type": "code",
   "execution_count": 83,
   "metadata": {},
   "outputs": [
    {
     "data": {
      "text/html": [
       "<div>\n",
       "<style scoped>\n",
       "    .dataframe tbody tr th:only-of-type {\n",
       "        vertical-align: middle;\n",
       "    }\n",
       "\n",
       "    .dataframe tbody tr th {\n",
       "        vertical-align: top;\n",
       "    }\n",
       "\n",
       "    .dataframe thead th {\n",
       "        text-align: right;\n",
       "    }\n",
       "</style>\n",
       "<table border=\"1\" class=\"dataframe\">\n",
       "  <thead>\n",
       "    <tr style=\"text-align: right;\">\n",
       "      <th></th>\n",
       "      <th>mean</th>\n",
       "      <th>count</th>\n",
       "      <th>median</th>\n",
       "    </tr>\n",
       "    <tr>\n",
       "      <th>kitchen_area</th>\n",
       "      <th></th>\n",
       "      <th></th>\n",
       "      <th></th>\n",
       "    </tr>\n",
       "  </thead>\n",
       "  <tbody>\n",
       "    <tr>\n",
       "      <th>70.00</th>\n",
       "      <td>300000000.0</td>\n",
       "      <td>1</td>\n",
       "      <td>300000000.0</td>\n",
       "    </tr>\n",
       "    <tr>\n",
       "      <th>30.20</th>\n",
       "      <td>151094200.0</td>\n",
       "      <td>2</td>\n",
       "      <td>151094200.0</td>\n",
       "    </tr>\n",
       "    <tr>\n",
       "      <th>29.80</th>\n",
       "      <td>126000000.0</td>\n",
       "      <td>2</td>\n",
       "      <td>126000000.0</td>\n",
       "    </tr>\n",
       "    <tr>\n",
       "      <th>72.00</th>\n",
       "      <td>122000000.0</td>\n",
       "      <td>1</td>\n",
       "      <td>122000000.0</td>\n",
       "    </tr>\n",
       "    <tr>\n",
       "      <th>25.86</th>\n",
       "      <td>86738800.0</td>\n",
       "      <td>1</td>\n",
       "      <td>86738800.0</td>\n",
       "    </tr>\n",
       "    <tr>\n",
       "      <th>...</th>\n",
       "      <td>...</td>\n",
       "      <td>...</td>\n",
       "      <td>...</td>\n",
       "    </tr>\n",
       "    <tr>\n",
       "      <th>6.22</th>\n",
       "      <td>1720000.0</td>\n",
       "      <td>1</td>\n",
       "      <td>1720000.0</td>\n",
       "    </tr>\n",
       "    <tr>\n",
       "      <th>4.40</th>\n",
       "      <td>1700000.0</td>\n",
       "      <td>1</td>\n",
       "      <td>1700000.0</td>\n",
       "    </tr>\n",
       "    <tr>\n",
       "      <th>6.23</th>\n",
       "      <td>1700000.0</td>\n",
       "      <td>1</td>\n",
       "      <td>1700000.0</td>\n",
       "    </tr>\n",
       "    <tr>\n",
       "      <th>5.91</th>\n",
       "      <td>1300000.0</td>\n",
       "      <td>1</td>\n",
       "      <td>1300000.0</td>\n",
       "    </tr>\n",
       "    <tr>\n",
       "      <th>40.50</th>\n",
       "      <td>12190.0</td>\n",
       "      <td>1</td>\n",
       "      <td>12190.0</td>\n",
       "    </tr>\n",
       "  </tbody>\n",
       "</table>\n",
       "<p>687 rows × 3 columns</p>\n",
       "</div>"
      ],
      "text/plain": [
       "                     mean  count       median\n",
       "kitchen_area                                 \n",
       "70.00         300000000.0      1  300000000.0\n",
       "30.20         151094200.0      2  151094200.0\n",
       "29.80         126000000.0      2  126000000.0\n",
       "72.00         122000000.0      1  122000000.0\n",
       "25.86          86738800.0      1   86738800.0\n",
       "...                   ...    ...          ...\n",
       "6.22            1720000.0      1    1720000.0\n",
       "4.40            1700000.0      1    1700000.0\n",
       "6.23            1700000.0      1    1700000.0\n",
       "5.91            1300000.0      1    1300000.0\n",
       "40.50             12190.0      1      12190.0\n",
       "\n",
       "[687 rows x 3 columns]"
      ]
     },
     "execution_count": 83,
     "metadata": {},
     "output_type": "execute_result"
    }
   ],
   "source": [
    "# отсортируем таблицу по убыванию\n",
    "kitchen_area_pivot.sort_values('median', ascending=False)"
   ]
  },
  {
   "cell_type": "code",
   "execution_count": 84,
   "metadata": {},
   "outputs": [
    {
     "data": {
      "image/png": "[encoded data removed]",
      "text/plain": [
       "<Figure size 432x288 with 1 Axes>"
      ]
     },
     "metadata": {
      "needs_background": "light"
     },
     "output_type": "display_data"
    }
   ],
   "source": [
    "# постороим график\n",
    "df.plot(x='kitchen_area', y='last_price', kind='scatter', alpha=0.2)\n",
    "None"
   ]
  },
  {
   "cell_type": "code",
   "execution_count": 85,
   "metadata": {},
   "outputs": [
    {
     "data": {
      "text/plain": [
       "0.5196228979534426"
      ]
     },
     "execution_count": 85,
     "metadata": {},
     "output_type": "execute_result"
    }
   ],
   "source": [
    "# вычислим коэффициент корреляции Пирсона, чтобы оценить характер связи\n",
    "df['kitchen_area'].corr(df['last_price'])"
   ]
  },
  {
   "cell_type": "markdown",
   "metadata": {},
   "source": [
    "**Вывод:**\n",
    "\n",
    "Положительная корреляция указывает на то, что по мере увеличения площади кухни цена квартиры также имеет тенденцию к увеличению. Что вполне предсказуемо в данном случае, так как большое кухонное пространство предполагает наличие большой общей площади квартиры, которая в свою очередь связана с увеличением общей стоимости. "
   ]
  },
  {
   "cell_type": "markdown",
   "metadata": {},
   "source": [
    "**Есть ли зависимость между количеством комнат и ценой объекта недвижимости?**"
   ]
  },
  {
   "cell_type": "code",
   "execution_count": 86,
   "metadata": {},
   "outputs": [],
   "source": [
    "# создадим сводную таблицу для расчета средней 'last_price' для каждой 'rooms'\n",
    "rooms_pivot = df.pivot_table(index='rooms', values='last_price', aggfunc=['mean', 'count', 'median'])\n",
    "rooms_pivot.columns = ['mean', 'count', 'median']"
   ]
  },
  {
   "cell_type": "code",
   "execution_count": 87,
   "metadata": {},
   "outputs": [
    {
     "data": {
      "text/html": [
       "<div>\n",
       "<style scoped>\n",
       "    .dataframe tbody tr th:only-of-type {\n",
       "        vertical-align: middle;\n",
       "    }\n",
       "\n",
       "    .dataframe tbody tr th {\n",
       "        vertical-align: top;\n",
       "    }\n",
       "\n",
       "    .dataframe thead th {\n",
       "        text-align: right;\n",
       "    }\n",
       "</style>\n",
       "<table border=\"1\" class=\"dataframe\">\n",
       "  <thead>\n",
       "    <tr style=\"text-align: right;\">\n",
       "      <th></th>\n",
       "      <th>mean</th>\n",
       "      <th>count</th>\n",
       "      <th>median</th>\n",
       "    </tr>\n",
       "    <tr>\n",
       "      <th>rooms</th>\n",
       "      <th></th>\n",
       "      <th></th>\n",
       "      <th></th>\n",
       "    </tr>\n",
       "  </thead>\n",
       "  <tbody>\n",
       "    <tr>\n",
       "      <th>16</th>\n",
       "      <td>2.850000e+07</td>\n",
       "      <td>1</td>\n",
       "      <td>28500000</td>\n",
       "    </tr>\n",
       "    <tr>\n",
       "      <th>9</th>\n",
       "      <td>3.945315e+07</td>\n",
       "      <td>6</td>\n",
       "      <td>26500000</td>\n",
       "    </tr>\n",
       "    <tr>\n",
       "      <th>11</th>\n",
       "      <td>2.525000e+07</td>\n",
       "      <td>2</td>\n",
       "      <td>25250000</td>\n",
       "    </tr>\n",
       "    <tr>\n",
       "      <th>14</th>\n",
       "      <td>2.500000e+07</td>\n",
       "      <td>1</td>\n",
       "      <td>25000000</td>\n",
       "    </tr>\n",
       "    <tr>\n",
       "      <th>7</th>\n",
       "      <td>3.756486e+07</td>\n",
       "      <td>37</td>\n",
       "      <td>24900000</td>\n",
       "    </tr>\n",
       "    <tr>\n",
       "      <th>10</th>\n",
       "      <td>2.616667e+07</td>\n",
       "      <td>3</td>\n",
       "      <td>23000000</td>\n",
       "    </tr>\n",
       "    <tr>\n",
       "      <th>8</th>\n",
       "      <td>4.858167e+07</td>\n",
       "      <td>6</td>\n",
       "      <td>21045000</td>\n",
       "    </tr>\n",
       "    <tr>\n",
       "      <th>6</th>\n",
       "      <td>3.154598e+07</td>\n",
       "      <td>69</td>\n",
       "      <td>18250000</td>\n",
       "    </tr>\n",
       "    <tr>\n",
       "      <th>5</th>\n",
       "      <td>2.133618e+07</td>\n",
       "      <td>207</td>\n",
       "      <td>14000000</td>\n",
       "    </tr>\n",
       "    <tr>\n",
       "      <th>4</th>\n",
       "      <td>1.304092e+07</td>\n",
       "      <td>756</td>\n",
       "      <td>9145000</td>\n",
       "    </tr>\n",
       "    <tr>\n",
       "      <th>3</th>\n",
       "      <td>8.279376e+06</td>\n",
       "      <td>3562</td>\n",
       "      <td>6300000</td>\n",
       "    </tr>\n",
       "    <tr>\n",
       "      <th>2</th>\n",
       "      <td>5.751196e+06</td>\n",
       "      <td>4534</td>\n",
       "      <td>4900000</td>\n",
       "    </tr>\n",
       "    <tr>\n",
       "      <th>1</th>\n",
       "      <td>3.894089e+06</td>\n",
       "      <td>4315</td>\n",
       "      <td>3650000</td>\n",
       "    </tr>\n",
       "    <tr>\n",
       "      <th>0</th>\n",
       "      <td>3.276855e+06</td>\n",
       "      <td>75</td>\n",
       "      <td>3100000</td>\n",
       "    </tr>\n",
       "  </tbody>\n",
       "</table>\n",
       "</div>"
      ],
      "text/plain": [
       "               mean  count    median\n",
       "rooms                               \n",
       "16     2.850000e+07      1  28500000\n",
       "9      3.945315e+07      6  26500000\n",
       "11     2.525000e+07      2  25250000\n",
       "14     2.500000e+07      1  25000000\n",
       "7      3.756486e+07     37  24900000\n",
       "10     2.616667e+07      3  23000000\n",
       "8      4.858167e+07      6  21045000\n",
       "6      3.154598e+07     69  18250000\n",
       "5      2.133618e+07    207  14000000\n",
       "4      1.304092e+07    756   9145000\n",
       "3      8.279376e+06   3562   6300000\n",
       "2      5.751196e+06   4534   4900000\n",
       "1      3.894089e+06   4315   3650000\n",
       "0      3.276855e+06     75   3100000"
      ]
     },
     "execution_count": 87,
     "metadata": {},
     "output_type": "execute_result"
    }
   ],
   "source": [
    "# отсортируем таблицу по убыванию\n",
    "rooms_pivot.sort_values('median', ascending=False)"
   ]
  },
  {
   "cell_type": "code",
   "execution_count": 88,
   "metadata": {},
   "outputs": [
    {
     "data": {
      "image/png": "[encoded data removed]",
      "text/plain": [
       "<Figure size 432x288 with 1 Axes>"
      ]
     },
     "metadata": {
      "needs_background": "light"
     },
     "output_type": "display_data"
    }
   ],
   "source": [
    "# постороим график\n",
    "df.plot(x='rooms', y='last_price', kind='scatter', alpha=0.4)\n",
    "None"
   ]
  },
  {
   "cell_type": "code",
   "execution_count": 89,
   "metadata": {
    "scrolled": true
   },
   "outputs": [
    {
     "data": {
      "text/plain": [
       "0.3961695974281627"
      ]
     },
     "execution_count": 89,
     "metadata": {},
     "output_type": "execute_result"
    }
   ],
   "source": [
    "# вычислим коэффициент корреляции Пирсона, чтобы оценить характер связи\n",
    "df['rooms'].corr(df['last_price'])"
   ]
  },
  {
   "cell_type": "markdown",
   "metadata": {},
   "source": [
    "**Вывод:**\n",
    "\n",
    "Положительная корреляция предполагает, что в целом по мере увеличения количества комнат в квартире общая стоимость также имеет тенденцию к увеличению. Это соответствует распространенному мнению, что большие квартиры с большим количеством комнат, как правило, стоят дороже. При этом, значение 0,396 указывает на то, что связь относительно слабая."
   ]
  },
  {
   "cell_type": "markdown",
   "metadata": {},
   "source": [
    "**Есть ли зависимость между этажом квартиры и ценой квартиры?**"
   ]
  },
  {
   "cell_type": "code",
   "execution_count": 90,
   "metadata": {},
   "outputs": [],
   "source": [
    "# создадим сводную таблицу для расчета средней 'last_price' для каждой 'floor_category'\n",
    "floor_category_pivot = df.pivot_table(index='floor_category', values='last_price', aggfunc=['mean', 'count', 'median'])\n",
    "floor_category_pivot.columns = ['mean', 'count', 'median']"
   ]
  },
  {
   "cell_type": "code",
   "execution_count": 91,
   "metadata": {},
   "outputs": [
    {
     "data": {
      "text/html": [
       "<div>\n",
       "<style scoped>\n",
       "    .dataframe tbody tr th:only-of-type {\n",
       "        vertical-align: middle;\n",
       "    }\n",
       "\n",
       "    .dataframe tbody tr th {\n",
       "        vertical-align: top;\n",
       "    }\n",
       "\n",
       "    .dataframe thead th {\n",
       "        text-align: right;\n",
       "    }\n",
       "</style>\n",
       "<table border=\"1\" class=\"dataframe\">\n",
       "  <thead>\n",
       "    <tr style=\"text-align: right;\">\n",
       "      <th></th>\n",
       "      <th>mean</th>\n",
       "      <th>count</th>\n",
       "      <th>median</th>\n",
       "    </tr>\n",
       "    <tr>\n",
       "      <th>floor_category</th>\n",
       "      <th></th>\n",
       "      <th></th>\n",
       "      <th></th>\n",
       "    </tr>\n",
       "  </thead>\n",
       "  <tbody>\n",
       "    <tr>\n",
       "      <th>другой</th>\n",
       "      <td>6.947727e+06</td>\n",
       "      <td>9931</td>\n",
       "      <td>5000000</td>\n",
       "    </tr>\n",
       "    <tr>\n",
       "      <th>последний</th>\n",
       "      <td>6.949874e+06</td>\n",
       "      <td>1944</td>\n",
       "      <td>4550000</td>\n",
       "    </tr>\n",
       "    <tr>\n",
       "      <th>первый</th>\n",
       "      <td>5.097232e+06</td>\n",
       "      <td>1699</td>\n",
       "      <td>4100000</td>\n",
       "    </tr>\n",
       "  </tbody>\n",
       "</table>\n",
       "</div>"
      ],
      "text/plain": [
       "                        mean  count   median\n",
       "floor_category                              \n",
       "другой          6.947727e+06   9931  5000000\n",
       "последний       6.949874e+06   1944  4550000\n",
       "первый          5.097232e+06   1699  4100000"
      ]
     },
     "execution_count": 91,
     "metadata": {},
     "output_type": "execute_result"
    }
   ],
   "source": [
    "# отсортируем таблицу по убыванию\n",
    "floor_category_pivot.sort_values('median', ascending=False)"
   ]
  },
  {
   "cell_type": "code",
   "execution_count": 92,
   "metadata": {
    "scrolled": true
   },
   "outputs": [
    {
     "data": {
      "image/png": "[encoded data removed]",
      "text/plain": [
       "<Figure size 432x288 with 1 Axes>"
      ]
     },
     "metadata": {
      "needs_background": "light"
     },
     "output_type": "display_data"
    }
   ],
   "source": [
    "# постороим график\n",
    "df.plot(x='floor_category', y='last_price', kind='scatter', alpha=0.4)\n",
    "None"
   ]
  },
  {
   "cell_type": "markdown",
   "metadata": {},
   "source": [
    "**Вывод:**\n",
    "\n",
    "Согласно графику цена квартир расположенных на первом этаже ниже цены тех, которые расположены на верхнем этаже здания. При этом квартиры между первым и последним этажами имеют самую высокую стоимость среди представленных категорий."
   ]
  },
  {
   "cell_type": "markdown",
   "metadata": {},
   "source": [
    "**Есть ли зависимость между датой размещения объявления о продаже и ценой объекта недвижимости?**\n",
    "\n",
    "Проведем анализ взаимосвязи между датой размещения объявления о продаже и стоимостью квартир, оценивая отдельно такие категории как: *день недели, месяц, год.*"
   ]
  },
  {
   "cell_type": "code",
   "execution_count": 93,
   "metadata": {},
   "outputs": [],
   "source": [
    "# создадим сводную таблицу для расчета средней 'last_price' для каждой 'day_exposed'\n",
    "day_exposed_pivot = df.pivot_table(index='day_exposed', values='last_price', aggfunc=['mean', 'count', 'median'])\n",
    "day_exposed_pivot.columns = ['mean', 'count', 'median']"
   ]
  },
  {
   "cell_type": "code",
   "execution_count": 94,
   "metadata": {},
   "outputs": [
    {
     "data": {
      "text/html": [
       "<div>\n",
       "<style scoped>\n",
       "    .dataframe tbody tr th:only-of-type {\n",
       "        vertical-align: middle;\n",
       "    }\n",
       "\n",
       "    .dataframe tbody tr th {\n",
       "        vertical-align: top;\n",
       "    }\n",
       "\n",
       "    .dataframe thead th {\n",
       "        text-align: right;\n",
       "    }\n",
       "</style>\n",
       "<table border=\"1\" class=\"dataframe\">\n",
       "  <thead>\n",
       "    <tr style=\"text-align: right;\">\n",
       "      <th></th>\n",
       "      <th>mean</th>\n",
       "      <th>count</th>\n",
       "      <th>median</th>\n",
       "    </tr>\n",
       "    <tr>\n",
       "      <th>day_exposed</th>\n",
       "      <th></th>\n",
       "      <th></th>\n",
       "      <th></th>\n",
       "    </tr>\n",
       "  </thead>\n",
       "  <tbody>\n",
       "    <tr>\n",
       "      <th>1</th>\n",
       "      <td>6.781085e+06</td>\n",
       "      <td>2490</td>\n",
       "      <td>4994500</td>\n",
       "    </tr>\n",
       "    <tr>\n",
       "      <th>0</th>\n",
       "      <td>6.921969e+06</td>\n",
       "      <td>2222</td>\n",
       "      <td>4950000</td>\n",
       "    </tr>\n",
       "    <tr>\n",
       "      <th>2</th>\n",
       "      <td>6.653041e+06</td>\n",
       "      <td>2251</td>\n",
       "      <td>4900000</td>\n",
       "    </tr>\n",
       "    <tr>\n",
       "      <th>3</th>\n",
       "      <td>6.951126e+06</td>\n",
       "      <td>2485</td>\n",
       "      <td>4900000</td>\n",
       "    </tr>\n",
       "    <tr>\n",
       "      <th>4</th>\n",
       "      <td>6.517669e+06</td>\n",
       "      <td>2163</td>\n",
       "      <td>4750000</td>\n",
       "    </tr>\n",
       "    <tr>\n",
       "      <th>6</th>\n",
       "      <td>6.527675e+06</td>\n",
       "      <td>888</td>\n",
       "      <td>4700000</td>\n",
       "    </tr>\n",
       "    <tr>\n",
       "      <th>5</th>\n",
       "      <td>6.287694e+06</td>\n",
       "      <td>1075</td>\n",
       "      <td>4650000</td>\n",
       "    </tr>\n",
       "  </tbody>\n",
       "</table>\n",
       "</div>"
      ],
      "text/plain": [
       "                     mean  count   median\n",
       "day_exposed                              \n",
       "1            6.781085e+06   2490  4994500\n",
       "0            6.921969e+06   2222  4950000\n",
       "2            6.653041e+06   2251  4900000\n",
       "3            6.951126e+06   2485  4900000\n",
       "4            6.517669e+06   2163  4750000\n",
       "6            6.527675e+06    888  4700000\n",
       "5            6.287694e+06   1075  4650000"
      ]
     },
     "execution_count": 94,
     "metadata": {},
     "output_type": "execute_result"
    }
   ],
   "source": [
    "# отсортируем таблицу по убыванию\n",
    "day_exposed_pivot.sort_values('median', ascending=False)"
   ]
  },
  {
   "cell_type": "code",
   "execution_count": 95,
   "metadata": {},
   "outputs": [
    {
     "data": {
      "image/png": "[encoded data removed]",
      "text/plain": [
       "<Figure size 432x288 with 1 Axes>"
      ]
     },
     "metadata": {
      "needs_background": "light"
     },
     "output_type": "display_data"
    }
   ],
   "source": [
    "# постороим график\n",
    "day_exposed_pivot.plot(y='median')\n",
    "None"
   ]
  },
  {
   "cell_type": "markdown",
   "metadata": {},
   "source": [
    "**Вывод:**\n",
    "\n",
    "Согласно графику, довольно высокая цена квартир отмечается в объявлениях размещенных в понедельник, и во **вторник** достигает своего пика. То есть, по вторникам продавцы недвижимости объявляют самые высокие цены. В среду стоимость квартир в объявлениях несколько снижается и остается неизменной в четверг. Далее цена стремительно падает и достигает своей нижней отметки в объявлениях размещенных в **субботу**. Вероятно это связано с целью привлечь покупателя, который как раз в свободный от работы день займётся поисками желанной квартиры. Или, менее корыстное предположение — расслабленные субботним днём и в приподнятом настроении продавцы становятся более щедры, размещая объявления о продаже квартир. В воскресенье цена снова начинает расти."
   ]
  },
  {
   "cell_type": "code",
   "execution_count": 96,
   "metadata": {},
   "outputs": [],
   "source": [
    "# создадим сводную таблицу для расчета средней 'last_price' для каждой 'month_exposed'\n",
    "month_exposed_pivot = df.pivot_table(index='month_exposed', values='last_price', aggfunc=['mean', 'count', 'median'])\n",
    "month_exposed_pivot.columns = ['mean', 'count', 'median']"
   ]
  },
  {
   "cell_type": "code",
   "execution_count": 97,
   "metadata": {},
   "outputs": [
    {
     "data": {
      "text/html": [
       "<div>\n",
       "<style scoped>\n",
       "    .dataframe tbody tr th:only-of-type {\n",
       "        vertical-align: middle;\n",
       "    }\n",
       "\n",
       "    .dataframe tbody tr th {\n",
       "        vertical-align: top;\n",
       "    }\n",
       "\n",
       "    .dataframe thead th {\n",
       "        text-align: right;\n",
       "    }\n",
       "</style>\n",
       "<table border=\"1\" class=\"dataframe\">\n",
       "  <thead>\n",
       "    <tr style=\"text-align: right;\">\n",
       "      <th></th>\n",
       "      <th>mean</th>\n",
       "      <th>count</th>\n",
       "      <th>median</th>\n",
       "    </tr>\n",
       "    <tr>\n",
       "      <th>month_exposed</th>\n",
       "      <th></th>\n",
       "      <th></th>\n",
       "      <th></th>\n",
       "    </tr>\n",
       "  </thead>\n",
       "  <tbody>\n",
       "    <tr>\n",
       "      <th>4</th>\n",
       "      <td>7.180441e+06</td>\n",
       "      <td>1397</td>\n",
       "      <td>5000000</td>\n",
       "    </tr>\n",
       "    <tr>\n",
       "      <th>1</th>\n",
       "      <td>7.008513e+06</td>\n",
       "      <td>847</td>\n",
       "      <td>4950000</td>\n",
       "    </tr>\n",
       "    <tr>\n",
       "      <th>2</th>\n",
       "      <td>6.685524e+06</td>\n",
       "      <td>1571</td>\n",
       "      <td>4950000</td>\n",
       "    </tr>\n",
       "    <tr>\n",
       "      <th>12</th>\n",
       "      <td>7.180409e+06</td>\n",
       "      <td>856</td>\n",
       "      <td>4950000</td>\n",
       "    </tr>\n",
       "    <tr>\n",
       "      <th>7</th>\n",
       "      <td>6.944868e+06</td>\n",
       "      <td>986</td>\n",
       "      <td>4902000</td>\n",
       "    </tr>\n",
       "    <tr>\n",
       "      <th>8</th>\n",
       "      <td>6.742073e+06</td>\n",
       "      <td>1025</td>\n",
       "      <td>4900000</td>\n",
       "    </tr>\n",
       "    <tr>\n",
       "      <th>9</th>\n",
       "      <td>6.750406e+06</td>\n",
       "      <td>1155</td>\n",
       "      <td>4850000</td>\n",
       "    </tr>\n",
       "    <tr>\n",
       "      <th>11</th>\n",
       "      <td>6.585617e+06</td>\n",
       "      <td>1355</td>\n",
       "      <td>4850000</td>\n",
       "    </tr>\n",
       "    <tr>\n",
       "      <th>5</th>\n",
       "      <td>6.910471e+06</td>\n",
       "      <td>672</td>\n",
       "      <td>4800000</td>\n",
       "    </tr>\n",
       "    <tr>\n",
       "      <th>3</th>\n",
       "      <td>6.385750e+06</td>\n",
       "      <td>1610</td>\n",
       "      <td>4750000</td>\n",
       "    </tr>\n",
       "    <tr>\n",
       "      <th>10</th>\n",
       "      <td>6.302933e+06</td>\n",
       "      <td>1262</td>\n",
       "      <td>4700000</td>\n",
       "    </tr>\n",
       "    <tr>\n",
       "      <th>6</th>\n",
       "      <td>6.198402e+06</td>\n",
       "      <td>838</td>\n",
       "      <td>4625000</td>\n",
       "    </tr>\n",
       "  </tbody>\n",
       "</table>\n",
       "</div>"
      ],
      "text/plain": [
       "                       mean  count   median\n",
       "month_exposed                              \n",
       "4              7.180441e+06   1397  5000000\n",
       "1              7.008513e+06    847  4950000\n",
       "2              6.685524e+06   1571  4950000\n",
       "12             7.180409e+06    856  4950000\n",
       "7              6.944868e+06    986  4902000\n",
       "8              6.742073e+06   1025  4900000\n",
       "9              6.750406e+06   1155  4850000\n",
       "11             6.585617e+06   1355  4850000\n",
       "5              6.910471e+06    672  4800000\n",
       "3              6.385750e+06   1610  4750000\n",
       "10             6.302933e+06   1262  4700000\n",
       "6              6.198402e+06    838  4625000"
      ]
     },
     "execution_count": 97,
     "metadata": {},
     "output_type": "execute_result"
    }
   ],
   "source": [
    "# отсортируем таблицу по убыванию\n",
    "month_exposed_pivot.sort_values('median', ascending=False)"
   ]
  },
  {
   "cell_type": "code",
   "execution_count": 98,
   "metadata": {},
   "outputs": [
    {
     "data": {
      "image/png": "[encoded data removed]",
      "text/plain": [
       "<Figure size 432x288 with 1 Axes>"
      ]
     },
     "metadata": {
      "needs_background": "light"
     },
     "output_type": "display_data"
    }
   ],
   "source": [
    "# постороим график\n",
    "month_exposed_pivot.plot(y='median')\n",
    "None"
   ]
  },
  {
   "cell_type": "markdown",
   "metadata": {},
   "source": [
    "**Вывод:**\n",
    "\n",
    "График показывает устойчиво высокую стоимость квартир в объявлениях размещенных в зимние месяцы (декабрь, январь, февраль). В марте цены существенно, но не на долго снижаются, а в **апреле** достигают своего самого высокого пика в течение года. Однако уже в **июне** продавцы недвижимости объявляют самые низкие цены. В июле и августе стоимость квартир в объявлениях снова довольно высока и к октябрю существенно падает, чтобы начать расти к зиме. График взлётов и падений отражает захватывающий путь желающих продать недвижимость равно как и желающих её приобрести."
   ]
  },
  {
   "cell_type": "code",
   "execution_count": 99,
   "metadata": {},
   "outputs": [],
   "source": [
    "# создадим сводную таблицу для расчета средней 'last_price' для каждой 'year_exposed'\n",
    "year_exposed_pivot = df.pivot_table(index='year_exposed', values='last_price', aggfunc=['mean', 'count', 'median'])\n",
    "year_exposed_pivot.columns = ['mean', 'count', 'median']"
   ]
  },
  {
   "cell_type": "code",
   "execution_count": 100,
   "metadata": {},
   "outputs": [
    {
     "data": {
      "text/html": [
       "<div>\n",
       "<style scoped>\n",
       "    .dataframe tbody tr th:only-of-type {\n",
       "        vertical-align: middle;\n",
       "    }\n",
       "\n",
       "    .dataframe tbody tr th {\n",
       "        vertical-align: top;\n",
       "    }\n",
       "\n",
       "    .dataframe thead th {\n",
       "        text-align: right;\n",
       "    }\n",
       "</style>\n",
       "<table border=\"1\" class=\"dataframe\">\n",
       "  <thead>\n",
       "    <tr style=\"text-align: right;\">\n",
       "      <th></th>\n",
       "      <th>mean</th>\n",
       "      <th>count</th>\n",
       "      <th>median</th>\n",
       "    </tr>\n",
       "    <tr>\n",
       "      <th>year_exposed</th>\n",
       "      <th></th>\n",
       "      <th></th>\n",
       "      <th></th>\n",
       "    </tr>\n",
       "  </thead>\n",
       "  <tbody>\n",
       "    <tr>\n",
       "      <th>2014</th>\n",
       "      <td>1.162210e+07</td>\n",
       "      <td>73</td>\n",
       "      <td>7580000</td>\n",
       "    </tr>\n",
       "    <tr>\n",
       "      <th>2015</th>\n",
       "      <td>9.214701e+06</td>\n",
       "      <td>580</td>\n",
       "      <td>5597700</td>\n",
       "    </tr>\n",
       "    <tr>\n",
       "      <th>2019</th>\n",
       "      <td>6.898636e+06</td>\n",
       "      <td>2070</td>\n",
       "      <td>5200000</td>\n",
       "    </tr>\n",
       "    <tr>\n",
       "      <th>2016</th>\n",
       "      <td>6.767709e+06</td>\n",
       "      <td>1338</td>\n",
       "      <td>4845000</td>\n",
       "    </tr>\n",
       "    <tr>\n",
       "      <th>2018</th>\n",
       "      <td>6.123558e+06</td>\n",
       "      <td>5292</td>\n",
       "      <td>4725000</td>\n",
       "    </tr>\n",
       "    <tr>\n",
       "      <th>2017</th>\n",
       "      <td>6.925952e+06</td>\n",
       "      <td>4221</td>\n",
       "      <td>4700000</td>\n",
       "    </tr>\n",
       "  </tbody>\n",
       "</table>\n",
       "</div>"
      ],
      "text/plain": [
       "                      mean  count   median\n",
       "year_exposed                              \n",
       "2014          1.162210e+07     73  7580000\n",
       "2015          9.214701e+06    580  5597700\n",
       "2019          6.898636e+06   2070  5200000\n",
       "2016          6.767709e+06   1338  4845000\n",
       "2018          6.123558e+06   5292  4725000\n",
       "2017          6.925952e+06   4221  4700000"
      ]
     },
     "execution_count": 100,
     "metadata": {},
     "output_type": "execute_result"
    }
   ],
   "source": [
    "# отсортируем таблицу по убыванию\n",
    "year_exposed_pivot.sort_values('median', ascending=False)"
   ]
  },
  {
   "cell_type": "code",
   "execution_count": 101,
   "metadata": {},
   "outputs": [
    {
     "data": {
      "image/png": "[encoded data removed]",
      "text/plain": [
       "<Figure size 432x288 with 1 Axes>"
      ]
     },
     "metadata": {
      "needs_background": "light"
     },
     "output_type": "display_data"
    }
   ],
   "source": [
    "# постороим график\n",
    "year_exposed_pivot.plot(y='median')\n",
    "None"
   ]
  },
  {
   "cell_type": "markdown",
   "metadata": {},
   "source": [
    "В целом график отражает общую картину. Однако дополнительно рассмотрим как изменялась цена за м² в зависомости от года объявления о продаже."
   ]
  },
  {
   "cell_type": "code",
   "execution_count": 102,
   "metadata": {},
   "outputs": [
    {
     "data": {
      "image/png": "[encoded data removed]",
      "text/plain": [
       "<Figure size 360x216 with 1 Axes>"
      ]
     },
     "metadata": {
      "needs_background": "light"
     },
     "output_type": "display_data"
    }
   ],
   "source": [
    "# сгруппируем данные по 'year_exposed' и вычислим среднюю стоимость м²\n",
    "yearly_mean_price = df.groupby('year_exposed')['price_per_sqm'].mean()\n",
    "# построим график\n",
    "plt.figure(figsize=(5, 3))\n",
    "plt.plot(yearly_mean_price.index, yearly_mean_price.values, marker='o', linestyle='-')\n",
    "plt.title('Динамика цены по годам')\n",
    "plt.ylabel('Средняя ценая за м²')\n",
    "plt.grid(True)\n",
    "plt.show()"
   ]
  },
  {
   "cell_type": "markdown",
   "metadata": {},
   "source": [
    "**Вывод:**\n",
    "\n",
    "- Согласно графику, самая высокая цена недвижимости отмечается в объявлениях размещенных в 2014 году. В среднем цена за м² составляла 120 000 рублей. \n",
    "- Объявляемая продавцами стоимость квартир стремительно падает к 2016 году, где цена за м² находится в районе 50 000 рублей. Далее снижение цен немного замедляется. \n",
    "- С 2017 по 2018 цены стабилизируются на уровне 100 000 рублей, а с 2018 года наблюдается не большой рост."
   ]
  },
  {
   "cell_type": "markdown",
   "metadata": {},
   "source": [
    "**Определим населённые пункты с самой высокой и низкой стоимостью квадратного метра.**"
   ]
  },
  {
   "cell_type": "code",
   "execution_count": 103,
   "metadata": {},
   "outputs": [],
   "source": [
    "# создадим сводную таблицу для расчета средней 'price_per_sqm' для каждой 'locality_name'\n",
    "locality_name_pivot = df.pivot_table(index='locality_name', values='price_per_sqm', aggfunc=['mean', 'count'])\n",
    "locality_name_pivot.columns = ['mean', 'count']"
   ]
  },
  {
   "cell_type": "code",
   "execution_count": 104,
   "metadata": {},
   "outputs": [
    {
     "data": {
      "text/html": [
       "<div>\n",
       "<style scoped>\n",
       "    .dataframe tbody tr th:only-of-type {\n",
       "        vertical-align: middle;\n",
       "    }\n",
       "\n",
       "    .dataframe tbody tr th {\n",
       "        vertical-align: top;\n",
       "    }\n",
       "\n",
       "    .dataframe thead th {\n",
       "        text-align: right;\n",
       "    }\n",
       "</style>\n",
       "<table border=\"1\" class=\"dataframe\">\n",
       "  <thead>\n",
       "    <tr style=\"text-align: right;\">\n",
       "      <th></th>\n",
       "      <th>mean</th>\n",
       "      <th>count</th>\n",
       "    </tr>\n",
       "    <tr>\n",
       "      <th>locality_name</th>\n",
       "      <th></th>\n",
       "      <th></th>\n",
       "    </tr>\n",
       "  </thead>\n",
       "  <tbody>\n",
       "    <tr>\n",
       "      <th>Санкт-Петербург</th>\n",
       "      <td>114867.173706</td>\n",
       "      <td>9496</td>\n",
       "    </tr>\n",
       "    <tr>\n",
       "      <th>Всеволожск</th>\n",
       "      <td>67604.199016</td>\n",
       "      <td>254</td>\n",
       "    </tr>\n",
       "    <tr>\n",
       "      <th>Пушкин</th>\n",
       "      <td>103831.563318</td>\n",
       "      <td>220</td>\n",
       "    </tr>\n",
       "    <tr>\n",
       "      <th>поселок Шушары</th>\n",
       "      <td>79236.459561</td>\n",
       "      <td>205</td>\n",
       "    </tr>\n",
       "    <tr>\n",
       "      <th>поселок Мурино</th>\n",
       "      <td>87263.103911</td>\n",
       "      <td>202</td>\n",
       "    </tr>\n",
       "    <tr>\n",
       "      <th>Колпино</th>\n",
       "      <td>75927.274031</td>\n",
       "      <td>196</td>\n",
       "    </tr>\n",
       "    <tr>\n",
       "      <th>Петергоф</th>\n",
       "      <td>85228.159155</td>\n",
       "      <td>142</td>\n",
       "    </tr>\n",
       "    <tr>\n",
       "      <th>Гатчина</th>\n",
       "      <td>69708.342941</td>\n",
       "      <td>136</td>\n",
       "    </tr>\n",
       "    <tr>\n",
       "      <th>поселок Парголово</th>\n",
       "      <td>91017.153308</td>\n",
       "      <td>133</td>\n",
       "    </tr>\n",
       "    <tr>\n",
       "      <th>Сестрорецк</th>\n",
       "      <td>102096.515798</td>\n",
       "      <td>119</td>\n",
       "    </tr>\n",
       "  </tbody>\n",
       "</table>\n",
       "</div>"
      ],
      "text/plain": [
       "                            mean  count\n",
       "locality_name                          \n",
       "Санкт-Петербург    114867.173706   9496\n",
       "Всеволожск          67604.199016    254\n",
       "Пушкин             103831.563318    220\n",
       "поселок Шушары      79236.459561    205\n",
       "поселок Мурино      87263.103911    202\n",
       "Колпино             75927.274031    196\n",
       "Петергоф            85228.159155    142\n",
       "Гатчина             69708.342941    136\n",
       "поселок Парголово   91017.153308    133\n",
       "Сестрорецк         102096.515798    119"
      ]
     },
     "execution_count": 104,
     "metadata": {},
     "output_type": "execute_result"
    }
   ],
   "source": [
    "# отсортируем таблицу и выведем 10 населённых пунктов с наибольшим числом объявлений \n",
    "locality_name_pivot.sort_values('count', ascending=False).head(10)"
   ]
  },
  {
   "cell_type": "markdown",
   "metadata": {},
   "source": [
    "Оценим стоимость квадратного метра в топ 10 населенных пунктах."
   ]
  },
  {
   "cell_type": "code",
   "execution_count": 105,
   "metadata": {},
   "outputs": [],
   "source": [
    "# создадим переменную для хранения отсортированной таблицы\n",
    "locality_name_sorted = locality_name_pivot.sort_values('count', ascending=False).head(10)"
   ]
  },
  {
   "cell_type": "code",
   "execution_count": 106,
   "metadata": {},
   "outputs": [
    {
     "data": {
      "image/png": "[encoded data removed]",
      "text/plain": [
       "<Figure size 432x216 with 1 Axes>"
      ]
     },
     "metadata": {
      "needs_background": "light"
     },
     "output_type": "display_data"
    }
   ],
   "source": [
    "# сохраним данные из 'locality_name_sorted' в отдельные переменные\n",
    "# название населённого пункта\n",
    "localities = locality_name_sorted.index \n",
    "# значение с ценой за м²\n",
    "counts = locality_name_sorted['mean'].sort_values(ascending=False)\n",
    "# построим столбчатую диаграмму\n",
    "plt.figure(figsize=(6, 3))\n",
    "plt.bar(localities, counts)\n",
    "# укажем наименования\n",
    "plt.ylabel('Цена за м²')\n",
    "plt.title('Топ 10 населённых пунктов')\n",
    "# повернем метки по оси X на 45 градусов\n",
    "plt.xticks(rotation=45, ha=\"right\")\n",
    "# линия сетки на графике\n",
    "plt.grid(True)\n",
    "# выведем диаграмму\n",
    "plt.show()"
   ]
  },
  {
   "cell_type": "code",
   "execution_count": 107,
   "metadata": {},
   "outputs": [
    {
     "data": {
      "text/html": [
       "<div>\n",
       "<style scoped>\n",
       "    .dataframe tbody tr th:only-of-type {\n",
       "        vertical-align: middle;\n",
       "    }\n",
       "\n",
       "    .dataframe tbody tr th {\n",
       "        vertical-align: top;\n",
       "    }\n",
       "\n",
       "    .dataframe thead th {\n",
       "        text-align: right;\n",
       "    }\n",
       "</style>\n",
       "<table border=\"1\" class=\"dataframe\">\n",
       "  <thead>\n",
       "    <tr style=\"text-align: right;\">\n",
       "      <th></th>\n",
       "      <th>mean</th>\n",
       "      <th>count</th>\n",
       "    </tr>\n",
       "    <tr>\n",
       "      <th>locality_name</th>\n",
       "      <th></th>\n",
       "      <th></th>\n",
       "    </tr>\n",
       "  </thead>\n",
       "  <tbody>\n",
       "    <tr>\n",
       "      <th>Санкт-Петербург</th>\n",
       "      <td>114867.173706</td>\n",
       "      <td>9496</td>\n",
       "    </tr>\n",
       "  </tbody>\n",
       "</table>\n",
       "</div>"
      ],
      "text/plain": [
       "                          mean  count\n",
       "locality_name                        \n",
       "Санкт-Петербург  114867.173706   9496"
      ]
     },
     "execution_count": 107,
     "metadata": {},
     "output_type": "execute_result"
    }
   ],
   "source": [
    "# найдём населенные пункты с самой высокой средней ценой в наборе\n",
    "locality_name_sorted[locality_name_sorted['mean'] == locality_name_sorted['mean'].max()]"
   ]
  },
  {
   "cell_type": "code",
   "execution_count": 108,
   "metadata": {},
   "outputs": [
    {
     "data": {
      "text/html": [
       "<div>\n",
       "<style scoped>\n",
       "    .dataframe tbody tr th:only-of-type {\n",
       "        vertical-align: middle;\n",
       "    }\n",
       "\n",
       "    .dataframe tbody tr th {\n",
       "        vertical-align: top;\n",
       "    }\n",
       "\n",
       "    .dataframe thead th {\n",
       "        text-align: right;\n",
       "    }\n",
       "</style>\n",
       "<table border=\"1\" class=\"dataframe\">\n",
       "  <thead>\n",
       "    <tr style=\"text-align: right;\">\n",
       "      <th></th>\n",
       "      <th>mean</th>\n",
       "      <th>count</th>\n",
       "    </tr>\n",
       "    <tr>\n",
       "      <th>locality_name</th>\n",
       "      <th></th>\n",
       "      <th></th>\n",
       "    </tr>\n",
       "  </thead>\n",
       "  <tbody>\n",
       "    <tr>\n",
       "      <th>Всеволожск</th>\n",
       "      <td>67604.199016</td>\n",
       "      <td>254</td>\n",
       "    </tr>\n",
       "  </tbody>\n",
       "</table>\n",
       "</div>"
      ],
      "text/plain": [
       "                       mean  count\n",
       "locality_name                     \n",
       "Всеволожск     67604.199016    254"
      ]
     },
     "execution_count": 108,
     "metadata": {},
     "output_type": "execute_result"
    }
   ],
   "source": [
    "# найдём населенные пункты с самой низкой средней ценой в наборе\n",
    "locality_name_sorted[locality_name_sorted['mean'] == locality_name_sorted['mean'].min()]"
   ]
  },
  {
   "cell_type": "markdown",
   "metadata": {},
   "source": [
    "**Вывод:**\n",
    "\n",
    "Среди 10 населённых пунктов с наибольшим числом объявлений самая высокая стоимость квадратного метра обнаружена в Санкт-Петербурге, что вполне предсказуемо. Вместе с тем, самая низкая стоимость квадратного метра отмечается во Всеволожске."
   ]
  },
  {
   "cell_type": "markdown",
   "metadata": {},
   "source": [
    "**Определим, как стоимость объектов зависит от расстояния до центра города Санкт-Петербурга.**"
   ]
  },
  {
   "cell_type": "code",
   "execution_count": 109,
   "metadata": {},
   "outputs": [
    {
     "data": {
      "text/html": [
       "<div>\n",
       "<style scoped>\n",
       "    .dataframe tbody tr th:only-of-type {\n",
       "        vertical-align: middle;\n",
       "    }\n",
       "\n",
       "    .dataframe tbody tr th {\n",
       "        vertical-align: top;\n",
       "    }\n",
       "\n",
       "    .dataframe thead th {\n",
       "        text-align: right;\n",
       "    }\n",
       "</style>\n",
       "<table border=\"1\" class=\"dataframe\">\n",
       "  <thead>\n",
       "    <tr style=\"text-align: right;\">\n",
       "      <th></th>\n",
       "      <th>distance_to_center_km</th>\n",
       "      <th>price_per_sqm</th>\n",
       "    </tr>\n",
       "  </thead>\n",
       "  <tbody>\n",
       "    <tr>\n",
       "      <th>0</th>\n",
       "      <td>0.0</td>\n",
       "      <td>182871.621875</td>\n",
       "    </tr>\n",
       "    <tr>\n",
       "      <th>1</th>\n",
       "      <td>1.0</td>\n",
       "      <td>176088.118359</td>\n",
       "    </tr>\n",
       "    <tr>\n",
       "      <th>2</th>\n",
       "      <td>2.0</td>\n",
       "      <td>163191.641005</td>\n",
       "    </tr>\n",
       "    <tr>\n",
       "      <th>3</th>\n",
       "      <td>3.0</td>\n",
       "      <td>119147.266422</td>\n",
       "    </tr>\n",
       "    <tr>\n",
       "      <th>4</th>\n",
       "      <td>4.0</td>\n",
       "      <td>130233.026196</td>\n",
       "    </tr>\n",
       "    <tr>\n",
       "      <th>5</th>\n",
       "      <td>5.0</td>\n",
       "      <td>137104.636210</td>\n",
       "    </tr>\n",
       "    <tr>\n",
       "      <th>6</th>\n",
       "      <td>6.0</td>\n",
       "      <td>144322.599039</td>\n",
       "    </tr>\n",
       "    <tr>\n",
       "      <th>7</th>\n",
       "      <td>7.0</td>\n",
       "      <td>157948.083740</td>\n",
       "    </tr>\n",
       "    <tr>\n",
       "      <th>8</th>\n",
       "      <td>8.0</td>\n",
       "      <td>125499.809011</td>\n",
       "    </tr>\n",
       "    <tr>\n",
       "      <th>9</th>\n",
       "      <td>9.0</td>\n",
       "      <td>116658.722695</td>\n",
       "    </tr>\n",
       "    <tr>\n",
       "      <th>10</th>\n",
       "      <td>10.0</td>\n",
       "      <td>114599.052511</td>\n",
       "    </tr>\n",
       "    <tr>\n",
       "      <th>11</th>\n",
       "      <td>11.0</td>\n",
       "      <td>108424.566553</td>\n",
       "    </tr>\n",
       "    <tr>\n",
       "      <th>12</th>\n",
       "      <td>12.0</td>\n",
       "      <td>108467.573455</td>\n",
       "    </tr>\n",
       "    <tr>\n",
       "      <th>13</th>\n",
       "      <td>13.0</td>\n",
       "      <td>108400.472867</td>\n",
       "    </tr>\n",
       "    <tr>\n",
       "      <th>14</th>\n",
       "      <td>14.0</td>\n",
       "      <td>104097.639188</td>\n",
       "    </tr>\n",
       "    <tr>\n",
       "      <th>15</th>\n",
       "      <td>15.0</td>\n",
       "      <td>105321.007056</td>\n",
       "    </tr>\n",
       "    <tr>\n",
       "      <th>16</th>\n",
       "      <td>16.0</td>\n",
       "      <td>100714.534153</td>\n",
       "    </tr>\n",
       "    <tr>\n",
       "      <th>17</th>\n",
       "      <td>17.0</td>\n",
       "      <td>97864.187034</td>\n",
       "    </tr>\n",
       "    <tr>\n",
       "      <th>18</th>\n",
       "      <td>18.0</td>\n",
       "      <td>95147.174046</td>\n",
       "    </tr>\n",
       "    <tr>\n",
       "      <th>19</th>\n",
       "      <td>19.0</td>\n",
       "      <td>96811.643684</td>\n",
       "    </tr>\n",
       "    <tr>\n",
       "      <th>20</th>\n",
       "      <td>20.0</td>\n",
       "      <td>100261.030909</td>\n",
       "    </tr>\n",
       "    <tr>\n",
       "      <th>21</th>\n",
       "      <td>21.0</td>\n",
       "      <td>93683.219667</td>\n",
       "    </tr>\n",
       "    <tr>\n",
       "      <th>22</th>\n",
       "      <td>22.0</td>\n",
       "      <td>90838.407474</td>\n",
       "    </tr>\n",
       "    <tr>\n",
       "      <th>23</th>\n",
       "      <td>23.0</td>\n",
       "      <td>94910.153148</td>\n",
       "    </tr>\n",
       "    <tr>\n",
       "      <th>24</th>\n",
       "      <td>24.0</td>\n",
       "      <td>87671.327500</td>\n",
       "    </tr>\n",
       "    <tr>\n",
       "      <th>25</th>\n",
       "      <td>25.0</td>\n",
       "      <td>87803.487500</td>\n",
       "    </tr>\n",
       "    <tr>\n",
       "      <th>26</th>\n",
       "      <td>26.0</td>\n",
       "      <td>85062.060667</td>\n",
       "    </tr>\n",
       "    <tr>\n",
       "      <th>27</th>\n",
       "      <td>27.0</td>\n",
       "      <td>193918.920000</td>\n",
       "    </tr>\n",
       "    <tr>\n",
       "      <th>28</th>\n",
       "      <td>28.0</td>\n",
       "      <td>68468.470000</td>\n",
       "    </tr>\n",
       "    <tr>\n",
       "      <th>29</th>\n",
       "      <td>29.0</td>\n",
       "      <td>71898.876000</td>\n",
       "    </tr>\n",
       "  </tbody>\n",
       "</table>\n",
       "</div>"
      ],
      "text/plain": [
       "    distance_to_center_km  price_per_sqm\n",
       "0                     0.0  182871.621875\n",
       "1                     1.0  176088.118359\n",
       "2                     2.0  163191.641005\n",
       "3                     3.0  119147.266422\n",
       "4                     4.0  130233.026196\n",
       "5                     5.0  137104.636210\n",
       "6                     6.0  144322.599039\n",
       "7                     7.0  157948.083740\n",
       "8                     8.0  125499.809011\n",
       "9                     9.0  116658.722695\n",
       "10                   10.0  114599.052511\n",
       "11                   11.0  108424.566553\n",
       "12                   12.0  108467.573455\n",
       "13                   13.0  108400.472867\n",
       "14                   14.0  104097.639188\n",
       "15                   15.0  105321.007056\n",
       "16                   16.0  100714.534153\n",
       "17                   17.0   97864.187034\n",
       "18                   18.0   95147.174046\n",
       "19                   19.0   96811.643684\n",
       "20                   20.0  100261.030909\n",
       "21                   21.0   93683.219667\n",
       "22                   22.0   90838.407474\n",
       "23                   23.0   94910.153148\n",
       "24                   24.0   87671.327500\n",
       "25                   25.0   87803.487500\n",
       "26                   26.0   85062.060667\n",
       "27                   27.0  193918.920000\n",
       "28                   28.0   68468.470000\n",
       "29                   29.0   71898.876000"
      ]
     },
     "execution_count": 109,
     "metadata": {},
     "output_type": "execute_result"
    }
   ],
   "source": [
    "# отфильтруем данные \n",
    "distance_to_center_km_pivot = df.query('locality_name == \"Санкт-Петербург\"').pivot_table(index='distance_to_center_km', values='price_per_sqm', aggfunc='mean')\n",
    "distance_to_center_km_pivot = distance_to_center_km_pivot.reset_index()\n",
    "distance_to_center_km_pivot"
   ]
  },
  {
   "cell_type": "code",
   "execution_count": 110,
   "metadata": {},
   "outputs": [
    {
     "data": {
      "image/png": "[encoded data removed]",
      "text/plain": [
       "<Figure size 720x432 with 1 Axes>"
      ]
     },
     "metadata": {
      "needs_background": "light"
     },
     "output_type": "display_data"
    }
   ],
   "source": [
    "# построим линейный график, чтобы показать изменения средней цены за километр от центра\n",
    "plt.figure(figsize=(10, 6))\n",
    "plt.plot(distance_to_center_km_pivot['distance_to_center_km'], distance_to_center_km_pivot['price_per_sqm'], marker='o', linestyle='-')\n",
    "\n",
    "# установим метки и название\n",
    "plt.xlabel('Distance from City Center (km)')\n",
    "plt.ylabel('Average Price per sqm')\n",
    "plt.title('Average Price of Real Estate vs. Distance from City Center in Saint Petersburg')\n",
    "\n",
    "# линия сетки на графике\n",
    "plt.grid(True)\n",
    "\n",
    "# показать график\n",
    "plt.show()"
   ]
  },
  {
   "cell_type": "markdown",
   "metadata": {},
   "source": [
    " **Вывод:**\n",
    " \n",
    "Согласно информации местного туристического сайта для Петербуржцев центром является территория от набережной Обводного канала до реки Большой Невки. Протяженность этого расстояния на Google Maps составляет примерно 12 км.\n",
    "\n",
    "График изменения средней цены недвижимости для каждого километра от центра Санкт-Петербурга показывает, что средняя цена недвижимости за м² снижается по мере удаления от центра города. В пределах центра (принятые нами за истину 12 км) стоимость меняется, график имеет спадающие и возрастающие пики, что может быть связано с определенными застройками и локациями менее привлекательными для покупателей. Вместе с тем, наблюдается резкий пик высокой стоимости на расстоянии около 27 км от центра города, который может быть связан с выбросами в данных, что требует более критического внимания в случае необходимости дальнейшего анализа."
   ]
  },
  {
   "cell_type": "markdown",
   "metadata": {},
   "source": [
    "### Общий вывод"
   ]
  },
  {
   "cell_type": "markdown",
   "metadata": {},
   "source": [
    "На архивных данных сервиса Яндекс.Недвижимость о продаже квартир в Санкт-Петербурге и соседних населённых пунктах было проведено исследование с **целью** оценить и установить параметры для определения рыночной стоимости объектов недвижимости.\n",
    "\n",
    "Работа включала предварительный этап и собственно исследование.\n",
    "\n",
    "На **предварительном этапе** мы изучили основную информацию о датафрейме, определили количество и тип данных в таблице, обработали аномальные значения и пропуски, изменили тип значений в некоторых столбцах, избавились от дубликатов и убедились, что все данные готовы к более подробному исследовательскому анализу. \n",
    "\n",
    "Оценка рыночной стоимости объектов недвижимости в данном исследовании исходила из наблюдаемых зависимостей между ценой объекта и такими параметрами как: \n",
    "- общая площадь \n",
    "- жилая площадь\n",
    "- площадь кухни\n",
    "- количество комнат\n",
    "- высота потолков\n",
    "- тип этажа квартиры\n",
    "- расстояние до центра города\n",
    "\n",
    "На **этапе ииследования** мы изучили какие факторы больше всего влияют на общую стоимость объекта. Исследовательский анализ позволил в некоторой степени оценить влияние определенных параметров на цену объектов недвижимости. В частности было установлено:\n",
    "\n",
    "**1) Как быстро продавались квартиры?** \n",
    "\n",
    "На основе данных о том, сколько дней было размещено объявление (от публикации до снятия), было установлено, что продажи до 50 дней после размещения объявления можно считать быстрыми. В то время как долгими можно считать продажи от 200 дней и более.\n",
    "\n",
    "**2) Есть ли зависимость между ценой квартиры и общей площадью, жилой площадью и площадью кухни?** \n",
    "\n",
    "Квартиры бо́льшего размера *(умеренная связь при r = 0,686)*, с бо́льшей жилой площадью *(умеренная связь при r = 0.597)* и кухонным пространством *(умеренная связь при r = 0.519)* как правило, имеют более высокие цены.\n",
    "\n",
    "**3) Есть ли зависимость между количеством комнат и ценой объекта недвижимости?**\n",
    "\n",
    "В целом по мере увеличения количества комнат в квартире общая стоимость также имеет тенденцию к увеличению. Это соответствует распространенному мнению, что большие квартиры с большим количеством комнат, как правило, стоят дороже. При этом, связь относительно слабая *(r = 0,396)*.\n",
    "\n",
    "**4) Есть ли зависимость между этажом квартиры и ценой квартиры?**\n",
    "\n",
    "Квартиры между первым и последним этажами имеют самую высокую стоимость среди представленных категорий.\n",
    "\n",
    "**5) Есть ли зависимость между датой размещения объявления о продаже и ценой объекта недвижимости?**\n",
    "- Объявления с самыми высокими ценами продавцы недвижимости размещают по вторникам, а по субботам, напротив — с самыми низкими.\n",
    "- В апреле стоимость квартир в объявлениях достигает своего высокого пика, июнь —  месяц объявлений самых низких цен на недвижимость.\n",
    "- Период с 2014 по 2016 не самый оптимистичный для продавцов недвижимости — цена постоянно снижалась *(с 120 000 до 50 000 соответственно)*, плавный рост начался с 2018, а к 2019 средняя стоимость м2 достигла 100 000 рублей.\n",
    "\n",
    "**6) Населённые пункты с самой высокой и низкой стоимостью квадратного метра.**\n",
    "\n",
    "В номинации самая высокая стоимость недвижимости за м² город `Санкт-Петербург` возглавляет топ 10 среди населённых пунктов с наибольшим числом объявлений. Самая низкая цена за м² зафиксирована во `Всеволожске`.\n",
    "\n",
    "**7) Как стоимость объектов зависит от расстояния до центра города Санкт-Петербурга?**\n",
    "- Средняя цена недвижимости за м² снижается по мере удаления от центра города. \n",
    "- В пределах центра стоимость колеблется от 180 000 до 110 000 рублей за м².\n",
    "\n",
    "Обнаруженные связи между параметрами дают определенное представление о том, что может повлиять на рыночную стоимость объектов недвижимости. Вместе с тем, следует помнить, что корреляция не подразумевает причинно-следственной связи, поэтому, хотя между рассмотренными параметрами существует связь, это не обязательно означает, что один определенный параметр напрямую приводит к увеличению общей стоимости квартиры. \n",
    "\n",
    "Существует множество исключений, и другие факторы, которые вероятно, играют существенную роль в определении цен на квартиры. Поэтому при построении сложных автоматизированных моделей, которые позволяют отслеживать аномалии и мошенническую деятельность важно учитывать системность этих факторов."
   ]
  }
 ],
 "metadata": {
  "ExecuteTimeLog": [
   {
    "duration": 1042,
    "start_time": "2023-09-22T23:39:46.494Z"
   },
   {
    "duration": 110,
    "start_time": "2023-09-22T23:40:03.631Z"
   },
   {
    "duration": 104,
    "start_time": "2023-09-22T23:41:31.181Z"
   },
   {
    "duration": 99,
    "start_time": "2023-09-22T23:42:15.006Z"
   },
   {
    "duration": 15,
    "start_time": "2023-09-22T23:42:21.877Z"
   },
   {
    "duration": 75,
    "start_time": "2023-09-22T23:43:25.528Z"
   },
   {
    "duration": 2430,
    "start_time": "2023-09-22T23:45:18.452Z"
   },
   {
    "duration": 1959,
    "start_time": "2023-09-23T00:13:35.490Z"
   },
   {
    "duration": 3,
    "start_time": "2023-09-23T01:30:56.089Z"
   },
   {
    "duration": 104,
    "start_time": "2023-09-23T01:30:58.810Z"
   },
   {
    "duration": 46,
    "start_time": "2023-09-23T01:31:01.575Z"
   },
   {
    "duration": 18,
    "start_time": "2023-09-23T01:31:57.955Z"
   },
   {
    "duration": 2452,
    "start_time": "2023-09-23T01:32:19.225Z"
   },
   {
    "duration": 3,
    "start_time": "2023-09-23T02:10:07.271Z"
   },
   {
    "duration": 131,
    "start_time": "2023-09-23T02:10:10.188Z"
   },
   {
    "duration": 34,
    "start_time": "2023-09-23T02:10:13.456Z"
   },
   {
    "duration": 26,
    "start_time": "2023-09-23T02:10:23.325Z"
   },
   {
    "duration": 2286,
    "start_time": "2023-09-23T02:11:52.922Z"
   },
   {
    "duration": 5,
    "start_time": "2023-09-23T02:19:22.822Z"
   },
   {
    "duration": 7,
    "start_time": "2023-09-23T02:22:23.621Z"
   },
   {
    "duration": 5,
    "start_time": "2023-09-23T02:23:47.235Z"
   },
   {
    "duration": 15,
    "start_time": "2023-09-23T02:27:52.234Z"
   },
   {
    "duration": 16,
    "start_time": "2023-09-23T02:29:56.729Z"
   },
   {
    "duration": 1001,
    "start_time": "2023-09-23T15:33:15.084Z"
   },
   {
    "duration": 106,
    "start_time": "2023-09-23T15:33:18.788Z"
   },
   {
    "duration": 32,
    "start_time": "2023-09-23T15:33:33.792Z"
   },
   {
    "duration": 3970,
    "start_time": "2023-09-23T15:34:45.251Z"
   },
   {
    "duration": 11,
    "start_time": "2023-09-23T15:34:58.796Z"
   },
   {
    "duration": 7,
    "start_time": "2023-09-23T15:35:02.943Z"
   },
   {
    "duration": 10,
    "start_time": "2023-09-23T15:35:06.453Z"
   },
   {
    "duration": 31,
    "start_time": "2023-09-23T15:36:57.481Z"
   },
   {
    "duration": 108,
    "start_time": "2023-09-23T17:57:19.919Z"
   },
   {
    "duration": 32,
    "start_time": "2023-09-23T17:57:24.470Z"
   },
   {
    "duration": 17,
    "start_time": "2023-09-23T17:57:31.817Z"
   },
   {
    "duration": 2180,
    "start_time": "2023-09-23T17:57:39.306Z"
   },
   {
    "duration": 5,
    "start_time": "2023-09-23T17:57:52.405Z"
   },
   {
    "duration": 10,
    "start_time": "2023-09-23T17:57:55.656Z"
   },
   {
    "duration": 6,
    "start_time": "2023-09-23T17:57:58.325Z"
   },
   {
    "duration": 12,
    "start_time": "2023-09-23T17:58:02.693Z"
   },
   {
    "duration": 11,
    "start_time": "2023-09-23T18:16:04.230Z"
   },
   {
    "duration": 9,
    "start_time": "2023-09-23T18:17:16.825Z"
   },
   {
    "duration": 6,
    "start_time": "2023-09-23T18:18:53.922Z"
   },
   {
    "duration": 47,
    "start_time": "2023-09-23T18:21:38.444Z"
   },
   {
    "duration": 16,
    "start_time": "2023-09-23T18:23:07.422Z"
   },
   {
    "duration": 72,
    "start_time": "2023-09-23T18:23:37.452Z"
   },
   {
    "duration": 8,
    "start_time": "2023-09-23T18:25:43.992Z"
   },
   {
    "duration": 9,
    "start_time": "2023-09-23T18:29:02.834Z"
   },
   {
    "duration": 9,
    "start_time": "2023-09-23T18:42:25.064Z"
   },
   {
    "duration": 163,
    "start_time": "2023-09-23T18:49:48.270Z"
   },
   {
    "duration": 184,
    "start_time": "2023-09-23T18:51:00.718Z"
   },
   {
    "duration": 185,
    "start_time": "2023-09-23T18:51:50.209Z"
   },
   {
    "duration": 245,
    "start_time": "2023-09-23T18:52:38.153Z"
   },
   {
    "duration": 6,
    "start_time": "2023-09-23T18:59:35.283Z"
   },
   {
    "duration": 165,
    "start_time": "2023-09-23T19:00:17.236Z"
   },
   {
    "duration": 183,
    "start_time": "2023-09-23T19:00:36.191Z"
   },
   {
    "duration": 201,
    "start_time": "2023-09-23T19:00:57.587Z"
   },
   {
    "duration": 14,
    "start_time": "2023-09-23T19:11:08.159Z"
   },
   {
    "duration": 38,
    "start_time": "2023-09-23T19:16:57.706Z"
   },
   {
    "duration": 802,
    "start_time": "2023-09-23T22:02:09.292Z"
   },
   {
    "duration": 39,
    "start_time": "2023-09-23T22:02:12.716Z"
   },
   {
    "duration": 19,
    "start_time": "2023-09-23T22:02:18.145Z"
   },
   {
    "duration": 2738,
    "start_time": "2023-09-23T22:02:24.984Z"
   },
   {
    "duration": 2313,
    "start_time": "2023-09-23T22:02:33.618Z"
   },
   {
    "duration": 4,
    "start_time": "2023-09-23T22:02:44.960Z"
   },
   {
    "duration": 5,
    "start_time": "2023-09-23T22:04:23.741Z"
   },
   {
    "duration": 5,
    "start_time": "2023-09-23T22:04:26.317Z"
   },
   {
    "duration": 13,
    "start_time": "2023-09-23T22:04:31.805Z"
   },
   {
    "duration": 13,
    "start_time": "2023-09-23T22:23:44.938Z"
   },
   {
    "duration": 110,
    "start_time": "2023-09-23T23:03:32.205Z"
   },
   {
    "duration": 194,
    "start_time": "2023-09-23T23:04:40.743Z"
   },
   {
    "duration": 4,
    "start_time": "2023-09-23T23:10:07.531Z"
   },
   {
    "duration": 10,
    "start_time": "2023-09-23T23:10:43.419Z"
   },
   {
    "duration": 12,
    "start_time": "2023-09-23T23:12:10.879Z"
   },
   {
    "duration": 3,
    "start_time": "2023-09-23T23:12:35.694Z"
   },
   {
    "duration": 17,
    "start_time": "2023-09-23T23:13:28.947Z"
   },
   {
    "duration": 82,
    "start_time": "2023-09-23T23:13:50.844Z"
   },
   {
    "duration": 7,
    "start_time": "2023-09-23T23:13:59.958Z"
   },
   {
    "duration": 4,
    "start_time": "2023-09-23T23:14:27.274Z"
   },
   {
    "duration": 4,
    "start_time": "2023-09-23T23:35:27.817Z"
   },
   {
    "duration": 8,
    "start_time": "2023-09-23T23:40:20.843Z"
   },
   {
    "duration": 5,
    "start_time": "2023-09-23T23:41:59.556Z"
   },
   {
    "duration": 8,
    "start_time": "2023-09-23T23:51:37.250Z"
   },
   {
    "duration": 230,
    "start_time": "2023-09-23T23:54:24.890Z"
   },
   {
    "duration": 11,
    "start_time": "2023-09-23T23:56:08.071Z"
   },
   {
    "duration": 10,
    "start_time": "2023-09-23T23:56:39.749Z"
   },
   {
    "duration": 11,
    "start_time": "2023-09-24T00:20:37.528Z"
   },
   {
    "duration": 9,
    "start_time": "2023-09-24T00:21:21.866Z"
   },
   {
    "duration": 12,
    "start_time": "2023-09-24T00:31:53.582Z"
   },
   {
    "duration": 29,
    "start_time": "2023-09-24T00:32:37.351Z"
   },
   {
    "duration": 8,
    "start_time": "2023-09-24T00:33:20.996Z"
   },
   {
    "duration": 7,
    "start_time": "2023-09-24T00:46:52.131Z"
   },
   {
    "duration": 6,
    "start_time": "2023-09-24T01:00:49.730Z"
   },
   {
    "duration": 3,
    "start_time": "2023-09-24T01:00:53.267Z"
   },
   {
    "duration": 3,
    "start_time": "2023-09-24T01:01:37.841Z"
   },
   {
    "duration": 4,
    "start_time": "2023-09-24T01:01:46.839Z"
   },
   {
    "duration": 5,
    "start_time": "2023-09-24T01:02:02.411Z"
   },
   {
    "duration": 9,
    "start_time": "2023-09-24T01:05:14.192Z"
   },
   {
    "duration": 6,
    "start_time": "2023-09-24T01:08:46.543Z"
   },
   {
    "duration": 12,
    "start_time": "2023-09-24T01:20:22.968Z"
   },
   {
    "duration": 6,
    "start_time": "2023-09-24T01:20:31.602Z"
   },
   {
    "duration": 5,
    "start_time": "2023-09-24T01:22:26.356Z"
   },
   {
    "duration": 12,
    "start_time": "2023-09-24T01:22:45.726Z"
   },
   {
    "duration": 114,
    "start_time": "2023-09-24T01:22:54.017Z"
   },
   {
    "duration": 32,
    "start_time": "2023-09-24T01:23:00.269Z"
   },
   {
    "duration": 16,
    "start_time": "2023-09-24T01:23:12.895Z"
   },
   {
    "duration": 2102,
    "start_time": "2023-09-24T01:23:20.140Z"
   },
   {
    "duration": 5,
    "start_time": "2023-09-24T01:23:29.671Z"
   },
   {
    "duration": 4,
    "start_time": "2023-09-24T01:23:35.354Z"
   },
   {
    "duration": 4,
    "start_time": "2023-09-24T01:23:38.229Z"
   },
   {
    "duration": 10,
    "start_time": "2023-09-24T01:23:43.772Z"
   },
   {
    "duration": 174,
    "start_time": "2023-09-24T01:23:53.843Z"
   },
   {
    "duration": 11,
    "start_time": "2023-09-24T01:24:01.456Z"
   },
   {
    "duration": 10,
    "start_time": "2023-09-24T01:24:07.109Z"
   },
   {
    "duration": 11,
    "start_time": "2023-09-24T01:24:12.472Z"
   },
   {
    "duration": 9,
    "start_time": "2023-09-24T01:24:16.644Z"
   },
   {
    "duration": 5,
    "start_time": "2023-09-24T01:24:20.994Z"
   },
   {
    "duration": 5,
    "start_time": "2023-09-24T01:24:23.355Z"
   },
   {
    "duration": 5,
    "start_time": "2023-09-24T01:24:28.220Z"
   },
   {
    "duration": 8,
    "start_time": "2023-09-24T01:24:31.061Z"
   },
   {
    "duration": 15,
    "start_time": "2023-09-24T01:25:47.889Z"
   },
   {
    "duration": 16,
    "start_time": "2023-09-24T01:26:48.110Z"
   },
   {
    "duration": 10,
    "start_time": "2023-09-24T01:27:29.191Z"
   },
   {
    "duration": 758,
    "start_time": "2023-09-24T03:09:32.699Z"
   },
   {
    "duration": 37,
    "start_time": "2023-09-24T03:09:37.198Z"
   },
   {
    "duration": 16,
    "start_time": "2023-09-24T03:09:49.798Z"
   },
   {
    "duration": 2533,
    "start_time": "2023-09-24T03:09:58.049Z"
   },
   {
    "duration": 6,
    "start_time": "2023-09-24T03:10:06.747Z"
   },
   {
    "duration": 7,
    "start_time": "2023-09-24T03:10:10.165Z"
   },
   {
    "duration": 4,
    "start_time": "2023-09-24T03:10:14.828Z"
   },
   {
    "duration": 10,
    "start_time": "2023-09-24T03:10:21.309Z"
   },
   {
    "duration": 166,
    "start_time": "2023-09-24T03:10:35.451Z"
   },
   {
    "duration": 166,
    "start_time": "2023-09-24T03:10:38.195Z"
   },
   {
    "duration": 12,
    "start_time": "2023-09-24T03:10:46.551Z"
   },
   {
    "duration": 12,
    "start_time": "2023-09-24T03:10:55.912Z"
   },
   {
    "duration": 6,
    "start_time": "2023-09-24T03:11:08.606Z"
   },
   {
    "duration": 6,
    "start_time": "2023-09-24T03:11:14.735Z"
   },
   {
    "duration": 4,
    "start_time": "2023-09-24T03:11:20.006Z"
   },
   {
    "duration": 6,
    "start_time": "2023-09-24T03:11:22.740Z"
   },
   {
    "duration": 6,
    "start_time": "2023-09-24T03:11:25.780Z"
   },
   {
    "duration": 7,
    "start_time": "2023-09-24T03:11:29.225Z"
   },
   {
    "duration": 7,
    "start_time": "2023-09-24T03:11:31.950Z"
   },
   {
    "duration": 11,
    "start_time": "2023-09-24T03:11:37.939Z"
   },
   {
    "duration": 14,
    "start_time": "2023-09-24T03:11:40.818Z"
   },
   {
    "duration": 9,
    "start_time": "2023-09-24T03:11:45.420Z"
   },
   {
    "duration": 27,
    "start_time": "2023-09-24T03:16:15.955Z"
   },
   {
    "duration": 26,
    "start_time": "2023-09-24T03:49:57.294Z"
   },
   {
    "duration": 72,
    "start_time": "2023-09-24T03:51:15.087Z"
   },
   {
    "duration": 12,
    "start_time": "2023-09-24T03:51:28.443Z"
   },
   {
    "duration": 22,
    "start_time": "2023-09-24T03:51:42.874Z"
   },
   {
    "duration": 29,
    "start_time": "2023-09-24T03:52:31.179Z"
   },
   {
    "duration": 1097,
    "start_time": "2023-09-24T15:17:26.391Z"
   },
   {
    "duration": 141,
    "start_time": "2023-09-24T15:17:30.762Z"
   },
   {
    "duration": 36,
    "start_time": "2023-09-24T15:17:33.661Z"
   },
   {
    "duration": 15,
    "start_time": "2023-09-24T15:17:40.762Z"
   },
   {
    "duration": 2398,
    "start_time": "2023-09-24T15:18:03.156Z"
   },
   {
    "duration": 5,
    "start_time": "2023-09-24T15:18:11.078Z"
   },
   {
    "duration": 5,
    "start_time": "2023-09-24T15:18:14.059Z"
   },
   {
    "duration": 6,
    "start_time": "2023-09-24T15:18:18.834Z"
   },
   {
    "duration": 12,
    "start_time": "2023-09-24T15:18:25.319Z"
   },
   {
    "duration": 223,
    "start_time": "2023-09-24T15:18:32.642Z"
   },
   {
    "duration": 260,
    "start_time": "2023-09-24T15:18:35.826Z"
   },
   {
    "duration": 13,
    "start_time": "2023-09-24T15:18:41.835Z"
   },
   {
    "duration": 10,
    "start_time": "2023-09-24T15:18:47.858Z"
   },
   {
    "duration": 10,
    "start_time": "2023-09-24T15:18:53.391Z"
   },
   {
    "duration": 8,
    "start_time": "2023-09-24T15:19:51.427Z"
   },
   {
    "duration": 5,
    "start_time": "2023-09-24T15:19:54.174Z"
   },
   {
    "duration": 7,
    "start_time": "2023-09-24T15:19:56.518Z"
   },
   {
    "duration": 6,
    "start_time": "2023-09-24T15:20:02.144Z"
   },
   {
    "duration": 9,
    "start_time": "2023-09-24T15:20:04.486Z"
   },
   {
    "duration": 8,
    "start_time": "2023-09-24T15:20:06.812Z"
   },
   {
    "duration": 16,
    "start_time": "2023-09-24T15:20:14.304Z"
   },
   {
    "duration": 20,
    "start_time": "2023-09-24T15:20:17.196Z"
   },
   {
    "duration": 11,
    "start_time": "2023-09-24T15:20:22.080Z"
   },
   {
    "duration": 22,
    "start_time": "2023-09-24T15:20:47.686Z"
   },
   {
    "duration": 25,
    "start_time": "2023-09-24T15:52:16.443Z"
   },
   {
    "duration": 24,
    "start_time": "2023-09-24T15:54:00.107Z"
   },
   {
    "duration": 20,
    "start_time": "2023-09-24T15:54:24.779Z"
   },
   {
    "duration": 20,
    "start_time": "2023-09-24T16:52:51.688Z"
   },
   {
    "duration": 20,
    "start_time": "2023-09-24T16:53:00.973Z"
   },
   {
    "duration": 95,
    "start_time": "2023-09-24T16:53:41.908Z"
   },
   {
    "duration": 37,
    "start_time": "2023-09-24T16:53:45.950Z"
   },
   {
    "duration": 14,
    "start_time": "2023-09-24T16:53:51.013Z"
   },
   {
    "duration": 2051,
    "start_time": "2023-09-24T16:53:57.766Z"
   },
   {
    "duration": 5,
    "start_time": "2023-09-24T16:54:05.009Z"
   },
   {
    "duration": 3,
    "start_time": "2023-09-24T16:54:07.761Z"
   },
   {
    "duration": 4,
    "start_time": "2023-09-24T16:54:11.807Z"
   },
   {
    "duration": 151,
    "start_time": "2023-09-24T16:54:17.461Z"
   },
   {
    "duration": 159,
    "start_time": "2023-09-24T16:54:19.923Z"
   },
   {
    "duration": 10,
    "start_time": "2023-09-24T16:54:25.481Z"
   },
   {
    "duration": 9,
    "start_time": "2023-09-24T16:54:28.710Z"
   },
   {
    "duration": 6,
    "start_time": "2023-09-24T16:54:33.545Z"
   },
   {
    "duration": 6,
    "start_time": "2023-09-24T16:54:36.513Z"
   },
   {
    "duration": 4,
    "start_time": "2023-09-24T16:54:38.801Z"
   },
   {
    "duration": 5,
    "start_time": "2023-09-24T16:54:41.038Z"
   },
   {
    "duration": 5,
    "start_time": "2023-09-24T16:54:45.667Z"
   },
   {
    "duration": 8,
    "start_time": "2023-09-24T16:54:49.315Z"
   },
   {
    "duration": 6,
    "start_time": "2023-09-24T16:54:51.782Z"
   },
   {
    "duration": 12,
    "start_time": "2023-09-24T16:54:56.650Z"
   },
   {
    "duration": 14,
    "start_time": "2023-09-24T16:54:59.379Z"
   },
   {
    "duration": 8,
    "start_time": "2023-09-24T16:55:02.072Z"
   },
   {
    "duration": 20,
    "start_time": "2023-09-24T16:55:09.818Z"
   },
   {
    "duration": 12,
    "start_time": "2023-09-24T16:55:24.426Z"
   },
   {
    "duration": 29,
    "start_time": "2023-09-24T16:55:46.309Z"
   },
   {
    "duration": 28,
    "start_time": "2023-09-24T16:55:49.247Z"
   },
   {
    "duration": 20,
    "start_time": "2023-09-24T16:55:53.379Z"
   },
   {
    "duration": 25,
    "start_time": "2023-09-24T16:55:58.721Z"
   },
   {
    "duration": 26,
    "start_time": "2023-09-24T16:56:01.433Z"
   },
   {
    "duration": 35,
    "start_time": "2023-09-24T16:56:04.662Z"
   },
   {
    "duration": 29,
    "start_time": "2023-09-24T16:56:09.530Z"
   },
   {
    "duration": 15,
    "start_time": "2023-09-24T16:56:12.001Z"
   },
   {
    "duration": 17,
    "start_time": "2023-09-24T16:56:16.705Z"
   },
   {
    "duration": 44,
    "start_time": "2023-09-24T16:56:18.957Z"
   },
   {
    "duration": 44,
    "start_time": "2023-09-24T16:56:21.326Z"
   },
   {
    "duration": 19,
    "start_time": "2023-09-24T16:56:51.176Z"
   },
   {
    "duration": 40,
    "start_time": "2023-09-24T16:59:22.828Z"
   },
   {
    "duration": 33,
    "start_time": "2023-09-24T16:59:25.301Z"
   },
   {
    "duration": 31,
    "start_time": "2023-09-24T16:59:27.629Z"
   },
   {
    "duration": 34,
    "start_time": "2023-09-24T16:59:29.960Z"
   },
   {
    "duration": 31,
    "start_time": "2023-09-24T16:59:33.312Z"
   },
   {
    "duration": 43,
    "start_time": "2023-09-24T17:01:25.587Z"
   },
   {
    "duration": 21,
    "start_time": "2023-09-24T17:01:33.109Z"
   },
   {
    "duration": 95,
    "start_time": "2023-09-24T17:07:41.607Z"
   },
   {
    "duration": 47,
    "start_time": "2023-09-24T17:07:44.646Z"
   },
   {
    "duration": 15,
    "start_time": "2023-09-24T17:07:51.843Z"
   },
   {
    "duration": 1965,
    "start_time": "2023-09-24T17:07:57.621Z"
   },
   {
    "duration": 4,
    "start_time": "2023-09-24T17:08:05.024Z"
   },
   {
    "duration": 4,
    "start_time": "2023-09-24T17:08:07.852Z"
   },
   {
    "duration": 4,
    "start_time": "2023-09-24T17:08:10.112Z"
   },
   {
    "duration": 171,
    "start_time": "2023-09-24T17:08:18.742Z"
   },
   {
    "duration": 160,
    "start_time": "2023-09-24T17:08:20.990Z"
   },
   {
    "duration": 11,
    "start_time": "2023-09-24T17:08:27.411Z"
   },
   {
    "duration": 10,
    "start_time": "2023-09-24T17:08:30.214Z"
   },
   {
    "duration": 8,
    "start_time": "2023-09-24T17:08:35.379Z"
   },
   {
    "duration": 6,
    "start_time": "2023-09-24T17:08:37.977Z"
   },
   {
    "duration": 4,
    "start_time": "2023-09-24T17:08:40.095Z"
   },
   {
    "duration": 6,
    "start_time": "2023-09-24T17:08:45.579Z"
   },
   {
    "duration": 5,
    "start_time": "2023-09-24T17:08:48.057Z"
   },
   {
    "duration": 9,
    "start_time": "2023-09-24T17:08:50.165Z"
   },
   {
    "duration": 7,
    "start_time": "2023-09-24T17:08:53.331Z"
   },
   {
    "duration": 15,
    "start_time": "2023-09-24T17:09:00.397Z"
   },
   {
    "duration": 137,
    "start_time": "2023-09-24T17:09:03.101Z"
   },
   {
    "duration": 9,
    "start_time": "2023-09-24T17:09:06.360Z"
   },
   {
    "duration": 22,
    "start_time": "2023-09-24T17:09:11.545Z"
   },
   {
    "duration": 13,
    "start_time": "2023-09-24T17:09:25.490Z"
   },
   {
    "duration": 21,
    "start_time": "2023-09-24T17:09:32.735Z"
   },
   {
    "duration": 25,
    "start_time": "2023-09-24T17:22:22.535Z"
   },
   {
    "duration": 25,
    "start_time": "2023-09-24T17:22:25.410Z"
   },
   {
    "duration": 24,
    "start_time": "2023-09-24T17:22:31.981Z"
   },
   {
    "duration": 25,
    "start_time": "2023-09-24T17:22:34.699Z"
   },
   {
    "duration": 23,
    "start_time": "2023-09-24T17:22:37.027Z"
   },
   {
    "duration": 24,
    "start_time": "2023-09-24T17:22:41.871Z"
   },
   {
    "duration": 24,
    "start_time": "2023-09-24T17:22:44.311Z"
   },
   {
    "duration": 24,
    "start_time": "2023-09-24T17:22:46.672Z"
   },
   {
    "duration": 25,
    "start_time": "2023-09-24T17:22:48.999Z"
   },
   {
    "duration": 26,
    "start_time": "2023-09-24T17:22:54.808Z"
   },
   {
    "duration": 26,
    "start_time": "2023-09-24T17:22:57.184Z"
   },
   {
    "duration": 21,
    "start_time": "2023-09-24T17:23:00.001Z"
   },
   {
    "duration": 680,
    "start_time": "2023-09-24T22:37:50.055Z"
   },
   {
    "duration": 35,
    "start_time": "2023-09-24T22:37:53.304Z"
   },
   {
    "duration": 17,
    "start_time": "2023-09-24T22:38:00.101Z"
   },
   {
    "duration": 2427,
    "start_time": "2023-09-24T22:38:08.051Z"
   },
   {
    "duration": 5,
    "start_time": "2023-09-24T22:38:43.359Z"
   },
   {
    "duration": 7,
    "start_time": "2023-09-24T22:38:48.476Z"
   },
   {
    "duration": 4,
    "start_time": "2023-09-24T22:38:50.974Z"
   },
   {
    "duration": 159,
    "start_time": "2023-09-24T22:38:58.871Z"
   },
   {
    "duration": 169,
    "start_time": "2023-09-24T22:39:01.451Z"
   },
   {
    "duration": 10,
    "start_time": "2023-09-24T22:39:30.482Z"
   },
   {
    "duration": 9,
    "start_time": "2023-09-24T22:41:44.175Z"
   },
   {
    "duration": 7,
    "start_time": "2023-09-24T22:41:52.945Z"
   },
   {
    "duration": 6,
    "start_time": "2023-09-24T22:42:10.551Z"
   },
   {
    "duration": 3,
    "start_time": "2023-09-24T22:42:17.615Z"
   },
   {
    "duration": 7,
    "start_time": "2023-09-24T22:42:25.224Z"
   },
   {
    "duration": 5,
    "start_time": "2023-09-24T23:07:02.196Z"
   },
   {
    "duration": 7,
    "start_time": "2023-09-24T23:07:35.450Z"
   },
   {
    "duration": 7,
    "start_time": "2023-09-24T23:07:38.831Z"
   },
   {
    "duration": 11,
    "start_time": "2023-09-24T23:07:50.638Z"
   },
   {
    "duration": 9,
    "start_time": "2023-09-24T23:07:53.703Z"
   },
   {
    "duration": 22,
    "start_time": "2023-09-24T23:07:59.540Z"
   },
   {
    "duration": 12,
    "start_time": "2023-09-24T23:08:08.162Z"
   },
   {
    "duration": 27,
    "start_time": "2023-09-24T23:08:14.593Z"
   },
   {
    "duration": 31,
    "start_time": "2023-09-24T23:08:29.246Z"
   },
   {
    "duration": 29,
    "start_time": "2023-09-24T23:08:32.315Z"
   },
   {
    "duration": 27,
    "start_time": "2023-09-24T23:08:35.131Z"
   },
   {
    "duration": 27,
    "start_time": "2023-09-24T23:08:42.025Z"
   },
   {
    "duration": 34,
    "start_time": "2023-09-24T23:08:44.638Z"
   },
   {
    "duration": 25,
    "start_time": "2023-09-24T23:08:46.988Z"
   },
   {
    "duration": 26,
    "start_time": "2023-09-24T23:08:49.670Z"
   },
   {
    "duration": 27,
    "start_time": "2023-09-24T23:08:55.672Z"
   },
   {
    "duration": 26,
    "start_time": "2023-09-24T23:08:59.225Z"
   },
   {
    "duration": 26,
    "start_time": "2023-09-24T23:09:01.463Z"
   },
   {
    "duration": 21,
    "start_time": "2023-09-24T23:09:04.967Z"
   },
   {
    "duration": 58,
    "start_time": "2023-09-24T23:24:43.612Z"
   },
   {
    "duration": 7,
    "start_time": "2023-09-24T23:25:15.616Z"
   },
   {
    "duration": 75,
    "start_time": "2023-09-24T23:25:50.568Z"
   },
   {
    "duration": 6,
    "start_time": "2023-09-24T23:25:56.994Z"
   },
   {
    "duration": 5,
    "start_time": "2023-09-24T23:26:08.618Z"
   },
   {
    "duration": 6,
    "start_time": "2023-09-24T23:39:14.796Z"
   },
   {
    "duration": 8,
    "start_time": "2023-09-24T23:39:37.069Z"
   },
   {
    "duration": 8,
    "start_time": "2023-09-24T23:40:00.956Z"
   },
   {
    "duration": 6,
    "start_time": "2023-09-24T23:40:08.397Z"
   },
   {
    "duration": 6,
    "start_time": "2023-09-24T23:52:30.247Z"
   },
   {
    "duration": 5,
    "start_time": "2023-09-24T23:52:34.204Z"
   },
   {
    "duration": 5,
    "start_time": "2023-09-24T23:54:25.980Z"
   },
   {
    "duration": 5,
    "start_time": "2023-09-24T23:54:31.128Z"
   },
   {
    "duration": 5,
    "start_time": "2023-09-24T23:54:34.007Z"
   },
   {
    "duration": 8,
    "start_time": "2023-09-24T23:55:10.101Z"
   },
   {
    "duration": 7,
    "start_time": "2023-09-24T23:55:23.259Z"
   },
   {
    "duration": 100,
    "start_time": "2023-09-24T23:55:51.712Z"
   },
   {
    "duration": 30,
    "start_time": "2023-09-24T23:55:54.989Z"
   },
   {
    "duration": 16,
    "start_time": "2023-09-24T23:56:00.190Z"
   },
   {
    "duration": 2083,
    "start_time": "2023-09-24T23:56:07.637Z"
   },
   {
    "duration": 5,
    "start_time": "2023-09-24T23:56:14.803Z"
   },
   {
    "duration": 4,
    "start_time": "2023-09-24T23:56:20.965Z"
   },
   {
    "duration": 5,
    "start_time": "2023-09-24T23:56:23.203Z"
   },
   {
    "duration": 10,
    "start_time": "2023-09-24T23:56:26.253Z"
   },
   {
    "duration": 205,
    "start_time": "2023-09-24T23:56:34.459Z"
   },
   {
    "duration": 11,
    "start_time": "2023-09-24T23:56:39.650Z"
   },
   {
    "duration": 10,
    "start_time": "2023-09-24T23:56:42.324Z"
   },
   {
    "duration": 7,
    "start_time": "2023-09-24T23:56:47.951Z"
   },
   {
    "duration": 8,
    "start_time": "2023-09-24T23:56:50.557Z"
   },
   {
    "duration": 4,
    "start_time": "2023-09-24T23:56:52.652Z"
   },
   {
    "duration": 5,
    "start_time": "2023-09-24T23:56:57.654Z"
   },
   {
    "duration": 6,
    "start_time": "2023-09-24T23:57:02.427Z"
   },
   {
    "duration": 7,
    "start_time": "2023-09-24T23:57:05.252Z"
   },
   {
    "duration": 11,
    "start_time": "2023-09-24T23:57:11.463Z"
   },
   {
    "duration": 14,
    "start_time": "2023-09-24T23:57:14.117Z"
   },
   {
    "duration": 8,
    "start_time": "2023-09-24T23:57:16.347Z"
   },
   {
    "duration": 19,
    "start_time": "2023-09-24T23:57:21.207Z"
   },
   {
    "duration": 12,
    "start_time": "2023-09-24T23:57:28.782Z"
   },
   {
    "duration": 19,
    "start_time": "2023-09-24T23:57:32.592Z"
   },
   {
    "duration": 26,
    "start_time": "2023-09-24T23:57:40.329Z"
   },
   {
    "duration": 25,
    "start_time": "2023-09-24T23:57:42.636Z"
   },
   {
    "duration": 26,
    "start_time": "2023-09-24T23:57:45.012Z"
   },
   {
    "duration": 25,
    "start_time": "2023-09-24T23:57:47.221Z"
   },
   {
    "duration": 26,
    "start_time": "2023-09-24T23:57:49.611Z"
   },
   {
    "duration": 28,
    "start_time": "2023-09-24T23:58:02.329Z"
   },
   {
    "duration": 25,
    "start_time": "2023-09-24T23:58:06.919Z"
   },
   {
    "duration": 32,
    "start_time": "2023-09-24T23:58:09.377Z"
   },
   {
    "duration": 26,
    "start_time": "2023-09-24T23:58:12.749Z"
   },
   {
    "duration": 26,
    "start_time": "2023-09-24T23:58:17.884Z"
   },
   {
    "duration": 27,
    "start_time": "2023-09-24T23:58:26.300Z"
   },
   {
    "duration": 30,
    "start_time": "2023-09-24T23:58:31.511Z"
   },
   {
    "duration": 20,
    "start_time": "2023-09-24T23:58:34.401Z"
   },
   {
    "duration": 5,
    "start_time": "2023-09-24T23:58:41.872Z"
   },
   {
    "duration": 6,
    "start_time": "2023-09-24T23:58:44.119Z"
   },
   {
    "duration": 6,
    "start_time": "2023-09-24T23:58:49.733Z"
   },
   {
    "duration": 7,
    "start_time": "2023-09-24T23:58:53.325Z"
   },
   {
    "duration": 8,
    "start_time": "2023-09-24T23:58:56.925Z"
   },
   {
    "duration": 95,
    "start_time": "2023-09-25T01:47:38.722Z"
   },
   {
    "duration": 30,
    "start_time": "2023-09-25T01:47:41.815Z"
   },
   {
    "duration": 15,
    "start_time": "2023-09-25T01:47:48.183Z"
   },
   {
    "duration": 1920,
    "start_time": "2023-09-25T01:47:56.641Z"
   },
   {
    "duration": 4,
    "start_time": "2023-09-25T01:48:05.660Z"
   },
   {
    "duration": 4,
    "start_time": "2023-09-25T01:48:11.986Z"
   },
   {
    "duration": 5,
    "start_time": "2023-09-25T01:48:14.511Z"
   },
   {
    "duration": 10,
    "start_time": "2023-09-25T01:48:17.441Z"
   },
   {
    "duration": 149,
    "start_time": "2023-09-25T01:48:24.347Z"
   },
   {
    "duration": 10,
    "start_time": "2023-09-25T01:48:30.910Z"
   },
   {
    "duration": 8,
    "start_time": "2023-09-25T01:48:34.310Z"
   },
   {
    "duration": 7,
    "start_time": "2023-09-25T01:48:40.008Z"
   },
   {
    "duration": 6,
    "start_time": "2023-09-25T01:48:43.218Z"
   },
   {
    "duration": 3,
    "start_time": "2023-09-25T01:48:48.735Z"
   },
   {
    "duration": 5,
    "start_time": "2023-09-25T01:48:51.478Z"
   },
   {
    "duration": 5,
    "start_time": "2023-09-25T01:48:58.332Z"
   },
   {
    "duration": 8,
    "start_time": "2023-09-25T01:49:00.964Z"
   },
   {
    "duration": 10,
    "start_time": "2023-09-25T01:49:11.014Z"
   },
   {
    "duration": 9,
    "start_time": "2023-09-25T01:49:16.067Z"
   },
   {
    "duration": 20,
    "start_time": "2023-09-25T01:49:25.910Z"
   },
   {
    "duration": 11,
    "start_time": "2023-09-25T01:49:40.612Z"
   },
   {
    "duration": 20,
    "start_time": "2023-09-25T01:49:49.481Z"
   },
   {
    "duration": 32,
    "start_time": "2023-09-25T01:49:58.670Z"
   },
   {
    "duration": 26,
    "start_time": "2023-09-25T01:50:01.333Z"
   },
   {
    "duration": 28,
    "start_time": "2023-09-25T01:50:04.748Z"
   },
   {
    "duration": 25,
    "start_time": "2023-09-25T01:50:11.694Z"
   },
   {
    "duration": 25,
    "start_time": "2023-09-25T01:50:14.425Z"
   },
   {
    "duration": 24,
    "start_time": "2023-09-25T01:50:17.003Z"
   },
   {
    "duration": 24,
    "start_time": "2023-09-25T01:50:22.352Z"
   },
   {
    "duration": 26,
    "start_time": "2023-09-25T01:50:24.747Z"
   },
   {
    "duration": 25,
    "start_time": "2023-09-25T01:50:32.301Z"
   },
   {
    "duration": 24,
    "start_time": "2023-09-25T01:50:35.023Z"
   },
   {
    "duration": 25,
    "start_time": "2023-09-25T01:50:37.823Z"
   },
   {
    "duration": 21,
    "start_time": "2023-09-25T01:50:44.840Z"
   },
   {
    "duration": 8,
    "start_time": "2023-09-25T01:51:54.567Z"
   },
   {
    "duration": 7,
    "start_time": "2023-09-25T01:51:57.228Z"
   },
   {
    "duration": 6,
    "start_time": "2023-09-25T01:51:59.986Z"
   },
   {
    "duration": 8,
    "start_time": "2023-09-25T01:52:04.658Z"
   },
   {
    "duration": 9,
    "start_time": "2023-09-25T02:27:15.545Z"
   },
   {
    "duration": 4,
    "start_time": "2023-09-25T02:27:38.399Z"
   },
   {
    "duration": 960,
    "start_time": "2023-09-25T02:27:41.230Z"
   },
   {
    "duration": 981,
    "start_time": "2023-09-25T02:28:11.874Z"
   },
   {
    "duration": 972,
    "start_time": "2023-09-25T02:28:48.433Z"
   },
   {
    "duration": 10,
    "start_time": "2023-09-25T02:41:07.126Z"
   },
   {
    "duration": 978,
    "start_time": "2023-09-25T02:59:01.898Z"
   },
   {
    "duration": 5,
    "start_time": "2023-09-25T02:59:04.574Z"
   },
   {
    "duration": 3,
    "start_time": "2023-09-25T02:59:07.782Z"
   },
   {
    "duration": 5,
    "start_time": "2023-09-25T02:59:34.096Z"
   },
   {
    "duration": 4,
    "start_time": "2023-09-25T02:59:43.217Z"
   },
   {
    "duration": 9,
    "start_time": "2023-09-25T03:00:14.276Z"
   },
   {
    "duration": 8,
    "start_time": "2023-09-25T03:00:33.098Z"
   },
   {
    "duration": 6,
    "start_time": "2023-09-25T03:00:57.998Z"
   },
   {
    "duration": 4,
    "start_time": "2023-09-25T03:01:14.379Z"
   },
   {
    "duration": 4,
    "start_time": "2023-09-25T03:01:18.480Z"
   },
   {
    "duration": 1323,
    "start_time": "2023-09-25T14:50:41.858Z"
   },
   {
    "duration": 35,
    "start_time": "2023-09-25T14:50:52.663Z"
   },
   {
    "duration": 16,
    "start_time": "2023-09-25T14:50:58.561Z"
   },
   {
    "duration": 2900,
    "start_time": "2023-09-25T14:51:39.494Z"
   },
   {
    "duration": 5,
    "start_time": "2023-09-25T14:51:53.753Z"
   },
   {
    "duration": 5,
    "start_time": "2023-09-25T14:51:56.661Z"
   },
   {
    "duration": 4,
    "start_time": "2023-09-25T14:51:59.112Z"
   },
   {
    "duration": 12,
    "start_time": "2023-09-25T14:52:07.883Z"
   },
   {
    "duration": 199,
    "start_time": "2023-09-25T14:52:16.291Z"
   },
   {
    "duration": 11,
    "start_time": "2023-09-25T14:52:23.290Z"
   },
   {
    "duration": 16,
    "start_time": "2023-09-25T14:52:26.745Z"
   },
   {
    "duration": 7,
    "start_time": "2023-09-25T14:52:32.598Z"
   },
   {
    "duration": 6,
    "start_time": "2023-09-25T14:52:35.568Z"
   },
   {
    "duration": 4,
    "start_time": "2023-09-25T14:52:37.941Z"
   },
   {
    "duration": 6,
    "start_time": "2023-09-25T14:52:40.907Z"
   },
   {
    "duration": 4,
    "start_time": "2023-09-25T14:53:37.371Z"
   },
   {
    "duration": 11,
    "start_time": "2023-09-25T14:53:39.945Z"
   },
   {
    "duration": 16,
    "start_time": "2023-09-25T14:53:46.661Z"
   },
   {
    "duration": 24,
    "start_time": "2023-09-25T14:54:23.553Z"
   },
   {
    "duration": 8,
    "start_time": "2023-09-25T14:54:26.371Z"
   },
   {
    "duration": 18,
    "start_time": "2023-09-25T14:54:33.381Z"
   },
   {
    "duration": 21,
    "start_time": "2023-09-25T14:54:43.945Z"
   },
   {
    "duration": 20,
    "start_time": "2023-09-25T14:54:49.572Z"
   },
   {
    "duration": 32,
    "start_time": "2023-09-25T14:54:59.947Z"
   },
   {
    "duration": 39,
    "start_time": "2023-09-25T14:55:07.012Z"
   },
   {
    "duration": 53,
    "start_time": "2023-09-25T14:55:09.322Z"
   },
   {
    "duration": 23,
    "start_time": "2023-09-25T14:55:13.169Z"
   },
   {
    "duration": 24,
    "start_time": "2023-09-25T14:55:15.286Z"
   },
   {
    "duration": 32,
    "start_time": "2023-09-25T14:55:17.846Z"
   },
   {
    "duration": 26,
    "start_time": "2023-09-25T14:55:25.558Z"
   },
   {
    "duration": 29,
    "start_time": "2023-09-25T14:55:28.549Z"
   },
   {
    "duration": 26,
    "start_time": "2023-09-25T14:55:31.759Z"
   },
   {
    "duration": 24,
    "start_time": "2023-09-25T14:55:33.959Z"
   },
   {
    "duration": 42,
    "start_time": "2023-09-25T14:55:40.609Z"
   },
   {
    "duration": 24,
    "start_time": "2023-09-25T14:55:42.786Z"
   },
   {
    "duration": 24,
    "start_time": "2023-09-25T14:55:49.163Z"
   },
   {
    "duration": 25,
    "start_time": "2023-09-25T14:55:51.954Z"
   },
   {
    "duration": 6,
    "start_time": "2023-09-25T14:56:02.686Z"
   },
   {
    "duration": 7,
    "start_time": "2023-09-25T14:56:05.162Z"
   },
   {
    "duration": 6,
    "start_time": "2023-09-25T14:56:07.217Z"
   },
   {
    "duration": 6,
    "start_time": "2023-09-25T14:56:09.488Z"
   },
   {
    "duration": 3,
    "start_time": "2023-09-25T15:02:57.366Z"
   },
   {
    "duration": 429,
    "start_time": "2023-09-25T15:03:00.343Z"
   },
   {
    "duration": 559,
    "start_time": "2023-09-25T15:03:22.643Z"
   },
   {
    "duration": 479,
    "start_time": "2023-09-25T15:04:01.671Z"
   },
   {
    "duration": 428,
    "start_time": "2023-09-25T15:08:55.848Z"
   },
   {
    "duration": 496,
    "start_time": "2023-09-25T15:09:04.997Z"
   },
   {
    "duration": 5,
    "start_time": "2023-09-25T15:09:16.040Z"
   },
   {
    "duration": 4,
    "start_time": "2023-09-25T15:09:19.486Z"
   },
   {
    "duration": 9,
    "start_time": "2023-09-25T15:09:22.259Z"
   },
   {
    "duration": 6,
    "start_time": "2023-09-25T15:13:03.790Z"
   },
   {
    "duration": 83,
    "start_time": "2023-09-25T15:13:26.644Z"
   },
   {
    "duration": 115,
    "start_time": "2023-09-25T15:14:05.468Z"
   },
   {
    "duration": 29,
    "start_time": "2023-09-25T15:14:09.467Z"
   },
   {
    "duration": 14,
    "start_time": "2023-09-25T15:14:18.671Z"
   },
   {
    "duration": 2330,
    "start_time": "2023-09-25T15:14:30.086Z"
   },
   {
    "duration": 4,
    "start_time": "2023-09-25T15:14:38.885Z"
   },
   {
    "duration": 5,
    "start_time": "2023-09-25T15:14:42.085Z"
   },
   {
    "duration": 5,
    "start_time": "2023-09-25T15:14:44.589Z"
   },
   {
    "duration": 20,
    "start_time": "2023-09-25T15:14:48.143Z"
   },
   {
    "duration": 206,
    "start_time": "2023-09-25T15:14:53.854Z"
   },
   {
    "duration": 4,
    "start_time": "2023-09-25T15:15:18.265Z"
   },
   {
    "duration": 5,
    "start_time": "2023-09-25T15:15:20.918Z"
   },
   {
    "duration": 4,
    "start_time": "2023-09-25T15:15:23.467Z"
   },
   {
    "duration": 316,
    "start_time": "2023-09-25T15:15:30.074Z"
   },
   {
    "duration": 12,
    "start_time": "2023-09-25T15:15:35.667Z"
   },
   {
    "duration": 13,
    "start_time": "2023-09-25T15:15:47.460Z"
   },
   {
    "duration": 14,
    "start_time": "2023-09-25T15:15:50.522Z"
   },
   {
    "duration": 7,
    "start_time": "2023-09-25T15:15:55.490Z"
   },
   {
    "duration": 4,
    "start_time": "2023-09-25T15:15:57.717Z"
   },
   {
    "duration": 5,
    "start_time": "2023-09-25T15:16:00.501Z"
   },
   {
    "duration": 7,
    "start_time": "2023-09-25T15:16:08.057Z"
   },
   {
    "duration": 10,
    "start_time": "2023-09-25T15:16:11.252Z"
   },
   {
    "duration": 17,
    "start_time": "2023-09-25T15:16:16.823Z"
   },
   {
    "duration": 10,
    "start_time": "2023-09-25T15:16:25.191Z"
   },
   {
    "duration": 28,
    "start_time": "2023-09-25T15:16:32.563Z"
   },
   {
    "duration": 17,
    "start_time": "2023-09-25T15:16:41.148Z"
   },
   {
    "duration": 19,
    "start_time": "2023-09-25T15:16:47.482Z"
   },
   {
    "duration": 29,
    "start_time": "2023-09-25T15:17:14.001Z"
   },
   {
    "duration": 52,
    "start_time": "2023-09-25T15:17:16.315Z"
   },
   {
    "duration": 23,
    "start_time": "2023-09-25T15:17:18.469Z"
   },
   {
    "duration": 35,
    "start_time": "2023-09-25T15:17:27.444Z"
   },
   {
    "duration": 38,
    "start_time": "2023-09-25T15:17:29.740Z"
   },
   {
    "duration": 52,
    "start_time": "2023-09-25T15:17:32.120Z"
   },
   {
    "duration": 53,
    "start_time": "2023-09-25T15:17:35.922Z"
   },
   {
    "duration": 29,
    "start_time": "2023-09-25T15:17:38.664Z"
   },
   {
    "duration": 28,
    "start_time": "2023-09-25T15:17:45.954Z"
   },
   {
    "duration": 28,
    "start_time": "2023-09-25T15:17:48.352Z"
   },
   {
    "duration": 24,
    "start_time": "2023-09-25T15:17:50.687Z"
   },
   {
    "duration": 29,
    "start_time": "2023-09-25T15:17:57.447Z"
   },
   {
    "duration": 4,
    "start_time": "2023-09-25T15:19:05.369Z"
   },
   {
    "duration": 5,
    "start_time": "2023-09-25T15:19:07.813Z"
   },
   {
    "duration": 6,
    "start_time": "2023-09-25T15:19:10.099Z"
   },
   {
    "duration": 11,
    "start_time": "2023-09-25T15:19:12.452Z"
   },
   {
    "duration": 4,
    "start_time": "2023-09-25T15:20:10.912Z"
   },
   {
    "duration": 380,
    "start_time": "2023-09-25T15:20:13.462Z"
   },
   {
    "duration": 9,
    "start_time": "2023-09-25T15:20:20.752Z"
   },
   {
    "duration": 4,
    "start_time": "2023-09-25T15:20:23.164Z"
   },
   {
    "duration": 6,
    "start_time": "2023-09-25T15:20:25.804Z"
   },
   {
    "duration": 397,
    "start_time": "2023-09-25T16:52:55.946Z"
   },
   {
    "duration": 292,
    "start_time": "2023-09-25T17:12:37.116Z"
   },
   {
    "duration": 302,
    "start_time": "2023-09-25T17:12:51.859Z"
   },
   {
    "duration": 413,
    "start_time": "2023-09-25T17:13:13.055Z"
   },
   {
    "duration": 767,
    "start_time": "2023-09-25T20:00:13.062Z"
   },
   {
    "duration": 38,
    "start_time": "2023-09-25T20:00:15.929Z"
   },
   {
    "duration": 17,
    "start_time": "2023-09-25T20:00:21.521Z"
   },
   {
    "duration": 2682,
    "start_time": "2023-09-25T20:00:29.239Z"
   },
   {
    "duration": 4,
    "start_time": "2023-09-25T20:00:51.759Z"
   },
   {
    "duration": 7,
    "start_time": "2023-09-25T20:01:02.865Z"
   },
   {
    "duration": 6,
    "start_time": "2023-09-25T20:01:05.279Z"
   },
   {
    "duration": 172,
    "start_time": "2023-09-25T20:01:12.509Z"
   },
   {
    "duration": 165,
    "start_time": "2023-09-25T20:01:21.360Z"
   },
   {
    "duration": 11,
    "start_time": "2023-09-25T20:01:32.411Z"
   },
   {
    "duration": 9,
    "start_time": "2023-09-25T20:01:41.841Z"
   },
   {
    "duration": 7,
    "start_time": "2023-09-25T20:01:47.892Z"
   },
   {
    "duration": 7,
    "start_time": "2023-09-25T20:01:50.300Z"
   },
   {
    "duration": 4,
    "start_time": "2023-09-25T20:01:52.559Z"
   },
   {
    "duration": 7,
    "start_time": "2023-09-25T20:01:55.937Z"
   },
   {
    "duration": 6,
    "start_time": "2023-09-25T20:02:01.616Z"
   },
   {
    "duration": 9,
    "start_time": "2023-09-25T20:02:04.729Z"
   },
   {
    "duration": 16,
    "start_time": "2023-09-25T20:02:08.262Z"
   },
   {
    "duration": 9,
    "start_time": "2023-09-25T20:02:13.662Z"
   },
   {
    "duration": 22,
    "start_time": "2023-09-25T20:02:19.101Z"
   },
   {
    "duration": 16,
    "start_time": "2023-09-25T20:02:26.677Z"
   },
   {
    "duration": 22,
    "start_time": "2023-09-25T20:02:32.718Z"
   },
   {
    "duration": 24,
    "start_time": "2023-09-25T20:02:43.228Z"
   },
   {
    "duration": 25,
    "start_time": "2023-09-25T20:02:48.373Z"
   },
   {
    "duration": 25,
    "start_time": "2023-09-25T20:02:50.717Z"
   },
   {
    "duration": 25,
    "start_time": "2023-09-25T20:02:52.984Z"
   },
   {
    "duration": 26,
    "start_time": "2023-09-25T20:02:55.227Z"
   },
   {
    "duration": 24,
    "start_time": "2023-09-25T20:03:01.596Z"
   },
   {
    "duration": 27,
    "start_time": "2023-09-25T20:03:03.782Z"
   },
   {
    "duration": 36,
    "start_time": "2023-09-25T20:03:08.365Z"
   },
   {
    "duration": 26,
    "start_time": "2023-09-25T20:03:11.534Z"
   },
   {
    "duration": 29,
    "start_time": "2023-09-25T20:03:14.976Z"
   },
   {
    "duration": 20,
    "start_time": "2023-09-25T20:03:17.779Z"
   },
   {
    "duration": 7,
    "start_time": "2023-09-25T20:03:27.926Z"
   },
   {
    "duration": 6,
    "start_time": "2023-09-25T20:03:31.464Z"
   },
   {
    "duration": 6,
    "start_time": "2023-09-25T20:03:34.582Z"
   },
   {
    "duration": 5,
    "start_time": "2023-09-25T20:03:36.964Z"
   },
   {
    "duration": 3,
    "start_time": "2023-09-25T20:03:44.845Z"
   },
   {
    "duration": 321,
    "start_time": "2023-09-25T20:03:50.523Z"
   },
   {
    "duration": 5,
    "start_time": "2023-09-25T20:03:59.775Z"
   },
   {
    "duration": 6,
    "start_time": "2023-09-25T20:04:03.185Z"
   },
   {
    "duration": 359,
    "start_time": "2023-09-25T20:04:35.143Z"
   },
   {
    "duration": 298,
    "start_time": "2023-09-25T20:17:14.214Z"
   },
   {
    "duration": 87,
    "start_time": "2023-09-25T20:20:51.970Z"
   },
   {
    "duration": 241,
    "start_time": "2023-09-25T20:21:41.080Z"
   },
   {
    "duration": 302,
    "start_time": "2023-09-25T20:22:20.681Z"
   },
   {
    "duration": 316,
    "start_time": "2023-09-25T20:24:26.964Z"
   },
   {
    "duration": 33,
    "start_time": "2023-09-25T22:19:53.556Z"
   },
   {
    "duration": 34,
    "start_time": "2023-09-25T22:20:21.643Z"
   },
   {
    "duration": 58,
    "start_time": "2023-09-25T22:22:48.635Z"
   },
   {
    "duration": 38,
    "start_time": "2023-09-25T22:26:18.839Z"
   },
   {
    "duration": 58,
    "start_time": "2023-09-25T22:42:59.079Z"
   },
   {
    "duration": 42,
    "start_time": "2023-09-25T22:43:43.878Z"
   },
   {
    "duration": 8,
    "start_time": "2023-09-25T22:53:14.148Z"
   },
   {
    "duration": 7,
    "start_time": "2023-09-25T22:53:32.630Z"
   },
   {
    "duration": 7,
    "start_time": "2023-09-25T22:59:55.524Z"
   },
   {
    "duration": 6,
    "start_time": "2023-09-25T23:16:39.025Z"
   },
   {
    "duration": 7,
    "start_time": "2023-09-25T23:17:29.570Z"
   },
   {
    "duration": 47,
    "start_time": "2023-09-25T23:17:56.525Z"
   },
   {
    "duration": 285,
    "start_time": "2023-09-25T23:22:32.597Z"
   },
   {
    "duration": 282,
    "start_time": "2023-09-25T23:23:00.310Z"
   },
   {
    "duration": 289,
    "start_time": "2023-09-25T23:23:19.645Z"
   },
   {
    "duration": 406,
    "start_time": "2023-09-25T23:23:49.940Z"
   },
   {
    "duration": 286,
    "start_time": "2023-09-25T23:24:01.259Z"
   },
   {
    "duration": 8,
    "start_time": "2023-09-25T23:58:52.074Z"
   },
   {
    "duration": 74,
    "start_time": "2023-09-25T23:58:57.746Z"
   },
   {
    "duration": 9,
    "start_time": "2023-09-26T00:10:39.298Z"
   },
   {
    "duration": 6,
    "start_time": "2023-09-26T00:12:43.110Z"
   },
   {
    "duration": 36,
    "start_time": "2023-09-26T00:14:27.708Z"
   },
   {
    "duration": 40,
    "start_time": "2023-09-26T00:15:24.941Z"
   },
   {
    "duration": 32,
    "start_time": "2023-09-26T00:17:55.714Z"
   },
   {
    "duration": 35,
    "start_time": "2023-09-26T00:20:31.967Z"
   },
   {
    "duration": 6,
    "start_time": "2023-09-26T00:27:41.097Z"
   },
   {
    "duration": 11,
    "start_time": "2023-09-26T00:28:10.152Z"
   },
   {
    "duration": 287,
    "start_time": "2023-09-26T00:29:00.348Z"
   },
   {
    "duration": 289,
    "start_time": "2023-09-26T00:29:45.441Z"
   },
   {
    "duration": 291,
    "start_time": "2023-09-26T00:29:49.472Z"
   },
   {
    "duration": 434,
    "start_time": "2023-09-26T00:30:20.129Z"
   },
   {
    "duration": 292,
    "start_time": "2023-09-26T00:30:25.544Z"
   },
   {
    "duration": 7,
    "start_time": "2023-09-26T00:30:58.695Z"
   },
   {
    "duration": 300,
    "start_time": "2023-09-26T00:32:00.183Z"
   },
   {
    "duration": 307,
    "start_time": "2023-09-26T00:32:22.206Z"
   },
   {
    "duration": 299,
    "start_time": "2023-09-26T00:32:24.730Z"
   },
   {
    "duration": 322,
    "start_time": "2023-09-26T00:32:27.784Z"
   },
   {
    "duration": 33,
    "start_time": "2023-09-26T00:33:18.082Z"
   },
   {
    "duration": 100,
    "start_time": "2023-09-26T00:34:50.066Z"
   },
   {
    "duration": 31,
    "start_time": "2023-09-26T00:34:54.090Z"
   },
   {
    "duration": 17,
    "start_time": "2023-09-26T00:35:00.991Z"
   },
   {
    "duration": 1989,
    "start_time": "2023-09-26T00:35:12.766Z"
   },
   {
    "duration": 4,
    "start_time": "2023-09-26T00:35:53.041Z"
   },
   {
    "duration": 4,
    "start_time": "2023-09-26T00:35:55.724Z"
   },
   {
    "duration": 4,
    "start_time": "2023-09-26T00:36:00.098Z"
   },
   {
    "duration": 153,
    "start_time": "2023-09-26T00:36:11.975Z"
   },
   {
    "duration": 10,
    "start_time": "2023-09-26T00:36:17.761Z"
   },
   {
    "duration": 10,
    "start_time": "2023-09-26T00:36:25.198Z"
   },
   {
    "duration": 8,
    "start_time": "2023-09-26T00:37:02.476Z"
   },
   {
    "duration": 6,
    "start_time": "2023-09-26T00:37:06.032Z"
   },
   {
    "duration": 4,
    "start_time": "2023-09-26T00:37:08.543Z"
   },
   {
    "duration": 5,
    "start_time": "2023-09-26T00:37:11.143Z"
   },
   {
    "duration": 5,
    "start_time": "2023-09-26T00:37:18.654Z"
   },
   {
    "duration": 7,
    "start_time": "2023-09-26T00:37:21.126Z"
   },
   {
    "duration": 9,
    "start_time": "2023-09-26T00:37:27.008Z"
   },
   {
    "duration": 9,
    "start_time": "2023-09-26T00:37:29.938Z"
   },
   {
    "duration": 18,
    "start_time": "2023-09-26T00:37:34.870Z"
   },
   {
    "duration": 12,
    "start_time": "2023-09-26T00:37:42.949Z"
   },
   {
    "duration": 20,
    "start_time": "2023-09-26T00:37:52.809Z"
   },
   {
    "duration": 26,
    "start_time": "2023-09-26T00:38:00.015Z"
   },
   {
    "duration": 25,
    "start_time": "2023-09-26T00:38:02.521Z"
   },
   {
    "duration": 23,
    "start_time": "2023-09-26T00:38:06.434Z"
   },
   {
    "duration": 25,
    "start_time": "2023-09-26T00:38:09.372Z"
   },
   {
    "duration": 24,
    "start_time": "2023-09-26T00:38:15.302Z"
   },
   {
    "duration": 24,
    "start_time": "2023-09-26T00:38:19.185Z"
   },
   {
    "duration": 24,
    "start_time": "2023-09-26T00:38:23.447Z"
   },
   {
    "duration": 25,
    "start_time": "2023-09-26T00:38:26.984Z"
   },
   {
    "duration": 26,
    "start_time": "2023-09-26T00:38:30.435Z"
   },
   {
    "duration": 25,
    "start_time": "2023-09-26T00:38:36.123Z"
   },
   {
    "duration": 25,
    "start_time": "2023-09-26T00:38:39.281Z"
   },
   {
    "duration": 18,
    "start_time": "2023-09-26T00:38:41.830Z"
   },
   {
    "duration": 4,
    "start_time": "2023-09-26T00:38:49.887Z"
   },
   {
    "duration": 6,
    "start_time": "2023-09-26T00:39:00.873Z"
   },
   {
    "duration": 5,
    "start_time": "2023-09-26T00:39:04.944Z"
   },
   {
    "duration": 6,
    "start_time": "2023-09-26T00:39:08.158Z"
   },
   {
    "duration": 5,
    "start_time": "2023-09-26T00:39:31.185Z"
   },
   {
    "duration": 3,
    "start_time": "2023-09-26T00:39:37.307Z"
   },
   {
    "duration": 462,
    "start_time": "2023-09-26T00:39:40.019Z"
   },
   {
    "duration": 5,
    "start_time": "2023-09-26T00:39:44.905Z"
   },
   {
    "duration": 4,
    "start_time": "2023-09-26T00:39:47.285Z"
   },
   {
    "duration": 4,
    "start_time": "2023-09-26T00:39:49.787Z"
   },
   {
    "duration": 277,
    "start_time": "2023-09-26T00:39:59.255Z"
   },
   {
    "duration": 289,
    "start_time": "2023-09-26T00:40:12.147Z"
   },
   {
    "duration": 33,
    "start_time": "2023-09-26T00:40:22.225Z"
   },
   {
    "duration": 32,
    "start_time": "2023-09-26T00:40:51.481Z"
   },
   {
    "duration": 302,
    "start_time": "2023-09-26T00:41:46.107Z"
   },
   {
    "duration": 32,
    "start_time": "2023-09-26T01:01:35.350Z"
   },
   {
    "duration": 286,
    "start_time": "2023-09-26T01:04:58.025Z"
   },
   {
    "duration": 283,
    "start_time": "2023-09-26T01:24:07.839Z"
   },
   {
    "duration": 285,
    "start_time": "2023-09-26T01:24:42.373Z"
   },
   {
    "duration": 282,
    "start_time": "2023-09-26T01:25:31.261Z"
   },
   {
    "duration": 492,
    "start_time": "2023-09-26T01:26:31.555Z"
   },
   {
    "duration": 299,
    "start_time": "2023-09-26T01:27:56.215Z"
   },
   {
    "duration": 284,
    "start_time": "2023-09-26T01:28:08.088Z"
   },
   {
    "duration": 282,
    "start_time": "2023-09-26T01:28:15.247Z"
   },
   {
    "duration": 101,
    "start_time": "2023-09-26T01:28:27.406Z"
   },
   {
    "duration": 29,
    "start_time": "2023-09-26T01:28:50.369Z"
   },
   {
    "duration": 15,
    "start_time": "2023-09-26T01:29:00.839Z"
   },
   {
    "duration": 1998,
    "start_time": "2023-09-26T01:29:07.257Z"
   },
   {
    "duration": 4,
    "start_time": "2023-09-26T01:29:12.768Z"
   },
   {
    "duration": 4,
    "start_time": "2023-09-26T01:29:15.596Z"
   },
   {
    "duration": 4,
    "start_time": "2023-09-26T01:29:17.968Z"
   },
   {
    "duration": 195,
    "start_time": "2023-09-26T01:29:24.986Z"
   },
   {
    "duration": 94,
    "start_time": "2023-09-26T01:29:46.980Z"
   },
   {
    "duration": 29,
    "start_time": "2023-09-26T01:29:56.403Z"
   },
   {
    "duration": 1926,
    "start_time": "2023-09-26T01:30:14.527Z"
   },
   {
    "duration": 5,
    "start_time": "2023-09-26T01:30:25.598Z"
   },
   {
    "duration": 5,
    "start_time": "2023-09-26T01:30:33.820Z"
   },
   {
    "duration": 3,
    "start_time": "2023-09-26T01:30:36.363Z"
   },
   {
    "duration": 10,
    "start_time": "2023-09-26T01:30:39.542Z"
   },
   {
    "duration": 167,
    "start_time": "2023-09-26T01:31:33.307Z"
   },
   {
    "duration": 167,
    "start_time": "2023-09-26T01:31:36.234Z"
   },
   {
    "duration": 11,
    "start_time": "2023-09-26T01:32:04.526Z"
   },
   {
    "duration": 10,
    "start_time": "2023-09-26T01:32:22.846Z"
   },
   {
    "duration": 9,
    "start_time": "2023-09-26T01:32:25.812Z"
   },
   {
    "duration": 7,
    "start_time": "2023-09-26T01:32:32.103Z"
   },
   {
    "duration": 6,
    "start_time": "2023-09-26T01:32:35.593Z"
   },
   {
    "duration": 4,
    "start_time": "2023-09-26T01:32:38.342Z"
   },
   {
    "duration": 7,
    "start_time": "2023-09-26T01:33:54.076Z"
   },
   {
    "duration": 159,
    "start_time": "2023-09-26T01:34:14.543Z"
   },
   {
    "duration": 10,
    "start_time": "2023-09-26T01:34:30.586Z"
   },
   {
    "duration": 9,
    "start_time": "2023-09-26T01:34:33.703Z"
   },
   {
    "duration": 6,
    "start_time": "2023-09-26T01:34:53.756Z"
   },
   {
    "duration": 4,
    "start_time": "2023-09-26T01:34:56.820Z"
   },
   {
    "duration": 4,
    "start_time": "2023-09-26T01:34:59.296Z"
   },
   {
    "duration": 5,
    "start_time": "2023-09-26T01:35:04.741Z"
   },
   {
    "duration": 5,
    "start_time": "2023-09-26T01:35:10.314Z"
   },
   {
    "duration": 7,
    "start_time": "2023-09-26T01:35:12.901Z"
   },
   {
    "duration": 6,
    "start_time": "2023-09-26T01:35:16.030Z"
   },
   {
    "duration": 11,
    "start_time": "2023-09-26T01:35:30.959Z"
   },
   {
    "duration": 217,
    "start_time": "2023-09-26T01:35:34.145Z"
   },
   {
    "duration": 9,
    "start_time": "2023-09-26T01:35:39.734Z"
   },
   {
    "duration": 19,
    "start_time": "2023-09-26T01:35:49.064Z"
   },
   {
    "duration": 12,
    "start_time": "2023-09-26T01:35:58.788Z"
   },
   {
    "duration": 19,
    "start_time": "2023-09-26T01:36:05.634Z"
   },
   {
    "duration": 25,
    "start_time": "2023-09-26T01:36:15.228Z"
   },
   {
    "duration": 26,
    "start_time": "2023-09-26T01:36:19.709Z"
   },
   {
    "duration": 23,
    "start_time": "2023-09-26T01:36:24.933Z"
   },
   {
    "duration": 24,
    "start_time": "2023-09-26T01:36:27.801Z"
   },
   {
    "duration": 25,
    "start_time": "2023-09-26T01:36:33.072Z"
   },
   {
    "duration": 23,
    "start_time": "2023-09-26T01:36:36.368Z"
   },
   {
    "duration": 26,
    "start_time": "2023-09-26T01:36:41.566Z"
   },
   {
    "duration": 25,
    "start_time": "2023-09-26T01:36:44.508Z"
   },
   {
    "duration": 24,
    "start_time": "2023-09-26T01:36:47.023Z"
   },
   {
    "duration": 24,
    "start_time": "2023-09-26T01:36:51.956Z"
   },
   {
    "duration": 25,
    "start_time": "2023-09-26T01:36:54.692Z"
   },
   {
    "duration": 24,
    "start_time": "2023-09-26T01:37:00.389Z"
   },
   {
    "duration": 24,
    "start_time": "2023-09-26T01:37:02.931Z"
   },
   {
    "duration": 20,
    "start_time": "2023-09-26T01:37:05.636Z"
   },
   {
    "duration": 5,
    "start_time": "2023-09-26T01:37:14.482Z"
   },
   {
    "duration": 6,
    "start_time": "2023-09-26T01:37:16.836Z"
   },
   {
    "duration": 6,
    "start_time": "2023-09-26T01:37:19.249Z"
   },
   {
    "duration": 5,
    "start_time": "2023-09-26T01:37:21.716Z"
   },
   {
    "duration": 3,
    "start_time": "2023-09-26T01:37:27.216Z"
   },
   {
    "duration": 316,
    "start_time": "2023-09-26T01:37:29.969Z"
   },
   {
    "duration": 4,
    "start_time": "2023-09-26T01:37:35.241Z"
   },
   {
    "duration": 4,
    "start_time": "2023-09-26T01:37:41.361Z"
   },
   {
    "duration": 289,
    "start_time": "2023-09-26T01:37:47.829Z"
   },
   {
    "duration": 297,
    "start_time": "2023-09-26T01:37:55.172Z"
   },
   {
    "duration": 40,
    "start_time": "2023-09-26T01:38:02.222Z"
   },
   {
    "duration": 32,
    "start_time": "2023-09-26T01:38:08.470Z"
   },
   {
    "duration": 286,
    "start_time": "2023-09-26T01:38:15.456Z"
   },
   {
    "duration": 285,
    "start_time": "2023-09-26T01:38:56.665Z"
   },
   {
    "duration": 285,
    "start_time": "2023-09-26T01:50:56.457Z"
   },
   {
    "duration": 268,
    "start_time": "2023-09-26T01:51:01.418Z"
   },
   {
    "duration": 299,
    "start_time": "2023-09-26T01:51:45.048Z"
   },
   {
    "duration": 4,
    "start_time": "2023-09-26T02:36:43.980Z"
   },
   {
    "duration": 8,
    "start_time": "2023-09-26T02:37:54.150Z"
   },
   {
    "duration": 4,
    "start_time": "2023-09-26T02:38:51.688Z"
   },
   {
    "duration": 4,
    "start_time": "2023-09-26T02:38:55.045Z"
   },
   {
    "duration": 4,
    "start_time": "2023-09-26T02:39:00.422Z"
   },
   {
    "duration": 3,
    "start_time": "2023-09-26T02:39:17.109Z"
   },
   {
    "duration": 253,
    "start_time": "2023-09-26T02:39:25.694Z"
   },
   {
    "duration": 11,
    "start_time": "2023-09-26T02:39:29.679Z"
   },
   {
    "duration": 95,
    "start_time": "2023-09-26T02:39:49.189Z"
   },
   {
    "duration": 30,
    "start_time": "2023-09-26T02:39:55.518Z"
   },
   {
    "duration": 16,
    "start_time": "2023-09-26T02:40:00.187Z"
   },
   {
    "duration": 1883,
    "start_time": "2023-09-26T02:40:07.992Z"
   },
   {
    "duration": 4,
    "start_time": "2023-09-26T02:40:17.047Z"
   },
   {
    "duration": 4,
    "start_time": "2023-09-26T02:40:21.452Z"
   },
   {
    "duration": 4,
    "start_time": "2023-09-26T02:40:25.781Z"
   },
   {
    "duration": 10,
    "start_time": "2023-09-26T02:40:29.636Z"
   },
   {
    "duration": 165,
    "start_time": "2023-09-26T02:40:45.576Z"
   },
   {
    "duration": 156,
    "start_time": "2023-09-26T02:41:50.556Z"
   },
   {
    "duration": 9,
    "start_time": "2023-09-26T02:41:58.743Z"
   },
   {
    "duration": 10,
    "start_time": "2023-09-26T02:42:04.872Z"
   },
   {
    "duration": 7,
    "start_time": "2023-09-26T02:42:08.418Z"
   },
   {
    "duration": 7,
    "start_time": "2023-09-26T02:42:16.145Z"
   },
   {
    "duration": 5,
    "start_time": "2023-09-26T02:42:20.265Z"
   },
   {
    "duration": 5,
    "start_time": "2023-09-26T02:42:23.006Z"
   },
   {
    "duration": 6,
    "start_time": "2023-09-26T02:42:36.585Z"
   },
   {
    "duration": 5,
    "start_time": "2023-09-26T02:42:40.637Z"
   },
   {
    "duration": 12,
    "start_time": "2023-09-26T02:42:46.255Z"
   },
   {
    "duration": 9,
    "start_time": "2023-09-26T02:42:53.576Z"
   },
   {
    "duration": 19,
    "start_time": "2023-09-26T02:43:37.045Z"
   },
   {
    "duration": 11,
    "start_time": "2023-09-26T02:43:46.490Z"
   },
   {
    "duration": 20,
    "start_time": "2023-09-26T02:43:52.469Z"
   },
   {
    "duration": 26,
    "start_time": "2023-09-26T02:45:57.619Z"
   },
   {
    "duration": 24,
    "start_time": "2023-09-26T02:46:03.844Z"
   },
   {
    "duration": 26,
    "start_time": "2023-09-26T02:46:07.903Z"
   },
   {
    "duration": 24,
    "start_time": "2023-09-26T02:46:11.790Z"
   },
   {
    "duration": 25,
    "start_time": "2023-09-26T02:46:14.699Z"
   },
   {
    "duration": 32,
    "start_time": "2023-09-26T02:46:17.172Z"
   },
   {
    "duration": 25,
    "start_time": "2023-09-26T02:46:23.252Z"
   },
   {
    "duration": 26,
    "start_time": "2023-09-26T02:46:27.297Z"
   },
   {
    "duration": 27,
    "start_time": "2023-09-26T02:46:30.036Z"
   },
   {
    "duration": 26,
    "start_time": "2023-09-26T02:46:32.499Z"
   },
   {
    "duration": 26,
    "start_time": "2023-09-26T02:46:38.533Z"
   },
   {
    "duration": 24,
    "start_time": "2023-09-26T02:46:40.743Z"
   },
   {
    "duration": 20,
    "start_time": "2023-09-26T02:46:43.997Z"
   },
   {
    "duration": 4,
    "start_time": "2023-09-26T02:46:57.120Z"
   },
   {
    "duration": 6,
    "start_time": "2023-09-26T02:47:00.150Z"
   },
   {
    "duration": 6,
    "start_time": "2023-09-26T02:47:04.424Z"
   },
   {
    "duration": 7,
    "start_time": "2023-09-26T02:47:07.268Z"
   },
   {
    "duration": 4,
    "start_time": "2023-09-26T02:47:12.492Z"
   },
   {
    "duration": 327,
    "start_time": "2023-09-26T02:47:15.345Z"
   },
   {
    "duration": 5,
    "start_time": "2023-09-26T02:47:18.370Z"
   },
   {
    "duration": 4,
    "start_time": "2023-09-26T02:47:21.390Z"
   },
   {
    "duration": 276,
    "start_time": "2023-09-26T02:47:31.895Z"
   },
   {
    "duration": 297,
    "start_time": "2023-09-26T02:49:25.844Z"
   },
   {
    "duration": 538,
    "start_time": "2023-09-26T03:03:12.153Z"
   },
   {
    "duration": 299,
    "start_time": "2023-09-26T03:16:20.659Z"
   },
   {
    "duration": 32,
    "start_time": "2023-09-26T03:21:16.028Z"
   },
   {
    "duration": 11,
    "start_time": "2023-09-26T03:26:35.254Z"
   },
   {
    "duration": 3,
    "start_time": "2023-09-26T03:36:34.453Z"
   },
   {
    "duration": 32,
    "start_time": "2023-09-26T03:37:10.739Z"
   },
   {
    "duration": 100,
    "start_time": "2023-09-26T03:42:08.039Z"
   },
   {
    "duration": 30,
    "start_time": "2023-09-26T03:42:10.913Z"
   },
   {
    "duration": 16,
    "start_time": "2023-09-26T03:42:18.916Z"
   },
   {
    "duration": 1878,
    "start_time": "2023-09-26T03:42:28.008Z"
   },
   {
    "duration": 7,
    "start_time": "2023-09-26T03:42:36.378Z"
   },
   {
    "duration": 5,
    "start_time": "2023-09-26T03:42:39.188Z"
   },
   {
    "duration": 4,
    "start_time": "2023-09-26T03:42:43.575Z"
   },
   {
    "duration": 157,
    "start_time": "2023-09-26T03:42:50.043Z"
   },
   {
    "duration": 154,
    "start_time": "2023-09-26T03:43:43.252Z"
   },
   {
    "duration": 9,
    "start_time": "2023-09-26T03:43:53.680Z"
   },
   {
    "duration": 9,
    "start_time": "2023-09-26T03:44:04.077Z"
   },
   {
    "duration": 7,
    "start_time": "2023-09-26T03:44:10.390Z"
   },
   {
    "duration": 5,
    "start_time": "2023-09-26T03:44:13.688Z"
   },
   {
    "duration": 3,
    "start_time": "2023-09-26T03:44:16.508Z"
   },
   {
    "duration": 4,
    "start_time": "2023-09-26T03:44:22.551Z"
   },
   {
    "duration": 5,
    "start_time": "2023-09-26T03:44:26.672Z"
   },
   {
    "duration": 5,
    "start_time": "2023-09-26T03:44:33.334Z"
   },
   {
    "duration": 9,
    "start_time": "2023-09-26T03:44:36.121Z"
   },
   {
    "duration": 9,
    "start_time": "2023-09-26T03:44:39.351Z"
   },
   {
    "duration": 11,
    "start_time": "2023-09-26T03:46:00.550Z"
   },
   {
    "duration": 9,
    "start_time": "2023-09-26T03:46:12.597Z"
   },
   {
    "duration": 9,
    "start_time": "2023-09-26T03:46:21.706Z"
   },
   {
    "duration": 5,
    "start_time": "2023-09-26T03:46:24.339Z"
   },
   {
    "duration": 3,
    "start_time": "2023-09-26T03:46:30.320Z"
   },
   {
    "duration": 4,
    "start_time": "2023-09-26T03:46:32.705Z"
   },
   {
    "duration": 3,
    "start_time": "2023-09-26T03:46:37.651Z"
   },
   {
    "duration": 4,
    "start_time": "2023-09-26T03:46:44.066Z"
   },
   {
    "duration": 3,
    "start_time": "2023-09-26T03:46:46.474Z"
   },
   {
    "duration": 12,
    "start_time": "2023-09-26T03:46:49.661Z"
   },
   {
    "duration": 8,
    "start_time": "2023-09-26T03:46:52.812Z"
   },
   {
    "duration": 28,
    "start_time": "2023-09-26T03:47:06.257Z"
   },
   {
    "duration": 11,
    "start_time": "2023-09-26T03:47:14.989Z"
   },
   {
    "duration": 19,
    "start_time": "2023-09-26T03:47:18.061Z"
   },
   {
    "duration": 25,
    "start_time": "2023-09-26T03:47:25.861Z"
   },
   {
    "duration": 25,
    "start_time": "2023-09-26T03:47:28.739Z"
   },
   {
    "duration": 25,
    "start_time": "2023-09-26T03:47:33.998Z"
   },
   {
    "duration": 26,
    "start_time": "2023-09-26T03:47:36.694Z"
   },
   {
    "duration": 25,
    "start_time": "2023-09-26T03:47:42.005Z"
   },
   {
    "duration": 25,
    "start_time": "2023-09-26T03:47:44.675Z"
   },
   {
    "duration": 25,
    "start_time": "2023-09-26T03:47:47.313Z"
   },
   {
    "duration": 24,
    "start_time": "2023-09-26T03:47:49.650Z"
   },
   {
    "duration": 22,
    "start_time": "2023-09-26T03:47:52.586Z"
   },
   {
    "duration": 5,
    "start_time": "2023-09-26T03:48:00.858Z"
   },
   {
    "duration": 6,
    "start_time": "2023-09-26T03:48:02.963Z"
   },
   {
    "duration": 6,
    "start_time": "2023-09-26T03:48:07.641Z"
   },
   {
    "duration": 6,
    "start_time": "2023-09-26T03:48:10.817Z"
   },
   {
    "duration": 4,
    "start_time": "2023-09-26T03:48:16.370Z"
   },
   {
    "duration": 325,
    "start_time": "2023-09-26T03:48:19.310Z"
   },
   {
    "duration": 4,
    "start_time": "2023-09-26T03:48:22.104Z"
   },
   {
    "duration": 4,
    "start_time": "2023-09-26T03:48:24.826Z"
   },
   {
    "duration": 570,
    "start_time": "2023-09-26T03:48:31.013Z"
   },
   {
    "duration": 296,
    "start_time": "2023-09-26T03:48:42.039Z"
   },
   {
    "duration": 34,
    "start_time": "2023-09-26T03:48:55.729Z"
   },
   {
    "duration": 33,
    "start_time": "2023-09-26T03:49:03.053Z"
   },
   {
    "duration": 289,
    "start_time": "2023-09-26T03:49:11.486Z"
   },
   {
    "duration": 302,
    "start_time": "2023-09-26T03:49:32.171Z"
   },
   {
    "duration": 295,
    "start_time": "2023-09-26T03:49:40.687Z"
   },
   {
    "duration": 31,
    "start_time": "2023-09-26T03:49:52.157Z"
   },
   {
    "duration": 4,
    "start_time": "2023-09-26T03:50:06.706Z"
   },
   {
    "duration": 33,
    "start_time": "2023-09-26T03:50:11.654Z"
   },
   {
    "duration": 40,
    "start_time": "2023-09-26T03:57:16.095Z"
   },
   {
    "duration": 56,
    "start_time": "2023-09-26T03:57:43.828Z"
   },
   {
    "duration": 614,
    "start_time": "2023-09-26T14:34:59.557Z"
   },
   {
    "duration": 38,
    "start_time": "2023-09-26T14:35:03.886Z"
   },
   {
    "duration": 14,
    "start_time": "2023-09-26T14:35:12.068Z"
   },
   {
    "duration": 2242,
    "start_time": "2023-09-26T14:35:18.952Z"
   },
   {
    "duration": 5,
    "start_time": "2023-09-26T14:35:30.154Z"
   },
   {
    "duration": 7,
    "start_time": "2023-09-26T14:35:32.818Z"
   },
   {
    "duration": 4,
    "start_time": "2023-09-26T14:35:35.421Z"
   },
   {
    "duration": 11,
    "start_time": "2023-09-26T14:35:41.263Z"
   },
   {
    "duration": 139,
    "start_time": "2023-09-26T14:35:50.840Z"
   },
   {
    "duration": 10,
    "start_time": "2023-09-26T14:36:57.566Z"
   },
   {
    "duration": 10,
    "start_time": "2023-09-26T14:37:13.509Z"
   },
   {
    "duration": 6,
    "start_time": "2023-09-26T14:37:20.707Z"
   },
   {
    "duration": 6,
    "start_time": "2023-09-26T14:37:26.909Z"
   },
   {
    "duration": 4,
    "start_time": "2023-09-26T14:37:35.627Z"
   },
   {
    "duration": 6,
    "start_time": "2023-09-26T14:37:38.117Z"
   },
   {
    "duration": 5,
    "start_time": "2023-09-26T14:37:56.899Z"
   },
   {
    "duration": 4,
    "start_time": "2023-09-26T14:38:05.549Z"
   },
   {
    "duration": 4,
    "start_time": "2023-09-26T14:38:16.158Z"
   },
   {
    "duration": 8,
    "start_time": "2023-09-26T14:38:20.031Z"
   },
   {
    "duration": 19,
    "start_time": "2023-09-26T14:38:27.516Z"
   },
   {
    "duration": 11,
    "start_time": "2023-09-26T14:38:34.470Z"
   },
   {
    "duration": 19,
    "start_time": "2023-09-26T14:38:41.550Z"
   },
   {
    "duration": 26,
    "start_time": "2023-09-26T14:38:48.368Z"
   },
   {
    "duration": 23,
    "start_time": "2023-09-26T14:38:51.204Z"
   },
   {
    "duration": 33,
    "start_time": "2023-09-26T14:38:54.093Z"
   },
   {
    "duration": 23,
    "start_time": "2023-09-26T14:38:59.092Z"
   },
   {
    "duration": 25,
    "start_time": "2023-09-26T14:39:01.658Z"
   },
   {
    "duration": 23,
    "start_time": "2023-09-26T14:39:06.398Z"
   },
   {
    "duration": 25,
    "start_time": "2023-09-26T14:39:08.714Z"
   },
   {
    "duration": 24,
    "start_time": "2023-09-26T14:39:15.496Z"
   },
   {
    "duration": 26,
    "start_time": "2023-09-26T14:39:18.000Z"
   },
   {
    "duration": 23,
    "start_time": "2023-09-26T14:39:20.450Z"
   },
   {
    "duration": 36,
    "start_time": "2023-09-26T14:39:24.094Z"
   },
   {
    "duration": 19,
    "start_time": "2023-09-26T14:39:27.416Z"
   },
   {
    "duration": 5,
    "start_time": "2023-09-26T14:39:40.064Z"
   },
   {
    "duration": 8,
    "start_time": "2023-09-26T14:39:42.349Z"
   },
   {
    "duration": 6,
    "start_time": "2023-09-26T14:39:44.902Z"
   },
   {
    "duration": 6,
    "start_time": "2023-09-26T14:39:47.731Z"
   },
   {
    "duration": 4,
    "start_time": "2023-09-26T14:39:53.196Z"
   },
   {
    "duration": 295,
    "start_time": "2023-09-26T14:39:55.299Z"
   },
   {
    "duration": 5,
    "start_time": "2023-09-26T14:40:01.910Z"
   },
   {
    "duration": 4,
    "start_time": "2023-09-26T14:40:05.480Z"
   },
   {
    "duration": 348,
    "start_time": "2023-09-26T14:40:16.526Z"
   },
   {
    "duration": 303,
    "start_time": "2023-09-26T14:41:34.769Z"
   },
   {
    "duration": 29,
    "start_time": "2023-09-26T14:43:21.868Z"
   },
   {
    "duration": 31,
    "start_time": "2023-09-26T14:43:53.861Z"
   },
   {
    "duration": 10,
    "start_time": "2023-09-26T15:09:26.259Z"
   },
   {
    "duration": 33,
    "start_time": "2023-09-26T15:09:53.559Z"
   },
   {
    "duration": 35,
    "start_time": "2023-09-26T15:10:08.980Z"
   },
   {
    "duration": 10,
    "start_time": "2023-09-26T15:10:35.031Z"
   },
   {
    "duration": 305,
    "start_time": "2023-09-26T15:10:49.561Z"
   },
   {
    "duration": 267,
    "start_time": "2023-09-26T15:10:53.213Z"
   },
   {
    "duration": 40,
    "start_time": "2023-09-26T15:12:37.725Z"
   },
   {
    "duration": 301,
    "start_time": "2023-09-26T15:14:01.150Z"
   },
   {
    "duration": 293,
    "start_time": "2023-09-26T15:18:17.078Z"
   },
   {
    "duration": 8,
    "start_time": "2023-09-26T15:22:15.579Z"
   },
   {
    "duration": 403,
    "start_time": "2023-09-26T15:28:05.644Z"
   },
   {
    "duration": 286,
    "start_time": "2023-09-26T15:29:30.183Z"
   },
   {
    "duration": 69,
    "start_time": "2023-09-26T15:37:32.513Z"
   },
   {
    "duration": 7,
    "start_time": "2023-09-26T15:37:47.853Z"
   },
   {
    "duration": 5,
    "start_time": "2023-09-26T15:42:13.247Z"
   },
   {
    "duration": 8,
    "start_time": "2023-09-26T15:43:38.995Z"
   },
   {
    "duration": 6,
    "start_time": "2023-09-26T15:54:09.073Z"
   },
   {
    "duration": 8,
    "start_time": "2023-09-26T16:01:47.721Z"
   },
   {
    "duration": 30,
    "start_time": "2023-09-26T16:03:27.482Z"
   },
   {
    "duration": 31,
    "start_time": "2023-09-26T16:04:25.771Z"
   },
   {
    "duration": 48,
    "start_time": "2023-09-26T16:04:47.264Z"
   },
   {
    "duration": 52,
    "start_time": "2023-09-26T16:04:55.156Z"
   },
   {
    "duration": 30,
    "start_time": "2023-09-26T16:05:55.693Z"
   },
   {
    "duration": 9,
    "start_time": "2023-09-26T16:06:16.267Z"
   },
   {
    "duration": 286,
    "start_time": "2023-09-26T16:06:45.136Z"
   },
   {
    "duration": 132,
    "start_time": "2023-09-26T16:23:29.071Z"
   },
   {
    "duration": 45,
    "start_time": "2023-09-26T16:23:31.870Z"
   },
   {
    "duration": 20,
    "start_time": "2023-09-26T16:23:37.507Z"
   },
   {
    "duration": 2328,
    "start_time": "2023-09-26T16:23:45.308Z"
   },
   {
    "duration": 4,
    "start_time": "2023-09-26T16:23:54.384Z"
   },
   {
    "duration": 5,
    "start_time": "2023-09-26T16:23:56.902Z"
   },
   {
    "duration": 5,
    "start_time": "2023-09-26T16:23:59.325Z"
   },
   {
    "duration": 14,
    "start_time": "2023-09-26T16:24:02.118Z"
   },
   {
    "duration": 180,
    "start_time": "2023-09-26T16:24:13.665Z"
   },
   {
    "duration": 11,
    "start_time": "2023-09-26T16:24:27.880Z"
   },
   {
    "duration": 10,
    "start_time": "2023-09-26T16:24:37.959Z"
   },
   {
    "duration": 9,
    "start_time": "2023-09-26T16:24:48.072Z"
   },
   {
    "duration": 7,
    "start_time": "2023-09-26T16:24:56.524Z"
   },
   {
    "duration": 6,
    "start_time": "2023-09-26T16:25:01.900Z"
   },
   {
    "duration": 4,
    "start_time": "2023-09-26T16:25:08.002Z"
   },
   {
    "duration": 5,
    "start_time": "2023-09-26T16:25:10.578Z"
   },
   {
    "duration": 6,
    "start_time": "2023-09-26T16:25:16.584Z"
   },
   {
    "duration": 6,
    "start_time": "2023-09-26T16:25:24.209Z"
   },
   {
    "duration": 27,
    "start_time": "2023-09-26T16:25:26.841Z"
   },
   {
    "duration": 8,
    "start_time": "2023-09-26T16:25:29.908Z"
   },
   {
    "duration": 19,
    "start_time": "2023-09-26T16:25:34.811Z"
   },
   {
    "duration": 12,
    "start_time": "2023-09-26T16:25:41.202Z"
   },
   {
    "duration": 46,
    "start_time": "2023-09-26T16:25:46.838Z"
   },
   {
    "duration": 27,
    "start_time": "2023-09-26T16:25:54.006Z"
   },
   {
    "duration": 40,
    "start_time": "2023-09-26T16:25:56.331Z"
   },
   {
    "duration": 32,
    "start_time": "2023-09-26T16:26:01.381Z"
   },
   {
    "duration": 48,
    "start_time": "2023-09-26T16:26:04.005Z"
   },
   {
    "duration": 46,
    "start_time": "2023-09-26T16:26:09.958Z"
   },
   {
    "duration": 35,
    "start_time": "2023-09-26T16:26:12.382Z"
   },
   {
    "duration": 39,
    "start_time": "2023-09-26T16:26:13.550Z"
   },
   {
    "duration": 37,
    "start_time": "2023-09-26T16:26:14.469Z"
   },
   {
    "duration": 26,
    "start_time": "2023-09-26T16:26:15.262Z"
   },
   {
    "duration": 25,
    "start_time": "2023-09-26T16:26:20.558Z"
   },
   {
    "duration": 23,
    "start_time": "2023-09-26T16:26:21.180Z"
   },
   {
    "duration": 21,
    "start_time": "2023-09-26T16:26:23.015Z"
   },
   {
    "duration": 5,
    "start_time": "2023-09-26T16:26:33.926Z"
   },
   {
    "duration": 8,
    "start_time": "2023-09-26T16:26:34.945Z"
   },
   {
    "duration": 7,
    "start_time": "2023-09-26T16:26:35.582Z"
   },
   {
    "duration": 8,
    "start_time": "2023-09-26T16:26:36.258Z"
   },
   {
    "duration": 3,
    "start_time": "2023-09-26T16:26:43.408Z"
   },
   {
    "duration": 359,
    "start_time": "2023-09-26T16:26:45.720Z"
   },
   {
    "duration": 6,
    "start_time": "2023-09-26T16:26:47.817Z"
   },
   {
    "duration": 6,
    "start_time": "2023-09-26T16:26:49.240Z"
   },
   {
    "duration": 303,
    "start_time": "2023-09-26T16:26:57.329Z"
   },
   {
    "duration": 370,
    "start_time": "2023-09-26T16:27:08.318Z"
   },
   {
    "duration": 36,
    "start_time": "2023-09-26T16:27:44.682Z"
   },
   {
    "duration": 31,
    "start_time": "2023-09-26T16:28:08.008Z"
   },
   {
    "duration": 33,
    "start_time": "2023-09-26T16:28:25.083Z"
   },
   {
    "duration": 34,
    "start_time": "2023-09-26T16:28:41.046Z"
   },
   {
    "duration": 8,
    "start_time": "2023-09-26T16:28:49.311Z"
   },
   {
    "duration": 274,
    "start_time": "2023-09-26T16:28:51.978Z"
   },
   {
    "duration": 262,
    "start_time": "2023-09-26T16:28:58.191Z"
   },
   {
    "duration": 281,
    "start_time": "2023-09-26T16:29:04.774Z"
   },
   {
    "duration": 289,
    "start_time": "2023-09-26T16:37:47.004Z"
   },
   {
    "duration": 8,
    "start_time": "2023-09-26T16:38:00.230Z"
   },
   {
    "duration": 6,
    "start_time": "2023-09-26T16:38:05.541Z"
   },
   {
    "duration": 7,
    "start_time": "2023-09-26T16:38:13.791Z"
   },
   {
    "duration": 261,
    "start_time": "2023-09-26T16:38:18.323Z"
   },
   {
    "duration": 265,
    "start_time": "2023-09-26T16:41:59.369Z"
   },
   {
    "duration": 21,
    "start_time": "2023-09-26T16:46:25.903Z"
   },
   {
    "duration": 87,
    "start_time": "2023-09-26T16:52:52.032Z"
   },
   {
    "duration": 29,
    "start_time": "2023-09-26T16:52:55.910Z"
   },
   {
    "duration": 15,
    "start_time": "2023-09-26T16:52:58.076Z"
   },
   {
    "duration": 1707,
    "start_time": "2023-09-26T16:53:08.749Z"
   },
   {
    "duration": 4,
    "start_time": "2023-09-26T16:53:15.925Z"
   },
   {
    "duration": 4,
    "start_time": "2023-09-26T16:53:18.251Z"
   },
   {
    "duration": 4,
    "start_time": "2023-09-26T16:53:19.198Z"
   },
   {
    "duration": 9,
    "start_time": "2023-09-26T16:53:20.209Z"
   },
   {
    "duration": 145,
    "start_time": "2023-09-26T16:53:27.351Z"
   },
   {
    "duration": 9,
    "start_time": "2023-09-26T16:53:29.755Z"
   },
   {
    "duration": 9,
    "start_time": "2023-09-26T16:53:31.664Z"
   },
   {
    "duration": 6,
    "start_time": "2023-09-26T16:53:34.836Z"
   },
   {
    "duration": 6,
    "start_time": "2023-09-26T16:53:36.669Z"
   },
   {
    "duration": 4,
    "start_time": "2023-09-26T16:53:37.463Z"
   },
   {
    "duration": 6,
    "start_time": "2023-09-26T16:53:42.131Z"
   },
   {
    "duration": 4,
    "start_time": "2023-09-26T16:53:43.448Z"
   },
   {
    "duration": 5,
    "start_time": "2023-09-26T16:53:44.159Z"
   },
   {
    "duration": 8,
    "start_time": "2023-09-26T16:53:45.982Z"
   },
   {
    "duration": 7,
    "start_time": "2023-09-26T16:53:46.739Z"
   },
   {
    "duration": 25,
    "start_time": "2023-09-26T16:53:49.023Z"
   },
   {
    "duration": 11,
    "start_time": "2023-09-26T16:53:57.484Z"
   },
   {
    "duration": 20,
    "start_time": "2023-09-26T16:53:58.573Z"
   },
   {
    "duration": 23,
    "start_time": "2023-09-26T16:54:04.327Z"
   },
   {
    "duration": 23,
    "start_time": "2023-09-26T16:54:05.006Z"
   },
   {
    "duration": 22,
    "start_time": "2023-09-26T16:54:05.748Z"
   },
   {
    "duration": 31,
    "start_time": "2023-09-26T16:54:09.059Z"
   },
   {
    "duration": 24,
    "start_time": "2023-09-26T16:54:09.799Z"
   },
   {
    "duration": 30,
    "start_time": "2023-09-26T16:54:10.500Z"
   },
   {
    "duration": 32,
    "start_time": "2023-09-26T16:54:11.199Z"
   },
   {
    "duration": 26,
    "start_time": "2023-09-26T16:54:11.939Z"
   },
   {
    "duration": 23,
    "start_time": "2023-09-26T16:54:12.676Z"
   },
   {
    "duration": 26,
    "start_time": "2023-09-26T16:54:17.033Z"
   },
   {
    "duration": 26,
    "start_time": "2023-09-26T16:54:17.738Z"
   },
   {
    "duration": 20,
    "start_time": "2023-09-26T16:54:18.877Z"
   },
   {
    "duration": 4,
    "start_time": "2023-09-26T16:54:28.249Z"
   },
   {
    "duration": 6,
    "start_time": "2023-09-26T16:54:28.905Z"
   },
   {
    "duration": 5,
    "start_time": "2023-09-26T16:54:29.539Z"
   },
   {
    "duration": 5,
    "start_time": "2023-09-26T16:54:30.164Z"
   },
   {
    "duration": 3,
    "start_time": "2023-09-26T16:54:31.589Z"
   },
   {
    "duration": 412,
    "start_time": "2023-09-26T16:54:35.476Z"
   },
   {
    "duration": 4,
    "start_time": "2023-09-26T16:54:36.165Z"
   },
   {
    "duration": 5,
    "start_time": "2023-09-26T16:54:36.950Z"
   },
   {
    "duration": 362,
    "start_time": "2023-09-26T16:54:42.994Z"
   },
   {
    "duration": 275,
    "start_time": "2023-09-26T16:54:50.048Z"
   },
   {
    "duration": 268,
    "start_time": "2023-09-26T16:55:02.802Z"
   },
   {
    "duration": 31,
    "start_time": "2023-09-26T16:55:11.390Z"
   },
   {
    "duration": 31,
    "start_time": "2023-09-26T16:55:16.515Z"
   },
   {
    "duration": 8,
    "start_time": "2023-09-26T16:55:22.357Z"
   },
   {
    "duration": 255,
    "start_time": "2023-09-26T16:55:28.582Z"
   },
   {
    "duration": 376,
    "start_time": "2023-09-26T16:55:35.827Z"
   },
   {
    "duration": 260,
    "start_time": "2023-09-26T16:55:41.250Z"
   },
   {
    "duration": 297,
    "start_time": "2023-09-26T16:55:48.835Z"
   },
   {
    "duration": 6,
    "start_time": "2023-09-26T16:55:57.940Z"
   },
   {
    "duration": 6,
    "start_time": "2023-09-26T16:56:00.454Z"
   },
   {
    "duration": 8,
    "start_time": "2023-09-26T16:56:02.486Z"
   },
   {
    "duration": 276,
    "start_time": "2023-09-26T16:56:10.277Z"
   },
   {
    "duration": 1325,
    "start_time": "2023-09-26T17:12:19.537Z"
   },
   {
    "duration": 111,
    "start_time": "2023-09-26T17:14:38.765Z"
   },
   {
    "duration": 149,
    "start_time": "2023-09-26T17:15:44.202Z"
   },
   {
    "duration": 97,
    "start_time": "2023-09-26T17:17:34.536Z"
   },
   {
    "duration": 103,
    "start_time": "2023-09-26T17:18:05.674Z"
   },
   {
    "duration": 319,
    "start_time": "2023-09-26T17:31:33.882Z"
   },
   {
    "duration": 89,
    "start_time": "2023-09-26T17:32:35.833Z"
   },
   {
    "duration": 410,
    "start_time": "2023-09-26T17:33:28.974Z"
   },
   {
    "duration": 9,
    "start_time": "2023-09-26T17:37:25.766Z"
   },
   {
    "duration": 7,
    "start_time": "2023-09-26T17:38:59.202Z"
   },
   {
    "duration": 27,
    "start_time": "2023-09-26T17:40:48.740Z"
   },
   {
    "duration": 8,
    "start_time": "2023-09-26T17:46:02.838Z"
   },
   {
    "duration": 6,
    "start_time": "2023-09-26T17:59:11.206Z"
   },
   {
    "duration": 5,
    "start_time": "2023-09-26T18:03:45.891Z"
   },
   {
    "duration": 31,
    "start_time": "2023-09-26T18:03:51.064Z"
   },
   {
    "duration": 6,
    "start_time": "2023-09-26T18:04:15.991Z"
   },
   {
    "duration": 6,
    "start_time": "2023-09-26T18:06:10.108Z"
   },
   {
    "duration": 260,
    "start_time": "2023-09-26T18:07:09.040Z"
   },
   {
    "duration": 262,
    "start_time": "2023-09-26T18:09:09.235Z"
   },
   {
    "duration": 90,
    "start_time": "2023-09-26T18:09:14.806Z"
   },
   {
    "duration": 260,
    "start_time": "2023-09-26T18:09:21.989Z"
   },
   {
    "duration": 271,
    "start_time": "2023-09-26T18:09:42.132Z"
   },
   {
    "duration": 89,
    "start_time": "2023-09-26T18:11:20.499Z"
   },
   {
    "duration": 31,
    "start_time": "2023-09-26T18:11:23.005Z"
   },
   {
    "duration": 18,
    "start_time": "2023-09-26T18:11:25.017Z"
   },
   {
    "duration": 1795,
    "start_time": "2023-09-26T18:11:26.897Z"
   },
   {
    "duration": 4,
    "start_time": "2023-09-26T18:11:30.314Z"
   },
   {
    "duration": 4,
    "start_time": "2023-09-26T18:11:31.073Z"
   },
   {
    "duration": 4,
    "start_time": "2023-09-26T18:11:31.871Z"
   },
   {
    "duration": 9,
    "start_time": "2023-09-26T18:11:32.764Z"
   },
   {
    "duration": 143,
    "start_time": "2023-09-26T18:11:34.541Z"
   },
   {
    "duration": 8,
    "start_time": "2023-09-26T18:11:37.664Z"
   },
   {
    "duration": 8,
    "start_time": "2023-09-26T18:11:39.342Z"
   },
   {
    "duration": 7,
    "start_time": "2023-09-26T18:11:40.855Z"
   },
   {
    "duration": 5,
    "start_time": "2023-09-26T18:11:42.467Z"
   },
   {
    "duration": 4,
    "start_time": "2023-09-26T18:11:43.287Z"
   },
   {
    "duration": 5,
    "start_time": "2023-09-26T18:11:44.121Z"
   },
   {
    "duration": 5,
    "start_time": "2023-09-26T18:11:45.773Z"
   },
   {
    "duration": 4,
    "start_time": "2023-09-26T18:11:51.429Z"
   },
   {
    "duration": 8,
    "start_time": "2023-09-26T18:11:52.727Z"
   },
   {
    "duration": 8,
    "start_time": "2023-09-26T18:11:53.848Z"
   },
   {
    "duration": 18,
    "start_time": "2023-09-26T18:11:55.681Z"
   },
   {
    "duration": 11,
    "start_time": "2023-09-26T18:11:56.697Z"
   },
   {
    "duration": 19,
    "start_time": "2023-09-26T18:12:01.117Z"
   },
   {
    "duration": 24,
    "start_time": "2023-09-26T18:12:02.763Z"
   },
   {
    "duration": 24,
    "start_time": "2023-09-26T18:12:03.608Z"
   },
   {
    "duration": 23,
    "start_time": "2023-09-26T18:12:04.388Z"
   },
   {
    "duration": 24,
    "start_time": "2023-09-26T18:12:05.159Z"
   },
   {
    "duration": 26,
    "start_time": "2023-09-26T18:12:05.921Z"
   },
   {
    "duration": 22,
    "start_time": "2023-09-26T18:12:06.747Z"
   },
   {
    "duration": 23,
    "start_time": "2023-09-26T18:12:07.435Z"
   },
   {
    "duration": 24,
    "start_time": "2023-09-26T18:12:08.693Z"
   },
   {
    "duration": 23,
    "start_time": "2023-09-26T18:12:09.471Z"
   },
   {
    "duration": 22,
    "start_time": "2023-09-26T18:12:10.136Z"
   },
   {
    "duration": 25,
    "start_time": "2023-09-26T18:12:10.817Z"
   },
   {
    "duration": 21,
    "start_time": "2023-09-26T18:12:11.660Z"
   },
   {
    "duration": 4,
    "start_time": "2023-09-26T18:12:28.498Z"
   },
   {
    "duration": 6,
    "start_time": "2023-09-26T18:12:29.199Z"
   },
   {
    "duration": 5,
    "start_time": "2023-09-26T18:12:29.912Z"
   },
   {
    "duration": 6,
    "start_time": "2023-09-26T18:12:30.644Z"
   },
   {
    "duration": 3,
    "start_time": "2023-09-26T18:12:32.916Z"
   },
   {
    "duration": 392,
    "start_time": "2023-09-26T18:12:33.982Z"
   },
   {
    "duration": 5,
    "start_time": "2023-09-26T18:12:35.054Z"
   },
   {
    "duration": 4,
    "start_time": "2023-09-26T18:13:06.543Z"
   },
   {
    "duration": 4,
    "start_time": "2023-09-26T18:13:25.177Z"
   },
   {
    "duration": 390,
    "start_time": "2023-09-26T18:13:32.665Z"
   },
   {
    "duration": 264,
    "start_time": "2023-09-26T18:13:35.526Z"
   },
   {
    "duration": 33,
    "start_time": "2023-09-26T18:13:38.552Z"
   },
   {
    "duration": 28,
    "start_time": "2023-09-26T18:13:39.486Z"
   },
   {
    "duration": 8,
    "start_time": "2023-09-26T18:13:42.237Z"
   },
   {
    "duration": 283,
    "start_time": "2023-09-26T18:13:43.405Z"
   },
   {
    "duration": 288,
    "start_time": "2023-09-26T18:13:45.606Z"
   },
   {
    "duration": 267,
    "start_time": "2023-09-26T18:13:47.398Z"
   },
   {
    "duration": 266,
    "start_time": "2023-09-26T18:13:49.236Z"
   },
   {
    "duration": 7,
    "start_time": "2023-09-26T18:13:53.145Z"
   },
   {
    "duration": 6,
    "start_time": "2023-09-26T18:13:54.734Z"
   },
   {
    "duration": 6,
    "start_time": "2023-09-26T18:13:56.378Z"
   },
   {
    "duration": 262,
    "start_time": "2023-09-26T18:13:58.716Z"
   },
   {
    "duration": 91,
    "start_time": "2023-09-26T18:14:02.038Z"
   },
   {
    "duration": 434,
    "start_time": "2023-09-26T18:14:07.683Z"
   },
   {
    "duration": 7,
    "start_time": "2023-09-26T18:14:17.802Z"
   },
   {
    "duration": 5,
    "start_time": "2023-09-26T18:14:18.574Z"
   },
   {
    "duration": 257,
    "start_time": "2023-09-26T18:14:22.517Z"
   },
   {
    "duration": 153,
    "start_time": "2023-09-26T18:26:09.791Z"
   },
   {
    "duration": 132,
    "start_time": "2023-09-26T18:26:34.959Z"
   },
   {
    "duration": 127,
    "start_time": "2023-09-26T18:26:59.032Z"
   },
   {
    "duration": 126,
    "start_time": "2023-09-26T18:28:15.492Z"
   },
   {
    "duration": 123,
    "start_time": "2023-09-26T18:41:53.336Z"
   },
   {
    "duration": 1322,
    "start_time": "2023-09-26T22:06:23.799Z"
   },
   {
    "duration": 38,
    "start_time": "2023-09-26T22:06:25.505Z"
   },
   {
    "duration": 17,
    "start_time": "2023-09-26T22:06:27.419Z"
   },
   {
    "duration": 2210,
    "start_time": "2023-09-26T22:06:30.312Z"
   },
   {
    "duration": 4,
    "start_time": "2023-09-26T22:06:37.243Z"
   },
   {
    "duration": 7,
    "start_time": "2023-09-26T22:06:38.383Z"
   },
   {
    "duration": 6,
    "start_time": "2023-09-26T22:06:39.380Z"
   },
   {
    "duration": 14,
    "start_time": "2023-09-26T22:06:40.424Z"
   },
   {
    "duration": 176,
    "start_time": "2023-09-26T22:06:42.486Z"
   },
   {
    "duration": 9,
    "start_time": "2023-09-26T22:07:09.000Z"
   },
   {
    "duration": 13,
    "start_time": "2023-09-26T22:07:11.327Z"
   },
   {
    "duration": 10,
    "start_time": "2023-09-26T22:07:13.411Z"
   },
   {
    "duration": 9,
    "start_time": "2023-09-26T22:07:15.034Z"
   },
   {
    "duration": 4,
    "start_time": "2023-09-26T22:07:15.741Z"
   },
   {
    "duration": 7,
    "start_time": "2023-09-26T22:07:16.537Z"
   },
   {
    "duration": 5,
    "start_time": "2023-09-26T22:07:18.122Z"
   },
   {
    "duration": 5,
    "start_time": "2023-09-26T22:07:18.942Z"
   },
   {
    "duration": 13,
    "start_time": "2023-09-26T22:07:20.806Z"
   },
   {
    "duration": 12,
    "start_time": "2023-09-26T22:07:21.903Z"
   },
   {
    "duration": 27,
    "start_time": "2023-09-26T22:07:24.736Z"
   },
   {
    "duration": 12,
    "start_time": "2023-09-26T22:07:28.127Z"
   },
   {
    "duration": 32,
    "start_time": "2023-09-26T22:07:29.508Z"
   },
   {
    "duration": 25,
    "start_time": "2023-09-26T22:07:32.860Z"
   },
   {
    "duration": 38,
    "start_time": "2023-09-26T22:07:34.048Z"
   },
   {
    "duration": 26,
    "start_time": "2023-09-26T22:07:34.907Z"
   },
   {
    "duration": 25,
    "start_time": "2023-09-26T22:07:35.920Z"
   },
   {
    "duration": 25,
    "start_time": "2023-09-26T22:07:36.787Z"
   },
   {
    "duration": 41,
    "start_time": "2023-09-26T22:07:37.575Z"
   },
   {
    "duration": 50,
    "start_time": "2023-09-26T22:07:38.348Z"
   },
   {
    "duration": 28,
    "start_time": "2023-09-26T22:07:39.099Z"
   },
   {
    "duration": 25,
    "start_time": "2023-09-26T22:07:39.877Z"
   },
   {
    "duration": 25,
    "start_time": "2023-09-26T22:07:40.706Z"
   },
   {
    "duration": 26,
    "start_time": "2023-09-26T22:07:41.450Z"
   },
   {
    "duration": 27,
    "start_time": "2023-09-26T22:07:42.236Z"
   },
   {
    "duration": 6,
    "start_time": "2023-09-26T22:07:46.954Z"
   },
   {
    "duration": 7,
    "start_time": "2023-09-26T22:07:47.765Z"
   },
   {
    "duration": 7,
    "start_time": "2023-09-26T22:07:48.586Z"
   },
   {
    "duration": 7,
    "start_time": "2023-09-26T22:07:49.379Z"
   },
   {
    "duration": 4,
    "start_time": "2023-09-26T22:07:51.765Z"
   },
   {
    "duration": 332,
    "start_time": "2023-09-26T22:07:53.274Z"
   },
   {
    "duration": 6,
    "start_time": "2023-09-26T22:07:54.285Z"
   },
   {
    "duration": 5,
    "start_time": "2023-09-26T22:07:55.302Z"
   },
   {
    "duration": 298,
    "start_time": "2023-09-26T22:08:17.177Z"
   },
   {
    "duration": 392,
    "start_time": "2023-09-26T22:08:20.457Z"
   },
   {
    "duration": 54,
    "start_time": "2023-09-26T22:08:24.744Z"
   },
   {
    "duration": 37,
    "start_time": "2023-09-26T22:08:30.703Z"
   },
   {
    "duration": 10,
    "start_time": "2023-09-26T22:08:33.406Z"
   },
   {
    "duration": 357,
    "start_time": "2023-09-26T22:08:34.614Z"
   },
   {
    "duration": 305,
    "start_time": "2023-09-26T22:08:56.171Z"
   },
   {
    "duration": 313,
    "start_time": "2023-09-26T22:09:07.537Z"
   },
   {
    "duration": 313,
    "start_time": "2023-09-26T22:09:12.526Z"
   },
   {
    "duration": 8,
    "start_time": "2023-09-26T22:09:16.598Z"
   },
   {
    "duration": 7,
    "start_time": "2023-09-26T22:09:17.810Z"
   },
   {
    "duration": 7,
    "start_time": "2023-09-26T22:09:20.129Z"
   },
   {
    "duration": 413,
    "start_time": "2023-09-26T22:09:21.335Z"
   },
   {
    "duration": 147,
    "start_time": "2023-09-26T22:09:44.645Z"
   },
   {
    "duration": 310,
    "start_time": "2023-09-26T22:09:47.259Z"
   },
   {
    "duration": 8,
    "start_time": "2023-09-26T22:09:52.444Z"
   },
   {
    "duration": 6,
    "start_time": "2023-09-26T22:09:53.527Z"
   },
   {
    "duration": 320,
    "start_time": "2023-09-26T22:09:55.268Z"
   },
   {
    "duration": 143,
    "start_time": "2023-09-26T22:15:06.660Z"
   },
   {
    "duration": 10,
    "start_time": "2023-09-26T22:52:47.764Z"
   },
   {
    "duration": 5,
    "start_time": "2023-09-26T23:13:39.787Z"
   },
   {
    "duration": 8,
    "start_time": "2023-09-26T23:14:10.474Z"
   },
   {
    "duration": 129,
    "start_time": "2023-09-26T23:35:57.138Z"
   },
   {
    "duration": 243,
    "start_time": "2023-09-26T23:38:40.737Z"
   },
   {
    "duration": 348,
    "start_time": "2023-09-26T23:42:18.832Z"
   },
   {
    "duration": 87,
    "start_time": "2023-09-27T00:03:09.292Z"
   },
   {
    "duration": 91,
    "start_time": "2023-09-27T00:06:21.135Z"
   },
   {
    "duration": 97,
    "start_time": "2023-09-27T00:16:10.821Z"
   },
   {
    "duration": 237,
    "start_time": "2023-09-27T00:23:28.714Z"
   },
   {
    "duration": 92,
    "start_time": "2023-09-27T00:23:41.097Z"
   },
   {
    "duration": 33,
    "start_time": "2023-09-27T00:29:14.906Z"
   },
   {
    "duration": 30,
    "start_time": "2023-09-27T00:31:48.108Z"
   },
   {
    "duration": 30,
    "start_time": "2023-09-27T00:32:46.943Z"
   },
   {
    "duration": 34,
    "start_time": "2023-09-27T00:36:16.147Z"
   },
   {
    "duration": 7,
    "start_time": "2023-09-27T00:39:12.674Z"
   },
   {
    "duration": 209,
    "start_time": "2023-09-27T00:56:49.460Z"
   },
   {
    "duration": 233,
    "start_time": "2023-09-27T00:57:35.898Z"
   },
   {
    "duration": 356,
    "start_time": "2023-09-27T00:58:33.558Z"
   },
   {
    "duration": 246,
    "start_time": "2023-09-27T01:01:24.034Z"
   },
   {
    "duration": 225,
    "start_time": "2023-09-27T01:02:41.538Z"
   },
   {
    "duration": 256,
    "start_time": "2023-09-27T01:05:49.510Z"
   },
   {
    "duration": 239,
    "start_time": "2023-09-27T01:07:40.538Z"
   },
   {
    "duration": 378,
    "start_time": "2023-09-27T01:08:44.025Z"
   },
   {
    "duration": 105,
    "start_time": "2023-09-27T02:04:26.515Z"
   },
   {
    "duration": 107,
    "start_time": "2023-09-27T02:19:54.243Z"
   },
   {
    "duration": 31,
    "start_time": "2023-09-27T02:19:55.530Z"
   },
   {
    "duration": 15,
    "start_time": "2023-09-27T02:19:57.439Z"
   },
   {
    "duration": 2044,
    "start_time": "2023-09-27T02:19:59.825Z"
   },
   {
    "duration": 4,
    "start_time": "2023-09-27T02:20:06.311Z"
   },
   {
    "duration": 5,
    "start_time": "2023-09-27T02:20:08.811Z"
   },
   {
    "duration": 4,
    "start_time": "2023-09-27T02:20:09.939Z"
   },
   {
    "duration": 11,
    "start_time": "2023-09-27T02:20:11.140Z"
   },
   {
    "duration": 315,
    "start_time": "2023-09-27T02:20:13.515Z"
   },
   {
    "duration": 12,
    "start_time": "2023-09-27T02:20:16.842Z"
   },
   {
    "duration": 10,
    "start_time": "2023-09-27T02:20:19.588Z"
   },
   {
    "duration": 7,
    "start_time": "2023-09-27T02:20:22.351Z"
   },
   {
    "duration": 6,
    "start_time": "2023-09-27T02:20:24.875Z"
   },
   {
    "duration": 5,
    "start_time": "2023-09-27T02:20:26.105Z"
   },
   {
    "duration": 5,
    "start_time": "2023-09-27T02:20:27.230Z"
   },
   {
    "duration": 5,
    "start_time": "2023-09-27T02:20:29.643Z"
   },
   {
    "duration": 5,
    "start_time": "2023-09-27T02:20:30.751Z"
   },
   {
    "duration": 7,
    "start_time": "2023-09-27T02:20:33.200Z"
   },
   {
    "duration": 8,
    "start_time": "2023-09-27T02:20:34.451Z"
   },
   {
    "duration": 20,
    "start_time": "2023-09-27T02:20:36.863Z"
   },
   {
    "duration": 12,
    "start_time": "2023-09-27T02:20:38.181Z"
   },
   {
    "duration": 20,
    "start_time": "2023-09-27T02:20:39.390Z"
   },
   {
    "duration": 27,
    "start_time": "2023-09-27T02:20:42.802Z"
   },
   {
    "duration": 25,
    "start_time": "2023-09-27T02:20:44.040Z"
   },
   {
    "duration": 26,
    "start_time": "2023-09-27T02:20:45.041Z"
   },
   {
    "duration": 25,
    "start_time": "2023-09-27T02:20:45.975Z"
   },
   {
    "duration": 27,
    "start_time": "2023-09-27T02:20:46.866Z"
   },
   {
    "duration": 26,
    "start_time": "2023-09-27T02:20:47.736Z"
   },
   {
    "duration": 31,
    "start_time": "2023-09-27T02:20:48.663Z"
   },
   {
    "duration": 25,
    "start_time": "2023-09-27T02:20:49.524Z"
   },
   {
    "duration": 27,
    "start_time": "2023-09-27T02:20:50.373Z"
   },
   {
    "duration": 27,
    "start_time": "2023-09-27T02:20:51.301Z"
   },
   {
    "duration": 33,
    "start_time": "2023-09-27T02:20:52.539Z"
   },
   {
    "duration": 21,
    "start_time": "2023-09-27T02:20:53.842Z"
   },
   {
    "duration": 5,
    "start_time": "2023-09-27T02:21:00.513Z"
   },
   {
    "duration": 6,
    "start_time": "2023-09-27T02:21:02.071Z"
   },
   {
    "duration": 6,
    "start_time": "2023-09-27T02:21:03.133Z"
   },
   {
    "duration": 6,
    "start_time": "2023-09-27T02:21:15.927Z"
   },
   {
    "duration": 4,
    "start_time": "2023-09-27T02:21:18.168Z"
   },
   {
    "duration": 337,
    "start_time": "2023-09-27T02:21:19.247Z"
   },
   {
    "duration": 6,
    "start_time": "2023-09-27T02:21:20.480Z"
   },
   {
    "duration": 4,
    "start_time": "2023-09-27T02:21:21.633Z"
   },
   {
    "duration": 303,
    "start_time": "2023-09-27T02:22:03.178Z"
   },
   {
    "duration": 294,
    "start_time": "2023-09-27T02:22:06.002Z"
   },
   {
    "duration": 40,
    "start_time": "2023-09-27T02:22:09.587Z"
   },
   {
    "duration": 37,
    "start_time": "2023-09-27T02:22:10.948Z"
   },
   {
    "duration": 10,
    "start_time": "2023-09-27T02:22:13.569Z"
   },
   {
    "duration": 288,
    "start_time": "2023-09-27T02:22:14.782Z"
   },
   {
    "duration": 297,
    "start_time": "2023-09-27T02:22:17.345Z"
   },
   {
    "duration": 318,
    "start_time": "2023-09-27T02:22:20.285Z"
   },
   {
    "duration": 471,
    "start_time": "2023-09-27T02:22:27.258Z"
   },
   {
    "duration": 8,
    "start_time": "2023-09-27T02:22:36.707Z"
   },
   {
    "duration": 7,
    "start_time": "2023-09-27T02:22:37.847Z"
   },
   {
    "duration": 6,
    "start_time": "2023-09-27T02:22:40.263Z"
   },
   {
    "duration": 295,
    "start_time": "2023-09-27T02:22:41.498Z"
   },
   {
    "duration": 139,
    "start_time": "2023-09-27T02:22:44.578Z"
   },
   {
    "duration": 291,
    "start_time": "2023-09-27T02:22:49.769Z"
   },
   {
    "duration": 8,
    "start_time": "2023-09-27T02:22:53.224Z"
   },
   {
    "duration": 6,
    "start_time": "2023-09-27T02:22:54.479Z"
   },
   {
    "duration": 291,
    "start_time": "2023-09-27T02:22:55.741Z"
   },
   {
    "duration": 144,
    "start_time": "2023-09-27T02:22:57.461Z"
   },
   {
    "duration": 138,
    "start_time": "2023-09-27T02:23:06.776Z"
   },
   {
    "duration": 135,
    "start_time": "2023-09-27T02:23:15.759Z"
   },
   {
    "duration": 8,
    "start_time": "2023-09-27T02:23:20.019Z"
   },
   {
    "duration": 242,
    "start_time": "2023-09-27T02:23:26.474Z"
   },
   {
    "duration": 96,
    "start_time": "2023-09-27T02:23:30.019Z"
   },
   {
    "duration": 237,
    "start_time": "2023-09-27T02:23:37.779Z"
   },
   {
    "duration": 536,
    "start_time": "2023-09-27T02:25:24.471Z"
   },
   {
    "duration": 299,
    "start_time": "2023-09-27T02:25:31.367Z"
   },
   {
    "duration": 286,
    "start_time": "2023-09-27T02:25:33.641Z"
   },
   {
    "duration": 310,
    "start_time": "2023-09-27T02:29:37.245Z"
   },
   {
    "duration": 293,
    "start_time": "2023-09-27T02:31:23.925Z"
   },
   {
    "duration": 309,
    "start_time": "2023-09-27T02:31:46.234Z"
   },
   {
    "duration": 1679,
    "start_time": "2023-09-27T15:04:57.356Z"
   },
   {
    "duration": 38,
    "start_time": "2023-09-27T15:04:59.040Z"
   },
   {
    "duration": 20,
    "start_time": "2023-09-27T15:04:59.153Z"
   },
   {
    "duration": 2307,
    "start_time": "2023-09-27T15:05:03.488Z"
   },
   {
    "duration": 4,
    "start_time": "2023-09-27T15:05:13.633Z"
   },
   {
    "duration": 6,
    "start_time": "2023-09-27T15:05:14.563Z"
   },
   {
    "duration": 5,
    "start_time": "2023-09-27T15:05:18.652Z"
   },
   {
    "duration": 10,
    "start_time": "2023-09-27T15:05:19.391Z"
   },
   {
    "duration": 190,
    "start_time": "2023-09-27T15:05:21.434Z"
   },
   {
    "duration": 10,
    "start_time": "2023-09-27T15:05:24.390Z"
   },
   {
    "duration": 10,
    "start_time": "2023-09-27T15:05:27.476Z"
   },
   {
    "duration": 10,
    "start_time": "2023-09-27T15:05:32.642Z"
   },
   {
    "duration": 6,
    "start_time": "2023-09-27T15:05:34.726Z"
   },
   {
    "duration": 5,
    "start_time": "2023-09-27T15:05:37.505Z"
   },
   {
    "duration": 6,
    "start_time": "2023-09-27T15:05:38.228Z"
   },
   {
    "duration": 5,
    "start_time": "2023-09-27T15:05:41.789Z"
   },
   {
    "duration": 5,
    "start_time": "2023-09-27T15:05:42.548Z"
   },
   {
    "duration": 12,
    "start_time": "2023-09-27T15:05:44.220Z"
   },
   {
    "duration": 10,
    "start_time": "2023-09-27T15:05:45.159Z"
   },
   {
    "duration": 29,
    "start_time": "2023-09-27T15:05:49.402Z"
   },
   {
    "duration": 13,
    "start_time": "2023-09-27T15:05:50.360Z"
   },
   {
    "duration": 30,
    "start_time": "2023-09-27T15:05:51.213Z"
   },
   {
    "duration": 39,
    "start_time": "2023-09-27T15:05:52.657Z"
   },
   {
    "duration": 52,
    "start_time": "2023-09-27T15:05:53.275Z"
   },
   {
    "duration": 52,
    "start_time": "2023-09-27T15:05:53.899Z"
   },
   {
    "duration": 36,
    "start_time": "2023-09-27T15:05:54.541Z"
   },
   {
    "duration": 27,
    "start_time": "2023-09-27T15:05:55.168Z"
   },
   {
    "duration": 26,
    "start_time": "2023-09-27T15:05:56.124Z"
   },
   {
    "duration": 32,
    "start_time": "2023-09-27T15:05:56.780Z"
   },
   {
    "duration": 26,
    "start_time": "2023-09-27T15:05:57.375Z"
   },
   {
    "duration": 28,
    "start_time": "2023-09-27T15:05:57.920Z"
   },
   {
    "duration": 28,
    "start_time": "2023-09-27T15:05:58.420Z"
   },
   {
    "duration": 27,
    "start_time": "2023-09-27T15:05:59.072Z"
   },
   {
    "duration": 21,
    "start_time": "2023-09-27T15:06:00.169Z"
   },
   {
    "duration": 6,
    "start_time": "2023-09-27T15:06:21.876Z"
   },
   {
    "duration": 9,
    "start_time": "2023-09-27T15:06:22.523Z"
   },
   {
    "duration": 7,
    "start_time": "2023-09-27T15:06:23.154Z"
   },
   {
    "duration": 14,
    "start_time": "2023-09-27T15:06:23.803Z"
   },
   {
    "duration": 4,
    "start_time": "2023-09-27T15:06:25.128Z"
   },
   {
    "duration": 356,
    "start_time": "2023-09-27T15:06:27.415Z"
   },
   {
    "duration": 5,
    "start_time": "2023-09-27T15:06:28.482Z"
   },
   {
    "duration": 4,
    "start_time": "2023-09-27T15:06:29.526Z"
   },
   {
    "duration": 312,
    "start_time": "2023-09-27T15:06:34.244Z"
   },
   {
    "duration": 398,
    "start_time": "2023-09-27T15:07:13.930Z"
   },
   {
    "duration": 39,
    "start_time": "2023-09-27T15:07:17.203Z"
   },
   {
    "duration": 35,
    "start_time": "2023-09-27T15:07:34.341Z"
   },
   {
    "duration": 9,
    "start_time": "2023-09-27T15:07:36.594Z"
   },
   {
    "duration": 319,
    "start_time": "2023-09-27T15:07:37.678Z"
   },
   {
    "duration": 323,
    "start_time": "2023-09-27T15:07:41.944Z"
   },
   {
    "duration": 329,
    "start_time": "2023-09-27T15:07:44.040Z"
   },
   {
    "duration": 348,
    "start_time": "2023-09-27T15:07:46.032Z"
   },
   {
    "duration": 8,
    "start_time": "2023-09-27T15:07:48.093Z"
   },
   {
    "duration": 6,
    "start_time": "2023-09-27T15:07:49.100Z"
   },
   {
    "duration": 6,
    "start_time": "2023-09-27T15:07:51.062Z"
   },
   {
    "duration": 516,
    "start_time": "2023-09-27T15:07:52.387Z"
   },
   {
    "duration": 114,
    "start_time": "2023-09-27T15:07:54.824Z"
   },
   {
    "duration": 364,
    "start_time": "2023-09-27T15:07:56.807Z"
   },
   {
    "duration": 8,
    "start_time": "2023-09-27T15:07:58.680Z"
   },
   {
    "duration": 5,
    "start_time": "2023-09-27T15:07:59.507Z"
   },
   {
    "duration": 332,
    "start_time": "2023-09-27T15:08:00.598Z"
   },
   {
    "duration": 147,
    "start_time": "2023-09-27T15:08:01.624Z"
   },
   {
    "duration": 154,
    "start_time": "2023-09-27T15:08:03.785Z"
   },
   {
    "duration": 9,
    "start_time": "2023-09-27T15:08:08.926Z"
   },
   {
    "duration": 260,
    "start_time": "2023-09-27T15:08:12.081Z"
   },
   {
    "duration": 103,
    "start_time": "2023-09-27T15:08:14.176Z"
   },
   {
    "duration": 362,
    "start_time": "2023-09-27T15:08:15.947Z"
   },
   {
    "duration": 326,
    "start_time": "2023-09-27T15:08:17.608Z"
   },
   {
    "duration": 7,
    "start_time": "2023-09-27T15:30:28.075Z"
   },
   {
    "duration": 12,
    "start_time": "2023-09-27T15:36:38.471Z"
   },
   {
    "duration": 19,
    "start_time": "2023-09-27T15:37:01.557Z"
   },
   {
    "duration": 21,
    "start_time": "2023-09-27T15:38:49.603Z"
   },
   {
    "duration": 22741,
    "start_time": "2023-09-27T15:44:23.604Z"
   },
   {
    "duration": 240,
    "start_time": "2023-09-27T16:08:12.438Z"
   },
   {
    "duration": 189,
    "start_time": "2023-09-27T16:14:20.186Z"
   },
   {
    "duration": 188,
    "start_time": "2023-09-27T16:14:24.003Z"
   },
   {
    "duration": 183,
    "start_time": "2023-09-27T16:14:27.463Z"
   },
   {
    "duration": 6,
    "start_time": "2023-09-27T16:14:37.346Z"
   },
   {
    "duration": 25,
    "start_time": "2023-09-27T16:15:51.724Z"
   },
   {
    "duration": 14,
    "start_time": "2023-09-27T16:15:54.931Z"
   },
   {
    "duration": 161,
    "start_time": "2023-09-27T16:16:10.731Z"
   },
   {
    "duration": 8,
    "start_time": "2023-09-27T16:16:19.505Z"
   },
   {
    "duration": 6,
    "start_time": "2023-09-27T16:20:08.162Z"
   },
   {
    "duration": 28,
    "start_time": "2023-09-27T16:33:30.559Z"
   },
   {
    "duration": 15,
    "start_time": "2023-09-27T16:35:19.970Z"
   },
   {
    "duration": 161,
    "start_time": "2023-09-27T16:38:17.975Z"
   },
   {
    "duration": 172,
    "start_time": "2023-09-27T16:39:40.857Z"
   },
   {
    "duration": 5,
    "start_time": "2023-09-27T16:40:40.190Z"
   },
   {
    "duration": 35,
    "start_time": "2023-09-27T16:50:16.120Z"
   },
   {
    "duration": 173,
    "start_time": "2023-09-27T16:50:54.627Z"
   },
   {
    "duration": 20,
    "start_time": "2023-09-27T16:51:20.622Z"
   },
   {
    "duration": 216,
    "start_time": "2023-09-27T16:51:43.297Z"
   },
   {
    "duration": 15,
    "start_time": "2023-09-27T16:52:05.427Z"
   },
   {
    "duration": 20,
    "start_time": "2023-09-27T16:54:05.594Z"
   },
   {
    "duration": 150,
    "start_time": "2023-09-27T16:55:28.245Z"
   },
   {
    "duration": 5,
    "start_time": "2023-09-27T16:59:24.323Z"
   },
   {
    "duration": 22,
    "start_time": "2023-09-27T17:16:40.285Z"
   },
   {
    "duration": 17,
    "start_time": "2023-09-27T17:17:32.751Z"
   },
   {
    "duration": 184,
    "start_time": "2023-09-27T17:19:15.224Z"
   },
   {
    "duration": 178,
    "start_time": "2023-09-27T17:20:25.355Z"
   },
   {
    "duration": 581,
    "start_time": "2023-09-27T17:37:14.582Z"
   },
   {
    "duration": 6,
    "start_time": "2023-09-27T17:39:48.280Z"
   },
   {
    "duration": 26,
    "start_time": "2023-09-27T17:50:27.853Z"
   },
   {
    "duration": 9,
    "start_time": "2023-09-27T17:51:10.075Z"
   },
   {
    "duration": 149,
    "start_time": "2023-09-27T17:52:29.604Z"
   },
   {
    "duration": 507,
    "start_time": "2023-09-27T17:53:46.873Z"
   },
   {
    "duration": 152,
    "start_time": "2023-09-27T17:54:46.172Z"
   },
   {
    "duration": 1109,
    "start_time": "2023-09-27T21:41:19.552Z"
   },
   {
    "duration": 36,
    "start_time": "2023-09-27T21:41:21.100Z"
   },
   {
    "duration": 15,
    "start_time": "2023-09-27T21:41:22.116Z"
   },
   {
    "duration": 1913,
    "start_time": "2023-09-27T21:41:24.357Z"
   },
   {
    "duration": 4,
    "start_time": "2023-09-27T21:41:28.581Z"
   },
   {
    "duration": 5,
    "start_time": "2023-09-27T21:41:29.518Z"
   },
   {
    "duration": 4,
    "start_time": "2023-09-27T21:41:30.335Z"
   },
   {
    "duration": 10,
    "start_time": "2023-09-27T21:41:31.120Z"
   },
   {
    "duration": 151,
    "start_time": "2023-09-27T21:41:32.837Z"
   },
   {
    "duration": 11,
    "start_time": "2023-09-27T21:41:34.709Z"
   },
   {
    "duration": 8,
    "start_time": "2023-09-27T21:41:36.408Z"
   },
   {
    "duration": 7,
    "start_time": "2023-09-27T21:41:38.078Z"
   },
   {
    "duration": 6,
    "start_time": "2023-09-27T21:41:39.759Z"
   },
   {
    "duration": 4,
    "start_time": "2023-09-27T21:41:40.590Z"
   },
   {
    "duration": 6,
    "start_time": "2023-09-27T21:41:41.458Z"
   },
   {
    "duration": 5,
    "start_time": "2023-09-27T21:41:43.128Z"
   },
   {
    "duration": 4,
    "start_time": "2023-09-27T21:41:43.909Z"
   },
   {
    "duration": 8,
    "start_time": "2023-09-27T21:41:45.559Z"
   },
   {
    "duration": 9,
    "start_time": "2023-09-27T21:41:46.577Z"
   },
   {
    "duration": 19,
    "start_time": "2023-09-27T21:41:48.383Z"
   },
   {
    "duration": 12,
    "start_time": "2023-09-27T21:41:49.462Z"
   },
   {
    "duration": 20,
    "start_time": "2023-09-27T21:41:50.758Z"
   },
   {
    "duration": 27,
    "start_time": "2023-09-27T21:41:52.974Z"
   },
   {
    "duration": 26,
    "start_time": "2023-09-27T21:41:53.794Z"
   },
   {
    "duration": 34,
    "start_time": "2023-09-27T21:41:54.632Z"
   },
   {
    "duration": 27,
    "start_time": "2023-09-27T21:41:55.382Z"
   },
   {
    "duration": 25,
    "start_time": "2023-09-27T21:41:56.102Z"
   },
   {
    "duration": 26,
    "start_time": "2023-09-27T21:41:56.846Z"
   },
   {
    "duration": 25,
    "start_time": "2023-09-27T21:41:57.635Z"
   },
   {
    "duration": 26,
    "start_time": "2023-09-27T21:41:58.481Z"
   },
   {
    "duration": 26,
    "start_time": "2023-09-27T21:41:59.274Z"
   },
   {
    "duration": 27,
    "start_time": "2023-09-27T21:42:00.087Z"
   },
   {
    "duration": 29,
    "start_time": "2023-09-27T21:42:00.859Z"
   },
   {
    "duration": 22,
    "start_time": "2023-09-27T21:42:02.390Z"
   },
   {
    "duration": 7,
    "start_time": "2023-09-27T21:42:07.183Z"
   },
   {
    "duration": 6,
    "start_time": "2023-09-27T21:42:07.992Z"
   },
   {
    "duration": 5,
    "start_time": "2023-09-27T21:42:08.850Z"
   },
   {
    "duration": 6,
    "start_time": "2023-09-27T21:42:09.636Z"
   },
   {
    "duration": 4,
    "start_time": "2023-09-27T21:42:11.513Z"
   },
   {
    "duration": 359,
    "start_time": "2023-09-27T21:42:12.300Z"
   },
   {
    "duration": 5,
    "start_time": "2023-09-27T21:42:13.077Z"
   },
   {
    "duration": 4,
    "start_time": "2023-09-27T21:42:13.766Z"
   },
   {
    "duration": 285,
    "start_time": "2023-09-27T21:42:17.796Z"
   },
   {
    "duration": 384,
    "start_time": "2023-09-27T21:42:19.381Z"
   },
   {
    "duration": 33,
    "start_time": "2023-09-27T21:42:21.979Z"
   },
   {
    "duration": 40,
    "start_time": "2023-09-27T21:42:22.906Z"
   },
   {
    "duration": 9,
    "start_time": "2023-09-27T21:42:25.142Z"
   },
   {
    "duration": 310,
    "start_time": "2023-09-27T21:42:26.113Z"
   },
   {
    "duration": 274,
    "start_time": "2023-09-27T21:42:28.181Z"
   },
   {
    "duration": 285,
    "start_time": "2023-09-27T21:44:42.184Z"
   },
   {
    "duration": 281,
    "start_time": "2023-09-27T21:44:43.861Z"
   },
   {
    "duration": 9,
    "start_time": "2023-09-27T21:44:46.271Z"
   },
   {
    "duration": 6,
    "start_time": "2023-09-27T21:44:47.237Z"
   },
   {
    "duration": 7,
    "start_time": "2023-09-27T21:44:48.884Z"
   },
   {
    "duration": 389,
    "start_time": "2023-09-27T21:44:50.124Z"
   },
   {
    "duration": 95,
    "start_time": "2023-09-27T21:44:57.073Z"
   },
   {
    "duration": 280,
    "start_time": "2023-09-27T21:44:59.484Z"
   },
   {
    "duration": 8,
    "start_time": "2023-09-27T21:45:01.766Z"
   },
   {
    "duration": 5,
    "start_time": "2023-09-27T21:45:02.758Z"
   },
   {
    "duration": 280,
    "start_time": "2023-09-27T21:45:04.161Z"
   },
   {
    "duration": 128,
    "start_time": "2023-09-27T21:45:04.977Z"
   },
   {
    "duration": 130,
    "start_time": "2023-09-27T21:45:07.366Z"
   },
   {
    "duration": 8,
    "start_time": "2023-09-27T21:45:11.231Z"
   },
   {
    "duration": 236,
    "start_time": "2023-09-27T21:45:13.698Z"
   },
   {
    "duration": 83,
    "start_time": "2023-09-27T21:45:16.583Z"
   },
   {
    "duration": 315,
    "start_time": "2023-09-27T21:45:19.969Z"
   },
   {
    "duration": 336,
    "start_time": "2023-09-27T21:45:24.821Z"
   },
   {
    "duration": 23,
    "start_time": "2023-09-27T21:45:30.279Z"
   },
   {
    "duration": 14,
    "start_time": "2023-09-27T21:45:31.206Z"
   },
   {
    "duration": 145,
    "start_time": "2023-09-27T21:45:32.332Z"
   },
   {
    "duration": 5,
    "start_time": "2023-09-27T21:45:33.515Z"
   },
   {
    "duration": 22,
    "start_time": "2023-09-27T21:45:36.950Z"
   },
   {
    "duration": 15,
    "start_time": "2023-09-27T21:45:38.193Z"
   },
   {
    "duration": 143,
    "start_time": "2023-09-27T21:45:40.086Z"
   },
   {
    "duration": 5,
    "start_time": "2023-09-27T21:45:41.415Z"
   },
   {
    "duration": 20,
    "start_time": "2023-09-27T21:45:47.086Z"
   },
   {
    "duration": 15,
    "start_time": "2023-09-27T21:45:48.222Z"
   },
   {
    "duration": 123,
    "start_time": "2023-09-27T21:45:50.055Z"
   },
   {
    "duration": 5,
    "start_time": "2023-09-27T21:45:51.224Z"
   },
   {
    "duration": 19,
    "start_time": "2023-09-27T21:45:55.900Z"
   },
   {
    "duration": 9,
    "start_time": "2023-09-27T21:45:58.038Z"
   },
   {
    "duration": 153,
    "start_time": "2023-09-27T21:46:00.603Z"
   },
   {
    "duration": 143,
    "start_time": "2023-09-27T21:46:25.515Z"
   },
   {
    "duration": 6,
    "start_time": "2023-09-27T21:46:30.196Z"
   },
   {
    "duration": 23,
    "start_time": "2023-09-27T21:46:35.096Z"
   },
   {
    "duration": 8,
    "start_time": "2023-09-27T21:46:36.238Z"
   },
   {
    "duration": 122,
    "start_time": "2023-09-27T21:46:39.739Z"
   },
   {
    "duration": 20,
    "start_time": "2023-09-27T22:01:32.062Z"
   },
   {
    "duration": 10,
    "start_time": "2023-09-27T22:02:30.328Z"
   },
   {
    "duration": 142,
    "start_time": "2023-09-27T22:03:24.001Z"
   },
   {
    "duration": 19,
    "start_time": "2023-09-27T22:43:10.459Z"
   },
   {
    "duration": 9,
    "start_time": "2023-09-27T22:44:04.470Z"
   },
   {
    "duration": 244,
    "start_time": "2023-09-27T22:44:47.453Z"
   },
   {
    "duration": 20,
    "start_time": "2023-09-27T23:15:42.237Z"
   },
   {
    "duration": 10,
    "start_time": "2023-09-27T23:16:15.159Z"
   },
   {
    "duration": 141,
    "start_time": "2023-09-27T23:16:51.276Z"
   },
   {
    "duration": 16,
    "start_time": "2023-09-27T23:49:40.042Z"
   },
   {
    "duration": 8,
    "start_time": "2023-09-27T23:52:12.015Z"
   },
   {
    "duration": 11,
    "start_time": "2023-09-28T00:01:14.729Z"
   },
   {
    "duration": 4,
    "start_time": "2023-09-28T00:03:55.592Z"
   },
   {
    "duration": 9,
    "start_time": "2023-09-28T00:04:02.128Z"
   },
   {
    "duration": 9,
    "start_time": "2023-09-28T00:06:51.044Z"
   },
   {
    "duration": 9,
    "start_time": "2023-09-28T00:08:22.043Z"
   },
   {
    "duration": 18,
    "start_time": "2023-09-28T00:17:37.644Z"
   },
   {
    "duration": 4,
    "start_time": "2023-09-28T00:18:20.738Z"
   },
   {
    "duration": 6,
    "start_time": "2023-09-28T00:18:41.747Z"
   },
   {
    "duration": 8,
    "start_time": "2023-09-28T00:20:51.586Z"
   },
   {
    "duration": 8,
    "start_time": "2023-09-28T00:21:18.552Z"
   },
   {
    "duration": 9,
    "start_time": "2023-09-28T00:25:50.812Z"
   },
   {
    "duration": 9,
    "start_time": "2023-09-28T00:26:50.273Z"
   },
   {
    "duration": 4,
    "start_time": "2023-09-28T00:26:56.365Z"
   },
   {
    "duration": 9,
    "start_time": "2023-09-28T00:26:58.902Z"
   },
   {
    "duration": 9,
    "start_time": "2023-09-28T00:27:05.842Z"
   },
   {
    "duration": 147,
    "start_time": "2023-09-28T00:52:52.203Z"
   },
   {
    "duration": 19,
    "start_time": "2023-09-28T00:55:21.477Z"
   },
   {
    "duration": 21,
    "start_time": "2023-09-28T00:57:02.576Z"
   },
   {
    "duration": 19,
    "start_time": "2023-09-28T00:58:59.041Z"
   },
   {
    "duration": 18,
    "start_time": "2023-09-28T01:01:12.692Z"
   },
   {
    "duration": 19,
    "start_time": "2023-09-28T01:06:04.985Z"
   },
   {
    "duration": 175,
    "start_time": "2023-09-28T01:06:40.916Z"
   },
   {
    "duration": 21,
    "start_time": "2023-09-28T01:11:04.308Z"
   },
   {
    "duration": 127,
    "start_time": "2023-09-28T01:11:44.237Z"
   },
   {
    "duration": 145,
    "start_time": "2023-09-28T01:12:09.589Z"
   },
   {
    "duration": 167,
    "start_time": "2023-09-28T01:22:03.822Z"
   },
   {
    "duration": 160,
    "start_time": "2023-09-28T01:27:04.976Z"
   },
   {
    "duration": 159,
    "start_time": "2023-09-28T01:28:30.276Z"
   },
   {
    "duration": 21,
    "start_time": "2023-09-28T01:33:49.954Z"
   },
   {
    "duration": 159,
    "start_time": "2023-09-28T01:33:53.811Z"
   },
   {
    "duration": 1123,
    "start_time": "2023-09-28T15:03:50.878Z"
   },
   {
    "duration": 32,
    "start_time": "2023-09-28T15:03:55.102Z"
   },
   {
    "duration": 15,
    "start_time": "2023-09-28T15:03:56.569Z"
   },
   {
    "duration": 1950,
    "start_time": "2023-09-28T15:03:58.937Z"
   },
   {
    "duration": 5,
    "start_time": "2023-09-28T15:04:04.143Z"
   },
   {
    "duration": 6,
    "start_time": "2023-09-28T15:04:05.229Z"
   },
   {
    "duration": 4,
    "start_time": "2023-09-28T15:04:06.229Z"
   },
   {
    "duration": 10,
    "start_time": "2023-09-28T15:04:07.224Z"
   },
   {
    "duration": 162,
    "start_time": "2023-09-28T15:04:09.678Z"
   },
   {
    "duration": 9,
    "start_time": "2023-09-28T15:04:12.600Z"
   },
   {
    "duration": 9,
    "start_time": "2023-09-28T15:04:15.124Z"
   },
   {
    "duration": 7,
    "start_time": "2023-09-28T15:04:17.268Z"
   },
   {
    "duration": 6,
    "start_time": "2023-09-28T15:04:19.253Z"
   },
   {
    "duration": 4,
    "start_time": "2023-09-28T15:04:20.237Z"
   },
   {
    "duration": 6,
    "start_time": "2023-09-28T15:04:21.166Z"
   },
   {
    "duration": 6,
    "start_time": "2023-09-28T15:04:23.672Z"
   },
   {
    "duration": 4,
    "start_time": "2023-09-28T15:04:24.412Z"
   },
   {
    "duration": 10,
    "start_time": "2023-09-28T15:04:26.466Z"
   },
   {
    "duration": 9,
    "start_time": "2023-09-28T15:04:27.510Z"
   },
   {
    "duration": 19,
    "start_time": "2023-09-28T15:04:29.591Z"
   },
   {
    "duration": 13,
    "start_time": "2023-09-28T15:04:30.591Z"
   },
   {
    "duration": 19,
    "start_time": "2023-09-28T15:04:31.705Z"
   },
   {
    "duration": 26,
    "start_time": "2023-09-28T15:04:33.924Z"
   },
   {
    "duration": 38,
    "start_time": "2023-09-28T15:04:35.028Z"
   },
   {
    "duration": 25,
    "start_time": "2023-09-28T15:04:36.042Z"
   },
   {
    "duration": 33,
    "start_time": "2023-09-28T15:04:37.032Z"
   },
   {
    "duration": 26,
    "start_time": "2023-09-28T15:04:37.966Z"
   },
   {
    "duration": 25,
    "start_time": "2023-09-28T15:04:38.906Z"
   },
   {
    "duration": 24,
    "start_time": "2023-09-28T15:04:39.838Z"
   },
   {
    "duration": 25,
    "start_time": "2023-09-28T15:04:40.676Z"
   },
   {
    "duration": 24,
    "start_time": "2023-09-28T15:04:41.537Z"
   },
   {
    "duration": 25,
    "start_time": "2023-09-28T15:04:42.444Z"
   },
   {
    "duration": 24,
    "start_time": "2023-09-28T15:04:43.388Z"
   },
   {
    "duration": 28,
    "start_time": "2023-09-28T15:04:44.391Z"
   },
   {
    "duration": 6,
    "start_time": "2023-09-28T15:04:48.436Z"
   },
   {
    "duration": 5,
    "start_time": "2023-09-28T15:04:49.349Z"
   },
   {
    "duration": 5,
    "start_time": "2023-09-28T15:04:50.398Z"
   },
   {
    "duration": 5,
    "start_time": "2023-09-28T15:04:51.409Z"
   },
   {
    "duration": 3,
    "start_time": "2023-09-28T15:04:56.712Z"
   },
   {
    "duration": 323,
    "start_time": "2023-09-28T15:04:57.926Z"
   },
   {
    "duration": 5,
    "start_time": "2023-09-28T15:04:58.927Z"
   },
   {
    "duration": 5,
    "start_time": "2023-09-28T15:05:03.290Z"
   },
   {
    "duration": 297,
    "start_time": "2023-09-28T15:06:30.457Z"
   },
   {
    "duration": 379,
    "start_time": "2023-09-28T15:06:33.096Z"
   },
   {
    "duration": 33,
    "start_time": "2023-09-28T15:06:41.402Z"
   },
   {
    "duration": 36,
    "start_time": "2023-09-28T15:06:47.775Z"
   },
   {
    "duration": 9,
    "start_time": "2023-09-28T15:07:44.140Z"
   },
   {
    "duration": 339,
    "start_time": "2023-09-28T15:07:45.850Z"
   },
   {
    "duration": 294,
    "start_time": "2023-09-28T15:07:51.336Z"
   },
   {
    "duration": 290,
    "start_time": "2023-09-28T15:08:11.377Z"
   },
   {
    "duration": 292,
    "start_time": "2023-09-28T15:15:55.872Z"
   },
   {
    "duration": 7,
    "start_time": "2023-09-28T15:16:04.136Z"
   },
   {
    "duration": 6,
    "start_time": "2023-09-28T15:16:05.466Z"
   },
   {
    "duration": 5,
    "start_time": "2023-09-28T15:16:07.248Z"
   },
   {
    "duration": 386,
    "start_time": "2023-09-28T15:16:08.316Z"
   },
   {
    "duration": 102,
    "start_time": "2023-09-28T15:16:13.352Z"
   },
   {
    "duration": 288,
    "start_time": "2023-09-28T15:16:15.130Z"
   },
   {
    "duration": 7,
    "start_time": "2023-09-28T15:16:20.830Z"
   },
   {
    "duration": 5,
    "start_time": "2023-09-28T15:16:22.219Z"
   },
   {
    "duration": 298,
    "start_time": "2023-09-28T15:16:22.379Z"
   },
   {
    "duration": 136,
    "start_time": "2023-09-28T15:16:23.213Z"
   },
   {
    "duration": 144,
    "start_time": "2023-09-28T15:16:25.157Z"
   },
   {
    "duration": 10,
    "start_time": "2023-09-28T15:16:30.609Z"
   },
   {
    "duration": 239,
    "start_time": "2023-09-28T15:16:37.144Z"
   },
   {
    "duration": 89,
    "start_time": "2023-09-28T15:16:39.678Z"
   },
   {
    "duration": 316,
    "start_time": "2023-09-28T15:16:42.669Z"
   },
   {
    "duration": 268,
    "start_time": "2023-09-28T15:16:45.508Z"
   },
   {
    "duration": 23,
    "start_time": "2023-09-28T15:17:19.573Z"
   },
   {
    "duration": 14,
    "start_time": "2023-09-28T15:17:21.082Z"
   },
   {
    "duration": 155,
    "start_time": "2023-09-28T15:17:30.262Z"
   },
   {
    "duration": 6,
    "start_time": "2023-09-28T15:17:31.598Z"
   },
   {
    "duration": 22,
    "start_time": "2023-09-28T15:18:52.730Z"
   },
   {
    "duration": 14,
    "start_time": "2023-09-28T15:18:54.032Z"
   },
   {
    "duration": 22,
    "start_time": "2023-09-28T15:19:22.757Z"
   },
   {
    "duration": 13,
    "start_time": "2023-09-28T15:19:23.342Z"
   },
   {
    "duration": 145,
    "start_time": "2023-09-28T15:19:24.236Z"
   },
   {
    "duration": 5,
    "start_time": "2023-09-28T15:19:26.537Z"
   },
   {
    "duration": 22,
    "start_time": "2023-09-28T15:19:45.629Z"
   },
   {
    "duration": 14,
    "start_time": "2023-09-28T15:19:46.715Z"
   },
   {
    "duration": 124,
    "start_time": "2023-09-28T15:19:47.829Z"
   },
   {
    "duration": 5,
    "start_time": "2023-09-28T15:19:56.928Z"
   },
   {
    "duration": 6,
    "start_time": "2023-09-28T15:20:46.778Z"
   },
   {
    "duration": 19,
    "start_time": "2023-09-28T15:21:15.085Z"
   },
   {
    "duration": 12,
    "start_time": "2023-09-28T15:21:15.791Z"
   },
   {
    "duration": 142,
    "start_time": "2023-09-28T15:21:16.713Z"
   },
   {
    "duration": 152,
    "start_time": "2023-09-28T15:21:22.196Z"
   },
   {
    "duration": 5,
    "start_time": "2023-09-28T15:21:28.462Z"
   },
   {
    "duration": 21,
    "start_time": "2023-09-28T15:22:20.335Z"
   },
   {
    "duration": 9,
    "start_time": "2023-09-28T15:22:21.046Z"
   },
   {
    "duration": 124,
    "start_time": "2023-09-28T15:22:22.301Z"
   },
   {
    "duration": 18,
    "start_time": "2023-09-28T15:22:32.576Z"
   },
   {
    "duration": 8,
    "start_time": "2023-09-28T15:22:33.305Z"
   },
   {
    "duration": 176,
    "start_time": "2023-09-28T15:22:34.469Z"
   },
   {
    "duration": 20,
    "start_time": "2023-09-28T15:22:36.799Z"
   },
   {
    "duration": 9,
    "start_time": "2023-09-28T15:22:38.245Z"
   },
   {
    "duration": 222,
    "start_time": "2023-09-28T15:22:39.212Z"
   },
   {
    "duration": 31,
    "start_time": "2023-09-28T15:22:42.346Z"
   },
   {
    "duration": 11,
    "start_time": "2023-09-28T15:22:44.556Z"
   },
   {
    "duration": 146,
    "start_time": "2023-09-28T15:22:45.747Z"
   },
   {
    "duration": 16,
    "start_time": "2023-09-28T15:22:57.455Z"
   },
   {
    "duration": 8,
    "start_time": "2023-09-28T15:22:58.457Z"
   },
   {
    "duration": 4,
    "start_time": "2023-09-28T15:22:59.463Z"
   },
   {
    "duration": 9,
    "start_time": "2023-09-28T15:23:00.706Z"
   },
   {
    "duration": 8,
    "start_time": "2023-09-28T15:23:01.675Z"
   },
   {
    "duration": 19,
    "start_time": "2023-09-28T15:23:04.860Z"
   },
   {
    "duration": 167,
    "start_time": "2023-09-28T15:23:06.284Z"
   },
   {
    "duration": 1042,
    "start_time": "2023-09-28T19:25:29.825Z"
   },
   {
    "duration": 49,
    "start_time": "2023-09-28T19:25:30.869Z"
   },
   {
    "duration": 56,
    "start_time": "2023-09-28T19:25:30.920Z"
   },
   {
    "duration": 3536,
    "start_time": "2023-09-28T19:25:30.980Z"
   },
   {
    "duration": 3679,
    "start_time": "2023-09-28T19:25:34.518Z"
   },
   {
    "duration": 9,
    "start_time": "2023-09-28T19:25:38.199Z"
   },
   {
    "duration": 44,
    "start_time": "2023-09-28T19:25:38.209Z"
   },
   {
    "duration": 53,
    "start_time": "2023-09-28T19:25:38.254Z"
   },
   {
    "duration": 81,
    "start_time": "2023-09-28T19:25:38.309Z"
   },
   {
    "duration": 251,
    "start_time": "2023-09-28T19:25:38.397Z"
   },
   {
    "duration": 19,
    "start_time": "2023-09-28T19:25:38.653Z"
   },
   {
    "duration": 51,
    "start_time": "2023-09-28T19:25:38.675Z"
   },
   {
    "duration": 76,
    "start_time": "2023-09-28T19:25:38.729Z"
   },
   {
    "duration": 26,
    "start_time": "2023-09-28T19:25:38.807Z"
   },
   {
    "duration": 106,
    "start_time": "2023-09-28T19:25:38.835Z"
   },
   {
    "duration": 114,
    "start_time": "2023-09-28T19:25:38.943Z"
   },
   {
    "duration": 22,
    "start_time": "2023-09-28T19:25:39.059Z"
   },
   {
    "duration": 65,
    "start_time": "2023-09-28T19:25:39.092Z"
   },
   {
    "duration": 42,
    "start_time": "2023-09-28T19:25:39.160Z"
   },
   {
    "duration": 19,
    "start_time": "2023-09-28T19:25:39.207Z"
   },
   {
    "duration": 20,
    "start_time": "2023-09-28T19:25:39.228Z"
   },
   {
    "duration": 28,
    "start_time": "2023-09-28T19:25:39.252Z"
   },
   {
    "duration": 30,
    "start_time": "2023-09-28T19:25:39.282Z"
   },
   {
    "duration": 47,
    "start_time": "2023-09-28T19:25:39.314Z"
   },
   {
    "duration": 50,
    "start_time": "2023-09-28T19:25:39.363Z"
   },
   {
    "duration": 46,
    "start_time": "2023-09-28T19:25:39.417Z"
   },
   {
    "duration": 49,
    "start_time": "2023-09-28T19:25:39.466Z"
   },
   {
    "duration": 41,
    "start_time": "2023-09-28T19:25:39.521Z"
   },
   {
    "duration": 45,
    "start_time": "2023-09-28T19:25:39.564Z"
   },
   {
    "duration": 40,
    "start_time": "2023-09-28T19:25:39.612Z"
   },
   {
    "duration": 42,
    "start_time": "2023-09-28T19:25:39.654Z"
   },
   {
    "duration": 40,
    "start_time": "2023-09-28T19:25:39.698Z"
   },
   {
    "duration": 53,
    "start_time": "2023-09-28T19:25:39.759Z"
   },
   {
    "duration": 23,
    "start_time": "2023-09-28T19:25:39.814Z"
   },
   {
    "duration": 50,
    "start_time": "2023-09-28T19:25:39.839Z"
   },
   {
    "duration": 7,
    "start_time": "2023-09-28T19:25:39.891Z"
   },
   {
    "duration": 21,
    "start_time": "2023-09-28T19:25:39.900Z"
   },
   {
    "duration": 15,
    "start_time": "2023-09-28T19:25:39.922Z"
   },
   {
    "duration": 30,
    "start_time": "2023-09-28T19:25:39.938Z"
   },
   {
    "duration": 29,
    "start_time": "2023-09-28T19:25:39.970Z"
   },
   {
    "duration": 545,
    "start_time": "2023-09-28T19:25:40.000Z"
   },
   {
    "duration": 12,
    "start_time": "2023-09-28T19:25:40.547Z"
   },
   {
    "duration": 25,
    "start_time": "2023-09-28T19:25:40.561Z"
   },
   {
    "duration": 394,
    "start_time": "2023-09-28T19:25:40.588Z"
   },
   {
    "duration": 457,
    "start_time": "2023-09-28T19:25:40.984Z"
   },
   {
    "duration": 78,
    "start_time": "2023-09-28T19:25:41.443Z"
   },
   {
    "duration": 65,
    "start_time": "2023-09-28T19:25:41.523Z"
   },
   {
    "duration": 15,
    "start_time": "2023-09-28T19:25:41.590Z"
   },
   {
    "duration": 620,
    "start_time": "2023-09-28T19:25:41.609Z"
   },
   {
    "duration": 449,
    "start_time": "2023-09-28T19:25:42.231Z"
   },
   {
    "duration": 509,
    "start_time": "2023-09-28T19:25:42.685Z"
   },
   {
    "duration": 910,
    "start_time": "2023-09-28T19:25:43.197Z"
   },
   {
    "duration": 8,
    "start_time": "2023-09-28T19:25:44.109Z"
   },
   {
    "duration": 8,
    "start_time": "2023-09-28T19:25:44.156Z"
   },
   {
    "duration": 30,
    "start_time": "2023-09-28T19:25:44.166Z"
   },
   {
    "duration": 867,
    "start_time": "2023-09-28T19:25:44.198Z"
   },
   {
    "duration": 242,
    "start_time": "2023-09-28T19:25:45.067Z"
   },
   {
    "duration": 788,
    "start_time": "2023-09-28T19:25:45.311Z"
   },
   {
    "duration": 12,
    "start_time": "2023-09-28T19:25:46.103Z"
   },
   {
    "duration": 45,
    "start_time": "2023-09-28T19:25:46.117Z"
   },
   {
    "duration": 562,
    "start_time": "2023-09-28T19:25:46.164Z"
   },
   {
    "duration": 205,
    "start_time": "2023-09-28T19:25:46.728Z"
   },
   {
    "duration": 437,
    "start_time": "2023-09-28T19:25:46.935Z"
   },
   {
    "duration": 16,
    "start_time": "2023-09-28T19:25:47.374Z"
   },
   {
    "duration": 794,
    "start_time": "2023-09-28T19:25:47.393Z"
   },
   {
    "duration": 274,
    "start_time": "2023-09-28T19:25:48.195Z"
   },
   {
    "duration": 706,
    "start_time": "2023-09-28T19:25:48.472Z"
   },
   {
    "duration": 879,
    "start_time": "2023-09-28T19:25:49.180Z"
   },
   {
    "duration": 43,
    "start_time": "2023-09-28T19:25:50.061Z"
   },
   {
    "duration": 32,
    "start_time": "2023-09-28T19:25:50.107Z"
   },
   {
    "duration": 178,
    "start_time": "2023-09-28T19:25:50.141Z"
   },
   {
    "duration": 6,
    "start_time": "2023-09-28T19:25:50.321Z"
   },
   {
    "duration": 61,
    "start_time": "2023-09-28T19:25:50.328Z"
   },
   {
    "duration": 19,
    "start_time": "2023-09-28T19:25:50.394Z"
   },
   {
    "duration": 218,
    "start_time": "2023-09-28T19:25:50.414Z"
   },
   {
    "duration": 6,
    "start_time": "2023-09-28T19:25:50.634Z"
   },
   {
    "duration": 71,
    "start_time": "2023-09-28T19:25:50.642Z"
   },
   {
    "duration": 15,
    "start_time": "2023-09-28T19:25:50.715Z"
   },
   {
    "duration": 201,
    "start_time": "2023-09-28T19:25:50.732Z"
   },
   {
    "duration": 6,
    "start_time": "2023-09-28T19:25:50.935Z"
   },
   {
    "duration": 50,
    "start_time": "2023-09-28T19:25:50.943Z"
   },
   {
    "duration": 12,
    "start_time": "2023-09-28T19:25:51.007Z"
   },
   {
    "duration": 218,
    "start_time": "2023-09-28T19:25:51.021Z"
   },
   {
    "duration": 213,
    "start_time": "2023-09-28T19:25:51.241Z"
   },
   {
    "duration": 10,
    "start_time": "2023-09-28T19:25:51.455Z"
   },
   {
    "duration": 47,
    "start_time": "2023-09-28T19:25:51.467Z"
   },
   {
    "duration": 31,
    "start_time": "2023-09-28T19:25:51.515Z"
   },
   {
    "duration": 191,
    "start_time": "2023-09-28T19:25:51.548Z"
   },
   {
    "duration": 43,
    "start_time": "2023-09-28T19:25:51.741Z"
   },
   {
    "duration": 12,
    "start_time": "2023-09-28T19:25:51.786Z"
   },
   {
    "duration": 204,
    "start_time": "2023-09-28T19:25:51.806Z"
   },
   {
    "duration": 25,
    "start_time": "2023-09-28T19:25:52.013Z"
   },
   {
    "duration": 18,
    "start_time": "2023-09-28T19:25:52.040Z"
   },
   {
    "duration": 209,
    "start_time": "2023-09-28T19:25:52.059Z"
   },
   {
    "duration": 34,
    "start_time": "2023-09-28T19:25:52.270Z"
   },
   {
    "duration": 8,
    "start_time": "2023-09-28T19:25:52.308Z"
   },
   {
    "duration": 202,
    "start_time": "2023-09-28T19:25:52.318Z"
   },
   {
    "duration": 16,
    "start_time": "2023-09-28T19:25:52.523Z"
   },
   {
    "duration": 18,
    "start_time": "2023-09-28T19:25:52.541Z"
   },
   {
    "duration": 10,
    "start_time": "2023-09-28T19:25:52.560Z"
   },
   {
    "duration": 31,
    "start_time": "2023-09-28T19:25:52.572Z"
   },
   {
    "duration": 10,
    "start_time": "2023-09-28T19:25:52.607Z"
   },
   {
    "duration": 30,
    "start_time": "2023-09-28T19:25:52.618Z"
   },
   {
    "duration": 243,
    "start_time": "2023-09-28T19:25:52.654Z"
   },
   {
    "duration": 102,
    "start_time": "2023-09-28T21:59:17.700Z"
   },
   {
    "duration": 89,
    "start_time": "2023-09-28T21:59:43.132Z"
   },
   {
    "duration": 791,
    "start_time": "2023-09-28T22:01:33.762Z"
   },
   {
    "duration": 3,
    "start_time": "2023-09-28T22:02:00.287Z"
   },
   {
    "duration": 352,
    "start_time": "2023-09-28T22:03:01.414Z"
   },
   {
    "duration": 15,
    "start_time": "2023-09-28T22:05:15.888Z"
   },
   {
    "duration": 1956,
    "start_time": "2023-09-28T22:07:06.282Z"
   },
   {
    "duration": 892,
    "start_time": "2023-09-29T14:41:03.510Z"
   },
   {
    "duration": 390,
    "start_time": "2023-09-29T14:41:10.035Z"
   },
   {
    "duration": 26,
    "start_time": "2023-09-29T14:41:19.015Z"
   },
   {
    "duration": 2077,
    "start_time": "2023-09-29T14:42:18.598Z"
   },
   {
    "duration": 6,
    "start_time": "2023-09-29T14:47:33.400Z"
   },
   {
    "duration": 7,
    "start_time": "2023-09-29T14:47:36.823Z"
   },
   {
    "duration": 5,
    "start_time": "2023-09-29T14:47:39.560Z"
   },
   {
    "duration": 10,
    "start_time": "2023-09-29T14:47:49.045Z"
   },
   {
    "duration": 16,
    "start_time": "2023-09-29T14:47:50.292Z"
   },
   {
    "duration": 242,
    "start_time": "2023-09-29T14:48:18.325Z"
   },
   {
    "duration": 13,
    "start_time": "2023-09-29T14:48:50.558Z"
   },
   {
    "duration": 12,
    "start_time": "2023-09-29T14:48:55.445Z"
   },
   {
    "duration": 10,
    "start_time": "2023-09-29T14:49:04.253Z"
   },
   {
    "duration": 14,
    "start_time": "2023-09-29T14:49:12.282Z"
   },
   {
    "duration": 5,
    "start_time": "2023-09-29T14:49:16.215Z"
   },
   {
    "duration": 9,
    "start_time": "2023-09-29T14:50:20.893Z"
   },
   {
    "duration": 6,
    "start_time": "2023-09-29T14:50:29.428Z"
   },
   {
    "duration": 6,
    "start_time": "2023-09-29T14:50:33.255Z"
   },
   {
    "duration": 13,
    "start_time": "2023-09-29T14:50:41.123Z"
   },
   {
    "duration": 17,
    "start_time": "2023-09-29T14:50:44.561Z"
   },
   {
    "duration": 37,
    "start_time": "2023-09-29T14:50:50.684Z"
   },
   {
    "duration": 21,
    "start_time": "2023-09-29T14:51:07.962Z"
   },
   {
    "duration": 25,
    "start_time": "2023-09-29T14:52:00.625Z"
   },
   {
    "duration": 32,
    "start_time": "2023-09-29T14:52:29.016Z"
   },
   {
    "duration": 18,
    "start_time": "2023-09-29T14:52:40.014Z"
   },
   {
    "duration": 3,
    "start_time": "2023-09-29T15:06:13.170Z"
   },
   {
    "duration": 3,
    "start_time": "2023-09-29T15:08:41.672Z"
   },
   {
    "duration": 153,
    "start_time": "2023-09-29T15:08:50.559Z"
   },
   {
    "duration": 124,
    "start_time": "2023-09-29T15:09:44.294Z"
   },
   {
    "duration": 2103,
    "start_time": "2023-09-29T15:14:39.855Z"
   },
   {
    "duration": 6,
    "start_time": "2023-09-29T15:15:48.411Z"
   },
   {
    "duration": 5,
    "start_time": "2023-09-29T15:15:52.367Z"
   },
   {
    "duration": 5,
    "start_time": "2023-09-29T15:15:56.026Z"
   },
   {
    "duration": 28,
    "start_time": "2023-09-29T15:28:41.846Z"
   },
   {
    "duration": 23,
    "start_time": "2023-09-29T15:31:30.672Z"
   },
   {
    "duration": 19,
    "start_time": "2023-09-29T15:32:03.644Z"
   },
   {
    "duration": 23,
    "start_time": "2023-09-29T15:32:24.199Z"
   },
   {
    "duration": 239,
    "start_time": "2023-09-29T15:41:42.897Z"
   },
   {
    "duration": 13,
    "start_time": "2023-09-29T15:42:01.120Z"
   },
   {
    "duration": 18,
    "start_time": "2023-09-29T15:42:10.338Z"
   },
   {
    "duration": 11,
    "start_time": "2023-09-29T15:42:17.272Z"
   },
   {
    "duration": 9,
    "start_time": "2023-09-29T15:42:20.871Z"
   },
   {
    "duration": 5,
    "start_time": "2023-09-29T15:42:22.359Z"
   },
   {
    "duration": 6,
    "start_time": "2023-09-29T15:42:24.087Z"
   },
   {
    "duration": 6,
    "start_time": "2023-09-29T16:16:56.286Z"
   },
   {
    "duration": 6,
    "start_time": "2023-09-29T16:16:58.470Z"
   },
   {
    "duration": 15,
    "start_time": "2023-09-29T16:17:05.359Z"
   },
   {
    "duration": 13,
    "start_time": "2023-09-29T16:17:09.388Z"
   },
   {
    "duration": 34,
    "start_time": "2023-09-29T16:17:16.508Z"
   },
   {
    "duration": 20,
    "start_time": "2023-09-29T16:17:29.368Z"
   },
   {
    "duration": 33,
    "start_time": "2023-09-29T16:17:35.815Z"
   },
   {
    "duration": 42,
    "start_time": "2023-09-29T16:17:48.583Z"
   },
   {
    "duration": 56,
    "start_time": "2023-09-29T16:17:50.638Z"
   },
   {
    "duration": 52,
    "start_time": "2023-09-29T16:17:51.308Z"
   },
   {
    "duration": 45,
    "start_time": "2023-09-29T16:17:51.951Z"
   },
   {
    "duration": 36,
    "start_time": "2023-09-29T16:17:52.561Z"
   },
   {
    "duration": 42,
    "start_time": "2023-09-29T16:17:53.299Z"
   },
   {
    "duration": 48,
    "start_time": "2023-09-29T16:17:54.927Z"
   },
   {
    "duration": 50,
    "start_time": "2023-09-29T16:17:55.621Z"
   },
   {
    "duration": 43,
    "start_time": "2023-09-29T16:17:56.271Z"
   },
   {
    "duration": 29,
    "start_time": "2023-09-29T16:17:56.908Z"
   },
   {
    "duration": 43,
    "start_time": "2023-09-29T16:17:57.875Z"
   },
   {
    "duration": 39,
    "start_time": "2023-09-29T16:17:58.918Z"
   },
   {
    "duration": 6,
    "start_time": "2023-09-29T16:39:12.832Z"
   },
   {
    "duration": 11,
    "start_time": "2023-09-29T16:39:13.559Z"
   },
   {
    "duration": 6,
    "start_time": "2023-09-29T16:39:14.274Z"
   },
   {
    "duration": 14,
    "start_time": "2023-09-29T16:39:15.063Z"
   },
   {
    "duration": 9,
    "start_time": "2023-09-29T16:39:18.764Z"
   },
   {
    "duration": 529,
    "start_time": "2023-09-29T16:39:30.210Z"
   },
   {
    "duration": 11,
    "start_time": "2023-09-29T16:39:30.871Z"
   },
   {
    "duration": 5,
    "start_time": "2023-09-29T16:41:06.099Z"
   },
   {
    "duration": 447,
    "start_time": "2023-09-29T16:47:32.984Z"
   },
   {
    "duration": 35,
    "start_time": "2023-09-29T16:48:08.978Z"
   },
   {
    "duration": 41,
    "start_time": "2023-09-29T16:48:28.415Z"
   },
   {
    "duration": 2,
    "start_time": "2023-09-29T17:23:09.710Z"
   },
   {
    "duration": 4,
    "start_time": "2023-09-29T17:23:18.485Z"
   },
   {
    "duration": 47,
    "start_time": "2023-09-29T17:27:02.981Z"
   },
   {
    "duration": 12,
    "start_time": "2023-09-29T17:27:27.457Z"
   },
   {
    "duration": 7,
    "start_time": "2023-09-29T17:28:40.561Z"
   },
   {
    "duration": 4,
    "start_time": "2023-09-29T17:29:59.138Z"
   },
   {
    "duration": 4,
    "start_time": "2023-09-29T17:31:59.937Z"
   },
   {
    "duration": 3,
    "start_time": "2023-09-29T17:36:50.282Z"
   },
   {
    "duration": 3,
    "start_time": "2023-09-29T17:36:55.888Z"
   },
   {
    "duration": 3,
    "start_time": "2023-09-29T17:37:01.571Z"
   },
   {
    "duration": 4,
    "start_time": "2023-09-29T17:37:26.027Z"
   },
   {
    "duration": 12,
    "start_time": "2023-09-29T17:37:44.763Z"
   },
   {
    "duration": 3,
    "start_time": "2023-09-29T17:38:12.898Z"
   },
   {
    "duration": 10,
    "start_time": "2023-09-29T17:38:30.066Z"
   },
   {
    "duration": 323,
    "start_time": "2023-09-29T17:46:56.367Z"
   },
   {
    "duration": 306,
    "start_time": "2023-09-29T17:47:08.408Z"
   },
   {
    "duration": 312,
    "start_time": "2023-09-29T17:47:15.463Z"
   },
   {
    "duration": 306,
    "start_time": "2023-09-29T17:47:25.377Z"
   },
   {
    "duration": 472,
    "start_time": "2023-09-29T17:47:54.225Z"
   },
   {
    "duration": 11,
    "start_time": "2023-09-29T17:48:03.706Z"
   },
   {
    "duration": 6,
    "start_time": "2023-09-29T17:48:06.127Z"
   },
   {
    "duration": 7,
    "start_time": "2023-09-29T17:48:25.134Z"
   },
   {
    "duration": 308,
    "start_time": "2023-09-29T17:48:31.078Z"
   },
   {
    "duration": 118,
    "start_time": "2023-09-29T17:48:39.776Z"
   },
   {
    "duration": 320,
    "start_time": "2023-09-29T17:48:45.872Z"
   },
   {
    "duration": 10,
    "start_time": "2023-09-29T17:50:37.798Z"
   },
   {
    "duration": 8,
    "start_time": "2023-09-29T17:57:23.712Z"
   },
   {
    "duration": 2,
    "start_time": "2023-09-29T17:57:52.374Z"
   },
   {
    "duration": 129,
    "start_time": "2023-09-29T17:57:56.566Z"
   },
   {
    "duration": 14,
    "start_time": "2023-09-29T17:58:04.209Z"
   },
   {
    "duration": 2098,
    "start_time": "2023-09-29T17:58:11.129Z"
   },
   {
    "duration": 5,
    "start_time": "2023-09-29T17:58:21.772Z"
   },
   {
    "duration": 4,
    "start_time": "2023-09-29T17:58:22.788Z"
   },
   {
    "duration": 7,
    "start_time": "2023-09-29T17:58:23.794Z"
   },
   {
    "duration": 12,
    "start_time": "2023-09-29T17:58:24.689Z"
   },
   {
    "duration": 29,
    "start_time": "2023-09-29T17:58:27.527Z"
   },
   {
    "duration": 177,
    "start_time": "2023-09-29T17:58:35.042Z"
   },
   {
    "duration": 11,
    "start_time": "2023-09-29T17:58:40.264Z"
   },
   {
    "duration": 11,
    "start_time": "2023-09-29T17:58:41.898Z"
   },
   {
    "duration": 7,
    "start_time": "2023-09-29T17:58:43.512Z"
   },
   {
    "duration": 17,
    "start_time": "2023-09-29T17:58:45.040Z"
   },
   {
    "duration": 6,
    "start_time": "2023-09-29T17:58:45.867Z"
   },
   {
    "duration": 6,
    "start_time": "2023-09-29T17:58:47.236Z"
   },
   {
    "duration": 6,
    "start_time": "2023-09-29T17:58:55.445Z"
   },
   {
    "duration": 5,
    "start_time": "2023-09-29T17:58:56.115Z"
   },
   {
    "duration": 10,
    "start_time": "2023-09-29T17:59:01.469Z"
   },
   {
    "duration": 11,
    "start_time": "2023-09-29T17:59:02.508Z"
   },
   {
    "duration": 20,
    "start_time": "2023-09-29T17:59:07.788Z"
   },
   {
    "duration": 15,
    "start_time": "2023-09-29T17:59:08.873Z"
   },
   {
    "duration": 33,
    "start_time": "2023-09-29T17:59:11.071Z"
   },
   {
    "duration": 65,
    "start_time": "2023-09-29T17:59:13.139Z"
   },
   {
    "duration": 27,
    "start_time": "2023-09-29T17:59:13.899Z"
   },
   {
    "duration": 38,
    "start_time": "2023-09-29T17:59:14.682Z"
   },
   {
    "duration": 25,
    "start_time": "2023-09-29T17:59:15.401Z"
   },
   {
    "duration": 24,
    "start_time": "2023-09-29T17:59:16.174Z"
   },
   {
    "duration": 26,
    "start_time": "2023-09-29T17:59:16.873Z"
   },
   {
    "duration": 26,
    "start_time": "2023-09-29T17:59:17.588Z"
   },
   {
    "duration": 29,
    "start_time": "2023-09-29T17:59:18.369Z"
   },
   {
    "duration": 53,
    "start_time": "2023-09-29T17:59:19.111Z"
   },
   {
    "duration": 44,
    "start_time": "2023-09-29T17:59:19.835Z"
   },
   {
    "duration": 26,
    "start_time": "2023-09-29T17:59:20.976Z"
   },
   {
    "duration": 32,
    "start_time": "2023-09-29T17:59:22.091Z"
   },
   {
    "duration": 11,
    "start_time": "2023-09-29T17:59:28.943Z"
   },
   {
    "duration": 6,
    "start_time": "2023-09-29T17:59:30.491Z"
   },
   {
    "duration": 6,
    "start_time": "2023-09-29T17:59:30.812Z"
   },
   {
    "duration": 6,
    "start_time": "2023-09-29T17:59:31.519Z"
   },
   {
    "duration": 3,
    "start_time": "2023-09-29T17:59:33.940Z"
   },
   {
    "duration": 398,
    "start_time": "2023-09-29T17:59:34.205Z"
   },
   {
    "duration": 5,
    "start_time": "2023-09-29T17:59:35.694Z"
   },
   {
    "duration": 4,
    "start_time": "2023-09-29T17:59:37.275Z"
   },
   {
    "duration": 314,
    "start_time": "2023-09-29T17:59:43.271Z"
   },
   {
    "duration": 411,
    "start_time": "2023-09-29T17:59:48.197Z"
   },
   {
    "duration": 35,
    "start_time": "2023-09-29T17:59:58.092Z"
   },
   {
    "duration": 49,
    "start_time": "2023-09-29T18:00:02.727Z"
   },
   {
    "duration": 10,
    "start_time": "2023-09-29T18:00:07.175Z"
   },
   {
    "duration": 5,
    "start_time": "2023-09-29T18:01:36.238Z"
   },
   {
    "duration": 2,
    "start_time": "2023-09-29T18:01:41.572Z"
   },
   {
    "duration": 3,
    "start_time": "2023-09-29T18:04:43.163Z"
   },
   {
    "duration": 13,
    "start_time": "2023-09-29T18:04:45.443Z"
   },
   {
    "duration": 4,
    "start_time": "2023-09-29T18:04:49.371Z"
   },
   {
    "duration": 3,
    "start_time": "2023-09-29T18:04:52.883Z"
   },
   {
    "duration": 3,
    "start_time": "2023-09-29T18:04:55.868Z"
   },
   {
    "duration": 10,
    "start_time": "2023-09-29T18:05:29.325Z"
   },
   {
    "duration": 11,
    "start_time": "2023-09-29T18:06:47.994Z"
   },
   {
    "duration": 5,
    "start_time": "2023-09-29T18:07:06.823Z"
   },
   {
    "duration": 2,
    "start_time": "2023-09-29T18:07:11.906Z"
   },
   {
    "duration": 8,
    "start_time": "2023-09-29T18:07:14.168Z"
   },
   {
    "duration": 3,
    "start_time": "2023-09-29T18:07:18.286Z"
   },
   {
    "duration": 2,
    "start_time": "2023-09-29T18:07:21.904Z"
   },
   {
    "duration": 3,
    "start_time": "2023-09-29T18:07:24.924Z"
   },
   {
    "duration": 6,
    "start_time": "2023-09-29T18:07:36.370Z"
   },
   {
    "duration": 305,
    "start_time": "2023-09-29T18:07:57.578Z"
   },
   {
    "duration": 296,
    "start_time": "2023-09-29T18:07:59.499Z"
   },
   {
    "duration": 323,
    "start_time": "2023-09-29T18:08:01.037Z"
   },
   {
    "duration": 298,
    "start_time": "2023-09-29T18:08:02.708Z"
   },
   {
    "duration": 8,
    "start_time": "2023-09-29T18:08:05.095Z"
   },
   {
    "duration": 6,
    "start_time": "2023-09-29T18:08:05.788Z"
   },
   {
    "duration": 10,
    "start_time": "2023-09-29T18:08:07.261Z"
   },
   {
    "duration": 374,
    "start_time": "2023-09-29T18:08:08.077Z"
   },
   {
    "duration": 113,
    "start_time": "2023-09-29T18:08:09.967Z"
   },
   {
    "duration": 316,
    "start_time": "2023-09-29T18:08:11.669Z"
   },
   {
    "duration": 7,
    "start_time": "2023-09-29T18:08:13.334Z"
   },
   {
    "duration": 6,
    "start_time": "2023-09-29T18:08:14.189Z"
   },
   {
    "duration": 310,
    "start_time": "2023-09-29T18:08:15.126Z"
   },
   {
    "duration": 148,
    "start_time": "2023-09-29T18:08:16.231Z"
   },
   {
    "duration": 145,
    "start_time": "2023-09-29T18:08:18.869Z"
   },
   {
    "duration": 11,
    "start_time": "2023-09-29T18:08:24.592Z"
   },
   {
    "duration": 292,
    "start_time": "2023-09-29T18:08:27.189Z"
   },
   {
    "duration": 103,
    "start_time": "2023-09-29T18:08:32.135Z"
   },
   {
    "duration": 306,
    "start_time": "2023-09-29T18:08:35.873Z"
   },
   {
    "duration": 307,
    "start_time": "2023-09-29T18:08:46.915Z"
   },
   {
    "duration": 21,
    "start_time": "2023-09-29T18:09:25.900Z"
   },
   {
    "duration": 14,
    "start_time": "2023-09-29T18:09:32.936Z"
   },
   {
    "duration": 149,
    "start_time": "2023-09-29T18:09:36.536Z"
   },
   {
    "duration": 149,
    "start_time": "2023-09-29T18:16:31.869Z"
   },
   {
    "duration": 171,
    "start_time": "2023-09-29T18:17:11.687Z"
   },
   {
    "duration": 931,
    "start_time": "2023-09-29T22:06:10.070Z"
   },
   {
    "duration": 345,
    "start_time": "2023-09-29T22:06:19.097Z"
   },
   {
    "duration": 21,
    "start_time": "2023-09-29T22:06:26.674Z"
   },
   {
    "duration": 2137,
    "start_time": "2023-09-29T22:06:36.777Z"
   },
   {
    "duration": 2089,
    "start_time": "2023-09-29T22:06:55.435Z"
   },
   {
    "duration": 6,
    "start_time": "2023-09-29T22:07:20.852Z"
   },
   {
    "duration": 4,
    "start_time": "2023-09-29T22:07:26.783Z"
   },
   {
    "duration": 4,
    "start_time": "2023-09-29T22:07:31.730Z"
   },
   {
    "duration": 17,
    "start_time": "2023-09-29T22:07:42.322Z"
   },
   {
    "duration": 19,
    "start_time": "2023-09-29T22:07:44.648Z"
   },
   {
    "duration": 161,
    "start_time": "2023-09-29T22:12:06.590Z"
   },
   {
    "duration": 10,
    "start_time": "2023-09-29T22:12:17.063Z"
   },
   {
    "duration": 9,
    "start_time": "2023-09-29T22:12:22.821Z"
   },
   {
    "duration": 7,
    "start_time": "2023-09-29T22:12:25.892Z"
   },
   {
    "duration": 6,
    "start_time": "2023-09-29T22:12:31.263Z"
   },
   {
    "duration": 4,
    "start_time": "2023-09-29T22:12:33.761Z"
   },
   {
    "duration": 6,
    "start_time": "2023-09-29T22:12:36.399Z"
   },
   {
    "duration": 5,
    "start_time": "2023-09-29T22:12:53.086Z"
   },
   {
    "duration": 4,
    "start_time": "2023-09-29T22:12:57.676Z"
   },
   {
    "duration": 8,
    "start_time": "2023-09-29T22:13:00.977Z"
   },
   {
    "duration": 9,
    "start_time": "2023-09-29T22:13:10.885Z"
   },
   {
    "duration": 19,
    "start_time": "2023-09-29T22:13:17.327Z"
   },
   {
    "duration": 12,
    "start_time": "2023-09-29T22:13:24.946Z"
   },
   {
    "duration": 20,
    "start_time": "2023-09-29T22:13:28.350Z"
   },
   {
    "duration": 31,
    "start_time": "2023-09-29T22:13:36.763Z"
   },
   {
    "duration": 27,
    "start_time": "2023-09-29T22:13:40.834Z"
   },
   {
    "duration": 25,
    "start_time": "2023-09-29T22:13:45.795Z"
   },
   {
    "duration": 25,
    "start_time": "2023-09-29T22:13:48.459Z"
   },
   {
    "duration": 24,
    "start_time": "2023-09-29T22:13:50.986Z"
   },
   {
    "duration": 25,
    "start_time": "2023-09-29T22:13:51.643Z"
   },
   {
    "duration": 24,
    "start_time": "2023-09-29T22:13:52.421Z"
   },
   {
    "duration": 25,
    "start_time": "2023-09-29T22:13:53.033Z"
   },
   {
    "duration": 25,
    "start_time": "2023-09-29T22:13:53.645Z"
   },
   {
    "duration": 32,
    "start_time": "2023-09-29T22:13:54.283Z"
   },
   {
    "duration": 25,
    "start_time": "2023-09-29T22:13:55.150Z"
   },
   {
    "duration": 20,
    "start_time": "2023-09-29T22:13:56.304Z"
   },
   {
    "duration": 4,
    "start_time": "2023-09-29T22:14:05.495Z"
   },
   {
    "duration": 6,
    "start_time": "2023-09-29T22:14:06.137Z"
   },
   {
    "duration": 6,
    "start_time": "2023-09-29T22:14:06.795Z"
   },
   {
    "duration": 6,
    "start_time": "2023-09-29T22:14:07.465Z"
   },
   {
    "duration": 4,
    "start_time": "2023-09-29T22:14:09.041Z"
   },
   {
    "duration": 320,
    "start_time": "2023-09-29T22:14:10.007Z"
   },
   {
    "duration": 7,
    "start_time": "2023-09-29T22:14:11.201Z"
   },
   {
    "duration": 4,
    "start_time": "2023-09-29T22:14:14.505Z"
   },
   {
    "duration": 297,
    "start_time": "2023-09-29T22:14:23.062Z"
   },
   {
    "duration": 326,
    "start_time": "2023-09-29T22:14:31.998Z"
   },
   {
    "duration": 35,
    "start_time": "2023-09-29T22:14:33.857Z"
   },
   {
    "duration": 45,
    "start_time": "2023-09-29T22:14:35.033Z"
   },
   {
    "duration": 3,
    "start_time": "2023-09-29T22:14:37.011Z"
   },
   {
    "duration": 109,
    "start_time": "2023-09-29T22:14:37.776Z"
   },
   {
    "duration": 3,
    "start_time": "2023-09-29T22:14:38.523Z"
   },
   {
    "duration": 3,
    "start_time": "2023-09-29T22:14:39.269Z"
   },
   {
    "duration": 3,
    "start_time": "2023-09-29T22:14:41.525Z"
   },
   {
    "duration": 9,
    "start_time": "2023-09-29T22:15:05.223Z"
   },
   {
    "duration": 283,
    "start_time": "2023-09-29T22:15:22.591Z"
   },
   {
    "duration": 302,
    "start_time": "2023-09-29T22:15:31.704Z"
   },
   {
    "duration": 283,
    "start_time": "2023-09-29T22:15:33.786Z"
   },
   {
    "duration": 296,
    "start_time": "2023-09-29T22:15:39.781Z"
   },
   {
    "duration": 323,
    "start_time": "2023-09-29T22:15:46.466Z"
   },
   {
    "duration": 8,
    "start_time": "2023-09-29T22:16:13.471Z"
   },
   {
    "duration": 10,
    "start_time": "2023-09-29T22:16:15.384Z"
   },
   {
    "duration": 6,
    "start_time": "2023-09-29T22:16:33.090Z"
   },
   {
    "duration": 413,
    "start_time": "2023-09-29T22:16:34.011Z"
   },
   {
    "duration": 102,
    "start_time": "2023-09-29T22:16:40.059Z"
   },
   {
    "duration": 281,
    "start_time": "2023-09-29T22:16:42.532Z"
   },
   {
    "duration": 9,
    "start_time": "2023-09-29T22:16:46.721Z"
   },
   {
    "duration": 5,
    "start_time": "2023-09-29T22:16:47.720Z"
   },
   {
    "duration": 292,
    "start_time": "2023-09-29T22:16:49.319Z"
   },
   {
    "duration": 142,
    "start_time": "2023-09-29T22:16:53.605Z"
   },
   {
    "duration": 143,
    "start_time": "2023-09-29T22:16:56.939Z"
   },
   {
    "duration": 9,
    "start_time": "2023-09-29T22:17:01.272Z"
   },
   {
    "duration": 276,
    "start_time": "2023-09-29T22:17:08.351Z"
   },
   {
    "duration": 103,
    "start_time": "2023-09-29T22:17:12.015Z"
   },
   {
    "duration": 350,
    "start_time": "2023-09-29T22:17:13.935Z"
   },
   {
    "duration": 291,
    "start_time": "2023-09-29T22:17:26.913Z"
   },
   {
    "duration": 23,
    "start_time": "2023-09-29T22:17:43.181Z"
   },
   {
    "duration": 15,
    "start_time": "2023-09-29T22:17:44.957Z"
   },
   {
    "duration": 438,
    "start_time": "2023-09-29T22:30:25.670Z"
   },
   {
    "duration": 75,
    "start_time": "2023-09-29T22:30:36.604Z"
   },
   {
    "duration": 6,
    "start_time": "2023-09-29T22:30:52.352Z"
   },
   {
    "duration": 189,
    "start_time": "2023-09-29T22:33:20.836Z"
   },
   {
    "duration": 177,
    "start_time": "2023-09-29T22:34:19.932Z"
   },
   {
    "duration": 364,
    "start_time": "2023-09-29T22:35:15.862Z"
   },
   {
    "duration": 2208,
    "start_time": "2023-09-29T22:37:56.260Z"
   },
   {
    "duration": 319,
    "start_time": "2023-09-29T22:38:28.679Z"
   },
   {
    "duration": 235,
    "start_time": "2023-09-29T22:41:21.966Z"
   },
   {
    "duration": 170,
    "start_time": "2023-09-29T22:41:45.616Z"
   },
   {
    "duration": 236,
    "start_time": "2023-09-29T22:42:20.039Z"
   },
   {
    "duration": 173,
    "start_time": "2023-09-29T22:42:30.444Z"
   },
   {
    "duration": 162,
    "start_time": "2023-09-29T22:43:07.171Z"
   },
   {
    "duration": 172,
    "start_time": "2023-09-29T22:44:58.201Z"
   },
   {
    "duration": 5,
    "start_time": "2023-09-29T22:45:48.980Z"
   },
   {
    "duration": 165,
    "start_time": "2023-09-29T22:46:28.781Z"
   },
   {
    "duration": 21,
    "start_time": "2023-09-29T22:47:19.879Z"
   },
   {
    "duration": 20,
    "start_time": "2023-09-29T22:47:22.927Z"
   },
   {
    "duration": 159,
    "start_time": "2023-09-29T22:48:11.455Z"
   },
   {
    "duration": 6,
    "start_time": "2023-09-29T22:48:57.494Z"
   },
   {
    "duration": 23,
    "start_time": "2023-09-29T22:50:01.977Z"
   },
   {
    "duration": 165,
    "start_time": "2023-09-29T22:50:34.562Z"
   },
   {
    "duration": 165,
    "start_time": "2023-09-29T22:51:01.068Z"
   },
   {
    "duration": 8,
    "start_time": "2023-09-29T22:51:16.908Z"
   },
   {
    "duration": 164,
    "start_time": "2023-09-29T22:51:29.739Z"
   },
   {
    "duration": 169,
    "start_time": "2023-09-29T22:51:42.064Z"
   },
   {
    "duration": 261,
    "start_time": "2023-09-29T22:53:37.679Z"
   },
   {
    "duration": 180,
    "start_time": "2023-09-29T22:53:49.573Z"
   },
   {
    "duration": 330,
    "start_time": "2023-09-29T22:53:59.298Z"
   },
   {
    "duration": 7,
    "start_time": "2023-09-29T22:54:42.274Z"
   },
   {
    "duration": 22,
    "start_time": "2023-09-29T22:54:58.289Z"
   },
   {
    "duration": 148,
    "start_time": "2023-09-29T22:55:37.665Z"
   },
   {
    "duration": 162,
    "start_time": "2023-09-29T23:00:26.932Z"
   },
   {
    "duration": 236,
    "start_time": "2023-09-29T23:01:35.008Z"
   },
   {
    "duration": 187,
    "start_time": "2023-09-29T23:02:03.622Z"
   },
   {
    "duration": 164,
    "start_time": "2023-09-29T23:02:11.908Z"
   },
   {
    "duration": 125,
    "start_time": "2023-09-29T23:11:38.836Z"
   },
   {
    "duration": 134,
    "start_time": "2023-09-29T23:11:55.208Z"
   },
   {
    "duration": 195,
    "start_time": "2023-09-29T23:12:34.974Z"
   },
   {
    "duration": 169,
    "start_time": "2023-09-29T23:13:24.277Z"
   },
   {
    "duration": 2359,
    "start_time": "2023-09-29T23:14:16.193Z"
   },
   {
    "duration": 2416,
    "start_time": "2023-09-29T23:15:10.103Z"
   },
   {
    "duration": 279,
    "start_time": "2023-09-29T23:15:28.245Z"
   },
   {
    "duration": 2571,
    "start_time": "2023-09-29T23:18:51.655Z"
   },
   {
    "duration": 171,
    "start_time": "2023-09-29T23:19:21.636Z"
   },
   {
    "duration": 209,
    "start_time": "2023-09-29T23:20:04.539Z"
   },
   {
    "duration": 184,
    "start_time": "2023-09-29T23:21:16.632Z"
   },
   {
    "duration": 153,
    "start_time": "2023-09-29T23:21:28.348Z"
   },
   {
    "duration": 166,
    "start_time": "2023-09-29T23:22:36.856Z"
   },
   {
    "duration": 6,
    "start_time": "2023-09-29T23:23:56.461Z"
   },
   {
    "duration": 5,
    "start_time": "2023-09-29T23:40:06.130Z"
   },
   {
    "duration": 7,
    "start_time": "2023-09-29T23:41:40.969Z"
   },
   {
    "duration": 6,
    "start_time": "2023-09-29T23:41:53.632Z"
   },
   {
    "duration": 20,
    "start_time": "2023-09-29T23:41:57.001Z"
   },
   {
    "duration": 8,
    "start_time": "2023-09-29T23:41:59.072Z"
   },
   {
    "duration": 136,
    "start_time": "2023-09-29T23:42:01.402Z"
   },
   {
    "duration": 137,
    "start_time": "2023-09-29T23:42:39.150Z"
   },
   {
    "duration": 132,
    "start_time": "2023-09-29T23:42:54.843Z"
   },
   {
    "duration": 158,
    "start_time": "2023-09-29T23:43:21.244Z"
   },
   {
    "duration": 130,
    "start_time": "2023-09-29T23:43:32.860Z"
   },
   {
    "duration": 158,
    "start_time": "2023-09-29T23:44:26.234Z"
   },
   {
    "duration": 0,
    "start_time": "2023-09-30T00:06:04.767Z"
   },
   {
    "duration": 0,
    "start_time": "2023-09-30T00:06:04.768Z"
   },
   {
    "duration": 0,
    "start_time": "2023-09-30T00:06:04.770Z"
   },
   {
    "duration": 0,
    "start_time": "2023-09-30T00:06:04.771Z"
   },
   {
    "duration": 5,
    "start_time": "2023-09-30T00:13:36.942Z"
   },
   {
    "duration": 21,
    "start_time": "2023-09-30T00:13:40.102Z"
   },
   {
    "duration": 13,
    "start_time": "2023-09-30T00:13:40.880Z"
   },
   {
    "duration": 153,
    "start_time": "2023-09-30T00:13:41.599Z"
   },
   {
    "duration": 6,
    "start_time": "2023-09-30T00:13:42.420Z"
   },
   {
    "duration": 24,
    "start_time": "2023-09-30T00:13:47.042Z"
   },
   {
    "duration": 14,
    "start_time": "2023-09-30T00:13:48.077Z"
   },
   {
    "duration": 147,
    "start_time": "2023-09-30T00:13:49.220Z"
   },
   {
    "duration": 5,
    "start_time": "2023-09-30T00:13:50.340Z"
   },
   {
    "duration": 19,
    "start_time": "2023-09-30T00:13:53.741Z"
   },
   {
    "duration": 11,
    "start_time": "2023-09-30T00:13:54.923Z"
   },
   {
    "duration": 174,
    "start_time": "2023-09-30T00:13:56.247Z"
   },
   {
    "duration": 6,
    "start_time": "2023-09-30T00:13:59.452Z"
   },
   {
    "duration": 23,
    "start_time": "2023-09-30T00:14:07.295Z"
   },
   {
    "duration": 9,
    "start_time": "2023-09-30T00:14:11.023Z"
   },
   {
    "duration": 544,
    "start_time": "2023-09-30T00:14:33.455Z"
   },
   {
    "duration": 13,
    "start_time": "2023-09-30T00:15:04.918Z"
   },
   {
    "duration": 159,
    "start_time": "2023-09-30T00:18:52.437Z"
   },
   {
    "duration": 11,
    "start_time": "2023-09-30T00:18:52.624Z"
   },
   {
    "duration": 29,
    "start_time": "2023-09-30T00:18:52.636Z"
   },
   {
    "duration": 11,
    "start_time": "2023-09-30T00:18:52.667Z"
   },
   {
    "duration": 2,
    "start_time": "2023-09-30T00:59:21.922Z"
   },
   {
    "duration": 119,
    "start_time": "2023-09-30T00:59:35.321Z"
   },
   {
    "duration": 15,
    "start_time": "2023-09-30T00:59:45.886Z"
   },
   {
    "duration": 2006,
    "start_time": "2023-09-30T00:59:48.971Z"
   },
   {
    "duration": 4,
    "start_time": "2023-09-30T01:00:16.924Z"
   },
   {
    "duration": 5,
    "start_time": "2023-09-30T01:00:20.415Z"
   },
   {
    "duration": 4,
    "start_time": "2023-09-30T01:00:23.647Z"
   },
   {
    "duration": 11,
    "start_time": "2023-09-30T01:00:25.135Z"
   },
   {
    "duration": 15,
    "start_time": "2023-09-30T01:00:27.335Z"
   },
   {
    "duration": 167,
    "start_time": "2023-09-30T01:00:43.179Z"
   },
   {
    "duration": 9,
    "start_time": "2023-09-30T01:00:50.032Z"
   },
   {
    "duration": 10,
    "start_time": "2023-09-30T01:00:52.747Z"
   },
   {
    "duration": 9,
    "start_time": "2023-09-30T01:00:54.615Z"
   },
   {
    "duration": 5,
    "start_time": "2023-09-30T01:00:56.330Z"
   },
   {
    "duration": 5,
    "start_time": "2023-09-30T01:00:57.144Z"
   },
   {
    "duration": 5,
    "start_time": "2023-09-30T01:00:57.992Z"
   },
   {
    "duration": 10,
    "start_time": "2023-09-30T01:01:01.295Z"
   },
   {
    "duration": 5,
    "start_time": "2023-09-30T01:01:02.127Z"
   },
   {
    "duration": 8,
    "start_time": "2023-09-30T01:01:03.775Z"
   },
   {
    "duration": 9,
    "start_time": "2023-09-30T01:01:04.725Z"
   },
   {
    "duration": 22,
    "start_time": "2023-09-30T01:01:06.534Z"
   },
   {
    "duration": 17,
    "start_time": "2023-09-30T01:01:08.542Z"
   },
   {
    "duration": 19,
    "start_time": "2023-09-30T01:01:11.646Z"
   },
   {
    "duration": 25,
    "start_time": "2023-09-30T01:01:15.254Z"
   },
   {
    "duration": 53,
    "start_time": "2023-09-30T01:01:15.281Z"
   },
   {
    "duration": 29,
    "start_time": "2023-09-30T01:01:15.609Z"
   },
   {
    "duration": 25,
    "start_time": "2023-09-30T01:01:16.383Z"
   },
   {
    "duration": 27,
    "start_time": "2023-09-30T01:01:17.197Z"
   },
   {
    "duration": 30,
    "start_time": "2023-09-30T01:01:17.974Z"
   },
   {
    "duration": 25,
    "start_time": "2023-09-30T01:01:18.773Z"
   },
   {
    "duration": 25,
    "start_time": "2023-09-30T01:01:19.551Z"
   },
   {
    "duration": 25,
    "start_time": "2023-09-30T01:01:20.312Z"
   },
   {
    "duration": 26,
    "start_time": "2023-09-30T01:01:21.121Z"
   },
   {
    "duration": 33,
    "start_time": "2023-09-30T01:01:21.989Z"
   },
   {
    "duration": 21,
    "start_time": "2023-09-30T01:01:23.115Z"
   },
   {
    "duration": 5,
    "start_time": "2023-09-30T01:01:27.179Z"
   },
   {
    "duration": 13,
    "start_time": "2023-09-30T01:01:27.999Z"
   },
   {
    "duration": 7,
    "start_time": "2023-09-30T01:01:28.810Z"
   },
   {
    "duration": 6,
    "start_time": "2023-09-30T01:01:29.637Z"
   },
   {
    "duration": 4,
    "start_time": "2023-09-30T01:01:31.144Z"
   },
   {
    "duration": 373,
    "start_time": "2023-09-30T01:01:31.889Z"
   },
   {
    "duration": 5,
    "start_time": "2023-09-30T01:01:32.640Z"
   },
   {
    "duration": 4,
    "start_time": "2023-09-30T01:01:34.175Z"
   },
   {
    "duration": 281,
    "start_time": "2023-09-30T01:01:39.213Z"
   },
   {
    "duration": 298,
    "start_time": "2023-09-30T01:01:43.660Z"
   },
   {
    "duration": 40,
    "start_time": "2023-09-30T01:01:46.221Z"
   },
   {
    "duration": 38,
    "start_time": "2023-09-30T01:01:47.189Z"
   },
   {
    "duration": 3,
    "start_time": "2023-09-30T01:01:49.446Z"
   },
   {
    "duration": 11,
    "start_time": "2023-09-30T01:01:50.266Z"
   },
   {
    "duration": 3,
    "start_time": "2023-09-30T01:01:51.390Z"
   },
   {
    "duration": 3,
    "start_time": "2023-09-30T01:01:52.270Z"
   },
   {
    "duration": 3,
    "start_time": "2023-09-30T01:01:53.138Z"
   },
   {
    "duration": 16,
    "start_time": "2023-09-30T01:01:55.621Z"
   },
   {
    "duration": 309,
    "start_time": "2023-09-30T01:02:03.082Z"
   },
   {
    "duration": 325,
    "start_time": "2023-09-30T01:02:06.476Z"
   },
   {
    "duration": 329,
    "start_time": "2023-09-30T01:02:08.578Z"
   },
   {
    "duration": 312,
    "start_time": "2023-09-30T01:02:10.818Z"
   },
   {
    "duration": 7,
    "start_time": "2023-09-30T01:02:13.615Z"
   },
   {
    "duration": 8,
    "start_time": "2023-09-30T01:02:14.562Z"
   },
   {
    "duration": 7,
    "start_time": "2023-09-30T01:02:16.350Z"
   },
   {
    "duration": 311,
    "start_time": "2023-09-30T01:02:17.187Z"
   },
   {
    "duration": 106,
    "start_time": "2023-09-30T01:02:19.040Z"
   },
   {
    "duration": 295,
    "start_time": "2023-09-30T01:02:21.443Z"
   },
   {
    "duration": 8,
    "start_time": "2023-09-30T01:02:23.532Z"
   },
   {
    "duration": 6,
    "start_time": "2023-09-30T01:02:24.765Z"
   },
   {
    "duration": 303,
    "start_time": "2023-09-30T01:02:25.819Z"
   },
   {
    "duration": 134,
    "start_time": "2023-09-30T01:02:27.511Z"
   },
   {
    "duration": 165,
    "start_time": "2023-09-30T01:02:32.222Z"
   },
   {
    "duration": 9,
    "start_time": "2023-09-30T01:02:38.571Z"
   },
   {
    "duration": 234,
    "start_time": "2023-09-30T01:02:41.633Z"
   },
   {
    "duration": 94,
    "start_time": "2023-09-30T01:02:47.067Z"
   },
   {
    "duration": 229,
    "start_time": "2023-09-30T01:02:49.826Z"
   },
   {
    "duration": 293,
    "start_time": "2023-09-30T01:02:52.125Z"
   },
   {
    "duration": 25,
    "start_time": "2023-09-30T01:03:05.816Z"
   },
   {
    "duration": 13,
    "start_time": "2023-09-30T01:03:16.647Z"
   },
   {
    "duration": 156,
    "start_time": "2023-09-30T01:03:29.514Z"
   },
   {
    "duration": 166,
    "start_time": "2023-09-30T01:20:32.479Z"
   },
   {
    "duration": 168,
    "start_time": "2023-09-30T01:20:46.772Z"
   },
   {
    "duration": 171,
    "start_time": "2023-09-30T01:21:09.849Z"
   },
   {
    "duration": 171,
    "start_time": "2023-09-30T01:21:50.685Z"
   },
   {
    "duration": 5,
    "start_time": "2023-09-30T01:22:52.230Z"
   },
   {
    "duration": 5,
    "start_time": "2023-09-30T01:23:46.195Z"
   },
   {
    "duration": 23,
    "start_time": "2023-09-30T01:23:55.937Z"
   },
   {
    "duration": 14,
    "start_time": "2023-09-30T01:24:00.378Z"
   },
   {
    "duration": 182,
    "start_time": "2023-09-30T01:24:02.277Z"
   },
   {
    "duration": 7,
    "start_time": "2023-09-30T01:24:04.650Z"
   },
   {
    "duration": 25,
    "start_time": "2023-09-30T01:24:08.243Z"
   },
   {
    "duration": 18,
    "start_time": "2023-09-30T01:24:09.300Z"
   },
   {
    "duration": 157,
    "start_time": "2023-09-30T01:24:10.681Z"
   },
   {
    "duration": 7,
    "start_time": "2023-09-30T01:24:12.683Z"
   },
   {
    "duration": 21,
    "start_time": "2023-09-30T01:24:29.147Z"
   },
   {
    "duration": 11,
    "start_time": "2023-09-30T01:24:31.042Z"
   },
   {
    "duration": 168,
    "start_time": "2023-09-30T01:24:43.411Z"
   },
   {
    "duration": 169,
    "start_time": "2023-09-30T01:24:49.852Z"
   },
   {
    "duration": 6,
    "start_time": "2023-09-30T01:24:59.091Z"
   },
   {
    "duration": 23,
    "start_time": "2023-09-30T01:25:10.838Z"
   },
   {
    "duration": 13,
    "start_time": "2023-09-30T01:25:14.531Z"
   },
   {
    "duration": 155,
    "start_time": "2023-09-30T01:25:25.505Z"
   },
   {
    "duration": 163,
    "start_time": "2023-09-30T01:25:41.871Z"
   },
   {
    "duration": 3,
    "start_time": "2023-09-30T01:30:06.250Z"
   },
   {
    "duration": 132,
    "start_time": "2023-09-30T01:30:06.457Z"
   },
   {
    "duration": 15,
    "start_time": "2023-09-30T01:30:06.858Z"
   },
   {
    "duration": 2066,
    "start_time": "2023-09-30T01:30:07.229Z"
   },
   {
    "duration": 4,
    "start_time": "2023-09-30T01:30:14.511Z"
   },
   {
    "duration": 5,
    "start_time": "2023-09-30T01:30:15.660Z"
   },
   {
    "duration": 4,
    "start_time": "2023-09-30T01:30:16.593Z"
   },
   {
    "duration": 10,
    "start_time": "2023-09-30T01:30:17.511Z"
   },
   {
    "duration": 15,
    "start_time": "2023-09-30T01:30:19.429Z"
   },
   {
    "duration": 169,
    "start_time": "2023-09-30T01:30:23.017Z"
   },
   {
    "duration": 10,
    "start_time": "2023-09-30T01:30:24.945Z"
   },
   {
    "duration": 10,
    "start_time": "2023-09-30T01:30:27.867Z"
   },
   {
    "duration": 7,
    "start_time": "2023-09-30T01:30:30.057Z"
   },
   {
    "duration": 7,
    "start_time": "2023-09-30T01:30:32.155Z"
   },
   {
    "duration": 5,
    "start_time": "2023-09-30T01:30:33.782Z"
   },
   {
    "duration": 5,
    "start_time": "2023-09-30T01:30:34.822Z"
   },
   {
    "duration": 5,
    "start_time": "2023-09-30T01:30:38.947Z"
   },
   {
    "duration": 5,
    "start_time": "2023-09-30T01:30:39.816Z"
   },
   {
    "duration": 9,
    "start_time": "2023-09-30T01:30:41.635Z"
   },
   {
    "duration": 10,
    "start_time": "2023-09-30T01:30:42.469Z"
   },
   {
    "duration": 23,
    "start_time": "2023-09-30T01:30:44.219Z"
   },
   {
    "duration": 13,
    "start_time": "2023-09-30T01:30:46.017Z"
   },
   {
    "duration": 21,
    "start_time": "2023-09-30T01:30:48.077Z"
   },
   {
    "duration": 25,
    "start_time": "2023-09-30T01:30:50.351Z"
   },
   {
    "duration": 24,
    "start_time": "2023-09-30T01:30:51.221Z"
   },
   {
    "duration": 35,
    "start_time": "2023-09-30T01:30:51.999Z"
   },
   {
    "duration": 26,
    "start_time": "2023-09-30T01:30:52.720Z"
   },
   {
    "duration": 26,
    "start_time": "2023-09-30T01:30:53.470Z"
   },
   {
    "duration": 26,
    "start_time": "2023-09-30T01:30:54.171Z"
   },
   {
    "duration": 32,
    "start_time": "2023-09-30T01:30:54.892Z"
   },
   {
    "duration": 27,
    "start_time": "2023-09-30T01:30:55.623Z"
   },
   {
    "duration": 32,
    "start_time": "2023-09-30T01:30:56.347Z"
   },
   {
    "duration": 28,
    "start_time": "2023-09-30T01:30:57.054Z"
   },
   {
    "duration": 25,
    "start_time": "2023-09-30T01:30:57.814Z"
   },
   {
    "duration": 24,
    "start_time": "2023-09-30T01:30:58.812Z"
   },
   {
    "duration": 6,
    "start_time": "2023-09-30T01:31:02.995Z"
   },
   {
    "duration": 6,
    "start_time": "2023-09-30T01:31:03.770Z"
   },
   {
    "duration": 6,
    "start_time": "2023-09-30T01:31:04.536Z"
   },
   {
    "duration": 6,
    "start_time": "2023-09-30T01:31:05.299Z"
   },
   {
    "duration": 4,
    "start_time": "2023-09-30T01:31:06.950Z"
   },
   {
    "duration": 357,
    "start_time": "2023-09-30T01:31:07.757Z"
   },
   {
    "duration": 5,
    "start_time": "2023-09-30T01:31:08.511Z"
   },
   {
    "duration": 4,
    "start_time": "2023-09-30T01:31:10.281Z"
   },
   {
    "duration": 325,
    "start_time": "2023-09-30T01:31:15.891Z"
   },
   {
    "duration": 331,
    "start_time": "2023-09-30T01:31:19.654Z"
   },
   {
    "duration": 41,
    "start_time": "2023-09-30T01:31:21.468Z"
   },
   {
    "duration": 41,
    "start_time": "2023-09-30T01:31:22.395Z"
   },
   {
    "duration": 8,
    "start_time": "2023-09-30T01:31:24.606Z"
   },
   {
    "duration": 12,
    "start_time": "2023-09-30T01:31:25.480Z"
   },
   {
    "duration": 3,
    "start_time": "2023-09-30T01:31:26.257Z"
   },
   {
    "duration": 2,
    "start_time": "2023-09-30T01:31:27.071Z"
   },
   {
    "duration": 4,
    "start_time": "2023-09-30T01:31:27.952Z"
   },
   {
    "duration": 9,
    "start_time": "2023-09-30T01:31:30.337Z"
   },
   {
    "duration": 10,
    "start_time": "2023-09-30T01:32:00.973Z"
   },
   {
    "duration": 319,
    "start_time": "2023-09-30T01:32:03.777Z"
   },
   {
    "duration": 306,
    "start_time": "2023-09-30T01:32:05.705Z"
   },
   {
    "duration": 299,
    "start_time": "2023-09-30T01:32:10.013Z"
   },
   {
    "duration": 5224,
    "start_time": "2023-09-30T01:32:11.702Z"
   },
   {
    "duration": 7,
    "start_time": "2023-09-30T01:32:16.928Z"
   },
   {
    "duration": 31,
    "start_time": "2023-09-30T01:32:16.936Z"
   },
   {
    "duration": 24,
    "start_time": "2023-09-30T01:32:16.969Z"
   },
   {
    "duration": 306,
    "start_time": "2023-09-30T01:32:16.995Z"
   },
   {
    "duration": 104,
    "start_time": "2023-09-30T01:32:18.264Z"
   },
   {
    "duration": 305,
    "start_time": "2023-09-30T01:32:19.711Z"
   },
   {
    "duration": 7,
    "start_time": "2023-09-30T01:32:21.283Z"
   },
   {
    "duration": 6,
    "start_time": "2023-09-30T01:32:22.277Z"
   },
   {
    "duration": 303,
    "start_time": "2023-09-30T01:32:23.312Z"
   },
   {
    "duration": 153,
    "start_time": "2023-09-30T01:32:24.128Z"
   },
   {
    "duration": 142,
    "start_time": "2023-09-30T01:32:26.012Z"
   },
   {
    "duration": 10,
    "start_time": "2023-09-30T01:32:28.802Z"
   },
   {
    "duration": 271,
    "start_time": "2023-09-30T01:32:30.902Z"
   },
   {
    "duration": 93,
    "start_time": "2023-09-30T01:32:32.563Z"
   },
   {
    "duration": 299,
    "start_time": "2023-09-30T01:32:34.373Z"
   },
   {
    "duration": 301,
    "start_time": "2023-09-30T01:32:36.318Z"
   },
   {
    "duration": 24,
    "start_time": "2023-09-30T01:32:40.556Z"
   },
   {
    "duration": 15,
    "start_time": "2023-09-30T01:32:41.987Z"
   },
   {
    "duration": 168,
    "start_time": "2023-09-30T01:32:42.837Z"
   },
   {
    "duration": 6,
    "start_time": "2023-09-30T01:32:57.605Z"
   },
   {
    "duration": 26,
    "start_time": "2023-09-30T01:33:01.087Z"
   },
   {
    "duration": 15,
    "start_time": "2023-09-30T01:33:01.897Z"
   },
   {
    "duration": 171,
    "start_time": "2023-09-30T01:33:03.550Z"
   },
   {
    "duration": 5,
    "start_time": "2023-09-30T01:33:05.890Z"
   },
   {
    "duration": 22,
    "start_time": "2023-09-30T01:33:11.565Z"
   },
   {
    "duration": 15,
    "start_time": "2023-09-30T01:33:12.324Z"
   },
   {
    "duration": 152,
    "start_time": "2023-09-30T01:33:13.107Z"
   },
   {
    "duration": 6,
    "start_time": "2023-09-30T01:33:14.194Z"
   },
   {
    "duration": 22,
    "start_time": "2023-09-30T01:33:17.345Z"
   },
   {
    "duration": 12,
    "start_time": "2023-09-30T01:33:18.639Z"
   },
   {
    "duration": 163,
    "start_time": "2023-09-30T01:33:22.144Z"
   },
   {
    "duration": 6,
    "start_time": "2023-09-30T01:33:54.537Z"
   },
   {
    "duration": 24,
    "start_time": "2023-09-30T01:34:20.442Z"
   },
   {
    "duration": 9,
    "start_time": "2023-09-30T01:34:22.147Z"
   },
   {
    "duration": 149,
    "start_time": "2023-09-30T01:34:37.714Z"
   },
   {
    "duration": 19,
    "start_time": "2023-09-30T01:35:16.445Z"
   },
   {
    "duration": 10,
    "start_time": "2023-09-30T01:35:19.659Z"
   },
   {
    "duration": 9,
    "start_time": "2023-09-30T01:36:19.199Z"
   },
   {
    "duration": 159,
    "start_time": "2023-09-30T01:36:49.154Z"
   },
   {
    "duration": 161,
    "start_time": "2023-09-30T01:41:20.199Z"
   },
   {
    "duration": 167,
    "start_time": "2023-09-30T01:41:36.575Z"
   },
   {
    "duration": 181,
    "start_time": "2023-09-30T01:41:48.481Z"
   },
   {
    "duration": 171,
    "start_time": "2023-09-30T01:42:00.645Z"
   },
   {
    "duration": 163,
    "start_time": "2023-09-30T01:42:40.329Z"
   },
   {
    "duration": 161,
    "start_time": "2023-09-30T01:42:54.357Z"
   },
   {
    "duration": 144,
    "start_time": "2023-09-30T01:43:20.797Z"
   },
   {
    "duration": 156,
    "start_time": "2023-09-30T01:50:23.492Z"
   },
   {
    "duration": 148,
    "start_time": "2023-09-30T01:50:47.336Z"
   },
   {
    "duration": 8,
    "start_time": "2023-09-30T01:56:14.334Z"
   },
   {
    "duration": 22,
    "start_time": "2023-09-30T01:56:33.938Z"
   },
   {
    "duration": 10,
    "start_time": "2023-09-30T01:56:39.504Z"
   },
   {
    "duration": 161,
    "start_time": "2023-09-30T01:56:42.493Z"
   },
   {
    "duration": 149,
    "start_time": "2023-09-30T01:56:49.526Z"
   },
   {
    "duration": 20,
    "start_time": "2023-09-30T01:56:55.937Z"
   },
   {
    "duration": 9,
    "start_time": "2023-09-30T01:56:59.948Z"
   },
   {
    "duration": 140,
    "start_time": "2023-09-30T01:57:06.768Z"
   },
   {
    "duration": 22,
    "start_time": "2023-09-30T02:07:16.732Z"
   },
   {
    "duration": 10,
    "start_time": "2023-09-30T02:07:20.410Z"
   },
   {
    "duration": 165,
    "start_time": "2023-09-30T02:07:28.511Z"
   },
   {
    "duration": 26,
    "start_time": "2023-09-30T02:07:35.671Z"
   },
   {
    "duration": 11,
    "start_time": "2023-09-30T02:07:38.695Z"
   },
   {
    "duration": 160,
    "start_time": "2023-09-30T02:07:40.070Z"
   },
   {
    "duration": 23,
    "start_time": "2023-09-30T02:07:46.096Z"
   },
   {
    "duration": 10,
    "start_time": "2023-09-30T02:07:50.371Z"
   },
   {
    "duration": 132,
    "start_time": "2023-09-30T02:07:51.685Z"
   },
   {
    "duration": 18,
    "start_time": "2023-09-30T02:13:15.277Z"
   },
   {
    "duration": 10,
    "start_time": "2023-09-30T02:13:21.122Z"
   },
   {
    "duration": 24,
    "start_time": "2023-09-30T02:18:04.578Z"
   },
   {
    "duration": 9,
    "start_time": "2023-09-30T02:18:08.043Z"
   },
   {
    "duration": 4,
    "start_time": "2023-09-30T02:18:19.170Z"
   },
   {
    "duration": 9,
    "start_time": "2023-09-30T02:19:01.480Z"
   },
   {
    "duration": 4,
    "start_time": "2023-09-30T02:26:30.853Z"
   },
   {
    "duration": 12,
    "start_time": "2023-09-30T02:29:47.883Z"
   },
   {
    "duration": 315,
    "start_time": "2023-09-30T02:30:18.759Z"
   },
   {
    "duration": 174,
    "start_time": "2023-09-30T02:31:27.331Z"
   },
   {
    "duration": 171,
    "start_time": "2023-09-30T02:32:12.256Z"
   },
   {
    "duration": 174,
    "start_time": "2023-09-30T02:32:29.769Z"
   },
   {
    "duration": 203,
    "start_time": "2023-09-30T02:33:08.781Z"
   },
   {
    "duration": 165,
    "start_time": "2023-09-30T02:33:51.999Z"
   },
   {
    "duration": 163,
    "start_time": "2023-09-30T02:34:18.557Z"
   },
   {
    "duration": 149,
    "start_time": "2023-09-30T02:37:29.768Z"
   },
   {
    "duration": 149,
    "start_time": "2023-09-30T02:38:22.222Z"
   },
   {
    "duration": 149,
    "start_time": "2023-09-30T02:38:42.279Z"
   },
   {
    "duration": 97,
    "start_time": "2023-09-30T02:39:27.523Z"
   },
   {
    "duration": 157,
    "start_time": "2023-09-30T02:39:36.646Z"
   },
   {
    "duration": 152,
    "start_time": "2023-09-30T02:49:08.956Z"
   },
   {
    "duration": 8,
    "start_time": "2023-09-30T02:52:57.275Z"
   },
   {
    "duration": 8,
    "start_time": "2023-09-30T02:53:00.362Z"
   },
   {
    "duration": 21,
    "start_time": "2023-09-30T02:53:09.099Z"
   },
   {
    "duration": 162,
    "start_time": "2023-09-30T02:53:25.760Z"
   },
   {
    "duration": 158,
    "start_time": "2023-09-30T02:54:13.314Z"
   },
   {
    "duration": 21,
    "start_time": "2023-09-30T02:55:30.523Z"
   },
   {
    "duration": 157,
    "start_time": "2023-09-30T02:55:37.928Z"
   },
   {
    "duration": 132,
    "start_time": "2023-09-30T03:30:29.975Z"
   },
   {
    "duration": 162,
    "start_time": "2023-09-30T03:31:10.420Z"
   },
   {
    "duration": 147,
    "start_time": "2023-09-30T03:31:27.092Z"
   },
   {
    "duration": 158,
    "start_time": "2023-09-30T03:31:45.043Z"
   },
   {
    "duration": 161,
    "start_time": "2023-09-30T03:31:58.447Z"
   }
  ],
  "kernelspec": {
   "display_name": "Python 3 (ipykernel)",
   "language": "python",
   "name": "python3"
  },
  "language_info": {
   "codemirror_mode": {
    "name": "ipython",
    "version": 3
   },
   "file_extension": ".py",
   "mimetype": "text/x-python",
   "name": "python",
   "nbconvert_exporter": "python",
   "pygments_lexer": "ipython3",
   "version": "3.9.5"
  },
  "toc": {
   "base_numbering": 1,
   "nav_menu": {},
   "number_sections": true,
   "sideBar": true,
   "skip_h1_title": true,
   "title_cell": "Table of Contents",
   "title_sidebar": "Contents",
   "toc_cell": false,
   "toc_position": {},
   "toc_section_display": true,
   "toc_window_display": true
  }
 },
 "nbformat": 4,
 "nbformat_minor": 4
}
