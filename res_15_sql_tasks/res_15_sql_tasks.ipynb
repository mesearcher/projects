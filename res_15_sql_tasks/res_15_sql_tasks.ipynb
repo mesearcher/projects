{
  "nbformat": 4,
  "nbformat_minor": 0,
  "metadata": {
    "colab": {
      "provenance": []
    },
    "kernelspec": {
      "name": "python3",
      "display_name": "Python 3"
    },
    "language_info": {
      "name": "python"
    }
  },
  "cells": [
    {
      "cell_type": "markdown",
      "source": [
        "1. Отобразите все записи из таблицы `company` по компаниям, которые закрылись."
      ],
      "metadata": {
        "id": "swTfcuH6S4BO"
      }
    },
    {
      "cell_type": "code",
      "execution_count": null,
      "metadata": {
        "id": "X8dTwMAQSyIL"
      },
      "outputs": [],
      "source": [
        "SELECT *\n",
        "FROM company\n",
        "WHERE status = 'closed';"
      ]
    },
    {
      "cell_type": "markdown",
      "source": [
        "2. Отобразите количество привлечённых средств для новостных компаний США. Используйте данные из таблицы `company`. Отсортируйте таблицу по убыванию значений в поле `funding_total`."
      ],
      "metadata": {
        "id": "6N_aywziTDK4"
      }
    },
    {
      "cell_type": "code",
      "source": [
        "SELECT funding_total\n",
        "FROM company\n",
        "WHERE country_code = 'USA' AND category_code = 'news'\n",
        "ORDER BY funding_total DESC;"
      ],
      "metadata": {
        "id": "L-dRZYO7TPNJ"
      },
      "execution_count": null,
      "outputs": []
    },
    {
      "cell_type": "markdown",
      "source": [
        "3. Найдите общую сумму сделок по покупке одних компаний другими в долларах. Отберите сделки, которые осуществлялись только за наличные с 2011 по 2013 год включительно."
      ],
      "metadata": {
        "id": "jWg2abTkTXsa"
      }
    },
    {
      "cell_type": "code",
      "source": [
        "SELECT SUM(price_amount)\n",
        "FROM acquisition\n",
        "WHERE acquired_at BETWEEN '2011-01-01' AND '2013-12-31'\n",
        "  AND term_code = 'cash';"
      ],
      "metadata": {
        "id": "CCHth5pdTedJ"
      },
      "execution_count": null,
      "outputs": []
    },
    {
      "cell_type": "markdown",
      "source": [
        "4. Отобразите имя, фамилию и названия аккаунтов людей в поле `network_username`, у которых названия аккаунтов начинаются на `'Silver'`."
      ],
      "metadata": {
        "id": "KEmmTviETjQB"
      }
    },
    {
      "cell_type": "code",
      "source": [
        "SELECT\n",
        "       first_name,\n",
        "       last_name,\n",
        "       network_username\n",
        "FROM people\n",
        "WHERE network_username LIKE 'Silver%';"
      ],
      "metadata": {
        "id": "yT5Ef_xnTriJ"
      },
      "execution_count": null,
      "outputs": []
    },
    {
      "cell_type": "markdown",
      "source": [
        "5. Выведите на экран всю информацию о людях, у которых названия аккаунтов в поле `network_username` содержат подстроку `'money'`, а фамилия начинается на `'K'`."
      ],
      "metadata": {
        "id": "x4blCKs9Tuia"
      }
    },
    {
      "cell_type": "code",
      "source": [
        "SELECT *\n",
        "FROM people\n",
        "WHERE network_username LIKE '%money%' AND last_name LIKE 'K%';"
      ],
      "metadata": {
        "id": "enALf2lpT2dB"
      },
      "execution_count": null,
      "outputs": []
    },
    {
      "cell_type": "markdown",
      "source": [
        "6. Для каждой страны отобразите общую сумму привлечённых инвестиций, которые получили компании, зарегистрированные в этой стране. Страну, в которой зарегистрирована компания, можно определить по коду страны. Отсортируйте данные по убыванию суммы."
      ],
      "metadata": {
        "id": "0Ny5ybgnT7Nw"
      }
    },
    {
      "cell_type": "code",
      "source": [
        "SELECT\n",
        "      SUM(funding_total),\n",
        "      country_code\n",
        "FROM company\n",
        "GROUP BY country_code\n",
        "ORDER BY SUM(funding_total) DESC;"
      ],
      "metadata": {
        "id": "8ekwsMrRUDin"
      },
      "execution_count": null,
      "outputs": []
    },
    {
      "cell_type": "markdown",
      "source": [
        "7. Составьте таблицу, в которую войдёт дата проведения раунда, а также минимальное и максимальное значения суммы инвестиций, привлечённых в эту дату.\n",
        "Оставьте в итоговой таблице только те записи, в которых минимальное значение суммы инвестиций не равно нулю и не равно максимальному значению."
      ],
      "metadata": {
        "id": "a432q-eqUHd6"
      }
    },
    {
      "cell_type": "code",
      "source": [
        "SELECT\n",
        "       funded_at,\n",
        "       MIN(raised_amount) AS min_amount,\n",
        "       MAX(raised_amount) AS max_amount\n",
        "FROM funding_round\n",
        "GROUP BY funded_at\n",
        "HAVING MIN(raised_amount) > 0 AND MIN(raised_amount) != MAX(raised_amount);"
      ],
      "metadata": {
        "id": "PpV03FeJUMnL"
      },
      "execution_count": null,
      "outputs": []
    },
    {
      "cell_type": "markdown",
      "source": [
        "8. Создайте поле с категориями:\n",
        "- Для фондов, которые инвестируют в 100 и более компаний, назначьте категорию `high_activity`.\n",
        "- Для фондов, которые инвестируют в 20 и более компаний до 100, назначьте категорию `middle_activity`.\n",
        "- Если количество инвестируемых компаний фонда не достигает 20, назначьте категорию `low_activity`.\n",
        "\n",
        "Отобразите все поля таблицы fund и новое поле с категориями."
      ],
      "metadata": {
        "id": "QtPmMBBzUQHW"
      }
    },
    {
      "cell_type": "code",
      "source": [
        "SELECT *,\n",
        "    CASE\n",
        "        WHEN invested_companies >= 100 THEN 'high_activity'\n",
        "        WHEN invested_companies >= 20 AND invested_companies < 100 THEN 'middle_activity'\n",
        "        ELSE 'low_activity'\n",
        "    END AS category\n",
        "FROM fund;"
      ],
      "metadata": {
        "id": "Jo3LA3vQUdaR"
      },
      "execution_count": null,
      "outputs": []
    },
    {
      "cell_type": "markdown",
      "source": [
        "9. Для каждой из категорий, назначенных в предыдущем задании, посчитайте округлённое до ближайшего целого числа среднее количество инвестиционных раундов, в которых фонд принимал участие. Выведите на экран категории и среднее число инвестиционных раундов. Отсортируйте таблицу по возрастанию среднего."
      ],
      "metadata": {
        "id": "-FGiiHRLUhoC"
      }
    },
    {
      "cell_type": "code",
      "source": [
        "SELECT activity,\n",
        "       ROUND(AVG(investment_rounds)) AS avg_investment_rounds\n",
        "FROM (\n",
        "    SELECT *,\n",
        "           CASE\n",
        "               WHEN invested_companies >= 100 THEN 'high_activity'\n",
        "               WHEN invested_companies >= 20 THEN 'middle_activity'\n",
        "               ELSE 'low_activity'\n",
        "           END AS activity\n",
        "    FROM fund\n",
        ") AS categorized_fund\n",
        "GROUP BY activity\n",
        "ORDER BY avg_investment_rounds ASC;"
      ],
      "metadata": {
        "id": "JzCWDRUTUn_D"
      },
      "execution_count": null,
      "outputs": []
    },
    {
      "cell_type": "markdown",
      "source": [
        "10. Проанализируйте, в каких странах находятся фонды, которые чаще всего инвестируют в стартапы.\n",
        "\n",
        "Для каждой страны посчитайте минимальное, максимальное и среднее число компаний, в которые инвестировали фонды этой страны, основанные с 2010 по 2012 год включительно. Исключите страны с фондами, у которых минимальное число компаний, получивших инвестиции, равно нулю.\n",
        "\n",
        "Выгрузите десять самых активных стран-инвесторов: отсортируйте таблицу по среднему количеству компаний от большего к меньшему. Затем добавьте сортировку по коду страны в лексикографическом порядке."
      ],
      "metadata": {
        "id": "hnARrFJlUro_"
      }
    },
    {
      "cell_type": "code",
      "source": [
        "SELECT country_code,\n",
        "       MIN(invested_companies) AS min_invested_companies,\n",
        "       MAX(invested_companies) AS max_invested_companies,\n",
        "       AVG(invested_companies) AS avg_invested_companies\n",
        "FROM fund\n",
        "WHERE founded_at BETWEEN '2010-01-01' AND '2012-12-31'\n",
        "GROUP BY country_code\n",
        "HAVING MIN(invested_companies) != 0\n",
        "ORDER BY avg_invested_companies DESC, country_code\n",
        "LIMIT 10;"
      ],
      "metadata": {
        "id": "l5kY2L1aUzhD"
      },
      "execution_count": null,
      "outputs": []
    },
    {
      "cell_type": "markdown",
      "source": [
        "11. Отобразите имя и фамилию всех сотрудников стартапов. Добавьте поле с названием учебного заведения, которое окончил сотрудник, если эта информация известна."
      ],
      "metadata": {
        "id": "2tklGlJbU4im"
      }
    },
    {
      "cell_type": "code",
      "source": [
        "SELECT\n",
        "       p.first_name,\n",
        "       p.last_name,\n",
        "       e.instituition\n",
        "FROM people AS p\n",
        "LEFT JOIN education AS e ON p.id = e.person_id;"
      ],
      "metadata": {
        "id": "JnUe7IQBU-Om"
      },
      "execution_count": null,
      "outputs": []
    },
    {
      "cell_type": "markdown",
      "source": [
        "12. Для каждой компании найдите количество учебных заведений, которые окончили её сотрудники. Выведите название компании и число уникальных названий учебных заведений. Составьте топ-5 компаний по количеству университетов."
      ],
      "metadata": {
        "id": "IU5AXsdvVAw9"
      }
    },
    {
      "cell_type": "code",
      "source": [
        "SELECT\n",
        "       c.name,\n",
        "       COUNT(DISTINCT e.instituition) AS count_institution\n",
        "FROM company AS c\n",
        "JOIN people AS p ON c.id = p.company_id\n",
        "JOIN education AS e ON p.id = e.person_id\n",
        "GROUP BY c.name\n",
        "ORDER BY count_institution DESC\n",
        "LIMIT 5;"
      ],
      "metadata": {
        "id": "jPDMjIMzVGEw"
      },
      "execution_count": null,
      "outputs": []
    },
    {
      "cell_type": "markdown",
      "source": [
        "13. Составьте список с уникальными названиями закрытых компаний, для которых первый раунд финансирования оказался последним."
      ],
      "metadata": {
        "id": "i9YxCSjEVJmr"
      }
    },
    {
      "cell_type": "code",
      "source": [
        "SELECT DISTINCT c.name\n",
        "FROM company AS c\n",
        "JOIN funding_round AS fr ON c.id = fr.company_id\n",
        "JOIN (\n",
        "    SELECT company_id\n",
        "    FROM funding_round\n",
        "    WHERE is_first_round = 1 AND is_last_round = 1\n",
        ") AS first_last_rounds ON c.id = first_last_rounds.company_id\n",
        "WHERE c.status = 'closed';"
      ],
      "metadata": {
        "id": "f8DMnu4kVNct"
      },
      "execution_count": null,
      "outputs": []
    },
    {
      "cell_type": "markdown",
      "source": [
        "14. Составьте список уникальных номеров сотрудников, которые работают в компаниях, отобранных в предыдущем задании."
      ],
      "metadata": {
        "id": "XItHwwQ3VQ6R"
      }
    },
    {
      "cell_type": "code",
      "source": [
        "SELECT DISTINCT p.id\n",
        "FROM company AS c\n",
        "JOIN funding_round AS fr ON c.id = fr.company_id\n",
        "JOIN people AS p ON c.id = p.company_id\n",
        "WHERE c.status = 'closed'\n",
        "  AND c.id IN (\n",
        "    SELECT company_id\n",
        "    FROM funding_round\n",
        "    WHERE is_first_round = 1 AND is_last_round = 1\n",
        "  );"
      ],
      "metadata": {
        "id": "KG6UX3NzVVVp"
      },
      "execution_count": null,
      "outputs": []
    },
    {
      "cell_type": "markdown",
      "source": [
        "15. Составьте таблицу, куда войдут уникальные пары с номерами сотрудников из предыдущей задачи и учебным заведением, которое окончил сотрудник."
      ],
      "metadata": {
        "id": "COSGhcOIVYLb"
      }
    },
    {
      "cell_type": "code",
      "source": [
        "WITH closed_companies AS (\n",
        "    SELECT id\n",
        "    FROM company\n",
        "    WHERE status = 'closed'\n",
        "),\n",
        "first_last_rounds AS (\n",
        "    SELECT company_id\n",
        "    FROM funding_round\n",
        "    WHERE is_first_round = 1 AND is_last_round = 1\n",
        ")\n",
        "SELECT DISTINCT p.id, e.instituition\n",
        "FROM closed_companies c\n",
        "JOIN first_last_rounds fr ON c.id = fr.company_id\n",
        "JOIN people p ON c.id = p.company_id\n",
        "JOIN education e ON p.id = e.person_id;"
      ],
      "metadata": {
        "id": "WeddnIPKVcP7"
      },
      "execution_count": null,
      "outputs": []
    },
    {
      "cell_type": "markdown",
      "source": [
        "16. Посчитайте количество учебных заведений для каждого сотрудника из предыдущего задания. При подсчёте учитывайте, что некоторые сотрудники могли окончить одно и то же заведение дважды."
      ],
      "metadata": {
        "id": "E6fqj5GnVfZ2"
      }
    },
    {
      "cell_type": "code",
      "source": [
        "SELECT p.id AS person_id,\n",
        "       COUNT(e.instituition) AS num_institutions\n",
        "FROM people AS p\n",
        "JOIN education AS e ON e.person_id = p.id\n",
        "WHERE p.company_id IN (\n",
        "    SELECT c.id\n",
        "    FROM company AS c\n",
        "    JOIN funding_round AS fr ON fr.company_id = c.id\n",
        "    WHERE fr.is_first_round = 1\n",
        "      AND fr.is_last_round = 1\n",
        "      AND c.status = 'closed'\n",
        ")\n",
        "GROUP BY p.id;"
      ],
      "metadata": {
        "id": "oznxjsIFVksl"
      },
      "execution_count": null,
      "outputs": []
    },
    {
      "cell_type": "markdown",
      "source": [
        "17. Дополните предыдущий запрос и выведите среднее число учебных заведений (всех, не только уникальных), которые окончили сотрудники разных компаний. Нужно вывести только одну запись, группировка здесь не понадобится."
      ],
      "metadata": {
        "id": "AiONV18gVoTi"
      }
    },
    {
      "cell_type": "code",
      "source": [
        "SELECT AVG(num_institutions) AS avg_num_institutions\n",
        "FROM (\n",
        "    SELECT p.id AS person_id,\n",
        "           COUNT(e.instituition) AS num_institutions\n",
        "    FROM people AS p\n",
        "    JOIN education AS e ON e.person_id = p.id\n",
        "    WHERE p.company_id IN (\n",
        "        SELECT c.id\n",
        "        FROM company AS c\n",
        "        JOIN funding_round AS fr ON fr.company_id = c.id\n",
        "        WHERE fr.is_first_round = 1\n",
        "          AND fr.is_last_round = 1\n",
        "          AND c.status = 'closed'\n",
        "    )\n",
        "    GROUP BY p.id\n",
        ") AS subquery;"
      ],
      "metadata": {
        "id": "UfGSY-g_VsgS"
      },
      "execution_count": null,
      "outputs": []
    },
    {
      "cell_type": "markdown",
      "source": [
        "18. Напишите похожий запрос: выведите среднее число учебных заведений (всех, не только уникальных), которые окончили сотрудники Socialnet."
      ],
      "metadata": {
        "id": "D6t3RDlMVw8T"
      }
    },
    {
      "cell_type": "code",
      "source": [
        "SELECT AVG(num_institutions) AS avg_num_institutions\n",
        "FROM (\n",
        "    SELECT p.id AS person_id,\n",
        "           COUNT(e.instituition) AS num_institutions\n",
        "    FROM people AS p\n",
        "    JOIN education AS e ON e.person_id = p.id\n",
        "    WHERE p.company_id = (\n",
        "        SELECT c.id\n",
        "        FROM company AS c\n",
        "        WHERE c.name = 'Socialnet'\n",
        "    )\n",
        "    GROUP BY p.id\n",
        ") AS subquery;"
      ],
      "metadata": {
        "id": "kmY9h1L3V10M"
      },
      "execution_count": null,
      "outputs": []
    },
    {
      "cell_type": "markdown",
      "source": [
        "19. Составьте таблицу из полей:\n",
        "- name_of_fund — название фонда;\n",
        "- name_of_company — название компании;\n",
        "- amount — сумма инвестиций, которую привлекла компания в раунде.\n",
        "\n",
        "В таблицу войдут данные о компаниях, в истории которых было больше шести важных этапов, а раунды финансирования проходили с 2012 по 2013 год включительно."
      ],
      "metadata": {
        "id": "f5fL5P6AWNaI"
      }
    },
    {
      "cell_type": "code",
      "source": [
        "SELECT\n",
        "       f.name AS name_of_fund,\n",
        "       c.name AS name_of_company,\n",
        "       fr. raised_amount AS amount\n",
        "FROM investment AS i\n",
        "    JOIN company AS c ON i.company_id = c.id\n",
        "    JOIN fund AS f ON i.fund_id = f.id\n",
        "    JOIN funding_round AS fr ON i.funding_round_id = fr.id\n",
        "WHERE c.milestones > 6\n",
        "AND EXTRACT(YEAR FROM fr.funded_at) BETWEEN 2012 AND 2013;"
      ],
      "metadata": {
        "id": "dyLvoJghWXuW"
      },
      "execution_count": null,
      "outputs": []
    },
    {
      "cell_type": "markdown",
      "source": [
        "20. Выгрузите таблицу, в которой будут такие поля:\n",
        "- название компании-покупателя;\n",
        "- сумма сделки;\n",
        "- название компании, которую купили;\n",
        "- сумма инвестиций, вложенных в купленную компанию;\n",
        "- доля, которая отображает, во сколько раз сумма покупки превысила сумму вложенных в компанию инвестиций, округлённая до ближайшего целого числа.\n",
        "\n",
        "Не учитывайте те сделки, в которых сумма покупки равна нулю. Если сумма инвестиций в компанию равна нулю, исключите такую компанию из таблицы.\n",
        "\n",
        "Отсортируйте таблицу по сумме сделки от большей к меньшей, а затем по названию купленной компании в лексикографическом порядке. Ограничьте таблицу первыми десятью записями."
      ],
      "metadata": {
        "id": "eWHiGvMeWbgL"
      }
    },
    {
      "cell_type": "code",
      "source": [
        "SELECT\n",
        "    c.name AS name_of_acquiring,\n",
        "    a.price_amount AS amount,\n",
        "    c_1.name AS name_of_acquired,\n",
        "    c_1.funding_total AS total_funding,\n",
        "    ROUND(a.price_amount / NULLIF(c_1.funding_total, 0)) AS ratio\n",
        "FROM acquisition AS a\n",
        "LEFT JOIN company AS c ON a.acquiring_company_id = c.id\n",
        "LEFT JOIN company AS c_1 ON a.acquired_company_id = c_1.id\n",
        "WHERE a.price_amount > 0 AND c_1.funding_total > 0\n",
        "ORDER BY amount DESC, name_of_acquired\n",
        "LIMIT 10;"
      ],
      "metadata": {
        "id": "DgVWSfR_Ws77"
      },
      "execution_count": null,
      "outputs": []
    },
    {
      "cell_type": "markdown",
      "source": [
        "21. Выгрузите таблицу, в которую войдут названия компаний из категории social, получившие финансирование с 2010 по 2013 год включительно. Проверьте, что сумма инвестиций не равна нулю. Выведите также номер месяца, в котором проходил раунд финансирования."
      ],
      "metadata": {
        "id": "acCsj8IOWupE"
      }
    },
    {
      "cell_type": "code",
      "source": [
        "SELECT\n",
        "       c.name,\n",
        "       EXTRACT(MONTH FROM CAST(fr.funded_at AS date)) AS month\n",
        "FROM company AS c\n",
        "JOIN funding_round AS fr ON c.id = fr.company_id\n",
        "WHERE c.category_code = 'social'\n",
        "  AND fr.funded_at BETWEEN '2010-01-01' AND '2013-12-31'\n",
        "  AND fr.raised_amount > 0;"
      ],
      "metadata": {
        "id": "eHdZu9xgW1G2"
      },
      "execution_count": null,
      "outputs": []
    },
    {
      "cell_type": "markdown",
      "source": [
        "22. Отберите данные по месяцам с 2010 по 2013 год, когда проходили инвестиционные раунды. Сгруппируйте данные по номеру месяца и получите таблицу, в которой будут поля:\n",
        "- номер месяца, в котором проходили раунды;\n",
        "- количество уникальных названий фондов из США, которые инвестировали в этом месяце;\n",
        "- количество компаний, купленных за этот месяц;\n",
        "- общая сумма сделок по покупкам в этом месяце."
      ],
      "metadata": {
        "id": "lRnqjj0OW4Kr"
      }
    },
    {
      "cell_type": "code",
      "source": [
        "WITH funds AS (\n",
        "    SELECT\n",
        "           EXTRACT(MONTH FROM CAST(fr.funded_at AS date)) AS month,\n",
        "           COUNT(DISTINCT f.id) AS count_funds\n",
        "    FROM fund AS f\n",
        "    JOIN investment AS i ON f.id = i.fund_id\n",
        "    JOIN funding_round AS fr ON i.funding_round_id = fr.id\n",
        "    WHERE fr.funded_at BETWEEN '2010-01-01' AND '2013-12-31'\n",
        "    AND f.country_code = 'USA'\n",
        "    GROUP BY month\n",
        "),\n",
        "\n",
        "acquired AS (\n",
        "    SELECT\n",
        "           EXTRACT(MONTH FROM CAST(a.acquired_at AS date)) AS month,\n",
        "           COUNT(a.id) AS acquired_companies,\n",
        "           SUM(a.price_amount) AS amount\n",
        "    FROM acquisition AS a\n",
        "    WHERE a.acquired_at BETWEEN '2010-01-01' AND '2013-12-31'\n",
        "    GROUP BY month\n",
        ")\n",
        "\n",
        "SELECT\n",
        "       funds.month,\n",
        "       funds.count_funds,\n",
        "       acquired.acquired_companies,\n",
        "       acquired.amount\n",
        "FROM funds\n",
        "JOIN acquired ON funds.month=acquired.month;"
      ],
      "metadata": {
        "id": "izsJ3Zz4XCph"
      },
      "execution_count": null,
      "outputs": []
    },
    {
      "cell_type": "markdown",
      "source": [
        "23. Составьте сводную таблицу и выведите среднюю сумму инвестиций для стран, в которых есть стартапы, зарегистрированные в 2011, 2012 и 2013 годах. Данные за каждый год должны быть в отдельном поле. Отсортируйте таблицу по среднему значению инвестиций за 2011 год от большего к меньшему."
      ],
      "metadata": {
        "id": "VL0e-J0qXHGn"
      }
    },
    {
      "cell_type": "code",
      "source": [
        "WITH\n",
        "    inv_2011 AS (\n",
        "        SELECT country_code,\n",
        "            AVG(funding_total) AS avg_investment_2011\n",
        "        FROM company\n",
        "        WHERE EXTRACT(YEAR FROM founded_at) = 2011\n",
        "        GROUP BY country_code\n",
        "    ),\n",
        "    inv_2012 AS (\n",
        "        SELECT country_code,\n",
        "            AVG(funding_total) AS avg_investment_2012\n",
        "        FROM company\n",
        "        WHERE EXTRACT(YEAR FROM founded_at) = 2012\n",
        "        GROUP BY country_code\n",
        "    ),\n",
        "    inv_2013 AS (\n",
        "        SELECT country_code,\n",
        "            AVG(funding_total) AS avg_investment_2013\n",
        "        FROM company\n",
        "        WHERE EXTRACT(YEAR FROM founded_at) = 2013\n",
        "        GROUP BY country_code\n",
        "    )\n",
        "SELECT\n",
        "    inv_2011.country_code AS country_code_2011,\n",
        "    inv_2011.avg_investment_2011,\n",
        "    inv_2012.avg_investment_2012,\n",
        "    inv_2013.avg_investment_2013\n",
        "FROM inv_2011\n",
        "JOIN inv_2012 ON inv_2011.country_code = inv_2012.country_code\n",
        "JOIN inv_2013 ON inv_2011.country_code = inv_2013.country_code\n",
        "ORDER BY inv_2011.avg_investment_2011 DESC;"
      ],
      "metadata": {
        "id": "HcBMuT-ZXLzd"
      },
      "execution_count": null,
      "outputs": []
    }
  ]
}