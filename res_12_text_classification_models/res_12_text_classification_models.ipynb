{
 "cells": [
  {
   "cell_type": "markdown",
   "metadata": {},
   "source": [
    "# Text Classification Models"
   ]
  },
  {
   "cell_type": "markdown",
   "metadata": {},
   "source": [
    "**Annotation:**\n",
    "\n",
    "The project **aims** to develop a text classification model. To achieve this, the following steps will be taken:\n",
    "\n",
    "1. Data Pre-processing\n",
    "2. Exploratory Analysis\n",
    "3. Data Preparation for Machine Learning\n",
    "4. Model Selection and Training Algorithm\n",
    "5. Training, Setting, Testing, and Checking Model Quality\n",
    "6. Forecast and Conclusion\n",
    "\n",
    "In alignment with the customer’s business objectives, the project involves creating a text classification model that will enable the company to identify toxic user comments and forward them for moderation (a binary text classification task).\n",
    "\n",
    "**Data Source:**\n",
    "\n",
    "The dataset provided by the customer contains data marked for toxicity in comments from online store customers.\n",
    "\n",
    "**Tools and libraries:**\n",
    "- Python\n",
    "- Pandas\n",
    "- Sklearn\n",
    "- NLTK\n",
    "- Numpy\n",
    "- Transformers\n",
    "- Matplotlib\n",
    "- Seaborn"
   ]
  },
  {
   "cell_type": "markdown",
   "metadata": {},
   "source": [
    "# Прогнозная модель для классификации текстов"
   ]
  },
  {
   "cell_type": "markdown",
   "metadata": {},
   "source": [
    "**Аннотация проекта**\n",
    "\n",
    "На данных интернет-магазина проводится исследовательский анализ с последующей разработкой решения на основе моделирования, которое позволит компании находить токсичные комментарии пользователей и отправлять их на модерацию.\n",
    "\n",
    "**Цель исследования** — разработать модель для бинарной классификации текстов. Для этого будут выполнены следующие шаги:\n",
    "\n",
    "- Предварительная обработка данных.\n",
    "- Исследовательский анализ.\n",
    "- Подготовка данных для машинного обучения.\n",
    "- Выбор модели и алгоритма её обучения.\n",
    "- Обучение, настройка, тестирование и оценка качества моделей.\n",
    "- Прогноз и выводы.\n",
    "\n",
    "Учитывая бизнес-задачи заказчика, предстоит разработать прогнозную модель и обучить её классифицировать комментарии на позитивные и негативные.\n",
    "\n",
    "**Согласно условиям** показатель метрики качества модели *F1* должен составлять не меньше 0.75.\n",
    "\n",
    "**Описание данных**\n",
    "\n",
    "Датасет, представленный заказчиком, содержит данные с разметкой о токсичности правок и комментариев клиентов интернет-магазина.\n",
    "\n",
    "**Инструменты и библиотеки:**\n",
    "- Python\n",
    "- Pandas\n",
    "- Sklearn\n",
    "- NLTK\n",
    "- Numpy\n",
    "- Transformers\n",
    "- Matplotlib\n",
    "- Seaborn"
   ]
  },
  {
   "cell_type": "code",
   "execution_count": 1,
   "metadata": {},
   "outputs": [
    {
     "name": "stderr",
     "output_type": "stream",
     "text": [
      "\n",
      "[notice] A new release of pip is available: 23.2.1 -> 24.0\n",
      "[notice] To update, run: python.exe -m pip install --upgrade pip\n"
     ]
    }
   ],
   "source": [
    "! pip install --upgrade scikit-learn -q"
   ]
  },
  {
   "cell_type": "code",
   "execution_count": 2,
   "metadata": {},
   "outputs": [
    {
     "name": "stderr",
     "output_type": "stream",
     "text": [
      "[nltk_data] Downloading package stopwords to\n",
      "[nltk_data]     C:\\Users\\milaz\\AppData\\Roaming\\nltk_data...\n",
      "[nltk_data]   Package stopwords is already up-to-date!\n",
      "[nltk_data] Downloading package wordnet to\n",
      "[nltk_data]     C:\\Users\\milaz\\AppData\\Roaming\\nltk_data...\n",
      "[nltk_data]   Package wordnet is already up-to-date!\n",
      "[nltk_data] Downloading package punkt to\n",
      "[nltk_data]     C:\\Users\\milaz\\AppData\\Roaming\\nltk_data...\n",
      "[nltk_data]   Package punkt is already up-to-date!\n",
      "[nltk_data] Downloading package averaged_perceptron_tagger to\n",
      "[nltk_data]     C:\\Users\\milaz\\AppData\\Roaming\\nltk_data...\n",
      "[nltk_data]   Package averaged_perceptron_tagger is already up-to-\n",
      "[nltk_data]       date!\n"
     ]
    }
   ],
   "source": [
    "# импорт библиотек, модулей и функций\n",
    "import sklearn\n",
    "import pandas as pd\n",
    "import numpy as np\n",
    "import transformers\n",
    "import matplotlib.pyplot as plt\n",
    "import seaborn as sns\n",
    "import re, time\n",
    "import warnings\n",
    "import nltk\n",
    "\n",
    "# классы для преобразования корпуса текстов\n",
    "from sklearn.feature_extraction.text import CountVectorizer, TfidfVectorizer\n",
    "from nltk.tokenize import word_tokenize\n",
    "\n",
    "# модуль стоп-слов из библиотеки Natural Language Toolkit (nltk)\n",
    "from nltk.corpus import stopwords as nltk_stopwords\n",
    "from nltk.corpus import wordnet\n",
    "nltk.download('stopwords')\n",
    "nltk.download('wordnet')\n",
    "nltk.download('punkt')\n",
    "\n",
    "# инструменты лемматизации\n",
    "from nltk.stem import WordNetLemmatizer\n",
    "from nltk import pos_tag\n",
    "nltk.download('averaged_perceptron_tagger')\n",
    "\n",
    "# функция для разделения датасета на выборки\n",
    "from sklearn.model_selection import train_test_split, cross_val_score\n",
    "\n",
    "# инструменты для пайплайн\n",
    "from sklearn.pipeline import Pipeline\n",
    "\n",
    "# классы для моделей машинного обучения\n",
    "from sklearn.linear_model import LogisticRegression\n",
    "from sklearn.svm import SVC\n",
    "\n",
    "# инструменты для автоподбора гиперпараметров\n",
    "from sklearn.model_selection import RandomizedSearchCV\n",
    "from scipy.stats import randint, uniform\n",
    "\n",
    "# функция для расчёта метрики\n",
    "from sklearn.metrics import f1_score, make_scorer, classification_report\n",
    "\n",
    "# индикатор прогресса\n",
    "from tqdm import notebook"
   ]
  },
  {
   "cell_type": "markdown",
   "metadata": {},
   "source": [
    "## Загрузка данных"
   ]
  },
  {
   "cell_type": "markdown",
   "metadata": {},
   "source": [
    "- Загрузим файл и проверим, что данные в таблице соответствуют описанию."
   ]
  },
  {
   "cell_type": "code",
   "execution_count": 3,
   "metadata": {},
   "outputs": [],
   "source": [
    "# считываем данные из csv-файла и сохраняем в датафрейм\n",
    "try:\n",
    "    df = pd.read_csv('/datasets/toxic_comments.csv', index_col=[0])\n",
    "except:\n",
    "    df = pd.read_csv('https://code.s3.yandex.net/datasets/toxic_comments.csv', index_col=[0])"
   ]
  },
  {
   "cell_type": "code",
   "execution_count": 4,
   "metadata": {},
   "outputs": [
    {
     "data": {
      "text/html": [
       "<div>\n",
       "<style scoped>\n",
       "    .dataframe tbody tr th:only-of-type {\n",
       "        vertical-align: middle;\n",
       "    }\n",
       "\n",
       "    .dataframe tbody tr th {\n",
       "        vertical-align: top;\n",
       "    }\n",
       "\n",
       "    .dataframe thead th {\n",
       "        text-align: right;\n",
       "    }\n",
       "</style>\n",
       "<table border=\"1\" class=\"dataframe\">\n",
       "  <thead>\n",
       "    <tr style=\"text-align: right;\">\n",
       "      <th></th>\n",
       "      <th>text</th>\n",
       "      <th>toxic</th>\n",
       "    </tr>\n",
       "  </thead>\n",
       "  <tbody>\n",
       "    <tr>\n",
       "      <th>0</th>\n",
       "      <td>Explanation\\nWhy the edits made under my usern...</td>\n",
       "      <td>0</td>\n",
       "    </tr>\n",
       "    <tr>\n",
       "      <th>1</th>\n",
       "      <td>D'aww! He matches this background colour I'm s...</td>\n",
       "      <td>0</td>\n",
       "    </tr>\n",
       "    <tr>\n",
       "      <th>2</th>\n",
       "      <td>Hey man, I'm really not trying to edit war. It...</td>\n",
       "      <td>0</td>\n",
       "    </tr>\n",
       "    <tr>\n",
       "      <th>3</th>\n",
       "      <td>\"\\nMore\\nI can't make any real suggestions on ...</td>\n",
       "      <td>0</td>\n",
       "    </tr>\n",
       "    <tr>\n",
       "      <th>4</th>\n",
       "      <td>You, sir, are my hero. Any chance you remember...</td>\n",
       "      <td>0</td>\n",
       "    </tr>\n",
       "  </tbody>\n",
       "</table>\n",
       "</div>"
      ],
      "text/plain": [
       "                                                text  toxic\n",
       "0  Explanation\\nWhy the edits made under my usern...      0\n",
       "1  D'aww! He matches this background colour I'm s...      0\n",
       "2  Hey man, I'm really not trying to edit war. It...      0\n",
       "3  \"\\nMore\\nI can't make any real suggestions on ...      0\n",
       "4  You, sir, are my hero. Any chance you remember...      0"
      ]
     },
     "execution_count": 4,
     "metadata": {},
     "output_type": "execute_result"
    }
   ],
   "source": [
    "# выведем первые пять строк\n",
    "df.head()"
   ]
  },
  {
   "cell_type": "code",
   "execution_count": 5,
   "metadata": {},
   "outputs": [
    {
     "name": "stdout",
     "output_type": "stream",
     "text": [
      "<class 'pandas.core.frame.DataFrame'>\n",
      "Int64Index: 159292 entries, 0 to 159450\n",
      "Data columns (total 2 columns):\n",
      " #   Column  Non-Null Count   Dtype \n",
      "---  ------  --------------   ----- \n",
      " 0   text    159292 non-null  object\n",
      " 1   toxic   159292 non-null  int64 \n",
      "dtypes: int64(1), object(1)\n",
      "memory usage: 3.6+ MB\n"
     ]
    }
   ],
   "source": [
    "# выведем основную информацию о таблице\n",
    "df.info()"
   ]
  },
  {
   "cell_type": "markdown",
   "metadata": {},
   "source": [
    "**Вывод:**\n",
    "- Данные загружены и корректно отображаются в таблице.\n",
    "- Таблица включает два столбца: `text` — содержит текст комментария и `toxic` — целевой признак, где 1 значит текст «токсичный», а 0 это «не токсичный».\n",
    "- Количество значений в столбцах не различается.\n",
    "- Тип данных соответсвует содержанию."
   ]
  },
  {
   "cell_type": "markdown",
   "metadata": {},
   "source": [
    "## Анализ и предобработка данных"
   ]
  },
  {
   "cell_type": "markdown",
   "metadata": {},
   "source": [
    "1. Построим графики и оценим характер распределения данных.\n",
    "2. Проведем предобработку текста: токенизацию, лемматизацию, очистку от стоп-слов и ненужных символов, добавим маркеры начала и конца предложения, преобразуем токены в векторные представления."
   ]
  },
  {
   "cell_type": "code",
   "execution_count": 6,
   "metadata": {},
   "outputs": [
    {
     "data": {
      "text/plain": [
       "array([0, 1], dtype=int64)"
      ]
     },
     "execution_count": 6,
     "metadata": {},
     "output_type": "execute_result"
    }
   ],
   "source": [
    "# проверим уникальность значений по целевому признаку\n",
    "df['toxic'].unique()"
   ]
  },
  {
   "cell_type": "code",
   "execution_count": 7,
   "metadata": {},
   "outputs": [
    {
     "data": {
      "text/plain": [
       "0"
      ]
     },
     "execution_count": 7,
     "metadata": {},
     "output_type": "execute_result"
    }
   ],
   "source": [
    "# проверим дубликаты\n",
    "df.duplicated().sum()"
   ]
  },
  {
   "cell_type": "code",
   "execution_count": 8,
   "metadata": {},
   "outputs": [
    {
     "data": {
      "text/html": [
       "<div>\n",
       "<style scoped>\n",
       "    .dataframe tbody tr th:only-of-type {\n",
       "        vertical-align: middle;\n",
       "    }\n",
       "\n",
       "    .dataframe tbody tr th {\n",
       "        vertical-align: top;\n",
       "    }\n",
       "\n",
       "    .dataframe thead th {\n",
       "        text-align: right;\n",
       "    }\n",
       "</style>\n",
       "<table border=\"1\" class=\"dataframe\">\n",
       "  <thead>\n",
       "    <tr style=\"text-align: right;\">\n",
       "      <th></th>\n",
       "      <th>text</th>\n",
       "      <th>toxic</th>\n",
       "    </tr>\n",
       "  </thead>\n",
       "  <tbody>\n",
       "  </tbody>\n",
       "</table>\n",
       "</div>"
      ],
      "text/plain": [
       "Empty DataFrame\n",
       "Columns: [text, toxic]\n",
       "Index: []"
      ]
     },
     "execution_count": 8,
     "metadata": {},
     "output_type": "execute_result"
    }
   ],
   "source": [
    "# проверим столбцы на наличие пустых значений\n",
    "df.query('toxic == \"\" or toxic == \" \"')"
   ]
  },
  {
   "cell_type": "code",
   "execution_count": 9,
   "metadata": {},
   "outputs": [
    {
     "data": {
      "image/png": "[encoded data removed]",
      "text/plain": [
       "<Figure size 720x576 with 1 Axes>"
      ]
     },
     "metadata": {},
     "output_type": "display_data"
    }
   ],
   "source": [
    "# рассмотрим распределение классов\n",
    "class_distribution = df['toxic'].value_counts()\n",
    "plt.figure(figsize=(10, 8))\n",
    "\n",
    "# построим pie chart\n",
    "labels = ['нетоксичный', 'токсичный']\n",
    "colors = ['#66c2a5', '#fc8d62']\n",
    "\n",
    "plt.pie(\n",
    "    class_distribution,\n",
    "    labels=labels,\n",
    "    colors=colors,\n",
    "    autopct=lambda p: '{:.1f}%\\n({:.0f})'.format(p, p * sum(class_distribution) / 100),\n",
    "    startangle=90\n",
    ")\n",
    "\n",
    "plt.title('Распределение классов по целевому признаку')\n",
    "plt.show()"
   ]
  },
  {
   "cell_type": "markdown",
   "metadata": {},
   "source": [
    "**Вывод:**\n",
    "- Целевой признак содержит значения двух классов — `0` и `1`.\n",
    "- Пропущенных значений и дубликатов не обнаружено.\n",
    "- Наблюдается существенный дисбаланс классов. Применение undersampling может негативно повлиять на обобщающие способности модели. Если класс большинства содержит редкие, но важные шаблоны для задачи (например, определенные темы в классификации текста), недостаточная выборка может привести к их исключению, что отрицательно скажется на способности модели распознавать их.\n",
    "- Чтобы сохранить баланс классов при формировании выборок применим функцию `stratify`, которая учтёт разницу в классах таргета."
   ]
  },
  {
   "cell_type": "markdown",
   "metadata": {},
   "source": [
    "### Токенизация, лемматизация и очистка текста\n",
    "\n",
    "Используем функцию `clean_text`, которая выполняет предварительную обработку входного текста с помощью `nltk` и лемматизатора `WordNet`.\n",
    "\n",
    "Функция принимает текст, очищает его, удаляя неалфавитные символы и преобразуя в нижний регистр, маркирует очищенный текст, лемматизирует каждый токен и возвращает окончательный лемматизированный текст."
   ]
  },
  {
   "cell_type": "code",
   "execution_count": 10,
   "metadata": {},
   "outputs": [],
   "source": [
    "# инициализация лемматизатора\n",
    "lemmatizer = WordNetLemmatizer()\n",
    "\n",
    "# определение функции очистки\n",
    "def clean_text(text):\n",
    "    # очистка текста\n",
    "    clean = \" \".join(re.sub(r'[^a-zA-Z]', ' ', text).lower().split())\n",
    "    # токенизация и POS tagging\n",
    "    word_list = word_tokenize(clean)\n",
    "    pos_tags = pos_tag(word_list)\n",
    "    # лемматизация с учётом POS-тегов\n",
    "    lemmatized_output = ' '.join([lemmatizer.lemmatize(word, pos=get_wordnet_pos(tag)) for word, tag in pos_tags])\n",
    "    return lemmatized_output\n",
    "\n",
    "# хелпер функция для сопоставления соответствия POS-тегов\n",
    "def get_wordnet_pos(tag):\n",
    "    if tag.startswith('J'):\n",
    "        return 'a'\n",
    "    elif tag.startswith('V'):\n",
    "        return 'v'\n",
    "    elif tag.startswith('R'):\n",
    "        return 'r'\n",
    "    else:\n",
    "        return 'n'"
   ]
  },
  {
   "cell_type": "code",
   "execution_count": 11,
   "metadata": {
    "scrolled": true
   },
   "outputs": [
    {
     "name": "stdout",
     "output_type": "stream",
     "text": [
      "Wall time: 19min 14s\n"
     ]
    }
   ],
   "source": [
    "%%time\n",
    "# применение функции к столбцу с комментариями\n",
    "df['text'] = df['text'].apply(clean_text)"
   ]
  },
  {
   "cell_type": "code",
   "execution_count": 12,
   "metadata": {},
   "outputs": [
    {
     "data": {
      "text/html": [
       "<div>\n",
       "<style scoped>\n",
       "    .dataframe tbody tr th:only-of-type {\n",
       "        vertical-align: middle;\n",
       "    }\n",
       "\n",
       "    .dataframe tbody tr th {\n",
       "        vertical-align: top;\n",
       "    }\n",
       "\n",
       "    .dataframe thead th {\n",
       "        text-align: right;\n",
       "    }\n",
       "</style>\n",
       "<table border=\"1\" class=\"dataframe\">\n",
       "  <thead>\n",
       "    <tr style=\"text-align: right;\">\n",
       "      <th></th>\n",
       "      <th>text</th>\n",
       "      <th>toxic</th>\n",
       "    </tr>\n",
       "  </thead>\n",
       "  <tbody>\n",
       "    <tr>\n",
       "      <th>0</th>\n",
       "      <td>explanation why the edits make under my userna...</td>\n",
       "      <td>0</td>\n",
       "    </tr>\n",
       "    <tr>\n",
       "      <th>1</th>\n",
       "      <td>d aww he match this background colour i m seem...</td>\n",
       "      <td>0</td>\n",
       "    </tr>\n",
       "    <tr>\n",
       "      <th>2</th>\n",
       "      <td>hey man i m really not try to edit war it s ju...</td>\n",
       "      <td>0</td>\n",
       "    </tr>\n",
       "    <tr>\n",
       "      <th>3</th>\n",
       "      <td>more i can t make any real suggestion on impro...</td>\n",
       "      <td>0</td>\n",
       "    </tr>\n",
       "    <tr>\n",
       "      <th>4</th>\n",
       "      <td>you sir be my hero any chance you remember wha...</td>\n",
       "      <td>0</td>\n",
       "    </tr>\n",
       "  </tbody>\n",
       "</table>\n",
       "</div>"
      ],
      "text/plain": [
       "                                                text  toxic\n",
       "0  explanation why the edits make under my userna...      0\n",
       "1  d aww he match this background colour i m seem...      0\n",
       "2  hey man i m really not try to edit war it s ju...      0\n",
       "3  more i can t make any real suggestion on impro...      0\n",
       "4  you sir be my hero any chance you remember wha...      0"
      ]
     },
     "execution_count": 12,
     "metadata": {},
     "output_type": "execute_result"
    }
   ],
   "source": [
    "# оценим результат\n",
    "df.head()"
   ]
  },
  {
   "cell_type": "markdown",
   "metadata": {},
   "source": [
    "### Преобразование слов в векторные представления и визуализация данных\n",
    "\n",
    "Преобразовать слова в векторы позволит модель «мешок слов» (англ. bag of words). Она преобразует текст в вектор, не учитывая порядок слов."
   ]
  },
  {
   "cell_type": "code",
   "execution_count": 13,
   "metadata": {},
   "outputs": [
    {
     "data": {
      "image/png": "[encoded data removed]",
      "text/plain": [
       "<Figure size 720x432 with 1 Axes>"
      ]
     },
     "metadata": {
      "needs_background": "light"
     },
     "output_type": "display_data"
    },
    {
     "data": {
      "image/png": "[encoded data removed]",
      "text/plain": [
       "<Figure size 720x432 with 1 Axes>"
      ]
     },
     "metadata": {
      "needs_background": "light"
     },
     "output_type": "display_data"
    }
   ],
   "source": [
    "# фильтр данных по условиям токсичные / нетоксичные\n",
    "toxic_lemm = df[df['toxic'] == 1]\n",
    "nontoxic_lemm = df[df['toxic'] == 0]\n",
    "\n",
    "# загрузка набора стоп-слов из библиотеки nltk\n",
    "stop_words = list(nltk_stopwords.words('english'))\n",
    "\n",
    "# визуализация классов\n",
    "def visualize_top_words(class_df, title):\n",
    "    # создание мешка слов\n",
    "    corpus = list(class_df['text'])\n",
    "    count_vect = CountVectorizer(max_features=20, stop_words=stop_words)\n",
    "    bow = count_vect.fit_transform(corpus)\n",
    "\n",
    "    # преобразование матрицы «мешок слов» в датафрейм\n",
    "    feature_names = count_vect.get_feature_names_out()\n",
    "    word_freq = bow.sum(axis=0).A1\n",
    "    word_freq_df = pd.DataFrame({'Слово': feature_names, 'Частота': word_freq})\n",
    "\n",
    "    # соритировка датафрейма по убыванию частоты встречаемости слов\n",
    "    word_freq_df = word_freq_df.sort_values(by='Частота', ascending=False)\n",
    "\n",
    "    # диаграммы топ 20 слов\n",
    "    plt.figure(figsize=(10, 6))\n",
    "    sns.barplot(x='Частота', y='Слово', data=word_freq_df.head(20), palette='viridis')\n",
    "    plt.title(f'Топ 20 слов для класса {title}')\n",
    "    plt.xlabel('Частота')\n",
    "    plt.ylabel('Слово')\n",
    "    plt.show()\n",
    "\n",
    "# визуализация слов класса токсичные\n",
    "visualize_top_words(toxic_lemm, 'токсичные')\n",
    "# визуализация слов класса нетоксичные\n",
    "visualize_top_words(nontoxic_lemm, 'нетоксичные')"
   ]
  },
  {
   "cell_type": "markdown",
   "metadata": {},
   "source": [
    "**Вывод:**\n",
    "- Согласно графикам предобработка текста прошла корректно. \n",
    "- Визуальная оценка позволяет говорить, что слова в мешке слов соответствуют представленным классам."
   ]
  },
  {
   "cell_type": "markdown",
   "metadata": {},
   "source": [
    "## Обучение моделей"
   ]
  },
  {
   "cell_type": "markdown",
   "metadata": {},
   "source": [
    "Цель данного проекта — построить модель классификации текста для выявления токсичных и нетоксичных комментариев пользователей. Для этого выполним следующие шаги:\n",
    "1. Преобразуем текстовые данные с помощью `TF-IDF` (частота термина, обратная частоте документа).\n",
    "2. Протестируем две модели: `Support Vector Machines (SVM)` и `Logistic Regression`.\n",
    "3. Для каждой подберём гиперпараметры, используя `RandomizedSearchCV` для поиска лучших гиперпараметров.\n",
    "4. Оценим качество моделей метрикой `F1`, которая особенно полезна в случаях дисбаланса между классами, поскольку учитываются как ложноположительные, так и ложноотрицательные результаты. Более высокое значение указывает на лучшую производительность. Сбалансированный показатель F1 предполагает хороший компромисс между точностью и полнотой."
   ]
  },
  {
   "cell_type": "code",
   "execution_count": 14,
   "metadata": {},
   "outputs": [],
   "source": [
    "# разделяем датасет на выборки с учётом дисбаланса классов\n",
    "X_train, X_test, y_train, y_test = train_test_split(\n",
    "    df['text'], \n",
    "    df['toxic'], \n",
    "    test_size=0.2, \n",
    "    stratify=df['toxic'], \n",
    "    random_state=42\n",
    ")"
   ]
  },
  {
   "cell_type": "code",
   "execution_count": 15,
   "metadata": {},
   "outputs": [],
   "source": [
    "# опускаем предупреждения\n",
    "warnings.filterwarnings('ignore')"
   ]
  },
  {
   "cell_type": "code",
   "execution_count": null,
   "metadata": {},
   "outputs": [
    {
     "name": "stdout",
     "output_type": "stream",
     "text": [
      "Fitting 5 folds for each of 2 candidates, totalling 10 fits\n"
     ]
    }
   ],
   "source": [
    "%%time\n",
    "# pipeline\n",
    "pipeline_svm = Pipeline([\n",
    "    ('tfidf', TfidfVectorizer(max_features=5000)),\n",
    "    ('svm', SVC())\n",
    "])\n",
    "\n",
    "# параметры для SVM\n",
    "param_dist_svm = {\n",
    "    'svm__C': [1],\n",
    "    'svm__kernel': ['linear', 'rbf'],\n",
    "    'svm__gamma': ['scale'],\n",
    "    'svm__degree': [2],\n",
    "}\n",
    "\n",
    "# рандомизированный поиск лучшей модели и гиперпараметров\n",
    "random_search_svm = RandomizedSearchCV(\n",
    "    pipeline_svm,\n",
    "    param_distributions=param_dist_svm,\n",
    "    scoring='f1',\n",
    "    n_iter=5,\n",
    "    cv=5,\n",
    "    n_jobs=-1,\n",
    "    verbose=3,\n",
    "    random_state=42\n",
    ")\n",
    "\n",
    "# обучаем модель\n",
    "random_search_svm.fit(X_train, y_train)"
   ]
  },
  {
   "cell_type": "code",
   "execution_count": null,
   "metadata": {},
   "outputs": [],
   "source": [
    "# оценка SVM на обучающем наборе\n",
    "train_score_svm = random_search_svm.score(X_train, y_train)\n",
    "print(\"Оценка F1 на обучающей выборке:\", train_score_svm)\n",
    "print(\"Лучшие параметры:\", random_search_svm.best_params_)"
   ]
  },
  {
   "cell_type": "markdown",
   "metadata": {},
   "source": [
    "**Вывод:**\n",
    "- Лучшая производительность **SVM** достигнута при параметрах: {'kernel': 'linear', 'gamma': 'scale', 'degree': 2, 'C': 1}. \n",
    "- Оценка **F1** на обучающей выборке составляет 0.80, что в целом удовлетворяет требования к качеству модели. \n",
    "- Вместе с тем, модель довольно затратна в плане временных ресурсов.\n",
    "\n",
    "Далее оценим возможности **Logistic Regression**."
   ]
  },
  {
   "cell_type": "code",
   "execution_count": null,
   "metadata": {},
   "outputs": [],
   "source": [
    "%%time\n",
    "# pipeline\n",
    "pipeline_logreg = Pipeline([\n",
    "    ('tfidf', TfidfVectorizer(max_features=5000)),\n",
    "    ('logreg', LogisticRegression())\n",
    "])\n",
    "\n",
    "# параметры для Logistic Regression\n",
    "param_dist_logreg = {\n",
    "    'logreg__C': [1, 6, 10],\n",
    "    'logreg__penalty': ['l1', 'l2'],\n",
    "    'logreg__solver': ['liblinear', 'saga']\n",
    "}\n",
    "\n",
    "# рандомизированный поиск лучшей модели и гиперпараметров\n",
    "random_search_logreg = RandomizedSearchCV(\n",
    "    pipeline_logreg,\n",
    "    param_distributions=param_dist_logreg,\n",
    "    scoring='f1',\n",
    "    n_iter=5,\n",
    "    cv=5,\n",
    "    n_jobs=-1,\n",
    "    verbose=3,\n",
    "    random_state=42\n",
    ")\n",
    "\n",
    "# обучаем модель\n",
    "random_search_logreg.fit(X_train, y_train)"
   ]
  },
  {
   "cell_type": "code",
   "execution_count": null,
   "metadata": {},
   "outputs": [],
   "source": [
    "# оценка Logistic Regression на обучающем наборе\n",
    "train_score_logreg = random_search_logreg.score(X_train, y_train)\n",
    "print(\"Оценка F1 на обучающей выборке:\", train_score_logreg)\n",
    "print(\"Лучшие параметры:\", random_search_logreg.best_params_)"
   ]
  },
  {
   "cell_type": "markdown",
   "metadata": {},
   "source": [
    "**Вывод:**\n",
    "- Лучшая производительность **Logistic Regression** достигнута при параметрах: {'solver': 'saga', 'penalty': 'l1', 'C': 6}.\n",
    "- Оценка **F1** на обучающей выборке составляет 0.83, что указывает на то, что логистическия регрессия справилась лучше. При этом, обучение модели заняло значительно меньше времени по сравнению с предыдущей.\n",
    "- Таким образом, логистическая регрессия при текущих гиперпараметрах убедительно представляет свою эффективность в задачах бинарной классификации текстов.\n",
    "\n",
    "Далее, оценим работу лучшей модели на тестовой выборке."
   ]
  },
  {
   "cell_type": "code",
   "execution_count": null,
   "metadata": {},
   "outputs": [],
   "source": [
    "# тестирование лучшей модели\n",
    "best_model = random_search_logreg.best_estimator_\n",
    "\n",
    "# получение предсказаний\n",
    "y_pred = best_model.predict(X_test)\n",
    "\n",
    "# оценка F1 на тестовой выборке\n",
    "f1_test = f1_score(y_test, y_pred)\n",
    "print(\"Оценка F1 на тестовой выборке:\", f1_test)"
   ]
  },
  {
   "cell_type": "code",
   "execution_count": null,
   "metadata": {},
   "outputs": [],
   "source": [
    "# рассмотрим подробные показатели классификации\n",
    "print(\"Показатели производительности модели:\\n\", classification_report(y_test, y_pred))"
   ]
  },
  {
   "cell_type": "markdown",
   "metadata": {},
   "source": [
    "**Вывод:**\n",
    "- Оценка **F1** на тестовой выборке составляет 0.79. При этом, отчёт классификации отражает следующие характеристики:\n",
    "- **Precision**: точность для класса 0 (нетоксичный) высокая (0.97). Это означает, что, когда модель прогнозирует комментарий как нетоксичный, это верно в 97 % случаев. Точность для класса 1 (токсичный) чуть ниже (0.87), что позволяет предположить, что когда модель предсказывает комментарий как токсичный, это верно в 87 % случаев.\n",
    "- **Recall**: чувствительность модели для класса 0 высока (0.99), показатель указывает на то, что модель фиксирует 99 % реальных нетоксичных комментариев. Однако для класса 1 этот показатель значительно ниже (0.72), значит модели сложнее правильно идентифицировать токсичные комментарии.\n",
    "- Оценка **F1** для класса 1 составляет 0.79, что отражает компромисс между *precision* и *recall*.\n",
    "- **Accuracy**: общая точность составляет 96 %, что означает, что модель правильно предсказывает целевую переменную в 96 % случаев."
   ]
  },
  {
   "cell_type": "markdown",
   "metadata": {},
   "source": [
    "## Итоговый вывод"
   ]
  },
  {
   "cell_type": "markdown",
   "metadata": {},
   "source": [
    "На данных интернет-магазина был проведён исследовательский анализ с последующей разработкой решения на основе моделирования, которое позволит компании находить токсичные комментарии пользователей и отправлять их на модерацию.\n",
    "\n",
    "Учитывая бизнес-задачи заказчика, предстояло разработать прогнозную модель и обучить её классифицировать комментарии на позитивные и негативные (задача бинарной классификации текстов).\n",
    "\n",
    "Работа включала предварительный этап, исследовательский анализ и предобработку данных, обучение разных моделей с подбором гиперпараметров, анализ моделей и проверку на тестовой выборке.\n",
    "\n",
    "На **предварительном этапе** мы изучили основные сведения о датасете, определили количество и тип данных в таблице, проверили на наличие пропусков и убедились, что все данные отображаются корректно.\n",
    "\n",
    "На этапе **исследовательского анализа и предобработки данных** были построены графики для оценки характера их распределения. Проведена предобработка, которая включала: токенизацию, лемматизацию, очистку от стоп-слов и ненужных символов, добавление маркеров начала и конца предложения, преобразование слов в векторные представления.\n",
    "\n",
    "Этап **разработки модели** включал преобразование текстовых данных с помощью TF-IDF (частота термина, обратная частоте документа), настройку гиперпараметров, обучение модели, оценку её качества с использованием метрики *F1* и получение прогноза.\n",
    "\n",
    "На этапе **анализа моделей** проводилось сопоставление результатов с учётом оценки качества прогноза и гиперпараметров.\n",
    "\n",
    "В контексте поставленной задачи мы рассмотрели возможности следующих алгоритмов:\n",
    "- `Logistic Regression` — часто служит базовой моделью для задач классификации текста, эффективна, когда связь между признаками и таргетом примерно линейна.\n",
    "- `Support Vector Machines (SVM)` — эффективен для пространств большой размерности, что делает его пригодным для текстовых данных. Хорошо работает как для линейных, так и для нелинейных отношений.\n",
    "\n",
    "**Основные результаты:**\n",
    "\n",
    "1. Из двух моделей наиболее эффективной с точки зрения **прогнозных способностей** оказалась модель `Logistic Regression`. Оценка **F1** лучшей модели на **тренировочной** выборке составила *0.83*, на **тестовой** *0.79*. В целом модель работает хорошо, особенно при выявлении нетоксичных комментариев. Тем не менее, есть потенциал для улучшения выявления токсичных комментариев, о чем свидетельствует более низкий показатель *recall* и балл *F1* для класса 1.\n",
    "- `Support Vector Machines (SVM)` также показала довольно убедительные оценки, однако, время обучения при текущих параметрах для указанной модели значительно более затратно по сравнению с моделью логистической регрессии. Оценка **F1** лучшей модели на **тренировочной** выборке составила *0.79*.\n",
    "2. Согласно условиям показатель метрики качества модели F1 должен составлять не меньше 0.75, таким образом обе протестированные модели с запасом удовлетворяют условиям, однако время обучения существенно различается в зависимости от алгорима.\n",
    "3. Таким образом, в данном контексте модель `Logistic Regression` оказалась более эффективной с точки зрения качества прогнозов и скорости обучения. Однако, способности протестированных алгоритмов не ограничевается рамками данного исследования. Обе модели имеют потенциал для улучшения с точки зрения настройки параметров при наличии ресурсных возможностей вычисления."
   ]
  }
 ],
 "metadata": {
  "ExecuteTimeLog": [
   {
    "duration": 6017,
    "start_time": "2024-03-01T00:34:34.256Z"
   },
   {
    "duration": 2875,
    "start_time": "2024-03-01T00:56:27.893Z"
   },
   {
    "duration": 2333,
    "start_time": "2024-03-01T00:56:33.322Z"
   },
   {
    "duration": 2111,
    "start_time": "2024-03-01T01:03:35.960Z"
   },
   {
    "duration": 2067,
    "start_time": "2024-03-01T01:05:08.461Z"
   },
   {
    "duration": 2074,
    "start_time": "2024-03-01T01:05:43.563Z"
   },
   {
    "duration": 2923,
    "start_time": "2024-03-01T01:07:10.689Z"
   },
   {
    "duration": 2258,
    "start_time": "2024-03-01T01:07:13.614Z"
   },
   {
    "duration": 2043,
    "start_time": "2024-03-01T01:07:15.874Z"
   },
   {
    "duration": 747,
    "start_time": "2024-03-01T01:08:01.235Z"
   },
   {
    "duration": 6,
    "start_time": "2024-03-01T01:08:13.511Z"
   },
   {
    "duration": 2864,
    "start_time": "2024-03-01T01:16:15.666Z"
   },
   {
    "duration": 2145,
    "start_time": "2024-03-01T01:16:18.532Z"
   },
   {
    "duration": 742,
    "start_time": "2024-03-01T01:16:20.679Z"
   },
   {
    "duration": 9,
    "start_time": "2024-03-01T01:16:21.423Z"
   },
   {
    "duration": 7,
    "start_time": "2024-03-01T01:17:44.702Z"
   },
   {
    "duration": 6,
    "start_time": "2024-03-01T01:19:59.165Z"
   },
   {
    "duration": 766,
    "start_time": "2024-03-01T01:24:50.326Z"
   },
   {
    "duration": 6,
    "start_time": "2024-03-01T01:24:51.093Z"
   },
   {
    "duration": 742,
    "start_time": "2024-03-01T01:29:26.682Z"
   },
   {
    "duration": 6,
    "start_time": "2024-03-01T01:29:28.350Z"
   },
   {
    "duration": 33,
    "start_time": "2024-03-01T01:30:54.893Z"
   },
   {
    "duration": 19,
    "start_time": "2024-03-01T01:31:25.352Z"
   },
   {
    "duration": 7384,
    "start_time": "2024-03-01T15:57:10.152Z"
   },
   {
    "duration": 2983,
    "start_time": "2024-03-01T15:57:17.539Z"
   },
   {
    "duration": 3386,
    "start_time": "2024-03-01T15:57:20.524Z"
   },
   {
    "duration": 10,
    "start_time": "2024-03-01T15:57:23.912Z"
   },
   {
    "duration": 54,
    "start_time": "2024-03-01T15:57:23.924Z"
   },
   {
    "duration": 6,
    "start_time": "2024-03-01T16:23:42.775Z"
   },
   {
    "duration": 22,
    "start_time": "2024-03-01T16:28:01.099Z"
   },
   {
    "duration": 205,
    "start_time": "2024-03-01T16:35:45.639Z"
   },
   {
    "duration": 8,
    "start_time": "2024-03-01T16:37:15.977Z"
   },
   {
    "duration": 87,
    "start_time": "2024-03-01T16:40:16.290Z"
   },
   {
    "duration": 112,
    "start_time": "2024-03-01T16:43:21.669Z"
   },
   {
    "duration": 90,
    "start_time": "2024-03-01T16:43:37.639Z"
   },
   {
    "duration": 167,
    "start_time": "2024-03-01T16:45:12.603Z"
   },
   {
    "duration": 85,
    "start_time": "2024-03-01T16:46:21.758Z"
   },
   {
    "duration": 82,
    "start_time": "2024-03-01T16:50:52.739Z"
   },
   {
    "duration": 105,
    "start_time": "2024-03-01T16:53:18.062Z"
   },
   {
    "duration": 101,
    "start_time": "2024-03-01T16:53:58.678Z"
   },
   {
    "duration": 105,
    "start_time": "2024-03-01T16:56:00.012Z"
   },
   {
    "duration": 108,
    "start_time": "2024-03-01T16:57:26.748Z"
   },
   {
    "duration": 100,
    "start_time": "2024-03-01T16:58:09.636Z"
   },
   {
    "duration": 293,
    "start_time": "2024-03-01T17:33:07.689Z"
   },
   {
    "duration": 3362,
    "start_time": "2024-03-01T17:43:12.170Z"
   },
   {
    "duration": 3040,
    "start_time": "2024-03-01T17:43:15.535Z"
   },
   {
    "duration": 959,
    "start_time": "2024-03-01T17:43:18.577Z"
   },
   {
    "duration": 10,
    "start_time": "2024-03-01T17:43:19.538Z"
   },
   {
    "duration": 41,
    "start_time": "2024-03-01T17:43:19.550Z"
   },
   {
    "duration": 26,
    "start_time": "2024-03-01T17:43:19.593Z"
   },
   {
    "duration": 34,
    "start_time": "2024-03-01T17:43:19.621Z"
   },
   {
    "duration": 120,
    "start_time": "2024-03-01T17:43:19.657Z"
   },
   {
    "duration": 5,
    "start_time": "2024-03-01T17:43:19.779Z"
   },
   {
    "duration": 95825,
    "start_time": "2024-03-01T17:43:19.785Z"
   },
   {
    "duration": 93726,
    "start_time": "2024-03-01T17:45:06.373Z"
   },
   {
    "duration": 8,
    "start_time": "2024-03-01T17:46:47.606Z"
   },
   {
    "duration": 3096,
    "start_time": "2024-03-01T22:07:53.442Z"
   },
   {
    "duration": 2948,
    "start_time": "2024-03-01T22:07:56.540Z"
   },
   {
    "duration": 977,
    "start_time": "2024-03-01T22:07:59.490Z"
   },
   {
    "duration": 13,
    "start_time": "2024-03-01T22:08:00.469Z"
   },
   {
    "duration": 42,
    "start_time": "2024-03-01T22:08:00.491Z"
   },
   {
    "duration": 20,
    "start_time": "2024-03-01T22:08:00.535Z"
   },
   {
    "duration": 62,
    "start_time": "2024-03-01T22:08:00.557Z"
   },
   {
    "duration": 141,
    "start_time": "2024-03-01T22:08:00.621Z"
   },
   {
    "duration": 4,
    "start_time": "2024-03-01T22:08:00.764Z"
   },
   {
    "duration": 92474,
    "start_time": "2024-03-01T22:08:00.771Z"
   },
   {
    "duration": 7,
    "start_time": "2024-03-01T22:09:33.246Z"
   },
   {
    "duration": 109,
    "start_time": "2024-03-01T22:18:24.554Z"
   },
   {
    "duration": 312,
    "start_time": "2024-03-01T22:30:27.194Z"
   },
   {
    "duration": 3092,
    "start_time": "2024-03-01T22:43:22.340Z"
   },
   {
    "duration": 3038,
    "start_time": "2024-03-01T22:43:25.435Z"
   },
   {
    "duration": 959,
    "start_time": "2024-03-01T22:43:28.474Z"
   },
   {
    "duration": 10,
    "start_time": "2024-03-01T22:43:29.434Z"
   },
   {
    "duration": 41,
    "start_time": "2024-03-01T22:43:29.446Z"
   },
   {
    "duration": 5,
    "start_time": "2024-03-01T22:43:29.489Z"
   },
   {
    "duration": 21,
    "start_time": "2024-03-01T22:43:29.496Z"
   },
   {
    "duration": 136,
    "start_time": "2024-03-01T22:43:29.519Z"
   },
   {
    "duration": 3,
    "start_time": "2024-03-01T22:43:29.657Z"
   },
   {
    "duration": 92505,
    "start_time": "2024-03-01T22:43:29.662Z"
   },
   {
    "duration": 7,
    "start_time": "2024-03-01T22:45:02.169Z"
   },
   {
    "duration": 243,
    "start_time": "2024-03-01T22:45:02.178Z"
   },
   {
    "duration": 0,
    "start_time": "2024-03-01T22:45:02.422Z"
   },
   {
    "duration": 3119,
    "start_time": "2024-03-01T22:49:06.174Z"
   },
   {
    "duration": 3050,
    "start_time": "2024-03-01T22:49:09.295Z"
   },
   {
    "duration": 914,
    "start_time": "2024-03-01T22:49:12.347Z"
   },
   {
    "duration": 10,
    "start_time": "2024-03-01T22:49:13.263Z"
   },
   {
    "duration": 40,
    "start_time": "2024-03-01T22:49:13.274Z"
   },
   {
    "duration": 11,
    "start_time": "2024-03-01T22:49:13.316Z"
   },
   {
    "duration": 26,
    "start_time": "2024-03-01T22:49:13.329Z"
   },
   {
    "duration": 129,
    "start_time": "2024-03-01T22:49:13.357Z"
   },
   {
    "duration": 5,
    "start_time": "2024-03-01T22:49:13.491Z"
   },
   {
    "duration": 92773,
    "start_time": "2024-03-01T22:49:13.499Z"
   },
   {
    "duration": 6,
    "start_time": "2024-03-01T22:50:46.275Z"
   },
   {
    "duration": 210,
    "start_time": "2024-03-01T22:50:46.283Z"
   },
   {
    "duration": 0,
    "start_time": "2024-03-01T22:50:46.495Z"
   },
   {
    "duration": 3352,
    "start_time": "2024-03-01T22:52:19.019Z"
   },
   {
    "duration": 3192,
    "start_time": "2024-03-01T22:52:22.373Z"
   },
   {
    "duration": 940,
    "start_time": "2024-03-01T22:52:25.567Z"
   },
   {
    "duration": 10,
    "start_time": "2024-03-01T22:52:26.509Z"
   },
   {
    "duration": 38,
    "start_time": "2024-03-01T22:52:26.521Z"
   },
   {
    "duration": 29,
    "start_time": "2024-03-01T22:52:26.562Z"
   },
   {
    "duration": 23,
    "start_time": "2024-03-01T22:52:26.593Z"
   },
   {
    "duration": 128,
    "start_time": "2024-03-01T22:52:26.618Z"
   },
   {
    "duration": 4,
    "start_time": "2024-03-01T22:52:26.748Z"
   },
   {
    "duration": 94347,
    "start_time": "2024-03-01T22:52:26.755Z"
   },
   {
    "duration": 8,
    "start_time": "2024-03-01T22:54:01.104Z"
   },
   {
    "duration": 257,
    "start_time": "2024-03-01T22:54:01.114Z"
   },
   {
    "duration": 0,
    "start_time": "2024-03-01T22:54:01.373Z"
   },
   {
    "duration": 3174,
    "start_time": "2024-03-01T22:56:14.634Z"
   },
   {
    "duration": 3272,
    "start_time": "2024-03-01T22:56:17.810Z"
   },
   {
    "duration": 948,
    "start_time": "2024-03-01T22:56:21.084Z"
   },
   {
    "duration": 10,
    "start_time": "2024-03-01T22:56:22.034Z"
   },
   {
    "duration": 42,
    "start_time": "2024-03-01T22:56:22.046Z"
   },
   {
    "duration": 4,
    "start_time": "2024-03-01T22:56:22.092Z"
   },
   {
    "duration": 25,
    "start_time": "2024-03-01T22:56:22.098Z"
   },
   {
    "duration": 124,
    "start_time": "2024-03-01T22:56:22.125Z"
   },
   {
    "duration": 4,
    "start_time": "2024-03-01T22:56:22.251Z"
   },
   {
    "duration": 92860,
    "start_time": "2024-03-01T22:56:22.256Z"
   },
   {
    "duration": 8,
    "start_time": "2024-03-01T22:57:55.117Z"
   },
   {
    "duration": 188,
    "start_time": "2024-03-01T22:57:55.127Z"
   },
   {
    "duration": 0,
    "start_time": "2024-03-01T22:57:55.317Z"
   },
   {
    "duration": 602,
    "start_time": "2024-03-01T22:59:13.736Z"
   },
   {
    "duration": 605,
    "start_time": "2024-03-01T22:59:41.843Z"
   },
   {
    "duration": 578,
    "start_time": "2024-03-01T23:00:26.541Z"
   },
   {
    "duration": 5,
    "start_time": "2024-03-01T23:00:45.323Z"
   },
   {
    "duration": 6932,
    "start_time": "2024-03-01T23:01:12.026Z"
   },
   {
    "duration": 3309,
    "start_time": "2024-03-01T23:03:40.116Z"
   },
   {
    "duration": 3202,
    "start_time": "2024-03-01T23:03:43.428Z"
   },
   {
    "duration": 945,
    "start_time": "2024-03-01T23:03:46.631Z"
   },
   {
    "duration": 15,
    "start_time": "2024-03-01T23:03:47.577Z"
   },
   {
    "duration": 36,
    "start_time": "2024-03-01T23:03:47.594Z"
   },
   {
    "duration": 6,
    "start_time": "2024-03-01T23:03:47.632Z"
   },
   {
    "duration": 27,
    "start_time": "2024-03-01T23:03:47.641Z"
   },
   {
    "duration": 140,
    "start_time": "2024-03-01T23:03:47.670Z"
   },
   {
    "duration": 3,
    "start_time": "2024-03-01T23:03:47.812Z"
   },
   {
    "duration": 92703,
    "start_time": "2024-03-01T23:03:47.817Z"
   },
   {
    "duration": 8,
    "start_time": "2024-03-01T23:05:20.522Z"
   },
   {
    "duration": 586,
    "start_time": "2024-03-01T23:05:20.532Z"
   },
   {
    "duration": 6856,
    "start_time": "2024-03-01T23:05:21.120Z"
   },
   {
    "duration": 268,
    "start_time": "2024-03-01T23:50:28.345Z"
   },
   {
    "duration": 7939,
    "start_time": "2024-03-01T23:56:53.674Z"
   },
   {
    "duration": 3123,
    "start_time": "2024-03-01T23:58:36.930Z"
   },
   {
    "duration": 3125,
    "start_time": "2024-03-01T23:58:40.056Z"
   },
   {
    "duration": 932,
    "start_time": "2024-03-01T23:58:43.182Z"
   },
   {
    "duration": 10,
    "start_time": "2024-03-01T23:58:44.116Z"
   },
   {
    "duration": 43,
    "start_time": "2024-03-01T23:58:44.128Z"
   },
   {
    "duration": 9,
    "start_time": "2024-03-01T23:58:44.173Z"
   },
   {
    "duration": 25,
    "start_time": "2024-03-01T23:58:44.184Z"
   },
   {
    "duration": 124,
    "start_time": "2024-03-01T23:58:44.211Z"
   },
   {
    "duration": 4,
    "start_time": "2024-03-01T23:58:44.336Z"
   },
   {
    "duration": 94503,
    "start_time": "2024-03-01T23:58:44.342Z"
   },
   {
    "duration": 10,
    "start_time": "2024-03-02T00:00:18.847Z"
   },
   {
    "duration": 633,
    "start_time": "2024-03-02T00:00:18.860Z"
   },
   {
    "duration": 6877,
    "start_time": "2024-03-02T00:00:19.495Z"
   },
   {
    "duration": 8024,
    "start_time": "2024-03-02T00:00:26.374Z"
   },
   {
    "duration": 7,
    "start_time": "2024-03-02T00:14:36.097Z"
   },
   {
    "duration": 7579,
    "start_time": "2024-03-02T00:14:41.950Z"
   },
   {
    "duration": 7632,
    "start_time": "2024-03-02T00:15:41.336Z"
   },
   {
    "duration": 7752,
    "start_time": "2024-03-02T00:18:31.048Z"
   },
   {
    "duration": 3115,
    "start_time": "2024-03-02T00:21:25.437Z"
   },
   {
    "duration": 3206,
    "start_time": "2024-03-02T00:21:28.555Z"
   },
   {
    "duration": 948,
    "start_time": "2024-03-02T00:21:31.763Z"
   },
   {
    "duration": 11,
    "start_time": "2024-03-02T00:21:32.713Z"
   },
   {
    "duration": 46,
    "start_time": "2024-03-02T00:21:32.726Z"
   },
   {
    "duration": 94,
    "start_time": "2024-03-02T00:21:32.774Z"
   },
   {
    "duration": 91,
    "start_time": "2024-03-02T00:21:32.870Z"
   },
   {
    "duration": 183,
    "start_time": "2024-03-02T00:21:32.963Z"
   },
   {
    "duration": 4,
    "start_time": "2024-03-02T00:21:33.147Z"
   },
   {
    "duration": 90923,
    "start_time": "2024-03-02T00:21:33.152Z"
   },
   {
    "duration": 7,
    "start_time": "2024-03-02T00:23:04.077Z"
   },
   {
    "duration": 7804,
    "start_time": "2024-03-02T00:23:04.091Z"
   },
   {
    "duration": 3192,
    "start_time": "2024-03-02T01:13:42.676Z"
   },
   {
    "duration": 3110,
    "start_time": "2024-03-02T01:13:45.871Z"
   },
   {
    "duration": 943,
    "start_time": "2024-03-02T01:13:48.983Z"
   },
   {
    "duration": 11,
    "start_time": "2024-03-02T01:13:49.927Z"
   },
   {
    "duration": 35,
    "start_time": "2024-03-02T01:13:49.940Z"
   },
   {
    "duration": 18,
    "start_time": "2024-03-02T01:13:49.977Z"
   },
   {
    "duration": 37,
    "start_time": "2024-03-02T01:13:49.997Z"
   },
   {
    "duration": 119,
    "start_time": "2024-03-02T01:13:50.036Z"
   },
   {
    "duration": 4,
    "start_time": "2024-03-02T01:13:50.157Z"
   },
   {
    "duration": 90590,
    "start_time": "2024-03-02T01:13:50.162Z"
   },
   {
    "duration": 7,
    "start_time": "2024-03-02T01:15:20.754Z"
   },
   {
    "duration": 7638,
    "start_time": "2024-03-02T01:15:20.762Z"
   },
   {
    "duration": 68,
    "start_time": "2024-03-02T01:41:28.154Z"
   },
   {
    "duration": 64,
    "start_time": "2024-03-02T01:43:14.533Z"
   },
   {
    "duration": 3,
    "start_time": "2024-03-02T01:44:06.918Z"
   },
   {
    "duration": 6977,
    "start_time": "2024-03-02T01:45:14.802Z"
   },
   {
    "duration": 4,
    "start_time": "2024-03-02T01:45:55.624Z"
   },
   {
    "duration": 4,
    "start_time": "2024-03-02T01:46:23.820Z"
   },
   {
    "duration": 175,
    "start_time": "2024-03-02T01:58:26.052Z"
   },
   {
    "duration": 3097,
    "start_time": "2024-03-02T01:59:25.754Z"
   },
   {
    "duration": 3154,
    "start_time": "2024-03-02T01:59:28.854Z"
   },
   {
    "duration": 952,
    "start_time": "2024-03-02T01:59:32.010Z"
   },
   {
    "duration": 10,
    "start_time": "2024-03-02T01:59:32.964Z"
   },
   {
    "duration": 42,
    "start_time": "2024-03-02T01:59:32.978Z"
   },
   {
    "duration": 7,
    "start_time": "2024-03-02T01:59:33.021Z"
   },
   {
    "duration": 21,
    "start_time": "2024-03-02T01:59:33.030Z"
   },
   {
    "duration": 131,
    "start_time": "2024-03-02T01:59:33.053Z"
   },
   {
    "duration": 6,
    "start_time": "2024-03-02T01:59:33.186Z"
   },
   {
    "duration": 90792,
    "start_time": "2024-03-02T01:59:33.194Z"
   },
   {
    "duration": 8,
    "start_time": "2024-03-02T02:01:03.988Z"
   },
   {
    "duration": 7899,
    "start_time": "2024-03-02T02:01:03.997Z"
   },
   {
    "duration": 79,
    "start_time": "2024-03-02T02:01:11.897Z"
   },
   {
    "duration": 16,
    "start_time": "2024-03-02T02:01:11.979Z"
   },
   {
    "duration": 7008,
    "start_time": "2024-03-02T02:01:11.997Z"
   },
   {
    "duration": 6027,
    "start_time": "2024-03-02T14:25:48.304Z"
   },
   {
    "duration": 2621,
    "start_time": "2024-03-02T14:25:54.333Z"
   },
   {
    "duration": 2088,
    "start_time": "2024-03-02T14:25:56.956Z"
   },
   {
    "duration": 8,
    "start_time": "2024-03-02T14:25:59.045Z"
   },
   {
    "duration": 7,
    "start_time": "2024-03-02T14:27:40.823Z"
   },
   {
    "duration": 22,
    "start_time": "2024-03-02T14:28:17.369Z"
   },
   {
    "duration": 4,
    "start_time": "2024-03-02T14:28:31.917Z"
   },
   {
    "duration": 17,
    "start_time": "2024-03-02T14:28:33.289Z"
   },
   {
    "duration": 91,
    "start_time": "2024-03-02T14:28:38.302Z"
   },
   {
    "duration": 3,
    "start_time": "2024-03-02T14:28:44.166Z"
   },
   {
    "duration": 72643,
    "start_time": "2024-03-02T14:28:45.997Z"
   },
   {
    "duration": 5,
    "start_time": "2024-03-02T14:29:58.642Z"
   },
   {
    "duration": 5982,
    "start_time": "2024-03-02T14:30:19.152Z"
   },
   {
    "duration": 47,
    "start_time": "2024-03-02T14:30:31.760Z"
   },
   {
    "duration": 3,
    "start_time": "2024-03-02T14:30:34.183Z"
   },
   {
    "duration": 5502,
    "start_time": "2024-03-02T14:30:37.988Z"
   },
   {
    "duration": 2,
    "start_time": "2024-03-02T14:30:46.337Z"
   },
   {
    "duration": 2934,
    "start_time": "2024-03-02T14:31:30.293Z"
   },
   {
    "duration": 2493,
    "start_time": "2024-03-02T14:31:33.229Z"
   },
   {
    "duration": 766,
    "start_time": "2024-03-02T14:31:35.724Z"
   },
   {
    "duration": 11,
    "start_time": "2024-03-02T14:31:36.491Z"
   },
   {
    "duration": 27,
    "start_time": "2024-03-02T14:31:36.503Z"
   },
   {
    "duration": 5,
    "start_time": "2024-03-02T14:31:36.532Z"
   },
   {
    "duration": 18,
    "start_time": "2024-03-02T14:31:36.538Z"
   },
   {
    "duration": 101,
    "start_time": "2024-03-02T14:31:36.557Z"
   },
   {
    "duration": 3,
    "start_time": "2024-03-02T14:31:36.660Z"
   },
   {
    "duration": 73673,
    "start_time": "2024-03-02T14:31:36.665Z"
   },
   {
    "duration": 8,
    "start_time": "2024-03-02T14:32:50.340Z"
   },
   {
    "duration": 5839,
    "start_time": "2024-03-02T14:32:50.349Z"
   },
   {
    "duration": 49,
    "start_time": "2024-03-02T14:32:56.190Z"
   },
   {
    "duration": 3,
    "start_time": "2024-03-02T14:32:56.240Z"
   },
   {
    "duration": 5467,
    "start_time": "2024-03-02T14:32:56.244Z"
   },
   {
    "duration": 2,
    "start_time": "2024-03-02T14:33:01.713Z"
   },
   {
    "duration": 3049,
    "start_time": "2024-03-02T16:07:22.429Z"
   },
   {
    "duration": 2545,
    "start_time": "2024-03-02T16:07:25.480Z"
   },
   {
    "duration": 746,
    "start_time": "2024-03-02T16:07:28.027Z"
   },
   {
    "duration": 8,
    "start_time": "2024-03-02T16:07:28.775Z"
   },
   {
    "duration": 37,
    "start_time": "2024-03-02T16:07:28.785Z"
   },
   {
    "duration": 4,
    "start_time": "2024-03-02T16:07:28.823Z"
   },
   {
    "duration": 28,
    "start_time": "2024-03-02T16:07:28.828Z"
   },
   {
    "duration": 109,
    "start_time": "2024-03-02T16:07:28.858Z"
   },
   {
    "duration": 3,
    "start_time": "2024-03-02T16:07:28.969Z"
   },
   {
    "duration": 73728,
    "start_time": "2024-03-02T16:07:28.974Z"
   },
   {
    "duration": 5,
    "start_time": "2024-03-02T16:08:42.704Z"
   },
   {
    "duration": 6077,
    "start_time": "2024-03-02T16:08:42.710Z"
   },
   {
    "duration": 51,
    "start_time": "2024-03-02T16:08:48.789Z"
   },
   {
    "duration": 3,
    "start_time": "2024-03-02T16:08:48.842Z"
   },
   {
    "duration": 5461,
    "start_time": "2024-03-02T16:08:48.846Z"
   },
   {
    "duration": 2,
    "start_time": "2024-03-02T16:08:54.309Z"
   },
   {
    "duration": 2938,
    "start_time": "2024-03-02T16:32:55.141Z"
   },
   {
    "duration": 2574,
    "start_time": "2024-03-02T16:32:58.081Z"
   },
   {
    "duration": 833,
    "start_time": "2024-03-02T16:33:00.656Z"
   },
   {
    "duration": 13,
    "start_time": "2024-03-02T16:33:01.491Z"
   },
   {
    "duration": 52,
    "start_time": "2024-03-02T16:33:01.505Z"
   },
   {
    "duration": 63,
    "start_time": "2024-03-02T16:33:01.559Z"
   },
   {
    "duration": 57,
    "start_time": "2024-03-02T16:33:01.624Z"
   },
   {
    "duration": 174,
    "start_time": "2024-03-02T16:33:01.682Z"
   },
   {
    "duration": 3,
    "start_time": "2024-03-02T16:33:01.858Z"
   },
   {
    "duration": 73788,
    "start_time": "2024-03-02T16:33:01.862Z"
   },
   {
    "duration": 5,
    "start_time": "2024-03-02T16:34:15.652Z"
   },
   {
    "duration": 6054,
    "start_time": "2024-03-02T16:34:15.658Z"
   },
   {
    "duration": 44,
    "start_time": "2024-03-02T16:34:21.714Z"
   },
   {
    "duration": 4,
    "start_time": "2024-03-02T16:34:21.759Z"
   },
   {
    "duration": 5328,
    "start_time": "2024-03-02T16:34:21.764Z"
   },
   {
    "duration": 2,
    "start_time": "2024-03-02T16:34:27.094Z"
   },
   {
    "duration": 225831,
    "start_time": "2024-03-02T16:34:27.101Z"
   },
   {
    "duration": 13,
    "start_time": "2024-03-02T16:38:12.933Z"
   },
   {
    "duration": 164,
    "start_time": "2024-03-02T16:38:12.947Z"
   },
   {
    "duration": 3908,
    "start_time": "2024-03-02T16:42:20.994Z"
   },
   {
    "duration": 13,
    "start_time": "2024-03-02T16:42:49.039Z"
   },
   {
    "duration": 13,
    "start_time": "2024-03-02T16:42:55.379Z"
   },
   {
    "duration": 2834,
    "start_time": "2024-03-02T16:45:10.798Z"
   },
   {
    "duration": 2492,
    "start_time": "2024-03-02T16:45:13.634Z"
   },
   {
    "duration": 754,
    "start_time": "2024-03-02T16:45:16.127Z"
   },
   {
    "duration": 8,
    "start_time": "2024-03-02T16:45:16.883Z"
   },
   {
    "duration": 39,
    "start_time": "2024-03-02T16:45:16.892Z"
   },
   {
    "duration": 34,
    "start_time": "2024-03-02T16:45:16.933Z"
   },
   {
    "duration": 20,
    "start_time": "2024-03-02T16:45:16.968Z"
   },
   {
    "duration": 111,
    "start_time": "2024-03-02T16:45:16.990Z"
   },
   {
    "duration": 4,
    "start_time": "2024-03-02T16:45:17.102Z"
   },
   {
    "duration": 73370,
    "start_time": "2024-03-02T16:45:17.107Z"
   },
   {
    "duration": 6,
    "start_time": "2024-03-02T16:46:30.478Z"
   },
   {
    "duration": 5822,
    "start_time": "2024-03-02T16:46:30.485Z"
   },
   {
    "duration": 44,
    "start_time": "2024-03-02T16:46:36.308Z"
   },
   {
    "duration": 3,
    "start_time": "2024-03-02T16:46:36.353Z"
   },
   {
    "duration": 5299,
    "start_time": "2024-03-02T16:46:36.357Z"
   },
   {
    "duration": 2,
    "start_time": "2024-03-02T16:46:41.657Z"
   },
   {
    "duration": 2914,
    "start_time": "2024-03-02T16:51:07.220Z"
   },
   {
    "duration": 2470,
    "start_time": "2024-03-02T16:51:10.136Z"
   },
   {
    "duration": 741,
    "start_time": "2024-03-02T16:51:12.607Z"
   },
   {
    "duration": 9,
    "start_time": "2024-03-02T16:51:13.349Z"
   },
   {
    "duration": 19,
    "start_time": "2024-03-02T16:51:13.360Z"
   },
   {
    "duration": 3,
    "start_time": "2024-03-02T16:51:13.381Z"
   },
   {
    "duration": 33,
    "start_time": "2024-03-02T16:51:13.385Z"
   },
   {
    "duration": 103,
    "start_time": "2024-03-02T16:51:13.419Z"
   },
   {
    "duration": 3,
    "start_time": "2024-03-02T16:51:13.523Z"
   },
   {
    "duration": 72465,
    "start_time": "2024-03-02T16:51:13.527Z"
   },
   {
    "duration": 9,
    "start_time": "2024-03-02T16:52:25.994Z"
   },
   {
    "duration": 6101,
    "start_time": "2024-03-02T16:52:26.004Z"
   },
   {
    "duration": 45,
    "start_time": "2024-03-02T16:52:32.107Z"
   },
   {
    "duration": 3,
    "start_time": "2024-03-02T16:52:32.154Z"
   },
   {
    "duration": 5361,
    "start_time": "2024-03-02T16:52:32.158Z"
   },
   {
    "duration": 3,
    "start_time": "2024-03-02T16:52:37.521Z"
   },
   {
    "duration": 2907,
    "start_time": "2024-03-02T17:03:49.970Z"
   },
   {
    "duration": 2579,
    "start_time": "2024-03-02T17:03:52.880Z"
   },
   {
    "duration": 765,
    "start_time": "2024-03-02T17:03:55.462Z"
   },
   {
    "duration": 8,
    "start_time": "2024-03-02T17:03:56.229Z"
   },
   {
    "duration": 47,
    "start_time": "2024-03-02T17:03:56.238Z"
   },
   {
    "duration": 4,
    "start_time": "2024-03-02T17:03:56.286Z"
   },
   {
    "duration": 20,
    "start_time": "2024-03-02T17:03:56.291Z"
   },
   {
    "duration": 92,
    "start_time": "2024-03-02T17:03:56.312Z"
   },
   {
    "duration": 3,
    "start_time": "2024-03-02T17:03:56.405Z"
   },
   {
    "duration": 74321,
    "start_time": "2024-03-02T17:03:56.411Z"
   },
   {
    "duration": 6,
    "start_time": "2024-03-02T17:05:10.733Z"
   },
   {
    "duration": 6090,
    "start_time": "2024-03-02T17:05:10.740Z"
   },
   {
    "duration": 45,
    "start_time": "2024-03-02T17:05:16.832Z"
   },
   {
    "duration": 4,
    "start_time": "2024-03-02T17:05:16.878Z"
   },
   {
    "duration": 5434,
    "start_time": "2024-03-02T17:05:16.883Z"
   },
   {
    "duration": 3,
    "start_time": "2024-03-02T17:05:22.319Z"
   },
   {
    "duration": 15457,
    "start_time": "2024-03-02T17:05:22.323Z"
   },
   {
    "duration": 20,
    "start_time": "2024-03-02T17:05:37.781Z"
   },
   {
    "duration": 2957,
    "start_time": "2024-03-02T17:11:18.623Z"
   },
   {
    "duration": 2510,
    "start_time": "2024-03-02T17:11:21.582Z"
   },
   {
    "duration": 756,
    "start_time": "2024-03-02T17:11:24.093Z"
   },
   {
    "duration": 8,
    "start_time": "2024-03-02T17:11:24.850Z"
   },
   {
    "duration": 27,
    "start_time": "2024-03-02T17:11:24.860Z"
   },
   {
    "duration": 6,
    "start_time": "2024-03-02T17:11:24.888Z"
   },
   {
    "duration": 22,
    "start_time": "2024-03-02T17:11:24.896Z"
   },
   {
    "duration": 100,
    "start_time": "2024-03-02T17:11:24.919Z"
   },
   {
    "duration": 3,
    "start_time": "2024-03-02T17:11:25.020Z"
   },
   {
    "duration": 73030,
    "start_time": "2024-03-02T17:11:25.024Z"
   },
   {
    "duration": 5,
    "start_time": "2024-03-02T17:12:38.056Z"
   },
   {
    "duration": 5943,
    "start_time": "2024-03-02T17:12:38.062Z"
   },
   {
    "duration": 46,
    "start_time": "2024-03-02T17:12:44.006Z"
   },
   {
    "duration": 3,
    "start_time": "2024-03-02T17:12:44.055Z"
   },
   {
    "duration": 5555,
    "start_time": "2024-03-02T17:12:44.060Z"
   },
   {
    "duration": 2,
    "start_time": "2024-03-02T17:12:49.616Z"
   },
   {
    "duration": 25494,
    "start_time": "2024-03-02T17:12:49.620Z"
   },
   {
    "duration": 15,
    "start_time": "2024-03-02T17:13:15.116Z"
   },
   {
    "duration": 2895,
    "start_time": "2024-03-02T17:16:02.548Z"
   },
   {
    "duration": 2386,
    "start_time": "2024-03-02T17:16:05.445Z"
   },
   {
    "duration": 747,
    "start_time": "2024-03-02T17:16:07.832Z"
   },
   {
    "duration": 9,
    "start_time": "2024-03-02T17:16:08.581Z"
   },
   {
    "duration": 30,
    "start_time": "2024-03-02T17:16:08.591Z"
   },
   {
    "duration": 4,
    "start_time": "2024-03-02T17:16:08.622Z"
   },
   {
    "duration": 20,
    "start_time": "2024-03-02T17:16:08.627Z"
   },
   {
    "duration": 98,
    "start_time": "2024-03-02T17:16:08.648Z"
   },
   {
    "duration": 3,
    "start_time": "2024-03-02T17:16:08.748Z"
   },
   {
    "duration": 73420,
    "start_time": "2024-03-02T17:16:08.753Z"
   },
   {
    "duration": 6,
    "start_time": "2024-03-02T17:17:22.174Z"
   },
   {
    "duration": 6018,
    "start_time": "2024-03-02T17:17:22.181Z"
   },
   {
    "duration": 46,
    "start_time": "2024-03-02T17:17:28.201Z"
   },
   {
    "duration": 4,
    "start_time": "2024-03-02T17:17:28.248Z"
   },
   {
    "duration": 5416,
    "start_time": "2024-03-02T17:17:28.253Z"
   },
   {
    "duration": 2,
    "start_time": "2024-03-02T17:17:33.671Z"
   },
   {
    "duration": 23967,
    "start_time": "2024-03-02T17:17:33.674Z"
   },
   {
    "duration": 14,
    "start_time": "2024-03-02T17:17:57.642Z"
   },
   {
    "duration": 3011,
    "start_time": "2024-03-02T17:21:17.594Z"
   },
   {
    "duration": 2463,
    "start_time": "2024-03-02T17:21:20.607Z"
   },
   {
    "duration": 772,
    "start_time": "2024-03-02T17:21:23.072Z"
   },
   {
    "duration": 9,
    "start_time": "2024-03-02T17:21:23.846Z"
   },
   {
    "duration": 47,
    "start_time": "2024-03-02T17:21:23.856Z"
   },
   {
    "duration": 3,
    "start_time": "2024-03-02T17:21:23.905Z"
   },
   {
    "duration": 21,
    "start_time": "2024-03-02T17:21:23.909Z"
   },
   {
    "duration": 95,
    "start_time": "2024-03-02T17:21:23.931Z"
   },
   {
    "duration": 3,
    "start_time": "2024-03-02T17:21:24.027Z"
   },
   {
    "duration": 73147,
    "start_time": "2024-03-02T17:21:24.032Z"
   },
   {
    "duration": 6,
    "start_time": "2024-03-02T17:22:37.181Z"
   },
   {
    "duration": 5980,
    "start_time": "2024-03-02T17:22:37.188Z"
   },
   {
    "duration": 54,
    "start_time": "2024-03-02T17:22:43.169Z"
   },
   {
    "duration": 3,
    "start_time": "2024-03-02T17:22:43.224Z"
   },
   {
    "duration": 5437,
    "start_time": "2024-03-02T17:22:43.229Z"
   },
   {
    "duration": 2,
    "start_time": "2024-03-02T17:22:48.667Z"
   },
   {
    "duration": 24479,
    "start_time": "2024-03-02T17:22:48.670Z"
   },
   {
    "duration": 13,
    "start_time": "2024-03-02T17:23:13.150Z"
   },
   {
    "duration": 2883,
    "start_time": "2024-03-02T17:24:02.679Z"
   },
   {
    "duration": 2519,
    "start_time": "2024-03-02T17:24:05.564Z"
   },
   {
    "duration": 738,
    "start_time": "2024-03-02T17:24:08.085Z"
   },
   {
    "duration": 9,
    "start_time": "2024-03-02T17:24:08.825Z"
   },
   {
    "duration": 24,
    "start_time": "2024-03-02T17:24:08.836Z"
   },
   {
    "duration": 4,
    "start_time": "2024-03-02T17:24:08.861Z"
   },
   {
    "duration": 16,
    "start_time": "2024-03-02T17:24:08.866Z"
   },
   {
    "duration": 103,
    "start_time": "2024-03-02T17:24:08.883Z"
   },
   {
    "duration": 2,
    "start_time": "2024-03-02T17:24:08.988Z"
   },
   {
    "duration": 72848,
    "start_time": "2024-03-02T17:24:09.001Z"
   },
   {
    "duration": 5,
    "start_time": "2024-03-02T17:25:21.850Z"
   },
   {
    "duration": 5938,
    "start_time": "2024-03-02T17:25:21.857Z"
   },
   {
    "duration": 49,
    "start_time": "2024-03-02T17:25:27.796Z"
   },
   {
    "duration": 3,
    "start_time": "2024-03-02T17:25:27.846Z"
   },
   {
    "duration": 5360,
    "start_time": "2024-03-02T17:25:27.850Z"
   },
   {
    "duration": 3,
    "start_time": "2024-03-02T17:25:33.211Z"
   },
   {
    "duration": 1634421,
    "start_time": "2024-03-02T17:25:33.216Z"
   },
   {
    "duration": 15,
    "start_time": "2024-03-02T17:52:47.639Z"
   },
   {
    "duration": 9212144,
    "start_time": "2024-03-02T17:52:47.655Z"
   },
   {
    "duration": 75341,
    "start_time": "2024-03-02T20:26:19.802Z"
   },
   {
    "duration": 2887,
    "start_time": "2024-03-02T23:02:19.734Z"
   },
   {
    "duration": 2547,
    "start_time": "2024-03-02T23:02:22.623Z"
   },
   {
    "duration": 749,
    "start_time": "2024-03-02T23:02:25.172Z"
   },
   {
    "duration": 9,
    "start_time": "2024-03-02T23:02:25.923Z"
   },
   {
    "duration": 22,
    "start_time": "2024-03-02T23:02:25.933Z"
   },
   {
    "duration": 18,
    "start_time": "2024-03-02T23:02:25.956Z"
   },
   {
    "duration": 27,
    "start_time": "2024-03-02T23:02:25.976Z"
   },
   {
    "duration": 90,
    "start_time": "2024-03-02T23:02:26.004Z"
   },
   {
    "duration": 7,
    "start_time": "2024-03-02T23:02:26.095Z"
   },
   {
    "duration": 72604,
    "start_time": "2024-03-02T23:02:26.104Z"
   },
   {
    "duration": 6,
    "start_time": "2024-03-02T23:03:38.709Z"
   },
   {
    "duration": 6002,
    "start_time": "2024-03-02T23:03:38.716Z"
   },
   {
    "duration": 47,
    "start_time": "2024-03-02T23:03:44.720Z"
   },
   {
    "duration": 3,
    "start_time": "2024-03-02T23:03:44.768Z"
   },
   {
    "duration": 5508,
    "start_time": "2024-03-02T23:03:44.772Z"
   },
   {
    "duration": 2,
    "start_time": "2024-03-02T23:03:50.282Z"
   },
   {
    "duration": 1625072,
    "start_time": "2024-03-02T23:03:50.286Z"
   },
   {
    "duration": 13,
    "start_time": "2024-03-02T23:30:55.360Z"
   },
   {
    "duration": 2974,
    "start_time": "2024-03-03T00:36:41.938Z"
   },
   {
    "duration": 2497,
    "start_time": "2024-03-03T00:36:44.914Z"
   },
   {
    "duration": 744,
    "start_time": "2024-03-03T00:36:47.413Z"
   },
   {
    "duration": 8,
    "start_time": "2024-03-03T00:36:48.159Z"
   },
   {
    "duration": 25,
    "start_time": "2024-03-03T00:36:48.168Z"
   },
   {
    "duration": 10,
    "start_time": "2024-03-03T00:36:48.194Z"
   },
   {
    "duration": 22,
    "start_time": "2024-03-03T00:36:48.205Z"
   },
   {
    "duration": 90,
    "start_time": "2024-03-03T00:36:48.229Z"
   },
   {
    "duration": 3,
    "start_time": "2024-03-03T00:36:48.320Z"
   },
   {
    "duration": 72766,
    "start_time": "2024-03-03T00:36:48.325Z"
   },
   {
    "duration": 9,
    "start_time": "2024-03-03T00:38:01.092Z"
   },
   {
    "duration": 6079,
    "start_time": "2024-03-03T00:38:01.103Z"
   },
   {
    "duration": 54,
    "start_time": "2024-03-03T00:38:07.183Z"
   },
   {
    "duration": 3,
    "start_time": "2024-03-03T00:38:07.238Z"
   },
   {
    "duration": 5287,
    "start_time": "2024-03-03T00:38:07.243Z"
   },
   {
    "duration": 3,
    "start_time": "2024-03-03T00:38:12.531Z"
   },
   {
    "duration": 2828,
    "start_time": "2024-03-03T00:53:37.729Z"
   },
   {
    "duration": 2533,
    "start_time": "2024-03-03T00:53:40.559Z"
   },
   {
    "duration": 771,
    "start_time": "2024-03-03T00:53:43.093Z"
   },
   {
    "duration": 9,
    "start_time": "2024-03-03T00:53:43.866Z"
   },
   {
    "duration": 32,
    "start_time": "2024-03-03T00:53:43.876Z"
   },
   {
    "duration": 3,
    "start_time": "2024-03-03T00:53:43.910Z"
   },
   {
    "duration": 32,
    "start_time": "2024-03-03T00:53:43.914Z"
   },
   {
    "duration": 94,
    "start_time": "2024-03-03T00:53:43.947Z"
   },
   {
    "duration": 3,
    "start_time": "2024-03-03T00:53:44.042Z"
   },
   {
    "duration": 72644,
    "start_time": "2024-03-03T00:53:44.046Z"
   },
   {
    "duration": 11,
    "start_time": "2024-03-03T00:54:56.692Z"
   },
   {
    "duration": 6020,
    "start_time": "2024-03-03T00:54:56.704Z"
   },
   {
    "duration": 44,
    "start_time": "2024-03-03T00:55:02.726Z"
   },
   {
    "duration": 3,
    "start_time": "2024-03-03T00:55:02.772Z"
   },
   {
    "duration": 5362,
    "start_time": "2024-03-03T00:55:02.776Z"
   },
   {
    "duration": 2,
    "start_time": "2024-03-03T00:55:08.140Z"
   },
   {
    "duration": 1620217,
    "start_time": "2024-03-03T00:55:08.143Z"
   },
   {
    "duration": 13,
    "start_time": "2024-03-03T01:22:08.361Z"
   },
   {
    "duration": 2912,
    "start_time": "2024-03-03T01:33:12.817Z"
   },
   {
    "duration": 2548,
    "start_time": "2024-03-03T01:33:15.731Z"
   },
   {
    "duration": 745,
    "start_time": "2024-03-03T01:33:18.280Z"
   },
   {
    "duration": 10,
    "start_time": "2024-03-03T01:33:19.027Z"
   },
   {
    "duration": 19,
    "start_time": "2024-03-03T01:33:19.038Z"
   },
   {
    "duration": 5,
    "start_time": "2024-03-03T01:33:19.058Z"
   },
   {
    "duration": 37,
    "start_time": "2024-03-03T01:33:19.064Z"
   },
   {
    "duration": 100,
    "start_time": "2024-03-03T01:33:19.102Z"
   },
   {
    "duration": 4,
    "start_time": "2024-03-03T01:33:19.203Z"
   },
   {
    "duration": 72192,
    "start_time": "2024-03-03T01:33:19.209Z"
   },
   {
    "duration": 6,
    "start_time": "2024-03-03T01:34:31.403Z"
   },
   {
    "duration": 5855,
    "start_time": "2024-03-03T01:34:31.411Z"
   },
   {
    "duration": 50,
    "start_time": "2024-03-03T01:34:37.267Z"
   },
   {
    "duration": 3,
    "start_time": "2024-03-03T01:34:37.318Z"
   },
   {
    "duration": 5354,
    "start_time": "2024-03-03T01:34:37.322Z"
   },
   {
    "duration": 2,
    "start_time": "2024-03-03T01:34:42.677Z"
   },
   {
    "duration": 2778,
    "start_time": "2024-03-03T01:35:20.759Z"
   },
   {
    "duration": 2482,
    "start_time": "2024-03-03T01:35:23.539Z"
   },
   {
    "duration": 758,
    "start_time": "2024-03-03T01:35:26.022Z"
   },
   {
    "duration": 7,
    "start_time": "2024-03-03T01:35:26.782Z"
   },
   {
    "duration": 30,
    "start_time": "2024-03-03T01:35:26.791Z"
   },
   {
    "duration": 3,
    "start_time": "2024-03-03T01:35:26.822Z"
   },
   {
    "duration": 34,
    "start_time": "2024-03-03T01:35:26.826Z"
   },
   {
    "duration": 86,
    "start_time": "2024-03-03T01:35:26.862Z"
   },
   {
    "duration": 3,
    "start_time": "2024-03-03T01:35:26.949Z"
   },
   {
    "duration": 72075,
    "start_time": "2024-03-03T01:35:26.954Z"
   },
   {
    "duration": 6,
    "start_time": "2024-03-03T01:36:39.030Z"
   },
   {
    "duration": 6012,
    "start_time": "2024-03-03T01:36:39.037Z"
   },
   {
    "duration": 51,
    "start_time": "2024-03-03T01:36:45.050Z"
   },
   {
    "duration": 3,
    "start_time": "2024-03-03T01:36:45.103Z"
   },
   {
    "duration": 5386,
    "start_time": "2024-03-03T01:36:45.107Z"
   },
   {
    "duration": 7,
    "start_time": "2024-03-03T01:36:50.494Z"
   },
   {
    "duration": 2,
    "start_time": "2024-03-03T01:36:50.503Z"
   },
   {
    "duration": 8,
    "start_time": "2024-03-03T01:36:50.507Z"
   },
   {
    "duration": 2850,
    "start_time": "2024-03-03T01:38:49.487Z"
   },
   {
    "duration": 2498,
    "start_time": "2024-03-03T01:38:52.339Z"
   },
   {
    "duration": 752,
    "start_time": "2024-03-03T01:38:54.838Z"
   },
   {
    "duration": 10,
    "start_time": "2024-03-03T01:38:55.592Z"
   },
   {
    "duration": 29,
    "start_time": "2024-03-03T01:38:55.603Z"
   },
   {
    "duration": 3,
    "start_time": "2024-03-03T01:38:55.634Z"
   },
   {
    "duration": 17,
    "start_time": "2024-03-03T01:38:55.638Z"
   },
   {
    "duration": 94,
    "start_time": "2024-03-03T01:38:55.656Z"
   },
   {
    "duration": 3,
    "start_time": "2024-03-03T01:38:55.752Z"
   },
   {
    "duration": 72130,
    "start_time": "2024-03-03T01:38:55.757Z"
   },
   {
    "duration": 6,
    "start_time": "2024-03-03T01:40:07.889Z"
   },
   {
    "duration": 5902,
    "start_time": "2024-03-03T01:40:07.902Z"
   },
   {
    "duration": 44,
    "start_time": "2024-03-03T01:40:13.805Z"
   },
   {
    "duration": 3,
    "start_time": "2024-03-03T01:40:13.851Z"
   },
   {
    "duration": 5441,
    "start_time": "2024-03-03T01:40:13.855Z"
   },
   {
    "duration": 3,
    "start_time": "2024-03-03T01:40:19.298Z"
   },
   {
    "duration": 17,
    "start_time": "2024-03-03T01:40:19.303Z"
   },
   {
    "duration": 15,
    "start_time": "2024-03-03T01:40:19.322Z"
   },
   {
    "duration": 5,
    "start_time": "2024-03-03T01:40:19.339Z"
   },
   {
    "duration": 10,
    "start_time": "2024-03-03T01:40:19.345Z"
   },
   {
    "duration": 1015,
    "start_time": "2024-03-03T01:40:19.356Z"
   },
   {
    "duration": 32,
    "start_time": "2024-03-03T01:40:20.373Z"
   },
   {
    "duration": 2846,
    "start_time": "2024-03-03T01:45:46.176Z"
   },
   {
    "duration": 2468,
    "start_time": "2024-03-03T01:45:49.024Z"
   },
   {
    "duration": 756,
    "start_time": "2024-03-03T01:45:51.493Z"
   },
   {
    "duration": 8,
    "start_time": "2024-03-03T01:45:52.251Z"
   },
   {
    "duration": 22,
    "start_time": "2024-03-03T01:45:52.261Z"
   },
   {
    "duration": 4,
    "start_time": "2024-03-03T01:45:52.285Z"
   },
   {
    "duration": 19,
    "start_time": "2024-03-03T01:45:52.303Z"
   },
   {
    "duration": 95,
    "start_time": "2024-03-03T01:45:52.324Z"
   },
   {
    "duration": 3,
    "start_time": "2024-03-03T01:45:52.420Z"
   },
   {
    "duration": 73525,
    "start_time": "2024-03-03T01:45:52.425Z"
   },
   {
    "duration": 6,
    "start_time": "2024-03-03T01:47:05.951Z"
   },
   {
    "duration": 6047,
    "start_time": "2024-03-03T01:47:05.958Z"
   },
   {
    "duration": 45,
    "start_time": "2024-03-03T01:47:12.006Z"
   },
   {
    "duration": 3,
    "start_time": "2024-03-03T01:47:12.052Z"
   },
   {
    "duration": 5370,
    "start_time": "2024-03-03T01:47:12.057Z"
   },
   {
    "duration": 2,
    "start_time": "2024-03-03T01:47:17.428Z"
   },
   {
    "duration": 9,
    "start_time": "2024-03-03T01:47:17.432Z"
   },
   {
    "duration": 4,
    "start_time": "2024-03-03T01:47:17.442Z"
   },
   {
    "duration": 2801,
    "start_time": "2024-03-03T02:30:21.555Z"
   },
   {
    "duration": 2571,
    "start_time": "2024-03-03T02:30:24.358Z"
   },
   {
    "duration": 750,
    "start_time": "2024-03-03T02:30:26.930Z"
   },
   {
    "duration": 8,
    "start_time": "2024-03-03T02:30:27.682Z"
   },
   {
    "duration": 27,
    "start_time": "2024-03-03T02:30:27.691Z"
   },
   {
    "duration": 4,
    "start_time": "2024-03-03T02:30:27.720Z"
   },
   {
    "duration": 21,
    "start_time": "2024-03-03T02:30:27.725Z"
   },
   {
    "duration": 108,
    "start_time": "2024-03-03T02:30:27.747Z"
   },
   {
    "duration": 3,
    "start_time": "2024-03-03T02:30:27.857Z"
   },
   {
    "duration": 73239,
    "start_time": "2024-03-03T02:30:27.862Z"
   },
   {
    "duration": 6,
    "start_time": "2024-03-03T02:31:41.102Z"
   },
   {
    "duration": 5899,
    "start_time": "2024-03-03T02:31:41.109Z"
   },
   {
    "duration": 45,
    "start_time": "2024-03-03T02:31:47.010Z"
   },
   {
    "duration": 3,
    "start_time": "2024-03-03T02:31:47.056Z"
   },
   {
    "duration": 5425,
    "start_time": "2024-03-03T02:31:47.061Z"
   },
   {
    "duration": 3,
    "start_time": "2024-03-03T02:31:52.487Z"
   },
   {
    "duration": 2867,
    "start_time": "2024-03-03T02:40:47.036Z"
   },
   {
    "duration": 2660,
    "start_time": "2024-03-03T02:40:49.906Z"
   },
   {
    "duration": 753,
    "start_time": "2024-03-03T02:40:52.568Z"
   },
   {
    "duration": 9,
    "start_time": "2024-03-03T02:40:53.322Z"
   },
   {
    "duration": 29,
    "start_time": "2024-03-03T02:40:53.333Z"
   },
   {
    "duration": 14,
    "start_time": "2024-03-03T02:40:53.363Z"
   },
   {
    "duration": 25,
    "start_time": "2024-03-03T02:40:53.378Z"
   },
   {
    "duration": 99,
    "start_time": "2024-03-03T02:40:53.404Z"
   },
   {
    "duration": 3,
    "start_time": "2024-03-03T02:40:53.505Z"
   },
   {
    "duration": 73186,
    "start_time": "2024-03-03T02:40:53.509Z"
   },
   {
    "duration": 7,
    "start_time": "2024-03-03T02:42:06.697Z"
   },
   {
    "duration": 5835,
    "start_time": "2024-03-03T02:42:06.705Z"
   },
   {
    "duration": 43,
    "start_time": "2024-03-03T02:42:12.542Z"
   },
   {
    "duration": 3,
    "start_time": "2024-03-03T02:42:12.587Z"
   },
   {
    "duration": 5339,
    "start_time": "2024-03-03T02:42:12.602Z"
   },
   {
    "duration": 2,
    "start_time": "2024-03-03T02:42:17.943Z"
   },
   {
    "duration": 8883537,
    "start_time": "2024-03-03T02:42:17.946Z"
   },
   {
    "duration": 297831,
    "start_time": "2024-03-03T05:10:21.484Z"
   },
   {
    "duration": 74541,
    "start_time": "2024-03-03T05:15:19.317Z"
   },
   {
    "duration": 1621321,
    "start_time": "2024-03-03T05:16:33.859Z"
   },
   {
    "duration": 48,
    "start_time": "2024-03-03T05:43:35.184Z"
   },
   {
    "duration": 12,
    "start_time": "2024-03-03T05:43:35.233Z"
   },
   {
    "duration": 38,
    "start_time": "2024-03-03T05:43:35.247Z"
   },
   {
    "duration": 7055,
    "start_time": "2024-03-03T18:58:04.573Z"
   },
   {
    "duration": 3398,
    "start_time": "2024-03-03T18:58:11.631Z"
   },
   {
    "duration": 3225,
    "start_time": "2024-03-03T18:58:15.030Z"
   },
   {
    "duration": 12,
    "start_time": "2024-03-03T18:58:18.257Z"
   },
   {
    "duration": 48,
    "start_time": "2024-03-03T18:58:18.272Z"
   },
   {
    "duration": 29,
    "start_time": "2024-03-03T18:58:18.322Z"
   },
   {
    "duration": 26,
    "start_time": "2024-03-03T18:58:18.353Z"
   },
   {
    "duration": 112,
    "start_time": "2024-03-03T18:58:18.381Z"
   },
   {
    "duration": 3,
    "start_time": "2024-03-03T18:58:18.495Z"
   },
   {
    "duration": 96569,
    "start_time": "2024-03-03T18:58:18.500Z"
   },
   {
    "duration": 7,
    "start_time": "2024-03-03T18:59:55.070Z"
   },
   {
    "duration": 8151,
    "start_time": "2024-03-03T18:59:55.078Z"
   },
   {
    "duration": 76,
    "start_time": "2024-03-03T19:00:03.230Z"
   },
   {
    "duration": 4,
    "start_time": "2024-03-03T19:00:03.308Z"
   },
   {
    "duration": 7456,
    "start_time": "2024-03-03T19:00:03.313Z"
   },
   {
    "duration": 2,
    "start_time": "2024-03-03T19:00:10.771Z"
   },
   {
    "duration": 9869895,
    "start_time": "2024-03-03T19:00:10.775Z"
   },
   {
    "duration": 298022,
    "start_time": "2024-03-03T21:44:40.672Z"
   },
   {
    "duration": 75309,
    "start_time": "2024-03-03T21:49:38.696Z"
   },
   {
    "duration": 74812,
    "start_time": "2024-03-03T21:50:54.007Z"
   },
   {
    "duration": 1629579,
    "start_time": "2024-03-03T21:52:08.821Z"
   },
   {
    "duration": 51,
    "start_time": "2024-03-03T22:19:18.402Z"
   },
   {
    "duration": 29,
    "start_time": "2024-03-03T22:19:18.454Z"
   },
   {
    "duration": 48,
    "start_time": "2024-03-03T22:19:18.485Z"
   },
   {
    "duration": 197,
    "start_time": "2024-03-03T23:21:44.014Z"
   },
   {
    "duration": 192,
    "start_time": "2024-03-03T23:25:53.214Z"
   },
   {
    "duration": 277,
    "start_time": "2024-03-03T23:36:37.688Z"
   },
   {
    "duration": 885,
    "start_time": "2024-03-03T23:36:39.418Z"
   },
   {
    "duration": 8,
    "start_time": "2024-03-03T23:36:40.305Z"
   },
   {
    "duration": 31,
    "start_time": "2024-03-03T23:36:41.217Z"
   },
   {
    "duration": 4,
    "start_time": "2024-03-03T23:36:44.262Z"
   },
   {
    "duration": 19,
    "start_time": "2024-03-03T23:36:48.504Z"
   },
   {
    "duration": 217,
    "start_time": "2024-03-03T23:37:30.918Z"
   },
   {
    "duration": 103,
    "start_time": "2024-03-03T23:37:49.898Z"
   },
   {
    "duration": 4,
    "start_time": "2024-03-03T23:37:57.452Z"
   },
   {
    "duration": 124358,
    "start_time": "2024-03-03T23:38:03.740Z"
   },
   {
    "duration": 8,
    "start_time": "2024-03-03T23:40:17.288Z"
   },
   {
    "duration": 190,
    "start_time": "2024-03-03T23:40:29.439Z"
   },
   {
    "duration": 10,
    "start_time": "2024-03-03T23:40:57.984Z"
   },
   {
    "duration": 190,
    "start_time": "2024-03-03T23:50:41.014Z"
   },
   {
    "duration": 8,
    "start_time": "2024-03-03T23:51:11.604Z"
   },
   {
    "duration": 7,
    "start_time": "2024-03-03T23:51:32.126Z"
   },
   {
    "duration": 910,
    "start_time": "2024-03-03T23:51:34.058Z"
   },
   {
    "duration": 7,
    "start_time": "2024-03-03T23:51:34.972Z"
   },
   {
    "duration": 31,
    "start_time": "2024-03-03T23:51:35.253Z"
   },
   {
    "duration": 5,
    "start_time": "2024-03-03T23:51:38.123Z"
   },
   {
    "duration": 19,
    "start_time": "2024-03-03T23:51:39.054Z"
   },
   {
    "duration": 105,
    "start_time": "2024-03-03T23:51:40.041Z"
   },
   {
    "duration": 5,
    "start_time": "2024-03-03T23:51:43.454Z"
   },
   {
    "duration": 125253,
    "start_time": "2024-03-03T23:51:45.334Z"
   },
   {
    "duration": 8,
    "start_time": "2024-03-03T23:55:05.472Z"
   },
   {
    "duration": 198,
    "start_time": "2024-03-03T23:55:07.351Z"
   },
   {
    "duration": 8,
    "start_time": "2024-03-03T23:55:13.359Z"
   },
   {
    "duration": 201,
    "start_time": "2024-03-03T23:56:47.946Z"
   },
   {
    "duration": 8,
    "start_time": "2024-03-03T23:56:56.329Z"
   },
   {
    "duration": 16,
    "start_time": "2024-03-03T23:58:15.066Z"
   },
   {
    "duration": 175,
    "start_time": "2024-03-03T23:59:06.217Z"
   },
   {
    "duration": 177,
    "start_time": "2024-03-04T00:00:10.802Z"
   },
   {
    "duration": 3317,
    "start_time": "2024-03-04T00:02:30.768Z"
   },
   {
    "duration": 10,
    "start_time": "2024-03-04T00:02:34.088Z"
   },
   {
    "duration": 910,
    "start_time": "2024-03-04T00:02:34.767Z"
   },
   {
    "duration": 8,
    "start_time": "2024-03-04T00:02:36.015Z"
   },
   {
    "duration": 34,
    "start_time": "2024-03-04T00:02:37.199Z"
   },
   {
    "duration": 5,
    "start_time": "2024-03-04T00:02:41.579Z"
   },
   {
    "duration": 21,
    "start_time": "2024-03-04T00:02:42.784Z"
   },
   {
    "duration": 235,
    "start_time": "2024-03-04T00:03:00.864Z"
   },
   {
    "duration": 3107,
    "start_time": "2024-03-04T00:04:06.972Z"
   },
   {
    "duration": 8,
    "start_time": "2024-03-04T00:04:10.082Z"
   },
   {
    "duration": 934,
    "start_time": "2024-03-04T00:04:10.091Z"
   },
   {
    "duration": 8,
    "start_time": "2024-03-04T00:04:11.027Z"
   },
   {
    "duration": 44,
    "start_time": "2024-03-04T00:04:11.036Z"
   },
   {
    "duration": 4,
    "start_time": "2024-03-04T00:04:13.769Z"
   },
   {
    "duration": 224,
    "start_time": "2024-03-04T00:04:14.756Z"
   },
   {
    "duration": 20,
    "start_time": "2024-03-04T00:04:16.234Z"
   },
   {
    "duration": 193,
    "start_time": "2024-03-04T00:04:29.391Z"
   },
   {
    "duration": 22,
    "start_time": "2024-03-04T00:04:30.054Z"
   },
   {
    "duration": 119,
    "start_time": "2024-03-04T00:04:30.910Z"
   },
   {
    "duration": 4,
    "start_time": "2024-03-04T00:04:33.954Z"
   },
   {
    "duration": 123920,
    "start_time": "2024-03-04T00:04:36.754Z"
   },
   {
    "duration": 7,
    "start_time": "2024-03-04T00:06:52.598Z"
   },
   {
    "duration": 205,
    "start_time": "2024-03-04T00:07:01.356Z"
   },
   {
    "duration": 194,
    "start_time": "2024-03-04T00:12:24.867Z"
   },
   {
    "duration": 199,
    "start_time": "2024-03-04T00:20:01.112Z"
   },
   {
    "duration": 3175,
    "start_time": "2024-03-04T00:25:35.676Z"
   },
   {
    "duration": 10,
    "start_time": "2024-03-04T00:25:39.577Z"
   },
   {
    "duration": 988,
    "start_time": "2024-03-04T00:25:42.536Z"
   },
   {
    "duration": 9,
    "start_time": "2024-03-04T00:25:43.526Z"
   },
   {
    "duration": 32,
    "start_time": "2024-03-04T00:25:44.659Z"
   },
   {
    "duration": 36,
    "start_time": "2024-03-04T00:25:57.002Z"
   },
   {
    "duration": 5,
    "start_time": "2024-03-04T00:26:01.593Z"
   },
   {
    "duration": 216,
    "start_time": "2024-03-04T00:26:02.753Z"
   },
   {
    "duration": 22,
    "start_time": "2024-03-04T00:26:04.169Z"
   },
   {
    "duration": 111,
    "start_time": "2024-03-04T00:26:05.330Z"
   },
   {
    "duration": 5,
    "start_time": "2024-03-04T00:26:10.080Z"
   },
   {
    "duration": 124572,
    "start_time": "2024-03-04T00:26:11.400Z"
   },
   {
    "duration": 7,
    "start_time": "2024-03-04T00:28:44.786Z"
   },
   {
    "duration": 188,
    "start_time": "2024-03-04T00:28:46.519Z"
   },
   {
    "duration": 189,
    "start_time": "2024-03-04T00:28:49.007Z"
   },
   {
    "duration": 205,
    "start_time": "2024-03-04T00:28:56.222Z"
   },
   {
    "duration": 189,
    "start_time": "2024-03-04T00:28:57.748Z"
   },
   {
    "duration": 6,
    "start_time": "2024-03-04T00:28:59.583Z"
   },
   {
    "duration": 7543,
    "start_time": "2024-03-04T00:29:41.659Z"
   },
   {
    "duration": 37,
    "start_time": "2024-03-04T00:31:17.646Z"
   },
   {
    "duration": 6,
    "start_time": "2024-03-04T00:32:21.794Z"
   },
   {
    "duration": 917,
    "start_time": "2024-03-04T00:32:24.338Z"
   },
   {
    "duration": 7,
    "start_time": "2024-03-04T00:32:25.257Z"
   },
   {
    "duration": 32,
    "start_time": "2024-03-04T00:32:26.287Z"
   },
   {
    "duration": 5,
    "start_time": "2024-03-04T00:32:31.408Z"
   },
   {
    "duration": 219,
    "start_time": "2024-03-04T00:32:32.588Z"
   },
   {
    "duration": 21,
    "start_time": "2024-03-04T00:32:33.795Z"
   },
   {
    "duration": 102,
    "start_time": "2024-03-04T00:32:34.859Z"
   },
   {
    "duration": 4,
    "start_time": "2024-03-04T00:32:38.159Z"
   },
   {
    "duration": 124858,
    "start_time": "2024-03-04T00:32:39.416Z"
   },
   {
    "duration": 7,
    "start_time": "2024-03-04T00:34:57.194Z"
   },
   {
    "duration": 895,
    "start_time": "2024-03-04T00:34:59.189Z"
   },
   {
    "duration": 9,
    "start_time": "2024-03-04T00:35:00.086Z"
   },
   {
    "duration": 33,
    "start_time": "2024-03-04T00:35:00.481Z"
   },
   {
    "duration": 5,
    "start_time": "2024-03-04T00:35:03.539Z"
   },
   {
    "duration": 221,
    "start_time": "2024-03-04T00:35:04.428Z"
   },
   {
    "duration": 21,
    "start_time": "2024-03-04T00:35:05.174Z"
   },
   {
    "duration": 102,
    "start_time": "2024-03-04T00:35:06.455Z"
   },
   {
    "duration": 4,
    "start_time": "2024-03-04T00:35:10.138Z"
   },
   {
    "duration": 91666,
    "start_time": "2024-03-04T00:35:11.708Z"
   },
   {
    "duration": 7,
    "start_time": "2024-03-04T00:37:16.112Z"
   },
   {
    "duration": 196,
    "start_time": "2024-03-04T00:37:24.395Z"
   },
   {
    "duration": 187,
    "start_time": "2024-03-04T00:37:28.991Z"
   },
   {
    "duration": 31,
    "start_time": "2024-03-04T00:37:34.642Z"
   },
   {
    "duration": 199,
    "start_time": "2024-03-04T00:38:56.968Z"
   },
   {
    "duration": 3302,
    "start_time": "2024-03-04T00:39:05.334Z"
   },
   {
    "duration": 299,
    "start_time": "2024-03-04T00:39:08.639Z"
   },
   {
    "duration": 934,
    "start_time": "2024-03-04T00:39:11.927Z"
   },
   {
    "duration": 9,
    "start_time": "2024-03-04T00:39:13.017Z"
   },
   {
    "duration": 32,
    "start_time": "2024-03-04T00:39:14.932Z"
   },
   {
    "duration": 5,
    "start_time": "2024-03-04T00:39:19.449Z"
   },
   {
    "duration": 221,
    "start_time": "2024-03-04T00:39:20.390Z"
   },
   {
    "duration": 21,
    "start_time": "2024-03-04T00:39:22.249Z"
   },
   {
    "duration": 115,
    "start_time": "2024-03-04T00:39:23.915Z"
   },
   {
    "duration": 5,
    "start_time": "2024-03-04T00:39:29.784Z"
   },
   {
    "duration": 90322,
    "start_time": "2024-03-04T00:39:31.183Z"
   },
   {
    "duration": 6,
    "start_time": "2024-03-04T00:42:15.757Z"
   },
   {
    "duration": 191,
    "start_time": "2024-03-04T00:42:23.055Z"
   },
   {
    "duration": 194,
    "start_time": "2024-03-04T00:42:24.953Z"
   },
   {
    "duration": 3,
    "start_time": "2024-03-04T00:42:26.442Z"
   },
   {
    "duration": 190,
    "start_time": "2024-03-04T00:42:32.249Z"
   },
   {
    "duration": 197,
    "start_time": "2024-03-04T00:42:34.808Z"
   },
   {
    "duration": 32,
    "start_time": "2024-03-04T00:42:36.242Z"
   },
   {
    "duration": 205,
    "start_time": "2024-03-04T00:43:03.972Z"
   },
   {
    "duration": 7492,
    "start_time": "2024-03-04T00:43:06.253Z"
   },
   {
    "duration": 3191,
    "start_time": "2024-03-04T00:46:15.825Z"
   },
   {
    "duration": 3236,
    "start_time": "2024-03-04T00:46:19.018Z"
   },
   {
    "duration": 907,
    "start_time": "2024-03-04T00:46:22.256Z"
   },
   {
    "duration": 14,
    "start_time": "2024-03-04T00:46:23.165Z"
   },
   {
    "duration": 37,
    "start_time": "2024-03-04T00:46:23.181Z"
   },
   {
    "duration": 5,
    "start_time": "2024-03-04T00:46:23.219Z"
   },
   {
    "duration": 249,
    "start_time": "2024-03-04T00:46:23.225Z"
   },
   {
    "duration": 25,
    "start_time": "2024-03-04T00:46:23.476Z"
   },
   {
    "duration": 125,
    "start_time": "2024-03-04T00:46:23.502Z"
   },
   {
    "duration": 4,
    "start_time": "2024-03-04T00:46:23.629Z"
   },
   {
    "duration": 60865,
    "start_time": "2024-03-04T00:46:23.634Z"
   },
   {
    "duration": 7,
    "start_time": "2024-03-04T00:47:24.501Z"
   },
   {
    "duration": 213,
    "start_time": "2024-03-04T00:47:24.509Z"
   },
   {
    "duration": 206,
    "start_time": "2024-03-04T00:47:24.725Z"
   },
   {
    "duration": 216,
    "start_time": "2024-03-04T00:47:24.933Z"
   },
   {
    "duration": 8610,
    "start_time": "2024-03-04T00:47:25.151Z"
   },
   {
    "duration": 61,
    "start_time": "2024-03-04T00:47:33.763Z"
   },
   {
    "duration": 3,
    "start_time": "2024-03-04T00:47:33.826Z"
   },
   {
    "duration": 2081,
    "start_time": "2024-03-04T00:47:33.830Z"
   },
   {
    "duration": 0,
    "start_time": "2024-03-04T00:47:35.912Z"
   },
   {
    "duration": 0,
    "start_time": "2024-03-04T00:47:35.914Z"
   },
   {
    "duration": 0,
    "start_time": "2024-03-04T00:47:35.915Z"
   },
   {
    "duration": 0,
    "start_time": "2024-03-04T00:47:35.916Z"
   },
   {
    "duration": 0,
    "start_time": "2024-03-04T00:47:35.918Z"
   },
   {
    "duration": 1,
    "start_time": "2024-03-04T00:47:35.919Z"
   },
   {
    "duration": 0,
    "start_time": "2024-03-04T00:47:35.921Z"
   },
   {
    "duration": 0,
    "start_time": "2024-03-04T00:47:35.922Z"
   },
   {
    "duration": 0,
    "start_time": "2024-03-04T00:47:35.923Z"
   },
   {
    "duration": 3186,
    "start_time": "2024-03-04T00:49:29.500Z"
   },
   {
    "duration": 3026,
    "start_time": "2024-03-04T00:49:32.689Z"
   },
   {
    "duration": 910,
    "start_time": "2024-03-04T00:49:35.717Z"
   },
   {
    "duration": 10,
    "start_time": "2024-03-04T00:49:36.629Z"
   },
   {
    "duration": 36,
    "start_time": "2024-03-04T00:49:36.640Z"
   },
   {
    "duration": 5,
    "start_time": "2024-03-04T00:49:36.677Z"
   },
   {
    "duration": 237,
    "start_time": "2024-03-04T00:49:36.683Z"
   },
   {
    "duration": 21,
    "start_time": "2024-03-04T00:49:36.922Z"
   },
   {
    "duration": 133,
    "start_time": "2024-03-04T00:49:36.944Z"
   },
   {
    "duration": 4,
    "start_time": "2024-03-04T00:49:37.081Z"
   },
   {
    "duration": 92174,
    "start_time": "2024-03-04T00:49:37.087Z"
   },
   {
    "duration": 11,
    "start_time": "2024-03-04T00:51:09.262Z"
   },
   {
    "duration": 198,
    "start_time": "2024-03-04T00:51:09.275Z"
   },
   {
    "duration": 209,
    "start_time": "2024-03-04T00:51:09.475Z"
   },
   {
    "duration": 211,
    "start_time": "2024-03-04T00:51:09.686Z"
   },
   {
    "duration": 7667,
    "start_time": "2024-03-04T00:51:09.899Z"
   },
   {
    "duration": 61,
    "start_time": "2024-03-04T00:51:17.568Z"
   },
   {
    "duration": 3,
    "start_time": "2024-03-04T00:51:17.630Z"
   },
   {
    "duration": 7002,
    "start_time": "2024-03-04T00:51:17.635Z"
   },
   {
    "duration": 3,
    "start_time": "2024-03-04T00:51:24.638Z"
   },
   {
    "duration": 3167,
    "start_time": "2024-03-04T02:07:16.518Z"
   },
   {
    "duration": 3077,
    "start_time": "2024-03-04T02:07:19.688Z"
   },
   {
    "duration": 938,
    "start_time": "2024-03-04T02:07:22.768Z"
   },
   {
    "duration": 9,
    "start_time": "2024-03-04T02:07:23.708Z"
   },
   {
    "duration": 50,
    "start_time": "2024-03-04T02:07:23.719Z"
   },
   {
    "duration": 5,
    "start_time": "2024-03-04T02:07:23.770Z"
   },
   {
    "duration": 235,
    "start_time": "2024-03-04T02:07:23.776Z"
   },
   {
    "duration": 18,
    "start_time": "2024-03-04T02:07:24.012Z"
   },
   {
    "duration": 146,
    "start_time": "2024-03-04T02:07:24.031Z"
   },
   {
    "duration": 3,
    "start_time": "2024-03-04T02:07:24.179Z"
   },
   {
    "duration": 91253,
    "start_time": "2024-03-04T02:07:24.184Z"
   },
   {
    "duration": 7,
    "start_time": "2024-03-04T02:08:55.439Z"
   },
   {
    "duration": 7792,
    "start_time": "2024-03-04T02:08:55.447Z"
   },
   {
    "duration": 71,
    "start_time": "2024-03-04T02:09:03.243Z"
   },
   {
    "duration": 4,
    "start_time": "2024-03-04T02:09:03.315Z"
   },
   {
    "duration": 7065,
    "start_time": "2024-03-04T02:09:03.321Z"
   },
   {
    "duration": 2,
    "start_time": "2024-03-04T02:09:10.388Z"
   },
   {
    "duration": 10103345,
    "start_time": "2024-03-04T02:09:10.391Z"
   },
   {
    "duration": 307142,
    "start_time": "2024-03-04T04:57:33.738Z"
   },
   {
    "duration": 76782,
    "start_time": "2024-03-04T05:02:40.881Z"
   },
   {
    "duration": 76168,
    "start_time": "2024-03-04T05:03:57.665Z"
   },
   {
    "duration": 1636945,
    "start_time": "2024-03-04T05:05:13.834Z"
   },
   {
    "duration": 63,
    "start_time": "2024-03-04T05:32:30.781Z"
   },
   {
    "duration": 33,
    "start_time": "2024-03-04T05:32:30.847Z"
   },
   {
    "duration": 94,
    "start_time": "2024-03-04T05:32:30.881Z"
   },
   {
    "duration": 6595,
    "start_time": "2024-03-04T17:33:13.531Z"
   },
   {
    "duration": 3288,
    "start_time": "2024-03-04T17:33:20.128Z"
   },
   {
    "duration": 0,
    "start_time": "2024-03-04T17:33:23.420Z"
   },
   {
    "duration": 0,
    "start_time": "2024-03-04T17:33:23.421Z"
   },
   {
    "duration": 0,
    "start_time": "2024-03-04T17:33:23.423Z"
   },
   {
    "duration": 0,
    "start_time": "2024-03-04T17:33:23.424Z"
   },
   {
    "duration": 0,
    "start_time": "2024-03-04T17:33:23.425Z"
   },
   {
    "duration": 0,
    "start_time": "2024-03-04T17:33:23.426Z"
   },
   {
    "duration": 0,
    "start_time": "2024-03-04T17:33:23.427Z"
   },
   {
    "duration": 0,
    "start_time": "2024-03-04T17:33:23.428Z"
   },
   {
    "duration": 0,
    "start_time": "2024-03-04T17:33:23.429Z"
   },
   {
    "duration": 0,
    "start_time": "2024-03-04T17:33:23.430Z"
   },
   {
    "duration": 0,
    "start_time": "2024-03-04T17:33:23.431Z"
   },
   {
    "duration": 0,
    "start_time": "2024-03-04T17:33:23.432Z"
   },
   {
    "duration": 0,
    "start_time": "2024-03-04T17:33:23.433Z"
   },
   {
    "duration": 0,
    "start_time": "2024-03-04T17:33:23.434Z"
   },
   {
    "duration": 0,
    "start_time": "2024-03-04T17:33:23.435Z"
   },
   {
    "duration": 0,
    "start_time": "2024-03-04T17:33:23.436Z"
   },
   {
    "duration": 0,
    "start_time": "2024-03-04T17:33:23.437Z"
   },
   {
    "duration": 0,
    "start_time": "2024-03-04T17:33:23.438Z"
   },
   {
    "duration": 0,
    "start_time": "2024-03-04T17:33:23.439Z"
   },
   {
    "duration": 3031,
    "start_time": "2024-03-04T17:35:21.183Z"
   },
   {
    "duration": 3126,
    "start_time": "2024-03-04T17:35:24.216Z"
   },
   {
    "duration": 3413,
    "start_time": "2024-03-04T17:35:27.343Z"
   },
   {
    "duration": 10,
    "start_time": "2024-03-04T17:35:30.757Z"
   },
   {
    "duration": 53,
    "start_time": "2024-03-04T17:35:30.769Z"
   },
   {
    "duration": 14,
    "start_time": "2024-03-04T17:35:30.824Z"
   },
   {
    "duration": 243,
    "start_time": "2024-03-04T17:35:30.840Z"
   },
   {
    "duration": 20,
    "start_time": "2024-03-04T17:35:31.085Z"
   },
   {
    "duration": 119,
    "start_time": "2024-03-04T17:35:31.107Z"
   },
   {
    "duration": 4,
    "start_time": "2024-03-04T17:35:31.228Z"
   },
   {
    "duration": 743,
    "start_time": "2024-03-04T17:35:31.234Z"
   },
   {
    "duration": 8,
    "start_time": "2024-03-04T17:35:31.978Z"
   },
   {
    "duration": 8293,
    "start_time": "2024-03-04T17:35:31.987Z"
   },
   {
    "duration": 72,
    "start_time": "2024-03-04T17:35:40.282Z"
   },
   {
    "duration": 3,
    "start_time": "2024-03-04T17:35:40.356Z"
   },
   {
    "duration": 7329,
    "start_time": "2024-03-04T17:35:40.361Z"
   },
   {
    "duration": 2,
    "start_time": "2024-03-04T17:35:47.691Z"
   },
   {
    "duration": 121,
    "start_time": "2024-03-04T17:35:47.695Z"
   },
   {
    "duration": 12,
    "start_time": "2024-03-04T17:35:47.818Z"
   },
   {
    "duration": 0,
    "start_time": "2024-03-04T17:35:47.832Z"
   },
   {
    "duration": 0,
    "start_time": "2024-03-04T17:35:47.833Z"
   },
   {
    "duration": 3199,
    "start_time": "2024-03-04T17:37:42.875Z"
   },
   {
    "duration": 3506,
    "start_time": "2024-03-04T17:37:46.077Z"
   },
   {
    "duration": 903,
    "start_time": "2024-03-04T17:37:49.584Z"
   },
   {
    "duration": 11,
    "start_time": "2024-03-04T17:37:50.489Z"
   },
   {
    "duration": 36,
    "start_time": "2024-03-04T17:37:50.502Z"
   },
   {
    "duration": 4,
    "start_time": "2024-03-04T17:37:50.539Z"
   },
   {
    "duration": 237,
    "start_time": "2024-03-04T17:37:50.544Z"
   },
   {
    "duration": 28,
    "start_time": "2024-03-04T17:37:50.782Z"
   },
   {
    "duration": 126,
    "start_time": "2024-03-04T17:37:50.813Z"
   },
   {
    "duration": 4,
    "start_time": "2024-03-04T17:37:50.942Z"
   },
   {
    "duration": 523657,
    "start_time": "2024-03-04T17:37:50.947Z"
   },
   {
    "duration": 7,
    "start_time": "2024-03-04T17:46:34.606Z"
   },
   {
    "duration": 7247,
    "start_time": "2024-03-04T17:46:34.615Z"
   },
   {
    "duration": 72,
    "start_time": "2024-03-04T17:46:41.864Z"
   },
   {
    "duration": 4,
    "start_time": "2024-03-04T17:46:41.937Z"
   },
   {
    "duration": 6454,
    "start_time": "2024-03-04T17:46:41.943Z"
   },
   {
    "duration": 2,
    "start_time": "2024-03-04T17:46:48.399Z"
   },
   {
    "duration": 362,
    "start_time": "2024-03-04T17:46:48.402Z"
   },
   {
    "duration": 12,
    "start_time": "2024-03-04T17:46:48.765Z"
   },
   {
    "duration": 0,
    "start_time": "2024-03-04T17:46:48.778Z"
   },
   {
    "duration": 0,
    "start_time": "2024-03-04T17:46:48.779Z"
   },
   {
    "duration": 6691,
    "start_time": "2024-03-04T20:18:00.003Z"
   },
   {
    "duration": 3395,
    "start_time": "2024-03-04T20:18:06.696Z"
   },
   {
    "duration": 3216,
    "start_time": "2024-03-04T20:18:10.093Z"
   },
   {
    "duration": 9,
    "start_time": "2024-03-04T20:18:13.311Z"
   },
   {
    "duration": 40,
    "start_time": "2024-03-04T20:18:13.321Z"
   },
   {
    "duration": 33,
    "start_time": "2024-03-04T20:18:13.363Z"
   },
   {
    "duration": 220,
    "start_time": "2024-03-04T20:18:13.397Z"
   },
   {
    "duration": 17,
    "start_time": "2024-03-04T20:18:13.619Z"
   },
   {
    "duration": 101,
    "start_time": "2024-03-04T20:18:13.638Z"
   },
   {
    "duration": 4,
    "start_time": "2024-03-04T20:18:13.742Z"
   },
   {
    "duration": 474962,
    "start_time": "2024-03-04T20:18:13.747Z"
   },
   {
    "duration": 6,
    "start_time": "2024-03-04T20:26:08.711Z"
   },
   {
    "duration": 7129,
    "start_time": "2024-03-04T20:26:08.718Z"
   },
   {
    "duration": 69,
    "start_time": "2024-03-04T20:26:15.849Z"
   },
   {
    "duration": 3,
    "start_time": "2024-03-04T20:26:15.919Z"
   },
   {
    "duration": 6548,
    "start_time": "2024-03-04T20:26:15.923Z"
   },
   {
    "duration": 2,
    "start_time": "2024-03-04T20:26:22.473Z"
   },
   {
    "duration": 343,
    "start_time": "2024-03-04T20:26:22.476Z"
   },
   {
    "duration": 11,
    "start_time": "2024-03-04T20:26:22.820Z"
   },
   {
    "duration": 0,
    "start_time": "2024-03-04T20:26:22.833Z"
   },
   {
    "duration": 0,
    "start_time": "2024-03-04T20:26:22.834Z"
   },
   {
    "duration": 3100,
    "start_time": "2024-03-04T20:45:54.784Z"
   },
   {
    "duration": 3190,
    "start_time": "2024-03-04T20:45:57.886Z"
   },
   {
    "duration": 941,
    "start_time": "2024-03-04T20:46:01.077Z"
   },
   {
    "duration": 10,
    "start_time": "2024-03-04T20:46:02.019Z"
   },
   {
    "duration": 50,
    "start_time": "2024-03-04T20:46:02.031Z"
   },
   {
    "duration": 25,
    "start_time": "2024-03-04T20:46:02.082Z"
   },
   {
    "duration": 230,
    "start_time": "2024-03-04T20:46:02.109Z"
   },
   {
    "duration": 18,
    "start_time": "2024-03-04T20:46:02.341Z"
   },
   {
    "duration": 139,
    "start_time": "2024-03-04T20:46:02.361Z"
   },
   {
    "duration": 11,
    "start_time": "2024-03-04T20:46:02.502Z"
   },
   {
    "duration": 2912,
    "start_time": "2024-03-04T20:53:12.530Z"
   },
   {
    "duration": 3080,
    "start_time": "2024-03-04T20:53:15.445Z"
   },
   {
    "duration": 911,
    "start_time": "2024-03-04T20:53:18.527Z"
   },
   {
    "duration": 10,
    "start_time": "2024-03-04T20:53:19.439Z"
   },
   {
    "duration": 32,
    "start_time": "2024-03-04T20:53:19.451Z"
   },
   {
    "duration": 13,
    "start_time": "2024-03-04T20:53:19.494Z"
   },
   {
    "duration": 229,
    "start_time": "2024-03-04T20:53:19.509Z"
   },
   {
    "duration": 16,
    "start_time": "2024-03-04T20:53:19.739Z"
   },
   {
    "duration": 118,
    "start_time": "2024-03-04T20:53:19.756Z"
   },
   {
    "duration": 5,
    "start_time": "2024-03-04T20:53:19.875Z"
   },
   {
    "duration": 512300,
    "start_time": "2024-03-04T20:53:19.881Z"
   },
   {
    "duration": 22,
    "start_time": "2024-03-04T21:01:52.183Z"
   },
   {
    "duration": 7540,
    "start_time": "2024-03-04T21:01:52.207Z"
   },
   {
    "duration": 71,
    "start_time": "2024-03-04T21:01:59.750Z"
   },
   {
    "duration": 4,
    "start_time": "2024-03-04T21:01:59.825Z"
   },
   {
    "duration": 7107,
    "start_time": "2024-03-04T21:01:59.830Z"
   },
   {
    "duration": 2,
    "start_time": "2024-03-04T21:02:06.938Z"
   },
   {
    "duration": 590,
    "start_time": "2024-03-04T21:02:06.942Z"
   },
   {
    "duration": 10,
    "start_time": "2024-03-04T21:02:07.533Z"
   },
   {
    "duration": 0,
    "start_time": "2024-03-04T21:02:07.545Z"
   },
   {
    "duration": 0,
    "start_time": "2024-03-04T21:02:07.546Z"
   },
   {
    "duration": 3176,
    "start_time": "2024-03-04T22:22:01.156Z"
   },
   {
    "duration": 3125,
    "start_time": "2024-03-04T22:22:04.334Z"
   },
   {
    "duration": 960,
    "start_time": "2024-03-04T22:22:07.461Z"
   },
   {
    "duration": 11,
    "start_time": "2024-03-04T22:22:08.423Z"
   },
   {
    "duration": 35,
    "start_time": "2024-03-04T22:22:08.436Z"
   },
   {
    "duration": 11,
    "start_time": "2024-03-04T22:22:08.473Z"
   },
   {
    "duration": 244,
    "start_time": "2024-03-04T22:22:08.486Z"
   },
   {
    "duration": 16,
    "start_time": "2024-03-04T22:22:08.731Z"
   },
   {
    "duration": 128,
    "start_time": "2024-03-04T22:22:08.748Z"
   },
   {
    "duration": 5,
    "start_time": "2024-03-04T22:22:08.877Z"
   },
   {
    "duration": 555163,
    "start_time": "2024-03-04T22:22:08.883Z"
   },
   {
    "duration": 7,
    "start_time": "2024-03-04T22:31:24.047Z"
   },
   {
    "duration": 7707,
    "start_time": "2024-03-04T22:31:24.056Z"
   },
   {
    "duration": 90,
    "start_time": "2024-03-04T22:31:31.765Z"
   },
   {
    "duration": 6973,
    "start_time": "2024-03-04T22:31:31.857Z"
   },
   {
    "duration": 2,
    "start_time": "2024-03-04T22:31:38.832Z"
   },
   {
    "duration": 589,
    "start_time": "2024-03-04T22:31:38.835Z"
   },
   {
    "duration": 15,
    "start_time": "2024-03-04T22:31:39.426Z"
   },
   {
    "duration": 0,
    "start_time": "2024-03-04T22:31:39.443Z"
   },
   {
    "duration": 0,
    "start_time": "2024-03-04T22:31:39.444Z"
   },
   {
    "duration": 72,
    "start_time": "2024-03-04T22:34:18.597Z"
   },
   {
    "duration": 18,
    "start_time": "2024-03-04T22:34:19.372Z"
   },
   {
    "duration": 77,
    "start_time": "2024-03-04T22:47:25.148Z"
   },
   {
    "duration": 7100,
    "start_time": "2024-03-04T22:47:27.291Z"
   },
   {
    "duration": 8,
    "start_time": "2024-03-04T22:47:36.797Z"
   },
   {
    "duration": 438,
    "start_time": "2024-03-04T22:47:37.800Z"
   },
   {
    "duration": 3205,
    "start_time": "2024-03-04T22:48:00.045Z"
   },
   {
    "duration": 3226,
    "start_time": "2024-03-04T22:48:03.253Z"
   },
   {
    "duration": 969,
    "start_time": "2024-03-04T22:48:06.481Z"
   },
   {
    "duration": 12,
    "start_time": "2024-03-04T22:48:07.451Z"
   },
   {
    "duration": 72,
    "start_time": "2024-03-04T22:48:07.466Z"
   },
   {
    "duration": 10,
    "start_time": "2024-03-04T22:48:07.540Z"
   },
   {
    "duration": 231,
    "start_time": "2024-03-04T22:48:07.551Z"
   },
   {
    "duration": 28,
    "start_time": "2024-03-04T22:48:07.783Z"
   },
   {
    "duration": 119,
    "start_time": "2024-03-04T22:48:07.813Z"
   },
   {
    "duration": 5,
    "start_time": "2024-03-04T22:48:07.934Z"
   },
   {
    "duration": 499736,
    "start_time": "2024-03-04T22:48:07.941Z"
   },
   {
    "duration": 9,
    "start_time": "2024-03-04T22:56:27.679Z"
   },
   {
    "duration": 6979,
    "start_time": "2024-03-04T22:56:27.694Z"
   },
   {
    "duration": 68,
    "start_time": "2024-03-04T22:56:34.676Z"
   },
   {
    "duration": 6318,
    "start_time": "2024-03-04T22:56:34.745Z"
   },
   {
    "duration": 3,
    "start_time": "2024-03-04T22:56:41.065Z"
   },
   {
    "duration": 527,
    "start_time": "2024-03-04T22:56:41.070Z"
   },
   {
    "duration": 12,
    "start_time": "2024-03-04T22:56:41.599Z"
   },
   {
    "duration": 0,
    "start_time": "2024-03-04T22:56:41.612Z"
   },
   {
    "duration": 0,
    "start_time": "2024-03-04T22:56:41.614Z"
   },
   {
    "duration": 13,
    "start_time": "2024-03-04T22:59:00.765Z"
   },
   {
    "duration": 6255,
    "start_time": "2024-03-04T22:59:24.467Z"
   },
   {
    "duration": 62,
    "start_time": "2024-03-04T23:03:04.162Z"
   },
   {
    "duration": 5965,
    "start_time": "2024-03-04T23:03:04.960Z"
   },
   {
    "duration": 3,
    "start_time": "2024-03-04T23:03:13.559Z"
   },
   {
    "duration": 123,
    "start_time": "2024-03-04T23:03:14.298Z"
   },
   {
    "duration": 229,
    "start_time": "2024-03-04T23:03:53.856Z"
   },
   {
    "duration": 2880,
    "start_time": "2024-03-04T23:06:10.575Z"
   },
   {
    "duration": 2946,
    "start_time": "2024-03-04T23:06:13.458Z"
   },
   {
    "duration": 830,
    "start_time": "2024-03-04T23:06:16.405Z"
   },
   {
    "duration": 9,
    "start_time": "2024-03-04T23:06:17.236Z"
   },
   {
    "duration": 27,
    "start_time": "2024-03-04T23:06:17.246Z"
   },
   {
    "duration": 32,
    "start_time": "2024-03-04T23:06:17.275Z"
   },
   {
    "duration": 222,
    "start_time": "2024-03-04T23:06:17.308Z"
   },
   {
    "duration": 15,
    "start_time": "2024-03-04T23:06:17.532Z"
   },
   {
    "duration": 117,
    "start_time": "2024-03-04T23:06:17.548Z"
   },
   {
    "duration": 3,
    "start_time": "2024-03-04T23:06:17.667Z"
   },
   {
    "duration": 79161,
    "start_time": "2024-03-04T23:06:17.671Z"
   },
   {
    "duration": 9,
    "start_time": "2024-03-04T23:07:36.834Z"
   },
   {
    "duration": 6694,
    "start_time": "2024-03-04T23:07:36.844Z"
   },
   {
    "duration": 60,
    "start_time": "2024-03-04T23:07:43.540Z"
   },
   {
    "duration": 5992,
    "start_time": "2024-03-04T23:07:43.602Z"
   },
   {
    "duration": 3,
    "start_time": "2024-03-04T23:07:49.595Z"
   },
   {
    "duration": 525,
    "start_time": "2024-03-04T23:07:49.599Z"
   },
   {
    "duration": 10,
    "start_time": "2024-03-04T23:07:50.125Z"
   },
   {
    "duration": 0,
    "start_time": "2024-03-04T23:07:50.136Z"
   },
   {
    "duration": 0,
    "start_time": "2024-03-04T23:07:50.137Z"
   },
   {
    "duration": 2802,
    "start_time": "2024-03-04T23:10:55.205Z"
   },
   {
    "duration": 2847,
    "start_time": "2024-03-04T23:10:58.009Z"
   },
   {
    "duration": 812,
    "start_time": "2024-03-04T23:11:00.857Z"
   },
   {
    "duration": 9,
    "start_time": "2024-03-04T23:11:01.670Z"
   },
   {
    "duration": 82,
    "start_time": "2024-03-04T23:11:01.680Z"
   },
   {
    "duration": 89,
    "start_time": "2024-03-04T23:11:01.763Z"
   },
   {
    "duration": 247,
    "start_time": "2024-03-04T23:11:01.854Z"
   },
   {
    "duration": 16,
    "start_time": "2024-03-04T23:11:02.103Z"
   },
   {
    "duration": 124,
    "start_time": "2024-03-04T23:11:02.120Z"
   },
   {
    "duration": 4,
    "start_time": "2024-03-04T23:11:02.247Z"
   },
   {
    "duration": 469366,
    "start_time": "2024-03-04T23:11:02.252Z"
   },
   {
    "duration": 7,
    "start_time": "2024-03-04T23:18:51.620Z"
   },
   {
    "duration": 6661,
    "start_time": "2024-03-04T23:18:51.628Z"
   },
   {
    "duration": 55,
    "start_time": "2024-03-04T23:18:58.291Z"
   },
   {
    "duration": 6058,
    "start_time": "2024-03-04T23:18:58.347Z"
   },
   {
    "duration": 2,
    "start_time": "2024-03-04T23:19:04.407Z"
   },
   {
    "duration": 1399677,
    "start_time": "2024-03-04T23:19:04.411Z"
   },
   {
    "duration": 46,
    "start_time": "2024-03-04T23:42:24.090Z"
   },
   {
    "duration": 162,
    "start_time": "2024-03-04T23:42:24.138Z"
   },
   {
    "duration": 0,
    "start_time": "2024-03-04T23:42:24.302Z"
   },
   {
    "duration": 10,
    "start_time": "2024-03-04T23:50:21.161Z"
   },
   {
    "duration": 60,
    "start_time": "2024-03-04T23:51:42.879Z"
   },
   {
    "duration": 5925,
    "start_time": "2024-03-04T23:51:44.299Z"
   },
   {
    "duration": 2,
    "start_time": "2024-03-04T23:51:52.174Z"
   },
   {
    "duration": 372,
    "start_time": "2024-03-04T23:51:53.283Z"
   },
   {
    "duration": 129,
    "start_time": "2024-03-04T23:54:22.919Z"
   },
   {
    "duration": 65,
    "start_time": "2024-03-04T23:54:30.488Z"
   },
   {
    "duration": 6088,
    "start_time": "2024-03-04T23:54:31.209Z"
   },
   {
    "duration": 3,
    "start_time": "2024-03-04T23:54:39.196Z"
   },
   {
    "duration": 119,
    "start_time": "2024-03-04T23:54:40.355Z"
   },
   {
    "duration": 2780,
    "start_time": "2024-03-04T23:55:15.863Z"
   },
   {
    "duration": 2890,
    "start_time": "2024-03-04T23:55:18.645Z"
   },
   {
    "duration": 827,
    "start_time": "2024-03-04T23:55:21.536Z"
   },
   {
    "duration": 9,
    "start_time": "2024-03-04T23:55:22.365Z"
   },
   {
    "duration": 41,
    "start_time": "2024-03-04T23:55:22.375Z"
   },
   {
    "duration": 33,
    "start_time": "2024-03-04T23:55:22.418Z"
   },
   {
    "duration": 232,
    "start_time": "2024-03-04T23:55:22.452Z"
   },
   {
    "duration": 16,
    "start_time": "2024-03-04T23:55:22.685Z"
   },
   {
    "duration": 106,
    "start_time": "2024-03-04T23:55:22.702Z"
   },
   {
    "duration": 4,
    "start_time": "2024-03-04T23:55:22.810Z"
   },
   {
    "duration": 473875,
    "start_time": "2024-03-04T23:55:22.815Z"
   },
   {
    "duration": 8,
    "start_time": "2024-03-05T00:03:16.692Z"
   },
   {
    "duration": 6676,
    "start_time": "2024-03-05T00:03:16.701Z"
   },
   {
    "duration": 67,
    "start_time": "2024-03-05T00:03:23.378Z"
   },
   {
    "duration": 6084,
    "start_time": "2024-03-05T00:03:23.447Z"
   },
   {
    "duration": 3,
    "start_time": "2024-03-05T00:03:29.533Z"
   },
   {
    "duration": 281,
    "start_time": "2024-03-05T00:03:29.537Z"
   },
   {
    "duration": 2682,
    "start_time": "2024-03-05T00:21:38.548Z"
   },
   {
    "duration": 2839,
    "start_time": "2024-03-05T00:21:41.232Z"
   },
   {
    "duration": 812,
    "start_time": "2024-03-05T00:21:44.073Z"
   },
   {
    "duration": 9,
    "start_time": "2024-03-05T00:21:44.886Z"
   },
   {
    "duration": 33,
    "start_time": "2024-03-05T00:21:44.896Z"
   },
   {
    "duration": 7,
    "start_time": "2024-03-05T00:21:44.931Z"
   },
   {
    "duration": 210,
    "start_time": "2024-03-05T00:21:44.939Z"
   },
   {
    "duration": 15,
    "start_time": "2024-03-05T00:21:45.150Z"
   },
   {
    "duration": 101,
    "start_time": "2024-03-05T00:21:45.166Z"
   },
   {
    "duration": 4,
    "start_time": "2024-03-05T00:21:45.270Z"
   },
   {
    "duration": 2719,
    "start_time": "2024-03-05T00:23:48.926Z"
   },
   {
    "duration": 2749,
    "start_time": "2024-03-05T00:23:51.647Z"
   },
   {
    "duration": 814,
    "start_time": "2024-03-05T00:23:54.399Z"
   },
   {
    "duration": 9,
    "start_time": "2024-03-05T00:23:55.214Z"
   },
   {
    "duration": 41,
    "start_time": "2024-03-05T00:23:55.225Z"
   },
   {
    "duration": 42,
    "start_time": "2024-03-05T00:23:55.268Z"
   },
   {
    "duration": 201,
    "start_time": "2024-03-05T00:23:55.311Z"
   },
   {
    "duration": 15,
    "start_time": "2024-03-05T00:23:55.514Z"
   },
   {
    "duration": 108,
    "start_time": "2024-03-05T00:23:55.530Z"
   },
   {
    "duration": 6,
    "start_time": "2024-03-05T00:23:55.639Z"
   },
   {
    "duration": 471321,
    "start_time": "2024-03-05T00:23:55.646Z"
   },
   {
    "duration": 6,
    "start_time": "2024-03-05T00:31:46.969Z"
   },
   {
    "duration": 6677,
    "start_time": "2024-03-05T00:31:46.977Z"
   },
   {
    "duration": 58,
    "start_time": "2024-03-05T00:31:53.656Z"
   },
   {
    "duration": 3,
    "start_time": "2024-03-05T00:31:53.715Z"
   },
   {
    "duration": 299,
    "start_time": "2024-03-05T00:31:53.719Z"
   },
   {
    "duration": 11,
    "start_time": "2024-03-05T00:31:54.019Z"
   },
   {
    "duration": 0,
    "start_time": "2024-03-05T00:31:54.031Z"
   },
   {
    "duration": 0,
    "start_time": "2024-03-05T00:31:54.033Z"
   },
   {
    "duration": 191,
    "start_time": "2024-03-05T01:14:44.107Z"
   },
   {
    "duration": 2670,
    "start_time": "2024-03-05T01:16:03.537Z"
   },
   {
    "duration": 2773,
    "start_time": "2024-03-05T01:16:06.209Z"
   },
   {
    "duration": 821,
    "start_time": "2024-03-05T01:16:08.983Z"
   },
   {
    "duration": 10,
    "start_time": "2024-03-05T01:16:09.805Z"
   },
   {
    "duration": 27,
    "start_time": "2024-03-05T01:16:09.817Z"
   },
   {
    "duration": 4,
    "start_time": "2024-03-05T01:16:09.846Z"
   },
   {
    "duration": 224,
    "start_time": "2024-03-05T01:16:09.851Z"
   },
   {
    "duration": 26,
    "start_time": "2024-03-05T01:16:10.076Z"
   },
   {
    "duration": 99,
    "start_time": "2024-03-05T01:16:10.104Z"
   },
   {
    "duration": 4,
    "start_time": "2024-03-05T01:16:10.205Z"
   },
   {
    "duration": 455787,
    "start_time": "2024-03-05T01:16:10.210Z"
   },
   {
    "duration": 7,
    "start_time": "2024-03-05T01:23:45.999Z"
   },
   {
    "duration": 6461,
    "start_time": "2024-03-05T01:23:46.008Z"
   },
   {
    "duration": 63,
    "start_time": "2024-03-05T01:23:52.471Z"
   },
   {
    "duration": 2,
    "start_time": "2024-03-05T01:23:52.536Z"
   },
   {
    "duration": 422,
    "start_time": "2024-03-05T01:23:52.539Z"
   },
   {
    "duration": 9,
    "start_time": "2024-03-05T01:23:52.963Z"
   },
   {
    "duration": 0,
    "start_time": "2024-03-05T01:23:52.973Z"
   },
   {
    "duration": 0,
    "start_time": "2024-03-05T01:23:52.974Z"
   },
   {
    "duration": 150,
    "start_time": "2024-03-05T01:25:01.713Z"
   },
   {
    "duration": 150,
    "start_time": "2024-03-05T01:25:48.809Z"
   },
   {
    "duration": 137,
    "start_time": "2024-03-05T01:26:38.854Z"
   },
   {
    "duration": 3,
    "start_time": "2024-03-05T01:26:54.143Z"
   },
   {
    "duration": 133,
    "start_time": "2024-03-05T01:26:56.230Z"
   },
   {
    "duration": 6526,
    "start_time": "2024-03-05T01:27:29.260Z"
   },
   {
    "duration": 56,
    "start_time": "2024-03-05T01:27:35.788Z"
   },
   {
    "duration": 3,
    "start_time": "2024-03-05T01:27:37.803Z"
   },
   {
    "duration": 137,
    "start_time": "2024-03-05T01:27:38.746Z"
   },
   {
    "duration": 152,
    "start_time": "2024-03-05T01:31:08.914Z"
   },
   {
    "duration": 53,
    "start_time": "2024-03-05T01:31:15.696Z"
   },
   {
    "duration": 2,
    "start_time": "2024-03-05T01:31:16.946Z"
   },
   {
    "duration": 123,
    "start_time": "2024-03-05T01:31:17.810Z"
   },
   {
    "duration": 149,
    "start_time": "2024-03-05T01:37:31.332Z"
   },
   {
    "duration": 2907,
    "start_time": "2024-03-05T02:19:30.583Z"
   },
   {
    "duration": 3223,
    "start_time": "2024-03-05T02:19:33.492Z"
   },
   {
    "duration": 854,
    "start_time": "2024-03-05T02:19:36.716Z"
   },
   {
    "duration": 10,
    "start_time": "2024-03-05T02:19:37.571Z"
   },
   {
    "duration": 37,
    "start_time": "2024-03-05T02:19:37.582Z"
   },
   {
    "duration": 9,
    "start_time": "2024-03-05T02:19:37.621Z"
   },
   {
    "duration": 214,
    "start_time": "2024-03-05T02:19:37.632Z"
   },
   {
    "duration": 19,
    "start_time": "2024-03-05T02:19:37.847Z"
   },
   {
    "duration": 109,
    "start_time": "2024-03-05T02:19:37.867Z"
   },
   {
    "duration": 5,
    "start_time": "2024-03-05T02:19:37.978Z"
   },
   {
    "duration": 2795,
    "start_time": "2024-03-05T02:22:51.256Z"
   },
   {
    "duration": 2286,
    "start_time": "2024-03-05T02:22:54.054Z"
   },
   {
    "duration": 842,
    "start_time": "2024-03-05T02:22:56.342Z"
   },
   {
    "duration": 22,
    "start_time": "2024-03-05T02:22:57.185Z"
   },
   {
    "duration": 27,
    "start_time": "2024-03-05T02:22:57.210Z"
   },
   {
    "duration": 5,
    "start_time": "2024-03-05T02:22:57.239Z"
   },
   {
    "duration": 222,
    "start_time": "2024-03-05T02:22:57.246Z"
   },
   {
    "duration": 14,
    "start_time": "2024-03-05T02:22:57.470Z"
   },
   {
    "duration": 115,
    "start_time": "2024-03-05T02:22:57.493Z"
   },
   {
    "duration": 4,
    "start_time": "2024-03-05T02:22:57.610Z"
   },
   {
    "duration": 492226,
    "start_time": "2024-03-05T02:22:57.616Z"
   },
   {
    "duration": 6,
    "start_time": "2024-03-05T02:31:09.844Z"
   },
   {
    "duration": 6829,
    "start_time": "2024-03-05T02:31:09.852Z"
   },
   {
    "duration": 65,
    "start_time": "2024-03-05T02:31:16.683Z"
   },
   {
    "duration": 3,
    "start_time": "2024-03-05T02:31:16.750Z"
   },
   {
    "duration": 253,
    "start_time": "2024-03-05T02:31:16.754Z"
   },
   {
    "duration": 9,
    "start_time": "2024-03-05T02:31:17.008Z"
   },
   {
    "duration": 0,
    "start_time": "2024-03-05T02:31:17.019Z"
   },
   {
    "duration": 0,
    "start_time": "2024-03-05T02:31:17.020Z"
   },
   {
    "duration": 0,
    "start_time": "2024-03-05T02:31:17.021Z"
   },
   {
    "duration": 0,
    "start_time": "2024-03-05T02:31:17.022Z"
   },
   {
    "duration": 2723,
    "start_time": "2024-03-05T02:44:31.534Z"
   },
   {
    "duration": 2687,
    "start_time": "2024-03-05T02:44:34.259Z"
   },
   {
    "duration": 794,
    "start_time": "2024-03-05T02:44:36.947Z"
   },
   {
    "duration": 9,
    "start_time": "2024-03-05T02:44:37.743Z"
   },
   {
    "duration": 50,
    "start_time": "2024-03-05T02:44:37.753Z"
   },
   {
    "duration": 180,
    "start_time": "2024-03-05T02:44:37.804Z"
   },
   {
    "duration": 217,
    "start_time": "2024-03-05T02:44:37.986Z"
   },
   {
    "duration": 17,
    "start_time": "2024-03-05T02:44:38.204Z"
   },
   {
    "duration": 125,
    "start_time": "2024-03-05T02:44:38.222Z"
   },
   {
    "duration": 4,
    "start_time": "2024-03-05T02:44:38.349Z"
   },
   {
    "duration": 463828,
    "start_time": "2024-03-05T02:44:38.354Z"
   },
   {
    "duration": 6,
    "start_time": "2024-03-05T02:52:22.183Z"
   },
   {
    "duration": 6575,
    "start_time": "2024-03-05T02:52:22.194Z"
   },
   {
    "duration": 64,
    "start_time": "2024-03-05T02:52:28.771Z"
   },
   {
    "duration": 3,
    "start_time": "2024-03-05T02:52:28.836Z"
   },
   {
    "duration": 7235,
    "start_time": "2024-03-05T15:53:08.460Z"
   },
   {
    "duration": 3192,
    "start_time": "2024-03-05T15:53:15.698Z"
   },
   {
    "duration": 2414,
    "start_time": "2024-03-05T15:53:18.893Z"
   },
   {
    "duration": 11,
    "start_time": "2024-03-05T15:53:21.309Z"
   },
   {
    "duration": 65,
    "start_time": "2024-03-05T15:53:21.321Z"
   },
   {
    "duration": 47,
    "start_time": "2024-03-05T15:53:21.388Z"
   },
   {
    "duration": 271,
    "start_time": "2024-03-05T15:53:21.438Z"
   },
   {
    "duration": 22,
    "start_time": "2024-03-05T15:53:21.710Z"
   },
   {
    "duration": 127,
    "start_time": "2024-03-05T15:53:21.734Z"
   },
   {
    "duration": 5,
    "start_time": "2024-03-05T15:53:21.864Z"
   },
   {
    "duration": 568279,
    "start_time": "2024-03-05T15:53:21.870Z"
   },
   {
    "duration": 7,
    "start_time": "2024-03-05T16:02:50.151Z"
   },
   {
    "duration": 7923,
    "start_time": "2024-03-05T16:02:50.160Z"
   },
   {
    "duration": 74,
    "start_time": "2024-03-05T16:02:58.085Z"
   },
   {
    "duration": 3,
    "start_time": "2024-03-05T16:02:58.161Z"
   },
   {
    "duration": 3456,
    "start_time": "2024-03-05T17:03:25.306Z"
   },
   {
    "duration": 2695,
    "start_time": "2024-03-05T17:03:28.765Z"
   },
   {
    "duration": 1205,
    "start_time": "2024-03-05T17:03:31.462Z"
   },
   {
    "duration": 11,
    "start_time": "2024-03-05T17:03:32.669Z"
   },
   {
    "duration": 116,
    "start_time": "2024-03-05T17:03:32.682Z"
   },
   {
    "duration": 54,
    "start_time": "2024-03-05T17:03:32.800Z"
   },
   {
    "duration": 301,
    "start_time": "2024-03-05T17:03:32.856Z"
   },
   {
    "duration": 22,
    "start_time": "2024-03-05T17:03:33.159Z"
   },
   {
    "duration": 162,
    "start_time": "2024-03-05T17:03:33.183Z"
   },
   {
    "duration": 13,
    "start_time": "2024-03-05T17:03:33.347Z"
   },
   {
    "duration": 675592,
    "start_time": "2024-03-05T17:03:33.363Z"
   },
   {
    "duration": 9,
    "start_time": "2024-03-05T17:14:48.957Z"
   },
   {
    "duration": 8748,
    "start_time": "2024-03-05T17:14:48.967Z"
   },
   {
    "duration": 80,
    "start_time": "2024-03-05T17:14:57.724Z"
   },
   {
    "duration": 3,
    "start_time": "2024-03-05T17:14:57.806Z"
   },
   {
    "duration": 17124603,
    "start_time": "2024-03-05T17:14:57.827Z"
   },
   {
    "duration": 610196,
    "start_time": "2024-03-05T22:00:22.432Z"
   },
   {
    "duration": 1778299,
    "start_time": "2024-03-05T22:10:32.629Z"
   },
   {
    "duration": 5725,
    "start_time": "2024-03-05T22:40:10.930Z"
   },
   {
    "duration": 1458,
    "start_time": "2024-03-05T22:40:16.656Z"
   },
   {
    "duration": 44,
    "start_time": "2024-03-05T22:40:18.115Z"
   }
  ],
  "kernelspec": {
   "display_name": "Python 3 (ipykernel)",
   "language": "python",
   "name": "python3"
  },
  "language_info": {
   "codemirror_mode": {
    "name": "ipython",
    "version": 3
   },
   "file_extension": ".py",
   "mimetype": "text/x-python",
   "name": "python",
   "nbconvert_exporter": "python",
   "pygments_lexer": "ipython3",
   "version": "3.9.5"
  },
  "toc": {
   "base_numbering": 1,
   "nav_menu": {},
   "number_sections": true,
   "sideBar": true,
   "skip_h1_title": true,
   "title_cell": "Содержание",
   "title_sidebar": "Contents",
   "toc_cell": true,
   "toc_position": {
    "height": "calc(100% - 180px)",
    "left": "10px",
    "top": "150px",
    "width": "302.391px"
   },
   "toc_section_display": true,
   "toc_window_display": false
  }
 },
 "nbformat": 4,
 "nbformat_minor": 4
}
