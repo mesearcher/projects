{
 "cells": [
  {
   "cell_type": "markdown",
   "id": "b4c2d641-7c13-4b51-b977-93f5916a3ce8",
   "metadata": {},
   "source": [
    "# Predictive Model for Customer Churn"
   ]
  },
  {
   "cell_type": "markdown",
   "id": "d4f57d0e-83ae-46e0-a518-84513bd3ea1e",
   "metadata": {},
   "source": [
    "**Annotation:**\n",
    "\n",
    "The project **aims** to develop a prediction model for predicting customer churn. The following steps will be taken to achieve this:\n",
    "\n",
    "1. Data Pre-processing\n",
    "2. Exploratory Analysis\n",
    "3. Data Preparation for Machine Learning\n",
    "4. Model Selection and Training Algorithm\n",
    "5. Training, Testing, and Model Evaluation\n",
    "\n",
    "Aligned with the client’s business objectives, the project entails creating a binary classification model to help the telecom provider prevent customer churn.\n",
    "\n",
    "**Data Source:**\n",
    "\n",
    "The dataset consists of multiple files obtained from different sources:\n",
    "\n",
    "1. Data detailing contract terms.\n",
    "2. Data pertaining to client personal information.\n",
    "3. Data concerning Internet services.\n",
    "4. Data outlining telephony services.\n",
    "\n",
    "The contract information is accurate as of February 1, 2020."
   ]
  },
  {
   "cell_type": "markdown",
   "id": "4dd18090",
   "metadata": {},
   "source": [
    "# Прогнозная модель для предсказания оттока клиентов"
   ]
  },
  {
   "cell_type": "markdown",
   "id": "24e18b9a",
   "metadata": {},
   "source": [
    "**Аннотация проекта** \n",
    "\n",
    "На данных компании оператора связи проводится исследовательский анализ с последующей разработкой решения на основе моделирования, которое позволит персонализировать пользовательские предложения для предупреждения отказа клиентов от услуг связи.\n",
    "\n",
    "\n",
    "**Цель исследования** — разработать модель, которая предскажет вероятность прекращения клиентом абонентского договора. Для этого будут выполнены следующие шаги:\n",
    "- Загрузка данных и предварительная оценка.\n",
    "- Исследовательский анализ и предобработка данных.\n",
    "- Подготовка данных для машинного обучения.\n",
    "- Выбор модели и алгоритма её обучения.\n",
    "- Обучение, настройка, тестирование и проверка качества моделей. \n",
    "- Прогноз и выводы.\n",
    "- Итоговый отчёт.  \n",
    "\n",
    "Учитывая бизнес-задачи заказчика, предстоит решить задачу бинарной классификации. В частности, разработать прогнозную модель и обучить её классифицировать клиентов по критерию откажется / не откажется пользователь от услуг связи.\n",
    "\n",
    "**Описание данных**\n",
    "\n",
    "Данные состоят из нескольких файлов, полученных из разных источников:\n",
    "1. Данные с информацией об условиях договора.\n",
    "2. Данные с информацией о персональных данных клиента.\n",
    "3. Данные с информацией об интернет-услугах.\n",
    "4. Данные с информацией об услугах телефонии.\n",
    "\n",
    "Информация о договорах актуальна на 1 февраля 2020 года."
   ]
  },
  {
   "cell_type": "code",
   "execution_count": 1,
   "id": "52a07a95",
   "metadata": {},
   "outputs": [
    {
     "name": "stderr",
     "output_type": "stream",
     "text": [
      "\n",
      "[notice] A new release of pip is available: 23.2.1 -> 24.0\n",
      "[notice] To update, run: python.exe -m pip install --upgrade pip\n"
     ]
    }
   ],
   "source": [
    "! pip install --upgrade scikit-learn -q"
   ]
  },
  {
   "cell_type": "code",
   "execution_count": 2,
   "id": "40b39147",
   "metadata": {},
   "outputs": [
    {
     "name": "stderr",
     "output_type": "stream",
     "text": [
      "\n",
      "[notice] A new release of pip is available: 23.2.1 -> 24.0\n",
      "[notice] To update, run: python.exe -m pip install --upgrade pip\n"
     ]
    }
   ],
   "source": [
    "! pip install phik -q"
   ]
  },
  {
   "cell_type": "code",
   "execution_count": 3,
   "id": "74b766f8",
   "metadata": {},
   "outputs": [
    {
     "name": "stderr",
     "output_type": "stream",
     "text": [
      "\n",
      "[notice] A new release of pip is available: 23.2.1 -> 24.0\n",
      "[notice] To update, run: python.exe -m pip install --upgrade pip\n"
     ]
    }
   ],
   "source": [
    "! pip install shap -q"
   ]
  },
  {
   "cell_type": "code",
   "execution_count": 4,
   "id": "07abe900-b701-4f0d-8dd3-024c6e6cdd4f",
   "metadata": {},
   "outputs": [
    {
     "name": "stderr",
     "output_type": "stream",
     "text": [
      "\n",
      "[notice] A new release of pip is available: 23.2.1 -> 24.0\n",
      "[notice] To update, run: python.exe -m pip install --upgrade pip\n"
     ]
    }
   ],
   "source": [
    "! pip install --upgrade shap -q"
   ]
  },
  {
   "cell_type": "code",
   "execution_count": 5,
   "id": "dcc63f4e",
   "metadata": {},
   "outputs": [],
   "source": [
    "# импорт библиотек, модулей и функций\n",
    "import sklearn\n",
    "import pandas as pd\n",
    "import numpy as np\n",
    "import matplotlib.pyplot as plt\n",
    "import seaborn as sns\n",
    "import shap\n",
    "import re, time\n",
    "import warnings\n",
    "\n",
    "# функция для расчёта матрицы корреляции\n",
    "from phik import phik_matrix\n",
    "\n",
    "# инструменты для пайплайна и преобразования данных\n",
    "from sklearn.pipeline import Pipeline\n",
    "from sklearn.compose import ColumnTransformer\n",
    "from sklearn.preprocessing import OneHotEncoder\n",
    "\n",
    "# функции для разделения датасета на выборки и автоподбора гиперпараметров\n",
    "from sklearn.model_selection import train_test_split, RandomizedSearchCV\n",
    "\n",
    "# классы для моделей машинного обучения\n",
    "from catboost import CatBoostClassifier, Pool\n",
    "from lightgbm import LGBMClassifier\n",
    "import xgboost as xgb\n",
    "\n",
    "# инструменты для расчёта метрик\n",
    "from sklearn.metrics import (\n",
    "    roc_auc_score, \n",
    "    confusion_matrix,\n",
    "    classification_report,\n",
    "    accuracy_score, \n",
    "    precision_score, \n",
    "    recall_score\n",
    ")"
   ]
  },
  {
   "cell_type": "code",
   "execution_count": 6,
   "id": "902752dc",
   "metadata": {},
   "outputs": [],
   "source": [
    "# установим настройки для отображения всех столбцов датафрейма\n",
    "pd.set_option('display.max_columns', None)"
   ]
  },
  {
   "cell_type": "markdown",
   "id": "0317dd12",
   "metadata": {},
   "source": [
    "### Загрузка данных"
   ]
  },
  {
   "cell_type": "markdown",
   "id": "6b7be786",
   "metadata": {},
   "source": [
    "1. Загрузим файлы и проверим, что данные в таблицах соответствуют описанию.\n",
    "2. Данные представлены в четырёх файлах. Определим функцию, чтобы нивелировать повторяющиеся действия при проверке данных на дубликаты и пустые значения."
   ]
  },
  {
   "cell_type": "code",
   "execution_count": 7,
   "id": "1e397d9d",
   "metadata": {},
   "outputs": [],
   "source": [
    "# определим функцию data_isnull_isdup() для проверки на дубликаты и пустые значения\n",
    "def data_isnull_isdup(data):\n",
    "    print('Количество явных дубликатов:', data.duplicated().sum())\n",
    "    print('Количество пропусков:')\n",
    "    print(data.isnull().sum())"
   ]
  },
  {
   "cell_type": "code",
   "execution_count": 8,
   "id": "c4046e6b",
   "metadata": {},
   "outputs": [],
   "source": [
    "# считываем данные из csv-файлов и сохраняем в соответствующие датафреймы\n",
    "try:\n",
    "    df_contract = pd.read_csv('/datasets/contract_new.csv', parse_dates=['BeginDate', 'EndDate'])\n",
    "    df_personal = pd.read_csv('/datasets/personal_new.csv')\n",
    "    df_internet = pd.read_csv('/datasets/internet_new.csv')\n",
    "    df_phone = pd.read_csv('/datasets/phone_new.csv')\n",
    "except:\n",
    "    df_contract = pd.read_csv('https://code.s3.yandex.net/datasets/contract_new.csv', parse_dates=['BeginDate', 'EndDate'])\n",
    "    df_personal = pd.read_csv('https://code.s3.yandex.net/datasets/personal_new.csv')\n",
    "    df_internet = pd.read_csv('https://code.s3.yandex.net/datasets/internet_new.csv')\n",
    "    df_phone = pd.read_csv('https://code.s3.yandex.net/datasets/phone_new.csv')"
   ]
  },
  {
   "cell_type": "code",
   "execution_count": 9,
   "id": "67aea2ea",
   "metadata": {},
   "outputs": [
    {
     "data": {
      "text/html": [
       "<div>\n",
       "<style scoped>\n",
       "    .dataframe tbody tr th:only-of-type {\n",
       "        vertical-align: middle;\n",
       "    }\n",
       "\n",
       "    .dataframe tbody tr th {\n",
       "        vertical-align: top;\n",
       "    }\n",
       "\n",
       "    .dataframe thead th {\n",
       "        text-align: right;\n",
       "    }\n",
       "</style>\n",
       "<table border=\"1\" class=\"dataframe\">\n",
       "  <thead>\n",
       "    <tr style=\"text-align: right;\">\n",
       "      <th></th>\n",
       "      <th>customerID</th>\n",
       "      <th>BeginDate</th>\n",
       "      <th>EndDate</th>\n",
       "      <th>Type</th>\n",
       "      <th>PaperlessBilling</th>\n",
       "      <th>PaymentMethod</th>\n",
       "      <th>MonthlyCharges</th>\n",
       "      <th>TotalCharges</th>\n",
       "    </tr>\n",
       "  </thead>\n",
       "  <tbody>\n",
       "    <tr>\n",
       "      <th>0</th>\n",
       "      <td>7590-VHVEG</td>\n",
       "      <td>2020-01-01</td>\n",
       "      <td>No</td>\n",
       "      <td>Month-to-month</td>\n",
       "      <td>Yes</td>\n",
       "      <td>Electronic check</td>\n",
       "      <td>29.85</td>\n",
       "      <td>31.04</td>\n",
       "    </tr>\n",
       "    <tr>\n",
       "      <th>1</th>\n",
       "      <td>5575-GNVDE</td>\n",
       "      <td>2017-04-01</td>\n",
       "      <td>No</td>\n",
       "      <td>One year</td>\n",
       "      <td>No</td>\n",
       "      <td>Mailed check</td>\n",
       "      <td>56.95</td>\n",
       "      <td>2071.84</td>\n",
       "    </tr>\n",
       "    <tr>\n",
       "      <th>2</th>\n",
       "      <td>3668-QPYBK</td>\n",
       "      <td>2019-10-01</td>\n",
       "      <td>No</td>\n",
       "      <td>Month-to-month</td>\n",
       "      <td>Yes</td>\n",
       "      <td>Mailed check</td>\n",
       "      <td>53.85</td>\n",
       "      <td>226.17</td>\n",
       "    </tr>\n",
       "    <tr>\n",
       "      <th>3</th>\n",
       "      <td>7795-CFOCW</td>\n",
       "      <td>2016-05-01</td>\n",
       "      <td>No</td>\n",
       "      <td>One year</td>\n",
       "      <td>No</td>\n",
       "      <td>Bank transfer (automatic)</td>\n",
       "      <td>42.30</td>\n",
       "      <td>1960.6</td>\n",
       "    </tr>\n",
       "    <tr>\n",
       "      <th>4</th>\n",
       "      <td>9237-HQITU</td>\n",
       "      <td>2019-09-01</td>\n",
       "      <td>No</td>\n",
       "      <td>Month-to-month</td>\n",
       "      <td>Yes</td>\n",
       "      <td>Electronic check</td>\n",
       "      <td>70.70</td>\n",
       "      <td>353.5</td>\n",
       "    </tr>\n",
       "  </tbody>\n",
       "</table>\n",
       "</div>"
      ],
      "text/plain": [
       "   customerID  BeginDate EndDate            Type PaperlessBilling  \\\n",
       "0  7590-VHVEG 2020-01-01      No  Month-to-month              Yes   \n",
       "1  5575-GNVDE 2017-04-01      No        One year               No   \n",
       "2  3668-QPYBK 2019-10-01      No  Month-to-month              Yes   \n",
       "3  7795-CFOCW 2016-05-01      No        One year               No   \n",
       "4  9237-HQITU 2019-09-01      No  Month-to-month              Yes   \n",
       "\n",
       "               PaymentMethod  MonthlyCharges TotalCharges  \n",
       "0           Electronic check           29.85        31.04  \n",
       "1               Mailed check           56.95      2071.84  \n",
       "2               Mailed check           53.85       226.17  \n",
       "3  Bank transfer (automatic)           42.30       1960.6  \n",
       "4           Electronic check           70.70        353.5  "
      ]
     },
     "metadata": {},
     "output_type": "display_data"
    },
    {
     "data": {
      "text/html": [
       "<div>\n",
       "<style scoped>\n",
       "    .dataframe tbody tr th:only-of-type {\n",
       "        vertical-align: middle;\n",
       "    }\n",
       "\n",
       "    .dataframe tbody tr th {\n",
       "        vertical-align: top;\n",
       "    }\n",
       "\n",
       "    .dataframe thead th {\n",
       "        text-align: right;\n",
       "    }\n",
       "</style>\n",
       "<table border=\"1\" class=\"dataframe\">\n",
       "  <thead>\n",
       "    <tr style=\"text-align: right;\">\n",
       "      <th></th>\n",
       "      <th>customerID</th>\n",
       "      <th>gender</th>\n",
       "      <th>SeniorCitizen</th>\n",
       "      <th>Partner</th>\n",
       "      <th>Dependents</th>\n",
       "    </tr>\n",
       "  </thead>\n",
       "  <tbody>\n",
       "    <tr>\n",
       "      <th>0</th>\n",
       "      <td>7590-VHVEG</td>\n",
       "      <td>Female</td>\n",
       "      <td>0</td>\n",
       "      <td>Yes</td>\n",
       "      <td>No</td>\n",
       "    </tr>\n",
       "    <tr>\n",
       "      <th>1</th>\n",
       "      <td>5575-GNVDE</td>\n",
       "      <td>Male</td>\n",
       "      <td>0</td>\n",
       "      <td>No</td>\n",
       "      <td>No</td>\n",
       "    </tr>\n",
       "    <tr>\n",
       "      <th>2</th>\n",
       "      <td>3668-QPYBK</td>\n",
       "      <td>Male</td>\n",
       "      <td>0</td>\n",
       "      <td>No</td>\n",
       "      <td>No</td>\n",
       "    </tr>\n",
       "    <tr>\n",
       "      <th>3</th>\n",
       "      <td>7795-CFOCW</td>\n",
       "      <td>Male</td>\n",
       "      <td>0</td>\n",
       "      <td>No</td>\n",
       "      <td>No</td>\n",
       "    </tr>\n",
       "    <tr>\n",
       "      <th>4</th>\n",
       "      <td>9237-HQITU</td>\n",
       "      <td>Female</td>\n",
       "      <td>0</td>\n",
       "      <td>No</td>\n",
       "      <td>No</td>\n",
       "    </tr>\n",
       "  </tbody>\n",
       "</table>\n",
       "</div>"
      ],
      "text/plain": [
       "   customerID  gender  SeniorCitizen Partner Dependents\n",
       "0  7590-VHVEG  Female              0     Yes         No\n",
       "1  5575-GNVDE    Male              0      No         No\n",
       "2  3668-QPYBK    Male              0      No         No\n",
       "3  7795-CFOCW    Male              0      No         No\n",
       "4  9237-HQITU  Female              0      No         No"
      ]
     },
     "metadata": {},
     "output_type": "display_data"
    },
    {
     "data": {
      "text/html": [
       "<div>\n",
       "<style scoped>\n",
       "    .dataframe tbody tr th:only-of-type {\n",
       "        vertical-align: middle;\n",
       "    }\n",
       "\n",
       "    .dataframe tbody tr th {\n",
       "        vertical-align: top;\n",
       "    }\n",
       "\n",
       "    .dataframe thead th {\n",
       "        text-align: right;\n",
       "    }\n",
       "</style>\n",
       "<table border=\"1\" class=\"dataframe\">\n",
       "  <thead>\n",
       "    <tr style=\"text-align: right;\">\n",
       "      <th></th>\n",
       "      <th>customerID</th>\n",
       "      <th>InternetService</th>\n",
       "      <th>OnlineSecurity</th>\n",
       "      <th>OnlineBackup</th>\n",
       "      <th>DeviceProtection</th>\n",
       "      <th>TechSupport</th>\n",
       "      <th>StreamingTV</th>\n",
       "      <th>StreamingMovies</th>\n",
       "    </tr>\n",
       "  </thead>\n",
       "  <tbody>\n",
       "    <tr>\n",
       "      <th>0</th>\n",
       "      <td>7590-VHVEG</td>\n",
       "      <td>DSL</td>\n",
       "      <td>No</td>\n",
       "      <td>Yes</td>\n",
       "      <td>No</td>\n",
       "      <td>No</td>\n",
       "      <td>No</td>\n",
       "      <td>No</td>\n",
       "    </tr>\n",
       "    <tr>\n",
       "      <th>1</th>\n",
       "      <td>5575-GNVDE</td>\n",
       "      <td>DSL</td>\n",
       "      <td>Yes</td>\n",
       "      <td>No</td>\n",
       "      <td>Yes</td>\n",
       "      <td>No</td>\n",
       "      <td>No</td>\n",
       "      <td>No</td>\n",
       "    </tr>\n",
       "    <tr>\n",
       "      <th>2</th>\n",
       "      <td>3668-QPYBK</td>\n",
       "      <td>DSL</td>\n",
       "      <td>Yes</td>\n",
       "      <td>Yes</td>\n",
       "      <td>No</td>\n",
       "      <td>No</td>\n",
       "      <td>No</td>\n",
       "      <td>No</td>\n",
       "    </tr>\n",
       "    <tr>\n",
       "      <th>3</th>\n",
       "      <td>7795-CFOCW</td>\n",
       "      <td>DSL</td>\n",
       "      <td>Yes</td>\n",
       "      <td>No</td>\n",
       "      <td>Yes</td>\n",
       "      <td>Yes</td>\n",
       "      <td>No</td>\n",
       "      <td>No</td>\n",
       "    </tr>\n",
       "    <tr>\n",
       "      <th>4</th>\n",
       "      <td>9237-HQITU</td>\n",
       "      <td>Fiber optic</td>\n",
       "      <td>No</td>\n",
       "      <td>No</td>\n",
       "      <td>No</td>\n",
       "      <td>No</td>\n",
       "      <td>No</td>\n",
       "      <td>No</td>\n",
       "    </tr>\n",
       "  </tbody>\n",
       "</table>\n",
       "</div>"
      ],
      "text/plain": [
       "   customerID InternetService OnlineSecurity OnlineBackup DeviceProtection  \\\n",
       "0  7590-VHVEG             DSL             No          Yes               No   \n",
       "1  5575-GNVDE             DSL            Yes           No              Yes   \n",
       "2  3668-QPYBK             DSL            Yes          Yes               No   \n",
       "3  7795-CFOCW             DSL            Yes           No              Yes   \n",
       "4  9237-HQITU     Fiber optic             No           No               No   \n",
       "\n",
       "  TechSupport StreamingTV StreamingMovies  \n",
       "0          No          No              No  \n",
       "1          No          No              No  \n",
       "2          No          No              No  \n",
       "3         Yes          No              No  \n",
       "4          No          No              No  "
      ]
     },
     "metadata": {},
     "output_type": "display_data"
    },
    {
     "data": {
      "text/html": [
       "<div>\n",
       "<style scoped>\n",
       "    .dataframe tbody tr th:only-of-type {\n",
       "        vertical-align: middle;\n",
       "    }\n",
       "\n",
       "    .dataframe tbody tr th {\n",
       "        vertical-align: top;\n",
       "    }\n",
       "\n",
       "    .dataframe thead th {\n",
       "        text-align: right;\n",
       "    }\n",
       "</style>\n",
       "<table border=\"1\" class=\"dataframe\">\n",
       "  <thead>\n",
       "    <tr style=\"text-align: right;\">\n",
       "      <th></th>\n",
       "      <th>customerID</th>\n",
       "      <th>MultipleLines</th>\n",
       "    </tr>\n",
       "  </thead>\n",
       "  <tbody>\n",
       "    <tr>\n",
       "      <th>0</th>\n",
       "      <td>5575-GNVDE</td>\n",
       "      <td>No</td>\n",
       "    </tr>\n",
       "    <tr>\n",
       "      <th>1</th>\n",
       "      <td>3668-QPYBK</td>\n",
       "      <td>No</td>\n",
       "    </tr>\n",
       "    <tr>\n",
       "      <th>2</th>\n",
       "      <td>9237-HQITU</td>\n",
       "      <td>No</td>\n",
       "    </tr>\n",
       "    <tr>\n",
       "      <th>3</th>\n",
       "      <td>9305-CDSKC</td>\n",
       "      <td>Yes</td>\n",
       "    </tr>\n",
       "    <tr>\n",
       "      <th>4</th>\n",
       "      <td>1452-KIOVK</td>\n",
       "      <td>Yes</td>\n",
       "    </tr>\n",
       "  </tbody>\n",
       "</table>\n",
       "</div>"
      ],
      "text/plain": [
       "   customerID MultipleLines\n",
       "0  5575-GNVDE            No\n",
       "1  3668-QPYBK            No\n",
       "2  9237-HQITU            No\n",
       "3  9305-CDSKC           Yes\n",
       "4  1452-KIOVK           Yes"
      ]
     },
     "metadata": {},
     "output_type": "display_data"
    }
   ],
   "source": [
    "# выведем первые строки по каждой таблице\n",
    "display(df_contract.head())\n",
    "display(df_personal.head())\n",
    "display(df_internet.head())\n",
    "display(df_phone.head())"
   ]
  },
  {
   "cell_type": "markdown",
   "id": "38d81af0",
   "metadata": {},
   "source": [
    "**Вывод:**\n",
    "- Данные корректно загружены.\n",
    "- Названия колонок не соответствуют единому стилю.\n",
    "- Во всех файлах столбец `customerID` содержит код клиента, его будем использовать при создании финального датасета."
   ]
  },
  {
   "cell_type": "code",
   "execution_count": 10,
   "id": "f6ec0ae8",
   "metadata": {},
   "outputs": [
    {
     "name": "stdout",
     "output_type": "stream",
     "text": [
      "\n",
      "\n",
      "-------------------------Первый Датасет---------------------------------\n",
      "\n",
      "\n",
      "<class 'pandas.core.frame.DataFrame'>\n",
      "RangeIndex: 7043 entries, 0 to 7042\n",
      "Data columns (total 8 columns):\n",
      " #   Column            Non-Null Count  Dtype         \n",
      "---  ------            --------------  -----         \n",
      " 0   customerID        7043 non-null   object        \n",
      " 1   BeginDate         7043 non-null   datetime64[ns]\n",
      " 2   EndDate           7043 non-null   object        \n",
      " 3   Type              7043 non-null   object        \n",
      " 4   PaperlessBilling  7043 non-null   object        \n",
      " 5   PaymentMethod     7043 non-null   object        \n",
      " 6   MonthlyCharges    7043 non-null   float64       \n",
      " 7   TotalCharges      7043 non-null   object        \n",
      "dtypes: datetime64[ns](1), float64(1), object(6)\n",
      "memory usage: 440.3+ KB\n"
     ]
    },
    {
     "data": {
      "text/plain": [
       "None"
      ]
     },
     "metadata": {},
     "output_type": "display_data"
    },
    {
     "data": {
      "text/html": [
       "<div>\n",
       "<style scoped>\n",
       "    .dataframe tbody tr th:only-of-type {\n",
       "        vertical-align: middle;\n",
       "    }\n",
       "\n",
       "    .dataframe tbody tr th {\n",
       "        vertical-align: top;\n",
       "    }\n",
       "\n",
       "    .dataframe thead th {\n",
       "        text-align: right;\n",
       "    }\n",
       "</style>\n",
       "<table border=\"1\" class=\"dataframe\">\n",
       "  <thead>\n",
       "    <tr style=\"text-align: right;\">\n",
       "      <th></th>\n",
       "      <th>MonthlyCharges</th>\n",
       "    </tr>\n",
       "  </thead>\n",
       "  <tbody>\n",
       "    <tr>\n",
       "      <th>count</th>\n",
       "      <td>7043.000000</td>\n",
       "    </tr>\n",
       "    <tr>\n",
       "      <th>mean</th>\n",
       "      <td>64.761692</td>\n",
       "    </tr>\n",
       "    <tr>\n",
       "      <th>std</th>\n",
       "      <td>30.090047</td>\n",
       "    </tr>\n",
       "    <tr>\n",
       "      <th>min</th>\n",
       "      <td>18.250000</td>\n",
       "    </tr>\n",
       "    <tr>\n",
       "      <th>25%</th>\n",
       "      <td>35.500000</td>\n",
       "    </tr>\n",
       "    <tr>\n",
       "      <th>50%</th>\n",
       "      <td>70.350000</td>\n",
       "    </tr>\n",
       "    <tr>\n",
       "      <th>75%</th>\n",
       "      <td>89.850000</td>\n",
       "    </tr>\n",
       "    <tr>\n",
       "      <th>max</th>\n",
       "      <td>118.750000</td>\n",
       "    </tr>\n",
       "  </tbody>\n",
       "</table>\n",
       "</div>"
      ],
      "text/plain": [
       "       MonthlyCharges\n",
       "count     7043.000000\n",
       "mean        64.761692\n",
       "std         30.090047\n",
       "min         18.250000\n",
       "25%         35.500000\n",
       "50%         70.350000\n",
       "75%         89.850000\n",
       "max        118.750000"
      ]
     },
     "metadata": {},
     "output_type": "display_data"
    },
    {
     "name": "stdout",
     "output_type": "stream",
     "text": [
      "\n",
      "\n",
      "-------------------------Второй Датасет---------------------------------\n",
      "\n",
      "\n",
      "<class 'pandas.core.frame.DataFrame'>\n",
      "RangeIndex: 7043 entries, 0 to 7042\n",
      "Data columns (total 5 columns):\n",
      " #   Column         Non-Null Count  Dtype \n",
      "---  ------         --------------  ----- \n",
      " 0   customerID     7043 non-null   object\n",
      " 1   gender         7043 non-null   object\n",
      " 2   SeniorCitizen  7043 non-null   int64 \n",
      " 3   Partner        7043 non-null   object\n",
      " 4   Dependents     7043 non-null   object\n",
      "dtypes: int64(1), object(4)\n",
      "memory usage: 275.2+ KB\n"
     ]
    },
    {
     "data": {
      "text/plain": [
       "None"
      ]
     },
     "metadata": {},
     "output_type": "display_data"
    },
    {
     "data": {
      "text/html": [
       "<div>\n",
       "<style scoped>\n",
       "    .dataframe tbody tr th:only-of-type {\n",
       "        vertical-align: middle;\n",
       "    }\n",
       "\n",
       "    .dataframe tbody tr th {\n",
       "        vertical-align: top;\n",
       "    }\n",
       "\n",
       "    .dataframe thead th {\n",
       "        text-align: right;\n",
       "    }\n",
       "</style>\n",
       "<table border=\"1\" class=\"dataframe\">\n",
       "  <thead>\n",
       "    <tr style=\"text-align: right;\">\n",
       "      <th></th>\n",
       "      <th>SeniorCitizen</th>\n",
       "    </tr>\n",
       "  </thead>\n",
       "  <tbody>\n",
       "    <tr>\n",
       "      <th>count</th>\n",
       "      <td>7043.000000</td>\n",
       "    </tr>\n",
       "    <tr>\n",
       "      <th>mean</th>\n",
       "      <td>0.162147</td>\n",
       "    </tr>\n",
       "    <tr>\n",
       "      <th>std</th>\n",
       "      <td>0.368612</td>\n",
       "    </tr>\n",
       "    <tr>\n",
       "      <th>min</th>\n",
       "      <td>0.000000</td>\n",
       "    </tr>\n",
       "    <tr>\n",
       "      <th>25%</th>\n",
       "      <td>0.000000</td>\n",
       "    </tr>\n",
       "    <tr>\n",
       "      <th>50%</th>\n",
       "      <td>0.000000</td>\n",
       "    </tr>\n",
       "    <tr>\n",
       "      <th>75%</th>\n",
       "      <td>0.000000</td>\n",
       "    </tr>\n",
       "    <tr>\n",
       "      <th>max</th>\n",
       "      <td>1.000000</td>\n",
       "    </tr>\n",
       "  </tbody>\n",
       "</table>\n",
       "</div>"
      ],
      "text/plain": [
       "       SeniorCitizen\n",
       "count    7043.000000\n",
       "mean        0.162147\n",
       "std         0.368612\n",
       "min         0.000000\n",
       "25%         0.000000\n",
       "50%         0.000000\n",
       "75%         0.000000\n",
       "max         1.000000"
      ]
     },
     "metadata": {},
     "output_type": "display_data"
    },
    {
     "name": "stdout",
     "output_type": "stream",
     "text": [
      "\n",
      "\n",
      "-------------------------Третий Датасет---------------------------------\n",
      "\n",
      "\n",
      "<class 'pandas.core.frame.DataFrame'>\n",
      "RangeIndex: 5517 entries, 0 to 5516\n",
      "Data columns (total 8 columns):\n",
      " #   Column            Non-Null Count  Dtype \n",
      "---  ------            --------------  ----- \n",
      " 0   customerID        5517 non-null   object\n",
      " 1   InternetService   5517 non-null   object\n",
      " 2   OnlineSecurity    5517 non-null   object\n",
      " 3   OnlineBackup      5517 non-null   object\n",
      " 4   DeviceProtection  5517 non-null   object\n",
      " 5   TechSupport       5517 non-null   object\n",
      " 6   StreamingTV       5517 non-null   object\n",
      " 7   StreamingMovies   5517 non-null   object\n",
      "dtypes: object(8)\n",
      "memory usage: 344.9+ KB\n"
     ]
    },
    {
     "data": {
      "text/plain": [
       "None"
      ]
     },
     "metadata": {},
     "output_type": "display_data"
    },
    {
     "data": {
      "text/html": [
       "<div>\n",
       "<style scoped>\n",
       "    .dataframe tbody tr th:only-of-type {\n",
       "        vertical-align: middle;\n",
       "    }\n",
       "\n",
       "    .dataframe tbody tr th {\n",
       "        vertical-align: top;\n",
       "    }\n",
       "\n",
       "    .dataframe thead th {\n",
       "        text-align: right;\n",
       "    }\n",
       "</style>\n",
       "<table border=\"1\" class=\"dataframe\">\n",
       "  <thead>\n",
       "    <tr style=\"text-align: right;\">\n",
       "      <th></th>\n",
       "      <th>customerID</th>\n",
       "      <th>InternetService</th>\n",
       "      <th>OnlineSecurity</th>\n",
       "      <th>OnlineBackup</th>\n",
       "      <th>DeviceProtection</th>\n",
       "      <th>TechSupport</th>\n",
       "      <th>StreamingTV</th>\n",
       "      <th>StreamingMovies</th>\n",
       "    </tr>\n",
       "  </thead>\n",
       "  <tbody>\n",
       "    <tr>\n",
       "      <th>count</th>\n",
       "      <td>5517</td>\n",
       "      <td>5517</td>\n",
       "      <td>5517</td>\n",
       "      <td>5517</td>\n",
       "      <td>5517</td>\n",
       "      <td>5517</td>\n",
       "      <td>5517</td>\n",
       "      <td>5517</td>\n",
       "    </tr>\n",
       "    <tr>\n",
       "      <th>unique</th>\n",
       "      <td>5517</td>\n",
       "      <td>2</td>\n",
       "      <td>2</td>\n",
       "      <td>2</td>\n",
       "      <td>2</td>\n",
       "      <td>2</td>\n",
       "      <td>2</td>\n",
       "      <td>2</td>\n",
       "    </tr>\n",
       "    <tr>\n",
       "      <th>top</th>\n",
       "      <td>0810-BDHAW</td>\n",
       "      <td>Fiber optic</td>\n",
       "      <td>No</td>\n",
       "      <td>No</td>\n",
       "      <td>No</td>\n",
       "      <td>No</td>\n",
       "      <td>No</td>\n",
       "      <td>No</td>\n",
       "    </tr>\n",
       "    <tr>\n",
       "      <th>freq</th>\n",
       "      <td>1</td>\n",
       "      <td>3096</td>\n",
       "      <td>3498</td>\n",
       "      <td>3088</td>\n",
       "      <td>3095</td>\n",
       "      <td>3473</td>\n",
       "      <td>2810</td>\n",
       "      <td>2785</td>\n",
       "    </tr>\n",
       "  </tbody>\n",
       "</table>\n",
       "</div>"
      ],
      "text/plain": [
       "        customerID InternetService OnlineSecurity OnlineBackup  \\\n",
       "count         5517            5517           5517         5517   \n",
       "unique        5517               2              2            2   \n",
       "top     0810-BDHAW     Fiber optic             No           No   \n",
       "freq             1            3096           3498         3088   \n",
       "\n",
       "       DeviceProtection TechSupport StreamingTV StreamingMovies  \n",
       "count              5517        5517        5517            5517  \n",
       "unique                2           2           2               2  \n",
       "top                  No          No          No              No  \n",
       "freq               3095        3473        2810            2785  "
      ]
     },
     "metadata": {},
     "output_type": "display_data"
    },
    {
     "name": "stdout",
     "output_type": "stream",
     "text": [
      "\n",
      "\n",
      "-------------------------Четвёртый Датасет-------------------------------\n",
      "\n",
      "\n",
      "<class 'pandas.core.frame.DataFrame'>\n",
      "RangeIndex: 6361 entries, 0 to 6360\n",
      "Data columns (total 2 columns):\n",
      " #   Column         Non-Null Count  Dtype \n",
      "---  ------         --------------  ----- \n",
      " 0   customerID     6361 non-null   object\n",
      " 1   MultipleLines  6361 non-null   object\n",
      "dtypes: object(2)\n",
      "memory usage: 99.5+ KB\n"
     ]
    },
    {
     "data": {
      "text/plain": [
       "None"
      ]
     },
     "metadata": {},
     "output_type": "display_data"
    },
    {
     "data": {
      "text/html": [
       "<div>\n",
       "<style scoped>\n",
       "    .dataframe tbody tr th:only-of-type {\n",
       "        vertical-align: middle;\n",
       "    }\n",
       "\n",
       "    .dataframe tbody tr th {\n",
       "        vertical-align: top;\n",
       "    }\n",
       "\n",
       "    .dataframe thead th {\n",
       "        text-align: right;\n",
       "    }\n",
       "</style>\n",
       "<table border=\"1\" class=\"dataframe\">\n",
       "  <thead>\n",
       "    <tr style=\"text-align: right;\">\n",
       "      <th></th>\n",
       "      <th>customerID</th>\n",
       "      <th>MultipleLines</th>\n",
       "    </tr>\n",
       "  </thead>\n",
       "  <tbody>\n",
       "    <tr>\n",
       "      <th>count</th>\n",
       "      <td>6361</td>\n",
       "      <td>6361</td>\n",
       "    </tr>\n",
       "    <tr>\n",
       "      <th>unique</th>\n",
       "      <td>6361</td>\n",
       "      <td>2</td>\n",
       "    </tr>\n",
       "    <tr>\n",
       "      <th>top</th>\n",
       "      <td>7593-XFKDI</td>\n",
       "      <td>No</td>\n",
       "    </tr>\n",
       "    <tr>\n",
       "      <th>freq</th>\n",
       "      <td>1</td>\n",
       "      <td>3390</td>\n",
       "    </tr>\n",
       "  </tbody>\n",
       "</table>\n",
       "</div>"
      ],
      "text/plain": [
       "        customerID MultipleLines\n",
       "count         6361          6361\n",
       "unique        6361             2\n",
       "top     7593-XFKDI            No\n",
       "freq             1          3390"
      ]
     },
     "metadata": {},
     "output_type": "display_data"
    }
   ],
   "source": [
    "# рассмотрим основную информацию по четырём датасетам\n",
    "print('\\n\\n-------------------------Первый Датасет---------------------------------\\n\\n')\n",
    "display(df_contract.info())\n",
    "display(df_contract.describe())\n",
    "print('\\n\\n-------------------------Второй Датасет---------------------------------\\n\\n')\n",
    "display(df_personal.info())\n",
    "display(df_personal.describe())\n",
    "print('\\n\\n-------------------------Третий Датасет---------------------------------\\n\\n')\n",
    "display(df_internet.info())\n",
    "display(df_internet.describe())\n",
    "print('\\n\\n-------------------------Четвёртый Датасет-------------------------------\\n\\n')\n",
    "display(df_phone.info())\n",
    "display(df_phone.describe())"
   ]
  },
  {
   "cell_type": "markdown",
   "id": "14f60af9",
   "metadata": {},
   "source": [
    "**Вывод:**\n",
    "\n",
    "Основываясь на предварительном обзоре датафреймов отметим следующее:\n",
    "- Названия колонок следует привести к единому стилю.\n",
    "- Таблицы содержат столбцы со значениями различного типа: числовые, категориальные, а также признаки формата дата.\n",
    "- Количество значений в столбцах внутри каждого датафрейма не различается. При этом, третий и четвёртый датафреймы содержат меньше значений по сравнению с первым и вторым. По-видимому, это связано с типом получаемых услуг, в частности, некоторые клиенты пользуются только интернет-услугами, и есть клиенты, которые пользуются только услугами телефонии. Учтём эти особенности при объединении датафреймов.\n",
    "- Очевидно, не все признаки будут информативны для обучения модели классификации, однако пока оставим как есть и оценим их вклад по результатам.\n",
    "- Целевой признак должен представлять отток клиентов — да (1) или нет (0). Следовательно, на основе `EndDate` создадим столбец со значениями целевого признака, который будет представлен бинарной категорией — прекращение договора «да» или «нет».\n",
    "- Кроме того, для корректного обучения модели считаем полезным создать новый признак, который будет представлять длительность действия контракта в днях. Это поможет избежать утечки данных и позволит модели выучить соответствующие закономерности для более точного прогноза. Для создания нового признака используем столбцы `BeginDate` и `EndDate`, которые после удалим.\n",
    "- Числовые значения в столбце `TotalCharges` и значения даты в столбце `EndDate` представлены форматом object, что не является корректным. Исследуем эти столбцы подробней на этапе предобработки."
   ]
  },
  {
   "cell_type": "markdown",
   "id": "5c3e87a3",
   "metadata": {},
   "source": [
    "### Предобработка данных"
   ]
  },
  {
   "cell_type": "markdown",
   "id": "85f5602d",
   "metadata": {},
   "source": [
    "1. Проверим датасеты на наличие пропусков и дубликатов. \n",
    "2. Рассмотрим корректность типов данных. При необходимости устраним проблемы."
   ]
  },
  {
   "cell_type": "markdown",
   "id": "0abfe1e7",
   "metadata": {},
   "source": [
    "**1. Данные с информацией о договоре**"
   ]
  },
  {
   "cell_type": "code",
   "execution_count": 11,
   "id": "44835bb9",
   "metadata": {},
   "outputs": [
    {
     "data": {
      "text/plain": [
       "Index(['customer_i_d', 'begin_date', 'end_date', 'type', 'paperless_billing',\n",
       "       'payment_method', 'monthly_charges', 'total_charges'],\n",
       "      dtype='object')"
      ]
     },
     "execution_count": 11,
     "metadata": {},
     "output_type": "execute_result"
    }
   ],
   "source": [
    "# приведём названия столбцов к единому стилю\n",
    "df_contract.columns = [re.sub(r'(?<!^)(?=[A-Z])', '_', i).lower()for i in df_contract.columns]\n",
    "df_contract.columns"
   ]
  },
  {
   "cell_type": "code",
   "execution_count": 12,
   "id": "15f96b90",
   "metadata": {},
   "outputs": [
    {
     "name": "stdout",
     "output_type": "stream",
     "text": [
      "Количество явных дубликатов: 0\n",
      "Количество пропусков:\n",
      "customer_i_d         0\n",
      "begin_date           0\n",
      "end_date             0\n",
      "type                 0\n",
      "paperless_billing    0\n",
      "payment_method       0\n",
      "monthly_charges      0\n",
      "total_charges        0\n",
      "dtype: int64\n"
     ]
    }
   ],
   "source": [
    "# вызовем функцию data_isnull_isdup() и оценим есть ли пропуски и дубликаты \n",
    "data_isnull_isdup(df_contract)"
   ]
  },
  {
   "cell_type": "code",
   "execution_count": 13,
   "id": "9c64bf5e",
   "metadata": {},
   "outputs": [
    {
     "data": {
      "text/plain": [
       "array(['31.04', '2071.84', '226.17', ..., '325.6', '520.8', '7251.82'],\n",
       "      dtype=object)"
      ]
     },
     "execution_count": 13,
     "metadata": {},
     "output_type": "execute_result"
    }
   ],
   "source": [
    "# рассмотрим значения в total_charges\n",
    "df_contract['total_charges'].unique()"
   ]
  },
  {
   "cell_type": "code",
   "execution_count": 14,
   "id": "9a426c49",
   "metadata": {
    "scrolled": true
   },
   "outputs": [
    {
     "data": {
      "text/plain": [
       "count     7043\n",
       "unique    6658\n",
       "top           \n",
       "freq        11\n",
       "Name: total_charges, dtype: object"
      ]
     },
     "execution_count": 14,
     "metadata": {},
     "output_type": "execute_result"
    }
   ],
   "source": [
    "# рассмотрим описание значений по столбцу\n",
    "df_contract['total_charges'].describe()"
   ]
  },
  {
   "cell_type": "code",
   "execution_count": 15,
   "id": "7bbc2b93",
   "metadata": {
    "scrolled": true
   },
   "outputs": [
    {
     "data": {
      "text/plain": [
       "array(['No', '2017-05-01', '2016-03-01', '2018-09-01', '2018-11-01',\n",
       "       '2018-12-01', '2019-08-01', '2018-07-01', '2017-09-01',\n",
       "       '2015-09-01', '2016-07-01', '2016-06-01', '2018-03-01',\n",
       "       '2019-02-01', '2018-06-01', '2019-06-01', '2020-01-01',\n",
       "       '2019-11-01', '2016-09-01', '2015-06-01', '2016-12-01',\n",
       "       '2019-05-01', '2019-04-01', '2017-06-01', '2017-08-01',\n",
       "       '2018-04-01', '2018-08-01', '2018-02-01', '2019-07-01',\n",
       "       '2015-12-01', '2014-06-01', '2018-10-01', '2019-01-01',\n",
       "       '2017-07-01', '2017-12-01', '2018-05-01', '2015-11-01',\n",
       "       '2019-10-01', '2019-03-01', '2016-02-01', '2016-10-01',\n",
       "       '2018-01-01', '2017-11-01', '2015-10-01', '2019-12-01',\n",
       "       '2015-07-01', '2017-04-01', '2015-02-01', '2017-03-01',\n",
       "       '2016-05-01', '2016-11-01', '2015-08-01', '2019-09-01',\n",
       "       '2017-10-01', '2017-02-01', '2016-08-01', '2016-04-01',\n",
       "       '2015-05-01', '2014-09-01', '2014-10-01', '2017-01-01',\n",
       "       '2015-03-01', '2015-01-01', '2016-01-01', '2015-04-01',\n",
       "       '2014-12-01', '2014-11-01'], dtype=object)"
      ]
     },
     "execution_count": 15,
     "metadata": {},
     "output_type": "execute_result"
    }
   ],
   "source": [
    "# рассмотрим значения в end_date\n",
    "df_contract['end_date'].unique()"
   ]
  },
  {
   "cell_type": "code",
   "execution_count": 16,
   "id": "66225a8a",
   "metadata": {},
   "outputs": [
    {
     "data": {
      "text/plain": [
       "count     7043\n",
       "unique      67\n",
       "top         No\n",
       "freq      5942\n",
       "Name: end_date, dtype: object"
      ]
     },
     "execution_count": 16,
     "metadata": {},
     "output_type": "execute_result"
    }
   ],
   "source": [
    "# рассмотрим описание значений по столбцу\n",
    "df_contract['end_date'].describe()"
   ]
  },
  {
   "cell_type": "markdown",
   "id": "32017487",
   "metadata": {},
   "source": [
    "**Вывод:**\n",
    "- В столбце `total_charges` обнаружены неявные пустые значения в 11 строках датафрейма. Так как их количество малочисленно, избавимся от этих строк для корректного изменения типа данных с `object` на `float`.\n",
    "- В столбце `end_date` наряду с датами окончания контрактов обнаружены строковые значения `No`. Вероятно, это означает, что у контракта нет даты окончания или он действует. Используем этот столбец для создания целевого признака, а затем заменим `No` на актуальную дату выгрузки данных, чтобы преобразовать значения в тип datetime и создать новый признак с продолжительностью контракта (в днях)."
   ]
  },
  {
   "cell_type": "code",
   "execution_count": 17,
   "id": "e645da81",
   "metadata": {},
   "outputs": [],
   "source": [
    "# удаление пустых строк в total_charges\n",
    "df_contract = df_contract[df_contract['total_charges'].str.strip() != '']\n",
    "# сброс индекса после удаления\n",
    "df_contract.reset_index(drop=True, inplace=True)\n",
    "\n",
    "# преобразование значений столбца total_charges в тип данных float\n",
    "df_contract['total_charges'] = df_contract['total_charges'].astype(float)"
   ]
  },
  {
   "cell_type": "code",
   "execution_count": 18,
   "id": "420b2c1b",
   "metadata": {},
   "outputs": [
    {
     "data": {
      "text/plain": [
       "array([0, 1])"
      ]
     },
     "execution_count": 18,
     "metadata": {},
     "output_type": "execute_result"
    }
   ],
   "source": [
    "# создание столбца с целевым признаком отток\n",
    "df_contract['churn'] = (df_contract['end_date'] != 'No').astype(int)\n",
    "df_contract['churn'].unique()"
   ]
  },
  {
   "cell_type": "code",
   "execution_count": 19,
   "id": "ba59269b",
   "metadata": {},
   "outputs": [],
   "source": [
    "# преобразование столбца end_date\n",
    "df_contract['end_date'] = df_contract['end_date'].where(df_contract['end_date'] != 'No', '2020-02-01')\n",
    "df_contract['end_date'] = pd.to_datetime(df_contract['end_date'])"
   ]
  },
  {
   "cell_type": "code",
   "execution_count": 20,
   "id": "47b7a5c2",
   "metadata": {},
   "outputs": [],
   "source": [
    "# создадим новый признак с продолжительностью контракта (в днях)\n",
    "df_contract['duration'] = (df_contract['end_date'] - df_contract['begin_date']).dt.days"
   ]
  },
  {
   "cell_type": "code",
   "execution_count": 21,
   "id": "18df6d1d",
   "metadata": {},
   "outputs": [],
   "source": [
    "# удалим столбцы с датами, чтобы предупредить утечку данных при обучении модели\n",
    "df_contract = df_contract.drop(['begin_date', 'end_date'], axis=1)"
   ]
  },
  {
   "cell_type": "markdown",
   "id": "6e1bd8c5",
   "metadata": {},
   "source": [
    "**2. Данные с информацией о персональных данных клиента**"
   ]
  },
  {
   "cell_type": "code",
   "execution_count": 22,
   "id": "f32b7a12",
   "metadata": {},
   "outputs": [
    {
     "data": {
      "text/plain": [
       "Index(['customer_i_d', 'gender', 'senior_citizen', 'partner', 'dependents'], dtype='object')"
      ]
     },
     "execution_count": 22,
     "metadata": {},
     "output_type": "execute_result"
    }
   ],
   "source": [
    "# приведём названия столбцов к единому стилю\n",
    "df_personal.columns = [re.sub(r'(?<!^)(?=[A-Z])', '_', i).lower()for i in df_personal.columns]\n",
    "df_personal.columns"
   ]
  },
  {
   "cell_type": "code",
   "execution_count": 23,
   "id": "d60d0a9b",
   "metadata": {
    "scrolled": true
   },
   "outputs": [
    {
     "name": "stdout",
     "output_type": "stream",
     "text": [
      "Количество явных дубликатов: 0\n",
      "Количество пропусков:\n",
      "customer_i_d      0\n",
      "gender            0\n",
      "senior_citizen    0\n",
      "partner           0\n",
      "dependents        0\n",
      "dtype: int64\n"
     ]
    }
   ],
   "source": [
    "# вызовем функцию data_isnull_isdup() и оценим есть ли пропуски и дубликаты \n",
    "data_isnull_isdup(df_personal)"
   ]
  },
  {
   "cell_type": "markdown",
   "id": "3b6ceade",
   "metadata": {},
   "source": [
    "**3. Данные с информацией об интернет-услугах**"
   ]
  },
  {
   "cell_type": "code",
   "execution_count": 24,
   "id": "9b3f29b8",
   "metadata": {},
   "outputs": [
    {
     "data": {
      "text/plain": [
       "Index(['customer_i_d', 'internet_service', 'online_security', 'online_backup',\n",
       "       'device_protection', 'tech_support', 'streaming_t_v',\n",
       "       'streaming_movies'],\n",
       "      dtype='object')"
      ]
     },
     "execution_count": 24,
     "metadata": {},
     "output_type": "execute_result"
    }
   ],
   "source": [
    "# приведём названия столбцов к единому стилю\n",
    "df_internet.columns = [re.sub(r'(?<!^)(?=[A-Z])', '_', i).lower()for i in df_internet.columns]\n",
    "df_internet.columns"
   ]
  },
  {
   "cell_type": "code",
   "execution_count": 25,
   "id": "ebbb2a5d",
   "metadata": {
    "scrolled": true
   },
   "outputs": [
    {
     "name": "stdout",
     "output_type": "stream",
     "text": [
      "Количество явных дубликатов: 0\n",
      "Количество пропусков:\n",
      "customer_i_d         0\n",
      "internet_service     0\n",
      "online_security      0\n",
      "online_backup        0\n",
      "device_protection    0\n",
      "tech_support         0\n",
      "streaming_t_v        0\n",
      "streaming_movies     0\n",
      "dtype: int64\n"
     ]
    }
   ],
   "source": [
    "# вызовем функцию data_isnull_isdup() и оценим есть ли пропуски и дубликаты \n",
    "data_isnull_isdup(df_internet)"
   ]
  },
  {
   "cell_type": "code",
   "execution_count": 26,
   "id": "75e2ec24",
   "metadata": {
    "scrolled": true
   },
   "outputs": [
    {
     "data": {
      "text/plain": [
       "array(['DSL', 'Fiber optic'], dtype=object)"
      ]
     },
     "execution_count": 26,
     "metadata": {},
     "output_type": "execute_result"
    }
   ],
   "source": [
    "# рассмотрим значения в internet_service\n",
    "df_internet['internet_service'].unique()"
   ]
  },
  {
   "cell_type": "markdown",
   "id": "41e24835",
   "metadata": {},
   "source": [
    "**4. Данные с информацией об услугах телефонии**"
   ]
  },
  {
   "cell_type": "code",
   "execution_count": 27,
   "id": "3d2e7727",
   "metadata": {},
   "outputs": [
    {
     "data": {
      "text/plain": [
       "Index(['customer_i_d', 'multiple_lines'], dtype='object')"
      ]
     },
     "execution_count": 27,
     "metadata": {},
     "output_type": "execute_result"
    }
   ],
   "source": [
    "# приведём названия столбцов к единому стилю\n",
    "df_phone.columns = [re.sub(r'(?<!^)(?=[A-Z])', '_', i).lower()for i in df_phone.columns]\n",
    "df_phone.columns"
   ]
  },
  {
   "cell_type": "code",
   "execution_count": 28,
   "id": "69a2e696",
   "metadata": {},
   "outputs": [
    {
     "name": "stdout",
     "output_type": "stream",
     "text": [
      "Количество явных дубликатов: 0\n",
      "Количество пропусков:\n",
      "customer_i_d      0\n",
      "multiple_lines    0\n",
      "dtype: int64\n"
     ]
    }
   ],
   "source": [
    "# вызовем функцию data_isnull_isdup() и оценим есть ли пропуски и дубликаты \n",
    "data_isnull_isdup(df_phone)"
   ]
  },
  {
   "cell_type": "markdown",
   "id": "fc6a0b0f",
   "metadata": {},
   "source": [
    "**Вывод:**\n",
    "- Датасеты предобработаны: названия столбцов приведены к единому стилю, устранены неявные пропуски, преобразованы типы данных.\n",
    "- Созданы новые признаки для корректного обучения модели.\n",
    "- Удалены столбцы, которые могут стать причиной утечки данных при обучении модели."
   ]
  },
  {
   "cell_type": "markdown",
   "id": "4c1998f8",
   "metadata": {},
   "source": [
    "### Объединение таблиц"
   ]
  },
  {
   "cell_type": "code",
   "execution_count": 29,
   "id": "2b559c83",
   "metadata": {},
   "outputs": [],
   "source": [
    "# сформируем единый датасет для дальнейшего исследовательского анализа\n",
    "df = (df_contract\n",
    "        .merge(df_internet, on=['customer_i_d'], how='left')\n",
    "        .merge(df_personal, on=['customer_i_d'], how='left')\n",
    "        .merge(df_phone, on=['customer_i_d'], how='left')\n",
    "       )"
   ]
  },
  {
   "cell_type": "code",
   "execution_count": 30,
   "id": "2bcd03b7",
   "metadata": {},
   "outputs": [
    {
     "name": "stdout",
     "output_type": "stream",
     "text": [
      "<class 'pandas.core.frame.DataFrame'>\n",
      "Int64Index: 7032 entries, 0 to 7031\n",
      "Data columns (total 20 columns):\n",
      " #   Column             Non-Null Count  Dtype  \n",
      "---  ------             --------------  -----  \n",
      " 0   customer_i_d       7032 non-null   object \n",
      " 1   type               7032 non-null   object \n",
      " 2   paperless_billing  7032 non-null   object \n",
      " 3   payment_method     7032 non-null   object \n",
      " 4   monthly_charges    7032 non-null   float64\n",
      " 5   total_charges      7032 non-null   float64\n",
      " 6   churn              7032 non-null   int32  \n",
      " 7   duration           7032 non-null   int64  \n",
      " 8   internet_service   5512 non-null   object \n",
      " 9   online_security    5512 non-null   object \n",
      " 10  online_backup      5512 non-null   object \n",
      " 11  device_protection  5512 non-null   object \n",
      " 12  tech_support       5512 non-null   object \n",
      " 13  streaming_t_v      5512 non-null   object \n",
      " 14  streaming_movies   5512 non-null   object \n",
      " 15  gender             7032 non-null   object \n",
      " 16  senior_citizen     7032 non-null   int64  \n",
      " 17  partner            7032 non-null   object \n",
      " 18  dependents         7032 non-null   object \n",
      " 19  multiple_lines     6352 non-null   object \n",
      "dtypes: float64(2), int32(1), int64(2), object(15)\n",
      "memory usage: 1.1+ MB\n"
     ]
    }
   ],
   "source": [
    "# проверим результат объединения\n",
    "df.info()"
   ]
  },
  {
   "cell_type": "markdown",
   "id": "45a81705",
   "metadata": {},
   "source": [
    "**Вывод:**\n",
    "- После объединения датасетов появились пропуски, так как таблицы различаются по количеству значений.\n",
    "- Заполним пропуски значением `No`, исходя из логики того, что пропуск образован там, где клиент не пользуется данной услугой.\n",
    "- Для удобства дальнейшего анализа и улучшения производительности моделей преобразуем категориальные переменные `Yes`/`No` в двоичную форму `1`/`0`."
   ]
  },
  {
   "cell_type": "code",
   "execution_count": 31,
   "id": "cb4332d4",
   "metadata": {},
   "outputs": [],
   "source": [
    "# заполним пропущенные значения\n",
    "df = df.fillna('No')"
   ]
  },
  {
   "cell_type": "code",
   "execution_count": 32,
   "id": "600a827a",
   "metadata": {},
   "outputs": [],
   "source": [
    "# реобразуем категориальные переменные Yes/No в двоичную форму 1/0\n",
    "cols_to_convert = [\n",
    "    'paperless_billing', 'partner', 'dependents', 'online_security',\n",
    "    'online_backup', 'device_protection', 'tech_support', 'streaming_t_v',\n",
    "    'streaming_movies', 'multiple_lines'\n",
    "]\n",
    "\n",
    "for col in cols_to_convert:\n",
    "    df[col] = (df[col] == 'Yes').astype('int64')"
   ]
  },
  {
   "cell_type": "code",
   "execution_count": 33,
   "id": "6bacb84f",
   "metadata": {},
   "outputs": [
    {
     "name": "stdout",
     "output_type": "stream",
     "text": [
      "<class 'pandas.core.frame.DataFrame'>\n",
      "Int64Index: 7032 entries, 0 to 7031\n",
      "Data columns (total 20 columns):\n",
      " #   Column             Non-Null Count  Dtype  \n",
      "---  ------             --------------  -----  \n",
      " 0   customer_i_d       7032 non-null   object \n",
      " 1   type               7032 non-null   object \n",
      " 2   paperless_billing  7032 non-null   int64  \n",
      " 3   payment_method     7032 non-null   object \n",
      " 4   monthly_charges    7032 non-null   float64\n",
      " 5   total_charges      7032 non-null   float64\n",
      " 6   churn              7032 non-null   int32  \n",
      " 7   duration           7032 non-null   int64  \n",
      " 8   internet_service   7032 non-null   object \n",
      " 9   online_security    7032 non-null   int64  \n",
      " 10  online_backup      7032 non-null   int64  \n",
      " 11  device_protection  7032 non-null   int64  \n",
      " 12  tech_support       7032 non-null   int64  \n",
      " 13  streaming_t_v      7032 non-null   int64  \n",
      " 14  streaming_movies   7032 non-null   int64  \n",
      " 15  gender             7032 non-null   object \n",
      " 16  senior_citizen     7032 non-null   int64  \n",
      " 17  partner            7032 non-null   int64  \n",
      " 18  dependents         7032 non-null   int64  \n",
      " 19  multiple_lines     7032 non-null   int64  \n",
      "dtypes: float64(2), int32(1), int64(12), object(5)\n",
      "memory usage: 1.1+ MB\n"
     ]
    }
   ],
   "source": [
    "# проверим результат объединения\n",
    "df.info()"
   ]
  },
  {
   "cell_type": "markdown",
   "id": "929fd5fc",
   "metadata": {},
   "source": [
    "**Вывод:**\n",
    "- Сформирован единый датасет, который послужит основой для обучения и тестирования модели.\n",
    "- Объёма данных достаточно для дальнейшего исследовательского анализа."
   ]
  },
  {
   "cell_type": "markdown",
   "id": "181983df",
   "metadata": {},
   "source": [
    "### Исследовательский анализ данных"
   ]
  },
  {
   "cell_type": "markdown",
   "id": "bff46d0c",
   "metadata": {},
   "source": [
    "- Проведём исследовательский анализ признаков.\n",
    "- Оценим особенности распределения данных для выбора корректных способов подготовки к обучению модели.\n",
    "\n",
    "**1. Анализ категориальных признаков**"
   ]
  },
  {
   "cell_type": "code",
   "execution_count": 34,
   "id": "042c1823",
   "metadata": {
    "scrolled": true
   },
   "outputs": [
    {
     "data": {
      "text/html": [
       "<div>\n",
       "<style scoped>\n",
       "    .dataframe tbody tr th:only-of-type {\n",
       "        vertical-align: middle;\n",
       "    }\n",
       "\n",
       "    .dataframe tbody tr th {\n",
       "        vertical-align: top;\n",
       "    }\n",
       "\n",
       "    .dataframe thead th {\n",
       "        text-align: right;\n",
       "    }\n",
       "</style>\n",
       "<table border=\"1\" class=\"dataframe\">\n",
       "  <thead>\n",
       "    <tr style=\"text-align: right;\">\n",
       "      <th></th>\n",
       "      <th>customer_i_d</th>\n",
       "      <th>type</th>\n",
       "      <th>payment_method</th>\n",
       "      <th>internet_service</th>\n",
       "      <th>gender</th>\n",
       "    </tr>\n",
       "  </thead>\n",
       "  <tbody>\n",
       "    <tr>\n",
       "      <th>count</th>\n",
       "      <td>7032</td>\n",
       "      <td>7032</td>\n",
       "      <td>7032</td>\n",
       "      <td>7032</td>\n",
       "      <td>7032</td>\n",
       "    </tr>\n",
       "    <tr>\n",
       "      <th>unique</th>\n",
       "      <td>7032</td>\n",
       "      <td>3</td>\n",
       "      <td>4</td>\n",
       "      <td>3</td>\n",
       "      <td>2</td>\n",
       "    </tr>\n",
       "    <tr>\n",
       "      <th>top</th>\n",
       "      <td>7593-XFKDI</td>\n",
       "      <td>Month-to-month</td>\n",
       "      <td>Electronic check</td>\n",
       "      <td>Fiber optic</td>\n",
       "      <td>Male</td>\n",
       "    </tr>\n",
       "    <tr>\n",
       "      <th>freq</th>\n",
       "      <td>1</td>\n",
       "      <td>3875</td>\n",
       "      <td>2365</td>\n",
       "      <td>3096</td>\n",
       "      <td>3549</td>\n",
       "    </tr>\n",
       "  </tbody>\n",
       "</table>\n",
       "</div>"
      ],
      "text/plain": [
       "       customer_i_d            type    payment_method internet_service gender\n",
       "count          7032            7032              7032             7032   7032\n",
       "unique         7032               3                 4                3      2\n",
       "top      7593-XFKDI  Month-to-month  Electronic check      Fiber optic   Male\n",
       "freq              1            3875              2365             3096   3549"
      ]
     },
     "execution_count": 34,
     "metadata": {},
     "output_type": "execute_result"
    }
   ],
   "source": [
    "# рассмотрим описательные статистики по категориальным столбцам\n",
    "df.describe(include='object')"
   ]
  },
  {
   "cell_type": "code",
   "execution_count": 35,
   "id": "b34ff62d",
   "metadata": {
    "scrolled": true
   },
   "outputs": [
    {
     "name": "stdout",
     "output_type": "stream",
     "text": [
      "Уникальные значения для customer_i_d: ['7590-VHVEG' '5575-GNVDE' '3668-QPYBK' ... '4801-JZAZL' '8361-LTMKD'\n",
      " '3186-AJIEK']\n",
      "Уникальные значения для type: ['Month-to-month' 'One year' 'Two year']\n",
      "Уникальные значения для payment_method: ['Electronic check' 'Mailed check' 'Bank transfer (automatic)'\n",
      " 'Credit card (automatic)']\n",
      "Уникальные значения для internet_service: ['DSL' 'Fiber optic' 'No']\n",
      "Уникальные значения для gender: ['Female' 'Male']\n"
     ]
    }
   ],
   "source": [
    "# рассмотрим уникальные значения в столбцах с категориальными признаками\n",
    "cat_var = df.select_dtypes(exclude='number').columns.tolist()\n",
    "\n",
    "for col in cat_var:\n",
    "    unique_values = df[col].unique()\n",
    "    print(f\"Уникальные значения для {col}: {unique_values}\")"
   ]
  },
  {
   "cell_type": "markdown",
   "id": "5bb9d802",
   "metadata": {},
   "source": [
    "**Вывод:**\n",
    "- В таблице четыре признака, не включая customer_i_d, которые содержат от двух до четырёх категорий.\n",
    "- Значения соответствуют представленным категориям признаков.\n",
    "\n",
    "**2. Анализ количественных признаков**"
   ]
  },
  {
   "cell_type": "code",
   "execution_count": 36,
   "id": "d73f9145",
   "metadata": {},
   "outputs": [
    {
     "data": {
      "text/html": [
       "<div>\n",
       "<style scoped>\n",
       "    .dataframe tbody tr th:only-of-type {\n",
       "        vertical-align: middle;\n",
       "    }\n",
       "\n",
       "    .dataframe tbody tr th {\n",
       "        vertical-align: top;\n",
       "    }\n",
       "\n",
       "    .dataframe thead th {\n",
       "        text-align: right;\n",
       "    }\n",
       "</style>\n",
       "<table border=\"1\" class=\"dataframe\">\n",
       "  <thead>\n",
       "    <tr style=\"text-align: right;\">\n",
       "      <th></th>\n",
       "      <th>count</th>\n",
       "      <th>mean</th>\n",
       "      <th>std</th>\n",
       "      <th>min</th>\n",
       "      <th>25%</th>\n",
       "      <th>50%</th>\n",
       "      <th>75%</th>\n",
       "      <th>max</th>\n",
       "    </tr>\n",
       "  </thead>\n",
       "  <tbody>\n",
       "    <tr>\n",
       "      <th>monthly_charges</th>\n",
       "      <td>7032.0</td>\n",
       "      <td>64.798208</td>\n",
       "      <td>30.085974</td>\n",
       "      <td>18.25</td>\n",
       "      <td>35.5875</td>\n",
       "      <td>70.350</td>\n",
       "      <td>89.8625</td>\n",
       "      <td>118.75</td>\n",
       "    </tr>\n",
       "    <tr>\n",
       "      <th>total_charges</th>\n",
       "      <td>7032.0</td>\n",
       "      <td>2118.621822</td>\n",
       "      <td>2112.736199</td>\n",
       "      <td>19.05</td>\n",
       "      <td>439.7450</td>\n",
       "      <td>1345.275</td>\n",
       "      <td>3239.3175</td>\n",
       "      <td>9221.38</td>\n",
       "    </tr>\n",
       "    <tr>\n",
       "      <th>duration</th>\n",
       "      <td>7032.0</td>\n",
       "      <td>899.961320</td>\n",
       "      <td>682.738777</td>\n",
       "      <td>28.00</td>\n",
       "      <td>276.0000</td>\n",
       "      <td>761.000</td>\n",
       "      <td>1461.0000</td>\n",
       "      <td>2314.00</td>\n",
       "    </tr>\n",
       "  </tbody>\n",
       "</table>\n",
       "</div>"
      ],
      "text/plain": [
       "                  count         mean          std    min       25%       50%  \\\n",
       "monthly_charges  7032.0    64.798208    30.085974  18.25   35.5875    70.350   \n",
       "total_charges    7032.0  2118.621822  2112.736199  19.05  439.7450  1345.275   \n",
       "duration         7032.0   899.961320   682.738777  28.00  276.0000   761.000   \n",
       "\n",
       "                       75%      max  \n",
       "monthly_charges    89.8625   118.75  \n",
       "total_charges    3239.3175  9221.38  \n",
       "duration         1461.0000  2314.00  "
      ]
     },
     "execution_count": 36,
     "metadata": {},
     "output_type": "execute_result"
    }
   ],
   "source": [
    "# рассмотрим описательные статистики по количественным признакам\n",
    "num_var = ['monthly_charges', 'total_charges', 'duration']\n",
    "df[num_var].describe().T"
   ]
  },
  {
   "cell_type": "code",
   "execution_count": 37,
   "id": "b9e2bfab",
   "metadata": {},
   "outputs": [
    {
     "data": {
      "image/png": "[encoded data removed]",
      "text/plain": [
       "<Figure size 432x432 with 1 Axes>"
      ]
     },
     "metadata": {},
     "output_type": "display_data"
    }
   ],
   "source": [
    "# визуализируем целевой признак и оценим доли активных и ушедших клиентов\n",
    "churn_counts = df['churn'].value_counts()\n",
    "# построим круговую диаграмму\n",
    "plt.figure(figsize=(6, 6))\n",
    "plt.pie(churn_counts, labels=['Активные', 'Ушедшие'], autopct='%1.1f%%')\n",
    "plt.title('Доли активных и ушедших клиентов')\n",
    "plt.axis('equal')\n",
    "plt.show()"
   ]
  },
  {
   "cell_type": "markdown",
   "id": "ec488ef6",
   "metadata": {},
   "source": [
    "**Вывод:**\n",
    "- В данных очевиден дисбаланс классов, учтём это при выборе алгоритмов обучения модели и метрик оценки качества. \n",
    "- Выполним стратификацию по целевому признаку в пайплайне."
   ]
  },
  {
   "cell_type": "code",
   "execution_count": 38,
   "id": "ac8c5713",
   "metadata": {
    "scrolled": true
   },
   "outputs": [
    {
     "data": {
      "image/png": "[encoded data removed]",
      "text/plain": [
       "<Figure size 720x360 with 2 Axes>"
      ]
     },
     "metadata": {
      "needs_background": "light"
     },
     "output_type": "display_data"
    }
   ],
   "source": [
    "# рассмотрим распределение значений по расходам за месяц\n",
    "fig, axes = plt.subplots(nrows=1, ncols=2, figsize=(10,5))\n",
    "df['monthly_charges'].plot(kind='hist', bins=10, ax=axes[0])\n",
    "axes[0].set_title('Гистограмма распределения')\n",
    "df['monthly_charges'].plot(kind='box', ax=axes[1])\n",
    "axes[1].set_title('Разброс значений признака')\n",
    "plt.show()"
   ]
  },
  {
   "cell_type": "markdown",
   "id": "dcaebfde",
   "metadata": {},
   "source": [
    "**Вывод:**\n",
    "- Расходы клиентов за месяц в среднем представляют значение около 70.\n",
    "- Выбросов, которые указывали бы на экстремально низкие или высокие значения, не обнаружено."
   ]
  },
  {
   "cell_type": "code",
   "execution_count": 39,
   "id": "19906b98",
   "metadata": {
    "scrolled": true
   },
   "outputs": [
    {
     "data": {
      "image/png": "[encoded data removed]",
      "text/plain": [
       "<Figure size 720x360 with 2 Axes>"
      ]
     },
     "metadata": {
      "needs_background": "light"
     },
     "output_type": "display_data"
    }
   ],
   "source": [
    "# рассмотрим распределение значений по общим расходам абонента\n",
    "fig, axes = plt.subplots(nrows=1, ncols=2, figsize=(10,5))\n",
    "df['total_charges'].plot(kind='hist', bins=10, ax=axes[0])\n",
    "axes[0].set_title('Гистограмма распределения')\n",
    "df['total_charges'].plot(kind='box', ax=axes[1])\n",
    "axes[1].set_title('Разброс значений признака')\n",
    "plt.show()"
   ]
  },
  {
   "cell_type": "markdown",
   "id": "8d5deadb",
   "metadata": {},
   "source": [
    "**Вывод:**\n",
    "- Гистограмма скошена вправо, распределение имеет положительную асимметрию.\n",
    "- В среднем общие расходы абонентов представлены значением около 1400.\n",
    "- Выбросы указывают, что есть абоненты с необычно высокими общими расходами по сравнению с остальной частью набора данных."
   ]
  },
  {
   "cell_type": "code",
   "execution_count": 40,
   "id": "48947be9",
   "metadata": {},
   "outputs": [
    {
     "data": {
      "image/png": "[encoded data removed]",
      "text/plain": [
       "<Figure size 720x360 with 2 Axes>"
      ]
     },
     "metadata": {
      "needs_background": "light"
     },
     "output_type": "display_data"
    }
   ],
   "source": [
    "# рассмотрим распределение значений по продолжительности контракта (в днях)\n",
    "fig, axes = plt.subplots(nrows=1, ncols=2, figsize=(10,5))\n",
    "df['duration'].plot(kind='hist', bins=10, ax=axes[0])\n",
    "axes[0].set_title('Гистограмма распределения')\n",
    "df['duration'].plot(kind='box', ax=axes[1])\n",
    "axes[1].set_title('Разброс значений признака')\n",
    "plt.show()"
   ]
  },
  {
   "cell_type": "markdown",
   "id": "f1d0555e",
   "metadata": {},
   "source": [
    "**Вывод:**\n",
    "- Минимальная продолжительность пользования услугами связи клиентами компании составлет 28 дней, максимальная — чуть более 2300 дней на момент выгрузки данных. При этом, средняя продолжительность контракта насчитывает около 750 дней.\n",
    "\n",
    "Далее рассмотрим распределение расходов за месяц по активным и ушедшим клиентам."
   ]
  },
  {
   "cell_type": "code",
   "execution_count": 41,
   "id": "5a4c8764",
   "metadata": {},
   "outputs": [
    {
     "data": {
      "image/png": "[encoded data removed]",
      "text/plain": [
       "<Figure size 864x360 with 1 Axes>"
      ]
     },
     "metadata": {},
     "output_type": "display_data"
    }
   ],
   "source": [
    "# построим гистограммы\n",
    "sns.set_style(\"white\")\n",
    "plt.figure(figsize=(12, 5))\n",
    "\n",
    "# распределение расходов за месяц по ушедшим клиентам\n",
    "sns.histplot(data=df[df['churn'] == 1], x='monthly_charges', color='red', label='Ушедшие', kde=True)\n",
    "# распределение расходов за месяц по активным клиентам\n",
    "sns.histplot(data=df[df['churn'] == 0], x='monthly_charges', color='blue', label='Активные', kde=True)\n",
    "\n",
    "# название и метки\n",
    "plt.xlabel('Расходы за месяц')\n",
    "plt.ylabel('Частота')\n",
    "plt.title('Распределение расходов за месяц по активным и ушедшим клиентам')\n",
    "# легенда\n",
    "plt.legend()\n",
    "sns.despine()\n",
    "plt.show()"
   ]
  },
  {
   "cell_type": "markdown",
   "id": "66f339f7",
   "metadata": {},
   "source": [
    "**Вывод:**\n",
    "- Согласно графику, расходы за месяц у ушедших клиентов были несколько выше по сравнению с клиентами, договоры которых активны.\n",
    "\n",
    "Оценим продолжительность пользования услугами связи по активным и ушедшим клиентам."
   ]
  },
  {
   "cell_type": "code",
   "execution_count": 42,
   "id": "241b77bc",
   "metadata": {},
   "outputs": [
    {
     "data": {
      "image/png": "[encoded data removed]",
      "text/plain": [
       "<Figure size 864x360 with 1 Axes>"
      ]
     },
     "metadata": {},
     "output_type": "display_data"
    }
   ],
   "source": [
    "# построим гистограммы\n",
    "sns.set_style(\"white\")\n",
    "plt.figure(figsize=(12, 5))\n",
    "\n",
    "# продолжительность контракта по ушедшим клиентам\n",
    "sns.histplot(data=df[df['churn'] == 1], x='duration', color='red', label='Ушедшие', kde=True)\n",
    "# продолжительность контракта по активным клиентам\n",
    "sns.histplot(data=df[df['churn'] == 0], x='duration', color='blue', label='Активные', kde=True)\n",
    "\n",
    "# название и метки\n",
    "plt.xlabel('Продолжительность контракта (в днях)')\n",
    "plt.ylabel('Частота')\n",
    "plt.title('Продолжительность пользования услугами связи по активным и ушедшим клиентам')\n",
    "# легенда\n",
    "plt.legend()\n",
    "sns.despine()\n",
    "plt.show()"
   ]
  },
  {
   "cell_type": "markdown",
   "id": "14e03586",
   "metadata": {},
   "source": [
    "**Вывод:**\n",
    "- График распределения показывает, что активные клиенты представлены преимущественно новичками, тогда как ушедшие клиенты имеют более продолжительный опыт пользования услугами компании. \n",
    "- В частности, отток наблюдается среди абонентов, чья продолжительность контракта достигает примерно 1000 дней."
   ]
  },
  {
   "cell_type": "markdown",
   "id": "5db6b293",
   "metadata": {},
   "source": [
    "**3. Корреляционный анализ признаков**\n",
    "\n",
    "В ходе исследовательского анализа было обнаружено, что не все признаки распределены нормально, поэтому для оценки взаимосвязи будем использовать корреляцию Phik, который устойчив к выбросам и ненормальному распределению."
   ]
  },
  {
   "cell_type": "code",
   "execution_count": 43,
   "id": "70133eae",
   "metadata": {},
   "outputs": [
    {
     "name": "stdout",
     "output_type": "stream",
     "text": [
      "Количество дубликатов: 4\n"
     ]
    }
   ],
   "source": [
    "# для дальнейшей работы нам не понадобится столбец customer_i_d\n",
    "df = df.drop('customer_i_d', axis=1)\n",
    "\n",
    "# так как мы удалили признак customer_i_d с неповторяющимися значениями, то могут возникнуть дубликаты\n",
    "print('Количество дубликатов:', df.duplicated().sum())"
   ]
  },
  {
   "cell_type": "code",
   "execution_count": 44,
   "id": "c30fe5f1",
   "metadata": {},
   "outputs": [],
   "source": [
    "# удаление дубликатов\n",
    "df = df.drop_duplicates()"
   ]
  },
  {
   "cell_type": "code",
   "execution_count": 45,
   "id": "b0dfa2ae",
   "metadata": {},
   "outputs": [
    {
     "data": {
      "image/png": "[encoded data removed]",
      "text/plain": [
       "<Figure size 864x720 with 2 Axes>"
      ]
     },
     "metadata": {},
     "output_type": "display_data"
    }
   ],
   "source": [
    "# укажем количественные признаки\n",
    "num_cols = ['monthly_charges', 'total_charges', 'duration']\n",
    "\n",
    "# рассчитаем матрицу корреляции Phi-K между всеми признаками\n",
    "phik_matrix = df.phik_matrix(interval_cols=num_cols)\n",
    "\n",
    "# построим heatmap\n",
    "plt.figure(figsize=(12, 10))\n",
    "sns.heatmap(phik_matrix, annot=True, cmap='coolwarm', vmin=-1, vmax=1)\n",
    "plt.title('Матрица корреляции Phi-K')\n",
    "plt.show()"
   ]
  },
  {
   "cell_type": "markdown",
   "id": "91643588",
   "metadata": {},
   "source": [
    "**Вывод:**\n",
    "- Входные признаки имеют слабую связь или почти не коррелируют с таргетом `churn`.\n",
    "- Входной признак `monthly_charges` тесно положительно связан с признаками `internet_service`, `streaming_t_v`, `streaming_movies`. Это довольно логично, что расходы за месяц зависят от типа подключения и опций стриминговых сервисов.\n",
    "- Также вполне объяснимо `total_charges` сильно коррелирует с `duration`, так как сумма общих расходов абонента зависит от продолжительности пользования услугами компании.\n",
    "- Матрица корреляции показывает, что в датасете не обнаружено пар признаков в количественной шкале, которые сильно коррелируют друг с другом, мультиколлинеарности не наблюдается."
   ]
  },
  {
   "cell_type": "markdown",
   "id": "87aca2e4",
   "metadata": {},
   "source": [
    "### Обучение моделей"
   ]
  },
  {
   "cell_type": "markdown",
   "id": "e5458123",
   "metadata": {},
   "source": [
    "1. Подготовку признаков, обучение и тестировние моделей выполним в пайплайн.\n",
    "2. Поскольку датасет содержит преимущественно категориальные признаки, считаем целесообразным использовать бустинговые алгоритмы, которые эффективны для решения такого рода задач:\n",
    "- CatBoostClassifier()\n",
    "- LGBMClassifier()\n",
    "- xgb.XGBClassifier()\n",
    "\n",
    "Для выбранных алгоритмов предварительная обработка данных с помощью `OneHotEncoder` и `StandardScaler` в большинстве случаев не требуется, так как они имеют собственные встроенные решения. Дополнительная обработка такого рода напротив может привести к увеличению использования ресурсов памяти и времени обучения.\n",
    "\n",
    "3. Для каждой модели подберём гиперпараметры. \n",
    "4. Для оценки качества используем метрику `ROC-AUC`, так как она подходит для бинарной классификации с несбалансированной выборкой как в нашем случае. Получим метрику при помощи кросс-валидации, чтобы обеспечить статистически значимую закономерность полученных оценок.\n",
    "5. Проверим качество лучшей модели на тестовой выборке.\n",
    "6. Исследуем важность признаков лучшей модели.\n",
    "\n",
    "**NB:** не смотря на то, что обычно не нужно отдельно выполнять кодирование для выбранных алгоритмов, так как эти модели способны обрабатывать категориальные функции напрямую, однако в работе с текущим датасетом нам все равно потребовалось преобразовать категориальные признаки в числовые представления поскольку возникали ошибки."
   ]
  },
  {
   "cell_type": "code",
   "execution_count": 46,
   "id": "13cf57a1",
   "metadata": {},
   "outputs": [],
   "source": [
    "# объявляем константы\n",
    "RANDOM_STATE = 80424\n",
    "TEST_SIZE = 0.25\n",
    "\n",
    "# делим на выборки\n",
    "X_train, X_test, y_train, y_test = train_test_split(\n",
    "    df.drop('churn', axis=1),\n",
    "    df['churn'],\n",
    "    test_size=TEST_SIZE,\n",
    "    random_state=RANDOM_STATE,\n",
    "    stratify=df['churn']\n",
    ")"
   ]
  },
  {
   "cell_type": "code",
   "execution_count": 47,
   "id": "0ed06dc4",
   "metadata": {},
   "outputs": [
    {
     "name": "stdout",
     "output_type": "stream",
     "text": [
      "0:\tlearn: 0.6273584\ttotal: 118ms\tremaining: 3m 55s\n",
      "1:\tlearn: 0.5685351\ttotal: 122ms\tremaining: 2m 1s\n",
      "2:\tlearn: 0.5247126\ttotal: 126ms\tremaining: 1m 24s\n",
      "3:\tlearn: 0.4873956\ttotal: 131ms\tremaining: 1m 5s\n",
      "4:\tlearn: 0.4645921\ttotal: 136ms\tremaining: 54.3s\n",
      "5:\tlearn: 0.4435773\ttotal: 140ms\tremaining: 46.6s\n",
      "6:\tlearn: 0.4229982\ttotal: 145ms\tremaining: 41.2s\n",
      "7:\tlearn: 0.4082308\ttotal: 149ms\tremaining: 37.2s\n",
      "8:\tlearn: 0.3934664\ttotal: 154ms\tremaining: 34s\n",
      "9:\tlearn: 0.3864425\ttotal: 158ms\tremaining: 31.5s\n",
      "10:\tlearn: 0.3797796\ttotal: 163ms\tremaining: 29.5s\n",
      "11:\tlearn: 0.3717988\ttotal: 168ms\tremaining: 27.8s\n",
      "12:\tlearn: 0.3645085\ttotal: 173ms\tremaining: 26.5s\n",
      "13:\tlearn: 0.3598704\ttotal: 178ms\tremaining: 25.3s\n",
      "14:\tlearn: 0.3571697\ttotal: 184ms\tremaining: 24.4s\n",
      "15:\tlearn: 0.3543247\ttotal: 188ms\tremaining: 23.4s\n",
      "16:\tlearn: 0.3509013\ttotal: 195ms\tremaining: 22.7s\n",
      "17:\tlearn: 0.3476067\ttotal: 199ms\tremaining: 21.9s\n",
      "18:\tlearn: 0.3451296\ttotal: 204ms\tremaining: 21.2s\n",
      "19:\tlearn: 0.3425777\ttotal: 208ms\tremaining: 20.6s\n",
      "20:\tlearn: 0.3405508\ttotal: 212ms\tremaining: 20s\n",
      "21:\tlearn: 0.3388882\ttotal: 217ms\tremaining: 19.5s\n",
      "22:\tlearn: 0.3375424\ttotal: 221ms\tremaining: 19s\n",
      "23:\tlearn: 0.3363619\ttotal: 225ms\tremaining: 18.5s\n",
      "24:\tlearn: 0.3340840\ttotal: 229ms\tremaining: 18.1s\n",
      "25:\tlearn: 0.3329827\ttotal: 234ms\tremaining: 17.8s\n",
      "26:\tlearn: 0.3308308\ttotal: 238ms\tremaining: 17.4s\n",
      "27:\tlearn: 0.3301115\ttotal: 242ms\tremaining: 17.1s\n",
      "28:\tlearn: 0.3288701\ttotal: 246ms\tremaining: 16.7s\n",
      "29:\tlearn: 0.3274343\ttotal: 251ms\tremaining: 16.5s\n",
      "30:\tlearn: 0.3260971\ttotal: 255ms\tremaining: 16.2s\n",
      "31:\tlearn: 0.3249314\ttotal: 259ms\tremaining: 15.9s\n",
      "32:\tlearn: 0.3239977\ttotal: 263ms\tremaining: 15.7s\n",
      "33:\tlearn: 0.3233209\ttotal: 267ms\tremaining: 15.4s\n",
      "34:\tlearn: 0.3225295\ttotal: 271ms\tremaining: 15.2s\n",
      "35:\tlearn: 0.3219339\ttotal: 275ms\tremaining: 15s\n",
      "36:\tlearn: 0.3212045\ttotal: 279ms\tremaining: 14.8s\n",
      "37:\tlearn: 0.3208333\ttotal: 282ms\tremaining: 14.6s\n",
      "38:\tlearn: 0.3202107\ttotal: 286ms\tremaining: 14.4s\n",
      "39:\tlearn: 0.3195907\ttotal: 290ms\tremaining: 14.2s\n",
      "40:\tlearn: 0.3189549\ttotal: 294ms\tremaining: 14.1s\n",
      "41:\tlearn: 0.3185007\ttotal: 298ms\tremaining: 13.9s\n",
      "42:\tlearn: 0.3179610\ttotal: 303ms\tremaining: 13.8s\n",
      "43:\tlearn: 0.3175152\ttotal: 307ms\tremaining: 13.6s\n",
      "44:\tlearn: 0.3172721\ttotal: 311ms\tremaining: 13.5s\n",
      "45:\tlearn: 0.3166689\ttotal: 317ms\tremaining: 13.5s\n",
      "46:\tlearn: 0.3160361\ttotal: 321ms\tremaining: 13.3s\n",
      "47:\tlearn: 0.3154863\ttotal: 324ms\tremaining: 13.2s\n",
      "48:\tlearn: 0.3153587\ttotal: 328ms\tremaining: 13.1s\n",
      "49:\tlearn: 0.3150798\ttotal: 331ms\tremaining: 12.9s\n",
      "50:\tlearn: 0.3145775\ttotal: 335ms\tremaining: 12.8s\n",
      "51:\tlearn: 0.3141173\ttotal: 339ms\tremaining: 12.7s\n",
      "52:\tlearn: 0.3136050\ttotal: 343ms\tremaining: 12.6s\n",
      "53:\tlearn: 0.3132618\ttotal: 347ms\tremaining: 12.5s\n",
      "54:\tlearn: 0.3127267\ttotal: 352ms\tremaining: 12.4s\n",
      "55:\tlearn: 0.3121638\ttotal: 356ms\tremaining: 12.4s\n",
      "56:\tlearn: 0.3117944\ttotal: 361ms\tremaining: 12.3s\n",
      "57:\tlearn: 0.3110559\ttotal: 366ms\tremaining: 12.3s\n",
      "58:\tlearn: 0.3105757\ttotal: 371ms\tremaining: 12.2s\n",
      "59:\tlearn: 0.3101868\ttotal: 375ms\tremaining: 12.1s\n",
      "60:\tlearn: 0.3096823\ttotal: 379ms\tremaining: 12s\n",
      "61:\tlearn: 0.3093121\ttotal: 383ms\tremaining: 12s\n",
      "62:\tlearn: 0.3090048\ttotal: 387ms\tremaining: 11.9s\n",
      "63:\tlearn: 0.3088299\ttotal: 392ms\tremaining: 11.9s\n",
      "64:\tlearn: 0.3080932\ttotal: 397ms\tremaining: 11.8s\n",
      "65:\tlearn: 0.3077503\ttotal: 402ms\tremaining: 11.8s\n",
      "66:\tlearn: 0.3071997\ttotal: 414ms\tremaining: 11.9s\n",
      "67:\tlearn: 0.3065100\ttotal: 424ms\tremaining: 12.1s\n",
      "68:\tlearn: 0.3061029\ttotal: 435ms\tremaining: 12.2s\n",
      "69:\tlearn: 0.3058993\ttotal: 440ms\tremaining: 12.1s\n",
      "70:\tlearn: 0.3056925\ttotal: 444ms\tremaining: 12.1s\n",
      "71:\tlearn: 0.3053202\ttotal: 448ms\tremaining: 12s\n",
      "72:\tlearn: 0.3047088\ttotal: 453ms\tremaining: 11.9s\n",
      "73:\tlearn: 0.3044924\ttotal: 457ms\tremaining: 11.9s\n",
      "74:\tlearn: 0.3039605\ttotal: 463ms\tremaining: 11.9s\n",
      "75:\tlearn: 0.3034160\ttotal: 468ms\tremaining: 11.8s\n",
      "76:\tlearn: 0.3032063\ttotal: 472ms\tremaining: 11.8s\n",
      "77:\tlearn: 0.3027218\ttotal: 476ms\tremaining: 11.7s\n",
      "78:\tlearn: 0.3024650\ttotal: 480ms\tremaining: 11.7s\n",
      "79:\tlearn: 0.3018657\ttotal: 483ms\tremaining: 11.6s\n",
      "80:\tlearn: 0.3014779\ttotal: 487ms\tremaining: 11.5s\n",
      "81:\tlearn: 0.3011868\ttotal: 491ms\tremaining: 11.5s\n",
      "82:\tlearn: 0.3002764\ttotal: 495ms\tremaining: 11.4s\n",
      "83:\tlearn: 0.3000036\ttotal: 499ms\tremaining: 11.4s\n",
      "84:\tlearn: 0.2995165\ttotal: 502ms\tremaining: 11.3s\n",
      "85:\tlearn: 0.2986518\ttotal: 507ms\tremaining: 11.3s\n",
      "86:\tlearn: 0.2984685\ttotal: 511ms\tremaining: 11.2s\n",
      "87:\tlearn: 0.2977822\ttotal: 515ms\tremaining: 11.2s\n",
      "88:\tlearn: 0.2972824\ttotal: 519ms\tremaining: 11.2s\n",
      "89:\tlearn: 0.2961891\ttotal: 523ms\tremaining: 11.1s\n",
      "90:\tlearn: 0.2956978\ttotal: 527ms\tremaining: 11.1s\n",
      "91:\tlearn: 0.2954071\ttotal: 531ms\tremaining: 11s\n",
      "92:\tlearn: 0.2950136\ttotal: 535ms\tremaining: 11s\n",
      "93:\tlearn: 0.2941878\ttotal: 539ms\tremaining: 10.9s\n",
      "94:\tlearn: 0.2937603\ttotal: 543ms\tremaining: 10.9s\n",
      "95:\tlearn: 0.2936106\ttotal: 548ms\tremaining: 10.9s\n",
      "96:\tlearn: 0.2933099\ttotal: 553ms\tremaining: 10.8s\n",
      "97:\tlearn: 0.2929021\ttotal: 557ms\tremaining: 10.8s\n",
      "98:\tlearn: 0.2924648\ttotal: 561ms\tremaining: 10.8s\n",
      "99:\tlearn: 0.2919764\ttotal: 566ms\tremaining: 10.7s\n",
      "100:\tlearn: 0.2913182\ttotal: 570ms\tremaining: 10.7s\n",
      "101:\tlearn: 0.2907017\ttotal: 573ms\tremaining: 10.7s\n",
      "102:\tlearn: 0.2892745\ttotal: 579ms\tremaining: 10.7s\n",
      "103:\tlearn: 0.2881721\ttotal: 583ms\tremaining: 10.6s\n",
      "104:\tlearn: 0.2876226\ttotal: 586ms\tremaining: 10.6s\n",
      "105:\tlearn: 0.2871836\ttotal: 590ms\tremaining: 10.6s\n",
      "106:\tlearn: 0.2856962\ttotal: 595ms\tremaining: 10.5s\n",
      "107:\tlearn: 0.2852288\ttotal: 599ms\tremaining: 10.5s\n",
      "108:\tlearn: 0.2842151\ttotal: 604ms\tremaining: 10.5s\n",
      "109:\tlearn: 0.2837448\ttotal: 609ms\tremaining: 10.5s\n",
      "110:\tlearn: 0.2833786\ttotal: 613ms\tremaining: 10.4s\n",
      "111:\tlearn: 0.2822930\ttotal: 617ms\tremaining: 10.4s\n",
      "112:\tlearn: 0.2818819\ttotal: 622ms\tremaining: 10.4s\n",
      "113:\tlearn: 0.2809583\ttotal: 626ms\tremaining: 10.3s\n",
      "114:\tlearn: 0.2801946\ttotal: 629ms\tremaining: 10.3s\n",
      "115:\tlearn: 0.2797336\ttotal: 633ms\tremaining: 10.3s\n",
      "116:\tlearn: 0.2792734\ttotal: 637ms\tremaining: 10.2s\n",
      "117:\tlearn: 0.2781638\ttotal: 640ms\tremaining: 10.2s\n",
      "118:\tlearn: 0.2777649\ttotal: 644ms\tremaining: 10.2s\n",
      "119:\tlearn: 0.2771059\ttotal: 649ms\tremaining: 10.2s\n",
      "120:\tlearn: 0.2764038\ttotal: 652ms\tremaining: 10.1s\n",
      "121:\tlearn: 0.2748357\ttotal: 656ms\tremaining: 10.1s\n",
      "122:\tlearn: 0.2745355\ttotal: 660ms\tremaining: 10.1s\n",
      "123:\tlearn: 0.2738157\ttotal: 664ms\tremaining: 10s\n",
      "124:\tlearn: 0.2730262\ttotal: 668ms\tremaining: 10s\n",
      "125:\tlearn: 0.2724270\ttotal: 672ms\tremaining: 9.99s\n",
      "126:\tlearn: 0.2721131\ttotal: 675ms\tremaining: 9.96s\n",
      "127:\tlearn: 0.2718588\ttotal: 679ms\tremaining: 9.93s\n",
      "128:\tlearn: 0.2716607\ttotal: 683ms\tremaining: 9.9s\n",
      "129:\tlearn: 0.2713771\ttotal: 687ms\tremaining: 9.88s\n",
      "130:\tlearn: 0.2708283\ttotal: 690ms\tremaining: 9.85s\n",
      "131:\tlearn: 0.2705493\ttotal: 694ms\tremaining: 9.82s\n",
      "132:\tlearn: 0.2697200\ttotal: 698ms\tremaining: 9.79s\n",
      "133:\tlearn: 0.2691733\ttotal: 701ms\tremaining: 9.77s\n",
      "134:\tlearn: 0.2683799\ttotal: 705ms\tremaining: 9.74s\n",
      "135:\tlearn: 0.2681629\ttotal: 709ms\tremaining: 9.72s\n",
      "136:\tlearn: 0.2678759\ttotal: 713ms\tremaining: 9.7s\n",
      "137:\tlearn: 0.2670978\ttotal: 716ms\tremaining: 9.67s\n",
      "138:\tlearn: 0.2666079\ttotal: 721ms\tremaining: 9.65s\n",
      "139:\tlearn: 0.2663110\ttotal: 724ms\tremaining: 9.62s\n",
      "140:\tlearn: 0.2653166\ttotal: 728ms\tremaining: 9.6s\n",
      "141:\tlearn: 0.2648088\ttotal: 731ms\tremaining: 9.57s\n",
      "142:\tlearn: 0.2645844\ttotal: 735ms\tremaining: 9.55s\n",
      "143:\tlearn: 0.2633777\ttotal: 739ms\tremaining: 9.52s\n",
      "144:\tlearn: 0.2615295\ttotal: 742ms\tremaining: 9.49s\n",
      "145:\tlearn: 0.2605828\ttotal: 746ms\tremaining: 9.47s\n",
      "146:\tlearn: 0.2601131\ttotal: 749ms\tremaining: 9.45s\n",
      "147:\tlearn: 0.2597937\ttotal: 753ms\tremaining: 9.42s\n",
      "148:\tlearn: 0.2587313\ttotal: 756ms\tremaining: 9.39s\n",
      "149:\tlearn: 0.2585550\ttotal: 760ms\tremaining: 9.38s\n",
      "150:\tlearn: 0.2583514\ttotal: 764ms\tremaining: 9.36s\n",
      "151:\tlearn: 0.2572088\ttotal: 768ms\tremaining: 9.34s\n",
      "152:\tlearn: 0.2569309\ttotal: 772ms\tremaining: 9.32s\n",
      "153:\tlearn: 0.2565414\ttotal: 775ms\tremaining: 9.29s\n",
      "154:\tlearn: 0.2562144\ttotal: 779ms\tremaining: 9.28s\n",
      "155:\tlearn: 0.2554687\ttotal: 783ms\tremaining: 9.26s\n",
      "156:\tlearn: 0.2545579\ttotal: 787ms\tremaining: 9.24s\n",
      "157:\tlearn: 0.2536804\ttotal: 791ms\tremaining: 9.22s\n",
      "158:\tlearn: 0.2528511\ttotal: 795ms\tremaining: 9.21s\n",
      "159:\tlearn: 0.2521838\ttotal: 799ms\tremaining: 9.19s\n",
      "160:\tlearn: 0.2519713\ttotal: 803ms\tremaining: 9.17s\n",
      "161:\tlearn: 0.2508722\ttotal: 807ms\tremaining: 9.15s\n",
      "162:\tlearn: 0.2506748\ttotal: 811ms\tremaining: 9.13s\n",
      "163:\tlearn: 0.2501200\ttotal: 814ms\tremaining: 9.11s\n",
      "164:\tlearn: 0.2493660\ttotal: 818ms\tremaining: 9.09s\n",
      "165:\tlearn: 0.2490975\ttotal: 822ms\tremaining: 9.08s\n",
      "166:\tlearn: 0.2479826\ttotal: 825ms\tremaining: 9.05s\n",
      "167:\tlearn: 0.2478170\ttotal: 829ms\tremaining: 9.04s\n",
      "168:\tlearn: 0.2474678\ttotal: 832ms\tremaining: 9.02s\n",
      "169:\tlearn: 0.2469291\ttotal: 836ms\tremaining: 9s\n",
      "170:\tlearn: 0.2467058\ttotal: 839ms\tremaining: 8.98s\n",
      "171:\tlearn: 0.2464077\ttotal: 843ms\tremaining: 8.96s\n",
      "172:\tlearn: 0.2456950\ttotal: 846ms\tremaining: 8.94s\n",
      "173:\tlearn: 0.2448602\ttotal: 850ms\tremaining: 8.92s\n",
      "174:\tlearn: 0.2444250\ttotal: 854ms\tremaining: 8.9s\n",
      "175:\tlearn: 0.2440981\ttotal: 857ms\tremaining: 8.88s\n",
      "176:\tlearn: 0.2439582\ttotal: 861ms\tremaining: 8.86s\n",
      "177:\tlearn: 0.2438029\ttotal: 864ms\tremaining: 8.85s\n",
      "178:\tlearn: 0.2432570\ttotal: 868ms\tremaining: 8.83s\n",
      "179:\tlearn: 0.2426362\ttotal: 871ms\tremaining: 8.81s\n",
      "180:\tlearn: 0.2417684\ttotal: 875ms\tremaining: 8.79s\n",
      "181:\tlearn: 0.2413373\ttotal: 879ms\tremaining: 8.78s\n",
      "182:\tlearn: 0.2402037\ttotal: 883ms\tremaining: 8.76s\n",
      "183:\tlearn: 0.2398362\ttotal: 886ms\tremaining: 8.74s\n",
      "184:\tlearn: 0.2395686\ttotal: 890ms\tremaining: 8.73s\n",
      "185:\tlearn: 0.2392402\ttotal: 894ms\tremaining: 8.72s\n",
      "186:\tlearn: 0.2388132\ttotal: 897ms\tremaining: 8.7s\n",
      "187:\tlearn: 0.2383322\ttotal: 901ms\tremaining: 8.68s\n",
      "188:\tlearn: 0.2380919\ttotal: 904ms\tremaining: 8.66s\n",
      "189:\tlearn: 0.2376816\ttotal: 907ms\tremaining: 8.64s\n",
      "190:\tlearn: 0.2371368\ttotal: 911ms\tremaining: 8.63s\n",
      "191:\tlearn: 0.2368441\ttotal: 914ms\tremaining: 8.61s\n",
      "192:\tlearn: 0.2356434\ttotal: 918ms\tremaining: 8.59s\n",
      "193:\tlearn: 0.2353579\ttotal: 921ms\tremaining: 8.58s\n",
      "194:\tlearn: 0.2351848\ttotal: 925ms\tremaining: 8.56s\n",
      "195:\tlearn: 0.2349881\ttotal: 929ms\tremaining: 8.55s\n",
      "196:\tlearn: 0.2346707\ttotal: 932ms\tremaining: 8.53s\n",
      "197:\tlearn: 0.2345075\ttotal: 936ms\tremaining: 8.52s\n",
      "198:\tlearn: 0.2343078\ttotal: 940ms\tremaining: 8.51s\n",
      "199:\tlearn: 0.2340243\ttotal: 945ms\tremaining: 8.5s\n",
      "200:\tlearn: 0.2338819\ttotal: 948ms\tremaining: 8.49s\n",
      "201:\tlearn: 0.2334271\ttotal: 953ms\tremaining: 8.48s\n",
      "202:\tlearn: 0.2331703\ttotal: 957ms\tremaining: 8.47s\n",
      "203:\tlearn: 0.2329698\ttotal: 960ms\tremaining: 8.45s\n",
      "204:\tlearn: 0.2324138\ttotal: 964ms\tremaining: 8.44s\n",
      "205:\tlearn: 0.2318660\ttotal: 968ms\tremaining: 8.43s\n",
      "206:\tlearn: 0.2316020\ttotal: 972ms\tremaining: 8.42s\n",
      "207:\tlearn: 0.2312521\ttotal: 976ms\tremaining: 8.4s\n",
      "208:\tlearn: 0.2304249\ttotal: 980ms\tremaining: 8.4s\n",
      "209:\tlearn: 0.2302979\ttotal: 983ms\tremaining: 8.38s\n",
      "210:\tlearn: 0.2296388\ttotal: 987ms\tremaining: 8.37s\n",
      "211:\tlearn: 0.2295315\ttotal: 990ms\tremaining: 8.35s\n",
      "212:\tlearn: 0.2294154\ttotal: 994ms\tremaining: 8.34s\n",
      "213:\tlearn: 0.2285257\ttotal: 997ms\tremaining: 8.32s\n",
      "214:\tlearn: 0.2276821\ttotal: 1s\tremaining: 8.31s\n",
      "215:\tlearn: 0.2273508\ttotal: 1s\tremaining: 8.29s\n",
      "216:\tlearn: 0.2267133\ttotal: 1.01s\tremaining: 8.28s\n",
      "217:\tlearn: 0.2265092\ttotal: 1.01s\tremaining: 8.27s\n",
      "218:\tlearn: 0.2260693\ttotal: 1.01s\tremaining: 8.25s\n",
      "219:\tlearn: 0.2258950\ttotal: 1.02s\tremaining: 8.24s\n",
      "220:\tlearn: 0.2251773\ttotal: 1.02s\tremaining: 8.22s\n",
      "221:\tlearn: 0.2247614\ttotal: 1.02s\tremaining: 8.21s\n",
      "222:\tlearn: 0.2244431\ttotal: 1.03s\tremaining: 8.2s\n",
      "223:\tlearn: 0.2243198\ttotal: 1.03s\tremaining: 8.19s\n",
      "224:\tlearn: 0.2240996\ttotal: 1.04s\tremaining: 8.18s\n",
      "225:\tlearn: 0.2238774\ttotal: 1.04s\tremaining: 8.16s\n",
      "226:\tlearn: 0.2233930\ttotal: 1.04s\tremaining: 8.15s\n",
      "227:\tlearn: 0.2232292\ttotal: 1.05s\tremaining: 8.14s\n",
      "228:\tlearn: 0.2231284\ttotal: 1.05s\tremaining: 8.13s\n",
      "229:\tlearn: 0.2229994\ttotal: 1.05s\tremaining: 8.11s\n",
      "230:\tlearn: 0.2227444\ttotal: 1.06s\tremaining: 8.1s\n",
      "231:\tlearn: 0.2224271\ttotal: 1.06s\tremaining: 8.09s\n",
      "232:\tlearn: 0.2219693\ttotal: 1.06s\tremaining: 8.08s\n",
      "233:\tlearn: 0.2213399\ttotal: 1.07s\tremaining: 8.07s\n",
      "234:\tlearn: 0.2211875\ttotal: 1.07s\tremaining: 8.05s\n",
      "235:\tlearn: 0.2206817\ttotal: 1.07s\tremaining: 8.04s\n",
      "236:\tlearn: 0.2205485\ttotal: 1.08s\tremaining: 8.03s\n",
      "237:\tlearn: 0.2204087\ttotal: 1.08s\tremaining: 8.02s\n",
      "238:\tlearn: 0.2203169\ttotal: 1.09s\tremaining: 8.01s\n",
      "239:\tlearn: 0.2195291\ttotal: 1.09s\tremaining: 8s\n",
      "240:\tlearn: 0.2192805\ttotal: 1.09s\tremaining: 7.98s\n",
      "241:\tlearn: 0.2190722\ttotal: 1.1s\tremaining: 7.97s\n",
      "242:\tlearn: 0.2186060\ttotal: 1.1s\tremaining: 7.96s\n",
      "243:\tlearn: 0.2183342\ttotal: 1.1s\tremaining: 7.95s\n",
      "244:\tlearn: 0.2181466\ttotal: 1.11s\tremaining: 7.93s\n",
      "245:\tlearn: 0.2172883\ttotal: 1.11s\tremaining: 7.92s\n",
      "246:\tlearn: 0.2166708\ttotal: 1.11s\tremaining: 7.91s\n",
      "247:\tlearn: 0.2162573\ttotal: 1.12s\tremaining: 7.9s\n",
      "248:\tlearn: 0.2153415\ttotal: 1.12s\tremaining: 7.89s\n",
      "249:\tlearn: 0.2151915\ttotal: 1.13s\tremaining: 7.88s\n",
      "250:\tlearn: 0.2146666\ttotal: 1.13s\tremaining: 7.87s\n",
      "251:\tlearn: 0.2142064\ttotal: 1.13s\tremaining: 7.86s\n",
      "252:\tlearn: 0.2139882\ttotal: 1.14s\tremaining: 7.85s\n",
      "253:\tlearn: 0.2135957\ttotal: 1.14s\tremaining: 7.84s\n",
      "254:\tlearn: 0.2132009\ttotal: 1.14s\tremaining: 7.83s\n",
      "255:\tlearn: 0.2121033\ttotal: 1.15s\tremaining: 7.82s\n",
      "256:\tlearn: 0.2118249\ttotal: 1.15s\tremaining: 7.8s\n",
      "257:\tlearn: 0.2114850\ttotal: 1.15s\tremaining: 7.79s\n",
      "258:\tlearn: 0.2113237\ttotal: 1.16s\tremaining: 7.78s\n",
      "259:\tlearn: 0.2111590\ttotal: 1.16s\tremaining: 7.78s\n",
      "260:\tlearn: 0.2110116\ttotal: 1.17s\tremaining: 7.76s\n",
      "261:\tlearn: 0.2108456\ttotal: 1.17s\tremaining: 7.76s\n",
      "262:\tlearn: 0.2105223\ttotal: 1.17s\tremaining: 7.75s\n",
      "263:\tlearn: 0.2102560\ttotal: 1.18s\tremaining: 7.74s\n",
      "264:\tlearn: 0.2097455\ttotal: 1.18s\tremaining: 7.74s\n",
      "265:\tlearn: 0.2091249\ttotal: 1.19s\tremaining: 7.73s\n",
      "266:\tlearn: 0.2088314\ttotal: 1.19s\tremaining: 7.72s\n",
      "267:\tlearn: 0.2085937\ttotal: 1.19s\tremaining: 7.71s\n",
      "268:\tlearn: 0.2083745\ttotal: 1.2s\tremaining: 7.7s\n",
      "269:\tlearn: 0.2082271\ttotal: 1.2s\tremaining: 7.7s\n",
      "270:\tlearn: 0.2080050\ttotal: 1.21s\tremaining: 7.69s\n",
      "271:\tlearn: 0.2078077\ttotal: 1.21s\tremaining: 7.68s\n",
      "272:\tlearn: 0.2076988\ttotal: 1.21s\tremaining: 7.68s\n",
      "273:\tlearn: 0.2072013\ttotal: 1.22s\tremaining: 7.68s\n",
      "274:\tlearn: 0.2068086\ttotal: 1.22s\tremaining: 7.67s\n",
      "275:\tlearn: 0.2065557\ttotal: 1.23s\tremaining: 7.66s\n",
      "276:\tlearn: 0.2062752\ttotal: 1.23s\tremaining: 7.65s\n",
      "277:\tlearn: 0.2061457\ttotal: 1.23s\tremaining: 7.64s\n",
      "278:\tlearn: 0.2057051\ttotal: 1.24s\tremaining: 7.64s\n",
      "279:\tlearn: 0.2055803\ttotal: 1.24s\tremaining: 7.63s\n",
      "280:\tlearn: 0.2054313\ttotal: 1.25s\tremaining: 7.62s\n",
      "281:\tlearn: 0.2051697\ttotal: 1.25s\tremaining: 7.62s\n",
      "282:\tlearn: 0.2050427\ttotal: 1.25s\tremaining: 7.61s\n",
      "283:\tlearn: 0.2038975\ttotal: 1.26s\tremaining: 7.6s\n",
      "284:\tlearn: 0.2036904\ttotal: 1.26s\tremaining: 7.59s\n",
      "285:\tlearn: 0.2034304\ttotal: 1.26s\tremaining: 7.58s\n",
      "286:\tlearn: 0.2031107\ttotal: 1.27s\tremaining: 7.57s\n",
      "287:\tlearn: 0.2027560\ttotal: 1.27s\tremaining: 7.56s\n",
      "288:\tlearn: 0.2026359\ttotal: 1.27s\tremaining: 7.55s\n",
      "289:\tlearn: 0.2025074\ttotal: 1.28s\tremaining: 7.54s\n",
      "290:\tlearn: 0.2020775\ttotal: 1.28s\tremaining: 7.54s\n",
      "291:\tlearn: 0.2011985\ttotal: 1.29s\tremaining: 7.53s\n",
      "292:\tlearn: 0.2007486\ttotal: 1.29s\tremaining: 7.52s\n",
      "293:\tlearn: 0.2002715\ttotal: 1.29s\tremaining: 7.51s\n",
      "294:\tlearn: 0.2001343\ttotal: 1.3s\tremaining: 7.5s\n",
      "295:\tlearn: 0.1995497\ttotal: 1.3s\tremaining: 7.49s\n",
      "296:\tlearn: 0.1993261\ttotal: 1.3s\tremaining: 7.48s\n",
      "297:\tlearn: 0.1992281\ttotal: 1.31s\tremaining: 7.47s\n",
      "298:\tlearn: 0.1991476\ttotal: 1.31s\tremaining: 7.46s\n",
      "299:\tlearn: 0.1989223\ttotal: 1.31s\tremaining: 7.46s\n",
      "300:\tlearn: 0.1984742\ttotal: 1.32s\tremaining: 7.45s\n",
      "301:\tlearn: 0.1982374\ttotal: 1.32s\tremaining: 7.44s\n",
      "302:\tlearn: 0.1978000\ttotal: 1.33s\tremaining: 7.43s\n",
      "303:\tlearn: 0.1976327\ttotal: 1.33s\tremaining: 7.42s\n",
      "304:\tlearn: 0.1975131\ttotal: 1.33s\tremaining: 7.42s\n",
      "305:\tlearn: 0.1971206\ttotal: 1.34s\tremaining: 7.41s\n",
      "306:\tlearn: 0.1967437\ttotal: 1.34s\tremaining: 7.4s\n",
      "307:\tlearn: 0.1966069\ttotal: 1.34s\tremaining: 7.39s\n",
      "308:\tlearn: 0.1963973\ttotal: 1.35s\tremaining: 7.39s\n",
      "309:\tlearn: 0.1962186\ttotal: 1.35s\tremaining: 7.38s\n",
      "310:\tlearn: 0.1955649\ttotal: 1.36s\tremaining: 7.37s\n",
      "311:\tlearn: 0.1953582\ttotal: 1.36s\tremaining: 7.37s\n",
      "312:\tlearn: 0.1950452\ttotal: 1.36s\tremaining: 7.36s\n",
      "313:\tlearn: 0.1945938\ttotal: 1.37s\tremaining: 7.35s\n",
      "314:\tlearn: 0.1939749\ttotal: 1.37s\tremaining: 7.34s\n",
      "315:\tlearn: 0.1937509\ttotal: 1.38s\tremaining: 7.33s\n",
      "316:\tlearn: 0.1935818\ttotal: 1.38s\tremaining: 7.33s\n",
      "317:\tlearn: 0.1934600\ttotal: 1.38s\tremaining: 7.32s\n",
      "318:\tlearn: 0.1932186\ttotal: 1.39s\tremaining: 7.31s\n",
      "319:\tlearn: 0.1928633\ttotal: 1.39s\tremaining: 7.3s\n",
      "320:\tlearn: 0.1923570\ttotal: 1.39s\tremaining: 7.29s\n",
      "321:\tlearn: 0.1921867\ttotal: 1.4s\tremaining: 7.28s\n",
      "322:\tlearn: 0.1921052\ttotal: 1.4s\tremaining: 7.27s\n",
      "323:\tlearn: 0.1920202\ttotal: 1.4s\tremaining: 7.26s\n",
      "324:\tlearn: 0.1919230\ttotal: 1.41s\tremaining: 7.26s\n",
      "325:\tlearn: 0.1917216\ttotal: 1.41s\tremaining: 7.25s\n",
      "326:\tlearn: 0.1915030\ttotal: 1.41s\tremaining: 7.24s\n",
      "327:\tlearn: 0.1913121\ttotal: 1.42s\tremaining: 7.23s\n",
      "328:\tlearn: 0.1911202\ttotal: 1.42s\tremaining: 7.22s\n",
      "329:\tlearn: 0.1910037\ttotal: 1.42s\tremaining: 7.21s\n",
      "330:\tlearn: 0.1903144\ttotal: 1.43s\tremaining: 7.2s\n",
      "331:\tlearn: 0.1901520\ttotal: 1.43s\tremaining: 7.19s\n",
      "332:\tlearn: 0.1900885\ttotal: 1.43s\tremaining: 7.18s\n",
      "333:\tlearn: 0.1899574\ttotal: 1.44s\tremaining: 7.17s\n",
      "334:\tlearn: 0.1897198\ttotal: 1.44s\tremaining: 7.16s\n",
      "335:\tlearn: 0.1895702\ttotal: 1.44s\tremaining: 7.15s\n",
      "336:\tlearn: 0.1893589\ttotal: 1.45s\tremaining: 7.15s\n",
      "337:\tlearn: 0.1891286\ttotal: 1.45s\tremaining: 7.14s\n",
      "338:\tlearn: 0.1889699\ttotal: 1.46s\tremaining: 7.13s\n",
      "339:\tlearn: 0.1886279\ttotal: 1.46s\tremaining: 7.12s\n",
      "340:\tlearn: 0.1884861\ttotal: 1.46s\tremaining: 7.11s\n",
      "341:\tlearn: 0.1879658\ttotal: 1.47s\tremaining: 7.1s\n",
      "342:\tlearn: 0.1874727\ttotal: 1.47s\tremaining: 7.09s\n",
      "343:\tlearn: 0.1870741\ttotal: 1.47s\tremaining: 7.09s\n",
      "344:\tlearn: 0.1868264\ttotal: 1.48s\tremaining: 7.08s\n",
      "345:\tlearn: 0.1862694\ttotal: 1.48s\tremaining: 7.07s\n",
      "346:\tlearn: 0.1860868\ttotal: 1.48s\tremaining: 7.06s\n",
      "347:\tlearn: 0.1858380\ttotal: 1.48s\tremaining: 7.05s\n",
      "348:\tlearn: 0.1857328\ttotal: 1.49s\tremaining: 7.04s\n",
      "349:\tlearn: 0.1856313\ttotal: 1.49s\tremaining: 7.03s\n",
      "350:\tlearn: 0.1854764\ttotal: 1.49s\tremaining: 7.02s\n",
      "351:\tlearn: 0.1852132\ttotal: 1.5s\tremaining: 7.01s\n",
      "352:\tlearn: 0.1849981\ttotal: 1.5s\tremaining: 7s\n",
      "353:\tlearn: 0.1847920\ttotal: 1.5s\tremaining: 6.99s\n",
      "354:\tlearn: 0.1847138\ttotal: 1.51s\tremaining: 6.98s\n",
      "355:\tlearn: 0.1844985\ttotal: 1.51s\tremaining: 6.97s\n",
      "356:\tlearn: 0.1843878\ttotal: 1.51s\tremaining: 6.96s\n",
      "357:\tlearn: 0.1842679\ttotal: 1.52s\tremaining: 6.96s\n",
      "358:\tlearn: 0.1840631\ttotal: 1.52s\tremaining: 6.95s\n",
      "359:\tlearn: 0.1838473\ttotal: 1.52s\tremaining: 6.93s\n",
      "360:\tlearn: 0.1836521\ttotal: 1.52s\tremaining: 6.93s\n",
      "361:\tlearn: 0.1833613\ttotal: 1.53s\tremaining: 6.92s\n",
      "362:\tlearn: 0.1832990\ttotal: 1.53s\tremaining: 6.91s\n",
      "363:\tlearn: 0.1829807\ttotal: 1.53s\tremaining: 6.9s\n",
      "364:\tlearn: 0.1827863\ttotal: 1.54s\tremaining: 6.89s\n",
      "365:\tlearn: 0.1826256\ttotal: 1.54s\tremaining: 6.88s\n",
      "366:\tlearn: 0.1824779\ttotal: 1.54s\tremaining: 6.88s\n",
      "367:\tlearn: 0.1821814\ttotal: 1.55s\tremaining: 6.87s\n",
      "368:\tlearn: 0.1820365\ttotal: 1.55s\tremaining: 6.86s\n",
      "369:\tlearn: 0.1817041\ttotal: 1.55s\tremaining: 6.85s\n",
      "370:\tlearn: 0.1811403\ttotal: 1.56s\tremaining: 6.84s\n",
      "371:\tlearn: 0.1807930\ttotal: 1.56s\tremaining: 6.84s\n",
      "372:\tlearn: 0.1804767\ttotal: 1.56s\tremaining: 6.83s\n",
      "373:\tlearn: 0.1803556\ttotal: 1.57s\tremaining: 6.82s\n",
      "374:\tlearn: 0.1801946\ttotal: 1.57s\tremaining: 6.81s\n",
      "375:\tlearn: 0.1799234\ttotal: 1.57s\tremaining: 6.8s\n",
      "376:\tlearn: 0.1794867\ttotal: 1.58s\tremaining: 6.8s\n",
      "377:\tlearn: 0.1792451\ttotal: 1.58s\tremaining: 6.79s\n",
      "378:\tlearn: 0.1791998\ttotal: 1.59s\tremaining: 6.79s\n",
      "379:\tlearn: 0.1790242\ttotal: 1.59s\tremaining: 6.78s\n",
      "380:\tlearn: 0.1789007\ttotal: 1.59s\tremaining: 6.77s\n",
      "381:\tlearn: 0.1788154\ttotal: 1.6s\tremaining: 6.76s\n",
      "382:\tlearn: 0.1787479\ttotal: 1.6s\tremaining: 6.76s\n",
      "383:\tlearn: 0.1786441\ttotal: 1.6s\tremaining: 6.75s\n",
      "384:\tlearn: 0.1781739\ttotal: 1.61s\tremaining: 6.74s\n",
      "385:\tlearn: 0.1780101\ttotal: 1.61s\tremaining: 6.73s\n",
      "386:\tlearn: 0.1777254\ttotal: 1.61s\tremaining: 6.73s\n",
      "387:\tlearn: 0.1776646\ttotal: 1.62s\tremaining: 6.72s\n",
      "388:\tlearn: 0.1776102\ttotal: 1.62s\tremaining: 6.71s\n",
      "389:\tlearn: 0.1773578\ttotal: 1.62s\tremaining: 6.71s\n",
      "390:\tlearn: 0.1771880\ttotal: 1.63s\tremaining: 6.7s\n",
      "391:\tlearn: 0.1770626\ttotal: 1.63s\tremaining: 6.7s\n",
      "392:\tlearn: 0.1769914\ttotal: 1.64s\tremaining: 6.69s\n",
      "393:\tlearn: 0.1766802\ttotal: 1.64s\tremaining: 6.68s\n",
      "394:\tlearn: 0.1763311\ttotal: 1.64s\tremaining: 6.67s\n",
      "395:\tlearn: 0.1762465\ttotal: 1.65s\tremaining: 6.67s\n",
      "396:\tlearn: 0.1761581\ttotal: 1.65s\tremaining: 6.66s\n",
      "397:\tlearn: 0.1760223\ttotal: 1.65s\tremaining: 6.66s\n",
      "398:\tlearn: 0.1758865\ttotal: 1.66s\tremaining: 6.65s\n",
      "399:\tlearn: 0.1757736\ttotal: 1.66s\tremaining: 6.64s\n",
      "400:\tlearn: 0.1756429\ttotal: 1.66s\tremaining: 6.63s\n",
      "401:\tlearn: 0.1755120\ttotal: 1.67s\tremaining: 6.63s\n",
      "402:\tlearn: 0.1754336\ttotal: 1.67s\tremaining: 6.62s\n",
      "403:\tlearn: 0.1752521\ttotal: 1.67s\tremaining: 6.61s\n",
      "404:\tlearn: 0.1751968\ttotal: 1.68s\tremaining: 6.6s\n",
      "405:\tlearn: 0.1750144\ttotal: 1.68s\tremaining: 6.59s\n",
      "406:\tlearn: 0.1744140\ttotal: 1.68s\tremaining: 6.58s\n",
      "407:\tlearn: 0.1742560\ttotal: 1.69s\tremaining: 6.58s\n",
      "408:\tlearn: 0.1741669\ttotal: 1.69s\tremaining: 6.57s\n",
      "409:\tlearn: 0.1737611\ttotal: 1.69s\tremaining: 6.56s\n",
      "410:\tlearn: 0.1735665\ttotal: 1.7s\tremaining: 6.55s\n",
      "411:\tlearn: 0.1733414\ttotal: 1.7s\tremaining: 6.55s\n",
      "412:\tlearn: 0.1731439\ttotal: 1.7s\tremaining: 6.54s\n",
      "413:\tlearn: 0.1729409\ttotal: 1.7s\tremaining: 6.53s\n",
      "414:\tlearn: 0.1726565\ttotal: 1.71s\tremaining: 6.52s\n",
      "415:\tlearn: 0.1724668\ttotal: 1.71s\tremaining: 6.51s\n",
      "416:\tlearn: 0.1723337\ttotal: 1.71s\tremaining: 6.51s\n",
      "417:\tlearn: 0.1720957\ttotal: 1.72s\tremaining: 6.5s\n",
      "418:\tlearn: 0.1719105\ttotal: 1.72s\tremaining: 6.49s\n",
      "419:\tlearn: 0.1715406\ttotal: 1.72s\tremaining: 6.49s\n",
      "420:\tlearn: 0.1713793\ttotal: 1.73s\tremaining: 6.48s\n",
      "421:\tlearn: 0.1712569\ttotal: 1.73s\tremaining: 6.47s\n",
      "422:\tlearn: 0.1709645\ttotal: 1.73s\tremaining: 6.46s\n",
      "423:\tlearn: 0.1708763\ttotal: 1.74s\tremaining: 6.45s\n",
      "424:\tlearn: 0.1708119\ttotal: 1.74s\tremaining: 6.45s\n",
      "425:\tlearn: 0.1707659\ttotal: 1.74s\tremaining: 6.44s\n",
      "426:\tlearn: 0.1700830\ttotal: 1.75s\tremaining: 6.43s\n",
      "427:\tlearn: 0.1697234\ttotal: 1.75s\tremaining: 6.42s\n",
      "428:\tlearn: 0.1696700\ttotal: 1.75s\tremaining: 6.42s\n",
      "429:\tlearn: 0.1694042\ttotal: 1.75s\tremaining: 6.41s\n",
      "430:\tlearn: 0.1693776\ttotal: 1.76s\tremaining: 6.4s\n",
      "431:\tlearn: 0.1691537\ttotal: 1.76s\tremaining: 6.39s\n",
      "432:\tlearn: 0.1690332\ttotal: 1.76s\tremaining: 6.39s\n",
      "433:\tlearn: 0.1688322\ttotal: 1.77s\tremaining: 6.38s\n",
      "434:\tlearn: 0.1681132\ttotal: 1.77s\tremaining: 6.37s\n",
      "435:\tlearn: 0.1678356\ttotal: 1.77s\tremaining: 6.36s\n",
      "436:\tlearn: 0.1676311\ttotal: 1.78s\tremaining: 6.36s\n",
      "437:\tlearn: 0.1673975\ttotal: 1.78s\tremaining: 6.35s\n",
      "438:\tlearn: 0.1672602\ttotal: 1.78s\tremaining: 6.34s\n",
      "439:\tlearn: 0.1671872\ttotal: 1.79s\tremaining: 6.33s\n",
      "440:\tlearn: 0.1668506\ttotal: 1.79s\tremaining: 6.33s\n",
      "441:\tlearn: 0.1667379\ttotal: 1.79s\tremaining: 6.32s\n",
      "442:\tlearn: 0.1665703\ttotal: 1.79s\tremaining: 6.31s\n",
      "443:\tlearn: 0.1663797\ttotal: 1.8s\tremaining: 6.3s\n",
      "444:\tlearn: 0.1663305\ttotal: 1.8s\tremaining: 6.29s\n",
      "445:\tlearn: 0.1662546\ttotal: 1.8s\tremaining: 6.29s\n",
      "446:\tlearn: 0.1661374\ttotal: 1.81s\tremaining: 6.28s\n",
      "447:\tlearn: 0.1660797\ttotal: 1.81s\tremaining: 6.27s\n",
      "448:\tlearn: 0.1654940\ttotal: 1.81s\tremaining: 6.26s\n",
      "449:\tlearn: 0.1653443\ttotal: 1.82s\tremaining: 6.26s\n",
      "450:\tlearn: 0.1652688\ttotal: 1.82s\tremaining: 6.25s\n",
      "451:\tlearn: 0.1651800\ttotal: 1.82s\tremaining: 6.24s\n",
      "452:\tlearn: 0.1649170\ttotal: 1.82s\tremaining: 6.23s\n",
      "453:\tlearn: 0.1648649\ttotal: 1.83s\tremaining: 6.23s\n",
      "454:\tlearn: 0.1647272\ttotal: 1.83s\tremaining: 6.22s\n",
      "455:\tlearn: 0.1646658\ttotal: 1.83s\tremaining: 6.21s\n",
      "456:\tlearn: 0.1644124\ttotal: 1.84s\tremaining: 6.21s\n",
      "457:\tlearn: 0.1642863\ttotal: 1.84s\tremaining: 6.21s\n",
      "458:\tlearn: 0.1640684\ttotal: 1.85s\tremaining: 6.2s\n",
      "459:\tlearn: 0.1639581\ttotal: 1.85s\tremaining: 6.19s\n",
      "460:\tlearn: 0.1638815\ttotal: 1.85s\tremaining: 6.18s\n",
      "461:\tlearn: 0.1634785\ttotal: 1.86s\tremaining: 6.18s\n",
      "462:\tlearn: 0.1632717\ttotal: 1.86s\tremaining: 6.17s\n",
      "463:\tlearn: 0.1631525\ttotal: 1.86s\tremaining: 6.17s\n",
      "464:\tlearn: 0.1630717\ttotal: 1.87s\tremaining: 6.16s\n",
      "465:\tlearn: 0.1629895\ttotal: 1.87s\tremaining: 6.15s\n",
      "466:\tlearn: 0.1629223\ttotal: 1.87s\tremaining: 6.15s\n",
      "467:\tlearn: 0.1628782\ttotal: 1.88s\tremaining: 6.14s\n",
      "468:\tlearn: 0.1627241\ttotal: 1.88s\tremaining: 6.13s\n",
      "469:\tlearn: 0.1624716\ttotal: 1.88s\tremaining: 6.13s\n",
      "470:\tlearn: 0.1622054\ttotal: 1.89s\tremaining: 6.12s\n",
      "471:\tlearn: 0.1619976\ttotal: 1.89s\tremaining: 6.12s\n",
      "472:\tlearn: 0.1619019\ttotal: 1.89s\tremaining: 6.11s\n",
      "473:\tlearn: 0.1617298\ttotal: 1.9s\tremaining: 6.1s\n",
      "474:\tlearn: 0.1615983\ttotal: 1.9s\tremaining: 6.1s\n",
      "475:\tlearn: 0.1614131\ttotal: 1.9s\tremaining: 6.09s\n",
      "476:\tlearn: 0.1612992\ttotal: 1.91s\tremaining: 6.09s\n",
      "477:\tlearn: 0.1611436\ttotal: 1.91s\tremaining: 6.08s\n",
      "478:\tlearn: 0.1610371\ttotal: 1.91s\tremaining: 6.07s\n",
      "479:\tlearn: 0.1609488\ttotal: 1.92s\tremaining: 6.07s\n",
      "480:\tlearn: 0.1607675\ttotal: 1.92s\tremaining: 6.06s\n",
      "481:\tlearn: 0.1604384\ttotal: 1.92s\tremaining: 6.05s\n",
      "482:\tlearn: 0.1603563\ttotal: 1.92s\tremaining: 6.04s\n",
      "483:\tlearn: 0.1602696\ttotal: 1.93s\tremaining: 6.04s\n",
      "484:\tlearn: 0.1601798\ttotal: 1.93s\tremaining: 6.03s\n",
      "485:\tlearn: 0.1598871\ttotal: 1.93s\tremaining: 6.03s\n",
      "486:\tlearn: 0.1597820\ttotal: 1.94s\tremaining: 6.02s\n",
      "487:\tlearn: 0.1595471\ttotal: 1.94s\tremaining: 6.01s\n",
      "488:\tlearn: 0.1592962\ttotal: 1.94s\tremaining: 6.01s\n",
      "489:\tlearn: 0.1592193\ttotal: 1.95s\tremaining: 6s\n",
      "490:\tlearn: 0.1591725\ttotal: 1.95s\tremaining: 6s\n",
      "491:\tlearn: 0.1590395\ttotal: 1.96s\tremaining: 5.99s\n",
      "492:\tlearn: 0.1584825\ttotal: 1.96s\tremaining: 5.99s\n",
      "493:\tlearn: 0.1582571\ttotal: 1.96s\tremaining: 5.98s\n",
      "494:\tlearn: 0.1580757\ttotal: 1.97s\tremaining: 5.98s\n",
      "495:\tlearn: 0.1578901\ttotal: 1.97s\tremaining: 5.97s\n",
      "496:\tlearn: 0.1572405\ttotal: 1.97s\tremaining: 5.96s\n",
      "497:\tlearn: 0.1570891\ttotal: 1.98s\tremaining: 5.96s\n",
      "498:\tlearn: 0.1568102\ttotal: 1.98s\tremaining: 5.95s\n",
      "499:\tlearn: 0.1566780\ttotal: 1.98s\tremaining: 5.94s\n",
      "500:\tlearn: 0.1565827\ttotal: 1.98s\tremaining: 5.94s\n",
      "501:\tlearn: 0.1564318\ttotal: 1.99s\tremaining: 5.93s\n",
      "502:\tlearn: 0.1562445\ttotal: 1.99s\tremaining: 5.92s\n",
      "503:\tlearn: 0.1558963\ttotal: 1.99s\tremaining: 5.92s\n",
      "504:\tlearn: 0.1557501\ttotal: 2s\tremaining: 5.91s\n",
      "505:\tlearn: 0.1556995\ttotal: 2s\tremaining: 5.91s\n",
      "506:\tlearn: 0.1555969\ttotal: 2s\tremaining: 5.9s\n",
      "507:\tlearn: 0.1555374\ttotal: 2.01s\tremaining: 5.9s\n",
      "508:\tlearn: 0.1553748\ttotal: 2.01s\tremaining: 5.89s\n",
      "509:\tlearn: 0.1553311\ttotal: 2.01s\tremaining: 5.88s\n",
      "510:\tlearn: 0.1551994\ttotal: 2.02s\tremaining: 5.88s\n",
      "511:\tlearn: 0.1550887\ttotal: 2.02s\tremaining: 5.87s\n",
      "512:\tlearn: 0.1550059\ttotal: 2.02s\tremaining: 5.87s\n",
      "513:\tlearn: 0.1548920\ttotal: 2.03s\tremaining: 5.86s\n",
      "514:\tlearn: 0.1546775\ttotal: 2.05s\tremaining: 5.9s\n",
      "515:\tlearn: 0.1546028\ttotal: 2.05s\tremaining: 5.89s\n",
      "516:\tlearn: 0.1545169\ttotal: 2.06s\tremaining: 5.89s\n",
      "517:\tlearn: 0.1544103\ttotal: 2.06s\tremaining: 5.89s\n",
      "518:\tlearn: 0.1543087\ttotal: 2.06s\tremaining: 5.88s\n",
      "519:\tlearn: 0.1537921\ttotal: 2.07s\tremaining: 5.88s\n",
      "520:\tlearn: 0.1536907\ttotal: 2.07s\tremaining: 5.88s\n",
      "521:\tlearn: 0.1534609\ttotal: 2.07s\tremaining: 5.87s\n",
      "522:\tlearn: 0.1533050\ttotal: 2.08s\tremaining: 5.86s\n",
      "523:\tlearn: 0.1532414\ttotal: 2.08s\tremaining: 5.86s\n",
      "524:\tlearn: 0.1531335\ttotal: 2.08s\tremaining: 5.85s\n",
      "525:\tlearn: 0.1528580\ttotal: 2.09s\tremaining: 5.84s\n",
      "526:\tlearn: 0.1527707\ttotal: 2.09s\tremaining: 5.84s\n",
      "527:\tlearn: 0.1525436\ttotal: 2.09s\tremaining: 5.83s\n",
      "528:\tlearn: 0.1521464\ttotal: 2.1s\tremaining: 5.83s\n",
      "529:\tlearn: 0.1520895\ttotal: 2.1s\tremaining: 5.82s\n",
      "530:\tlearn: 0.1519886\ttotal: 2.1s\tremaining: 5.82s\n",
      "531:\tlearn: 0.1518753\ttotal: 2.1s\tremaining: 5.81s\n",
      "532:\tlearn: 0.1516040\ttotal: 2.11s\tremaining: 5.8s\n",
      "533:\tlearn: 0.1514934\ttotal: 2.11s\tremaining: 5.8s\n",
      "534:\tlearn: 0.1514462\ttotal: 2.11s\tremaining: 5.79s\n",
      "535:\tlearn: 0.1513611\ttotal: 2.12s\tremaining: 5.79s\n",
      "536:\tlearn: 0.1511805\ttotal: 2.12s\tremaining: 5.78s\n",
      "537:\tlearn: 0.1510438\ttotal: 2.12s\tremaining: 5.77s\n",
      "538:\tlearn: 0.1510003\ttotal: 2.13s\tremaining: 5.77s\n",
      "539:\tlearn: 0.1508788\ttotal: 2.13s\tremaining: 5.76s\n",
      "540:\tlearn: 0.1506631\ttotal: 2.13s\tremaining: 5.75s\n",
      "541:\tlearn: 0.1503101\ttotal: 2.14s\tremaining: 5.75s\n",
      "542:\tlearn: 0.1502120\ttotal: 2.14s\tremaining: 5.74s\n",
      "543:\tlearn: 0.1501528\ttotal: 2.14s\tremaining: 5.74s\n",
      "544:\tlearn: 0.1500896\ttotal: 2.15s\tremaining: 5.73s\n",
      "545:\tlearn: 0.1499300\ttotal: 2.15s\tremaining: 5.72s\n",
      "546:\tlearn: 0.1498243\ttotal: 2.15s\tremaining: 5.72s\n",
      "547:\tlearn: 0.1497043\ttotal: 2.16s\tremaining: 5.72s\n",
      "548:\tlearn: 0.1495934\ttotal: 2.16s\tremaining: 5.71s\n",
      "549:\tlearn: 0.1494711\ttotal: 2.16s\tremaining: 5.71s\n",
      "550:\tlearn: 0.1494296\ttotal: 2.17s\tremaining: 5.7s\n",
      "551:\tlearn: 0.1492219\ttotal: 2.17s\tremaining: 5.7s\n",
      "552:\tlearn: 0.1491597\ttotal: 2.17s\tremaining: 5.69s\n",
      "553:\tlearn: 0.1490718\ttotal: 2.18s\tremaining: 5.68s\n",
      "554:\tlearn: 0.1489916\ttotal: 2.18s\tremaining: 5.68s\n",
      "555:\tlearn: 0.1488049\ttotal: 2.18s\tremaining: 5.67s\n",
      "556:\tlearn: 0.1486784\ttotal: 2.19s\tremaining: 5.66s\n",
      "557:\tlearn: 0.1484461\ttotal: 2.19s\tremaining: 5.66s\n",
      "558:\tlearn: 0.1482768\ttotal: 2.19s\tremaining: 5.65s\n",
      "559:\tlearn: 0.1478973\ttotal: 2.19s\tremaining: 5.64s\n",
      "560:\tlearn: 0.1477772\ttotal: 2.2s\tremaining: 5.64s\n",
      "561:\tlearn: 0.1475056\ttotal: 2.2s\tremaining: 5.63s\n",
      "562:\tlearn: 0.1473909\ttotal: 2.2s\tremaining: 5.62s\n",
      "563:\tlearn: 0.1473391\ttotal: 2.21s\tremaining: 5.62s\n",
      "564:\tlearn: 0.1470762\ttotal: 2.21s\tremaining: 5.61s\n",
      "565:\tlearn: 0.1468164\ttotal: 2.21s\tremaining: 5.61s\n",
      "566:\tlearn: 0.1464698\ttotal: 2.21s\tremaining: 5.6s\n",
      "567:\tlearn: 0.1461847\ttotal: 2.22s\tremaining: 5.59s\n",
      "568:\tlearn: 0.1460614\ttotal: 2.22s\tremaining: 5.59s\n",
      "569:\tlearn: 0.1459456\ttotal: 2.22s\tremaining: 5.58s\n",
      "570:\tlearn: 0.1457208\ttotal: 2.23s\tremaining: 5.57s\n",
      "571:\tlearn: 0.1455760\ttotal: 2.23s\tremaining: 5.57s\n",
      "572:\tlearn: 0.1455210\ttotal: 2.23s\tremaining: 5.56s\n",
      "573:\tlearn: 0.1452606\ttotal: 2.24s\tremaining: 5.55s\n",
      "574:\tlearn: 0.1452016\ttotal: 2.24s\tremaining: 5.55s\n",
      "575:\tlearn: 0.1450775\ttotal: 2.24s\tremaining: 5.54s\n",
      "576:\tlearn: 0.1448590\ttotal: 2.24s\tremaining: 5.54s\n",
      "577:\tlearn: 0.1447956\ttotal: 2.28s\tremaining: 5.61s\n",
      "578:\tlearn: 0.1447181\ttotal: 2.29s\tremaining: 5.61s\n",
      "579:\tlearn: 0.1443933\ttotal: 2.29s\tremaining: 5.61s\n",
      "580:\tlearn: 0.1440481\ttotal: 2.29s\tremaining: 5.61s\n",
      "581:\tlearn: 0.1438690\ttotal: 2.3s\tremaining: 5.6s\n",
      "582:\tlearn: 0.1437031\ttotal: 2.3s\tremaining: 5.59s\n",
      "583:\tlearn: 0.1435365\ttotal: 2.3s\tremaining: 5.59s\n",
      "584:\tlearn: 0.1434608\ttotal: 2.31s\tremaining: 5.58s\n",
      "585:\tlearn: 0.1433141\ttotal: 2.31s\tremaining: 5.59s\n",
      "586:\tlearn: 0.1431592\ttotal: 2.32s\tremaining: 5.58s\n",
      "587:\tlearn: 0.1429847\ttotal: 2.32s\tremaining: 5.58s\n",
      "588:\tlearn: 0.1429239\ttotal: 2.33s\tremaining: 5.57s\n",
      "589:\tlearn: 0.1427853\ttotal: 2.33s\tremaining: 5.56s\n",
      "590:\tlearn: 0.1424958\ttotal: 2.33s\tremaining: 5.56s\n",
      "591:\tlearn: 0.1422162\ttotal: 2.33s\tremaining: 5.55s\n",
      "592:\tlearn: 0.1421157\ttotal: 2.34s\tremaining: 5.55s\n",
      "593:\tlearn: 0.1419454\ttotal: 2.34s\tremaining: 5.55s\n",
      "594:\tlearn: 0.1417536\ttotal: 2.35s\tremaining: 5.54s\n",
      "595:\tlearn: 0.1416359\ttotal: 2.35s\tremaining: 5.54s\n",
      "596:\tlearn: 0.1414453\ttotal: 2.35s\tremaining: 5.54s\n",
      "597:\tlearn: 0.1411017\ttotal: 2.36s\tremaining: 5.53s\n",
      "598:\tlearn: 0.1410703\ttotal: 2.36s\tremaining: 5.53s\n",
      "599:\tlearn: 0.1410219\ttotal: 2.37s\tremaining: 5.52s\n",
      "600:\tlearn: 0.1409299\ttotal: 2.37s\tremaining: 5.51s\n",
      "601:\tlearn: 0.1407883\ttotal: 2.37s\tremaining: 5.51s\n",
      "602:\tlearn: 0.1406006\ttotal: 2.38s\tremaining: 5.5s\n",
      "603:\tlearn: 0.1405051\ttotal: 2.38s\tremaining: 5.5s\n",
      "604:\tlearn: 0.1404709\ttotal: 2.38s\tremaining: 5.5s\n",
      "605:\tlearn: 0.1402950\ttotal: 2.39s\tremaining: 5.49s\n",
      "606:\tlearn: 0.1402040\ttotal: 2.39s\tremaining: 5.49s\n",
      "607:\tlearn: 0.1399450\ttotal: 2.39s\tremaining: 5.48s\n",
      "608:\tlearn: 0.1399137\ttotal: 2.4s\tremaining: 5.48s\n",
      "609:\tlearn: 0.1398269\ttotal: 2.4s\tremaining: 5.47s\n",
      "610:\tlearn: 0.1397484\ttotal: 2.4s\tremaining: 5.47s\n",
      "611:\tlearn: 0.1397155\ttotal: 2.41s\tremaining: 5.46s\n",
      "612:\tlearn: 0.1396611\ttotal: 2.41s\tremaining: 5.46s\n",
      "613:\tlearn: 0.1395370\ttotal: 2.42s\tremaining: 5.45s\n",
      "614:\tlearn: 0.1393824\ttotal: 2.42s\tremaining: 5.45s\n",
      "615:\tlearn: 0.1392760\ttotal: 2.42s\tremaining: 5.45s\n",
      "616:\tlearn: 0.1392025\ttotal: 2.43s\tremaining: 5.45s\n",
      "617:\tlearn: 0.1391420\ttotal: 2.43s\tremaining: 5.44s\n",
      "618:\tlearn: 0.1390105\ttotal: 2.44s\tremaining: 5.43s\n",
      "619:\tlearn: 0.1389169\ttotal: 2.44s\tremaining: 5.43s\n",
      "620:\tlearn: 0.1386781\ttotal: 2.44s\tremaining: 5.43s\n",
      "621:\tlearn: 0.1384340\ttotal: 2.45s\tremaining: 5.43s\n",
      "622:\tlearn: 0.1383843\ttotal: 2.46s\tremaining: 5.43s\n",
      "623:\tlearn: 0.1383031\ttotal: 2.46s\tremaining: 5.43s\n",
      "624:\tlearn: 0.1380766\ttotal: 2.47s\tremaining: 5.43s\n",
      "625:\tlearn: 0.1380230\ttotal: 2.47s\tremaining: 5.43s\n",
      "626:\tlearn: 0.1378861\ttotal: 2.48s\tremaining: 5.42s\n",
      "627:\tlearn: 0.1377265\ttotal: 2.48s\tremaining: 5.42s\n",
      "628:\tlearn: 0.1375963\ttotal: 2.49s\tremaining: 5.42s\n",
      "629:\tlearn: 0.1373859\ttotal: 2.49s\tremaining: 5.42s\n",
      "630:\tlearn: 0.1372927\ttotal: 2.49s\tremaining: 5.41s\n",
      "631:\tlearn: 0.1372551\ttotal: 2.5s\tremaining: 5.41s\n",
      "632:\tlearn: 0.1369911\ttotal: 2.51s\tremaining: 5.41s\n",
      "633:\tlearn: 0.1368851\ttotal: 2.51s\tremaining: 5.41s\n",
      "634:\tlearn: 0.1368317\ttotal: 2.52s\tremaining: 5.41s\n",
      "635:\tlearn: 0.1367041\ttotal: 2.52s\tremaining: 5.41s\n",
      "636:\tlearn: 0.1366305\ttotal: 2.53s\tremaining: 5.41s\n",
      "637:\tlearn: 0.1365278\ttotal: 2.53s\tremaining: 5.4s\n",
      "638:\tlearn: 0.1364839\ttotal: 2.54s\tremaining: 5.4s\n",
      "639:\tlearn: 0.1363904\ttotal: 2.54s\tremaining: 5.39s\n",
      "640:\tlearn: 0.1362745\ttotal: 2.54s\tremaining: 5.39s\n",
      "641:\tlearn: 0.1361475\ttotal: 2.55s\tremaining: 5.39s\n",
      "642:\tlearn: 0.1359702\ttotal: 2.55s\tremaining: 5.39s\n",
      "643:\tlearn: 0.1358829\ttotal: 2.56s\tremaining: 5.38s\n",
      "644:\tlearn: 0.1358024\ttotal: 2.56s\tremaining: 5.38s\n",
      "645:\tlearn: 0.1355798\ttotal: 2.56s\tremaining: 5.38s\n",
      "646:\tlearn: 0.1355078\ttotal: 2.57s\tremaining: 5.37s\n",
      "647:\tlearn: 0.1353089\ttotal: 2.57s\tremaining: 5.37s\n",
      "648:\tlearn: 0.1351445\ttotal: 2.58s\tremaining: 5.36s\n",
      "649:\tlearn: 0.1348856\ttotal: 2.58s\tremaining: 5.36s\n",
      "650:\tlearn: 0.1347983\ttotal: 2.58s\tremaining: 5.36s\n",
      "651:\tlearn: 0.1346602\ttotal: 2.59s\tremaining: 5.35s\n",
      "652:\tlearn: 0.1345121\ttotal: 2.59s\tremaining: 5.35s\n",
      "653:\tlearn: 0.1343760\ttotal: 2.6s\tremaining: 5.34s\n",
      "654:\tlearn: 0.1343463\ttotal: 2.6s\tremaining: 5.34s\n",
      "655:\tlearn: 0.1342991\ttotal: 2.6s\tremaining: 5.34s\n",
      "656:\tlearn: 0.1342775\ttotal: 2.61s\tremaining: 5.33s\n",
      "657:\tlearn: 0.1342358\ttotal: 2.61s\tremaining: 5.33s\n",
      "658:\tlearn: 0.1341153\ttotal: 2.62s\tremaining: 5.33s\n",
      "659:\tlearn: 0.1340203\ttotal: 2.62s\tremaining: 5.32s\n",
      "660:\tlearn: 0.1339188\ttotal: 2.63s\tremaining: 5.32s\n",
      "661:\tlearn: 0.1337647\ttotal: 2.63s\tremaining: 5.31s\n",
      "662:\tlearn: 0.1336872\ttotal: 2.63s\tremaining: 5.31s\n",
      "663:\tlearn: 0.1335674\ttotal: 2.64s\tremaining: 5.31s\n",
      "664:\tlearn: 0.1334959\ttotal: 2.64s\tremaining: 5.3s\n",
      "665:\tlearn: 0.1334136\ttotal: 2.65s\tremaining: 5.3s\n",
      "666:\tlearn: 0.1332682\ttotal: 2.65s\tremaining: 5.29s\n",
      "667:\tlearn: 0.1331224\ttotal: 2.65s\tremaining: 5.29s\n",
      "668:\tlearn: 0.1330601\ttotal: 2.66s\tremaining: 5.29s\n",
      "669:\tlearn: 0.1329465\ttotal: 2.66s\tremaining: 5.29s\n",
      "670:\tlearn: 0.1328947\ttotal: 2.67s\tremaining: 5.28s\n",
      "671:\tlearn: 0.1328541\ttotal: 2.67s\tremaining: 5.28s\n",
      "672:\tlearn: 0.1325575\ttotal: 2.67s\tremaining: 5.27s\n",
      "673:\tlearn: 0.1324309\ttotal: 2.68s\tremaining: 5.27s\n",
      "674:\tlearn: 0.1322359\ttotal: 2.68s\tremaining: 5.27s\n",
      "675:\tlearn: 0.1321492\ttotal: 2.69s\tremaining: 5.26s\n",
      "676:\tlearn: 0.1321132\ttotal: 2.69s\tremaining: 5.26s\n",
      "677:\tlearn: 0.1320773\ttotal: 2.69s\tremaining: 5.26s\n",
      "678:\tlearn: 0.1317728\ttotal: 2.7s\tremaining: 5.25s\n",
      "679:\tlearn: 0.1316110\ttotal: 2.7s\tremaining: 5.25s\n",
      "680:\tlearn: 0.1314994\ttotal: 2.71s\tremaining: 5.24s\n",
      "681:\tlearn: 0.1314408\ttotal: 2.71s\tremaining: 5.24s\n",
      "682:\tlearn: 0.1314295\ttotal: 2.71s\tremaining: 5.23s\n",
      "683:\tlearn: 0.1314074\ttotal: 2.72s\tremaining: 5.23s\n",
      "684:\tlearn: 0.1313339\ttotal: 2.72s\tremaining: 5.23s\n",
      "685:\tlearn: 0.1312282\ttotal: 2.73s\tremaining: 5.22s\n",
      "686:\tlearn: 0.1310593\ttotal: 2.73s\tremaining: 5.22s\n",
      "687:\tlearn: 0.1308786\ttotal: 2.73s\tremaining: 5.21s\n",
      "688:\tlearn: 0.1308100\ttotal: 2.74s\tremaining: 5.21s\n",
      "689:\tlearn: 0.1307702\ttotal: 2.74s\tremaining: 5.21s\n",
      "690:\tlearn: 0.1306693\ttotal: 2.75s\tremaining: 5.2s\n",
      "691:\tlearn: 0.1306059\ttotal: 2.75s\tremaining: 5.2s\n",
      "692:\tlearn: 0.1304461\ttotal: 2.75s\tremaining: 5.19s\n",
      "693:\tlearn: 0.1301511\ttotal: 2.76s\tremaining: 5.19s\n",
      "694:\tlearn: 0.1300646\ttotal: 2.76s\tremaining: 5.18s\n",
      "695:\tlearn: 0.1299997\ttotal: 2.76s\tremaining: 5.18s\n",
      "696:\tlearn: 0.1299260\ttotal: 2.77s\tremaining: 5.17s\n",
      "697:\tlearn: 0.1299052\ttotal: 2.77s\tremaining: 5.17s\n",
      "698:\tlearn: 0.1297864\ttotal: 2.77s\tremaining: 5.17s\n",
      "699:\tlearn: 0.1296651\ttotal: 2.78s\tremaining: 5.16s\n",
      "700:\tlearn: 0.1295912\ttotal: 2.78s\tremaining: 5.16s\n",
      "701:\tlearn: 0.1295472\ttotal: 2.79s\tremaining: 5.15s\n",
      "702:\tlearn: 0.1295152\ttotal: 2.79s\tremaining: 5.15s\n",
      "703:\tlearn: 0.1294419\ttotal: 2.79s\tremaining: 5.14s\n",
      "704:\tlearn: 0.1291931\ttotal: 2.8s\tremaining: 5.14s\n",
      "705:\tlearn: 0.1290596\ttotal: 2.8s\tremaining: 5.13s\n",
      "706:\tlearn: 0.1288132\ttotal: 2.81s\tremaining: 5.13s\n",
      "707:\tlearn: 0.1284995\ttotal: 2.81s\tremaining: 5.13s\n",
      "708:\tlearn: 0.1283540\ttotal: 2.81s\tremaining: 5.12s\n",
      "709:\tlearn: 0.1280893\ttotal: 2.81s\tremaining: 5.12s\n",
      "710:\tlearn: 0.1280265\ttotal: 2.82s\tremaining: 5.11s\n",
      "711:\tlearn: 0.1278478\ttotal: 2.82s\tremaining: 5.11s\n",
      "712:\tlearn: 0.1277569\ttotal: 2.83s\tremaining: 5.1s\n",
      "713:\tlearn: 0.1276627\ttotal: 2.83s\tremaining: 5.1s\n",
      "714:\tlearn: 0.1274533\ttotal: 2.83s\tremaining: 5.1s\n",
      "715:\tlearn: 0.1273142\ttotal: 2.84s\tremaining: 5.09s\n",
      "716:\tlearn: 0.1272147\ttotal: 2.84s\tremaining: 5.09s\n",
      "717:\tlearn: 0.1271233\ttotal: 2.85s\tremaining: 5.08s\n",
      "718:\tlearn: 0.1269352\ttotal: 2.85s\tremaining: 5.08s\n",
      "719:\tlearn: 0.1267449\ttotal: 2.85s\tremaining: 5.07s\n",
      "720:\tlearn: 0.1266978\ttotal: 2.86s\tremaining: 5.07s\n",
      "721:\tlearn: 0.1266663\ttotal: 2.86s\tremaining: 5.07s\n",
      "722:\tlearn: 0.1266205\ttotal: 2.87s\tremaining: 5.06s\n",
      "723:\tlearn: 0.1265748\ttotal: 2.87s\tremaining: 5.05s\n",
      "724:\tlearn: 0.1265411\ttotal: 2.87s\tremaining: 5.05s\n",
      "725:\tlearn: 0.1264689\ttotal: 2.88s\tremaining: 5.04s\n",
      "726:\tlearn: 0.1263535\ttotal: 2.88s\tremaining: 5.04s\n",
      "727:\tlearn: 0.1262022\ttotal: 2.88s\tremaining: 5.04s\n",
      "728:\tlearn: 0.1261311\ttotal: 2.89s\tremaining: 5.03s\n",
      "729:\tlearn: 0.1259527\ttotal: 2.89s\tremaining: 5.03s\n",
      "730:\tlearn: 0.1259136\ttotal: 2.89s\tremaining: 5.03s\n",
      "731:\tlearn: 0.1257459\ttotal: 2.9s\tremaining: 5.02s\n",
      "732:\tlearn: 0.1255703\ttotal: 2.9s\tremaining: 5.02s\n",
      "733:\tlearn: 0.1254284\ttotal: 2.9s\tremaining: 5.01s\n",
      "734:\tlearn: 0.1253960\ttotal: 2.91s\tremaining: 5.01s\n",
      "735:\tlearn: 0.1253386\ttotal: 2.91s\tremaining: 5s\n",
      "736:\tlearn: 0.1252596\ttotal: 2.92s\tremaining: 5s\n",
      "737:\tlearn: 0.1251835\ttotal: 2.92s\tremaining: 4.99s\n",
      "738:\tlearn: 0.1251039\ttotal: 2.92s\tremaining: 4.99s\n",
      "739:\tlearn: 0.1248914\ttotal: 2.93s\tremaining: 4.98s\n",
      "740:\tlearn: 0.1247429\ttotal: 2.93s\tremaining: 4.98s\n",
      "741:\tlearn: 0.1246733\ttotal: 2.93s\tremaining: 4.97s\n",
      "742:\tlearn: 0.1245446\ttotal: 2.94s\tremaining: 4.97s\n",
      "743:\tlearn: 0.1244773\ttotal: 2.94s\tremaining: 4.96s\n",
      "744:\tlearn: 0.1243943\ttotal: 2.94s\tremaining: 4.96s\n",
      "745:\tlearn: 0.1243038\ttotal: 2.95s\tremaining: 4.95s\n",
      "746:\tlearn: 0.1242321\ttotal: 2.95s\tremaining: 4.95s\n",
      "747:\tlearn: 0.1241034\ttotal: 2.95s\tremaining: 4.95s\n",
      "748:\tlearn: 0.1240633\ttotal: 2.96s\tremaining: 4.94s\n",
      "749:\tlearn: 0.1239850\ttotal: 2.96s\tremaining: 4.93s\n",
      "750:\tlearn: 0.1238866\ttotal: 2.96s\tremaining: 4.93s\n",
      "751:\tlearn: 0.1237934\ttotal: 2.97s\tremaining: 4.93s\n",
      "752:\tlearn: 0.1236561\ttotal: 2.97s\tremaining: 4.92s\n",
      "753:\tlearn: 0.1235879\ttotal: 2.98s\tremaining: 4.92s\n",
      "754:\tlearn: 0.1235185\ttotal: 2.98s\tremaining: 4.92s\n",
      "755:\tlearn: 0.1234003\ttotal: 2.98s\tremaining: 4.91s\n",
      "756:\tlearn: 0.1233369\ttotal: 2.99s\tremaining: 4.91s\n",
      "757:\tlearn: 0.1232251\ttotal: 2.99s\tremaining: 4.9s\n",
      "758:\tlearn: 0.1231199\ttotal: 3s\tremaining: 4.9s\n",
      "759:\tlearn: 0.1230441\ttotal: 3s\tremaining: 4.89s\n",
      "760:\tlearn: 0.1230080\ttotal: 3s\tremaining: 4.89s\n",
      "761:\tlearn: 0.1228868\ttotal: 3.01s\tremaining: 4.89s\n",
      "762:\tlearn: 0.1227807\ttotal: 3.01s\tremaining: 4.88s\n",
      "763:\tlearn: 0.1226939\ttotal: 3.01s\tremaining: 4.88s\n",
      "764:\tlearn: 0.1226549\ttotal: 3.02s\tremaining: 4.87s\n",
      "765:\tlearn: 0.1226384\ttotal: 3.02s\tremaining: 4.87s\n",
      "766:\tlearn: 0.1225306\ttotal: 3.02s\tremaining: 4.86s\n",
      "767:\tlearn: 0.1223574\ttotal: 3.03s\tremaining: 4.86s\n",
      "768:\tlearn: 0.1222931\ttotal: 3.03s\tremaining: 4.85s\n",
      "769:\tlearn: 0.1222258\ttotal: 3.04s\tremaining: 4.85s\n",
      "770:\tlearn: 0.1221907\ttotal: 3.04s\tremaining: 4.84s\n",
      "771:\tlearn: 0.1221653\ttotal: 3.04s\tremaining: 4.84s\n",
      "772:\tlearn: 0.1221347\ttotal: 3.04s\tremaining: 4.83s\n",
      "773:\tlearn: 0.1219632\ttotal: 3.05s\tremaining: 4.83s\n",
      "774:\tlearn: 0.1219047\ttotal: 3.05s\tremaining: 4.83s\n",
      "775:\tlearn: 0.1218732\ttotal: 3.06s\tremaining: 4.82s\n",
      "776:\tlearn: 0.1217490\ttotal: 3.06s\tremaining: 4.82s\n",
      "777:\tlearn: 0.1216671\ttotal: 3.06s\tremaining: 4.81s\n",
      "778:\tlearn: 0.1215731\ttotal: 3.07s\tremaining: 4.81s\n",
      "779:\tlearn: 0.1214880\ttotal: 3.07s\tremaining: 4.8s\n",
      "780:\tlearn: 0.1213814\ttotal: 3.08s\tremaining: 4.8s\n",
      "781:\tlearn: 0.1212947\ttotal: 3.08s\tremaining: 4.8s\n",
      "782:\tlearn: 0.1212598\ttotal: 3.08s\tremaining: 4.79s\n",
      "783:\tlearn: 0.1211109\ttotal: 3.09s\tremaining: 4.79s\n",
      "784:\tlearn: 0.1210251\ttotal: 3.09s\tremaining: 4.78s\n",
      "785:\tlearn: 0.1209239\ttotal: 3.1s\tremaining: 4.78s\n",
      "786:\tlearn: 0.1208844\ttotal: 3.1s\tremaining: 4.78s\n",
      "787:\tlearn: 0.1207894\ttotal: 3.1s\tremaining: 4.77s\n",
      "788:\tlearn: 0.1207091\ttotal: 3.11s\tremaining: 4.77s\n",
      "789:\tlearn: 0.1206278\ttotal: 3.11s\tremaining: 4.76s\n",
      "790:\tlearn: 0.1205490\ttotal: 3.11s\tremaining: 4.76s\n",
      "791:\tlearn: 0.1204098\ttotal: 3.12s\tremaining: 4.76s\n",
      "792:\tlearn: 0.1203067\ttotal: 3.13s\tremaining: 4.76s\n",
      "793:\tlearn: 0.1202077\ttotal: 3.13s\tremaining: 4.76s\n",
      "794:\tlearn: 0.1200896\ttotal: 3.13s\tremaining: 4.75s\n",
      "795:\tlearn: 0.1199939\ttotal: 3.14s\tremaining: 4.75s\n",
      "796:\tlearn: 0.1198726\ttotal: 3.14s\tremaining: 4.74s\n",
      "797:\tlearn: 0.1196896\ttotal: 3.15s\tremaining: 4.74s\n",
      "798:\tlearn: 0.1196415\ttotal: 3.15s\tremaining: 4.74s\n",
      "799:\tlearn: 0.1195495\ttotal: 3.16s\tremaining: 4.73s\n",
      "800:\tlearn: 0.1194498\ttotal: 3.16s\tremaining: 4.73s\n",
      "801:\tlearn: 0.1193495\ttotal: 3.16s\tremaining: 4.73s\n",
      "802:\tlearn: 0.1192148\ttotal: 3.17s\tremaining: 4.72s\n",
      "803:\tlearn: 0.1190341\ttotal: 3.17s\tremaining: 4.72s\n",
      "804:\tlearn: 0.1190086\ttotal: 3.18s\tremaining: 4.72s\n",
      "805:\tlearn: 0.1189370\ttotal: 3.18s\tremaining: 4.71s\n",
      "806:\tlearn: 0.1189106\ttotal: 3.19s\tremaining: 4.71s\n",
      "807:\tlearn: 0.1188838\ttotal: 3.19s\tremaining: 4.71s\n",
      "808:\tlearn: 0.1188405\ttotal: 3.19s\tremaining: 4.7s\n",
      "809:\tlearn: 0.1186846\ttotal: 3.2s\tremaining: 4.7s\n",
      "810:\tlearn: 0.1186320\ttotal: 3.2s\tremaining: 4.69s\n",
      "811:\tlearn: 0.1186051\ttotal: 3.21s\tremaining: 4.69s\n",
      "812:\tlearn: 0.1184865\ttotal: 3.21s\tremaining: 4.69s\n",
      "813:\tlearn: 0.1183899\ttotal: 3.21s\tremaining: 4.68s\n",
      "814:\tlearn: 0.1183135\ttotal: 3.22s\tremaining: 4.68s\n",
      "815:\tlearn: 0.1182531\ttotal: 3.22s\tremaining: 4.67s\n",
      "816:\tlearn: 0.1181805\ttotal: 3.23s\tremaining: 4.67s\n",
      "817:\tlearn: 0.1181165\ttotal: 3.23s\tremaining: 4.67s\n",
      "818:\tlearn: 0.1179599\ttotal: 3.23s\tremaining: 4.66s\n",
      "819:\tlearn: 0.1177833\ttotal: 3.24s\tremaining: 4.66s\n",
      "820:\tlearn: 0.1177378\ttotal: 3.24s\tremaining: 4.66s\n",
      "821:\tlearn: 0.1176504\ttotal: 3.25s\tremaining: 4.65s\n",
      "822:\tlearn: 0.1175927\ttotal: 3.25s\tremaining: 4.65s\n",
      "823:\tlearn: 0.1175143\ttotal: 3.25s\tremaining: 4.64s\n",
      "824:\tlearn: 0.1174133\ttotal: 3.26s\tremaining: 4.64s\n",
      "825:\tlearn: 0.1172950\ttotal: 3.26s\tremaining: 4.64s\n",
      "826:\tlearn: 0.1172307\ttotal: 3.27s\tremaining: 4.63s\n",
      "827:\tlearn: 0.1171572\ttotal: 3.27s\tremaining: 4.63s\n",
      "828:\tlearn: 0.1170697\ttotal: 3.27s\tremaining: 4.63s\n",
      "829:\tlearn: 0.1168777\ttotal: 3.28s\tremaining: 4.62s\n",
      "830:\tlearn: 0.1168078\ttotal: 3.28s\tremaining: 4.62s\n",
      "831:\tlearn: 0.1167571\ttotal: 3.29s\tremaining: 4.61s\n",
      "832:\tlearn: 0.1166625\ttotal: 3.29s\tremaining: 4.61s\n",
      "833:\tlearn: 0.1165849\ttotal: 3.29s\tremaining: 4.61s\n",
      "834:\tlearn: 0.1165000\ttotal: 3.3s\tremaining: 4.6s\n",
      "835:\tlearn: 0.1164543\ttotal: 3.3s\tremaining: 4.6s\n",
      "836:\tlearn: 0.1163817\ttotal: 3.31s\tremaining: 4.59s\n",
      "837:\tlearn: 0.1163365\ttotal: 3.31s\tremaining: 4.59s\n",
      "838:\tlearn: 0.1162965\ttotal: 3.31s\tremaining: 4.59s\n",
      "839:\tlearn: 0.1161591\ttotal: 3.32s\tremaining: 4.58s\n",
      "840:\tlearn: 0.1159382\ttotal: 3.32s\tremaining: 4.58s\n",
      "841:\tlearn: 0.1158199\ttotal: 3.33s\tremaining: 4.58s\n",
      "842:\tlearn: 0.1156687\ttotal: 3.33s\tremaining: 4.57s\n",
      "843:\tlearn: 0.1155618\ttotal: 3.34s\tremaining: 4.57s\n",
      "844:\tlearn: 0.1155023\ttotal: 3.34s\tremaining: 4.57s\n",
      "845:\tlearn: 0.1153558\ttotal: 3.35s\tremaining: 4.56s\n",
      "846:\tlearn: 0.1152722\ttotal: 3.35s\tremaining: 4.56s\n",
      "847:\tlearn: 0.1151726\ttotal: 3.35s\tremaining: 4.56s\n",
      "848:\tlearn: 0.1150050\ttotal: 3.36s\tremaining: 4.55s\n",
      "849:\tlearn: 0.1149958\ttotal: 3.36s\tremaining: 4.55s\n",
      "850:\tlearn: 0.1149558\ttotal: 3.37s\tremaining: 4.54s\n",
      "851:\tlearn: 0.1148497\ttotal: 3.37s\tremaining: 4.54s\n",
      "852:\tlearn: 0.1148003\ttotal: 3.38s\tremaining: 4.54s\n",
      "853:\tlearn: 0.1147460\ttotal: 3.38s\tremaining: 4.53s\n",
      "854:\tlearn: 0.1146139\ttotal: 3.38s\tremaining: 4.53s\n",
      "855:\tlearn: 0.1144748\ttotal: 3.39s\tremaining: 4.53s\n",
      "856:\tlearn: 0.1143687\ttotal: 3.39s\tremaining: 4.52s\n",
      "857:\tlearn: 0.1143200\ttotal: 3.4s\tremaining: 4.52s\n",
      "858:\tlearn: 0.1142070\ttotal: 3.4s\tremaining: 4.51s\n",
      "859:\tlearn: 0.1140175\ttotal: 3.4s\tremaining: 4.51s\n",
      "860:\tlearn: 0.1139305\ttotal: 3.41s\tremaining: 4.51s\n",
      "861:\tlearn: 0.1138344\ttotal: 3.41s\tremaining: 4.5s\n",
      "862:\tlearn: 0.1137424\ttotal: 3.42s\tremaining: 4.5s\n",
      "863:\tlearn: 0.1136134\ttotal: 3.42s\tremaining: 4.5s\n",
      "864:\tlearn: 0.1135602\ttotal: 3.42s\tremaining: 4.49s\n",
      "865:\tlearn: 0.1135106\ttotal: 3.43s\tremaining: 4.49s\n",
      "866:\tlearn: 0.1134708\ttotal: 3.43s\tremaining: 4.48s\n",
      "867:\tlearn: 0.1133176\ttotal: 3.44s\tremaining: 4.48s\n",
      "868:\tlearn: 0.1132465\ttotal: 3.44s\tremaining: 4.48s\n",
      "869:\tlearn: 0.1130965\ttotal: 3.44s\tremaining: 4.47s\n",
      "870:\tlearn: 0.1129727\ttotal: 3.45s\tremaining: 4.47s\n",
      "871:\tlearn: 0.1128941\ttotal: 3.45s\tremaining: 4.46s\n",
      "872:\tlearn: 0.1128405\ttotal: 3.46s\tremaining: 4.46s\n",
      "873:\tlearn: 0.1127990\ttotal: 3.46s\tremaining: 4.46s\n",
      "874:\tlearn: 0.1127452\ttotal: 3.46s\tremaining: 4.45s\n",
      "875:\tlearn: 0.1126718\ttotal: 3.47s\tremaining: 4.45s\n",
      "876:\tlearn: 0.1125439\ttotal: 3.47s\tremaining: 4.45s\n",
      "877:\tlearn: 0.1124778\ttotal: 3.48s\tremaining: 4.44s\n",
      "878:\tlearn: 0.1123907\ttotal: 3.48s\tremaining: 4.44s\n",
      "879:\tlearn: 0.1122555\ttotal: 3.48s\tremaining: 4.43s\n",
      "880:\tlearn: 0.1121621\ttotal: 3.49s\tremaining: 4.43s\n",
      "881:\tlearn: 0.1120788\ttotal: 3.49s\tremaining: 4.43s\n",
      "882:\tlearn: 0.1119707\ttotal: 3.5s\tremaining: 4.42s\n",
      "883:\tlearn: 0.1119107\ttotal: 3.5s\tremaining: 4.42s\n",
      "884:\tlearn: 0.1118638\ttotal: 3.5s\tremaining: 4.42s\n",
      "885:\tlearn: 0.1117932\ttotal: 3.51s\tremaining: 4.41s\n",
      "886:\tlearn: 0.1117689\ttotal: 3.51s\tremaining: 4.41s\n",
      "887:\tlearn: 0.1116774\ttotal: 3.52s\tremaining: 4.4s\n",
      "888:\tlearn: 0.1114950\ttotal: 3.52s\tremaining: 4.4s\n",
      "889:\tlearn: 0.1113632\ttotal: 3.52s\tremaining: 4.4s\n",
      "890:\tlearn: 0.1112006\ttotal: 3.53s\tremaining: 4.39s\n",
      "891:\tlearn: 0.1109295\ttotal: 3.53s\tremaining: 4.39s\n",
      "892:\tlearn: 0.1109103\ttotal: 3.54s\tremaining: 4.38s\n",
      "893:\tlearn: 0.1107548\ttotal: 3.54s\tremaining: 4.38s\n",
      "894:\tlearn: 0.1106546\ttotal: 3.55s\tremaining: 4.38s\n",
      "895:\tlearn: 0.1105049\ttotal: 3.55s\tremaining: 4.38s\n",
      "896:\tlearn: 0.1103873\ttotal: 3.56s\tremaining: 4.37s\n",
      "897:\tlearn: 0.1103173\ttotal: 3.56s\tremaining: 4.37s\n",
      "898:\tlearn: 0.1102918\ttotal: 3.58s\tremaining: 4.39s\n",
      "899:\tlearn: 0.1102585\ttotal: 3.59s\tremaining: 4.39s\n",
      "900:\tlearn: 0.1101080\ttotal: 3.59s\tremaining: 4.38s\n",
      "901:\tlearn: 0.1100226\ttotal: 3.6s\tremaining: 4.38s\n",
      "902:\tlearn: 0.1099880\ttotal: 3.6s\tremaining: 4.38s\n",
      "903:\tlearn: 0.1099316\ttotal: 3.61s\tremaining: 4.37s\n",
      "904:\tlearn: 0.1098569\ttotal: 3.61s\tremaining: 4.37s\n",
      "905:\tlearn: 0.1097818\ttotal: 3.61s\tremaining: 4.36s\n",
      "906:\tlearn: 0.1097583\ttotal: 3.62s\tremaining: 4.36s\n",
      "907:\tlearn: 0.1096919\ttotal: 3.62s\tremaining: 4.36s\n",
      "908:\tlearn: 0.1095935\ttotal: 3.63s\tremaining: 4.35s\n",
      "909:\tlearn: 0.1095199\ttotal: 3.63s\tremaining: 4.35s\n",
      "910:\tlearn: 0.1094963\ttotal: 3.63s\tremaining: 4.34s\n",
      "911:\tlearn: 0.1094635\ttotal: 3.64s\tremaining: 4.34s\n",
      "912:\tlearn: 0.1094007\ttotal: 3.64s\tremaining: 4.33s\n",
      "913:\tlearn: 0.1093191\ttotal: 3.64s\tremaining: 4.33s\n",
      "914:\tlearn: 0.1092136\ttotal: 3.65s\tremaining: 4.33s\n",
      "915:\tlearn: 0.1091324\ttotal: 3.65s\tremaining: 4.32s\n",
      "916:\tlearn: 0.1091044\ttotal: 3.66s\tremaining: 4.32s\n",
      "917:\tlearn: 0.1090575\ttotal: 3.66s\tremaining: 4.31s\n",
      "918:\tlearn: 0.1090265\ttotal: 3.66s\tremaining: 4.31s\n",
      "919:\tlearn: 0.1089894\ttotal: 3.67s\tremaining: 4.3s\n",
      "920:\tlearn: 0.1089070\ttotal: 3.67s\tremaining: 4.3s\n",
      "921:\tlearn: 0.1087548\ttotal: 3.67s\tremaining: 4.3s\n",
      "922:\tlearn: 0.1086966\ttotal: 3.68s\tremaining: 4.29s\n",
      "923:\tlearn: 0.1086067\ttotal: 3.68s\tremaining: 4.29s\n",
      "924:\tlearn: 0.1085179\ttotal: 3.69s\tremaining: 4.28s\n",
      "925:\tlearn: 0.1084315\ttotal: 3.69s\tremaining: 4.28s\n",
      "926:\tlearn: 0.1083593\ttotal: 3.69s\tremaining: 4.28s\n",
      "927:\tlearn: 0.1083213\ttotal: 3.7s\tremaining: 4.27s\n",
      "928:\tlearn: 0.1081594\ttotal: 3.7s\tremaining: 4.27s\n",
      "929:\tlearn: 0.1081341\ttotal: 3.71s\tremaining: 4.26s\n",
      "930:\tlearn: 0.1080614\ttotal: 3.71s\tremaining: 4.26s\n",
      "931:\tlearn: 0.1080173\ttotal: 3.71s\tremaining: 4.25s\n",
      "932:\tlearn: 0.1079530\ttotal: 3.72s\tremaining: 4.25s\n",
      "933:\tlearn: 0.1079360\ttotal: 3.72s\tremaining: 4.25s\n",
      "934:\tlearn: 0.1079256\ttotal: 3.73s\tremaining: 4.24s\n",
      "935:\tlearn: 0.1077908\ttotal: 3.73s\tremaining: 4.24s\n",
      "936:\tlearn: 0.1077147\ttotal: 3.73s\tremaining: 4.24s\n",
      "937:\tlearn: 0.1076073\ttotal: 3.74s\tremaining: 4.23s\n",
      "938:\tlearn: 0.1073987\ttotal: 3.74s\tremaining: 4.23s\n",
      "939:\tlearn: 0.1073226\ttotal: 3.75s\tremaining: 4.22s\n",
      "940:\tlearn: 0.1072938\ttotal: 3.75s\tremaining: 4.22s\n",
      "941:\tlearn: 0.1071408\ttotal: 3.75s\tremaining: 4.21s\n",
      "942:\tlearn: 0.1070862\ttotal: 3.76s\tremaining: 4.21s\n",
      "943:\tlearn: 0.1070250\ttotal: 3.76s\tremaining: 4.21s\n",
      "944:\tlearn: 0.1069586\ttotal: 3.76s\tremaining: 4.2s\n",
      "945:\tlearn: 0.1068294\ttotal: 3.77s\tremaining: 4.2s\n",
      "946:\tlearn: 0.1067571\ttotal: 3.77s\tremaining: 4.19s\n",
      "947:\tlearn: 0.1067015\ttotal: 3.77s\tremaining: 4.19s\n",
      "948:\tlearn: 0.1066686\ttotal: 3.78s\tremaining: 4.18s\n",
      "949:\tlearn: 0.1065904\ttotal: 3.78s\tremaining: 4.18s\n",
      "950:\tlearn: 0.1065749\ttotal: 3.79s\tremaining: 4.18s\n",
      "951:\tlearn: 0.1065416\ttotal: 3.79s\tremaining: 4.17s\n",
      "952:\tlearn: 0.1064875\ttotal: 3.79s\tremaining: 4.17s\n",
      "953:\tlearn: 0.1063955\ttotal: 3.8s\tremaining: 4.16s\n",
      "954:\tlearn: 0.1063565\ttotal: 3.8s\tremaining: 4.16s\n",
      "955:\tlearn: 0.1062944\ttotal: 3.81s\tremaining: 4.16s\n",
      "956:\tlearn: 0.1062087\ttotal: 3.81s\tremaining: 4.15s\n",
      "957:\tlearn: 0.1061121\ttotal: 3.81s\tremaining: 4.15s\n",
      "958:\tlearn: 0.1060498\ttotal: 3.82s\tremaining: 4.14s\n",
      "959:\tlearn: 0.1060284\ttotal: 3.82s\tremaining: 4.14s\n",
      "960:\tlearn: 0.1059565\ttotal: 3.83s\tremaining: 4.14s\n",
      "961:\tlearn: 0.1058325\ttotal: 3.83s\tremaining: 4.13s\n",
      "962:\tlearn: 0.1057381\ttotal: 3.83s\tremaining: 4.13s\n",
      "963:\tlearn: 0.1057034\ttotal: 3.84s\tremaining: 4.12s\n",
      "964:\tlearn: 0.1055533\ttotal: 3.84s\tremaining: 4.12s\n",
      "965:\tlearn: 0.1055240\ttotal: 3.84s\tremaining: 4.12s\n",
      "966:\tlearn: 0.1054062\ttotal: 3.85s\tremaining: 4.11s\n",
      "967:\tlearn: 0.1052531\ttotal: 3.85s\tremaining: 4.11s\n",
      "968:\tlearn: 0.1051906\ttotal: 3.85s\tremaining: 4.1s\n",
      "969:\tlearn: 0.1051365\ttotal: 3.86s\tremaining: 4.1s\n",
      "970:\tlearn: 0.1050606\ttotal: 3.86s\tremaining: 4.09s\n",
      "971:\tlearn: 0.1049548\ttotal: 3.87s\tremaining: 4.09s\n",
      "972:\tlearn: 0.1049085\ttotal: 3.87s\tremaining: 4.09s\n",
      "973:\tlearn: 0.1048701\ttotal: 3.88s\tremaining: 4.08s\n",
      "974:\tlearn: 0.1047980\ttotal: 3.88s\tremaining: 4.08s\n",
      "975:\tlearn: 0.1047322\ttotal: 3.89s\tremaining: 4.08s\n",
      "976:\tlearn: 0.1046907\ttotal: 3.89s\tremaining: 4.08s\n",
      "977:\tlearn: 0.1046584\ttotal: 3.9s\tremaining: 4.07s\n",
      "978:\tlearn: 0.1045822\ttotal: 3.9s\tremaining: 4.07s\n",
      "979:\tlearn: 0.1045363\ttotal: 3.9s\tremaining: 4.06s\n",
      "980:\tlearn: 0.1043497\ttotal: 3.91s\tremaining: 4.06s\n",
      "981:\tlearn: 0.1042398\ttotal: 3.91s\tremaining: 4.05s\n",
      "982:\tlearn: 0.1041947\ttotal: 3.92s\tremaining: 4.05s\n",
      "983:\tlearn: 0.1040986\ttotal: 3.92s\tremaining: 4.05s\n",
      "984:\tlearn: 0.1040067\ttotal: 3.92s\tremaining: 4.04s\n",
      "985:\tlearn: 0.1039293\ttotal: 3.93s\tremaining: 4.04s\n",
      "986:\tlearn: 0.1038859\ttotal: 3.93s\tremaining: 4.03s\n",
      "987:\tlearn: 0.1038335\ttotal: 3.93s\tremaining: 4.03s\n",
      "988:\tlearn: 0.1038089\ttotal: 3.94s\tremaining: 4.02s\n",
      "989:\tlearn: 0.1037413\ttotal: 3.94s\tremaining: 4.02s\n",
      "990:\tlearn: 0.1036904\ttotal: 3.94s\tremaining: 4.01s\n",
      "991:\tlearn: 0.1036182\ttotal: 3.95s\tremaining: 4.01s\n",
      "992:\tlearn: 0.1035520\ttotal: 3.95s\tremaining: 4.01s\n",
      "993:\tlearn: 0.1035304\ttotal: 3.95s\tremaining: 4s\n",
      "994:\tlearn: 0.1035061\ttotal: 3.96s\tremaining: 4s\n",
      "995:\tlearn: 0.1034793\ttotal: 3.96s\tremaining: 3.99s\n",
      "996:\tlearn: 0.1034090\ttotal: 3.96s\tremaining: 3.99s\n",
      "997:\tlearn: 0.1033567\ttotal: 3.97s\tremaining: 3.98s\n",
      "998:\tlearn: 0.1033011\ttotal: 3.97s\tremaining: 3.98s\n",
      "999:\tlearn: 0.1031973\ttotal: 3.98s\tremaining: 3.98s\n",
      "1000:\tlearn: 0.1031485\ttotal: 3.98s\tremaining: 3.97s\n",
      "1001:\tlearn: 0.1030784\ttotal: 3.98s\tremaining: 3.97s\n",
      "1002:\tlearn: 0.1029608\ttotal: 3.99s\tremaining: 3.96s\n",
      "1003:\tlearn: 0.1029033\ttotal: 3.99s\tremaining: 3.96s\n",
      "1004:\tlearn: 0.1028744\ttotal: 3.99s\tremaining: 3.95s\n",
      "1005:\tlearn: 0.1027383\ttotal: 4s\tremaining: 3.95s\n",
      "1006:\tlearn: 0.1027061\ttotal: 4s\tremaining: 3.94s\n",
      "1007:\tlearn: 0.1025638\ttotal: 4s\tremaining: 3.94s\n",
      "1008:\tlearn: 0.1025352\ttotal: 4.01s\tremaining: 3.94s\n",
      "1009:\tlearn: 0.1024363\ttotal: 4.01s\tremaining: 3.93s\n",
      "1010:\tlearn: 0.1023652\ttotal: 4.01s\tremaining: 3.93s\n",
      "1011:\tlearn: 0.1023045\ttotal: 4.02s\tremaining: 3.92s\n",
      "1012:\tlearn: 0.1022104\ttotal: 4.02s\tremaining: 3.92s\n",
      "1013:\tlearn: 0.1021803\ttotal: 4.03s\tremaining: 3.92s\n",
      "1014:\tlearn: 0.1021389\ttotal: 4.03s\tremaining: 3.91s\n",
      "1015:\tlearn: 0.1020607\ttotal: 4.03s\tremaining: 3.91s\n",
      "1016:\tlearn: 0.1019924\ttotal: 4.04s\tremaining: 3.9s\n",
      "1017:\tlearn: 0.1018869\ttotal: 4.04s\tremaining: 3.9s\n",
      "1018:\tlearn: 0.1017990\ttotal: 4.04s\tremaining: 3.89s\n",
      "1019:\tlearn: 0.1017172\ttotal: 4.05s\tremaining: 3.89s\n",
      "1020:\tlearn: 0.1016611\ttotal: 4.05s\tremaining: 3.89s\n",
      "1021:\tlearn: 0.1015288\ttotal: 4.06s\tremaining: 3.88s\n",
      "1022:\tlearn: 0.1014180\ttotal: 4.06s\tremaining: 3.88s\n",
      "1023:\tlearn: 0.1013189\ttotal: 4.07s\tremaining: 3.87s\n",
      "1024:\tlearn: 0.1012811\ttotal: 4.07s\tremaining: 3.87s\n",
      "1025:\tlearn: 0.1012300\ttotal: 4.07s\tremaining: 3.87s\n",
      "1026:\tlearn: 0.1011791\ttotal: 4.08s\tremaining: 3.86s\n",
      "1027:\tlearn: 0.1011199\ttotal: 4.08s\tremaining: 3.86s\n",
      "1028:\tlearn: 0.1010549\ttotal: 4.08s\tremaining: 3.85s\n",
      "1029:\tlearn: 0.1010258\ttotal: 4.09s\tremaining: 3.85s\n",
      "1030:\tlearn: 0.1009494\ttotal: 4.09s\tremaining: 3.85s\n",
      "1031:\tlearn: 0.1008646\ttotal: 4.09s\tremaining: 3.84s\n",
      "1032:\tlearn: 0.1007823\ttotal: 4.1s\tremaining: 3.84s\n",
      "1033:\tlearn: 0.1007151\ttotal: 4.11s\tremaining: 3.83s\n",
      "1034:\tlearn: 0.1006493\ttotal: 4.11s\tremaining: 3.83s\n",
      "1035:\tlearn: 0.1006124\ttotal: 4.11s\tremaining: 3.83s\n",
      "1036:\tlearn: 0.1005581\ttotal: 4.12s\tremaining: 3.82s\n",
      "1037:\tlearn: 0.1004482\ttotal: 4.12s\tremaining: 3.82s\n",
      "1038:\tlearn: 0.1004247\ttotal: 4.12s\tremaining: 3.81s\n",
      "1039:\tlearn: 0.1003717\ttotal: 4.13s\tremaining: 3.81s\n",
      "1040:\tlearn: 0.1003443\ttotal: 4.13s\tremaining: 3.8s\n",
      "1041:\tlearn: 0.1003321\ttotal: 4.13s\tremaining: 3.8s\n",
      "1042:\tlearn: 0.1002840\ttotal: 4.14s\tremaining: 3.79s\n",
      "1043:\tlearn: 0.1002258\ttotal: 4.14s\tremaining: 3.79s\n",
      "1044:\tlearn: 0.1001397\ttotal: 4.14s\tremaining: 3.79s\n",
      "1045:\tlearn: 0.1000777\ttotal: 4.15s\tremaining: 3.78s\n",
      "1046:\tlearn: 0.0999648\ttotal: 4.15s\tremaining: 3.78s\n",
      "1047:\tlearn: 0.0998551\ttotal: 4.16s\tremaining: 3.77s\n",
      "1048:\tlearn: 0.0997601\ttotal: 4.16s\tremaining: 3.77s\n",
      "1049:\tlearn: 0.0996968\ttotal: 4.16s\tremaining: 3.77s\n",
      "1050:\tlearn: 0.0996609\ttotal: 4.17s\tremaining: 3.76s\n",
      "1051:\tlearn: 0.0995716\ttotal: 4.17s\tremaining: 3.76s\n",
      "1052:\tlearn: 0.0994642\ttotal: 4.18s\tremaining: 3.75s\n",
      "1053:\tlearn: 0.0993708\ttotal: 4.18s\tremaining: 3.75s\n",
      "1054:\tlearn: 0.0993270\ttotal: 4.18s\tremaining: 3.75s\n",
      "1055:\tlearn: 0.0992022\ttotal: 4.19s\tremaining: 3.74s\n",
      "1056:\tlearn: 0.0991832\ttotal: 4.19s\tremaining: 3.74s\n",
      "1057:\tlearn: 0.0991721\ttotal: 4.2s\tremaining: 3.74s\n",
      "1058:\tlearn: 0.0991478\ttotal: 4.2s\tremaining: 3.73s\n",
      "1059:\tlearn: 0.0990169\ttotal: 4.21s\tremaining: 3.73s\n",
      "1060:\tlearn: 0.0989163\ttotal: 4.21s\tremaining: 3.73s\n",
      "1061:\tlearn: 0.0988680\ttotal: 4.21s\tremaining: 3.72s\n",
      "1062:\tlearn: 0.0988361\ttotal: 4.22s\tremaining: 3.72s\n",
      "1063:\tlearn: 0.0987790\ttotal: 4.22s\tremaining: 3.71s\n",
      "1064:\tlearn: 0.0987411\ttotal: 4.22s\tremaining: 3.71s\n",
      "1065:\tlearn: 0.0986458\ttotal: 4.23s\tremaining: 3.7s\n",
      "1066:\tlearn: 0.0985123\ttotal: 4.23s\tremaining: 3.7s\n",
      "1067:\tlearn: 0.0985008\ttotal: 4.23s\tremaining: 3.69s\n",
      "1068:\tlearn: 0.0984721\ttotal: 4.24s\tremaining: 3.69s\n",
      "1069:\tlearn: 0.0983950\ttotal: 4.24s\tremaining: 3.69s\n",
      "1070:\tlearn: 0.0983599\ttotal: 4.24s\tremaining: 3.68s\n",
      "1071:\tlearn: 0.0983315\ttotal: 4.25s\tremaining: 3.68s\n",
      "1072:\tlearn: 0.0982286\ttotal: 4.25s\tremaining: 3.67s\n",
      "1073:\tlearn: 0.0981924\ttotal: 4.25s\tremaining: 3.67s\n",
      "1074:\tlearn: 0.0981465\ttotal: 4.26s\tremaining: 3.66s\n",
      "1075:\tlearn: 0.0981141\ttotal: 4.26s\tremaining: 3.66s\n",
      "1076:\tlearn: 0.0980235\ttotal: 4.26s\tremaining: 3.65s\n",
      "1077:\tlearn: 0.0979409\ttotal: 4.27s\tremaining: 3.65s\n",
      "1078:\tlearn: 0.0978915\ttotal: 4.27s\tremaining: 3.65s\n",
      "1079:\tlearn: 0.0978403\ttotal: 4.28s\tremaining: 3.64s\n",
      "1080:\tlearn: 0.0977005\ttotal: 4.28s\tremaining: 3.64s\n",
      "1081:\tlearn: 0.0976258\ttotal: 4.28s\tremaining: 3.63s\n",
      "1082:\tlearn: 0.0976112\ttotal: 4.29s\tremaining: 3.63s\n",
      "1083:\tlearn: 0.0974301\ttotal: 4.29s\tremaining: 3.63s\n",
      "1084:\tlearn: 0.0973522\ttotal: 4.29s\tremaining: 3.62s\n",
      "1085:\tlearn: 0.0972831\ttotal: 4.3s\tremaining: 3.62s\n",
      "1086:\tlearn: 0.0971420\ttotal: 4.3s\tremaining: 3.61s\n",
      "1087:\tlearn: 0.0970767\ttotal: 4.3s\tremaining: 3.61s\n",
      "1088:\tlearn: 0.0970355\ttotal: 4.31s\tremaining: 3.6s\n",
      "1089:\tlearn: 0.0969279\ttotal: 4.31s\tremaining: 3.6s\n",
      "1090:\tlearn: 0.0969187\ttotal: 4.32s\tremaining: 3.6s\n",
      "1091:\tlearn: 0.0968713\ttotal: 4.32s\tremaining: 3.59s\n",
      "1092:\tlearn: 0.0968430\ttotal: 4.32s\tremaining: 3.59s\n",
      "1093:\tlearn: 0.0967993\ttotal: 4.33s\tremaining: 3.58s\n",
      "1094:\tlearn: 0.0967175\ttotal: 4.33s\tremaining: 3.58s\n",
      "1095:\tlearn: 0.0966139\ttotal: 4.33s\tremaining: 3.57s\n",
      "1096:\tlearn: 0.0965299\ttotal: 4.34s\tremaining: 3.57s\n",
      "1097:\tlearn: 0.0964515\ttotal: 4.34s\tremaining: 3.56s\n",
      "1098:\tlearn: 0.0962389\ttotal: 4.34s\tremaining: 3.56s\n",
      "1099:\tlearn: 0.0961461\ttotal: 4.35s\tremaining: 3.56s\n",
      "1100:\tlearn: 0.0961057\ttotal: 4.35s\tremaining: 3.55s\n",
      "1101:\tlearn: 0.0959811\ttotal: 4.35s\tremaining: 3.55s\n",
      "1102:\tlearn: 0.0959055\ttotal: 4.36s\tremaining: 3.54s\n",
      "1103:\tlearn: 0.0958432\ttotal: 4.36s\tremaining: 3.54s\n",
      "1104:\tlearn: 0.0957278\ttotal: 4.36s\tremaining: 3.53s\n",
      "1105:\tlearn: 0.0956563\ttotal: 4.37s\tremaining: 3.53s\n",
      "1106:\tlearn: 0.0955912\ttotal: 4.37s\tremaining: 3.52s\n",
      "1107:\tlearn: 0.0955299\ttotal: 4.37s\tremaining: 3.52s\n",
      "1108:\tlearn: 0.0954939\ttotal: 4.38s\tremaining: 3.52s\n",
      "1109:\tlearn: 0.0954707\ttotal: 4.38s\tremaining: 3.51s\n",
      "1110:\tlearn: 0.0953763\ttotal: 4.38s\tremaining: 3.51s\n",
      "1111:\tlearn: 0.0953602\ttotal: 4.39s\tremaining: 3.5s\n",
      "1112:\tlearn: 0.0953049\ttotal: 4.39s\tremaining: 3.5s\n",
      "1113:\tlearn: 0.0952036\ttotal: 4.39s\tremaining: 3.5s\n",
      "1114:\tlearn: 0.0951469\ttotal: 4.4s\tremaining: 3.49s\n",
      "1115:\tlearn: 0.0950795\ttotal: 4.4s\tremaining: 3.49s\n",
      "1116:\tlearn: 0.0950618\ttotal: 4.41s\tremaining: 3.48s\n",
      "1117:\tlearn: 0.0950314\ttotal: 4.41s\tremaining: 3.48s\n",
      "1118:\tlearn: 0.0949314\ttotal: 4.41s\tremaining: 3.47s\n",
      "1119:\tlearn: 0.0948557\ttotal: 4.42s\tremaining: 3.47s\n",
      "1120:\tlearn: 0.0948012\ttotal: 4.42s\tremaining: 3.46s\n",
      "1121:\tlearn: 0.0947294\ttotal: 4.42s\tremaining: 3.46s\n",
      "1122:\tlearn: 0.0946969\ttotal: 4.42s\tremaining: 3.46s\n",
      "1123:\tlearn: 0.0946785\ttotal: 4.43s\tremaining: 3.45s\n",
      "1124:\tlearn: 0.0946232\ttotal: 4.43s\tremaining: 3.45s\n",
      "1125:\tlearn: 0.0945625\ttotal: 4.43s\tremaining: 3.44s\n",
      "1126:\tlearn: 0.0945415\ttotal: 4.44s\tremaining: 3.44s\n",
      "1127:\tlearn: 0.0944802\ttotal: 4.44s\tremaining: 3.43s\n",
      "1128:\tlearn: 0.0944275\ttotal: 4.45s\tremaining: 3.43s\n",
      "1129:\tlearn: 0.0943777\ttotal: 4.45s\tremaining: 3.42s\n",
      "1130:\tlearn: 0.0942268\ttotal: 4.45s\tremaining: 3.42s\n",
      "1131:\tlearn: 0.0939635\ttotal: 4.46s\tremaining: 3.42s\n",
      "1132:\tlearn: 0.0939238\ttotal: 4.46s\tremaining: 3.41s\n",
      "1133:\tlearn: 0.0938638\ttotal: 4.46s\tremaining: 3.41s\n",
      "1134:\tlearn: 0.0937773\ttotal: 4.46s\tremaining: 3.4s\n",
      "1135:\tlearn: 0.0937285\ttotal: 4.47s\tremaining: 3.4s\n",
      "1136:\tlearn: 0.0935732\ttotal: 4.47s\tremaining: 3.39s\n",
      "1137:\tlearn: 0.0934715\ttotal: 4.47s\tremaining: 3.39s\n",
      "1138:\tlearn: 0.0933749\ttotal: 4.48s\tremaining: 3.39s\n",
      "1139:\tlearn: 0.0931999\ttotal: 4.48s\tremaining: 3.38s\n",
      "1140:\tlearn: 0.0930389\ttotal: 4.49s\tremaining: 3.38s\n",
      "1141:\tlearn: 0.0928818\ttotal: 4.49s\tremaining: 3.37s\n",
      "1142:\tlearn: 0.0927305\ttotal: 4.49s\tremaining: 3.37s\n",
      "1143:\tlearn: 0.0926168\ttotal: 4.5s\tremaining: 3.36s\n",
      "1144:\tlearn: 0.0925643\ttotal: 4.5s\tremaining: 3.36s\n",
      "1145:\tlearn: 0.0925277\ttotal: 4.51s\tremaining: 3.36s\n",
      "1146:\tlearn: 0.0923692\ttotal: 4.51s\tremaining: 3.35s\n",
      "1147:\tlearn: 0.0923170\ttotal: 4.51s\tremaining: 3.35s\n",
      "1148:\tlearn: 0.0922362\ttotal: 4.52s\tremaining: 3.35s\n",
      "1149:\tlearn: 0.0921779\ttotal: 4.52s\tremaining: 3.34s\n",
      "1150:\tlearn: 0.0920293\ttotal: 4.53s\tremaining: 3.34s\n",
      "1151:\tlearn: 0.0919626\ttotal: 4.53s\tremaining: 3.33s\n",
      "1152:\tlearn: 0.0918469\ttotal: 4.54s\tremaining: 3.34s\n",
      "1153:\tlearn: 0.0916558\ttotal: 4.55s\tremaining: 3.33s\n",
      "1154:\tlearn: 0.0915974\ttotal: 4.55s\tremaining: 3.33s\n",
      "1155:\tlearn: 0.0915048\ttotal: 4.55s\tremaining: 3.33s\n",
      "1156:\tlearn: 0.0914880\ttotal: 4.56s\tremaining: 3.32s\n",
      "1157:\tlearn: 0.0914328\ttotal: 4.56s\tremaining: 3.32s\n",
      "1158:\tlearn: 0.0913697\ttotal: 4.57s\tremaining: 3.31s\n",
      "1159:\tlearn: 0.0912714\ttotal: 4.57s\tremaining: 3.31s\n",
      "1160:\tlearn: 0.0911537\ttotal: 4.57s\tremaining: 3.3s\n",
      "1161:\tlearn: 0.0911134\ttotal: 4.58s\tremaining: 3.3s\n",
      "1162:\tlearn: 0.0910790\ttotal: 4.58s\tremaining: 3.29s\n",
      "1163:\tlearn: 0.0910211\ttotal: 4.58s\tremaining: 3.29s\n",
      "1164:\tlearn: 0.0909704\ttotal: 4.59s\tremaining: 3.29s\n",
      "1165:\tlearn: 0.0909265\ttotal: 4.59s\tremaining: 3.28s\n",
      "1166:\tlearn: 0.0908959\ttotal: 4.59s\tremaining: 3.28s\n",
      "1167:\tlearn: 0.0908033\ttotal: 4.6s\tremaining: 3.27s\n",
      "1168:\tlearn: 0.0907489\ttotal: 4.6s\tremaining: 3.27s\n",
      "1169:\tlearn: 0.0906782\ttotal: 4.6s\tremaining: 3.27s\n",
      "1170:\tlearn: 0.0906130\ttotal: 4.61s\tremaining: 3.26s\n",
      "1171:\tlearn: 0.0905597\ttotal: 4.61s\tremaining: 3.26s\n",
      "1172:\tlearn: 0.0904765\ttotal: 4.62s\tremaining: 3.25s\n",
      "1173:\tlearn: 0.0903942\ttotal: 4.62s\tremaining: 3.25s\n",
      "1174:\tlearn: 0.0903369\ttotal: 4.62s\tremaining: 3.25s\n",
      "1175:\tlearn: 0.0902913\ttotal: 4.63s\tremaining: 3.24s\n",
      "1176:\tlearn: 0.0902504\ttotal: 4.63s\tremaining: 3.24s\n",
      "1177:\tlearn: 0.0901000\ttotal: 4.63s\tremaining: 3.23s\n",
      "1178:\tlearn: 0.0900472\ttotal: 4.64s\tremaining: 3.23s\n",
      "1179:\tlearn: 0.0899584\ttotal: 4.64s\tremaining: 3.22s\n",
      "1180:\tlearn: 0.0899161\ttotal: 4.64s\tremaining: 3.22s\n",
      "1181:\tlearn: 0.0898376\ttotal: 4.65s\tremaining: 3.22s\n",
      "1182:\tlearn: 0.0897179\ttotal: 4.65s\tremaining: 3.21s\n",
      "1183:\tlearn: 0.0896747\ttotal: 4.66s\tremaining: 3.21s\n",
      "1184:\tlearn: 0.0895909\ttotal: 4.66s\tremaining: 3.21s\n",
      "1185:\tlearn: 0.0894829\ttotal: 4.66s\tremaining: 3.2s\n",
      "1186:\tlearn: 0.0893891\ttotal: 4.67s\tremaining: 3.2s\n",
      "1187:\tlearn: 0.0892724\ttotal: 4.68s\tremaining: 3.2s\n",
      "1188:\tlearn: 0.0892437\ttotal: 4.68s\tremaining: 3.19s\n",
      "1189:\tlearn: 0.0891833\ttotal: 4.68s\tremaining: 3.19s\n",
      "1190:\tlearn: 0.0890697\ttotal: 4.69s\tremaining: 3.18s\n",
      "1191:\tlearn: 0.0890132\ttotal: 4.69s\tremaining: 3.18s\n",
      "1192:\tlearn: 0.0889294\ttotal: 4.69s\tremaining: 3.17s\n",
      "1193:\tlearn: 0.0888876\ttotal: 4.7s\tremaining: 3.17s\n",
      "1194:\tlearn: 0.0888478\ttotal: 4.7s\tremaining: 3.17s\n",
      "1195:\tlearn: 0.0887712\ttotal: 4.71s\tremaining: 3.16s\n",
      "1196:\tlearn: 0.0887150\ttotal: 4.71s\tremaining: 3.16s\n",
      "1197:\tlearn: 0.0886431\ttotal: 4.71s\tremaining: 3.15s\n",
      "1198:\tlearn: 0.0885829\ttotal: 4.71s\tremaining: 3.15s\n",
      "1199:\tlearn: 0.0885800\ttotal: 4.72s\tremaining: 3.15s\n",
      "1200:\tlearn: 0.0885554\ttotal: 4.72s\tremaining: 3.14s\n",
      "1201:\tlearn: 0.0884528\ttotal: 4.72s\tremaining: 3.14s\n",
      "1202:\tlearn: 0.0883925\ttotal: 4.73s\tremaining: 3.13s\n",
      "1203:\tlearn: 0.0883211\ttotal: 4.73s\tremaining: 3.13s\n",
      "1204:\tlearn: 0.0883035\ttotal: 4.73s\tremaining: 3.12s\n",
      "1205:\tlearn: 0.0882365\ttotal: 4.74s\tremaining: 3.12s\n",
      "1206:\tlearn: 0.0881745\ttotal: 4.74s\tremaining: 3.11s\n",
      "1207:\tlearn: 0.0881376\ttotal: 4.74s\tremaining: 3.11s\n",
      "1208:\tlearn: 0.0881224\ttotal: 4.75s\tremaining: 3.1s\n",
      "1209:\tlearn: 0.0880504\ttotal: 4.75s\tremaining: 3.1s\n",
      "1210:\tlearn: 0.0879862\ttotal: 4.75s\tremaining: 3.1s\n",
      "1211:\tlearn: 0.0879129\ttotal: 4.76s\tremaining: 3.09s\n",
      "1212:\tlearn: 0.0878597\ttotal: 4.76s\tremaining: 3.09s\n",
      "1213:\tlearn: 0.0878112\ttotal: 4.76s\tremaining: 3.08s\n",
      "1214:\tlearn: 0.0877752\ttotal: 4.77s\tremaining: 3.08s\n",
      "1215:\tlearn: 0.0877362\ttotal: 4.77s\tremaining: 3.08s\n",
      "1216:\tlearn: 0.0876401\ttotal: 4.77s\tremaining: 3.07s\n",
      "1217:\tlearn: 0.0875960\ttotal: 4.78s\tremaining: 3.07s\n",
      "1218:\tlearn: 0.0874512\ttotal: 4.78s\tremaining: 3.06s\n",
      "1219:\tlearn: 0.0873907\ttotal: 4.78s\tremaining: 3.06s\n",
      "1220:\tlearn: 0.0873329\ttotal: 4.79s\tremaining: 3.05s\n",
      "1221:\tlearn: 0.0872488\ttotal: 4.79s\tremaining: 3.05s\n",
      "1222:\tlearn: 0.0872346\ttotal: 4.79s\tremaining: 3.04s\n",
      "1223:\tlearn: 0.0872248\ttotal: 4.79s\tremaining: 3.04s\n",
      "1224:\tlearn: 0.0872107\ttotal: 4.8s\tremaining: 3.04s\n",
      "1225:\tlearn: 0.0871957\ttotal: 4.8s\tremaining: 3.03s\n",
      "1226:\tlearn: 0.0870920\ttotal: 4.8s\tremaining: 3.03s\n",
      "1227:\tlearn: 0.0870455\ttotal: 4.81s\tremaining: 3.02s\n",
      "1228:\tlearn: 0.0870060\ttotal: 4.81s\tremaining: 3.02s\n",
      "1229:\tlearn: 0.0869816\ttotal: 4.81s\tremaining: 3.01s\n",
      "1230:\tlearn: 0.0869321\ttotal: 4.82s\tremaining: 3.01s\n",
      "1231:\tlearn: 0.0868387\ttotal: 4.82s\tremaining: 3s\n",
      "1232:\tlearn: 0.0867965\ttotal: 4.82s\tremaining: 3s\n",
      "1233:\tlearn: 0.0867437\ttotal: 4.83s\tremaining: 3s\n",
      "1234:\tlearn: 0.0866883\ttotal: 4.83s\tremaining: 2.99s\n",
      "1235:\tlearn: 0.0866476\ttotal: 4.83s\tremaining: 2.99s\n",
      "1236:\tlearn: 0.0865950\ttotal: 4.83s\tremaining: 2.98s\n",
      "1237:\tlearn: 0.0865152\ttotal: 4.84s\tremaining: 2.98s\n",
      "1238:\tlearn: 0.0864703\ttotal: 4.84s\tremaining: 2.97s\n",
      "1239:\tlearn: 0.0863558\ttotal: 4.84s\tremaining: 2.97s\n",
      "1240:\tlearn: 0.0863171\ttotal: 4.85s\tremaining: 2.96s\n",
      "1241:\tlearn: 0.0862114\ttotal: 4.85s\tremaining: 2.96s\n",
      "1242:\tlearn: 0.0861516\ttotal: 4.85s\tremaining: 2.96s\n",
      "1243:\tlearn: 0.0860738\ttotal: 4.86s\tremaining: 2.95s\n",
      "1244:\tlearn: 0.0860396\ttotal: 4.86s\tremaining: 2.95s\n",
      "1245:\tlearn: 0.0860265\ttotal: 4.86s\tremaining: 2.94s\n",
      "1246:\tlearn: 0.0859982\ttotal: 4.87s\tremaining: 2.94s\n",
      "1247:\tlearn: 0.0859812\ttotal: 4.87s\tremaining: 2.94s\n",
      "1248:\tlearn: 0.0859642\ttotal: 4.87s\tremaining: 2.93s\n",
      "1249:\tlearn: 0.0859115\ttotal: 4.88s\tremaining: 2.93s\n",
      "1250:\tlearn: 0.0858870\ttotal: 4.88s\tremaining: 2.92s\n",
      "1251:\tlearn: 0.0858678\ttotal: 4.88s\tremaining: 2.92s\n",
      "1252:\tlearn: 0.0857986\ttotal: 4.89s\tremaining: 2.91s\n",
      "1253:\tlearn: 0.0857480\ttotal: 4.89s\tremaining: 2.91s\n",
      "1254:\tlearn: 0.0857064\ttotal: 4.89s\tremaining: 2.9s\n",
      "1255:\tlearn: 0.0855987\ttotal: 4.9s\tremaining: 2.9s\n",
      "1256:\tlearn: 0.0855525\ttotal: 4.9s\tremaining: 2.9s\n",
      "1257:\tlearn: 0.0854875\ttotal: 4.9s\tremaining: 2.89s\n",
      "1258:\tlearn: 0.0853965\ttotal: 4.91s\tremaining: 2.89s\n",
      "1259:\tlearn: 0.0853044\ttotal: 4.91s\tremaining: 2.88s\n",
      "1260:\tlearn: 0.0852284\ttotal: 4.91s\tremaining: 2.88s\n",
      "1261:\tlearn: 0.0851856\ttotal: 4.92s\tremaining: 2.88s\n",
      "1262:\tlearn: 0.0851202\ttotal: 4.92s\tremaining: 2.87s\n",
      "1263:\tlearn: 0.0850427\ttotal: 4.92s\tremaining: 2.87s\n",
      "1264:\tlearn: 0.0850024\ttotal: 4.93s\tremaining: 2.86s\n",
      "1265:\tlearn: 0.0849478\ttotal: 4.93s\tremaining: 2.86s\n",
      "1266:\tlearn: 0.0848807\ttotal: 4.93s\tremaining: 2.85s\n",
      "1267:\tlearn: 0.0848312\ttotal: 4.94s\tremaining: 2.85s\n",
      "1268:\tlearn: 0.0848014\ttotal: 4.94s\tremaining: 2.85s\n",
      "1269:\tlearn: 0.0847711\ttotal: 4.94s\tremaining: 2.84s\n",
      "1270:\tlearn: 0.0847450\ttotal: 4.95s\tremaining: 2.84s\n",
      "1271:\tlearn: 0.0847113\ttotal: 4.95s\tremaining: 2.83s\n",
      "1272:\tlearn: 0.0846653\ttotal: 4.95s\tremaining: 2.83s\n",
      "1273:\tlearn: 0.0846089\ttotal: 4.96s\tremaining: 2.83s\n",
      "1274:\tlearn: 0.0845086\ttotal: 4.96s\tremaining: 2.82s\n",
      "1275:\tlearn: 0.0844863\ttotal: 4.96s\tremaining: 2.82s\n",
      "1276:\tlearn: 0.0844278\ttotal: 4.97s\tremaining: 2.81s\n",
      "1277:\tlearn: 0.0843742\ttotal: 4.97s\tremaining: 2.81s\n",
      "1278:\tlearn: 0.0843284\ttotal: 4.98s\tremaining: 2.81s\n",
      "1279:\tlearn: 0.0842664\ttotal: 4.98s\tremaining: 2.8s\n",
      "1280:\tlearn: 0.0842216\ttotal: 4.99s\tremaining: 2.8s\n",
      "1281:\tlearn: 0.0841791\ttotal: 4.99s\tremaining: 2.79s\n",
      "1282:\tlearn: 0.0841407\ttotal: 4.99s\tremaining: 2.79s\n",
      "1283:\tlearn: 0.0841237\ttotal: 5s\tremaining: 2.79s\n",
      "1284:\tlearn: 0.0840798\ttotal: 5s\tremaining: 2.78s\n",
      "1285:\tlearn: 0.0840096\ttotal: 5.01s\tremaining: 2.78s\n",
      "1286:\tlearn: 0.0839001\ttotal: 5.01s\tremaining: 2.78s\n",
      "1287:\tlearn: 0.0838267\ttotal: 5.02s\tremaining: 2.77s\n",
      "1288:\tlearn: 0.0837078\ttotal: 5.02s\tremaining: 2.77s\n",
      "1289:\tlearn: 0.0836288\ttotal: 5.02s\tremaining: 2.76s\n",
      "1290:\tlearn: 0.0835561\ttotal: 5.03s\tremaining: 2.76s\n",
      "1291:\tlearn: 0.0835227\ttotal: 5.03s\tremaining: 2.76s\n",
      "1292:\tlearn: 0.0834289\ttotal: 5.03s\tremaining: 2.75s\n",
      "1293:\tlearn: 0.0834142\ttotal: 5.04s\tremaining: 2.75s\n",
      "1294:\tlearn: 0.0833397\ttotal: 5.04s\tremaining: 2.74s\n",
      "1295:\tlearn: 0.0833296\ttotal: 5.04s\tremaining: 2.74s\n",
      "1296:\tlearn: 0.0832916\ttotal: 5.05s\tremaining: 2.73s\n",
      "1297:\tlearn: 0.0832790\ttotal: 5.05s\tremaining: 2.73s\n",
      "1298:\tlearn: 0.0832389\ttotal: 5.05s\tremaining: 2.73s\n",
      "1299:\tlearn: 0.0831501\ttotal: 5.06s\tremaining: 2.72s\n",
      "1300:\tlearn: 0.0830338\ttotal: 5.06s\tremaining: 2.72s\n",
      "1301:\tlearn: 0.0830024\ttotal: 5.07s\tremaining: 2.71s\n",
      "1302:\tlearn: 0.0829783\ttotal: 5.07s\tremaining: 2.71s\n",
      "1303:\tlearn: 0.0828886\ttotal: 5.07s\tremaining: 2.71s\n",
      "1304:\tlearn: 0.0828774\ttotal: 5.08s\tremaining: 2.7s\n",
      "1305:\tlearn: 0.0828364\ttotal: 5.08s\tremaining: 2.7s\n",
      "1306:\tlearn: 0.0827776\ttotal: 5.08s\tremaining: 2.69s\n",
      "1307:\tlearn: 0.0827454\ttotal: 5.09s\tremaining: 2.69s\n",
      "1308:\tlearn: 0.0826983\ttotal: 5.09s\tremaining: 2.69s\n",
      "1309:\tlearn: 0.0826035\ttotal: 5.1s\tremaining: 2.68s\n",
      "1310:\tlearn: 0.0825704\ttotal: 5.1s\tremaining: 2.68s\n",
      "1311:\tlearn: 0.0825146\ttotal: 5.1s\tremaining: 2.68s\n",
      "1312:\tlearn: 0.0824973\ttotal: 5.11s\tremaining: 2.67s\n",
      "1313:\tlearn: 0.0824406\ttotal: 5.11s\tremaining: 2.67s\n",
      "1314:\tlearn: 0.0824302\ttotal: 5.11s\tremaining: 2.66s\n",
      "1315:\tlearn: 0.0822929\ttotal: 5.12s\tremaining: 2.66s\n",
      "1316:\tlearn: 0.0822150\ttotal: 5.12s\tremaining: 2.66s\n",
      "1317:\tlearn: 0.0821898\ttotal: 5.13s\tremaining: 2.65s\n",
      "1318:\tlearn: 0.0821046\ttotal: 5.13s\tremaining: 2.65s\n",
      "1319:\tlearn: 0.0820615\ttotal: 5.13s\tremaining: 2.64s\n",
      "1320:\tlearn: 0.0819883\ttotal: 5.14s\tremaining: 2.64s\n",
      "1321:\tlearn: 0.0819615\ttotal: 5.14s\tremaining: 2.64s\n",
      "1322:\tlearn: 0.0818982\ttotal: 5.14s\tremaining: 2.63s\n",
      "1323:\tlearn: 0.0818409\ttotal: 5.15s\tremaining: 2.63s\n",
      "1324:\tlearn: 0.0817972\ttotal: 5.15s\tremaining: 2.63s\n",
      "1325:\tlearn: 0.0817029\ttotal: 5.16s\tremaining: 2.62s\n",
      "1326:\tlearn: 0.0816702\ttotal: 5.16s\tremaining: 2.62s\n",
      "1327:\tlearn: 0.0815529\ttotal: 5.17s\tremaining: 2.61s\n",
      "1328:\tlearn: 0.0815105\ttotal: 5.17s\tremaining: 2.61s\n",
      "1329:\tlearn: 0.0814287\ttotal: 5.17s\tremaining: 2.61s\n",
      "1330:\tlearn: 0.0813765\ttotal: 5.18s\tremaining: 2.6s\n",
      "1331:\tlearn: 0.0813289\ttotal: 5.18s\tremaining: 2.6s\n",
      "1332:\tlearn: 0.0812369\ttotal: 5.19s\tremaining: 2.6s\n",
      "1333:\tlearn: 0.0812051\ttotal: 5.19s\tremaining: 2.59s\n",
      "1334:\tlearn: 0.0811812\ttotal: 5.19s\tremaining: 2.59s\n",
      "1335:\tlearn: 0.0810477\ttotal: 5.2s\tremaining: 2.58s\n",
      "1336:\tlearn: 0.0809850\ttotal: 5.2s\tremaining: 2.58s\n",
      "1337:\tlearn: 0.0808847\ttotal: 5.21s\tremaining: 2.58s\n",
      "1338:\tlearn: 0.0808306\ttotal: 5.21s\tremaining: 2.57s\n",
      "1339:\tlearn: 0.0807557\ttotal: 5.21s\tremaining: 2.57s\n",
      "1340:\tlearn: 0.0806983\ttotal: 5.22s\tremaining: 2.56s\n",
      "1341:\tlearn: 0.0806509\ttotal: 5.22s\tremaining: 2.56s\n",
      "1342:\tlearn: 0.0806075\ttotal: 5.22s\tremaining: 2.56s\n",
      "1343:\tlearn: 0.0805511\ttotal: 5.23s\tremaining: 2.55s\n",
      "1344:\tlearn: 0.0804932\ttotal: 5.23s\tremaining: 2.55s\n",
      "1345:\tlearn: 0.0804387\ttotal: 5.24s\tremaining: 2.55s\n",
      "1346:\tlearn: 0.0803848\ttotal: 5.25s\tremaining: 2.54s\n",
      "1347:\tlearn: 0.0803408\ttotal: 5.25s\tremaining: 2.54s\n",
      "1348:\tlearn: 0.0803253\ttotal: 5.26s\tremaining: 2.54s\n",
      "1349:\tlearn: 0.0802762\ttotal: 5.26s\tremaining: 2.53s\n",
      "1350:\tlearn: 0.0802326\ttotal: 5.27s\tremaining: 2.53s\n",
      "1351:\tlearn: 0.0802092\ttotal: 5.28s\tremaining: 2.53s\n",
      "1352:\tlearn: 0.0801713\ttotal: 5.28s\tremaining: 2.53s\n",
      "1353:\tlearn: 0.0801405\ttotal: 5.29s\tremaining: 2.52s\n",
      "1354:\tlearn: 0.0801050\ttotal: 5.3s\tremaining: 2.52s\n",
      "1355:\tlearn: 0.0800968\ttotal: 5.3s\tremaining: 2.52s\n",
      "1356:\tlearn: 0.0800868\ttotal: 5.31s\tremaining: 2.52s\n",
      "1357:\tlearn: 0.0800475\ttotal: 5.31s\tremaining: 2.51s\n",
      "1358:\tlearn: 0.0800372\ttotal: 5.32s\tremaining: 2.51s\n",
      "1359:\tlearn: 0.0799966\ttotal: 5.33s\tremaining: 2.51s\n",
      "1360:\tlearn: 0.0798832\ttotal: 5.33s\tremaining: 2.5s\n",
      "1361:\tlearn: 0.0798076\ttotal: 5.34s\tremaining: 2.5s\n",
      "1362:\tlearn: 0.0797543\ttotal: 5.34s\tremaining: 2.5s\n",
      "1363:\tlearn: 0.0797173\ttotal: 5.35s\tremaining: 2.49s\n",
      "1364:\tlearn: 0.0796758\ttotal: 5.35s\tremaining: 2.49s\n",
      "1365:\tlearn: 0.0795941\ttotal: 5.36s\tremaining: 2.48s\n",
      "1366:\tlearn: 0.0795622\ttotal: 5.36s\tremaining: 2.48s\n",
      "1367:\tlearn: 0.0794649\ttotal: 5.37s\tremaining: 2.48s\n",
      "1368:\tlearn: 0.0793878\ttotal: 5.37s\tremaining: 2.48s\n",
      "1369:\tlearn: 0.0793495\ttotal: 5.38s\tremaining: 2.47s\n",
      "1370:\tlearn: 0.0793040\ttotal: 5.38s\tremaining: 2.47s\n",
      "1371:\tlearn: 0.0792813\ttotal: 5.39s\tremaining: 2.46s\n",
      "1372:\tlearn: 0.0792288\ttotal: 5.39s\tremaining: 2.46s\n",
      "1373:\tlearn: 0.0791937\ttotal: 5.4s\tremaining: 2.46s\n",
      "1374:\tlearn: 0.0790308\ttotal: 5.41s\tremaining: 2.46s\n",
      "1375:\tlearn: 0.0790128\ttotal: 5.42s\tremaining: 2.46s\n",
      "1376:\tlearn: 0.0789840\ttotal: 5.42s\tremaining: 2.45s\n",
      "1377:\tlearn: 0.0789392\ttotal: 5.43s\tremaining: 2.45s\n",
      "1378:\tlearn: 0.0789150\ttotal: 5.43s\tremaining: 2.45s\n",
      "1379:\tlearn: 0.0789041\ttotal: 5.44s\tremaining: 2.44s\n",
      "1380:\tlearn: 0.0788253\ttotal: 5.44s\tremaining: 2.44s\n",
      "1381:\tlearn: 0.0787569\ttotal: 5.45s\tremaining: 2.44s\n",
      "1382:\tlearn: 0.0787121\ttotal: 5.45s\tremaining: 2.43s\n",
      "1383:\tlearn: 0.0786401\ttotal: 5.46s\tremaining: 2.43s\n",
      "1384:\tlearn: 0.0784732\ttotal: 5.46s\tremaining: 2.42s\n",
      "1385:\tlearn: 0.0784481\ttotal: 5.47s\tremaining: 2.42s\n",
      "1386:\tlearn: 0.0784076\ttotal: 5.47s\tremaining: 2.42s\n",
      "1387:\tlearn: 0.0783419\ttotal: 5.48s\tremaining: 2.41s\n",
      "1388:\tlearn: 0.0782649\ttotal: 5.48s\tremaining: 2.41s\n",
      "1389:\tlearn: 0.0782374\ttotal: 5.49s\tremaining: 2.41s\n",
      "1390:\tlearn: 0.0781974\ttotal: 5.49s\tremaining: 2.4s\n",
      "1391:\tlearn: 0.0781613\ttotal: 5.5s\tremaining: 2.4s\n",
      "1392:\tlearn: 0.0781419\ttotal: 5.5s\tremaining: 2.4s\n",
      "1393:\tlearn: 0.0781001\ttotal: 5.51s\tremaining: 2.39s\n",
      "1394:\tlearn: 0.0780644\ttotal: 5.51s\tremaining: 2.39s\n",
      "1395:\tlearn: 0.0780084\ttotal: 5.52s\tremaining: 2.39s\n",
      "1396:\tlearn: 0.0779835\ttotal: 5.56s\tremaining: 2.4s\n",
      "1397:\tlearn: 0.0778932\ttotal: 5.57s\tremaining: 2.4s\n",
      "1398:\tlearn: 0.0778242\ttotal: 5.6s\tremaining: 2.4s\n",
      "1399:\tlearn: 0.0777984\ttotal: 5.6s\tremaining: 2.4s\n",
      "1400:\tlearn: 0.0777082\ttotal: 5.61s\tremaining: 2.4s\n",
      "1401:\tlearn: 0.0776619\ttotal: 5.61s\tremaining: 2.39s\n",
      "1402:\tlearn: 0.0775989\ttotal: 5.62s\tremaining: 2.39s\n",
      "1403:\tlearn: 0.0775318\ttotal: 5.62s\tremaining: 2.39s\n",
      "1404:\tlearn: 0.0774769\ttotal: 5.63s\tremaining: 2.38s\n",
      "1405:\tlearn: 0.0773810\ttotal: 5.63s\tremaining: 2.38s\n",
      "1406:\tlearn: 0.0773574\ttotal: 5.64s\tremaining: 2.38s\n",
      "1407:\tlearn: 0.0773110\ttotal: 5.64s\tremaining: 2.37s\n",
      "1408:\tlearn: 0.0772729\ttotal: 5.65s\tremaining: 2.37s\n",
      "1409:\tlearn: 0.0772103\ttotal: 5.65s\tremaining: 2.37s\n",
      "1410:\tlearn: 0.0771609\ttotal: 5.66s\tremaining: 2.36s\n",
      "1411:\tlearn: 0.0771478\ttotal: 5.66s\tremaining: 2.36s\n",
      "1412:\tlearn: 0.0771143\ttotal: 5.67s\tremaining: 2.35s\n",
      "1413:\tlearn: 0.0770346\ttotal: 5.67s\tremaining: 2.35s\n",
      "1414:\tlearn: 0.0769499\ttotal: 5.67s\tremaining: 2.35s\n",
      "1415:\tlearn: 0.0768713\ttotal: 5.68s\tremaining: 2.34s\n",
      "1416:\tlearn: 0.0768377\ttotal: 5.68s\tremaining: 2.34s\n",
      "1417:\tlearn: 0.0767841\ttotal: 5.69s\tremaining: 2.33s\n",
      "1418:\tlearn: 0.0767385\ttotal: 5.69s\tremaining: 2.33s\n",
      "1419:\tlearn: 0.0766506\ttotal: 5.69s\tremaining: 2.33s\n",
      "1420:\tlearn: 0.0766406\ttotal: 5.7s\tremaining: 2.32s\n",
      "1421:\tlearn: 0.0766278\ttotal: 5.7s\tremaining: 2.32s\n",
      "1422:\tlearn: 0.0764502\ttotal: 5.71s\tremaining: 2.31s\n",
      "1423:\tlearn: 0.0764241\ttotal: 5.71s\tremaining: 2.31s\n",
      "1424:\tlearn: 0.0763925\ttotal: 5.71s\tremaining: 2.31s\n",
      "1425:\tlearn: 0.0763752\ttotal: 5.72s\tremaining: 2.3s\n",
      "1426:\tlearn: 0.0763438\ttotal: 5.72s\tremaining: 2.3s\n",
      "1427:\tlearn: 0.0762956\ttotal: 5.73s\tremaining: 2.29s\n",
      "1428:\tlearn: 0.0762587\ttotal: 5.73s\tremaining: 2.29s\n",
      "1429:\tlearn: 0.0762200\ttotal: 5.74s\tremaining: 2.29s\n",
      "1430:\tlearn: 0.0761806\ttotal: 5.74s\tremaining: 2.28s\n",
      "1431:\tlearn: 0.0761682\ttotal: 5.75s\tremaining: 2.28s\n",
      "1432:\tlearn: 0.0761294\ttotal: 5.75s\tremaining: 2.27s\n",
      "1433:\tlearn: 0.0761084\ttotal: 5.75s\tremaining: 2.27s\n",
      "1434:\tlearn: 0.0760876\ttotal: 5.76s\tremaining: 2.27s\n",
      "1435:\tlearn: 0.0760787\ttotal: 5.76s\tremaining: 2.26s\n",
      "1436:\tlearn: 0.0760558\ttotal: 5.76s\tremaining: 2.26s\n",
      "1437:\tlearn: 0.0760169\ttotal: 5.77s\tremaining: 2.25s\n",
      "1438:\tlearn: 0.0759041\ttotal: 5.77s\tremaining: 2.25s\n",
      "1439:\tlearn: 0.0758650\ttotal: 5.78s\tremaining: 2.25s\n",
      "1440:\tlearn: 0.0757385\ttotal: 5.78s\tremaining: 2.24s\n",
      "1441:\tlearn: 0.0757266\ttotal: 5.79s\tremaining: 2.24s\n",
      "1442:\tlearn: 0.0756527\ttotal: 5.79s\tremaining: 2.24s\n",
      "1443:\tlearn: 0.0756425\ttotal: 5.8s\tremaining: 2.23s\n",
      "1444:\tlearn: 0.0755854\ttotal: 5.8s\tremaining: 2.23s\n",
      "1445:\tlearn: 0.0755528\ttotal: 5.81s\tremaining: 2.22s\n",
      "1446:\tlearn: 0.0755278\ttotal: 5.81s\tremaining: 2.22s\n",
      "1447:\tlearn: 0.0755195\ttotal: 5.82s\tremaining: 2.22s\n",
      "1448:\tlearn: 0.0754571\ttotal: 5.82s\tremaining: 2.21s\n",
      "1449:\tlearn: 0.0753836\ttotal: 5.82s\tremaining: 2.21s\n",
      "1450:\tlearn: 0.0753408\ttotal: 5.83s\tremaining: 2.21s\n",
      "1451:\tlearn: 0.0753056\ttotal: 5.83s\tremaining: 2.2s\n",
      "1452:\tlearn: 0.0752702\ttotal: 5.84s\tremaining: 2.2s\n",
      "1453:\tlearn: 0.0752167\ttotal: 5.84s\tremaining: 2.19s\n",
      "1454:\tlearn: 0.0751657\ttotal: 5.85s\tremaining: 2.19s\n",
      "1455:\tlearn: 0.0751025\ttotal: 5.85s\tremaining: 2.19s\n",
      "1456:\tlearn: 0.0750433\ttotal: 5.86s\tremaining: 2.18s\n",
      "1457:\tlearn: 0.0750017\ttotal: 5.86s\tremaining: 2.18s\n",
      "1458:\tlearn: 0.0749621\ttotal: 5.87s\tremaining: 2.17s\n",
      "1459:\tlearn: 0.0749156\ttotal: 5.87s\tremaining: 2.17s\n",
      "1460:\tlearn: 0.0748694\ttotal: 5.89s\tremaining: 2.17s\n",
      "1461:\tlearn: 0.0748416\ttotal: 5.89s\tremaining: 2.17s\n",
      "1462:\tlearn: 0.0748227\ttotal: 5.9s\tremaining: 2.16s\n",
      "1463:\tlearn: 0.0747894\ttotal: 5.9s\tremaining: 2.16s\n",
      "1464:\tlearn: 0.0747662\ttotal: 5.91s\tremaining: 2.16s\n",
      "1465:\tlearn: 0.0747324\ttotal: 5.91s\tremaining: 2.15s\n",
      "1466:\tlearn: 0.0746985\ttotal: 5.92s\tremaining: 2.15s\n",
      "1467:\tlearn: 0.0746651\ttotal: 5.92s\tremaining: 2.15s\n",
      "1468:\tlearn: 0.0746366\ttotal: 5.93s\tremaining: 2.14s\n",
      "1469:\tlearn: 0.0745908\ttotal: 5.93s\tremaining: 2.14s\n",
      "1470:\tlearn: 0.0745531\ttotal: 5.94s\tremaining: 2.13s\n",
      "1471:\tlearn: 0.0744944\ttotal: 5.94s\tremaining: 2.13s\n",
      "1472:\tlearn: 0.0744781\ttotal: 5.95s\tremaining: 2.13s\n",
      "1473:\tlearn: 0.0744604\ttotal: 5.95s\tremaining: 2.12s\n",
      "1474:\tlearn: 0.0743696\ttotal: 5.96s\tremaining: 2.12s\n",
      "1475:\tlearn: 0.0743082\ttotal: 5.96s\tremaining: 2.12s\n",
      "1476:\tlearn: 0.0742650\ttotal: 5.96s\tremaining: 2.11s\n",
      "1477:\tlearn: 0.0742410\ttotal: 5.97s\tremaining: 2.11s\n",
      "1478:\tlearn: 0.0742049\ttotal: 5.97s\tremaining: 2.1s\n",
      "1479:\tlearn: 0.0741303\ttotal: 5.98s\tremaining: 2.1s\n",
      "1480:\tlearn: 0.0740797\ttotal: 5.98s\tremaining: 2.1s\n",
      "1481:\tlearn: 0.0739835\ttotal: 5.99s\tremaining: 2.09s\n",
      "1482:\tlearn: 0.0739071\ttotal: 5.99s\tremaining: 2.09s\n",
      "1483:\tlearn: 0.0738641\ttotal: 6s\tremaining: 2.08s\n",
      "1484:\tlearn: 0.0738199\ttotal: 6s\tremaining: 2.08s\n",
      "1485:\tlearn: 0.0737982\ttotal: 6.01s\tremaining: 2.08s\n",
      "1486:\tlearn: 0.0737816\ttotal: 6.01s\tremaining: 2.07s\n",
      "1487:\tlearn: 0.0737277\ttotal: 6.01s\tremaining: 2.07s\n",
      "1488:\tlearn: 0.0735599\ttotal: 6.02s\tremaining: 2.07s\n",
      "1489:\tlearn: 0.0735195\ttotal: 6.03s\tremaining: 2.06s\n",
      "1490:\tlearn: 0.0734102\ttotal: 6.03s\tremaining: 2.06s\n",
      "1491:\tlearn: 0.0733742\ttotal: 6.03s\tremaining: 2.05s\n",
      "1492:\tlearn: 0.0733572\ttotal: 6.04s\tremaining: 2.05s\n",
      "1493:\tlearn: 0.0733165\ttotal: 6.04s\tremaining: 2.05s\n",
      "1494:\tlearn: 0.0732747\ttotal: 6.04s\tremaining: 2.04s\n",
      "1495:\tlearn: 0.0732377\ttotal: 6.05s\tremaining: 2.04s\n",
      "1496:\tlearn: 0.0731230\ttotal: 6.05s\tremaining: 2.03s\n",
      "1497:\tlearn: 0.0730212\ttotal: 6.06s\tremaining: 2.03s\n",
      "1498:\tlearn: 0.0729688\ttotal: 6.06s\tremaining: 2.03s\n",
      "1499:\tlearn: 0.0729073\ttotal: 6.07s\tremaining: 2.02s\n",
      "1500:\tlearn: 0.0728815\ttotal: 6.07s\tremaining: 2.02s\n",
      "1501:\tlearn: 0.0728264\ttotal: 6.08s\tremaining: 2.01s\n",
      "1502:\tlearn: 0.0728001\ttotal: 6.08s\tremaining: 2.01s\n",
      "1503:\tlearn: 0.0727802\ttotal: 6.08s\tremaining: 2.01s\n",
      "1504:\tlearn: 0.0727666\ttotal: 6.09s\tremaining: 2s\n",
      "1505:\tlearn: 0.0727109\ttotal: 6.09s\tremaining: 2s\n",
      "1506:\tlearn: 0.0726813\ttotal: 6.09s\tremaining: 1.99s\n",
      "1507:\tlearn: 0.0726460\ttotal: 6.1s\tremaining: 1.99s\n",
      "1508:\tlearn: 0.0726311\ttotal: 6.1s\tremaining: 1.99s\n",
      "1509:\tlearn: 0.0726041\ttotal: 6.11s\tremaining: 1.98s\n",
      "1510:\tlearn: 0.0725650\ttotal: 6.11s\tremaining: 1.98s\n",
      "1511:\tlearn: 0.0725341\ttotal: 6.12s\tremaining: 1.97s\n",
      "1512:\tlearn: 0.0725052\ttotal: 6.12s\tremaining: 1.97s\n",
      "1513:\tlearn: 0.0724243\ttotal: 6.13s\tremaining: 1.97s\n",
      "1514:\tlearn: 0.0724137\ttotal: 6.13s\tremaining: 1.96s\n",
      "1515:\tlearn: 0.0723298\ttotal: 6.14s\tremaining: 1.96s\n",
      "1516:\tlearn: 0.0722607\ttotal: 6.15s\tremaining: 1.96s\n",
      "1517:\tlearn: 0.0722429\ttotal: 6.16s\tremaining: 1.95s\n",
      "1518:\tlearn: 0.0722186\ttotal: 6.16s\tremaining: 1.95s\n",
      "1519:\tlearn: 0.0721871\ttotal: 6.17s\tremaining: 1.95s\n",
      "1520:\tlearn: 0.0721700\ttotal: 6.17s\tremaining: 1.94s\n",
      "1521:\tlearn: 0.0721598\ttotal: 6.18s\tremaining: 1.94s\n",
      "1522:\tlearn: 0.0721022\ttotal: 6.18s\tremaining: 1.94s\n",
      "1523:\tlearn: 0.0720327\ttotal: 6.19s\tremaining: 1.93s\n",
      "1524:\tlearn: 0.0719881\ttotal: 6.19s\tremaining: 1.93s\n",
      "1525:\tlearn: 0.0719235\ttotal: 6.2s\tremaining: 1.93s\n",
      "1526:\tlearn: 0.0719020\ttotal: 6.2s\tremaining: 1.92s\n",
      "1527:\tlearn: 0.0718653\ttotal: 6.21s\tremaining: 1.92s\n",
      "1528:\tlearn: 0.0718069\ttotal: 6.21s\tremaining: 1.91s\n",
      "1529:\tlearn: 0.0717981\ttotal: 6.21s\tremaining: 1.91s\n",
      "1530:\tlearn: 0.0717141\ttotal: 6.22s\tremaining: 1.91s\n",
      "1531:\tlearn: 0.0716764\ttotal: 6.22s\tremaining: 1.9s\n",
      "1532:\tlearn: 0.0716156\ttotal: 6.23s\tremaining: 1.9s\n",
      "1533:\tlearn: 0.0715473\ttotal: 6.23s\tremaining: 1.89s\n",
      "1534:\tlearn: 0.0714227\ttotal: 6.23s\tremaining: 1.89s\n",
      "1535:\tlearn: 0.0714168\ttotal: 6.24s\tremaining: 1.88s\n",
      "1536:\tlearn: 0.0713762\ttotal: 6.24s\tremaining: 1.88s\n",
      "1537:\tlearn: 0.0713455\ttotal: 6.25s\tremaining: 1.88s\n",
      "1538:\tlearn: 0.0713055\ttotal: 6.25s\tremaining: 1.87s\n",
      "1539:\tlearn: 0.0712939\ttotal: 6.25s\tremaining: 1.87s\n",
      "1540:\tlearn: 0.0712627\ttotal: 6.26s\tremaining: 1.86s\n",
      "1541:\tlearn: 0.0711837\ttotal: 6.26s\tremaining: 1.86s\n",
      "1542:\tlearn: 0.0711251\ttotal: 6.27s\tremaining: 1.86s\n",
      "1543:\tlearn: 0.0711037\ttotal: 6.27s\tremaining: 1.85s\n",
      "1544:\tlearn: 0.0710447\ttotal: 6.28s\tremaining: 1.85s\n",
      "1545:\tlearn: 0.0709731\ttotal: 6.28s\tremaining: 1.84s\n",
      "1546:\tlearn: 0.0709157\ttotal: 6.28s\tremaining: 1.84s\n",
      "1547:\tlearn: 0.0709073\ttotal: 6.29s\tremaining: 1.83s\n",
      "1548:\tlearn: 0.0708882\ttotal: 6.29s\tremaining: 1.83s\n",
      "1549:\tlearn: 0.0708722\ttotal: 6.29s\tremaining: 1.83s\n",
      "1550:\tlearn: 0.0708475\ttotal: 6.3s\tremaining: 1.82s\n",
      "1551:\tlearn: 0.0708159\ttotal: 6.3s\tremaining: 1.82s\n",
      "1552:\tlearn: 0.0707611\ttotal: 6.3s\tremaining: 1.81s\n",
      "1553:\tlearn: 0.0707261\ttotal: 6.31s\tremaining: 1.81s\n",
      "1554:\tlearn: 0.0706967\ttotal: 6.31s\tremaining: 1.81s\n",
      "1555:\tlearn: 0.0705906\ttotal: 6.32s\tremaining: 1.8s\n",
      "1556:\tlearn: 0.0705600\ttotal: 6.32s\tremaining: 1.8s\n",
      "1557:\tlearn: 0.0705227\ttotal: 6.32s\tremaining: 1.79s\n",
      "1558:\tlearn: 0.0703969\ttotal: 6.33s\tremaining: 1.79s\n",
      "1559:\tlearn: 0.0703399\ttotal: 6.33s\tremaining: 1.78s\n",
      "1560:\tlearn: 0.0703202\ttotal: 6.33s\tremaining: 1.78s\n",
      "1561:\tlearn: 0.0702450\ttotal: 6.34s\tremaining: 1.78s\n",
      "1562:\tlearn: 0.0702066\ttotal: 6.34s\tremaining: 1.77s\n",
      "1563:\tlearn: 0.0701611\ttotal: 6.35s\tremaining: 1.77s\n",
      "1564:\tlearn: 0.0701540\ttotal: 6.35s\tremaining: 1.76s\n",
      "1565:\tlearn: 0.0701374\ttotal: 6.39s\tremaining: 1.77s\n",
      "1566:\tlearn: 0.0700943\ttotal: 6.4s\tremaining: 1.77s\n",
      "1567:\tlearn: 0.0700870\ttotal: 6.41s\tremaining: 1.76s\n",
      "1568:\tlearn: 0.0700604\ttotal: 6.41s\tremaining: 1.76s\n",
      "1569:\tlearn: 0.0699971\ttotal: 6.41s\tremaining: 1.76s\n",
      "1570:\tlearn: 0.0699500\ttotal: 6.42s\tremaining: 1.75s\n",
      "1571:\tlearn: 0.0698997\ttotal: 6.42s\tremaining: 1.75s\n",
      "1572:\tlearn: 0.0698465\ttotal: 6.42s\tremaining: 1.74s\n",
      "1573:\tlearn: 0.0698113\ttotal: 6.43s\tremaining: 1.74s\n",
      "1574:\tlearn: 0.0697321\ttotal: 6.43s\tremaining: 1.74s\n",
      "1575:\tlearn: 0.0696772\ttotal: 6.44s\tremaining: 1.73s\n",
      "1576:\tlearn: 0.0696691\ttotal: 6.44s\tremaining: 1.73s\n",
      "1577:\tlearn: 0.0696289\ttotal: 6.44s\tremaining: 1.72s\n",
      "1578:\tlearn: 0.0695566\ttotal: 6.45s\tremaining: 1.72s\n",
      "1579:\tlearn: 0.0694594\ttotal: 6.45s\tremaining: 1.71s\n",
      "1580:\tlearn: 0.0693738\ttotal: 6.45s\tremaining: 1.71s\n",
      "1581:\tlearn: 0.0693144\ttotal: 6.46s\tremaining: 1.71s\n",
      "1582:\tlearn: 0.0692541\ttotal: 6.46s\tremaining: 1.7s\n",
      "1583:\tlearn: 0.0692492\ttotal: 6.46s\tremaining: 1.7s\n",
      "1584:\tlearn: 0.0692336\ttotal: 6.47s\tremaining: 1.69s\n",
      "1585:\tlearn: 0.0692101\ttotal: 6.47s\tremaining: 1.69s\n",
      "1586:\tlearn: 0.0691941\ttotal: 6.47s\tremaining: 1.68s\n",
      "1587:\tlearn: 0.0691654\ttotal: 6.48s\tremaining: 1.68s\n",
      "1588:\tlearn: 0.0691575\ttotal: 6.48s\tremaining: 1.68s\n",
      "1589:\tlearn: 0.0691094\ttotal: 6.49s\tremaining: 1.67s\n",
      "1590:\tlearn: 0.0690838\ttotal: 6.49s\tremaining: 1.67s\n",
      "1591:\tlearn: 0.0690183\ttotal: 6.49s\tremaining: 1.66s\n",
      "1592:\tlearn: 0.0689771\ttotal: 6.5s\tremaining: 1.66s\n",
      "1593:\tlearn: 0.0689364\ttotal: 6.5s\tremaining: 1.66s\n",
      "1594:\tlearn: 0.0689115\ttotal: 6.5s\tremaining: 1.65s\n",
      "1595:\tlearn: 0.0688662\ttotal: 6.51s\tremaining: 1.65s\n",
      "1596:\tlearn: 0.0688042\ttotal: 6.51s\tremaining: 1.64s\n",
      "1597:\tlearn: 0.0687967\ttotal: 6.51s\tremaining: 1.64s\n",
      "1598:\tlearn: 0.0687502\ttotal: 6.52s\tremaining: 1.63s\n",
      "1599:\tlearn: 0.0687237\ttotal: 6.52s\tremaining: 1.63s\n",
      "1600:\tlearn: 0.0687200\ttotal: 6.52s\tremaining: 1.63s\n",
      "1601:\tlearn: 0.0687176\ttotal: 6.53s\tremaining: 1.62s\n",
      "1602:\tlearn: 0.0686768\ttotal: 6.53s\tremaining: 1.62s\n",
      "1603:\tlearn: 0.0686691\ttotal: 6.54s\tremaining: 1.61s\n",
      "1604:\tlearn: 0.0686255\ttotal: 6.54s\tremaining: 1.61s\n",
      "1605:\tlearn: 0.0686201\ttotal: 6.54s\tremaining: 1.6s\n",
      "1606:\tlearn: 0.0685894\ttotal: 6.55s\tremaining: 1.6s\n",
      "1607:\tlearn: 0.0685670\ttotal: 6.55s\tremaining: 1.6s\n",
      "1608:\tlearn: 0.0685194\ttotal: 6.56s\tremaining: 1.59s\n",
      "1609:\tlearn: 0.0685043\ttotal: 6.56s\tremaining: 1.59s\n",
      "1610:\tlearn: 0.0684791\ttotal: 6.56s\tremaining: 1.58s\n",
      "1611:\tlearn: 0.0684572\ttotal: 6.57s\tremaining: 1.58s\n",
      "1612:\tlearn: 0.0684305\ttotal: 6.57s\tremaining: 1.58s\n",
      "1613:\tlearn: 0.0684126\ttotal: 6.57s\tremaining: 1.57s\n",
      "1614:\tlearn: 0.0684044\ttotal: 6.58s\tremaining: 1.57s\n",
      "1615:\tlearn: 0.0683845\ttotal: 6.58s\tremaining: 1.56s\n",
      "1616:\tlearn: 0.0683442\ttotal: 6.58s\tremaining: 1.56s\n",
      "1617:\tlearn: 0.0683150\ttotal: 6.59s\tremaining: 1.55s\n",
      "1618:\tlearn: 0.0682644\ttotal: 6.59s\tremaining: 1.55s\n",
      "1619:\tlearn: 0.0682190\ttotal: 6.59s\tremaining: 1.55s\n",
      "1620:\tlearn: 0.0682054\ttotal: 6.6s\tremaining: 1.54s\n",
      "1621:\tlearn: 0.0681663\ttotal: 6.6s\tremaining: 1.54s\n",
      "1622:\tlearn: 0.0681094\ttotal: 6.61s\tremaining: 1.53s\n",
      "1623:\tlearn: 0.0680383\ttotal: 6.61s\tremaining: 1.53s\n",
      "1624:\tlearn: 0.0680309\ttotal: 6.61s\tremaining: 1.52s\n",
      "1625:\tlearn: 0.0680238\ttotal: 6.62s\tremaining: 1.52s\n",
      "1626:\tlearn: 0.0679864\ttotal: 6.62s\tremaining: 1.52s\n",
      "1627:\tlearn: 0.0679617\ttotal: 6.62s\tremaining: 1.51s\n",
      "1628:\tlearn: 0.0679096\ttotal: 6.63s\tremaining: 1.51s\n",
      "1629:\tlearn: 0.0678827\ttotal: 6.63s\tremaining: 1.5s\n",
      "1630:\tlearn: 0.0678308\ttotal: 6.63s\tremaining: 1.5s\n",
      "1631:\tlearn: 0.0677979\ttotal: 6.64s\tremaining: 1.5s\n",
      "1632:\tlearn: 0.0677684\ttotal: 6.64s\tremaining: 1.49s\n",
      "1633:\tlearn: 0.0677591\ttotal: 6.64s\tremaining: 1.49s\n",
      "1634:\tlearn: 0.0677195\ttotal: 6.65s\tremaining: 1.48s\n",
      "1635:\tlearn: 0.0677136\ttotal: 6.65s\tremaining: 1.48s\n",
      "1636:\tlearn: 0.0676727\ttotal: 6.65s\tremaining: 1.48s\n",
      "1637:\tlearn: 0.0676569\ttotal: 6.66s\tremaining: 1.47s\n",
      "1638:\tlearn: 0.0676356\ttotal: 6.66s\tremaining: 1.47s\n",
      "1639:\tlearn: 0.0676257\ttotal: 6.66s\tremaining: 1.46s\n",
      "1640:\tlearn: 0.0675828\ttotal: 6.67s\tremaining: 1.46s\n",
      "1641:\tlearn: 0.0674871\ttotal: 6.67s\tremaining: 1.45s\n",
      "1642:\tlearn: 0.0674246\ttotal: 6.67s\tremaining: 1.45s\n",
      "1643:\tlearn: 0.0673733\ttotal: 6.68s\tremaining: 1.45s\n",
      "1644:\tlearn: 0.0673465\ttotal: 6.68s\tremaining: 1.44s\n",
      "1645:\tlearn: 0.0673320\ttotal: 6.68s\tremaining: 1.44s\n",
      "1646:\tlearn: 0.0673055\ttotal: 6.69s\tremaining: 1.43s\n",
      "1647:\tlearn: 0.0672888\ttotal: 6.69s\tremaining: 1.43s\n",
      "1648:\tlearn: 0.0672519\ttotal: 6.7s\tremaining: 1.43s\n",
      "1649:\tlearn: 0.0672251\ttotal: 6.7s\tremaining: 1.42s\n",
      "1650:\tlearn: 0.0671313\ttotal: 6.7s\tremaining: 1.42s\n",
      "1651:\tlearn: 0.0670867\ttotal: 6.7s\tremaining: 1.41s\n",
      "1652:\tlearn: 0.0670419\ttotal: 6.71s\tremaining: 1.41s\n",
      "1653:\tlearn: 0.0670201\ttotal: 6.71s\tremaining: 1.4s\n",
      "1654:\tlearn: 0.0669639\ttotal: 6.71s\tremaining: 1.4s\n",
      "1655:\tlearn: 0.0668816\ttotal: 6.72s\tremaining: 1.4s\n",
      "1656:\tlearn: 0.0667988\ttotal: 6.72s\tremaining: 1.39s\n",
      "1657:\tlearn: 0.0667080\ttotal: 6.73s\tremaining: 1.39s\n",
      "1658:\tlearn: 0.0666371\ttotal: 6.73s\tremaining: 1.38s\n",
      "1659:\tlearn: 0.0665691\ttotal: 6.73s\tremaining: 1.38s\n",
      "1660:\tlearn: 0.0665239\ttotal: 6.74s\tremaining: 1.37s\n",
      "1661:\tlearn: 0.0664996\ttotal: 6.74s\tremaining: 1.37s\n",
      "1662:\tlearn: 0.0664579\ttotal: 6.74s\tremaining: 1.37s\n",
      "1663:\tlearn: 0.0664348\ttotal: 6.75s\tremaining: 1.36s\n",
      "1664:\tlearn: 0.0664231\ttotal: 6.75s\tremaining: 1.36s\n",
      "1665:\tlearn: 0.0663767\ttotal: 6.75s\tremaining: 1.35s\n",
      "1666:\tlearn: 0.0663583\ttotal: 6.75s\tremaining: 1.35s\n",
      "1667:\tlearn: 0.0663043\ttotal: 6.76s\tremaining: 1.34s\n",
      "1668:\tlearn: 0.0662693\ttotal: 6.76s\tremaining: 1.34s\n",
      "1669:\tlearn: 0.0662143\ttotal: 6.76s\tremaining: 1.34s\n",
      "1670:\tlearn: 0.0661633\ttotal: 6.77s\tremaining: 1.33s\n",
      "1671:\tlearn: 0.0661416\ttotal: 6.77s\tremaining: 1.33s\n",
      "1672:\tlearn: 0.0661140\ttotal: 6.78s\tremaining: 1.32s\n",
      "1673:\tlearn: 0.0660801\ttotal: 6.78s\tremaining: 1.32s\n",
      "1674:\tlearn: 0.0660738\ttotal: 6.78s\tremaining: 1.31s\n",
      "1675:\tlearn: 0.0660252\ttotal: 6.79s\tremaining: 1.31s\n",
      "1676:\tlearn: 0.0659909\ttotal: 6.79s\tremaining: 1.31s\n",
      "1677:\tlearn: 0.0659534\ttotal: 6.79s\tremaining: 1.3s\n",
      "1678:\tlearn: 0.0658674\ttotal: 6.79s\tremaining: 1.3s\n",
      "1679:\tlearn: 0.0658035\ttotal: 6.8s\tremaining: 1.29s\n",
      "1680:\tlearn: 0.0657303\ttotal: 6.8s\tremaining: 1.29s\n",
      "1681:\tlearn: 0.0656709\ttotal: 6.8s\tremaining: 1.29s\n",
      "1682:\tlearn: 0.0656233\ttotal: 6.81s\tremaining: 1.28s\n",
      "1683:\tlearn: 0.0655713\ttotal: 6.81s\tremaining: 1.28s\n",
      "1684:\tlearn: 0.0655525\ttotal: 6.82s\tremaining: 1.27s\n",
      "1685:\tlearn: 0.0655187\ttotal: 6.82s\tremaining: 1.27s\n",
      "1686:\tlearn: 0.0653951\ttotal: 6.82s\tremaining: 1.26s\n",
      "1687:\tlearn: 0.0653721\ttotal: 6.83s\tremaining: 1.26s\n",
      "1688:\tlearn: 0.0653055\ttotal: 6.83s\tremaining: 1.26s\n",
      "1689:\tlearn: 0.0652163\ttotal: 6.83s\tremaining: 1.25s\n",
      "1690:\tlearn: 0.0651502\ttotal: 6.83s\tremaining: 1.25s\n",
      "1691:\tlearn: 0.0651083\ttotal: 6.84s\tremaining: 1.24s\n",
      "1692:\tlearn: 0.0650990\ttotal: 6.84s\tremaining: 1.24s\n",
      "1693:\tlearn: 0.0650932\ttotal: 6.84s\tremaining: 1.24s\n",
      "1694:\tlearn: 0.0650492\ttotal: 6.85s\tremaining: 1.23s\n",
      "1695:\tlearn: 0.0649935\ttotal: 6.85s\tremaining: 1.23s\n",
      "1696:\tlearn: 0.0649662\ttotal: 6.85s\tremaining: 1.22s\n",
      "1697:\tlearn: 0.0649054\ttotal: 6.86s\tremaining: 1.22s\n",
      "1698:\tlearn: 0.0648648\ttotal: 6.86s\tremaining: 1.22s\n",
      "1699:\tlearn: 0.0647996\ttotal: 6.86s\tremaining: 1.21s\n",
      "1700:\tlearn: 0.0647719\ttotal: 6.87s\tremaining: 1.21s\n",
      "1701:\tlearn: 0.0647078\ttotal: 6.87s\tremaining: 1.2s\n",
      "1702:\tlearn: 0.0646504\ttotal: 6.87s\tremaining: 1.2s\n",
      "1703:\tlearn: 0.0646293\ttotal: 6.88s\tremaining: 1.19s\n",
      "1704:\tlearn: 0.0646073\ttotal: 6.88s\tremaining: 1.19s\n",
      "1705:\tlearn: 0.0645679\ttotal: 6.88s\tremaining: 1.19s\n",
      "1706:\tlearn: 0.0645066\ttotal: 6.88s\tremaining: 1.18s\n",
      "1707:\tlearn: 0.0644643\ttotal: 6.89s\tremaining: 1.18s\n",
      "1708:\tlearn: 0.0644390\ttotal: 6.89s\tremaining: 1.17s\n",
      "1709:\tlearn: 0.0644247\ttotal: 6.89s\tremaining: 1.17s\n",
      "1710:\tlearn: 0.0643956\ttotal: 6.9s\tremaining: 1.17s\n",
      "1711:\tlearn: 0.0643599\ttotal: 6.9s\tremaining: 1.16s\n",
      "1712:\tlearn: 0.0643543\ttotal: 6.91s\tremaining: 1.16s\n",
      "1713:\tlearn: 0.0643470\ttotal: 6.91s\tremaining: 1.15s\n",
      "1714:\tlearn: 0.0643407\ttotal: 6.91s\tremaining: 1.15s\n",
      "1715:\tlearn: 0.0643041\ttotal: 6.91s\tremaining: 1.14s\n",
      "1716:\tlearn: 0.0642511\ttotal: 6.92s\tremaining: 1.14s\n",
      "1717:\tlearn: 0.0641707\ttotal: 6.92s\tremaining: 1.14s\n",
      "1718:\tlearn: 0.0641457\ttotal: 6.92s\tremaining: 1.13s\n",
      "1719:\tlearn: 0.0640303\ttotal: 6.93s\tremaining: 1.13s\n",
      "1720:\tlearn: 0.0639810\ttotal: 6.93s\tremaining: 1.12s\n",
      "1721:\tlearn: 0.0639601\ttotal: 6.93s\tremaining: 1.12s\n",
      "1722:\tlearn: 0.0639541\ttotal: 6.94s\tremaining: 1.11s\n",
      "1723:\tlearn: 0.0639237\ttotal: 6.94s\tremaining: 1.11s\n",
      "1724:\tlearn: 0.0638854\ttotal: 6.94s\tremaining: 1.11s\n",
      "1725:\tlearn: 0.0638455\ttotal: 6.95s\tremaining: 1.1s\n",
      "1726:\tlearn: 0.0638029\ttotal: 6.95s\tremaining: 1.1s\n",
      "1727:\tlearn: 0.0637684\ttotal: 6.95s\tremaining: 1.09s\n",
      "1728:\tlearn: 0.0636859\ttotal: 6.96s\tremaining: 1.09s\n",
      "1729:\tlearn: 0.0636492\ttotal: 6.96s\tremaining: 1.09s\n",
      "1730:\tlearn: 0.0636088\ttotal: 6.96s\tremaining: 1.08s\n",
      "1731:\tlearn: 0.0635861\ttotal: 6.97s\tremaining: 1.08s\n",
      "1732:\tlearn: 0.0635291\ttotal: 6.97s\tremaining: 1.07s\n",
      "1733:\tlearn: 0.0635168\ttotal: 6.97s\tremaining: 1.07s\n",
      "1734:\tlearn: 0.0634833\ttotal: 6.98s\tremaining: 1.06s\n",
      "1735:\tlearn: 0.0634527\ttotal: 6.98s\tremaining: 1.06s\n",
      "1736:\tlearn: 0.0634248\ttotal: 6.98s\tremaining: 1.06s\n",
      "1737:\tlearn: 0.0633820\ttotal: 6.99s\tremaining: 1.05s\n",
      "1738:\tlearn: 0.0633525\ttotal: 6.99s\tremaining: 1.05s\n",
      "1739:\tlearn: 0.0633460\ttotal: 6.99s\tremaining: 1.04s\n",
      "1740:\tlearn: 0.0633263\ttotal: 7s\tremaining: 1.04s\n",
      "1741:\tlearn: 0.0632500\ttotal: 7s\tremaining: 1.04s\n",
      "1742:\tlearn: 0.0632313\ttotal: 7s\tremaining: 1.03s\n",
      "1743:\tlearn: 0.0631882\ttotal: 7.01s\tremaining: 1.03s\n",
      "1744:\tlearn: 0.0631566\ttotal: 7.01s\tremaining: 1.02s\n",
      "1745:\tlearn: 0.0631134\ttotal: 7.01s\tremaining: 1.02s\n",
      "1746:\tlearn: 0.0630968\ttotal: 7.02s\tremaining: 1.02s\n",
      "1747:\tlearn: 0.0630271\ttotal: 7.02s\tremaining: 1.01s\n",
      "1748:\tlearn: 0.0629720\ttotal: 7.03s\tremaining: 1.01s\n",
      "1749:\tlearn: 0.0629348\ttotal: 7.03s\tremaining: 1s\n",
      "1750:\tlearn: 0.0628363\ttotal: 7.03s\tremaining: 1000ms\n",
      "1751:\tlearn: 0.0627625\ttotal: 7.03s\tremaining: 996ms\n",
      "1752:\tlearn: 0.0627350\ttotal: 7.04s\tremaining: 991ms\n",
      "1753:\tlearn: 0.0626930\ttotal: 7.04s\tremaining: 987ms\n",
      "1754:\tlearn: 0.0626678\ttotal: 7.04s\tremaining: 983ms\n",
      "1755:\tlearn: 0.0626442\ttotal: 7.04s\tremaining: 979ms\n",
      "1756:\tlearn: 0.0626096\ttotal: 7.05s\tremaining: 975ms\n",
      "1757:\tlearn: 0.0625655\ttotal: 7.05s\tremaining: 970ms\n",
      "1758:\tlearn: 0.0625248\ttotal: 7.05s\tremaining: 966ms\n",
      "1759:\tlearn: 0.0624936\ttotal: 7.05s\tremaining: 962ms\n",
      "1760:\tlearn: 0.0624642\ttotal: 7.06s\tremaining: 958ms\n",
      "1761:\tlearn: 0.0624155\ttotal: 7.06s\tremaining: 954ms\n",
      "1762:\tlearn: 0.0623901\ttotal: 7.06s\tremaining: 949ms\n",
      "1763:\tlearn: 0.0623429\ttotal: 7.06s\tremaining: 945ms\n",
      "1764:\tlearn: 0.0623016\ttotal: 7.07s\tremaining: 941ms\n",
      "1765:\tlearn: 0.0622916\ttotal: 7.07s\tremaining: 937ms\n",
      "1766:\tlearn: 0.0622517\ttotal: 7.07s\tremaining: 933ms\n",
      "1767:\tlearn: 0.0621948\ttotal: 7.08s\tremaining: 929ms\n",
      "1768:\tlearn: 0.0621495\ttotal: 7.08s\tremaining: 924ms\n",
      "1769:\tlearn: 0.0621243\ttotal: 7.08s\tremaining: 920ms\n",
      "1770:\tlearn: 0.0620878\ttotal: 7.08s\tremaining: 916ms\n",
      "1771:\tlearn: 0.0620412\ttotal: 7.09s\tremaining: 912ms\n",
      "1772:\tlearn: 0.0620358\ttotal: 7.09s\tremaining: 908ms\n",
      "1773:\tlearn: 0.0620256\ttotal: 7.09s\tremaining: 904ms\n",
      "1774:\tlearn: 0.0619980\ttotal: 7.09s\tremaining: 899ms\n",
      "1775:\tlearn: 0.0619738\ttotal: 7.1s\tremaining: 895ms\n",
      "1776:\tlearn: 0.0619509\ttotal: 7.1s\tremaining: 891ms\n",
      "1777:\tlearn: 0.0619123\ttotal: 7.1s\tremaining: 887ms\n",
      "1778:\tlearn: 0.0618674\ttotal: 7.11s\tremaining: 883ms\n",
      "1779:\tlearn: 0.0618571\ttotal: 7.11s\tremaining: 879ms\n",
      "1780:\tlearn: 0.0618389\ttotal: 7.11s\tremaining: 875ms\n",
      "1781:\tlearn: 0.0618316\ttotal: 7.12s\tremaining: 871ms\n",
      "1782:\tlearn: 0.0617827\ttotal: 7.12s\tremaining: 866ms\n",
      "1783:\tlearn: 0.0617685\ttotal: 7.12s\tremaining: 862ms\n",
      "1784:\tlearn: 0.0617352\ttotal: 7.12s\tremaining: 858ms\n",
      "1785:\tlearn: 0.0616388\ttotal: 7.13s\tremaining: 854ms\n",
      "1786:\tlearn: 0.0616219\ttotal: 7.13s\tremaining: 850ms\n",
      "1787:\tlearn: 0.0616057\ttotal: 7.13s\tremaining: 846ms\n",
      "1788:\tlearn: 0.0616012\ttotal: 7.13s\tremaining: 842ms\n",
      "1789:\tlearn: 0.0615681\ttotal: 7.14s\tremaining: 837ms\n",
      "1790:\tlearn: 0.0615389\ttotal: 7.14s\tremaining: 833ms\n",
      "1791:\tlearn: 0.0615180\ttotal: 7.14s\tremaining: 829ms\n",
      "1792:\tlearn: 0.0614861\ttotal: 7.14s\tremaining: 825ms\n",
      "1793:\tlearn: 0.0614564\ttotal: 7.15s\tremaining: 821ms\n",
      "1794:\tlearn: 0.0614517\ttotal: 7.15s\tremaining: 817ms\n",
      "1795:\tlearn: 0.0614435\ttotal: 7.15s\tremaining: 813ms\n",
      "1796:\tlearn: 0.0614395\ttotal: 7.16s\tremaining: 808ms\n",
      "1797:\tlearn: 0.0614246\ttotal: 7.16s\tremaining: 804ms\n",
      "1798:\tlearn: 0.0613862\ttotal: 7.16s\tremaining: 800ms\n",
      "1799:\tlearn: 0.0613450\ttotal: 7.17s\tremaining: 796ms\n",
      "1800:\tlearn: 0.0613094\ttotal: 7.17s\tremaining: 792ms\n",
      "1801:\tlearn: 0.0612651\ttotal: 7.17s\tremaining: 788ms\n",
      "1802:\tlearn: 0.0612478\ttotal: 7.17s\tremaining: 784ms\n",
      "1803:\tlearn: 0.0612128\ttotal: 7.18s\tremaining: 780ms\n",
      "1804:\tlearn: 0.0611786\ttotal: 7.18s\tremaining: 776ms\n",
      "1805:\tlearn: 0.0611633\ttotal: 7.18s\tremaining: 772ms\n",
      "1806:\tlearn: 0.0611207\ttotal: 7.19s\tremaining: 768ms\n",
      "1807:\tlearn: 0.0611153\ttotal: 7.19s\tremaining: 764ms\n",
      "1808:\tlearn: 0.0610729\ttotal: 7.19s\tremaining: 759ms\n",
      "1809:\tlearn: 0.0610347\ttotal: 7.2s\tremaining: 755ms\n",
      "1810:\tlearn: 0.0610291\ttotal: 7.2s\tremaining: 751ms\n",
      "1811:\tlearn: 0.0610135\ttotal: 7.2s\tremaining: 747ms\n",
      "1812:\tlearn: 0.0609970\ttotal: 7.21s\tremaining: 743ms\n",
      "1813:\tlearn: 0.0609348\ttotal: 7.21s\tremaining: 739ms\n",
      "1814:\tlearn: 0.0609005\ttotal: 7.22s\tremaining: 736ms\n",
      "1815:\tlearn: 0.0608691\ttotal: 7.22s\tremaining: 732ms\n",
      "1816:\tlearn: 0.0608634\ttotal: 7.23s\tremaining: 728ms\n",
      "1817:\tlearn: 0.0608251\ttotal: 7.23s\tremaining: 724ms\n",
      "1818:\tlearn: 0.0607467\ttotal: 7.23s\tremaining: 720ms\n",
      "1819:\tlearn: 0.0607185\ttotal: 7.24s\tremaining: 716ms\n",
      "1820:\tlearn: 0.0606931\ttotal: 7.24s\tremaining: 712ms\n",
      "1821:\tlearn: 0.0606464\ttotal: 7.25s\tremaining: 708ms\n",
      "1822:\tlearn: 0.0606165\ttotal: 7.25s\tremaining: 704ms\n",
      "1823:\tlearn: 0.0606111\ttotal: 7.25s\tremaining: 700ms\n",
      "1824:\tlearn: 0.0606037\ttotal: 7.25s\tremaining: 696ms\n",
      "1825:\tlearn: 0.0605306\ttotal: 7.26s\tremaining: 692ms\n",
      "1826:\tlearn: 0.0604914\ttotal: 7.26s\tremaining: 687ms\n",
      "1827:\tlearn: 0.0604783\ttotal: 7.26s\tremaining: 683ms\n",
      "1828:\tlearn: 0.0604733\ttotal: 7.26s\tremaining: 679ms\n",
      "1829:\tlearn: 0.0604114\ttotal: 7.27s\tremaining: 675ms\n",
      "1830:\tlearn: 0.0603837\ttotal: 7.27s\tremaining: 671ms\n",
      "1831:\tlearn: 0.0603402\ttotal: 7.27s\tremaining: 667ms\n",
      "1832:\tlearn: 0.0603211\ttotal: 7.27s\tremaining: 663ms\n",
      "1833:\tlearn: 0.0603061\ttotal: 7.28s\tremaining: 659ms\n",
      "1834:\tlearn: 0.0602863\ttotal: 7.28s\tremaining: 655ms\n",
      "1835:\tlearn: 0.0602536\ttotal: 7.28s\tremaining: 650ms\n",
      "1836:\tlearn: 0.0602102\ttotal: 7.29s\tremaining: 646ms\n",
      "1837:\tlearn: 0.0601766\ttotal: 7.29s\tremaining: 642ms\n",
      "1838:\tlearn: 0.0601451\ttotal: 7.29s\tremaining: 638ms\n",
      "1839:\tlearn: 0.0601275\ttotal: 7.29s\tremaining: 634ms\n",
      "1840:\tlearn: 0.0600744\ttotal: 7.29s\tremaining: 630ms\n",
      "1841:\tlearn: 0.0600550\ttotal: 7.3s\tremaining: 626ms\n",
      "1842:\tlearn: 0.0600157\ttotal: 7.3s\tremaining: 622ms\n",
      "1843:\tlearn: 0.0599915\ttotal: 7.3s\tremaining: 618ms\n",
      "1844:\tlearn: 0.0599416\ttotal: 7.31s\tremaining: 614ms\n",
      "1845:\tlearn: 0.0599280\ttotal: 7.31s\tremaining: 610ms\n",
      "1846:\tlearn: 0.0599065\ttotal: 7.31s\tremaining: 606ms\n",
      "1847:\tlearn: 0.0598704\ttotal: 7.31s\tremaining: 602ms\n",
      "1848:\tlearn: 0.0598444\ttotal: 7.32s\tremaining: 597ms\n",
      "1849:\tlearn: 0.0598391\ttotal: 7.32s\tremaining: 593ms\n",
      "1850:\tlearn: 0.0598170\ttotal: 7.32s\tremaining: 589ms\n",
      "1851:\tlearn: 0.0597518\ttotal: 7.32s\tremaining: 585ms\n",
      "1852:\tlearn: 0.0597350\ttotal: 7.33s\tremaining: 581ms\n",
      "1853:\tlearn: 0.0597023\ttotal: 7.33s\tremaining: 577ms\n",
      "1854:\tlearn: 0.0596570\ttotal: 7.33s\tremaining: 573ms\n",
      "1855:\tlearn: 0.0596086\ttotal: 7.33s\tremaining: 569ms\n",
      "1856:\tlearn: 0.0595791\ttotal: 7.34s\tremaining: 565ms\n",
      "1857:\tlearn: 0.0595680\ttotal: 7.34s\tremaining: 561ms\n",
      "1858:\tlearn: 0.0595345\ttotal: 7.34s\tremaining: 557ms\n",
      "1859:\tlearn: 0.0594636\ttotal: 7.34s\tremaining: 553ms\n",
      "1860:\tlearn: 0.0594589\ttotal: 7.35s\tremaining: 549ms\n",
      "1861:\tlearn: 0.0593783\ttotal: 7.35s\tremaining: 545ms\n",
      "1862:\tlearn: 0.0593598\ttotal: 7.35s\tremaining: 541ms\n",
      "1863:\tlearn: 0.0593384\ttotal: 7.35s\tremaining: 537ms\n",
      "1864:\tlearn: 0.0593325\ttotal: 7.36s\tremaining: 532ms\n",
      "1865:\tlearn: 0.0593236\ttotal: 7.36s\tremaining: 528ms\n",
      "1866:\tlearn: 0.0592999\ttotal: 7.36s\tremaining: 524ms\n",
      "1867:\tlearn: 0.0591965\ttotal: 7.36s\tremaining: 520ms\n",
      "1868:\tlearn: 0.0591511\ttotal: 7.37s\tremaining: 516ms\n",
      "1869:\tlearn: 0.0591323\ttotal: 7.37s\tremaining: 512ms\n",
      "1870:\tlearn: 0.0590851\ttotal: 7.37s\tremaining: 508ms\n",
      "1871:\tlearn: 0.0590012\ttotal: 7.37s\tremaining: 504ms\n",
      "1872:\tlearn: 0.0589492\ttotal: 7.38s\tremaining: 500ms\n",
      "1873:\tlearn: 0.0588737\ttotal: 7.38s\tremaining: 496ms\n",
      "1874:\tlearn: 0.0588209\ttotal: 7.38s\tremaining: 492ms\n",
      "1875:\tlearn: 0.0587901\ttotal: 7.38s\tremaining: 488ms\n",
      "1876:\tlearn: 0.0587856\ttotal: 7.38s\tremaining: 484ms\n",
      "1877:\tlearn: 0.0587508\ttotal: 7.39s\tremaining: 480ms\n",
      "1878:\tlearn: 0.0587171\ttotal: 7.39s\tremaining: 476ms\n",
      "1879:\tlearn: 0.0586795\ttotal: 7.39s\tremaining: 472ms\n",
      "1880:\tlearn: 0.0585866\ttotal: 7.4s\tremaining: 468ms\n",
      "1881:\tlearn: 0.0585564\ttotal: 7.4s\tremaining: 464ms\n",
      "1882:\tlearn: 0.0584797\ttotal: 7.4s\tremaining: 460ms\n",
      "1883:\tlearn: 0.0584461\ttotal: 7.4s\tremaining: 456ms\n",
      "1884:\tlearn: 0.0584071\ttotal: 7.41s\tremaining: 452ms\n",
      "1885:\tlearn: 0.0583677\ttotal: 7.41s\tremaining: 448ms\n",
      "1886:\tlearn: 0.0583218\ttotal: 7.41s\tremaining: 444ms\n",
      "1887:\tlearn: 0.0583112\ttotal: 7.42s\tremaining: 440ms\n",
      "1888:\tlearn: 0.0582808\ttotal: 7.42s\tremaining: 436ms\n",
      "1889:\tlearn: 0.0582393\ttotal: 7.42s\tremaining: 432ms\n",
      "1890:\tlearn: 0.0581910\ttotal: 7.42s\tremaining: 428ms\n",
      "1891:\tlearn: 0.0581547\ttotal: 7.43s\tremaining: 424ms\n",
      "1892:\tlearn: 0.0581082\ttotal: 7.43s\tremaining: 420ms\n",
      "1893:\tlearn: 0.0580523\ttotal: 7.43s\tremaining: 416ms\n",
      "1894:\tlearn: 0.0580083\ttotal: 7.44s\tremaining: 412ms\n",
      "1895:\tlearn: 0.0579614\ttotal: 7.44s\tremaining: 408ms\n",
      "1896:\tlearn: 0.0579289\ttotal: 7.44s\tremaining: 404ms\n",
      "1897:\tlearn: 0.0579077\ttotal: 7.45s\tremaining: 400ms\n",
      "1898:\tlearn: 0.0578250\ttotal: 7.45s\tremaining: 396ms\n",
      "1899:\tlearn: 0.0578111\ttotal: 7.45s\tremaining: 392ms\n",
      "1900:\tlearn: 0.0577757\ttotal: 7.45s\tremaining: 388ms\n",
      "1901:\tlearn: 0.0577433\ttotal: 7.46s\tremaining: 384ms\n",
      "1902:\tlearn: 0.0577204\ttotal: 7.46s\tremaining: 380ms\n",
      "1903:\tlearn: 0.0576788\ttotal: 7.46s\tremaining: 376ms\n",
      "1904:\tlearn: 0.0576627\ttotal: 7.46s\tremaining: 372ms\n",
      "1905:\tlearn: 0.0575748\ttotal: 7.47s\tremaining: 368ms\n",
      "1906:\tlearn: 0.0575004\ttotal: 7.47s\tremaining: 364ms\n",
      "1907:\tlearn: 0.0574684\ttotal: 7.47s\tremaining: 360ms\n",
      "1908:\tlearn: 0.0574465\ttotal: 7.47s\tremaining: 356ms\n",
      "1909:\tlearn: 0.0574104\ttotal: 7.48s\tremaining: 352ms\n",
      "1910:\tlearn: 0.0574053\ttotal: 7.48s\tremaining: 348ms\n",
      "1911:\tlearn: 0.0573664\ttotal: 7.48s\tremaining: 344ms\n",
      "1912:\tlearn: 0.0573259\ttotal: 7.49s\tremaining: 340ms\n",
      "1913:\tlearn: 0.0572913\ttotal: 7.49s\tremaining: 336ms\n",
      "1914:\tlearn: 0.0572716\ttotal: 7.49s\tremaining: 332ms\n",
      "1915:\tlearn: 0.0572468\ttotal: 7.49s\tremaining: 329ms\n",
      "1916:\tlearn: 0.0572427\ttotal: 7.5s\tremaining: 325ms\n",
      "1917:\tlearn: 0.0572303\ttotal: 7.5s\tremaining: 321ms\n",
      "1918:\tlearn: 0.0572262\ttotal: 7.5s\tremaining: 317ms\n",
      "1919:\tlearn: 0.0572030\ttotal: 7.5s\tremaining: 313ms\n",
      "1920:\tlearn: 0.0571601\ttotal: 7.51s\tremaining: 309ms\n",
      "1921:\tlearn: 0.0571256\ttotal: 7.51s\tremaining: 305ms\n",
      "1922:\tlearn: 0.0571016\ttotal: 7.51s\tremaining: 301ms\n",
      "1923:\tlearn: 0.0570762\ttotal: 7.51s\tremaining: 297ms\n",
      "1924:\tlearn: 0.0570596\ttotal: 7.52s\tremaining: 293ms\n",
      "1925:\tlearn: 0.0570545\ttotal: 7.52s\tremaining: 289ms\n",
      "1926:\tlearn: 0.0570132\ttotal: 7.52s\tremaining: 285ms\n",
      "1927:\tlearn: 0.0569916\ttotal: 7.53s\tremaining: 281ms\n",
      "1928:\tlearn: 0.0569757\ttotal: 7.53s\tremaining: 277ms\n",
      "1929:\tlearn: 0.0569360\ttotal: 7.53s\tremaining: 273ms\n",
      "1930:\tlearn: 0.0569116\ttotal: 7.53s\tremaining: 269ms\n",
      "1931:\tlearn: 0.0568902\ttotal: 7.54s\tremaining: 265ms\n",
      "1932:\tlearn: 0.0568610\ttotal: 7.54s\tremaining: 261ms\n",
      "1933:\tlearn: 0.0568328\ttotal: 7.54s\tremaining: 257ms\n",
      "1934:\tlearn: 0.0568171\ttotal: 7.54s\tremaining: 253ms\n",
      "1935:\tlearn: 0.0567850\ttotal: 7.55s\tremaining: 250ms\n",
      "1936:\tlearn: 0.0567232\ttotal: 7.55s\tremaining: 246ms\n",
      "1937:\tlearn: 0.0566850\ttotal: 7.55s\tremaining: 242ms\n",
      "1938:\tlearn: 0.0566306\ttotal: 7.55s\tremaining: 238ms\n",
      "1939:\tlearn: 0.0566070\ttotal: 7.56s\tremaining: 234ms\n",
      "1940:\tlearn: 0.0566041\ttotal: 7.56s\tremaining: 230ms\n",
      "1941:\tlearn: 0.0565950\ttotal: 7.56s\tremaining: 226ms\n",
      "1942:\tlearn: 0.0565472\ttotal: 7.57s\tremaining: 222ms\n",
      "1943:\tlearn: 0.0565069\ttotal: 7.57s\tremaining: 218ms\n",
      "1944:\tlearn: 0.0564767\ttotal: 7.57s\tremaining: 214ms\n",
      "1945:\tlearn: 0.0564512\ttotal: 7.58s\tremaining: 210ms\n",
      "1946:\tlearn: 0.0564359\ttotal: 7.58s\tremaining: 206ms\n",
      "1947:\tlearn: 0.0563947\ttotal: 7.58s\tremaining: 202ms\n",
      "1948:\tlearn: 0.0563528\ttotal: 7.58s\tremaining: 198ms\n",
      "1949:\tlearn: 0.0563202\ttotal: 7.59s\tremaining: 195ms\n",
      "1950:\tlearn: 0.0562893\ttotal: 7.59s\tremaining: 191ms\n",
      "1951:\tlearn: 0.0562137\ttotal: 7.59s\tremaining: 187ms\n",
      "1952:\tlearn: 0.0561768\ttotal: 7.59s\tremaining: 183ms\n",
      "1953:\tlearn: 0.0561292\ttotal: 7.6s\tremaining: 179ms\n",
      "1954:\tlearn: 0.0560788\ttotal: 7.6s\tremaining: 175ms\n",
      "1955:\tlearn: 0.0560528\ttotal: 7.6s\tremaining: 171ms\n",
      "1956:\tlearn: 0.0560252\ttotal: 7.61s\tremaining: 167ms\n",
      "1957:\tlearn: 0.0559990\ttotal: 7.61s\tremaining: 163ms\n",
      "1958:\tlearn: 0.0558923\ttotal: 7.61s\tremaining: 159ms\n",
      "1959:\tlearn: 0.0558702\ttotal: 7.61s\tremaining: 155ms\n",
      "1960:\tlearn: 0.0558329\ttotal: 7.62s\tremaining: 151ms\n",
      "1961:\tlearn: 0.0558039\ttotal: 7.62s\tremaining: 148ms\n",
      "1962:\tlearn: 0.0557737\ttotal: 7.62s\tremaining: 144ms\n",
      "1963:\tlearn: 0.0557477\ttotal: 7.63s\tremaining: 140ms\n",
      "1964:\tlearn: 0.0557395\ttotal: 7.63s\tremaining: 136ms\n",
      "1965:\tlearn: 0.0556846\ttotal: 7.63s\tremaining: 132ms\n",
      "1966:\tlearn: 0.0556375\ttotal: 7.63s\tremaining: 128ms\n",
      "1967:\tlearn: 0.0555806\ttotal: 7.64s\tremaining: 124ms\n",
      "1968:\tlearn: 0.0555638\ttotal: 7.64s\tremaining: 120ms\n",
      "1969:\tlearn: 0.0555190\ttotal: 7.64s\tremaining: 116ms\n",
      "1970:\tlearn: 0.0554761\ttotal: 7.64s\tremaining: 112ms\n",
      "1971:\tlearn: 0.0554655\ttotal: 7.65s\tremaining: 109ms\n",
      "1972:\tlearn: 0.0554538\ttotal: 7.65s\tremaining: 105ms\n",
      "1973:\tlearn: 0.0554387\ttotal: 7.65s\tremaining: 101ms\n",
      "1974:\tlearn: 0.0554075\ttotal: 7.66s\tremaining: 96.9ms\n",
      "1975:\tlearn: 0.0553487\ttotal: 7.66s\tremaining: 93ms\n",
      "1976:\tlearn: 0.0553282\ttotal: 7.66s\tremaining: 89.1ms\n",
      "1977:\tlearn: 0.0552824\ttotal: 7.66s\tremaining: 85.2ms\n",
      "1978:\tlearn: 0.0552262\ttotal: 7.67s\tremaining: 81.3ms\n",
      "1979:\tlearn: 0.0551324\ttotal: 7.67s\tremaining: 77.5ms\n",
      "1980:\tlearn: 0.0550864\ttotal: 7.67s\tremaining: 73.6ms\n",
      "1981:\tlearn: 0.0550808\ttotal: 7.67s\tremaining: 69.7ms\n",
      "1982:\tlearn: 0.0550713\ttotal: 7.68s\tremaining: 65.8ms\n",
      "1983:\tlearn: 0.0550308\ttotal: 7.68s\tremaining: 61.9ms\n",
      "1984:\tlearn: 0.0549997\ttotal: 7.68s\tremaining: 58.1ms\n",
      "1985:\tlearn: 0.0549588\ttotal: 7.68s\tremaining: 54.2ms\n",
      "1986:\tlearn: 0.0549334\ttotal: 7.69s\tremaining: 50.3ms\n",
      "1987:\tlearn: 0.0549112\ttotal: 7.69s\tremaining: 46.4ms\n",
      "1988:\tlearn: 0.0548738\ttotal: 7.69s\tremaining: 42.5ms\n",
      "1989:\tlearn: 0.0548561\ttotal: 7.7s\tremaining: 38.7ms\n",
      "1990:\tlearn: 0.0548258\ttotal: 7.7s\tremaining: 34.8ms\n",
      "1991:\tlearn: 0.0547988\ttotal: 7.7s\tremaining: 30.9ms\n",
      "1992:\tlearn: 0.0547499\ttotal: 7.7s\tremaining: 27.1ms\n",
      "1993:\tlearn: 0.0547234\ttotal: 7.71s\tremaining: 23.2ms\n",
      "1994:\tlearn: 0.0547011\ttotal: 7.71s\tremaining: 19.3ms\n",
      "1995:\tlearn: 0.0546971\ttotal: 7.71s\tremaining: 15.5ms\n",
      "1996:\tlearn: 0.0546847\ttotal: 7.72s\tremaining: 11.6ms\n",
      "1997:\tlearn: 0.0546674\ttotal: 7.72s\tremaining: 7.73ms\n",
      "1998:\tlearn: 0.0546387\ttotal: 7.72s\tremaining: 3.86ms\n",
      "1999:\tlearn: 0.0545639\ttotal: 7.73s\tremaining: 0us\n",
      "Wall time: 1min 36s\n"
     ]
    },
    {
     "data": {
      "text/html": [
       "<style>#sk-container-id-1 {\n",
       "  /* Definition of color scheme common for light and dark mode */\n",
       "  --sklearn-color-text: black;\n",
       "  --sklearn-color-line: gray;\n",
       "  /* Definition of color scheme for unfitted estimators */\n",
       "  --sklearn-color-unfitted-level-0: #fff5e6;\n",
       "  --sklearn-color-unfitted-level-1: #f6e4d2;\n",
       "  --sklearn-color-unfitted-level-2: #ffe0b3;\n",
       "  --sklearn-color-unfitted-level-3: chocolate;\n",
       "  /* Definition of color scheme for fitted estimators */\n",
       "  --sklearn-color-fitted-level-0: #f0f8ff;\n",
       "  --sklearn-color-fitted-level-1: #d4ebff;\n",
       "  --sklearn-color-fitted-level-2: #b3dbfd;\n",
       "  --sklearn-color-fitted-level-3: cornflowerblue;\n",
       "\n",
       "  /* Specific color for light theme */\n",
       "  --sklearn-color-text-on-default-background: var(--sg-text-color, var(--theme-code-foreground, var(--jp-content-font-color1, black)));\n",
       "  --sklearn-color-background: var(--sg-background-color, var(--theme-background, var(--jp-layout-color0, white)));\n",
       "  --sklearn-color-border-box: var(--sg-text-color, var(--theme-code-foreground, var(--jp-content-font-color1, black)));\n",
       "  --sklearn-color-icon: #696969;\n",
       "\n",
       "  @media (prefers-color-scheme: dark) {\n",
       "    /* Redefinition of color scheme for dark theme */\n",
       "    --sklearn-color-text-on-default-background: var(--sg-text-color, var(--theme-code-foreground, var(--jp-content-font-color1, white)));\n",
       "    --sklearn-color-background: var(--sg-background-color, var(--theme-background, var(--jp-layout-color0, #111)));\n",
       "    --sklearn-color-border-box: var(--sg-text-color, var(--theme-code-foreground, var(--jp-content-font-color1, white)));\n",
       "    --sklearn-color-icon: #878787;\n",
       "  }\n",
       "}\n",
       "\n",
       "#sk-container-id-1 {\n",
       "  color: var(--sklearn-color-text);\n",
       "}\n",
       "\n",
       "#sk-container-id-1 pre {\n",
       "  padding: 0;\n",
       "}\n",
       "\n",
       "#sk-container-id-1 input.sk-hidden--visually {\n",
       "  border: 0;\n",
       "  clip: rect(1px 1px 1px 1px);\n",
       "  clip: rect(1px, 1px, 1px, 1px);\n",
       "  height: 1px;\n",
       "  margin: -1px;\n",
       "  overflow: hidden;\n",
       "  padding: 0;\n",
       "  position: absolute;\n",
       "  width: 1px;\n",
       "}\n",
       "\n",
       "#sk-container-id-1 div.sk-dashed-wrapped {\n",
       "  border: 1px dashed var(--sklearn-color-line);\n",
       "  margin: 0 0.4em 0.5em 0.4em;\n",
       "  box-sizing: border-box;\n",
       "  padding-bottom: 0.4em;\n",
       "  background-color: var(--sklearn-color-background);\n",
       "}\n",
       "\n",
       "#sk-container-id-1 div.sk-container {\n",
       "  /* jupyter's `normalize.less` sets `[hidden] { display: none; }`\n",
       "     but bootstrap.min.css set `[hidden] { display: none !important; }`\n",
       "     so we also need the `!important` here to be able to override the\n",
       "     default hidden behavior on the sphinx rendered scikit-learn.org.\n",
       "     See: https://github.com/scikit-learn/scikit-learn/issues/21755 */\n",
       "  display: inline-block !important;\n",
       "  position: relative;\n",
       "}\n",
       "\n",
       "#sk-container-id-1 div.sk-text-repr-fallback {\n",
       "  display: none;\n",
       "}\n",
       "\n",
       "div.sk-parallel-item,\n",
       "div.sk-serial,\n",
       "div.sk-item {\n",
       "  /* draw centered vertical line to link estimators */\n",
       "  background-image: linear-gradient(var(--sklearn-color-text-on-default-background), var(--sklearn-color-text-on-default-background));\n",
       "  background-size: 2px 100%;\n",
       "  background-repeat: no-repeat;\n",
       "  background-position: center center;\n",
       "}\n",
       "\n",
       "/* Parallel-specific style estimator block */\n",
       "\n",
       "#sk-container-id-1 div.sk-parallel-item::after {\n",
       "  content: \"\";\n",
       "  width: 100%;\n",
       "  border-bottom: 2px solid var(--sklearn-color-text-on-default-background);\n",
       "  flex-grow: 1;\n",
       "}\n",
       "\n",
       "#sk-container-id-1 div.sk-parallel {\n",
       "  display: flex;\n",
       "  align-items: stretch;\n",
       "  justify-content: center;\n",
       "  background-color: var(--sklearn-color-background);\n",
       "  position: relative;\n",
       "}\n",
       "\n",
       "#sk-container-id-1 div.sk-parallel-item {\n",
       "  display: flex;\n",
       "  flex-direction: column;\n",
       "}\n",
       "\n",
       "#sk-container-id-1 div.sk-parallel-item:first-child::after {\n",
       "  align-self: flex-end;\n",
       "  width: 50%;\n",
       "}\n",
       "\n",
       "#sk-container-id-1 div.sk-parallel-item:last-child::after {\n",
       "  align-self: flex-start;\n",
       "  width: 50%;\n",
       "}\n",
       "\n",
       "#sk-container-id-1 div.sk-parallel-item:only-child::after {\n",
       "  width: 0;\n",
       "}\n",
       "\n",
       "/* Serial-specific style estimator block */\n",
       "\n",
       "#sk-container-id-1 div.sk-serial {\n",
       "  display: flex;\n",
       "  flex-direction: column;\n",
       "  align-items: center;\n",
       "  background-color: var(--sklearn-color-background);\n",
       "  padding-right: 1em;\n",
       "  padding-left: 1em;\n",
       "}\n",
       "\n",
       "\n",
       "/* Toggleable style: style used for estimator/Pipeline/ColumnTransformer box that is\n",
       "clickable and can be expanded/collapsed.\n",
       "- Pipeline and ColumnTransformer use this feature and define the default style\n",
       "- Estimators will overwrite some part of the style using the `sk-estimator` class\n",
       "*/\n",
       "\n",
       "/* Pipeline and ColumnTransformer style (default) */\n",
       "\n",
       "#sk-container-id-1 div.sk-toggleable {\n",
       "  /* Default theme specific background. It is overwritten whether we have a\n",
       "  specific estimator or a Pipeline/ColumnTransformer */\n",
       "  background-color: var(--sklearn-color-background);\n",
       "}\n",
       "\n",
       "/* Toggleable label */\n",
       "#sk-container-id-1 label.sk-toggleable__label {\n",
       "  cursor: pointer;\n",
       "  display: block;\n",
       "  width: 100%;\n",
       "  margin-bottom: 0;\n",
       "  padding: 0.5em;\n",
       "  box-sizing: border-box;\n",
       "  text-align: center;\n",
       "}\n",
       "\n",
       "#sk-container-id-1 label.sk-toggleable__label-arrow:before {\n",
       "  /* Arrow on the left of the label */\n",
       "  content: \"▸\";\n",
       "  float: left;\n",
       "  margin-right: 0.25em;\n",
       "  color: var(--sklearn-color-icon);\n",
       "}\n",
       "\n",
       "#sk-container-id-1 label.sk-toggleable__label-arrow:hover:before {\n",
       "  color: var(--sklearn-color-text);\n",
       "}\n",
       "\n",
       "/* Toggleable content - dropdown */\n",
       "\n",
       "#sk-container-id-1 div.sk-toggleable__content {\n",
       "  max-height: 0;\n",
       "  max-width: 0;\n",
       "  overflow: hidden;\n",
       "  text-align: left;\n",
       "  /* unfitted */\n",
       "  background-color: var(--sklearn-color-unfitted-level-0);\n",
       "}\n",
       "\n",
       "#sk-container-id-1 div.sk-toggleable__content.fitted {\n",
       "  /* fitted */\n",
       "  background-color: var(--sklearn-color-fitted-level-0);\n",
       "}\n",
       "\n",
       "#sk-container-id-1 div.sk-toggleable__content pre {\n",
       "  margin: 0.2em;\n",
       "  border-radius: 0.25em;\n",
       "  color: var(--sklearn-color-text);\n",
       "  /* unfitted */\n",
       "  background-color: var(--sklearn-color-unfitted-level-0);\n",
       "}\n",
       "\n",
       "#sk-container-id-1 div.sk-toggleable__content.fitted pre {\n",
       "  /* unfitted */\n",
       "  background-color: var(--sklearn-color-fitted-level-0);\n",
       "}\n",
       "\n",
       "#sk-container-id-1 input.sk-toggleable__control:checked~div.sk-toggleable__content {\n",
       "  /* Expand drop-down */\n",
       "  max-height: 200px;\n",
       "  max-width: 100%;\n",
       "  overflow: auto;\n",
       "}\n",
       "\n",
       "#sk-container-id-1 input.sk-toggleable__control:checked~label.sk-toggleable__label-arrow:before {\n",
       "  content: \"▾\";\n",
       "}\n",
       "\n",
       "/* Pipeline/ColumnTransformer-specific style */\n",
       "\n",
       "#sk-container-id-1 div.sk-label input.sk-toggleable__control:checked~label.sk-toggleable__label {\n",
       "  color: var(--sklearn-color-text);\n",
       "  background-color: var(--sklearn-color-unfitted-level-2);\n",
       "}\n",
       "\n",
       "#sk-container-id-1 div.sk-label.fitted input.sk-toggleable__control:checked~label.sk-toggleable__label {\n",
       "  background-color: var(--sklearn-color-fitted-level-2);\n",
       "}\n",
       "\n",
       "/* Estimator-specific style */\n",
       "\n",
       "/* Colorize estimator box */\n",
       "#sk-container-id-1 div.sk-estimator input.sk-toggleable__control:checked~label.sk-toggleable__label {\n",
       "  /* unfitted */\n",
       "  background-color: var(--sklearn-color-unfitted-level-2);\n",
       "}\n",
       "\n",
       "#sk-container-id-1 div.sk-estimator.fitted input.sk-toggleable__control:checked~label.sk-toggleable__label {\n",
       "  /* fitted */\n",
       "  background-color: var(--sklearn-color-fitted-level-2);\n",
       "}\n",
       "\n",
       "#sk-container-id-1 div.sk-label label.sk-toggleable__label,\n",
       "#sk-container-id-1 div.sk-label label {\n",
       "  /* The background is the default theme color */\n",
       "  color: var(--sklearn-color-text-on-default-background);\n",
       "}\n",
       "\n",
       "/* On hover, darken the color of the background */\n",
       "#sk-container-id-1 div.sk-label:hover label.sk-toggleable__label {\n",
       "  color: var(--sklearn-color-text);\n",
       "  background-color: var(--sklearn-color-unfitted-level-2);\n",
       "}\n",
       "\n",
       "/* Label box, darken color on hover, fitted */\n",
       "#sk-container-id-1 div.sk-label.fitted:hover label.sk-toggleable__label.fitted {\n",
       "  color: var(--sklearn-color-text);\n",
       "  background-color: var(--sklearn-color-fitted-level-2);\n",
       "}\n",
       "\n",
       "/* Estimator label */\n",
       "\n",
       "#sk-container-id-1 div.sk-label label {\n",
       "  font-family: monospace;\n",
       "  font-weight: bold;\n",
       "  display: inline-block;\n",
       "  line-height: 1.2em;\n",
       "}\n",
       "\n",
       "#sk-container-id-1 div.sk-label-container {\n",
       "  text-align: center;\n",
       "}\n",
       "\n",
       "/* Estimator-specific */\n",
       "#sk-container-id-1 div.sk-estimator {\n",
       "  font-family: monospace;\n",
       "  border: 1px dotted var(--sklearn-color-border-box);\n",
       "  border-radius: 0.25em;\n",
       "  box-sizing: border-box;\n",
       "  margin-bottom: 0.5em;\n",
       "  /* unfitted */\n",
       "  background-color: var(--sklearn-color-unfitted-level-0);\n",
       "}\n",
       "\n",
       "#sk-container-id-1 div.sk-estimator.fitted {\n",
       "  /* fitted */\n",
       "  background-color: var(--sklearn-color-fitted-level-0);\n",
       "}\n",
       "\n",
       "/* on hover */\n",
       "#sk-container-id-1 div.sk-estimator:hover {\n",
       "  /* unfitted */\n",
       "  background-color: var(--sklearn-color-unfitted-level-2);\n",
       "}\n",
       "\n",
       "#sk-container-id-1 div.sk-estimator.fitted:hover {\n",
       "  /* fitted */\n",
       "  background-color: var(--sklearn-color-fitted-level-2);\n",
       "}\n",
       "\n",
       "/* Specification for estimator info (e.g. \"i\" and \"?\") */\n",
       "\n",
       "/* Common style for \"i\" and \"?\" */\n",
       "\n",
       ".sk-estimator-doc-link,\n",
       "a:link.sk-estimator-doc-link,\n",
       "a:visited.sk-estimator-doc-link {\n",
       "  float: right;\n",
       "  font-size: smaller;\n",
       "  line-height: 1em;\n",
       "  font-family: monospace;\n",
       "  background-color: var(--sklearn-color-background);\n",
       "  border-radius: 1em;\n",
       "  height: 1em;\n",
       "  width: 1em;\n",
       "  text-decoration: none !important;\n",
       "  margin-left: 1ex;\n",
       "  /* unfitted */\n",
       "  border: var(--sklearn-color-unfitted-level-1) 1pt solid;\n",
       "  color: var(--sklearn-color-unfitted-level-1);\n",
       "}\n",
       "\n",
       ".sk-estimator-doc-link.fitted,\n",
       "a:link.sk-estimator-doc-link.fitted,\n",
       "a:visited.sk-estimator-doc-link.fitted {\n",
       "  /* fitted */\n",
       "  border: var(--sklearn-color-fitted-level-1) 1pt solid;\n",
       "  color: var(--sklearn-color-fitted-level-1);\n",
       "}\n",
       "\n",
       "/* On hover */\n",
       "div.sk-estimator:hover .sk-estimator-doc-link:hover,\n",
       ".sk-estimator-doc-link:hover,\n",
       "div.sk-label-container:hover .sk-estimator-doc-link:hover,\n",
       ".sk-estimator-doc-link:hover {\n",
       "  /* unfitted */\n",
       "  background-color: var(--sklearn-color-unfitted-level-3);\n",
       "  color: var(--sklearn-color-background);\n",
       "  text-decoration: none;\n",
       "}\n",
       "\n",
       "div.sk-estimator.fitted:hover .sk-estimator-doc-link.fitted:hover,\n",
       ".sk-estimator-doc-link.fitted:hover,\n",
       "div.sk-label-container:hover .sk-estimator-doc-link.fitted:hover,\n",
       ".sk-estimator-doc-link.fitted:hover {\n",
       "  /* fitted */\n",
       "  background-color: var(--sklearn-color-fitted-level-3);\n",
       "  color: var(--sklearn-color-background);\n",
       "  text-decoration: none;\n",
       "}\n",
       "\n",
       "/* Span, style for the box shown on hovering the info icon */\n",
       ".sk-estimator-doc-link span {\n",
       "  display: none;\n",
       "  z-index: 9999;\n",
       "  position: relative;\n",
       "  font-weight: normal;\n",
       "  right: .2ex;\n",
       "  padding: .5ex;\n",
       "  margin: .5ex;\n",
       "  width: min-content;\n",
       "  min-width: 20ex;\n",
       "  max-width: 50ex;\n",
       "  color: var(--sklearn-color-text);\n",
       "  box-shadow: 2pt 2pt 4pt #999;\n",
       "  /* unfitted */\n",
       "  background: var(--sklearn-color-unfitted-level-0);\n",
       "  border: .5pt solid var(--sklearn-color-unfitted-level-3);\n",
       "}\n",
       "\n",
       ".sk-estimator-doc-link.fitted span {\n",
       "  /* fitted */\n",
       "  background: var(--sklearn-color-fitted-level-0);\n",
       "  border: var(--sklearn-color-fitted-level-3);\n",
       "}\n",
       "\n",
       ".sk-estimator-doc-link:hover span {\n",
       "  display: block;\n",
       "}\n",
       "\n",
       "/* \"?\"-specific style due to the `<a>` HTML tag */\n",
       "\n",
       "#sk-container-id-1 a.estimator_doc_link {\n",
       "  float: right;\n",
       "  font-size: 1rem;\n",
       "  line-height: 1em;\n",
       "  font-family: monospace;\n",
       "  background-color: var(--sklearn-color-background);\n",
       "  border-radius: 1rem;\n",
       "  height: 1rem;\n",
       "  width: 1rem;\n",
       "  text-decoration: none;\n",
       "  /* unfitted */\n",
       "  color: var(--sklearn-color-unfitted-level-1);\n",
       "  border: var(--sklearn-color-unfitted-level-1) 1pt solid;\n",
       "}\n",
       "\n",
       "#sk-container-id-1 a.estimator_doc_link.fitted {\n",
       "  /* fitted */\n",
       "  border: var(--sklearn-color-fitted-level-1) 1pt solid;\n",
       "  color: var(--sklearn-color-fitted-level-1);\n",
       "}\n",
       "\n",
       "/* On hover */\n",
       "#sk-container-id-1 a.estimator_doc_link:hover {\n",
       "  /* unfitted */\n",
       "  background-color: var(--sklearn-color-unfitted-level-3);\n",
       "  color: var(--sklearn-color-background);\n",
       "  text-decoration: none;\n",
       "}\n",
       "\n",
       "#sk-container-id-1 a.estimator_doc_link.fitted:hover {\n",
       "  /* fitted */\n",
       "  background-color: var(--sklearn-color-fitted-level-3);\n",
       "}\n",
       "</style><div id=\"sk-container-id-1\" class=\"sk-top-container\"><div class=\"sk-text-repr-fallback\"><pre>RandomizedSearchCV(cv=5,\n",
       "                   estimator=Pipeline(steps=[(&#x27;preprocessor&#x27;,\n",
       "                                              ColumnTransformer(remainder=&#x27;passthrough&#x27;,\n",
       "                                                                transformers=[(&#x27;onehot&#x27;,\n",
       "                                                                               OneHotEncoder(drop=&#x27;first&#x27;),\n",
       "                                                                               [&#x27;type&#x27;,\n",
       "                                                                                &#x27;payment_method&#x27;,\n",
       "                                                                                &#x27;internet_service&#x27;,\n",
       "                                                                                &#x27;gender&#x27;])])),\n",
       "                                             (&#x27;models&#x27;, None)]),\n",
       "                   n_jobs=-1,\n",
       "                   param_distributions=[{&#x27;models&#x27;: [&lt;catboost.core.CatBoostClassifier object at 0x000001C123D5A310&gt;],\n",
       "                                         &#x27;models__d...\n",
       "                                                                  n_jobs=None,\n",
       "                                                                  num_parallel_tree=None,\n",
       "                                                                  predictor=None,\n",
       "                                                                  random_state=None,\n",
       "                                                                  reg_alpha=None,\n",
       "                                                                  reg_lambda=None,\n",
       "                                                                  scale_pos_weight=None,\n",
       "                                                                  seed=80424,\n",
       "                                                                  subsample=None,\n",
       "                                                                  tree_method=None,\n",
       "                                                                  validate_parameters=None,\n",
       "                                                                  verbosity=None)],\n",
       "                                         &#x27;models__learning_rate&#x27;: [0.01, 0.05,\n",
       "                                                                   0.1],\n",
       "                                         &#x27;models__max_depth&#x27;: [4, 6, 8],\n",
       "                                         &#x27;models__n_estimators&#x27;: [500, 1000,\n",
       "                                                                  2000]}],\n",
       "                   random_state=80424, scoring=&#x27;roc_auc&#x27;)</pre><b>In a Jupyter environment, please rerun this cell to show the HTML representation or trust the notebook. <br />On GitHub, the HTML representation is unable to render, please try loading this page with nbviewer.org.</b></div><div class=\"sk-container\" hidden><div class=\"sk-item sk-dashed-wrapped\"><div class=\"sk-label-container\"><div class=\"sk-label fitted sk-toggleable\"><input class=\"sk-toggleable__control sk-hidden--visually\" id=\"sk-estimator-id-1\" type=\"checkbox\" ><label for=\"sk-estimator-id-1\" class=\"sk-toggleable__label fitted sk-toggleable__label-arrow fitted\">&nbsp;&nbsp;RandomizedSearchCV<a class=\"sk-estimator-doc-link fitted\" rel=\"noreferrer\" target=\"_blank\" href=\"https://scikit-learn.org/1.4/modules/generated/sklearn.model_selection.RandomizedSearchCV.html\">?<span>Documentation for RandomizedSearchCV</span></a><span class=\"sk-estimator-doc-link fitted\">i<span>Fitted</span></span></label><div class=\"sk-toggleable__content fitted\"><pre>RandomizedSearchCV(cv=5,\n",
       "                   estimator=Pipeline(steps=[(&#x27;preprocessor&#x27;,\n",
       "                                              ColumnTransformer(remainder=&#x27;passthrough&#x27;,\n",
       "                                                                transformers=[(&#x27;onehot&#x27;,\n",
       "                                                                               OneHotEncoder(drop=&#x27;first&#x27;),\n",
       "                                                                               [&#x27;type&#x27;,\n",
       "                                                                                &#x27;payment_method&#x27;,\n",
       "                                                                                &#x27;internet_service&#x27;,\n",
       "                                                                                &#x27;gender&#x27;])])),\n",
       "                                             (&#x27;models&#x27;, None)]),\n",
       "                   n_jobs=-1,\n",
       "                   param_distributions=[{&#x27;models&#x27;: [&lt;catboost.core.CatBoostClassifier object at 0x000001C123D5A310&gt;],\n",
       "                                         &#x27;models__d...\n",
       "                                                                  n_jobs=None,\n",
       "                                                                  num_parallel_tree=None,\n",
       "                                                                  predictor=None,\n",
       "                                                                  random_state=None,\n",
       "                                                                  reg_alpha=None,\n",
       "                                                                  reg_lambda=None,\n",
       "                                                                  scale_pos_weight=None,\n",
       "                                                                  seed=80424,\n",
       "                                                                  subsample=None,\n",
       "                                                                  tree_method=None,\n",
       "                                                                  validate_parameters=None,\n",
       "                                                                  verbosity=None)],\n",
       "                                         &#x27;models__learning_rate&#x27;: [0.01, 0.05,\n",
       "                                                                   0.1],\n",
       "                                         &#x27;models__max_depth&#x27;: [4, 6, 8],\n",
       "                                         &#x27;models__n_estimators&#x27;: [500, 1000,\n",
       "                                                                  2000]}],\n",
       "                   random_state=80424, scoring=&#x27;roc_auc&#x27;)</pre></div> </div></div><div class=\"sk-parallel\"><div class=\"sk-parallel-item\"><div class=\"sk-item\"><div class=\"sk-label-container\"><div class=\"sk-label fitted sk-toggleable\"><input class=\"sk-toggleable__control sk-hidden--visually\" id=\"sk-estimator-id-2\" type=\"checkbox\" ><label for=\"sk-estimator-id-2\" class=\"sk-toggleable__label fitted sk-toggleable__label-arrow fitted\">estimator: Pipeline</label><div class=\"sk-toggleable__content fitted\"><pre>Pipeline(steps=[(&#x27;preprocessor&#x27;,\n",
       "                 ColumnTransformer(remainder=&#x27;passthrough&#x27;,\n",
       "                                   transformers=[(&#x27;onehot&#x27;,\n",
       "                                                  OneHotEncoder(drop=&#x27;first&#x27;),\n",
       "                                                  [&#x27;type&#x27;, &#x27;payment_method&#x27;,\n",
       "                                                   &#x27;internet_service&#x27;,\n",
       "                                                   &#x27;gender&#x27;])])),\n",
       "                (&#x27;models&#x27;, None)])</pre></div> </div></div><div class=\"sk-serial\"><div class=\"sk-item\"><div class=\"sk-serial\"><div class=\"sk-item sk-dashed-wrapped\"><div class=\"sk-label-container\"><div class=\"sk-label fitted sk-toggleable\"><input class=\"sk-toggleable__control sk-hidden--visually\" id=\"sk-estimator-id-3\" type=\"checkbox\" ><label for=\"sk-estimator-id-3\" class=\"sk-toggleable__label fitted sk-toggleable__label-arrow fitted\">&nbsp;preprocessor: ColumnTransformer<a class=\"sk-estimator-doc-link fitted\" rel=\"noreferrer\" target=\"_blank\" href=\"https://scikit-learn.org/1.4/modules/generated/sklearn.compose.ColumnTransformer.html\">?<span>Documentation for preprocessor: ColumnTransformer</span></a></label><div class=\"sk-toggleable__content fitted\"><pre>ColumnTransformer(remainder=&#x27;passthrough&#x27;,\n",
       "                  transformers=[(&#x27;onehot&#x27;, OneHotEncoder(drop=&#x27;first&#x27;),\n",
       "                                 [&#x27;type&#x27;, &#x27;payment_method&#x27;, &#x27;internet_service&#x27;,\n",
       "                                  &#x27;gender&#x27;])])</pre></div> </div></div><div class=\"sk-parallel\"><div class=\"sk-parallel-item\"><div class=\"sk-item\"><div class=\"sk-label-container\"><div class=\"sk-label fitted sk-toggleable\"><input class=\"sk-toggleable__control sk-hidden--visually\" id=\"sk-estimator-id-4\" type=\"checkbox\" ><label for=\"sk-estimator-id-4\" class=\"sk-toggleable__label fitted sk-toggleable__label-arrow fitted\">onehot</label><div class=\"sk-toggleable__content fitted\"><pre>[&#x27;type&#x27;, &#x27;payment_method&#x27;, &#x27;internet_service&#x27;, &#x27;gender&#x27;]</pre></div> </div></div><div class=\"sk-serial\"><div class=\"sk-item\"><div class=\"sk-estimator fitted sk-toggleable\"><input class=\"sk-toggleable__control sk-hidden--visually\" id=\"sk-estimator-id-5\" type=\"checkbox\" ><label for=\"sk-estimator-id-5\" class=\"sk-toggleable__label fitted sk-toggleable__label-arrow fitted\">&nbsp;OneHotEncoder<a class=\"sk-estimator-doc-link fitted\" rel=\"noreferrer\" target=\"_blank\" href=\"https://scikit-learn.org/1.4/modules/generated/sklearn.preprocessing.OneHotEncoder.html\">?<span>Documentation for OneHotEncoder</span></a></label><div class=\"sk-toggleable__content fitted\"><pre>OneHotEncoder(drop=&#x27;first&#x27;)</pre></div> </div></div></div></div></div><div class=\"sk-parallel-item\"><div class=\"sk-item\"><div class=\"sk-label-container\"><div class=\"sk-label fitted sk-toggleable\"><input class=\"sk-toggleable__control sk-hidden--visually\" id=\"sk-estimator-id-6\" type=\"checkbox\" ><label for=\"sk-estimator-id-6\" class=\"sk-toggleable__label fitted sk-toggleable__label-arrow fitted\">remainder</label><div class=\"sk-toggleable__content fitted\"><pre></pre></div> </div></div><div class=\"sk-serial\"><div class=\"sk-item\"><div class=\"sk-estimator fitted sk-toggleable\"><input class=\"sk-toggleable__control sk-hidden--visually\" id=\"sk-estimator-id-7\" type=\"checkbox\" ><label for=\"sk-estimator-id-7\" class=\"sk-toggleable__label fitted sk-toggleable__label-arrow fitted\">passthrough</label><div class=\"sk-toggleable__content fitted\"><pre>passthrough</pre></div> </div></div></div></div></div></div></div><div class=\"sk-item\"><div class=\"sk-estimator fitted sk-toggleable\"><input class=\"sk-toggleable__control sk-hidden--visually\" id=\"sk-estimator-id-8\" type=\"checkbox\" ><label for=\"sk-estimator-id-8\" class=\"sk-toggleable__label fitted sk-toggleable__label-arrow fitted\">None</label><div class=\"sk-toggleable__content fitted\"><pre>None</pre></div> </div></div></div></div></div></div></div></div></div></div></div>"
      ],
      "text/plain": [
       "RandomizedSearchCV(cv=5,\n",
       "                   estimator=Pipeline(steps=[('preprocessor',\n",
       "                                              ColumnTransformer(remainder='passthrough',\n",
       "                                                                transformers=[('onehot',\n",
       "                                                                               OneHotEncoder(drop='first'),\n",
       "                                                                               ['type',\n",
       "                                                                                'payment_method',\n",
       "                                                                                'internet_service',\n",
       "                                                                                'gender'])])),\n",
       "                                             ('models', None)]),\n",
       "                   n_jobs=-1,\n",
       "                   param_distributions=[{'models': [<catboost.core.CatBoostClassifier object at 0x000001C123D5A310>],\n",
       "                                         'models__d...\n",
       "                                                                  n_jobs=None,\n",
       "                                                                  num_parallel_tree=None,\n",
       "                                                                  predictor=None,\n",
       "                                                                  random_state=None,\n",
       "                                                                  reg_alpha=None,\n",
       "                                                                  reg_lambda=None,\n",
       "                                                                  scale_pos_weight=None,\n",
       "                                                                  seed=80424,\n",
       "                                                                  subsample=None,\n",
       "                                                                  tree_method=None,\n",
       "                                                                  validate_parameters=None,\n",
       "                                                                  verbosity=None)],\n",
       "                                         'models__learning_rate': [0.01, 0.05,\n",
       "                                                                   0.1],\n",
       "                                         'models__max_depth': [4, 6, 8],\n",
       "                                         'models__n_estimators': [500, 1000,\n",
       "                                                                  2000]}],\n",
       "                   random_state=80424, scoring='roc_auc')"
      ]
     },
     "execution_count": 47,
     "metadata": {},
     "output_type": "execute_result"
    }
   ],
   "source": [
    "%%time\n",
    "# список категориальных признаков для кодирования\n",
    "ohe_columns = ['type', 'payment_method', 'internet_service', 'gender']\n",
    "\n",
    "# пайплайн для подготовки признаков из списка ohe_columns\n",
    "pipe_prep = ColumnTransformer(\n",
    "    transformers=[\n",
    "        ('onehot', OneHotEncoder(drop='first'), ohe_columns)\n",
    "    ],\n",
    "    remainder='passthrough'\n",
    ")\n",
    "\n",
    "# итоговый пайплайн: подготовка данных и модели\n",
    "pipe_final = Pipeline([\n",
    "    ('preprocessor', pipe_prep),\n",
    "    ('models', None)\n",
    "])\n",
    "\n",
    "param_grid = [\n",
    "    # параметры для CatBoostClassifier\n",
    "    {\n",
    "        'models': [CatBoostClassifier(random_state=RANDOM_STATE)],\n",
    "        'models__learning_rate': [0.01, 0.05, 0.1],\n",
    "        'models__depth': [4, 6, 8],\n",
    "        'models__n_estimators': [500, 1000, 2000]\n",
    "    },\n",
    "\n",
    "    # параметры для LGBMClassifier\n",
    "    {\n",
    "        'models': [LGBMClassifier(random_state=RANDOM_STATE)],\n",
    "        'models__learning_rate': [0.01, 0.05, 0.1],\n",
    "        'models__max_depth': [4, 6, 8],\n",
    "        'models__n_estimators': [500, 1000, 2000]\n",
    "    },\n",
    "\n",
    "    # параметры для xgb.XGBClassifier\n",
    "    {\n",
    "        'models': [xgb.XGBClassifier(seed=80424)],\n",
    "        'models__learning_rate': [0.01, 0.05, 0.1],\n",
    "        'models__max_depth': [4, 6, 8],\n",
    "        'models__n_estimators': [500, 1000, 2000]\n",
    "    }\n",
    "]\n",
    "\n",
    "# рандомизированный поиск лучшей модели и гиперпараметров\n",
    "random_search = RandomizedSearchCV(\n",
    "    pipe_final,\n",
    "    param_distributions=param_grid,\n",
    "    scoring='roc_auc',\n",
    "    n_iter=10,\n",
    "    cv=5,\n",
    "    n_jobs=-1,\n",
    "    random_state=RANDOM_STATE\n",
    ")\n",
    "\n",
    "# опускаем предупреждения\n",
    "warnings.filterwarnings('ignore')\n",
    "\n",
    "# обучаем модель\n",
    "random_search.fit(X_train, y_train)"
   ]
  },
  {
   "cell_type": "code",
   "execution_count": 48,
   "id": "52275089",
   "metadata": {},
   "outputs": [
    {
     "data": {
      "text/html": [
       "<div>\n",
       "<style scoped>\n",
       "    .dataframe tbody tr th:only-of-type {\n",
       "        vertical-align: middle;\n",
       "    }\n",
       "\n",
       "    .dataframe tbody tr th {\n",
       "        vertical-align: top;\n",
       "    }\n",
       "\n",
       "    .dataframe thead th {\n",
       "        text-align: right;\n",
       "    }\n",
       "</style>\n",
       "<table border=\"1\" class=\"dataframe\">\n",
       "  <thead>\n",
       "    <tr style=\"text-align: right;\">\n",
       "      <th></th>\n",
       "      <th>rank_test_score</th>\n",
       "      <th>param_models</th>\n",
       "      <th>mean_test_score</th>\n",
       "      <th>params</th>\n",
       "    </tr>\n",
       "  </thead>\n",
       "  <tbody>\n",
       "    <tr>\n",
       "      <th>2</th>\n",
       "      <td>1</td>\n",
       "      <td>&lt;catboost.core.CatBoostClassifier object at 0x000001C123D5A310&gt;</td>\n",
       "      <td>0.916088</td>\n",
       "      <td>{'models__n_estimators': 2000, 'models__learning_rate': 0.1, 'models__depth': 4, 'models': &lt;catboost.core.CatBoostClassifier object at 0x000001C123D5A310&gt;}</td>\n",
       "    </tr>\n",
       "    <tr>\n",
       "      <th>5</th>\n",
       "      <td>2</td>\n",
       "      <td>&lt;catboost.core.CatBoostClassifier object at 0x000001C123D5A310&gt;</td>\n",
       "      <td>0.906845</td>\n",
       "      <td>{'models__n_estimators': 500, 'models__learning_rate': 0.1, 'models__depth': 4, 'models': &lt;catboost.core.CatBoostClassifier object at 0x000001C123D5A310&gt;}</td>\n",
       "    </tr>\n",
       "    <tr>\n",
       "      <th>6</th>\n",
       "      <td>3</td>\n",
       "      <td>&lt;catboost.core.CatBoostClassifier object at 0x000001C123D5A310&gt;</td>\n",
       "      <td>0.901594</td>\n",
       "      <td>{'models__n_estimators': 2000, 'models__learning_rate': 0.1, 'models__depth': 6, 'models': &lt;catboost.core.CatBoostClassifier object at 0x000001C123D5A310&gt;}</td>\n",
       "    </tr>\n",
       "    <tr>\n",
       "      <th>9</th>\n",
       "      <td>4</td>\n",
       "      <td>XGBClassifier(base_score=None, booster=None, colsample_bylevel=None,\\n              colsample_bynode=None, colsample_bytree=None,\\n              enable_categorical=False, gamma=None, gpu_id=None,\\n              importance_type=None, interaction_constraints=None,\\n              learning_rate=None, max_delta_step=None, max_depth=None,\\n              min_child_weight=None, missing=nan, monotone_constraints=None,\\n              n_estimators=100, n_jobs=None, num_parallel_tree=None,\\n              predictor=None, random_state=None, reg_alpha=None,\\n              reg_lambda=None, scale_pos_weight=None, seed=80424,\\n              subsample=None, tree_method=None, validate_parameters=None,\\n              verbosity=None)</td>\n",
       "      <td>0.900072</td>\n",
       "      <td>{'models__n_estimators': 1000, 'models__max_depth': 4, 'models__learning_rate': 0.05, 'models': XGBClassifier(base_score=None, booster=None, colsample_bylevel=None,\n",
       "              colsample_bynode=None, colsample_bytree=None,\n",
       "              enable_categorical=False, gamma=None, gpu_id=None,\n",
       "              importance_type=None, interaction_constraints=None,\n",
       "              learning_rate=None, max_delta_step=None, max_depth=None,\n",
       "              min_child_weight=None, missing=nan, monotone_constraints=None,\n",
       "              n_estimators=100, n_jobs=None, num_parallel_tree=None,\n",
       "              predictor=None, random_state=None, reg_alpha=None,\n",
       "              reg_lambda=None, scale_pos_weight=None, seed=80424,\n",
       "              subsample=None, tree_method=None, validate_parameters=None,\n",
       "              verbosity=None)}</td>\n",
       "    </tr>\n",
       "    <tr>\n",
       "      <th>7</th>\n",
       "      <td>5</td>\n",
       "      <td>LGBMClassifier(random_state=80424)</td>\n",
       "      <td>0.891494</td>\n",
       "      <td>{'models__n_estimators': 2000, 'models__max_depth': 4, 'models__learning_rate': 0.05, 'models': LGBMClassifier(random_state=80424)}</td>\n",
       "    </tr>\n",
       "  </tbody>\n",
       "</table>\n",
       "</div>"
      ],
      "text/plain": [
       "   rank_test_score  \\\n",
       "2                1   \n",
       "5                2   \n",
       "6                3   \n",
       "9                4   \n",
       "7                5   \n",
       "\n",
       "                                                                                                                                                                                                                                                                                                                                                                                                                                                                                                                                                                                                                                                                                                                                        param_models  \\\n",
       "2                                                                                                                                                                                                                                                                                                                                                                                                                                                                                                                                                                                                                                                                                    <catboost.core.CatBoostClassifier object at 0x000001C123D5A310>   \n",
       "5                                                                                                                                                                                                                                                                                                                                                                                                                                                                                                                                                                                                                                                                                    <catboost.core.CatBoostClassifier object at 0x000001C123D5A310>   \n",
       "6                                                                                                                                                                                                                                                                                                                                                                                                                                                                                                                                                                                                                                                                                    <catboost.core.CatBoostClassifier object at 0x000001C123D5A310>   \n",
       "9  XGBClassifier(base_score=None, booster=None, colsample_bylevel=None,\\n              colsample_bynode=None, colsample_bytree=None,\\n              enable_categorical=False, gamma=None, gpu_id=None,\\n              importance_type=None, interaction_constraints=None,\\n              learning_rate=None, max_delta_step=None, max_depth=None,\\n              min_child_weight=None, missing=nan, monotone_constraints=None,\\n              n_estimators=100, n_jobs=None, num_parallel_tree=None,\\n              predictor=None, random_state=None, reg_alpha=None,\\n              reg_lambda=None, scale_pos_weight=None, seed=80424,\\n              subsample=None, tree_method=None, validate_parameters=None,\\n              verbosity=None)   \n",
       "7                                                                                                                                                                                                                                                                                                                                                                                                                                                                                                                                                                                                                                                                                                                 LGBMClassifier(random_state=80424)   \n",
       "\n",
       "   mean_test_score  \\\n",
       "2         0.916088   \n",
       "5         0.906845   \n",
       "6         0.901594   \n",
       "9         0.900072   \n",
       "7         0.891494   \n",
       "\n",
       "                                                                                                                                                                                                                                                                                                                                                                                                                                                                                                                                                                                                                                                                                                                                                                                                                                     params  \n",
       "2                                                                                                                                                                                                                                                                                                                                                                                                                                                                                                                                                                                                                                                                               {'models__n_estimators': 2000, 'models__learning_rate': 0.1, 'models__depth': 4, 'models': <catboost.core.CatBoostClassifier object at 0x000001C123D5A310>}  \n",
       "5                                                                                                                                                                                                                                                                                                                                                                                                                                                                                                                                                                                                                                                                                {'models__n_estimators': 500, 'models__learning_rate': 0.1, 'models__depth': 4, 'models': <catboost.core.CatBoostClassifier object at 0x000001C123D5A310>}  \n",
       "6                                                                                                                                                                                                                                                                                                                                                                                                                                                                                                                                                                                                                                                                               {'models__n_estimators': 2000, 'models__learning_rate': 0.1, 'models__depth': 6, 'models': <catboost.core.CatBoostClassifier object at 0x000001C123D5A310>}  \n",
       "9  {'models__n_estimators': 1000, 'models__max_depth': 4, 'models__learning_rate': 0.05, 'models': XGBClassifier(base_score=None, booster=None, colsample_bylevel=None,\n",
       "              colsample_bynode=None, colsample_bytree=None,\n",
       "              enable_categorical=False, gamma=None, gpu_id=None,\n",
       "              importance_type=None, interaction_constraints=None,\n",
       "              learning_rate=None, max_delta_step=None, max_depth=None,\n",
       "              min_child_weight=None, missing=nan, monotone_constraints=None,\n",
       "              n_estimators=100, n_jobs=None, num_parallel_tree=None,\n",
       "              predictor=None, random_state=None, reg_alpha=None,\n",
       "              reg_lambda=None, scale_pos_weight=None, seed=80424,\n",
       "              subsample=None, tree_method=None, validate_parameters=None,\n",
       "              verbosity=None)}  \n",
       "7                                                                                                                                                                                                                                                                                                                                                                                                                                                                                                                                                                                                                                                                                                       {'models__n_estimators': 2000, 'models__max_depth': 4, 'models__learning_rate': 0.05, 'models': LGBMClassifier(random_state=80424)}  "
      ]
     },
     "metadata": {},
     "output_type": "display_data"
    }
   ],
   "source": [
    "# выведем результаты метрик пяти лучших моделей\n",
    "result = pd.DataFrame(random_search.cv_results_)\n",
    "with pd.option_context('max_colwidth', 3000):\n",
    "    display(result[['rank_test_score', 'param_models', 'mean_test_score','params']]\n",
    "            .sort_values('rank_test_score').head())"
   ]
  },
  {
   "cell_type": "code",
   "execution_count": 49,
   "id": "129c6651",
   "metadata": {},
   "outputs": [
    {
     "data": {
      "text/html": [
       "<div>\n",
       "<style scoped>\n",
       "    .dataframe tbody tr th:only-of-type {\n",
       "        vertical-align: middle;\n",
       "    }\n",
       "\n",
       "    .dataframe tbody tr th {\n",
       "        vertical-align: top;\n",
       "    }\n",
       "\n",
       "    .dataframe thead th {\n",
       "        text-align: right;\n",
       "    }\n",
       "</style>\n",
       "<table border=\"1\" class=\"dataframe\">\n",
       "  <thead>\n",
       "    <tr style=\"text-align: right;\">\n",
       "      <th></th>\n",
       "      <th>model</th>\n",
       "      <th>mean_test_score</th>\n",
       "      <th>mean_fit_time</th>\n",
       "      <th>mean_score_time</th>\n",
       "    </tr>\n",
       "  </thead>\n",
       "  <tbody>\n",
       "    <tr>\n",
       "      <th>2</th>\n",
       "      <td>&lt;catboost.core.CatBoostClassifier object at 0x...</td>\n",
       "      <td>-0.916088</td>\n",
       "      <td>9.297678</td>\n",
       "      <td>0.030826</td>\n",
       "    </tr>\n",
       "    <tr>\n",
       "      <th>7</th>\n",
       "      <td>LGBMClassifier</td>\n",
       "      <td>-0.891494</td>\n",
       "      <td>21.402958</td>\n",
       "      <td>0.071131</td>\n",
       "    </tr>\n",
       "    <tr>\n",
       "      <th>9</th>\n",
       "      <td>XGBClassifier</td>\n",
       "      <td>-0.900072</td>\n",
       "      <td>8.837664</td>\n",
       "      <td>0.031120</td>\n",
       "    </tr>\n",
       "  </tbody>\n",
       "</table>\n",
       "</div>"
      ],
      "text/plain": [
       "                                               model  mean_test_score  \\\n",
       "2  <catboost.core.CatBoostClassifier object at 0x...        -0.916088   \n",
       "7                                     LGBMClassifier        -0.891494   \n",
       "9                                      XGBClassifier        -0.900072   \n",
       "\n",
       "   mean_fit_time  mean_score_time  \n",
       "2       9.297678         0.030826  \n",
       "7      21.402958         0.071131  \n",
       "9       8.837664         0.031120  "
      ]
     },
     "execution_count": 49,
     "metadata": {},
     "output_type": "execute_result"
    }
   ],
   "source": [
    "# рассмотрим модели с лучшими параметрами: время обучения, время прогноза и качество прогноза\n",
    "result['model'] = result['param_models'].apply(lambda x: str(x).split('(')[0])\n",
    "result['mean_test_score'] = -result['mean_test_score']\n",
    "result[result['mean_test_score'].isin(result.groupby('model')['mean_test_score'].min())][['model', 'mean_test_score', 'mean_fit_time', 'mean_score_time']]"
   ]
  },
  {
   "cell_type": "markdown",
   "id": "192c5d4e",
   "metadata": {},
   "source": [
    "**Вывод:**\n",
    "- Из трёх моделей наиболее эффективной с точки зрения метрики качества и скорости обучения оказалась `CatBoostClassifier`с гиперпараметрами `n_estimators=2000`, `learning_rate=0.1`, `depth=4`.\n",
    "- Значение метрики ROC AUC лучшей модели на **обучающей** выборке составляет *0.92*, что позволяет говорить о хорошей способности модели различать положительные и отрицательные экземпляры.\n",
    "- Протестируем лучшую модель на тестовой выборке и рассмотрим матрицу ошибок."
   ]
  },
  {
   "cell_type": "code",
   "execution_count": 50,
   "id": "2a289b06",
   "metadata": {},
   "outputs": [
    {
     "name": "stdout",
     "output_type": "stream",
     "text": [
      "Метрика ROC-AUC на тестовой выборке: 0.9298736351367931\n"
     ]
    }
   ],
   "source": [
    "# оценим работу модели на тестовой выборке и рассчитаем прогноз\n",
    "y_test_prob = random_search.best_estimator_.predict_proba(X_test)[:, 1]\n",
    "print(f'Метрика ROC-AUC на тестовой выборке: {roc_auc_score(y_test, y_test_prob)}')"
   ]
  },
  {
   "cell_type": "code",
   "execution_count": 51,
   "id": "459f7106",
   "metadata": {},
   "outputs": [
    {
     "data": {
      "image/png": "[encoded data removed]",
      "text/plain": [
       "<Figure size 504x432 with 2 Axes>"
      ]
     },
     "metadata": {},
     "output_type": "display_data"
    }
   ],
   "source": [
    "# рассмотрим подробные показатели классификации\n",
    "y_pred = random_search.best_estimator_.predict(X_test)\n",
    "# сформируем confusion matrix\n",
    "plt.figure(figsize=(7, 6))\n",
    "sns.heatmap(confusion_matrix(y_test, y_pred), annot=True, fmt='3.0f', cmap= 'coolwarm')\n",
    "plt.title('Матрица ошибок', y=1.05, size=15)\n",
    "plt.xlabel('Реальные экземпляры')\n",
    "plt.ylabel('Предсказанные экземпляры')\n",
    "plt.show()"
   ]
  },
  {
   "cell_type": "markdown",
   "id": "9c4ab28e",
   "metadata": {},
   "source": [
    "**Вывод:**\n",
    "- Модель показывает довольно высокие прогнозные способности на **тестовых** данных. Оценка вероятности для положительного класса составляет *0.93*, это значит, что обобщающие способности модели устойчивы и на незнакомых данных.\n",
    "- Согласно матрице ошибок, в **(TN):1461** случае модель правильно идентифицировала клиентов, которые не уходят; в **(FN):99** случаях модель ошибочно предсказала клиентов как не уходящие, хотя на самом деле они ушли; в **(FP):21** случае модель ошиблась, предсказав отток клиентов, хотя фактический это не так; в **(TP):176** случаях модель идентифицировала клиентов как находящихся в группе риска и они действительно отказались от услуги.\n",
    "- Рассмотрим значимость признаков, чтобы оценнить их вклад в прогнозы модели."
   ]
  },
  {
   "cell_type": "markdown",
   "id": "28fb61cd",
   "metadata": {},
   "source": [
    "### Анализ важности признаков"
   ]
  },
  {
   "cell_type": "markdown",
   "id": "2ca1773b",
   "metadata": {},
   "source": [
    "1. Оценим важность признаков для лучшей модели и построим график важности с помощью метода SHAP.\n",
    "2. Сделаем выводы о значимости признаков."
   ]
  },
  {
   "cell_type": "code",
   "execution_count": 52,
   "id": "f547cc0f-014c-4899-b4d7-cbf694476ca0",
   "metadata": {},
   "outputs": [
    {
     "name": "stderr",
     "output_type": "stream",
     "text": [
      "100%|===================| 1752/1757 [01:06<00:00]        "
     ]
    },
    {
     "data": {
      "image/png": "[encoded data removed]",
      "text/plain": [
       "<Figure size 576x684 with 1 Axes>"
      ]
     },
     "metadata": {},
     "output_type": "display_data"
    }
   ],
   "source": [
    "# извлечение лучшей модели и повторное обучение на тренировочных данных\n",
    "final_model = random_search.best_estimator_.named_steps['models']\n",
    "# обработка train данных для лучшей модели\n",
    "X_train_shap = random_search.best_estimator_.named_steps['preprocessor'].fit_transform(X_train)\n",
    "# обработка test данных для лучшей модели\n",
    "X_test_shap = random_search.best_estimator_.named_steps['preprocessor'].transform(X_test)\n",
    "# получение названий признаков после обработки\n",
    "feature_names = random_search.best_estimator_.named_steps['preprocessor'].get_feature_names_out()\n",
    "# вычисление SHAP значений на тестовых данных\n",
    "explainer = shap.Explainer(final_model, X_train_shap)\n",
    "shap_values = explainer.shap_values(X_test_shap)\n",
    "# визуализация SHAP значений\n",
    "shap.summary_plot(shap_values, X_test_shap, plot_type=\"bar\", feature_names=feature_names)"
   ]
  },
  {
   "cell_type": "markdown",
   "id": "3b3922b2",
   "metadata": {},
   "source": [
    "**Вывод:**\n",
    "- Признаки на графике расположены в порядке убывания их вклада. В числе признаков лидеров: продолжительность контракта, общие расходы абонента, тип оплаты раз в два года и расходы за месяц.\n",
    "- Модель позволила наметить различие между двумя классами клиентов: те, кто находятся в группе риска расторжения договора или — нет. Указанные признаки влияют на решения модели, а значит, и клиенты с высокими значениями этих признаков ведут себя по-разному.\n",
    "- Предложения промокодов и специальных условий пользователям отнесенным в группу риска может быть оправданной мерой для удержания клиентов."
   ]
  },
  {
   "cell_type": "markdown",
   "id": "6ffe625d",
   "metadata": {},
   "source": [
    "### Итоговый отчёт"
   ]
  },
  {
   "cell_type": "markdown",
   "id": "e852707b",
   "metadata": {},
   "source": [
    "На данных компании оператора связи был проведён исследовательский анализ с последующей разработкой решения на основе моделирования, которое позволит персонализировать пользовательские предложения для предупреждения отказа клиентов от услуг связи.\n",
    "\n",
    "Учитывая бизнес-задачи заказчика, предстояло разработать прогнозную модель и обучить её классифицировать клиентов по критерию откажется / не откажется пользователь от услуг связи (задача бинарной классификации).\n",
    "\n",
    "Работа включала предварительный этап и предобработку данных, исследовательский анализ, обучение разных моделей с подбором гиперпараметров, анализ моделей и проверку на тестовой выборке.\n",
    "\n",
    "На **предварительном этапе** и **этапе предобработки** данных мы изучили основные сведения о четырёх датасетах, определили количество и тип данных в таблицах, проверили на наличие пропусков и дубликатов, сформировали целевую переменную, а также создали новый входной признак, используя столбцы с датами начала и окончания договора. Это позволило с одной стороны избежать утечки данных при обучении модели, так как столбцы с датами были исключены из итогового датафрейма, с другой — обеспечить модели возможность выучить соответствующие закономерности для более точного прогноза. Пропуски, возникшие в результате объединения четырёх датафреймов, были заполнены значением соответствующим логике набора данных.\n",
    "\n",
    "На этапе **исследовательского анализа** были построены графики для оценки характера распределения данных, проведён корреляционный анализ всех признаков для изучения типов взаимосвязи.\n",
    "\n",
    "Этап **разработки модели** включал подготовку данных обучающего и тестового наборов, выбор алгоритмов моделирования, настройку гиперпараметров, обучение модели, оценку её качества с использованием метрики *ROC-AUC* и получение прогноза. Метрика была получена при помощи кросс-валидации, чтобы обеспечить статистически значимую закономерность оценок.\n",
    "\n",
    "На этапе **анализа моделей** проводилось сопоставление результатов с учётом гиперпараметров, оценок метрики качества и скорости обучения.\n",
    "\n",
    "Поскольку датасет содержит преимущественно категориальные признаки, в контексте поставленной задачи мы рассмотрели возможности бустинговых алгоритмов, которые эффективны для решения такого рода задач. В частности: \n",
    "- CatBoostClassifier\n",
    "- LGBMClassifier\n",
    "- xgb.XGBClassifier\n",
    "\n",
    "Этап **оценки важности признаков** для лучшей модели предполагал изучение признаков с помощью метода *SHAP*, которые вносят наибольший вклад в корректное предсказание модели.\n",
    "\n",
    "**Основные результаты и выводы:**\n",
    "- Из трёх моделей наиболее эффективной с точки зрения метрики качества и скорости обучения оказалась `CatBoostClassifier`с гиперпараметрами `n_estimators=2000`, `learning_rate=0.1`, `depth=4`.\n",
    "- Значение метрики ROC AUC лучшей модели на **обучающей** выборке составляет *0.92*, на **тестовых** данных *0.93*, что позволяет говорить о хорошей способности модели различать положительные и отрицательные экземпляры.\n",
    "- Согласно матрице ошибок, в **(TN):1461** случае модель правильно идентифицировала клиентов, которые не уходят; в **(FN):99** случаях модель ошибочно предсказала клиентов как не уходящие, хотя на самом деле они ушли; в **(FP):21** случае модель ошиблась, предсказав отток клиентов, хотя фактический это не так; в **(TP):176** случаях модель идентифицировала клиентов как находящихся в группе риска и они действительно отказались от услуги. В контексте поставленной задачи именно этот показатель требует особого внимания, так как нам важно сосредоточиться на максимизации количества истинных положительных результатов и минимизации количества ложных отрицательных результатов. Это гарантирует, что модель эффективно выявляет клиентов, подверженных риску оттока, и позволяет бизнесу принимать соответствующие меры для их удержания.\n",
    "- В нашем случае, модель позволила наметить различие между двумя классами клиентов: теми, кто находятся в группе риска `отток` и теми, кто не попал в таковую, то есть `не отток`. \n",
    "- Оценка важности признаков с помощью метода SHAP показала, что в числе признаков лидеров: `продолжительность контракта`, `общие расходы абонента`, `тип оплаты раз в два года` и `расходы за месяц`. Указанные признаки влияют на решения модели, а значит, и клиенты с высокими значениями этих признаков ведут себя по-разному.\n",
    "- Предложения промокодов и специальных условий пользователям отнесенным в группу риска может быть оправданной мерой для удержания клиентов.\n",
    "\n",
    "**Рефлексия:**\n",
    "\n",
    "В целом проект показался довольно занимательным и полезным с точки зрения прикладного характера. Непреодолимых трудностей в процессе выполнения работы не возникало. Я связываю это с тем, что на протяжении курса мы научились справляться с похожими задачами, соответственно, в данном проекте нужно было синтезировать полученный опыт. \n",
    "\n",
    "При этом, на этапе моделирования я всё же попала в интеллектуальную раскоряку, так как выбранные алгоритмы не оправдали моих ожиданий в плане обработки признаков. В частности, во многих источниках говорится, что для выбранных алгоритмов предварительная обработка данных с помощью кодировщиков в большинстве случаев не требуется, так как они имеют собственные встроенные решения. Более того, дополнительная обработка такого рода, напротив, может даже привести к увеличению использования ресурсов памяти и времени обучения. Однако, на практике это оказалось не так, и в работе с текущим датасетом мне всё равно потребовалось преобразовать категориальные признаки в числовые представления поскольку возникали ошибки, которые напрямую указывали \"иди преобразуй свой бешельмепельме\".\n",
    "\n",
    "Я экспериментировала с CatBoost и, справедливости ради, он действительно проглатывает напрямую переданные в аргументах категориальные переменные, но скорость при этом существенно падает. Поэтому, было принято решение отдельно кодировать категориальные признаки в пайплайн, чтобы унифицировать стартовые условия для всех трёх моделей."
   ]
  }
 ],
 "metadata": {
  "ExecuteTimeLog": [
   {
    "duration": 7194,
    "start_time": "2024-04-09T17:40:49.094Z"
   },
   {
    "duration": 3415,
    "start_time": "2024-04-09T17:40:57.508Z"
   },
   {
    "duration": 1764,
    "start_time": "2024-04-09T17:41:04.132Z"
   },
   {
    "duration": 3,
    "start_time": "2024-04-09T17:41:07.912Z"
   },
   {
    "duration": 3,
    "start_time": "2024-04-09T17:41:11.163Z"
   },
   {
    "duration": 365,
    "start_time": "2024-04-09T17:41:13.768Z"
   },
   {
    "duration": 32,
    "start_time": "2024-04-09T17:41:18.265Z"
   },
   {
    "duration": 9,
    "start_time": "2024-04-09T17:44:06.687Z"
   },
   {
    "duration": 41,
    "start_time": "2024-04-09T17:45:00.339Z"
   },
   {
    "duration": 31,
    "start_time": "2024-04-09T17:45:49.079Z"
   },
   {
    "duration": 77,
    "start_time": "2024-04-09T17:46:06.794Z"
   },
   {
    "duration": 100,
    "start_time": "2024-04-09T17:47:35.102Z"
   },
   {
    "duration": 100,
    "start_time": "2024-04-09T18:18:49.131Z"
   },
   {
    "duration": 21945,
    "start_time": "2024-04-10T00:33:50.168Z"
   },
   {
    "duration": 3223,
    "start_time": "2024-04-10T00:34:12.116Z"
   },
   {
    "duration": 1868,
    "start_time": "2024-04-10T00:34:15.341Z"
   },
   {
    "duration": 2,
    "start_time": "2024-04-10T00:34:17.212Z"
   },
   {
    "duration": 13,
    "start_time": "2024-04-10T00:34:17.216Z"
   },
   {
    "duration": 396,
    "start_time": "2024-04-10T00:34:17.230Z"
   },
   {
    "duration": 33,
    "start_time": "2024-04-10T00:34:17.627Z"
   },
   {
    "duration": 99,
    "start_time": "2024-04-10T00:34:18.539Z"
   },
   {
    "duration": 7,
    "start_time": "2024-04-10T00:34:38.864Z"
   },
   {
    "duration": 14,
    "start_time": "2024-04-10T00:36:19.206Z"
   },
   {
    "duration": 5,
    "start_time": "2024-04-10T00:42:27.133Z"
   },
   {
    "duration": 10,
    "start_time": "2024-04-10T00:42:41.286Z"
   },
   {
    "duration": 9,
    "start_time": "2024-04-10T01:08:39.662Z"
   },
   {
    "duration": 11,
    "start_time": "2024-04-10T01:08:51.373Z"
   },
   {
    "duration": 5,
    "start_time": "2024-04-10T01:18:39.470Z"
   },
   {
    "duration": 7,
    "start_time": "2024-04-10T01:37:07.259Z"
   },
   {
    "duration": 11,
    "start_time": "2024-04-10T01:49:00.738Z"
   },
   {
    "duration": 8,
    "start_time": "2024-04-10T01:49:02.533Z"
   },
   {
    "duration": 7,
    "start_time": "2024-04-10T01:55:52.520Z"
   },
   {
    "duration": 12,
    "start_time": "2024-04-10T02:00:13.987Z"
   },
   {
    "duration": 85,
    "start_time": "2024-04-10T02:00:57.836Z"
   },
   {
    "duration": 11,
    "start_time": "2024-04-10T02:01:03.565Z"
   },
   {
    "duration": 6,
    "start_time": "2024-04-10T02:01:29.608Z"
   },
   {
    "duration": 5,
    "start_time": "2024-04-10T02:07:40.136Z"
   },
   {
    "duration": 5,
    "start_time": "2024-04-10T02:08:10.129Z"
   },
   {
    "duration": 13,
    "start_time": "2024-04-10T02:08:45.085Z"
   },
   {
    "duration": 13,
    "start_time": "2024-04-10T02:09:09.343Z"
   },
   {
    "duration": 12,
    "start_time": "2024-04-10T02:09:22.191Z"
   },
   {
    "duration": 3124,
    "start_time": "2024-04-10T02:13:45.366Z"
   },
   {
    "duration": 2499,
    "start_time": "2024-04-10T02:13:48.492Z"
   },
   {
    "duration": 1567,
    "start_time": "2024-04-10T02:13:50.993Z"
   },
   {
    "duration": 3,
    "start_time": "2024-04-10T02:13:52.561Z"
   },
   {
    "duration": 9,
    "start_time": "2024-04-10T02:13:52.566Z"
   },
   {
    "duration": 107,
    "start_time": "2024-04-10T02:13:52.576Z"
   },
   {
    "duration": 32,
    "start_time": "2024-04-10T02:13:52.684Z"
   },
   {
    "duration": 119,
    "start_time": "2024-04-10T02:13:52.718Z"
   },
   {
    "duration": 5,
    "start_time": "2024-04-10T02:13:52.838Z"
   },
   {
    "duration": 36,
    "start_time": "2024-04-10T02:13:52.844Z"
   },
   {
    "duration": 5,
    "start_time": "2024-04-10T02:13:52.881Z"
   },
   {
    "duration": 12,
    "start_time": "2024-04-10T02:13:52.888Z"
   },
   {
    "duration": 4,
    "start_time": "2024-04-10T02:13:52.901Z"
   },
   {
    "duration": 12,
    "start_time": "2024-04-10T02:13:52.907Z"
   },
   {
    "duration": 10,
    "start_time": "2024-04-10T02:13:52.921Z"
   },
   {
    "duration": 6,
    "start_time": "2024-04-10T02:13:52.932Z"
   },
   {
    "duration": 7,
    "start_time": "2024-04-10T02:13:52.974Z"
   },
   {
    "duration": 6,
    "start_time": "2024-04-10T02:13:52.982Z"
   },
   {
    "duration": 16,
    "start_time": "2024-04-10T02:13:52.989Z"
   },
   {
    "duration": 6823,
    "start_time": "2024-04-10T15:21:01.918Z"
   },
   {
    "duration": 3055,
    "start_time": "2024-04-10T15:21:08.743Z"
   },
   {
    "duration": 1790,
    "start_time": "2024-04-10T15:21:11.800Z"
   },
   {
    "duration": 3,
    "start_time": "2024-04-10T15:21:13.592Z"
   },
   {
    "duration": 39,
    "start_time": "2024-04-10T15:21:13.597Z"
   },
   {
    "duration": 403,
    "start_time": "2024-04-10T15:21:13.637Z"
   },
   {
    "duration": 32,
    "start_time": "2024-04-10T15:21:14.042Z"
   },
   {
    "duration": 156,
    "start_time": "2024-04-10T15:21:14.076Z"
   },
   {
    "duration": 6,
    "start_time": "2024-04-10T15:21:14.235Z"
   },
   {
    "duration": 48,
    "start_time": "2024-04-10T15:21:14.243Z"
   },
   {
    "duration": 21,
    "start_time": "2024-04-10T15:21:14.293Z"
   },
   {
    "duration": 33,
    "start_time": "2024-04-10T15:21:14.316Z"
   },
   {
    "duration": 50,
    "start_time": "2024-04-10T15:21:14.351Z"
   },
   {
    "duration": 38,
    "start_time": "2024-04-10T15:21:14.402Z"
   },
   {
    "duration": 31,
    "start_time": "2024-04-10T15:21:14.442Z"
   },
   {
    "duration": 30,
    "start_time": "2024-04-10T15:21:14.475Z"
   },
   {
    "duration": 49,
    "start_time": "2024-04-10T15:21:14.507Z"
   },
   {
    "duration": 22,
    "start_time": "2024-04-10T15:21:14.558Z"
   },
   {
    "duration": 36,
    "start_time": "2024-04-10T15:21:14.581Z"
   },
   {
    "duration": 2867,
    "start_time": "2024-04-10T15:22:19.842Z"
   },
   {
    "duration": 2355,
    "start_time": "2024-04-10T15:22:22.712Z"
   },
   {
    "duration": 1531,
    "start_time": "2024-04-10T15:22:25.070Z"
   },
   {
    "duration": 2,
    "start_time": "2024-04-10T15:22:26.603Z"
   },
   {
    "duration": 34,
    "start_time": "2024-04-10T15:22:26.607Z"
   },
   {
    "duration": 118,
    "start_time": "2024-04-10T15:22:26.643Z"
   },
   {
    "duration": 30,
    "start_time": "2024-04-10T15:22:26.763Z"
   },
   {
    "duration": 114,
    "start_time": "2024-04-10T15:22:26.795Z"
   },
   {
    "duration": 4,
    "start_time": "2024-04-10T15:22:26.911Z"
   },
   {
    "duration": 91,
    "start_time": "2024-04-10T15:22:26.916Z"
   },
   {
    "duration": 30,
    "start_time": "2024-04-10T15:22:27.008Z"
   },
   {
    "duration": 39,
    "start_time": "2024-04-10T15:22:27.040Z"
   },
   {
    "duration": 58,
    "start_time": "2024-04-10T15:22:27.081Z"
   },
   {
    "duration": 15,
    "start_time": "2024-04-10T15:22:27.142Z"
   },
   {
    "duration": 20,
    "start_time": "2024-04-10T15:22:27.158Z"
   },
   {
    "duration": 15,
    "start_time": "2024-04-10T15:22:27.179Z"
   },
   {
    "duration": 38,
    "start_time": "2024-04-10T15:22:27.195Z"
   },
   {
    "duration": 13,
    "start_time": "2024-04-10T15:22:27.235Z"
   },
   {
    "duration": 19,
    "start_time": "2024-04-10T15:22:27.250Z"
   },
   {
    "duration": 6,
    "start_time": "2024-04-10T15:37:43.937Z"
   },
   {
    "duration": 5,
    "start_time": "2024-04-10T15:39:55.998Z"
   },
   {
    "duration": 10,
    "start_time": "2024-04-10T15:40:42.401Z"
   },
   {
    "duration": 106,
    "start_time": "2024-04-10T15:42:31.613Z"
   },
   {
    "duration": 5,
    "start_time": "2024-04-10T15:42:40.953Z"
   },
   {
    "duration": 5,
    "start_time": "2024-04-10T15:43:05.899Z"
   },
   {
    "duration": 4,
    "start_time": "2024-04-10T15:43:16.133Z"
   },
   {
    "duration": 4,
    "start_time": "2024-04-10T15:43:28.511Z"
   },
   {
    "duration": 5,
    "start_time": "2024-04-10T15:45:03.421Z"
   },
   {
    "duration": 11,
    "start_time": "2024-04-10T15:45:41.098Z"
   },
   {
    "duration": 5,
    "start_time": "2024-04-10T15:47:05.945Z"
   },
   {
    "duration": 5,
    "start_time": "2024-04-10T15:49:00.908Z"
   },
   {
    "duration": 8,
    "start_time": "2024-04-10T15:49:39.784Z"
   },
   {
    "duration": 13,
    "start_time": "2024-04-10T16:08:17.517Z"
   },
   {
    "duration": 10,
    "start_time": "2024-04-10T16:08:48.331Z"
   },
   {
    "duration": 10,
    "start_time": "2024-04-10T16:09:07.808Z"
   },
   {
    "duration": 10,
    "start_time": "2024-04-10T16:09:20.266Z"
   },
   {
    "duration": 18,
    "start_time": "2024-04-10T16:10:56.344Z"
   },
   {
    "duration": 33,
    "start_time": "2024-04-10T16:11:26.156Z"
   },
   {
    "duration": 19,
    "start_time": "2024-04-10T16:12:26.762Z"
   },
   {
    "duration": 12,
    "start_time": "2024-04-10T16:33:09.081Z"
   },
   {
    "duration": 17,
    "start_time": "2024-04-10T16:33:53.891Z"
   },
   {
    "duration": 884,
    "start_time": "2024-04-10T16:47:21.507Z"
   },
   {
    "duration": 9,
    "start_time": "2024-04-10T16:47:37.160Z"
   },
   {
    "duration": 14,
    "start_time": "2024-04-10T16:47:40.183Z"
   },
   {
    "duration": 7,
    "start_time": "2024-04-10T16:52:50.282Z"
   },
   {
    "duration": 2768,
    "start_time": "2024-04-10T16:53:46.676Z"
   },
   {
    "duration": 2320,
    "start_time": "2024-04-10T16:53:49.447Z"
   },
   {
    "duration": 1460,
    "start_time": "2024-04-10T16:53:51.769Z"
   },
   {
    "duration": 2,
    "start_time": "2024-04-10T16:53:53.230Z"
   },
   {
    "duration": 17,
    "start_time": "2024-04-10T16:53:53.234Z"
   },
   {
    "duration": 102,
    "start_time": "2024-04-10T16:53:53.252Z"
   },
   {
    "duration": 28,
    "start_time": "2024-04-10T16:53:53.356Z"
   },
   {
    "duration": 122,
    "start_time": "2024-04-10T16:53:53.385Z"
   },
   {
    "duration": 6,
    "start_time": "2024-04-10T16:53:53.508Z"
   },
   {
    "duration": 18,
    "start_time": "2024-04-10T16:53:53.515Z"
   },
   {
    "duration": 4,
    "start_time": "2024-04-10T16:53:53.535Z"
   },
   {
    "duration": 40,
    "start_time": "2024-04-10T16:53:53.541Z"
   },
   {
    "duration": 4,
    "start_time": "2024-04-10T16:53:53.583Z"
   },
   {
    "duration": 6,
    "start_time": "2024-04-10T16:53:53.589Z"
   },
   {
    "duration": 10,
    "start_time": "2024-04-10T16:53:53.596Z"
   },
   {
    "duration": 5,
    "start_time": "2024-04-10T16:53:53.607Z"
   },
   {
    "duration": 7,
    "start_time": "2024-04-10T16:53:53.613Z"
   },
   {
    "duration": 9,
    "start_time": "2024-04-10T16:53:53.621Z"
   },
   {
    "duration": 10,
    "start_time": "2024-04-10T16:53:53.631Z"
   },
   {
    "duration": 23,
    "start_time": "2024-04-10T16:53:53.643Z"
   },
   {
    "duration": 13,
    "start_time": "2024-04-10T16:53:53.667Z"
   },
   {
    "duration": 4,
    "start_time": "2024-04-10T16:53:53.682Z"
   },
   {
    "duration": 12,
    "start_time": "2024-04-10T16:53:53.687Z"
   },
   {
    "duration": 4,
    "start_time": "2024-04-10T16:53:53.700Z"
   },
   {
    "duration": 13,
    "start_time": "2024-04-10T16:53:53.705Z"
   },
   {
    "duration": 20,
    "start_time": "2024-04-10T16:53:53.719Z"
   },
   {
    "duration": 32,
    "start_time": "2024-04-10T16:53:53.740Z"
   },
   {
    "duration": 14,
    "start_time": "2024-04-10T16:53:53.774Z"
   },
   {
    "duration": 16,
    "start_time": "2024-04-10T16:53:53.789Z"
   },
   {
    "duration": 16,
    "start_time": "2024-04-10T16:53:53.806Z"
   },
   {
    "duration": 18,
    "start_time": "2024-04-10T17:11:44.025Z"
   },
   {
    "duration": 13,
    "start_time": "2024-04-10T17:14:07.576Z"
   },
   {
    "duration": 13,
    "start_time": "2024-04-10T17:14:09.048Z"
   },
   {
    "duration": 8,
    "start_time": "2024-04-10T17:18:50.720Z"
   },
   {
    "duration": 14,
    "start_time": "2024-04-10T17:18:51.571Z"
   },
   {
    "duration": 2846,
    "start_time": "2024-04-10T17:19:17.381Z"
   },
   {
    "duration": 2309,
    "start_time": "2024-04-10T17:19:20.229Z"
   },
   {
    "duration": 1480,
    "start_time": "2024-04-10T17:19:22.540Z"
   },
   {
    "duration": 3,
    "start_time": "2024-04-10T17:19:24.021Z"
   },
   {
    "duration": 10,
    "start_time": "2024-04-10T17:19:24.026Z"
   },
   {
    "duration": 100,
    "start_time": "2024-04-10T17:19:24.038Z"
   },
   {
    "duration": 29,
    "start_time": "2024-04-10T17:19:24.140Z"
   },
   {
    "duration": 106,
    "start_time": "2024-04-10T17:19:24.171Z"
   },
   {
    "duration": 4,
    "start_time": "2024-04-10T17:19:24.279Z"
   },
   {
    "duration": 35,
    "start_time": "2024-04-10T17:19:24.285Z"
   },
   {
    "duration": 15,
    "start_time": "2024-04-10T17:19:24.322Z"
   },
   {
    "duration": 10,
    "start_time": "2024-04-10T17:19:24.339Z"
   },
   {
    "duration": 14,
    "start_time": "2024-04-10T17:19:24.351Z"
   },
   {
    "duration": 11,
    "start_time": "2024-04-10T17:19:24.368Z"
   },
   {
    "duration": 10,
    "start_time": "2024-04-10T17:19:24.380Z"
   },
   {
    "duration": 7,
    "start_time": "2024-04-10T17:19:24.391Z"
   },
   {
    "duration": 25,
    "start_time": "2024-04-10T17:19:24.400Z"
   },
   {
    "duration": 32,
    "start_time": "2024-04-10T17:19:24.427Z"
   },
   {
    "duration": 11,
    "start_time": "2024-04-10T17:19:24.461Z"
   },
   {
    "duration": 21,
    "start_time": "2024-04-10T17:19:24.473Z"
   },
   {
    "duration": 26,
    "start_time": "2024-04-10T17:19:24.495Z"
   },
   {
    "duration": 4,
    "start_time": "2024-04-10T17:19:24.523Z"
   },
   {
    "duration": 18,
    "start_time": "2024-04-10T17:19:24.528Z"
   },
   {
    "duration": 8,
    "start_time": "2024-04-10T17:19:24.547Z"
   },
   {
    "duration": 14,
    "start_time": "2024-04-10T17:19:24.556Z"
   },
   {
    "duration": 21,
    "start_time": "2024-04-10T17:19:24.571Z"
   },
   {
    "duration": 23,
    "start_time": "2024-04-10T17:19:24.593Z"
   },
   {
    "duration": 15,
    "start_time": "2024-04-10T17:19:24.617Z"
   },
   {
    "duration": 11,
    "start_time": "2024-04-10T17:19:24.633Z"
   },
   {
    "duration": 23,
    "start_time": "2024-04-10T17:19:24.645Z"
   },
   {
    "duration": 17,
    "start_time": "2024-04-10T17:28:27.712Z"
   },
   {
    "duration": 22,
    "start_time": "2024-04-10T17:38:33.184Z"
   },
   {
    "duration": 5,
    "start_time": "2024-04-10T17:39:36.733Z"
   },
   {
    "duration": 4,
    "start_time": "2024-04-10T17:39:54.438Z"
   },
   {
    "duration": 4,
    "start_time": "2024-04-10T17:40:14.171Z"
   },
   {
    "duration": 18,
    "start_time": "2024-04-10T17:41:50.155Z"
   },
   {
    "duration": 1526,
    "start_time": "2024-04-10T17:43:52.861Z"
   },
   {
    "duration": 1012,
    "start_time": "2024-04-10T17:52:33.256Z"
   },
   {
    "duration": 862,
    "start_time": "2024-04-10T17:53:56.778Z"
   },
   {
    "duration": 101300,
    "start_time": "2024-04-10T17:56:21.290Z"
   },
   {
    "duration": 95,
    "start_time": "2024-04-10T18:00:32.429Z"
   },
   {
    "duration": 3479,
    "start_time": "2024-04-10T18:03:25.320Z"
   },
   {
    "duration": 153,
    "start_time": "2024-04-10T18:04:26.369Z"
   },
   {
    "duration": 350,
    "start_time": "2024-04-10T18:05:32.105Z"
   },
   {
    "duration": 363,
    "start_time": "2024-04-10T18:10:31.774Z"
   },
   {
    "duration": 963,
    "start_time": "2024-04-10T18:16:12.327Z"
   },
   {
    "duration": 6442,
    "start_time": "2024-04-10T23:00:05.529Z"
   },
   {
    "duration": 3110,
    "start_time": "2024-04-10T23:00:11.973Z"
   },
   {
    "duration": 1480,
    "start_time": "2024-04-10T23:00:15.084Z"
   },
   {
    "duration": 2,
    "start_time": "2024-04-10T23:00:16.566Z"
   },
   {
    "duration": 44,
    "start_time": "2024-04-10T23:00:16.569Z"
   },
   {
    "duration": 411,
    "start_time": "2024-04-10T23:00:16.614Z"
   },
   {
    "duration": 25,
    "start_time": "2024-04-10T23:00:17.026Z"
   },
   {
    "duration": 82,
    "start_time": "2024-04-10T23:00:17.053Z"
   },
   {
    "duration": 4,
    "start_time": "2024-04-10T23:00:17.136Z"
   },
   {
    "duration": 11,
    "start_time": "2024-04-10T23:00:17.143Z"
   },
   {
    "duration": 15,
    "start_time": "2024-04-10T23:00:17.155Z"
   },
   {
    "duration": 9,
    "start_time": "2024-04-10T23:00:17.171Z"
   },
   {
    "duration": 21,
    "start_time": "2024-04-10T23:00:17.182Z"
   },
   {
    "duration": 7,
    "start_time": "2024-04-10T23:00:17.204Z"
   },
   {
    "duration": 16,
    "start_time": "2024-04-10T23:00:17.212Z"
   },
   {
    "duration": 15,
    "start_time": "2024-04-10T23:00:17.229Z"
   },
   {
    "duration": 11,
    "start_time": "2024-04-10T23:00:17.246Z"
   },
   {
    "duration": 6,
    "start_time": "2024-04-10T23:00:17.258Z"
   },
   {
    "duration": 8,
    "start_time": "2024-04-10T23:00:17.265Z"
   },
   {
    "duration": 20,
    "start_time": "2024-04-10T23:00:17.274Z"
   },
   {
    "duration": 33,
    "start_time": "2024-04-10T23:00:17.295Z"
   },
   {
    "duration": 5,
    "start_time": "2024-04-10T23:00:17.329Z"
   },
   {
    "duration": 10,
    "start_time": "2024-04-10T23:00:17.335Z"
   },
   {
    "duration": 3,
    "start_time": "2024-04-10T23:00:17.347Z"
   },
   {
    "duration": 14,
    "start_time": "2024-04-10T23:00:17.351Z"
   },
   {
    "duration": 21,
    "start_time": "2024-04-10T23:00:17.367Z"
   },
   {
    "duration": 20,
    "start_time": "2024-04-10T23:00:17.389Z"
   },
   {
    "duration": 11,
    "start_time": "2024-04-10T23:00:17.412Z"
   },
   {
    "duration": 17,
    "start_time": "2024-04-10T23:00:17.424Z"
   },
   {
    "duration": 13,
    "start_time": "2024-04-10T23:00:17.442Z"
   },
   {
    "duration": 957,
    "start_time": "2024-04-10T23:00:17.456Z"
   },
   {
    "duration": 195,
    "start_time": "2024-04-10T23:09:40.270Z"
   },
   {
    "duration": 223,
    "start_time": "2024-04-10T23:13:03.459Z"
   },
   {
    "duration": 234,
    "start_time": "2024-04-10T23:14:49.735Z"
   },
   {
    "duration": 220,
    "start_time": "2024-04-10T23:15:06.940Z"
   },
   {
    "duration": 231,
    "start_time": "2024-04-10T23:15:21.958Z"
   },
   {
    "duration": 219,
    "start_time": "2024-04-10T23:16:23.567Z"
   },
   {
    "duration": 197,
    "start_time": "2024-04-10T23:17:53.406Z"
   },
   {
    "duration": 307,
    "start_time": "2024-04-10T23:18:21.098Z"
   },
   {
    "duration": 217,
    "start_time": "2024-04-10T23:20:27.510Z"
   },
   {
    "duration": 229,
    "start_time": "2024-04-10T23:32:29.433Z"
   },
   {
    "duration": 243,
    "start_time": "2024-04-10T23:33:06.585Z"
   },
   {
    "duration": 225,
    "start_time": "2024-04-10T23:35:52.631Z"
   },
   {
    "duration": 94,
    "start_time": "2024-04-10T23:40:42.609Z"
   },
   {
    "duration": 70,
    "start_time": "2024-04-10T23:41:16.178Z"
   },
   {
    "duration": 70,
    "start_time": "2024-04-10T23:44:47.048Z"
   },
   {
    "duration": 226,
    "start_time": "2024-04-10T23:50:39.037Z"
   },
   {
    "duration": 92,
    "start_time": "2024-04-10T23:52:57.874Z"
   },
   {
    "duration": 107,
    "start_time": "2024-04-10T23:59:22.065Z"
   },
   {
    "duration": 115,
    "start_time": "2024-04-11T00:11:05.855Z"
   },
   {
    "duration": 117,
    "start_time": "2024-04-11T00:13:28.996Z"
   },
   {
    "duration": 13,
    "start_time": "2024-04-11T00:14:57.748Z"
   },
   {
    "duration": 16,
    "start_time": "2024-04-11T00:16:58.147Z"
   },
   {
    "duration": 19,
    "start_time": "2024-04-11T01:55:03.128Z"
   },
   {
    "duration": 48,
    "start_time": "2024-04-11T01:58:21.474Z"
   },
   {
    "duration": 35,
    "start_time": "2024-04-11T01:58:47.007Z"
   },
   {
    "duration": 213,
    "start_time": "2024-04-11T02:01:03.115Z"
   },
   {
    "duration": 184,
    "start_time": "2024-04-11T02:04:08.117Z"
   },
   {
    "duration": 191,
    "start_time": "2024-04-11T02:05:36.297Z"
   },
   {
    "duration": 18,
    "start_time": "2024-04-11T02:13:59.784Z"
   },
   {
    "duration": 2762,
    "start_time": "2024-04-11T03:23:16.936Z"
   },
   {
    "duration": 2379,
    "start_time": "2024-04-11T03:23:19.700Z"
   },
   {
    "duration": 1375,
    "start_time": "2024-04-11T03:23:22.081Z"
   },
   {
    "duration": 2,
    "start_time": "2024-04-11T03:23:23.458Z"
   },
   {
    "duration": 21,
    "start_time": "2024-04-11T03:23:23.462Z"
   },
   {
    "duration": 104,
    "start_time": "2024-04-11T03:23:23.485Z"
   },
   {
    "duration": 25,
    "start_time": "2024-04-11T03:23:23.590Z"
   },
   {
    "duration": 93,
    "start_time": "2024-04-11T03:23:23.616Z"
   },
   {
    "duration": 4,
    "start_time": "2024-04-11T03:23:23.710Z"
   },
   {
    "duration": 11,
    "start_time": "2024-04-11T03:23:23.716Z"
   },
   {
    "duration": 26,
    "start_time": "2024-04-11T03:23:23.728Z"
   },
   {
    "duration": 16,
    "start_time": "2024-04-11T03:23:23.755Z"
   },
   {
    "duration": 21,
    "start_time": "2024-04-11T03:23:23.772Z"
   },
   {
    "duration": 6,
    "start_time": "2024-04-11T03:23:23.794Z"
   },
   {
    "duration": 14,
    "start_time": "2024-04-11T03:23:23.801Z"
   },
   {
    "duration": 6,
    "start_time": "2024-04-11T03:23:23.816Z"
   },
   {
    "duration": 10,
    "start_time": "2024-04-11T03:23:23.824Z"
   },
   {
    "duration": 29,
    "start_time": "2024-04-11T03:23:23.836Z"
   },
   {
    "duration": 9,
    "start_time": "2024-04-11T03:23:23.866Z"
   },
   {
    "duration": 12,
    "start_time": "2024-04-11T03:23:23.876Z"
   },
   {
    "duration": 46,
    "start_time": "2024-04-11T03:23:23.889Z"
   },
   {
    "duration": 4,
    "start_time": "2024-04-11T03:23:23.936Z"
   },
   {
    "duration": 18,
    "start_time": "2024-04-11T03:23:23.942Z"
   },
   {
    "duration": 10,
    "start_time": "2024-04-11T03:23:23.962Z"
   },
   {
    "duration": 10,
    "start_time": "2024-04-11T03:23:23.973Z"
   },
   {
    "duration": 32,
    "start_time": "2024-04-11T03:23:23.984Z"
   },
   {
    "duration": 23,
    "start_time": "2024-04-11T03:23:24.017Z"
   },
   {
    "duration": 11,
    "start_time": "2024-04-11T03:23:24.044Z"
   },
   {
    "duration": 10,
    "start_time": "2024-04-11T03:23:24.057Z"
   },
   {
    "duration": 12,
    "start_time": "2024-04-11T03:23:24.068Z"
   },
   {
    "duration": 47,
    "start_time": "2024-04-11T03:23:24.082Z"
   },
   {
    "duration": 12,
    "start_time": "2024-04-11T03:23:24.130Z"
   },
   {
    "duration": 25,
    "start_time": "2024-04-11T03:23:24.143Z"
   },
   {
    "duration": 98,
    "start_time": "2024-04-11T03:23:24.170Z"
   },
   {
    "duration": 251,
    "start_time": "2024-04-11T03:23:24.270Z"
   },
   {
    "duration": 181,
    "start_time": "2024-04-11T03:23:24.523Z"
   },
   {
    "duration": 182,
    "start_time": "2024-04-11T03:23:24.706Z"
   },
   {
    "duration": 242,
    "start_time": "2024-04-11T03:23:24.890Z"
   },
   {
    "duration": 242,
    "start_time": "2024-04-11T03:23:25.134Z"
   },
   {
    "duration": 7392,
    "start_time": "2024-04-11T15:33:25.581Z"
   },
   {
    "duration": 5815,
    "start_time": "2024-04-11T15:33:32.976Z"
   },
   {
    "duration": 1910,
    "start_time": "2024-04-11T15:33:38.793Z"
   },
   {
    "duration": 3,
    "start_time": "2024-04-11T15:33:40.706Z"
   },
   {
    "duration": 17,
    "start_time": "2024-04-11T15:33:40.710Z"
   },
   {
    "duration": 361,
    "start_time": "2024-04-11T15:33:40.730Z"
   },
   {
    "duration": 42,
    "start_time": "2024-04-11T15:33:41.094Z"
   },
   {
    "duration": 120,
    "start_time": "2024-04-11T15:33:41.137Z"
   },
   {
    "duration": 25,
    "start_time": "2024-04-11T15:33:41.259Z"
   },
   {
    "duration": 22,
    "start_time": "2024-04-11T15:33:41.287Z"
   },
   {
    "duration": 5,
    "start_time": "2024-04-11T15:33:41.311Z"
   },
   {
    "duration": 11,
    "start_time": "2024-04-11T15:33:41.317Z"
   },
   {
    "duration": 5,
    "start_time": "2024-04-11T15:33:41.329Z"
   },
   {
    "duration": 9,
    "start_time": "2024-04-11T15:33:41.335Z"
   },
   {
    "duration": 42,
    "start_time": "2024-04-11T15:33:41.346Z"
   },
   {
    "duration": 12,
    "start_time": "2024-04-11T15:33:41.390Z"
   },
   {
    "duration": 14,
    "start_time": "2024-04-11T15:33:41.404Z"
   },
   {
    "duration": 5,
    "start_time": "2024-04-11T15:33:41.420Z"
   },
   {
    "duration": 5,
    "start_time": "2024-04-11T15:33:41.426Z"
   },
   {
    "duration": 7,
    "start_time": "2024-04-11T15:33:41.433Z"
   },
   {
    "duration": 15,
    "start_time": "2024-04-11T15:33:41.441Z"
   },
   {
    "duration": 6,
    "start_time": "2024-04-11T15:33:41.479Z"
   },
   {
    "duration": 14,
    "start_time": "2024-04-11T15:33:41.486Z"
   },
   {
    "duration": 10,
    "start_time": "2024-04-11T15:33:41.501Z"
   },
   {
    "duration": 17,
    "start_time": "2024-04-11T15:33:41.513Z"
   },
   {
    "duration": 13,
    "start_time": "2024-04-11T15:33:41.532Z"
   },
   {
    "duration": 37,
    "start_time": "2024-04-11T15:33:41.546Z"
   },
   {
    "duration": 18,
    "start_time": "2024-04-11T15:33:41.586Z"
   },
   {
    "duration": 13,
    "start_time": "2024-04-11T15:33:41.605Z"
   },
   {
    "duration": 18,
    "start_time": "2024-04-11T15:33:41.620Z"
   },
   {
    "duration": 82,
    "start_time": "2024-04-11T15:33:41.639Z"
   },
   {
    "duration": 18,
    "start_time": "2024-04-11T15:33:41.723Z"
   },
   {
    "duration": 51,
    "start_time": "2024-04-11T15:33:41.743Z"
   },
   {
    "duration": 113,
    "start_time": "2024-04-11T15:33:41.796Z"
   },
   {
    "duration": 372,
    "start_time": "2024-04-11T15:33:41.910Z"
   },
   {
    "duration": 257,
    "start_time": "2024-04-11T15:33:42.284Z"
   },
   {
    "duration": 271,
    "start_time": "2024-04-11T15:33:42.543Z"
   },
   {
    "duration": 318,
    "start_time": "2024-04-11T15:33:42.815Z"
   },
   {
    "duration": 314,
    "start_time": "2024-04-11T15:33:43.135Z"
   },
   {
    "duration": 24,
    "start_time": "2024-04-11T15:41:48.576Z"
   },
   {
    "duration": 8226,
    "start_time": "2024-04-11T15:43:58.023Z"
   },
   {
    "duration": 7926,
    "start_time": "2024-04-11T15:46:05.739Z"
   },
   {
    "duration": 3649,
    "start_time": "2024-04-11T15:55:02.583Z"
   },
   {
    "duration": 3699,
    "start_time": "2024-04-11T16:01:07.952Z"
   },
   {
    "duration": 3652,
    "start_time": "2024-04-11T16:01:30.647Z"
   },
   {
    "duration": 6207,
    "start_time": "2024-04-11T20:51:19.030Z"
   },
   {
    "duration": 3065,
    "start_time": "2024-04-11T20:51:25.239Z"
   },
   {
    "duration": 1525,
    "start_time": "2024-04-11T20:51:28.306Z"
   },
   {
    "duration": 2,
    "start_time": "2024-04-11T20:51:29.833Z"
   },
   {
    "duration": 16,
    "start_time": "2024-04-11T20:51:29.836Z"
   },
   {
    "duration": 360,
    "start_time": "2024-04-11T20:51:29.854Z"
   },
   {
    "duration": 26,
    "start_time": "2024-04-11T20:51:30.216Z"
   },
   {
    "duration": 123,
    "start_time": "2024-04-11T20:51:30.243Z"
   },
   {
    "duration": 67,
    "start_time": "2024-04-11T20:51:30.368Z"
   },
   {
    "duration": 102,
    "start_time": "2024-04-11T20:51:30.437Z"
   },
   {
    "duration": 133,
    "start_time": "2024-04-11T20:51:30.541Z"
   },
   {
    "duration": 131,
    "start_time": "2024-04-11T20:51:30.676Z"
   },
   {
    "duration": 76,
    "start_time": "2024-04-11T20:51:30.808Z"
   },
   {
    "duration": 108,
    "start_time": "2024-04-11T20:51:30.885Z"
   },
   {
    "duration": 83,
    "start_time": "2024-04-11T20:51:30.994Z"
   },
   {
    "duration": 63,
    "start_time": "2024-04-11T20:51:31.078Z"
   },
   {
    "duration": 61,
    "start_time": "2024-04-11T20:51:31.142Z"
   },
   {
    "duration": 42,
    "start_time": "2024-04-11T20:51:31.204Z"
   },
   {
    "duration": 78,
    "start_time": "2024-04-11T20:51:31.247Z"
   },
   {
    "duration": 60,
    "start_time": "2024-04-11T20:51:31.326Z"
   },
   {
    "duration": 75,
    "start_time": "2024-04-11T20:51:31.387Z"
   },
   {
    "duration": 35,
    "start_time": "2024-04-11T20:51:31.463Z"
   },
   {
    "duration": 118,
    "start_time": "2024-04-11T20:51:31.499Z"
   },
   {
    "duration": 46,
    "start_time": "2024-04-11T20:51:31.619Z"
   },
   {
    "duration": 34,
    "start_time": "2024-04-11T20:51:31.666Z"
   },
   {
    "duration": 41,
    "start_time": "2024-04-11T20:51:31.701Z"
   },
   {
    "duration": 31,
    "start_time": "2024-04-11T20:51:31.743Z"
   },
   {
    "duration": 37,
    "start_time": "2024-04-11T20:51:31.778Z"
   },
   {
    "duration": 13,
    "start_time": "2024-04-11T20:51:31.817Z"
   },
   {
    "duration": 21,
    "start_time": "2024-04-11T20:51:31.832Z"
   },
   {
    "duration": 37,
    "start_time": "2024-04-11T20:51:31.854Z"
   },
   {
    "duration": 15,
    "start_time": "2024-04-11T20:51:31.892Z"
   },
   {
    "duration": 30,
    "start_time": "2024-04-11T20:51:31.908Z"
   },
   {
    "duration": 139,
    "start_time": "2024-04-11T20:51:31.939Z"
   },
   {
    "duration": 187,
    "start_time": "2024-04-11T20:51:32.080Z"
   },
   {
    "duration": 172,
    "start_time": "2024-04-11T20:51:32.268Z"
   },
   {
    "duration": 179,
    "start_time": "2024-04-11T20:51:32.441Z"
   },
   {
    "duration": 227,
    "start_time": "2024-04-11T20:51:32.621Z"
   },
   {
    "duration": 231,
    "start_time": "2024-04-11T20:51:32.850Z"
   },
   {
    "duration": 2626,
    "start_time": "2024-04-11T20:51:33.082Z"
   },
   {
    "duration": 2857,
    "start_time": "2024-04-11T22:27:40.058Z"
   },
   {
    "duration": 2345,
    "start_time": "2024-04-11T22:27:42.917Z"
   },
   {
    "duration": 1343,
    "start_time": "2024-04-11T22:27:45.264Z"
   },
   {
    "duration": 2,
    "start_time": "2024-04-11T22:27:46.609Z"
   },
   {
    "duration": 152,
    "start_time": "2024-04-11T22:27:46.612Z"
   },
   {
    "duration": 124,
    "start_time": "2024-04-11T22:27:46.765Z"
   },
   {
    "duration": 25,
    "start_time": "2024-04-11T22:27:46.890Z"
   },
   {
    "duration": 95,
    "start_time": "2024-04-11T22:27:46.916Z"
   },
   {
    "duration": 5,
    "start_time": "2024-04-11T22:27:47.012Z"
   },
   {
    "duration": 18,
    "start_time": "2024-04-11T22:27:47.020Z"
   },
   {
    "duration": 5,
    "start_time": "2024-04-11T22:27:47.039Z"
   },
   {
    "duration": 19,
    "start_time": "2024-04-11T22:27:47.045Z"
   },
   {
    "duration": 4,
    "start_time": "2024-04-11T22:27:47.066Z"
   },
   {
    "duration": 8,
    "start_time": "2024-04-11T22:27:47.071Z"
   },
   {
    "duration": 25,
    "start_time": "2024-04-11T22:27:47.081Z"
   },
   {
    "duration": 5,
    "start_time": "2024-04-11T22:27:47.108Z"
   },
   {
    "duration": 9,
    "start_time": "2024-04-11T22:27:47.114Z"
   },
   {
    "duration": 5,
    "start_time": "2024-04-11T22:27:47.125Z"
   },
   {
    "duration": 14,
    "start_time": "2024-04-11T22:27:47.131Z"
   },
   {
    "duration": 5,
    "start_time": "2024-04-11T22:27:47.147Z"
   },
   {
    "duration": 23,
    "start_time": "2024-04-11T22:27:47.153Z"
   },
   {
    "duration": 9,
    "start_time": "2024-04-11T22:27:47.177Z"
   },
   {
    "duration": 11,
    "start_time": "2024-04-11T22:27:47.187Z"
   },
   {
    "duration": 4,
    "start_time": "2024-04-11T22:27:47.202Z"
   },
   {
    "duration": 8,
    "start_time": "2024-04-11T22:27:47.207Z"
   },
   {
    "duration": 15,
    "start_time": "2024-04-11T22:27:47.216Z"
   },
   {
    "duration": 35,
    "start_time": "2024-04-11T22:27:47.232Z"
   },
   {
    "duration": 12,
    "start_time": "2024-04-11T22:27:47.270Z"
   },
   {
    "duration": 8,
    "start_time": "2024-04-11T22:27:47.283Z"
   },
   {
    "duration": 20,
    "start_time": "2024-04-11T22:27:47.292Z"
   },
   {
    "duration": 38,
    "start_time": "2024-04-11T22:27:47.313Z"
   },
   {
    "duration": 11,
    "start_time": "2024-04-11T22:27:47.352Z"
   },
   {
    "duration": 24,
    "start_time": "2024-04-11T22:27:47.364Z"
   },
   {
    "duration": 78,
    "start_time": "2024-04-11T22:27:47.401Z"
   },
   {
    "duration": 251,
    "start_time": "2024-04-11T22:27:47.480Z"
   },
   {
    "duration": 175,
    "start_time": "2024-04-11T22:27:47.732Z"
   },
   {
    "duration": 178,
    "start_time": "2024-04-11T22:27:47.908Z"
   },
   {
    "duration": 234,
    "start_time": "2024-04-11T22:27:48.088Z"
   },
   {
    "duration": 246,
    "start_time": "2024-04-11T22:27:48.324Z"
   },
   {
    "duration": 2493,
    "start_time": "2024-04-11T22:27:48.571Z"
   },
   {
    "duration": 89,
    "start_time": "2024-04-11T23:54:55.339Z"
   },
   {
    "duration": 2509,
    "start_time": "2024-04-12T00:34:20.970Z"
   },
   {
    "duration": 2830,
    "start_time": "2024-04-12T00:35:18.505Z"
   },
   {
    "duration": 2335,
    "start_time": "2024-04-12T00:35:21.338Z"
   },
   {
    "duration": 1402,
    "start_time": "2024-04-12T00:35:23.675Z"
   },
   {
    "duration": 2,
    "start_time": "2024-04-12T00:35:25.080Z"
   },
   {
    "duration": 9,
    "start_time": "2024-04-12T00:35:25.083Z"
   },
   {
    "duration": 98,
    "start_time": "2024-04-12T00:35:25.093Z"
   },
   {
    "duration": 24,
    "start_time": "2024-04-12T00:35:25.193Z"
   },
   {
    "duration": 95,
    "start_time": "2024-04-12T00:35:25.218Z"
   },
   {
    "duration": 4,
    "start_time": "2024-04-12T00:35:25.314Z"
   },
   {
    "duration": 11,
    "start_time": "2024-04-12T00:35:25.321Z"
   },
   {
    "duration": 4,
    "start_time": "2024-04-12T00:35:25.334Z"
   },
   {
    "duration": 7,
    "start_time": "2024-04-12T00:35:25.339Z"
   },
   {
    "duration": 3,
    "start_time": "2024-04-12T00:35:25.348Z"
   },
   {
    "duration": 6,
    "start_time": "2024-04-12T00:35:25.352Z"
   },
   {
    "duration": 49,
    "start_time": "2024-04-12T00:35:25.359Z"
   },
   {
    "duration": 21,
    "start_time": "2024-04-12T00:35:25.409Z"
   },
   {
    "duration": 13,
    "start_time": "2024-04-12T00:35:25.431Z"
   },
   {
    "duration": 6,
    "start_time": "2024-04-12T00:35:25.445Z"
   },
   {
    "duration": 4,
    "start_time": "2024-04-12T00:35:25.452Z"
   },
   {
    "duration": 4,
    "start_time": "2024-04-12T00:35:25.458Z"
   },
   {
    "duration": 30,
    "start_time": "2024-04-12T00:35:25.463Z"
   },
   {
    "duration": 4,
    "start_time": "2024-04-12T00:35:25.494Z"
   },
   {
    "duration": 10,
    "start_time": "2024-04-12T00:35:25.499Z"
   },
   {
    "duration": 3,
    "start_time": "2024-04-12T00:35:25.510Z"
   },
   {
    "duration": 4,
    "start_time": "2024-04-12T00:35:25.515Z"
   },
   {
    "duration": 11,
    "start_time": "2024-04-12T00:35:25.520Z"
   },
   {
    "duration": 18,
    "start_time": "2024-04-12T00:35:25.533Z"
   },
   {
    "duration": 12,
    "start_time": "2024-04-12T00:35:25.555Z"
   },
   {
    "duration": 36,
    "start_time": "2024-04-12T00:35:25.569Z"
   },
   {
    "duration": 14,
    "start_time": "2024-04-12T00:35:25.606Z"
   },
   {
    "duration": 36,
    "start_time": "2024-04-12T00:35:25.622Z"
   },
   {
    "duration": 12,
    "start_time": "2024-04-12T00:35:25.659Z"
   },
   {
    "duration": 45,
    "start_time": "2024-04-12T00:35:25.672Z"
   },
   {
    "duration": 84,
    "start_time": "2024-04-12T00:35:25.719Z"
   },
   {
    "duration": 241,
    "start_time": "2024-04-12T00:35:25.804Z"
   },
   {
    "duration": 172,
    "start_time": "2024-04-12T00:35:26.046Z"
   },
   {
    "duration": 182,
    "start_time": "2024-04-12T00:35:26.219Z"
   },
   {
    "duration": 234,
    "start_time": "2024-04-12T00:35:26.403Z"
   },
   {
    "duration": 244,
    "start_time": "2024-04-12T00:35:26.638Z"
   },
   {
    "duration": 2517,
    "start_time": "2024-04-12T00:35:26.883Z"
   },
   {
    "duration": 3,
    "start_time": "2024-04-12T00:35:29.401Z"
   },
   {
    "duration": 16,
    "start_time": "2024-04-12T00:41:59.758Z"
   },
   {
    "duration": 10,
    "start_time": "2024-04-12T00:47:16.591Z"
   },
   {
    "duration": 101,
    "start_time": "2024-04-12T00:47:54.761Z"
   },
   {
    "duration": 2776,
    "start_time": "2024-04-12T00:49:01.265Z"
   },
   {
    "duration": 2319,
    "start_time": "2024-04-12T00:49:04.043Z"
   },
   {
    "duration": 1339,
    "start_time": "2024-04-12T00:49:06.364Z"
   },
   {
    "duration": 2,
    "start_time": "2024-04-12T00:49:07.705Z"
   },
   {
    "duration": 7,
    "start_time": "2024-04-12T00:49:07.708Z"
   },
   {
    "duration": 96,
    "start_time": "2024-04-12T00:49:07.717Z"
   },
   {
    "duration": 24,
    "start_time": "2024-04-12T00:49:07.814Z"
   },
   {
    "duration": 85,
    "start_time": "2024-04-12T00:49:07.840Z"
   },
   {
    "duration": 3,
    "start_time": "2024-04-12T00:49:07.926Z"
   },
   {
    "duration": 15,
    "start_time": "2024-04-12T00:49:07.931Z"
   },
   {
    "duration": 3,
    "start_time": "2024-04-12T00:49:07.947Z"
   },
   {
    "duration": 8,
    "start_time": "2024-04-12T00:49:07.951Z"
   },
   {
    "duration": 3,
    "start_time": "2024-04-12T00:49:07.961Z"
   },
   {
    "duration": 15,
    "start_time": "2024-04-12T00:49:07.965Z"
   },
   {
    "duration": 27,
    "start_time": "2024-04-12T00:49:07.981Z"
   },
   {
    "duration": 5,
    "start_time": "2024-04-12T00:49:08.009Z"
   },
   {
    "duration": 6,
    "start_time": "2024-04-12T00:49:08.015Z"
   },
   {
    "duration": 6,
    "start_time": "2024-04-12T00:49:08.022Z"
   },
   {
    "duration": 4,
    "start_time": "2024-04-12T00:49:08.029Z"
   },
   {
    "duration": 8,
    "start_time": "2024-04-12T00:49:08.034Z"
   },
   {
    "duration": 11,
    "start_time": "2024-04-12T00:49:08.043Z"
   },
   {
    "duration": 4,
    "start_time": "2024-04-12T00:49:08.055Z"
   },
   {
    "duration": 14,
    "start_time": "2024-04-12T00:49:08.060Z"
   },
   {
    "duration": 4,
    "start_time": "2024-04-12T00:49:08.075Z"
   },
   {
    "duration": 22,
    "start_time": "2024-04-12T00:49:08.080Z"
   },
   {
    "duration": 5,
    "start_time": "2024-04-12T00:49:08.103Z"
   },
   {
    "duration": 20,
    "start_time": "2024-04-12T00:49:08.109Z"
   },
   {
    "duration": 12,
    "start_time": "2024-04-12T00:49:08.132Z"
   },
   {
    "duration": 13,
    "start_time": "2024-04-12T00:49:08.145Z"
   },
   {
    "duration": 12,
    "start_time": "2024-04-12T00:49:08.159Z"
   },
   {
    "duration": 59,
    "start_time": "2024-04-12T00:49:08.173Z"
   },
   {
    "duration": 13,
    "start_time": "2024-04-12T00:49:08.233Z"
   },
   {
    "duration": 20,
    "start_time": "2024-04-12T00:49:08.247Z"
   },
   {
    "duration": 104,
    "start_time": "2024-04-12T00:49:08.268Z"
   },
   {
    "duration": 254,
    "start_time": "2024-04-12T00:49:08.373Z"
   },
   {
    "duration": 175,
    "start_time": "2024-04-12T00:49:08.628Z"
   },
   {
    "duration": 175,
    "start_time": "2024-04-12T00:49:08.804Z"
   },
   {
    "duration": 232,
    "start_time": "2024-04-12T00:49:08.980Z"
   },
   {
    "duration": 235,
    "start_time": "2024-04-12T00:49:09.213Z"
   },
   {
    "duration": 15,
    "start_time": "2024-04-12T00:49:09.449Z"
   },
   {
    "duration": 2515,
    "start_time": "2024-04-12T00:49:09.465Z"
   },
   {
    "duration": 3,
    "start_time": "2024-04-12T00:49:11.981Z"
   },
   {
    "duration": 17,
    "start_time": "2024-04-12T00:51:20.714Z"
   },
   {
    "duration": 20,
    "start_time": "2024-04-12T00:51:31.680Z"
   },
   {
    "duration": 108,
    "start_time": "2024-04-12T00:52:26.535Z"
   },
   {
    "duration": 2799,
    "start_time": "2024-04-12T00:52:46.532Z"
   },
   {
    "duration": 2420,
    "start_time": "2024-04-12T00:52:49.333Z"
   },
   {
    "duration": 1339,
    "start_time": "2024-04-12T00:52:51.755Z"
   },
   {
    "duration": 2,
    "start_time": "2024-04-12T00:52:53.096Z"
   },
   {
    "duration": 5,
    "start_time": "2024-04-12T00:52:53.100Z"
   },
   {
    "duration": 112,
    "start_time": "2024-04-12T00:52:53.106Z"
   },
   {
    "duration": 27,
    "start_time": "2024-04-12T00:52:53.220Z"
   },
   {
    "duration": 91,
    "start_time": "2024-04-12T00:52:53.248Z"
   },
   {
    "duration": 4,
    "start_time": "2024-04-12T00:52:53.340Z"
   },
   {
    "duration": 28,
    "start_time": "2024-04-12T00:52:53.346Z"
   },
   {
    "duration": 5,
    "start_time": "2024-04-12T00:52:53.376Z"
   },
   {
    "duration": 23,
    "start_time": "2024-04-12T00:52:53.382Z"
   },
   {
    "duration": 4,
    "start_time": "2024-04-12T00:52:53.406Z"
   },
   {
    "duration": 11,
    "start_time": "2024-04-12T00:52:53.411Z"
   },
   {
    "duration": 18,
    "start_time": "2024-04-12T00:52:53.423Z"
   },
   {
    "duration": 7,
    "start_time": "2024-04-12T00:52:53.442Z"
   },
   {
    "duration": 15,
    "start_time": "2024-04-12T00:52:53.450Z"
   },
   {
    "duration": 28,
    "start_time": "2024-04-12T00:52:53.467Z"
   },
   {
    "duration": 47,
    "start_time": "2024-04-12T00:52:53.497Z"
   },
   {
    "duration": 33,
    "start_time": "2024-04-12T00:52:53.545Z"
   },
   {
    "duration": 33,
    "start_time": "2024-04-12T00:52:53.579Z"
   },
   {
    "duration": 19,
    "start_time": "2024-04-12T00:52:53.613Z"
   },
   {
    "duration": 26,
    "start_time": "2024-04-12T00:52:53.633Z"
   },
   {
    "duration": 21,
    "start_time": "2024-04-12T00:52:53.661Z"
   },
   {
    "duration": 18,
    "start_time": "2024-04-12T00:52:53.683Z"
   },
   {
    "duration": 16,
    "start_time": "2024-04-12T00:52:53.702Z"
   },
   {
    "duration": 38,
    "start_time": "2024-04-12T00:52:53.719Z"
   },
   {
    "duration": 45,
    "start_time": "2024-04-12T00:52:53.760Z"
   },
   {
    "duration": 17,
    "start_time": "2024-04-12T00:52:53.806Z"
   },
   {
    "duration": 38,
    "start_time": "2024-04-12T00:52:53.825Z"
   },
   {
    "duration": 44,
    "start_time": "2024-04-12T00:52:53.864Z"
   },
   {
    "duration": 13,
    "start_time": "2024-04-12T00:52:53.909Z"
   },
   {
    "duration": 24,
    "start_time": "2024-04-12T00:52:53.924Z"
   },
   {
    "duration": 90,
    "start_time": "2024-04-12T00:52:53.949Z"
   },
   {
    "duration": 252,
    "start_time": "2024-04-12T00:52:54.041Z"
   },
   {
    "duration": 178,
    "start_time": "2024-04-12T00:52:54.295Z"
   },
   {
    "duration": 193,
    "start_time": "2024-04-12T00:52:54.475Z"
   },
   {
    "duration": 264,
    "start_time": "2024-04-12T00:52:54.669Z"
   },
   {
    "duration": 245,
    "start_time": "2024-04-12T00:52:54.935Z"
   },
   {
    "duration": 20,
    "start_time": "2024-04-12T00:52:55.182Z"
   },
   {
    "duration": 18,
    "start_time": "2024-04-12T00:52:55.204Z"
   },
   {
    "duration": 2548,
    "start_time": "2024-04-12T00:52:55.224Z"
   },
   {
    "duration": 3,
    "start_time": "2024-04-12T00:52:57.773Z"
   },
   {
    "duration": 12,
    "start_time": "2024-04-12T00:54:10.845Z"
   },
   {
    "duration": 2800,
    "start_time": "2024-04-12T01:59:15.761Z"
   },
   {
    "duration": 2387,
    "start_time": "2024-04-12T01:59:18.563Z"
   },
   {
    "duration": 1279,
    "start_time": "2024-04-12T01:59:20.952Z"
   },
   {
    "duration": 2,
    "start_time": "2024-04-12T01:59:22.233Z"
   },
   {
    "duration": 8,
    "start_time": "2024-04-12T01:59:22.236Z"
   },
   {
    "duration": 100,
    "start_time": "2024-04-12T01:59:22.245Z"
   },
   {
    "duration": 28,
    "start_time": "2024-04-12T01:59:22.346Z"
   },
   {
    "duration": 83,
    "start_time": "2024-04-12T01:59:22.376Z"
   },
   {
    "duration": 4,
    "start_time": "2024-04-12T01:59:22.460Z"
   },
   {
    "duration": 14,
    "start_time": "2024-04-12T01:59:22.466Z"
   },
   {
    "duration": 23,
    "start_time": "2024-04-12T01:59:22.481Z"
   },
   {
    "duration": 7,
    "start_time": "2024-04-12T01:59:22.505Z"
   },
   {
    "duration": 4,
    "start_time": "2024-04-12T01:59:22.513Z"
   },
   {
    "duration": 9,
    "start_time": "2024-04-12T01:59:22.518Z"
   },
   {
    "duration": 10,
    "start_time": "2024-04-12T01:59:22.528Z"
   },
   {
    "duration": 8,
    "start_time": "2024-04-12T01:59:22.540Z"
   },
   {
    "duration": 7,
    "start_time": "2024-04-12T01:59:22.549Z"
   },
   {
    "duration": 8,
    "start_time": "2024-04-12T01:59:22.557Z"
   },
   {
    "duration": 7,
    "start_time": "2024-04-12T01:59:22.566Z"
   },
   {
    "duration": 5,
    "start_time": "2024-04-12T01:59:22.574Z"
   },
   {
    "duration": 27,
    "start_time": "2024-04-12T01:59:22.580Z"
   },
   {
    "duration": 4,
    "start_time": "2024-04-12T01:59:22.609Z"
   },
   {
    "duration": 12,
    "start_time": "2024-04-12T01:59:22.615Z"
   },
   {
    "duration": 4,
    "start_time": "2024-04-12T01:59:22.629Z"
   },
   {
    "duration": 13,
    "start_time": "2024-04-12T01:59:22.635Z"
   },
   {
    "duration": 14,
    "start_time": "2024-04-12T01:59:22.650Z"
   },
   {
    "duration": 19,
    "start_time": "2024-04-12T01:59:22.665Z"
   },
   {
    "duration": 13,
    "start_time": "2024-04-12T01:59:22.704Z"
   },
   {
    "duration": 9,
    "start_time": "2024-04-12T01:59:22.718Z"
   },
   {
    "duration": 12,
    "start_time": "2024-04-12T01:59:22.729Z"
   },
   {
    "duration": 42,
    "start_time": "2024-04-12T01:59:22.742Z"
   },
   {
    "duration": 28,
    "start_time": "2024-04-12T01:59:22.785Z"
   },
   {
    "duration": 18,
    "start_time": "2024-04-12T01:59:22.814Z"
   },
   {
    "duration": 95,
    "start_time": "2024-04-12T01:59:22.834Z"
   },
   {
    "duration": 248,
    "start_time": "2024-04-12T01:59:22.930Z"
   },
   {
    "duration": 180,
    "start_time": "2024-04-12T01:59:23.179Z"
   },
   {
    "duration": 195,
    "start_time": "2024-04-12T01:59:23.360Z"
   },
   {
    "duration": 234,
    "start_time": "2024-04-12T01:59:23.556Z"
   },
   {
    "duration": 229,
    "start_time": "2024-04-12T01:59:23.792Z"
   },
   {
    "duration": 14,
    "start_time": "2024-04-12T01:59:24.022Z"
   },
   {
    "duration": 11,
    "start_time": "2024-04-12T01:59:24.037Z"
   },
   {
    "duration": 2519,
    "start_time": "2024-04-12T01:59:24.049Z"
   },
   {
    "duration": 10,
    "start_time": "2024-04-12T01:59:26.570Z"
   },
   {
    "duration": 6,
    "start_time": "2024-04-12T01:59:26.582Z"
   },
   {
    "duration": 172,
    "start_time": "2024-04-12T01:59:26.589Z"
   },
   {
    "duration": 5073,
    "start_time": "2024-04-12T02:00:50.791Z"
   },
   {
    "duration": 6465,
    "start_time": "2024-04-12T14:55:09.531Z"
   },
   {
    "duration": 3033,
    "start_time": "2024-04-12T14:55:15.998Z"
   },
   {
    "duration": 1679,
    "start_time": "2024-04-12T14:55:19.033Z"
   },
   {
    "duration": 3,
    "start_time": "2024-04-12T14:55:20.714Z"
   },
   {
    "duration": 13,
    "start_time": "2024-04-12T14:55:20.718Z"
   },
   {
    "duration": 354,
    "start_time": "2024-04-12T14:55:20.732Z"
   },
   {
    "duration": 29,
    "start_time": "2024-04-12T14:55:21.088Z"
   },
   {
    "duration": 90,
    "start_time": "2024-04-12T14:55:21.118Z"
   },
   {
    "duration": 5,
    "start_time": "2024-04-12T14:55:21.210Z"
   },
   {
    "duration": 33,
    "start_time": "2024-04-12T14:55:21.217Z"
   },
   {
    "duration": 20,
    "start_time": "2024-04-12T14:55:21.251Z"
   },
   {
    "duration": 12,
    "start_time": "2024-04-12T14:55:21.272Z"
   },
   {
    "duration": 4,
    "start_time": "2024-04-12T14:55:21.285Z"
   },
   {
    "duration": 8,
    "start_time": "2024-04-12T14:55:21.291Z"
   },
   {
    "duration": 12,
    "start_time": "2024-04-12T14:55:21.300Z"
   },
   {
    "duration": 40,
    "start_time": "2024-04-12T14:55:21.313Z"
   },
   {
    "duration": 11,
    "start_time": "2024-04-12T14:55:21.355Z"
   },
   {
    "duration": 13,
    "start_time": "2024-04-12T14:55:21.367Z"
   },
   {
    "duration": 13,
    "start_time": "2024-04-12T14:55:21.381Z"
   },
   {
    "duration": 9,
    "start_time": "2024-04-12T14:55:21.395Z"
   },
   {
    "duration": 24,
    "start_time": "2024-04-12T14:55:21.405Z"
   },
   {
    "duration": 6,
    "start_time": "2024-04-12T14:55:21.431Z"
   },
   {
    "duration": 14,
    "start_time": "2024-04-12T14:55:21.438Z"
   },
   {
    "duration": 4,
    "start_time": "2024-04-12T14:55:21.454Z"
   },
   {
    "duration": 23,
    "start_time": "2024-04-12T14:55:21.459Z"
   },
   {
    "duration": 11,
    "start_time": "2024-04-12T14:55:21.484Z"
   },
   {
    "duration": 22,
    "start_time": "2024-04-12T14:55:21.496Z"
   },
   {
    "duration": 14,
    "start_time": "2024-04-12T14:55:21.521Z"
   },
   {
    "duration": 12,
    "start_time": "2024-04-12T14:55:21.537Z"
   },
   {
    "duration": 29,
    "start_time": "2024-04-12T14:55:21.550Z"
   },
   {
    "duration": 49,
    "start_time": "2024-04-12T14:55:21.580Z"
   },
   {
    "duration": 14,
    "start_time": "2024-04-12T14:55:21.631Z"
   },
   {
    "duration": 40,
    "start_time": "2024-04-12T14:55:21.646Z"
   },
   {
    "duration": 110,
    "start_time": "2024-04-12T14:55:21.688Z"
   },
   {
    "duration": 301,
    "start_time": "2024-04-12T14:55:21.799Z"
   },
   {
    "duration": 208,
    "start_time": "2024-04-12T14:55:22.102Z"
   },
   {
    "duration": 238,
    "start_time": "2024-04-12T14:55:22.312Z"
   },
   {
    "duration": 288,
    "start_time": "2024-04-12T14:55:22.552Z"
   },
   {
    "duration": 277,
    "start_time": "2024-04-12T14:55:22.841Z"
   },
   {
    "duration": 14,
    "start_time": "2024-04-12T14:55:23.120Z"
   },
   {
    "duration": 30,
    "start_time": "2024-04-12T14:55:23.136Z"
   },
   {
    "duration": 3205,
    "start_time": "2024-04-12T14:55:23.167Z"
   },
   {
    "duration": 12,
    "start_time": "2024-04-12T14:55:26.374Z"
   },
   {
    "duration": 46,
    "start_time": "2024-04-12T14:55:26.388Z"
   },
   {
    "duration": 5062,
    "start_time": "2024-04-12T14:55:26.436Z"
   },
   {
    "duration": 4,
    "start_time": "2024-04-12T14:58:16.202Z"
   },
   {
    "duration": 25,
    "start_time": "2024-04-12T14:59:36.022Z"
   },
   {
    "duration": 2888,
    "start_time": "2024-04-12T15:12:45.895Z"
   },
   {
    "duration": 2400,
    "start_time": "2024-04-12T15:12:48.786Z"
   },
   {
    "duration": 1619,
    "start_time": "2024-04-12T15:12:51.188Z"
   },
   {
    "duration": 4,
    "start_time": "2024-04-12T15:12:52.809Z"
   },
   {
    "duration": 5,
    "start_time": "2024-04-12T15:12:52.816Z"
   },
   {
    "duration": 112,
    "start_time": "2024-04-12T15:12:52.822Z"
   },
   {
    "duration": 51,
    "start_time": "2024-04-12T15:12:52.936Z"
   },
   {
    "duration": 123,
    "start_time": "2024-04-12T15:12:52.988Z"
   },
   {
    "duration": 5,
    "start_time": "2024-04-12T15:12:53.113Z"
   },
   {
    "duration": 48,
    "start_time": "2024-04-12T15:12:53.120Z"
   },
   {
    "duration": 6,
    "start_time": "2024-04-12T15:12:53.170Z"
   },
   {
    "duration": 14,
    "start_time": "2024-04-12T15:12:53.178Z"
   },
   {
    "duration": 5,
    "start_time": "2024-04-12T15:12:53.195Z"
   },
   {
    "duration": 22,
    "start_time": "2024-04-12T15:12:53.205Z"
   },
   {
    "duration": 35,
    "start_time": "2024-04-12T15:12:53.230Z"
   },
   {
    "duration": 8,
    "start_time": "2024-04-12T15:12:53.267Z"
   },
   {
    "duration": 7,
    "start_time": "2024-04-12T15:12:53.277Z"
   },
   {
    "duration": 5,
    "start_time": "2024-04-12T15:12:53.286Z"
   },
   {
    "duration": 5,
    "start_time": "2024-04-12T15:12:53.292Z"
   },
   {
    "duration": 8,
    "start_time": "2024-04-12T15:12:53.299Z"
   },
   {
    "duration": 24,
    "start_time": "2024-04-12T15:12:53.308Z"
   },
   {
    "duration": 32,
    "start_time": "2024-04-12T15:12:53.334Z"
   },
   {
    "duration": 13,
    "start_time": "2024-04-12T15:12:53.368Z"
   },
   {
    "duration": 5,
    "start_time": "2024-04-12T15:12:53.383Z"
   },
   {
    "duration": 19,
    "start_time": "2024-04-12T15:12:53.389Z"
   },
   {
    "duration": 15,
    "start_time": "2024-04-12T15:12:53.410Z"
   },
   {
    "duration": 46,
    "start_time": "2024-04-12T15:12:53.427Z"
   },
   {
    "duration": 14,
    "start_time": "2024-04-12T15:12:53.475Z"
   },
   {
    "duration": 11,
    "start_time": "2024-04-12T15:12:53.491Z"
   },
   {
    "duration": 17,
    "start_time": "2024-04-12T15:12:53.504Z"
   },
   {
    "duration": 74,
    "start_time": "2024-04-12T15:12:53.523Z"
   },
   {
    "duration": 15,
    "start_time": "2024-04-12T15:12:53.599Z"
   },
   {
    "duration": 30,
    "start_time": "2024-04-12T15:12:53.616Z"
   },
   {
    "duration": 102,
    "start_time": "2024-04-12T15:12:53.665Z"
   },
   {
    "duration": 305,
    "start_time": "2024-04-12T15:12:53.768Z"
   },
   {
    "duration": 227,
    "start_time": "2024-04-12T15:12:54.074Z"
   },
   {
    "duration": 257,
    "start_time": "2024-04-12T15:12:54.303Z"
   },
   {
    "duration": 292,
    "start_time": "2024-04-12T15:12:54.565Z"
   },
   {
    "duration": 280,
    "start_time": "2024-04-12T15:12:54.859Z"
   },
   {
    "duration": 24,
    "start_time": "2024-04-12T15:12:55.141Z"
   },
   {
    "duration": 12,
    "start_time": "2024-04-12T15:12:55.168Z"
   },
   {
    "duration": 3279,
    "start_time": "2024-04-12T15:12:55.181Z"
   },
   {
    "duration": 10,
    "start_time": "2024-04-12T15:12:58.461Z"
   },
   {
    "duration": 124,
    "start_time": "2024-04-12T15:12:58.473Z"
   },
   {
    "duration": 0,
    "start_time": "2024-04-12T15:12:58.599Z"
   },
   {
    "duration": 0,
    "start_time": "2024-04-12T15:12:58.601Z"
   },
   {
    "duration": 11,
    "start_time": "2024-04-12T15:22:54.321Z"
   },
   {
    "duration": 3,
    "start_time": "2024-04-12T15:22:55.162Z"
   },
   {
    "duration": 11018,
    "start_time": "2024-04-12T15:22:56.339Z"
   },
   {
    "duration": 11,
    "start_time": "2024-04-12T15:23:13.693Z"
   },
   {
    "duration": 17,
    "start_time": "2024-04-12T15:29:54.768Z"
   },
   {
    "duration": 5,
    "start_time": "2024-04-12T15:35:58.063Z"
   },
   {
    "duration": 2789,
    "start_time": "2024-04-12T15:38:10.116Z"
   },
   {
    "duration": 2339,
    "start_time": "2024-04-12T15:38:12.907Z"
   },
   {
    "duration": 1619,
    "start_time": "2024-04-12T15:38:15.248Z"
   },
   {
    "duration": 3,
    "start_time": "2024-04-12T15:38:16.869Z"
   },
   {
    "duration": 12,
    "start_time": "2024-04-12T15:38:16.874Z"
   },
   {
    "duration": 124,
    "start_time": "2024-04-12T15:38:16.887Z"
   },
   {
    "duration": 28,
    "start_time": "2024-04-12T15:38:17.013Z"
   },
   {
    "duration": 84,
    "start_time": "2024-04-12T15:38:17.043Z"
   },
   {
    "duration": 5,
    "start_time": "2024-04-12T15:38:17.128Z"
   },
   {
    "duration": 39,
    "start_time": "2024-04-12T15:38:17.135Z"
   },
   {
    "duration": 4,
    "start_time": "2024-04-12T15:38:17.176Z"
   },
   {
    "duration": 15,
    "start_time": "2024-04-12T15:38:17.182Z"
   },
   {
    "duration": 19,
    "start_time": "2024-04-12T15:38:17.199Z"
   },
   {
    "duration": 8,
    "start_time": "2024-04-12T15:38:17.220Z"
   },
   {
    "duration": 16,
    "start_time": "2024-04-12T15:38:17.230Z"
   },
   {
    "duration": 6,
    "start_time": "2024-04-12T15:38:17.247Z"
   },
   {
    "duration": 14,
    "start_time": "2024-04-12T15:38:17.254Z"
   },
   {
    "duration": 4,
    "start_time": "2024-04-12T15:38:17.269Z"
   },
   {
    "duration": 8,
    "start_time": "2024-04-12T15:38:17.274Z"
   },
   {
    "duration": 13,
    "start_time": "2024-04-12T15:38:17.284Z"
   },
   {
    "duration": 27,
    "start_time": "2024-04-12T15:38:17.298Z"
   },
   {
    "duration": 15,
    "start_time": "2024-04-12T15:38:17.327Z"
   },
   {
    "duration": 15,
    "start_time": "2024-04-12T15:38:17.344Z"
   },
   {
    "duration": 4,
    "start_time": "2024-04-12T15:38:17.360Z"
   },
   {
    "duration": 18,
    "start_time": "2024-04-12T15:38:17.366Z"
   },
   {
    "duration": 13,
    "start_time": "2024-04-12T15:38:17.385Z"
   },
   {
    "duration": 24,
    "start_time": "2024-04-12T15:38:17.400Z"
   },
   {
    "duration": 16,
    "start_time": "2024-04-12T15:38:17.427Z"
   },
   {
    "duration": 35,
    "start_time": "2024-04-12T15:38:17.444Z"
   },
   {
    "duration": 32,
    "start_time": "2024-04-12T15:38:17.480Z"
   },
   {
    "duration": 56,
    "start_time": "2024-04-12T15:38:17.514Z"
   },
   {
    "duration": 13,
    "start_time": "2024-04-12T15:38:17.572Z"
   },
   {
    "duration": 25,
    "start_time": "2024-04-12T15:38:17.587Z"
   },
   {
    "duration": 118,
    "start_time": "2024-04-12T15:38:17.613Z"
   },
   {
    "duration": 326,
    "start_time": "2024-04-12T15:38:17.733Z"
   },
   {
    "duration": 206,
    "start_time": "2024-04-12T15:38:18.061Z"
   },
   {
    "duration": 238,
    "start_time": "2024-04-12T15:38:18.269Z"
   },
   {
    "duration": 295,
    "start_time": "2024-04-12T15:38:18.508Z"
   },
   {
    "duration": 314,
    "start_time": "2024-04-12T15:38:18.805Z"
   },
   {
    "duration": 14,
    "start_time": "2024-04-12T15:38:19.121Z"
   },
   {
    "duration": 12,
    "start_time": "2024-04-12T15:38:19.136Z"
   },
   {
    "duration": 3055,
    "start_time": "2024-04-12T15:38:19.149Z"
   },
   {
    "duration": 10,
    "start_time": "2024-04-12T15:38:22.205Z"
   },
   {
    "duration": 4,
    "start_time": "2024-04-12T15:38:22.217Z"
   },
   {
    "duration": 11324,
    "start_time": "2024-04-12T15:38:22.223Z"
   },
   {
    "duration": 12,
    "start_time": "2024-04-12T15:38:33.548Z"
   },
   {
    "duration": 0,
    "start_time": "2024-04-12T15:38:33.562Z"
   },
   {
    "duration": 10,
    "start_time": "2024-04-12T15:50:35.119Z"
   },
   {
    "duration": 3,
    "start_time": "2024-04-12T15:50:37.082Z"
   },
   {
    "duration": 12,
    "start_time": "2024-04-12T15:50:38.249Z"
   },
   {
    "duration": 2870,
    "start_time": "2024-04-12T15:52:00.096Z"
   },
   {
    "duration": 2317,
    "start_time": "2024-04-12T15:52:02.969Z"
   },
   {
    "duration": 1503,
    "start_time": "2024-04-12T15:52:05.288Z"
   },
   {
    "duration": 3,
    "start_time": "2024-04-12T15:52:06.793Z"
   },
   {
    "duration": 11,
    "start_time": "2024-04-12T15:52:06.797Z"
   },
   {
    "duration": 109,
    "start_time": "2024-04-12T15:52:06.809Z"
   },
   {
    "duration": 29,
    "start_time": "2024-04-12T15:52:06.920Z"
   },
   {
    "duration": 117,
    "start_time": "2024-04-12T15:52:06.951Z"
   },
   {
    "duration": 6,
    "start_time": "2024-04-12T15:52:07.070Z"
   },
   {
    "duration": 19,
    "start_time": "2024-04-12T15:52:07.079Z"
   },
   {
    "duration": 6,
    "start_time": "2024-04-12T15:52:07.099Z"
   },
   {
    "duration": 19,
    "start_time": "2024-04-12T15:52:07.106Z"
   },
   {
    "duration": 8,
    "start_time": "2024-04-12T15:52:07.127Z"
   },
   {
    "duration": 11,
    "start_time": "2024-04-12T15:52:07.137Z"
   },
   {
    "duration": 13,
    "start_time": "2024-04-12T15:52:07.167Z"
   },
   {
    "duration": 6,
    "start_time": "2024-04-12T15:52:07.182Z"
   },
   {
    "duration": 28,
    "start_time": "2024-04-12T15:52:07.189Z"
   },
   {
    "duration": 9,
    "start_time": "2024-04-12T15:52:07.219Z"
   },
   {
    "duration": 17,
    "start_time": "2024-04-12T15:52:07.230Z"
   },
   {
    "duration": 5,
    "start_time": "2024-04-12T15:52:07.248Z"
   },
   {
    "duration": 17,
    "start_time": "2024-04-12T15:52:07.255Z"
   },
   {
    "duration": 4,
    "start_time": "2024-04-12T15:52:07.274Z"
   },
   {
    "duration": 29,
    "start_time": "2024-04-12T15:52:07.279Z"
   },
   {
    "duration": 17,
    "start_time": "2024-04-12T15:52:07.309Z"
   },
   {
    "duration": 30,
    "start_time": "2024-04-12T15:52:07.328Z"
   },
   {
    "duration": 20,
    "start_time": "2024-04-12T15:52:07.359Z"
   },
   {
    "duration": 23,
    "start_time": "2024-04-12T15:52:07.381Z"
   },
   {
    "duration": 15,
    "start_time": "2024-04-12T15:52:07.407Z"
   },
   {
    "duration": 10,
    "start_time": "2024-04-12T15:52:07.424Z"
   },
   {
    "duration": 16,
    "start_time": "2024-04-12T15:52:07.436Z"
   },
   {
    "duration": 45,
    "start_time": "2024-04-12T15:52:07.465Z"
   },
   {
    "duration": 15,
    "start_time": "2024-04-12T15:52:07.512Z"
   },
   {
    "duration": 40,
    "start_time": "2024-04-12T15:52:07.528Z"
   },
   {
    "duration": 102,
    "start_time": "2024-04-12T15:52:07.570Z"
   },
   {
    "duration": 294,
    "start_time": "2024-04-12T15:52:07.674Z"
   },
   {
    "duration": 201,
    "start_time": "2024-04-12T15:52:07.969Z"
   },
   {
    "duration": 210,
    "start_time": "2024-04-12T15:52:08.172Z"
   },
   {
    "duration": 295,
    "start_time": "2024-04-12T15:52:08.383Z"
   },
   {
    "duration": 319,
    "start_time": "2024-04-12T15:52:08.679Z"
   },
   {
    "duration": 14,
    "start_time": "2024-04-12T15:52:08.999Z"
   },
   {
    "duration": 12,
    "start_time": "2024-04-12T15:52:09.014Z"
   },
   {
    "duration": 3053,
    "start_time": "2024-04-12T15:52:09.027Z"
   },
   {
    "duration": 9,
    "start_time": "2024-04-12T15:52:12.081Z"
   },
   {
    "duration": 5,
    "start_time": "2024-04-12T15:52:12.092Z"
   },
   {
    "duration": 124,
    "start_time": "2024-04-12T15:52:12.098Z"
   },
   {
    "duration": 0,
    "start_time": "2024-04-12T15:52:12.223Z"
   },
   {
    "duration": 0,
    "start_time": "2024-04-12T15:52:12.224Z"
   },
   {
    "duration": 0,
    "start_time": "2024-04-12T15:52:12.226Z"
   },
   {
    "duration": 10691,
    "start_time": "2024-04-12T15:55:49.775Z"
   },
   {
    "duration": 27,
    "start_time": "2024-04-12T15:57:47.195Z"
   },
   {
    "duration": 10119,
    "start_time": "2024-04-12T15:58:39.316Z"
   },
   {
    "duration": 10,
    "start_time": "2024-04-12T16:05:00.649Z"
   },
   {
    "duration": 2,
    "start_time": "2024-04-12T16:05:01.565Z"
   },
   {
    "duration": 10851,
    "start_time": "2024-04-12T16:05:02.514Z"
   },
   {
    "duration": 15,
    "start_time": "2024-04-12T16:08:41.231Z"
   },
   {
    "duration": 2300,
    "start_time": "2024-04-12T16:15:13.572Z"
   },
   {
    "duration": 7979,
    "start_time": "2024-04-12T16:17:41.020Z"
   },
   {
    "duration": 338049,
    "start_time": "2024-04-12T16:29:24.845Z"
   },
   {
    "duration": 29,
    "start_time": "2024-04-12T16:35:54.574Z"
   },
   {
    "duration": 10551,
    "start_time": "2024-04-12T16:38:50.490Z"
   },
   {
    "duration": 21,
    "start_time": "2024-04-12T16:45:40.951Z"
   },
   {
    "duration": 16,
    "start_time": "2024-04-12T16:45:43.476Z"
   },
   {
    "duration": 22,
    "start_time": "2024-04-12T16:46:04.040Z"
   },
   {
    "duration": 8,
    "start_time": "2024-04-12T16:46:11.659Z"
   },
   {
    "duration": 45,
    "start_time": "2024-04-12T16:46:25.022Z"
   },
   {
    "duration": 92,
    "start_time": "2024-04-12T16:46:48.414Z"
   },
   {
    "duration": 368,
    "start_time": "2024-04-12T16:46:57.110Z"
   },
   {
    "duration": 218,
    "start_time": "2024-04-12T16:47:06.514Z"
   },
   {
    "duration": 231,
    "start_time": "2024-04-12T16:47:17.466Z"
   },
   {
    "duration": 268,
    "start_time": "2024-04-12T16:47:23.257Z"
   },
   {
    "duration": 272,
    "start_time": "2024-04-12T16:47:30.686Z"
   },
   {
    "duration": 15,
    "start_time": "2024-04-12T16:47:40.782Z"
   },
   {
    "duration": 4,
    "start_time": "2024-04-12T16:47:53.726Z"
   },
   {
    "duration": 2,
    "start_time": "2024-04-12T16:47:54.343Z"
   },
   {
    "duration": 3,
    "start_time": "2024-04-12T16:47:58.270Z"
   },
   {
    "duration": 98,
    "start_time": "2024-04-12T16:47:59.156Z"
   },
   {
    "duration": 27,
    "start_time": "2024-04-12T16:48:01.286Z"
   },
   {
    "duration": 108,
    "start_time": "2024-04-12T16:48:07.468Z"
   },
   {
    "duration": 4,
    "start_time": "2024-04-12T16:48:13.350Z"
   },
   {
    "duration": 13,
    "start_time": "2024-04-12T16:48:14.964Z"
   },
   {
    "duration": 5,
    "start_time": "2024-04-12T16:48:16.756Z"
   },
   {
    "duration": 11,
    "start_time": "2024-04-12T16:48:17.642Z"
   },
   {
    "duration": 5,
    "start_time": "2024-04-12T16:48:20.215Z"
   },
   {
    "duration": 9,
    "start_time": "2024-04-12T16:48:21.395Z"
   },
   {
    "duration": 9,
    "start_time": "2024-04-12T16:48:24.235Z"
   },
   {
    "duration": 6,
    "start_time": "2024-04-12T16:48:25.481Z"
   },
   {
    "duration": 6,
    "start_time": "2024-04-12T16:48:26.618Z"
   },
   {
    "duration": 5,
    "start_time": "2024-04-12T16:48:27.712Z"
   },
   {
    "duration": 6,
    "start_time": "2024-04-12T16:48:28.619Z"
   },
   {
    "duration": 4,
    "start_time": "2024-04-12T16:48:30.821Z"
   },
   {
    "duration": 10,
    "start_time": "2024-04-12T16:48:33.578Z"
   },
   {
    "duration": 5,
    "start_time": "2024-04-12T16:48:36.032Z"
   },
   {
    "duration": 10,
    "start_time": "2024-04-12T16:48:36.920Z"
   },
   {
    "duration": 4,
    "start_time": "2024-04-12T16:48:37.799Z"
   },
   {
    "duration": 5,
    "start_time": "2024-04-12T16:48:40.258Z"
   },
   {
    "duration": 9,
    "start_time": "2024-04-12T16:48:41.525Z"
   },
   {
    "duration": 23,
    "start_time": "2024-04-12T16:48:45.006Z"
   },
   {
    "duration": 16,
    "start_time": "2024-04-12T16:48:46.895Z"
   },
   {
    "duration": 12,
    "start_time": "2024-04-12T16:48:51.025Z"
   },
   {
    "duration": 13,
    "start_time": "2024-04-12T16:48:55.365Z"
   },
   {
    "duration": 14,
    "start_time": "2024-04-12T16:48:56.612Z"
   },
   {
    "duration": 24,
    "start_time": "2024-04-12T16:49:02.007Z"
   },
   {
    "duration": 9,
    "start_time": "2024-04-12T16:49:03.180Z"
   },
   {
    "duration": 43,
    "start_time": "2024-04-12T16:49:06.263Z"
   },
   {
    "duration": 78,
    "start_time": "2024-04-12T16:49:07.973Z"
   },
   {
    "duration": 245,
    "start_time": "2024-04-12T16:49:11.039Z"
   },
   {
    "duration": 209,
    "start_time": "2024-04-12T16:49:13.374Z"
   },
   {
    "duration": 254,
    "start_time": "2024-04-12T16:49:15.560Z"
   },
   {
    "duration": 254,
    "start_time": "2024-04-12T16:49:18.057Z"
   },
   {
    "duration": 277,
    "start_time": "2024-04-12T16:49:20.245Z"
   },
   {
    "duration": 11,
    "start_time": "2024-04-12T16:49:24.581Z"
   },
   {
    "duration": 13,
    "start_time": "2024-04-12T16:49:28.583Z"
   },
   {
    "duration": 3220,
    "start_time": "2024-04-12T16:49:30.293Z"
   },
   {
    "duration": 12,
    "start_time": "2024-04-12T16:51:14.395Z"
   },
   {
    "duration": 3,
    "start_time": "2024-04-12T16:51:16.082Z"
   },
   {
    "duration": 337062,
    "start_time": "2024-04-12T16:51:17.887Z"
   },
   {
    "duration": 21,
    "start_time": "2024-04-12T16:58:37.241Z"
   },
   {
    "duration": 7,
    "start_time": "2024-04-12T17:13:12.893Z"
   },
   {
    "duration": 8,
    "start_time": "2024-04-12T17:13:19.300Z"
   },
   {
    "duration": 12,
    "start_time": "2024-04-12T17:13:21.229Z"
   },
   {
    "duration": 44,
    "start_time": "2024-04-12T17:16:09.152Z"
   },
   {
    "duration": 11,
    "start_time": "2024-04-12T17:19:22.683Z"
   },
   {
    "duration": 17,
    "start_time": "2024-04-12T17:20:17.047Z"
   },
   {
    "duration": 20,
    "start_time": "2024-04-12T17:21:10.000Z"
   },
   {
    "duration": 83,
    "start_time": "2024-04-12T17:21:21.366Z"
   },
   {
    "duration": 2830,
    "start_time": "2024-04-12T17:22:11.629Z"
   },
   {
    "duration": 2295,
    "start_time": "2024-04-12T17:22:14.462Z"
   },
   {
    "duration": 1485,
    "start_time": "2024-04-12T17:22:16.759Z"
   },
   {
    "duration": 3,
    "start_time": "2024-04-12T17:22:18.246Z"
   },
   {
    "duration": 12,
    "start_time": "2024-04-12T17:22:18.250Z"
   },
   {
    "duration": 109,
    "start_time": "2024-04-12T17:22:18.263Z"
   },
   {
    "duration": 30,
    "start_time": "2024-04-12T17:22:18.373Z"
   },
   {
    "duration": 111,
    "start_time": "2024-04-12T17:22:18.404Z"
   },
   {
    "duration": 5,
    "start_time": "2024-04-12T17:22:18.516Z"
   },
   {
    "duration": 14,
    "start_time": "2024-04-12T17:22:18.523Z"
   },
   {
    "duration": 28,
    "start_time": "2024-04-12T17:22:18.538Z"
   },
   {
    "duration": 9,
    "start_time": "2024-04-12T17:22:18.568Z"
   },
   {
    "duration": 9,
    "start_time": "2024-04-12T17:22:18.579Z"
   },
   {
    "duration": 12,
    "start_time": "2024-04-12T17:22:18.589Z"
   },
   {
    "duration": 13,
    "start_time": "2024-04-12T17:22:18.603Z"
   },
   {
    "duration": 22,
    "start_time": "2024-04-12T17:22:18.617Z"
   },
   {
    "duration": 24,
    "start_time": "2024-04-12T17:22:18.641Z"
   },
   {
    "duration": 5,
    "start_time": "2024-04-12T17:22:18.667Z"
   },
   {
    "duration": 21,
    "start_time": "2024-04-12T17:22:18.673Z"
   },
   {
    "duration": 19,
    "start_time": "2024-04-12T17:22:18.695Z"
   },
   {
    "duration": 27,
    "start_time": "2024-04-12T17:22:18.715Z"
   },
   {
    "duration": 5,
    "start_time": "2024-04-12T17:22:18.743Z"
   },
   {
    "duration": 26,
    "start_time": "2024-04-12T17:22:18.749Z"
   },
   {
    "duration": 6,
    "start_time": "2024-04-12T17:22:18.777Z"
   },
   {
    "duration": 12,
    "start_time": "2024-04-12T17:22:18.784Z"
   },
   {
    "duration": 13,
    "start_time": "2024-04-12T17:22:18.797Z"
   },
   {
    "duration": 24,
    "start_time": "2024-04-12T17:22:18.812Z"
   },
   {
    "duration": 33,
    "start_time": "2024-04-12T17:22:18.839Z"
   },
   {
    "duration": 14,
    "start_time": "2024-04-12T17:22:18.874Z"
   },
   {
    "duration": 14,
    "start_time": "2024-04-12T17:22:18.890Z"
   },
   {
    "duration": 21,
    "start_time": "2024-04-12T17:22:18.906Z"
   },
   {
    "duration": 64,
    "start_time": "2024-04-12T17:22:18.930Z"
   },
   {
    "duration": 10,
    "start_time": "2024-04-12T17:22:18.996Z"
   },
   {
    "duration": 19,
    "start_time": "2024-04-12T17:22:19.007Z"
   },
   {
    "duration": 122,
    "start_time": "2024-04-12T17:22:19.028Z"
   },
   {
    "duration": 319,
    "start_time": "2024-04-12T17:22:19.152Z"
   },
   {
    "duration": 207,
    "start_time": "2024-04-12T17:22:19.473Z"
   },
   {
    "duration": 216,
    "start_time": "2024-04-12T17:22:19.682Z"
   },
   {
    "duration": 270,
    "start_time": "2024-04-12T17:22:19.900Z"
   },
   {
    "duration": 272,
    "start_time": "2024-04-12T17:22:20.172Z"
   },
   {
    "duration": 20,
    "start_time": "2024-04-12T17:22:20.445Z"
   },
   {
    "duration": 9,
    "start_time": "2024-04-12T17:22:20.467Z"
   },
   {
    "duration": 2970,
    "start_time": "2024-04-12T17:22:20.478Z"
   },
   {
    "duration": 9,
    "start_time": "2024-04-12T17:22:23.450Z"
   },
   {
    "duration": 15,
    "start_time": "2024-04-12T17:22:23.460Z"
   },
   {
    "duration": 2848,
    "start_time": "2024-04-12T17:24:59.351Z"
   },
   {
    "duration": 2313,
    "start_time": "2024-04-12T17:25:02.202Z"
   },
   {
    "duration": 1414,
    "start_time": "2024-04-12T17:25:04.517Z"
   },
   {
    "duration": 3,
    "start_time": "2024-04-12T17:25:05.933Z"
   },
   {
    "duration": 45,
    "start_time": "2024-04-12T17:25:05.938Z"
   },
   {
    "duration": 101,
    "start_time": "2024-04-12T17:25:05.985Z"
   },
   {
    "duration": 33,
    "start_time": "2024-04-12T17:25:06.088Z"
   },
   {
    "duration": 112,
    "start_time": "2024-04-12T17:25:06.123Z"
   },
   {
    "duration": 29,
    "start_time": "2024-04-12T17:25:06.237Z"
   },
   {
    "duration": 23,
    "start_time": "2024-04-12T17:25:06.268Z"
   },
   {
    "duration": 5,
    "start_time": "2024-04-12T17:25:06.292Z"
   },
   {
    "duration": 12,
    "start_time": "2024-04-12T17:25:06.298Z"
   },
   {
    "duration": 5,
    "start_time": "2024-04-12T17:25:06.311Z"
   },
   {
    "duration": 12,
    "start_time": "2024-04-12T17:25:06.317Z"
   },
   {
    "duration": 34,
    "start_time": "2024-04-12T17:25:06.330Z"
   },
   {
    "duration": 6,
    "start_time": "2024-04-12T17:25:06.365Z"
   },
   {
    "duration": 7,
    "start_time": "2024-04-12T17:25:06.373Z"
   },
   {
    "duration": 5,
    "start_time": "2024-04-12T17:25:06.382Z"
   },
   {
    "duration": 8,
    "start_time": "2024-04-12T17:25:06.389Z"
   },
   {
    "duration": 5,
    "start_time": "2024-04-12T17:25:06.399Z"
   },
   {
    "duration": 11,
    "start_time": "2024-04-12T17:25:06.405Z"
   },
   {
    "duration": 4,
    "start_time": "2024-04-12T17:25:06.417Z"
   },
   {
    "duration": 44,
    "start_time": "2024-04-12T17:25:06.423Z"
   },
   {
    "duration": 4,
    "start_time": "2024-04-12T17:25:06.468Z"
   },
   {
    "duration": 4,
    "start_time": "2024-04-12T17:25:06.473Z"
   },
   {
    "duration": 7,
    "start_time": "2024-04-12T17:25:06.478Z"
   },
   {
    "duration": 23,
    "start_time": "2024-04-12T17:25:06.487Z"
   },
   {
    "duration": 15,
    "start_time": "2024-04-12T17:25:06.514Z"
   },
   {
    "duration": 45,
    "start_time": "2024-04-12T17:25:06.531Z"
   },
   {
    "duration": 15,
    "start_time": "2024-04-12T17:25:06.577Z"
   },
   {
    "duration": 17,
    "start_time": "2024-04-12T17:25:06.593Z"
   },
   {
    "duration": 25,
    "start_time": "2024-04-12T17:25:06.611Z"
   },
   {
    "duration": 35,
    "start_time": "2024-04-12T17:25:06.637Z"
   },
   {
    "duration": 20,
    "start_time": "2024-04-12T17:25:06.673Z"
   },
   {
    "duration": 112,
    "start_time": "2024-04-12T17:25:06.695Z"
   },
   {
    "duration": 306,
    "start_time": "2024-04-12T17:25:06.808Z"
   },
   {
    "duration": 216,
    "start_time": "2024-04-12T17:25:07.115Z"
   },
   {
    "duration": 215,
    "start_time": "2024-04-12T17:25:07.333Z"
   },
   {
    "duration": 314,
    "start_time": "2024-04-12T17:25:07.549Z"
   },
   {
    "duration": 291,
    "start_time": "2024-04-12T17:25:07.864Z"
   },
   {
    "duration": 14,
    "start_time": "2024-04-12T17:25:08.157Z"
   },
   {
    "duration": 12,
    "start_time": "2024-04-12T17:25:08.172Z"
   },
   {
    "duration": 3054,
    "start_time": "2024-04-12T17:25:08.186Z"
   },
   {
    "duration": 10,
    "start_time": "2024-04-12T17:25:11.242Z"
   },
   {
    "duration": 5,
    "start_time": "2024-04-12T17:25:11.253Z"
   },
   {
    "duration": 339456,
    "start_time": "2024-04-12T17:25:11.259Z"
   },
   {
    "duration": 21,
    "start_time": "2024-04-12T17:30:50.716Z"
   },
   {
    "duration": 20,
    "start_time": "2024-04-12T17:31:01.659Z"
   },
   {
    "duration": 394,
    "start_time": "2024-04-12T17:37:45.744Z"
   },
   {
    "duration": 2780,
    "start_time": "2024-04-12T17:49:15.824Z"
   },
   {
    "duration": 2262,
    "start_time": "2024-04-12T17:49:18.606Z"
   },
   {
    "duration": 1446,
    "start_time": "2024-04-12T17:49:20.869Z"
   },
   {
    "duration": 3,
    "start_time": "2024-04-12T17:49:22.316Z"
   },
   {
    "duration": 4,
    "start_time": "2024-04-12T17:49:22.320Z"
   },
   {
    "duration": 101,
    "start_time": "2024-04-12T17:49:22.325Z"
   },
   {
    "duration": 28,
    "start_time": "2024-04-12T17:49:22.427Z"
   },
   {
    "duration": 118,
    "start_time": "2024-04-12T17:49:22.457Z"
   },
   {
    "duration": 5,
    "start_time": "2024-04-12T17:49:22.576Z"
   },
   {
    "duration": 16,
    "start_time": "2024-04-12T17:49:22.583Z"
   },
   {
    "duration": 5,
    "start_time": "2024-04-12T17:49:22.601Z"
   },
   {
    "duration": 15,
    "start_time": "2024-04-12T17:49:22.608Z"
   },
   {
    "duration": 4,
    "start_time": "2024-04-12T17:49:22.624Z"
   },
   {
    "duration": 7,
    "start_time": "2024-04-12T17:49:22.631Z"
   },
   {
    "duration": 32,
    "start_time": "2024-04-12T17:49:22.639Z"
   },
   {
    "duration": 5,
    "start_time": "2024-04-12T17:49:22.673Z"
   },
   {
    "duration": 7,
    "start_time": "2024-04-12T17:49:22.679Z"
   },
   {
    "duration": 5,
    "start_time": "2024-04-12T17:49:22.687Z"
   },
   {
    "duration": 4,
    "start_time": "2024-04-12T17:49:22.693Z"
   },
   {
    "duration": 4,
    "start_time": "2024-04-12T17:49:22.698Z"
   },
   {
    "duration": 13,
    "start_time": "2024-04-12T17:49:22.704Z"
   },
   {
    "duration": 4,
    "start_time": "2024-04-12T17:49:22.719Z"
   },
   {
    "duration": 43,
    "start_time": "2024-04-12T17:49:22.724Z"
   },
   {
    "duration": 4,
    "start_time": "2024-04-12T17:49:22.768Z"
   },
   {
    "duration": 4,
    "start_time": "2024-04-12T17:49:22.774Z"
   },
   {
    "duration": 7,
    "start_time": "2024-04-12T17:49:22.779Z"
   },
   {
    "duration": 28,
    "start_time": "2024-04-12T17:49:22.788Z"
   },
   {
    "duration": 14,
    "start_time": "2024-04-12T17:49:22.818Z"
   },
   {
    "duration": 44,
    "start_time": "2024-04-12T17:49:22.834Z"
   },
   {
    "duration": 12,
    "start_time": "2024-04-12T17:49:22.879Z"
   },
   {
    "duration": 12,
    "start_time": "2024-04-12T17:49:22.892Z"
   },
   {
    "duration": 26,
    "start_time": "2024-04-12T17:49:22.906Z"
   },
   {
    "duration": 8,
    "start_time": "2024-04-12T17:49:22.933Z"
   },
   {
    "duration": 44,
    "start_time": "2024-04-12T17:49:22.942Z"
   },
   {
    "duration": 101,
    "start_time": "2024-04-12T17:49:22.988Z"
   },
   {
    "duration": 302,
    "start_time": "2024-04-12T17:49:23.091Z"
   },
   {
    "duration": 201,
    "start_time": "2024-04-12T17:49:23.395Z"
   },
   {
    "duration": 217,
    "start_time": "2024-04-12T17:49:23.598Z"
   },
   {
    "duration": 289,
    "start_time": "2024-04-12T17:49:23.817Z"
   },
   {
    "duration": 283,
    "start_time": "2024-04-12T17:49:24.108Z"
   },
   {
    "duration": 12,
    "start_time": "2024-04-12T17:49:24.395Z"
   },
   {
    "duration": 22,
    "start_time": "2024-04-12T17:49:24.408Z"
   },
   {
    "duration": 2997,
    "start_time": "2024-04-12T17:49:24.431Z"
   },
   {
    "duration": 10,
    "start_time": "2024-04-12T17:49:27.430Z"
   },
   {
    "duration": 16,
    "start_time": "2024-04-12T17:49:27.441Z"
   },
   {
    "duration": 341949,
    "start_time": "2024-04-12T17:49:27.458Z"
   },
   {
    "duration": 19,
    "start_time": "2024-04-12T17:55:09.408Z"
   },
   {
    "duration": 63069,
    "start_time": "2024-04-12T17:55:09.428Z"
   },
   {
    "duration": 26,
    "start_time": "2024-04-12T17:58:30.249Z"
   },
   {
    "duration": 193,
    "start_time": "2024-04-12T18:00:45.865Z"
   },
   {
    "duration": 63171,
    "start_time": "2024-04-12T18:01:57.927Z"
   },
   {
    "duration": 286,
    "start_time": "2024-04-12T18:11:58.773Z"
   },
   {
    "duration": 259,
    "start_time": "2024-04-12T18:13:37.754Z"
   },
   {
    "duration": 306368,
    "start_time": "2024-04-12T18:16:09.407Z"
   },
   {
    "duration": 23,
    "start_time": "2024-04-12T18:22:02.257Z"
   },
   {
    "duration": 2846,
    "start_time": "2024-04-12T18:22:26.024Z"
   },
   {
    "duration": 2247,
    "start_time": "2024-04-12T18:22:28.873Z"
   },
   {
    "duration": 1452,
    "start_time": "2024-04-12T18:22:31.123Z"
   },
   {
    "duration": 3,
    "start_time": "2024-04-12T18:22:32.576Z"
   },
   {
    "duration": 12,
    "start_time": "2024-04-12T18:22:32.580Z"
   },
   {
    "duration": 107,
    "start_time": "2024-04-12T18:22:32.594Z"
   },
   {
    "duration": 40,
    "start_time": "2024-04-12T18:22:32.702Z"
   },
   {
    "duration": 86,
    "start_time": "2024-04-12T18:22:32.743Z"
   },
   {
    "duration": 5,
    "start_time": "2024-04-12T18:22:32.830Z"
   },
   {
    "duration": 36,
    "start_time": "2024-04-12T18:22:32.836Z"
   },
   {
    "duration": 4,
    "start_time": "2024-04-12T18:22:32.873Z"
   },
   {
    "duration": 8,
    "start_time": "2024-04-12T18:22:32.879Z"
   },
   {
    "duration": 4,
    "start_time": "2024-04-12T18:22:32.888Z"
   },
   {
    "duration": 11,
    "start_time": "2024-04-12T18:22:32.895Z"
   },
   {
    "duration": 9,
    "start_time": "2024-04-12T18:22:32.907Z"
   },
   {
    "duration": 50,
    "start_time": "2024-04-12T18:22:32.918Z"
   },
   {
    "duration": 11,
    "start_time": "2024-04-12T18:22:32.970Z"
   },
   {
    "duration": 10,
    "start_time": "2024-04-12T18:22:32.982Z"
   },
   {
    "duration": 5,
    "start_time": "2024-04-12T18:22:32.993Z"
   },
   {
    "duration": 8,
    "start_time": "2024-04-12T18:22:32.999Z"
   },
   {
    "duration": 10,
    "start_time": "2024-04-12T18:22:33.009Z"
   },
   {
    "duration": 4,
    "start_time": "2024-04-12T18:22:33.020Z"
   },
   {
    "duration": 13,
    "start_time": "2024-04-12T18:22:33.025Z"
   },
   {
    "duration": 27,
    "start_time": "2024-04-12T18:22:33.039Z"
   },
   {
    "duration": 7,
    "start_time": "2024-04-12T18:22:33.067Z"
   },
   {
    "duration": 11,
    "start_time": "2024-04-12T18:22:33.075Z"
   },
   {
    "duration": 23,
    "start_time": "2024-04-12T18:22:33.088Z"
   },
   {
    "duration": 19,
    "start_time": "2024-04-12T18:22:33.113Z"
   },
   {
    "duration": 41,
    "start_time": "2024-04-12T18:22:33.134Z"
   },
   {
    "duration": 13,
    "start_time": "2024-04-12T18:22:33.176Z"
   },
   {
    "duration": 13,
    "start_time": "2024-04-12T18:22:33.190Z"
   },
   {
    "duration": 23,
    "start_time": "2024-04-12T18:22:33.204Z"
   },
   {
    "duration": 37,
    "start_time": "2024-04-12T18:22:33.228Z"
   },
   {
    "duration": 21,
    "start_time": "2024-04-12T18:22:33.267Z"
   },
   {
    "duration": 113,
    "start_time": "2024-04-12T18:22:33.289Z"
   },
   {
    "duration": 293,
    "start_time": "2024-04-12T18:22:33.403Z"
   },
   {
    "duration": 209,
    "start_time": "2024-04-12T18:22:33.697Z"
   },
   {
    "duration": 209,
    "start_time": "2024-04-12T18:22:33.907Z"
   },
   {
    "duration": 272,
    "start_time": "2024-04-12T18:22:34.118Z"
   },
   {
    "duration": 302,
    "start_time": "2024-04-12T18:22:34.393Z"
   },
   {
    "duration": 11,
    "start_time": "2024-04-12T18:22:34.698Z"
   },
   {
    "duration": 24,
    "start_time": "2024-04-12T18:22:34.711Z"
   },
   {
    "duration": 2979,
    "start_time": "2024-04-12T18:22:34.737Z"
   },
   {
    "duration": 9,
    "start_time": "2024-04-12T18:22:37.718Z"
   },
   {
    "duration": 28,
    "start_time": "2024-04-12T18:22:37.728Z"
   },
   {
    "duration": 335124,
    "start_time": "2024-04-12T18:22:37.758Z"
   },
   {
    "duration": 18,
    "start_time": "2024-04-12T18:28:12.883Z"
   },
   {
    "duration": 65666,
    "start_time": "2024-04-12T18:28:12.903Z"
   },
   {
    "duration": 98,
    "start_time": "2024-04-12T18:29:18.571Z"
   },
   {
    "duration": 296453,
    "start_time": "2024-04-12T18:29:18.670Z"
   },
   {
    "duration": 52,
    "start_time": "2024-04-12T18:34:15.125Z"
   },
   {
    "duration": 7569,
    "start_time": "2024-04-12T22:38:34.020Z"
   },
   {
    "duration": 3308,
    "start_time": "2024-04-12T22:38:41.592Z"
   },
   {
    "duration": 1805,
    "start_time": "2024-04-12T22:38:44.903Z"
   },
   {
    "duration": 2,
    "start_time": "2024-04-12T22:38:46.710Z"
   },
   {
    "duration": 24,
    "start_time": "2024-04-12T22:38:46.714Z"
   },
   {
    "duration": 384,
    "start_time": "2024-04-12T22:38:46.745Z"
   },
   {
    "duration": 34,
    "start_time": "2024-04-12T22:38:47.131Z"
   },
   {
    "duration": 114,
    "start_time": "2024-04-12T22:38:47.167Z"
   },
   {
    "duration": 5,
    "start_time": "2024-04-12T22:38:47.283Z"
   },
   {
    "duration": 18,
    "start_time": "2024-04-12T22:38:47.290Z"
   },
   {
    "duration": 5,
    "start_time": "2024-04-12T22:38:47.309Z"
   },
   {
    "duration": 9,
    "start_time": "2024-04-12T22:38:47.316Z"
   },
   {
    "duration": 6,
    "start_time": "2024-04-12T22:38:47.327Z"
   },
   {
    "duration": 38,
    "start_time": "2024-04-12T22:38:47.335Z"
   },
   {
    "duration": 11,
    "start_time": "2024-04-12T22:38:47.375Z"
   },
   {
    "duration": 7,
    "start_time": "2024-04-12T22:38:47.388Z"
   },
   {
    "duration": 15,
    "start_time": "2024-04-12T22:38:47.396Z"
   },
   {
    "duration": 19,
    "start_time": "2024-04-12T22:38:47.413Z"
   },
   {
    "duration": 4,
    "start_time": "2024-04-12T22:38:47.434Z"
   },
   {
    "duration": 5,
    "start_time": "2024-04-12T22:38:47.440Z"
   },
   {
    "duration": 28,
    "start_time": "2024-04-12T22:38:47.446Z"
   },
   {
    "duration": 4,
    "start_time": "2024-04-12T22:38:47.476Z"
   },
   {
    "duration": 25,
    "start_time": "2024-04-12T22:38:47.482Z"
   },
   {
    "duration": 8,
    "start_time": "2024-04-12T22:38:47.509Z"
   },
   {
    "duration": 9,
    "start_time": "2024-04-12T22:38:47.519Z"
   },
   {
    "duration": 18,
    "start_time": "2024-04-12T22:38:47.529Z"
   },
   {
    "duration": 46,
    "start_time": "2024-04-12T22:38:47.549Z"
   },
   {
    "duration": 22,
    "start_time": "2024-04-12T22:38:47.599Z"
   },
   {
    "duration": 24,
    "start_time": "2024-04-12T22:38:47.623Z"
   },
   {
    "duration": 23,
    "start_time": "2024-04-12T22:38:47.649Z"
   },
   {
    "duration": 14,
    "start_time": "2024-04-12T22:38:47.674Z"
   },
   {
    "duration": 31,
    "start_time": "2024-04-12T22:38:47.690Z"
   },
   {
    "duration": 16,
    "start_time": "2024-04-12T22:38:47.722Z"
   },
   {
    "duration": 22,
    "start_time": "2024-04-12T22:38:47.740Z"
   },
   {
    "duration": 110,
    "start_time": "2024-04-12T22:38:47.773Z"
   },
   {
    "duration": 341,
    "start_time": "2024-04-12T22:38:47.885Z"
   },
   {
    "duration": 230,
    "start_time": "2024-04-12T22:38:48.227Z"
   },
   {
    "duration": 244,
    "start_time": "2024-04-12T22:38:48.458Z"
   },
   {
    "duration": 317,
    "start_time": "2024-04-12T22:38:48.704Z"
   },
   {
    "duration": 315,
    "start_time": "2024-04-12T22:38:49.023Z"
   },
   {
    "duration": 15,
    "start_time": "2024-04-12T22:38:49.341Z"
   },
   {
    "duration": 23,
    "start_time": "2024-04-12T22:38:49.358Z"
   },
   {
    "duration": 3298,
    "start_time": "2024-04-12T22:38:49.383Z"
   },
   {
    "duration": 10,
    "start_time": "2024-04-12T22:38:52.683Z"
   },
   {
    "duration": 4,
    "start_time": "2024-04-12T22:38:52.694Z"
   },
   {
    "duration": 386415,
    "start_time": "2024-04-12T22:38:52.700Z"
   },
   {
    "duration": 22,
    "start_time": "2024-04-12T22:45:19.116Z"
   },
   {
    "duration": 57534,
    "start_time": "2024-04-12T22:45:19.139Z"
   },
   {
    "duration": 33,
    "start_time": "2024-04-12T22:46:16.675Z"
   },
   {
    "duration": 338030,
    "start_time": "2024-04-12T22:46:16.772Z"
   },
   {
    "duration": 74,
    "start_time": "2024-04-12T22:51:54.804Z"
   },
   {
    "duration": 212758,
    "start_time": "2024-04-12T22:55:11.766Z"
   },
   {
    "duration": 58,
    "start_time": "2024-04-12T22:59:19.575Z"
   },
   {
    "duration": 10,
    "start_time": "2024-04-12T23:20:54.883Z"
   },
   {
    "duration": 2,
    "start_time": "2024-04-12T23:20:56.864Z"
   },
   {
    "duration": 50,
    "start_time": "2024-04-12T23:21:05.286Z"
   },
   {
    "duration": 154245,
    "start_time": "2024-04-12T23:23:05.163Z"
   },
   {
    "duration": 150077,
    "start_time": "2024-04-12T23:37:21.398Z"
   },
   {
    "duration": 3060,
    "start_time": "2024-04-12T23:59:40.503Z"
   },
   {
    "duration": 2542,
    "start_time": "2024-04-12T23:59:43.565Z"
   },
   {
    "duration": 1543,
    "start_time": "2024-04-12T23:59:46.109Z"
   },
   {
    "duration": 2,
    "start_time": "2024-04-12T23:59:47.654Z"
   },
   {
    "duration": 10,
    "start_time": "2024-04-12T23:59:47.658Z"
   },
   {
    "duration": 113,
    "start_time": "2024-04-12T23:59:47.670Z"
   },
   {
    "duration": 33,
    "start_time": "2024-04-12T23:59:47.785Z"
   },
   {
    "duration": 123,
    "start_time": "2024-04-12T23:59:47.819Z"
   },
   {
    "duration": 5,
    "start_time": "2024-04-12T23:59:47.943Z"
   },
   {
    "duration": 14,
    "start_time": "2024-04-12T23:59:47.973Z"
   },
   {
    "duration": 15,
    "start_time": "2024-04-12T23:59:47.988Z"
   },
   {
    "duration": 9,
    "start_time": "2024-04-12T23:59:48.005Z"
   },
   {
    "duration": 5,
    "start_time": "2024-04-12T23:59:48.016Z"
   },
   {
    "duration": 9,
    "start_time": "2024-04-12T23:59:48.024Z"
   },
   {
    "duration": 17,
    "start_time": "2024-04-12T23:59:48.034Z"
   },
   {
    "duration": 21,
    "start_time": "2024-04-12T23:59:48.053Z"
   },
   {
    "duration": 9,
    "start_time": "2024-04-12T23:59:48.075Z"
   },
   {
    "duration": 9,
    "start_time": "2024-04-12T23:59:48.086Z"
   },
   {
    "duration": 5,
    "start_time": "2024-04-12T23:59:48.096Z"
   },
   {
    "duration": 4,
    "start_time": "2024-04-12T23:59:48.103Z"
   },
   {
    "duration": 24,
    "start_time": "2024-04-12T23:59:48.109Z"
   },
   {
    "duration": 5,
    "start_time": "2024-04-12T23:59:48.135Z"
   },
   {
    "duration": 42,
    "start_time": "2024-04-12T23:59:48.142Z"
   },
   {
    "duration": 4,
    "start_time": "2024-04-12T23:59:48.186Z"
   },
   {
    "duration": 6,
    "start_time": "2024-04-12T23:59:48.192Z"
   },
   {
    "duration": 16,
    "start_time": "2024-04-12T23:59:48.200Z"
   },
   {
    "duration": 25,
    "start_time": "2024-04-12T23:59:48.218Z"
   },
   {
    "duration": 38,
    "start_time": "2024-04-12T23:59:48.244Z"
   },
   {
    "duration": 14,
    "start_time": "2024-04-12T23:59:48.284Z"
   },
   {
    "duration": 15,
    "start_time": "2024-04-12T23:59:48.299Z"
   },
   {
    "duration": 16,
    "start_time": "2024-04-12T23:59:48.315Z"
   },
   {
    "duration": 58,
    "start_time": "2024-04-12T23:59:48.332Z"
   },
   {
    "duration": 10,
    "start_time": "2024-04-12T23:59:48.392Z"
   },
   {
    "duration": 25,
    "start_time": "2024-04-12T23:59:48.403Z"
   },
   {
    "duration": 119,
    "start_time": "2024-04-12T23:59:48.430Z"
   },
   {
    "duration": 315,
    "start_time": "2024-04-12T23:59:48.551Z"
   },
   {
    "duration": 230,
    "start_time": "2024-04-12T23:59:48.868Z"
   },
   {
    "duration": 238,
    "start_time": "2024-04-12T23:59:49.100Z"
   },
   {
    "duration": 293,
    "start_time": "2024-04-12T23:59:49.340Z"
   },
   {
    "duration": 298,
    "start_time": "2024-04-12T23:59:49.635Z"
   },
   {
    "duration": 13,
    "start_time": "2024-04-12T23:59:49.938Z"
   },
   {
    "duration": 27,
    "start_time": "2024-04-12T23:59:49.953Z"
   },
   {
    "duration": 3243,
    "start_time": "2024-04-12T23:59:49.982Z"
   },
   {
    "duration": 12,
    "start_time": "2024-04-12T23:59:53.228Z"
   },
   {
    "duration": 30,
    "start_time": "2024-04-12T23:59:53.241Z"
   },
   {
    "duration": 151495,
    "start_time": "2024-04-12T23:59:53.273Z"
   },
   {
    "duration": 13,
    "start_time": "2024-04-13T00:07:35.950Z"
   },
   {
    "duration": 2,
    "start_time": "2024-04-13T00:07:36.683Z"
   },
   {
    "duration": 149958,
    "start_time": "2024-04-13T00:07:38.509Z"
   },
   {
    "duration": 28,
    "start_time": "2024-04-13T00:10:32.452Z"
   },
   {
    "duration": 192441,
    "start_time": "2024-04-13T00:15:56.743Z"
   },
   {
    "duration": 28,
    "start_time": "2024-04-13T00:19:41.024Z"
   },
   {
    "duration": 1189020,
    "start_time": "2024-04-13T00:20:25.955Z"
   },
   {
    "duration": 29,
    "start_time": "2024-04-13T01:29:39.927Z"
   },
   {
    "duration": 24,
    "start_time": "2024-04-13T01:30:30.128Z"
   },
   {
    "duration": 119,
    "start_time": "2024-04-13T01:54:38.592Z"
   },
   {
    "duration": 15,
    "start_time": "2024-04-13T01:55:11.219Z"
   },
   {
    "duration": 17,
    "start_time": "2024-04-13T01:55:20.714Z"
   },
   {
    "duration": 28,
    "start_time": "2024-04-13T02:14:17.447Z"
   },
   {
    "duration": 5,
    "start_time": "2024-04-13T02:23:41.212Z"
   },
   {
    "duration": 26,
    "start_time": "2024-04-13T02:32:01.005Z"
   },
   {
    "duration": 6392,
    "start_time": "2024-04-13T16:50:03.559Z"
   },
   {
    "duration": 2942,
    "start_time": "2024-04-13T16:50:09.953Z"
   },
   {
    "duration": 3963,
    "start_time": "2024-04-13T16:50:12.897Z"
   },
   {
    "duration": 2066,
    "start_time": "2024-04-13T16:50:16.863Z"
   },
   {
    "duration": 2,
    "start_time": "2024-04-13T16:50:18.930Z"
   },
   {
    "duration": 17,
    "start_time": "2024-04-13T16:50:18.934Z"
   },
   {
    "duration": 381,
    "start_time": "2024-04-13T16:50:18.952Z"
   },
   {
    "duration": 29,
    "start_time": "2024-04-13T16:50:19.334Z"
   },
   {
    "duration": 89,
    "start_time": "2024-04-13T16:50:19.364Z"
   },
   {
    "duration": 5,
    "start_time": "2024-04-13T16:50:19.474Z"
   },
   {
    "duration": 30,
    "start_time": "2024-04-13T16:50:19.481Z"
   },
   {
    "duration": 38,
    "start_time": "2024-04-13T16:50:19.513Z"
   },
   {
    "duration": 24,
    "start_time": "2024-04-13T16:50:19.553Z"
   },
   {
    "duration": 29,
    "start_time": "2024-04-13T16:50:19.579Z"
   },
   {
    "duration": 26,
    "start_time": "2024-04-13T16:50:19.610Z"
   },
   {
    "duration": 22,
    "start_time": "2024-04-13T16:50:19.638Z"
   },
   {
    "duration": 58,
    "start_time": "2024-04-13T16:50:19.661Z"
   },
   {
    "duration": 46,
    "start_time": "2024-04-13T16:50:19.721Z"
   },
   {
    "duration": 29,
    "start_time": "2024-04-13T16:50:19.768Z"
   },
   {
    "duration": 31,
    "start_time": "2024-04-13T16:50:19.798Z"
   },
   {
    "duration": 18,
    "start_time": "2024-04-13T16:50:19.830Z"
   },
   {
    "duration": 29,
    "start_time": "2024-04-13T16:50:19.850Z"
   },
   {
    "duration": 19,
    "start_time": "2024-04-13T16:50:19.881Z"
   },
   {
    "duration": 23,
    "start_time": "2024-04-13T16:50:19.901Z"
   },
   {
    "duration": 5,
    "start_time": "2024-04-13T16:50:19.926Z"
   },
   {
    "duration": 17,
    "start_time": "2024-04-13T16:50:19.932Z"
   },
   {
    "duration": 12,
    "start_time": "2024-04-13T16:50:19.950Z"
   },
   {
    "duration": 21,
    "start_time": "2024-04-13T16:50:19.965Z"
   },
   {
    "duration": 15,
    "start_time": "2024-04-13T16:50:19.988Z"
   },
   {
    "duration": 22,
    "start_time": "2024-04-13T16:50:20.005Z"
   },
   {
    "duration": 28,
    "start_time": "2024-04-13T16:50:20.029Z"
   },
   {
    "duration": 46,
    "start_time": "2024-04-13T16:50:20.058Z"
   },
   {
    "duration": 28,
    "start_time": "2024-04-13T16:50:20.106Z"
   },
   {
    "duration": 8,
    "start_time": "2024-04-13T16:50:20.135Z"
   },
   {
    "duration": 24,
    "start_time": "2024-04-13T16:50:20.144Z"
   },
   {
    "duration": 86,
    "start_time": "2024-04-13T16:50:20.169Z"
   },
   {
    "duration": 341,
    "start_time": "2024-04-13T16:50:20.256Z"
   },
   {
    "duration": 189,
    "start_time": "2024-04-13T16:50:20.598Z"
   },
   {
    "duration": 203,
    "start_time": "2024-04-13T16:50:20.788Z"
   },
   {
    "duration": 276,
    "start_time": "2024-04-13T16:50:20.993Z"
   },
   {
    "duration": 257,
    "start_time": "2024-04-13T16:50:21.270Z"
   },
   {
    "duration": 12,
    "start_time": "2024-04-13T16:50:21.529Z"
   },
   {
    "duration": 38,
    "start_time": "2024-04-13T16:50:21.542Z"
   },
   {
    "duration": 2934,
    "start_time": "2024-04-13T16:50:21.581Z"
   },
   {
    "duration": 8,
    "start_time": "2024-04-13T16:50:24.516Z"
   },
   {
    "duration": 883406,
    "start_time": "2024-04-13T16:50:24.526Z"
   },
   {
    "duration": 17,
    "start_time": "2024-04-13T17:05:07.933Z"
   },
   {
    "duration": 39,
    "start_time": "2024-04-13T17:05:07.951Z"
   },
   {
    "duration": 47,
    "start_time": "2024-04-13T17:05:07.992Z"
   },
   {
    "duration": 32,
    "start_time": "2024-04-13T17:05:08.041Z"
   },
   {
    "duration": 26,
    "start_time": "2024-04-13T17:05:08.074Z"
   },
   {
    "duration": 57061,
    "start_time": "2024-04-13T17:38:18.660Z"
   },
   {
    "duration": 317,
    "start_time": "2024-04-13T17:48:04.836Z"
   },
   {
    "duration": 275,
    "start_time": "2024-04-13T17:51:12.490Z"
   },
   {
    "duration": 322,
    "start_time": "2024-04-13T17:51:32.123Z"
   },
   {
    "duration": 282,
    "start_time": "2024-04-13T18:48:00.185Z"
   },
   {
    "duration": 41,
    "start_time": "2024-04-14T01:44:09.291Z"
   },
   {
    "duration": 5772,
    "start_time": "2024-04-14T01:53:33.426Z"
   },
   {
    "duration": 2990,
    "start_time": "2024-04-14T01:53:39.201Z"
   },
   {
    "duration": 3734,
    "start_time": "2024-04-14T01:53:42.193Z"
   },
   {
    "duration": 1858,
    "start_time": "2024-04-14T01:53:45.930Z"
   },
   {
    "duration": 3,
    "start_time": "2024-04-14T01:53:47.790Z"
   },
   {
    "duration": 45,
    "start_time": "2024-04-14T01:53:47.794Z"
   },
   {
    "duration": 405,
    "start_time": "2024-04-14T01:53:47.840Z"
   },
   {
    "duration": 28,
    "start_time": "2024-04-14T01:53:48.246Z"
   },
   {
    "duration": 76,
    "start_time": "2024-04-14T01:53:48.275Z"
   },
   {
    "duration": 5,
    "start_time": "2024-04-14T01:53:48.353Z"
   },
   {
    "duration": 16,
    "start_time": "2024-04-14T01:53:48.360Z"
   },
   {
    "duration": 27,
    "start_time": "2024-04-14T01:53:48.378Z"
   },
   {
    "duration": 13,
    "start_time": "2024-04-14T01:53:48.407Z"
   },
   {
    "duration": 5,
    "start_time": "2024-04-14T01:53:48.423Z"
   },
   {
    "duration": 10,
    "start_time": "2024-04-14T01:53:48.430Z"
   },
   {
    "duration": 20,
    "start_time": "2024-04-14T01:53:48.442Z"
   },
   {
    "duration": 13,
    "start_time": "2024-04-14T01:53:48.464Z"
   },
   {
    "duration": 28,
    "start_time": "2024-04-14T01:53:48.478Z"
   },
   {
    "duration": 8,
    "start_time": "2024-04-14T01:53:48.507Z"
   },
   {
    "duration": 9,
    "start_time": "2024-04-14T01:53:48.517Z"
   },
   {
    "duration": 15,
    "start_time": "2024-04-14T01:53:48.527Z"
   },
   {
    "duration": 13,
    "start_time": "2024-04-14T01:53:48.544Z"
   },
   {
    "duration": 11,
    "start_time": "2024-04-14T01:53:48.559Z"
   },
   {
    "duration": 26,
    "start_time": "2024-04-14T01:53:48.572Z"
   },
   {
    "duration": 4,
    "start_time": "2024-04-14T01:53:48.600Z"
   },
   {
    "duration": 9,
    "start_time": "2024-04-14T01:53:48.606Z"
   },
   {
    "duration": 14,
    "start_time": "2024-04-14T01:53:48.618Z"
   },
   {
    "duration": 22,
    "start_time": "2024-04-14T01:53:48.633Z"
   },
   {
    "duration": 12,
    "start_time": "2024-04-14T01:53:48.656Z"
   },
   {
    "duration": 32,
    "start_time": "2024-04-14T01:53:48.669Z"
   },
   {
    "duration": 9,
    "start_time": "2024-04-14T01:53:48.703Z"
   },
   {
    "duration": 12,
    "start_time": "2024-04-14T01:53:48.714Z"
   },
   {
    "duration": 18,
    "start_time": "2024-04-14T01:53:48.727Z"
   },
   {
    "duration": 10,
    "start_time": "2024-04-14T01:53:48.746Z"
   },
   {
    "duration": 16,
    "start_time": "2024-04-14T01:53:48.757Z"
   },
   {
    "duration": 104,
    "start_time": "2024-04-14T01:53:48.775Z"
   },
   {
    "duration": 283,
    "start_time": "2024-04-14T01:53:48.880Z"
   },
   {
    "duration": 177,
    "start_time": "2024-04-14T01:53:49.164Z"
   },
   {
    "duration": 187,
    "start_time": "2024-04-14T01:53:49.342Z"
   },
   {
    "duration": 240,
    "start_time": "2024-04-14T01:53:49.530Z"
   },
   {
    "duration": 266,
    "start_time": "2024-04-14T01:53:49.773Z"
   },
   {
    "duration": 10,
    "start_time": "2024-04-14T01:53:50.040Z"
   },
   {
    "duration": 14,
    "start_time": "2024-04-14T01:53:50.051Z"
   },
   {
    "duration": 2606,
    "start_time": "2024-04-14T01:53:50.066Z"
   },
   {
    "duration": 9,
    "start_time": "2024-04-14T01:53:52.673Z"
   },
   {
    "duration": 2386950,
    "start_time": "2024-04-14T01:53:52.683Z"
   },
   {
    "duration": 15,
    "start_time": "2024-04-14T02:33:39.634Z"
   },
   {
    "duration": 18,
    "start_time": "2024-04-14T02:33:39.650Z"
   },
   {
    "duration": 20,
    "start_time": "2024-04-14T02:33:39.669Z"
   },
   {
    "duration": 349,
    "start_time": "2024-04-14T02:33:39.701Z"
   },
   {
    "duration": 50564,
    "start_time": "2024-04-14T02:33:40.051Z"
   },
   {
    "duration": 3137,
    "start_time": "2024-04-14T14:15:30.635Z"
   },
   {
    "duration": 2812,
    "start_time": "2024-04-14T14:15:33.775Z"
   },
   {
    "duration": 2867,
    "start_time": "2024-04-14T14:15:36.589Z"
   },
   {
    "duration": 3142,
    "start_time": "2024-04-14T14:15:39.963Z"
   },
   {
    "duration": 3,
    "start_time": "2024-04-14T14:15:44.975Z"
   },
   {
    "duration": 3,
    "start_time": "2024-04-14T14:15:47.272Z"
   },
   {
    "duration": 102,
    "start_time": "2024-04-14T14:15:51.069Z"
   },
   {
    "duration": 44,
    "start_time": "2024-04-14T14:15:52.167Z"
   },
   {
    "duration": 97,
    "start_time": "2024-04-14T14:15:57.837Z"
   }
  ],
  "kernelspec": {
   "display_name": "Python 3 (ipykernel)",
   "language": "python",
   "name": "python3"
  },
  "language_info": {
   "codemirror_mode": {
    "name": "ipython",
    "version": 3
   },
   "file_extension": ".py",
   "mimetype": "text/x-python",
   "name": "python",
   "nbconvert_exporter": "python",
   "pygments_lexer": "ipython3",
   "version": "3.9.5"
  },
  "toc": {
   "base_numbering": 1,
   "nav_menu": {},
   "number_sections": true,
   "sideBar": true,
   "skip_h1_title": true,
   "title_cell": "Table of Contents",
   "title_sidebar": "Contents",
   "toc_cell": false,
   "toc_position": {},
   "toc_section_display": true,
   "toc_window_display": false
  }
 },
 "nbformat": 4,
 "nbformat_minor": 5
}
