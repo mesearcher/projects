{
 "cells": [
  {
   "cell_type": "markdown",
   "metadata": {},
   "source": [
    "## Predictive Model for Car Sales"
   ]
  },
  {
   "cell_type": "markdown",
   "metadata": {},
   "source": [
    "**Project Objectives:**\n",
    "\n",
    "The project aims to develop a predictive model that assists app users in determining the market value of a used car. To achieve this, the following steps will be taken:\n",
    "\n",
    "1. Data Pre-processing\n",
    "2. Exploratory Analysis\n",
    "3. Data Preparation for Machine Learning\n",
    "4. Model Selection and Training Algorithm\n",
    "5. Training, Setting, Testing, and Checking Model Quality\n",
    "6. Forecast and Conclusion\n",
    "\n",
    "In alignment with the customer's business objectives, the project involves the creation of a predictive model to estimate car costs, addressing a linear regression problem.\n",
    "\n",
    "The customer considers the importance of the following criteria:\n",
    "- Quality of Prediction\n",
    "- Model Training Time\n",
    "- Model Prediction Time\n",
    "\n",
    "**Data Source:**\n",
    "\n",
    "The dataset provided by the customer includes information on the technical characteristics, equipment, and prices of other cars.\n",
    "\n",
    "**Tools and libraries:**\n",
    "- Python\n",
    "- Pandas\n",
    "- Matplotlib\n",
    "- Numpy\n",
    "- Sklearn\n",
    "- Seaborn\n",
    "- LightGBM"
   ]
  },
  {
   "cell_type": "markdown",
   "metadata": {
    "id": "VqmWFVxgK2bF"
   },
   "source": [
    "# Прогнозная модель для определения стоимости авто"
   ]
  },
  {
   "cell_type": "markdown",
   "metadata": {
    "id": "JhyKn0-EK2bF"
   },
   "source": [
    "**Аннотация проекта**\n",
    "\n",
    "На данных сервиса по продаже автомобилей с пробегом проводится исследовательский анализ с последующей разработкой решения на основе моделирования, которое позволит компании привлечь новых клиентов.\n",
    "\n",
    "**Цель исследования** — разработать прогнозную модель, которая поможет пользователям приложения определить рыночную стоимость своего автомобиля. Для этого будут выполнены следующие шаги:\n",
    "\n",
    "- Предварительная обработка данных.\n",
    "- Исследовательский анализ.\n",
    "- Подготовка данных для машинного обучения.\n",
    "- Выбор модели и алгоритма её обучения.\n",
    "- Обучение, настройка, тестирование и оценка качества моделей.\n",
    "- Прогноз и выводы.\n",
    "\n",
    "Учитывая бизнес-задачи заказчика, предстоит разработать прогнозную модель для предсказания стоимости автомобиля (задача линейной регрессии).\n",
    "\n",
    "**Критерии, которые важны заказчику:**\n",
    "- качество предсказания\n",
    "- время обучения модели\n",
    "- время предсказания модели\n",
    "\n",
    "Поскольку нам не известны детальные требования клиента, которые могли бы конкретизировать заказ, в частности, какие есть ресурсные ограничения на разработку модели, будем руководствоваться классическими опциями при выборе модели и алгоритма её обучения.\n",
    "\n",
    "**Описание данных**\n",
    "\n",
    "Датасет, представленный заказчиком, содержит данные о технических характеристиках, комплектации и ценах других автомобилей.\n",
    "\n",
    "**Инструменты и библиотеки:**\n",
    "- Python\n",
    "- Pandas\n",
    "- Matplotlib\n",
    "- Numpy\n",
    "- Sklearn\n",
    "- Seaborn\n",
    "- LightGBM"
   ]
  },
  {
   "cell_type": "code",
   "execution_count": 1,
   "metadata": {
    "id": "EnqSZdoDK2bG"
   },
   "outputs": [
    {
     "name": "stderr",
     "output_type": "stream",
     "text": [
      "\n",
      "[notice] A new release of pip is available: 23.2.1 -> 24.0\n",
      "[notice] To update, run: python.exe -m pip install --upgrade pip\n"
     ]
    }
   ],
   "source": [
    "! pip install phik -q"
   ]
  },
  {
   "cell_type": "code",
   "execution_count": 2,
   "metadata": {
    "id": "Xd8Di6OHK2bH"
   },
   "outputs": [
    {
     "name": "stderr",
     "output_type": "stream",
     "text": [
      "\n",
      "[notice] A new release of pip is available: 23.2.1 -> 24.0\n",
      "[notice] To update, run: python.exe -m pip install --upgrade pip\n"
     ]
    }
   ],
   "source": [
    "! pip install --upgrade scikit-learn -q"
   ]
  },
  {
   "cell_type": "code",
   "execution_count": 3,
   "metadata": {
    "id": "we8XF9eHK2bH"
   },
   "outputs": [
    {
     "name": "stderr",
     "output_type": "stream",
     "text": [
      "\n",
      "[notice] A new release of pip is available: 23.2.1 -> 24.0\n",
      "[notice] To update, run: python.exe -m pip install --upgrade pip\n"
     ]
    }
   ],
   "source": [
    "!pip install category_encoders -q"
   ]
  },
  {
   "cell_type": "code",
   "execution_count": 4,
   "metadata": {
    "id": "aN4l-Ta-K2bH"
   },
   "outputs": [],
   "source": [
    "# импорт библиотек, модулей и функций\n",
    "import sklearn\n",
    "import pandas as pd\n",
    "import numpy as np\n",
    "import matplotlib.pyplot as plt\n",
    "import seaborn as sns\n",
    "import lightgbm as lgb\n",
    "import category_encoders as ce\n",
    "import re, time\n",
    "import warnings\n",
    "\n",
    "# функция для расчёта матрицы корреляции\n",
    "from phik import phik_matrix\n",
    "\n",
    "# инструменты для пайплайн\n",
    "from sklearn.pipeline import Pipeline\n",
    "from sklearn.compose import ColumnTransformer\n",
    "# функция для разделения датасета на выборки\n",
    "from sklearn.model_selection import train_test_split\n",
    "# классы для преобразования данных\n",
    "from sklearn.preprocessing import (\n",
    "    OneHotEncoder,\n",
    "    OrdinalEncoder,\n",
    "    StandardScaler,\n",
    "    MinMaxScaler\n",
    ")\n",
    "# класс для работы с пропусками\n",
    "from sklearn.impute import SimpleImputer\n",
    "# классы для моделей машинного обучения\n",
    "from sklearn.linear_model import LinearRegression\n",
    "from sklearn.tree import DecisionTreeRegressor\n",
    "from lightgbm import LGBMRegressor\n",
    "# инструменты для автоподбора гиперпараметров\n",
    "from sklearn.model_selection import RandomizedSearchCV\n",
    "# импорт функций для расчёта метрик\n",
    "from sklearn.metrics import mean_squared_error\n",
    "# модуль для создания контролируемого и воспроизводимого источника случайных чисел\n",
    "from numpy.random import RandomState"
   ]
  },
  {
   "cell_type": "code",
   "execution_count": 5,
   "metadata": {
    "id": "I66ffTliK2bI"
   },
   "outputs": [],
   "source": [
    "# установим настройки для отображения всех столбцов датафрейма\n",
    "pd.set_option('display.max_columns', None)"
   ]
  },
  {
   "cell_type": "markdown",
   "metadata": {
    "id": "WYHxujAaK2bI"
   },
   "source": [
    "## Загрузка данных"
   ]
  },
  {
   "cell_type": "markdown",
   "metadata": {
    "id": "ih0l_-GDK2bI"
   },
   "source": [
    "Загрузим файл и проверим, что данные в таблице соответствуют описанию."
   ]
  },
  {
   "cell_type": "code",
   "execution_count": 6,
   "metadata": {
    "id": "jVggpLh3K2bI"
   },
   "outputs": [],
   "source": [
    "# определим функцию data_isnull_isdup() для проверки на дубликаты и пустые значения\n",
    "def data_isnull_isdup(data):\n",
    "    print('Количество явных дубликатов:', data.duplicated().sum())\n",
    "    print('Количество пропусков:')\n",
    "    print(data.isnull().sum())"
   ]
  },
  {
   "cell_type": "code",
   "execution_count": 7,
   "metadata": {
    "id": "GPwi82ZlK2bJ"
   },
   "outputs": [],
   "source": [
    "# считываем данные из csv-файла и сохраняем в датафрейм\n",
    "df = pd.read_csv('https://code.s3.yandex.net/datasets/autos.csv')"
   ]
  },
  {
   "cell_type": "code",
   "execution_count": 8,
   "metadata": {
    "colab": {
     "base_uri": "https://localhost:8080/",
     "height": 400
    },
    "id": "jXNr50X9K2bJ",
    "outputId": "c3523367-1e0c-4c41-f335-1093e25364b0"
   },
   "outputs": [
    {
     "data": {
      "text/html": [
       "<div>\n",
       "<style scoped>\n",
       "    .dataframe tbody tr th:only-of-type {\n",
       "        vertical-align: middle;\n",
       "    }\n",
       "\n",
       "    .dataframe tbody tr th {\n",
       "        vertical-align: top;\n",
       "    }\n",
       "\n",
       "    .dataframe thead th {\n",
       "        text-align: right;\n",
       "    }\n",
       "</style>\n",
       "<table border=\"1\" class=\"dataframe\">\n",
       "  <thead>\n",
       "    <tr style=\"text-align: right;\">\n",
       "      <th></th>\n",
       "      <th>DateCrawled</th>\n",
       "      <th>Price</th>\n",
       "      <th>VehicleType</th>\n",
       "      <th>RegistrationYear</th>\n",
       "      <th>Gearbox</th>\n",
       "      <th>Power</th>\n",
       "      <th>Model</th>\n",
       "      <th>Kilometer</th>\n",
       "      <th>RegistrationMonth</th>\n",
       "      <th>FuelType</th>\n",
       "      <th>Brand</th>\n",
       "      <th>Repaired</th>\n",
       "      <th>DateCreated</th>\n",
       "      <th>NumberOfPictures</th>\n",
       "      <th>PostalCode</th>\n",
       "      <th>LastSeen</th>\n",
       "    </tr>\n",
       "  </thead>\n",
       "  <tbody>\n",
       "    <tr>\n",
       "      <th>0</th>\n",
       "      <td>2016-03-24 11:52:17</td>\n",
       "      <td>480</td>\n",
       "      <td>NaN</td>\n",
       "      <td>1993</td>\n",
       "      <td>manual</td>\n",
       "      <td>0</td>\n",
       "      <td>golf</td>\n",
       "      <td>150000</td>\n",
       "      <td>0</td>\n",
       "      <td>petrol</td>\n",
       "      <td>volkswagen</td>\n",
       "      <td>NaN</td>\n",
       "      <td>2016-03-24 00:00:00</td>\n",
       "      <td>0</td>\n",
       "      <td>70435</td>\n",
       "      <td>2016-04-07 03:16:57</td>\n",
       "    </tr>\n",
       "    <tr>\n",
       "      <th>1</th>\n",
       "      <td>2016-03-24 10:58:45</td>\n",
       "      <td>18300</td>\n",
       "      <td>coupe</td>\n",
       "      <td>2011</td>\n",
       "      <td>manual</td>\n",
       "      <td>190</td>\n",
       "      <td>NaN</td>\n",
       "      <td>125000</td>\n",
       "      <td>5</td>\n",
       "      <td>gasoline</td>\n",
       "      <td>audi</td>\n",
       "      <td>yes</td>\n",
       "      <td>2016-03-24 00:00:00</td>\n",
       "      <td>0</td>\n",
       "      <td>66954</td>\n",
       "      <td>2016-04-07 01:46:50</td>\n",
       "    </tr>\n",
       "    <tr>\n",
       "      <th>2</th>\n",
       "      <td>2016-03-14 12:52:21</td>\n",
       "      <td>9800</td>\n",
       "      <td>suv</td>\n",
       "      <td>2004</td>\n",
       "      <td>auto</td>\n",
       "      <td>163</td>\n",
       "      <td>grand</td>\n",
       "      <td>125000</td>\n",
       "      <td>8</td>\n",
       "      <td>gasoline</td>\n",
       "      <td>jeep</td>\n",
       "      <td>NaN</td>\n",
       "      <td>2016-03-14 00:00:00</td>\n",
       "      <td>0</td>\n",
       "      <td>90480</td>\n",
       "      <td>2016-04-05 12:47:46</td>\n",
       "    </tr>\n",
       "    <tr>\n",
       "      <th>3</th>\n",
       "      <td>2016-03-17 16:54:04</td>\n",
       "      <td>1500</td>\n",
       "      <td>small</td>\n",
       "      <td>2001</td>\n",
       "      <td>manual</td>\n",
       "      <td>75</td>\n",
       "      <td>golf</td>\n",
       "      <td>150000</td>\n",
       "      <td>6</td>\n",
       "      <td>petrol</td>\n",
       "      <td>volkswagen</td>\n",
       "      <td>no</td>\n",
       "      <td>2016-03-17 00:00:00</td>\n",
       "      <td>0</td>\n",
       "      <td>91074</td>\n",
       "      <td>2016-03-17 17:40:17</td>\n",
       "    </tr>\n",
       "    <tr>\n",
       "      <th>4</th>\n",
       "      <td>2016-03-31 17:25:20</td>\n",
       "      <td>3600</td>\n",
       "      <td>small</td>\n",
       "      <td>2008</td>\n",
       "      <td>manual</td>\n",
       "      <td>69</td>\n",
       "      <td>fabia</td>\n",
       "      <td>90000</td>\n",
       "      <td>7</td>\n",
       "      <td>gasoline</td>\n",
       "      <td>skoda</td>\n",
       "      <td>no</td>\n",
       "      <td>2016-03-31 00:00:00</td>\n",
       "      <td>0</td>\n",
       "      <td>60437</td>\n",
       "      <td>2016-04-06 10:17:21</td>\n",
       "    </tr>\n",
       "  </tbody>\n",
       "</table>\n",
       "</div>"
      ],
      "text/plain": [
       "           DateCrawled  Price VehicleType  RegistrationYear Gearbox  Power  \\\n",
       "0  2016-03-24 11:52:17    480         NaN              1993  manual      0   \n",
       "1  2016-03-24 10:58:45  18300       coupe              2011  manual    190   \n",
       "2  2016-03-14 12:52:21   9800         suv              2004    auto    163   \n",
       "3  2016-03-17 16:54:04   1500       small              2001  manual     75   \n",
       "4  2016-03-31 17:25:20   3600       small              2008  manual     69   \n",
       "\n",
       "   Model  Kilometer  RegistrationMonth  FuelType       Brand Repaired  \\\n",
       "0   golf     150000                  0    petrol  volkswagen      NaN   \n",
       "1    NaN     125000                  5  gasoline        audi      yes   \n",
       "2  grand     125000                  8  gasoline        jeep      NaN   \n",
       "3   golf     150000                  6    petrol  volkswagen       no   \n",
       "4  fabia      90000                  7  gasoline       skoda       no   \n",
       "\n",
       "           DateCreated  NumberOfPictures  PostalCode             LastSeen  \n",
       "0  2016-03-24 00:00:00                 0       70435  2016-04-07 03:16:57  \n",
       "1  2016-03-24 00:00:00                 0       66954  2016-04-07 01:46:50  \n",
       "2  2016-03-14 00:00:00                 0       90480  2016-04-05 12:47:46  \n",
       "3  2016-03-17 00:00:00                 0       91074  2016-03-17 17:40:17  \n",
       "4  2016-03-31 00:00:00                 0       60437  2016-04-06 10:17:21  "
      ]
     },
     "execution_count": 8,
     "metadata": {},
     "output_type": "execute_result"
    }
   ],
   "source": [
    "# выведем первые пять строк\n",
    "df.head()"
   ]
  },
  {
   "cell_type": "code",
   "execution_count": 9,
   "metadata": {
    "colab": {
     "base_uri": "https://localhost:8080/",
     "height": 818
    },
    "id": "dfwREZ5WK2bK",
    "outputId": "fd18c4a1-3ac4-4d97-fd69-1e69cfb9437a"
   },
   "outputs": [
    {
     "name": "stdout",
     "output_type": "stream",
     "text": [
      "\n",
      "\n",
      "-------------------------Основная информация о данных---------------------------------\n",
      "\n",
      "\n",
      "<class 'pandas.core.frame.DataFrame'>\n",
      "RangeIndex: 354369 entries, 0 to 354368\n",
      "Data columns (total 16 columns):\n",
      " #   Column             Non-Null Count   Dtype \n",
      "---  ------             --------------   ----- \n",
      " 0   DateCrawled        354369 non-null  object\n",
      " 1   Price              354369 non-null  int64 \n",
      " 2   VehicleType        316879 non-null  object\n",
      " 3   RegistrationYear   354369 non-null  int64 \n",
      " 4   Gearbox            334536 non-null  object\n",
      " 5   Power              354369 non-null  int64 \n",
      " 6   Model              334664 non-null  object\n",
      " 7   Kilometer          354369 non-null  int64 \n",
      " 8   RegistrationMonth  354369 non-null  int64 \n",
      " 9   FuelType           321474 non-null  object\n",
      " 10  Brand              354369 non-null  object\n",
      " 11  Repaired           283215 non-null  object\n",
      " 12  DateCreated        354369 non-null  object\n",
      " 13  NumberOfPictures   354369 non-null  int64 \n",
      " 14  PostalCode         354369 non-null  int64 \n",
      " 15  LastSeen           354369 non-null  object\n",
      "dtypes: int64(7), object(9)\n",
      "memory usage: 43.3+ MB\n"
     ]
    },
    {
     "data": {
      "text/plain": [
       "None"
      ]
     },
     "metadata": {},
     "output_type": "display_data"
    },
    {
     "data": {
      "text/html": [
       "<div>\n",
       "<style scoped>\n",
       "    .dataframe tbody tr th:only-of-type {\n",
       "        vertical-align: middle;\n",
       "    }\n",
       "\n",
       "    .dataframe tbody tr th {\n",
       "        vertical-align: top;\n",
       "    }\n",
       "\n",
       "    .dataframe thead th {\n",
       "        text-align: right;\n",
       "    }\n",
       "</style>\n",
       "<table border=\"1\" class=\"dataframe\">\n",
       "  <thead>\n",
       "    <tr style=\"text-align: right;\">\n",
       "      <th></th>\n",
       "      <th>Price</th>\n",
       "      <th>RegistrationYear</th>\n",
       "      <th>Power</th>\n",
       "      <th>Kilometer</th>\n",
       "      <th>RegistrationMonth</th>\n",
       "      <th>NumberOfPictures</th>\n",
       "      <th>PostalCode</th>\n",
       "    </tr>\n",
       "  </thead>\n",
       "  <tbody>\n",
       "    <tr>\n",
       "      <th>count</th>\n",
       "      <td>354369.000000</td>\n",
       "      <td>354369.000000</td>\n",
       "      <td>354369.000000</td>\n",
       "      <td>354369.000000</td>\n",
       "      <td>354369.000000</td>\n",
       "      <td>354369.0</td>\n",
       "      <td>354369.000000</td>\n",
       "    </tr>\n",
       "    <tr>\n",
       "      <th>mean</th>\n",
       "      <td>4416.656776</td>\n",
       "      <td>2004.234448</td>\n",
       "      <td>110.094337</td>\n",
       "      <td>128211.172535</td>\n",
       "      <td>5.714645</td>\n",
       "      <td>0.0</td>\n",
       "      <td>50508.689087</td>\n",
       "    </tr>\n",
       "    <tr>\n",
       "      <th>std</th>\n",
       "      <td>4514.158514</td>\n",
       "      <td>90.227958</td>\n",
       "      <td>189.850405</td>\n",
       "      <td>37905.341530</td>\n",
       "      <td>3.726421</td>\n",
       "      <td>0.0</td>\n",
       "      <td>25783.096248</td>\n",
       "    </tr>\n",
       "    <tr>\n",
       "      <th>min</th>\n",
       "      <td>0.000000</td>\n",
       "      <td>1000.000000</td>\n",
       "      <td>0.000000</td>\n",
       "      <td>5000.000000</td>\n",
       "      <td>0.000000</td>\n",
       "      <td>0.0</td>\n",
       "      <td>1067.000000</td>\n",
       "    </tr>\n",
       "    <tr>\n",
       "      <th>25%</th>\n",
       "      <td>1050.000000</td>\n",
       "      <td>1999.000000</td>\n",
       "      <td>69.000000</td>\n",
       "      <td>125000.000000</td>\n",
       "      <td>3.000000</td>\n",
       "      <td>0.0</td>\n",
       "      <td>30165.000000</td>\n",
       "    </tr>\n",
       "    <tr>\n",
       "      <th>50%</th>\n",
       "      <td>2700.000000</td>\n",
       "      <td>2003.000000</td>\n",
       "      <td>105.000000</td>\n",
       "      <td>150000.000000</td>\n",
       "      <td>6.000000</td>\n",
       "      <td>0.0</td>\n",
       "      <td>49413.000000</td>\n",
       "    </tr>\n",
       "    <tr>\n",
       "      <th>75%</th>\n",
       "      <td>6400.000000</td>\n",
       "      <td>2008.000000</td>\n",
       "      <td>143.000000</td>\n",
       "      <td>150000.000000</td>\n",
       "      <td>9.000000</td>\n",
       "      <td>0.0</td>\n",
       "      <td>71083.000000</td>\n",
       "    </tr>\n",
       "    <tr>\n",
       "      <th>max</th>\n",
       "      <td>20000.000000</td>\n",
       "      <td>9999.000000</td>\n",
       "      <td>20000.000000</td>\n",
       "      <td>150000.000000</td>\n",
       "      <td>12.000000</td>\n",
       "      <td>0.0</td>\n",
       "      <td>99998.000000</td>\n",
       "    </tr>\n",
       "  </tbody>\n",
       "</table>\n",
       "</div>"
      ],
      "text/plain": [
       "               Price  RegistrationYear          Power      Kilometer  \\\n",
       "count  354369.000000     354369.000000  354369.000000  354369.000000   \n",
       "mean     4416.656776       2004.234448     110.094337  128211.172535   \n",
       "std      4514.158514         90.227958     189.850405   37905.341530   \n",
       "min         0.000000       1000.000000       0.000000    5000.000000   \n",
       "25%      1050.000000       1999.000000      69.000000  125000.000000   \n",
       "50%      2700.000000       2003.000000     105.000000  150000.000000   \n",
       "75%      6400.000000       2008.000000     143.000000  150000.000000   \n",
       "max     20000.000000       9999.000000   20000.000000  150000.000000   \n",
       "\n",
       "       RegistrationMonth  NumberOfPictures     PostalCode  \n",
       "count      354369.000000          354369.0  354369.000000  \n",
       "mean            5.714645               0.0   50508.689087  \n",
       "std             3.726421               0.0   25783.096248  \n",
       "min             0.000000               0.0    1067.000000  \n",
       "25%             3.000000               0.0   30165.000000  \n",
       "50%             6.000000               0.0   49413.000000  \n",
       "75%             9.000000               0.0   71083.000000  \n",
       "max            12.000000               0.0   99998.000000  "
      ]
     },
     "metadata": {},
     "output_type": "display_data"
    }
   ],
   "source": [
    "# рассмотрим основную информацию по датасету\n",
    "print('\\n\\n-------------------------Основная информация о данных---------------------------------\\n\\n')\n",
    "display(df.info())\n",
    "display(df.describe())"
   ]
  },
  {
   "cell_type": "code",
   "execution_count": 10,
   "metadata": {
    "colab": {
     "base_uri": "https://localhost:8080/"
    },
    "id": "zezv6UqvK2bK",
    "outputId": "36e34926-ad5e-4dc6-eabd-b7f19baeae37"
   },
   "outputs": [
    {
     "name": "stdout",
     "output_type": "stream",
     "text": [
      "Данные охватывают период с 2014-03-10 00:00:00 по 2016-04-07 00:00:00\n"
     ]
    }
   ],
   "source": [
    "# рассмотрим какой период охватывают данные\n",
    "min_timestamp = df['DateCreated'].min()\n",
    "max_timestamp = df['DateCreated'].max()\n",
    "\n",
    "print(f\"Данные охватывают период с {min_timestamp} по {max_timestamp}\")"
   ]
  },
  {
   "cell_type": "markdown",
   "metadata": {
    "id": "EKcuaLKlK2bL"
   },
   "source": [
    "**Вывод:**\n",
    "\n",
    "Основываясь на предварительном обзоре датафрейма отметим следующее:\n",
    "- Таблица содержит 16 столбцов, из них три признака формата дата, 7 числовых признаков — 2 из которых также имеют отношение к дате, и 6 признаков категориального типа.\n",
    "- Столбец `Price` — целевой признак, содержит количественные значения и представляет цену авто (в евро).\n",
    "- Очевидно, не все признаки будут информативны для обучения модели регрессии (например `DateCrawled`, `LastSeen`, `PostalCode` и `NumberOfPictures`).\n",
    "- Названия колонок следует привести к единому стилю.\n",
    "- Количество значений в столбцах различается. Значит, в данных есть пропущенные значения, которые следует обратотать.\n",
    "- Данные охватывают период с 2014 по 2016 год.\n",
    "- Объёма данных достаточно для дальнейшего исследования."
   ]
  },
  {
   "cell_type": "markdown",
   "metadata": {
    "id": "Squ202VAK2bL"
   },
   "source": [
    "## Предобработка данных"
   ]
  },
  {
   "cell_type": "markdown",
   "metadata": {
    "id": "a286Xv7IK2bL"
   },
   "source": [
    "1. Приведём названия столбцов к змеиному регистру.\n",
    "2. Удалим неинформативные признаки.\n",
    "3. Проверим датасет на наличие пропусков и дубликатов.\n",
    "4. При необходимости устраним аномалии."
   ]
  },
  {
   "cell_type": "code",
   "execution_count": 11,
   "metadata": {
    "id": "aE_3KGmpK2bL"
   },
   "outputs": [],
   "source": [
    "# приведём названия столбцов к змеиному регистру\n",
    "df.columns = [re.sub(r'(?<!^)(?=[A-Z])', '_', x).lower() for x in df.columns]"
   ]
  },
  {
   "cell_type": "markdown",
   "metadata": {
    "id": "OVCR45JNK2bL"
   },
   "source": [
    "Для прогноза стоимости автомобиля, следующие признаки не представляют информации релевантной целям обучения модели регрессии:\n",
    "- `date_crawled` — дата скачивания анкеты из базы\n",
    "- `registration_month` — месяц регистрации автомобиля\n",
    "- `date_created` — дата создания анкеты\n",
    "- `number_of_pictures` — количество фотографий автомобиля (все значения в колонке нулевые)\n",
    "- `postal_code` — почтовый индекс владельца анкеты\n",
    "- `last_seen` — дата последней активности пользователя\n",
    "На основе предварительного обзора данных примем решение их исключить. Кроме того, удаление указанных переменных позволит не вносить шум и не стимулировать модель находить ложные зависимости."
   ]
  },
  {
   "cell_type": "code",
   "execution_count": 12,
   "metadata": {
    "id": "crRHj3zHK2bM"
   },
   "outputs": [],
   "source": [
    "# удалим столбцы с неинформативными для модели регрессии признаками\n",
    "df = df.drop(columns=[\n",
    "    'date_crawled',\n",
    "    'registration_month',\n",
    "    'date_created',\n",
    "    'number_of_pictures',\n",
    "    'postal_code',\n",
    "    'last_seen'\n",
    "], axis=1)"
   ]
  },
  {
   "cell_type": "markdown",
   "metadata": {
    "id": "gJ6CjMmtK2bM"
   },
   "source": [
    "После удаления неинформативных колонок, оценим наличие явных и неявных дубликатов, а также количество пропусков."
   ]
  },
  {
   "cell_type": "code",
   "execution_count": 13,
   "metadata": {
    "colab": {
     "base_uri": "https://localhost:8080/"
    },
    "id": "f-DJQ_wgK2bM",
    "outputId": "216ec702-5106-459b-c455-d36a76294bd4",
    "scrolled": true
   },
   "outputs": [
    {
     "name": "stdout",
     "output_type": "stream",
     "text": [
      "Количество явных дубликатов: 45040\n",
      "Количество пропусков:\n",
      "price                    0\n",
      "vehicle_type         37490\n",
      "registration_year        0\n",
      "gearbox              19833\n",
      "power                    0\n",
      "model                19705\n",
      "kilometer                0\n",
      "fuel_type            32895\n",
      "brand                    0\n",
      "repaired             71154\n",
      "dtype: int64\n"
     ]
    }
   ],
   "source": [
    "# вызовем функцию data_isnull_isdup() и оценим количество пропусков и дубликатов\n",
    "data_isnull_isdup(df)"
   ]
  },
  {
   "cell_type": "code",
   "execution_count": 14,
   "metadata": {
    "colab": {
     "base_uri": "https://localhost:8080/"
    },
    "id": "qdQ9xrZdK2bM",
    "outputId": "45e37a95-f6bb-4ddc-f6e0-aa2b676d5131"
   },
   "outputs": [
    {
     "data": {
      "text/plain": [
       "price                0.000000\n",
       "vehicle_type         0.105794\n",
       "registration_year    0.000000\n",
       "gearbox              0.055967\n",
       "power                0.000000\n",
       "model                0.055606\n",
       "kilometer            0.000000\n",
       "fuel_type            0.092827\n",
       "brand                0.000000\n",
       "repaired             0.200791\n",
       "dtype: float64"
      ]
     },
     "execution_count": 14,
     "metadata": {},
     "output_type": "execute_result"
    }
   ],
   "source": [
    "# оценим долю пропущенных значений\n",
    "df.isna().mean()"
   ]
  },
  {
   "cell_type": "markdown",
   "metadata": {
    "id": "nDLJbE7wK2bM"
   },
   "source": [
    "**Вывод:**\n",
    "- В датафрейме есть дубликаты, избавимся от них после обработки пропусков.\n",
    "- В числовых столбцах пропусков не обнаружено.\n",
    "- В пяти столбцах категориального типа обнаружено значительное количество пропусков.\n",
    "- Рассмотрим столбцы более детально, чтобы определить оптимальный способ обработки пропущенных значений и аномалий."
   ]
  },
  {
   "cell_type": "markdown",
   "metadata": {
    "id": "yWwysionK2bN"
   },
   "source": [
    "## Исследовательский анализ данных"
   ]
  },
  {
   "cell_type": "markdown",
   "metadata": {
    "id": "5z-UsChbK2bN"
   },
   "source": [
    "- Проведём исследовательский анализ всех признаков.\n",
    "- Оценим их особенности для выбора корректных способов подготовки к обучению модели.\n",
    "\n",
    "**1. Анализ категориальных признаков**"
   ]
  },
  {
   "cell_type": "code",
   "execution_count": 15,
   "metadata": {
    "colab": {
     "base_uri": "https://localhost:8080/",
     "height": 175
    },
    "id": "951nzvyeK2bN",
    "outputId": "649c936b-a6cb-410e-9282-9d40cfcc71a2"
   },
   "outputs": [
    {
     "data": {
      "text/html": [
       "<div>\n",
       "<style scoped>\n",
       "    .dataframe tbody tr th:only-of-type {\n",
       "        vertical-align: middle;\n",
       "    }\n",
       "\n",
       "    .dataframe tbody tr th {\n",
       "        vertical-align: top;\n",
       "    }\n",
       "\n",
       "    .dataframe thead th {\n",
       "        text-align: right;\n",
       "    }\n",
       "</style>\n",
       "<table border=\"1\" class=\"dataframe\">\n",
       "  <thead>\n",
       "    <tr style=\"text-align: right;\">\n",
       "      <th></th>\n",
       "      <th>vehicle_type</th>\n",
       "      <th>gearbox</th>\n",
       "      <th>model</th>\n",
       "      <th>fuel_type</th>\n",
       "      <th>brand</th>\n",
       "      <th>repaired</th>\n",
       "    </tr>\n",
       "  </thead>\n",
       "  <tbody>\n",
       "    <tr>\n",
       "      <th>count</th>\n",
       "      <td>316879</td>\n",
       "      <td>334536</td>\n",
       "      <td>334664</td>\n",
       "      <td>321474</td>\n",
       "      <td>354369</td>\n",
       "      <td>283215</td>\n",
       "    </tr>\n",
       "    <tr>\n",
       "      <th>unique</th>\n",
       "      <td>8</td>\n",
       "      <td>2</td>\n",
       "      <td>250</td>\n",
       "      <td>7</td>\n",
       "      <td>40</td>\n",
       "      <td>2</td>\n",
       "    </tr>\n",
       "    <tr>\n",
       "      <th>top</th>\n",
       "      <td>sedan</td>\n",
       "      <td>manual</td>\n",
       "      <td>golf</td>\n",
       "      <td>petrol</td>\n",
       "      <td>volkswagen</td>\n",
       "      <td>no</td>\n",
       "    </tr>\n",
       "    <tr>\n",
       "      <th>freq</th>\n",
       "      <td>91457</td>\n",
       "      <td>268251</td>\n",
       "      <td>29232</td>\n",
       "      <td>216352</td>\n",
       "      <td>77013</td>\n",
       "      <td>247161</td>\n",
       "    </tr>\n",
       "  </tbody>\n",
       "</table>\n",
       "</div>"
      ],
      "text/plain": [
       "       vehicle_type gearbox   model fuel_type       brand repaired\n",
       "count        316879  334536  334664    321474      354369   283215\n",
       "unique            8       2     250         7          40        2\n",
       "top           sedan  manual    golf    petrol  volkswagen       no\n",
       "freq          91457  268251   29232    216352       77013   247161"
      ]
     },
     "execution_count": 15,
     "metadata": {},
     "output_type": "execute_result"
    }
   ],
   "source": [
    "# рассмотрим описательные статистики по категориальным столбцам\n",
    "df.describe(include='object')"
   ]
  },
  {
   "cell_type": "code",
   "execution_count": 16,
   "metadata": {
    "colab": {
     "base_uri": "https://localhost:8080/"
    },
    "id": "zdQBV4gvK2bN",
    "outputId": "20571d94-c85a-4234-97a7-b704a6ddadca"
   },
   "outputs": [
    {
     "name": "stdout",
     "output_type": "stream",
     "text": [
      "Уникальные значения для vehicle_type: [nan 'coupe' 'suv' 'small' 'sedan' 'convertible' 'bus' 'wagon' 'other']\n",
      "Уникальные значения для gearbox: ['manual' 'auto' nan]\n",
      "Уникальные значения для model: ['golf' nan 'grand' 'fabia' '3er' '2_reihe' 'other' 'c_max' '3_reihe'\n",
      " 'passat' 'navara' 'ka' 'polo' 'twingo' 'a_klasse' 'scirocco' '5er'\n",
      " 'meriva' 'arosa' 'c4' 'civic' 'transporter' 'punto' 'e_klasse' 'clio'\n",
      " 'kadett' 'kangoo' 'corsa' 'one' 'fortwo' '1er' 'b_klasse' 'signum'\n",
      " 'astra' 'a8' 'jetta' 'fiesta' 'c_klasse' 'micra' 'vito' 'sprinter' '156'\n",
      " 'escort' 'forester' 'xc_reihe' 'scenic' 'a4' 'a1' 'insignia' 'combo'\n",
      " 'focus' 'tt' 'a6' 'jazz' 'omega' 'slk' '7er' '80' '147' '100' 'z_reihe'\n",
      " 'sportage' 'sorento' 'v40' 'ibiza' 'mustang' 'eos' 'touran' 'getz' 'a3'\n",
      " 'almera' 'megane' 'lupo' 'r19' 'zafira' 'caddy' 'mondeo' 'cordoba' 'colt'\n",
      " 'impreza' 'vectra' 'berlingo' 'tiguan' 'i_reihe' 'espace' 'sharan'\n",
      " '6_reihe' 'panda' 'up' 'seicento' 'ceed' '5_reihe' 'yeti' 'octavia' 'mii'\n",
      " 'rx_reihe' '6er' 'modus' 'fox' 'matiz' 'beetle' 'c1' 'rio' 'touareg'\n",
      " 'logan' 'spider' 'cuore' 's_max' 'a2' 'galaxy' 'c3' 'viano' 's_klasse'\n",
      " '1_reihe' 'avensis' 'roomster' 'sl' 'kaefer' 'santa' 'cooper' 'leon'\n",
      " '4_reihe' 'a5' '500' 'laguna' 'ptcruiser' 'clk' 'primera' 'x_reihe'\n",
      " 'exeo' '159' 'transit' 'juke' 'qashqai' 'carisma' 'accord' 'corolla'\n",
      " 'lanos' 'phaeton' 'verso' 'swift' 'rav' 'picanto' 'boxster' 'kalos'\n",
      " 'superb' 'stilo' 'alhambra' 'mx_reihe' 'roadster' 'ypsilon' 'cayenne'\n",
      " 'galant' 'justy' '90' 'sirion' 'crossfire' 'agila' 'duster' 'cr_reihe'\n",
      " 'v50' 'c_reihe' 'v_klasse' 'm_klasse' 'yaris' 'c5' 'aygo' 'cc' 'carnival'\n",
      " 'fusion' '911' 'bora' 'forfour' 'm_reihe' 'cl' 'tigra' '300c' 'spark'\n",
      " 'v70' 'kuga' 'x_type' 'ducato' 's_type' 'x_trail' 'toledo' 'altea'\n",
      " 'voyager' 'calibra' 'bravo' 'antara' 'tucson' 'citigo' 'jimny' 'wrangler'\n",
      " 'lybra' 'q7' 'lancer' 'captiva' 'c2' 'discovery' 'freelander' 'sandero'\n",
      " 'note' '900' 'cherokee' 'clubman' 'samara' 'defender' '601' 'cx_reihe'\n",
      " 'legacy' 'pajero' 'auris' 'niva' 's60' 'nubira' 'vivaro' 'g_klasse'\n",
      " 'lodgy' '850' 'range_rover' 'q3' 'serie_2' 'glk' 'charade' 'croma'\n",
      " 'outlander' 'doblo' 'musa' 'move' '9000' 'v60' '145' 'aveo' '200' 'b_max'\n",
      " 'range_rover_sport' 'terios' 'rangerover' 'q5' 'range_rover_evoque'\n",
      " 'materia' 'delta' 'gl' 'kalina' 'amarok' 'elefantino' 'i3' 'kappa'\n",
      " 'serie_3' 'serie_1']\n",
      "Уникальные значения для fuel_type: ['petrol' 'gasoline' nan 'lpg' 'other' 'hybrid' 'cng' 'electric']\n",
      "Уникальные значения для brand: ['volkswagen' 'audi' 'jeep' 'skoda' 'bmw' 'peugeot' 'ford' 'mazda'\n",
      " 'nissan' 'renault' 'mercedes_benz' 'opel' 'seat' 'citroen' 'honda' 'fiat'\n",
      " 'mini' 'smart' 'hyundai' 'sonstige_autos' 'alfa_romeo' 'subaru' 'volvo'\n",
      " 'mitsubishi' 'kia' 'suzuki' 'lancia' 'toyota' 'chevrolet' 'dacia'\n",
      " 'daihatsu' 'trabant' 'saab' 'chrysler' 'jaguar' 'daewoo' 'porsche'\n",
      " 'rover' 'land_rover' 'lada']\n",
      "Уникальные значения для repaired: [nan 'yes' 'no']\n"
     ]
    }
   ],
   "source": [
    "# просмотр уникальных значений в столбцах с категориальными признаками\n",
    "cat_var = df.select_dtypes(exclude='number').columns.tolist()\n",
    "\n",
    "for col in cat_var:\n",
    "    unique_values = df[col].unique()\n",
    "    print(f\"Уникальные значения для {col}: {unique_values}\")"
   ]
  },
  {
   "cell_type": "markdown",
   "metadata": {
    "id": "NWwu3emVK2bN"
   },
   "source": [
    "**Вывод:**\n",
    "- Пропуски в категориальных столбцах обозначим строкой `unknown`, так как для них нет иной обоснованной замены.\n",
    "- Унифицируем названия типов топлива **petrol** и **gasoline** в столбце `fuel_type`, так как это разные названия одного и того же топлива в разных географических местах (в т.ч. Великобритания и США)."
   ]
  },
  {
   "cell_type": "code",
   "execution_count": 17,
   "metadata": {
    "id": "ahBMOcO_K2bO"
   },
   "outputs": [],
   "source": [
    "# пропуски в категориальных столбцах обозначим строкой 'unknown'\n",
    "df[cat_var] = df[cat_var].fillna('unknown')"
   ]
  },
  {
   "cell_type": "code",
   "execution_count": 18,
   "metadata": {
    "id": "LBrOuejgK2bO"
   },
   "outputs": [],
   "source": [
    "# унифицируем названия типов топлива\n",
    "df.loc[df.fuel_type == 'gasoline', 'fuel_type'] = 'petrol'"
   ]
  },
  {
   "cell_type": "code",
   "execution_count": 19,
   "metadata": {
    "id": "nW9Q56jPK2bb"
   },
   "outputs": [],
   "source": [
    "# избавимся от дубликатов\n",
    "df = df.drop_duplicates()"
   ]
  },
  {
   "cell_type": "code",
   "execution_count": 20,
   "metadata": {
    "colab": {
     "base_uri": "https://localhost:8080/"
    },
    "id": "dRtCKzFcK2bb",
    "outputId": "8468c26c-c2c1-4a40-f1a3-59cb10057fd7"
   },
   "outputs": [
    {
     "name": "stdout",
     "output_type": "stream",
     "text": [
      "Количество явных дубликатов: 0\n",
      "Количество пропусков:\n",
      "price                0\n",
      "vehicle_type         0\n",
      "registration_year    0\n",
      "gearbox              0\n",
      "power                0\n",
      "model                0\n",
      "kilometer            0\n",
      "fuel_type            0\n",
      "brand                0\n",
      "repaired             0\n",
      "dtype: int64\n"
     ]
    }
   ],
   "source": [
    "# убедимся, что обработка проведена корректно\n",
    "data_isnull_isdup(df)"
   ]
  },
  {
   "cell_type": "markdown",
   "metadata": {
    "id": "Dg6kW4yMK2bc"
   },
   "source": [
    "**2. Анализ количественных признаков**"
   ]
  },
  {
   "cell_type": "code",
   "execution_count": 21,
   "metadata": {
    "colab": {
     "base_uri": "https://localhost:8080/",
     "height": 175
    },
    "id": "AJQOVNcsK2bc",
    "outputId": "fe3623f5-3ec3-47e4-e4cb-95c7fcdd0aa8"
   },
   "outputs": [
    {
     "data": {
      "text/html": [
       "<div>\n",
       "<style scoped>\n",
       "    .dataframe tbody tr th:only-of-type {\n",
       "        vertical-align: middle;\n",
       "    }\n",
       "\n",
       "    .dataframe tbody tr th {\n",
       "        vertical-align: top;\n",
       "    }\n",
       "\n",
       "    .dataframe thead th {\n",
       "        text-align: right;\n",
       "    }\n",
       "</style>\n",
       "<table border=\"1\" class=\"dataframe\">\n",
       "  <thead>\n",
       "    <tr style=\"text-align: right;\">\n",
       "      <th></th>\n",
       "      <th>count</th>\n",
       "      <th>mean</th>\n",
       "      <th>std</th>\n",
       "      <th>min</th>\n",
       "      <th>25%</th>\n",
       "      <th>50%</th>\n",
       "      <th>75%</th>\n",
       "      <th>max</th>\n",
       "    </tr>\n",
       "  </thead>\n",
       "  <tbody>\n",
       "    <tr>\n",
       "      <th>price</th>\n",
       "      <td>308482.0</td>\n",
       "      <td>4491.309953</td>\n",
       "      <td>4568.212025</td>\n",
       "      <td>0.0</td>\n",
       "      <td>1100.0</td>\n",
       "      <td>2800.0</td>\n",
       "      <td>6500.0</td>\n",
       "      <td>20000.0</td>\n",
       "    </tr>\n",
       "    <tr>\n",
       "      <th>registration_year</th>\n",
       "      <td>308482.0</td>\n",
       "      <td>2004.364767</td>\n",
       "      <td>92.667966</td>\n",
       "      <td>1000.0</td>\n",
       "      <td>1999.0</td>\n",
       "      <td>2003.0</td>\n",
       "      <td>2008.0</td>\n",
       "      <td>9999.0</td>\n",
       "    </tr>\n",
       "    <tr>\n",
       "      <th>power</th>\n",
       "      <td>308482.0</td>\n",
       "      <td>111.022951</td>\n",
       "      <td>201.227700</td>\n",
       "      <td>0.0</td>\n",
       "      <td>69.0</td>\n",
       "      <td>105.0</td>\n",
       "      <td>143.0</td>\n",
       "      <td>20000.0</td>\n",
       "    </tr>\n",
       "    <tr>\n",
       "      <th>kilometer</th>\n",
       "      <td>308482.0</td>\n",
       "      <td>127164.242970</td>\n",
       "      <td>38563.538353</td>\n",
       "      <td>5000.0</td>\n",
       "      <td>125000.0</td>\n",
       "      <td>150000.0</td>\n",
       "      <td>150000.0</td>\n",
       "      <td>150000.0</td>\n",
       "    </tr>\n",
       "  </tbody>\n",
       "</table>\n",
       "</div>"
      ],
      "text/plain": [
       "                      count           mean           std     min       25%  \\\n",
       "price              308482.0    4491.309953   4568.212025     0.0    1100.0   \n",
       "registration_year  308482.0    2004.364767     92.667966  1000.0    1999.0   \n",
       "power              308482.0     111.022951    201.227700     0.0      69.0   \n",
       "kilometer          308482.0  127164.242970  38563.538353  5000.0  125000.0   \n",
       "\n",
       "                        50%       75%       max  \n",
       "price                2800.0    6500.0   20000.0  \n",
       "registration_year    2003.0    2008.0    9999.0  \n",
       "power                 105.0     143.0   20000.0  \n",
       "kilometer          150000.0  150000.0  150000.0  "
      ]
     },
     "execution_count": 21,
     "metadata": {},
     "output_type": "execute_result"
    }
   ],
   "source": [
    "# рассмотрим описательные статистики по числовым столбцам\n",
    "df.describe(include='number').T"
   ]
  },
  {
   "cell_type": "markdown",
   "metadata": {
    "id": "NakAXkxTK2bc"
   },
   "source": [
    "**Вывод:**\n",
    "- Минимальные и максимальные значения во всех числовых столбцах выглядят аномальными.\n",
    "- Возраст, мощность и пробег автомобиля могут существенно влиять на его стоимость, поэтому для корректного обучения модели следует избавиться от таких аномалий.\n",
    "- Рассмотрим данные более детально для корректной фильтрации."
   ]
  },
  {
   "cell_type": "code",
   "execution_count": 22,
   "metadata": {
    "colab": {
     "base_uri": "https://localhost:8080/",
     "height": 430
    },
    "id": "2C1b18fBK2bd",
    "outputId": "3fc33e9a-3f01-4bdd-f9a8-a56cc09a5714"
   },
   "outputs": [
    {
     "data": {
      "image/png": "[encoded data removed]",
      "text/plain": [
       "<Figure size 432x288 with 1 Axes>"
      ]
     },
     "metadata": {
      "needs_background": "light"
     },
     "output_type": "display_data"
    }
   ],
   "source": [
    "# список числовых признаков таблицы\n",
    "num_var = df.select_dtypes(include='number').columns.tolist()\n",
    "\n",
    "# построим диаграмму ящик с усами\n",
    "sns.boxplot(data=df[num_var], orient='h')\n",
    "plt.yticks(range(len(num_var)), num_var)\n",
    "plt.show()"
   ]
  },
  {
   "cell_type": "markdown",
   "metadata": {
    "id": "seqbH9yBK2bd"
   },
   "source": [
    "**Вывод:**\n",
    "- На графике очевидны выбросы.\n",
    "- Визуализируем распределение значений по каждому признаку и избавимся от аномалий."
   ]
  },
  {
   "cell_type": "code",
   "execution_count": 23,
   "metadata": {
    "colab": {
     "base_uri": "https://localhost:8080/",
     "height": 468
    },
    "id": "uLWA7M7tK2bd",
    "outputId": "822f4c3f-821b-4935-9623-c7e7f8d71345",
    "scrolled": true
   },
   "outputs": [
    {
     "data": {
      "image/png": "[encoded data removed]",
      "text/plain": [
       "<Figure size 720x360 with 2 Axes>"
      ]
     },
     "metadata": {
      "needs_background": "light"
     },
     "output_type": "display_data"
    }
   ],
   "source": [
    "# рассмотрим значения в price\n",
    "fig, axes = plt.subplots(nrows=1, ncols=2, figsize=(10,5))\n",
    "df['price'].plot(kind='hist', bins=10, ax=axes[0])\n",
    "axes[0].set_title('Гистограмма распределения')\n",
    "df['price'].plot(kind='box', ax=axes[1])\n",
    "axes[1].set_title('Разброс значений признака')\n",
    "plt.show()"
   ]
  },
  {
   "cell_type": "markdown",
   "metadata": {
    "id": "qnXBrww5K2bd"
   },
   "source": [
    "**Вывод:**\n",
    "- Гистограмма скошена вправо, распределение имеет положительную асимметрию, большая часть значений приближена к нулю, что не является типичным в контексте определения цены.\n",
    "- Выбросы указывают, что есть авто с необычно высокими ценами по сравнению с остальной частью набора данных.\n",
    "- Избавимся от аномальных значений. Установим нижню границу стоимости автомобиля в 500 евро."
   ]
  },
  {
   "cell_type": "code",
   "execution_count": 24,
   "metadata": {
    "id": "QlbMoU9nK2be"
   },
   "outputs": [],
   "source": [
    "# фильтруем данные\n",
    "df = df[df['price'] > 500]"
   ]
  },
  {
   "cell_type": "code",
   "execution_count": 25,
   "metadata": {
    "colab": {
     "base_uri": "https://localhost:8080/",
     "height": 468
    },
    "id": "1TI34YNAK2be",
    "outputId": "2606672a-52f1-4401-b772-126eed148ac4",
    "scrolled": true
   },
   "outputs": [
    {
     "data": {
      "image/png": "[encoded data removed]",
      "text/plain": [
       "<Figure size 720x360 with 2 Axes>"
      ]
     },
     "metadata": {
      "needs_background": "light"
     },
     "output_type": "display_data"
    }
   ],
   "source": [
    "# рассмотрим значения в registration_year\n",
    "fig, axes = plt.subplots(nrows=1, ncols=2, figsize=(10,5))\n",
    "df['registration_year'].plot(kind='hist', bins=100, ax=axes[0])\n",
    "axes[0].set_title('Гистограмма распределения')\n",
    "df['registration_year'].plot(kind='box', ax=axes[1])\n",
    "axes[1].set_title('Разброс значений признака')\n",
    "plt.show()"
   ]
  },
  {
   "cell_type": "markdown",
   "metadata": {
    "id": "83q7B4MNK2be"
   },
   "source": [
    "**Вывод:**\n",
    "- Наблюдается существенный разброс значений, а также выбросы и аномалии.\n",
    "- Напомним, что данные представлены за 2014 - 2016 гг., значит авто зарегистрированные позднее 2016 года — аномалии.\n",
    "- Год выпуска может существенно влиять на стоимость авто. Следовало бы уточнить у заказчика детали того, нужно ли включать автомобили ретро класса. В текущих условиях такой возможности нет, поэтому по-умолчанию исключим антикварные авто.\n",
    "- Руководствуясь классификацией FIVA http://gaz21.ru/articles/misc/180-klassifikacija-avtomobilejj-fiva.html, за нижний порог примем год, который уже не включает раритетные авто. Ограничимся одним процентом."
   ]
  },
  {
   "cell_type": "code",
   "execution_count": 26,
   "metadata": {
    "colab": {
     "base_uri": "https://localhost:8080/"
    },
    "id": "Bk6gNCDuK2be",
    "outputId": "9be09deb-2e51-417d-bc86-4a89343d0d42"
   },
   "outputs": [
    {
     "data": {
      "text/plain": [
       "1979.0"
      ]
     },
     "execution_count": 26,
     "metadata": {},
     "output_type": "execute_result"
    }
   ],
   "source": [
    "# вычислим нижний предел для 'registration_year' на основе 1-го процентиля\n",
    "lower_limit_year = df['registration_year'].quantile(0.01)\n",
    "lower_limit_year"
   ]
  },
  {
   "cell_type": "code",
   "execution_count": 27,
   "metadata": {
    "id": "RCcx0EGIK2bf"
   },
   "outputs": [],
   "source": [
    "# фильтруем данные\n",
    "df = df[(df['registration_year'] > 1979) & (df['registration_year'] < 2016)]"
   ]
  },
  {
   "cell_type": "code",
   "execution_count": 28,
   "metadata": {
    "colab": {
     "base_uri": "https://localhost:8080/",
     "height": 468
    },
    "id": "I2bVzhATK2bf",
    "outputId": "cf523640-7366-46d0-b11f-0ebc47a1bc0d",
    "scrolled": true
   },
   "outputs": [
    {
     "data": {
      "image/png": "[encoded data removed]",
      "text/plain": [
       "<Figure size 720x360 with 2 Axes>"
      ]
     },
     "metadata": {
      "needs_background": "light"
     },
     "output_type": "display_data"
    }
   ],
   "source": [
    "# рассмотрим значения в power\n",
    "fig, axes = plt.subplots(nrows=1, ncols=2, figsize=(10,5))\n",
    "df['power'].plot(kind='hist', bins=100, ax=axes[0])\n",
    "axes[0].set_title('Гистограмма распределения')\n",
    "df['power'].plot(kind='box', ax=axes[1])\n",
    "axes[1].set_title('Разброс значений признака')\n",
    "plt.show()"
   ]
  },
  {
   "cell_type": "code",
   "execution_count": 29,
   "metadata": {
    "colab": {
     "base_uri": "https://localhost:8080/"
    },
    "id": "ETtK32U9K2bf",
    "outputId": "315d7168-ef28-404c-d549-4db74194a807"
   },
   "outputs": [
    {
     "data": {
      "text/plain": [
       "19626"
      ]
     },
     "execution_count": 29,
     "metadata": {},
     "output_type": "execute_result"
    }
   ],
   "source": [
    "# оценим количество нулевых значений\n",
    "len(df[df.power == 0])"
   ]
  },
  {
   "cell_type": "markdown",
   "metadata": {
    "id": "Tu-kLYOkK2bg"
   },
   "source": [
    "**Вывод:**\n",
    "- Согласно графикам, в столбеце довольно много нулевых значений, а также аномально высоких значений мощности.\n",
    "- Нулевые значения будем учитывать при подготовке данных для обучения модели.\n",
    "- Верхний порог мощности ограничим 600 л.с., принимая во внимание европейскую классификацию авто https://mafin.ru/media/razbory/evropejskaya-klassifikaciya-avto. Нижний порог установим от 50 л.с."
   ]
  },
  {
   "cell_type": "code",
   "execution_count": 30,
   "metadata": {
    "id": "AthjvHyUK2bg"
   },
   "outputs": [],
   "source": [
    "# фильтруем данные\n",
    "df = df[(df['power'] > 50) & (df['power'] < 600)]"
   ]
  },
  {
   "cell_type": "code",
   "execution_count": 31,
   "metadata": {
    "colab": {
     "base_uri": "https://localhost:8080/",
     "height": 506
    },
    "id": "HLDGwnqCK2bg",
    "outputId": "5c0e7f5f-ea9d-40e5-bc53-d0ad79c0d848"
   },
   "outputs": [
    {
     "data": {
      "image/png": "[encoded data removed]",
      "text/plain": [
       "<Figure size 720x360 with 2 Axes>"
      ]
     },
     "metadata": {
      "needs_background": "light"
     },
     "output_type": "display_data"
    }
   ],
   "source": [
    "# рассмотрим значения в kilometer\n",
    "fig, axes = plt.subplots(nrows=1, ncols=2, figsize=(10,5))\n",
    "df['kilometer'].plot(kind='hist', bins=100, ax=axes[0])\n",
    "axes[0].set_title('Гистограмма распределения')\n",
    "axes[0].tick_params(axis='x', rotation=90)\n",
    "df['kilometer'].plot(kind='box', ax=axes[1])\n",
    "axes[1].set_title('Разброс значений признака')\n",
    "plt.show()"
   ]
  },
  {
   "cell_type": "markdown",
   "metadata": {
    "id": "zTDcLa1WK2bg"
   },
   "source": [
    "**Вывод:**\n",
    "- Форма ящика указывает, что большинство значений расположены около 150 тыс. км.\n",
    "- Диапазон пробега представленных авто колеблется в пределах от 90 до 150 тыс. км.\n",
    "- Выбросы указывают, что есть экземпляры с исключительно низким пробегом по сравнению с большинством.\n",
    "\n",
    "Построим гистограммы частотности распределения для каждого признака, чтобы получить наглядное представление о структуре данных, после фильтрации."
   ]
  },
  {
   "cell_type": "code",
   "execution_count": 32,
   "metadata": {
    "colab": {
     "base_uri": "https://localhost:8080/",
     "height": 853
    },
    "id": "PCfIwR5cK2bg",
    "outputId": "0475a484-8a43-4bff-fdb9-52d0ea0ba5e5"
   },
   "outputs": [
    {
     "data": {
      "image/png": "[encoded data removed]",
      "text/plain": [
       "<Figure size 720x720 with 4 Axes>"
      ]
     },
     "metadata": {
      "needs_background": "light"
     },
     "output_type": "display_data"
    }
   ],
   "source": [
    "# построим гистограммы после фильтрации\n",
    "df.hist(bins=50, figsize=(10, 10), edgecolor='black', linewidth=1, grid=False)\n",
    "plt.show()"
   ]
  },
  {
   "cell_type": "code",
   "execution_count": 33,
   "metadata": {
    "colab": {
     "base_uri": "https://localhost:8080/",
     "height": 430
    },
    "id": "u6qcqqoWK2bh",
    "outputId": "425af78a-c28d-4612-d713-1a3e79c51471"
   },
   "outputs": [
    {
     "data": {
      "image/png": "[encoded data removed]",
      "text/plain": [
       "<Figure size 432x288 with 1 Axes>"
      ]
     },
     "metadata": {
      "needs_background": "light"
     },
     "output_type": "display_data"
    }
   ],
   "source": [
    "# список числовых признаков таблицы\n",
    "num_var = df.select_dtypes(include='number').columns.tolist()\n",
    "\n",
    "# построим диаграмму ящик с усами после фильтрации\n",
    "sns.boxplot(data=df[num_var], orient='h')\n",
    "plt.yticks(range(len(num_var)), num_var)\n",
    "plt.show()"
   ]
  },
  {
   "cell_type": "code",
   "execution_count": 34,
   "metadata": {
    "colab": {
     "base_uri": "https://localhost:8080/",
     "height": 175
    },
    "id": "NmrG6M_6K2bh",
    "outputId": "529bad80-aee5-4493-ed3d-505bafd31b6f"
   },
   "outputs": [
    {
     "data": {
      "text/html": [
       "<div>\n",
       "<style scoped>\n",
       "    .dataframe tbody tr th:only-of-type {\n",
       "        vertical-align: middle;\n",
       "    }\n",
       "\n",
       "    .dataframe tbody tr th {\n",
       "        vertical-align: top;\n",
       "    }\n",
       "\n",
       "    .dataframe thead th {\n",
       "        text-align: right;\n",
       "    }\n",
       "</style>\n",
       "<table border=\"1\" class=\"dataframe\">\n",
       "  <thead>\n",
       "    <tr style=\"text-align: right;\">\n",
       "      <th></th>\n",
       "      <th>count</th>\n",
       "      <th>mean</th>\n",
       "      <th>std</th>\n",
       "      <th>min</th>\n",
       "      <th>25%</th>\n",
       "      <th>50%</th>\n",
       "      <th>75%</th>\n",
       "      <th>max</th>\n",
       "    </tr>\n",
       "  </thead>\n",
       "  <tbody>\n",
       "    <tr>\n",
       "      <th>price</th>\n",
       "      <td>225803.0</td>\n",
       "      <td>5411.226144</td>\n",
       "      <td>4664.604878</td>\n",
       "      <td>501.0</td>\n",
       "      <td>1750.0</td>\n",
       "      <td>3800.0</td>\n",
       "      <td>7800.0</td>\n",
       "      <td>20000.0</td>\n",
       "    </tr>\n",
       "    <tr>\n",
       "      <th>registration_year</th>\n",
       "      <td>225803.0</td>\n",
       "      <td>2003.360265</td>\n",
       "      <td>5.588844</td>\n",
       "      <td>1980.0</td>\n",
       "      <td>2000.0</td>\n",
       "      <td>2004.0</td>\n",
       "      <td>2007.0</td>\n",
       "      <td>2015.0</td>\n",
       "    </tr>\n",
       "    <tr>\n",
       "      <th>power</th>\n",
       "      <td>225803.0</td>\n",
       "      <td>126.863531</td>\n",
       "      <td>53.257198</td>\n",
       "      <td>51.0</td>\n",
       "      <td>90.0</td>\n",
       "      <td>116.0</td>\n",
       "      <td>150.0</td>\n",
       "      <td>585.0</td>\n",
       "    </tr>\n",
       "    <tr>\n",
       "      <th>kilometer</th>\n",
       "      <td>225803.0</td>\n",
       "      <td>126673.294863</td>\n",
       "      <td>37384.537357</td>\n",
       "      <td>5000.0</td>\n",
       "      <td>125000.0</td>\n",
       "      <td>150000.0</td>\n",
       "      <td>150000.0</td>\n",
       "      <td>150000.0</td>\n",
       "    </tr>\n",
       "  </tbody>\n",
       "</table>\n",
       "</div>"
      ],
      "text/plain": [
       "                      count           mean           std     min       25%  \\\n",
       "price              225803.0    5411.226144   4664.604878   501.0    1750.0   \n",
       "registration_year  225803.0    2003.360265      5.588844  1980.0    2000.0   \n",
       "power              225803.0     126.863531     53.257198    51.0      90.0   \n",
       "kilometer          225803.0  126673.294863  37384.537357  5000.0  125000.0   \n",
       "\n",
       "                        50%       75%       max  \n",
       "price                3800.0    7800.0   20000.0  \n",
       "registration_year    2004.0    2007.0    2015.0  \n",
       "power                 116.0     150.0     585.0  \n",
       "kilometer          150000.0  150000.0  150000.0  "
      ]
     },
     "execution_count": 34,
     "metadata": {},
     "output_type": "execute_result"
    }
   ],
   "source": [
    "# рассмотрим описательные статистики по числовым столбцам после фильтрации\n",
    "df.describe(include='number').T"
   ]
  },
  {
   "cell_type": "markdown",
   "metadata": {
    "id": "vprGNiP8K2bh"
   },
   "source": [
    "**Вывод:**\n",
    "1. В целом диаграмма показывает, что почти все признаки разного масштаба:\n",
    "- `price` цена измеряется в евро\n",
    "- `registration_year` обозначает год регистрации автомобиля\n",
    "- `power` мощность представлена в лошадиных силах\n",
    "- `kilometer` пробег авто в километрах\n",
    "2. Есть выбросы. Это могут быть случаи с необычно высокими и низкими значениями по сравнению с остальной частью набора данных.\n",
    "3. Все эти особенности будем учитывать при подготовке данных для обучения модели."
   ]
  },
  {
   "cell_type": "markdown",
   "metadata": {
    "id": "pGSa9J1cK2bi"
   },
   "source": [
    "**3. Корреляционный анализ признаков**\n",
    "\n",
    "После обработки данных и до обучения моделей регрессии считаем целесообразным изучить взаимосвязь между признаками.\n",
    "\n",
    "В ходе исследовательского анализа было обнаружено, что не все признаки распределены нормально, поэтому для оценки взаимосвязи будем использовать корреляцию Phik, который устойчив к выбросам и ненормальному распределению."
   ]
  },
  {
   "cell_type": "code",
   "execution_count": 35,
   "metadata": {
    "id": "jBNVol6SK2bi"
   },
   "outputs": [],
   "source": [
    "# укажем количественные признаки\n",
    "num_cols = ['price', 'power']"
   ]
  },
  {
   "cell_type": "code",
   "execution_count": 36,
   "metadata": {
    "colab": {
     "base_uri": "https://localhost:8080/",
     "height": 649
    },
    "id": "rUfRIDldK2bi",
    "outputId": "2a377663-4f6d-47fe-b79d-b25c63c3bb9a"
   },
   "outputs": [
    {
     "data": {
      "image/png": "[encoded data removed]",
      "text/plain": [
       "<Figure size 576x432 with 2 Axes>"
      ]
     },
     "metadata": {
      "needs_background": "light"
     },
     "output_type": "display_data"
    }
   ],
   "source": [
    "# рассчитаем матрицу корреляции Phi-K между всеми признаками\n",
    "phik_matrix = df.phik_matrix(interval_cols=num_cols)\n",
    "\n",
    "# построим heatmap\n",
    "plt.figure(figsize=(8, 6))\n",
    "sns.heatmap(phik_matrix, annot=True, cmap='coolwarm', vmin=-1, vmax=1)\n",
    "plt.title('Матрица корреляции Phi-K')\n",
    "plt.show()"
   ]
  },
  {
   "cell_type": "markdown",
   "metadata": {
    "id": "R37laBsbK2bi"
   },
   "source": [
    "**Вывод:**\n",
    "- Целевой признак `price` коррелирует с входным `registration_year`, коэффициент корреляции указывают на умеренную положительную связь.\n",
    "- Менее выраженная связь наблюдается между таргетом и признаками `model` и `power`.\n",
    "- Остальные входные признаки имеют слабую связь или почти не коррелируют с таргетом.\n",
    "- Матрица корреляции показывает, что в датасете не обнаружено пар признаков в количественной шкале, которые сильно коррелируют друг с другом, мультиколлинеарности не наблюдается."
   ]
  },
  {
   "cell_type": "markdown",
   "metadata": {
    "id": "Nv1chGBmK2bk"
   },
   "source": [
    "## Обучение моделей"
   ]
  },
  {
   "cell_type": "markdown",
   "metadata": {
    "id": "t0fHDJsZK2bk"
   },
   "source": [
    "**1. Подготовим выборки для обучения моделей.**\n",
    "Перечислим особенности данных:\n",
    "- Целевой признак — цена `price`: прогнозируем непрерывный признак.\n",
    "- Входные признаки `kilometer` и `registration_year` имеют распределение категориального признака, так как задано небольшое количество уникальных значений, значит с ними также стоит работать как с категорией — используем кодирование техникой `OrdinalEncoder`.\n",
    "- Категориальные признаки: `vehicle_type`, `gearbox`, `fuel_type` и `repaired` — используем кодирование техникой `OneHotEncoder`, это категориальные переменные, в которых нет внутреннего порядка или ранжирования между категориями.\n",
    "- Категориальные признаки: `model` и `brand` — так как эти переменные содержат большое количество уникальных категорий, использование техники горячего кодирования может привести к большому количеству фиктивных переменных. Поэтому используем технику `FrequencyEncoder` и закодируем каждую категорию на основе её частоты в наборе данных.\n",
    "- Количественный признак: `power` — масштабируем. Метод масштабирования сделаем гиперпараметром, то есть зададим возможность перебора методов `StandardScaler` и `MinMaxScaler`.\n",
    "\n",
    "**2. Обучим три модели:**\n",
    "- LinearRegression()\n",
    "- DecisionTreeRegressor()\n",
    "- LGBMRegressor()\n",
    "\n",
    "**3. Подберём гиперпараметры.**\n",
    "\n",
    "**4. Оценим точность прогнозов моделей при помощи метрики RMSE.**\n",
    "\n",
    "Метрика измеряет среднюю величину ошибок между прогнозируемыми и фактическими значениями."
   ]
  },
  {
   "cell_type": "code",
   "execution_count": 37,
   "metadata": {
    "id": "0N_AgD9WK2bl"
   },
   "outputs": [],
   "source": [
    "# объявляем константы\n",
    "RANDOM_STATE = 12345\n",
    "\n",
    "# списки с названиями признаков\n",
    "num_columns = ['power']\n",
    "ord_columns = ['registration_year', 'kilometer']\n",
    "onehot_columns = ['vehicle_type', 'gearbox', 'fuel_type', 'repaired']\n",
    "count_columns = ['model', 'brand']\n",
    "\n",
    "# трансформер для количественных признаков\n",
    "num_transformer = Pipeline([\n",
    "    ('imputer', SimpleImputer(strategy='median')),\n",
    "    ('scaler', StandardScaler())\n",
    "])\n",
    "\n",
    "# трансформер для категориальных признаков OrdinalEncoder\n",
    "ord_transformer = Pipeline([\n",
    "    ('ordinal_encoder', OrdinalEncoder(handle_unknown='use_encoded_value', unknown_value=-1))\n",
    "])\n",
    "\n",
    "# трансформер для категориальных признаков OneHotEncoder\n",
    "onehot_transformer = Pipeline([\n",
    "    ('onehot', OneHotEncoder(drop='first', handle_unknown='ignore'))\n",
    "])\n",
    "\n",
    "# трансформер для категориальных признаков CountEncoder\n",
    "count_transformer = Pipeline([\n",
    "    ('count', ce.CountEncoder())\n",
    "])\n",
    "\n",
    "# общий пайплайн для подготовки данных\n",
    "preprocessor = ColumnTransformer(\n",
    "    transformers=[\n",
    "        ('num', num_transformer, num_columns),\n",
    "        ('ord', ord_transformer, ord_columns),\n",
    "        ('onehot', onehot_transformer, onehot_columns),\n",
    "        ('count', count_transformer, count_columns)\n",
    "    ])\n",
    "\n",
    "# деление на выборки\n",
    "X_train, X_test, y_train, y_test = train_test_split(\n",
    "    df.drop('price', axis=1),\n",
    "    df['price'],\n",
    "    test_size=0.25,\n",
    "    random_state=RANDOM_STATE\n",
    ")\n",
    "\n",
    "# преобразование тренировочного набора\n",
    "X_train_preprocessed = preprocessor.fit_transform(X_train)\n",
    "# преобразование тестового набора\n",
    "X_test_preprocessed = preprocessor.transform(X_test)"
   ]
  },
  {
   "cell_type": "code",
   "execution_count": 38,
   "metadata": {
    "id": "iaLr5rrRK2bm"
   },
   "outputs": [],
   "source": [
    "# опускаем предупреждения\n",
    "warnings.filterwarnings('ignore')"
   ]
  },
  {
   "cell_type": "code",
   "execution_count": 39,
   "metadata": {
    "colab": {
     "base_uri": "https://localhost:8080/",
     "height": 680
    },
    "id": "bfNoELiwK2bm",
    "outputId": "c54ae049-f323-4f1d-b6db-75377014cc4b"
   },
   "outputs": [
    {
     "name": "stdout",
     "output_type": "stream",
     "text": [
      "Fitting 5 folds for each of 10 candidates, totalling 50 fits\n"
     ]
    },
    {
     "data": {
      "text/html": [
       "<div>\n",
       "<style scoped>\n",
       "    .dataframe tbody tr th:only-of-type {\n",
       "        vertical-align: middle;\n",
       "    }\n",
       "\n",
       "    .dataframe tbody tr th {\n",
       "        vertical-align: top;\n",
       "    }\n",
       "\n",
       "    .dataframe thead th {\n",
       "        text-align: right;\n",
       "    }\n",
       "</style>\n",
       "<table border=\"1\" class=\"dataframe\">\n",
       "  <thead>\n",
       "    <tr style=\"text-align: right;\">\n",
       "      <th></th>\n",
       "      <th>rank_test_score</th>\n",
       "      <th>param_models</th>\n",
       "      <th>mean_test_score</th>\n",
       "      <th>params</th>\n",
       "    </tr>\n",
       "  </thead>\n",
       "  <tbody>\n",
       "    <tr>\n",
       "      <th>8</th>\n",
       "      <td>1</td>\n",
       "      <td>LGBMRegressor(random_state=12345)</td>\n",
       "      <td>-1657.313223</td>\n",
       "      <td>{'preprocessor__num': MinMaxScaler(), 'models__num_leaves': 70, 'models__n_estimators': 120, 'models__learning_rate': 0.05, 'models': LGBMRegressor(random_state=12345)}</td>\n",
       "    </tr>\n",
       "    <tr>\n",
       "      <th>7</th>\n",
       "      <td>2</td>\n",
       "      <td>LGBMRegressor(random_state=12345)</td>\n",
       "      <td>-1694.796859</td>\n",
       "      <td>{'preprocessor__num': StandardScaler(), 'models__num_leaves': 30, 'models__n_estimators': 80, 'models__learning_rate': 0.1, 'models': LGBMRegressor(random_state=12345)}</td>\n",
       "    </tr>\n",
       "    <tr>\n",
       "      <th>2</th>\n",
       "      <td>3</td>\n",
       "      <td>LinearRegression()</td>\n",
       "      <td>-2721.386984</td>\n",
       "      <td>{'preprocessor__num': MinMaxScaler(), 'models__fit_intercept': False, 'models': LinearRegression()}</td>\n",
       "    </tr>\n",
       "    <tr>\n",
       "      <th>6</th>\n",
       "      <td>4</td>\n",
       "      <td>LGBMRegressor(random_state=12345)</td>\n",
       "      <td>-2808.237450</td>\n",
       "      <td>{'preprocessor__num': MinMaxScaler(), 'models__num_leaves': 70, 'models__n_estimators': 80, 'models__learning_rate': 0.01, 'models': LGBMRegressor(random_state=12345)}</td>\n",
       "    </tr>\n",
       "    <tr>\n",
       "      <th>5</th>\n",
       "      <td>5</td>\n",
       "      <td>LGBMRegressor(random_state=12345)</td>\n",
       "      <td>-2808.253953</td>\n",
       "      <td>{'preprocessor__num': StandardScaler(), 'models__num_leaves': 70, 'models__n_estimators': 80, 'models__learning_rate': 0.01, 'models': LGBMRegressor(random_state=12345)}</td>\n",
       "    </tr>\n",
       "    <tr>\n",
       "      <th>1</th>\n",
       "      <td>6</td>\n",
       "      <td>LGBMRegressor(random_state=12345)</td>\n",
       "      <td>-2843.371288</td>\n",
       "      <td>{'preprocessor__num': 'passthrough', 'models__num_leaves': 50, 'models__n_estimators': 80, 'models__learning_rate': 0.01, 'models': LGBMRegressor(random_state=12345)}</td>\n",
       "    </tr>\n",
       "    <tr>\n",
       "      <th>3</th>\n",
       "      <td>7</td>\n",
       "      <td>LGBMRegressor(random_state=12345)</td>\n",
       "      <td>-2902.228640</td>\n",
       "      <td>{'preprocessor__num': StandardScaler(), 'models__num_leaves': 30, 'models__n_estimators': 80, 'models__learning_rate': 0.01, 'models': LGBMRegressor(random_state=12345)}</td>\n",
       "    </tr>\n",
       "    <tr>\n",
       "      <th>4</th>\n",
       "      <td>8</td>\n",
       "      <td>LGBMRegressor(random_state=12345)</td>\n",
       "      <td>-3511.540531</td>\n",
       "      <td>{'preprocessor__num': StandardScaler(), 'models__num_leaves': 70, 'models__n_estimators': 40, 'models__learning_rate': 0.01, 'models': LGBMRegressor(random_state=12345)}</td>\n",
       "    </tr>\n",
       "    <tr>\n",
       "      <th>0</th>\n",
       "      <td>9</td>\n",
       "      <td>DecisionTreeRegressor(random_state=12345)</td>\n",
       "      <td>-4081.775700</td>\n",
       "      <td>{'preprocessor__num': MinMaxScaler(), 'models__max_features': 3, 'models__max_depth': 3, 'models': DecisionTreeRegressor(random_state=12345)}</td>\n",
       "    </tr>\n",
       "    <tr>\n",
       "      <th>9</th>\n",
       "      <td>10</td>\n",
       "      <td>DecisionTreeRegressor(random_state=12345)</td>\n",
       "      <td>-4596.989090</td>\n",
       "      <td>{'preprocessor__num': MinMaxScaler(), 'models__max_features': 2, 'models__max_depth': 3, 'models': DecisionTreeRegressor(random_state=12345)}</td>\n",
       "    </tr>\n",
       "  </tbody>\n",
       "</table>\n",
       "</div>"
      ],
      "text/plain": [
       "   rank_test_score                               param_models  \\\n",
       "8                1          LGBMRegressor(random_state=12345)   \n",
       "7                2          LGBMRegressor(random_state=12345)   \n",
       "2                3                         LinearRegression()   \n",
       "6                4          LGBMRegressor(random_state=12345)   \n",
       "5                5          LGBMRegressor(random_state=12345)   \n",
       "1                6          LGBMRegressor(random_state=12345)   \n",
       "3                7          LGBMRegressor(random_state=12345)   \n",
       "4                8          LGBMRegressor(random_state=12345)   \n",
       "0                9  DecisionTreeRegressor(random_state=12345)   \n",
       "9               10  DecisionTreeRegressor(random_state=12345)   \n",
       "\n",
       "   mean_test_score  \\\n",
       "8     -1657.313223   \n",
       "7     -1694.796859   \n",
       "2     -2721.386984   \n",
       "6     -2808.237450   \n",
       "5     -2808.253953   \n",
       "1     -2843.371288   \n",
       "3     -2902.228640   \n",
       "4     -3511.540531   \n",
       "0     -4081.775700   \n",
       "9     -4596.989090   \n",
       "\n",
       "                                                                                                                                                                      params  \n",
       "8   {'preprocessor__num': MinMaxScaler(), 'models__num_leaves': 70, 'models__n_estimators': 120, 'models__learning_rate': 0.05, 'models': LGBMRegressor(random_state=12345)}  \n",
       "7   {'preprocessor__num': StandardScaler(), 'models__num_leaves': 30, 'models__n_estimators': 80, 'models__learning_rate': 0.1, 'models': LGBMRegressor(random_state=12345)}  \n",
       "2                                                                        {'preprocessor__num': MinMaxScaler(), 'models__fit_intercept': False, 'models': LinearRegression()}  \n",
       "6    {'preprocessor__num': MinMaxScaler(), 'models__num_leaves': 70, 'models__n_estimators': 80, 'models__learning_rate': 0.01, 'models': LGBMRegressor(random_state=12345)}  \n",
       "5  {'preprocessor__num': StandardScaler(), 'models__num_leaves': 70, 'models__n_estimators': 80, 'models__learning_rate': 0.01, 'models': LGBMRegressor(random_state=12345)}  \n",
       "1     {'preprocessor__num': 'passthrough', 'models__num_leaves': 50, 'models__n_estimators': 80, 'models__learning_rate': 0.01, 'models': LGBMRegressor(random_state=12345)}  \n",
       "3  {'preprocessor__num': StandardScaler(), 'models__num_leaves': 30, 'models__n_estimators': 80, 'models__learning_rate': 0.01, 'models': LGBMRegressor(random_state=12345)}  \n",
       "4  {'preprocessor__num': StandardScaler(), 'models__num_leaves': 70, 'models__n_estimators': 40, 'models__learning_rate': 0.01, 'models': LGBMRegressor(random_state=12345)}  \n",
       "0                              {'preprocessor__num': MinMaxScaler(), 'models__max_features': 3, 'models__max_depth': 3, 'models': DecisionTreeRegressor(random_state=12345)}  \n",
       "9                              {'preprocessor__num': MinMaxScaler(), 'models__max_features': 2, 'models__max_depth': 3, 'models': DecisionTreeRegressor(random_state=12345)}  "
      ]
     },
     "metadata": {},
     "output_type": "display_data"
    },
    {
     "name": "stdout",
     "output_type": "stream",
     "text": [
      "Wall time: 30 s\n"
     ]
    }
   ],
   "source": [
    "%%time\n",
    "pipe_final = Pipeline([\n",
    "    ('preprocessor', preprocessor),\n",
    "    ('models', LinearRegression())\n",
    "])\n",
    "\n",
    "param_grid = [\n",
    "    # параметры для Linear Regression\n",
    "    {\n",
    "        'models': [LinearRegression()],\n",
    "        'models__fit_intercept': [True, False],\n",
    "        'preprocessor__num': [StandardScaler(), MinMaxScaler(), 'passthrough']\n",
    "    },\n",
    "    # параметры для Decision Tree Regressor\n",
    "    {\n",
    "        'models': [DecisionTreeRegressor(random_state=RANDOM_STATE)],\n",
    "        'models__max_depth': range(2, 5),\n",
    "        'models__max_features': range(2, 5),\n",
    "        'preprocessor__num': [StandardScaler(), MinMaxScaler(), 'passthrough']\n",
    "    },\n",
    "    # параметры для LGBM Regressor\n",
    "    {\n",
    "        'models': [LGBMRegressor(boosting_type='gbdt', random_state=RANDOM_STATE)],\n",
    "        'models__learning_rate': [0.01, 0.05, 0.1],\n",
    "        'models__num_leaves': [30, 50, 70],\n",
    "        'models__n_estimators': [40, 80, 120],\n",
    "        'preprocessor__num': [StandardScaler(), MinMaxScaler(), 'passthrough']\n",
    "    }\n",
    "]\n",
    "\n",
    "randomized_search = RandomizedSearchCV(\n",
    "    pipe_final,\n",
    "    param_distributions=param_grid,\n",
    "    cv=5,\n",
    "    scoring='neg_root_mean_squared_error',\n",
    "    random_state=RANDOM_STATE,\n",
    "    verbose=3,\n",
    "    n_jobs=-1\n",
    ")\n",
    "# обучаем модель\n",
    "randomized_search.fit(X_train, y_train)\n",
    "\n",
    "# выведем результаты оценки 10 лучших моделей\n",
    "results = pd.DataFrame(randomized_search.cv_results_)\n",
    "with pd.option_context('max_colwidth', 3000):\n",
    "    display(results[['rank_test_score', 'param_models', 'mean_test_score', 'params']]\n",
    "            .sort_values('rank_test_score').head(10))"
   ]
  },
  {
   "cell_type": "markdown",
   "metadata": {
    "id": "N5jn0ULHK2bn"
   },
   "source": [
    "## Анализ моделей"
   ]
  },
  {
   "cell_type": "markdown",
   "metadata": {
    "id": "XuCdVM_gK2bn"
   },
   "source": [
    "1. Проанализируем производительность моделей по критериям: *время обучения*, *время прогноза* и *качество прогноза*.\n",
    "2. Оценим качество лучшей модели на тестовой выборке."
   ]
  },
  {
   "cell_type": "code",
   "execution_count": 40,
   "metadata": {
    "colab": {
     "base_uri": "https://localhost:8080/"
    },
    "id": "A7tqaI5rK2bn",
    "outputId": "67396ff7-68d4-4ba4-d352-7a6759bc7ceb"
   },
   "outputs": [
    {
     "name": "stdout",
     "output_type": "stream",
     "text": [
      "Сравнение моделей:\n",
      "---------------------------------------------------------------------------------------------------\n",
      "Модель                    | Время обучения (сек) | Время прогноза (сек)    | RMSE оценка  | Гиперпараметры                                    \n",
      "---------------------------------------------------------------------------------------------------\n",
      "DecisionTreeRegressor     | 1.051                s | 0.158                   s | 4082         | {'preprocessor__num': MinMaxScaler(), 'models__max_features': 3, 'models__max_depth': 3, 'models': DecisionTreeRegressor(random_state=12345)}\n",
      "LGBMRegressor             | 4.323                s | 0.577                   s | 2843         | {'preprocessor__num': 'passthrough', 'models__num_leaves': 50, 'models__n_estimators': 80, 'models__learning_rate': 0.01, 'models': LGBMRegressor(random_state=12345)}\n",
      "LinearRegression          | 1.660                s | 0.169                   s | 2721         | {'preprocessor__num': MinMaxScaler(), 'models__fit_intercept': False, 'models': LinearRegression()}\n",
      "LGBMRegressor             | 3.186                s | 0.513                   s | 2902         | {'preprocessor__num': StandardScaler(), 'models__num_leaves': 30, 'models__n_estimators': 80, 'models__learning_rate': 0.01, 'models': LGBMRegressor(random_state=12345)}\n",
      "LGBMRegressor             | 3.442                s | 0.377                   s | 3512         | {'preprocessor__num': StandardScaler(), 'models__num_leaves': 70, 'models__n_estimators': 40, 'models__learning_rate': 0.01, 'models': LGBMRegressor(random_state=12345)}\n",
      "LGBMRegressor             | 4.482                s | 0.566                   s | 2808         | {'preprocessor__num': StandardScaler(), 'models__num_leaves': 70, 'models__n_estimators': 80, 'models__learning_rate': 0.01, 'models': LGBMRegressor(random_state=12345)}\n",
      "LGBMRegressor             | 4.422                s | 0.875                   s | 2808         | {'preprocessor__num': MinMaxScaler(), 'models__num_leaves': 70, 'models__n_estimators': 80, 'models__learning_rate': 0.01, 'models': LGBMRegressor(random_state=12345)}\n",
      "LGBMRegressor             | 4.546                s | 1.117                   s | 1695         | {'preprocessor__num': StandardScaler(), 'models__num_leaves': 30, 'models__n_estimators': 80, 'models__learning_rate': 0.1, 'models': LGBMRegressor(random_state=12345)}\n",
      "LGBMRegressor             | 6.246                s | 1.020                   s | 1657         | {'preprocessor__num': MinMaxScaler(), 'models__num_leaves': 70, 'models__n_estimators': 120, 'models__learning_rate': 0.05, 'models': LGBMRegressor(random_state=12345)}\n",
      "DecisionTreeRegressor     | 1.418                s | 0.182                   s | 4597         | {'preprocessor__num': MinMaxScaler(), 'models__max_features': 2, 'models__max_depth': 3, 'models': DecisionTreeRegressor(random_state=12345)}\n",
      "---------------------------------------------------------------------------------------------------\n",
      "\n",
      "Лучшая модель:\n",
      "---------------------------------------------------------------------------------------------------\n",
      "Параметры: {'preprocessor__num': MinMaxScaler(), 'models__num_leaves': 70, 'models__n_estimators': 120, 'models__learning_rate': 0.05, 'models': LGBMRegressor(random_state=12345)}\n",
      "RMSE оценка: 1657\n"
     ]
    }
   ],
   "source": [
    "# вывод соответствующей информации\n",
    "print(\"Сравнение моделей:\")\n",
    "print(\"---------------------------------------------------------------------------------------------------\")\n",
    "print(\"{:<25} | {:<20} | {:<23} | {:<12} | {:<50}\".format(\"Модель\", \"Время обучения (сек)\", \"Время прогноза (сек)\", \"RMSE оценка\", \"Гиперпараметры\"))\n",
    "print(\"---------------------------------------------------------------------------------------------------\")\n",
    "\n",
    "# вывод информации для каждой модели\n",
    "for i in range(results.shape[0]):\n",
    "    model_name = results.loc[i, \"param_models\"].__class__.__name__\n",
    "    train_time = results.loc[i, \"mean_fit_time\"]\n",
    "    pred_time = results.loc[i, \"mean_score_time\"]\n",
    "    rmse_score = -results.loc[i, \"mean_test_score\"]\n",
    "    hyperparameters = str(results.loc[i, \"params\"])\n",
    "\n",
    "    print(\"{:<25} | {:<20.3f} s | {:<23.3f} s | {:<12.0f} | {:<50}\".format(model_name, train_time, pred_time, rmse_score, hyperparameters))\n",
    "\n",
    "print(\"---------------------------------------------------------------------------------------------------\")\n",
    "\n",
    "# параметры лучшей модели с учетом прогнозных способностей\n",
    "best_model_idx = results[\"mean_test_score\"].idxmax()\n",
    "best_model_params = results.loc[best_model_idx, \"params\"]\n",
    "best_model_metric = -results.loc[best_model_idx, \"mean_test_score\"]\n",
    "\n",
    "print(\"\\nЛучшая модель:\")\n",
    "print(\"---------------------------------------------------------------------------------------------------\")\n",
    "print(\"Параметры:\", best_model_params)\n",
    "print(\"RMSE оценка: {:.0f}\".format(best_model_metric))"
   ]
  },
  {
   "cell_type": "code",
   "execution_count": 41,
   "metadata": {
    "colab": {
     "base_uri": "https://localhost:8080/",
     "height": 143
    },
    "id": "6ECH4ISxN-1E",
    "outputId": "1e9f97b3-434f-437b-fd27-00a90019181a"
   },
   "outputs": [
    {
     "data": {
      "text/html": [
       "<div>\n",
       "<style scoped>\n",
       "    .dataframe tbody tr th:only-of-type {\n",
       "        vertical-align: middle;\n",
       "    }\n",
       "\n",
       "    .dataframe tbody tr th {\n",
       "        vertical-align: top;\n",
       "    }\n",
       "\n",
       "    .dataframe thead th {\n",
       "        text-align: right;\n",
       "    }\n",
       "</style>\n",
       "<table border=\"1\" class=\"dataframe\">\n",
       "  <thead>\n",
       "    <tr style=\"text-align: right;\">\n",
       "      <th></th>\n",
       "      <th>model</th>\n",
       "      <th>mean_test_score</th>\n",
       "      <th>mean_fit_time</th>\n",
       "      <th>mean_score_time</th>\n",
       "    </tr>\n",
       "  </thead>\n",
       "  <tbody>\n",
       "    <tr>\n",
       "      <th>0</th>\n",
       "      <td>DecisionTreeRegressor</td>\n",
       "      <td>4081.775700</td>\n",
       "      <td>1.050734</td>\n",
       "      <td>0.158077</td>\n",
       "    </tr>\n",
       "    <tr>\n",
       "      <th>2</th>\n",
       "      <td>LinearRegression</td>\n",
       "      <td>2721.386984</td>\n",
       "      <td>1.660462</td>\n",
       "      <td>0.169138</td>\n",
       "    </tr>\n",
       "    <tr>\n",
       "      <th>8</th>\n",
       "      <td>LGBMRegressor</td>\n",
       "      <td>1657.313223</td>\n",
       "      <td>6.245727</td>\n",
       "      <td>1.020193</td>\n",
       "    </tr>\n",
       "  </tbody>\n",
       "</table>\n",
       "</div>"
      ],
      "text/plain": [
       "                   model  mean_test_score  mean_fit_time  mean_score_time\n",
       "0  DecisionTreeRegressor      4081.775700       1.050734         0.158077\n",
       "2       LinearRegression      2721.386984       1.660462         0.169138\n",
       "8          LGBMRegressor      1657.313223       6.245727         1.020193"
      ]
     },
     "execution_count": 41,
     "metadata": {},
     "output_type": "execute_result"
    }
   ],
   "source": [
    "# рассмотрим модели с лучшими параметрами: время обучения, время прогноза и качество прогноза\n",
    "results['model'] = results['param_models'].apply(lambda x: str(x).split('(')[0])\n",
    "results['mean_test_score'] = -results['mean_test_score']\n",
    "results[results['mean_test_score'].isin(results.groupby('model')['mean_test_score'].min())][['model', 'mean_test_score', 'mean_fit_time', 'mean_score_time']]"
   ]
  },
  {
   "cell_type": "code",
   "execution_count": 42,
   "metadata": {
    "colab": {
     "base_uri": "https://localhost:8080/"
    },
    "id": "fP8KgYFWK2bo",
    "outputId": "b56321b2-3c99-4260-c04d-fdbef188da39"
   },
   "outputs": [
    {
     "name": "stdout",
     "output_type": "stream",
     "text": [
      "RMSE на тестовой выборке: 1632\n"
     ]
    }
   ],
   "source": [
    "# оценка на тестовой выборке\n",
    "best_model = randomized_search.best_estimator_\n",
    "y_pred_test = best_model.predict(X_test)\n",
    "test_rmse = np.sqrt(mean_squared_error(y_test, y_pred_test))\n",
    "print(f'RMSE на тестовой выборке: {test_rmse:.0f}')"
   ]
  },
  {
   "cell_type": "markdown",
   "metadata": {
    "id": "MWhi3kCkK2bp"
   },
   "source": [
    "**Вывод:**\n",
    "- Из трёх моделей наиболее эффективной с точки зрения **прогнозных способностей** оказалась `LGMRegressor`с гиперпараметрами `num_leaves=70`, `n_estimators=120`, `learning_rate=0.05`, `MinMaxScaler()`.\n",
    "- Оценка RMSE измеряет среднюю величину ошибок между прогнозируемыми и фактическими значениями. Более низкие значения RMSE указывают на лучшую точность. Значение метрики лучшей модели на **тренировочной** выборке составляет *1657*, что позволяет говорить о хороших прогнозных способностях модели.\n",
    "- На **тестовой** выборке модель также показывает хорошие результаты по метрике *(1632)*, значит обобщающие способности модели устойчивы и на незнакомых данных.\n",
    "- По критерию **времени обучения** и **времени прогноза** лидируют `DecisionTreeRegressor` и `LinearRegression`, однако оценки RMSE моделей не позволяют сделать выбор в их пользу. На данных проведённого исследования обе модели показали довольно большую среднюю величину ошибок между прогнозируемыми и фактическими значениями."
   ]
  },
  {
   "cell_type": "markdown",
   "metadata": {
    "id": "qnXsDAAHK2bp"
   },
   "source": [
    "## Итоговый вывод"
   ]
  },
  {
   "cell_type": "markdown",
   "metadata": {
    "id": "41aevYmAK2bq"
   },
   "source": [
    "На данных сервиса по продаже автомобилей с пробегом был проведён исследовательский анализ с последующей разработкой решения на основе моделирования, которое позволит компании привлечь новых клиентов в контексте разрабатываемого приложения по определению рыночной стоимости авто.\n",
    "\n",
    "Учитывая бизнес-задачи заказчика предстояло разработать прогнозную модель, которая поможет пользователям приложения определить рыночную стоимость автомобиля.\n",
    "\n",
    "Работа включала предварительный этап, исследовательский анализ данных, обучение разных моделей с подбором гиперпараметров, анализ моделей по критериям: *время обучения*, *время прогноза* и *качество прогноза*.\n",
    "\n",
    "На **предварительном этапе** мы изучили основные сведения о датасете с последующей предобработкой, в частности: определили количество и тип данных в таблицах, проверили данные на наличие дубликатов и пропущенных значений, удалили неинформативные признаки, устранили аномалии и убедились, что все данные отображаются корректно.\n",
    "\n",
    "На этапе **исследовательского анализа** был проведён статистический анализ всех признаков, построены графики и оценены особенности распределения входных и целевых признаков.\n",
    "\n",
    "Этап **разработки модели** включал подготовку данных для обучения, настройку гиперпараметров, обучение модели оценку качества с использованием метрики RMSE и получение прогнозных значений.\n",
    "\n",
    "На этапе **анализа моделей** проводилось сопоставление результатов с учётом критериев *времени обучения*, *времени прогноза* и *качества прогноза*.\n",
    "\n",
    "Учитывая бизнес-задачи заказчика, предстояло разработать прогнозную модель для предсказания стоимости автомобиля (задача линейной регрессии).\n",
    "\n",
    "Поскольку нам не были известны детальные требования клиента, которые могли бы конкретизировать заказ, в частности, какие есть ресурсные ограничения на разработку модели, мы руководствовались классическими опциями при выборе моделей и алгоритмов обучения. Так, в рамках проекта мы рассмотрели возможности следующих регрессоров:\n",
    "- `LinearRegression()` — служит базовой или эталонной моделью во время настройки гиперпараметров, чтобы на её основе найти модели, которые работают значительно лучше, чем базовый уровень.\n",
    "- `DecisionTreeRegressor()` — позволяет фиксировать сложные взаимосвязи в данных, включая нелинейные закономерности.\n",
    "- `LGBMRegressor()` — использует древовидные алгоритмы обучения с градиентным бустингом, деревья решений строятся таким образом, чтобы оптимизировать уменьшение функции потерь на каждом этапе.\n",
    "\n",
    "**Основные результаты:**\n",
    "\n",
    "- Из трёх моделей наиболее эффективной с точки зрения **прогнозных способностей** оказалась `LGMRegressor`с гиперпараметрами `num_leaves=70`, `n_estimators=120`, `learning_rate=0.05`, `MinMaxScaler()`.\n",
    "- Оценка RMSE измеряет среднюю величину ошибок между прогнозируемыми и фактическими значениями. Более низкие значения RMSE указывают на лучшую точность. Значение метрики лучшей модели на **тренировочной** выборке составляет *1657*, что позволяет говорить о хороших прогнозных способностях модели.\n",
    "- На **тестовой** выборке модель также показывает хорошие результаты по метрике *(1632)*, значит обобщающие способности модели устойчивы и на незнакомых данных.\n",
    "- По критерию **времени обучения** и **времени прогноза** лидируют `DecisionTreeRegressor` и `LinearRegression`, однако оценки RMSE моделей не позволяют сделать выбор в их пользу. На данных проведённого исследования обе модели показали довольно большую среднюю величину ошибок между прогнозируемыми и фактическими значениями.\n",
    "- По временным критериям `LGMRegressor` заняла больше времени для обучения и прогноза по сравнению с `DecisionTreeRegressor` и `LinearRegression` при используемых настройках. Однако, потенциал алгоритма не ограничевается рамками данного исследования."
   ]
  }
 ],
 "metadata": {
  "ExecuteTimeLog": [
   {
    "duration": 1646,
    "start_time": "2024-02-07T17:52:37.950Z"
   },
   {
    "duration": 5,
    "start_time": "2024-02-07T17:57:18.440Z"
   },
   {
    "duration": 2,
    "start_time": "2024-02-07T17:58:25.411Z"
   },
   {
    "duration": 1646,
    "start_time": "2024-02-07T18:06:55.289Z"
   },
   {
    "duration": 312,
    "start_time": "2024-02-07T18:06:56.937Z"
   },
   {
    "duration": 3021,
    "start_time": "2024-02-07T18:07:17.088Z"
   },
   {
    "duration": 247,
    "start_time": "2024-02-07T18:07:20.111Z"
   },
   {
    "duration": 1478,
    "start_time": "2024-02-07T22:58:24.908Z"
   },
   {
    "duration": 2,
    "start_time": "2024-02-07T22:58:26.388Z"
   },
   {
    "duration": 1323,
    "start_time": "2024-02-07T22:58:26.391Z"
   },
   {
    "duration": 239,
    "start_time": "2024-02-07T22:58:27.716Z"
   },
   {
    "duration": 13,
    "start_time": "2024-02-07T23:08:24.539Z"
   },
   {
    "duration": 6,
    "start_time": "2024-02-08T00:07:40.467Z"
   },
   {
    "duration": 3,
    "start_time": "2024-02-08T00:07:41.335Z"
   },
   {
    "duration": 3,
    "start_time": "2024-02-08T00:07:43.264Z"
   },
   {
    "duration": 1397,
    "start_time": "2024-02-08T00:07:43.859Z"
   },
   {
    "duration": 13,
    "start_time": "2024-02-08T00:07:45.257Z"
   },
   {
    "duration": 207,
    "start_time": "2024-02-08T00:07:50.928Z"
   },
   {
    "duration": 3,
    "start_time": "2024-02-08T00:24:34.009Z"
   },
   {
    "duration": 4,
    "start_time": "2024-02-08T00:24:41.210Z"
   },
   {
    "duration": 12,
    "start_time": "2024-02-08T00:25:19.863Z"
   },
   {
    "duration": 31,
    "start_time": "2024-02-08T01:51:28.415Z"
   },
   {
    "duration": 1311,
    "start_time": "2024-02-08T01:51:45.452Z"
   },
   {
    "duration": 3,
    "start_time": "2024-02-08T01:51:46.764Z"
   },
   {
    "duration": 7,
    "start_time": "2024-02-08T01:51:46.768Z"
   },
   {
    "duration": 1718,
    "start_time": "2024-02-08T01:51:46.777Z"
   },
   {
    "duration": 14,
    "start_time": "2024-02-08T01:51:48.497Z"
   },
   {
    "duration": 246,
    "start_time": "2024-02-08T01:51:48.512Z"
   },
   {
    "duration": 3,
    "start_time": "2024-02-08T01:51:48.760Z"
   },
   {
    "duration": 28,
    "start_time": "2024-02-08T01:51:48.764Z"
   },
   {
    "duration": 3,
    "start_time": "2024-02-08T01:52:51.152Z"
   },
   {
    "duration": 2,
    "start_time": "2024-02-08T01:52:51.861Z"
   },
   {
    "duration": 3,
    "start_time": "2024-02-08T01:52:53.696Z"
   },
   {
    "duration": 1583,
    "start_time": "2024-02-08T01:52:54.327Z"
   },
   {
    "duration": 11,
    "start_time": "2024-02-08T01:52:55.912Z"
   },
   {
    "duration": 214,
    "start_time": "2024-02-08T01:52:56.038Z"
   },
   {
    "duration": 3,
    "start_time": "2024-02-08T01:52:59.297Z"
   },
   {
    "duration": 17,
    "start_time": "2024-02-08T01:53:01.389Z"
   },
   {
    "duration": 10,
    "start_time": "2024-02-08T01:53:28.358Z"
   },
   {
    "duration": 4,
    "start_time": "2024-02-08T02:00:18.759Z"
   },
   {
    "duration": 118,
    "start_time": "2024-02-08T02:00:20.386Z"
   },
   {
    "duration": 4,
    "start_time": "2024-02-08T02:00:26.923Z"
   },
   {
    "duration": 2,
    "start_time": "2024-02-08T02:00:27.498Z"
   },
   {
    "duration": 4,
    "start_time": "2024-02-08T02:00:29.253Z"
   },
   {
    "duration": 1878,
    "start_time": "2024-02-08T02:00:29.901Z"
   },
   {
    "duration": 12,
    "start_time": "2024-02-08T02:00:31.781Z"
   },
   {
    "duration": 200,
    "start_time": "2024-02-08T02:00:31.964Z"
   },
   {
    "duration": 4,
    "start_time": "2024-02-08T02:00:36.634Z"
   },
   {
    "duration": 17,
    "start_time": "2024-02-08T02:00:38.886Z"
   },
   {
    "duration": 5,
    "start_time": "2024-02-08T02:09:02.537Z"
   },
   {
    "duration": 3,
    "start_time": "2024-02-08T02:09:03.094Z"
   },
   {
    "duration": 3,
    "start_time": "2024-02-08T02:09:04.633Z"
   },
   {
    "duration": 1584,
    "start_time": "2024-02-08T02:09:05.146Z"
   },
   {
    "duration": 12,
    "start_time": "2024-02-08T02:09:06.732Z"
   },
   {
    "duration": 203,
    "start_time": "2024-02-08T02:09:06.772Z"
   },
   {
    "duration": 3,
    "start_time": "2024-02-08T02:09:09.898Z"
   },
   {
    "duration": 26,
    "start_time": "2024-02-08T02:09:11.464Z"
   },
   {
    "duration": 13,
    "start_time": "2024-02-08T02:09:28.966Z"
   },
   {
    "duration": 13,
    "start_time": "2024-02-08T02:09:32.213Z"
   },
   {
    "duration": 5,
    "start_time": "2024-02-08T02:09:44.847Z"
   },
   {
    "duration": 2,
    "start_time": "2024-02-08T02:09:45.406Z"
   },
   {
    "duration": 3,
    "start_time": "2024-02-08T02:09:47.223Z"
   },
   {
    "duration": 1784,
    "start_time": "2024-02-08T02:09:47.960Z"
   },
   {
    "duration": 15,
    "start_time": "2024-02-08T02:09:49.746Z"
   },
   {
    "duration": 212,
    "start_time": "2024-02-08T02:09:50.223Z"
   },
   {
    "duration": 3,
    "start_time": "2024-02-08T02:09:56.138Z"
   },
   {
    "duration": 16,
    "start_time": "2024-02-08T02:09:58.540Z"
   },
   {
    "duration": 10,
    "start_time": "2024-02-08T02:10:02.579Z"
   },
   {
    "duration": 12,
    "start_time": "2024-02-08T02:11:25.830Z"
   },
   {
    "duration": 1346,
    "start_time": "2024-02-08T02:11:35.282Z"
   },
   {
    "duration": 2,
    "start_time": "2024-02-08T02:11:36.630Z"
   },
   {
    "duration": 14,
    "start_time": "2024-02-08T02:11:36.633Z"
   },
   {
    "duration": 1484,
    "start_time": "2024-02-08T02:11:36.648Z"
   },
   {
    "duration": 29,
    "start_time": "2024-02-08T02:11:38.134Z"
   },
   {
    "duration": 276,
    "start_time": "2024-02-08T02:11:38.165Z"
   },
   {
    "duration": 3,
    "start_time": "2024-02-08T02:11:38.443Z"
   },
   {
    "duration": 23,
    "start_time": "2024-02-08T02:11:38.452Z"
   },
   {
    "duration": 15,
    "start_time": "2024-02-08T02:11:38.477Z"
   },
   {
    "duration": 1374,
    "start_time": "2024-02-08T02:13:18.857Z"
   },
   {
    "duration": 2,
    "start_time": "2024-02-08T02:13:20.233Z"
   },
   {
    "duration": 20,
    "start_time": "2024-02-08T02:13:20.237Z"
   },
   {
    "duration": 1386,
    "start_time": "2024-02-08T02:13:20.259Z"
   },
   {
    "duration": 17,
    "start_time": "2024-02-08T02:13:21.647Z"
   },
   {
    "duration": 247,
    "start_time": "2024-02-08T02:13:21.665Z"
   },
   {
    "duration": 3,
    "start_time": "2024-02-08T02:13:21.914Z"
   },
   {
    "duration": 35,
    "start_time": "2024-02-08T02:13:21.919Z"
   },
   {
    "duration": 22,
    "start_time": "2024-02-08T02:13:21.955Z"
   },
   {
    "duration": 294,
    "start_time": "2024-02-08T02:15:39.067Z"
   },
   {
    "duration": 291,
    "start_time": "2024-02-08T02:19:46.952Z"
   },
   {
    "duration": 199,
    "start_time": "2024-02-08T02:20:59.210Z"
   },
   {
    "duration": 249,
    "start_time": "2024-02-08T02:21:11.417Z"
   },
   {
    "duration": 46,
    "start_time": "2024-02-08T02:45:45.512Z"
   },
   {
    "duration": 82,
    "start_time": "2024-02-08T02:52:13.518Z"
   },
   {
    "duration": 1338,
    "start_time": "2024-02-08T03:16:55.673Z"
   },
   {
    "duration": 3,
    "start_time": "2024-02-08T03:16:57.012Z"
   },
   {
    "duration": 6,
    "start_time": "2024-02-08T03:16:57.016Z"
   },
   {
    "duration": 1790,
    "start_time": "2024-02-08T03:16:57.023Z"
   },
   {
    "duration": 14,
    "start_time": "2024-02-08T03:16:58.815Z"
   },
   {
    "duration": 258,
    "start_time": "2024-02-08T03:16:58.830Z"
   },
   {
    "duration": 2,
    "start_time": "2024-02-08T03:16:59.090Z"
   },
   {
    "duration": 25,
    "start_time": "2024-02-08T03:16:59.094Z"
   },
   {
    "duration": 274,
    "start_time": "2024-02-08T03:16:59.121Z"
   },
   {
    "duration": 206,
    "start_time": "2024-02-08T03:16:59.397Z"
   },
   {
    "duration": 54,
    "start_time": "2024-02-08T03:16:59.605Z"
   },
   {
    "duration": 1467,
    "start_time": "2024-02-08T15:02:20.629Z"
   },
   {
    "duration": 3,
    "start_time": "2024-02-08T15:02:22.098Z"
   },
   {
    "duration": 22,
    "start_time": "2024-02-08T15:02:22.102Z"
   },
   {
    "duration": 1476,
    "start_time": "2024-02-08T15:02:22.126Z"
   },
   {
    "duration": 15,
    "start_time": "2024-02-08T15:02:23.603Z"
   },
   {
    "duration": 233,
    "start_time": "2024-02-08T15:02:23.620Z"
   },
   {
    "duration": 3,
    "start_time": "2024-02-08T15:02:23.855Z"
   },
   {
    "duration": 65,
    "start_time": "2024-02-08T15:02:23.859Z"
   },
   {
    "duration": 301,
    "start_time": "2024-02-08T15:02:23.925Z"
   },
   {
    "duration": 211,
    "start_time": "2024-02-08T15:02:24.228Z"
   },
   {
    "duration": 46,
    "start_time": "2024-02-08T15:02:24.440Z"
   },
   {
    "duration": 17,
    "start_time": "2024-02-08T15:18:29.108Z"
   },
   {
    "duration": 13,
    "start_time": "2024-02-08T15:19:38.861Z"
   },
   {
    "duration": 18,
    "start_time": "2024-02-08T15:36:26.129Z"
   },
   {
    "duration": 223,
    "start_time": "2024-02-08T15:45:28.038Z"
   },
   {
    "duration": 197,
    "start_time": "2024-02-08T15:54:27.692Z"
   },
   {
    "duration": 96,
    "start_time": "2024-02-08T15:58:31.744Z"
   },
   {
    "duration": 253,
    "start_time": "2024-02-08T16:33:07.755Z"
   },
   {
    "duration": 119,
    "start_time": "2024-02-08T16:35:38.649Z"
   },
   {
    "duration": 23,
    "start_time": "2024-02-08T16:37:11.628Z"
   },
   {
    "duration": 94,
    "start_time": "2024-02-08T16:38:16.403Z"
   },
   {
    "duration": 5,
    "start_time": "2024-02-08T16:42:15.433Z"
   },
   {
    "duration": 3,
    "start_time": "2024-02-08T16:42:16.019Z"
   },
   {
    "duration": 3,
    "start_time": "2024-02-08T16:42:17.546Z"
   },
   {
    "duration": 1725,
    "start_time": "2024-02-08T16:42:18.090Z"
   },
   {
    "duration": 12,
    "start_time": "2024-02-08T16:42:19.817Z"
   },
   {
    "duration": 217,
    "start_time": "2024-02-08T16:42:19.831Z"
   },
   {
    "duration": 2,
    "start_time": "2024-02-08T16:42:23.678Z"
   },
   {
    "duration": 14,
    "start_time": "2024-02-08T16:42:25.394Z"
   },
   {
    "duration": 246,
    "start_time": "2024-02-08T16:42:27.552Z"
   },
   {
    "duration": 88,
    "start_time": "2024-02-08T16:42:33.194Z"
   },
   {
    "duration": 4,
    "start_time": "2024-02-08T16:44:35.490Z"
   },
   {
    "duration": 3,
    "start_time": "2024-02-08T16:44:36.297Z"
   },
   {
    "duration": 3,
    "start_time": "2024-02-08T16:44:38.110Z"
   },
   {
    "duration": 1411,
    "start_time": "2024-02-08T16:44:38.894Z"
   },
   {
    "duration": 11,
    "start_time": "2024-02-08T16:44:40.307Z"
   },
   {
    "duration": 210,
    "start_time": "2024-02-08T16:44:40.736Z"
   },
   {
    "duration": 4,
    "start_time": "2024-02-08T16:44:44.654Z"
   },
   {
    "duration": 14,
    "start_time": "2024-02-08T16:44:47.078Z"
   },
   {
    "duration": 249,
    "start_time": "2024-02-08T16:45:00.588Z"
   },
   {
    "duration": 4,
    "start_time": "2024-02-08T16:45:34.176Z"
   },
   {
    "duration": 2,
    "start_time": "2024-02-08T16:45:34.705Z"
   },
   {
    "duration": 3,
    "start_time": "2024-02-08T16:45:36.688Z"
   },
   {
    "duration": 1401,
    "start_time": "2024-02-08T16:45:38.305Z"
   },
   {
    "duration": 12,
    "start_time": "2024-02-08T16:45:39.707Z"
   },
   {
    "duration": 213,
    "start_time": "2024-02-08T16:45:40.067Z"
   },
   {
    "duration": 3,
    "start_time": "2024-02-08T16:45:43.958Z"
   },
   {
    "duration": 499,
    "start_time": "2024-02-08T16:45:44.977Z"
   },
   {
    "duration": 3,
    "start_time": "2024-02-08T16:46:49.330Z"
   },
   {
    "duration": 14,
    "start_time": "2024-02-08T16:46:50.513Z"
   },
   {
    "duration": 236,
    "start_time": "2024-02-08T16:46:52.616Z"
   },
   {
    "duration": 91,
    "start_time": "2024-02-08T16:47:05.334Z"
   },
   {
    "duration": 120,
    "start_time": "2024-02-08T16:59:30.420Z"
   },
   {
    "duration": 34,
    "start_time": "2024-02-08T16:59:33.176Z"
   },
   {
    "duration": 102,
    "start_time": "2024-02-08T16:59:34.488Z"
   },
   {
    "duration": 227,
    "start_time": "2024-02-08T17:00:45.284Z"
   },
   {
    "duration": 5,
    "start_time": "2024-02-08T17:01:30.342Z"
   },
   {
    "duration": 2,
    "start_time": "2024-02-08T17:01:31.088Z"
   },
   {
    "duration": 4,
    "start_time": "2024-02-08T17:01:33.628Z"
   },
   {
    "duration": 1553,
    "start_time": "2024-02-08T17:01:34.784Z"
   },
   {
    "duration": 12,
    "start_time": "2024-02-08T17:01:36.338Z"
   },
   {
    "duration": 212,
    "start_time": "2024-02-08T17:01:38.089Z"
   },
   {
    "duration": 3,
    "start_time": "2024-02-08T17:01:43.080Z"
   },
   {
    "duration": 14,
    "start_time": "2024-02-08T17:01:45.687Z"
   },
   {
    "duration": 249,
    "start_time": "2024-02-08T17:01:54.805Z"
   },
   {
    "duration": 84,
    "start_time": "2024-02-08T17:01:56.920Z"
   },
   {
    "duration": 236,
    "start_time": "2024-02-08T17:03:00.003Z"
   },
   {
    "duration": 83,
    "start_time": "2024-02-08T17:03:01.288Z"
   },
   {
    "duration": 173,
    "start_time": "2024-02-08T17:03:08.082Z"
   },
   {
    "duration": 17,
    "start_time": "2024-02-08T17:03:16.408Z"
   },
   {
    "duration": 279,
    "start_time": "2024-02-08T17:03:18.779Z"
   },
   {
    "duration": 93,
    "start_time": "2024-02-08T17:03:20.053Z"
   },
   {
    "duration": 211,
    "start_time": "2024-02-08T17:03:27.709Z"
   },
   {
    "duration": 101,
    "start_time": "2024-02-08T17:03:57.423Z"
   },
   {
    "duration": 23,
    "start_time": "2024-02-08T17:03:57.599Z"
   },
   {
    "duration": 224,
    "start_time": "2024-02-08T17:04:14.896Z"
   },
   {
    "duration": 4,
    "start_time": "2024-02-08T17:04:30.300Z"
   },
   {
    "duration": 2,
    "start_time": "2024-02-08T17:04:30.973Z"
   },
   {
    "duration": 3,
    "start_time": "2024-02-08T17:04:33.087Z"
   },
   {
    "duration": 1572,
    "start_time": "2024-02-08T17:04:34.091Z"
   },
   {
    "duration": 12,
    "start_time": "2024-02-08T17:04:35.665Z"
   },
   {
    "duration": 208,
    "start_time": "2024-02-08T17:04:36.220Z"
   },
   {
    "duration": 3,
    "start_time": "2024-02-08T17:04:40.775Z"
   },
   {
    "duration": 14,
    "start_time": "2024-02-08T17:04:42.923Z"
   },
   {
    "duration": 240,
    "start_time": "2024-02-08T17:04:45.498Z"
   },
   {
    "duration": 85,
    "start_time": "2024-02-08T17:04:47.783Z"
   },
   {
    "duration": 176,
    "start_time": "2024-02-08T17:04:52.009Z"
   },
   {
    "duration": 16,
    "start_time": "2024-02-08T17:05:06.448Z"
   },
   {
    "duration": 251,
    "start_time": "2024-02-08T17:05:08.675Z"
   },
   {
    "duration": 100,
    "start_time": "2024-02-08T17:05:09.996Z"
   },
   {
    "duration": 100,
    "start_time": "2024-02-08T17:05:20.096Z"
   },
   {
    "duration": 22,
    "start_time": "2024-02-08T17:05:23.545Z"
   },
   {
    "duration": 190,
    "start_time": "2024-02-08T17:05:26.621Z"
   },
   {
    "duration": 4,
    "start_time": "2024-02-08T17:17:47.234Z"
   },
   {
    "duration": 4,
    "start_time": "2024-02-08T17:17:47.935Z"
   },
   {
    "duration": 2,
    "start_time": "2024-02-08T17:17:49.902Z"
   },
   {
    "duration": 1548,
    "start_time": "2024-02-08T17:17:50.603Z"
   },
   {
    "duration": 12,
    "start_time": "2024-02-08T17:17:52.153Z"
   },
   {
    "duration": 204,
    "start_time": "2024-02-08T17:17:52.725Z"
   },
   {
    "duration": 3,
    "start_time": "2024-02-08T17:17:57.413Z"
   },
   {
    "duration": 13,
    "start_time": "2024-02-08T17:17:59.838Z"
   },
   {
    "duration": 250,
    "start_time": "2024-02-08T17:18:01.671Z"
   },
   {
    "duration": 88,
    "start_time": "2024-02-08T17:18:04.500Z"
   },
   {
    "duration": 18,
    "start_time": "2024-02-08T17:18:21.455Z"
   },
   {
    "duration": 276,
    "start_time": "2024-02-08T17:18:23.521Z"
   },
   {
    "duration": 110,
    "start_time": "2024-02-08T17:18:35.778Z"
   },
   {
    "duration": 116,
    "start_time": "2024-02-08T17:18:48.610Z"
   },
   {
    "duration": 27,
    "start_time": "2024-02-08T17:18:49.974Z"
   },
   {
    "duration": 148,
    "start_time": "2024-02-08T17:18:53.445Z"
   },
   {
    "duration": 203,
    "start_time": "2024-02-08T17:18:54.971Z"
   },
   {
    "duration": 49,
    "start_time": "2024-02-08T17:20:33.306Z"
   },
   {
    "duration": 5,
    "start_time": "2024-02-08T17:45:46.695Z"
   },
   {
    "duration": 3,
    "start_time": "2024-02-08T17:45:47.361Z"
   },
   {
    "duration": 3,
    "start_time": "2024-02-08T17:45:49.237Z"
   },
   {
    "duration": 1585,
    "start_time": "2024-02-08T17:45:50.692Z"
   },
   {
    "duration": 16,
    "start_time": "2024-02-08T17:45:52.279Z"
   },
   {
    "duration": 221,
    "start_time": "2024-02-08T17:45:54.903Z"
   },
   {
    "duration": 3,
    "start_time": "2024-02-08T17:46:01.728Z"
   },
   {
    "duration": 15,
    "start_time": "2024-02-08T17:46:03.495Z"
   },
   {
    "duration": 248,
    "start_time": "2024-02-08T17:46:05.470Z"
   },
   {
    "duration": 83,
    "start_time": "2024-02-08T17:46:06.984Z"
   },
   {
    "duration": 276,
    "start_time": "2024-02-08T17:46:12.096Z"
   },
   {
    "duration": 121,
    "start_time": "2024-02-08T17:46:16.484Z"
   },
   {
    "duration": 117,
    "start_time": "2024-02-08T17:46:38.985Z"
   },
   {
    "duration": 26,
    "start_time": "2024-02-08T17:46:43.594Z"
   },
   {
    "duration": 154,
    "start_time": "2024-02-08T17:46:48.440Z"
   },
   {
    "duration": 190,
    "start_time": "2024-02-08T17:46:50.886Z"
   },
   {
    "duration": 47,
    "start_time": "2024-02-08T17:46:58.624Z"
   },
   {
    "duration": 309,
    "start_time": "2024-02-08T17:49:07.682Z"
   },
   {
    "duration": 558,
    "start_time": "2024-02-08T17:57:38.286Z"
   },
   {
    "duration": 512,
    "start_time": "2024-02-08T17:58:25.780Z"
   },
   {
    "duration": 621,
    "start_time": "2024-02-08T17:58:38.428Z"
   },
   {
    "duration": 582,
    "start_time": "2024-02-08T17:58:51.463Z"
   },
   {
    "duration": 503,
    "start_time": "2024-02-08T17:59:31.929Z"
   },
   {
    "duration": 455,
    "start_time": "2024-02-08T17:59:45.703Z"
   },
   {
    "duration": 618,
    "start_time": "2024-02-08T18:00:10.921Z"
   },
   {
    "duration": 564,
    "start_time": "2024-02-08T18:00:31.677Z"
   },
   {
    "duration": 255,
    "start_time": "2024-02-08T18:10:17.225Z"
   },
   {
    "duration": 256,
    "start_time": "2024-02-08T18:11:48.559Z"
   },
   {
    "duration": 226,
    "start_time": "2024-02-08T18:12:38.359Z"
   },
   {
    "duration": 342,
    "start_time": "2024-02-08T18:13:30.628Z"
   },
   {
    "duration": 335,
    "start_time": "2024-02-08T18:14:52.064Z"
   },
   {
    "duration": 476,
    "start_time": "2024-02-08T18:16:23.377Z"
   },
   {
    "duration": 1301,
    "start_time": "2024-02-08T18:17:26.421Z"
   },
   {
    "duration": 3,
    "start_time": "2024-02-08T18:17:27.723Z"
   },
   {
    "duration": 47,
    "start_time": "2024-02-08T18:17:27.727Z"
   },
   {
    "duration": 1803,
    "start_time": "2024-02-08T18:17:27.777Z"
   },
   {
    "duration": 19,
    "start_time": "2024-02-08T18:17:29.581Z"
   },
   {
    "duration": 252,
    "start_time": "2024-02-08T18:17:29.601Z"
   },
   {
    "duration": 4,
    "start_time": "2024-02-08T18:17:29.855Z"
   },
   {
    "duration": 59,
    "start_time": "2024-02-08T18:17:29.860Z"
   },
   {
    "duration": 308,
    "start_time": "2024-02-08T18:17:29.921Z"
   },
   {
    "duration": 91,
    "start_time": "2024-02-08T18:17:30.232Z"
   },
   {
    "duration": 388,
    "start_time": "2024-02-08T18:17:30.325Z"
   },
   {
    "duration": 139,
    "start_time": "2024-02-08T18:17:30.715Z"
   },
   {
    "duration": 158,
    "start_time": "2024-02-08T18:17:30.856Z"
   },
   {
    "duration": 34,
    "start_time": "2024-02-08T18:17:31.016Z"
   },
   {
    "duration": 222,
    "start_time": "2024-02-08T18:17:31.051Z"
   },
   {
    "duration": 219,
    "start_time": "2024-02-08T18:17:31.275Z"
   },
   {
    "duration": 49,
    "start_time": "2024-02-08T18:17:31.495Z"
   },
   {
    "duration": 404,
    "start_time": "2024-02-08T18:17:31.545Z"
   },
   {
    "duration": 280,
    "start_time": "2024-02-08T18:17:31.951Z"
   },
   {
    "duration": 392,
    "start_time": "2024-02-08T18:17:32.233Z"
   },
   {
    "duration": 353,
    "start_time": "2024-02-08T18:17:32.627Z"
   },
   {
    "duration": 392,
    "start_time": "2024-02-08T18:17:32.982Z"
   },
   {
    "duration": 1615,
    "start_time": "2024-02-08T22:11:20.692Z"
   },
   {
    "duration": 10,
    "start_time": "2024-02-08T22:11:22.309Z"
   },
   {
    "duration": 3,
    "start_time": "2024-02-08T22:11:22.320Z"
   },
   {
    "duration": 1450,
    "start_time": "2024-02-08T22:11:22.325Z"
   },
   {
    "duration": 17,
    "start_time": "2024-02-08T22:11:23.776Z"
   },
   {
    "duration": 249,
    "start_time": "2024-02-08T22:11:23.794Z"
   },
   {
    "duration": 3,
    "start_time": "2024-02-08T22:11:24.045Z"
   },
   {
    "duration": 25,
    "start_time": "2024-02-08T22:11:24.049Z"
   },
   {
    "duration": 303,
    "start_time": "2024-02-08T22:11:24.076Z"
   },
   {
    "duration": 96,
    "start_time": "2024-02-08T22:11:24.381Z"
   },
   {
    "duration": 340,
    "start_time": "2024-02-08T22:11:24.479Z"
   },
   {
    "duration": 125,
    "start_time": "2024-02-08T22:11:24.820Z"
   },
   {
    "duration": 146,
    "start_time": "2024-02-08T22:11:24.946Z"
   },
   {
    "duration": 37,
    "start_time": "2024-02-08T22:11:25.094Z"
   },
   {
    "duration": 185,
    "start_time": "2024-02-08T22:11:25.133Z"
   },
   {
    "duration": 199,
    "start_time": "2024-02-08T22:11:25.320Z"
   },
   {
    "duration": 48,
    "start_time": "2024-02-08T22:11:25.520Z"
   },
   {
    "duration": 339,
    "start_time": "2024-02-08T22:11:25.569Z"
   },
   {
    "duration": 351,
    "start_time": "2024-02-08T22:11:25.909Z"
   },
   {
    "duration": 348,
    "start_time": "2024-02-08T22:11:26.261Z"
   },
   {
    "duration": 386,
    "start_time": "2024-02-08T22:11:26.611Z"
   },
   {
    "duration": 402,
    "start_time": "2024-02-08T22:11:26.998Z"
   },
   {
    "duration": 25,
    "start_time": "2024-02-08T22:54:09.843Z"
   },
   {
    "duration": 359,
    "start_time": "2024-02-08T22:54:11.745Z"
   },
   {
    "duration": 261,
    "start_time": "2024-02-08T22:54:34.460Z"
   },
   {
    "duration": 256,
    "start_time": "2024-02-08T22:55:27.198Z"
   },
   {
    "duration": 4,
    "start_time": "2024-02-08T22:59:31.712Z"
   },
   {
    "duration": 2,
    "start_time": "2024-02-08T22:59:32.398Z"
   },
   {
    "duration": 3,
    "start_time": "2024-02-08T22:59:34.302Z"
   },
   {
    "duration": 1618,
    "start_time": "2024-02-08T22:59:35.774Z"
   },
   {
    "duration": 12,
    "start_time": "2024-02-08T22:59:37.394Z"
   },
   {
    "duration": 327,
    "start_time": "2024-02-08T22:59:39.428Z"
   },
   {
    "duration": 3,
    "start_time": "2024-02-08T22:59:43.614Z"
   },
   {
    "duration": 16,
    "start_time": "2024-02-08T22:59:45.424Z"
   },
   {
    "duration": 258,
    "start_time": "2024-02-08T22:59:50.259Z"
   },
   {
    "duration": 99,
    "start_time": "2024-02-08T22:59:54.831Z"
   },
   {
    "duration": 306,
    "start_time": "2024-02-08T23:00:08.996Z"
   },
   {
    "duration": 125,
    "start_time": "2024-02-08T23:00:14.374Z"
   },
   {
    "duration": 124,
    "start_time": "2024-02-08T23:00:21.464Z"
   },
   {
    "duration": 29,
    "start_time": "2024-02-08T23:00:22.336Z"
   },
   {
    "duration": 167,
    "start_time": "2024-02-08T23:00:23.505Z"
   },
   {
    "duration": 213,
    "start_time": "2024-02-08T23:00:25.104Z"
   },
   {
    "duration": 60,
    "start_time": "2024-02-08T23:00:32.381Z"
   },
   {
    "duration": 326,
    "start_time": "2024-02-08T23:00:44.474Z"
   },
   {
    "duration": 287,
    "start_time": "2024-02-08T23:00:47.482Z"
   },
   {
    "duration": 19,
    "start_time": "2024-02-08T23:00:50.876Z"
   },
   {
    "duration": 364,
    "start_time": "2024-02-08T23:00:52.417Z"
   },
   {
    "duration": 5,
    "start_time": "2024-02-09T00:12:43.332Z"
   },
   {
    "duration": 2,
    "start_time": "2024-02-09T00:12:44.074Z"
   },
   {
    "duration": 3,
    "start_time": "2024-02-09T00:12:46.580Z"
   },
   {
    "duration": 2012,
    "start_time": "2024-02-09T00:12:47.550Z"
   },
   {
    "duration": 13,
    "start_time": "2024-02-09T00:12:49.564Z"
   },
   {
    "duration": 222,
    "start_time": "2024-02-09T00:12:49.665Z"
   },
   {
    "duration": 49,
    "start_time": "2024-02-09T00:12:51.303Z"
   },
   {
    "duration": 3,
    "start_time": "2024-02-09T00:15:11.751Z"
   },
   {
    "duration": 15,
    "start_time": "2024-02-09T00:15:13.025Z"
   },
   {
    "duration": 257,
    "start_time": "2024-02-09T00:15:14.223Z"
   },
   {
    "duration": 90,
    "start_time": "2024-02-09T00:15:14.868Z"
   },
   {
    "duration": 308,
    "start_time": "2024-02-09T00:15:17.571Z"
   },
   {
    "duration": 124,
    "start_time": "2024-02-09T00:15:18.227Z"
   },
   {
    "duration": 123,
    "start_time": "2024-02-09T00:15:20.210Z"
   },
   {
    "duration": 28,
    "start_time": "2024-02-09T00:15:20.877Z"
   },
   {
    "duration": 165,
    "start_time": "2024-02-09T00:15:21.503Z"
   },
   {
    "duration": 212,
    "start_time": "2024-02-09T00:15:22.145Z"
   },
   {
    "duration": 50,
    "start_time": "2024-02-09T00:15:23.563Z"
   },
   {
    "duration": 298,
    "start_time": "2024-02-09T00:15:25.240Z"
   },
   {
    "duration": 274,
    "start_time": "2024-02-09T00:15:27.302Z"
   },
   {
    "duration": 17,
    "start_time": "2024-02-09T00:15:29.915Z"
   },
   {
    "duration": 356,
    "start_time": "2024-02-09T00:15:30.928Z"
   },
   {
    "duration": 9,
    "start_time": "2024-02-09T00:34:11.852Z"
   },
   {
    "duration": 381,
    "start_time": "2024-02-09T00:37:06.850Z"
   },
   {
    "duration": 8,
    "start_time": "2024-02-09T00:37:12.566Z"
   },
   {
    "duration": 114,
    "start_time": "2024-02-09T00:37:16.481Z"
   },
   {
    "duration": 24,
    "start_time": "2024-02-09T00:37:28.021Z"
   },
   {
    "duration": 485,
    "start_time": "2024-02-09T00:37:38.966Z"
   },
   {
    "duration": 387,
    "start_time": "2024-02-09T00:41:22.894Z"
   },
   {
    "duration": 918,
    "start_time": "2024-02-09T00:44:30.699Z"
   },
   {
    "duration": 480,
    "start_time": "2024-02-09T00:45:29.728Z"
   },
   {
    "duration": 10,
    "start_time": "2024-02-09T00:47:08.756Z"
   },
   {
    "duration": 16,
    "start_time": "2024-02-09T01:18:47.564Z"
   },
   {
    "duration": 377,
    "start_time": "2024-02-09T01:19:19.557Z"
   },
   {
    "duration": 374,
    "start_time": "2024-02-09T01:21:30.010Z"
   },
   {
    "duration": 5,
    "start_time": "2024-02-09T01:22:02.997Z"
   },
   {
    "duration": 3,
    "start_time": "2024-02-09T01:22:03.736Z"
   },
   {
    "duration": 3,
    "start_time": "2024-02-09T01:22:05.663Z"
   },
   {
    "duration": 1320,
    "start_time": "2024-02-09T01:22:06.294Z"
   },
   {
    "duration": 13,
    "start_time": "2024-02-09T01:22:07.616Z"
   },
   {
    "duration": 244,
    "start_time": "2024-02-09T01:22:07.630Z"
   },
   {
    "duration": 54,
    "start_time": "2024-02-09T01:22:08.313Z"
   },
   {
    "duration": 3,
    "start_time": "2024-02-09T01:22:11.209Z"
   },
   {
    "duration": 14,
    "start_time": "2024-02-09T01:22:12.680Z"
   },
   {
    "duration": 253,
    "start_time": "2024-02-09T01:22:14.030Z"
   },
   {
    "duration": 93,
    "start_time": "2024-02-09T01:22:14.684Z"
   },
   {
    "duration": 299,
    "start_time": "2024-02-09T01:22:18.084Z"
   },
   {
    "duration": 125,
    "start_time": "2024-02-09T01:22:19.546Z"
   },
   {
    "duration": 122,
    "start_time": "2024-02-09T01:22:21.844Z"
   },
   {
    "duration": 27,
    "start_time": "2024-02-09T01:22:22.711Z"
   },
   {
    "duration": 169,
    "start_time": "2024-02-09T01:22:23.631Z"
   },
   {
    "duration": 219,
    "start_time": "2024-02-09T01:22:24.650Z"
   },
   {
    "duration": 53,
    "start_time": "2024-02-09T01:22:27.251Z"
   },
   {
    "duration": 301,
    "start_time": "2024-02-09T01:22:29.934Z"
   },
   {
    "duration": 277,
    "start_time": "2024-02-09T01:22:33.014Z"
   },
   {
    "duration": 18,
    "start_time": "2024-02-09T01:22:35.211Z"
   },
   {
    "duration": 334,
    "start_time": "2024-02-09T01:22:35.933Z"
   },
   {
    "duration": 7,
    "start_time": "2024-02-09T01:22:39.730Z"
   },
   {
    "duration": 16,
    "start_time": "2024-02-09T01:22:40.902Z"
   },
   {
    "duration": 344,
    "start_time": "2024-02-09T01:22:46.277Z"
   },
   {
    "duration": 9,
    "start_time": "2024-02-09T01:22:48.167Z"
   },
   {
    "duration": 16,
    "start_time": "2024-02-09T01:22:52.645Z"
   },
   {
    "duration": 490,
    "start_time": "2024-02-09T01:22:54.857Z"
   },
   {
    "duration": 371,
    "start_time": "2024-02-09T01:32:23.183Z"
   },
   {
    "duration": 386,
    "start_time": "2024-02-09T01:32:38.456Z"
   },
   {
    "duration": 427,
    "start_time": "2024-02-09T01:36:25.078Z"
   },
   {
    "duration": 426,
    "start_time": "2024-02-09T01:37:33.457Z"
   },
   {
    "duration": 160,
    "start_time": "2024-02-09T01:40:10.776Z"
   },
   {
    "duration": 819,
    "start_time": "2024-02-09T01:45:29.186Z"
   },
   {
    "duration": 260,
    "start_time": "2024-02-09T01:50:00.435Z"
   },
   {
    "duration": 15,
    "start_time": "2024-02-09T02:08:40.116Z"
   },
   {
    "duration": 25,
    "start_time": "2024-02-09T02:09:56.826Z"
   },
   {
    "duration": 3444,
    "start_time": "2024-02-09T02:13:13.228Z"
   },
   {
    "duration": 6525,
    "start_time": "2024-02-09T02:13:16.675Z"
   },
   {
    "duration": 2535,
    "start_time": "2024-02-09T02:13:32.042Z"
   },
   {
    "duration": 2973,
    "start_time": "2024-02-09T02:13:34.580Z"
   },
   {
    "duration": 1290,
    "start_time": "2024-02-09T02:13:37.554Z"
   },
   {
    "duration": 3,
    "start_time": "2024-02-09T02:13:38.846Z"
   },
   {
    "duration": 14,
    "start_time": "2024-02-09T02:13:38.851Z"
   },
   {
    "duration": 1597,
    "start_time": "2024-02-09T02:13:38.866Z"
   },
   {
    "duration": 18,
    "start_time": "2024-02-09T02:13:40.464Z"
   },
   {
    "duration": 268,
    "start_time": "2024-02-09T02:13:40.483Z"
   },
   {
    "duration": 66,
    "start_time": "2024-02-09T02:13:40.753Z"
   },
   {
    "duration": 3,
    "start_time": "2024-02-09T02:13:40.821Z"
   },
   {
    "duration": 26,
    "start_time": "2024-02-09T02:13:40.826Z"
   },
   {
    "duration": 316,
    "start_time": "2024-02-09T02:13:40.853Z"
   },
   {
    "duration": 107,
    "start_time": "2024-02-09T02:13:41.171Z"
   },
   {
    "duration": 364,
    "start_time": "2024-02-09T02:13:41.281Z"
   },
   {
    "duration": 127,
    "start_time": "2024-02-09T02:13:41.646Z"
   },
   {
    "duration": 170,
    "start_time": "2024-02-09T02:13:41.776Z"
   },
   {
    "duration": 28,
    "start_time": "2024-02-09T02:13:41.947Z"
   },
   {
    "duration": 215,
    "start_time": "2024-02-09T02:13:41.976Z"
   },
   {
    "duration": 215,
    "start_time": "2024-02-09T02:13:42.193Z"
   },
   {
    "duration": 55,
    "start_time": "2024-02-09T02:13:42.414Z"
   },
   {
    "duration": 336,
    "start_time": "2024-02-09T02:13:42.471Z"
   },
   {
    "duration": 307,
    "start_time": "2024-02-09T02:13:42.808Z"
   },
   {
    "duration": 20,
    "start_time": "2024-02-09T02:13:43.116Z"
   },
   {
    "duration": 463,
    "start_time": "2024-02-09T02:13:43.138Z"
   },
   {
    "duration": 23,
    "start_time": "2024-02-09T02:13:43.602Z"
   },
   {
    "duration": 18,
    "start_time": "2024-02-09T02:13:43.627Z"
   },
   {
    "duration": 383,
    "start_time": "2024-02-09T02:13:43.646Z"
   },
   {
    "duration": 8,
    "start_time": "2024-02-09T02:13:44.030Z"
   },
   {
    "duration": 18,
    "start_time": "2024-02-09T02:13:44.040Z"
   },
   {
    "duration": 483,
    "start_time": "2024-02-09T02:13:44.060Z"
   },
   {
    "duration": 719,
    "start_time": "2024-02-09T02:13:44.545Z"
   },
   {
    "duration": 301,
    "start_time": "2024-02-09T02:13:45.265Z"
   },
   {
    "duration": 4823,
    "start_time": "2024-02-09T02:13:45.568Z"
   },
   {
    "duration": 377,
    "start_time": "2024-02-09T02:40:45.708Z"
   },
   {
    "duration": 29804,
    "start_time": "2024-02-09T02:41:11.468Z"
   },
   {
    "duration": 30577,
    "start_time": "2024-02-09T02:42:42.933Z"
   },
   {
    "duration": 29800,
    "start_time": "2024-02-09T02:43:45.533Z"
   },
   {
    "duration": 30655,
    "start_time": "2024-02-09T02:45:21.956Z"
   },
   {
    "duration": 2606,
    "start_time": "2024-02-09T02:51:09.902Z"
   },
   {
    "duration": 3098,
    "start_time": "2024-02-09T02:51:12.511Z"
   },
   {
    "duration": 1384,
    "start_time": "2024-02-09T02:51:15.611Z"
   },
   {
    "duration": 2,
    "start_time": "2024-02-09T02:51:16.997Z"
   },
   {
    "duration": 7,
    "start_time": "2024-02-09T02:51:17.001Z"
   },
   {
    "duration": 2040,
    "start_time": "2024-02-09T02:51:17.010Z"
   },
   {
    "duration": 16,
    "start_time": "2024-02-09T02:51:19.052Z"
   },
   {
    "duration": 284,
    "start_time": "2024-02-09T02:51:19.070Z"
   },
   {
    "duration": 50,
    "start_time": "2024-02-09T02:51:19.356Z"
   },
   {
    "duration": 4,
    "start_time": "2024-02-09T02:51:19.415Z"
   },
   {
    "duration": 28,
    "start_time": "2024-02-09T02:51:19.421Z"
   },
   {
    "duration": 357,
    "start_time": "2024-02-09T02:51:19.450Z"
   },
   {
    "duration": 113,
    "start_time": "2024-02-09T02:51:19.809Z"
   },
   {
    "duration": 371,
    "start_time": "2024-02-09T02:51:19.928Z"
   },
   {
    "duration": 160,
    "start_time": "2024-02-09T02:51:20.301Z"
   },
   {
    "duration": 178,
    "start_time": "2024-02-09T02:51:20.462Z"
   },
   {
    "duration": 37,
    "start_time": "2024-02-09T02:51:20.642Z"
   },
   {
    "duration": 219,
    "start_time": "2024-02-09T02:51:20.681Z"
   },
   {
    "duration": 253,
    "start_time": "2024-02-09T02:51:20.902Z"
   },
   {
    "duration": 58,
    "start_time": "2024-02-09T02:51:21.157Z"
   },
   {
    "duration": 336,
    "start_time": "2024-02-09T02:51:21.216Z"
   },
   {
    "duration": 300,
    "start_time": "2024-02-09T02:51:21.553Z"
   },
   {
    "duration": 20,
    "start_time": "2024-02-09T02:51:21.854Z"
   },
   {
    "duration": 481,
    "start_time": "2024-02-09T02:51:21.876Z"
   },
   {
    "duration": 8,
    "start_time": "2024-02-09T02:51:22.359Z"
   },
   {
    "duration": 40,
    "start_time": "2024-02-09T02:51:22.369Z"
   },
   {
    "duration": 393,
    "start_time": "2024-02-09T02:51:22.410Z"
   },
   {
    "duration": 14,
    "start_time": "2024-02-09T02:51:22.805Z"
   },
   {
    "duration": 42,
    "start_time": "2024-02-09T02:51:22.820Z"
   },
   {
    "duration": 465,
    "start_time": "2024-02-09T02:51:22.864Z"
   },
   {
    "duration": 751,
    "start_time": "2024-02-09T02:51:23.333Z"
   },
   {
    "duration": 312,
    "start_time": "2024-02-09T02:51:24.086Z"
   },
   {
    "duration": 5163,
    "start_time": "2024-02-09T02:51:24.400Z"
   },
   {
    "duration": 34494,
    "start_time": "2024-02-09T02:51:29.564Z"
   },
   {
    "duration": 3385,
    "start_time": "2024-02-09T15:01:15.747Z"
   },
   {
    "duration": 6445,
    "start_time": "2024-02-09T15:01:19.135Z"
   },
   {
    "duration": 1544,
    "start_time": "2024-02-09T15:01:25.582Z"
   },
   {
    "duration": 3,
    "start_time": "2024-02-09T15:01:27.129Z"
   },
   {
    "duration": 13,
    "start_time": "2024-02-09T15:01:27.134Z"
   },
   {
    "duration": 1763,
    "start_time": "2024-02-09T15:01:27.148Z"
   },
   {
    "duration": 16,
    "start_time": "2024-02-09T15:01:28.914Z"
   },
   {
    "duration": 283,
    "start_time": "2024-02-09T15:01:28.932Z"
   },
   {
    "duration": 51,
    "start_time": "2024-02-09T15:01:29.217Z"
   },
   {
    "duration": 4,
    "start_time": "2024-02-09T15:01:29.271Z"
   },
   {
    "duration": 44,
    "start_time": "2024-02-09T15:01:29.276Z"
   },
   {
    "duration": 302,
    "start_time": "2024-02-09T15:01:29.322Z"
   },
   {
    "duration": 107,
    "start_time": "2024-02-09T15:01:29.626Z"
   },
   {
    "duration": 332,
    "start_time": "2024-02-09T15:01:29.735Z"
   },
   {
    "duration": 134,
    "start_time": "2024-02-09T15:01:30.069Z"
   },
   {
    "duration": 155,
    "start_time": "2024-02-09T15:01:30.204Z"
   },
   {
    "duration": 36,
    "start_time": "2024-02-09T15:01:30.360Z"
   },
   {
    "duration": 241,
    "start_time": "2024-02-09T15:01:30.398Z"
   },
   {
    "duration": 243,
    "start_time": "2024-02-09T15:01:30.640Z"
   },
   {
    "duration": 61,
    "start_time": "2024-02-09T15:01:30.885Z"
   },
   {
    "duration": 332,
    "start_time": "2024-02-09T15:01:30.948Z"
   },
   {
    "duration": 306,
    "start_time": "2024-02-09T15:01:31.282Z"
   },
   {
    "duration": 26,
    "start_time": "2024-02-09T15:01:31.589Z"
   },
   {
    "duration": 439,
    "start_time": "2024-02-09T15:01:31.616Z"
   },
   {
    "duration": 9,
    "start_time": "2024-02-09T15:01:32.056Z"
   },
   {
    "duration": 49,
    "start_time": "2024-02-09T15:01:32.067Z"
   },
   {
    "duration": 386,
    "start_time": "2024-02-09T15:01:32.118Z"
   },
   {
    "duration": 14,
    "start_time": "2024-02-09T15:01:32.507Z"
   },
   {
    "duration": 23,
    "start_time": "2024-02-09T15:01:32.522Z"
   },
   {
    "duration": 410,
    "start_time": "2024-02-09T15:01:32.547Z"
   },
   {
    "duration": 700,
    "start_time": "2024-02-09T15:01:32.959Z"
   },
   {
    "duration": 272,
    "start_time": "2024-02-09T15:01:33.661Z"
   },
   {
    "duration": 4828,
    "start_time": "2024-02-09T15:01:33.935Z"
   },
   {
    "duration": 31177,
    "start_time": "2024-02-09T15:01:38.765Z"
   },
   {
    "duration": 2447,
    "start_time": "2024-02-09T15:18:21.702Z"
   },
   {
    "duration": 2926,
    "start_time": "2024-02-09T15:18:24.152Z"
   },
   {
    "duration": 1341,
    "start_time": "2024-02-09T15:18:27.080Z"
   },
   {
    "duration": 4,
    "start_time": "2024-02-09T15:18:28.422Z"
   },
   {
    "duration": 12,
    "start_time": "2024-02-09T15:18:28.429Z"
   },
   {
    "duration": 1777,
    "start_time": "2024-02-09T15:18:28.443Z"
   },
   {
    "duration": 17,
    "start_time": "2024-02-09T15:18:30.222Z"
   },
   {
    "duration": 245,
    "start_time": "2024-02-09T15:18:30.241Z"
   },
   {
    "duration": 58,
    "start_time": "2024-02-09T15:18:30.488Z"
   },
   {
    "duration": 3,
    "start_time": "2024-02-09T15:18:30.548Z"
   },
   {
    "duration": 40,
    "start_time": "2024-02-09T15:18:30.553Z"
   },
   {
    "duration": 326,
    "start_time": "2024-02-09T15:18:30.595Z"
   },
   {
    "duration": 97,
    "start_time": "2024-02-09T15:18:30.922Z"
   },
   {
    "duration": 326,
    "start_time": "2024-02-09T15:18:31.022Z"
   },
   {
    "duration": 132,
    "start_time": "2024-02-09T15:18:31.350Z"
   },
   {
    "duration": 156,
    "start_time": "2024-02-09T15:18:31.483Z"
   },
   {
    "duration": 28,
    "start_time": "2024-02-09T15:18:31.641Z"
   },
   {
    "duration": 194,
    "start_time": "2024-02-09T15:18:31.670Z"
   },
   {
    "duration": 227,
    "start_time": "2024-02-09T15:18:31.865Z"
   },
   {
    "duration": 54,
    "start_time": "2024-02-09T15:18:32.093Z"
   },
   {
    "duration": 323,
    "start_time": "2024-02-09T15:18:32.149Z"
   },
   {
    "duration": 290,
    "start_time": "2024-02-09T15:18:32.474Z"
   },
   {
    "duration": 19,
    "start_time": "2024-02-09T15:18:32.766Z"
   },
   {
    "duration": 454,
    "start_time": "2024-02-09T15:18:32.787Z"
   },
   {
    "duration": 7,
    "start_time": "2024-02-09T15:18:33.243Z"
   },
   {
    "duration": 19,
    "start_time": "2024-02-09T15:18:33.252Z"
   },
   {
    "duration": 389,
    "start_time": "2024-02-09T15:18:33.272Z"
   },
   {
    "duration": 9,
    "start_time": "2024-02-09T15:18:33.662Z"
   },
   {
    "duration": 16,
    "start_time": "2024-02-09T15:18:33.673Z"
   },
   {
    "duration": 402,
    "start_time": "2024-02-09T15:18:33.690Z"
   },
   {
    "duration": 711,
    "start_time": "2024-02-09T15:18:34.094Z"
   },
   {
    "duration": 275,
    "start_time": "2024-02-09T15:18:34.807Z"
   },
   {
    "duration": 4823,
    "start_time": "2024-02-09T15:18:35.084Z"
   },
   {
    "duration": 31126,
    "start_time": "2024-02-09T15:18:39.910Z"
   },
   {
    "duration": 50,
    "start_time": "2024-02-09T15:27:16.289Z"
   },
   {
    "duration": 43,
    "start_time": "2024-02-09T15:30:03.313Z"
   },
   {
    "duration": 115,
    "start_time": "2024-02-09T17:20:43.712Z"
   },
   {
    "duration": 3003,
    "start_time": "2024-02-09T17:21:48.367Z"
   },
   {
    "duration": 76,
    "start_time": "2024-02-09T17:21:54.641Z"
   },
   {
    "duration": 4,
    "start_time": "2024-02-09T17:21:56.582Z"
   },
   {
    "duration": 57,
    "start_time": "2024-02-09T17:43:46.271Z"
   },
   {
    "duration": 3359,
    "start_time": "2024-02-09T22:44:48.860Z"
   },
   {
    "duration": 6158,
    "start_time": "2024-02-09T22:44:52.222Z"
   },
   {
    "duration": 2851,
    "start_time": "2024-02-09T22:44:58.382Z"
   },
   {
    "duration": 1522,
    "start_time": "2024-02-09T22:45:01.235Z"
   },
   {
    "duration": 3,
    "start_time": "2024-02-09T22:45:02.760Z"
   },
   {
    "duration": 16,
    "start_time": "2024-02-09T22:45:02.764Z"
   },
   {
    "duration": 1851,
    "start_time": "2024-02-09T22:45:02.781Z"
   },
   {
    "duration": 16,
    "start_time": "2024-02-09T22:45:04.633Z"
   },
   {
    "duration": 264,
    "start_time": "2024-02-09T22:45:04.650Z"
   },
   {
    "duration": 48,
    "start_time": "2024-02-09T22:45:04.916Z"
   },
   {
    "duration": 3,
    "start_time": "2024-02-09T22:45:04.965Z"
   },
   {
    "duration": 41,
    "start_time": "2024-02-09T22:45:04.970Z"
   },
   {
    "duration": 288,
    "start_time": "2024-02-09T22:45:05.012Z"
   },
   {
    "duration": 91,
    "start_time": "2024-02-09T22:45:05.303Z"
   },
   {
    "duration": 305,
    "start_time": "2024-02-09T22:45:05.396Z"
   },
   {
    "duration": 166,
    "start_time": "2024-02-09T22:45:05.703Z"
   },
   {
    "duration": 178,
    "start_time": "2024-02-09T22:45:05.870Z"
   },
   {
    "duration": 36,
    "start_time": "2024-02-09T22:45:06.050Z"
   },
   {
    "duration": 197,
    "start_time": "2024-02-09T22:45:06.087Z"
   },
   {
    "duration": 204,
    "start_time": "2024-02-09T22:45:06.285Z"
   },
   {
    "duration": 55,
    "start_time": "2024-02-09T22:45:06.490Z"
   },
   {
    "duration": 315,
    "start_time": "2024-02-09T22:45:06.547Z"
   },
   {
    "duration": 371,
    "start_time": "2024-02-09T22:45:06.864Z"
   },
   {
    "duration": 22,
    "start_time": "2024-02-09T22:45:07.236Z"
   },
   {
    "duration": 345,
    "start_time": "2024-02-09T22:45:07.259Z"
   },
   {
    "duration": 14,
    "start_time": "2024-02-09T22:45:07.606Z"
   },
   {
    "duration": 23,
    "start_time": "2024-02-09T22:45:07.621Z"
   },
   {
    "duration": 356,
    "start_time": "2024-02-09T22:45:07.645Z"
   },
   {
    "duration": 8,
    "start_time": "2024-02-09T22:45:08.002Z"
   },
   {
    "duration": 18,
    "start_time": "2024-02-09T22:45:08.014Z"
   },
   {
    "duration": 403,
    "start_time": "2024-02-09T22:45:08.034Z"
   },
   {
    "duration": 664,
    "start_time": "2024-02-09T22:45:08.439Z"
   },
   {
    "duration": 353,
    "start_time": "2024-02-09T22:45:09.105Z"
   },
   {
    "duration": 42,
    "start_time": "2024-02-09T22:45:09.460Z"
   },
   {
    "duration": 4495,
    "start_time": "2024-02-09T22:45:09.504Z"
   },
   {
    "duration": 30223,
    "start_time": "2024-02-09T22:45:14.000Z"
   },
   {
    "duration": 58,
    "start_time": "2024-02-09T22:45:44.224Z"
   },
   {
    "duration": 142,
    "start_time": "2024-02-09T22:45:44.284Z"
   },
   {
    "duration": 2342,
    "start_time": "2024-02-09T22:55:18.234Z"
   },
   {
    "duration": 2811,
    "start_time": "2024-02-09T22:55:20.579Z"
   },
   {
    "duration": 2311,
    "start_time": "2024-02-09T22:55:23.392Z"
   },
   {
    "duration": 1371,
    "start_time": "2024-02-09T22:55:25.705Z"
   },
   {
    "duration": 3,
    "start_time": "2024-02-09T22:55:27.078Z"
   },
   {
    "duration": 28,
    "start_time": "2024-02-09T22:55:27.083Z"
   },
   {
    "duration": 1514,
    "start_time": "2024-02-09T22:55:27.113Z"
   },
   {
    "duration": 18,
    "start_time": "2024-02-09T22:55:28.629Z"
   },
   {
    "duration": 292,
    "start_time": "2024-02-09T22:55:28.649Z"
   },
   {
    "duration": 49,
    "start_time": "2024-02-09T22:55:28.943Z"
   },
   {
    "duration": 3,
    "start_time": "2024-02-09T22:55:28.993Z"
   },
   {
    "duration": 24,
    "start_time": "2024-02-09T22:55:29.014Z"
   },
   {
    "duration": 333,
    "start_time": "2024-02-09T22:55:29.040Z"
   },
   {
    "duration": 93,
    "start_time": "2024-02-09T22:55:29.375Z"
   },
   {
    "duration": 316,
    "start_time": "2024-02-09T22:55:29.469Z"
   },
   {
    "duration": 123,
    "start_time": "2024-02-09T22:55:29.786Z"
   },
   {
    "duration": 148,
    "start_time": "2024-02-09T22:55:29.910Z"
   },
   {
    "duration": 35,
    "start_time": "2024-02-09T22:55:30.059Z"
   },
   {
    "duration": 213,
    "start_time": "2024-02-09T22:55:30.095Z"
   },
   {
    "duration": 210,
    "start_time": "2024-02-09T22:55:30.309Z"
   },
   {
    "duration": 56,
    "start_time": "2024-02-09T22:55:30.521Z"
   },
   {
    "duration": 324,
    "start_time": "2024-02-09T22:55:30.579Z"
   },
   {
    "duration": 361,
    "start_time": "2024-02-09T22:55:30.904Z"
   },
   {
    "duration": 19,
    "start_time": "2024-02-09T22:55:31.267Z"
   },
   {
    "duration": 400,
    "start_time": "2024-02-09T22:55:31.287Z"
   },
   {
    "duration": 8,
    "start_time": "2024-02-09T22:55:31.689Z"
   },
   {
    "duration": 32,
    "start_time": "2024-02-09T22:55:31.699Z"
   },
   {
    "duration": 372,
    "start_time": "2024-02-09T22:55:31.733Z"
   },
   {
    "duration": 9,
    "start_time": "2024-02-09T22:55:32.106Z"
   },
   {
    "duration": 43,
    "start_time": "2024-02-09T22:55:32.116Z"
   },
   {
    "duration": 404,
    "start_time": "2024-02-09T22:55:32.160Z"
   },
   {
    "duration": 681,
    "start_time": "2024-02-09T22:55:32.566Z"
   },
   {
    "duration": 356,
    "start_time": "2024-02-09T22:55:33.249Z"
   },
   {
    "duration": 44,
    "start_time": "2024-02-09T22:55:33.606Z"
   },
   {
    "duration": 4439,
    "start_time": "2024-02-09T22:55:33.652Z"
   },
   {
    "duration": 30010,
    "start_time": "2024-02-09T22:55:38.093Z"
   },
   {
    "duration": 68,
    "start_time": "2024-02-09T22:56:08.104Z"
   },
   {
    "duration": 821,
    "start_time": "2024-02-09T22:56:08.174Z"
   },
   {
    "duration": 5,
    "start_time": "2024-02-09T23:11:12.868Z"
   },
   {
    "duration": 2,
    "start_time": "2024-02-09T23:11:14.188Z"
   },
   {
    "duration": 778,
    "start_time": "2024-02-09T23:11:22.236Z"
   },
   {
    "duration": 730,
    "start_time": "2024-02-09T23:26:30.200Z"
   },
   {
    "duration": 698,
    "start_time": "2024-02-09T23:26:35.963Z"
   },
   {
    "duration": 711,
    "start_time": "2024-02-09T23:26:51.639Z"
   },
   {
    "duration": 688,
    "start_time": "2024-02-09T23:26:58.486Z"
   },
   {
    "duration": 718,
    "start_time": "2024-02-09T23:27:17.913Z"
   },
   {
    "duration": 4,
    "start_time": "2024-02-09T23:27:42.076Z"
   },
   {
    "duration": 725,
    "start_time": "2024-02-09T23:28:05.946Z"
   },
   {
    "duration": 2325,
    "start_time": "2024-02-09T23:30:16.006Z"
   },
   {
    "duration": 2743,
    "start_time": "2024-02-09T23:30:18.333Z"
   },
   {
    "duration": 2338,
    "start_time": "2024-02-09T23:30:21.078Z"
   },
   {
    "duration": 1309,
    "start_time": "2024-02-09T23:30:23.418Z"
   },
   {
    "duration": 3,
    "start_time": "2024-02-09T23:30:24.729Z"
   },
   {
    "duration": 4,
    "start_time": "2024-02-09T23:30:24.734Z"
   },
   {
    "duration": 1632,
    "start_time": "2024-02-09T23:30:24.739Z"
   },
   {
    "duration": 16,
    "start_time": "2024-02-09T23:30:26.372Z"
   },
   {
    "duration": 271,
    "start_time": "2024-02-09T23:30:26.390Z"
   },
   {
    "duration": 58,
    "start_time": "2024-02-09T23:30:26.663Z"
   },
   {
    "duration": 4,
    "start_time": "2024-02-09T23:30:26.722Z"
   },
   {
    "duration": 24,
    "start_time": "2024-02-09T23:30:26.727Z"
   },
   {
    "duration": 306,
    "start_time": "2024-02-09T23:30:26.752Z"
   },
   {
    "duration": 94,
    "start_time": "2024-02-09T23:30:27.059Z"
   },
   {
    "duration": 310,
    "start_time": "2024-02-09T23:30:27.154Z"
   },
   {
    "duration": 123,
    "start_time": "2024-02-09T23:30:27.465Z"
   },
   {
    "duration": 150,
    "start_time": "2024-02-09T23:30:27.590Z"
   },
   {
    "duration": 39,
    "start_time": "2024-02-09T23:30:27.742Z"
   },
   {
    "duration": 201,
    "start_time": "2024-02-09T23:30:27.782Z"
   },
   {
    "duration": 216,
    "start_time": "2024-02-09T23:30:27.985Z"
   },
   {
    "duration": 57,
    "start_time": "2024-02-09T23:30:28.203Z"
   },
   {
    "duration": 309,
    "start_time": "2024-02-09T23:30:28.262Z"
   },
   {
    "duration": 363,
    "start_time": "2024-02-09T23:30:28.572Z"
   },
   {
    "duration": 20,
    "start_time": "2024-02-09T23:30:28.936Z"
   },
   {
    "duration": 357,
    "start_time": "2024-02-09T23:30:28.957Z"
   },
   {
    "duration": 9,
    "start_time": "2024-02-09T23:30:29.315Z"
   },
   {
    "duration": 22,
    "start_time": "2024-02-09T23:30:29.325Z"
   },
   {
    "duration": 367,
    "start_time": "2024-02-09T23:30:29.351Z"
   },
   {
    "duration": 8,
    "start_time": "2024-02-09T23:30:29.720Z"
   },
   {
    "duration": 16,
    "start_time": "2024-02-09T23:30:29.730Z"
   },
   {
    "duration": 421,
    "start_time": "2024-02-09T23:30:29.748Z"
   },
   {
    "duration": 679,
    "start_time": "2024-02-09T23:30:30.171Z"
   },
   {
    "duration": 368,
    "start_time": "2024-02-09T23:30:30.852Z"
   },
   {
    "duration": 46,
    "start_time": "2024-02-09T23:30:31.222Z"
   },
   {
    "duration": 4393,
    "start_time": "2024-02-09T23:30:31.270Z"
   },
   {
    "duration": 29907,
    "start_time": "2024-02-09T23:30:35.664Z"
   },
   {
    "duration": 754,
    "start_time": "2024-02-09T23:31:05.573Z"
   },
   {
    "duration": 6107,
    "start_time": "2024-02-09T23:32:41.322Z"
   },
   {
    "duration": 6294,
    "start_time": "2024-02-09T23:34:42.534Z"
   },
   {
    "duration": 6221,
    "start_time": "2024-02-09T23:36:15.305Z"
   },
   {
    "duration": 6415,
    "start_time": "2024-02-09T23:37:03.514Z"
   },
   {
    "duration": 341,
    "start_time": "2024-02-09T23:44:39.083Z"
   },
   {
    "duration": 858,
    "start_time": "2024-02-09T23:44:58.890Z"
   },
   {
    "duration": 6628,
    "start_time": "2024-02-09T23:45:12.294Z"
   },
   {
    "duration": 299430,
    "start_time": "2024-02-10T00:02:29.304Z"
   },
   {
    "duration": 8199,
    "start_time": "2024-02-10T00:29:15.128Z"
   },
   {
    "duration": 1125,
    "start_time": "2024-02-10T00:29:35.317Z"
   },
   {
    "duration": 6337,
    "start_time": "2024-02-10T00:32:36.292Z"
   },
   {
    "duration": 1074,
    "start_time": "2024-02-10T00:39:10.559Z"
   },
   {
    "duration": 6979,
    "start_time": "2024-02-10T01:00:32.149Z"
   },
   {
    "duration": 6,
    "start_time": "2024-02-10T01:03:06.711Z"
   },
   {
    "duration": 5,
    "start_time": "2024-02-10T01:03:57.328Z"
   },
   {
    "duration": 2387,
    "start_time": "2024-02-10T01:04:25.262Z"
   },
   {
    "duration": 2760,
    "start_time": "2024-02-10T01:04:27.652Z"
   },
   {
    "duration": 2377,
    "start_time": "2024-02-10T01:04:30.415Z"
   },
   {
    "duration": 1329,
    "start_time": "2024-02-10T01:04:32.794Z"
   },
   {
    "duration": 3,
    "start_time": "2024-02-10T01:04:34.124Z"
   },
   {
    "duration": 3,
    "start_time": "2024-02-10T01:04:34.129Z"
   },
   {
    "duration": 1757,
    "start_time": "2024-02-10T01:04:34.134Z"
   },
   {
    "duration": 16,
    "start_time": "2024-02-10T01:04:35.892Z"
   },
   {
    "duration": 243,
    "start_time": "2024-02-10T01:04:35.910Z"
   },
   {
    "duration": 63,
    "start_time": "2024-02-10T01:04:36.156Z"
   },
   {
    "duration": 4,
    "start_time": "2024-02-10T01:04:36.221Z"
   },
   {
    "duration": 26,
    "start_time": "2024-02-10T01:04:36.226Z"
   },
   {
    "duration": 295,
    "start_time": "2024-02-10T01:04:36.254Z"
   },
   {
    "duration": 95,
    "start_time": "2024-02-10T01:04:36.551Z"
   },
   {
    "duration": 331,
    "start_time": "2024-02-10T01:04:36.648Z"
   },
   {
    "duration": 133,
    "start_time": "2024-02-10T01:04:36.981Z"
   },
   {
    "duration": 166,
    "start_time": "2024-02-10T01:04:37.116Z"
   },
   {
    "duration": 33,
    "start_time": "2024-02-10T01:04:37.284Z"
   },
   {
    "duration": 191,
    "start_time": "2024-02-10T01:04:37.319Z"
   },
   {
    "duration": 203,
    "start_time": "2024-02-10T01:04:37.512Z"
   },
   {
    "duration": 53,
    "start_time": "2024-02-10T01:04:37.717Z"
   },
   {
    "duration": 324,
    "start_time": "2024-02-10T01:04:37.772Z"
   },
   {
    "duration": 374,
    "start_time": "2024-02-10T01:04:38.098Z"
   },
   {
    "duration": 20,
    "start_time": "2024-02-10T01:04:38.474Z"
   },
   {
    "duration": 369,
    "start_time": "2024-02-10T01:04:38.496Z"
   },
   {
    "duration": 8,
    "start_time": "2024-02-10T01:04:38.867Z"
   },
   {
    "duration": 39,
    "start_time": "2024-02-10T01:04:38.877Z"
   },
   {
    "duration": 366,
    "start_time": "2024-02-10T01:04:38.920Z"
   },
   {
    "duration": 9,
    "start_time": "2024-02-10T01:04:39.288Z"
   },
   {
    "duration": 31,
    "start_time": "2024-02-10T01:04:39.299Z"
   },
   {
    "duration": 403,
    "start_time": "2024-02-10T01:04:39.332Z"
   },
   {
    "duration": 683,
    "start_time": "2024-02-10T01:04:39.738Z"
   },
   {
    "duration": 374,
    "start_time": "2024-02-10T01:04:40.423Z"
   },
   {
    "duration": 49,
    "start_time": "2024-02-10T01:04:40.799Z"
   },
   {
    "duration": 4493,
    "start_time": "2024-02-10T01:04:40.850Z"
   },
   {
    "duration": 30179,
    "start_time": "2024-02-10T01:04:45.345Z"
   },
   {
    "duration": 820,
    "start_time": "2024-02-10T01:05:15.526Z"
   },
   {
    "duration": 3,
    "start_time": "2024-02-10T01:05:16.347Z"
   },
   {
    "duration": 6,
    "start_time": "2024-02-10T01:05:16.351Z"
   },
   {
    "duration": 1,
    "start_time": "2024-02-10T01:05:16.358Z"
   },
   {
    "duration": 6768,
    "start_time": "2024-02-10T01:05:32.854Z"
   },
   {
    "duration": 1100,
    "start_time": "2024-02-10T01:06:54.328Z"
   },
   {
    "duration": 6340,
    "start_time": "2024-02-10T01:09:43.885Z"
   },
   {
    "duration": 6290,
    "start_time": "2024-02-10T01:09:59.141Z"
   },
   {
    "duration": 6666,
    "start_time": "2024-02-10T01:10:07.362Z"
   },
   {
    "duration": 1161,
    "start_time": "2024-02-10T02:00:44.964Z"
   },
   {
    "duration": 2301,
    "start_time": "2024-02-10T02:07:21.001Z"
   },
   {
    "duration": 6767,
    "start_time": "2024-02-10T02:12:15.231Z"
   },
   {
    "duration": 2569,
    "start_time": "2024-02-10T02:27:41.868Z"
   },
   {
    "duration": 3180,
    "start_time": "2024-02-10T02:27:44.440Z"
   },
   {
    "duration": 2542,
    "start_time": "2024-02-10T02:27:47.623Z"
   },
   {
    "duration": 1386,
    "start_time": "2024-02-10T02:27:50.168Z"
   },
   {
    "duration": 2,
    "start_time": "2024-02-10T02:27:51.555Z"
   },
   {
    "duration": 4,
    "start_time": "2024-02-10T02:27:51.559Z"
   },
   {
    "duration": 1991,
    "start_time": "2024-02-10T02:27:51.564Z"
   },
   {
    "duration": 16,
    "start_time": "2024-02-10T02:27:53.557Z"
   },
   {
    "duration": 258,
    "start_time": "2024-02-10T02:27:53.575Z"
   },
   {
    "duration": 50,
    "start_time": "2024-02-10T02:27:53.837Z"
   },
   {
    "duration": 4,
    "start_time": "2024-02-10T02:27:53.888Z"
   },
   {
    "duration": 42,
    "start_time": "2024-02-10T02:27:53.894Z"
   },
   {
    "duration": 318,
    "start_time": "2024-02-10T02:27:53.938Z"
   },
   {
    "duration": 92,
    "start_time": "2024-02-10T02:27:54.257Z"
   },
   {
    "duration": 343,
    "start_time": "2024-02-10T02:27:54.351Z"
   },
   {
    "duration": 144,
    "start_time": "2024-02-10T02:27:54.696Z"
   },
   {
    "duration": 161,
    "start_time": "2024-02-10T02:27:54.843Z"
   },
   {
    "duration": 42,
    "start_time": "2024-02-10T02:27:55.005Z"
   },
   {
    "duration": 238,
    "start_time": "2024-02-10T02:27:55.048Z"
   },
   {
    "duration": 258,
    "start_time": "2024-02-10T02:27:55.287Z"
   },
   {
    "duration": 49,
    "start_time": "2024-02-10T02:27:55.547Z"
   },
   {
    "duration": 391,
    "start_time": "2024-02-10T02:27:55.598Z"
   },
   {
    "duration": 383,
    "start_time": "2024-02-10T02:27:55.990Z"
   },
   {
    "duration": 18,
    "start_time": "2024-02-10T02:27:56.375Z"
   },
   {
    "duration": 482,
    "start_time": "2024-02-10T02:27:56.395Z"
   },
   {
    "duration": 10,
    "start_time": "2024-02-10T02:27:56.879Z"
   },
   {
    "duration": 43,
    "start_time": "2024-02-10T02:27:56.891Z"
   },
   {
    "duration": 443,
    "start_time": "2024-02-10T02:27:56.938Z"
   },
   {
    "duration": 10,
    "start_time": "2024-02-10T02:27:57.383Z"
   },
   {
    "duration": 38,
    "start_time": "2024-02-10T02:27:57.395Z"
   },
   {
    "duration": 433,
    "start_time": "2024-02-10T02:27:57.435Z"
   },
   {
    "duration": 752,
    "start_time": "2024-02-10T02:27:57.870Z"
   },
   {
    "duration": 378,
    "start_time": "2024-02-10T02:27:58.625Z"
   },
   {
    "duration": 51,
    "start_time": "2024-02-10T02:27:59.005Z"
   },
   {
    "duration": 5184,
    "start_time": "2024-02-10T02:27:59.058Z"
   },
   {
    "duration": 34414,
    "start_time": "2024-02-10T02:28:04.244Z"
   },
   {
    "duration": 896,
    "start_time": "2024-02-10T02:28:38.660Z"
   },
   {
    "duration": 3,
    "start_time": "2024-02-10T02:28:39.558Z"
   },
   {
    "duration": 108463,
    "start_time": "2024-02-10T02:28:39.562Z"
   },
   {
    "duration": 511,
    "start_time": "2024-02-10T02:30:28.028Z"
   },
   {
    "duration": 1090,
    "start_time": "2024-02-10T02:30:28.541Z"
   },
   {
    "duration": 1176,
    "start_time": "2024-02-10T02:31:27.840Z"
   },
   {
    "duration": 157,
    "start_time": "2024-02-10T02:34:10.773Z"
   },
   {
    "duration": 442,
    "start_time": "2024-02-10T02:36:02.461Z"
   },
   {
    "duration": 252,
    "start_time": "2024-02-10T02:36:16.051Z"
   },
   {
    "duration": 1058,
    "start_time": "2024-02-10T02:36:53.480Z"
   },
   {
    "duration": 174,
    "start_time": "2024-02-10T02:39:49.622Z"
   },
   {
    "duration": 116,
    "start_time": "2024-02-10T02:45:33.083Z"
   },
   {
    "duration": 107541,
    "start_time": "2024-02-10T02:45:39.991Z"
   },
   {
    "duration": 5,
    "start_time": "2024-02-10T02:47:49.051Z"
   },
   {
    "duration": 127226,
    "start_time": "2024-02-10T02:48:27.603Z"
   },
   {
    "duration": 128573,
    "start_time": "2024-02-10T02:52:06.364Z"
   },
   {
    "duration": 3,
    "start_time": "2024-02-10T02:59:19.216Z"
   },
   {
    "duration": 1097,
    "start_time": "2024-02-10T03:03:01.529Z"
   },
   {
    "duration": 1043,
    "start_time": "2024-02-10T03:06:08.783Z"
   },
   {
    "duration": 1080,
    "start_time": "2024-02-10T03:11:33.043Z"
   },
   {
    "duration": 1037,
    "start_time": "2024-02-10T03:11:58.984Z"
   },
   {
    "duration": 1070,
    "start_time": "2024-02-10T03:12:22.357Z"
   },
   {
    "duration": 2386,
    "start_time": "2024-02-10T03:13:21.430Z"
   },
   {
    "duration": 2747,
    "start_time": "2024-02-10T03:13:23.818Z"
   },
   {
    "duration": 2365,
    "start_time": "2024-02-10T03:13:26.567Z"
   },
   {
    "duration": 1351,
    "start_time": "2024-02-10T03:13:28.934Z"
   },
   {
    "duration": 2,
    "start_time": "2024-02-10T03:13:30.287Z"
   },
   {
    "duration": 29,
    "start_time": "2024-02-10T03:13:30.291Z"
   },
   {
    "duration": 1616,
    "start_time": "2024-02-10T03:13:30.322Z"
   },
   {
    "duration": 15,
    "start_time": "2024-02-10T03:13:31.940Z"
   },
   {
    "duration": 272,
    "start_time": "2024-02-10T03:13:31.957Z"
   },
   {
    "duration": 47,
    "start_time": "2024-02-10T03:13:32.231Z"
   },
   {
    "duration": 3,
    "start_time": "2024-02-10T03:13:32.280Z"
   },
   {
    "duration": 40,
    "start_time": "2024-02-10T03:13:32.284Z"
   },
   {
    "duration": 284,
    "start_time": "2024-02-10T03:13:32.325Z"
   },
   {
    "duration": 93,
    "start_time": "2024-02-10T03:13:32.611Z"
   },
   {
    "duration": 323,
    "start_time": "2024-02-10T03:13:32.714Z"
   },
   {
    "duration": 132,
    "start_time": "2024-02-10T03:13:33.039Z"
   },
   {
    "duration": 156,
    "start_time": "2024-02-10T03:13:33.173Z"
   },
   {
    "duration": 28,
    "start_time": "2024-02-10T03:13:33.331Z"
   },
   {
    "duration": 204,
    "start_time": "2024-02-10T03:13:33.361Z"
   },
   {
    "duration": 224,
    "start_time": "2024-02-10T03:13:33.566Z"
   },
   {
    "duration": 59,
    "start_time": "2024-02-10T03:13:33.792Z"
   },
   {
    "duration": 313,
    "start_time": "2024-02-10T03:13:33.852Z"
   },
   {
    "duration": 357,
    "start_time": "2024-02-10T03:13:34.166Z"
   },
   {
    "duration": 18,
    "start_time": "2024-02-10T03:13:34.524Z"
   },
   {
    "duration": 348,
    "start_time": "2024-02-10T03:13:34.543Z"
   },
   {
    "duration": 7,
    "start_time": "2024-02-10T03:13:34.893Z"
   },
   {
    "duration": 30,
    "start_time": "2024-02-10T03:13:34.902Z"
   },
   {
    "duration": 368,
    "start_time": "2024-02-10T03:13:34.935Z"
   },
   {
    "duration": 16,
    "start_time": "2024-02-10T03:13:35.305Z"
   },
   {
    "duration": 23,
    "start_time": "2024-02-10T03:13:35.322Z"
   },
   {
    "duration": 395,
    "start_time": "2024-02-10T03:13:35.346Z"
   },
   {
    "duration": 694,
    "start_time": "2024-02-10T03:13:35.743Z"
   },
   {
    "duration": 357,
    "start_time": "2024-02-10T03:13:36.438Z"
   },
   {
    "duration": 53,
    "start_time": "2024-02-10T03:13:36.796Z"
   },
   {
    "duration": 4556,
    "start_time": "2024-02-10T03:13:36.851Z"
   },
   {
    "duration": 30250,
    "start_time": "2024-02-10T03:13:41.409Z"
   },
   {
    "duration": 748,
    "start_time": "2024-02-10T03:14:11.660Z"
   },
   {
    "duration": 3,
    "start_time": "2024-02-10T03:14:12.410Z"
   },
   {
    "duration": 4,
    "start_time": "2024-02-10T03:14:12.415Z"
   },
   {
    "duration": 6399,
    "start_time": "2024-02-10T03:14:12.421Z"
   },
   {
    "duration": 152,
    "start_time": "2024-02-10T03:14:18.822Z"
   },
   {
    "duration": 0,
    "start_time": "2024-02-10T03:14:18.976Z"
   },
   {
    "duration": 6224,
    "start_time": "2024-02-10T03:15:26.995Z"
   },
   {
    "duration": 9,
    "start_time": "2024-02-10T03:15:53.983Z"
   },
   {
    "duration": 6186,
    "start_time": "2024-02-10T03:16:43.444Z"
   },
   {
    "duration": 8,
    "start_time": "2024-02-10T03:17:01.706Z"
   },
   {
    "duration": 1041,
    "start_time": "2024-02-10T03:17:16.884Z"
   },
   {
    "duration": 3142,
    "start_time": "2024-02-10T14:20:23.045Z"
   },
   {
    "duration": 6119,
    "start_time": "2024-02-10T14:20:26.189Z"
   },
   {
    "duration": 2786,
    "start_time": "2024-02-10T14:20:32.310Z"
   },
   {
    "duration": 1552,
    "start_time": "2024-02-10T14:20:35.098Z"
   },
   {
    "duration": 3,
    "start_time": "2024-02-10T14:20:36.653Z"
   },
   {
    "duration": 15,
    "start_time": "2024-02-10T14:20:36.658Z"
   },
   {
    "duration": 1540,
    "start_time": "2024-02-10T14:20:36.674Z"
   },
   {
    "duration": 17,
    "start_time": "2024-02-10T14:20:38.216Z"
   },
   {
    "duration": 251,
    "start_time": "2024-02-10T14:20:38.235Z"
   },
   {
    "duration": 71,
    "start_time": "2024-02-10T14:20:38.488Z"
   },
   {
    "duration": 4,
    "start_time": "2024-02-10T14:20:38.561Z"
   },
   {
    "duration": 28,
    "start_time": "2024-02-10T14:20:38.566Z"
   },
   {
    "duration": 290,
    "start_time": "2024-02-10T14:20:38.595Z"
   },
   {
    "duration": 96,
    "start_time": "2024-02-10T14:20:38.887Z"
   },
   {
    "duration": 295,
    "start_time": "2024-02-10T14:20:38.985Z"
   },
   {
    "duration": 133,
    "start_time": "2024-02-10T14:20:39.282Z"
   },
   {
    "duration": 154,
    "start_time": "2024-02-10T14:20:39.418Z"
   },
   {
    "duration": 46,
    "start_time": "2024-02-10T14:20:39.574Z"
   },
   {
    "duration": 200,
    "start_time": "2024-02-10T14:20:39.622Z"
   },
   {
    "duration": 199,
    "start_time": "2024-02-10T14:20:39.823Z"
   },
   {
    "duration": 49,
    "start_time": "2024-02-10T14:20:40.024Z"
   },
   {
    "duration": 317,
    "start_time": "2024-02-10T14:20:40.075Z"
   },
   {
    "duration": 341,
    "start_time": "2024-02-10T14:20:40.394Z"
   },
   {
    "duration": 21,
    "start_time": "2024-02-10T14:20:40.736Z"
   },
   {
    "duration": 388,
    "start_time": "2024-02-10T14:20:40.759Z"
   },
   {
    "duration": 8,
    "start_time": "2024-02-10T14:20:41.149Z"
   },
   {
    "duration": 18,
    "start_time": "2024-02-10T14:20:41.158Z"
   },
   {
    "duration": 372,
    "start_time": "2024-02-10T14:20:41.177Z"
   },
   {
    "duration": 8,
    "start_time": "2024-02-10T14:20:41.551Z"
   },
   {
    "duration": 19,
    "start_time": "2024-02-10T14:20:41.560Z"
   },
   {
    "duration": 387,
    "start_time": "2024-02-10T14:20:41.580Z"
   },
   {
    "duration": 787,
    "start_time": "2024-02-10T14:20:41.969Z"
   },
   {
    "duration": 256,
    "start_time": "2024-02-10T14:20:42.758Z"
   },
   {
    "duration": 42,
    "start_time": "2024-02-10T14:20:43.016Z"
   },
   {
    "duration": 4583,
    "start_time": "2024-02-10T14:20:43.060Z"
   },
   {
    "duration": 29458,
    "start_time": "2024-02-10T14:20:47.646Z"
   },
   {
    "duration": 737,
    "start_time": "2024-02-10T14:21:17.117Z"
   },
   {
    "duration": 3,
    "start_time": "2024-02-10T14:21:17.856Z"
   },
   {
    "duration": 13,
    "start_time": "2024-02-10T14:21:17.861Z"
   },
   {
    "duration": 232144,
    "start_time": "2024-02-10T14:21:17.875Z"
   },
   {
    "duration": 12,
    "start_time": "2024-02-10T14:25:10.024Z"
   },
   {
    "duration": 1112,
    "start_time": "2024-02-10T14:25:10.038Z"
   },
   {
    "duration": 2352,
    "start_time": "2024-02-10T15:42:11.018Z"
   },
   {
    "duration": 2702,
    "start_time": "2024-02-10T15:42:13.372Z"
   },
   {
    "duration": 2271,
    "start_time": "2024-02-10T15:42:16.076Z"
   },
   {
    "duration": 1329,
    "start_time": "2024-02-10T15:42:18.348Z"
   },
   {
    "duration": 2,
    "start_time": "2024-02-10T15:42:19.679Z"
   },
   {
    "duration": 5,
    "start_time": "2024-02-10T15:42:19.683Z"
   },
   {
    "duration": 1870,
    "start_time": "2024-02-10T15:42:19.690Z"
   },
   {
    "duration": 14,
    "start_time": "2024-02-10T15:42:21.562Z"
   },
   {
    "duration": 291,
    "start_time": "2024-02-10T15:42:21.577Z"
   },
   {
    "duration": 51,
    "start_time": "2024-02-10T15:42:21.869Z"
   },
   {
    "duration": 3,
    "start_time": "2024-02-10T15:42:21.922Z"
   },
   {
    "duration": 32,
    "start_time": "2024-02-10T15:42:21.926Z"
   },
   {
    "duration": 297,
    "start_time": "2024-02-10T15:42:21.960Z"
   },
   {
    "duration": 91,
    "start_time": "2024-02-10T15:42:22.260Z"
   },
   {
    "duration": 300,
    "start_time": "2024-02-10T15:42:22.352Z"
   },
   {
    "duration": 132,
    "start_time": "2024-02-10T15:42:22.654Z"
   },
   {
    "duration": 145,
    "start_time": "2024-02-10T15:42:22.787Z"
   },
   {
    "duration": 27,
    "start_time": "2024-02-10T15:42:22.933Z"
   },
   {
    "duration": 207,
    "start_time": "2024-02-10T15:42:22.961Z"
   },
   {
    "duration": 226,
    "start_time": "2024-02-10T15:42:23.169Z"
   },
   {
    "duration": 58,
    "start_time": "2024-02-10T15:42:23.396Z"
   },
   {
    "duration": 308,
    "start_time": "2024-02-10T15:42:23.456Z"
   },
   {
    "duration": 339,
    "start_time": "2024-02-10T15:42:23.765Z"
   },
   {
    "duration": 25,
    "start_time": "2024-02-10T15:42:24.106Z"
   },
   {
    "duration": 355,
    "start_time": "2024-02-10T15:42:24.133Z"
   },
   {
    "duration": 8,
    "start_time": "2024-02-10T15:42:24.490Z"
   },
   {
    "duration": 33,
    "start_time": "2024-02-10T15:42:24.500Z"
   },
   {
    "duration": 344,
    "start_time": "2024-02-10T15:42:24.534Z"
   },
   {
    "duration": 9,
    "start_time": "2024-02-10T15:42:24.880Z"
   },
   {
    "duration": 36,
    "start_time": "2024-02-10T15:42:24.890Z"
   },
   {
    "duration": 376,
    "start_time": "2024-02-10T15:42:24.928Z"
   },
   {
    "duration": 696,
    "start_time": "2024-02-10T15:42:25.305Z"
   },
   {
    "duration": 363,
    "start_time": "2024-02-10T15:42:26.002Z"
   },
   {
    "duration": 53,
    "start_time": "2024-02-10T15:42:26.367Z"
   },
   {
    "duration": 4481,
    "start_time": "2024-02-10T15:42:26.422Z"
   },
   {
    "duration": 29550,
    "start_time": "2024-02-10T15:42:30.905Z"
   },
   {
    "duration": 769,
    "start_time": "2024-02-10T15:43:00.457Z"
   },
   {
    "duration": 3,
    "start_time": "2024-02-10T15:43:01.228Z"
   },
   {
    "duration": 41,
    "start_time": "2024-02-10T15:43:01.232Z"
   },
   {
    "duration": 137,
    "start_time": "2024-02-10T15:43:01.275Z"
   },
   {
    "duration": 5,
    "start_time": "2024-02-10T15:43:48.715Z"
   },
   {
    "duration": 2354,
    "start_time": "2024-02-10T15:43:57.488Z"
   },
   {
    "duration": 2850,
    "start_time": "2024-02-10T15:43:59.845Z"
   },
   {
    "duration": 2343,
    "start_time": "2024-02-10T15:44:02.697Z"
   },
   {
    "duration": 1284,
    "start_time": "2024-02-10T15:44:05.043Z"
   },
   {
    "duration": 2,
    "start_time": "2024-02-10T15:44:06.329Z"
   },
   {
    "duration": 7,
    "start_time": "2024-02-10T15:44:06.332Z"
   },
   {
    "duration": 1796,
    "start_time": "2024-02-10T15:44:06.341Z"
   },
   {
    "duration": 15,
    "start_time": "2024-02-10T15:44:08.139Z"
   },
   {
    "duration": 248,
    "start_time": "2024-02-10T15:44:08.156Z"
   },
   {
    "duration": 56,
    "start_time": "2024-02-10T15:44:08.406Z"
   },
   {
    "duration": 3,
    "start_time": "2024-02-10T15:44:08.463Z"
   },
   {
    "duration": 54,
    "start_time": "2024-02-10T15:44:08.468Z"
   },
   {
    "duration": 326,
    "start_time": "2024-02-10T15:44:08.524Z"
   },
   {
    "duration": 93,
    "start_time": "2024-02-10T15:44:08.851Z"
   },
   {
    "duration": 331,
    "start_time": "2024-02-10T15:44:08.946Z"
   },
   {
    "duration": 138,
    "start_time": "2024-02-10T15:44:09.279Z"
   },
   {
    "duration": 149,
    "start_time": "2024-02-10T15:44:09.419Z"
   },
   {
    "duration": 35,
    "start_time": "2024-02-10T15:44:09.569Z"
   },
   {
    "duration": 214,
    "start_time": "2024-02-10T15:44:09.605Z"
   },
   {
    "duration": 211,
    "start_time": "2024-02-10T15:44:09.820Z"
   },
   {
    "duration": 51,
    "start_time": "2024-02-10T15:44:10.032Z"
   },
   {
    "duration": 382,
    "start_time": "2024-02-10T15:44:10.084Z"
   },
   {
    "duration": 371,
    "start_time": "2024-02-10T15:44:10.468Z"
   },
   {
    "duration": 19,
    "start_time": "2024-02-10T15:44:10.840Z"
   },
   {
    "duration": 365,
    "start_time": "2024-02-10T15:44:10.861Z"
   },
   {
    "duration": 9,
    "start_time": "2024-02-10T15:44:11.227Z"
   },
   {
    "duration": 18,
    "start_time": "2024-02-10T15:44:11.237Z"
   },
   {
    "duration": 388,
    "start_time": "2024-02-10T15:44:11.258Z"
   },
   {
    "duration": 9,
    "start_time": "2024-02-10T15:44:11.647Z"
   },
   {
    "duration": 29,
    "start_time": "2024-02-10T15:44:11.657Z"
   },
   {
    "duration": 424,
    "start_time": "2024-02-10T15:44:11.688Z"
   },
   {
    "duration": 685,
    "start_time": "2024-02-10T15:44:12.113Z"
   },
   {
    "duration": 367,
    "start_time": "2024-02-10T15:44:12.800Z"
   },
   {
    "duration": 56,
    "start_time": "2024-02-10T15:44:13.169Z"
   },
   {
    "duration": 4489,
    "start_time": "2024-02-10T15:44:13.226Z"
   },
   {
    "duration": 30756,
    "start_time": "2024-02-10T15:44:17.717Z"
   },
   {
    "duration": 750,
    "start_time": "2024-02-10T15:44:48.475Z"
   },
   {
    "duration": 3,
    "start_time": "2024-02-10T15:44:49.227Z"
   },
   {
    "duration": 5,
    "start_time": "2024-02-10T15:44:49.232Z"
   },
   {
    "duration": 264,
    "start_time": "2024-02-10T15:44:49.238Z"
   },
   {
    "duration": 551,
    "start_time": "2024-02-10T15:47:02.753Z"
   },
   {
    "duration": 222334,
    "start_time": "2024-02-10T15:48:44.589Z"
   },
   {
    "duration": 222333,
    "start_time": "2024-02-10T15:53:53.506Z"
   },
   {
    "duration": 2518,
    "start_time": "2024-02-10T16:14:00.409Z"
   },
   {
    "duration": 2839,
    "start_time": "2024-02-10T16:14:02.930Z"
   },
   {
    "duration": 2469,
    "start_time": "2024-02-10T16:14:05.771Z"
   },
   {
    "duration": 1409,
    "start_time": "2024-02-10T16:14:08.243Z"
   },
   {
    "duration": 3,
    "start_time": "2024-02-10T16:14:09.655Z"
   },
   {
    "duration": 6,
    "start_time": "2024-02-10T16:14:09.660Z"
   },
   {
    "duration": 1763,
    "start_time": "2024-02-10T16:14:09.668Z"
   },
   {
    "duration": 15,
    "start_time": "2024-02-10T16:14:11.433Z"
   },
   {
    "duration": 275,
    "start_time": "2024-02-10T16:14:11.450Z"
   },
   {
    "duration": 49,
    "start_time": "2024-02-10T16:14:11.726Z"
   },
   {
    "duration": 4,
    "start_time": "2024-02-10T16:14:11.776Z"
   },
   {
    "duration": 40,
    "start_time": "2024-02-10T16:14:11.781Z"
   },
   {
    "duration": 310,
    "start_time": "2024-02-10T16:14:11.824Z"
   },
   {
    "duration": 99,
    "start_time": "2024-02-10T16:14:12.137Z"
   },
   {
    "duration": 304,
    "start_time": "2024-02-10T16:14:12.237Z"
   },
   {
    "duration": 130,
    "start_time": "2024-02-10T16:14:12.543Z"
   },
   {
    "duration": 153,
    "start_time": "2024-02-10T16:14:12.675Z"
   },
   {
    "duration": 34,
    "start_time": "2024-02-10T16:14:12.830Z"
   },
   {
    "duration": 212,
    "start_time": "2024-02-10T16:14:12.866Z"
   },
   {
    "duration": 223,
    "start_time": "2024-02-10T16:14:13.080Z"
   },
   {
    "duration": 56,
    "start_time": "2024-02-10T16:14:13.305Z"
   },
   {
    "duration": 331,
    "start_time": "2024-02-10T16:14:13.363Z"
   },
   {
    "duration": 357,
    "start_time": "2024-02-10T16:14:13.695Z"
   },
   {
    "duration": 17,
    "start_time": "2024-02-10T16:14:14.053Z"
   },
   {
    "duration": 361,
    "start_time": "2024-02-10T16:14:14.072Z"
   },
   {
    "duration": 8,
    "start_time": "2024-02-10T16:14:14.436Z"
   },
   {
    "duration": 18,
    "start_time": "2024-02-10T16:14:14.446Z"
   },
   {
    "duration": 376,
    "start_time": "2024-02-10T16:14:14.466Z"
   },
   {
    "duration": 8,
    "start_time": "2024-02-10T16:14:14.844Z"
   },
   {
    "duration": 20,
    "start_time": "2024-02-10T16:14:14.854Z"
   },
   {
    "duration": 390,
    "start_time": "2024-02-10T16:14:14.875Z"
   },
   {
    "duration": 664,
    "start_time": "2024-02-10T16:14:15.267Z"
   },
   {
    "duration": 363,
    "start_time": "2024-02-10T16:14:15.933Z"
   },
   {
    "duration": 46,
    "start_time": "2024-02-10T16:14:16.298Z"
   },
   {
    "duration": 4529,
    "start_time": "2024-02-10T16:14:16.346Z"
   },
   {
    "duration": 29752,
    "start_time": "2024-02-10T16:14:20.876Z"
   },
   {
    "duration": 748,
    "start_time": "2024-02-10T16:14:50.630Z"
   },
   {
    "duration": 3,
    "start_time": "2024-02-10T16:14:51.380Z"
   },
   {
    "duration": 14,
    "start_time": "2024-02-10T16:14:51.384Z"
   },
   {
    "duration": 276622,
    "start_time": "2024-02-10T16:14:51.400Z"
   },
   {
    "duration": 260696,
    "start_time": "2024-02-10T16:20:34.409Z"
   },
   {
    "duration": 239640,
    "start_time": "2024-02-10T16:25:34.689Z"
   },
   {
    "duration": 16,
    "start_time": "2024-02-10T16:31:48.666Z"
   },
   {
    "duration": 12,
    "start_time": "2024-02-10T16:32:20.196Z"
   },
   {
    "duration": 301914,
    "start_time": "2024-02-10T16:32:32.928Z"
   },
   {
    "duration": 9,
    "start_time": "2024-02-10T16:41:25.582Z"
   },
   {
    "duration": 231485,
    "start_time": "2024-02-10T16:48:51.759Z"
   },
   {
    "duration": 8,
    "start_time": "2024-02-10T16:53:53.304Z"
   },
   {
    "duration": 743,
    "start_time": "2024-02-10T17:02:15.185Z"
   },
   {
    "duration": 733,
    "start_time": "2024-02-10T17:02:50.407Z"
   },
   {
    "duration": 746,
    "start_time": "2024-02-10T17:03:24.579Z"
   },
   {
    "duration": 9,
    "start_time": "2024-02-10T17:03:44.029Z"
   },
   {
    "duration": 9,
    "start_time": "2024-02-10T17:07:34.781Z"
   },
   {
    "duration": 9,
    "start_time": "2024-02-10T17:22:58.527Z"
   },
   {
    "duration": 10,
    "start_time": "2024-02-10T17:23:22.958Z"
   },
   {
    "duration": 750,
    "start_time": "2024-02-10T17:24:05.378Z"
   },
   {
    "duration": 10,
    "start_time": "2024-02-10T18:01:42.108Z"
   },
   {
    "duration": 2280,
    "start_time": "2024-02-10T19:43:45.317Z"
   },
   {
    "duration": 2731,
    "start_time": "2024-02-10T19:43:47.600Z"
   },
   {
    "duration": 2254,
    "start_time": "2024-02-10T19:43:50.333Z"
   },
   {
    "duration": 1375,
    "start_time": "2024-02-10T19:43:52.589Z"
   },
   {
    "duration": 3,
    "start_time": "2024-02-10T19:43:53.966Z"
   },
   {
    "duration": 13,
    "start_time": "2024-02-10T19:43:53.970Z"
   },
   {
    "duration": 1581,
    "start_time": "2024-02-10T19:43:53.985Z"
   },
   {
    "duration": 15,
    "start_time": "2024-02-10T19:43:55.568Z"
   },
   {
    "duration": 287,
    "start_time": "2024-02-10T19:43:55.585Z"
   },
   {
    "duration": 54,
    "start_time": "2024-02-10T19:43:55.873Z"
   },
   {
    "duration": 3,
    "start_time": "2024-02-10T19:43:55.929Z"
   },
   {
    "duration": 22,
    "start_time": "2024-02-10T19:43:55.934Z"
   },
   {
    "duration": 293,
    "start_time": "2024-02-10T19:43:55.958Z"
   },
   {
    "duration": 95,
    "start_time": "2024-02-10T19:43:56.254Z"
   },
   {
    "duration": 318,
    "start_time": "2024-02-10T19:43:56.350Z"
   },
   {
    "duration": 135,
    "start_time": "2024-02-10T19:43:56.670Z"
   },
   {
    "duration": 169,
    "start_time": "2024-02-10T19:43:56.807Z"
   },
   {
    "duration": 26,
    "start_time": "2024-02-10T19:43:56.978Z"
   },
   {
    "duration": 190,
    "start_time": "2024-02-10T19:43:57.005Z"
   },
   {
    "duration": 217,
    "start_time": "2024-02-10T19:43:57.196Z"
   },
   {
    "duration": 47,
    "start_time": "2024-02-10T19:43:57.417Z"
   },
   {
    "duration": 303,
    "start_time": "2024-02-10T19:43:57.465Z"
   },
   {
    "duration": 349,
    "start_time": "2024-02-10T19:43:57.770Z"
   },
   {
    "duration": 22,
    "start_time": "2024-02-10T19:43:58.121Z"
   },
   {
    "duration": 360,
    "start_time": "2024-02-10T19:43:58.144Z"
   },
   {
    "duration": 14,
    "start_time": "2024-02-10T19:43:58.505Z"
   },
   {
    "duration": 20,
    "start_time": "2024-02-10T19:43:58.520Z"
   },
   {
    "duration": 344,
    "start_time": "2024-02-10T19:43:58.542Z"
   },
   {
    "duration": 8,
    "start_time": "2024-02-10T19:43:58.888Z"
   },
   {
    "duration": 32,
    "start_time": "2024-02-10T19:43:58.898Z"
   },
   {
    "duration": 383,
    "start_time": "2024-02-10T19:43:58.931Z"
   },
   {
    "duration": 680,
    "start_time": "2024-02-10T19:43:59.318Z"
   },
   {
    "duration": 361,
    "start_time": "2024-02-10T19:43:59.999Z"
   },
   {
    "duration": 42,
    "start_time": "2024-02-10T19:44:00.361Z"
   },
   {
    "duration": 4344,
    "start_time": "2024-02-10T19:44:00.404Z"
   },
   {
    "duration": 29669,
    "start_time": "2024-02-10T19:44:04.750Z"
   },
   {
    "duration": 717,
    "start_time": "2024-02-10T19:44:34.420Z"
   },
   {
    "duration": 2,
    "start_time": "2024-02-10T19:44:35.139Z"
   },
   {
    "duration": 230402,
    "start_time": "2024-02-10T19:44:35.143Z"
   },
   {
    "duration": 9,
    "start_time": "2024-02-10T19:48:25.547Z"
   },
   {
    "duration": 727,
    "start_time": "2024-02-10T19:48:25.617Z"
   },
   {
    "duration": 3858,
    "start_time": "2024-02-11T17:17:49.439Z"
   },
   {
    "duration": 7103,
    "start_time": "2024-02-11T17:17:53.299Z"
   },
   {
    "duration": 3481,
    "start_time": "2024-02-11T17:18:00.405Z"
   },
   {
    "duration": 1772,
    "start_time": "2024-02-11T17:18:03.889Z"
   },
   {
    "duration": 3,
    "start_time": "2024-02-11T17:18:05.663Z"
   },
   {
    "duration": 6,
    "start_time": "2024-02-11T17:18:05.668Z"
   },
   {
    "duration": 1523,
    "start_time": "2024-02-11T17:18:05.676Z"
   },
   {
    "duration": 18,
    "start_time": "2024-02-11T17:18:07.201Z"
   },
   {
    "duration": 297,
    "start_time": "2024-02-11T17:18:07.221Z"
   },
   {
    "duration": 62,
    "start_time": "2024-02-11T17:18:07.521Z"
   },
   {
    "duration": 4,
    "start_time": "2024-02-11T17:18:07.585Z"
   },
   {
    "duration": 45,
    "start_time": "2024-02-11T17:18:07.590Z"
   },
   {
    "duration": 335,
    "start_time": "2024-02-11T17:18:07.636Z"
   },
   {
    "duration": 108,
    "start_time": "2024-02-11T17:18:07.973Z"
   },
   {
    "duration": 354,
    "start_time": "2024-02-11T17:18:08.083Z"
   },
   {
    "duration": 164,
    "start_time": "2024-02-11T17:18:08.439Z"
   },
   {
    "duration": 244,
    "start_time": "2024-02-11T17:18:08.605Z"
   },
   {
    "duration": 62,
    "start_time": "2024-02-11T17:18:08.851Z"
   },
   {
    "duration": 293,
    "start_time": "2024-02-11T17:18:08.916Z"
   },
   {
    "duration": 239,
    "start_time": "2024-02-11T17:18:09.211Z"
   },
   {
    "duration": 83,
    "start_time": "2024-02-11T17:18:09.451Z"
   },
   {
    "duration": 366,
    "start_time": "2024-02-11T17:18:09.535Z"
   },
   {
    "duration": 406,
    "start_time": "2024-02-11T17:18:09.903Z"
   },
   {
    "duration": 20,
    "start_time": "2024-02-11T17:18:10.311Z"
   },
   {
    "duration": 442,
    "start_time": "2024-02-11T17:18:10.332Z"
   },
   {
    "duration": 10,
    "start_time": "2024-02-11T17:18:10.776Z"
   },
   {
    "duration": 27,
    "start_time": "2024-02-11T17:18:10.788Z"
   },
   {
    "duration": 424,
    "start_time": "2024-02-11T17:18:10.818Z"
   },
   {
    "duration": 9,
    "start_time": "2024-02-11T17:18:11.244Z"
   },
   {
    "duration": 39,
    "start_time": "2024-02-11T17:18:11.255Z"
   },
   {
    "duration": 442,
    "start_time": "2024-02-11T17:18:11.296Z"
   },
   {
    "duration": 924,
    "start_time": "2024-02-11T17:18:11.740Z"
   },
   {
    "duration": 296,
    "start_time": "2024-02-11T17:18:12.666Z"
   },
   {
    "duration": 57,
    "start_time": "2024-02-11T17:18:12.964Z"
   },
   {
    "duration": 5,
    "start_time": "2024-02-11T17:18:13.023Z"
   },
   {
    "duration": 5168,
    "start_time": "2024-02-11T17:18:13.030Z"
   },
   {
    "duration": 35992,
    "start_time": "2024-02-11T17:18:18.200Z"
   },
   {
    "duration": 4,
    "start_time": "2024-02-11T17:18:54.195Z"
   },
   {
    "duration": 4,
    "start_time": "2024-02-11T17:18:54.202Z"
   },
   {
    "duration": 958,
    "start_time": "2024-02-11T17:18:54.208Z"
   },
   {
    "duration": 3,
    "start_time": "2024-02-11T17:18:55.168Z"
   },
   {
    "duration": 2734,
    "start_time": "2024-02-11T17:29:57.009Z"
   },
   {
    "duration": 3250,
    "start_time": "2024-02-11T17:29:59.746Z"
   },
   {
    "duration": 2702,
    "start_time": "2024-02-11T17:30:02.999Z"
   },
   {
    "duration": 1471,
    "start_time": "2024-02-11T17:30:05.705Z"
   },
   {
    "duration": 3,
    "start_time": "2024-02-11T17:30:07.178Z"
   },
   {
    "duration": 6,
    "start_time": "2024-02-11T17:30:07.182Z"
   },
   {
    "duration": 1979,
    "start_time": "2024-02-11T17:30:07.190Z"
   },
   {
    "duration": 18,
    "start_time": "2024-02-11T17:30:09.170Z"
   },
   {
    "duration": 332,
    "start_time": "2024-02-11T17:30:09.189Z"
   },
   {
    "duration": 94,
    "start_time": "2024-02-11T17:30:09.525Z"
   },
   {
    "duration": 4,
    "start_time": "2024-02-11T17:30:09.621Z"
   },
   {
    "duration": 43,
    "start_time": "2024-02-11T17:30:09.627Z"
   },
   {
    "duration": 333,
    "start_time": "2024-02-11T17:30:09.680Z"
   },
   {
    "duration": 103,
    "start_time": "2024-02-11T17:30:10.014Z"
   },
   {
    "duration": 344,
    "start_time": "2024-02-11T17:30:10.119Z"
   },
   {
    "duration": 169,
    "start_time": "2024-02-11T17:30:10.465Z"
   },
   {
    "duration": 165,
    "start_time": "2024-02-11T17:30:10.636Z"
   },
   {
    "duration": 32,
    "start_time": "2024-02-11T17:30:10.803Z"
   },
   {
    "duration": 228,
    "start_time": "2024-02-11T17:30:10.836Z"
   },
   {
    "duration": 265,
    "start_time": "2024-02-11T17:30:11.067Z"
   },
   {
    "duration": 82,
    "start_time": "2024-02-11T17:30:11.334Z"
   },
   {
    "duration": 357,
    "start_time": "2024-02-11T17:30:11.418Z"
   },
   {
    "duration": 431,
    "start_time": "2024-02-11T17:30:11.779Z"
   },
   {
    "duration": 20,
    "start_time": "2024-02-11T17:30:12.212Z"
   },
   {
    "duration": 441,
    "start_time": "2024-02-11T17:30:12.234Z"
   },
   {
    "duration": 8,
    "start_time": "2024-02-11T17:30:12.680Z"
   },
   {
    "duration": 28,
    "start_time": "2024-02-11T17:30:12.690Z"
   },
   {
    "duration": 418,
    "start_time": "2024-02-11T17:30:12.722Z"
   },
   {
    "duration": 9,
    "start_time": "2024-02-11T17:30:13.141Z"
   },
   {
    "duration": 42,
    "start_time": "2024-02-11T17:30:13.151Z"
   },
   {
    "duration": 434,
    "start_time": "2024-02-11T17:30:13.195Z"
   },
   {
    "duration": 831,
    "start_time": "2024-02-11T17:30:13.631Z"
   },
   {
    "duration": 410,
    "start_time": "2024-02-11T17:30:14.465Z"
   },
   {
    "duration": 50,
    "start_time": "2024-02-11T17:30:14.880Z"
   },
   {
    "duration": 5,
    "start_time": "2024-02-11T17:30:14.932Z"
   },
   {
    "duration": 5254,
    "start_time": "2024-02-11T17:30:14.939Z"
   },
   {
    "duration": 34429,
    "start_time": "2024-02-11T17:30:20.194Z"
   },
   {
    "duration": 7,
    "start_time": "2024-02-11T17:30:54.626Z"
   },
   {
    "duration": 16,
    "start_time": "2024-02-11T17:30:54.635Z"
   },
   {
    "duration": 907,
    "start_time": "2024-02-11T17:30:54.653Z"
   },
   {
    "duration": 3,
    "start_time": "2024-02-11T17:30:55.561Z"
   },
   {
    "duration": 3033,
    "start_time": "2024-02-11T17:44:09.258Z"
   },
   {
    "duration": 3385,
    "start_time": "2024-02-11T17:44:12.294Z"
   },
   {
    "duration": 2908,
    "start_time": "2024-02-11T17:44:15.682Z"
   },
   {
    "duration": 1584,
    "start_time": "2024-02-11T17:44:18.593Z"
   },
   {
    "duration": 9,
    "start_time": "2024-02-11T17:44:20.184Z"
   },
   {
    "duration": 8,
    "start_time": "2024-02-11T17:44:20.196Z"
   },
   {
    "duration": 1774,
    "start_time": "2024-02-11T17:44:20.206Z"
   },
   {
    "duration": 21,
    "start_time": "2024-02-11T17:44:21.982Z"
   },
   {
    "duration": 352,
    "start_time": "2024-02-11T17:44:22.006Z"
   },
   {
    "duration": 58,
    "start_time": "2024-02-11T17:44:22.360Z"
   },
   {
    "duration": 4,
    "start_time": "2024-02-11T17:44:22.419Z"
   },
   {
    "duration": 38,
    "start_time": "2024-02-11T17:44:22.426Z"
   },
   {
    "duration": 397,
    "start_time": "2024-02-11T17:44:22.466Z"
   },
   {
    "duration": 126,
    "start_time": "2024-02-11T17:44:22.869Z"
   },
   {
    "duration": 353,
    "start_time": "2024-02-11T17:44:22.996Z"
   },
   {
    "duration": 213,
    "start_time": "2024-02-11T17:44:23.351Z"
   },
   {
    "duration": 242,
    "start_time": "2024-02-11T17:44:23.566Z"
   },
   {
    "duration": 40,
    "start_time": "2024-02-11T17:44:23.810Z"
   },
   {
    "duration": 233,
    "start_time": "2024-02-11T17:44:23.852Z"
   },
   {
    "duration": 238,
    "start_time": "2024-02-11T17:44:24.087Z"
   },
   {
    "duration": 72,
    "start_time": "2024-02-11T17:44:24.327Z"
   },
   {
    "duration": 417,
    "start_time": "2024-02-11T17:44:24.401Z"
   },
   {
    "duration": 413,
    "start_time": "2024-02-11T17:44:24.820Z"
   },
   {
    "duration": 26,
    "start_time": "2024-02-11T17:44:25.235Z"
   },
   {
    "duration": 443,
    "start_time": "2024-02-11T17:44:25.263Z"
   },
   {
    "duration": 10,
    "start_time": "2024-02-11T17:44:25.708Z"
   },
   {
    "duration": 25,
    "start_time": "2024-02-11T17:44:25.720Z"
   },
   {
    "duration": 462,
    "start_time": "2024-02-11T17:44:25.746Z"
   },
   {
    "duration": 10,
    "start_time": "2024-02-11T17:44:26.211Z"
   },
   {
    "duration": 18,
    "start_time": "2024-02-11T17:44:26.224Z"
   },
   {
    "duration": 526,
    "start_time": "2024-02-11T17:44:26.244Z"
   },
   {
    "duration": 813,
    "start_time": "2024-02-11T17:44:26.772Z"
   },
   {
    "duration": 456,
    "start_time": "2024-02-11T17:44:27.587Z"
   },
   {
    "duration": 80,
    "start_time": "2024-02-11T17:44:28.045Z"
   },
   {
    "duration": 7,
    "start_time": "2024-02-11T17:44:28.128Z"
   },
   {
    "duration": 5472,
    "start_time": "2024-02-11T17:44:28.138Z"
   },
   {
    "duration": 36592,
    "start_time": "2024-02-11T17:44:33.612Z"
   },
   {
    "duration": 3,
    "start_time": "2024-02-11T17:45:10.206Z"
   },
   {
    "duration": 5,
    "start_time": "2024-02-11T17:45:10.212Z"
   },
   {
    "duration": 936,
    "start_time": "2024-02-11T17:45:10.219Z"
   },
   {
    "duration": 3,
    "start_time": "2024-02-11T17:45:11.160Z"
   },
   {
    "duration": 8678653,
    "start_time": "2024-02-11T17:45:11.165Z"
   },
   {
    "duration": 73,
    "start_time": "2024-02-11T20:09:49.820Z"
   },
   {
    "duration": 885,
    "start_time": "2024-02-11T20:09:49.896Z"
   },
   {
    "duration": 22,
    "start_time": "2024-02-11T21:23:59.011Z"
   },
   {
    "duration": 24,
    "start_time": "2024-02-11T21:58:45.268Z"
   },
   {
    "duration": 18,
    "start_time": "2024-02-11T22:23:36.225Z"
   },
   {
    "duration": 2563,
    "start_time": "2024-02-11T22:35:56.824Z"
   },
   {
    "duration": 3134,
    "start_time": "2024-02-11T22:35:59.389Z"
   },
   {
    "duration": 2540,
    "start_time": "2024-02-11T22:36:02.526Z"
   },
   {
    "duration": 1412,
    "start_time": "2024-02-11T22:36:05.068Z"
   },
   {
    "duration": 3,
    "start_time": "2024-02-11T22:36:06.482Z"
   },
   {
    "duration": 9,
    "start_time": "2024-02-11T22:36:06.486Z"
   },
   {
    "duration": 1753,
    "start_time": "2024-02-11T22:36:06.497Z"
   },
   {
    "duration": 17,
    "start_time": "2024-02-11T22:36:08.252Z"
   },
   {
    "duration": 279,
    "start_time": "2024-02-11T22:36:08.270Z"
   },
   {
    "duration": 61,
    "start_time": "2024-02-11T22:36:08.551Z"
   },
   {
    "duration": 3,
    "start_time": "2024-02-11T22:36:08.614Z"
   },
   {
    "duration": 35,
    "start_time": "2024-02-11T22:36:08.618Z"
   },
   {
    "duration": 317,
    "start_time": "2024-02-11T22:36:08.655Z"
   },
   {
    "duration": 95,
    "start_time": "2024-02-11T22:36:08.979Z"
   },
   {
    "duration": 317,
    "start_time": "2024-02-11T22:36:09.080Z"
   },
   {
    "duration": 135,
    "start_time": "2024-02-11T22:36:09.399Z"
   },
   {
    "duration": 181,
    "start_time": "2024-02-11T22:36:09.535Z"
   },
   {
    "duration": 45,
    "start_time": "2024-02-11T22:36:09.719Z"
   },
   {
    "duration": 212,
    "start_time": "2024-02-11T22:36:09.765Z"
   },
   {
    "duration": 228,
    "start_time": "2024-02-11T22:36:09.979Z"
   },
   {
    "duration": 54,
    "start_time": "2024-02-11T22:36:10.208Z"
   },
   {
    "duration": 343,
    "start_time": "2024-02-11T22:36:10.264Z"
   },
   {
    "duration": 375,
    "start_time": "2024-02-11T22:36:10.609Z"
   },
   {
    "duration": 20,
    "start_time": "2024-02-11T22:36:10.986Z"
   },
   {
    "duration": 410,
    "start_time": "2024-02-11T22:36:11.008Z"
   },
   {
    "duration": 9,
    "start_time": "2024-02-11T22:36:11.419Z"
   },
   {
    "duration": 23,
    "start_time": "2024-02-11T22:36:11.430Z"
   },
   {
    "duration": 396,
    "start_time": "2024-02-11T22:36:11.455Z"
   },
   {
    "duration": 8,
    "start_time": "2024-02-11T22:36:11.853Z"
   },
   {
    "duration": 28,
    "start_time": "2024-02-11T22:36:11.863Z"
   },
   {
    "duration": 426,
    "start_time": "2024-02-11T22:36:11.893Z"
   },
   {
    "duration": 760,
    "start_time": "2024-02-11T22:36:12.321Z"
   },
   {
    "duration": 385,
    "start_time": "2024-02-11T22:36:13.082Z"
   },
   {
    "duration": 50,
    "start_time": "2024-02-11T22:36:13.469Z"
   },
   {
    "duration": 5,
    "start_time": "2024-02-11T22:36:13.521Z"
   },
   {
    "duration": 4907,
    "start_time": "2024-02-11T22:36:13.527Z"
   },
   {
    "duration": 32513,
    "start_time": "2024-02-11T22:36:18.435Z"
   },
   {
    "duration": 3,
    "start_time": "2024-02-11T22:36:50.949Z"
   },
   {
    "duration": 8,
    "start_time": "2024-02-11T22:36:50.954Z"
   },
   {
    "duration": 780,
    "start_time": "2024-02-11T22:36:50.963Z"
   },
   {
    "duration": 3,
    "start_time": "2024-02-11T22:36:51.746Z"
   },
   {
    "duration": 251439,
    "start_time": "2024-02-11T22:36:51.750Z"
   },
   {
    "duration": 9,
    "start_time": "2024-02-11T22:41:03.190Z"
   },
   {
    "duration": 891,
    "start_time": "2024-02-11T22:41:03.201Z"
   },
   {
    "duration": 2,
    "start_time": "2024-02-11T22:47:53.430Z"
   },
   {
    "duration": 4793,
    "start_time": "2024-02-11T22:47:55.915Z"
   },
   {
    "duration": 4764,
    "start_time": "2024-02-11T22:55:21.065Z"
   },
   {
    "duration": 4814,
    "start_time": "2024-02-11T22:55:57.179Z"
   },
   {
    "duration": 3,
    "start_time": "2024-02-11T23:27:25.593Z"
   },
   {
    "duration": 137,
    "start_time": "2024-02-11T23:27:32.850Z"
   },
   {
    "duration": 2600,
    "start_time": "2024-02-11T23:36:21.363Z"
   },
   {
    "duration": 3061,
    "start_time": "2024-02-11T23:36:23.966Z"
   },
   {
    "duration": 2641,
    "start_time": "2024-02-11T23:36:27.029Z"
   },
   {
    "duration": 1454,
    "start_time": "2024-02-11T23:36:29.673Z"
   },
   {
    "duration": 3,
    "start_time": "2024-02-11T23:36:31.129Z"
   },
   {
    "duration": 15,
    "start_time": "2024-02-11T23:36:31.133Z"
   },
   {
    "duration": 1811,
    "start_time": "2024-02-11T23:36:31.149Z"
   },
   {
    "duration": 25,
    "start_time": "2024-02-11T23:36:32.962Z"
   },
   {
    "duration": 274,
    "start_time": "2024-02-11T23:36:32.989Z"
   },
   {
    "duration": 70,
    "start_time": "2024-02-11T23:36:33.265Z"
   },
   {
    "duration": 3,
    "start_time": "2024-02-11T23:36:33.337Z"
   },
   {
    "duration": 46,
    "start_time": "2024-02-11T23:36:33.341Z"
   },
   {
    "duration": 326,
    "start_time": "2024-02-11T23:36:33.389Z"
   },
   {
    "duration": 102,
    "start_time": "2024-02-11T23:36:33.719Z"
   },
   {
    "duration": 353,
    "start_time": "2024-02-11T23:36:33.823Z"
   },
   {
    "duration": 146,
    "start_time": "2024-02-11T23:36:34.181Z"
   },
   {
    "duration": 172,
    "start_time": "2024-02-11T23:36:34.329Z"
   },
   {
    "duration": 46,
    "start_time": "2024-02-11T23:36:34.502Z"
   },
   {
    "duration": 231,
    "start_time": "2024-02-11T23:36:34.550Z"
   },
   {
    "duration": 226,
    "start_time": "2024-02-11T23:36:34.782Z"
   },
   {
    "duration": 55,
    "start_time": "2024-02-11T23:36:35.010Z"
   },
   {
    "duration": 344,
    "start_time": "2024-02-11T23:36:35.066Z"
   },
   {
    "duration": 386,
    "start_time": "2024-02-11T23:36:35.412Z"
   },
   {
    "duration": 20,
    "start_time": "2024-02-11T23:36:35.799Z"
   },
   {
    "duration": 387,
    "start_time": "2024-02-11T23:36:35.820Z"
   },
   {
    "duration": 8,
    "start_time": "2024-02-11T23:36:36.209Z"
   },
   {
    "duration": 19,
    "start_time": "2024-02-11T23:36:36.219Z"
   },
   {
    "duration": 416,
    "start_time": "2024-02-11T23:36:36.240Z"
   },
   {
    "duration": 8,
    "start_time": "2024-02-11T23:36:36.658Z"
   },
   {
    "duration": 33,
    "start_time": "2024-02-11T23:36:36.667Z"
   },
   {
    "duration": 419,
    "start_time": "2024-02-11T23:36:36.702Z"
   },
   {
    "duration": 737,
    "start_time": "2024-02-11T23:36:37.123Z"
   },
   {
    "duration": 379,
    "start_time": "2024-02-11T23:36:37.862Z"
   },
   {
    "duration": 56,
    "start_time": "2024-02-11T23:36:38.242Z"
   },
   {
    "duration": 2,
    "start_time": "2024-02-11T23:36:38.299Z"
   },
   {
    "duration": 4930,
    "start_time": "2024-02-11T23:36:38.303Z"
   },
   {
    "duration": 32253,
    "start_time": "2024-02-11T23:36:43.235Z"
   },
   {
    "duration": 3,
    "start_time": "2024-02-11T23:37:15.489Z"
   },
   {
    "duration": 12,
    "start_time": "2024-02-11T23:37:15.494Z"
   },
   {
    "duration": 854,
    "start_time": "2024-02-11T23:37:15.508Z"
   },
   {
    "duration": 3,
    "start_time": "2024-02-11T23:37:16.365Z"
   },
   {
    "duration": 2524,
    "start_time": "2024-02-11T23:40:54.253Z"
   },
   {
    "duration": 2991,
    "start_time": "2024-02-11T23:40:56.780Z"
   },
   {
    "duration": 2546,
    "start_time": "2024-02-11T23:40:59.774Z"
   },
   {
    "duration": 1381,
    "start_time": "2024-02-11T23:41:02.323Z"
   },
   {
    "duration": 3,
    "start_time": "2024-02-11T23:41:03.705Z"
   },
   {
    "duration": 8,
    "start_time": "2024-02-11T23:41:03.710Z"
   },
   {
    "duration": 1644,
    "start_time": "2024-02-11T23:41:03.719Z"
   },
   {
    "duration": 20,
    "start_time": "2024-02-11T23:41:05.365Z"
   },
   {
    "duration": 295,
    "start_time": "2024-02-11T23:41:05.386Z"
   },
   {
    "duration": 53,
    "start_time": "2024-02-11T23:41:05.684Z"
   },
   {
    "duration": 3,
    "start_time": "2024-02-11T23:41:05.739Z"
   },
   {
    "duration": 37,
    "start_time": "2024-02-11T23:41:05.744Z"
   },
   {
    "duration": 312,
    "start_time": "2024-02-11T23:41:05.783Z"
   },
   {
    "duration": 98,
    "start_time": "2024-02-11T23:41:06.096Z"
   },
   {
    "duration": 339,
    "start_time": "2024-02-11T23:41:06.195Z"
   },
   {
    "duration": 138,
    "start_time": "2024-02-11T23:41:06.536Z"
   },
   {
    "duration": 157,
    "start_time": "2024-02-11T23:41:06.679Z"
   },
   {
    "duration": 31,
    "start_time": "2024-02-11T23:41:06.838Z"
   },
   {
    "duration": 199,
    "start_time": "2024-02-11T23:41:06.881Z"
   },
   {
    "duration": 239,
    "start_time": "2024-02-11T23:41:07.082Z"
   },
   {
    "duration": 60,
    "start_time": "2024-02-11T23:41:07.322Z"
   },
   {
    "duration": 346,
    "start_time": "2024-02-11T23:41:07.383Z"
   },
   {
    "duration": 380,
    "start_time": "2024-02-11T23:41:07.730Z"
   },
   {
    "duration": 19,
    "start_time": "2024-02-11T23:41:08.112Z"
   },
   {
    "duration": 413,
    "start_time": "2024-02-11T23:41:08.133Z"
   },
   {
    "duration": 9,
    "start_time": "2024-02-11T23:41:08.548Z"
   },
   {
    "duration": 33,
    "start_time": "2024-02-11T23:41:08.558Z"
   },
   {
    "duration": 387,
    "start_time": "2024-02-11T23:41:08.596Z"
   },
   {
    "duration": 9,
    "start_time": "2024-02-11T23:41:08.984Z"
   },
   {
    "duration": 22,
    "start_time": "2024-02-11T23:41:08.994Z"
   },
   {
    "duration": 414,
    "start_time": "2024-02-11T23:41:09.018Z"
   },
   {
    "duration": 717,
    "start_time": "2024-02-11T23:41:09.433Z"
   },
   {
    "duration": 382,
    "start_time": "2024-02-11T23:41:10.151Z"
   },
   {
    "duration": 60,
    "start_time": "2024-02-11T23:41:10.534Z"
   },
   {
    "duration": 2,
    "start_time": "2024-02-11T23:41:10.596Z"
   },
   {
    "duration": 4810,
    "start_time": "2024-02-11T23:41:10.599Z"
   },
   {
    "duration": 32519,
    "start_time": "2024-02-11T23:41:15.411Z"
   },
   {
    "duration": 4,
    "start_time": "2024-02-11T23:41:47.932Z"
   },
   {
    "duration": 7,
    "start_time": "2024-02-11T23:41:47.938Z"
   },
   {
    "duration": 882,
    "start_time": "2024-02-11T23:41:47.946Z"
   },
   {
    "duration": 2,
    "start_time": "2024-02-11T23:41:48.830Z"
   },
   {
    "duration": 241056,
    "start_time": "2024-02-11T23:41:48.834Z"
   },
   {
    "duration": 10,
    "start_time": "2024-02-11T23:45:49.891Z"
   },
   {
    "duration": 879,
    "start_time": "2024-02-11T23:45:49.902Z"
   },
   {
    "duration": 809,
    "start_time": "2024-02-11T23:46:42.894Z"
   },
   {
    "duration": 3191,
    "start_time": "2024-02-12T01:18:27.179Z"
   },
   {
    "duration": 5914,
    "start_time": "2024-02-12T01:18:30.372Z"
   },
   {
    "duration": 2762,
    "start_time": "2024-02-12T01:18:36.288Z"
   },
   {
    "duration": 1464,
    "start_time": "2024-02-12T01:18:39.053Z"
   },
   {
    "duration": 2,
    "start_time": "2024-02-12T01:18:40.519Z"
   },
   {
    "duration": 10,
    "start_time": "2024-02-12T01:18:40.523Z"
   },
   {
    "duration": 1760,
    "start_time": "2024-02-12T01:18:40.534Z"
   },
   {
    "duration": 20,
    "start_time": "2024-02-12T01:18:42.296Z"
   },
   {
    "duration": 252,
    "start_time": "2024-02-12T01:18:42.317Z"
   },
   {
    "duration": 58,
    "start_time": "2024-02-12T01:18:42.572Z"
   },
   {
    "duration": 3,
    "start_time": "2024-02-12T01:18:42.632Z"
   },
   {
    "duration": 25,
    "start_time": "2024-02-12T01:18:42.637Z"
   },
   {
    "duration": 299,
    "start_time": "2024-02-12T01:18:42.664Z"
   },
   {
    "duration": 94,
    "start_time": "2024-02-12T01:18:42.965Z"
   },
   {
    "duration": 307,
    "start_time": "2024-02-12T01:18:43.060Z"
   },
   {
    "duration": 129,
    "start_time": "2024-02-12T01:18:43.368Z"
   },
   {
    "duration": 175,
    "start_time": "2024-02-12T01:18:43.498Z"
   },
   {
    "duration": 41,
    "start_time": "2024-02-12T01:18:43.675Z"
   },
   {
    "duration": 189,
    "start_time": "2024-02-12T01:18:43.718Z"
   },
   {
    "duration": 205,
    "start_time": "2024-02-12T01:18:43.909Z"
   },
   {
    "duration": 50,
    "start_time": "2024-02-12T01:18:44.116Z"
   },
   {
    "duration": 334,
    "start_time": "2024-02-12T01:18:44.168Z"
   },
   {
    "duration": 371,
    "start_time": "2024-02-12T01:18:44.503Z"
   },
   {
    "duration": 22,
    "start_time": "2024-02-12T01:18:44.876Z"
   },
   {
    "duration": 360,
    "start_time": "2024-02-12T01:18:44.900Z"
   },
   {
    "duration": 8,
    "start_time": "2024-02-12T01:18:45.262Z"
   },
   {
    "duration": 19,
    "start_time": "2024-02-12T01:18:45.271Z"
   },
   {
    "duration": 365,
    "start_time": "2024-02-12T01:18:45.293Z"
   },
   {
    "duration": 8,
    "start_time": "2024-02-12T01:18:45.659Z"
   },
   {
    "duration": 30,
    "start_time": "2024-02-12T01:18:45.668Z"
   },
   {
    "duration": 400,
    "start_time": "2024-02-12T01:18:45.700Z"
   },
   {
    "duration": 763,
    "start_time": "2024-02-12T01:18:46.101Z"
   },
   {
    "duration": 261,
    "start_time": "2024-02-12T01:18:46.865Z"
   },
   {
    "duration": 42,
    "start_time": "2024-02-12T01:18:47.128Z"
   },
   {
    "duration": 2,
    "start_time": "2024-02-12T01:18:47.172Z"
   },
   {
    "duration": 4559,
    "start_time": "2024-02-12T01:18:47.176Z"
   },
   {
    "duration": 30265,
    "start_time": "2024-02-12T01:18:51.736Z"
   },
   {
    "duration": 3,
    "start_time": "2024-02-12T01:19:22.002Z"
   },
   {
    "duration": 13,
    "start_time": "2024-02-12T01:19:22.007Z"
   },
   {
    "duration": 800,
    "start_time": "2024-02-12T01:19:22.022Z"
   },
   {
    "duration": 2,
    "start_time": "2024-02-12T01:19:22.824Z"
   },
   {
    "duration": 210506,
    "start_time": "2024-02-12T01:19:22.828Z"
   },
   {
    "duration": 9,
    "start_time": "2024-02-12T01:22:53.335Z"
   },
   {
    "duration": 788,
    "start_time": "2024-02-12T01:22:53.346Z"
   },
   {
    "duration": 9,
    "start_time": "2024-02-12T02:25:02.850Z"
   },
   {
    "duration": 121,
    "start_time": "2024-02-12T02:28:33.866Z"
   },
   {
    "duration": 12,
    "start_time": "2024-02-12T02:29:33.916Z"
   },
   {
    "duration": 11,
    "start_time": "2024-02-12T02:31:55.435Z"
   },
   {
    "duration": 13,
    "start_time": "2024-02-12T02:39:51.490Z"
   },
   {
    "duration": 14,
    "start_time": "2024-02-12T02:46:02.405Z"
   },
   {
    "duration": 6,
    "start_time": "2024-02-12T02:51:48.214Z"
   },
   {
    "duration": 21,
    "start_time": "2024-02-12T02:54:57.567Z"
   },
   {
    "duration": 21,
    "start_time": "2024-02-12T03:01:21.089Z"
   },
   {
    "duration": 10,
    "start_time": "2024-02-12T03:10:12.388Z"
   },
   {
    "duration": 24,
    "start_time": "2024-02-12T03:12:35.230Z"
   },
   {
    "duration": 10,
    "start_time": "2024-02-12T03:13:42.162Z"
   },
   {
    "duration": 11,
    "start_time": "2024-02-12T03:15:08.987Z"
   },
   {
    "duration": 6,
    "start_time": "2024-02-12T03:16:49.894Z"
   },
   {
    "duration": 11,
    "start_time": "2024-02-12T03:19:04.213Z"
   },
   {
    "duration": 12,
    "start_time": "2024-02-12T03:24:24.542Z"
   },
   {
    "duration": 2402,
    "start_time": "2024-02-12T03:40:50.897Z"
   },
   {
    "duration": 2799,
    "start_time": "2024-02-12T03:40:53.301Z"
   },
   {
    "duration": 2410,
    "start_time": "2024-02-12T03:40:56.102Z"
   },
   {
    "duration": 1321,
    "start_time": "2024-02-12T03:40:58.514Z"
   },
   {
    "duration": 3,
    "start_time": "2024-02-12T03:40:59.836Z"
   },
   {
    "duration": 4,
    "start_time": "2024-02-12T03:40:59.840Z"
   },
   {
    "duration": 1903,
    "start_time": "2024-02-12T03:40:59.845Z"
   },
   {
    "duration": 16,
    "start_time": "2024-02-12T03:41:01.750Z"
   },
   {
    "duration": 250,
    "start_time": "2024-02-12T03:41:01.767Z"
   },
   {
    "duration": 49,
    "start_time": "2024-02-12T03:41:02.020Z"
   },
   {
    "duration": 3,
    "start_time": "2024-02-12T03:41:02.070Z"
   },
   {
    "duration": 41,
    "start_time": "2024-02-12T03:41:02.074Z"
   },
   {
    "duration": 292,
    "start_time": "2024-02-12T03:41:02.117Z"
   },
   {
    "duration": 89,
    "start_time": "2024-02-12T03:41:02.415Z"
   },
   {
    "duration": 314,
    "start_time": "2024-02-12T03:41:02.514Z"
   },
   {
    "duration": 127,
    "start_time": "2024-02-12T03:41:02.829Z"
   },
   {
    "duration": 150,
    "start_time": "2024-02-12T03:41:02.958Z"
   },
   {
    "duration": 34,
    "start_time": "2024-02-12T03:41:03.109Z"
   },
   {
    "duration": 202,
    "start_time": "2024-02-12T03:41:03.144Z"
   },
   {
    "duration": 208,
    "start_time": "2024-02-12T03:41:03.348Z"
   },
   {
    "duration": 59,
    "start_time": "2024-02-12T03:41:03.558Z"
   },
   {
    "duration": 317,
    "start_time": "2024-02-12T03:41:03.618Z"
   },
   {
    "duration": 351,
    "start_time": "2024-02-12T03:41:03.936Z"
   },
   {
    "duration": 28,
    "start_time": "2024-02-12T03:41:04.289Z"
   },
   {
    "duration": 347,
    "start_time": "2024-02-12T03:41:04.319Z"
   },
   {
    "duration": 7,
    "start_time": "2024-02-12T03:41:04.668Z"
   },
   {
    "duration": 41,
    "start_time": "2024-02-12T03:41:04.677Z"
   },
   {
    "duration": 387,
    "start_time": "2024-02-12T03:41:04.721Z"
   },
   {
    "duration": 7,
    "start_time": "2024-02-12T03:41:05.114Z"
   },
   {
    "duration": 15,
    "start_time": "2024-02-12T03:41:05.123Z"
   },
   {
    "duration": 389,
    "start_time": "2024-02-12T03:41:05.139Z"
   },
   {
    "duration": 689,
    "start_time": "2024-02-12T03:41:05.529Z"
   },
   {
    "duration": 372,
    "start_time": "2024-02-12T03:41:06.220Z"
   },
   {
    "duration": 46,
    "start_time": "2024-02-12T03:41:06.593Z"
   },
   {
    "duration": 2,
    "start_time": "2024-02-12T03:41:06.640Z"
   },
   {
    "duration": 4440,
    "start_time": "2024-02-12T03:41:06.643Z"
   },
   {
    "duration": 30341,
    "start_time": "2024-02-12T03:41:11.084Z"
   },
   {
    "duration": 3,
    "start_time": "2024-02-12T03:41:41.426Z"
   },
   {
    "duration": 9,
    "start_time": "2024-02-12T03:41:41.430Z"
   },
   {
    "duration": 856,
    "start_time": "2024-02-12T03:41:41.441Z"
   },
   {
    "duration": 2,
    "start_time": "2024-02-12T03:41:42.299Z"
   },
   {
    "duration": 210724,
    "start_time": "2024-02-12T03:41:42.303Z"
   },
   {
    "duration": 12,
    "start_time": "2024-02-12T03:45:13.028Z"
   },
   {
    "duration": 795,
    "start_time": "2024-02-12T03:45:13.042Z"
   }
  ],
  "colab": {
   "provenance": []
  },
  "kernelspec": {
   "display_name": "Python 3 (ipykernel)",
   "language": "python",
   "name": "python3"
  },
  "language_info": {
   "codemirror_mode": {
    "name": "ipython",
    "version": 3
   },
   "file_extension": ".py",
   "mimetype": "text/x-python",
   "name": "python",
   "nbconvert_exporter": "python",
   "pygments_lexer": "ipython3",
   "version": "3.9.5"
  },
  "toc": {
   "base_numbering": 1,
   "nav_menu": {},
   "number_sections": true,
   "sideBar": true,
   "skip_h1_title": true,
   "title_cell": "Table of Contents",
   "title_sidebar": "Contents",
   "toc_cell": false,
   "toc_position": {},
   "toc_section_display": true,
   "toc_window_display": false
  }
 },
 "nbformat": 4,
 "nbformat_minor": 4
}
