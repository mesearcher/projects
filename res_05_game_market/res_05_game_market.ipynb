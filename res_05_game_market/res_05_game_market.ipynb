{
 "cells": [
  {
   "cell_type": "markdown",
   "metadata": {},
   "source": [
    "# Game Market Analysis"
   ]
  },
  {
   "cell_type": "markdown",
   "metadata": {},
   "source": [
    "**Project Objective:**\n",
    "\n",
    "The main objective of this project is to identify patterns that influence the success of video game sales. To do this, we will analyze the data and answer the following research questions:\n",
    "1. Which gaming platforms have exhibited the highest sales popularity across various time periods?\n",
    "2. What is the typical time frame for the emergence of new gaming platforms, and when do older platforms phase out?\n",
    "3. Which platforms are leading in sales, and are they growing or declining?\n",
    "4. How do user and critic reviews affect sales on one popular platform?\n",
    "5. Are there genres with high and low sales?\n",
    "6. What characteristics define the profiles of gaming platform users in North America, Europe, and Japan?\n",
    "7. Can we assert that the average user ratings for the *Xbox One* and *PC* platforms are equal?\n",
    "8. Can we assert that the average user ratings for the *Action* and *Sports* genres are distinct?\n",
    "\n",
    "**Data Source:**\n",
    "\n",
    "The dataset includes data from open sources, comprising records of game sales, user and expert ratings, genres, and gaming platform popularity spanning the years 1980 to 2016, with incomplete data for the year 2016.\n",
    "\n",
    "**Tools and libraries:**\n",
    "\n",
    "- Python\n",
    "- Pandas\n",
    "- Matplotlib\n",
    "- Seaborn\n",
    "- Numpy"
   ]
  },
  {
   "cell_type": "markdown",
   "metadata": {},
   "source": [
    "# Исследование маркета видеоигр"
   ]
  },
  {
   "cell_type": "markdown",
   "metadata": {},
   "source": [
    "**Аннотация проекта** \n",
    "\n",
    "На архивных данных о продажах игр, оценках пользователей и экспертов, жанрах и популярности игровых платформ проведём исследование, результаты которого будут учтены при выборе потенциально популярного продукта и планировании рекламных кампаний.\n",
    "\n",
    "\n",
    "**Цель исследования** — выявить определяющие успешность игры закономерности. Для этого мы проведём анализ данных и ответим на ряд исследовательских вопросов:\n",
    "- Какие игровые платформы имели наибольшую популярность в плане продаж в разные периоды?\n",
    "- За какой характерный срок появляются новые и исчезают старые платформы?\n",
    "- Какие платформы лидируют по продажам, растут или падают?\n",
    "- Как влияют отзывы пользователей и критиков на продажи внутри одной популярной платформы?\n",
    "- Выделяются ли жанры с высокими и низкими продажами?\n",
    "- Какими особенностями представлен портрет пользователей игровых платформ из Северной Америки, Европы и Японии?\n",
    "- Можно ли сказать, что средние пользовательские рейтинги платформ *Xbox One* и *PC* одинаковые?\n",
    "- Можно ли сказать, что средние пользовательские рейтинги жанров *Action* и *Sports* разные?\n",
    "\n",
    "**Ход исследования**\n",
    "1. Обзор данных.\n",
    "2. Предобработка данных.\n",
    "3. Исследовательский анализ данных.\n",
    "\n",
    "**Описание данных**\n",
    "\n",
    "Датасет содержит информацию из открытых источников — архив данных о продажах игр, оценках пользователей и экспертов, жанрах и популярности игровых платформ с 1980 по 2016 год. Данные неполные за 2016 год. \n",
    "\n",
    "**Инструменты и библиотеки:**\n",
    "- Python\n",
    "- Pandas\n",
    "- Matplotlib\n",
    "- Seaborn\n",
    "- Numpy"
   ]
  },
  {
   "cell_type": "code",
   "execution_count": 1,
   "metadata": {},
   "outputs": [],
   "source": [
    "# импортируем библиотеки\n",
    "import pandas as pd\n",
    "import matplotlib.pyplot as plt\n",
    "import seaborn as sns\n",
    "import numpy as np\n",
    "from scipy import stats as st\n",
    "from scipy.stats import binom, poisson, norm\n",
    "from math import sqrt, factorial"
   ]
  },
  {
   "cell_type": "code",
   "execution_count": 2,
   "metadata": {},
   "outputs": [],
   "source": [
    "# установим настройки для отображения всех столбцов датафрейма\n",
    "pd.set_option('display.max_columns', None)"
   ]
  },
  {
   "cell_type": "markdown",
   "metadata": {},
   "source": [
    "### Шаг 1. Загрузка данных"
   ]
  },
  {
   "cell_type": "code",
   "execution_count": 3,
   "metadata": {},
   "outputs": [],
   "source": [
    "# считываем данные из csv-файла и сохраняем в датафрейм\n",
    "df = pd.read_csv('https://code.s3.yandex.net/datasets/games.csv')"
   ]
  },
  {
   "cell_type": "markdown",
   "metadata": {},
   "source": [
    "Изучим общую информацию о содержании датасета."
   ]
  },
  {
   "cell_type": "code",
   "execution_count": 4,
   "metadata": {},
   "outputs": [
    {
     "name": "stdout",
     "output_type": "stream",
     "text": [
      "<class 'pandas.core.frame.DataFrame'>\n",
      "RangeIndex: 16715 entries, 0 to 16714\n",
      "Data columns (total 11 columns):\n",
      " #   Column           Non-Null Count  Dtype  \n",
      "---  ------           --------------  -----  \n",
      " 0   Name             16713 non-null  object \n",
      " 1   Platform         16715 non-null  object \n",
      " 2   Year_of_Release  16446 non-null  float64\n",
      " 3   Genre            16713 non-null  object \n",
      " 4   NA_sales         16715 non-null  float64\n",
      " 5   EU_sales         16715 non-null  float64\n",
      " 6   JP_sales         16715 non-null  float64\n",
      " 7   Other_sales      16715 non-null  float64\n",
      " 8   Critic_Score     8137 non-null   float64\n",
      " 9   User_Score       10014 non-null  object \n",
      " 10  Rating           9949 non-null   object \n",
      "dtypes: float64(6), object(5)\n",
      "memory usage: 1.4+ MB\n"
     ]
    },
    {
     "data": {
      "text/html": [
       "<div>\n",
       "<style scoped>\n",
       "    .dataframe tbody tr th:only-of-type {\n",
       "        vertical-align: middle;\n",
       "    }\n",
       "\n",
       "    .dataframe tbody tr th {\n",
       "        vertical-align: top;\n",
       "    }\n",
       "\n",
       "    .dataframe thead th {\n",
       "        text-align: right;\n",
       "    }\n",
       "</style>\n",
       "<table border=\"1\" class=\"dataframe\">\n",
       "  <thead>\n",
       "    <tr style=\"text-align: right;\">\n",
       "      <th></th>\n",
       "      <th>Name</th>\n",
       "      <th>Platform</th>\n",
       "      <th>Year_of_Release</th>\n",
       "      <th>Genre</th>\n",
       "      <th>NA_sales</th>\n",
       "      <th>EU_sales</th>\n",
       "      <th>JP_sales</th>\n",
       "      <th>Other_sales</th>\n",
       "      <th>Critic_Score</th>\n",
       "      <th>User_Score</th>\n",
       "      <th>Rating</th>\n",
       "    </tr>\n",
       "  </thead>\n",
       "  <tbody>\n",
       "    <tr>\n",
       "      <th>1011</th>\n",
       "      <td>Yoshi</td>\n",
       "      <td>NES</td>\n",
       "      <td>1991.0</td>\n",
       "      <td>Puzzle</td>\n",
       "      <td>0.70</td>\n",
       "      <td>0.13</td>\n",
       "      <td>0.91</td>\n",
       "      <td>0.01</td>\n",
       "      <td>NaN</td>\n",
       "      <td>NaN</td>\n",
       "      <td>NaN</td>\n",
       "    </tr>\n",
       "    <tr>\n",
       "      <th>5273</th>\n",
       "      <td>Kinectimals: Now with Bears!</td>\n",
       "      <td>X360</td>\n",
       "      <td>2011.0</td>\n",
       "      <td>Misc</td>\n",
       "      <td>0.27</td>\n",
       "      <td>0.06</td>\n",
       "      <td>0.00</td>\n",
       "      <td>0.03</td>\n",
       "      <td>NaN</td>\n",
       "      <td>NaN</td>\n",
       "      <td>NaN</td>\n",
       "    </tr>\n",
       "    <tr>\n",
       "      <th>1927</th>\n",
       "      <td>SoulCalibur III</td>\n",
       "      <td>PS2</td>\n",
       "      <td>2005.0</td>\n",
       "      <td>Fighting</td>\n",
       "      <td>0.74</td>\n",
       "      <td>0.15</td>\n",
       "      <td>0.13</td>\n",
       "      <td>0.05</td>\n",
       "      <td>86.0</td>\n",
       "      <td>8.4</td>\n",
       "      <td>T</td>\n",
       "    </tr>\n",
       "    <tr>\n",
       "      <th>4403</th>\n",
       "      <td>Independence Day</td>\n",
       "      <td>PS</td>\n",
       "      <td>1997.0</td>\n",
       "      <td>Shooter</td>\n",
       "      <td>0.25</td>\n",
       "      <td>0.17</td>\n",
       "      <td>0.00</td>\n",
       "      <td>0.03</td>\n",
       "      <td>NaN</td>\n",
       "      <td>NaN</td>\n",
       "      <td>NaN</td>\n",
       "    </tr>\n",
       "    <tr>\n",
       "      <th>15651</th>\n",
       "      <td>Miyako</td>\n",
       "      <td>PSP</td>\n",
       "      <td>2010.0</td>\n",
       "      <td>Adventure</td>\n",
       "      <td>0.00</td>\n",
       "      <td>0.00</td>\n",
       "      <td>0.02</td>\n",
       "      <td>0.00</td>\n",
       "      <td>NaN</td>\n",
       "      <td>NaN</td>\n",
       "      <td>NaN</td>\n",
       "    </tr>\n",
       "    <tr>\n",
       "      <th>4306</th>\n",
       "      <td>Lego Batman 3: Beyond Gotham</td>\n",
       "      <td>3DS</td>\n",
       "      <td>2014.0</td>\n",
       "      <td>Action</td>\n",
       "      <td>0.21</td>\n",
       "      <td>0.20</td>\n",
       "      <td>0.00</td>\n",
       "      <td>0.04</td>\n",
       "      <td>NaN</td>\n",
       "      <td>6.4</td>\n",
       "      <td>E10+</td>\n",
       "    </tr>\n",
       "    <tr>\n",
       "      <th>14826</th>\n",
       "      <td>Warship Gunner 2</td>\n",
       "      <td>PS2</td>\n",
       "      <td>2006.0</td>\n",
       "      <td>Simulation</td>\n",
       "      <td>0.01</td>\n",
       "      <td>0.01</td>\n",
       "      <td>0.00</td>\n",
       "      <td>0.00</td>\n",
       "      <td>62.0</td>\n",
       "      <td>8.5</td>\n",
       "      <td>T</td>\n",
       "    </tr>\n",
       "    <tr>\n",
       "      <th>15108</th>\n",
       "      <td>Bella Sara 2 - The Magic of Drasilmare</td>\n",
       "      <td>3DS</td>\n",
       "      <td>2013.0</td>\n",
       "      <td>Adventure</td>\n",
       "      <td>0.00</td>\n",
       "      <td>0.02</td>\n",
       "      <td>0.00</td>\n",
       "      <td>0.00</td>\n",
       "      <td>NaN</td>\n",
       "      <td>NaN</td>\n",
       "      <td>NaN</td>\n",
       "    </tr>\n",
       "    <tr>\n",
       "      <th>5441</th>\n",
       "      <td>Banjo-Kazooie: Grunty's Revenge</td>\n",
       "      <td>GBA</td>\n",
       "      <td>2003.0</td>\n",
       "      <td>Platform</td>\n",
       "      <td>0.24</td>\n",
       "      <td>0.09</td>\n",
       "      <td>0.00</td>\n",
       "      <td>0.01</td>\n",
       "      <td>72.0</td>\n",
       "      <td>8.1</td>\n",
       "      <td>E</td>\n",
       "    </tr>\n",
       "    <tr>\n",
       "      <th>10563</th>\n",
       "      <td>X-Men: The Official Game</td>\n",
       "      <td>XB</td>\n",
       "      <td>2006.0</td>\n",
       "      <td>Action</td>\n",
       "      <td>0.08</td>\n",
       "      <td>0.02</td>\n",
       "      <td>0.00</td>\n",
       "      <td>0.00</td>\n",
       "      <td>53.0</td>\n",
       "      <td>8.1</td>\n",
       "      <td>T</td>\n",
       "    </tr>\n",
       "  </tbody>\n",
       "</table>\n",
       "</div>"
      ],
      "text/plain": [
       "                                         Name Platform  Year_of_Release  \\\n",
       "1011                                    Yoshi      NES           1991.0   \n",
       "5273             Kinectimals: Now with Bears!     X360           2011.0   \n",
       "1927                          SoulCalibur III      PS2           2005.0   \n",
       "4403                         Independence Day       PS           1997.0   \n",
       "15651                                  Miyako      PSP           2010.0   \n",
       "4306             Lego Batman 3: Beyond Gotham      3DS           2014.0   \n",
       "14826                        Warship Gunner 2      PS2           2006.0   \n",
       "15108  Bella Sara 2 - The Magic of Drasilmare      3DS           2013.0   \n",
       "5441          Banjo-Kazooie: Grunty's Revenge      GBA           2003.0   \n",
       "10563                X-Men: The Official Game       XB           2006.0   \n",
       "\n",
       "            Genre  NA_sales  EU_sales  JP_sales  Other_sales  Critic_Score  \\\n",
       "1011       Puzzle      0.70      0.13      0.91         0.01           NaN   \n",
       "5273         Misc      0.27      0.06      0.00         0.03           NaN   \n",
       "1927     Fighting      0.74      0.15      0.13         0.05          86.0   \n",
       "4403      Shooter      0.25      0.17      0.00         0.03           NaN   \n",
       "15651   Adventure      0.00      0.00      0.02         0.00           NaN   \n",
       "4306       Action      0.21      0.20      0.00         0.04           NaN   \n",
       "14826  Simulation      0.01      0.01      0.00         0.00          62.0   \n",
       "15108   Adventure      0.00      0.02      0.00         0.00           NaN   \n",
       "5441     Platform      0.24      0.09      0.00         0.01          72.0   \n",
       "10563      Action      0.08      0.02      0.00         0.00          53.0   \n",
       "\n",
       "      User_Score Rating  \n",
       "1011         NaN    NaN  \n",
       "5273         NaN    NaN  \n",
       "1927         8.4      T  \n",
       "4403         NaN    NaN  \n",
       "15651        NaN    NaN  \n",
       "4306         6.4   E10+  \n",
       "14826        8.5      T  \n",
       "15108        NaN    NaN  \n",
       "5441         8.1      E  \n",
       "10563        8.1      T  "
      ]
     },
     "metadata": {},
     "output_type": "display_data"
    }
   ],
   "source": [
    "# с помощью метода info() выведем основную информацию о df\n",
    "# используем sample() для случайной выборки строк из df\n",
    "df.info()\n",
    "display(df.sample(10))"
   ]
  },
  {
   "cell_type": "markdown",
   "metadata": {},
   "source": [
    "Итак, в таблице 11 столбцов, 5 из которых имеют числовой тип данных.\n",
    "\n",
    "Согласно описанию датасет содержит столбцы:\n",
    "* `Name` — название игры\n",
    "* `Platform` — платформа  \n",
    "* `Year_of_Release` — год выпуска\n",
    "* `Genre` — жанр игры\n",
    "* `NA_sales` — продажи в Северной Америке (миллионы проданных копий)\n",
    "* `EU_sales` — продажи в Европе (миллионы проданных копий)\n",
    "* `JP_sales` — продажи в Японии (миллионы проданных копий)\n",
    "* `Other_sales` — продажи в других странах (миллионы проданных копий)\n",
    "* `Critic_Score` — оценка критиков (максимум 100)  \n",
    "* `User_Score` — оценка пользователей (максимум 10)\n",
    "* `Rating` — рейтинг от организации ESRB с присвоением игре соответствующей возрастной категории"
   ]
  },
  {
   "cell_type": "markdown",
   "metadata": {},
   "source": [
    "**Вывод:** \n",
    "\n",
    "Основываясь на предварительном обзоре датафрейма отметим следующее:\n",
    "- Объёма данных достаточно для проверки гипотез исследования.\n",
    "- При этом количество значений в столбцах различается. Значит, в данных есть пропущенные значения. \n",
    "- Столбец `Year_of_Release` необходимо привести к типу даты для исключения возможных ошибок при анализе.\n",
    "- Названия колонок не соответствуют единообразию стиля.\n",
    "\n",
    "В этой связи, для дальнейшего анализа необходима предварительная обработка."
   ]
  },
  {
   "cell_type": "markdown",
   "metadata": {},
   "source": [
    "### Шаг 2. Подготовка данных"
   ]
  },
  {
   "cell_type": "code",
   "execution_count": 5,
   "metadata": {},
   "outputs": [
    {
     "data": {
      "text/plain": [
       "Index(['name', 'platform', 'year_of_release', 'genre', 'na_sales', 'eu_sales',\n",
       "       'jp_sales', 'other_sales', 'critic_score', 'user_score', 'rating'],\n",
       "      dtype='object')"
      ]
     },
     "execution_count": 5,
     "metadata": {},
     "output_type": "execute_result"
    }
   ],
   "source": [
    "# приведём названия столбцов к единому стилю\n",
    "df.columns = df.columns.str.lower()\n",
    "# убедимся, что изменения выполнены корректно\n",
    "df.columns"
   ]
  },
  {
   "cell_type": "code",
   "execution_count": 6,
   "metadata": {
    "scrolled": true
   },
   "outputs": [
    {
     "name": "stdout",
     "output_type": "stream",
     "text": [
      "Количество явных дубликатов: 0\n"
     ]
    }
   ],
   "source": [
    "# оценим данные на наличие дубликатов \n",
    "print('Количество явных дубликатов:', df.duplicated().sum())"
   ]
  },
  {
   "cell_type": "code",
   "execution_count": 7,
   "metadata": {},
   "outputs": [
    {
     "name": "stdout",
     "output_type": "stream",
     "text": [
      "Количество строк неполных дубликатов: 2\n"
     ]
    }
   ],
   "source": [
    "# проверим данные на наличие строк неполных дубликатов по ключевым столбцам\n",
    "print('Количество строк неполных дубликатов:', df.duplicated(subset=['name', 'platform', 'year_of_release']).sum())"
   ]
  },
  {
   "cell_type": "code",
   "execution_count": 8,
   "metadata": {},
   "outputs": [
    {
     "data": {
      "text/html": [
       "<div>\n",
       "<style scoped>\n",
       "    .dataframe tbody tr th:only-of-type {\n",
       "        vertical-align: middle;\n",
       "    }\n",
       "\n",
       "    .dataframe tbody tr th {\n",
       "        vertical-align: top;\n",
       "    }\n",
       "\n",
       "    .dataframe thead th {\n",
       "        text-align: right;\n",
       "    }\n",
       "</style>\n",
       "<table border=\"1\" class=\"dataframe\">\n",
       "  <thead>\n",
       "    <tr style=\"text-align: right;\">\n",
       "      <th></th>\n",
       "      <th>name</th>\n",
       "      <th>platform</th>\n",
       "      <th>year_of_release</th>\n",
       "      <th>genre</th>\n",
       "      <th>na_sales</th>\n",
       "      <th>eu_sales</th>\n",
       "      <th>jp_sales</th>\n",
       "      <th>other_sales</th>\n",
       "      <th>critic_score</th>\n",
       "      <th>user_score</th>\n",
       "      <th>rating</th>\n",
       "    </tr>\n",
       "  </thead>\n",
       "  <tbody>\n",
       "    <tr>\n",
       "      <th>604</th>\n",
       "      <td>Madden NFL 13</td>\n",
       "      <td>PS3</td>\n",
       "      <td>2012.0</td>\n",
       "      <td>Sports</td>\n",
       "      <td>2.11</td>\n",
       "      <td>0.22</td>\n",
       "      <td>0.00</td>\n",
       "      <td>0.23</td>\n",
       "      <td>83.0</td>\n",
       "      <td>5.5</td>\n",
       "      <td>E</td>\n",
       "    </tr>\n",
       "    <tr>\n",
       "      <th>659</th>\n",
       "      <td>NaN</td>\n",
       "      <td>GEN</td>\n",
       "      <td>1993.0</td>\n",
       "      <td>NaN</td>\n",
       "      <td>1.78</td>\n",
       "      <td>0.53</td>\n",
       "      <td>0.00</td>\n",
       "      <td>0.08</td>\n",
       "      <td>NaN</td>\n",
       "      <td>NaN</td>\n",
       "      <td>NaN</td>\n",
       "    </tr>\n",
       "    <tr>\n",
       "      <th>14244</th>\n",
       "      <td>NaN</td>\n",
       "      <td>GEN</td>\n",
       "      <td>1993.0</td>\n",
       "      <td>NaN</td>\n",
       "      <td>0.00</td>\n",
       "      <td>0.00</td>\n",
       "      <td>0.03</td>\n",
       "      <td>0.00</td>\n",
       "      <td>NaN</td>\n",
       "      <td>NaN</td>\n",
       "      <td>NaN</td>\n",
       "    </tr>\n",
       "    <tr>\n",
       "      <th>16230</th>\n",
       "      <td>Madden NFL 13</td>\n",
       "      <td>PS3</td>\n",
       "      <td>2012.0</td>\n",
       "      <td>Sports</td>\n",
       "      <td>0.00</td>\n",
       "      <td>0.01</td>\n",
       "      <td>0.00</td>\n",
       "      <td>0.00</td>\n",
       "      <td>83.0</td>\n",
       "      <td>5.5</td>\n",
       "      <td>E</td>\n",
       "    </tr>\n",
       "  </tbody>\n",
       "</table>\n",
       "</div>"
      ],
      "text/plain": [
       "                name platform  year_of_release   genre  na_sales  eu_sales  \\\n",
       "604    Madden NFL 13      PS3           2012.0  Sports      2.11      0.22   \n",
       "659              NaN      GEN           1993.0     NaN      1.78      0.53   \n",
       "14244            NaN      GEN           1993.0     NaN      0.00      0.00   \n",
       "16230  Madden NFL 13      PS3           2012.0  Sports      0.00      0.01   \n",
       "\n",
       "       jp_sales  other_sales  critic_score user_score rating  \n",
       "604        0.00         0.23          83.0        5.5      E  \n",
       "659        0.00         0.08           NaN        NaN    NaN  \n",
       "14244      0.03         0.00           NaN        NaN    NaN  \n",
       "16230      0.00         0.00          83.0        5.5      E  "
      ]
     },
     "execution_count": 8,
     "metadata": {},
     "output_type": "execute_result"
    }
   ],
   "source": [
    "# рассмотрим повторяющиеся строки, чтобы понять является ли это ошибкой ввода\n",
    "duplicates = df[df.duplicated(subset=['name', 'platform', 'year_of_release'], keep=False)]\n",
    "duplicates"
   ]
  },
  {
   "cell_type": "markdown",
   "metadata": {},
   "source": [
    "По всей видимости это ошибка ввода данных, значит можно удалить одну из строк."
   ]
  },
  {
   "cell_type": "code",
   "execution_count": 9,
   "metadata": {},
   "outputs": [
    {
     "name": "stdout",
     "output_type": "stream",
     "text": [
      "Количество строк неполных дубликатов: 0\n"
     ]
    }
   ],
   "source": [
    "# избавимся от строк дубликатов и проверим результат\n",
    "df = df.drop_duplicates(subset=['name', 'platform', 'year_of_release'], keep='first')\n",
    "print('Количество строк неполных дубликатов:', df.duplicated(subset=['name', 'platform', 'year_of_release'], keep=False).sum())"
   ]
  },
  {
   "cell_type": "code",
   "execution_count": 10,
   "metadata": {},
   "outputs": [
    {
     "name": "stdout",
     "output_type": "stream",
     "text": [
      "Количество пропусков:\n",
      "name                  1\n",
      "platform              0\n",
      "year_of_release     269\n",
      "genre                 1\n",
      "na_sales              0\n",
      "eu_sales              0\n",
      "jp_sales              0\n",
      "other_sales           0\n",
      "critic_score       8577\n",
      "user_score         6700\n",
      "rating             6765\n",
      "dtype: int64\n"
     ]
    }
   ],
   "source": [
    "# оценим данные на наличие пропущенных значений в столбцах\n",
    "print('Количество пропусков:')\n",
    "print(df.isna().sum())"
   ]
  },
  {
   "cell_type": "markdown",
   "metadata": {},
   "source": [
    "Перед тем как приступить к обработке, оценим долю пропущенных значений по каждому столбцу, чтобы предупредить риски возможных потерь."
   ]
  },
  {
   "cell_type": "code",
   "execution_count": 56,
   "metadata": {},
   "outputs": [
    {
     "data": {
      "text/html": [
       "<div>\n",
       "<style scoped>\n",
       "    .dataframe tbody tr th:only-of-type {\n",
       "        vertical-align: middle;\n",
       "    }\n",
       "\n",
       "    .dataframe tbody tr th {\n",
       "        vertical-align: top;\n",
       "    }\n",
       "\n",
       "    .dataframe thead th {\n",
       "        text-align: right;\n",
       "    }\n",
       "</style>\n",
       "<table border=\"1\" class=\"dataframe\">\n",
       "  <thead>\n",
       "    <tr style=\"text-align: right;\">\n",
       "      <th></th>\n",
       "      <th>Missing Percentage</th>\n",
       "    </tr>\n",
       "  </thead>\n",
       "  <tbody>\n",
       "    <tr>\n",
       "      <th>name</th>\n",
       "      <td>0.00</td>\n",
       "    </tr>\n",
       "    <tr>\n",
       "      <th>platform</th>\n",
       "      <td>0.00</td>\n",
       "    </tr>\n",
       "    <tr>\n",
       "      <th>year_of_release</th>\n",
       "      <td>0.00</td>\n",
       "    </tr>\n",
       "    <tr>\n",
       "      <th>genre</th>\n",
       "      <td>0.00</td>\n",
       "    </tr>\n",
       "    <tr>\n",
       "      <th>na_sales</th>\n",
       "      <td>0.00</td>\n",
       "    </tr>\n",
       "    <tr>\n",
       "      <th>eu_sales</th>\n",
       "      <td>0.00</td>\n",
       "    </tr>\n",
       "    <tr>\n",
       "      <th>jp_sales</th>\n",
       "      <td>0.00</td>\n",
       "    </tr>\n",
       "    <tr>\n",
       "      <th>other_sales</th>\n",
       "      <td>0.00</td>\n",
       "    </tr>\n",
       "    <tr>\n",
       "      <th>critic_score</th>\n",
       "      <td>51.46</td>\n",
       "    </tr>\n",
       "    <tr>\n",
       "      <th>user_score</th>\n",
       "      <td>54.62</td>\n",
       "    </tr>\n",
       "    <tr>\n",
       "      <th>rating</th>\n",
       "      <td>0.00</td>\n",
       "    </tr>\n",
       "    <tr>\n",
       "      <th>total_sales</th>\n",
       "      <td>0.00</td>\n",
       "    </tr>\n",
       "  </tbody>\n",
       "</table>\n",
       "</div>"
      ],
      "text/plain": [
       "                 Missing Percentage\n",
       "name                           0.00\n",
       "platform                       0.00\n",
       "year_of_release                0.00\n",
       "genre                          0.00\n",
       "na_sales                       0.00\n",
       "eu_sales                       0.00\n",
       "jp_sales                       0.00\n",
       "other_sales                    0.00\n",
       "critic_score                  51.46\n",
       "user_score                    54.62\n",
       "rating                         0.00\n",
       "total_sales                    0.00"
      ]
     },
     "execution_count": 56,
     "metadata": {},
     "output_type": "execute_result"
    }
   ],
   "source": [
    "# вычислим процент пропусков для каждого столбца\n",
    "missing_percentage = (df.isnull().mean() * 100).round(2)\n",
    "\n",
    "# создадим таблицу с результатами\n",
    "missing_data_info = pd.DataFrame({'Missing Percentage': missing_percentage})\n",
    "missing_data_info"
   ]
  },
  {
   "cell_type": "markdown",
   "metadata": {},
   "source": [
    "**Вывод:**\n",
    "\n",
    "В шести столбцах есть пропущенные значения. Особенно существенные потери в столбцах `critic_score`, `user_score`, и `rating`.\n",
    "\n",
    "Пропуски в таблице могли возникнуть по технологическим причинам — при копировании, считывании, смене формата или во время записи данных. Кроме того, нельзя исключать вероятность ошибок вызванных человеческим фактором при внесении данных. Так или иначе, пропущенные значения являются важным сигналом, который следует учитывать. \n",
    "\n",
    "На практике было бы правильно установить причину пропусков и восстановить данные. Такой возможности нет в учебном проекте. Поэтому поступим следующим образом:\n",
    "* заполним пропущенные значения явными обозначениями там, где это возможно\n",
    "* избавимся от таких строк, если невозможно предложить логичной замены и их удаление не приведёт к существенной потере данных\n",
    "\n",
    "Рассмотрим столбцы более детально, чтобы определить оптимальный способ обработки пропусков."
   ]
  },
  {
   "cell_type": "code",
   "execution_count": 12,
   "metadata": {},
   "outputs": [
    {
     "data": {
      "text/html": [
       "<div>\n",
       "<style scoped>\n",
       "    .dataframe tbody tr th:only-of-type {\n",
       "        vertical-align: middle;\n",
       "    }\n",
       "\n",
       "    .dataframe tbody tr th {\n",
       "        vertical-align: top;\n",
       "    }\n",
       "\n",
       "    .dataframe thead th {\n",
       "        text-align: right;\n",
       "    }\n",
       "</style>\n",
       "<table border=\"1\" class=\"dataframe\">\n",
       "  <thead>\n",
       "    <tr style=\"text-align: right;\">\n",
       "      <th></th>\n",
       "      <th>name</th>\n",
       "      <th>platform</th>\n",
       "      <th>year_of_release</th>\n",
       "      <th>genre</th>\n",
       "      <th>na_sales</th>\n",
       "      <th>eu_sales</th>\n",
       "      <th>jp_sales</th>\n",
       "      <th>other_sales</th>\n",
       "      <th>critic_score</th>\n",
       "      <th>user_score</th>\n",
       "      <th>rating</th>\n",
       "    </tr>\n",
       "  </thead>\n",
       "  <tbody>\n",
       "    <tr>\n",
       "      <th>659</th>\n",
       "      <td>NaN</td>\n",
       "      <td>GEN</td>\n",
       "      <td>1993.0</td>\n",
       "      <td>NaN</td>\n",
       "      <td>1.78</td>\n",
       "      <td>0.53</td>\n",
       "      <td>0.0</td>\n",
       "      <td>0.08</td>\n",
       "      <td>NaN</td>\n",
       "      <td>NaN</td>\n",
       "      <td>NaN</td>\n",
       "    </tr>\n",
       "  </tbody>\n",
       "</table>\n",
       "</div>"
      ],
      "text/plain": [
       "    name platform  year_of_release genre  na_sales  eu_sales  jp_sales  \\\n",
       "659  NaN      GEN           1993.0   NaN      1.78      0.53       0.0   \n",
       "\n",
       "     other_sales  critic_score user_score rating  \n",
       "659         0.08           NaN        NaN    NaN  "
      ]
     },
     "execution_count": 12,
     "metadata": {},
     "output_type": "execute_result"
    }
   ],
   "source": [
    "# рассмотрим значения в name\n",
    "df[df['name'].isna()]"
   ]
  },
  {
   "cell_type": "markdown",
   "metadata": {},
   "source": [
    "Невозможно предложить логичной замены названию игры, равно как и направлению жанра. Поэтому, примем решение избавиться от этой строки. Кроме того, удаление одной строки не приведёт к существенной потере данных."
   ]
  },
  {
   "cell_type": "code",
   "execution_count": 13,
   "metadata": {},
   "outputs": [],
   "source": [
    "# удалим строки с пропущенными значениями по столбцу name\n",
    "df = df.dropna(subset=['name'])"
   ]
  },
  {
   "cell_type": "code",
   "execution_count": 14,
   "metadata": {},
   "outputs": [
    {
     "data": {
      "text/html": [
       "<div>\n",
       "<style scoped>\n",
       "    .dataframe tbody tr th:only-of-type {\n",
       "        vertical-align: middle;\n",
       "    }\n",
       "\n",
       "    .dataframe tbody tr th {\n",
       "        vertical-align: top;\n",
       "    }\n",
       "\n",
       "    .dataframe thead th {\n",
       "        text-align: right;\n",
       "    }\n",
       "</style>\n",
       "<table border=\"1\" class=\"dataframe\">\n",
       "  <thead>\n",
       "    <tr style=\"text-align: right;\">\n",
       "      <th></th>\n",
       "      <th>name</th>\n",
       "      <th>platform</th>\n",
       "      <th>year_of_release</th>\n",
       "      <th>genre</th>\n",
       "      <th>na_sales</th>\n",
       "      <th>eu_sales</th>\n",
       "      <th>jp_sales</th>\n",
       "      <th>other_sales</th>\n",
       "      <th>critic_score</th>\n",
       "      <th>user_score</th>\n",
       "      <th>rating</th>\n",
       "    </tr>\n",
       "  </thead>\n",
       "  <tbody>\n",
       "    <tr>\n",
       "      <th>183</th>\n",
       "      <td>Madden NFL 2004</td>\n",
       "      <td>PS2</td>\n",
       "      <td>NaN</td>\n",
       "      <td>Sports</td>\n",
       "      <td>4.26</td>\n",
       "      <td>0.26</td>\n",
       "      <td>0.01</td>\n",
       "      <td>0.71</td>\n",
       "      <td>94.0</td>\n",
       "      <td>8.5</td>\n",
       "      <td>E</td>\n",
       "    </tr>\n",
       "    <tr>\n",
       "      <th>377</th>\n",
       "      <td>FIFA Soccer 2004</td>\n",
       "      <td>PS2</td>\n",
       "      <td>NaN</td>\n",
       "      <td>Sports</td>\n",
       "      <td>0.59</td>\n",
       "      <td>2.36</td>\n",
       "      <td>0.04</td>\n",
       "      <td>0.51</td>\n",
       "      <td>84.0</td>\n",
       "      <td>6.4</td>\n",
       "      <td>E</td>\n",
       "    </tr>\n",
       "    <tr>\n",
       "      <th>456</th>\n",
       "      <td>LEGO Batman: The Videogame</td>\n",
       "      <td>Wii</td>\n",
       "      <td>NaN</td>\n",
       "      <td>Action</td>\n",
       "      <td>1.80</td>\n",
       "      <td>0.97</td>\n",
       "      <td>0.00</td>\n",
       "      <td>0.29</td>\n",
       "      <td>74.0</td>\n",
       "      <td>7.9</td>\n",
       "      <td>E10+</td>\n",
       "    </tr>\n",
       "    <tr>\n",
       "      <th>475</th>\n",
       "      <td>wwe Smackdown vs. Raw 2006</td>\n",
       "      <td>PS2</td>\n",
       "      <td>NaN</td>\n",
       "      <td>Fighting</td>\n",
       "      <td>1.57</td>\n",
       "      <td>1.02</td>\n",
       "      <td>0.00</td>\n",
       "      <td>0.41</td>\n",
       "      <td>NaN</td>\n",
       "      <td>NaN</td>\n",
       "      <td>NaN</td>\n",
       "    </tr>\n",
       "    <tr>\n",
       "      <th>609</th>\n",
       "      <td>Space Invaders</td>\n",
       "      <td>2600</td>\n",
       "      <td>NaN</td>\n",
       "      <td>Shooter</td>\n",
       "      <td>2.36</td>\n",
       "      <td>0.14</td>\n",
       "      <td>0.00</td>\n",
       "      <td>0.03</td>\n",
       "      <td>NaN</td>\n",
       "      <td>NaN</td>\n",
       "      <td>NaN</td>\n",
       "    </tr>\n",
       "    <tr>\n",
       "      <th>...</th>\n",
       "      <td>...</td>\n",
       "      <td>...</td>\n",
       "      <td>...</td>\n",
       "      <td>...</td>\n",
       "      <td>...</td>\n",
       "      <td>...</td>\n",
       "      <td>...</td>\n",
       "      <td>...</td>\n",
       "      <td>...</td>\n",
       "      <td>...</td>\n",
       "      <td>...</td>\n",
       "    </tr>\n",
       "    <tr>\n",
       "      <th>16373</th>\n",
       "      <td>PDC World Championship Darts 2008</td>\n",
       "      <td>PSP</td>\n",
       "      <td>NaN</td>\n",
       "      <td>Sports</td>\n",
       "      <td>0.01</td>\n",
       "      <td>0.00</td>\n",
       "      <td>0.00</td>\n",
       "      <td>0.00</td>\n",
       "      <td>43.0</td>\n",
       "      <td>tbd</td>\n",
       "      <td>E10+</td>\n",
       "    </tr>\n",
       "    <tr>\n",
       "      <th>16405</th>\n",
       "      <td>Freaky Flyers</td>\n",
       "      <td>GC</td>\n",
       "      <td>NaN</td>\n",
       "      <td>Racing</td>\n",
       "      <td>0.01</td>\n",
       "      <td>0.00</td>\n",
       "      <td>0.00</td>\n",
       "      <td>0.00</td>\n",
       "      <td>69.0</td>\n",
       "      <td>6.5</td>\n",
       "      <td>T</td>\n",
       "    </tr>\n",
       "    <tr>\n",
       "      <th>16448</th>\n",
       "      <td>Inversion</td>\n",
       "      <td>PC</td>\n",
       "      <td>NaN</td>\n",
       "      <td>Shooter</td>\n",
       "      <td>0.01</td>\n",
       "      <td>0.00</td>\n",
       "      <td>0.00</td>\n",
       "      <td>0.00</td>\n",
       "      <td>59.0</td>\n",
       "      <td>6.7</td>\n",
       "      <td>M</td>\n",
       "    </tr>\n",
       "    <tr>\n",
       "      <th>16458</th>\n",
       "      <td>Hakuouki: Shinsengumi Kitan</td>\n",
       "      <td>PS3</td>\n",
       "      <td>NaN</td>\n",
       "      <td>Adventure</td>\n",
       "      <td>0.01</td>\n",
       "      <td>0.00</td>\n",
       "      <td>0.00</td>\n",
       "      <td>0.00</td>\n",
       "      <td>NaN</td>\n",
       "      <td>NaN</td>\n",
       "      <td>NaN</td>\n",
       "    </tr>\n",
       "    <tr>\n",
       "      <th>16522</th>\n",
       "      <td>Virtua Quest</td>\n",
       "      <td>GC</td>\n",
       "      <td>NaN</td>\n",
       "      <td>Role-Playing</td>\n",
       "      <td>0.01</td>\n",
       "      <td>0.00</td>\n",
       "      <td>0.00</td>\n",
       "      <td>0.00</td>\n",
       "      <td>55.0</td>\n",
       "      <td>5.5</td>\n",
       "      <td>T</td>\n",
       "    </tr>\n",
       "  </tbody>\n",
       "</table>\n",
       "<p>269 rows × 11 columns</p>\n",
       "</div>"
      ],
      "text/plain": [
       "                                    name platform  year_of_release  \\\n",
       "183                      Madden NFL 2004      PS2              NaN   \n",
       "377                     FIFA Soccer 2004      PS2              NaN   \n",
       "456           LEGO Batman: The Videogame      Wii              NaN   \n",
       "475           wwe Smackdown vs. Raw 2006      PS2              NaN   \n",
       "609                       Space Invaders     2600              NaN   \n",
       "...                                  ...      ...              ...   \n",
       "16373  PDC World Championship Darts 2008      PSP              NaN   \n",
       "16405                      Freaky Flyers       GC              NaN   \n",
       "16448                          Inversion       PC              NaN   \n",
       "16458        Hakuouki: Shinsengumi Kitan      PS3              NaN   \n",
       "16522                       Virtua Quest       GC              NaN   \n",
       "\n",
       "              genre  na_sales  eu_sales  jp_sales  other_sales  critic_score  \\\n",
       "183          Sports      4.26      0.26      0.01         0.71          94.0   \n",
       "377          Sports      0.59      2.36      0.04         0.51          84.0   \n",
       "456          Action      1.80      0.97      0.00         0.29          74.0   \n",
       "475        Fighting      1.57      1.02      0.00         0.41           NaN   \n",
       "609         Shooter      2.36      0.14      0.00         0.03           NaN   \n",
       "...             ...       ...       ...       ...          ...           ...   \n",
       "16373        Sports      0.01      0.00      0.00         0.00          43.0   \n",
       "16405        Racing      0.01      0.00      0.00         0.00          69.0   \n",
       "16448       Shooter      0.01      0.00      0.00         0.00          59.0   \n",
       "16458     Adventure      0.01      0.00      0.00         0.00           NaN   \n",
       "16522  Role-Playing      0.01      0.00      0.00         0.00          55.0   \n",
       "\n",
       "      user_score rating  \n",
       "183          8.5      E  \n",
       "377          6.4      E  \n",
       "456          7.9   E10+  \n",
       "475          NaN    NaN  \n",
       "609          NaN    NaN  \n",
       "...          ...    ...  \n",
       "16373        tbd   E10+  \n",
       "16405        6.5      T  \n",
       "16448        6.7      M  \n",
       "16458        NaN    NaN  \n",
       "16522        5.5      T  \n",
       "\n",
       "[269 rows x 11 columns]"
      ]
     },
     "execution_count": 14,
     "metadata": {},
     "output_type": "execute_result"
    }
   ],
   "source": [
    "# рассмотрим значения в year_of_release\n",
    "df[df['year_of_release'].isna()]"
   ]
  },
  {
   "cell_type": "markdown",
   "metadata": {},
   "source": [
    "На предыдущем шаге мы оценили долю пропущенных значений и риски возможных потерь по каждому столбцу. \n",
    "Доля таких значений по столбцу `year_of_release` составляет 1.61%, что относительно мало. Поэтому удаление этих строк не окажет существенного влияния на дальнейший анализ."
   ]
  },
  {
   "cell_type": "code",
   "execution_count": 15,
   "metadata": {},
   "outputs": [],
   "source": [
    "# удалим строки с пропущенными значениями по столбцу year_of_release\n",
    "# устанавим параметр inplace=True, для изменений в df напрямую\n",
    "df.dropna(subset=['year_of_release'], inplace=True)"
   ]
  },
  {
   "cell_type": "code",
   "execution_count": 16,
   "metadata": {},
   "outputs": [
    {
     "data": {
      "text/plain": [
       "array([76., nan, 82., 80., 89., 58., 87., 91., 61., 97., 95., 77., 88.,\n",
       "       83., 94., 93., 85., 86., 98., 96., 90., 84., 73., 74., 78., 92.,\n",
       "       71., 72., 68., 62., 49., 67., 81., 66., 56., 79., 70., 59., 64.,\n",
       "       75., 60., 63., 69., 50., 25., 42., 44., 55., 48., 57., 29., 47.,\n",
       "       65., 54., 20., 53., 37., 38., 33., 52., 30., 32., 43., 45., 51.,\n",
       "       40., 46., 39., 34., 41., 36., 31., 27., 35., 26., 19., 28., 23.,\n",
       "       24., 21., 17., 13.])"
      ]
     },
     "execution_count": 16,
     "metadata": {},
     "output_type": "execute_result"
    }
   ],
   "source": [
    "# рассмотрим значения в critic_score\n",
    "df['critic_score'].unique()"
   ]
  },
  {
   "cell_type": "markdown",
   "metadata": {},
   "source": [
    "**Вывод:**\n",
    "\n",
    "- Столбец хранит информацию с оценками критиков (максимум 100). \n",
    "- В данном случае ни среднее ни медиана не могут выступить в качестве адекватной замены прощенных значений. Использование их в качестве замены может некорректно характеризовать данные и приведёт к искажению результатов анализа.\n",
    "- В случае удаления этих строк, потери составят 51.32%, что недопустимо превышает принятые нормы.\n",
    "- Можно было бы заполнить пропуски маркерным значением '-1', при этом есть риск исказить выборку. \n",
    "- Оставим данные по столбцу в таком виде."
   ]
  },
  {
   "cell_type": "code",
   "execution_count": 17,
   "metadata": {},
   "outputs": [
    {
     "data": {
      "text/plain": [
       "array(['8', nan, '8.3', '8.5', '6.6', '8.4', '8.6', '7.7', '6.3', '7.4',\n",
       "       '8.2', '9', '7.9', '8.1', '8.7', '7.1', '3.4', '5.3', '4.8', '3.2',\n",
       "       '8.9', '6.4', '7.8', '7.5', '2.6', '7.2', '9.2', '7', '7.3', '4.3',\n",
       "       '7.6', '5.7', '5', '9.1', '6.5', 'tbd', '8.8', '6.9', '9.4', '6.8',\n",
       "       '6.1', '6.7', '5.4', '4', '4.9', '4.5', '9.3', '6.2', '4.2', '6',\n",
       "       '3.7', '4.1', '5.8', '5.6', '5.5', '4.4', '4.6', '5.9', '3.9',\n",
       "       '3.1', '2.9', '5.2', '3.3', '4.7', '5.1', '3.5', '2.5', '1.9', '3',\n",
       "       '2.7', '2.2', '2', '9.5', '2.1', '3.6', '2.8', '1.8', '3.8', '0',\n",
       "       '1.6', '9.6', '2.4', '1.7', '1.1', '0.3', '1.5', '0.7', '1.2',\n",
       "       '2.3', '0.5', '1.3', '0.2', '0.6', '1.4', '0.9', '1', '9.7'],\n",
       "      dtype=object)"
      ]
     },
     "execution_count": 17,
     "metadata": {},
     "output_type": "execute_result"
    }
   ],
   "source": [
    "# рассмотрим значения в user_score\n",
    "df['user_score'].unique()"
   ]
  },
  {
   "cell_type": "markdown",
   "metadata": {},
   "source": [
    "**Вывод:**\n",
    "\n",
    "- Столбец хранит информацию с оценками пользователей (максимум 10). \n",
    "- Значения в столбце имеют тип 'object'.\n",
    "- В случае удаления строк с пропусками по столбцу, потери составят 40.09%, что недопустимо превышает принятые нормы.\n",
    "- Оставим пропуски как есть.\n",
    "- Встречается аббревиатура 'tbd', которая служит временным заполнителем до тех пор, пока не будут известны или уточнены окончательные детали. В данном случае 'tbd' может обозначать, что оценки не были завершены и будут добавлены позже.\n",
    "- Преобразуем 'tbd' в NaN, для предупреждения возможных ошибок при анализе."
   ]
  },
  {
   "cell_type": "code",
   "execution_count": 18,
   "metadata": {},
   "outputs": [],
   "source": [
    "# преобразуем 'tbd' в NaN, для предупреждения возможных ошибок при анализе\n",
    "df['user_score'] = df['user_score'].replace('tbd', np.NAN)"
   ]
  },
  {
   "cell_type": "code",
   "execution_count": 19,
   "metadata": {},
   "outputs": [
    {
     "data": {
      "text/plain": [
       "array(['E', nan, 'M', 'T', 'E10+', 'K-A', 'AO', 'EC', 'RP'], dtype=object)"
      ]
     },
     "execution_count": 19,
     "metadata": {},
     "output_type": "execute_result"
    }
   ],
   "source": [
    "# рассмотрим значения в rating\n",
    "df['rating'].unique()"
   ]
  },
  {
   "cell_type": "markdown",
   "metadata": {},
   "source": [
    "**Вывод:**\n",
    "\n",
    "- Значения в столбце имеют категориальный тип.\n",
    "- Природа недостающих данных неизвестна.\n",
    "- В случае удаления строк с пропусками по столбцу, потери составят 40.48%, что недопустимо превышает принятые нормы.\n",
    "- Заполним пропуски категорией 'Unknown' для представления отсутствующих значений."
   ]
  },
  {
   "cell_type": "code",
   "execution_count": 20,
   "metadata": {},
   "outputs": [],
   "source": [
    "# заполним пропуски в rating\n",
    "df['rating'].fillna('Unknown', inplace=True)"
   ]
  },
  {
   "cell_type": "markdown",
   "metadata": {},
   "source": [
    "**Преобразование данных в нужные типы**\n",
    "\n",
    "Использование целых чисел *(int)* или чисел с плавающей запятой *(float)* зависит от характера данных и задач анализа.\n",
    "\n",
    "В данном случае, столбец `user_score` хранит значения 'object', поэтому для возможности выполнения последующих вычислений необходимо изменить тип данных на числовой формат. Преобразовав тип данных в столбце `user_score` в формат 'float', мы сможем выполнять математические операции.\n",
    "\n",
    "Кроме того, чтобы ответить на вопрос о том, как влияют отзывы пользователей и критиков на продажи, понадобится сравнение столбцов `critic_score` и `user_score`. Значит следует унифицировать шкалы оценок в сравниваемых колонках.\n",
    "\n",
    "Значения в `year_of_release` изменим с 'float' на 'int', чтобы предупредить некорректность будущих вычислений."
   ]
  },
  {
   "cell_type": "code",
   "execution_count": 21,
   "metadata": {},
   "outputs": [],
   "source": [
    "# преобразуем тип данных в user_score на float\n",
    "df['user_score'] = df['user_score'].astype(float)"
   ]
  },
  {
   "cell_type": "code",
   "execution_count": 22,
   "metadata": {},
   "outputs": [],
   "source": [
    "# преобразуем тип данных в year_of_release в числовой\n",
    "df['year_of_release'] = df['year_of_release'].astype(int)"
   ]
  },
  {
   "cell_type": "markdown",
   "metadata": {},
   "source": [
    "**Добавим в таблицу новый столбец**\n",
    "\n",
    "Добавим в таблицу новый столбец со значениями, которые будем использовать при исследовании. В частности, для анализа понадобятся рассчёты суммарных продаж по регионам."
   ]
  },
  {
   "cell_type": "code",
   "execution_count": 23,
   "metadata": {},
   "outputs": [],
   "source": [
    "# посчитаем суммарные продажи по регионам и добавим в df столбец total_sales\n",
    "df['total_sales'] = df[['na_sales', 'eu_sales', 'jp_sales', 'other_sales']].sum(axis=1)"
   ]
  },
  {
   "cell_type": "code",
   "execution_count": 24,
   "metadata": {},
   "outputs": [
    {
     "name": "stdout",
     "output_type": "stream",
     "text": [
      "<class 'pandas.core.frame.DataFrame'>\n",
      "Int64Index: 16443 entries, 0 to 16714\n",
      "Data columns (total 12 columns):\n",
      " #   Column           Non-Null Count  Dtype  \n",
      "---  ------           --------------  -----  \n",
      " 0   name             16443 non-null  object \n",
      " 1   platform         16443 non-null  object \n",
      " 2   year_of_release  16443 non-null  int32  \n",
      " 3   genre            16443 non-null  object \n",
      " 4   na_sales         16443 non-null  float64\n",
      " 5   eu_sales         16443 non-null  float64\n",
      " 6   jp_sales         16443 non-null  float64\n",
      " 7   other_sales      16443 non-null  float64\n",
      " 8   critic_score     7982 non-null   float64\n",
      " 9   user_score       7462 non-null   float64\n",
      " 10  rating           16443 non-null  object \n",
      " 11  total_sales      16443 non-null  float64\n",
      "dtypes: float64(7), int32(1), object(4)\n",
      "memory usage: 1.6+ MB\n"
     ]
    },
    {
     "data": {
      "text/html": [
       "<div>\n",
       "<style scoped>\n",
       "    .dataframe tbody tr th:only-of-type {\n",
       "        vertical-align: middle;\n",
       "    }\n",
       "\n",
       "    .dataframe tbody tr th {\n",
       "        vertical-align: top;\n",
       "    }\n",
       "\n",
       "    .dataframe thead th {\n",
       "        text-align: right;\n",
       "    }\n",
       "</style>\n",
       "<table border=\"1\" class=\"dataframe\">\n",
       "  <thead>\n",
       "    <tr style=\"text-align: right;\">\n",
       "      <th></th>\n",
       "      <th>name</th>\n",
       "      <th>platform</th>\n",
       "      <th>year_of_release</th>\n",
       "      <th>genre</th>\n",
       "      <th>na_sales</th>\n",
       "      <th>eu_sales</th>\n",
       "      <th>jp_sales</th>\n",
       "      <th>other_sales</th>\n",
       "      <th>critic_score</th>\n",
       "      <th>user_score</th>\n",
       "      <th>rating</th>\n",
       "      <th>total_sales</th>\n",
       "    </tr>\n",
       "  </thead>\n",
       "  <tbody>\n",
       "    <tr>\n",
       "      <th>10513</th>\n",
       "      <td>Uta no Prince-Sama: Music</td>\n",
       "      <td>PSP</td>\n",
       "      <td>2011</td>\n",
       "      <td>Misc</td>\n",
       "      <td>0.00</td>\n",
       "      <td>0.00</td>\n",
       "      <td>0.10</td>\n",
       "      <td>0.00</td>\n",
       "      <td>NaN</td>\n",
       "      <td>NaN</td>\n",
       "      <td>Unknown</td>\n",
       "      <td>0.10</td>\n",
       "    </tr>\n",
       "    <tr>\n",
       "      <th>1940</th>\n",
       "      <td>Spore Creatures</td>\n",
       "      <td>DS</td>\n",
       "      <td>2008</td>\n",
       "      <td>Simulation</td>\n",
       "      <td>0.66</td>\n",
       "      <td>0.30</td>\n",
       "      <td>0.00</td>\n",
       "      <td>0.10</td>\n",
       "      <td>65.0</td>\n",
       "      <td>6.5</td>\n",
       "      <td>E</td>\n",
       "      <td>1.06</td>\n",
       "    </tr>\n",
       "    <tr>\n",
       "      <th>2154</th>\n",
       "      <td>Gangs of London</td>\n",
       "      <td>PSP</td>\n",
       "      <td>2006</td>\n",
       "      <td>Adventure</td>\n",
       "      <td>0.30</td>\n",
       "      <td>0.43</td>\n",
       "      <td>0.00</td>\n",
       "      <td>0.22</td>\n",
       "      <td>52.0</td>\n",
       "      <td>6.7</td>\n",
       "      <td>M</td>\n",
       "      <td>0.95</td>\n",
       "    </tr>\n",
       "    <tr>\n",
       "      <th>14266</th>\n",
       "      <td>Shining Stars</td>\n",
       "      <td>DS</td>\n",
       "      <td>2008</td>\n",
       "      <td>Action</td>\n",
       "      <td>0.03</td>\n",
       "      <td>0.00</td>\n",
       "      <td>0.00</td>\n",
       "      <td>0.00</td>\n",
       "      <td>NaN</td>\n",
       "      <td>NaN</td>\n",
       "      <td>Unknown</td>\n",
       "      <td>0.03</td>\n",
       "    </tr>\n",
       "    <tr>\n",
       "      <th>15375</th>\n",
       "      <td>Homeworld</td>\n",
       "      <td>PC</td>\n",
       "      <td>1998</td>\n",
       "      <td>Strategy</td>\n",
       "      <td>0.00</td>\n",
       "      <td>0.02</td>\n",
       "      <td>0.00</td>\n",
       "      <td>0.00</td>\n",
       "      <td>93.0</td>\n",
       "      <td>9.0</td>\n",
       "      <td>E</td>\n",
       "      <td>0.02</td>\n",
       "    </tr>\n",
       "    <tr>\n",
       "      <th>1500</th>\n",
       "      <td>Rugrats Studio Tour</td>\n",
       "      <td>PS</td>\n",
       "      <td>1999</td>\n",
       "      <td>Adventure</td>\n",
       "      <td>0.57</td>\n",
       "      <td>0.67</td>\n",
       "      <td>0.00</td>\n",
       "      <td>0.07</td>\n",
       "      <td>NaN</td>\n",
       "      <td>NaN</td>\n",
       "      <td>Unknown</td>\n",
       "      <td>1.31</td>\n",
       "    </tr>\n",
       "    <tr>\n",
       "      <th>13399</th>\n",
       "      <td>Super Bubble Pop</td>\n",
       "      <td>GC</td>\n",
       "      <td>2003</td>\n",
       "      <td>Puzzle</td>\n",
       "      <td>0.04</td>\n",
       "      <td>0.01</td>\n",
       "      <td>0.00</td>\n",
       "      <td>0.00</td>\n",
       "      <td>54.0</td>\n",
       "      <td>NaN</td>\n",
       "      <td>E</td>\n",
       "      <td>0.05</td>\n",
       "    </tr>\n",
       "    <tr>\n",
       "      <th>11116</th>\n",
       "      <td>No More Heroes: Red Zone</td>\n",
       "      <td>PS3</td>\n",
       "      <td>2011</td>\n",
       "      <td>Action</td>\n",
       "      <td>0.00</td>\n",
       "      <td>0.00</td>\n",
       "      <td>0.09</td>\n",
       "      <td>0.00</td>\n",
       "      <td>NaN</td>\n",
       "      <td>NaN</td>\n",
       "      <td>Unknown</td>\n",
       "      <td>0.09</td>\n",
       "    </tr>\n",
       "    <tr>\n",
       "      <th>3322</th>\n",
       "      <td>Tony Hawk's Underground</td>\n",
       "      <td>GBA</td>\n",
       "      <td>2003</td>\n",
       "      <td>Sports</td>\n",
       "      <td>0.43</td>\n",
       "      <td>0.16</td>\n",
       "      <td>0.00</td>\n",
       "      <td>0.01</td>\n",
       "      <td>86.0</td>\n",
       "      <td>7.7</td>\n",
       "      <td>E</td>\n",
       "      <td>0.60</td>\n",
       "    </tr>\n",
       "    <tr>\n",
       "      <th>14337</th>\n",
       "      <td>F1 2016 (Codemasters)</td>\n",
       "      <td>PC</td>\n",
       "      <td>2016</td>\n",
       "      <td>Racing</td>\n",
       "      <td>0.00</td>\n",
       "      <td>0.03</td>\n",
       "      <td>0.00</td>\n",
       "      <td>0.00</td>\n",
       "      <td>NaN</td>\n",
       "      <td>NaN</td>\n",
       "      <td>Unknown</td>\n",
       "      <td>0.03</td>\n",
       "    </tr>\n",
       "  </tbody>\n",
       "</table>\n",
       "</div>"
      ],
      "text/plain": [
       "                            name platform  year_of_release       genre  \\\n",
       "10513  Uta no Prince-Sama: Music      PSP             2011        Misc   \n",
       "1940             Spore Creatures       DS             2008  Simulation   \n",
       "2154             Gangs of London      PSP             2006   Adventure   \n",
       "14266              Shining Stars       DS             2008      Action   \n",
       "15375                  Homeworld       PC             1998    Strategy   \n",
       "1500         Rugrats Studio Tour       PS             1999   Adventure   \n",
       "13399           Super Bubble Pop       GC             2003      Puzzle   \n",
       "11116   No More Heroes: Red Zone      PS3             2011      Action   \n",
       "3322     Tony Hawk's Underground      GBA             2003      Sports   \n",
       "14337      F1 2016 (Codemasters)       PC             2016      Racing   \n",
       "\n",
       "       na_sales  eu_sales  jp_sales  other_sales  critic_score  user_score  \\\n",
       "10513      0.00      0.00      0.10         0.00           NaN         NaN   \n",
       "1940       0.66      0.30      0.00         0.10          65.0         6.5   \n",
       "2154       0.30      0.43      0.00         0.22          52.0         6.7   \n",
       "14266      0.03      0.00      0.00         0.00           NaN         NaN   \n",
       "15375      0.00      0.02      0.00         0.00          93.0         9.0   \n",
       "1500       0.57      0.67      0.00         0.07           NaN         NaN   \n",
       "13399      0.04      0.01      0.00         0.00          54.0         NaN   \n",
       "11116      0.00      0.00      0.09         0.00           NaN         NaN   \n",
       "3322       0.43      0.16      0.00         0.01          86.0         7.7   \n",
       "14337      0.00      0.03      0.00         0.00           NaN         NaN   \n",
       "\n",
       "        rating  total_sales  \n",
       "10513  Unknown         0.10  \n",
       "1940         E         1.06  \n",
       "2154         M         0.95  \n",
       "14266  Unknown         0.03  \n",
       "15375        E         0.02  \n",
       "1500   Unknown         1.31  \n",
       "13399        E         0.05  \n",
       "11116  Unknown         0.09  \n",
       "3322         E         0.60  \n",
       "14337  Unknown         0.03  "
      ]
     },
     "metadata": {},
     "output_type": "display_data"
    }
   ],
   "source": [
    "# оценим df после предобработки данных\n",
    "df.info()\n",
    "display(df.sample(10))"
   ]
  },
  {
   "cell_type": "markdown",
   "metadata": {},
   "source": [
    "**Вывод:**\n",
    "\n",
    "На подготовительном этапе мы изучили основные сведения о датафрейме с последующей предобработкой:\n",
    "- определили количество и тип данных в таблице\n",
    "- привели названия столбцов к единому стилю\n",
    "- проверили данные на наличие дубликатов\n",
    "- оценили долю пропущенных значений по каждому столбцу, чтобы предупредить риски возможных потерь\n",
    "- обработали пропуски с применением наиболее оптимальных способов\n",
    "- изменили тип значений в некоторых столбцах\n",
    "- добавили в таблицу новый столбец с нужными значениями для дальнейшего ислледования\n",
    "- убедились, что все данные отображаются корректно\n",
    "\n",
    "В таком виде данные готовы к более подробному исследовательскому анализу."
   ]
  },
  {
   "cell_type": "markdown",
   "metadata": {},
   "source": [
    "### Шаг 3. Исследовательский анализ данных\n",
    "\n",
    "#### Сколько игр выпускалось в разные годы. Важны ли данные за все периоды?"
   ]
  },
  {
   "cell_type": "code",
   "execution_count": 25,
   "metadata": {},
   "outputs": [
    {
     "data": {
      "image/png": "[encoded data removed]",
      "text/plain": [
       "<Figure size 864x432 with 1 Axes>"
      ]
     },
     "metadata": {
      "needs_background": "light"
     },
     "output_type": "display_data"
    }
   ],
   "source": [
    "# создадим сводную таблицу и оценим сколько игр выпускалось в разные годы\n",
    "df_games_release = pd.pivot_table(df, index='year_of_release', values='name', aggfunc='count')\n",
    "\n",
    "# отобразим данные в виде гистограммы\n",
    "plt.figure(figsize=(12, 6))\n",
    "plt.bar(df_games_release.index, df_games_release['name'])\n",
    "plt.title('Количество релизов игр по годам')\n",
    "plt.xlabel('Год релиза')\n",
    "plt.ylabel('Количество игр')\n",
    "plt.grid(axis='y', linestyle='--', alpha=0.7)\n",
    "plt.xticks(rotation=90)\n",
    "\n",
    "plt.tight_layout()\n",
    "plt.show()"
   ]
  },
  {
   "cell_type": "markdown",
   "metadata": {},
   "source": [
    "**Вывод:**\n",
    "\n",
    "Согласно графику устойчивый **рост** количества релизов игр отмечается с **1994** года, когда количество выпущенных видеоигр достигло сотни и продолжило стремительно увеличиваться с каждым следующим годом вплоть до 2009 включительно.\n",
    "\n",
    "Наиболее яркие пики приходятся на 2002 — более 800 видеоигр, 2008 и 2009 годы, когда количество релизов превысило годовую отметку в 1400 игр. Вероятно это связано с развитием компьютерных технологий, гейм индустрии, появлением новых приставок и игровых устройств, что повлияло на всплеск интереса к видеоиграм у широкой аудитории.\n",
    "\n",
    "С **2010** наблюдается **снижение** показателя с каждым годом до 2016. Резкое сокращение выпуска видеоигр отмечается в 2012 году. Возможно ослабление интереса в этой области связано с развитием новой забавы, такой как сматрфон с разнообразием встроенных функций и приложений. В этой связи, прежде широкая аудитория потребителей видеоигр сократилась до истинных ценителей и заядлых геймеров.\n",
    "\n",
    "В дальнейшем анализе будем оценивать данные, которые приходятся на период не ранее 1994 года, так как до упомянутого года оцениваемый показатель не достигает и 100."
   ]
  },
  {
   "cell_type": "markdown",
   "metadata": {},
   "source": [
    "#### Оценим, как менялись продажи по платформам\n",
    "\n",
    "1. Рассмотрим платформы с наибольшими суммарными продажами и построим распределение по годам. \n",
    "2. Оценим за какой характерный срок появляются новые и исчезают старые платформы?"
   ]
  },
  {
   "cell_type": "code",
   "execution_count": 26,
   "metadata": {},
   "outputs": [
    {
     "data": {
      "image/png": "[encoded data removed]",
      "text/plain": [
       "<Figure size 864x432 with 1 Axes>"
      ]
     },
     "metadata": {
      "needs_background": "light"
     },
     "output_type": "display_data"
    }
   ],
   "source": [
    "# отфильтруем df, чтобы включить только игры, выпущенные с 1994 года\n",
    "df_filtered_sales = df[df['year_of_release'] >= 1994]\n",
    "\n",
    "# создадим сводную таблицу с агрегированными данными суммарных продаж по годам и платформам\n",
    "df_platform_sales = pd.pivot_table(\n",
    "    df_filtered_sales,     \n",
    "    values='total_sales', \n",
    "    index='year_of_release', \n",
    "    columns='platform',    \n",
    "    aggfunc='sum'         \n",
    ")\n",
    "\n",
    "# отсортируем платформы по убыванию общего объёма продаж за каждый год\n",
    "df_platform_sales = df_platform_sales[df_platform_sales.sum().sort_values(ascending=False).index]\n",
    "\n",
    "# выберем топ 10 платформ с наибольшими суммарными продажами по годам\n",
    "top_10_platforms = df_platform_sales.iloc[:, :10]\n",
    "\n",
    "# отобразим данные\n",
    "top_10_platforms.plot(kind='bar', stacked=True, figsize=(12, 6))\n",
    "plt.title('Топ-10 платформ с наибольшими суммарными продажами по годам')\n",
    "plt.xlabel('Год релиза')\n",
    "plt.ylabel('Суммарные продажи')\n",
    "plt.grid(axis='y', linestyle='--', alpha=0.7)\n",
    "plt.legend(title='Platform', bbox_to_anchor=(1.05, 1), loc='upper left')\n",
    "\n",
    "plt.show()"
   ]
  },
  {
   "cell_type": "markdown",
   "metadata": {},
   "source": [
    "**Вывод:**\n",
    "\n",
    "- График показывает, что в период с 1994 по 1999 год единственным представителем из числа игровых платформ с наибольшими суммарными продажами являлась *PS (PlayStation)*.\n",
    "\n",
    "- *PS2 (PlayStation 2)* наследница *PS* и предшественница *PS3 (PlayStation 3)* зашла на рынок в 2000 году и начала вытеснять *PS*, сохраняя лидирующие позиции до 2005 года, наряду с появлением других конкурентов *GBA (Game Boy Advance)*. В 2010 суммарные продажи *PS2* достигли своего исторического минимума.\n",
    "\n",
    "- *DS (Nintendo DS)* пополнила ряды представителей игровых платформ с наибольшими суммарными продажами в 2004. В 2005 потеснила *PS2*, разделив лидерство, и продолжила сохранять свои позиции до 2010. В последующие годы суммарные продажи существенно сокращались до почти полного исчезновения.\n",
    "\n",
    "- Период с 2006 по 2013 представлен наибольшим разнообразием в плане присутствующих на рынке платформ (с наибольшими суммарными продажами) — *PS2*, *X360*, *PS3*, *Wii*, *DS*, *PSP*, *3DS*. При этом суммарные продажи каждой из перечисленных очевидно варьировались. *PS2* в этот период переживала завершающий цикл своего существования. Остальные конкуренты в большинстве своём за этот период прошли цикл от появления до заката.\n",
    "\n",
    "- В общем плане, характерный срок появления новых и исчезновения старых платформ составляет примерно 10 лет, из которых на актуальный период (основная популярность и продажи) приходится примерно пять лет."
   ]
  },
  {
   "cell_type": "markdown",
   "metadata": {},
   "source": [
    "Наиболее свежие данные, которые содержит датасет, заканчиваются 2016 годом. На основании срока характеризующего примерный жизненный цикл игровых платформ и их актуальность, рассмотрим период с 2014 по 2016 год и попробуем обозначить некоторые тенденции в плане того, **какие платформы лидируют по продажам, растут или падают**, а также **выделим несколько потенциально прибыльных платформ** за актуальный период."
   ]
  },
  {
   "cell_type": "code",
   "execution_count": 27,
   "metadata": {},
   "outputs": [
    {
     "data": {
      "image/png": "[encoded data removed]",
      "text/plain": [
       "<Figure size 864x432 with 1 Axes>"
      ]
     },
     "metadata": {
      "needs_background": "light"
     },
     "output_type": "display_data"
    }
   ],
   "source": [
    "# фильтруем df, чтобы включить только игры, выпущенные с 2014 года\n",
    "df_actual_platform = df[df['year_of_release'] >= 2014]\n",
    "\n",
    "# создадим сводную таблицу с агрегированными данными суммарных продаж по годам и платформам\n",
    "df_platform_trends = pd.pivot_table(\n",
    "    df_actual_platform,\n",
    "    values='total_sales',\n",
    "    index='year_of_release',\n",
    "    columns='platform',\n",
    "    aggfunc='sum'\n",
    ")\n",
    "\n",
    "# отсортируем платформы по убыванию общего объёма продаж за каждый год\n",
    "df_platform_trends = df_platform_trends[df_platform_trends.sum().sort_values(ascending=False).index]\n",
    "\n",
    "# выберем топ 5 платформ с наибольшими суммарными продажами по годам\n",
    "top_7_platforms = df_platform_trends.iloc[:, :7]\n",
    "\n",
    "# отобразим данные\n",
    "top_7_platforms.plot(kind='bar', stacked=True, figsize=(12, 6))\n",
    "plt.title('Топ-7 игровых платформ за актуальный период')\n",
    "plt.xlabel('Год релиза')\n",
    "plt.ylabel('Суммарные продажи')\n",
    "plt.grid(axis='y', linestyle='--', alpha=0.7)\n",
    "plt.xticks(rotation=0)\n",
    "plt.legend(title='Platform', bbox_to_anchor=(1.05, 1), loc='upper left')\n",
    "\n",
    "plt.show()"
   ]
  },
  {
   "cell_type": "markdown",
   "metadata": {},
   "source": [
    "**Вывод:**\n",
    "\n",
    "На графике можно заметить определённые тенденции на протяжении актуального периода относительно того, какие платформы лидируют по продажам, растут или падают. В частности:\n",
    "- *Sony PlayStation 4 (PS4)*, очевидно, приходит на смену своей предшественнице *PS3*.\n",
    "- *Microsoft Xbox One (XOne)*, по-видимому, также набирает популярность.\n",
    "- *3DS* — продажи хотя и снижаются, но в целом с объёмом около 15-20 млн. копий платформа приносит прибыль.\n",
    "- *PS3*, *X360*, *WiiU* и *PC* в отличие от упомянытых выше платформ постепенно уходят, оставляя лидирующие позиции."
   ]
  },
  {
   "cell_type": "markdown",
   "metadata": {},
   "source": [
    "**Построим график «ящик с усами»**, чтобы оценить изменчивость общего объёма продаж, медианные продажи, а также рассмотреть  диапазон общих продаж для каждой платформы."
   ]
  },
  {
   "cell_type": "code",
   "execution_count": 28,
   "metadata": {},
   "outputs": [
    {
     "data": {
      "image/png": "[encoded data removed]",
      "text/plain": [
       "<Figure size 864x432 with 1 Axes>"
      ]
     },
     "metadata": {
      "needs_background": "light"
     },
     "output_type": "display_data"
    }
   ],
   "source": [
    "# установим метки для осей графика\n",
    "xlab = \"Суммарные продажи (млн. копий)\"\n",
    "ylab = \"Игровые платформы\"\n",
    "\n",
    "# укажем None для пределов, чтобы оценить общую картину\n",
    "xlim = (0, None)\n",
    "\n",
    "# укажем название графика\n",
    "title = \"Диаграмма размаха по продажам платформ за актуальный период\"\n",
    "\n",
    "# установим размер графика\n",
    "plt.figure(figsize=(12, 6))\n",
    "\n",
    "# построим диаграмму размаха на актуальной выборке\n",
    "ax = sns.boxplot(x='total_sales', y='platform', data=df_actual_platform)\n",
    "\n",
    "# установим метки и название\n",
    "ax.set(xlabel=xlab, ylabel=ylab, xlim=xlim, title=title)\n",
    "\n",
    "# выведем диаграмму\n",
    "plt.show()"
   ]
  },
  {
   "cell_type": "markdown",
   "metadata": {},
   "source": [
    "- Диаграмма показывает, что практически у всех платформ были явные хиты продаж, которые отмечены в виде выбросов.\n",
    "- Ограничим диапазон продаж до 2 млн. проданных копий, чтобы рассмотреть медианные значения и диапазон общих продаж для каждой платформы."
   ]
  },
  {
   "cell_type": "code",
   "execution_count": 29,
   "metadata": {},
   "outputs": [
    {
     "data": {
      "image/png": "[encoded data removed]",
      "text/plain": [
       "<Figure size 864x432 with 1 Axes>"
      ]
     },
     "metadata": {
      "needs_background": "light"
     },
     "output_type": "display_data"
    }
   ],
   "source": [
    "# установим метки для осей графика\n",
    "xlab = \"Суммарные продажи (млн. копий)\"\n",
    "ylab = \"Игровые платформы\"\n",
    "\n",
    "# укажем пределы, для более детальной оценки \n",
    "xlim = (0, 2)\n",
    "\n",
    "# укажем название графика\n",
    "title = \"Диаграмма размаха по продажам платформ за актуальный период\"\n",
    "\n",
    "# установим размер графика\n",
    "plt.figure(figsize=(12, 6))\n",
    "\n",
    "# построим диаграмму размаха на актуальной выборке\n",
    "ax = sns.boxplot(x='total_sales', y='platform', data=df_actual_platform)\n",
    "\n",
    "# установим метки и название\n",
    "ax.set(xlabel=xlab, ylabel=ylab, xlim=xlim, title=title)\n",
    "\n",
    "# выведем диаграмму\n",
    "plt.show()"
   ]
  },
  {
   "cell_type": "markdown",
   "metadata": {},
   "source": [
    "**Вывод:**\n",
    "\n",
    "- Платформы с более длинными ящиками указывают на большую изменчивость общего объёма продаж. К таковым относятся игровые приставки *Wii*, *PS4*, *XOne*, *WiiU* и *X360*.\n",
    "- Более более высокие медианные продажи имеют платформы *XOne*, *PS4* и *Wii*.\n",
    "- Более более низкие медианные продажи у *PS3*, *3DS* и *PC*.\n",
    "- Усы дают представление о диапазоне общих продаж для каждой платформы. Так, довольно широкий диапазон охватывают *PS4* — до 155, *XOne* — до 150, и *WiiU* — до 130 миллионов проданных копий. В то время как *PC* не выходят за пределы 50 миллионов проданных копий. Платформы *PSV* и *PSP* находятся в позиции явных отстающих по сравнению с конкурентами.\n",
    "- Выбросов, которые указывали бы на экстремально низкие продажи за анализируемый период, не обнаружено. При этом практически у всех платформ были явные хиты продаж."
   ]
  },
  {
   "cell_type": "markdown",
   "metadata": {},
   "source": [
    "**Оценим, как влияют на продажи внутри одной популярной платформы отзывы пользователей и критиков. Построим диаграмму рассеяния и посчитаем корреляцию между отзывами и продажами.**"
   ]
  },
  {
   "cell_type": "code",
   "execution_count": 30,
   "metadata": {},
   "outputs": [
    {
     "data": {
      "image/png": "[encoded data removed]",
      "text/plain": [
       "<Figure size 864x432 with 2 Axes>"
      ]
     },
     "metadata": {
      "needs_background": "light"
     },
     "output_type": "display_data"
    },
    {
     "name": "stdout",
     "output_type": "stream",
     "text": [
      "Корреляция продаж и оценки критиков для PS4: 0.402\n",
      "Корреляция продаж и оценки пользователей для PS4: -0.043\n"
     ]
    }
   ],
   "source": [
    "# фильтруем df для одной популярной платформы PS4\n",
    "df_ps4 = df_actual_platform[\n",
    "    (df_actual_platform['platform'] == 'PS4') &\n",
    "    (df_actual_platform['critic_score'] >= 0) &\n",
    "    (df_actual_platform['user_score'] >= 0)\n",
    "]\n",
    "\n",
    "# вычислим коэффициент корреляции чтобы оценить связь между critic_score и total_sales\n",
    "critic_corr = df_ps4['critic_score'].corr(df_ps4['total_sales'])\n",
    "\n",
    "# вычислим коэффициент корреляции чтобы оценить связь между user_score и total_sales\n",
    "user_corr = df_ps4['user_score'].corr(df_ps4['total_sales'])\n",
    "\n",
    "# отобразим данные\n",
    "plt.figure(figsize=(12, 6))\n",
    "\n",
    "# построим диаграмму рассеяния critic_score vs total_sales\n",
    "plt.subplot(1, 2, 1)\n",
    "plt.scatter(df_ps4['critic_score'], df_ps4['total_sales'], alpha=0.3)\n",
    "plt.title(f'Влияние оценки критиков на продажи PS4')\n",
    "plt.xlabel('Оценка критиков')\n",
    "plt.ylabel('Суммарные продажи (млн. копий)')\n",
    "\n",
    "# построим диаграмму рассеяния user_score vs total_sales\n",
    "plt.subplot(1, 2, 2)\n",
    "plt.scatter(df_ps4['user_score'], df_ps4['total_sales'], alpha=0.3)\n",
    "plt.title(f'Влияние оценки пользователей на продажи PS4')\n",
    "plt.xlabel('Оценка пользователей')\n",
    "plt.ylabel('Суммарные продажи (млн. копий)')\n",
    "\n",
    "plt.tight_layout()\n",
    "plt.show()\n",
    "\n",
    "# выведем результата корреляции\n",
    "print(f'Корреляция продаж и оценки критиков для PS4:', round(critic_corr, 3))\n",
    "print(f'Корреляция продаж и оценки пользователей для PS4:', round(user_corr, 3))"
   ]
  },
  {
   "cell_type": "markdown",
   "metadata": {},
   "source": [
    "**Вывод:**\n",
    "\n",
    "- Положительная корреляция предполагает, что по мере увеличения баллов в оценках платфомы со стороны критиков суммарные продажи также имеет тенденцию к увеличению. Другими словами, более высокие **оценки критиков** связаны с более высоким общим объёмом продаж. Значение *0.402* указывает на умеренную положительную корреляцию, то есть взаимосвязь не очень сильная, но все же значимая.\n",
    "- Значение *-0.043* указывает на очень слабую отрицательную корреляцию и близко к нулю. Это означает, что для этого набора данных между **оценками пользователей** и общим объёмом продаж не существует особой связи."
   ]
  },
  {
   "cell_type": "markdown",
   "metadata": {},
   "source": [
    "**Рассмотрим на данных для видеоигр на платформе *PC***."
   ]
  },
  {
   "cell_type": "code",
   "execution_count": 31,
   "metadata": {},
   "outputs": [
    {
     "data": {
      "image/png": "[encoded data removed]",
      "text/plain": [
       "<Figure size 864x432 with 2 Axes>"
      ]
     },
     "metadata": {
      "needs_background": "light"
     },
     "output_type": "display_data"
    },
    {
     "name": "stdout",
     "output_type": "stream",
     "text": [
      "Корреляция продаж и оценки критиков для PC: 0.172\n",
      "Корреляция продаж и оценки пользователей для PC: -0.09\n"
     ]
    }
   ],
   "source": [
    "# фильтруем df для одной популярной платформы PC\n",
    "df_pc = df_actual_platform[\n",
    "    (df_actual_platform['platform'] == 'PC') &\n",
    "    (df_actual_platform['critic_score'] >= 0) &\n",
    "    (df_actual_platform['user_score'] >= 0)\n",
    "]\n",
    "\n",
    "# вычислим коэффициент корреляции чтобы оценить связь между critic_score и total_sales\n",
    "critic_corr = df_pc['critic_score'].corr(df_pc['total_sales'])\n",
    "\n",
    "# вычислим коэффициент корреляции чтобы оценить связь между user_score и total_sales\n",
    "user_corr = df_pc['user_score'].corr(df_pc['total_sales'])\n",
    "\n",
    "# отобразим данные\n",
    "plt.figure(figsize=(12, 6))\n",
    "\n",
    "# построим диаграмму рассеяния critic_score vs total_sales\n",
    "plt.subplot(1, 2, 1)\n",
    "plt.scatter(df_pc['critic_score'], df_pc['total_sales'], alpha=0.3)\n",
    "plt.title(f'Влияние оценки критиков на продажи PC')\n",
    "plt.xlabel('Оценка критиков')\n",
    "plt.ylabel('Суммарные продажи (млн. копий)')\n",
    "\n",
    "# построим диаграмму рассеяния user_score vs total_sales\n",
    "plt.subplot(1, 2, 2)\n",
    "plt.scatter(df_pc['user_score'], df_pc['total_sales'], alpha=0.3)\n",
    "plt.title(f'Влияние оценки пользователей на продажи PC')\n",
    "plt.xlabel('Оценка пользователей')\n",
    "plt.ylabel('Суммарные продажи (млн. копий)')\n",
    "\n",
    "plt.tight_layout()\n",
    "plt.show()\n",
    "\n",
    "# выведем результата корреляции\n",
    "print(f'Корреляция продаж и оценки критиков для PC:', round(critic_corr, 3))\n",
    "print(f'Корреляция продаж и оценки пользователей для PC:', round(user_corr, 3))"
   ]
  },
  {
   "cell_type": "markdown",
   "metadata": {},
   "source": [
    "**Вывод:**\n",
    "\n",
    "Полученные значения близки к нулю. Это означает, что для этого набора данных между общим объёмом продаж и оценками пользователей и критиков не существует особой связи. "
   ]
  },
  {
   "cell_type": "markdown",
   "metadata": {},
   "source": [
    "**Далее рассмотрим общее распределение игр по жанрам**\n",
    "\n",
    "- Что можно сказать о самых прибыльных жанрах? \n",
    "- Выделяются ли жанры с высокими и низкими продажами?"
   ]
  },
  {
   "cell_type": "code",
   "execution_count": 32,
   "metadata": {},
   "outputs": [
    {
     "data": {
      "image/png": "[encoded data removed]",
      "text/plain": [
       "<Figure size 864x432 with 1 Axes>"
      ]
     },
     "metadata": {
      "needs_background": "light"
     },
     "output_type": "display_data"
    }
   ],
   "source": [
    "# создадим сводную таблицу с агрегированными данными суммарных продаж по жанрам\n",
    "df_games_genre = df.pivot_table(\n",
    "    index='genre',\n",
    "    values='total_sales',\n",
    "    aggfunc='sum'\n",
    ").sort_values('total_sales', ascending=False)\n",
    "\n",
    "# отобразим данные\n",
    "plt.figure(figsize=(12, 6))\n",
    "plt.barh(df_games_genre.index, df_games_genre['total_sales'])\n",
    "plt.xlabel('Суммарные продажи (млн. копий)')\n",
    "plt.ylabel('Жанры видеоигр')\n",
    "plt.title('Суммарные продажи по жанрам видеоигр за всё время')\n",
    "plt.xticks(rotation=0)\n",
    "plt.grid()\n",
    "\n",
    "plt.tight_layout()\n",
    "plt.show()"
   ]
  },
  {
   "cell_type": "markdown",
   "metadata": {},
   "source": [
    "**Вывод:**\n",
    "\n",
    "- Согласно графику, наиболее высокие продажи видеоигр отмечаются по таким жанрам как *Action*, *Sports* и *Shooter*, их продажи насчитывают более 1000 миллионов копий. \n",
    "- Жанры *Strategy*, *Adventure*, и *Puzzle* составляют тройку наименее прибыльных среди других жанров видеоигр, их продажи насчитывают до 250 миллионов копий."
   ]
  },
  {
   "cell_type": "markdown",
   "metadata": {},
   "source": [
    "**Рассмотрим период с 2012 по 2016 год** и попробуем обозначить некоторые тенденции в плане того, какие жанры лидируют по продажам в этот период."
   ]
  },
  {
   "cell_type": "code",
   "execution_count": 33,
   "metadata": {},
   "outputs": [
    {
     "data": {
      "image/png": "[encoded data removed]",
      "text/plain": [
       "<Figure size 864x432 with 1 Axes>"
      ]
     },
     "metadata": {
      "needs_background": "light"
     },
     "output_type": "display_data"
    }
   ],
   "source": [
    "# фильтруем df, чтобы включить данные с 2012 года\n",
    "df_filtered_genre = df[df['year_of_release'] >= 2012]\n",
    "\n",
    "# создадим сводную таблицу с агрегированными данными суммарных продаж по годам и жанрам\n",
    "df_genre_sales = pd.pivot_table(df_filtered_genre, values='total_sales', index='year_of_release', columns='genre', aggfunc='sum')\n",
    "\n",
    "# отсортируем жанры по убыванию общего объёма продаж за каждый год\n",
    "df_genre_sales = df_genre_sales[df_genre_sales.sum().sort_values(ascending=False).index]\n",
    "\n",
    "# выберем топ 5 жанров с наибольшими суммарными продажами по годам\n",
    "top_5_genre = df_genre_sales.iloc[:, :5]\n",
    "\n",
    "# отобразим данные\n",
    "top_5_genre.plot(kind='bar', stacked=True, figsize=(12, 6))\n",
    "plt.title('Топ-5 прибыльных жанров в период с 2012 по 2016 гг.')\n",
    "plt.xlabel('Год')\n",
    "plt.ylabel('Суммарные продажи (млн. копий)')\n",
    "plt.grid(axis='y', linestyle='--', alpha=0.7)\n",
    "plt.xticks(rotation=0)\n",
    "plt.legend(title='Genre', bbox_to_anchor=(1.05, 1), loc='upper left')\n",
    "\n",
    "plt.show()"
   ]
  },
  {
   "cell_type": "markdown",
   "metadata": {},
   "source": [
    "**Вывод:**\n",
    "\n",
    "В период с 2012 по 2016 год порядок жанров-лидеров немного поменялся:\n",
    "- Первенство по продажам сохраняет жанр *Action*.\n",
    "- На одну ступень в рейтинге поднялись жанры *Shooter*, *Role-Playing* и *Music*.\n",
    "- Со второго на четвёртое место в рейтинге спустился *Sports*.\n",
    "\n",
    "В целом, жанры *Shooter* и *Sports* выглядят более стабильными в плане прибыльности в отличии от *Misc* и *Action*."
   ]
  },
  {
   "cell_type": "markdown",
   "metadata": {},
   "source": [
    "**Построим диаграмму размаха**, чтобы оценить медианные продажи, рассмотреть изменчивость и диапазон общих продаж по жанрам. \n",
    "\n",
    "Рассмотрим более актуальный период с 2014 по 2016 год."
   ]
  },
  {
   "cell_type": "code",
   "execution_count": 34,
   "metadata": {},
   "outputs": [
    {
     "data": {
      "image/png": "[encoded data removed]",
      "text/plain": [
       "<Figure size 864x432 with 1 Axes>"
      ]
     },
     "metadata": {
      "needs_background": "light"
     },
     "output_type": "display_data"
    }
   ],
   "source": [
    "# установим метки для осей графика\n",
    "xlab = \"Суммарные продажи (млн. копий)\"\n",
    "ylab = \"Жанры видеоигр\"\n",
    "\n",
    "# укажем None для пределов, чтобы оценить общую картину\n",
    "xlim = (0, None)\n",
    "\n",
    "# укажем название графика\n",
    "title = \"Продаваемость жанров видеоигр за актуальный период\"\n",
    "\n",
    "# установим размер графика\n",
    "plt.figure(figsize=(12, 6))\n",
    "\n",
    "# построим диаграмму размаха на актуальной выборке\n",
    "ax = sns.boxplot(x='total_sales', y='genre', data=df_actual_platform)\n",
    "\n",
    "# установим метки и название\n",
    "ax.set(xlabel=xlab, ylabel=ylab, xlim=xlim, title=title)\n",
    "\n",
    "# выведем диаграмму\n",
    "plt.show()"
   ]
  },
  {
   "cell_type": "markdown",
   "metadata": {},
   "source": [
    "- Диаграмма показывает, что практически у всех жанров игр были явные хиты продаж, которые отмечены в виде выбросов.\n",
    "- Ограничим диапазон продаж до 4 млн. проданных копий, чтобы рассмотреть медианные значения и диапазон общих продаж для каждого жанра."
   ]
  },
  {
   "cell_type": "code",
   "execution_count": 35,
   "metadata": {},
   "outputs": [
    {
     "data": {
      "image/png": "[encoded data removed]",
      "text/plain": [
       "<Figure size 864x432 with 1 Axes>"
      ]
     },
     "metadata": {
      "needs_background": "light"
     },
     "output_type": "display_data"
    }
   ],
   "source": [
    "# установим метки для осей графика\n",
    "xlab = \"Суммарные продажи (млн. копий)\"\n",
    "ylab = \"Жанры видеоигр\"\n",
    "\n",
    "# укажем пределы, для более детальной оценки \n",
    "xlim = (0, 4)\n",
    "\n",
    "# укажем название графика\n",
    "title = \"Продаваемость жанров видеоигр за актуальный период\"\n",
    "\n",
    "# установим размер графика\n",
    "plt.figure(figsize=(12, 6))\n",
    "\n",
    "# построим диаграмму размаха на актуальной выборке\n",
    "ax = sns.boxplot(x='total_sales', y='genre', data=df_actual_platform)\n",
    "\n",
    "# установим метки и название\n",
    "ax.set(xlabel=xlab, ylabel=ylab, xlim=xlim, title=title)\n",
    "\n",
    "# выведем диаграмму\n",
    "plt.show()"
   ]
  },
  {
   "cell_type": "markdown",
   "metadata": {},
   "source": [
    "**Вывод:**\n",
    "\n",
    "- Жанры с более длинными ящиками указывают на большую изменчивость общего объёма продаж. К таковым можно отнести игры в жанрах *Shooter* и *Sports*.\n",
    "- С высокими медианными продажами в очевидных лидерах отмечается *Shooter*, за которым следует *Sports*.\n",
    "- Указанные жанры также охватывают довольно широкий диапазон общих продаж — до 3.7 для *Shooter*, и до 1.5 миллионов проданных копий для *Sports*. \n",
    "- Игры в жанре *Action* лидируют по количеству выбросов, которые указывают на наличие экстремально высоких продаж за анализируемый период. По всей видимости жанр *Action* занимает первенство в рейтинге суммарных продаж за счёт крайне популярных игр-хитов."
   ]
  },
  {
   "cell_type": "markdown",
   "metadata": {},
   "source": [
    "### Шаг 4. Составление портрета пользователя каждого региона\n",
    "\n",
    "#### Определим для пользователя каждого региона (NA, EU, JP) топ-5 популярных платформ"
   ]
  },
  {
   "cell_type": "code",
   "execution_count": 36,
   "metadata": {
    "scrolled": true
   },
   "outputs": [],
   "source": [
    "# создадим сводную таблицу с агрегированными данными продаж по NA региону\n",
    "na_platform_sales = df_actual_platform.pivot_table(index = 'platform', values = 'na_sales', aggfunc = 'sum').sort_values('na_sales', ascending = False)\n",
    "na_platform_sales['%'] = na_platform_sales['na_sales'] / na_platform_sales['na_sales'].sum() * 100\n",
    "\n",
    "# выбираем топ-5 платформ с высоким продажами\n",
    "na_top_platform = na_platform_sales.head(5)\n",
    "# невошедшее в топ-5 объединим в категорию \"другие\"\n",
    "na_other_platform = na_platform_sales.iloc[5:].sum()\n",
    "na_other_platform.name = 'Other' \n",
    "# объединим два датафрейма\n",
    "na_res_platform = pd.concat([na_top_platform, na_other_platform.to_frame().T])"
   ]
  },
  {
   "cell_type": "code",
   "execution_count": 37,
   "metadata": {
    "scrolled": true
   },
   "outputs": [],
   "source": [
    "# создадим сводную таблицу с агрегированными данными продаж по EU региону\n",
    "eu_platform_sales = df_actual_platform.pivot_table(index = 'platform', values = 'eu_sales', aggfunc = 'sum').sort_values('eu_sales', ascending = False)\n",
    "eu_platform_sales['%'] = eu_platform_sales['eu_sales'] / eu_platform_sales['eu_sales'].sum() * 100\n",
    "\n",
    "# выбираем топ-5 платформ с высоким продажами\n",
    "eu_top_platform = eu_platform_sales.head(5)\n",
    "# невошедшее в топ-5 объединим в категорию \"другие\"\n",
    "eu_other_platform = eu_platform_sales.iloc[5:].sum()\n",
    "eu_other_platform.name = 'Other' \n",
    "# объединим два датафрейма\n",
    "eu_res_platform = pd.concat([eu_top_platform, eu_other_platform.to_frame().T])"
   ]
  },
  {
   "cell_type": "code",
   "execution_count": 38,
   "metadata": {},
   "outputs": [],
   "source": [
    "# создадим сводную таблицу с агрегированными данными продаж по JP региону\n",
    "jp_platform_sales = df_actual_platform.pivot_table(index = 'platform', values = 'jp_sales', aggfunc = 'sum').sort_values('jp_sales', ascending = False)\n",
    "jp_platform_sales['%'] = jp_platform_sales['jp_sales'] / jp_platform_sales['jp_sales'].sum() * 100\n",
    "\n",
    "# выбираем топ-5 платформ с высоким продажами\n",
    "jp_top_platform = jp_platform_sales.head(5)\n",
    "# невошедшее в топ-5 объединим в категорию \"другие\"\n",
    "jp_other_platform = jp_platform_sales.iloc[5:].sum()\n",
    "jp_other_platform.name = 'Other' \n",
    "# объединим два датафрейма\n",
    "jp_res_platform = pd.concat([jp_top_platform, jp_other_platform.to_frame().T])"
   ]
  },
  {
   "cell_type": "code",
   "execution_count": 39,
   "metadata": {},
   "outputs": [
    {
     "data": {
      "image/png": "[encoded data removed]",
      "text/plain": [
       "<Figure size 1008x432 with 3 Axes>"
      ]
     },
     "metadata": {},
     "output_type": "display_data"
    }
   ],
   "source": [
    "# строим круговые диаграммы по каждому региону\n",
    "fig, (ax1, ax2, ax3) = plt.subplots(1, 3, figsize=(14, 6))\n",
    "\n",
    "fig.suptitle('Топ-5 платформ в долях продаж по регионам')\n",
    "ax1.pie(na_res_platform['na_sales'], labels=na_res_platform.index, autopct='%1.0f%%', normalize=True)\n",
    "ax1.set_title('Северная Америка')\n",
    "ax2.pie(eu_res_platform['eu_sales'], labels=eu_res_platform.index, autopct='%1.0f%%', normalize=True)\n",
    "ax2.set_title('Европа')\n",
    "ax3.pie(jp_res_platform['jp_sales'], labels=jp_res_platform.index, autopct='%1.0f%%', normalize=True)\n",
    "ax3.set_title('Япония')\n",
    "\n",
    "plt.show()"
   ]
  },
  {
   "cell_type": "markdown",
   "metadata": {},
   "source": [
    "**Вывод:**\n",
    "\n",
    "На графиках заметны региональные различия в долях продаж игровых платформ по оценке пяти самых популярных:\n",
    "- В **Северной Америке** бо́льшую часть рынка занимают *PS4 (35 %)* и *XOne (29 %)*. На долю *X360* приходится *10 %*. Менее всего представлены *3DS* и *PS3*.\n",
    "- Около половины рынка **Европы** занимает *PS4 (48 %)*. На втором месте *XOne (17 %)*. Наименьшие доли занимают *PC (7 %)* и *3DS (6 %)*.\n",
    "- **Япония**, в отличии от двух предыдущих регионов, своим фаворитом выделяет *3DS*, на долю которого приходится *48 %* рынка. По *16 %* занимают *PS4* и *PSV*. Наименьшая доля у *WiiU (8 %)*."
   ]
  },
  {
   "cell_type": "markdown",
   "metadata": {},
   "source": [
    "#### Определим для пользователя каждого региона (NA, EU, JP) топ-5 популярных жанров"
   ]
  },
  {
   "cell_type": "code",
   "execution_count": 40,
   "metadata": {},
   "outputs": [],
   "source": [
    "# создадим сводную таблицу с агрегированными данными продаж по NA региону\n",
    "na_genre_sales = df_actual_platform.pivot_table(index = 'genre', values = 'na_sales', aggfunc = 'sum').sort_values('na_sales', ascending = False)\n",
    "na_genre_sales['%'] = na_genre_sales['na_sales'] / na_genre_sales['na_sales'].sum() * 100\n",
    "\n",
    "# выбираем топ-5 жанров с высоким продажами\n",
    "na_top_genre = na_genre_sales.head(5)\n",
    "# невошедшее в топ-5 объединим в категорию \"другие\"\n",
    "na_other_genre = na_genre_sales.iloc[5:].sum()\n",
    "na_other_genre.name = 'Other' \n",
    "# объединим два датафрейма\n",
    "na_res_genre = pd.concat([na_top_genre, na_other_genre.to_frame().T])"
   ]
  },
  {
   "cell_type": "code",
   "execution_count": 41,
   "metadata": {},
   "outputs": [],
   "source": [
    "# создадим сводную таблицу с агрегированными данными продаж по EU региону\n",
    "eu_genre_sales = df_actual_platform.pivot_table(index = 'genre', values = 'eu_sales', aggfunc = 'sum').sort_values('eu_sales', ascending = False)\n",
    "eu_genre_sales['%'] = eu_genre_sales['eu_sales'] / eu_genre_sales['eu_sales'].sum() * 100\n",
    "\n",
    "# выбираем топ-5 жанров с высоким продажами\n",
    "eu_top_genre = eu_genre_sales.head(5)\n",
    "# невошедшее в топ-5 объединим в категорию \"другие\"\n",
    "eu_other_genre = eu_genre_sales.iloc[5:].sum()\n",
    "eu_other_genre.name = 'Other' \n",
    "# объединим два датафрейма\n",
    "eu_res_genre = pd.concat([eu_top_genre, eu_other_genre.to_frame().T])"
   ]
  },
  {
   "cell_type": "code",
   "execution_count": 42,
   "metadata": {},
   "outputs": [],
   "source": [
    "# создадим сводную таблицу с агрегированными данными продаж по JP региону\n",
    "jp_genre_sales = df_actual_platform.pivot_table(index = 'genre', values = 'jp_sales', aggfunc = 'sum').sort_values('jp_sales', ascending = False)\n",
    "jp_genre_sales['%'] = jp_genre_sales['jp_sales'] / jp_genre_sales['jp_sales'].sum() * 100\n",
    "\n",
    "# выбираем топ-5 жанров с высоким продажами\n",
    "jp_top_genre = jp_genre_sales.head(5)\n",
    "# невошедшее в топ-5 объединим в категорию \"другие\"\n",
    "jp_other_genre = jp_genre_sales.iloc[5:].sum()\n",
    "jp_other_genre.name = 'Other' \n",
    "# объединим два датафрейма\n",
    "jp_res_genre = pd.concat([jp_top_genre, jp_other_genre.to_frame().T])"
   ]
  },
  {
   "cell_type": "code",
   "execution_count": 43,
   "metadata": {},
   "outputs": [
    {
     "data": {
      "image/png": "[encoded data removed]",
      "text/plain": [
       "<Figure size 1008x432 with 3 Axes>"
      ]
     },
     "metadata": {},
     "output_type": "display_data"
    }
   ],
   "source": [
    "# строим круговые диаграммы по каждому региону\n",
    "fig, (ax1, ax2, ax3) = plt.subplots(1, 3, figsize=(14, 6))\n",
    "\n",
    "fig.suptitle('Топ-5 жанров видеоигр в долях продаж по регионам')\n",
    "ax1.pie(na_res_genre['na_sales'], labels=na_res_genre.index, autopct='%1.0f%%', normalize=True)\n",
    "ax1.set_title('Северная Америка')\n",
    "ax2.pie(eu_res_genre['eu_sales'], labels=eu_res_genre.index, autopct='%1.0f%%', normalize=True)\n",
    "ax2.set_title('Европа')\n",
    "ax3.pie(jp_res_genre['jp_sales'], labels=jp_res_genre.index, autopct='%1.0f%%', normalize=True)\n",
    "ax3.set_title('Япония')\n",
    "\n",
    "plt.show()"
   ]
  },
  {
   "cell_type": "markdown",
   "metadata": {},
   "source": [
    "**Вывод:**\n",
    "\n",
    "Диаграммы показывают региональные различия в долях продаж жанров видеоигр по оценке пяти самых популярных:\n",
    "- Бо́льшая доля рынка **Северной Америки** распределена между таким жанрам как *Shooter (28 %)* и *Action (26 %)*. Игры в жанре *Sports* занимают *16 %*. К наименее популярным среди топ-5 можно отнести *Role-Playing (11 %)* и *Misc (5 %)*.\n",
    "- В плане жанровых предпочтений рынок **Европы** очень похож на рынок Северной Америки.\n",
    "- **Япония**, в отличии от двух предыдущих регионов, своим жанровым фаворитом предпочитает *Role-Playing (33 %)* и *Action (32 %)*. Среди топ-5 жанров, *Shooter* представляет наименьший интерес у японских пользователей — всего *5 %* рынка, что опять же сильно отличает японский регион от двух предыдущих.\n",
    "\n",
    "Вместе с тем, высокое предпочтение жанра *Action* объединят пользователей всех трёх регионов."
   ]
  },
  {
   "cell_type": "markdown",
   "metadata": {},
   "source": [
    "#### Оценим влияет ли рейтинг ESRB на продажи в отдельном регионе\n",
    "\n",
    "*Совет по рейтингу развлекательного программного обеспечения (ESRB)* — это саморегулируемая организация, ответственная за присвоение возрастных и контентных рейтингов видеоиграм и мобильным приложениям в США и Канаде. Эти рейтинги созданы для того, чтобы предоставить потребителям, особенно родителям, информацию о содержании и пригодности игры для разных возрастных групп.\n",
    "\n",
    "ESRB присваивает играм один из следующих возрастных рейтингов:\n",
    "\n",
    "- «EC» (раннее детство): игры, подходящие для маленьких детей.\n",
    "- «E» (все): игры, подходящие для всех возрастов.\n",
    "- «E10+» (все от 10 лет): игры, подходящие для детей от 10 лет и старше.\n",
    "- «T» (подросток): игры, подходящие для детей от 13 лет и старше.\n",
    "- «М» (для взрослых): игры, подходящие для детей от 17 лет и старше.\n",
    "- «AO» (только для взрослых): игры, предназначенные для взрослых от 18 лет и старше."
   ]
  },
  {
   "cell_type": "markdown",
   "metadata": {},
   "source": [
    "**Рассмотрим период с 2014 по 2016 год**, чтобы составить представление о том, как продажи распределяются для разных рейтингов ESRB в каждом регионе за актуальный период."
   ]
  },
  {
   "cell_type": "code",
   "execution_count": 44,
   "metadata": {},
   "outputs": [],
   "source": [
    "# создадим сводную таблицу с агрегированными данными продаж по NA региону\n",
    "na_rating_sales = df_actual_platform.pivot_table(index = 'rating', values = 'na_sales', aggfunc = 'sum').sort_values('na_sales', ascending = False)\n",
    "na_rating_sales['%'] = na_rating_sales['na_sales'] / na_rating_sales['na_sales'].sum() * 100\n",
    "\n",
    "# выбираем топ-5 продаж в отношении рейтингов ESRB\n",
    "na_top_rating = na_rating_sales.head(5)\n",
    "# невошедшее в топ-5 объединим в категорию \"другие\"\n",
    "na_other_rating = na_rating_sales.iloc[5:].sum()\n",
    "na_other_rating.name = 'Other' \n",
    "# объединим два датафрейма\n",
    "na_res_rating = pd.concat([na_top_rating, na_other_rating.to_frame().T])"
   ]
  },
  {
   "cell_type": "code",
   "execution_count": 45,
   "metadata": {},
   "outputs": [],
   "source": [
    "# создадим сводную таблицу с агрегированными данными продаж по EU региону\n",
    "eu_rating_sales = df_actual_platform.pivot_table(index = 'rating', values = 'eu_sales', aggfunc = 'sum').sort_values('eu_sales', ascending = False)\n",
    "eu_rating_sales['%'] = eu_rating_sales['eu_sales'] / eu_rating_sales['eu_sales'].sum() * 100\n",
    "\n",
    "# выбираем топ-5 продаж в отношении рейтингов ESRB\n",
    "eu_top_rating = eu_rating_sales.head(5)\n",
    "# невошедшее в топ-5 объединим в категорию \"другие\"\n",
    "eu_other_rating = eu_rating_sales.iloc[5:].sum()\n",
    "eu_other_rating.name = 'Other' \n",
    "# объединим два датафрейма\n",
    "eu_res_rating = pd.concat([eu_top_rating, eu_other_rating.to_frame().T])"
   ]
  },
  {
   "cell_type": "code",
   "execution_count": 46,
   "metadata": {},
   "outputs": [],
   "source": [
    "# создадим сводную таблицу с агрегированными данными продаж по JP региону\n",
    "jp_rating_sales = df_actual_platform.pivot_table(index = 'rating', values = 'jp_sales', aggfunc = 'sum').sort_values('jp_sales', ascending = False)\n",
    "jp_rating_sales['%'] = jp_rating_sales['jp_sales'] / jp_rating_sales['jp_sales'].sum() * 100\n",
    "\n",
    "# выбираем топ-5 продаж в отношении рейтингов ESRB\n",
    "jp_top_rating = jp_rating_sales.head(5)\n",
    "# невошедшее в топ-5 объединим в категорию \"другие\"\n",
    "jp_other_rating = jp_rating_sales.iloc[5:].sum()\n",
    "jp_other_rating.name = 'Other' \n",
    "# объединим два датафрейма\n",
    "jp_res_rating = pd.concat([jp_top_rating, jp_other_rating.to_frame().T])"
   ]
  },
  {
   "cell_type": "code",
   "execution_count": 47,
   "metadata": {},
   "outputs": [
    {
     "data": {
      "image/png": "[encoded data removed]",
      "text/plain": [
       "<Figure size 1008x432 with 3 Axes>"
      ]
     },
     "metadata": {},
     "output_type": "display_data"
    }
   ],
   "source": [
    "# строим круговые диаграммы по каждому региону\n",
    "fig, (ax1, ax2, ax3) = plt.subplots(1, 3, figsize=(14, 6))\n",
    "\n",
    "fig.suptitle('Региональные продажи видеоигр по рейтингу ESRB')\n",
    "ax1.pie(na_res_rating['na_sales'], labels=na_res_rating.index, autopct='%1.0f%%', normalize=True)\n",
    "ax1.set_title('Северная Америка')\n",
    "ax2.pie(eu_res_rating['eu_sales'], labels=eu_res_rating.index, autopct='%1.0f%%', normalize=True)\n",
    "ax2.set_title('Европа')\n",
    "ax3.pie(jp_res_rating['jp_sales'], labels=jp_res_rating.index, autopct='%1.0f%%', normalize=True)\n",
    "ax3.set_title('Япония')\n",
    "\n",
    "plt.show()"
   ]
  },
  {
   "cell_type": "markdown",
   "metadata": {},
   "source": [
    "**Вывод:**\n",
    "\n",
    "На диаграммах можно видеть как продажи распределяются для разных рейтингов ESRB в каждом регионе за актуальный период:\n",
    "- В регионах **Северной Америки** и **Европы** наблюдаются схожие тенденции по распределению продаж для разных рейтингов ESRB. Наибольшая часть продаж приходится на игры, подходящие для детей от 17 лет и старше *M* — *34 % и 35 %* соответственно. Наименьшую долю рынка в обоих регионах занимают игры, подходящие для детей от 10 лет и старше *E10+* — *12 % и 10 %* соответственно.\n",
    "- Очевидным отличием для **Японии**, можно выделить большой процент не маркированных игр. В частности, категории *Unknown — 61 %*, которой мы заполнили пропущенные значения на этапе предобработки данных. Такое распределение вполне объяснимо, ведь система рейтингов ESRB создана в США и Канаде и распространяется на видеоигры производимые в этих странах. Кроме того, как мы выяснили ранее, японский рынок очень регионально ориентирован, пользователи отдают предпчтение видеоиграм локальных производителей, которые, вероятно, не подлежат регламенту ESRB."
   ]
  },
  {
   "cell_type": "markdown",
   "metadata": {},
   "source": [
    "### Шаг 5. Проверка гипотез\n",
    "\n",
    "#### Можно ли сказать, что средние пользовательские рейтинги платформ *Xbox One* и *PC* одинаковые?\n",
    "\n",
    "Проверим гипотезу о том, что средние пользовательские рейтинги платформ *Xbox One* и *PC* одинаковые.\n",
    "\n",
    "- *Нулевая гипотеза:* средние значения рейтинга пользователей платформ *Xbox One* и *PC* равны.\n",
    "- *Альтернативная гипотеза:* средние значения рейтинга пользователей платформ *Xbox One* и *PC* не равны.\n",
    "\n",
    "Исходя из общей гипотезы, выбор двусторонней альтернативной гипотезы, т.е. *не равны* будет разумен. Таким образом можно установить, равны ли средние значения двух выборок или нет при заданном уровне значимости."
   ]
  },
  {
   "cell_type": "code",
   "execution_count": 48,
   "metadata": {},
   "outputs": [
    {
     "name": "stdout",
     "output_type": "stream",
     "text": [
      "Количество наблюдений для PC: 155\n",
      "Количество наблюдений для Xbox One: 182\n"
     ]
    }
   ],
   "source": [
    "# создадим датасеты с выборками для сравнения \n",
    "# учтём условия, что платформа 'XOne' вышла на рынок в 2013 году\n",
    "df_user_score_pc = df[(df['platform'] == 'PC') & (df['user_score'] >= 0) & (df['year_of_release'] >= 2013)]['user_score']\n",
    "df_user_score_xone = df[(df['platform'] == 'XOne') & (df['user_score'] >= 0)]['user_score']\n",
    "\n",
    "# оценим равны ли выборки по размеру между собой\n",
    "print('Количество наблюдений для PC:', df_user_score_pc.shape[0])\n",
    "print('Количество наблюдений для Xbox One:', df_user_score_xone.shape[0])"
   ]
  },
  {
   "cell_type": "markdown",
   "metadata": {},
   "source": [
    "Выборки разного размера и есть некоторые сомнения, что дисперсии у двух генеральных совокупностей одинаковые. Поэтому укажем параметр `equal_var=False`, чтобы тест посчитал дисперсии выборок по отдельности."
   ]
  },
  {
   "cell_type": "code",
   "execution_count": 49,
   "metadata": {
    "scrolled": true
   },
   "outputs": [
    {
     "name": "stdout",
     "output_type": "stream",
     "text": [
      "Среднее значение оценок пользователей PC: 6.27\n",
      "Среднее значение оценок пользователей Xbox One: 6.52\n",
      "p-value: 0.14759594013430463\n",
      "Нет оснований отвергнуть нулевую гипотезу\n"
     ]
    }
   ],
   "source": [
    "# для наглядной оценки выведем среднее значение для обоих датасетов\n",
    "print('Среднее значение оценок пользователей PC:', round(df_user_score_pc.mean(), 2))\n",
    "print('Среднее значение оценок пользователей Xbox One:', round(df_user_score_xone.mean(), 2))\n",
    "\n",
    "# задаём уровень значимости\n",
    "alpha = 0.05\n",
    "\n",
    "# проводим ttest для двух выборок, проверяем двустороннюю альтернативную гипотезу \n",
    "res_user_score_platform = st.ttest_ind(df_user_score_pc, df_user_score_xone, equal_var=False)\n",
    "\n",
    "print(f'p-value: {res_user_score_platform.pvalue}')\n",
    "\n",
    "# проверяем p-value\n",
    "if res_user_score_platform.pvalue < alpha:\n",
    "    print('Отвергаем нулевую гипотезу')\n",
    "else:\n",
    "    print('Нет оснований отвергнуть нулевую гипотезу')"
   ]
  },
  {
   "cell_type": "markdown",
   "metadata": {},
   "source": [
    "**Вывод:**\n",
    "\n",
    "- Результаты теста показывают, что хотя средние оценки пользователей платформ *Xbox One* и *PC* и не одинаковы, с вероятностью почти в 15% такое или больше различие можно получить случайно. Это довольно большая вероятность, чтобы делать вывод о значимом различии между оценками пользователей платформ *Xbox One* и *PC*.\n",
    "- Значение p-value меньше уровня статистической значимости, значит нет оснований отвергнуть нулевую гипотезу о том, что средние пользовательские рейтинги платформ *Xbox One* и *PC* одинаковые."
   ]
  },
  {
   "cell_type": "markdown",
   "metadata": {},
   "source": [
    "#### Можно ли сказать, что средние пользовательские рейтинги жанров *Action* и *Sports* разные?\n",
    "\n",
    "Несмотря на то, что формулировать гипотезы можно различными способами, проверка нулевой гипотезы всегда проводится в точке равенства. Исходя из общей гипотезы, проведём двусторонний тест и проверим двустороннюю альтернативную гипотезу, которая предполагает возможное отклонение и в большую, и в меньшую стороны.\n",
    "\n",
    "- *Нулевая гипотеза:* средние пользовательские рейтинги жанров *Action* и *Sports* равны.\n",
    "- *Альтернативная гипотеза:* средние пользовательские рейтинги жанров *Action* и *Sports* не равны."
   ]
  },
  {
   "cell_type": "code",
   "execution_count": 50,
   "metadata": {},
   "outputs": [
    {
     "name": "stdout",
     "output_type": "stream",
     "text": [
      "Количество наблюдений для Action: 1796\n",
      "Количество наблюдений для Sports: 1080\n"
     ]
    }
   ],
   "source": [
    "# создадим датасеты с выборками для сравнения\n",
    "df_user_score_аction = df[(df['genre'] == 'Action') & (df['user_score'] >= 0)]['user_score']\n",
    "df_user_score_sports = df[(df['genre'] == 'Sports') & (df['user_score'] >= 0)]['user_score']\n",
    "\n",
    "# оценим равны ли выборки по размеру между собой\n",
    "print('Количество наблюдений для Action:', df_user_score_аction.shape[0])\n",
    "print('Количество наблюдений для Sports:', df_user_score_sports.shape[0])"
   ]
  },
  {
   "cell_type": "markdown",
   "metadata": {},
   "source": [
    "Размер выборок различается, есть сомнения, что дисперсии у двух генеральных совокупностей одинаковые. Поэтому укажем параметр `equal_var=False`, для рассчёта дисперсии выборок по отдельности."
   ]
  },
  {
   "cell_type": "code",
   "execution_count": 51,
   "metadata": {
    "scrolled": true
   },
   "outputs": [
    {
     "name": "stdout",
     "output_type": "stream",
     "text": [
      "Среднее значение оценок пользователей для Action: 7.06\n",
      "Среднее значение оценок пользователей для Sports: 6.95\n",
      "Значение p-value: 0.07751671595536254\n",
      "Нет оснований отвергнуть нулевую гипотезу\n"
     ]
    }
   ],
   "source": [
    "# для наглядной оценки выведем среднее значение для обоих датасетов\n",
    "print('Среднее значение оценок пользователей для Action:', round(df_user_score_аction.mean(), 2))\n",
    "print('Среднее значение оценок пользователей для Sports:', round(df_user_score_sports.mean(), 2))\n",
    "\n",
    "# задаём уровень значимости\n",
    "alpha = 0.05\n",
    "\n",
    "# проводим ttest для двух выборок, в качестве альтернативной используем двустороннюю гипотезу\n",
    "res_user_score_genre = st.ttest_ind(df_user_score_аction, df_user_score_sports, equal_var=False)\n",
    "\n",
    "print(f'Значение p-value: {res_user_score_genre.pvalue}')\n",
    "\n",
    "# проверяем p-value\n",
    "if res_user_score_genre.pvalue < alpha:\n",
    "    print('Отвергаем нулевую гипотезу')\n",
    "else:\n",
    "    print('Нет оснований отвергнуть нулевую гипотезу')"
   ]
  },
  {
   "cell_type": "markdown",
   "metadata": {},
   "source": [
    "**Вывод:**\n",
    "\n",
    "- Значение p *(~ 0.077)* превышает установленный для проверки уровень значимости 0.05 (5%). Это предполагает, что наблюдаемый результат с достаточной вероятностью возникнет случайно, если нулевая гипотеза верна.\n",
    "- Следовательно, у нас нет убедительных доказательств отклонения нулевой гипотезы, поэтому есть основания говорить, что средние пользовательские рейтинги жанров *Action* и *Sports* равны."
   ]
  },
  {
   "cell_type": "markdown",
   "metadata": {},
   "source": [
    "### Шаг 6. Общий вывод"
   ]
  },
  {
   "cell_type": "markdown",
   "metadata": {},
   "source": [
    "На архивных данных о продажах игр, оценках пользователей и экспертов, жанрах и популярности игровых платформ было проведено исследование с **целью** выявить определяющие успешность игры закономерности и проверить ряд предположений. Результаты анализа будут учитываться в реализации дальнейших стратегий развития бизнеса, при выборе потенциально популярного продукта и планировании рекламных кампаний.\n",
    "\n",
    "Работа включала предварительный этап и собственно исследование.\n",
    "\n",
    "На **предварительном этапе** мы изучили основные сведения о датафрейме с последующей предобработкой, в частности: определили количество и тип данных в таблице, привели названия столбцов к единому стилю, проверили данные на наличие дубликатов, оценили долю пропущенных значений по каждому столбцу, чтобы предупредить риски возможных потерь, обработали пропуски с применением наиболее оптимальных способов, изменили тип значений в некоторых столбцах, добавили в таблицу новый столбец с нужными значениями для дальнейшего ислледования и убедились, что все данные отображаются корректно.\n",
    "\n",
    "На **этапе иследования** мы провели анализ данных с использованием релевантных методов и подходов, что позволило ответить на ряд исследовательских вопросов.\n",
    "\n",
    "**1) Какие игровые платформы имели наибольшую популярность в плане продаж в разные периоды?** \n",
    "\n",
    "- В период **с 1994 по 1999** год единственным представителем из числа игровых платформ с наибольшими суммарными продажами являлась *PS (PlayStation)*.\n",
    "- *PS2 (PlayStation 2)* наследница *PS* и предшественница *PS3 (PlayStation 3)* зашла на рынок **в 2000** году и начала вытеснять *PS*, сохраняя лидирующие позиции до 2005 года, наряду с появлением других конкурентов *GBA (Game Boy Advance)*. В 2010 суммарные продажи *PS2* достигли своего исторического минимума.\n",
    "- В **2004** *DS (Nintendo DS)* пополнила ряды представителей игровых платформ с наибольшими суммарными продажами. В 2005 потеснила *PS2*, разделив лидерство, и продолжила сохранять свои позиции до 2010 года. В последующие годы суммарные продажи существенно сокращались.\n",
    "- Период с **2006 по 2013** представлен наибольшим разнообразием в плане присутствующих на рынке платформ (с наибольшими суммарными продажами) — *PS2*, *X360*, *PS3*, *Wii*, *DS*, *PSP*, *3DS*. При этом суммарные продажи каждой из перечисленных существенно варьировались. *PS2* в этот период переживала завершающий цикл своего существования. Остальные конкуренты в большинстве своём за этот период прошли цикл от появления до заката.\n",
    "- В целом, **с 2010 по 2016** наблюдается сокращение количества релизов игр. Резкое сокращение выпуска видеоигр отмечается в 2012 году. Возможно ослабление интереса в этой области связано с развитием новой забавы, такой как сматрфон с разнообразием встроенных функций и приложений. В этой связи, прежде широкая аудитория потребителей видеоигр сократилась до истинных ценителей и заядлых геймеров.\n",
    "\n",
    "**2) За какой характерный срок появляются новые и исчезают старые платформы?** \n",
    "\n",
    "В общем плане, характерный срок появления новых и исчезновения старых платформ составляет примерно 10 лет, из которых на актуальный период (основная популярность и продажи) приходится примерно пять лет.\n",
    "\n",
    "**3) Какие платформы лидируют по продажам, растут или падают?**\n",
    "\n",
    "На основании срока характеризующего примерный жизненный цикл игровых платформ и их актуальность, был рассмотрен период с 2014 по 2016 год. Отмечены следующие тенденции:\n",
    "\n",
    "- *Sony PlayStation 4 (PS4)* — лидер, сменивший предшественницу *PS3*, которая в свою очередь, вторая по продажам за указанный период.\n",
    "- *Microsoft Xbox One (XOne)* — занимает второе место и также набирает популярность.\n",
    "- *3DS* — продажи хотя и снижаются, но в целом с объёмом около 15-20 млн. копий платформа приносит прибыль.\n",
    "- *PS3*, *X360*, *WiiU* и *PC* в отличие от упомянытых выше платформ постепенно уходят, оставляя лидирующие позиции.\n",
    "\n",
    "В общем плане продаж:\n",
    "\n",
    "- К платформам с большей **изменчивостью общего объема продаж** можно отнести *Wii*, *PS4*, *XOne*, *WiiU* и *X360*.\n",
    "- Более более высокие **медианные продажи** имеют платформы *XOne*, *PS4* и *Wii*, более низкие — у *PS3*, *3DS* и *PC*.\n",
    "- Довольно широкий **диапазон общих продаж** охватывают *PS4* — до 155, *XOne* — до 150, и *WiiU* — до 130 миллионов проданных копий. В то время как *PC* не выходят за пределы 50 миллионов проданных копий. Платформы *PSV* и *PSP* находятся в позиции явных отстающих по сравнению с конкурентами.\n",
    "- Выбросов, которые указывали бы на экстремально низкие продажи за анализируемый период, не обнаружено. При этом практически у всех платформ были явные хиты продаж.\n",
    "\n",
    "**4) Как влияют отзывы пользователей и критиков на продажи внутри одной популярной платформы?**\n",
    "\n",
    "- Более высокие **оценки критиков** связаны с более высоким общим объёмом продаж *(на примере PS4)*. Значение *0.402* указывает на умеренную положительную корреляцию, то есть взаимосвязь не очень сильная, но все же значимая.\n",
    "- Значение *-0.043* указывает на очень слабую отрицательную корреляцию и близко к нулю. Это означает, что для этого набора данных **оценки пользователей** не позволяют точно предсказать изменения общего объёма продаж.\n",
    "\n",
    "**5) Выделяются ли жанры с высокими и низкими продажами?**\n",
    "\n",
    "- Наиболее высокие продажи видеоигр отмечаются по таким жанрам как *Action*, *Sports* и *Shooter*, их продажи насчитывают более 1000 миллионов копий. \n",
    "- Жанры *Strategy*, *Adventure*, и *Puzzle* составляют тройку наименее прибыльных среди других жанров видеоигр, их продажи насчитывают до 250 миллионов копий.\n",
    "\n",
    "**6) Какими особенностями представлен портрет пользователей игровых платформ из Северной Америки, Европы и Японии?**\n",
    "\n",
    "*Региональные различия в долях продаж игровых платформ по оценке пяти самых популярных:*\n",
    "\n",
    "- В **Северной Америке** бо́льшую часть рынка занимают *PS4 (35 %)* и *XOne (29 %)*. На долю *X360* приходится *10 %*. Менее всего представлены *3DS* и *PS3*.\n",
    "- Около половины рынка **Европы** занимает *PS4 (48 %)*. На втором месте *XOne (17 %)*. Наименьшие доли занимают *PC (7 %)* и *3DS (6 %)*.\n",
    "- **Япония**, в отличии от двух предыдущих регионов, своим фаворитом выделяет *3DS*, на долю которого приходится *48 %* рынка. По *16 %* занимают *PS4* и *PSV*. Наименьшая доля у *WiiU (8 %)*.\n",
    "\n",
    "*Региональные различия в долях продаж жанров видеоигр по оценке пяти самых популярных:*\n",
    "\n",
    "- Бо́льшая доля рынка **Северной Америки** распределена между таким жанрам как *Shooter (28 %)* и *Action (26 %)*. Игры в жанре *Sports* занимают *16 %*. К наименее популярным среди топ-5 можно отнести *Role-Playing (11 %)* и *Misc (5 %)*.\n",
    "- В плане жанровых предпочтений рынок **Европы** очень похож на рынок Северной Америки.\n",
    "- **Япония**, в отличии от двух предыдущих регионов, своим жанровым фаворитом предпочитает *Role-Playing (33 %)* и *Action (32 %)*. Среди топ-5 жанров, *Shooter* представляет наименьший интерес у японских пользователей — всего *5 %* рынка, что опять же сильно отличает японский регион от двух предыдущих.\n",
    "\n",
    "Вместе с тем, высокое предпочтение жанра *Action* объединят пользователей всех трёх регионов.\n",
    "\n",
    "*Распределение продаж для разных рейтингов ESRB в каждом регионе:*\n",
    "\n",
    "- В регионах **Северной Америки** и **Европы** наблюдаются схожие тенденции по распределению продаж для разных рейтингов ESRB. Наибольшая часть продаж приходится на игры, подходящие для детей от 17 лет и старше *M* — *34 % и 35 %* соответственно. Наименьшую долю рынка в обоих регионах занимают игры, подходящие для детей от 10 лет и старше *E10+* — *12 % и 10 %* соответственно.\n",
    "- Очевидным отличием для **Японии**, можно выделить большой процент не маркированных игр. В частности, категории *Unknown — 61 %*, которой мы заполнили пропущенные значения на этапе предобработки данных. Такое распределение вполне объяснимо, ведь система рейтингов ESRB создана в США и Канаде и распространяется на видеоигры производимые в этих странах. Кроме того, как мы выяснили ранее, японский рынок очень регионально ориентирован, пользователи отдают предпчтение видеоиграм локальных производителей, которые, вероятно, не подлежат регламенту ESRB.\n",
    "\n",
    "**7) Можно ли сказать, что средние пользовательские рейтинги платформ *Xbox One* и *PC* одинаковые?**\n",
    "\n",
    "Результаты статистической проверки не дают основания отвергнуть это предположение. По всей видимости, средние пользовательские рейтинги платформ *Xbox One* и *PC* находятся в равных пределах.\n",
    "\n",
    "**8) Можно ли сказать, что средние пользовательские рейтинги жанров *Action* и *Sports* разные?**\n",
    "\n",
    "Согласно данным, есть основания говорить, что средние пользовательские рейтинги жанров *Action* и *Sports* равны.\n",
    "\n",
    "По результатам проведенного исследования можно заключить, что понимание выявленных деталей и закономерностей является крайне важным при выборе потенциально популярного продукта и планировании рекламных кампаний бизнеса."
   ]
  }
 ],
 "metadata": {
  "ExecuteTimeLog": [
   {
    "duration": 1310,
    "start_time": "2023-10-16T22:57:45.862Z"
   },
   {
    "duration": 4,
    "start_time": "2023-10-16T22:57:48.553Z"
   },
   {
    "duration": 158,
    "start_time": "2023-10-16T23:04:44.232Z"
   },
   {
    "duration": 390,
    "start_time": "2023-10-16T23:23:48.892Z"
   },
   {
    "duration": 92,
    "start_time": "2023-10-16T23:45:54.889Z"
   },
   {
    "duration": 3,
    "start_time": "2023-10-16T23:46:16.928Z"
   },
   {
    "duration": 2,
    "start_time": "2023-10-16T23:46:17.604Z"
   },
   {
    "duration": 167,
    "start_time": "2023-10-16T23:46:18.924Z"
   },
   {
    "duration": 32,
    "start_time": "2023-10-16T23:46:20.357Z"
   },
   {
    "duration": 4,
    "start_time": "2023-10-17T00:09:27.386Z"
   },
   {
    "duration": 5,
    "start_time": "2023-10-17T00:13:25.261Z"
   },
   {
    "duration": 5,
    "start_time": "2023-10-17T00:13:45.618Z"
   },
   {
    "duration": 21,
    "start_time": "2023-10-17T00:20:24.548Z"
   },
   {
    "duration": 11,
    "start_time": "2023-10-17T00:27:36.802Z"
   },
   {
    "duration": 13,
    "start_time": "2023-10-17T00:51:40.489Z"
   },
   {
    "duration": 16,
    "start_time": "2023-10-17T00:58:09.568Z"
   },
   {
    "duration": 13,
    "start_time": "2023-10-17T01:22:12.920Z"
   },
   {
    "duration": 8,
    "start_time": "2023-10-17T01:35:54.031Z"
   },
   {
    "duration": 23,
    "start_time": "2023-10-17T01:36:48.975Z"
   },
   {
    "duration": 3,
    "start_time": "2023-10-17T01:41:02.578Z"
   },
   {
    "duration": 31,
    "start_time": "2023-10-17T01:41:03.446Z"
   },
   {
    "duration": 8,
    "start_time": "2023-10-17T01:41:04.130Z"
   },
   {
    "duration": 3,
    "start_time": "2023-10-17T01:51:24.041Z"
   },
   {
    "duration": 3,
    "start_time": "2023-10-17T01:51:24.698Z"
   },
   {
    "duration": 154,
    "start_time": "2023-10-17T01:51:25.949Z"
   },
   {
    "duration": 30,
    "start_time": "2023-10-17T01:51:27.236Z"
   },
   {
    "duration": 5,
    "start_time": "2023-10-17T01:51:30.173Z"
   },
   {
    "duration": 15,
    "start_time": "2023-10-17T01:51:30.571Z"
   },
   {
    "duration": 10,
    "start_time": "2023-10-17T01:51:31.583Z"
   },
   {
    "duration": 15,
    "start_time": "2023-10-17T01:51:33.358Z"
   },
   {
    "duration": 17,
    "start_time": "2023-10-17T01:51:35.056Z"
   },
   {
    "duration": 7,
    "start_time": "2023-10-17T01:51:36.765Z"
   },
   {
    "duration": 20,
    "start_time": "2023-10-17T01:51:37.890Z"
   },
   {
    "duration": 3,
    "start_time": "2023-10-17T01:51:39.525Z"
   },
   {
    "duration": 5,
    "start_time": "2023-10-17T01:51:41.474Z"
   },
   {
    "duration": 3,
    "start_time": "2023-10-17T01:51:44.538Z"
   },
   {
    "duration": 3,
    "start_time": "2023-10-17T01:51:45.777Z"
   },
   {
    "duration": 4,
    "start_time": "2023-10-17T01:51:46.546Z"
   },
   {
    "duration": 8,
    "start_time": "2023-10-17T02:19:18.645Z"
   },
   {
    "duration": 20,
    "start_time": "2023-10-17T02:19:20.214Z"
   },
   {
    "duration": 7,
    "start_time": "2023-10-17T02:24:44.976Z"
   },
   {
    "duration": 9,
    "start_time": "2023-10-17T02:25:03.989Z"
   },
   {
    "duration": 3,
    "start_time": "2023-10-17T02:26:00.557Z"
   },
   {
    "duration": 2,
    "start_time": "2023-10-17T02:26:01.086Z"
   },
   {
    "duration": 125,
    "start_time": "2023-10-17T02:26:02.072Z"
   },
   {
    "duration": 42,
    "start_time": "2023-10-17T02:26:03.091Z"
   },
   {
    "duration": 6,
    "start_time": "2023-10-17T02:26:05.183Z"
   },
   {
    "duration": 25,
    "start_time": "2023-10-17T02:26:05.745Z"
   },
   {
    "duration": 15,
    "start_time": "2023-10-17T02:26:06.272Z"
   },
   {
    "duration": 22,
    "start_time": "2023-10-17T02:26:07.386Z"
   },
   {
    "duration": 15,
    "start_time": "2023-10-17T02:26:08.609Z"
   },
   {
    "duration": 9,
    "start_time": "2023-10-17T02:26:09.772Z"
   },
   {
    "duration": 22,
    "start_time": "2023-10-17T02:26:10.430Z"
   },
   {
    "duration": 8,
    "start_time": "2023-10-17T02:26:13.572Z"
   },
   {
    "duration": 5,
    "start_time": "2023-10-17T02:36:35.056Z"
   },
   {
    "duration": 5,
    "start_time": "2023-10-17T02:40:48.888Z"
   },
   {
    "duration": 4,
    "start_time": "2023-10-17T03:10:12.265Z"
   },
   {
    "duration": 5,
    "start_time": "2023-10-17T03:10:54.253Z"
   },
   {
    "duration": 7,
    "start_time": "2023-10-17T03:29:56.657Z"
   },
   {
    "duration": 1343,
    "start_time": "2023-10-17T18:50:28.451Z"
   },
   {
    "duration": 3,
    "start_time": "2023-10-17T18:50:29.796Z"
   },
   {
    "duration": 123,
    "start_time": "2023-10-17T18:50:30.861Z"
   },
   {
    "duration": 34,
    "start_time": "2023-10-17T18:50:31.983Z"
   },
   {
    "duration": 7,
    "start_time": "2023-10-17T18:50:34.534Z"
   },
   {
    "duration": 21,
    "start_time": "2023-10-17T18:50:35.157Z"
   },
   {
    "duration": 11,
    "start_time": "2023-10-17T18:50:35.744Z"
   },
   {
    "duration": 14,
    "start_time": "2023-10-17T18:50:37.446Z"
   },
   {
    "duration": 13,
    "start_time": "2023-10-17T18:50:38.794Z"
   },
   {
    "duration": 7,
    "start_time": "2023-10-17T18:50:40.169Z"
   },
   {
    "duration": 20,
    "start_time": "2023-10-17T18:50:40.769Z"
   },
   {
    "duration": 7,
    "start_time": "2023-10-17T18:50:42.441Z"
   },
   {
    "duration": 8,
    "start_time": "2023-10-17T18:50:43.035Z"
   },
   {
    "duration": 4,
    "start_time": "2023-10-17T18:50:44.879Z"
   },
   {
    "duration": 5,
    "start_time": "2023-10-17T18:50:45.805Z"
   },
   {
    "duration": 8,
    "start_time": "2023-10-17T18:50:49.635Z"
   },
   {
    "duration": 5,
    "start_time": "2023-10-17T18:55:15.395Z"
   },
   {
    "duration": 9,
    "start_time": "2023-10-17T19:08:51.355Z"
   },
   {
    "duration": 5,
    "start_time": "2023-10-17T19:10:13.191Z"
   },
   {
    "duration": 14,
    "start_time": "2023-10-17T19:10:16.281Z"
   },
   {
    "duration": 15,
    "start_time": "2023-10-17T19:15:42.301Z"
   },
   {
    "duration": 4,
    "start_time": "2023-10-17T20:21:52.901Z"
   },
   {
    "duration": 3,
    "start_time": "2023-10-17T20:21:53.456Z"
   },
   {
    "duration": 167,
    "start_time": "2023-10-17T20:21:54.645Z"
   },
   {
    "duration": 35,
    "start_time": "2023-10-17T20:21:55.738Z"
   },
   {
    "duration": 4,
    "start_time": "2023-10-17T20:21:58.006Z"
   },
   {
    "duration": 102,
    "start_time": "2023-10-17T20:21:59.125Z"
   },
   {
    "duration": 368,
    "start_time": "2023-10-17T20:21:59.696Z"
   },
   {
    "duration": 22,
    "start_time": "2023-10-17T20:22:00.335Z"
   },
   {
    "duration": 10,
    "start_time": "2023-10-17T20:22:01.231Z"
   },
   {
    "duration": 17,
    "start_time": "2023-10-17T20:22:02.773Z"
   },
   {
    "duration": 13,
    "start_time": "2023-10-17T20:22:04.452Z"
   },
   {
    "duration": 7,
    "start_time": "2023-10-17T20:22:05.730Z"
   },
   {
    "duration": 20,
    "start_time": "2023-10-17T20:22:06.996Z"
   },
   {
    "duration": 6,
    "start_time": "2023-10-17T20:22:11.794Z"
   },
   {
    "duration": 5,
    "start_time": "2023-10-17T20:22:12.526Z"
   },
   {
    "duration": 3,
    "start_time": "2023-10-17T20:22:15.040Z"
   },
   {
    "duration": 7,
    "start_time": "2023-10-17T20:22:16.023Z"
   },
   {
    "duration": 5,
    "start_time": "2023-10-17T20:22:18.486Z"
   },
   {
    "duration": 5,
    "start_time": "2023-10-17T20:22:19.229Z"
   },
   {
    "duration": 4,
    "start_time": "2023-10-17T20:22:21.769Z"
   },
   {
    "duration": 9,
    "start_time": "2023-10-17T20:22:22.626Z"
   },
   {
    "duration": 34,
    "start_time": "2023-10-17T20:22:30.630Z"
   },
   {
    "duration": 3,
    "start_time": "2023-10-17T20:27:12.351Z"
   },
   {
    "duration": 2,
    "start_time": "2023-10-17T20:27:12.906Z"
   },
   {
    "duration": 117,
    "start_time": "2023-10-17T20:27:14.054Z"
   },
   {
    "duration": 28,
    "start_time": "2023-10-17T20:27:15.155Z"
   },
   {
    "duration": 5,
    "start_time": "2023-10-17T20:27:18.582Z"
   },
   {
    "duration": 17,
    "start_time": "2023-10-17T20:27:19.572Z"
   },
   {
    "duration": 11,
    "start_time": "2023-10-17T20:27:20.272Z"
   },
   {
    "duration": 14,
    "start_time": "2023-10-17T20:27:21.864Z"
   },
   {
    "duration": 14,
    "start_time": "2023-10-17T20:27:23.789Z"
   },
   {
    "duration": 8,
    "start_time": "2023-10-17T20:27:41.628Z"
   },
   {
    "duration": 20,
    "start_time": "2023-10-17T20:27:42.509Z"
   },
   {
    "duration": 8,
    "start_time": "2023-10-17T20:27:49.924Z"
   },
   {
    "duration": 6,
    "start_time": "2023-10-17T20:27:50.969Z"
   },
   {
    "duration": 4,
    "start_time": "2023-10-17T20:27:53.121Z"
   },
   {
    "duration": 5,
    "start_time": "2023-10-17T20:28:03.798Z"
   },
   {
    "duration": 6,
    "start_time": "2023-10-17T20:28:11.352Z"
   },
   {
    "duration": 5,
    "start_time": "2023-10-17T20:28:12.247Z"
   },
   {
    "duration": 4,
    "start_time": "2023-10-17T20:28:35.449Z"
   },
   {
    "duration": 10,
    "start_time": "2023-10-17T20:28:36.271Z"
   },
   {
    "duration": 6,
    "start_time": "2023-10-17T20:28:39.864Z"
   },
   {
    "duration": 838,
    "start_time": "2023-10-17T20:28:40.872Z"
   },
   {
    "duration": 35,
    "start_time": "2023-10-17T20:28:45.891Z"
   },
   {
    "duration": 3,
    "start_time": "2023-10-17T20:31:44.555Z"
   },
   {
    "duration": 3,
    "start_time": "2023-10-17T20:31:45.132Z"
   },
   {
    "duration": 106,
    "start_time": "2023-10-17T20:31:46.326Z"
   },
   {
    "duration": 27,
    "start_time": "2023-10-17T20:31:47.524Z"
   },
   {
    "duration": 5,
    "start_time": "2023-10-17T20:31:49.877Z"
   },
   {
    "duration": 15,
    "start_time": "2023-10-17T20:31:50.446Z"
   },
   {
    "duration": 9,
    "start_time": "2023-10-17T20:31:51.052Z"
   },
   {
    "duration": 14,
    "start_time": "2023-10-17T20:31:52.287Z"
   },
   {
    "duration": 14,
    "start_time": "2023-10-17T20:31:53.558Z"
   },
   {
    "duration": 6,
    "start_time": "2023-10-17T20:31:54.776Z"
   },
   {
    "duration": 20,
    "start_time": "2023-10-17T20:31:55.374Z"
   },
   {
    "duration": 6,
    "start_time": "2023-10-17T20:31:56.656Z"
   },
   {
    "duration": 5,
    "start_time": "2023-10-17T20:31:57.750Z"
   },
   {
    "duration": 3,
    "start_time": "2023-10-17T20:31:58.534Z"
   },
   {
    "duration": 5,
    "start_time": "2023-10-17T20:31:59.159Z"
   },
   {
    "duration": 8,
    "start_time": "2023-10-17T20:32:00.379Z"
   },
   {
    "duration": 5,
    "start_time": "2023-10-17T20:32:01.000Z"
   },
   {
    "duration": 4,
    "start_time": "2023-10-17T20:32:02.240Z"
   },
   {
    "duration": 9,
    "start_time": "2023-10-17T20:32:02.834Z"
   },
   {
    "duration": 5,
    "start_time": "2023-10-17T20:32:04.706Z"
   },
   {
    "duration": 5,
    "start_time": "2023-10-17T20:32:05.863Z"
   },
   {
    "duration": 26,
    "start_time": "2023-10-17T20:32:08.992Z"
   },
   {
    "duration": 3,
    "start_time": "2023-10-17T20:33:59.349Z"
   },
   {
    "duration": 2,
    "start_time": "2023-10-17T20:34:00.189Z"
   },
   {
    "duration": 129,
    "start_time": "2023-10-17T20:34:01.642Z"
   },
   {
    "duration": 25,
    "start_time": "2023-10-17T20:34:04.070Z"
   },
   {
    "duration": 5,
    "start_time": "2023-10-17T20:34:51.915Z"
   },
   {
    "duration": 13,
    "start_time": "2023-10-17T20:35:07.927Z"
   },
   {
    "duration": 3,
    "start_time": "2023-10-17T20:35:34.007Z"
   },
   {
    "duration": 3,
    "start_time": "2023-10-17T20:35:34.663Z"
   },
   {
    "duration": 95,
    "start_time": "2023-10-17T20:35:36.347Z"
   },
   {
    "duration": 33,
    "start_time": "2023-10-17T20:35:38.087Z"
   },
   {
    "duration": 5,
    "start_time": "2023-10-17T20:35:46.217Z"
   },
   {
    "duration": 15,
    "start_time": "2023-10-17T20:35:50.972Z"
   },
   {
    "duration": 9,
    "start_time": "2023-10-17T20:35:51.962Z"
   },
   {
    "duration": 16,
    "start_time": "2023-10-17T20:35:57.520Z"
   },
   {
    "duration": 13,
    "start_time": "2023-10-17T20:35:59.802Z"
   },
   {
    "duration": 7,
    "start_time": "2023-10-17T20:36:01.672Z"
   },
   {
    "duration": 21,
    "start_time": "2023-10-17T20:36:02.525Z"
   },
   {
    "duration": 6,
    "start_time": "2023-10-17T20:36:05.177Z"
   },
   {
    "duration": 7,
    "start_time": "2023-10-17T20:36:05.840Z"
   },
   {
    "duration": 3,
    "start_time": "2023-10-17T20:36:07.280Z"
   },
   {
    "duration": 5,
    "start_time": "2023-10-17T20:36:07.973Z"
   },
   {
    "duration": 6,
    "start_time": "2023-10-17T20:36:12.581Z"
   },
   {
    "duration": 5,
    "start_time": "2023-10-17T20:36:13.205Z"
   },
   {
    "duration": 4,
    "start_time": "2023-10-17T20:36:14.837Z"
   },
   {
    "duration": 9,
    "start_time": "2023-10-17T20:36:15.578Z"
   },
   {
    "duration": 6,
    "start_time": "2023-10-17T20:41:34.390Z"
   },
   {
    "duration": 4,
    "start_time": "2023-10-17T20:41:35.160Z"
   },
   {
    "duration": 28,
    "start_time": "2023-10-17T20:41:36.773Z"
   },
   {
    "duration": 1194,
    "start_time": "2023-10-17T22:25:42.750Z"
   },
   {
    "duration": 3,
    "start_time": "2023-10-17T22:25:43.945Z"
   },
   {
    "duration": 151,
    "start_time": "2023-10-17T22:25:53.626Z"
   },
   {
    "duration": 28,
    "start_time": "2023-10-17T22:25:58.700Z"
   },
   {
    "duration": 5,
    "start_time": "2023-10-17T22:26:13.706Z"
   },
   {
    "duration": 13,
    "start_time": "2023-10-17T22:26:21.386Z"
   },
   {
    "duration": 10,
    "start_time": "2023-10-17T22:26:29.436Z"
   },
   {
    "duration": 11,
    "start_time": "2023-10-17T22:26:42.183Z"
   },
   {
    "duration": 12,
    "start_time": "2023-10-17T22:26:54.918Z"
   },
   {
    "duration": 6,
    "start_time": "2023-10-17T22:27:10.583Z"
   },
   {
    "duration": 17,
    "start_time": "2023-10-17T22:27:15.132Z"
   },
   {
    "duration": 6,
    "start_time": "2023-10-17T22:28:10.079Z"
   },
   {
    "duration": 4,
    "start_time": "2023-10-17T22:28:11.484Z"
   },
   {
    "duration": 3,
    "start_time": "2023-10-17T22:29:30.711Z"
   },
   {
    "duration": 5,
    "start_time": "2023-10-17T22:29:31.286Z"
   },
   {
    "duration": 4,
    "start_time": "2023-10-17T22:31:42.104Z"
   },
   {
    "duration": 7,
    "start_time": "2023-10-17T22:31:42.936Z"
   },
   {
    "duration": 7,
    "start_time": "2023-10-17T22:31:51.752Z"
   },
   {
    "duration": 5,
    "start_time": "2023-10-17T22:31:52.906Z"
   },
   {
    "duration": 5,
    "start_time": "2023-10-17T22:31:53.435Z"
   },
   {
    "duration": 2,
    "start_time": "2023-10-17T22:31:54.599Z"
   },
   {
    "duration": 5,
    "start_time": "2023-10-17T22:31:55.151Z"
   },
   {
    "duration": 6,
    "start_time": "2023-10-17T22:31:56.719Z"
   },
   {
    "duration": 5,
    "start_time": "2023-10-17T22:31:57.317Z"
   },
   {
    "duration": 4,
    "start_time": "2023-10-17T22:31:58.860Z"
   },
   {
    "duration": 7,
    "start_time": "2023-10-17T22:32:01.356Z"
   },
   {
    "duration": 6,
    "start_time": "2023-10-17T22:33:46.357Z"
   },
   {
    "duration": 3,
    "start_time": "2023-10-17T22:33:47.302Z"
   },
   {
    "duration": 24,
    "start_time": "2023-10-17T22:33:52.185Z"
   },
   {
    "duration": 3,
    "start_time": "2023-10-17T22:38:20.842Z"
   },
   {
    "duration": 2,
    "start_time": "2023-10-17T22:38:21.417Z"
   },
   {
    "duration": 140,
    "start_time": "2023-10-17T22:38:22.562Z"
   },
   {
    "duration": 28,
    "start_time": "2023-10-17T22:38:23.579Z"
   },
   {
    "duration": 4,
    "start_time": "2023-10-17T22:38:25.652Z"
   },
   {
    "duration": 13,
    "start_time": "2023-10-17T22:38:26.171Z"
   },
   {
    "duration": 7,
    "start_time": "2023-10-17T22:38:26.720Z"
   },
   {
    "duration": 12,
    "start_time": "2023-10-17T22:39:18.429Z"
   },
   {
    "duration": 11,
    "start_time": "2023-10-17T22:39:19.784Z"
   },
   {
    "duration": 6,
    "start_time": "2023-10-17T22:39:21.061Z"
   },
   {
    "duration": 18,
    "start_time": "2023-10-17T22:39:21.674Z"
   },
   {
    "duration": 5,
    "start_time": "2023-10-17T22:39:22.828Z"
   },
   {
    "duration": 4,
    "start_time": "2023-10-17T22:39:23.373Z"
   },
   {
    "duration": 2,
    "start_time": "2023-10-17T22:39:24.743Z"
   },
   {
    "duration": 4,
    "start_time": "2023-10-17T22:39:25.341Z"
   },
   {
    "duration": 6,
    "start_time": "2023-10-17T22:39:26.495Z"
   },
   {
    "duration": 4,
    "start_time": "2023-10-17T22:39:27.203Z"
   },
   {
    "duration": 4,
    "start_time": "2023-10-17T22:39:28.846Z"
   },
   {
    "duration": 7,
    "start_time": "2023-10-17T22:39:29.395Z"
   },
   {
    "duration": 5,
    "start_time": "2023-10-17T22:39:30.649Z"
   },
   {
    "duration": 4,
    "start_time": "2023-10-17T22:39:31.224Z"
   },
   {
    "duration": 23,
    "start_time": "2023-10-17T22:39:31.804Z"
   },
   {
    "duration": 5,
    "start_time": "2023-10-17T22:54:19.776Z"
   },
   {
    "duration": 7,
    "start_time": "2023-10-17T22:54:29.874Z"
   },
   {
    "duration": 4,
    "start_time": "2023-10-17T22:57:32.218Z"
   },
   {
    "duration": 38,
    "start_time": "2023-10-17T22:59:48.082Z"
   },
   {
    "duration": 164,
    "start_time": "2023-10-17T23:47:34.435Z"
   },
   {
    "duration": 1338,
    "start_time": "2023-10-18T01:15:46.076Z"
   },
   {
    "duration": 3,
    "start_time": "2023-10-18T01:15:47.416Z"
   },
   {
    "duration": 148,
    "start_time": "2023-10-18T01:15:47.533Z"
   },
   {
    "duration": 35,
    "start_time": "2023-10-18T01:15:48.428Z"
   },
   {
    "duration": 5,
    "start_time": "2023-10-18T01:15:50.437Z"
   },
   {
    "duration": 16,
    "start_time": "2023-10-18T01:15:50.974Z"
   },
   {
    "duration": 10,
    "start_time": "2023-10-18T01:15:51.490Z"
   },
   {
    "duration": 15,
    "start_time": "2023-10-18T01:15:52.578Z"
   },
   {
    "duration": 14,
    "start_time": "2023-10-18T01:15:53.689Z"
   },
   {
    "duration": 8,
    "start_time": "2023-10-18T01:15:54.841Z"
   },
   {
    "duration": 22,
    "start_time": "2023-10-18T01:15:55.477Z"
   },
   {
    "duration": 8,
    "start_time": "2023-10-18T01:15:56.845Z"
   },
   {
    "duration": 6,
    "start_time": "2023-10-18T01:15:57.445Z"
   },
   {
    "duration": 3,
    "start_time": "2023-10-18T01:15:58.727Z"
   },
   {
    "duration": 5,
    "start_time": "2023-10-18T01:15:59.392Z"
   },
   {
    "duration": 7,
    "start_time": "2023-10-18T01:16:00.885Z"
   },
   {
    "duration": 8,
    "start_time": "2023-10-18T01:16:01.472Z"
   },
   {
    "duration": 5,
    "start_time": "2023-10-18T01:16:02.659Z"
   },
   {
    "duration": 10,
    "start_time": "2023-10-18T01:16:03.204Z"
   },
   {
    "duration": 7,
    "start_time": "2023-10-18T01:16:04.512Z"
   },
   {
    "duration": 4,
    "start_time": "2023-10-18T01:16:05.971Z"
   },
   {
    "duration": 7,
    "start_time": "2023-10-18T01:16:07.349Z"
   },
   {
    "duration": 29,
    "start_time": "2023-10-18T01:16:07.898Z"
   },
   {
    "duration": 178,
    "start_time": "2023-10-18T01:17:47.774Z"
   },
   {
    "duration": 194,
    "start_time": "2023-10-18T01:21:57.960Z"
   },
   {
    "duration": 108,
    "start_time": "2023-10-18T01:26:11.721Z"
   },
   {
    "duration": 425,
    "start_time": "2023-10-18T01:26:36.716Z"
   },
   {
    "duration": 338,
    "start_time": "2023-10-18T01:27:06.903Z"
   },
   {
    "duration": 1400,
    "start_time": "2023-10-18T15:27:04.466Z"
   },
   {
    "duration": 3,
    "start_time": "2023-10-18T15:27:05.868Z"
   },
   {
    "duration": 96,
    "start_time": "2023-10-18T15:27:06.232Z"
   },
   {
    "duration": 38,
    "start_time": "2023-10-18T15:27:07.326Z"
   },
   {
    "duration": 6,
    "start_time": "2023-10-18T15:27:09.564Z"
   },
   {
    "duration": 17,
    "start_time": "2023-10-18T15:27:10.109Z"
   },
   {
    "duration": 10,
    "start_time": "2023-10-18T15:27:10.705Z"
   },
   {
    "duration": 17,
    "start_time": "2023-10-18T15:27:11.910Z"
   },
   {
    "duration": 16,
    "start_time": "2023-10-18T15:27:13.060Z"
   },
   {
    "duration": 8,
    "start_time": "2023-10-18T15:27:14.396Z"
   },
   {
    "duration": 26,
    "start_time": "2023-10-18T15:27:14.983Z"
   },
   {
    "duration": 9,
    "start_time": "2023-10-18T15:27:16.129Z"
   },
   {
    "duration": 6,
    "start_time": "2023-10-18T15:27:16.723Z"
   },
   {
    "duration": 4,
    "start_time": "2023-10-18T15:27:17.788Z"
   },
   {
    "duration": 6,
    "start_time": "2023-10-18T15:27:18.389Z"
   },
   {
    "duration": 7,
    "start_time": "2023-10-18T15:27:19.668Z"
   },
   {
    "duration": 5,
    "start_time": "2023-10-18T15:27:20.233Z"
   },
   {
    "duration": 5,
    "start_time": "2023-10-18T15:27:21.395Z"
   },
   {
    "duration": 11,
    "start_time": "2023-10-18T15:27:21.966Z"
   },
   {
    "duration": 7,
    "start_time": "2023-10-18T15:27:23.087Z"
   },
   {
    "duration": 5,
    "start_time": "2023-10-18T15:27:23.646Z"
   },
   {
    "duration": 7,
    "start_time": "2023-10-18T15:27:25.619Z"
   },
   {
    "duration": 33,
    "start_time": "2023-10-18T15:27:26.210Z"
   },
   {
    "duration": 451,
    "start_time": "2023-10-18T15:27:29.237Z"
   },
   {
    "duration": 375,
    "start_time": "2023-10-18T15:29:01.468Z"
   },
   {
    "duration": 10,
    "start_time": "2023-10-18T15:55:30.268Z"
   },
   {
    "duration": 291,
    "start_time": "2023-10-18T15:55:31.049Z"
   },
   {
    "duration": 3,
    "start_time": "2023-10-18T16:02:53.269Z"
   },
   {
    "duration": 3,
    "start_time": "2023-10-18T16:02:53.853Z"
   },
   {
    "duration": 93,
    "start_time": "2023-10-18T16:02:54.992Z"
   },
   {
    "duration": 30,
    "start_time": "2023-10-18T16:02:56.165Z"
   },
   {
    "duration": 6,
    "start_time": "2023-10-18T16:02:58.384Z"
   },
   {
    "duration": 24,
    "start_time": "2023-10-18T16:02:58.929Z"
   },
   {
    "duration": 11,
    "start_time": "2023-10-18T16:02:59.455Z"
   },
   {
    "duration": 15,
    "start_time": "2023-10-18T16:03:00.943Z"
   },
   {
    "duration": 16,
    "start_time": "2023-10-18T16:03:02.186Z"
   },
   {
    "duration": 9,
    "start_time": "2023-10-18T16:03:03.584Z"
   },
   {
    "duration": 23,
    "start_time": "2023-10-18T16:03:04.238Z"
   },
   {
    "duration": 8,
    "start_time": "2023-10-18T16:03:05.731Z"
   },
   {
    "duration": 6,
    "start_time": "2023-10-18T16:03:06.456Z"
   },
   {
    "duration": 4,
    "start_time": "2023-10-18T16:03:08.070Z"
   },
   {
    "duration": 10,
    "start_time": "2023-10-18T16:03:08.799Z"
   },
   {
    "duration": 6,
    "start_time": "2023-10-18T16:03:10.122Z"
   },
   {
    "duration": 5,
    "start_time": "2023-10-18T16:03:10.780Z"
   },
   {
    "duration": 5,
    "start_time": "2023-10-18T16:03:12.042Z"
   },
   {
    "duration": 11,
    "start_time": "2023-10-18T16:03:12.838Z"
   },
   {
    "duration": 7,
    "start_time": "2023-10-18T16:03:14.390Z"
   },
   {
    "duration": 4,
    "start_time": "2023-10-18T16:03:15.126Z"
   },
   {
    "duration": 7,
    "start_time": "2023-10-18T16:03:16.458Z"
   },
   {
    "duration": 31,
    "start_time": "2023-10-18T16:03:17.080Z"
   },
   {
    "duration": 373,
    "start_time": "2023-10-18T16:03:20.874Z"
   },
   {
    "duration": 21,
    "start_time": "2023-10-18T16:03:23.625Z"
   },
   {
    "duration": 9,
    "start_time": "2023-10-18T16:03:26.068Z"
   },
   {
    "duration": 19,
    "start_time": "2023-10-18T16:05:00.658Z"
   },
   {
    "duration": 10,
    "start_time": "2023-10-18T16:05:01.803Z"
   },
   {
    "duration": 1547,
    "start_time": "2023-10-18T18:38:48.154Z"
   },
   {
    "duration": 3,
    "start_time": "2023-10-18T18:38:49.703Z"
   },
   {
    "duration": 131,
    "start_time": "2023-10-18T18:38:49.854Z"
   },
   {
    "duration": 44,
    "start_time": "2023-10-18T18:38:50.911Z"
   },
   {
    "duration": 6,
    "start_time": "2023-10-18T18:38:53.308Z"
   },
   {
    "duration": 20,
    "start_time": "2023-10-18T18:38:53.893Z"
   },
   {
    "duration": 11,
    "start_time": "2023-10-18T18:38:54.529Z"
   },
   {
    "duration": 22,
    "start_time": "2023-10-18T18:38:55.974Z"
   },
   {
    "duration": 18,
    "start_time": "2023-10-18T18:38:57.579Z"
   },
   {
    "duration": 8,
    "start_time": "2023-10-18T18:38:58.986Z"
   },
   {
    "duration": 21,
    "start_time": "2023-10-18T18:38:59.633Z"
   },
   {
    "duration": 8,
    "start_time": "2023-10-18T18:39:01.205Z"
   },
   {
    "duration": 6,
    "start_time": "2023-10-18T18:39:01.938Z"
   },
   {
    "duration": 4,
    "start_time": "2023-10-18T18:39:03.263Z"
   },
   {
    "duration": 5,
    "start_time": "2023-10-18T18:39:04.037Z"
   },
   {
    "duration": 5,
    "start_time": "2023-10-18T18:39:07.071Z"
   },
   {
    "duration": 4,
    "start_time": "2023-10-18T18:39:07.728Z"
   },
   {
    "duration": 4,
    "start_time": "2023-10-18T18:39:08.923Z"
   },
   {
    "duration": 11,
    "start_time": "2023-10-18T18:39:09.597Z"
   },
   {
    "duration": 7,
    "start_time": "2023-10-18T18:39:10.981Z"
   },
   {
    "duration": 3,
    "start_time": "2023-10-18T18:39:11.626Z"
   },
   {
    "duration": 5,
    "start_time": "2023-10-18T18:39:12.798Z"
   },
   {
    "duration": 27,
    "start_time": "2023-10-18T18:39:13.419Z"
   },
   {
    "duration": 373,
    "start_time": "2023-10-18T18:39:18.287Z"
   },
   {
    "duration": 17,
    "start_time": "2023-10-18T18:39:55.455Z"
   },
   {
    "duration": 10,
    "start_time": "2023-10-18T18:39:57.035Z"
   },
   {
    "duration": 417,
    "start_time": "2023-10-18T18:45:34.173Z"
   },
   {
    "duration": 14,
    "start_time": "2023-10-18T18:45:34.980Z"
   },
   {
    "duration": 1204,
    "start_time": "2023-10-18T18:59:41.658Z"
   },
   {
    "duration": 2,
    "start_time": "2023-10-18T18:59:42.866Z"
   },
   {
    "duration": 131,
    "start_time": "2023-10-18T18:59:42.873Z"
   },
   {
    "duration": 29,
    "start_time": "2023-10-18T18:59:43.005Z"
   },
   {
    "duration": 9,
    "start_time": "2023-10-18T18:59:43.036Z"
   },
   {
    "duration": 20,
    "start_time": "2023-10-18T18:59:43.047Z"
   },
   {
    "duration": 10,
    "start_time": "2023-10-18T18:59:43.069Z"
   },
   {
    "duration": 16,
    "start_time": "2023-10-18T18:59:43.081Z"
   },
   {
    "duration": 12,
    "start_time": "2023-10-18T18:59:43.098Z"
   },
   {
    "duration": 30,
    "start_time": "2023-10-18T18:59:43.111Z"
   },
   {
    "duration": 47,
    "start_time": "2023-10-18T18:59:43.143Z"
   },
   {
    "duration": 7,
    "start_time": "2023-10-18T18:59:43.191Z"
   },
   {
    "duration": 4,
    "start_time": "2023-10-18T18:59:43.200Z"
   },
   {
    "duration": 4,
    "start_time": "2023-10-18T18:59:43.207Z"
   },
   {
    "duration": 6,
    "start_time": "2023-10-18T18:59:43.213Z"
   },
   {
    "duration": 5,
    "start_time": "2023-10-18T18:59:43.220Z"
   },
   {
    "duration": 5,
    "start_time": "2023-10-18T18:59:43.226Z"
   },
   {
    "duration": 17,
    "start_time": "2023-10-18T18:59:43.232Z"
   },
   {
    "duration": 10,
    "start_time": "2023-10-18T18:59:43.251Z"
   },
   {
    "duration": 15,
    "start_time": "2023-10-18T18:59:43.262Z"
   },
   {
    "duration": 8,
    "start_time": "2023-10-18T18:59:43.278Z"
   },
   {
    "duration": 11,
    "start_time": "2023-10-18T18:59:43.288Z"
   },
   {
    "duration": 33,
    "start_time": "2023-10-18T18:59:43.301Z"
   },
   {
    "duration": 325,
    "start_time": "2023-10-18T18:59:43.335Z"
   },
   {
    "duration": 815,
    "start_time": "2023-10-18T19:03:42.756Z"
   },
   {
    "duration": 401,
    "start_time": "2023-10-18T19:13:38.507Z"
   },
   {
    "duration": 171,
    "start_time": "2023-10-18T19:24:58.035Z"
   },
   {
    "duration": 463,
    "start_time": "2023-10-18T19:25:24.748Z"
   },
   {
    "duration": 1725,
    "start_time": "2023-10-18T19:42:27.477Z"
   },
   {
    "duration": 1462,
    "start_time": "2023-10-18T19:43:26.903Z"
   },
   {
    "duration": 281,
    "start_time": "2023-10-18T20:01:04.495Z"
   },
   {
    "duration": 1848,
    "start_time": "2023-10-18T20:04:25.197Z"
   },
   {
    "duration": 400,
    "start_time": "2023-10-18T20:10:17.005Z"
   },
   {
    "duration": 2,
    "start_time": "2023-10-18T20:20:05.911Z"
   },
   {
    "duration": 3,
    "start_time": "2023-10-18T20:20:06.394Z"
   },
   {
    "duration": 177,
    "start_time": "2023-10-18T20:20:07.415Z"
   },
   {
    "duration": 35,
    "start_time": "2023-10-18T20:20:08.389Z"
   },
   {
    "duration": 5,
    "start_time": "2023-10-18T20:20:10.397Z"
   },
   {
    "duration": 20,
    "start_time": "2023-10-18T20:20:10.878Z"
   },
   {
    "duration": 12,
    "start_time": "2023-10-18T20:20:11.385Z"
   },
   {
    "duration": 16,
    "start_time": "2023-10-18T20:20:12.518Z"
   },
   {
    "duration": 25,
    "start_time": "2023-10-18T20:20:13.628Z"
   },
   {
    "duration": 21,
    "start_time": "2023-10-18T20:20:14.667Z"
   },
   {
    "duration": 60,
    "start_time": "2023-10-18T20:20:15.162Z"
   },
   {
    "duration": 11,
    "start_time": "2023-10-18T20:20:16.244Z"
   },
   {
    "duration": 16,
    "start_time": "2023-10-18T20:20:16.768Z"
   },
   {
    "duration": 9,
    "start_time": "2023-10-18T20:20:17.838Z"
   },
   {
    "duration": 5,
    "start_time": "2023-10-18T20:20:18.304Z"
   },
   {
    "duration": 16,
    "start_time": "2023-10-18T20:20:19.360Z"
   },
   {
    "duration": 5,
    "start_time": "2023-10-18T20:20:19.896Z"
   },
   {
    "duration": 23,
    "start_time": "2023-10-18T20:20:20.957Z"
   },
   {
    "duration": 26,
    "start_time": "2023-10-18T20:20:21.465Z"
   },
   {
    "duration": 12,
    "start_time": "2023-10-18T20:20:22.595Z"
   },
   {
    "duration": 11,
    "start_time": "2023-10-18T20:20:23.261Z"
   },
   {
    "duration": 5,
    "start_time": "2023-10-18T20:20:24.428Z"
   },
   {
    "duration": 25,
    "start_time": "2023-10-18T20:20:24.996Z"
   },
   {
    "duration": 309,
    "start_time": "2023-10-18T20:20:27.418Z"
   },
   {
    "duration": 973,
    "start_time": "2023-10-18T20:20:31.585Z"
   },
   {
    "duration": 1285,
    "start_time": "2023-10-18T21:56:53.606Z"
   },
   {
    "duration": 2,
    "start_time": "2023-10-18T21:56:54.893Z"
   },
   {
    "duration": 147,
    "start_time": "2023-10-18T21:56:55.774Z"
   },
   {
    "duration": 31,
    "start_time": "2023-10-18T21:58:17.660Z"
   },
   {
    "duration": 6,
    "start_time": "2023-10-18T21:58:19.780Z"
   },
   {
    "duration": 22,
    "start_time": "2023-10-18T21:58:20.311Z"
   },
   {
    "duration": 8,
    "start_time": "2023-10-18T21:58:20.795Z"
   },
   {
    "duration": 15,
    "start_time": "2023-10-18T21:58:21.827Z"
   },
   {
    "duration": 13,
    "start_time": "2023-10-18T21:58:22.897Z"
   },
   {
    "duration": 8,
    "start_time": "2023-10-18T21:58:23.964Z"
   },
   {
    "duration": 22,
    "start_time": "2023-10-18T21:58:24.532Z"
   },
   {
    "duration": 6,
    "start_time": "2023-10-18T21:58:26.892Z"
   },
   {
    "duration": 5,
    "start_time": "2023-10-18T21:58:27.560Z"
   },
   {
    "duration": 4,
    "start_time": "2023-10-18T21:58:28.914Z"
   },
   {
    "duration": 4,
    "start_time": "2023-10-18T21:58:29.513Z"
   },
   {
    "duration": 7,
    "start_time": "2023-10-18T21:58:31.194Z"
   },
   {
    "duration": 6,
    "start_time": "2023-10-18T21:58:31.765Z"
   },
   {
    "duration": 4,
    "start_time": "2023-10-18T21:58:32.931Z"
   },
   {
    "duration": 8,
    "start_time": "2023-10-18T21:58:33.568Z"
   },
   {
    "duration": 6,
    "start_time": "2023-10-18T21:58:35.100Z"
   },
   {
    "duration": 5,
    "start_time": "2023-10-18T21:58:35.669Z"
   },
   {
    "duration": 6,
    "start_time": "2023-10-18T21:58:36.896Z"
   },
   {
    "duration": 28,
    "start_time": "2023-10-18T21:58:37.475Z"
   },
   {
    "duration": 386,
    "start_time": "2023-10-18T21:58:39.945Z"
   },
   {
    "duration": 18,
    "start_time": "2023-10-18T22:06:02.302Z"
   },
   {
    "duration": 635,
    "start_time": "2023-10-18T22:08:35.897Z"
   },
   {
    "duration": 570,
    "start_time": "2023-10-18T22:10:57.034Z"
   },
   {
    "duration": 656,
    "start_time": "2023-10-18T22:38:38.445Z"
   },
   {
    "duration": 4,
    "start_time": "2023-10-18T23:17:48.154Z"
   },
   {
    "duration": 3,
    "start_time": "2023-10-18T23:17:48.904Z"
   },
   {
    "duration": 141,
    "start_time": "2023-10-18T23:17:50.040Z"
   },
   {
    "duration": 30,
    "start_time": "2023-10-18T23:17:51.196Z"
   },
   {
    "duration": 5,
    "start_time": "2023-10-18T23:17:53.661Z"
   },
   {
    "duration": 15,
    "start_time": "2023-10-18T23:17:54.213Z"
   },
   {
    "duration": 9,
    "start_time": "2023-10-18T23:17:54.801Z"
   },
   {
    "duration": 15,
    "start_time": "2023-10-18T23:17:56.279Z"
   },
   {
    "duration": 16,
    "start_time": "2023-10-18T23:17:57.686Z"
   },
   {
    "duration": 7,
    "start_time": "2023-10-18T23:17:58.933Z"
   },
   {
    "duration": 21,
    "start_time": "2023-10-18T23:17:59.459Z"
   },
   {
    "duration": 7,
    "start_time": "2023-10-18T23:18:00.913Z"
   },
   {
    "duration": 6,
    "start_time": "2023-10-18T23:18:01.558Z"
   },
   {
    "duration": 4,
    "start_time": "2023-10-18T23:18:02.937Z"
   },
   {
    "duration": 7,
    "start_time": "2023-10-18T23:18:03.568Z"
   },
   {
    "duration": 7,
    "start_time": "2023-10-18T23:18:04.985Z"
   },
   {
    "duration": 5,
    "start_time": "2023-10-18T23:18:05.662Z"
   },
   {
    "duration": 5,
    "start_time": "2023-10-18T23:18:06.964Z"
   },
   {
    "duration": 9,
    "start_time": "2023-10-18T23:18:07.596Z"
   },
   {
    "duration": 7,
    "start_time": "2023-10-18T23:18:09.241Z"
   },
   {
    "duration": 3,
    "start_time": "2023-10-18T23:18:09.894Z"
   },
   {
    "duration": 6,
    "start_time": "2023-10-18T23:18:11.180Z"
   },
   {
    "duration": 31,
    "start_time": "2023-10-18T23:18:11.778Z"
   },
   {
    "duration": 343,
    "start_time": "2023-10-18T23:18:14.890Z"
   },
   {
    "duration": 572,
    "start_time": "2023-10-18T23:18:27.297Z"
   },
   {
    "duration": 674,
    "start_time": "2023-10-19T00:28:39.076Z"
   },
   {
    "duration": 105,
    "start_time": "2023-10-19T00:33:43.029Z"
   },
   {
    "duration": 26,
    "start_time": "2023-10-19T00:33:56.490Z"
   },
   {
    "duration": 284,
    "start_time": "2023-10-19T00:34:32.625Z"
   },
   {
    "duration": 237,
    "start_time": "2023-10-19T00:51:46.639Z"
   },
   {
    "duration": 225,
    "start_time": "2023-10-19T01:01:48.339Z"
   },
   {
    "duration": 1495,
    "start_time": "2023-10-19T01:34:52.809Z"
   },
   {
    "duration": 3,
    "start_time": "2023-10-19T01:41:29.551Z"
   },
   {
    "duration": 2,
    "start_time": "2023-10-19T01:41:30.158Z"
   },
   {
    "duration": 169,
    "start_time": "2023-10-19T01:41:31.328Z"
   },
   {
    "duration": 28,
    "start_time": "2023-10-19T01:41:32.429Z"
   },
   {
    "duration": 5,
    "start_time": "2023-10-19T01:41:34.876Z"
   },
   {
    "duration": 16,
    "start_time": "2023-10-19T01:41:35.466Z"
   },
   {
    "duration": 9,
    "start_time": "2023-10-19T01:41:36.093Z"
   },
   {
    "duration": 15,
    "start_time": "2023-10-19T01:41:37.342Z"
   },
   {
    "duration": 14,
    "start_time": "2023-10-19T01:41:38.608Z"
   },
   {
    "duration": 6,
    "start_time": "2023-10-19T01:41:39.839Z"
   },
   {
    "duration": 19,
    "start_time": "2023-10-19T01:41:40.454Z"
   },
   {
    "duration": 6,
    "start_time": "2023-10-19T01:41:41.791Z"
   },
   {
    "duration": 5,
    "start_time": "2023-10-19T01:41:42.393Z"
   },
   {
    "duration": 3,
    "start_time": "2023-10-19T01:41:43.707Z"
   },
   {
    "duration": 5,
    "start_time": "2023-10-19T01:41:44.311Z"
   },
   {
    "duration": 5,
    "start_time": "2023-10-19T01:41:45.655Z"
   },
   {
    "duration": 5,
    "start_time": "2023-10-19T01:41:46.277Z"
   },
   {
    "duration": 4,
    "start_time": "2023-10-19T01:41:47.597Z"
   },
   {
    "duration": 9,
    "start_time": "2023-10-19T01:41:48.232Z"
   },
   {
    "duration": 6,
    "start_time": "2023-10-19T01:41:49.515Z"
   },
   {
    "duration": 4,
    "start_time": "2023-10-19T01:41:50.119Z"
   },
   {
    "duration": 5,
    "start_time": "2023-10-19T01:41:51.333Z"
   },
   {
    "duration": 27,
    "start_time": "2023-10-19T01:41:51.959Z"
   },
   {
    "duration": 339,
    "start_time": "2023-10-19T01:41:54.138Z"
   },
   {
    "duration": 540,
    "start_time": "2023-10-19T01:41:56.486Z"
   },
   {
    "duration": 333,
    "start_time": "2023-10-19T01:42:00.120Z"
   },
   {
    "duration": 211,
    "start_time": "2023-10-19T01:42:02.529Z"
   },
   {
    "duration": 214,
    "start_time": "2023-10-19T01:47:28.319Z"
   },
   {
    "duration": 206,
    "start_time": "2023-10-19T01:47:45.334Z"
   },
   {
    "duration": 163,
    "start_time": "2023-10-19T01:58:18.761Z"
   },
   {
    "duration": 170,
    "start_time": "2023-10-19T01:59:09.240Z"
   },
   {
    "duration": 168,
    "start_time": "2023-10-19T02:02:11.490Z"
   },
   {
    "duration": 169,
    "start_time": "2023-10-19T02:04:35.952Z"
   },
   {
    "duration": 255,
    "start_time": "2023-10-19T02:05:06.011Z"
   },
   {
    "duration": 1158,
    "start_time": "2023-10-19T03:19:14.123Z"
   },
   {
    "duration": 3,
    "start_time": "2023-10-19T03:19:15.283Z"
   },
   {
    "duration": 228,
    "start_time": "2023-10-19T03:19:15.288Z"
   },
   {
    "duration": 31,
    "start_time": "2023-10-19T03:19:15.518Z"
   },
   {
    "duration": 41,
    "start_time": "2023-10-19T03:19:15.550Z"
   },
   {
    "duration": 36,
    "start_time": "2023-10-19T03:19:15.593Z"
   },
   {
    "duration": 8,
    "start_time": "2023-10-19T03:19:15.631Z"
   },
   {
    "duration": 19,
    "start_time": "2023-10-19T03:19:15.640Z"
   },
   {
    "duration": 19,
    "start_time": "2023-10-19T03:19:15.660Z"
   },
   {
    "duration": 24,
    "start_time": "2023-10-19T03:19:15.682Z"
   },
   {
    "duration": 37,
    "start_time": "2023-10-19T03:19:15.708Z"
   },
   {
    "duration": 32,
    "start_time": "2023-10-19T03:19:15.747Z"
   },
   {
    "duration": 11,
    "start_time": "2023-10-19T03:19:15.780Z"
   },
   {
    "duration": 10,
    "start_time": "2023-10-19T03:19:15.792Z"
   },
   {
    "duration": 32,
    "start_time": "2023-10-19T03:19:15.804Z"
   },
   {
    "duration": 10,
    "start_time": "2023-10-19T03:19:15.837Z"
   },
   {
    "duration": 10,
    "start_time": "2023-10-19T03:19:15.848Z"
   },
   {
    "duration": 26,
    "start_time": "2023-10-19T03:19:15.859Z"
   },
   {
    "duration": 43,
    "start_time": "2023-10-19T03:19:15.886Z"
   },
   {
    "duration": 24,
    "start_time": "2023-10-19T03:19:15.931Z"
   },
   {
    "duration": 4,
    "start_time": "2023-10-19T03:19:15.957Z"
   },
   {
    "duration": 14,
    "start_time": "2023-10-19T03:19:15.963Z"
   },
   {
    "duration": 40,
    "start_time": "2023-10-19T03:19:15.978Z"
   },
   {
    "duration": 377,
    "start_time": "2023-10-19T03:19:16.020Z"
   },
   {
    "duration": 600,
    "start_time": "2023-10-19T03:19:16.399Z"
   },
   {
    "duration": 233,
    "start_time": "2023-10-19T03:19:17.006Z"
   },
   {
    "duration": 190,
    "start_time": "2023-10-19T03:19:17.241Z"
   },
   {
    "duration": 3,
    "start_time": "2023-10-19T03:20:06.737Z"
   },
   {
    "duration": 2,
    "start_time": "2023-10-19T03:20:07.266Z"
   },
   {
    "duration": 130,
    "start_time": "2023-10-19T03:20:08.394Z"
   },
   {
    "duration": 26,
    "start_time": "2023-10-19T03:20:09.525Z"
   },
   {
    "duration": 5,
    "start_time": "2023-10-19T03:20:12.171Z"
   },
   {
    "duration": 16,
    "start_time": "2023-10-19T03:20:12.773Z"
   },
   {
    "duration": 9,
    "start_time": "2023-10-19T03:20:13.598Z"
   },
   {
    "duration": 12,
    "start_time": "2023-10-19T03:20:15.136Z"
   },
   {
    "duration": 13,
    "start_time": "2023-10-19T03:20:16.724Z"
   },
   {
    "duration": 7,
    "start_time": "2023-10-19T03:20:18.814Z"
   },
   {
    "duration": 20,
    "start_time": "2023-10-19T03:20:18.938Z"
   },
   {
    "duration": 7,
    "start_time": "2023-10-19T03:20:20.506Z"
   },
   {
    "duration": 5,
    "start_time": "2023-10-19T03:20:21.224Z"
   },
   {
    "duration": 4,
    "start_time": "2023-10-19T03:20:22.504Z"
   },
   {
    "duration": 5,
    "start_time": "2023-10-19T03:20:23.121Z"
   },
   {
    "duration": 6,
    "start_time": "2023-10-19T03:20:24.413Z"
   },
   {
    "duration": 5,
    "start_time": "2023-10-19T03:20:25.026Z"
   },
   {
    "duration": 4,
    "start_time": "2023-10-19T03:20:26.269Z"
   },
   {
    "duration": 9,
    "start_time": "2023-10-19T03:20:26.908Z"
   },
   {
    "duration": 5,
    "start_time": "2023-10-19T03:20:28.150Z"
   },
   {
    "duration": 4,
    "start_time": "2023-10-19T03:20:28.753Z"
   },
   {
    "duration": 6,
    "start_time": "2023-10-19T03:20:29.935Z"
   },
   {
    "duration": 29,
    "start_time": "2023-10-19T03:20:30.572Z"
   },
   {
    "duration": 345,
    "start_time": "2023-10-19T03:20:32.730Z"
   },
   {
    "duration": 623,
    "start_time": "2023-10-19T03:20:35.192Z"
   },
   {
    "duration": 224,
    "start_time": "2023-10-19T03:20:40.410Z"
   },
   {
    "duration": 163,
    "start_time": "2023-10-19T03:20:43.085Z"
   },
   {
    "duration": 1281,
    "start_time": "2023-10-19T14:40:33.102Z"
   },
   {
    "duration": 2,
    "start_time": "2023-10-19T14:40:34.385Z"
   },
   {
    "duration": 145,
    "start_time": "2023-10-19T14:40:35.516Z"
   },
   {
    "duration": 33,
    "start_time": "2023-10-19T14:40:36.810Z"
   },
   {
    "duration": 6,
    "start_time": "2023-10-19T14:40:38.920Z"
   },
   {
    "duration": 17,
    "start_time": "2023-10-19T14:40:39.388Z"
   },
   {
    "duration": 10,
    "start_time": "2023-10-19T14:40:39.847Z"
   },
   {
    "duration": 15,
    "start_time": "2023-10-19T14:40:40.989Z"
   },
   {
    "duration": 15,
    "start_time": "2023-10-19T14:40:42.041Z"
   },
   {
    "duration": 8,
    "start_time": "2023-10-19T14:40:43.198Z"
   },
   {
    "duration": 23,
    "start_time": "2023-10-19T14:40:43.743Z"
   },
   {
    "duration": 8,
    "start_time": "2023-10-19T14:40:44.780Z"
   },
   {
    "duration": 5,
    "start_time": "2023-10-19T14:40:45.253Z"
   },
   {
    "duration": 3,
    "start_time": "2023-10-19T14:40:46.305Z"
   },
   {
    "duration": 5,
    "start_time": "2023-10-19T14:40:46.840Z"
   },
   {
    "duration": 6,
    "start_time": "2023-10-19T14:40:47.985Z"
   },
   {
    "duration": 5,
    "start_time": "2023-10-19T14:40:48.506Z"
   },
   {
    "duration": 4,
    "start_time": "2023-10-19T14:40:49.585Z"
   },
   {
    "duration": 10,
    "start_time": "2023-10-19T14:40:50.069Z"
   },
   {
    "duration": 6,
    "start_time": "2023-10-19T14:40:51.103Z"
   },
   {
    "duration": 4,
    "start_time": "2023-10-19T14:40:51.644Z"
   },
   {
    "duration": 6,
    "start_time": "2023-10-19T14:40:52.604Z"
   },
   {
    "duration": 31,
    "start_time": "2023-10-19T14:40:53.194Z"
   },
   {
    "duration": 371,
    "start_time": "2023-10-19T14:40:54.890Z"
   },
   {
    "duration": 570,
    "start_time": "2023-10-19T14:40:57.519Z"
   },
   {
    "duration": 249,
    "start_time": "2023-10-19T14:41:00.892Z"
   },
   {
    "duration": 184,
    "start_time": "2023-10-19T14:41:03.085Z"
   },
   {
    "duration": 190,
    "start_time": "2023-10-19T14:51:36.652Z"
   },
   {
    "duration": 411,
    "start_time": "2023-10-19T15:08:45.052Z"
   },
   {
    "duration": 502,
    "start_time": "2023-10-19T15:22:23.277Z"
   },
   {
    "duration": 97,
    "start_time": "2023-10-19T15:29:06.988Z"
   },
   {
    "duration": 433,
    "start_time": "2023-10-19T15:30:02.949Z"
   },
   {
    "duration": 401,
    "start_time": "2023-10-19T15:30:29.192Z"
   },
   {
    "duration": 402,
    "start_time": "2023-10-19T15:30:42.907Z"
   },
   {
    "duration": 420,
    "start_time": "2023-10-19T16:02:02.832Z"
   },
   {
    "duration": 443,
    "start_time": "2023-10-19T16:22:21.986Z"
   },
   {
    "duration": 4,
    "start_time": "2023-10-19T16:22:45.424Z"
   },
   {
    "duration": 4,
    "start_time": "2023-10-19T16:22:45.986Z"
   },
   {
    "duration": 134,
    "start_time": "2023-10-19T16:22:47.005Z"
   },
   {
    "duration": 28,
    "start_time": "2023-10-19T16:22:48.133Z"
   },
   {
    "duration": 7,
    "start_time": "2023-10-19T16:22:50.363Z"
   },
   {
    "duration": 17,
    "start_time": "2023-10-19T16:22:50.935Z"
   },
   {
    "duration": 9,
    "start_time": "2023-10-19T16:22:51.497Z"
   },
   {
    "duration": 13,
    "start_time": "2023-10-19T16:22:52.614Z"
   },
   {
    "duration": 13,
    "start_time": "2023-10-19T16:22:53.748Z"
   },
   {
    "duration": 7,
    "start_time": "2023-10-19T16:22:54.926Z"
   },
   {
    "duration": 21,
    "start_time": "2023-10-19T16:22:55.478Z"
   },
   {
    "duration": 8,
    "start_time": "2023-10-19T16:22:56.658Z"
   },
   {
    "duration": 6,
    "start_time": "2023-10-19T16:22:57.227Z"
   },
   {
    "duration": 3,
    "start_time": "2023-10-19T16:22:58.434Z"
   },
   {
    "duration": 5,
    "start_time": "2023-10-19T16:22:58.993Z"
   },
   {
    "duration": 7,
    "start_time": "2023-10-19T16:23:00.163Z"
   },
   {
    "duration": 6,
    "start_time": "2023-10-19T16:23:00.736Z"
   },
   {
    "duration": 6,
    "start_time": "2023-10-19T16:23:01.858Z"
   },
   {
    "duration": 10,
    "start_time": "2023-10-19T16:23:02.413Z"
   },
   {
    "duration": 6,
    "start_time": "2023-10-19T16:23:03.596Z"
   },
   {
    "duration": 4,
    "start_time": "2023-10-19T16:23:04.172Z"
   },
   {
    "duration": 7,
    "start_time": "2023-10-19T16:23:05.294Z"
   },
   {
    "duration": 39,
    "start_time": "2023-10-19T16:23:05.895Z"
   },
   {
    "duration": 328,
    "start_time": "2023-10-19T16:23:08.013Z"
   },
   {
    "duration": 557,
    "start_time": "2023-10-19T16:23:10.767Z"
   },
   {
    "duration": 329,
    "start_time": "2023-10-19T16:23:12.688Z"
   },
   {
    "duration": 183,
    "start_time": "2023-10-19T16:23:14.924Z"
   },
   {
    "duration": 417,
    "start_time": "2023-10-19T16:23:18.153Z"
   },
   {
    "duration": 421,
    "start_time": "2023-10-19T16:23:23.464Z"
   },
   {
    "duration": 19,
    "start_time": "2023-10-19T16:37:34.990Z"
   },
   {
    "duration": 93,
    "start_time": "2023-10-19T16:42:11.127Z"
   },
   {
    "duration": 210,
    "start_time": "2023-10-19T16:43:56.067Z"
   },
   {
    "duration": 1272,
    "start_time": "2023-10-19T19:03:59.040Z"
   },
   {
    "duration": 3,
    "start_time": "2023-10-19T19:04:00.314Z"
   },
   {
    "duration": 96,
    "start_time": "2023-10-19T19:04:00.863Z"
   },
   {
    "duration": 33,
    "start_time": "2023-10-19T19:04:02.161Z"
   },
   {
    "duration": 5,
    "start_time": "2023-10-19T19:04:04.808Z"
   },
   {
    "duration": 15,
    "start_time": "2023-10-19T19:04:05.446Z"
   },
   {
    "duration": 8,
    "start_time": "2023-10-19T19:04:06.081Z"
   },
   {
    "duration": 14,
    "start_time": "2023-10-19T19:04:07.482Z"
   },
   {
    "duration": 15,
    "start_time": "2023-10-19T19:04:09.034Z"
   },
   {
    "duration": 8,
    "start_time": "2023-10-19T19:04:10.404Z"
   },
   {
    "duration": 21,
    "start_time": "2023-10-19T19:04:11.116Z"
   },
   {
    "duration": 7,
    "start_time": "2023-10-19T19:04:12.649Z"
   },
   {
    "duration": 5,
    "start_time": "2023-10-19T19:04:13.431Z"
   },
   {
    "duration": 3,
    "start_time": "2023-10-19T19:04:15.053Z"
   },
   {
    "duration": 5,
    "start_time": "2023-10-19T19:04:15.725Z"
   },
   {
    "duration": 7,
    "start_time": "2023-10-19T19:04:17.401Z"
   },
   {
    "duration": 4,
    "start_time": "2023-10-19T19:04:18.228Z"
   },
   {
    "duration": 5,
    "start_time": "2023-10-19T19:04:19.955Z"
   },
   {
    "duration": 9,
    "start_time": "2023-10-19T19:04:20.746Z"
   },
   {
    "duration": 6,
    "start_time": "2023-10-19T19:04:22.489Z"
   },
   {
    "duration": 5,
    "start_time": "2023-10-19T19:04:23.351Z"
   },
   {
    "duration": 6,
    "start_time": "2023-10-19T19:04:25.742Z"
   },
   {
    "duration": 32,
    "start_time": "2023-10-19T19:04:26.572Z"
   },
   {
    "duration": 407,
    "start_time": "2023-10-19T19:04:29.281Z"
   },
   {
    "duration": 545,
    "start_time": "2023-10-19T19:04:38.702Z"
   },
   {
    "duration": 241,
    "start_time": "2023-10-19T19:07:41.737Z"
   },
   {
    "duration": 167,
    "start_time": "2023-10-19T19:07:45.396Z"
   },
   {
    "duration": 378,
    "start_time": "2023-10-19T19:07:48.937Z"
   },
   {
    "duration": 406,
    "start_time": "2023-10-19T19:47:06.460Z"
   },
   {
    "duration": 295,
    "start_time": "2023-10-19T19:52:39.454Z"
   },
   {
    "duration": 212,
    "start_time": "2023-10-19T19:53:23.702Z"
   },
   {
    "duration": 338,
    "start_time": "2023-10-19T20:01:56.509Z"
   },
   {
    "duration": 334,
    "start_time": "2023-10-19T20:03:55.528Z"
   },
   {
    "duration": 1268,
    "start_time": "2023-10-19T22:06:10.708Z"
   },
   {
    "duration": 3,
    "start_time": "2023-10-19T22:06:11.978Z"
   },
   {
    "duration": 104,
    "start_time": "2023-10-19T22:06:12.193Z"
   },
   {
    "duration": 34,
    "start_time": "2023-10-19T22:06:13.154Z"
   },
   {
    "duration": 5,
    "start_time": "2023-10-19T22:06:15.144Z"
   },
   {
    "duration": 24,
    "start_time": "2023-10-19T22:06:15.729Z"
   },
   {
    "duration": 11,
    "start_time": "2023-10-19T22:06:16.312Z"
   },
   {
    "duration": 14,
    "start_time": "2023-10-19T22:06:17.430Z"
   },
   {
    "duration": 14,
    "start_time": "2023-10-19T22:06:18.607Z"
   },
   {
    "duration": 7,
    "start_time": "2023-10-19T22:06:19.771Z"
   },
   {
    "duration": 22,
    "start_time": "2023-10-19T22:06:20.296Z"
   },
   {
    "duration": 8,
    "start_time": "2023-10-19T22:06:21.520Z"
   },
   {
    "duration": 5,
    "start_time": "2023-10-19T22:06:22.039Z"
   },
   {
    "duration": 3,
    "start_time": "2023-10-19T22:06:23.117Z"
   },
   {
    "duration": 5,
    "start_time": "2023-10-19T22:06:23.619Z"
   },
   {
    "duration": 8,
    "start_time": "2023-10-19T22:06:24.731Z"
   },
   {
    "duration": 5,
    "start_time": "2023-10-19T22:06:25.254Z"
   },
   {
    "duration": 5,
    "start_time": "2023-10-19T22:06:26.353Z"
   },
   {
    "duration": 12,
    "start_time": "2023-10-19T22:06:26.991Z"
   },
   {
    "duration": 7,
    "start_time": "2023-10-19T22:06:28.146Z"
   },
   {
    "duration": 5,
    "start_time": "2023-10-19T22:06:28.717Z"
   },
   {
    "duration": 6,
    "start_time": "2023-10-19T22:06:29.789Z"
   },
   {
    "duration": 32,
    "start_time": "2023-10-19T22:06:30.324Z"
   },
   {
    "duration": 372,
    "start_time": "2023-10-19T22:06:32.073Z"
   },
   {
    "duration": 623,
    "start_time": "2023-10-19T22:06:33.822Z"
   },
   {
    "duration": 231,
    "start_time": "2023-10-19T22:06:35.549Z"
   },
   {
    "duration": 204,
    "start_time": "2023-10-19T22:06:37.444Z"
   },
   {
    "duration": 394,
    "start_time": "2023-10-19T22:06:39.299Z"
   },
   {
    "duration": 443,
    "start_time": "2023-10-19T22:06:41.024Z"
   },
   {
    "duration": 414,
    "start_time": "2023-10-19T22:06:43.568Z"
   },
   {
    "duration": 118,
    "start_time": "2023-10-19T22:12:41.313Z"
   },
   {
    "duration": 9,
    "start_time": "2023-10-19T22:15:34.010Z"
   },
   {
    "duration": 14,
    "start_time": "2023-10-19T22:16:30.083Z"
   },
   {
    "duration": 3,
    "start_time": "2023-10-19T22:16:44.415Z"
   },
   {
    "duration": 2,
    "start_time": "2023-10-19T22:16:44.970Z"
   },
   {
    "duration": 103,
    "start_time": "2023-10-19T22:16:46.002Z"
   },
   {
    "duration": 35,
    "start_time": "2023-10-19T22:16:47.068Z"
   },
   {
    "duration": 5,
    "start_time": "2023-10-19T22:16:49.170Z"
   },
   {
    "duration": 16,
    "start_time": "2023-10-19T22:16:49.657Z"
   },
   {
    "duration": 10,
    "start_time": "2023-10-19T22:16:50.186Z"
   },
   {
    "duration": 14,
    "start_time": "2023-10-19T22:16:51.335Z"
   },
   {
    "duration": 15,
    "start_time": "2023-10-19T22:16:52.440Z"
   },
   {
    "duration": 8,
    "start_time": "2023-10-19T22:16:53.615Z"
   },
   {
    "duration": 22,
    "start_time": "2023-10-19T22:16:54.196Z"
   },
   {
    "duration": 6,
    "start_time": "2023-10-19T22:16:55.383Z"
   },
   {
    "duration": 5,
    "start_time": "2023-10-19T22:16:55.949Z"
   },
   {
    "duration": 3,
    "start_time": "2023-10-19T22:16:57.250Z"
   },
   {
    "duration": 6,
    "start_time": "2023-10-19T22:16:57.803Z"
   },
   {
    "duration": 6,
    "start_time": "2023-10-19T22:16:58.832Z"
   },
   {
    "duration": 6,
    "start_time": "2023-10-19T22:16:59.305Z"
   },
   {
    "duration": 4,
    "start_time": "2023-10-19T22:17:00.353Z"
   },
   {
    "duration": 11,
    "start_time": "2023-10-19T22:17:00.951Z"
   },
   {
    "duration": 6,
    "start_time": "2023-10-19T22:17:02.060Z"
   },
   {
    "duration": 4,
    "start_time": "2023-10-19T22:17:02.635Z"
   },
   {
    "duration": 6,
    "start_time": "2023-10-19T22:17:03.723Z"
   },
   {
    "duration": 33,
    "start_time": "2023-10-19T22:17:04.290Z"
   },
   {
    "duration": 343,
    "start_time": "2023-10-19T22:17:06.061Z"
   },
   {
    "duration": 582,
    "start_time": "2023-10-19T22:17:07.767Z"
   },
   {
    "duration": 230,
    "start_time": "2023-10-19T22:17:09.667Z"
   },
   {
    "duration": 174,
    "start_time": "2023-10-19T22:17:11.807Z"
   },
   {
    "duration": 461,
    "start_time": "2023-10-19T22:17:14.137Z"
   },
   {
    "duration": 431,
    "start_time": "2023-10-19T22:17:16.209Z"
   },
   {
    "duration": 328,
    "start_time": "2023-10-19T22:17:19.748Z"
   },
   {
    "duration": 12,
    "start_time": "2023-10-19T22:17:22.334Z"
   },
   {
    "duration": 82,
    "start_time": "2023-10-19T22:33:34.851Z"
   },
   {
    "duration": 324,
    "start_time": "2023-10-19T22:33:47.665Z"
   },
   {
    "duration": 227,
    "start_time": "2023-10-19T22:37:35.650Z"
   },
   {
    "duration": 228,
    "start_time": "2023-10-19T22:39:14.021Z"
   },
   {
    "duration": 181,
    "start_time": "2023-10-19T22:39:17.615Z"
   },
   {
    "duration": 389,
    "start_time": "2023-10-19T22:39:20.299Z"
   },
   {
    "duration": 415,
    "start_time": "2023-10-19T22:39:22.829Z"
   },
   {
    "duration": 313,
    "start_time": "2023-10-19T22:41:57.988Z"
   },
   {
    "duration": 313,
    "start_time": "2023-10-19T22:43:06.297Z"
   },
   {
    "duration": 231,
    "start_time": "2023-10-19T22:45:35.216Z"
   },
   {
    "duration": 252,
    "start_time": "2023-10-19T23:12:30.297Z"
   },
   {
    "duration": 282,
    "start_time": "2023-10-19T23:12:43.686Z"
   },
   {
    "duration": 383,
    "start_time": "2023-10-19T23:13:02.963Z"
   },
   {
    "duration": 240,
    "start_time": "2023-10-19T23:13:23.148Z"
   },
   {
    "duration": 272,
    "start_time": "2023-10-19T23:13:38.315Z"
   },
   {
    "duration": 110,
    "start_time": "2023-10-19T23:40:30.051Z"
   },
   {
    "duration": 460,
    "start_time": "2023-10-19T23:45:13.210Z"
   },
   {
    "duration": 441,
    "start_time": "2023-10-19T23:51:35.192Z"
   },
   {
    "duration": 168,
    "start_time": "2023-10-19T23:57:41.812Z"
   },
   {
    "duration": 188,
    "start_time": "2023-10-20T00:02:09.876Z"
   },
   {
    "duration": 655,
    "start_time": "2023-10-20T00:05:14.452Z"
   },
   {
    "duration": 476,
    "start_time": "2023-10-20T00:16:43.091Z"
   },
   {
    "duration": 15,
    "start_time": "2023-10-20T00:17:31.031Z"
   },
   {
    "duration": 243,
    "start_time": "2023-10-20T00:31:21.305Z"
   },
   {
    "duration": 55,
    "start_time": "2023-10-20T00:33:27.176Z"
   },
   {
    "duration": 3,
    "start_time": "2023-10-20T00:33:27.936Z"
   },
   {
    "duration": 159,
    "start_time": "2023-10-20T00:33:29.109Z"
   },
   {
    "duration": 29,
    "start_time": "2023-10-20T00:33:30.233Z"
   },
   {
    "duration": 5,
    "start_time": "2023-10-20T00:33:32.630Z"
   },
   {
    "duration": 16,
    "start_time": "2023-10-20T00:33:33.183Z"
   },
   {
    "duration": 9,
    "start_time": "2023-10-20T00:33:33.717Z"
   },
   {
    "duration": 14,
    "start_time": "2023-10-20T00:33:34.856Z"
   },
   {
    "duration": 16,
    "start_time": "2023-10-20T00:33:35.979Z"
   },
   {
    "duration": 8,
    "start_time": "2023-10-20T00:33:37.067Z"
   },
   {
    "duration": 21,
    "start_time": "2023-10-20T00:33:37.613Z"
   },
   {
    "duration": 6,
    "start_time": "2023-10-20T00:33:38.747Z"
   },
   {
    "duration": 5,
    "start_time": "2023-10-20T00:33:39.278Z"
   },
   {
    "duration": 3,
    "start_time": "2023-10-20T00:33:40.336Z"
   },
   {
    "duration": 4,
    "start_time": "2023-10-20T00:33:40.866Z"
   },
   {
    "duration": 7,
    "start_time": "2023-10-20T00:33:41.982Z"
   },
   {
    "duration": 4,
    "start_time": "2023-10-20T00:33:42.602Z"
   },
   {
    "duration": 4,
    "start_time": "2023-10-20T00:33:43.870Z"
   },
   {
    "duration": 11,
    "start_time": "2023-10-20T00:33:44.545Z"
   },
   {
    "duration": 6,
    "start_time": "2023-10-20T00:33:45.737Z"
   },
   {
    "duration": 4,
    "start_time": "2023-10-20T00:33:46.307Z"
   },
   {
    "duration": 6,
    "start_time": "2023-10-20T00:33:47.488Z"
   },
   {
    "duration": 33,
    "start_time": "2023-10-20T00:33:48.084Z"
   },
   {
    "duration": 335,
    "start_time": "2023-10-20T00:33:49.868Z"
   },
   {
    "duration": 645,
    "start_time": "2023-10-20T00:33:52.106Z"
   },
   {
    "duration": 220,
    "start_time": "2023-10-20T00:33:55.227Z"
   },
   {
    "duration": 174,
    "start_time": "2023-10-20T00:33:57.282Z"
   },
   {
    "duration": 444,
    "start_time": "2023-10-20T00:34:02.160Z"
   },
   {
    "duration": 454,
    "start_time": "2023-10-20T00:34:04.257Z"
   },
   {
    "duration": 315,
    "start_time": "2023-10-20T00:34:06.803Z"
   },
   {
    "duration": 242,
    "start_time": "2023-10-20T00:34:10.385Z"
   },
   {
    "duration": 313,
    "start_time": "2023-10-20T00:34:14.397Z"
   },
   {
    "duration": 343,
    "start_time": "2023-10-20T00:34:56.088Z"
   },
   {
    "duration": 244,
    "start_time": "2023-10-20T00:52:45.082Z"
   },
   {
    "duration": 3,
    "start_time": "2023-10-20T01:49:15.383Z"
   },
   {
    "duration": 2,
    "start_time": "2023-10-20T01:49:15.978Z"
   },
   {
    "duration": 154,
    "start_time": "2023-10-20T01:49:17.074Z"
   },
   {
    "duration": 28,
    "start_time": "2023-10-20T01:49:18.251Z"
   },
   {
    "duration": 5,
    "start_time": "2023-10-20T01:49:20.428Z"
   },
   {
    "duration": 15,
    "start_time": "2023-10-20T01:49:20.941Z"
   },
   {
    "duration": 11,
    "start_time": "2023-10-20T01:49:21.515Z"
   },
   {
    "duration": 15,
    "start_time": "2023-10-20T01:49:22.624Z"
   },
   {
    "duration": 14,
    "start_time": "2023-10-20T01:49:23.850Z"
   },
   {
    "duration": 9,
    "start_time": "2023-10-20T01:49:24.996Z"
   },
   {
    "duration": 21,
    "start_time": "2023-10-20T01:49:25.567Z"
   },
   {
    "duration": 9,
    "start_time": "2023-10-20T01:49:26.711Z"
   },
   {
    "duration": 6,
    "start_time": "2023-10-20T01:49:27.291Z"
   },
   {
    "duration": 8,
    "start_time": "2023-10-20T01:49:28.506Z"
   },
   {
    "duration": 5,
    "start_time": "2023-10-20T01:49:29.064Z"
   },
   {
    "duration": 7,
    "start_time": "2023-10-20T01:49:30.208Z"
   },
   {
    "duration": 6,
    "start_time": "2023-10-20T01:49:30.780Z"
   },
   {
    "duration": 5,
    "start_time": "2023-10-20T01:49:31.939Z"
   },
   {
    "duration": 18,
    "start_time": "2023-10-20T01:49:32.509Z"
   },
   {
    "duration": 6,
    "start_time": "2023-10-20T01:49:33.651Z"
   },
   {
    "duration": 5,
    "start_time": "2023-10-20T01:49:34.208Z"
   },
   {
    "duration": 6,
    "start_time": "2023-10-20T01:49:35.351Z"
   },
   {
    "duration": 39,
    "start_time": "2023-10-20T01:49:35.896Z"
   },
   {
    "duration": 383,
    "start_time": "2023-10-20T01:49:37.849Z"
   },
   {
    "duration": 656,
    "start_time": "2023-10-20T01:49:39.576Z"
   },
   {
    "duration": 266,
    "start_time": "2023-10-20T01:49:41.880Z"
   },
   {
    "duration": 184,
    "start_time": "2023-10-20T01:49:44.231Z"
   },
   {
    "duration": 561,
    "start_time": "2023-10-20T01:49:47.175Z"
   },
   {
    "duration": 448,
    "start_time": "2023-10-20T01:49:49.429Z"
   },
   {
    "duration": 357,
    "start_time": "2023-10-20T01:49:51.766Z"
   },
   {
    "duration": 264,
    "start_time": "2023-10-20T01:49:53.900Z"
   },
   {
    "duration": 278,
    "start_time": "2023-10-20T01:49:58.702Z"
   },
   {
    "duration": 286,
    "start_time": "2023-10-20T01:50:19.007Z"
   },
   {
    "duration": 508,
    "start_time": "2023-10-20T02:29:48.232Z"
   },
   {
    "duration": 365,
    "start_time": "2023-10-20T02:31:27.443Z"
   },
   {
    "duration": 1327,
    "start_time": "2023-10-20T14:36:16.569Z"
   },
   {
    "duration": 3,
    "start_time": "2023-10-20T14:36:17.898Z"
   },
   {
    "duration": 116,
    "start_time": "2023-10-20T14:36:18.425Z"
   },
   {
    "duration": 34,
    "start_time": "2023-10-20T14:36:19.524Z"
   },
   {
    "duration": 6,
    "start_time": "2023-10-20T14:36:21.773Z"
   },
   {
    "duration": 22,
    "start_time": "2023-10-20T14:36:22.375Z"
   },
   {
    "duration": 8,
    "start_time": "2023-10-20T14:36:23.392Z"
   },
   {
    "duration": 15,
    "start_time": "2023-10-20T14:36:24.678Z"
   },
   {
    "duration": 14,
    "start_time": "2023-10-20T14:36:26.179Z"
   },
   {
    "duration": 9,
    "start_time": "2023-10-20T14:36:27.630Z"
   },
   {
    "duration": 20,
    "start_time": "2023-10-20T14:36:28.572Z"
   },
   {
    "duration": 7,
    "start_time": "2023-10-20T14:36:29.858Z"
   },
   {
    "duration": 5,
    "start_time": "2023-10-20T14:36:30.445Z"
   },
   {
    "duration": 3,
    "start_time": "2023-10-20T14:36:31.674Z"
   },
   {
    "duration": 5,
    "start_time": "2023-10-20T14:36:32.387Z"
   },
   {
    "duration": 6,
    "start_time": "2023-10-20T14:36:33.623Z"
   },
   {
    "duration": 5,
    "start_time": "2023-10-20T14:36:34.300Z"
   },
   {
    "duration": 4,
    "start_time": "2023-10-20T14:36:35.784Z"
   },
   {
    "duration": 9,
    "start_time": "2023-10-20T14:36:36.456Z"
   },
   {
    "duration": 5,
    "start_time": "2023-10-20T14:36:37.847Z"
   },
   {
    "duration": 4,
    "start_time": "2023-10-20T14:36:38.791Z"
   },
   {
    "duration": 6,
    "start_time": "2023-10-20T14:36:40.303Z"
   },
   {
    "duration": 29,
    "start_time": "2023-10-20T14:36:41.104Z"
   },
   {
    "duration": 445,
    "start_time": "2023-10-20T14:36:43.645Z"
   },
   {
    "duration": 577,
    "start_time": "2023-10-20T14:36:50.645Z"
   },
   {
    "duration": 230,
    "start_time": "2023-10-20T14:37:05.466Z"
   },
   {
    "duration": 168,
    "start_time": "2023-10-20T14:37:08.212Z"
   },
   {
    "duration": 386,
    "start_time": "2023-10-20T14:37:13.046Z"
   },
   {
    "duration": 476,
    "start_time": "2023-10-20T14:37:16.249Z"
   },
   {
    "duration": 327,
    "start_time": "2023-10-20T14:37:18.681Z"
   },
   {
    "duration": 215,
    "start_time": "2023-10-20T14:37:21.501Z"
   },
   {
    "duration": 249,
    "start_time": "2023-10-20T14:37:23.428Z"
   },
   {
    "duration": 246,
    "start_time": "2023-10-20T14:37:28.327Z"
   },
   {
    "duration": 243,
    "start_time": "2023-10-20T14:37:50.063Z"
   },
   {
    "duration": 113,
    "start_time": "2023-10-20T14:57:44.830Z"
   },
   {
    "duration": 16,
    "start_time": "2023-10-20T14:58:36.778Z"
   },
   {
    "duration": 272,
    "start_time": "2023-10-20T14:58:53.010Z"
   },
   {
    "duration": 349,
    "start_time": "2023-10-20T14:59:20.484Z"
   },
   {
    "duration": 889,
    "start_time": "2023-10-20T15:02:06.952Z"
   },
   {
    "duration": 3,
    "start_time": "2023-10-20T15:11:26.225Z"
   },
   {
    "duration": 3,
    "start_time": "2023-10-20T15:11:26.725Z"
   },
   {
    "duration": 87,
    "start_time": "2023-10-20T15:11:27.704Z"
   },
   {
    "duration": 27,
    "start_time": "2023-10-20T15:11:28.653Z"
   },
   {
    "duration": 4,
    "start_time": "2023-10-20T15:11:30.767Z"
   },
   {
    "duration": 17,
    "start_time": "2023-10-20T15:11:31.266Z"
   },
   {
    "duration": 9,
    "start_time": "2023-10-20T15:11:31.795Z"
   },
   {
    "duration": 12,
    "start_time": "2023-10-20T15:11:32.826Z"
   },
   {
    "duration": 13,
    "start_time": "2023-10-20T15:11:33.846Z"
   },
   {
    "duration": 8,
    "start_time": "2023-10-20T15:11:34.832Z"
   },
   {
    "duration": 20,
    "start_time": "2023-10-20T15:11:35.338Z"
   },
   {
    "duration": 7,
    "start_time": "2023-10-20T15:11:36.306Z"
   },
   {
    "duration": 4,
    "start_time": "2023-10-20T15:11:36.810Z"
   },
   {
    "duration": 3,
    "start_time": "2023-10-20T15:11:37.805Z"
   },
   {
    "duration": 5,
    "start_time": "2023-10-20T15:11:38.334Z"
   },
   {
    "duration": 6,
    "start_time": "2023-10-20T15:11:39.348Z"
   },
   {
    "duration": 4,
    "start_time": "2023-10-20T15:11:39.895Z"
   },
   {
    "duration": 4,
    "start_time": "2023-10-20T15:11:40.939Z"
   },
   {
    "duration": 8,
    "start_time": "2023-10-20T15:11:41.419Z"
   },
   {
    "duration": 6,
    "start_time": "2023-10-20T15:11:42.391Z"
   },
   {
    "duration": 5,
    "start_time": "2023-10-20T15:11:42.902Z"
   },
   {
    "duration": 5,
    "start_time": "2023-10-20T15:11:43.931Z"
   },
   {
    "duration": 26,
    "start_time": "2023-10-20T15:11:44.414Z"
   },
   {
    "duration": 360,
    "start_time": "2023-10-20T15:11:46.061Z"
   },
   {
    "duration": 649,
    "start_time": "2023-10-20T15:11:47.841Z"
   },
   {
    "duration": 227,
    "start_time": "2023-10-20T15:11:50.078Z"
   },
   {
    "duration": 163,
    "start_time": "2023-10-20T15:11:52.421Z"
   },
   {
    "duration": 391,
    "start_time": "2023-10-20T15:11:54.455Z"
   },
   {
    "duration": 411,
    "start_time": "2023-10-20T15:11:57.992Z"
   },
   {
    "duration": 380,
    "start_time": "2023-10-20T15:12:00.276Z"
   },
   {
    "duration": 242,
    "start_time": "2023-10-20T15:12:06.373Z"
   },
   {
    "duration": 226,
    "start_time": "2023-10-20T15:12:12.402Z"
   },
   {
    "duration": 363,
    "start_time": "2023-10-20T15:12:16.186Z"
   },
   {
    "duration": 4276,
    "start_time": "2023-10-20T15:12:24.406Z"
   },
   {
    "duration": 4226,
    "start_time": "2023-10-20T15:13:37.005Z"
   },
   {
    "duration": 4410,
    "start_time": "2023-10-20T15:15:41.848Z"
   },
   {
    "duration": 2162,
    "start_time": "2023-10-20T15:16:34.357Z"
   },
   {
    "duration": 242,
    "start_time": "2023-10-20T15:18:43.290Z"
   },
   {
    "duration": 3,
    "start_time": "2023-10-20T15:26:24.799Z"
   },
   {
    "duration": 3,
    "start_time": "2023-10-20T15:26:25.476Z"
   },
   {
    "duration": 82,
    "start_time": "2023-10-20T15:26:26.694Z"
   },
   {
    "duration": 26,
    "start_time": "2023-10-20T15:26:27.894Z"
   },
   {
    "duration": 5,
    "start_time": "2023-10-20T15:26:30.334Z"
   },
   {
    "duration": 14,
    "start_time": "2023-10-20T15:26:30.950Z"
   },
   {
    "duration": 9,
    "start_time": "2023-10-20T15:26:31.557Z"
   },
   {
    "duration": 12,
    "start_time": "2023-10-20T15:26:32.869Z"
   },
   {
    "duration": 19,
    "start_time": "2023-10-20T15:26:34.258Z"
   },
   {
    "duration": 8,
    "start_time": "2023-10-20T15:26:35.516Z"
   },
   {
    "duration": 25,
    "start_time": "2023-10-20T15:26:36.123Z"
   },
   {
    "duration": 6,
    "start_time": "2023-10-20T15:26:37.421Z"
   },
   {
    "duration": 5,
    "start_time": "2023-10-20T15:26:38.121Z"
   },
   {
    "duration": 3,
    "start_time": "2023-10-20T15:26:39.386Z"
   },
   {
    "duration": 7,
    "start_time": "2023-10-20T15:26:40.006Z"
   },
   {
    "duration": 6,
    "start_time": "2023-10-20T15:26:41.275Z"
   },
   {
    "duration": 5,
    "start_time": "2023-10-20T15:26:41.924Z"
   },
   {
    "duration": 4,
    "start_time": "2023-10-20T15:26:43.209Z"
   },
   {
    "duration": 9,
    "start_time": "2023-10-20T15:26:43.862Z"
   },
   {
    "duration": 6,
    "start_time": "2023-10-20T15:26:45.146Z"
   },
   {
    "duration": 4,
    "start_time": "2023-10-20T15:26:45.822Z"
   },
   {
    "duration": 6,
    "start_time": "2023-10-20T15:26:47.106Z"
   },
   {
    "duration": 28,
    "start_time": "2023-10-20T15:26:47.717Z"
   },
   {
    "duration": 329,
    "start_time": "2023-10-20T15:26:49.735Z"
   },
   {
    "duration": 559,
    "start_time": "2023-10-20T15:26:51.706Z"
   },
   {
    "duration": 233,
    "start_time": "2023-10-20T15:26:53.808Z"
   },
   {
    "duration": 167,
    "start_time": "2023-10-20T15:26:55.874Z"
   },
   {
    "duration": 442,
    "start_time": "2023-10-20T15:26:58.260Z"
   },
   {
    "duration": 556,
    "start_time": "2023-10-20T15:27:00.172Z"
   },
   {
    "duration": 306,
    "start_time": "2023-10-20T15:28:15.224Z"
   },
   {
    "duration": 215,
    "start_time": "2023-10-20T15:28:17.508Z"
   },
   {
    "duration": 225,
    "start_time": "2023-10-20T15:28:19.563Z"
   },
   {
    "duration": 259,
    "start_time": "2023-10-20T15:28:21.597Z"
   },
   {
    "duration": 299,
    "start_time": "2023-10-20T15:28:24.092Z"
   },
   {
    "duration": 239,
    "start_time": "2023-10-20T15:38:33.381Z"
   },
   {
    "duration": 1306,
    "start_time": "2023-10-20T19:02:01.610Z"
   },
   {
    "duration": 3,
    "start_time": "2023-10-20T19:02:02.918Z"
   },
   {
    "duration": 169,
    "start_time": "2023-10-20T19:02:03.456Z"
   },
   {
    "duration": 30,
    "start_time": "2023-10-20T19:02:04.611Z"
   },
   {
    "duration": 5,
    "start_time": "2023-10-20T19:02:06.812Z"
   },
   {
    "duration": 14,
    "start_time": "2023-10-20T19:02:07.328Z"
   },
   {
    "duration": 9,
    "start_time": "2023-10-20T19:02:07.842Z"
   },
   {
    "duration": 15,
    "start_time": "2023-10-20T19:02:09.010Z"
   },
   {
    "duration": 12,
    "start_time": "2023-10-20T19:02:10.176Z"
   },
   {
    "duration": 6,
    "start_time": "2023-10-20T19:02:11.274Z"
   },
   {
    "duration": 20,
    "start_time": "2023-10-20T19:02:11.813Z"
   },
   {
    "duration": 6,
    "start_time": "2023-10-20T19:02:13.041Z"
   },
   {
    "duration": 6,
    "start_time": "2023-10-20T19:02:13.620Z"
   },
   {
    "duration": 3,
    "start_time": "2023-10-20T19:02:14.704Z"
   },
   {
    "duration": 6,
    "start_time": "2023-10-20T19:02:15.259Z"
   },
   {
    "duration": 5,
    "start_time": "2023-10-20T19:02:16.413Z"
   },
   {
    "duration": 4,
    "start_time": "2023-10-20T19:02:16.929Z"
   },
   {
    "duration": 3,
    "start_time": "2023-10-20T19:02:17.974Z"
   },
   {
    "duration": 7,
    "start_time": "2023-10-20T19:02:18.527Z"
   },
   {
    "duration": 6,
    "start_time": "2023-10-20T19:02:19.668Z"
   },
   {
    "duration": 4,
    "start_time": "2023-10-20T19:02:20.266Z"
   },
   {
    "duration": 6,
    "start_time": "2023-10-20T19:02:21.504Z"
   },
   {
    "duration": 30,
    "start_time": "2023-10-20T19:02:22.099Z"
   },
   {
    "duration": 391,
    "start_time": "2023-10-20T19:02:23.882Z"
   },
   {
    "duration": 518,
    "start_time": "2023-10-20T19:02:26.277Z"
   },
   {
    "duration": 200,
    "start_time": "2023-10-20T19:02:29.806Z"
   },
   {
    "duration": 156,
    "start_time": "2023-10-20T19:02:31.874Z"
   },
   {
    "duration": 413,
    "start_time": "2023-10-20T19:02:33.575Z"
   },
   {
    "duration": 453,
    "start_time": "2023-10-20T19:02:35.660Z"
   },
   {
    "duration": 298,
    "start_time": "2023-10-20T19:02:38.012Z"
   },
   {
    "duration": 209,
    "start_time": "2023-10-20T19:02:39.994Z"
   },
   {
    "duration": 242,
    "start_time": "2023-10-20T19:02:42.001Z"
   },
   {
    "duration": 231,
    "start_time": "2023-10-20T19:02:45.022Z"
   },
   {
    "duration": 234,
    "start_time": "2023-10-20T19:02:50.078Z"
   },
   {
    "duration": 92,
    "start_time": "2023-10-20T19:52:23.717Z"
   },
   {
    "duration": 9,
    "start_time": "2023-10-20T19:52:53.964Z"
   },
   {
    "duration": 5,
    "start_time": "2023-10-20T20:07:44.077Z"
   },
   {
    "duration": 5,
    "start_time": "2023-10-20T20:09:27.834Z"
   },
   {
    "duration": 5,
    "start_time": "2023-10-20T20:16:38.861Z"
   },
   {
    "duration": 1373,
    "start_time": "2023-10-20T22:09:16.271Z"
   },
   {
    "duration": 3,
    "start_time": "2023-10-20T22:09:17.646Z"
   },
   {
    "duration": 138,
    "start_time": "2023-10-20T22:09:17.654Z"
   },
   {
    "duration": 36,
    "start_time": "2023-10-20T22:09:18.586Z"
   },
   {
    "duration": 5,
    "start_time": "2023-10-20T22:09:20.661Z"
   },
   {
    "duration": 15,
    "start_time": "2023-10-20T22:09:21.151Z"
   },
   {
    "duration": 9,
    "start_time": "2023-10-20T22:09:21.627Z"
   },
   {
    "duration": 14,
    "start_time": "2023-10-20T22:09:22.568Z"
   },
   {
    "duration": 23,
    "start_time": "2023-10-20T22:09:23.497Z"
   },
   {
    "duration": 7,
    "start_time": "2023-10-20T22:09:24.440Z"
   },
   {
    "duration": 24,
    "start_time": "2023-10-20T22:09:24.971Z"
   },
   {
    "duration": 6,
    "start_time": "2023-10-20T22:09:28.589Z"
   },
   {
    "duration": 5,
    "start_time": "2023-10-20T22:09:29.174Z"
   },
   {
    "duration": 4,
    "start_time": "2023-10-20T22:09:30.454Z"
   },
   {
    "duration": 6,
    "start_time": "2023-10-20T22:09:31.028Z"
   },
   {
    "duration": 7,
    "start_time": "2023-10-20T22:09:32.184Z"
   },
   {
    "duration": 4,
    "start_time": "2023-10-20T22:09:34.854Z"
   },
   {
    "duration": 5,
    "start_time": "2023-10-20T22:09:36.211Z"
   },
   {
    "duration": 10,
    "start_time": "2023-10-20T22:09:36.918Z"
   },
   {
    "duration": 7,
    "start_time": "2023-10-20T22:09:38.515Z"
   },
   {
    "duration": 3,
    "start_time": "2023-10-20T22:09:39.132Z"
   },
   {
    "duration": 7,
    "start_time": "2023-10-20T22:09:40.251Z"
   },
   {
    "duration": 28,
    "start_time": "2023-10-20T22:09:40.849Z"
   },
   {
    "duration": 437,
    "start_time": "2023-10-20T22:09:43.295Z"
   },
   {
    "duration": 608,
    "start_time": "2023-10-20T22:09:46.347Z"
   },
   {
    "duration": 248,
    "start_time": "2023-10-20T22:09:47.973Z"
   },
   {
    "duration": 186,
    "start_time": "2023-10-20T22:09:49.594Z"
   },
   {
    "duration": 454,
    "start_time": "2023-10-20T22:09:51.427Z"
   },
   {
    "duration": 550,
    "start_time": "2023-10-20T22:09:53.567Z"
   },
   {
    "duration": 338,
    "start_time": "2023-10-20T22:09:55.852Z"
   },
   {
    "duration": 242,
    "start_time": "2023-10-20T22:10:25.231Z"
   },
   {
    "duration": 255,
    "start_time": "2023-10-20T22:15:18.577Z"
   },
   {
    "duration": 446,
    "start_time": "2023-10-20T22:15:53.998Z"
   },
   {
    "duration": 463,
    "start_time": "2023-10-20T22:16:35.654Z"
   },
   {
    "duration": 354,
    "start_time": "2023-10-20T22:19:17.765Z"
   },
   {
    "duration": 235,
    "start_time": "2023-10-20T22:19:19.856Z"
   },
   {
    "duration": 262,
    "start_time": "2023-10-20T22:19:23.089Z"
   },
   {
    "duration": 364,
    "start_time": "2023-10-20T22:19:37.784Z"
   },
   {
    "duration": 254,
    "start_time": "2023-10-20T22:19:55.018Z"
   },
   {
    "duration": 11,
    "start_time": "2023-10-20T22:20:23.056Z"
   },
   {
    "duration": 6,
    "start_time": "2023-10-20T22:20:25.137Z"
   },
   {
    "duration": 10,
    "start_time": "2023-10-20T22:29:33.765Z"
   },
   {
    "duration": 7,
    "start_time": "2023-10-20T22:37:04.168Z"
   },
   {
    "duration": 8,
    "start_time": "2023-10-20T22:38:21.188Z"
   },
   {
    "duration": 9,
    "start_time": "2023-10-20T22:38:47.065Z"
   },
   {
    "duration": 8,
    "start_time": "2023-10-20T22:40:28.160Z"
   },
   {
    "duration": 8,
    "start_time": "2023-10-20T22:42:29.899Z"
   },
   {
    "duration": 8,
    "start_time": "2023-10-20T22:44:19.199Z"
   },
   {
    "duration": 7,
    "start_time": "2023-10-20T22:49:06.688Z"
   },
   {
    "duration": 10,
    "start_time": "2023-10-20T22:55:29.273Z"
   },
   {
    "duration": 8,
    "start_time": "2023-10-20T22:55:32.705Z"
   },
   {
    "duration": 1265,
    "start_time": "2023-10-21T01:23:09.773Z"
   },
   {
    "duration": 3,
    "start_time": "2023-10-21T01:23:11.040Z"
   },
   {
    "duration": 185,
    "start_time": "2023-10-21T01:23:11.045Z"
   },
   {
    "duration": 34,
    "start_time": "2023-10-21T01:23:11.233Z"
   },
   {
    "duration": 6,
    "start_time": "2023-10-21T01:23:11.269Z"
   },
   {
    "duration": 33,
    "start_time": "2023-10-21T01:23:11.276Z"
   },
   {
    "duration": 14,
    "start_time": "2023-10-21T01:23:11.310Z"
   },
   {
    "duration": 15,
    "start_time": "2023-10-21T01:23:11.325Z"
   },
   {
    "duration": 13,
    "start_time": "2023-10-21T01:23:11.341Z"
   },
   {
    "duration": 20,
    "start_time": "2023-10-21T01:23:11.356Z"
   },
   {
    "duration": 41,
    "start_time": "2023-10-21T01:23:11.377Z"
   },
   {
    "duration": 8,
    "start_time": "2023-10-21T01:23:11.419Z"
   },
   {
    "duration": 6,
    "start_time": "2023-10-21T01:23:11.428Z"
   },
   {
    "duration": 7,
    "start_time": "2023-10-21T01:23:11.436Z"
   },
   {
    "duration": 9,
    "start_time": "2023-10-21T01:23:11.445Z"
   },
   {
    "duration": 35,
    "start_time": "2023-10-21T01:23:11.455Z"
   },
   {
    "duration": 11,
    "start_time": "2023-10-21T01:23:11.491Z"
   },
   {
    "duration": 33,
    "start_time": "2023-10-21T01:23:11.503Z"
   },
   {
    "duration": 31,
    "start_time": "2023-10-21T01:23:11.538Z"
   },
   {
    "duration": 7,
    "start_time": "2023-10-21T01:23:11.570Z"
   },
   {
    "duration": 13,
    "start_time": "2023-10-21T01:23:11.579Z"
   },
   {
    "duration": 12,
    "start_time": "2023-10-21T01:23:11.594Z"
   },
   {
    "duration": 31,
    "start_time": "2023-10-21T01:23:11.608Z"
   },
   {
    "duration": 368,
    "start_time": "2023-10-21T01:23:11.641Z"
   },
   {
    "duration": 600,
    "start_time": "2023-10-21T01:23:12.012Z"
   },
   {
    "duration": 240,
    "start_time": "2023-10-21T01:23:12.614Z"
   },
   {
    "duration": 193,
    "start_time": "2023-10-21T01:23:12.855Z"
   },
   {
    "duration": 438,
    "start_time": "2023-10-21T01:23:13.051Z"
   },
   {
    "duration": 488,
    "start_time": "2023-10-21T01:23:13.490Z"
   },
   {
    "duration": 333,
    "start_time": "2023-10-21T01:23:13.980Z"
   },
   {
    "duration": 253,
    "start_time": "2023-10-21T01:23:14.315Z"
   },
   {
    "duration": 277,
    "start_time": "2023-10-21T01:23:14.571Z"
   },
   {
    "duration": 274,
    "start_time": "2023-10-21T01:23:14.849Z"
   },
   {
    "duration": 263,
    "start_time": "2023-10-21T01:23:15.125Z"
   },
   {
    "duration": 17,
    "start_time": "2023-10-21T01:23:15.390Z"
   },
   {
    "duration": 7,
    "start_time": "2023-10-21T01:23:15.409Z"
   },
   {
    "duration": 11,
    "start_time": "2023-10-21T01:23:15.418Z"
   },
   {
    "duration": 7,
    "start_time": "2023-10-21T01:23:15.430Z"
   },
   {
    "duration": 1232,
    "start_time": "2023-10-21T10:06:32.792Z"
   },
   {
    "duration": 3,
    "start_time": "2023-10-21T10:06:34.025Z"
   },
   {
    "duration": 215,
    "start_time": "2023-10-21T10:06:34.029Z"
   },
   {
    "duration": 33,
    "start_time": "2023-10-21T10:06:34.246Z"
   },
   {
    "duration": 46,
    "start_time": "2023-10-21T10:06:34.280Z"
   },
   {
    "duration": 91,
    "start_time": "2023-10-21T10:06:34.327Z"
   },
   {
    "duration": 63,
    "start_time": "2023-10-21T10:06:34.419Z"
   },
   {
    "duration": 58,
    "start_time": "2023-10-21T10:06:34.484Z"
   },
   {
    "duration": 30,
    "start_time": "2023-10-21T10:06:34.544Z"
   },
   {
    "duration": 186,
    "start_time": "2023-10-21T10:06:34.577Z"
   },
   {
    "duration": 14,
    "start_time": "2023-10-21T10:06:34.764Z"
   },
   {
    "duration": 17,
    "start_time": "2023-10-21T10:06:34.780Z"
   },
   {
    "duration": 37,
    "start_time": "2023-10-21T10:06:34.799Z"
   },
   {
    "duration": 14,
    "start_time": "2023-10-21T10:06:34.838Z"
   },
   {
    "duration": 27,
    "start_time": "2023-10-21T10:06:34.853Z"
   },
   {
    "duration": 83,
    "start_time": "2023-10-21T10:06:34.882Z"
   },
   {
    "duration": 64,
    "start_time": "2023-10-21T10:06:34.967Z"
   },
   {
    "duration": 47,
    "start_time": "2023-10-21T10:06:35.033Z"
   },
   {
    "duration": 26,
    "start_time": "2023-10-21T10:06:35.081Z"
   },
   {
    "duration": 77,
    "start_time": "2023-10-21T10:06:35.108Z"
   },
   {
    "duration": 129,
    "start_time": "2023-10-21T10:06:35.187Z"
   },
   {
    "duration": 24,
    "start_time": "2023-10-21T10:06:35.318Z"
   },
   {
    "duration": 12,
    "start_time": "2023-10-21T10:06:35.343Z"
   },
   {
    "duration": 14,
    "start_time": "2023-10-21T10:06:35.356Z"
   },
   {
    "duration": 74,
    "start_time": "2023-10-21T10:06:35.371Z"
   },
   {
    "duration": 405,
    "start_time": "2023-10-21T10:06:35.447Z"
   },
   {
    "duration": 558,
    "start_time": "2023-10-21T10:06:35.854Z"
   },
   {
    "duration": 238,
    "start_time": "2023-10-21T10:06:36.415Z"
   },
   {
    "duration": 264,
    "start_time": "2023-10-21T10:06:36.654Z"
   },
   {
    "duration": 387,
    "start_time": "2023-10-21T10:06:36.923Z"
   },
   {
    "duration": 387,
    "start_time": "2023-10-21T10:06:37.312Z"
   },
   {
    "duration": 311,
    "start_time": "2023-10-21T10:06:37.701Z"
   },
   {
    "duration": 236,
    "start_time": "2023-10-21T10:06:38.014Z"
   },
   {
    "duration": 241,
    "start_time": "2023-10-21T10:06:38.252Z"
   },
   {
    "duration": 258,
    "start_time": "2023-10-21T10:06:38.495Z"
   },
   {
    "duration": 256,
    "start_time": "2023-10-21T10:06:38.755Z"
   },
   {
    "duration": 13,
    "start_time": "2023-10-21T10:06:39.013Z"
   },
   {
    "duration": 14,
    "start_time": "2023-10-21T10:06:39.027Z"
   },
   {
    "duration": 57,
    "start_time": "2023-10-21T10:06:39.043Z"
   },
   {
    "duration": 22,
    "start_time": "2023-10-21T10:06:39.102Z"
   },
   {
    "duration": 7,
    "start_time": "2023-10-21T10:07:04.983Z"
   },
   {
    "duration": 1315,
    "start_time": "2023-10-21T17:01:21.962Z"
   },
   {
    "duration": 2,
    "start_time": "2023-10-21T17:01:23.279Z"
   },
   {
    "duration": 114,
    "start_time": "2023-10-21T17:01:24.137Z"
   },
   {
    "duration": 28,
    "start_time": "2023-10-21T17:01:25.753Z"
   },
   {
    "duration": 4,
    "start_time": "2023-10-21T17:01:28.923Z"
   },
   {
    "duration": 25,
    "start_time": "2023-10-21T17:01:29.528Z"
   },
   {
    "duration": 7,
    "start_time": "2023-10-21T17:01:31.776Z"
   },
   {
    "duration": 13,
    "start_time": "2023-10-21T17:01:33.918Z"
   },
   {
    "duration": 4,
    "start_time": "2023-10-21T17:01:35.323Z"
   },
   {
    "duration": 176,
    "start_time": "2023-10-21T17:01:35.986Z"
   },
   {
    "duration": 11,
    "start_time": "2023-10-21T17:01:39.728Z"
   },
   {
    "duration": 8,
    "start_time": "2023-10-21T17:01:43.686Z"
   },
   {
    "duration": 22,
    "start_time": "2023-10-21T17:01:44.649Z"
   },
   {
    "duration": 14,
    "start_time": "2023-10-21T17:01:51.144Z"
   },
   {
    "duration": 7,
    "start_time": "2023-10-21T17:01:52.037Z"
   },
   {
    "duration": 14,
    "start_time": "2023-10-21T17:01:53.942Z"
   },
   {
    "duration": 5,
    "start_time": "2023-10-21T17:01:55.558Z"
   },
   {
    "duration": 6,
    "start_time": "2023-10-21T17:01:57.359Z"
   },
   {
    "duration": 4,
    "start_time": "2023-10-21T17:01:59.053Z"
   },
   {
    "duration": 4,
    "start_time": "2023-10-21T17:02:01.077Z"
   },
   {
    "duration": 6,
    "start_time": "2023-10-21T17:02:03.671Z"
   },
   {
    "duration": 413,
    "start_time": "2023-10-21T17:04:21.547Z"
   },
   {
    "duration": 10,
    "start_time": "2023-10-21T17:07:14.726Z"
   },
   {
    "duration": 5,
    "start_time": "2023-10-21T17:08:30.590Z"
   },
   {
    "duration": 5,
    "start_time": "2023-10-21T17:24:22.507Z"
   },
   {
    "duration": 3,
    "start_time": "2023-10-21T17:24:26.064Z"
   },
   {
    "duration": 5,
    "start_time": "2023-10-21T17:24:31.068Z"
   },
   {
    "duration": 24,
    "start_time": "2023-10-21T17:24:31.688Z"
   },
   {
    "duration": 3,
    "start_time": "2023-10-21T17:27:44.732Z"
   },
   {
    "duration": 2,
    "start_time": "2023-10-21T17:27:59.031Z"
   },
   {
    "duration": 6,
    "start_time": "2023-10-21T17:28:02.521Z"
   },
   {
    "duration": 24,
    "start_time": "2023-10-21T17:28:03.254Z"
   },
   {
    "duration": 374,
    "start_time": "2023-10-21T17:28:34.572Z"
   },
   {
    "duration": 475,
    "start_time": "2023-10-21T17:28:42.628Z"
   },
   {
    "duration": 541,
    "start_time": "2023-10-21T17:34:53.340Z"
   },
   {
    "duration": 175,
    "start_time": "2023-10-21T17:51:41.887Z"
   },
   {
    "duration": 234,
    "start_time": "2023-10-21T17:53:46.927Z"
   },
   {
    "duration": 205,
    "start_time": "2023-10-21T17:54:04.418Z"
   },
   {
    "duration": 190,
    "start_time": "2023-10-21T17:54:11.610Z"
   },
   {
    "duration": 193,
    "start_time": "2023-10-21T17:54:34.146Z"
   },
   {
    "duration": 195,
    "start_time": "2023-10-21T17:54:45.809Z"
   },
   {
    "duration": 191,
    "start_time": "2023-10-21T17:55:24.145Z"
   },
   {
    "duration": 189,
    "start_time": "2023-10-21T18:18:46.968Z"
   },
   {
    "duration": 282,
    "start_time": "2023-10-21T18:20:30.176Z"
   },
   {
    "duration": 204,
    "start_time": "2023-10-21T19:04:44.642Z"
   },
   {
    "duration": 202,
    "start_time": "2023-10-21T19:08:37.154Z"
   },
   {
    "duration": 199,
    "start_time": "2023-10-21T19:12:35.649Z"
   },
   {
    "duration": 224,
    "start_time": "2023-10-21T19:12:40.604Z"
   },
   {
    "duration": 212,
    "start_time": "2023-10-21T19:13:40.550Z"
   },
   {
    "duration": 221,
    "start_time": "2023-10-21T19:15:00.078Z"
   },
   {
    "duration": 364,
    "start_time": "2023-10-21T19:15:42.315Z"
   },
   {
    "duration": 237,
    "start_time": "2023-10-21T19:25:09.262Z"
   },
   {
    "duration": 242,
    "start_time": "2023-10-21T19:26:11.575Z"
   },
   {
    "duration": 215,
    "start_time": "2023-10-21T19:36:44.691Z"
   },
   {
    "duration": 418,
    "start_time": "2023-10-21T20:11:30.578Z"
   },
   {
    "duration": 396,
    "start_time": "2023-10-21T20:12:32.558Z"
   },
   {
    "duration": 376,
    "start_time": "2023-10-21T20:13:33.649Z"
   },
   {
    "duration": 455,
    "start_time": "2023-10-21T20:14:20.802Z"
   },
   {
    "duration": 4,
    "start_time": "2023-10-21T20:17:10.283Z"
   },
   {
    "duration": 3,
    "start_time": "2023-10-21T20:17:11.807Z"
   },
   {
    "duration": 2,
    "start_time": "2023-10-21T20:17:13.440Z"
   },
   {
    "duration": 5,
    "start_time": "2023-10-21T20:17:14.755Z"
   },
   {
    "duration": 23,
    "start_time": "2023-10-21T20:17:15.305Z"
   },
   {
    "duration": 298,
    "start_time": "2023-10-21T20:17:22.545Z"
   },
   {
    "duration": 457,
    "start_time": "2023-10-21T20:17:24.775Z"
   },
   {
    "duration": 207,
    "start_time": "2023-10-21T20:17:29.111Z"
   },
   {
    "duration": 214,
    "start_time": "2023-10-21T20:17:32.025Z"
   },
   {
    "duration": 218,
    "start_time": "2023-10-21T20:17:33.909Z"
   },
   {
    "duration": 460,
    "start_time": "2023-10-21T20:17:37.424Z"
   },
   {
    "duration": 992,
    "start_time": "2023-10-21T20:19:13.101Z"
   },
   {
    "duration": 2,
    "start_time": "2023-10-21T20:19:14.095Z"
   },
   {
    "duration": 102,
    "start_time": "2023-10-21T20:19:14.099Z"
   },
   {
    "duration": 26,
    "start_time": "2023-10-21T20:19:14.203Z"
   },
   {
    "duration": 4,
    "start_time": "2023-10-21T20:19:14.230Z"
   },
   {
    "duration": 13,
    "start_time": "2023-10-21T20:19:14.235Z"
   },
   {
    "duration": 8,
    "start_time": "2023-10-21T20:19:14.249Z"
   },
   {
    "duration": 12,
    "start_time": "2023-10-21T20:19:14.259Z"
   },
   {
    "duration": 3,
    "start_time": "2023-10-21T20:19:14.273Z"
   },
   {
    "duration": 174,
    "start_time": "2023-10-21T20:19:14.278Z"
   },
   {
    "duration": 11,
    "start_time": "2023-10-21T20:19:14.453Z"
   },
   {
    "duration": 5,
    "start_time": "2023-10-21T20:19:14.466Z"
   },
   {
    "duration": 16,
    "start_time": "2023-10-21T20:19:14.472Z"
   },
   {
    "duration": 5,
    "start_time": "2023-10-21T20:19:14.489Z"
   },
   {
    "duration": 3,
    "start_time": "2023-10-21T20:19:14.495Z"
   },
   {
    "duration": 2,
    "start_time": "2023-10-21T20:19:14.500Z"
   },
   {
    "duration": 5,
    "start_time": "2023-10-21T20:19:14.504Z"
   },
   {
    "duration": 5,
    "start_time": "2023-10-21T20:19:14.540Z"
   },
   {
    "duration": 5,
    "start_time": "2023-10-21T20:19:14.546Z"
   },
   {
    "duration": 3,
    "start_time": "2023-10-21T20:19:14.553Z"
   },
   {
    "duration": 7,
    "start_time": "2023-10-21T20:19:14.558Z"
   },
   {
    "duration": 5,
    "start_time": "2023-10-21T20:19:14.566Z"
   },
   {
    "duration": 4,
    "start_time": "2023-10-21T20:19:14.572Z"
   },
   {
    "duration": 3,
    "start_time": "2023-10-21T20:19:14.577Z"
   },
   {
    "duration": 5,
    "start_time": "2023-10-21T20:19:14.581Z"
   },
   {
    "duration": 23,
    "start_time": "2023-10-21T20:19:14.587Z"
   },
   {
    "duration": 299,
    "start_time": "2023-10-21T20:19:14.640Z"
   },
   {
    "duration": 459,
    "start_time": "2023-10-21T20:19:14.942Z"
   },
   {
    "duration": 201,
    "start_time": "2023-10-21T20:19:15.403Z"
   },
   {
    "duration": 277,
    "start_time": "2023-10-21T20:19:15.606Z"
   },
   {
    "duration": 217,
    "start_time": "2023-10-21T20:19:15.884Z"
   },
   {
    "duration": 399,
    "start_time": "2023-10-21T20:19:16.103Z"
   },
   {
    "duration": 389,
    "start_time": "2023-10-21T20:19:16.504Z"
   },
   {
    "duration": 304,
    "start_time": "2023-10-21T20:19:16.895Z"
   },
   {
    "duration": 207,
    "start_time": "2023-10-21T20:19:17.201Z"
   },
   {
    "duration": 207,
    "start_time": "2023-10-21T20:19:17.409Z"
   },
   {
    "duration": 281,
    "start_time": "2023-10-21T20:19:17.618Z"
   },
   {
    "duration": 210,
    "start_time": "2023-10-21T20:19:17.900Z"
   },
   {
    "duration": 8,
    "start_time": "2023-10-21T20:19:18.111Z"
   },
   {
    "duration": 7,
    "start_time": "2023-10-21T20:19:18.120Z"
   },
   {
    "duration": 7,
    "start_time": "2023-10-21T20:19:18.140Z"
   },
   {
    "duration": 5,
    "start_time": "2023-10-21T20:19:18.148Z"
   },
   {
    "duration": 1324,
    "start_time": "2023-10-21T22:33:18.820Z"
   },
   {
    "duration": 3,
    "start_time": "2023-10-21T22:33:20.146Z"
   },
   {
    "duration": 113,
    "start_time": "2023-10-21T22:33:20.583Z"
   },
   {
    "duration": 33,
    "start_time": "2023-10-21T22:33:21.683Z"
   },
   {
    "duration": 5,
    "start_time": "2023-10-21T22:33:24.535Z"
   },
   {
    "duration": 15,
    "start_time": "2023-10-21T22:33:25.031Z"
   },
   {
    "duration": 10,
    "start_time": "2023-10-21T22:33:26.692Z"
   },
   {
    "duration": 14,
    "start_time": "2023-10-21T22:33:27.897Z"
   },
   {
    "duration": 4,
    "start_time": "2023-10-21T22:33:29.369Z"
   },
   {
    "duration": 184,
    "start_time": "2023-10-21T22:33:30.149Z"
   },
   {
    "duration": 14,
    "start_time": "2023-10-21T22:33:33.798Z"
   },
   {
    "duration": 6,
    "start_time": "2023-10-21T22:33:36.149Z"
   },
   {
    "duration": 21,
    "start_time": "2023-10-21T22:33:36.797Z"
   },
   {
    "duration": 5,
    "start_time": "2023-10-21T22:38:29.807Z"
   },
   {
    "duration": 7,
    "start_time": "2023-10-21T22:38:31.752Z"
   },
   {
    "duration": 5,
    "start_time": "2023-10-21T22:38:33.040Z"
   },
   {
    "duration": 4,
    "start_time": "2023-10-21T22:38:34.245Z"
   },
   {
    "duration": 9,
    "start_time": "2023-10-21T22:38:36.007Z"
   },
   {
    "duration": 6,
    "start_time": "2023-10-21T22:38:38.355Z"
   },
   {
    "duration": 108,
    "start_time": "2023-10-21T22:38:39.000Z"
   },
   {
    "duration": 3,
    "start_time": "2023-10-21T22:41:13.804Z"
   },
   {
    "duration": 3,
    "start_time": "2023-10-21T22:41:14.366Z"
   },
   {
    "duration": 110,
    "start_time": "2023-10-21T22:41:15.832Z"
   },
   {
    "duration": 29,
    "start_time": "2023-10-21T22:41:17.465Z"
   },
   {
    "duration": 6,
    "start_time": "2023-10-21T22:41:21.597Z"
   },
   {
    "duration": 17,
    "start_time": "2023-10-21T22:41:22.302Z"
   },
   {
    "duration": 11,
    "start_time": "2023-10-21T22:41:25.103Z"
   },
   {
    "duration": 14,
    "start_time": "2023-10-21T22:41:28.240Z"
   },
   {
    "duration": 4,
    "start_time": "2023-10-21T22:41:30.977Z"
   },
   {
    "duration": 163,
    "start_time": "2023-10-21T22:41:31.941Z"
   },
   {
    "duration": 20,
    "start_time": "2023-10-21T22:41:34.566Z"
   },
   {
    "duration": 8,
    "start_time": "2023-10-21T22:41:36.237Z"
   },
   {
    "duration": 24,
    "start_time": "2023-10-21T22:41:37.833Z"
   },
   {
    "duration": 6,
    "start_time": "2023-10-21T22:41:41.688Z"
   },
   {
    "duration": 6,
    "start_time": "2023-10-21T22:41:42.503Z"
   },
   {
    "duration": 4,
    "start_time": "2023-10-21T22:41:44.377Z"
   },
   {
    "duration": 5,
    "start_time": "2023-10-21T22:41:46.093Z"
   },
   {
    "duration": 7,
    "start_time": "2023-10-21T22:41:47.687Z"
   },
   {
    "duration": 5,
    "start_time": "2023-10-21T22:41:49.217Z"
   },
   {
    "duration": 4,
    "start_time": "2023-10-21T22:41:50.733Z"
   },
   {
    "duration": 9,
    "start_time": "2023-10-21T22:41:52.914Z"
   },
   {
    "duration": 8,
    "start_time": "2023-10-21T22:41:54.697Z"
   },
   {
    "duration": 4,
    "start_time": "2023-10-21T22:41:58.471Z"
   },
   {
    "duration": 6,
    "start_time": "2023-10-21T22:42:00.387Z"
   },
   {
    "duration": 29,
    "start_time": "2023-10-21T22:42:01.379Z"
   },
   {
    "duration": 422,
    "start_time": "2023-10-21T22:42:05.698Z"
   },
   {
    "duration": 571,
    "start_time": "2023-10-21T22:42:10.088Z"
   },
   {
    "duration": 233,
    "start_time": "2023-10-21T22:42:21.017Z"
   },
   {
    "duration": 353,
    "start_time": "2023-10-21T22:42:34.687Z"
   },
   {
    "duration": 263,
    "start_time": "2023-10-21T22:42:44.869Z"
   },
   {
    "duration": 410,
    "start_time": "2023-10-21T22:42:58.095Z"
   },
   {
    "duration": 3,
    "start_time": "2023-10-21T22:45:31.881Z"
   },
   {
    "duration": 5,
    "start_time": "2023-10-21T22:45:32.892Z"
   },
   {
    "duration": 28,
    "start_time": "2023-10-21T22:45:33.536Z"
   },
   {
    "duration": 29,
    "start_time": "2023-10-21T22:45:56.573Z"
   },
   {
    "duration": 389,
    "start_time": "2023-10-21T22:47:27.021Z"
   },
   {
    "duration": 249,
    "start_time": "2023-10-21T22:49:18.082Z"
   },
   {
    "duration": 275,
    "start_time": "2023-10-21T22:49:18.333Z"
   },
   {
    "duration": 445,
    "start_time": "2023-10-21T22:49:21.125Z"
   },
   {
    "duration": 3,
    "start_time": "2023-10-21T22:56:21.541Z"
   },
   {
    "duration": 5,
    "start_time": "2023-10-21T22:56:25.049Z"
   },
   {
    "duration": 28,
    "start_time": "2023-10-21T22:56:25.706Z"
   },
   {
    "duration": 437,
    "start_time": "2023-10-21T22:56:29.564Z"
   },
   {
    "duration": 585,
    "start_time": "2023-10-21T22:56:32.083Z"
   },
   {
    "duration": 237,
    "start_time": "2023-10-21T22:56:39.114Z"
   },
   {
    "duration": 245,
    "start_time": "2023-10-21T22:56:43.018Z"
   },
   {
    "duration": 261,
    "start_time": "2023-10-21T22:56:46.236Z"
   },
   {
    "duration": 435,
    "start_time": "2023-10-21T23:28:44.767Z"
   },
   {
    "duration": 561,
    "start_time": "2023-10-21T23:37:22.675Z"
   },
   {
    "duration": 452,
    "start_time": "2023-10-22T00:10:06.948Z"
   },
   {
    "duration": 444,
    "start_time": "2023-10-22T00:13:19.981Z"
   },
   {
    "duration": 430,
    "start_time": "2023-10-22T00:14:57.266Z"
   },
   {
    "duration": 417,
    "start_time": "2023-10-22T00:15:55.600Z"
   },
   {
    "duration": 392,
    "start_time": "2023-10-22T00:17:46.926Z"
   },
   {
    "duration": 421,
    "start_time": "2023-10-22T00:18:06.774Z"
   },
   {
    "duration": 359,
    "start_time": "2023-10-22T00:21:39.380Z"
   },
   {
    "duration": 345,
    "start_time": "2023-10-22T00:22:20.438Z"
   },
   {
    "duration": 473,
    "start_time": "2023-10-22T00:23:44.430Z"
   },
   {
    "duration": 409,
    "start_time": "2023-10-22T00:33:20.871Z"
   },
   {
    "duration": 1230,
    "start_time": "2023-10-22T00:42:25.498Z"
   },
   {
    "duration": 3,
    "start_time": "2023-10-22T00:42:26.730Z"
   },
   {
    "duration": 160,
    "start_time": "2023-10-22T00:42:26.734Z"
   },
   {
    "duration": 33,
    "start_time": "2023-10-22T00:42:26.895Z"
   },
   {
    "duration": 7,
    "start_time": "2023-10-22T00:42:26.930Z"
   },
   {
    "duration": 21,
    "start_time": "2023-10-22T00:42:26.938Z"
   },
   {
    "duration": 39,
    "start_time": "2023-10-22T00:42:26.961Z"
   },
   {
    "duration": 20,
    "start_time": "2023-10-22T00:42:27.002Z"
   },
   {
    "duration": 4,
    "start_time": "2023-10-22T00:42:27.024Z"
   },
   {
    "duration": 196,
    "start_time": "2023-10-22T00:42:27.030Z"
   },
   {
    "duration": 14,
    "start_time": "2023-10-22T00:42:27.228Z"
   },
   {
    "duration": 58,
    "start_time": "2023-10-22T00:42:27.244Z"
   },
   {
    "duration": 62,
    "start_time": "2023-10-22T00:42:27.304Z"
   },
   {
    "duration": 26,
    "start_time": "2023-10-22T00:42:27.369Z"
   },
   {
    "duration": 30,
    "start_time": "2023-10-22T00:42:27.397Z"
   },
   {
    "duration": 10,
    "start_time": "2023-10-22T00:42:27.429Z"
   },
   {
    "duration": 18,
    "start_time": "2023-10-22T00:42:27.441Z"
   },
   {
    "duration": 19,
    "start_time": "2023-10-22T00:42:27.461Z"
   },
   {
    "duration": 18,
    "start_time": "2023-10-22T00:42:27.482Z"
   },
   {
    "duration": 23,
    "start_time": "2023-10-22T00:42:27.502Z"
   },
   {
    "duration": 12,
    "start_time": "2023-10-22T00:42:27.527Z"
   },
   {
    "duration": 15,
    "start_time": "2023-10-22T00:42:27.541Z"
   },
   {
    "duration": 29,
    "start_time": "2023-10-22T00:42:27.557Z"
   },
   {
    "duration": 12,
    "start_time": "2023-10-22T00:42:27.588Z"
   },
   {
    "duration": 54,
    "start_time": "2023-10-22T00:42:27.602Z"
   },
   {
    "duration": 362,
    "start_time": "2023-10-22T00:42:27.658Z"
   },
   {
    "duration": 596,
    "start_time": "2023-10-22T00:42:28.022Z"
   },
   {
    "duration": 255,
    "start_time": "2023-10-22T00:42:28.619Z"
   },
   {
    "duration": 352,
    "start_time": "2023-10-22T00:42:28.876Z"
   },
   {
    "duration": 262,
    "start_time": "2023-10-22T00:42:29.230Z"
   },
   {
    "duration": 425,
    "start_time": "2023-10-22T00:42:29.494Z"
   },
   {
    "duration": 466,
    "start_time": "2023-10-22T00:42:29.921Z"
   },
   {
    "duration": 333,
    "start_time": "2023-10-22T00:42:30.388Z"
   },
   {
    "duration": 238,
    "start_time": "2023-10-22T00:42:30.723Z"
   },
   {
    "duration": 292,
    "start_time": "2023-10-22T00:42:30.963Z"
   },
   {
    "duration": 365,
    "start_time": "2023-10-22T00:42:31.257Z"
   },
   {
    "duration": 262,
    "start_time": "2023-10-22T00:42:31.625Z"
   },
   {
    "duration": 18,
    "start_time": "2023-10-22T00:42:31.889Z"
   },
   {
    "duration": 26,
    "start_time": "2023-10-22T00:42:31.909Z"
   },
   {
    "duration": 47,
    "start_time": "2023-10-22T00:42:31.936Z"
   },
   {
    "duration": 63,
    "start_time": "2023-10-22T00:42:31.987Z"
   },
   {
    "duration": 4,
    "start_time": "2023-10-22T00:46:16.058Z"
   },
   {
    "duration": 3,
    "start_time": "2023-10-22T00:46:16.071Z"
   },
   {
    "duration": 102,
    "start_time": "2023-10-22T00:46:17.256Z"
   },
   {
    "duration": 33,
    "start_time": "2023-10-22T00:46:18.530Z"
   },
   {
    "duration": 5,
    "start_time": "2023-10-22T00:46:22.252Z"
   },
   {
    "duration": 19,
    "start_time": "2023-10-22T00:46:22.871Z"
   },
   {
    "duration": 9,
    "start_time": "2023-10-22T00:46:25.083Z"
   },
   {
    "duration": 15,
    "start_time": "2023-10-22T00:46:31.967Z"
   },
   {
    "duration": 4,
    "start_time": "2023-10-22T00:46:33.527Z"
   },
   {
    "duration": 179,
    "start_time": "2023-10-22T00:46:34.224Z"
   },
   {
    "duration": 15,
    "start_time": "2023-10-22T00:46:36.137Z"
   },
   {
    "duration": 9,
    "start_time": "2023-10-22T00:46:37.475Z"
   },
   {
    "duration": 24,
    "start_time": "2023-10-22T00:46:38.099Z"
   },
   {
    "duration": 8,
    "start_time": "2023-10-22T00:46:40.870Z"
   },
   {
    "duration": 6,
    "start_time": "2023-10-22T00:46:41.545Z"
   },
   {
    "duration": 4,
    "start_time": "2023-10-22T00:46:42.912Z"
   },
   {
    "duration": 7,
    "start_time": "2023-10-22T00:46:44.208Z"
   },
   {
    "duration": 7,
    "start_time": "2023-10-22T00:46:45.381Z"
   },
   {
    "duration": 7,
    "start_time": "2023-10-22T00:46:46.681Z"
   },
   {
    "duration": 6,
    "start_time": "2023-10-22T00:46:48.082Z"
   },
   {
    "duration": 10,
    "start_time": "2023-10-22T00:46:50.307Z"
   },
   {
    "duration": 7,
    "start_time": "2023-10-22T00:46:51.831Z"
   },
   {
    "duration": 4,
    "start_time": "2023-10-22T00:46:56.053Z"
   },
   {
    "duration": 6,
    "start_time": "2023-10-22T00:46:57.861Z"
   },
   {
    "duration": 29,
    "start_time": "2023-10-22T00:46:59.548Z"
   },
   {
    "duration": 353,
    "start_time": "2023-10-22T00:47:08.478Z"
   },
   {
    "duration": 573,
    "start_time": "2023-10-22T00:47:11.962Z"
   },
   {
    "duration": 238,
    "start_time": "2023-10-22T00:47:20.468Z"
   },
   {
    "duration": 358,
    "start_time": "2023-10-22T00:47:31.756Z"
   },
   {
    "duration": 275,
    "start_time": "2023-10-22T00:47:34.147Z"
   },
   {
    "duration": 479,
    "start_time": "2023-10-22T00:47:38.952Z"
   },
   {
    "duration": 5,
    "start_time": "2023-10-22T00:49:43.042Z"
   },
   {
    "duration": 1222,
    "start_time": "2023-10-22T00:49:57.204Z"
   },
   {
    "duration": 2,
    "start_time": "2023-10-22T00:49:58.428Z"
   },
   {
    "duration": 121,
    "start_time": "2023-10-22T00:49:58.432Z"
   },
   {
    "duration": 36,
    "start_time": "2023-10-22T00:49:58.555Z"
   },
   {
    "duration": 5,
    "start_time": "2023-10-22T00:49:58.600Z"
   },
   {
    "duration": 31,
    "start_time": "2023-10-22T00:49:58.607Z"
   },
   {
    "duration": 13,
    "start_time": "2023-10-22T00:49:58.641Z"
   },
   {
    "duration": 20,
    "start_time": "2023-10-22T00:49:58.656Z"
   },
   {
    "duration": 7,
    "start_time": "2023-10-22T00:49:58.678Z"
   },
   {
    "duration": 236,
    "start_time": "2023-10-22T00:49:58.701Z"
   },
   {
    "duration": 14,
    "start_time": "2023-10-22T00:49:58.938Z"
   },
   {
    "duration": 15,
    "start_time": "2023-10-22T00:49:58.954Z"
   },
   {
    "duration": 33,
    "start_time": "2023-10-22T00:49:58.971Z"
   },
   {
    "duration": 15,
    "start_time": "2023-10-22T00:49:59.007Z"
   },
   {
    "duration": 29,
    "start_time": "2023-10-22T00:49:59.023Z"
   },
   {
    "duration": 14,
    "start_time": "2023-10-22T00:49:59.054Z"
   },
   {
    "duration": 17,
    "start_time": "2023-10-22T00:49:59.070Z"
   },
   {
    "duration": 20,
    "start_time": "2023-10-22T00:49:59.089Z"
   },
   {
    "duration": 13,
    "start_time": "2023-10-22T00:49:59.111Z"
   },
   {
    "duration": 6,
    "start_time": "2023-10-22T00:49:59.126Z"
   },
   {
    "duration": 16,
    "start_time": "2023-10-22T00:49:59.134Z"
   },
   {
    "duration": 36,
    "start_time": "2023-10-22T00:49:59.152Z"
   },
   {
    "duration": 29,
    "start_time": "2023-10-22T00:49:59.190Z"
   },
   {
    "duration": 8,
    "start_time": "2023-10-22T00:49:59.220Z"
   },
   {
    "duration": 34,
    "start_time": "2023-10-22T00:49:59.229Z"
   },
   {
    "duration": 330,
    "start_time": "2023-10-22T00:49:59.265Z"
   },
   {
    "duration": 615,
    "start_time": "2023-10-22T00:49:59.602Z"
   },
   {
    "duration": 257,
    "start_time": "2023-10-22T00:50:00.218Z"
   },
   {
    "duration": 364,
    "start_time": "2023-10-22T00:50:00.476Z"
   },
   {
    "duration": 279,
    "start_time": "2023-10-22T00:50:00.841Z"
   },
   {
    "duration": 483,
    "start_time": "2023-10-22T00:50:01.122Z"
   },
   {
    "duration": 433,
    "start_time": "2023-10-22T00:50:01.607Z"
   },
   {
    "duration": 352,
    "start_time": "2023-10-22T00:50:02.042Z"
   },
   {
    "duration": 247,
    "start_time": "2023-10-22T00:50:02.402Z"
   },
   {
    "duration": 258,
    "start_time": "2023-10-22T00:50:02.650Z"
   },
   {
    "duration": 377,
    "start_time": "2023-10-22T00:50:02.910Z"
   },
   {
    "duration": 276,
    "start_time": "2023-10-22T00:50:03.289Z"
   },
   {
    "duration": 13,
    "start_time": "2023-10-22T00:50:03.567Z"
   },
   {
    "duration": 20,
    "start_time": "2023-10-22T00:50:03.582Z"
   },
   {
    "duration": 23,
    "start_time": "2023-10-22T00:50:03.604Z"
   },
   {
    "duration": 8,
    "start_time": "2023-10-22T00:50:03.631Z"
   },
   {
    "duration": 374,
    "start_time": "2023-10-22T00:54:04.373Z"
   },
   {
    "duration": 348,
    "start_time": "2023-10-22T00:55:52.721Z"
   },
   {
    "duration": 364,
    "start_time": "2023-10-22T00:56:37.441Z"
   },
   {
    "duration": 376,
    "start_time": "2023-10-22T00:57:10.211Z"
   },
   {
    "duration": 367,
    "start_time": "2023-10-22T00:57:37.266Z"
   },
   {
    "duration": 357,
    "start_time": "2023-10-22T00:58:54.956Z"
   },
   {
    "duration": 347,
    "start_time": "2023-10-22T00:59:21.285Z"
   },
   {
    "duration": 433,
    "start_time": "2023-10-22T01:20:37.891Z"
   },
   {
    "duration": 270,
    "start_time": "2023-10-22T01:22:10.531Z"
   },
   {
    "duration": 444,
    "start_time": "2023-10-22T01:22:15.724Z"
   },
   {
    "duration": 424,
    "start_time": "2023-10-22T01:22:19.546Z"
   },
   {
    "duration": 424,
    "start_time": "2023-10-22T01:22:24.212Z"
   },
   {
    "duration": 291,
    "start_time": "2023-10-22T01:22:39.236Z"
   },
   {
    "duration": 290,
    "start_time": "2023-10-22T01:24:56.206Z"
   },
   {
    "duration": 402,
    "start_time": "2023-10-22T01:30:18.419Z"
   },
   {
    "duration": 347,
    "start_time": "2023-10-22T01:34:54.225Z"
   },
   {
    "duration": 310,
    "start_time": "2023-10-22T01:35:03.067Z"
   },
   {
    "duration": 290,
    "start_time": "2023-10-22T01:36:18.891Z"
   },
   {
    "duration": 294,
    "start_time": "2023-10-22T01:36:39.470Z"
   },
   {
    "duration": 292,
    "start_time": "2023-10-22T02:15:13.695Z"
   },
   {
    "duration": 397,
    "start_time": "2023-10-22T02:15:16.306Z"
   },
   {
    "duration": 235,
    "start_time": "2023-10-22T02:15:30.137Z"
   },
   {
    "duration": 235,
    "start_time": "2023-10-22T02:16:00.933Z"
   },
   {
    "duration": 718,
    "start_time": "2023-10-22T02:27:19.235Z"
   },
   {
    "duration": 903,
    "start_time": "2023-10-22T02:27:42.760Z"
   },
   {
    "duration": 661,
    "start_time": "2023-10-22T02:28:17.112Z"
   },
   {
    "duration": 10,
    "start_time": "2023-10-22T02:48:51.740Z"
   },
   {
    "duration": 7,
    "start_time": "2023-10-22T02:48:53.534Z"
   },
   {
    "duration": 8,
    "start_time": "2023-10-22T02:49:53.781Z"
   },
   {
    "duration": 7,
    "start_time": "2023-10-22T02:50:16.617Z"
   },
   {
    "duration": 8,
    "start_time": "2023-10-22T02:50:22.971Z"
   },
   {
    "duration": 6,
    "start_time": "2023-10-22T02:52:59.021Z"
   },
   {
    "duration": 7,
    "start_time": "2023-10-22T02:53:39.254Z"
   },
   {
    "duration": 7,
    "start_time": "2023-10-22T02:54:03.933Z"
   },
   {
    "duration": 7,
    "start_time": "2023-10-22T02:54:09.392Z"
   },
   {
    "duration": 9,
    "start_time": "2023-10-22T03:14:12.934Z"
   },
   {
    "duration": 11,
    "start_time": "2023-10-22T03:15:05.563Z"
   },
   {
    "duration": 11,
    "start_time": "2023-10-22T03:18:01.061Z"
   },
   {
    "duration": 7,
    "start_time": "2023-10-22T03:18:16.176Z"
   },
   {
    "duration": 103,
    "start_time": "2023-10-22T03:21:23.656Z"
   },
   {
    "duration": 18,
    "start_time": "2023-10-22T03:24:16.528Z"
   },
   {
    "duration": 7,
    "start_time": "2023-10-22T03:25:35.840Z"
   },
   {
    "duration": 7,
    "start_time": "2023-10-22T03:47:09.617Z"
   },
   {
    "duration": 1181,
    "start_time": "2023-10-22T03:54:41.146Z"
   },
   {
    "duration": 2,
    "start_time": "2023-10-22T03:54:42.330Z"
   },
   {
    "duration": 179,
    "start_time": "2023-10-22T03:54:42.334Z"
   },
   {
    "duration": 32,
    "start_time": "2023-10-22T03:54:42.516Z"
   },
   {
    "duration": 5,
    "start_time": "2023-10-22T03:54:42.550Z"
   },
   {
    "duration": 20,
    "start_time": "2023-10-22T03:54:42.557Z"
   },
   {
    "duration": 9,
    "start_time": "2023-10-22T03:54:42.602Z"
   },
   {
    "duration": 30,
    "start_time": "2023-10-22T03:54:42.612Z"
   },
   {
    "duration": 5,
    "start_time": "2023-10-22T03:54:42.644Z"
   },
   {
    "duration": 204,
    "start_time": "2023-10-22T03:54:42.651Z"
   },
   {
    "duration": 19,
    "start_time": "2023-10-22T03:54:42.857Z"
   },
   {
    "duration": 11,
    "start_time": "2023-10-22T03:54:42.877Z"
   },
   {
    "duration": 42,
    "start_time": "2023-10-22T03:54:42.890Z"
   },
   {
    "duration": 132,
    "start_time": "2023-10-22T03:54:42.933Z"
   },
   {
    "duration": 36,
    "start_time": "2023-10-22T03:54:43.067Z"
   },
   {
    "duration": 34,
    "start_time": "2023-10-22T03:54:43.105Z"
   },
   {
    "duration": 8,
    "start_time": "2023-10-22T03:54:43.141Z"
   },
   {
    "duration": 20,
    "start_time": "2023-10-22T03:54:43.151Z"
   },
   {
    "duration": 16,
    "start_time": "2023-10-22T03:54:43.173Z"
   },
   {
    "duration": 22,
    "start_time": "2023-10-22T03:54:43.190Z"
   },
   {
    "duration": 26,
    "start_time": "2023-10-22T03:54:43.214Z"
   },
   {
    "duration": 14,
    "start_time": "2023-10-22T03:54:43.242Z"
   },
   {
    "duration": 18,
    "start_time": "2023-10-22T03:54:43.258Z"
   },
   {
    "duration": 17,
    "start_time": "2023-10-22T03:54:43.278Z"
   },
   {
    "duration": 46,
    "start_time": "2023-10-22T03:54:43.296Z"
   },
   {
    "duration": 378,
    "start_time": "2023-10-22T03:54:43.344Z"
   },
   {
    "duration": 612,
    "start_time": "2023-10-22T03:54:43.724Z"
   },
   {
    "duration": 276,
    "start_time": "2023-10-22T03:54:44.340Z"
   },
   {
    "duration": 361,
    "start_time": "2023-10-22T03:54:44.619Z"
   },
   {
    "duration": 277,
    "start_time": "2023-10-22T03:54:44.981Z"
   },
   {
    "duration": 456,
    "start_time": "2023-10-22T03:54:45.260Z"
   },
   {
    "duration": 443,
    "start_time": "2023-10-22T03:54:45.718Z"
   },
   {
    "duration": 342,
    "start_time": "2023-10-22T03:54:46.162Z"
   },
   {
    "duration": 299,
    "start_time": "2023-10-22T03:54:46.506Z"
   },
   {
    "duration": 296,
    "start_time": "2023-10-22T03:54:46.807Z"
   },
   {
    "duration": 344,
    "start_time": "2023-10-22T03:54:47.105Z"
   },
   {
    "duration": 260,
    "start_time": "2023-10-22T03:54:47.452Z"
   },
   {
    "duration": 265,
    "start_time": "2023-10-22T03:54:47.714Z"
   },
   {
    "duration": 266,
    "start_time": "2023-10-22T03:54:47.982Z"
   },
   {
    "duration": 10,
    "start_time": "2023-10-22T03:54:48.250Z"
   },
   {
    "duration": 24,
    "start_time": "2023-10-22T03:54:48.262Z"
   },
   {
    "duration": 18,
    "start_time": "2023-10-22T03:54:48.288Z"
   },
   {
    "duration": 7,
    "start_time": "2023-10-22T03:54:48.308Z"
   },
   {
    "duration": 44,
    "start_time": "2023-10-22T15:34:53.603Z"
   },
   {
    "duration": 1203,
    "start_time": "2023-10-22T15:35:09.799Z"
   },
   {
    "duration": 3,
    "start_time": "2023-10-22T15:35:11.004Z"
   },
   {
    "duration": 121,
    "start_time": "2023-10-22T15:35:11.777Z"
   },
   {
    "duration": 26,
    "start_time": "2023-10-22T15:35:14.662Z"
   },
   {
    "duration": 4,
    "start_time": "2023-10-22T15:35:18.719Z"
   },
   {
    "duration": 13,
    "start_time": "2023-10-22T15:35:19.362Z"
   },
   {
    "duration": 7,
    "start_time": "2023-10-22T15:35:21.925Z"
   },
   {
    "duration": 11,
    "start_time": "2023-10-22T15:35:34.311Z"
   },
   {
    "duration": 4,
    "start_time": "2023-10-22T15:35:36.425Z"
   },
   {
    "duration": 151,
    "start_time": "2023-10-22T15:35:38.417Z"
   },
   {
    "duration": 11,
    "start_time": "2023-10-22T15:35:41.268Z"
   },
   {
    "duration": 6,
    "start_time": "2023-10-22T15:35:42.869Z"
   },
   {
    "duration": 17,
    "start_time": "2023-10-22T15:35:43.755Z"
   },
   {
    "duration": 5,
    "start_time": "2023-10-22T15:35:46.844Z"
   },
   {
    "duration": 4,
    "start_time": "2023-10-22T15:35:47.509Z"
   },
   {
    "duration": 3,
    "start_time": "2023-10-22T15:35:49.342Z"
   },
   {
    "duration": 4,
    "start_time": "2023-10-22T15:35:50.676Z"
   },
   {
    "duration": 6,
    "start_time": "2023-10-22T15:35:53.774Z"
   },
   {
    "duration": 4,
    "start_time": "2023-10-22T15:35:55.371Z"
   },
   {
    "duration": 3,
    "start_time": "2023-10-22T15:35:57.711Z"
   },
   {
    "duration": 8,
    "start_time": "2023-10-22T15:35:59.916Z"
   },
   {
    "duration": 5,
    "start_time": "2023-10-22T15:36:01.948Z"
   },
   {
    "duration": 3,
    "start_time": "2023-10-22T15:36:04.123Z"
   },
   {
    "duration": 5,
    "start_time": "2023-10-22T15:36:05.817Z"
   },
   {
    "duration": 23,
    "start_time": "2023-10-22T15:36:07.111Z"
   },
   {
    "duration": 382,
    "start_time": "2023-10-22T15:36:13.567Z"
   },
   {
    "duration": 457,
    "start_time": "2023-10-22T15:36:26.852Z"
   },
   {
    "duration": 189,
    "start_time": "2023-10-22T15:36:35.360Z"
   },
   {
    "duration": 286,
    "start_time": "2023-10-22T15:36:42.511Z"
   },
   {
    "duration": 218,
    "start_time": "2023-10-22T15:36:45.775Z"
   },
   {
    "duration": 372,
    "start_time": "2023-10-22T15:36:50.219Z"
   },
   {
    "duration": 352,
    "start_time": "2023-10-22T15:36:57.055Z"
   },
   {
    "duration": 311,
    "start_time": "2023-10-22T15:37:01.014Z"
   },
   {
    "duration": 336,
    "start_time": "2023-10-22T15:37:36.203Z"
   },
   {
    "duration": 278,
    "start_time": "2023-10-22T15:38:32.307Z"
   },
   {
    "duration": 242,
    "start_time": "2023-10-22T15:38:35.164Z"
   },
   {
    "duration": 246,
    "start_time": "2023-10-22T15:38:39.149Z"
   },
   {
    "duration": 9,
    "start_time": "2023-10-22T15:40:08.406Z"
   },
   {
    "duration": 5,
    "start_time": "2023-10-22T15:41:42.871Z"
   },
   {
    "duration": 8,
    "start_time": "2023-10-22T15:43:54.700Z"
   },
   {
    "duration": 7,
    "start_time": "2023-10-22T15:44:00.054Z"
   },
   {
    "duration": 6,
    "start_time": "2023-10-22T15:45:14.844Z"
   },
   {
    "duration": 6,
    "start_time": "2023-10-22T15:45:49.753Z"
   },
   {
    "duration": 211,
    "start_time": "2023-10-22T16:06:44.004Z"
   },
   {
    "duration": 206,
    "start_time": "2023-10-22T16:18:17.670Z"
   },
   {
    "duration": 228,
    "start_time": "2023-10-22T16:28:53.866Z"
   },
   {
    "duration": 237,
    "start_time": "2023-10-22T16:35:54.707Z"
   },
   {
    "duration": 259,
    "start_time": "2023-10-22T16:36:06.046Z"
   },
   {
    "duration": 1082,
    "start_time": "2023-10-22T16:36:54.427Z"
   },
   {
    "duration": 3,
    "start_time": "2023-10-22T16:36:55.511Z"
   },
   {
    "duration": 111,
    "start_time": "2023-10-22T16:36:55.515Z"
   },
   {
    "duration": 28,
    "start_time": "2023-10-22T16:36:55.629Z"
   },
   {
    "duration": 4,
    "start_time": "2023-10-22T16:36:55.658Z"
   },
   {
    "duration": 14,
    "start_time": "2023-10-22T16:36:55.663Z"
   },
   {
    "duration": 7,
    "start_time": "2023-10-22T16:36:55.679Z"
   },
   {
    "duration": 12,
    "start_time": "2023-10-22T16:36:55.687Z"
   },
   {
    "duration": 4,
    "start_time": "2023-10-22T16:36:55.701Z"
   },
   {
    "duration": 184,
    "start_time": "2023-10-22T16:36:55.708Z"
   },
   {
    "duration": 11,
    "start_time": "2023-10-22T16:36:55.893Z"
   },
   {
    "duration": 6,
    "start_time": "2023-10-22T16:36:55.906Z"
   },
   {
    "duration": 37,
    "start_time": "2023-10-22T16:36:55.913Z"
   },
   {
    "duration": 5,
    "start_time": "2023-10-22T16:36:55.952Z"
   },
   {
    "duration": 6,
    "start_time": "2023-10-22T16:36:55.958Z"
   },
   {
    "duration": 4,
    "start_time": "2023-10-22T16:36:55.965Z"
   },
   {
    "duration": 6,
    "start_time": "2023-10-22T16:36:55.970Z"
   },
   {
    "duration": 6,
    "start_time": "2023-10-22T16:36:55.977Z"
   },
   {
    "duration": 13,
    "start_time": "2023-10-22T16:36:55.984Z"
   },
   {
    "duration": 3,
    "start_time": "2023-10-22T16:36:55.998Z"
   },
   {
    "duration": 43,
    "start_time": "2023-10-22T16:36:56.003Z"
   },
   {
    "duration": 6,
    "start_time": "2023-10-22T16:36:56.047Z"
   },
   {
    "duration": 3,
    "start_time": "2023-10-22T16:36:56.055Z"
   },
   {
    "duration": 5,
    "start_time": "2023-10-22T16:36:56.060Z"
   },
   {
    "duration": 24,
    "start_time": "2023-10-22T16:36:56.066Z"
   },
   {
    "duration": 350,
    "start_time": "2023-10-22T16:36:56.091Z"
   },
   {
    "duration": 498,
    "start_time": "2023-10-22T16:36:56.443Z"
   },
   {
    "duration": 196,
    "start_time": "2023-10-22T16:36:56.945Z"
   },
   {
    "duration": 270,
    "start_time": "2023-10-22T16:36:57.142Z"
   },
   {
    "duration": 228,
    "start_time": "2023-10-22T16:36:57.413Z"
   },
   {
    "duration": 367,
    "start_time": "2023-10-22T16:36:57.642Z"
   },
   {
    "duration": 379,
    "start_time": "2023-10-22T16:36:58.011Z"
   },
   {
    "duration": 332,
    "start_time": "2023-10-22T16:36:58.391Z"
   },
   {
    "duration": 248,
    "start_time": "2023-10-22T16:36:58.724Z"
   },
   {
    "duration": 253,
    "start_time": "2023-10-22T16:36:58.974Z"
   },
   {
    "duration": 266,
    "start_time": "2023-10-22T16:36:59.229Z"
   },
   {
    "duration": 247,
    "start_time": "2023-10-22T16:36:59.497Z"
   },
   {
    "duration": 226,
    "start_time": "2023-10-22T16:36:59.746Z"
   },
   {
    "duration": 230,
    "start_time": "2023-10-22T16:36:59.974Z"
   },
   {
    "duration": 10,
    "start_time": "2023-10-22T16:37:00.205Z"
   },
   {
    "duration": 54,
    "start_time": "2023-10-22T16:37:00.216Z"
   },
   {
    "duration": 34,
    "start_time": "2023-10-22T16:37:00.271Z"
   },
   {
    "duration": 33,
    "start_time": "2023-10-22T16:37:00.306Z"
   },
   {
    "duration": 233,
    "start_time": "2023-10-22T16:43:50.732Z"
   },
   {
    "duration": 234,
    "start_time": "2023-10-22T16:44:56.423Z"
   },
   {
    "duration": 292,
    "start_time": "2023-10-22T16:45:04.881Z"
   },
   {
    "duration": 3,
    "start_time": "2023-10-22T16:50:15.776Z"
   },
   {
    "duration": 3,
    "start_time": "2023-10-22T16:50:16.475Z"
   },
   {
    "duration": 102,
    "start_time": "2023-10-22T16:50:17.672Z"
   },
   {
    "duration": 24,
    "start_time": "2023-10-22T16:50:19.079Z"
   },
   {
    "duration": 5,
    "start_time": "2023-10-22T16:50:22.950Z"
   },
   {
    "duration": 14,
    "start_time": "2023-10-22T16:50:23.582Z"
   },
   {
    "duration": 8,
    "start_time": "2023-10-22T16:50:25.582Z"
   },
   {
    "duration": 11,
    "start_time": "2023-10-22T16:50:26.910Z"
   },
   {
    "duration": 3,
    "start_time": "2023-10-22T16:50:28.217Z"
   },
   {
    "duration": 153,
    "start_time": "2023-10-22T16:50:28.834Z"
   },
   {
    "duration": 11,
    "start_time": "2023-10-22T16:50:31.864Z"
   },
   {
    "duration": 6,
    "start_time": "2023-10-22T16:50:32.962Z"
   },
   {
    "duration": 18,
    "start_time": "2023-10-22T16:50:33.576Z"
   },
   {
    "duration": 5,
    "start_time": "2023-10-22T16:50:36.212Z"
   },
   {
    "duration": 4,
    "start_time": "2023-10-22T16:50:36.885Z"
   },
   {
    "duration": 3,
    "start_time": "2023-10-22T16:50:38.263Z"
   },
   {
    "duration": 5,
    "start_time": "2023-10-22T16:50:39.778Z"
   },
   {
    "duration": 5,
    "start_time": "2023-10-22T16:50:41.003Z"
   },
   {
    "duration": 4,
    "start_time": "2023-10-22T16:50:42.203Z"
   },
   {
    "duration": 4,
    "start_time": "2023-10-22T16:50:43.461Z"
   },
   {
    "duration": 7,
    "start_time": "2023-10-22T16:50:45.258Z"
   },
   {
    "duration": 4,
    "start_time": "2023-10-22T16:50:46.575Z"
   },
   {
    "duration": 4,
    "start_time": "2023-10-22T16:50:48.478Z"
   },
   {
    "duration": 4,
    "start_time": "2023-10-22T16:50:49.715Z"
   },
   {
    "duration": 26,
    "start_time": "2023-10-22T16:50:50.350Z"
   },
   {
    "duration": 319,
    "start_time": "2023-10-22T16:50:54.209Z"
   },
   {
    "duration": 534,
    "start_time": "2023-10-22T16:51:00.602Z"
   },
   {
    "duration": 200,
    "start_time": "2023-10-22T16:51:14.157Z"
   },
   {
    "duration": 234,
    "start_time": "2023-10-22T16:51:21.087Z"
   },
   {
    "duration": 319,
    "start_time": "2023-10-22T16:51:23.133Z"
   },
   {
    "duration": 391,
    "start_time": "2023-10-22T16:51:27.835Z"
   },
   {
    "duration": 403,
    "start_time": "2023-10-22T16:51:38.191Z"
   },
   {
    "duration": 323,
    "start_time": "2023-10-22T16:51:44.603Z"
   },
   {
    "duration": 253,
    "start_time": "2023-10-22T16:51:52.172Z"
   },
   {
    "duration": 262,
    "start_time": "2023-10-22T16:51:53.937Z"
   },
   {
    "duration": 208,
    "start_time": "2023-10-22T16:51:57.888Z"
   },
   {
    "duration": 307,
    "start_time": "2023-10-22T16:52:19.417Z"
   },
   {
    "duration": 239,
    "start_time": "2023-10-22T17:02:03.837Z"
   },
   {
    "duration": 229,
    "start_time": "2023-10-22T17:03:33.912Z"
   },
   {
    "duration": 1003,
    "start_time": "2023-10-22T17:05:19.003Z"
   },
   {
    "duration": 2,
    "start_time": "2023-10-22T17:05:20.008Z"
   },
   {
    "duration": 95,
    "start_time": "2023-10-22T17:05:20.011Z"
   },
   {
    "duration": 28,
    "start_time": "2023-10-22T17:05:20.108Z"
   },
   {
    "duration": 4,
    "start_time": "2023-10-22T17:05:20.137Z"
   },
   {
    "duration": 15,
    "start_time": "2023-10-22T17:05:20.142Z"
   },
   {
    "duration": 6,
    "start_time": "2023-10-22T17:05:20.159Z"
   },
   {
    "duration": 13,
    "start_time": "2023-10-22T17:05:20.166Z"
   },
   {
    "duration": 4,
    "start_time": "2023-10-22T17:05:20.181Z"
   },
   {
    "duration": 192,
    "start_time": "2023-10-22T17:05:20.187Z"
   },
   {
    "duration": 11,
    "start_time": "2023-10-22T17:05:20.380Z"
   },
   {
    "duration": 7,
    "start_time": "2023-10-22T17:05:20.392Z"
   },
   {
    "duration": 39,
    "start_time": "2023-10-22T17:05:20.400Z"
   },
   {
    "duration": 5,
    "start_time": "2023-10-22T17:05:20.441Z"
   },
   {
    "duration": 10,
    "start_time": "2023-10-22T17:05:20.447Z"
   },
   {
    "duration": 8,
    "start_time": "2023-10-22T17:05:20.458Z"
   },
   {
    "duration": 7,
    "start_time": "2023-10-22T17:05:20.467Z"
   },
   {
    "duration": 9,
    "start_time": "2023-10-22T17:05:20.475Z"
   },
   {
    "duration": 11,
    "start_time": "2023-10-22T17:05:20.485Z"
   },
   {
    "duration": 8,
    "start_time": "2023-10-22T17:05:20.497Z"
   },
   {
    "duration": 12,
    "start_time": "2023-10-22T17:05:20.506Z"
   },
   {
    "duration": 21,
    "start_time": "2023-10-22T17:05:20.519Z"
   },
   {
    "duration": 3,
    "start_time": "2023-10-22T17:05:20.541Z"
   },
   {
    "duration": 6,
    "start_time": "2023-10-22T17:05:20.546Z"
   },
   {
    "duration": 24,
    "start_time": "2023-10-22T17:05:20.553Z"
   },
   {
    "duration": 337,
    "start_time": "2023-10-22T17:05:20.579Z"
   },
   {
    "duration": 502,
    "start_time": "2023-10-22T17:05:20.917Z"
   },
   {
    "duration": 214,
    "start_time": "2023-10-22T17:05:21.421Z"
   },
   {
    "duration": 292,
    "start_time": "2023-10-22T17:05:21.636Z"
   },
   {
    "duration": 238,
    "start_time": "2023-10-22T17:05:21.930Z"
   },
   {
    "duration": 440,
    "start_time": "2023-10-22T17:05:22.170Z"
   },
   {
    "duration": 377,
    "start_time": "2023-10-22T17:05:22.612Z"
   },
   {
    "duration": 327,
    "start_time": "2023-10-22T17:05:22.991Z"
   },
   {
    "duration": 252,
    "start_time": "2023-10-22T17:05:23.319Z"
   },
   {
    "duration": 262,
    "start_time": "2023-10-22T17:05:23.573Z"
   },
   {
    "duration": 258,
    "start_time": "2023-10-22T17:05:23.839Z"
   },
   {
    "duration": 236,
    "start_time": "2023-10-22T17:05:24.099Z"
   },
   {
    "duration": 221,
    "start_time": "2023-10-22T17:05:24.339Z"
   },
   {
    "duration": 219,
    "start_time": "2023-10-22T17:05:24.562Z"
   },
   {
    "duration": 10,
    "start_time": "2023-10-22T17:05:24.783Z"
   },
   {
    "duration": 10,
    "start_time": "2023-10-22T17:05:24.794Z"
   },
   {
    "duration": 17,
    "start_time": "2023-10-22T17:05:24.806Z"
   },
   {
    "duration": 18,
    "start_time": "2023-10-22T17:05:24.825Z"
   },
   {
    "duration": 240,
    "start_time": "2023-10-22T17:11:55.501Z"
   },
   {
    "duration": 242,
    "start_time": "2023-10-22T17:12:35.751Z"
   },
   {
    "duration": 287,
    "start_time": "2023-10-22T17:37:25.750Z"
   },
   {
    "duration": 277,
    "start_time": "2023-10-22T17:42:03.050Z"
   },
   {
    "duration": 1532,
    "start_time": "2023-10-22T20:01:02.068Z"
   },
   {
    "duration": 6,
    "start_time": "2023-10-22T20:01:03.603Z"
   },
   {
    "duration": 111,
    "start_time": "2023-10-22T20:01:04.083Z"
   },
   {
    "duration": 35,
    "start_time": "2023-10-22T20:01:07.962Z"
   },
   {
    "duration": 5,
    "start_time": "2023-10-22T20:01:21.688Z"
   },
   {
    "duration": 18,
    "start_time": "2023-10-22T20:01:22.377Z"
   },
   {
    "duration": 17,
    "start_time": "2023-10-22T20:01:24.420Z"
   },
   {
    "duration": 21,
    "start_time": "2023-10-22T20:01:26.444Z"
   },
   {
    "duration": 6,
    "start_time": "2023-10-22T20:01:29.301Z"
   },
   {
    "duration": 209,
    "start_time": "2023-10-22T20:01:30.383Z"
   },
   {
    "duration": 21,
    "start_time": "2023-10-22T20:01:32.274Z"
   },
   {
    "duration": 7,
    "start_time": "2023-10-22T20:01:33.569Z"
   },
   {
    "duration": 30,
    "start_time": "2023-10-22T20:01:34.315Z"
   },
   {
    "duration": 12,
    "start_time": "2023-10-22T20:01:37.215Z"
   },
   {
    "duration": 7,
    "start_time": "2023-10-22T20:01:37.954Z"
   },
   {
    "duration": 4,
    "start_time": "2023-10-22T20:01:40.991Z"
   },
   {
    "duration": 6,
    "start_time": "2023-10-22T20:01:43.192Z"
   },
   {
    "duration": 6,
    "start_time": "2023-10-22T20:01:44.679Z"
   },
   {
    "duration": 9,
    "start_time": "2023-10-22T20:01:46.245Z"
   },
   {
    "duration": 5,
    "start_time": "2023-10-22T20:01:48.487Z"
   },
   {
    "duration": 10,
    "start_time": "2023-10-22T20:01:50.568Z"
   },
   {
    "duration": 16,
    "start_time": "2023-10-22T20:01:52.322Z"
   },
   {
    "duration": 4,
    "start_time": "2023-10-22T20:01:54.259Z"
   },
   {
    "duration": 7,
    "start_time": "2023-10-22T20:01:55.581Z"
   },
   {
    "duration": 41,
    "start_time": "2023-10-22T20:01:56.302Z"
   },
   {
    "duration": 394,
    "start_time": "2023-10-22T20:02:04.245Z"
   },
   {
    "duration": 681,
    "start_time": "2023-10-22T20:02:07.582Z"
   },
   {
    "duration": 353,
    "start_time": "2023-10-22T20:02:31.527Z"
   },
   {
    "duration": 404,
    "start_time": "2023-10-22T20:02:38.968Z"
   },
   {
    "duration": 288,
    "start_time": "2023-10-22T20:02:40.485Z"
   },
   {
    "duration": 443,
    "start_time": "2023-10-22T20:04:14.061Z"
   },
   {
    "duration": 459,
    "start_time": "2023-10-22T20:04:56.377Z"
   },
   {
    "duration": 435,
    "start_time": "2023-10-22T20:05:16.206Z"
   },
   {
    "duration": 332,
    "start_time": "2023-10-22T20:05:48.498Z"
   },
   {
    "duration": 319,
    "start_time": "2023-10-22T20:05:54.139Z"
   },
   {
    "duration": 262,
    "start_time": "2023-10-22T20:05:59.493Z"
   },
   {
    "duration": 439,
    "start_time": "2023-10-22T20:07:26.362Z"
   },
   {
    "duration": 339,
    "start_time": "2023-10-22T20:33:11.889Z"
   },
   {
    "duration": 343,
    "start_time": "2023-10-22T20:33:19.543Z"
   },
   {
    "duration": 300,
    "start_time": "2023-10-22T20:37:58.677Z"
   },
   {
    "duration": 300,
    "start_time": "2023-10-22T20:38:24.541Z"
   },
   {
    "duration": 1204,
    "start_time": "2023-10-22T22:09:33.021Z"
   },
   {
    "duration": 2,
    "start_time": "2023-10-22T22:09:34.227Z"
   },
   {
    "duration": 139,
    "start_time": "2023-10-22T22:09:34.231Z"
   },
   {
    "duration": 30,
    "start_time": "2023-10-22T22:09:34.371Z"
   },
   {
    "duration": 19,
    "start_time": "2023-10-22T22:09:34.404Z"
   },
   {
    "duration": 29,
    "start_time": "2023-10-22T22:09:34.425Z"
   },
   {
    "duration": 9,
    "start_time": "2023-10-22T22:09:34.455Z"
   },
   {
    "duration": 20,
    "start_time": "2023-10-22T22:09:34.466Z"
   },
   {
    "duration": 9,
    "start_time": "2023-10-22T22:09:34.488Z"
   },
   {
    "duration": 197,
    "start_time": "2023-10-22T22:09:34.499Z"
   },
   {
    "duration": 24,
    "start_time": "2023-10-22T22:09:34.698Z"
   },
   {
    "duration": 24,
    "start_time": "2023-10-22T22:09:34.725Z"
   },
   {
    "duration": 35,
    "start_time": "2023-10-22T22:09:34.751Z"
   },
   {
    "duration": 9,
    "start_time": "2023-10-22T22:09:34.790Z"
   },
   {
    "duration": 5,
    "start_time": "2023-10-22T22:09:34.800Z"
   },
   {
    "duration": 19,
    "start_time": "2023-10-22T22:09:34.807Z"
   },
   {
    "duration": 14,
    "start_time": "2023-10-22T22:09:34.828Z"
   },
   {
    "duration": 32,
    "start_time": "2023-10-22T22:09:34.844Z"
   },
   {
    "duration": 11,
    "start_time": "2023-10-22T22:09:34.878Z"
   },
   {
    "duration": 8,
    "start_time": "2023-10-22T22:09:34.891Z"
   },
   {
    "duration": 20,
    "start_time": "2023-10-22T22:09:34.901Z"
   },
   {
    "duration": 28,
    "start_time": "2023-10-22T22:09:34.925Z"
   },
   {
    "duration": 13,
    "start_time": "2023-10-22T22:09:34.955Z"
   },
   {
    "duration": 7,
    "start_time": "2023-10-22T22:09:34.970Z"
   },
   {
    "duration": 46,
    "start_time": "2023-10-22T22:09:34.978Z"
   },
   {
    "duration": 399,
    "start_time": "2023-10-22T22:09:35.025Z"
   },
   {
    "duration": 648,
    "start_time": "2023-10-22T22:09:35.426Z"
   },
   {
    "duration": 262,
    "start_time": "2023-10-22T22:09:36.076Z"
   },
   {
    "duration": 353,
    "start_time": "2023-10-22T22:09:36.339Z"
   },
   {
    "duration": 283,
    "start_time": "2023-10-22T22:09:36.694Z"
   },
   {
    "duration": 469,
    "start_time": "2023-10-22T22:09:36.979Z"
   },
   {
    "duration": 463,
    "start_time": "2023-10-22T22:09:37.450Z"
   },
   {
    "duration": 424,
    "start_time": "2023-10-22T22:09:37.915Z"
   },
   {
    "duration": 301,
    "start_time": "2023-10-22T22:09:38.341Z"
   },
   {
    "duration": 312,
    "start_time": "2023-10-22T22:09:38.643Z"
   },
   {
    "duration": 317,
    "start_time": "2023-10-22T22:09:38.956Z"
   },
   {
    "duration": 304,
    "start_time": "2023-10-22T22:09:39.275Z"
   },
   {
    "duration": 301,
    "start_time": "2023-10-22T22:09:39.580Z"
   },
   {
    "duration": 288,
    "start_time": "2023-10-22T22:09:39.884Z"
   },
   {
    "duration": 10,
    "start_time": "2023-10-22T22:09:40.174Z"
   },
   {
    "duration": 26,
    "start_time": "2023-10-22T22:09:40.188Z"
   },
   {
    "duration": 13,
    "start_time": "2023-10-22T22:09:40.216Z"
   },
   {
    "duration": 17,
    "start_time": "2023-10-22T22:09:40.231Z"
   },
   {
    "duration": 284,
    "start_time": "2023-10-22T22:11:18.939Z"
   },
   {
    "duration": 275,
    "start_time": "2023-10-22T22:13:18.185Z"
   },
   {
    "duration": 390,
    "start_time": "2023-10-22T22:13:53.672Z"
   },
   {
    "duration": 262,
    "start_time": "2023-10-22T22:31:20.523Z"
   },
   {
    "duration": 11,
    "start_time": "2023-10-22T22:31:28.123Z"
   },
   {
    "duration": 8,
    "start_time": "2023-10-22T22:31:37.123Z"
   },
   {
    "duration": 10,
    "start_time": "2023-10-22T22:31:54.992Z"
   },
   {
    "duration": 7,
    "start_time": "2023-10-22T22:31:56.877Z"
   },
   {
    "duration": 10,
    "start_time": "2023-10-22T23:05:35.447Z"
   },
   {
    "duration": 17,
    "start_time": "2023-10-22T23:07:26.220Z"
   },
   {
    "duration": 11,
    "start_time": "2023-10-22T23:08:07.479Z"
   },
   {
    "duration": 17,
    "start_time": "2023-10-22T23:09:21.708Z"
   },
   {
    "duration": 9,
    "start_time": "2023-10-22T23:09:35.145Z"
   },
   {
    "duration": 10,
    "start_time": "2023-10-22T23:09:48.200Z"
   },
   {
    "duration": 9,
    "start_time": "2023-10-22T23:10:08.760Z"
   },
   {
    "duration": 10,
    "start_time": "2023-10-22T23:19:04.971Z"
   },
   {
    "duration": 14,
    "start_time": "2023-10-22T23:19:16.318Z"
   },
   {
    "duration": 9,
    "start_time": "2023-10-22T23:19:40.869Z"
   },
   {
    "duration": 10,
    "start_time": "2023-10-22T23:19:54.973Z"
   },
   {
    "duration": 14,
    "start_time": "2023-10-22T23:21:22.056Z"
   },
   {
    "duration": 10,
    "start_time": "2023-10-22T23:21:54.857Z"
   },
   {
    "duration": 8,
    "start_time": "2023-10-22T23:26:02.759Z"
   },
   {
    "duration": 11,
    "start_time": "2023-10-22T23:47:44.483Z"
   },
   {
    "duration": 106,
    "start_time": "2023-10-22T23:48:24.612Z"
   },
   {
    "duration": 9,
    "start_time": "2023-10-22T23:48:46.097Z"
   },
   {
    "duration": 15,
    "start_time": "2023-10-22T23:50:50.651Z"
   },
   {
    "duration": 21,
    "start_time": "2023-10-22T23:55:16.634Z"
   },
   {
    "duration": 14,
    "start_time": "2023-10-22T23:55:35.829Z"
   },
   {
    "duration": 16,
    "start_time": "2023-10-23T00:03:48.432Z"
   },
   {
    "duration": 3,
    "start_time": "2023-10-23T00:09:44.394Z"
   },
   {
    "duration": 3,
    "start_time": "2023-10-23T00:09:44.997Z"
   },
   {
    "duration": 168,
    "start_time": "2023-10-23T00:09:46.206Z"
   },
   {
    "duration": 30,
    "start_time": "2023-10-23T00:09:47.464Z"
   },
   {
    "duration": 5,
    "start_time": "2023-10-23T00:09:52.588Z"
   },
   {
    "duration": 24,
    "start_time": "2023-10-23T00:09:53.452Z"
   },
   {
    "duration": 13,
    "start_time": "2023-10-23T00:09:54.670Z"
   },
   {
    "duration": 23,
    "start_time": "2023-10-23T00:09:55.594Z"
   },
   {
    "duration": 1229,
    "start_time": "2023-10-23T00:10:13.312Z"
   },
   {
    "duration": 3,
    "start_time": "2023-10-23T00:10:14.543Z"
   },
   {
    "duration": 144,
    "start_time": "2023-10-23T00:10:14.547Z"
   },
   {
    "duration": 31,
    "start_time": "2023-10-23T00:10:14.692Z"
   },
   {
    "duration": 51,
    "start_time": "2023-10-23T00:10:14.724Z"
   },
   {
    "duration": 76,
    "start_time": "2023-10-23T00:10:14.777Z"
   },
   {
    "duration": 12,
    "start_time": "2023-10-23T00:10:14.854Z"
   },
   {
    "duration": 23,
    "start_time": "2023-10-23T00:10:14.867Z"
   },
   {
    "duration": 13,
    "start_time": "2023-10-23T00:10:14.892Z"
   },
   {
    "duration": 12,
    "start_time": "2023-10-23T00:10:14.907Z"
   },
   {
    "duration": 23,
    "start_time": "2023-10-23T00:10:14.921Z"
   },
   {
    "duration": 6,
    "start_time": "2023-10-23T00:10:14.946Z"
   },
   {
    "duration": 235,
    "start_time": "2023-10-23T00:10:14.954Z"
   },
   {
    "duration": 17,
    "start_time": "2023-10-23T00:10:15.191Z"
   },
   {
    "duration": 11,
    "start_time": "2023-10-23T00:10:15.210Z"
   },
   {
    "duration": 29,
    "start_time": "2023-10-23T00:10:15.223Z"
   },
   {
    "duration": 6,
    "start_time": "2023-10-23T00:10:15.254Z"
   },
   {
    "duration": 12,
    "start_time": "2023-10-23T00:10:15.261Z"
   },
   {
    "duration": 18,
    "start_time": "2023-10-23T00:10:15.275Z"
   },
   {
    "duration": 20,
    "start_time": "2023-10-23T00:10:15.295Z"
   },
   {
    "duration": 24,
    "start_time": "2023-10-23T00:10:15.317Z"
   },
   {
    "duration": 13,
    "start_time": "2023-10-23T00:10:15.343Z"
   },
   {
    "duration": 31,
    "start_time": "2023-10-23T00:10:15.358Z"
   },
   {
    "duration": 10,
    "start_time": "2023-10-23T00:10:15.391Z"
   },
   {
    "duration": 6,
    "start_time": "2023-10-23T00:10:15.403Z"
   },
   {
    "duration": 29,
    "start_time": "2023-10-23T00:10:15.411Z"
   },
   {
    "duration": 17,
    "start_time": "2023-10-23T00:10:15.442Z"
   },
   {
    "duration": 37,
    "start_time": "2023-10-23T00:10:15.462Z"
   },
   {
    "duration": 325,
    "start_time": "2023-10-23T00:10:15.501Z"
   },
   {
    "duration": 634,
    "start_time": "2023-10-23T00:10:15.827Z"
   },
   {
    "duration": 238,
    "start_time": "2023-10-23T00:10:16.463Z"
   },
   {
    "duration": 351,
    "start_time": "2023-10-23T00:10:16.703Z"
   },
   {
    "duration": 283,
    "start_time": "2023-10-23T00:10:17.055Z"
   },
   {
    "duration": 444,
    "start_time": "2023-10-23T00:10:17.339Z"
   },
   {
    "duration": 413,
    "start_time": "2023-10-23T00:10:17.785Z"
   },
   {
    "duration": 318,
    "start_time": "2023-10-23T00:10:18.200Z"
   },
   {
    "duration": 288,
    "start_time": "2023-10-23T00:10:18.520Z"
   },
   {
    "duration": 281,
    "start_time": "2023-10-23T00:10:18.810Z"
   },
   {
    "duration": 228,
    "start_time": "2023-10-23T00:10:19.093Z"
   },
   {
    "duration": 397,
    "start_time": "2023-10-23T00:10:19.322Z"
   },
   {
    "duration": 292,
    "start_time": "2023-10-23T00:10:19.720Z"
   },
   {
    "duration": 274,
    "start_time": "2023-10-23T00:10:20.014Z"
   },
   {
    "duration": 17,
    "start_time": "2023-10-23T00:10:20.290Z"
   },
   {
    "duration": 9,
    "start_time": "2023-10-23T00:10:20.309Z"
   },
   {
    "duration": 15,
    "start_time": "2023-10-23T00:10:20.319Z"
   },
   {
    "duration": 7,
    "start_time": "2023-10-23T00:10:20.336Z"
   },
   {
    "duration": 3,
    "start_time": "2023-10-23T00:11:20.274Z"
   },
   {
    "duration": 3,
    "start_time": "2023-10-23T00:11:20.886Z"
   },
   {
    "duration": 90,
    "start_time": "2023-10-23T00:11:22.098Z"
   },
   {
    "duration": 28,
    "start_time": "2023-10-23T00:11:23.321Z"
   },
   {
    "duration": 5,
    "start_time": "2023-10-23T00:11:27.458Z"
   },
   {
    "duration": 15,
    "start_time": "2023-10-23T00:11:28.321Z"
   },
   {
    "duration": 8,
    "start_time": "2023-10-23T00:11:29.291Z"
   },
   {
    "duration": 15,
    "start_time": "2023-10-23T00:11:46.926Z"
   },
   {
    "duration": 9,
    "start_time": "2023-10-23T00:11:47.816Z"
   },
   {
    "duration": 16,
    "start_time": "2023-10-23T00:11:54.638Z"
   },
   {
    "duration": 1193,
    "start_time": "2023-10-23T00:12:18.880Z"
   },
   {
    "duration": 3,
    "start_time": "2023-10-23T00:12:20.075Z"
   },
   {
    "duration": 133,
    "start_time": "2023-10-23T00:12:20.080Z"
   },
   {
    "duration": 32,
    "start_time": "2023-10-23T00:12:20.216Z"
   },
   {
    "duration": 4,
    "start_time": "2023-10-23T00:12:20.250Z"
   },
   {
    "duration": 31,
    "start_time": "2023-10-23T00:12:20.256Z"
   },
   {
    "duration": 20,
    "start_time": "2023-10-23T00:12:20.288Z"
   },
   {
    "duration": 14,
    "start_time": "2023-10-23T00:12:20.310Z"
   },
   {
    "duration": 15,
    "start_time": "2023-10-23T00:12:20.325Z"
   },
   {
    "duration": 27,
    "start_time": "2023-10-23T00:12:20.343Z"
   },
   {
    "duration": 21,
    "start_time": "2023-10-23T00:12:20.371Z"
   },
   {
    "duration": 17,
    "start_time": "2023-10-23T00:12:20.394Z"
   },
   {
    "duration": 196,
    "start_time": "2023-10-23T00:12:20.413Z"
   },
   {
    "duration": 13,
    "start_time": "2023-10-23T00:12:20.611Z"
   },
   {
    "duration": 27,
    "start_time": "2023-10-23T00:12:20.625Z"
   },
   {
    "duration": 42,
    "start_time": "2023-10-23T00:12:20.653Z"
   },
   {
    "duration": 12,
    "start_time": "2023-10-23T00:12:20.696Z"
   },
   {
    "duration": 23,
    "start_time": "2023-10-23T00:12:20.710Z"
   },
   {
    "duration": 15,
    "start_time": "2023-10-23T00:12:20.735Z"
   },
   {
    "duration": 18,
    "start_time": "2023-10-23T00:12:20.752Z"
   },
   {
    "duration": 20,
    "start_time": "2023-10-23T00:12:20.771Z"
   },
   {
    "duration": 16,
    "start_time": "2023-10-23T00:12:20.793Z"
   },
   {
    "duration": 10,
    "start_time": "2023-10-23T00:12:20.811Z"
   },
   {
    "duration": 20,
    "start_time": "2023-10-23T00:12:20.823Z"
   },
   {
    "duration": 12,
    "start_time": "2023-10-23T00:12:20.845Z"
   },
   {
    "duration": 18,
    "start_time": "2023-10-23T00:12:20.859Z"
   },
   {
    "duration": 17,
    "start_time": "2023-10-23T00:12:20.879Z"
   },
   {
    "duration": 46,
    "start_time": "2023-10-23T00:12:20.899Z"
   },
   {
    "duration": 373,
    "start_time": "2023-10-23T00:12:20.946Z"
   },
   {
    "duration": 571,
    "start_time": "2023-10-23T00:12:21.321Z"
   },
   {
    "duration": 248,
    "start_time": "2023-10-23T00:12:21.894Z"
   },
   {
    "duration": 359,
    "start_time": "2023-10-23T00:12:22.144Z"
   },
   {
    "duration": 256,
    "start_time": "2023-10-23T00:12:22.504Z"
   },
   {
    "duration": 434,
    "start_time": "2023-10-23T00:12:22.761Z"
   },
   {
    "duration": 395,
    "start_time": "2023-10-23T00:12:23.197Z"
   },
   {
    "duration": 336,
    "start_time": "2023-10-23T00:12:23.594Z"
   },
   {
    "duration": 280,
    "start_time": "2023-10-23T00:12:23.932Z"
   },
   {
    "duration": 284,
    "start_time": "2023-10-23T00:12:24.213Z"
   },
   {
    "duration": 233,
    "start_time": "2023-10-23T00:12:24.499Z"
   },
   {
    "duration": 369,
    "start_time": "2023-10-23T00:12:24.733Z"
   },
   {
    "duration": 296,
    "start_time": "2023-10-23T00:12:25.104Z"
   },
   {
    "duration": 256,
    "start_time": "2023-10-23T00:12:25.402Z"
   },
   {
    "duration": 11,
    "start_time": "2023-10-23T00:12:25.660Z"
   },
   {
    "duration": 22,
    "start_time": "2023-10-23T00:12:25.672Z"
   },
   {
    "duration": 20,
    "start_time": "2023-10-23T00:12:25.696Z"
   },
   {
    "duration": 18,
    "start_time": "2023-10-23T00:12:25.718Z"
   },
   {
    "duration": 3,
    "start_time": "2023-10-23T00:12:42.673Z"
   },
   {
    "duration": 2,
    "start_time": "2023-10-23T00:12:43.322Z"
   },
   {
    "duration": 112,
    "start_time": "2023-10-23T00:12:44.621Z"
   },
   {
    "duration": 31,
    "start_time": "2023-10-23T00:12:46.410Z"
   },
   {
    "duration": 6,
    "start_time": "2023-10-23T00:12:50.740Z"
   },
   {
    "duration": 15,
    "start_time": "2023-10-23T00:12:52.307Z"
   },
   {
    "duration": 8,
    "start_time": "2023-10-23T00:12:53.713Z"
   },
   {
    "duration": 21,
    "start_time": "2023-10-23T00:12:55.935Z"
   },
   {
    "duration": 16,
    "start_time": "2023-10-23T00:13:50.041Z"
   },
   {
    "duration": 3,
    "start_time": "2023-10-23T00:16:23.287Z"
   },
   {
    "duration": 3,
    "start_time": "2023-10-23T00:16:24.304Z"
   },
   {
    "duration": 103,
    "start_time": "2023-10-23T00:16:25.602Z"
   },
   {
    "duration": 26,
    "start_time": "2023-10-23T00:16:27.023Z"
   },
   {
    "duration": 5,
    "start_time": "2023-10-23T00:16:30.851Z"
   },
   {
    "duration": 15,
    "start_time": "2023-10-23T00:16:32.127Z"
   },
   {
    "duration": 12,
    "start_time": "2023-10-23T00:16:34.375Z"
   },
   {
    "duration": 24,
    "start_time": "2023-10-23T00:16:42.178Z"
   },
   {
    "duration": 16,
    "start_time": "2023-10-23T00:18:40.496Z"
   },
   {
    "duration": 1161,
    "start_time": "2023-10-23T00:19:14.069Z"
   },
   {
    "duration": 3,
    "start_time": "2023-10-23T00:19:15.232Z"
   },
   {
    "duration": 132,
    "start_time": "2023-10-23T00:19:15.237Z"
   },
   {
    "duration": 29,
    "start_time": "2023-10-23T00:19:15.371Z"
   },
   {
    "duration": 31,
    "start_time": "2023-10-23T00:19:15.403Z"
   },
   {
    "duration": 22,
    "start_time": "2023-10-23T00:19:15.436Z"
   },
   {
    "duration": 10,
    "start_time": "2023-10-23T00:19:15.459Z"
   },
   {
    "duration": 22,
    "start_time": "2023-10-23T00:19:15.471Z"
   },
   {
    "duration": 15,
    "start_time": "2023-10-23T00:19:15.494Z"
   },
   {
    "duration": 10,
    "start_time": "2023-10-23T00:19:15.511Z"
   },
   {
    "duration": 27,
    "start_time": "2023-10-23T00:19:15.523Z"
   },
   {
    "duration": 12,
    "start_time": "2023-10-23T00:19:15.552Z"
   },
   {
    "duration": 182,
    "start_time": "2023-10-23T00:19:15.565Z"
   },
   {
    "duration": 13,
    "start_time": "2023-10-23T00:19:15.750Z"
   },
   {
    "duration": 9,
    "start_time": "2023-10-23T00:19:15.765Z"
   },
   {
    "duration": 36,
    "start_time": "2023-10-23T00:19:15.775Z"
   },
   {
    "duration": 13,
    "start_time": "2023-10-23T00:19:15.813Z"
   },
   {
    "duration": 23,
    "start_time": "2023-10-23T00:19:15.827Z"
   },
   {
    "duration": 20,
    "start_time": "2023-10-23T00:19:15.852Z"
   },
   {
    "duration": 18,
    "start_time": "2023-10-23T00:19:15.875Z"
   },
   {
    "duration": 27,
    "start_time": "2023-10-23T00:19:15.895Z"
   },
   {
    "duration": 16,
    "start_time": "2023-10-23T00:19:15.924Z"
   },
   {
    "duration": 9,
    "start_time": "2023-10-23T00:19:15.942Z"
   },
   {
    "duration": 16,
    "start_time": "2023-10-23T00:19:15.955Z"
   },
   {
    "duration": 26,
    "start_time": "2023-10-23T00:19:15.973Z"
   },
   {
    "duration": 5,
    "start_time": "2023-10-23T00:19:16.002Z"
   },
   {
    "duration": 12,
    "start_time": "2023-10-23T00:19:16.009Z"
   },
   {
    "duration": 33,
    "start_time": "2023-10-23T00:19:16.023Z"
   },
   {
    "duration": 339,
    "start_time": "2023-10-23T00:19:16.058Z"
   },
   {
    "duration": 560,
    "start_time": "2023-10-23T00:19:16.399Z"
   },
   {
    "duration": 242,
    "start_time": "2023-10-23T00:19:16.960Z"
   },
   {
    "duration": 349,
    "start_time": "2023-10-23T00:19:17.203Z"
   },
   {
    "duration": 244,
    "start_time": "2023-10-23T00:19:17.554Z"
   },
   {
    "duration": 410,
    "start_time": "2023-10-23T00:19:17.800Z"
   },
   {
    "duration": 380,
    "start_time": "2023-10-23T00:19:18.212Z"
   },
   {
    "duration": 323,
    "start_time": "2023-10-23T00:19:18.594Z"
   },
   {
    "duration": 282,
    "start_time": "2023-10-23T00:19:18.918Z"
   },
   {
    "duration": 286,
    "start_time": "2023-10-23T00:19:19.202Z"
   },
   {
    "duration": 307,
    "start_time": "2023-10-23T00:19:19.490Z"
   },
   {
    "duration": 275,
    "start_time": "2023-10-23T00:19:19.799Z"
   },
   {
    "duration": 290,
    "start_time": "2023-10-23T00:19:20.078Z"
   },
   {
    "duration": 253,
    "start_time": "2023-10-23T00:19:20.370Z"
   },
   {
    "duration": 11,
    "start_time": "2023-10-23T00:19:20.624Z"
   },
   {
    "duration": 67,
    "start_time": "2023-10-23T00:19:20.636Z"
   },
   {
    "duration": 44,
    "start_time": "2023-10-23T00:19:20.705Z"
   },
   {
    "duration": 43,
    "start_time": "2023-10-23T00:19:20.751Z"
   },
   {
    "duration": 6,
    "start_time": "2023-10-23T00:22:28.857Z"
   },
   {
    "duration": 3,
    "start_time": "2023-10-23T00:22:29.834Z"
   },
   {
    "duration": 108,
    "start_time": "2023-10-23T00:22:31.327Z"
   },
   {
    "duration": 30,
    "start_time": "2023-10-23T00:22:32.799Z"
   },
   {
    "duration": 5,
    "start_time": "2023-10-23T00:22:37.408Z"
   },
   {
    "duration": 16,
    "start_time": "2023-10-23T00:22:38.546Z"
   },
   {
    "duration": 11,
    "start_time": "2023-10-23T00:22:40.016Z"
   },
   {
    "duration": 18,
    "start_time": "2023-10-23T00:22:43.171Z"
   },
   {
    "duration": 15,
    "start_time": "2023-10-23T00:23:22.679Z"
   },
   {
    "duration": 10,
    "start_time": "2023-10-23T00:24:03.536Z"
   },
   {
    "duration": 13,
    "start_time": "2023-10-23T00:24:06.556Z"
   },
   {
    "duration": 4,
    "start_time": "2023-10-23T00:24:08.342Z"
   },
   {
    "duration": 158,
    "start_time": "2023-10-23T00:24:09.637Z"
   },
   {
    "duration": 20,
    "start_time": "2023-10-23T00:24:49.688Z"
   },
   {
    "duration": 19,
    "start_time": "2023-10-23T00:25:11.084Z"
   },
   {
    "duration": 8,
    "start_time": "2023-10-23T00:26:48.060Z"
   },
   {
    "duration": 21,
    "start_time": "2023-10-23T00:26:58.760Z"
   },
   {
    "duration": 7,
    "start_time": "2023-10-23T00:27:31.462Z"
   },
   {
    "duration": 5,
    "start_time": "2023-10-23T00:27:32.812Z"
   },
   {
    "duration": 3,
    "start_time": "2023-10-23T00:27:49.683Z"
   },
   {
    "duration": 7,
    "start_time": "2023-10-23T00:49:40.030Z"
   },
   {
    "duration": 8,
    "start_time": "2023-10-23T00:49:42.294Z"
   },
   {
    "duration": 5,
    "start_time": "2023-10-23T00:49:43.900Z"
   },
   {
    "duration": 4,
    "start_time": "2023-10-23T00:49:45.612Z"
   },
   {
    "duration": 9,
    "start_time": "2023-10-23T00:49:51.334Z"
   },
   {
    "duration": 6,
    "start_time": "2023-10-23T00:49:53.160Z"
   },
   {
    "duration": 4,
    "start_time": "2023-10-23T00:54:59.923Z"
   },
   {
    "duration": 6,
    "start_time": "2023-10-23T00:55:03.416Z"
   },
   {
    "duration": 30,
    "start_time": "2023-10-23T00:55:04.529Z"
   },
   {
    "duration": 3,
    "start_time": "2023-10-23T01:03:21.058Z"
   },
   {
    "duration": 5,
    "start_time": "2023-10-23T01:03:22.101Z"
   },
   {
    "duration": 29,
    "start_time": "2023-10-23T01:03:22.587Z"
   },
   {
    "duration": 347,
    "start_time": "2023-10-23T01:03:26.312Z"
   },
   {
    "duration": 693,
    "start_time": "2023-10-23T01:03:30.943Z"
   },
   {
    "duration": 217,
    "start_time": "2023-10-23T01:03:56.170Z"
   },
   {
    "duration": 232,
    "start_time": "2023-10-23T01:04:08.952Z"
   },
   {
    "duration": 239,
    "start_time": "2023-10-23T01:04:11.834Z"
   },
   {
    "duration": 409,
    "start_time": "2023-10-23T01:04:30.501Z"
   },
   {
    "duration": 252,
    "start_time": "2023-10-23T01:05:30.575Z"
   },
   {
    "duration": 428,
    "start_time": "2023-10-23T01:05:34.865Z"
   },
   {
    "duration": 525,
    "start_time": "2023-10-23T01:05:59.821Z"
   },
   {
    "duration": 315,
    "start_time": "2023-10-23T01:06:13.115Z"
   },
   {
    "duration": 309,
    "start_time": "2023-10-23T01:06:25.839Z"
   },
   {
    "duration": 262,
    "start_time": "2023-10-23T01:06:28.292Z"
   },
   {
    "duration": 226,
    "start_time": "2023-10-23T01:06:31.943Z"
   },
   {
    "duration": 266,
    "start_time": "2023-10-23T01:06:42.941Z"
   },
   {
    "duration": 278,
    "start_time": "2023-10-23T01:11:04.422Z"
   },
   {
    "duration": 337,
    "start_time": "2023-10-23T01:11:14.554Z"
   },
   {
    "duration": 11,
    "start_time": "2023-10-23T01:11:18.133Z"
   },
   {
    "duration": 6,
    "start_time": "2023-10-23T01:11:22.585Z"
   },
   {
    "duration": 13,
    "start_time": "2023-10-23T01:11:30.914Z"
   },
   {
    "duration": 9,
    "start_time": "2023-10-23T01:11:32.365Z"
   },
   {
    "duration": 1213,
    "start_time": "2023-10-23T01:15:49.510Z"
   },
   {
    "duration": 2,
    "start_time": "2023-10-23T01:15:50.725Z"
   },
   {
    "duration": 120,
    "start_time": "2023-10-23T01:15:50.729Z"
   },
   {
    "duration": 32,
    "start_time": "2023-10-23T01:15:50.850Z"
   },
   {
    "duration": 6,
    "start_time": "2023-10-23T01:15:50.884Z"
   },
   {
    "duration": 30,
    "start_time": "2023-10-23T01:15:50.892Z"
   },
   {
    "duration": 9,
    "start_time": "2023-10-23T01:15:50.923Z"
   },
   {
    "duration": 42,
    "start_time": "2023-10-23T01:15:50.933Z"
   },
   {
    "duration": 16,
    "start_time": "2023-10-23T01:15:50.976Z"
   },
   {
    "duration": 16,
    "start_time": "2023-10-23T01:15:50.994Z"
   },
   {
    "duration": 15,
    "start_time": "2023-10-23T01:15:51.012Z"
   },
   {
    "duration": 10,
    "start_time": "2023-10-23T01:15:51.028Z"
   },
   {
    "duration": 195,
    "start_time": "2023-10-23T01:15:51.040Z"
   },
   {
    "duration": 13,
    "start_time": "2023-10-23T01:15:51.238Z"
   },
   {
    "duration": 10,
    "start_time": "2023-10-23T01:15:51.253Z"
   },
   {
    "duration": 33,
    "start_time": "2023-10-23T01:15:51.265Z"
   },
   {
    "duration": 25,
    "start_time": "2023-10-23T01:15:51.306Z"
   },
   {
    "duration": 13,
    "start_time": "2023-10-23T01:15:51.332Z"
   },
   {
    "duration": 9,
    "start_time": "2023-10-23T01:15:51.347Z"
   },
   {
    "duration": 23,
    "start_time": "2023-10-23T01:15:51.358Z"
   },
   {
    "duration": 34,
    "start_time": "2023-10-23T01:15:51.382Z"
   },
   {
    "duration": 52,
    "start_time": "2023-10-23T01:15:51.417Z"
   },
   {
    "duration": 17,
    "start_time": "2023-10-23T01:15:51.471Z"
   },
   {
    "duration": 31,
    "start_time": "2023-10-23T01:15:51.490Z"
   },
   {
    "duration": 31,
    "start_time": "2023-10-23T01:15:51.523Z"
   },
   {
    "duration": 17,
    "start_time": "2023-10-23T01:15:51.556Z"
   },
   {
    "duration": 20,
    "start_time": "2023-10-23T01:15:51.575Z"
   },
   {
    "duration": 45,
    "start_time": "2023-10-23T01:15:51.597Z"
   },
   {
    "duration": 357,
    "start_time": "2023-10-23T01:15:51.644Z"
   },
   {
    "duration": 562,
    "start_time": "2023-10-23T01:15:52.006Z"
   },
   {
    "duration": 232,
    "start_time": "2023-10-23T01:15:52.569Z"
   },
   {
    "duration": 320,
    "start_time": "2023-10-23T01:15:52.806Z"
   },
   {
    "duration": 272,
    "start_time": "2023-10-23T01:15:53.127Z"
   },
   {
    "duration": 408,
    "start_time": "2023-10-23T01:15:53.400Z"
   },
   {
    "duration": 382,
    "start_time": "2023-10-23T01:15:53.810Z"
   },
   {
    "duration": 317,
    "start_time": "2023-10-23T01:15:54.194Z"
   },
   {
    "duration": 285,
    "start_time": "2023-10-23T01:15:54.513Z"
   },
   {
    "duration": 293,
    "start_time": "2023-10-23T01:15:54.800Z"
   },
   {
    "duration": 325,
    "start_time": "2023-10-23T01:15:55.095Z"
   },
   {
    "duration": 277,
    "start_time": "2023-10-23T01:15:55.422Z"
   },
   {
    "duration": 325,
    "start_time": "2023-10-23T01:15:55.702Z"
   },
   {
    "duration": 238,
    "start_time": "2023-10-23T01:15:56.029Z"
   },
   {
    "duration": 10,
    "start_time": "2023-10-23T01:15:56.268Z"
   },
   {
    "duration": 35,
    "start_time": "2023-10-23T01:15:56.279Z"
   },
   {
    "duration": 15,
    "start_time": "2023-10-23T01:15:56.315Z"
   },
   {
    "duration": 7,
    "start_time": "2023-10-23T01:15:56.331Z"
   },
   {
    "duration": 1340,
    "start_time": "2023-10-23T14:34:25.030Z"
   },
   {
    "duration": 3,
    "start_time": "2023-10-23T14:34:26.372Z"
   },
   {
    "duration": 180,
    "start_time": "2023-10-23T14:34:26.376Z"
   },
   {
    "duration": 94,
    "start_time": "2023-10-23T14:34:26.559Z"
   },
   {
    "duration": 5,
    "start_time": "2023-10-23T14:34:26.655Z"
   },
   {
    "duration": 82,
    "start_time": "2023-10-23T14:34:26.662Z"
   },
   {
    "duration": 8,
    "start_time": "2023-10-23T14:34:26.746Z"
   },
   {
    "duration": 37,
    "start_time": "2023-10-23T14:34:26.756Z"
   },
   {
    "duration": 15,
    "start_time": "2023-10-23T14:34:26.844Z"
   },
   {
    "duration": 24,
    "start_time": "2023-10-23T14:34:26.862Z"
   },
   {
    "duration": 68,
    "start_time": "2023-10-23T14:34:26.888Z"
   },
   {
    "duration": 27,
    "start_time": "2023-10-23T14:34:26.958Z"
   },
   {
    "duration": 409,
    "start_time": "2023-10-23T14:34:26.987Z"
   },
   {
    "duration": 52,
    "start_time": "2023-10-23T14:34:27.398Z"
   },
   {
    "duration": 114,
    "start_time": "2023-10-23T14:34:27.452Z"
   },
   {
    "duration": 35,
    "start_time": "2023-10-23T14:34:27.568Z"
   },
   {
    "duration": 9,
    "start_time": "2023-10-23T14:34:27.606Z"
   },
   {
    "duration": 22,
    "start_time": "2023-10-23T14:34:27.617Z"
   },
   {
    "duration": 31,
    "start_time": "2023-10-23T14:34:27.641Z"
   },
   {
    "duration": 32,
    "start_time": "2023-10-23T14:34:27.674Z"
   },
   {
    "duration": 42,
    "start_time": "2023-10-23T14:34:27.708Z"
   },
   {
    "duration": 19,
    "start_time": "2023-10-23T14:34:27.752Z"
   },
   {
    "duration": 23,
    "start_time": "2023-10-23T14:34:27.773Z"
   },
   {
    "duration": 53,
    "start_time": "2023-10-23T14:34:27.798Z"
   },
   {
    "duration": 24,
    "start_time": "2023-10-23T14:34:27.852Z"
   },
   {
    "duration": 13,
    "start_time": "2023-10-23T14:34:27.878Z"
   },
   {
    "duration": 26,
    "start_time": "2023-10-23T14:34:27.892Z"
   },
   {
    "duration": 50,
    "start_time": "2023-10-23T14:34:27.921Z"
   },
   {
    "duration": 475,
    "start_time": "2023-10-23T14:34:27.973Z"
   },
   {
    "duration": 1312,
    "start_time": "2023-10-23T14:34:28.450Z"
   },
   {
    "duration": 618,
    "start_time": "2023-10-23T14:34:29.764Z"
   },
   {
    "duration": 481,
    "start_time": "2023-10-23T14:34:30.384Z"
   },
   {
    "duration": 597,
    "start_time": "2023-10-23T14:34:30.867Z"
   },
   {
    "duration": 1110,
    "start_time": "2023-10-23T14:34:31.466Z"
   },
   {
    "duration": 910,
    "start_time": "2023-10-23T14:34:32.578Z"
   },
   {
    "duration": 706,
    "start_time": "2023-10-23T14:34:33.544Z"
   },
   {
    "duration": 703,
    "start_time": "2023-10-23T14:34:34.252Z"
   },
   {
    "duration": 689,
    "start_time": "2023-10-23T14:34:34.957Z"
   },
   {
    "duration": 536,
    "start_time": "2023-10-23T14:34:35.648Z"
   },
   {
    "duration": 675,
    "start_time": "2023-10-23T14:34:36.185Z"
   },
   {
    "duration": 617,
    "start_time": "2023-10-23T14:34:36.861Z"
   },
   {
    "duration": 584,
    "start_time": "2023-10-23T14:34:37.480Z"
   },
   {
    "duration": 11,
    "start_time": "2023-10-23T14:34:38.066Z"
   },
   {
    "duration": 66,
    "start_time": "2023-10-23T14:34:38.079Z"
   },
   {
    "duration": 23,
    "start_time": "2023-10-23T14:34:38.147Z"
   },
   {
    "duration": 75,
    "start_time": "2023-10-23T14:34:38.172Z"
   },
   {
    "duration": 7,
    "start_time": "2023-10-23T15:16:59.992Z"
   },
   {
    "duration": 7,
    "start_time": "2023-10-23T15:17:30.457Z"
   },
   {
    "duration": 1294,
    "start_time": "2023-10-23T15:19:22.860Z"
   },
   {
    "duration": 3,
    "start_time": "2023-10-23T15:19:24.156Z"
   },
   {
    "duration": 130,
    "start_time": "2023-10-23T15:19:24.161Z"
   },
   {
    "duration": 32,
    "start_time": "2023-10-23T15:19:24.293Z"
   },
   {
    "duration": 6,
    "start_time": "2023-10-23T15:19:24.327Z"
   },
   {
    "duration": 40,
    "start_time": "2023-10-23T15:19:24.335Z"
   },
   {
    "duration": 18,
    "start_time": "2023-10-23T15:19:24.376Z"
   },
   {
    "duration": 39,
    "start_time": "2023-10-23T15:19:24.396Z"
   },
   {
    "duration": 19,
    "start_time": "2023-10-23T15:19:24.437Z"
   },
   {
    "duration": 22,
    "start_time": "2023-10-23T15:19:24.458Z"
   },
   {
    "duration": 33,
    "start_time": "2023-10-23T15:19:24.482Z"
   },
   {
    "duration": 10,
    "start_time": "2023-10-23T15:19:24.517Z"
   },
   {
    "duration": 393,
    "start_time": "2023-10-23T15:19:24.529Z"
   },
   {
    "duration": 19,
    "start_time": "2023-10-23T15:19:24.925Z"
   },
   {
    "duration": 9,
    "start_time": "2023-10-23T15:19:24.946Z"
   },
   {
    "duration": 29,
    "start_time": "2023-10-23T15:19:24.956Z"
   },
   {
    "duration": 8,
    "start_time": "2023-10-23T15:19:24.986Z"
   },
   {
    "duration": 11,
    "start_time": "2023-10-23T15:19:24.995Z"
   },
   {
    "duration": 8,
    "start_time": "2023-10-23T15:19:25.007Z"
   },
   {
    "duration": 19,
    "start_time": "2023-10-23T15:19:25.016Z"
   },
   {
    "duration": 20,
    "start_time": "2023-10-23T15:19:25.037Z"
   },
   {
    "duration": 24,
    "start_time": "2023-10-23T15:19:25.059Z"
   },
   {
    "duration": 31,
    "start_time": "2023-10-23T15:19:25.085Z"
   },
   {
    "duration": 33,
    "start_time": "2023-10-23T15:19:25.117Z"
   },
   {
    "duration": 18,
    "start_time": "2023-10-23T15:19:25.153Z"
   },
   {
    "duration": 12,
    "start_time": "2023-10-23T15:19:25.173Z"
   },
   {
    "duration": 30,
    "start_time": "2023-10-23T15:19:25.187Z"
   },
   {
    "duration": 41,
    "start_time": "2023-10-23T15:19:25.218Z"
   },
   {
    "duration": 522,
    "start_time": "2023-10-23T15:19:25.261Z"
   },
   {
    "duration": 710,
    "start_time": "2023-10-23T15:19:25.785Z"
   },
   {
    "duration": 403,
    "start_time": "2023-10-23T15:19:26.497Z"
   },
   {
    "duration": 377,
    "start_time": "2023-10-23T15:19:26.902Z"
   },
   {
    "duration": 402,
    "start_time": "2023-10-23T15:19:27.281Z"
   },
   {
    "duration": 663,
    "start_time": "2023-10-23T15:19:27.685Z"
   },
   {
    "duration": 558,
    "start_time": "2023-10-23T15:19:28.350Z"
   },
   {
    "duration": 481,
    "start_time": "2023-10-23T15:19:28.909Z"
   },
   {
    "duration": 381,
    "start_time": "2023-10-23T15:19:29.391Z"
   },
   {
    "duration": 393,
    "start_time": "2023-10-23T15:19:29.774Z"
   },
   {
    "duration": 332,
    "start_time": "2023-10-23T15:19:30.168Z"
   },
   {
    "duration": 363,
    "start_time": "2023-10-23T15:19:30.502Z"
   },
   {
    "duration": 393,
    "start_time": "2023-10-23T15:19:30.870Z"
   },
   {
    "duration": 402,
    "start_time": "2023-10-23T15:19:31.265Z"
   },
   {
    "duration": 10,
    "start_time": "2023-10-23T15:19:31.669Z"
   },
   {
    "duration": 176,
    "start_time": "2023-10-23T15:19:31.680Z"
   },
   {
    "duration": 32,
    "start_time": "2023-10-23T15:19:31.858Z"
   },
   {
    "duration": 86,
    "start_time": "2023-10-23T15:19:31.891Z"
   },
   {
    "duration": 108,
    "start_time": "2023-10-23T15:19:31.979Z"
   },
   {
    "duration": 82,
    "start_time": "2023-10-23T15:19:32.089Z"
   },
   {
    "duration": 1370,
    "start_time": "2023-10-23T15:43:47.266Z"
   },
   {
    "duration": 3,
    "start_time": "2023-10-23T15:43:48.638Z"
   },
   {
    "duration": 123,
    "start_time": "2023-10-23T15:43:48.642Z"
   },
   {
    "duration": 32,
    "start_time": "2023-10-23T15:43:48.767Z"
   },
   {
    "duration": 35,
    "start_time": "2023-10-23T15:43:48.800Z"
   },
   {
    "duration": 67,
    "start_time": "2023-10-23T15:43:48.836Z"
   },
   {
    "duration": 11,
    "start_time": "2023-10-23T15:43:48.905Z"
   },
   {
    "duration": 36,
    "start_time": "2023-10-23T15:43:48.918Z"
   },
   {
    "duration": 42,
    "start_time": "2023-10-23T15:43:48.956Z"
   },
   {
    "duration": 44,
    "start_time": "2023-10-23T15:43:49.000Z"
   },
   {
    "duration": 28,
    "start_time": "2023-10-23T15:43:49.046Z"
   },
   {
    "duration": 20,
    "start_time": "2023-10-23T15:43:49.076Z"
   },
   {
    "duration": 197,
    "start_time": "2023-10-23T15:43:49.098Z"
   },
   {
    "duration": 12,
    "start_time": "2023-10-23T15:43:49.297Z"
   },
   {
    "duration": 52,
    "start_time": "2023-10-23T15:43:49.311Z"
   },
   {
    "duration": 22,
    "start_time": "2023-10-23T15:43:49.366Z"
   },
   {
    "duration": 8,
    "start_time": "2023-10-23T15:43:49.390Z"
   },
   {
    "duration": 10,
    "start_time": "2023-10-23T15:43:49.399Z"
   },
   {
    "duration": 4,
    "start_time": "2023-10-23T15:43:49.411Z"
   },
   {
    "duration": 7,
    "start_time": "2023-10-23T15:43:49.417Z"
   },
   {
    "duration": 7,
    "start_time": "2023-10-23T15:43:49.426Z"
   },
   {
    "duration": 7,
    "start_time": "2023-10-23T15:43:49.434Z"
   },
   {
    "duration": 5,
    "start_time": "2023-10-23T15:43:49.442Z"
   },
   {
    "duration": 10,
    "start_time": "2023-10-23T15:43:49.449Z"
   },
   {
    "duration": 10,
    "start_time": "2023-10-23T15:43:49.460Z"
   },
   {
    "duration": 4,
    "start_time": "2023-10-23T15:43:49.472Z"
   },
   {
    "duration": 7,
    "start_time": "2023-10-23T15:43:49.478Z"
   },
   {
    "duration": 51,
    "start_time": "2023-10-23T15:43:49.487Z"
   },
   {
    "duration": 419,
    "start_time": "2023-10-23T15:43:49.540Z"
   },
   {
    "duration": 604,
    "start_time": "2023-10-23T15:43:49.961Z"
   },
   {
    "duration": 241,
    "start_time": "2023-10-23T15:43:50.567Z"
   },
   {
    "duration": 330,
    "start_time": "2023-10-23T15:43:50.810Z"
   },
   {
    "duration": 266,
    "start_time": "2023-10-23T15:43:51.142Z"
   },
   {
    "duration": 404,
    "start_time": "2023-10-23T15:43:51.409Z"
   },
   {
    "duration": 409,
    "start_time": "2023-10-23T15:43:51.815Z"
   },
   {
    "duration": 318,
    "start_time": "2023-10-23T15:43:52.226Z"
   },
   {
    "duration": 266,
    "start_time": "2023-10-23T15:43:52.546Z"
   },
   {
    "duration": 281,
    "start_time": "2023-10-23T15:43:52.814Z"
   },
   {
    "duration": 235,
    "start_time": "2023-10-23T15:43:53.097Z"
   },
   {
    "duration": 358,
    "start_time": "2023-10-23T15:43:53.334Z"
   },
   {
    "duration": 282,
    "start_time": "2023-10-23T15:43:53.694Z"
   },
   {
    "duration": 256,
    "start_time": "2023-10-23T15:43:53.978Z"
   },
   {
    "duration": 10,
    "start_time": "2023-10-23T15:43:54.235Z"
   },
   {
    "duration": 39,
    "start_time": "2023-10-23T15:43:54.246Z"
   },
   {
    "duration": 21,
    "start_time": "2023-10-23T15:43:54.286Z"
   },
   {
    "duration": 47,
    "start_time": "2023-10-23T15:43:54.309Z"
   },
   {
    "duration": 23,
    "start_time": "2023-10-23T15:43:54.358Z"
   },
   {
    "duration": 29,
    "start_time": "2023-10-23T15:43:54.382Z"
   },
   {
    "duration": 410,
    "start_time": "2023-10-23T16:02:17.619Z"
   },
   {
    "duration": 443,
    "start_time": "2023-10-23T16:02:29.168Z"
   },
   {
    "duration": 418,
    "start_time": "2023-10-23T16:37:39.249Z"
   },
   {
    "duration": 1456,
    "start_time": "2023-10-23T19:23:29.375Z"
   },
   {
    "duration": 3,
    "start_time": "2023-10-23T19:23:30.833Z"
   },
   {
    "duration": 217,
    "start_time": "2023-10-23T19:23:30.838Z"
   },
   {
    "duration": 33,
    "start_time": "2023-10-23T19:23:31.057Z"
   },
   {
    "duration": 19,
    "start_time": "2023-10-23T19:23:31.093Z"
   },
   {
    "duration": 53,
    "start_time": "2023-10-23T19:23:31.114Z"
   },
   {
    "duration": 83,
    "start_time": "2023-10-23T19:23:31.169Z"
   },
   {
    "duration": 62,
    "start_time": "2023-10-23T19:23:31.254Z"
   },
   {
    "duration": 48,
    "start_time": "2023-10-23T19:23:31.318Z"
   },
   {
    "duration": 39,
    "start_time": "2023-10-23T19:23:31.368Z"
   },
   {
    "duration": 37,
    "start_time": "2023-10-23T19:23:31.409Z"
   },
   {
    "duration": 51,
    "start_time": "2023-10-23T19:23:31.448Z"
   },
   {
    "duration": 242,
    "start_time": "2023-10-23T19:23:31.501Z"
   },
   {
    "duration": 13,
    "start_time": "2023-10-23T19:23:31.746Z"
   },
   {
    "duration": 45,
    "start_time": "2023-10-23T19:23:31.760Z"
   },
   {
    "duration": 61,
    "start_time": "2023-10-23T19:23:31.807Z"
   },
   {
    "duration": 5,
    "start_time": "2023-10-23T19:23:31.870Z"
   },
   {
    "duration": 24,
    "start_time": "2023-10-23T19:23:31.877Z"
   },
   {
    "duration": 28,
    "start_time": "2023-10-23T19:23:31.903Z"
   },
   {
    "duration": 10,
    "start_time": "2023-10-23T19:23:31.933Z"
   },
   {
    "duration": 37,
    "start_time": "2023-10-23T19:23:31.945Z"
   },
   {
    "duration": 19,
    "start_time": "2023-10-23T19:23:31.983Z"
   },
   {
    "duration": 33,
    "start_time": "2023-10-23T19:23:32.004Z"
   },
   {
    "duration": 28,
    "start_time": "2023-10-23T19:23:32.039Z"
   },
   {
    "duration": 11,
    "start_time": "2023-10-23T19:23:32.069Z"
   },
   {
    "duration": 11,
    "start_time": "2023-10-23T19:23:32.081Z"
   },
   {
    "duration": 6,
    "start_time": "2023-10-23T19:23:32.093Z"
   },
   {
    "duration": 29,
    "start_time": "2023-10-23T19:23:32.101Z"
   },
   {
    "duration": 400,
    "start_time": "2023-10-23T19:23:32.132Z"
   },
   {
    "duration": 562,
    "start_time": "2023-10-23T19:23:32.534Z"
   },
   {
    "duration": 232,
    "start_time": "2023-10-23T19:23:33.099Z"
   },
   {
    "duration": 328,
    "start_time": "2023-10-23T19:23:33.333Z"
   },
   {
    "duration": 248,
    "start_time": "2023-10-23T19:23:33.663Z"
   },
   {
    "duration": 407,
    "start_time": "2023-10-23T19:23:33.913Z"
   },
   {
    "duration": 428,
    "start_time": "2023-10-23T19:23:34.322Z"
   },
   {
    "duration": 357,
    "start_time": "2023-10-23T19:23:34.752Z"
   },
   {
    "duration": 280,
    "start_time": "2023-10-23T19:23:35.111Z"
   },
   {
    "duration": 290,
    "start_time": "2023-10-23T19:23:35.393Z"
   },
   {
    "duration": 324,
    "start_time": "2023-10-23T19:23:35.685Z"
   },
   {
    "duration": 354,
    "start_time": "2023-10-23T19:23:36.011Z"
   },
   {
    "duration": 283,
    "start_time": "2023-10-23T19:23:36.369Z"
   },
   {
    "duration": 254,
    "start_time": "2023-10-23T19:23:36.654Z"
   },
   {
    "duration": 12,
    "start_time": "2023-10-23T19:23:36.910Z"
   },
   {
    "duration": 10,
    "start_time": "2023-10-23T19:23:36.924Z"
   },
   {
    "duration": 24,
    "start_time": "2023-10-23T19:23:36.935Z"
   },
   {
    "duration": 31,
    "start_time": "2023-10-23T19:23:36.961Z"
   },
   {
    "duration": 12,
    "start_time": "2023-10-23T19:23:36.995Z"
   },
   {
    "duration": 8,
    "start_time": "2023-10-23T19:23:37.008Z"
   },
   {
    "duration": 100,
    "start_time": "2023-10-23T19:37:10.919Z"
   },
   {
    "duration": 239,
    "start_time": "2023-10-23T19:41:28.382Z"
   },
   {
    "duration": 239,
    "start_time": "2023-10-23T19:53:28.504Z"
   },
   {
    "duration": 381,
    "start_time": "2023-10-23T19:59:52.366Z"
   },
   {
    "duration": 244,
    "start_time": "2023-10-23T20:00:15.554Z"
   },
   {
    "duration": 243,
    "start_time": "2023-10-23T20:00:22.994Z"
   },
   {
    "duration": 19,
    "start_time": "2023-10-23T20:03:03.066Z"
   },
   {
    "duration": 190,
    "start_time": "2023-10-23T20:03:26.395Z"
   },
   {
    "duration": 245,
    "start_time": "2023-10-23T20:03:38.118Z"
   },
   {
    "duration": 1199,
    "start_time": "2023-10-23T21:44:17.671Z"
   },
   {
    "duration": 3,
    "start_time": "2023-10-23T21:44:18.871Z"
   },
   {
    "duration": 203,
    "start_time": "2023-10-23T21:44:18.876Z"
   },
   {
    "duration": 39,
    "start_time": "2023-10-23T21:44:19.080Z"
   },
   {
    "duration": 6,
    "start_time": "2023-10-23T21:44:19.121Z"
   },
   {
    "duration": 17,
    "start_time": "2023-10-23T21:44:19.128Z"
   },
   {
    "duration": 8,
    "start_time": "2023-10-23T21:44:19.147Z"
   },
   {
    "duration": 45,
    "start_time": "2023-10-23T21:44:19.157Z"
   },
   {
    "duration": 25,
    "start_time": "2023-10-23T21:44:19.204Z"
   },
   {
    "duration": 10,
    "start_time": "2023-10-23T21:44:19.232Z"
   },
   {
    "duration": 44,
    "start_time": "2023-10-23T21:44:19.244Z"
   },
   {
    "duration": 5,
    "start_time": "2023-10-23T21:44:19.289Z"
   },
   {
    "duration": 204,
    "start_time": "2023-10-23T21:44:19.295Z"
   },
   {
    "duration": 23,
    "start_time": "2023-10-23T21:44:19.506Z"
   },
   {
    "duration": 7,
    "start_time": "2023-10-23T21:44:19.531Z"
   },
   {
    "duration": 22,
    "start_time": "2023-10-23T21:44:19.539Z"
   },
   {
    "duration": 13,
    "start_time": "2023-10-23T21:44:19.562Z"
   },
   {
    "duration": 5,
    "start_time": "2023-10-23T21:44:19.576Z"
   },
   {
    "duration": 38,
    "start_time": "2023-10-23T21:44:19.583Z"
   },
   {
    "duration": 5,
    "start_time": "2023-10-23T21:44:19.623Z"
   },
   {
    "duration": 20,
    "start_time": "2023-10-23T21:44:19.629Z"
   },
   {
    "duration": 12,
    "start_time": "2023-10-23T21:44:19.650Z"
   },
   {
    "duration": 16,
    "start_time": "2023-10-23T21:44:19.663Z"
   },
   {
    "duration": 13,
    "start_time": "2023-10-23T21:44:19.681Z"
   },
   {
    "duration": 5,
    "start_time": "2023-10-23T21:44:19.696Z"
   },
   {
    "duration": 18,
    "start_time": "2023-10-23T21:44:19.703Z"
   },
   {
    "duration": 6,
    "start_time": "2023-10-23T21:44:19.723Z"
   },
   {
    "duration": 38,
    "start_time": "2023-10-23T21:44:19.732Z"
   },
   {
    "duration": 366,
    "start_time": "2023-10-23T21:44:19.772Z"
   },
   {
    "duration": 612,
    "start_time": "2023-10-23T21:44:20.140Z"
   },
   {
    "duration": 252,
    "start_time": "2023-10-23T21:44:20.754Z"
   },
   {
    "duration": 357,
    "start_time": "2023-10-23T21:44:21.008Z"
   },
   {
    "duration": 275,
    "start_time": "2023-10-23T21:44:21.366Z"
   },
   {
    "duration": 477,
    "start_time": "2023-10-23T21:44:21.643Z"
   },
   {
    "duration": 455,
    "start_time": "2023-10-23T21:44:22.124Z"
   },
   {
    "duration": 350,
    "start_time": "2023-10-23T21:44:22.581Z"
   },
   {
    "duration": 304,
    "start_time": "2023-10-23T21:44:22.933Z"
   },
   {
    "duration": 310,
    "start_time": "2023-10-23T21:44:23.239Z"
   },
   {
    "duration": 246,
    "start_time": "2023-10-23T21:44:23.551Z"
   },
   {
    "duration": 380,
    "start_time": "2023-10-23T21:44:23.799Z"
   },
   {
    "duration": 309,
    "start_time": "2023-10-23T21:44:24.181Z"
   },
   {
    "duration": 281,
    "start_time": "2023-10-23T21:44:24.492Z"
   },
   {
    "duration": 10,
    "start_time": "2023-10-23T21:44:24.775Z"
   },
   {
    "duration": 39,
    "start_time": "2023-10-23T21:44:24.786Z"
   },
   {
    "duration": 7,
    "start_time": "2023-10-23T21:44:24.827Z"
   },
   {
    "duration": 25,
    "start_time": "2023-10-23T21:44:24.836Z"
   },
   {
    "duration": 7,
    "start_time": "2023-10-23T21:44:24.863Z"
   },
   {
    "duration": 11,
    "start_time": "2023-10-23T21:44:24.872Z"
   },
   {
    "duration": 12,
    "start_time": "2023-10-23T21:57:46.923Z"
   },
   {
    "duration": 8,
    "start_time": "2023-10-23T21:58:08.738Z"
   },
   {
    "duration": 9,
    "start_time": "2023-10-23T22:03:15.697Z"
   },
   {
    "duration": 6,
    "start_time": "2023-10-23T22:03:20.341Z"
   },
   {
    "duration": 1257,
    "start_time": "2023-10-23T22:10:29.455Z"
   },
   {
    "duration": 10,
    "start_time": "2023-10-23T22:10:30.714Z"
   },
   {
    "duration": 196,
    "start_time": "2023-10-23T22:10:30.728Z"
   },
   {
    "duration": 34,
    "start_time": "2023-10-23T22:10:30.926Z"
   },
   {
    "duration": 25,
    "start_time": "2023-10-23T22:10:30.961Z"
   },
   {
    "duration": 73,
    "start_time": "2023-10-23T22:10:30.988Z"
   },
   {
    "duration": 62,
    "start_time": "2023-10-23T22:10:31.063Z"
   },
   {
    "duration": 64,
    "start_time": "2023-10-23T22:10:31.128Z"
   },
   {
    "duration": 57,
    "start_time": "2023-10-23T22:10:31.194Z"
   },
   {
    "duration": 59,
    "start_time": "2023-10-23T22:10:31.255Z"
   },
   {
    "duration": 55,
    "start_time": "2023-10-23T22:10:31.317Z"
   },
   {
    "duration": 18,
    "start_time": "2023-10-23T22:10:31.374Z"
   },
   {
    "duration": 233,
    "start_time": "2023-10-23T22:10:31.394Z"
   },
   {
    "duration": 16,
    "start_time": "2023-10-23T22:10:31.630Z"
   },
   {
    "duration": 36,
    "start_time": "2023-10-23T22:10:31.648Z"
   },
   {
    "duration": 48,
    "start_time": "2023-10-23T22:10:31.685Z"
   },
   {
    "duration": 10,
    "start_time": "2023-10-23T22:10:31.735Z"
   },
   {
    "duration": 25,
    "start_time": "2023-10-23T22:10:31.747Z"
   },
   {
    "duration": 47,
    "start_time": "2023-10-23T22:10:31.774Z"
   },
   {
    "duration": 28,
    "start_time": "2023-10-23T22:10:31.823Z"
   },
   {
    "duration": 21,
    "start_time": "2023-10-23T22:10:31.853Z"
   },
   {
    "duration": 48,
    "start_time": "2023-10-23T22:10:31.875Z"
   },
   {
    "duration": 23,
    "start_time": "2023-10-23T22:10:31.925Z"
   },
   {
    "duration": 30,
    "start_time": "2023-10-23T22:10:31.949Z"
   },
   {
    "duration": 42,
    "start_time": "2023-10-23T22:10:31.981Z"
   },
   {
    "duration": 29,
    "start_time": "2023-10-23T22:10:32.024Z"
   },
   {
    "duration": 38,
    "start_time": "2023-10-23T22:10:32.055Z"
   },
   {
    "duration": 58,
    "start_time": "2023-10-23T22:10:32.097Z"
   },
   {
    "duration": 363,
    "start_time": "2023-10-23T22:10:32.157Z"
   },
   {
    "duration": 595,
    "start_time": "2023-10-23T22:10:32.523Z"
   },
   {
    "duration": 231,
    "start_time": "2023-10-23T22:10:33.123Z"
   },
   {
    "duration": 351,
    "start_time": "2023-10-23T22:10:33.356Z"
   },
   {
    "duration": 266,
    "start_time": "2023-10-23T22:10:33.708Z"
   },
   {
    "duration": 461,
    "start_time": "2023-10-23T22:10:33.976Z"
   },
   {
    "duration": 493,
    "start_time": "2023-10-23T22:10:34.439Z"
   },
   {
    "duration": 376,
    "start_time": "2023-10-23T22:10:34.934Z"
   },
   {
    "duration": 312,
    "start_time": "2023-10-23T22:10:35.317Z"
   },
   {
    "duration": 313,
    "start_time": "2023-10-23T22:10:35.630Z"
   },
   {
    "duration": 315,
    "start_time": "2023-10-23T22:10:35.945Z"
   },
   {
    "duration": 411,
    "start_time": "2023-10-23T22:10:36.262Z"
   },
   {
    "duration": 312,
    "start_time": "2023-10-23T22:10:36.675Z"
   },
   {
    "duration": 270,
    "start_time": "2023-10-23T22:10:36.988Z"
   },
   {
    "duration": 12,
    "start_time": "2023-10-23T22:10:37.260Z"
   },
   {
    "duration": 9,
    "start_time": "2023-10-23T22:10:37.273Z"
   },
   {
    "duration": 40,
    "start_time": "2023-10-23T22:10:37.284Z"
   },
   {
    "duration": 125,
    "start_time": "2023-10-23T22:10:37.326Z"
   },
   {
    "duration": 0,
    "start_time": "2023-10-23T22:10:37.453Z"
   },
   {
    "duration": 0,
    "start_time": "2023-10-23T22:10:37.454Z"
   },
   {
    "duration": 16,
    "start_time": "2023-10-23T22:11:12.859Z"
   },
   {
    "duration": 9,
    "start_time": "2023-10-23T22:11:42.306Z"
   },
   {
    "duration": 4,
    "start_time": "2023-10-23T22:11:42.948Z"
   },
   {
    "duration": 154,
    "start_time": "2023-10-23T22:11:44.181Z"
   },
   {
    "duration": 30,
    "start_time": "2023-10-23T22:11:45.416Z"
   },
   {
    "duration": 6,
    "start_time": "2023-10-23T22:11:48.926Z"
   },
   {
    "duration": 23,
    "start_time": "2023-10-23T22:11:49.500Z"
   },
   {
    "duration": 15,
    "start_time": "2023-10-23T22:11:50.097Z"
   },
   {
    "duration": 18,
    "start_time": "2023-10-23T22:11:50.731Z"
   },
   {
    "duration": 15,
    "start_time": "2023-10-23T22:11:51.937Z"
   },
   {
    "duration": 9,
    "start_time": "2023-10-23T22:11:54.880Z"
   },
   {
    "duration": 15,
    "start_time": "2023-10-23T22:11:56.423Z"
   },
   {
    "duration": 5,
    "start_time": "2023-10-23T22:11:57.637Z"
   },
   {
    "duration": 186,
    "start_time": "2023-10-23T22:11:58.297Z"
   },
   {
    "duration": 15,
    "start_time": "2023-10-23T22:12:00.824Z"
   },
   {
    "duration": 8,
    "start_time": "2023-10-23T22:12:02.431Z"
   },
   {
    "duration": 30,
    "start_time": "2023-10-23T22:12:03.098Z"
   },
   {
    "duration": 7,
    "start_time": "2023-10-23T22:12:07.133Z"
   },
   {
    "duration": 5,
    "start_time": "2023-10-23T22:12:07.890Z"
   },
   {
    "duration": 4,
    "start_time": "2023-10-23T22:12:10.202Z"
   },
   {
    "duration": 5,
    "start_time": "2023-10-23T22:12:20.660Z"
   },
   {
    "duration": 9,
    "start_time": "2023-10-23T22:12:22.102Z"
   },
   {
    "duration": 5,
    "start_time": "2023-10-23T22:12:23.523Z"
   },
   {
    "duration": 5,
    "start_time": "2023-10-23T22:12:24.839Z"
   },
   {
    "duration": 9,
    "start_time": "2023-10-23T22:12:26.822Z"
   },
   {
    "duration": 6,
    "start_time": "2023-10-23T22:12:28.355Z"
   },
   {
    "duration": 4,
    "start_time": "2023-10-23T22:12:31.681Z"
   },
   {
    "duration": 6,
    "start_time": "2023-10-23T22:12:33.547Z"
   },
   {
    "duration": 33,
    "start_time": "2023-10-23T22:12:34.413Z"
   },
   {
    "duration": 360,
    "start_time": "2023-10-23T22:12:39.371Z"
   },
   {
    "duration": 691,
    "start_time": "2023-10-23T22:12:42.276Z"
   },
   {
    "duration": 248,
    "start_time": "2023-10-23T22:12:49.307Z"
   },
   {
    "duration": 259,
    "start_time": "2023-10-23T22:12:53.221Z"
   },
   {
    "duration": 285,
    "start_time": "2023-10-23T22:12:55.298Z"
   },
   {
    "duration": 496,
    "start_time": "2023-10-23T22:13:02.052Z"
   },
   {
    "duration": 419,
    "start_time": "2023-10-23T22:13:28.506Z"
   },
   {
    "duration": 373,
    "start_time": "2023-10-23T22:13:34.817Z"
   },
   {
    "duration": 308,
    "start_time": "2023-10-23T22:13:44.638Z"
   },
   {
    "duration": 476,
    "start_time": "2023-10-23T22:13:46.885Z"
   },
   {
    "duration": 246,
    "start_time": "2023-10-23T22:13:49.586Z"
   },
   {
    "duration": 296,
    "start_time": "2023-10-23T22:13:55.165Z"
   },
   {
    "duration": 295,
    "start_time": "2023-10-23T22:14:03.751Z"
   },
   {
    "duration": 250,
    "start_time": "2023-10-23T22:14:06.721Z"
   },
   {
    "duration": 13,
    "start_time": "2023-10-23T22:14:13.004Z"
   },
   {
    "duration": 7,
    "start_time": "2023-10-23T22:15:27.857Z"
   },
   {
    "duration": 6,
    "start_time": "2023-10-23T22:15:35.043Z"
   },
   {
    "duration": 15,
    "start_time": "2023-10-23T22:15:45.830Z"
   },
   {
    "duration": 21,
    "start_time": "2023-10-23T22:16:23.308Z"
   },
   {
    "duration": 15,
    "start_time": "2023-10-23T22:16:40.820Z"
   },
   {
    "duration": 4,
    "start_time": "2023-10-23T22:18:07.975Z"
   },
   {
    "duration": 16,
    "start_time": "2023-10-23T22:18:22.786Z"
   },
   {
    "duration": 16,
    "start_time": "2023-10-23T22:19:03.560Z"
   },
   {
    "duration": 9,
    "start_time": "2023-10-23T22:19:57.894Z"
   },
   {
    "duration": 11,
    "start_time": "2023-10-23T22:22:50.653Z"
   },
   {
    "duration": 11,
    "start_time": "2023-10-23T22:23:02.347Z"
   },
   {
    "duration": 11,
    "start_time": "2023-10-23T22:23:07.694Z"
   },
   {
    "duration": 453,
    "start_time": "2023-10-23T22:24:02.483Z"
   },
   {
    "duration": 494,
    "start_time": "2023-10-23T22:24:26.439Z"
   },
   {
    "duration": 12,
    "start_time": "2023-10-23T22:29:37.133Z"
   },
   {
    "duration": 9,
    "start_time": "2023-10-23T22:29:57.463Z"
   },
   {
    "duration": 1200,
    "start_time": "2023-10-23T22:39:51.626Z"
   },
   {
    "duration": 3,
    "start_time": "2023-10-23T22:39:52.828Z"
   },
   {
    "duration": 152,
    "start_time": "2023-10-23T22:39:52.832Z"
   },
   {
    "duration": 33,
    "start_time": "2023-10-23T22:39:52.985Z"
   },
   {
    "duration": 21,
    "start_time": "2023-10-23T22:39:53.020Z"
   },
   {
    "duration": 49,
    "start_time": "2023-10-23T22:39:53.042Z"
   },
   {
    "duration": 29,
    "start_time": "2023-10-23T22:39:53.093Z"
   },
   {
    "duration": 47,
    "start_time": "2023-10-23T22:39:53.124Z"
   },
   {
    "duration": 23,
    "start_time": "2023-10-23T22:39:53.173Z"
   },
   {
    "duration": 27,
    "start_time": "2023-10-23T22:39:53.197Z"
   },
   {
    "duration": 23,
    "start_time": "2023-10-23T22:39:53.226Z"
   },
   {
    "duration": 67,
    "start_time": "2023-10-23T22:39:53.251Z"
   },
   {
    "duration": 208,
    "start_time": "2023-10-23T22:39:53.319Z"
   },
   {
    "duration": 14,
    "start_time": "2023-10-23T22:39:53.530Z"
   },
   {
    "duration": 59,
    "start_time": "2023-10-23T22:39:53.546Z"
   },
   {
    "duration": 59,
    "start_time": "2023-10-23T22:39:53.606Z"
   },
   {
    "duration": 188,
    "start_time": "2023-10-23T22:39:53.667Z"
   },
   {
    "duration": 89,
    "start_time": "2023-10-23T22:39:53.857Z"
   },
   {
    "duration": 31,
    "start_time": "2023-10-23T22:39:53.948Z"
   },
   {
    "duration": 18,
    "start_time": "2023-10-23T22:39:53.981Z"
   },
   {
    "duration": 25,
    "start_time": "2023-10-23T22:39:54.000Z"
   },
   {
    "duration": 20,
    "start_time": "2023-10-23T22:39:54.026Z"
   },
   {
    "duration": 40,
    "start_time": "2023-10-23T22:39:54.048Z"
   },
   {
    "duration": 36,
    "start_time": "2023-10-23T22:39:54.089Z"
   },
   {
    "duration": 36,
    "start_time": "2023-10-23T22:39:54.127Z"
   },
   {
    "duration": 17,
    "start_time": "2023-10-23T22:39:54.165Z"
   },
   {
    "duration": 52,
    "start_time": "2023-10-23T22:39:54.183Z"
   },
   {
    "duration": 47,
    "start_time": "2023-10-23T22:39:54.237Z"
   },
   {
    "duration": 332,
    "start_time": "2023-10-23T22:39:54.286Z"
   },
   {
    "duration": 587,
    "start_time": "2023-10-23T22:39:54.620Z"
   },
   {
    "duration": 253,
    "start_time": "2023-10-23T22:39:55.210Z"
   },
   {
    "duration": 351,
    "start_time": "2023-10-23T22:39:55.465Z"
   },
   {
    "duration": 324,
    "start_time": "2023-10-23T22:39:55.818Z"
   },
   {
    "duration": 463,
    "start_time": "2023-10-23T22:39:56.145Z"
   },
   {
    "duration": 414,
    "start_time": "2023-10-23T22:39:56.610Z"
   },
   {
    "duration": 383,
    "start_time": "2023-10-23T22:39:57.026Z"
   },
   {
    "duration": 305,
    "start_time": "2023-10-23T22:39:57.411Z"
   },
   {
    "duration": 311,
    "start_time": "2023-10-23T22:39:57.718Z"
   },
   {
    "duration": 326,
    "start_time": "2023-10-23T22:39:58.031Z"
   },
   {
    "duration": 289,
    "start_time": "2023-10-23T22:39:58.358Z"
   },
   {
    "duration": 298,
    "start_time": "2023-10-23T22:39:58.650Z"
   },
   {
    "duration": 261,
    "start_time": "2023-10-23T22:39:58.949Z"
   },
   {
    "duration": 10,
    "start_time": "2023-10-23T22:39:59.212Z"
   },
   {
    "duration": 23,
    "start_time": "2023-10-23T22:39:59.223Z"
   },
   {
    "duration": 16,
    "start_time": "2023-10-23T22:39:59.248Z"
   },
   {
    "duration": 26,
    "start_time": "2023-10-23T22:39:59.266Z"
   },
   {
    "duration": 25,
    "start_time": "2023-10-23T22:39:59.293Z"
   },
   {
    "duration": 50,
    "start_time": "2023-10-23T22:39:59.320Z"
   },
   {
    "duration": 364,
    "start_time": "2023-10-23T23:27:29.795Z"
   },
   {
    "duration": 265,
    "start_time": "2023-10-23T23:29:51.810Z"
   },
   {
    "duration": 392,
    "start_time": "2023-10-23T23:31:57.202Z"
   },
   {
    "duration": 19,
    "start_time": "2023-10-23T23:32:37.421Z"
   },
   {
    "duration": 500,
    "start_time": "2023-10-23T23:34:40.830Z"
   },
   {
    "duration": 231,
    "start_time": "2023-10-23T23:36:13.721Z"
   },
   {
    "duration": 54,
    "start_time": "2023-10-23T23:43:57.915Z"
   },
   {
    "duration": 1479,
    "start_time": "2023-10-23T23:44:57.462Z"
   },
   {
    "duration": 266,
    "start_time": "2023-10-23T23:50:10.937Z"
   },
   {
    "duration": 22,
    "start_time": "2023-10-24T00:05:15.100Z"
   },
   {
    "duration": 28,
    "start_time": "2023-10-24T00:11:33.179Z"
   },
   {
    "duration": 260,
    "start_time": "2023-10-24T00:14:54.731Z"
   },
   {
    "duration": 12,
    "start_time": "2023-10-24T00:18:30.602Z"
   },
   {
    "duration": 1223,
    "start_time": "2023-10-24T00:19:06.509Z"
   },
   {
    "duration": 3,
    "start_time": "2023-10-24T00:19:07.734Z"
   },
   {
    "duration": 158,
    "start_time": "2023-10-24T00:19:07.738Z"
   },
   {
    "duration": 31,
    "start_time": "2023-10-24T00:19:07.898Z"
   },
   {
    "duration": 16,
    "start_time": "2023-10-24T00:19:07.931Z"
   },
   {
    "duration": 22,
    "start_time": "2023-10-24T00:19:07.948Z"
   },
   {
    "duration": 10,
    "start_time": "2023-10-24T00:19:07.971Z"
   },
   {
    "duration": 32,
    "start_time": "2023-10-24T00:19:07.983Z"
   },
   {
    "duration": 16,
    "start_time": "2023-10-24T00:19:08.017Z"
   },
   {
    "duration": 9,
    "start_time": "2023-10-24T00:19:08.035Z"
   },
   {
    "duration": 21,
    "start_time": "2023-10-24T00:19:08.046Z"
   },
   {
    "duration": 6,
    "start_time": "2023-10-24T00:19:08.069Z"
   },
   {
    "duration": 186,
    "start_time": "2023-10-24T00:19:08.076Z"
   },
   {
    "duration": 13,
    "start_time": "2023-10-24T00:19:08.263Z"
   },
   {
    "duration": 16,
    "start_time": "2023-10-24T00:19:08.277Z"
   },
   {
    "duration": 25,
    "start_time": "2023-10-24T00:19:08.295Z"
   },
   {
    "duration": 5,
    "start_time": "2023-10-24T00:19:08.322Z"
   },
   {
    "duration": 6,
    "start_time": "2023-10-24T00:19:08.329Z"
   },
   {
    "duration": 7,
    "start_time": "2023-10-24T00:19:08.337Z"
   },
   {
    "duration": 14,
    "start_time": "2023-10-24T00:19:08.346Z"
   },
   {
    "duration": 7,
    "start_time": "2023-10-24T00:19:08.362Z"
   },
   {
    "duration": 16,
    "start_time": "2023-10-24T00:19:08.371Z"
   },
   {
    "duration": 5,
    "start_time": "2023-10-24T00:19:08.388Z"
   },
   {
    "duration": 23,
    "start_time": "2023-10-24T00:19:08.394Z"
   },
   {
    "duration": 16,
    "start_time": "2023-10-24T00:19:08.418Z"
   },
   {
    "duration": 5,
    "start_time": "2023-10-24T00:19:08.436Z"
   },
   {
    "duration": 15,
    "start_time": "2023-10-24T00:19:08.442Z"
   },
   {
    "duration": 34,
    "start_time": "2023-10-24T00:19:08.460Z"
   },
   {
    "duration": 314,
    "start_time": "2023-10-24T00:19:08.496Z"
   },
   {
    "duration": 556,
    "start_time": "2023-10-24T00:19:08.812Z"
   },
   {
    "duration": 237,
    "start_time": "2023-10-24T00:19:09.370Z"
   },
   {
    "duration": 315,
    "start_time": "2023-10-24T00:19:09.609Z"
   },
   {
    "duration": 270,
    "start_time": "2023-10-24T00:19:09.926Z"
   },
   {
    "duration": 409,
    "start_time": "2023-10-24T00:19:10.198Z"
   },
   {
    "duration": 384,
    "start_time": "2023-10-24T00:19:10.609Z"
   },
   {
    "duration": 320,
    "start_time": "2023-10-24T00:19:10.995Z"
   },
   {
    "duration": 277,
    "start_time": "2023-10-24T00:19:11.316Z"
   },
   {
    "duration": 287,
    "start_time": "2023-10-24T00:19:11.594Z"
   },
   {
    "duration": 332,
    "start_time": "2023-10-24T00:19:11.882Z"
   },
   {
    "duration": 11,
    "start_time": "2023-10-24T00:19:12.215Z"
   },
   {
    "duration": 277,
    "start_time": "2023-10-24T00:19:12.227Z"
   },
   {
    "duration": 274,
    "start_time": "2023-10-24T00:19:12.507Z"
   },
   {
    "duration": 243,
    "start_time": "2023-10-24T00:19:12.783Z"
   },
   {
    "duration": 10,
    "start_time": "2023-10-24T00:19:13.027Z"
   },
   {
    "duration": 12,
    "start_time": "2023-10-24T00:19:13.038Z"
   },
   {
    "duration": 11,
    "start_time": "2023-10-24T00:19:13.051Z"
   },
   {
    "duration": 18,
    "start_time": "2023-10-24T00:19:13.063Z"
   },
   {
    "duration": 19,
    "start_time": "2023-10-24T00:19:13.083Z"
   },
   {
    "duration": 27,
    "start_time": "2023-10-24T00:19:13.104Z"
   },
   {
    "duration": 21,
    "start_time": "2023-10-24T00:22:46.563Z"
   },
   {
    "duration": 23,
    "start_time": "2023-10-24T00:24:43.309Z"
   },
   {
    "duration": 23,
    "start_time": "2023-10-24T00:25:17.399Z"
   },
   {
    "duration": 1315,
    "start_time": "2023-10-24T00:45:22.233Z"
   },
   {
    "duration": 1280,
    "start_time": "2023-10-24T00:49:12.178Z"
   },
   {
    "duration": 1395,
    "start_time": "2023-10-24T00:49:39.103Z"
   },
   {
    "duration": 1235,
    "start_time": "2023-10-24T01:01:21.385Z"
   },
   {
    "duration": 3,
    "start_time": "2023-10-24T01:01:22.622Z"
   },
   {
    "duration": 119,
    "start_time": "2023-10-24T01:01:22.627Z"
   },
   {
    "duration": 31,
    "start_time": "2023-10-24T01:01:22.748Z"
   },
   {
    "duration": 5,
    "start_time": "2023-10-24T01:01:22.780Z"
   },
   {
    "duration": 24,
    "start_time": "2023-10-24T01:01:22.786Z"
   },
   {
    "duration": 7,
    "start_time": "2023-10-24T01:01:22.812Z"
   },
   {
    "duration": 22,
    "start_time": "2023-10-24T01:01:22.820Z"
   },
   {
    "duration": 15,
    "start_time": "2023-10-24T01:01:22.844Z"
   },
   {
    "duration": 20,
    "start_time": "2023-10-24T01:01:22.863Z"
   },
   {
    "duration": 30,
    "start_time": "2023-10-24T01:01:22.885Z"
   },
   {
    "duration": 5,
    "start_time": "2023-10-24T01:01:22.917Z"
   },
   {
    "duration": 184,
    "start_time": "2023-10-24T01:01:22.924Z"
   },
   {
    "duration": 13,
    "start_time": "2023-10-24T01:01:23.110Z"
   },
   {
    "duration": 8,
    "start_time": "2023-10-24T01:01:23.125Z"
   },
   {
    "duration": 18,
    "start_time": "2023-10-24T01:01:23.134Z"
   },
   {
    "duration": 6,
    "start_time": "2023-10-24T01:01:23.154Z"
   },
   {
    "duration": 6,
    "start_time": "2023-10-24T01:01:23.162Z"
   },
   {
    "duration": 3,
    "start_time": "2023-10-24T01:01:23.170Z"
   },
   {
    "duration": 37,
    "start_time": "2023-10-24T01:01:23.174Z"
   },
   {
    "duration": 25,
    "start_time": "2023-10-24T01:01:23.213Z"
   },
   {
    "duration": 9,
    "start_time": "2023-10-24T01:01:23.239Z"
   },
   {
    "duration": 6,
    "start_time": "2023-10-24T01:01:23.250Z"
   },
   {
    "duration": 13,
    "start_time": "2023-10-24T01:01:23.258Z"
   },
   {
    "duration": 8,
    "start_time": "2023-10-24T01:01:23.272Z"
   },
   {
    "duration": 18,
    "start_time": "2023-10-24T01:01:23.282Z"
   },
   {
    "duration": 7,
    "start_time": "2023-10-24T01:01:23.301Z"
   },
   {
    "duration": 26,
    "start_time": "2023-10-24T01:01:23.310Z"
   },
   {
    "duration": 380,
    "start_time": "2023-10-24T01:01:23.337Z"
   },
   {
    "duration": 539,
    "start_time": "2023-10-24T01:01:23.719Z"
   },
   {
    "duration": 218,
    "start_time": "2023-10-24T01:01:24.259Z"
   },
   {
    "duration": 325,
    "start_time": "2023-10-24T01:01:24.478Z"
   },
   {
    "duration": 258,
    "start_time": "2023-10-24T01:01:24.806Z"
   },
   {
    "duration": 432,
    "start_time": "2023-10-24T01:01:25.065Z"
   },
   {
    "duration": 386,
    "start_time": "2023-10-24T01:01:25.499Z"
   },
   {
    "duration": 373,
    "start_time": "2023-10-24T01:01:25.887Z"
   },
   {
    "duration": 284,
    "start_time": "2023-10-24T01:01:26.261Z"
   },
   {
    "duration": 288,
    "start_time": "2023-10-24T01:01:26.547Z"
   },
   {
    "duration": 327,
    "start_time": "2023-10-24T01:01:26.836Z"
   },
   {
    "duration": 13,
    "start_time": "2023-10-24T01:01:27.165Z"
   },
   {
    "duration": 318,
    "start_time": "2023-10-24T01:01:27.180Z"
   },
   {
    "duration": 270,
    "start_time": "2023-10-24T01:01:27.500Z"
   },
   {
    "duration": 246,
    "start_time": "2023-10-24T01:01:27.772Z"
   },
   {
    "duration": 10,
    "start_time": "2023-10-24T01:01:28.019Z"
   },
   {
    "duration": 13,
    "start_time": "2023-10-24T01:01:28.031Z"
   },
   {
    "duration": 11,
    "start_time": "2023-10-24T01:01:28.046Z"
   },
   {
    "duration": 16,
    "start_time": "2023-10-24T01:01:28.059Z"
   },
   {
    "duration": 7,
    "start_time": "2023-10-24T01:01:28.077Z"
   },
   {
    "duration": 23,
    "start_time": "2023-10-24T01:01:28.085Z"
   },
   {
    "duration": 110,
    "start_time": "2023-10-24T01:04:41.813Z"
   },
   {
    "duration": 35,
    "start_time": "2023-10-24T01:07:35.737Z"
   },
   {
    "duration": 22,
    "start_time": "2023-10-24T01:08:11.027Z"
   },
   {
    "duration": 796,
    "start_time": "2023-10-24T01:09:09.978Z"
   },
   {
    "duration": 468,
    "start_time": "2023-10-24T01:13:14.302Z"
   },
   {
    "duration": 400,
    "start_time": "2023-10-24T01:15:46.632Z"
   },
   {
    "duration": 381,
    "start_time": "2023-10-24T01:18:07.577Z"
   },
   {
    "duration": 37,
    "start_time": "2023-10-24T01:21:32.162Z"
   },
   {
    "duration": 318,
    "start_time": "2023-10-24T01:54:05.466Z"
   },
   {
    "duration": 31,
    "start_time": "2023-10-24T02:04:50.467Z"
   },
   {
    "duration": 27,
    "start_time": "2023-10-24T02:06:35.478Z"
   },
   {
    "duration": 1218,
    "start_time": "2023-10-24T02:07:19.801Z"
   },
   {
    "duration": 2,
    "start_time": "2023-10-24T02:07:21.021Z"
   },
   {
    "duration": 200,
    "start_time": "2023-10-24T02:07:21.024Z"
   },
   {
    "duration": 33,
    "start_time": "2023-10-24T02:07:21.226Z"
   },
   {
    "duration": 5,
    "start_time": "2023-10-24T02:07:21.262Z"
   },
   {
    "duration": 50,
    "start_time": "2023-10-24T02:07:21.269Z"
   },
   {
    "duration": 9,
    "start_time": "2023-10-24T02:07:21.321Z"
   },
   {
    "duration": 31,
    "start_time": "2023-10-24T02:07:21.331Z"
   },
   {
    "duration": 15,
    "start_time": "2023-10-24T02:07:21.364Z"
   },
   {
    "duration": 28,
    "start_time": "2023-10-24T02:07:21.381Z"
   },
   {
    "duration": 15,
    "start_time": "2023-10-24T02:07:21.410Z"
   },
   {
    "duration": 4,
    "start_time": "2023-10-24T02:07:21.427Z"
   },
   {
    "duration": 183,
    "start_time": "2023-10-24T02:07:21.432Z"
   },
   {
    "duration": 13,
    "start_time": "2023-10-24T02:07:21.618Z"
   },
   {
    "duration": 23,
    "start_time": "2023-10-24T02:07:21.632Z"
   },
   {
    "duration": 25,
    "start_time": "2023-10-24T02:07:21.656Z"
   },
   {
    "duration": 8,
    "start_time": "2023-10-24T02:07:21.683Z"
   },
   {
    "duration": 26,
    "start_time": "2023-10-24T02:07:21.693Z"
   },
   {
    "duration": 18,
    "start_time": "2023-10-24T02:07:21.721Z"
   },
   {
    "duration": 6,
    "start_time": "2023-10-24T02:07:21.741Z"
   },
   {
    "duration": 18,
    "start_time": "2023-10-24T02:07:21.749Z"
   },
   {
    "duration": 27,
    "start_time": "2023-10-24T02:07:21.769Z"
   },
   {
    "duration": 13,
    "start_time": "2023-10-24T02:07:21.798Z"
   },
   {
    "duration": 23,
    "start_time": "2023-10-24T02:07:21.813Z"
   },
   {
    "duration": 28,
    "start_time": "2023-10-24T02:07:21.838Z"
   },
   {
    "duration": 23,
    "start_time": "2023-10-24T02:07:21.867Z"
   },
   {
    "duration": 12,
    "start_time": "2023-10-24T02:07:21.892Z"
   },
   {
    "duration": 42,
    "start_time": "2023-10-24T02:07:21.905Z"
   },
   {
    "duration": 341,
    "start_time": "2023-10-24T02:07:21.949Z"
   },
   {
    "duration": 565,
    "start_time": "2023-10-24T02:07:22.292Z"
   },
   {
    "duration": 224,
    "start_time": "2023-10-24T02:07:22.859Z"
   },
   {
    "duration": 309,
    "start_time": "2023-10-24T02:07:23.085Z"
   },
   {
    "duration": 281,
    "start_time": "2023-10-24T02:07:23.396Z"
   },
   {
    "duration": 557,
    "start_time": "2023-10-24T02:07:23.678Z"
   },
   {
    "duration": 428,
    "start_time": "2023-10-24T02:07:24.236Z"
   },
   {
    "duration": 344,
    "start_time": "2023-10-24T02:07:24.666Z"
   },
   {
    "duration": 287,
    "start_time": "2023-10-24T02:07:25.012Z"
   },
   {
    "duration": 282,
    "start_time": "2023-10-24T02:07:25.301Z"
   },
   {
    "duration": 299,
    "start_time": "2023-10-24T02:07:25.585Z"
   },
   {
    "duration": 289,
    "start_time": "2023-10-24T02:07:25.886Z"
   },
   {
    "duration": 284,
    "start_time": "2023-10-24T02:07:26.177Z"
   },
   {
    "duration": 244,
    "start_time": "2023-10-24T02:07:26.463Z"
   },
   {
    "duration": 10,
    "start_time": "2023-10-24T02:07:26.709Z"
   },
   {
    "duration": 8,
    "start_time": "2023-10-24T02:07:26.721Z"
   },
   {
    "duration": 13,
    "start_time": "2023-10-24T02:07:26.730Z"
   },
   {
    "duration": 10,
    "start_time": "2023-10-24T02:07:26.745Z"
   },
   {
    "duration": 7,
    "start_time": "2023-10-24T02:07:26.757Z"
   },
   {
    "duration": 14,
    "start_time": "2023-10-24T02:07:26.766Z"
   },
   {
    "duration": 112,
    "start_time": "2023-10-24T02:08:14.953Z"
   },
   {
    "duration": 25,
    "start_time": "2023-10-24T02:09:29.016Z"
   },
   {
    "duration": 1475,
    "start_time": "2023-10-24T02:13:03.626Z"
   },
   {
    "duration": 1457,
    "start_time": "2023-10-24T02:13:38.448Z"
   },
   {
    "duration": 1442,
    "start_time": "2023-10-24T02:14:11.755Z"
   },
   {
    "duration": 379,
    "start_time": "2023-10-24T02:26:31.695Z"
   },
   {
    "duration": 281,
    "start_time": "2023-10-24T02:28:31.213Z"
   },
   {
    "duration": 251,
    "start_time": "2023-10-24T02:40:49.072Z"
   },
   {
    "duration": 265,
    "start_time": "2023-10-24T02:43:19.403Z"
   },
   {
    "duration": 251,
    "start_time": "2023-10-24T02:43:34.026Z"
   },
   {
    "duration": 348,
    "start_time": "2023-10-24T02:53:28.162Z"
   },
   {
    "duration": 1160,
    "start_time": "2023-10-24T02:57:15.668Z"
   },
   {
    "duration": 3,
    "start_time": "2023-10-24T02:57:16.830Z"
   },
   {
    "duration": 148,
    "start_time": "2023-10-24T02:57:16.834Z"
   },
   {
    "duration": 36,
    "start_time": "2023-10-24T02:57:16.983Z"
   },
   {
    "duration": 6,
    "start_time": "2023-10-24T02:57:17.022Z"
   },
   {
    "duration": 27,
    "start_time": "2023-10-24T02:57:17.029Z"
   },
   {
    "duration": 8,
    "start_time": "2023-10-24T02:57:17.058Z"
   },
   {
    "duration": 19,
    "start_time": "2023-10-24T02:57:17.067Z"
   },
   {
    "duration": 30,
    "start_time": "2023-10-24T02:57:17.087Z"
   },
   {
    "duration": 9,
    "start_time": "2023-10-24T02:57:17.118Z"
   },
   {
    "duration": 20,
    "start_time": "2023-10-24T02:57:17.128Z"
   },
   {
    "duration": 4,
    "start_time": "2023-10-24T02:57:17.149Z"
   },
   {
    "duration": 217,
    "start_time": "2023-10-24T02:57:17.155Z"
   },
   {
    "duration": 13,
    "start_time": "2023-10-24T02:57:17.374Z"
   },
   {
    "duration": 8,
    "start_time": "2023-10-24T02:57:17.388Z"
   },
   {
    "duration": 21,
    "start_time": "2023-10-24T02:57:17.407Z"
   },
   {
    "duration": 6,
    "start_time": "2023-10-24T02:57:17.430Z"
   },
   {
    "duration": 20,
    "start_time": "2023-10-24T02:57:17.437Z"
   },
   {
    "duration": 3,
    "start_time": "2023-10-24T02:57:17.459Z"
   },
   {
    "duration": 6,
    "start_time": "2023-10-24T02:57:17.463Z"
   },
   {
    "duration": 6,
    "start_time": "2023-10-24T02:57:17.470Z"
   },
   {
    "duration": 7,
    "start_time": "2023-10-24T02:57:17.478Z"
   },
   {
    "duration": 5,
    "start_time": "2023-10-24T02:57:17.506Z"
   },
   {
    "duration": 10,
    "start_time": "2023-10-24T02:57:17.512Z"
   },
   {
    "duration": 5,
    "start_time": "2023-10-24T02:57:17.524Z"
   },
   {
    "duration": 12,
    "start_time": "2023-10-24T02:57:17.530Z"
   },
   {
    "duration": 9,
    "start_time": "2023-10-24T02:57:17.544Z"
   },
   {
    "duration": 26,
    "start_time": "2023-10-24T02:57:17.554Z"
   },
   {
    "duration": 339,
    "start_time": "2023-10-24T02:57:17.581Z"
   },
   {
    "duration": 540,
    "start_time": "2023-10-24T02:57:17.922Z"
   },
   {
    "duration": 237,
    "start_time": "2023-10-24T02:57:18.463Z"
   },
   {
    "duration": 324,
    "start_time": "2023-10-24T02:57:18.701Z"
   },
   {
    "duration": 240,
    "start_time": "2023-10-24T02:57:19.026Z"
   },
   {
    "duration": 427,
    "start_time": "2023-10-24T02:57:19.267Z"
   },
   {
    "duration": 404,
    "start_time": "2023-10-24T02:57:19.695Z"
   },
   {
    "duration": 319,
    "start_time": "2023-10-24T02:57:20.106Z"
   },
   {
    "duration": 271,
    "start_time": "2023-10-24T02:57:20.426Z"
   },
   {
    "duration": 292,
    "start_time": "2023-10-24T02:57:20.699Z"
   },
   {
    "duration": 309,
    "start_time": "2023-10-24T02:57:20.993Z"
   },
   {
    "duration": 283,
    "start_time": "2023-10-24T02:57:21.303Z"
   },
   {
    "duration": 296,
    "start_time": "2023-10-24T02:57:21.589Z"
   },
   {
    "duration": 293,
    "start_time": "2023-10-24T02:57:21.886Z"
   },
   {
    "duration": 10,
    "start_time": "2023-10-24T02:57:22.180Z"
   },
   {
    "duration": 16,
    "start_time": "2023-10-24T02:57:22.191Z"
   },
   {
    "duration": 13,
    "start_time": "2023-10-24T02:57:22.208Z"
   },
   {
    "duration": 29,
    "start_time": "2023-10-24T02:57:22.222Z"
   },
   {
    "duration": 32,
    "start_time": "2023-10-24T02:57:22.252Z"
   },
   {
    "duration": 37,
    "start_time": "2023-10-24T02:57:22.286Z"
   },
   {
    "duration": 263,
    "start_time": "2023-10-24T03:02:42.769Z"
   },
   {
    "duration": 266,
    "start_time": "2023-10-24T03:03:02.389Z"
   },
   {
    "duration": 116,
    "start_time": "2023-10-24T03:15:30.192Z"
   },
   {
    "duration": 398,
    "start_time": "2023-10-24T03:20:18.530Z"
   },
   {
    "duration": 1203,
    "start_time": "2023-10-24T03:29:26.335Z"
   },
   {
    "duration": 3,
    "start_time": "2023-10-24T03:29:27.539Z"
   },
   {
    "duration": 141,
    "start_time": "2023-10-24T03:29:27.544Z"
   },
   {
    "duration": 29,
    "start_time": "2023-10-24T03:29:27.687Z"
   },
   {
    "duration": 4,
    "start_time": "2023-10-24T03:29:27.717Z"
   },
   {
    "duration": 32,
    "start_time": "2023-10-24T03:29:27.722Z"
   },
   {
    "duration": 18,
    "start_time": "2023-10-24T03:29:27.755Z"
   },
   {
    "duration": 25,
    "start_time": "2023-10-24T03:29:27.774Z"
   },
   {
    "duration": 24,
    "start_time": "2023-10-24T03:29:27.800Z"
   },
   {
    "duration": 8,
    "start_time": "2023-10-24T03:29:27.827Z"
   },
   {
    "duration": 22,
    "start_time": "2023-10-24T03:29:27.836Z"
   },
   {
    "duration": 13,
    "start_time": "2023-10-24T03:29:27.859Z"
   },
   {
    "duration": 189,
    "start_time": "2023-10-24T03:29:27.874Z"
   },
   {
    "duration": 12,
    "start_time": "2023-10-24T03:29:28.065Z"
   },
   {
    "duration": 23,
    "start_time": "2023-10-24T03:29:28.079Z"
   },
   {
    "duration": 23,
    "start_time": "2023-10-24T03:29:28.103Z"
   },
   {
    "duration": 8,
    "start_time": "2023-10-24T03:29:28.127Z"
   },
   {
    "duration": 15,
    "start_time": "2023-10-24T03:29:28.136Z"
   },
   {
    "duration": 12,
    "start_time": "2023-10-24T03:29:28.153Z"
   },
   {
    "duration": 22,
    "start_time": "2023-10-24T03:29:28.167Z"
   },
   {
    "duration": 34,
    "start_time": "2023-10-24T03:29:28.191Z"
   },
   {
    "duration": 37,
    "start_time": "2023-10-24T03:29:28.227Z"
   },
   {
    "duration": 25,
    "start_time": "2023-10-24T03:29:28.266Z"
   },
   {
    "duration": 10,
    "start_time": "2023-10-24T03:29:28.292Z"
   },
   {
    "duration": 23,
    "start_time": "2023-10-24T03:29:28.303Z"
   },
   {
    "duration": 19,
    "start_time": "2023-10-24T03:29:28.327Z"
   },
   {
    "duration": 7,
    "start_time": "2023-10-24T03:29:28.348Z"
   },
   {
    "duration": 55,
    "start_time": "2023-10-24T03:29:28.358Z"
   },
   {
    "duration": 333,
    "start_time": "2023-10-24T03:29:28.415Z"
   },
   {
    "duration": 534,
    "start_time": "2023-10-24T03:29:28.750Z"
   },
   {
    "duration": 228,
    "start_time": "2023-10-24T03:29:29.286Z"
   },
   {
    "duration": 323,
    "start_time": "2023-10-24T03:29:29.516Z"
   },
   {
    "duration": 250,
    "start_time": "2023-10-24T03:29:29.841Z"
   },
   {
    "duration": 405,
    "start_time": "2023-10-24T03:29:30.092Z"
   },
   {
    "duration": 400,
    "start_time": "2023-10-24T03:29:30.498Z"
   },
   {
    "duration": 328,
    "start_time": "2023-10-24T03:29:30.899Z"
   },
   {
    "duration": 298,
    "start_time": "2023-10-24T03:29:31.229Z"
   },
   {
    "duration": 294,
    "start_time": "2023-10-24T03:29:31.528Z"
   },
   {
    "duration": 230,
    "start_time": "2023-10-24T03:29:31.824Z"
   },
   {
    "duration": 369,
    "start_time": "2023-10-24T03:29:32.056Z"
   },
   {
    "duration": 274,
    "start_time": "2023-10-24T03:29:32.427Z"
   },
   {
    "duration": 234,
    "start_time": "2023-10-24T03:29:32.703Z"
   },
   {
    "duration": 11,
    "start_time": "2023-10-24T03:29:32.938Z"
   },
   {
    "duration": 13,
    "start_time": "2023-10-24T03:29:32.950Z"
   },
   {
    "duration": 21,
    "start_time": "2023-10-24T03:29:32.965Z"
   },
   {
    "duration": 28,
    "start_time": "2023-10-24T03:29:32.988Z"
   },
   {
    "duration": 10,
    "start_time": "2023-10-24T03:29:33.018Z"
   },
   {
    "duration": 18,
    "start_time": "2023-10-24T03:29:33.030Z"
   },
   {
    "duration": 1324,
    "start_time": "2023-10-24T08:39:44.480Z"
   },
   {
    "duration": 2,
    "start_time": "2023-10-24T08:39:45.806Z"
   },
   {
    "duration": 357,
    "start_time": "2023-10-24T08:39:45.809Z"
   },
   {
    "duration": 33,
    "start_time": "2023-10-24T08:39:46.169Z"
   },
   {
    "duration": 29,
    "start_time": "2023-10-24T08:39:46.203Z"
   },
   {
    "duration": 69,
    "start_time": "2023-10-24T08:39:46.233Z"
   },
   {
    "duration": 43,
    "start_time": "2023-10-24T08:39:46.304Z"
   },
   {
    "duration": 38,
    "start_time": "2023-10-24T08:39:46.350Z"
   },
   {
    "duration": 71,
    "start_time": "2023-10-24T08:39:46.390Z"
   },
   {
    "duration": 65,
    "start_time": "2023-10-24T08:39:46.464Z"
   },
   {
    "duration": 43,
    "start_time": "2023-10-24T08:39:46.531Z"
   },
   {
    "duration": 19,
    "start_time": "2023-10-24T08:39:46.575Z"
   },
   {
    "duration": 205,
    "start_time": "2023-10-24T08:39:46.596Z"
   },
   {
    "duration": 13,
    "start_time": "2023-10-24T08:39:46.802Z"
   },
   {
    "duration": 38,
    "start_time": "2023-10-24T08:39:46.816Z"
   },
   {
    "duration": 53,
    "start_time": "2023-10-24T08:39:46.856Z"
   },
   {
    "duration": 29,
    "start_time": "2023-10-24T08:39:46.911Z"
   },
   {
    "duration": 38,
    "start_time": "2023-10-24T08:39:46.941Z"
   },
   {
    "duration": 28,
    "start_time": "2023-10-24T08:39:46.981Z"
   },
   {
    "duration": 26,
    "start_time": "2023-10-24T08:39:47.010Z"
   },
   {
    "duration": 37,
    "start_time": "2023-10-24T08:39:47.038Z"
   },
   {
    "duration": 34,
    "start_time": "2023-10-24T08:39:47.077Z"
   },
   {
    "duration": 40,
    "start_time": "2023-10-24T08:39:47.112Z"
   },
   {
    "duration": 53,
    "start_time": "2023-10-24T08:39:47.154Z"
   },
   {
    "duration": 46,
    "start_time": "2023-10-24T08:39:47.209Z"
   },
   {
    "duration": 33,
    "start_time": "2023-10-24T08:39:47.257Z"
   },
   {
    "duration": 40,
    "start_time": "2023-10-24T08:39:47.292Z"
   },
   {
    "duration": 58,
    "start_time": "2023-10-24T08:39:47.336Z"
   },
   {
    "duration": 374,
    "start_time": "2023-10-24T08:39:47.396Z"
   },
   {
    "duration": 587,
    "start_time": "2023-10-24T08:39:47.772Z"
   },
   {
    "duration": 248,
    "start_time": "2023-10-24T08:39:48.361Z"
   },
   {
    "duration": 341,
    "start_time": "2023-10-24T08:39:48.611Z"
   },
   {
    "duration": 271,
    "start_time": "2023-10-24T08:39:48.954Z"
   },
   {
    "duration": 467,
    "start_time": "2023-10-24T08:39:49.227Z"
   },
   {
    "duration": 472,
    "start_time": "2023-10-24T08:39:49.696Z"
   },
   {
    "duration": 396,
    "start_time": "2023-10-24T08:39:50.170Z"
   },
   {
    "duration": 295,
    "start_time": "2023-10-24T08:39:50.568Z"
   },
   {
    "duration": 306,
    "start_time": "2023-10-24T08:39:50.865Z"
   },
   {
    "duration": 236,
    "start_time": "2023-10-24T08:39:51.173Z"
   },
   {
    "duration": 374,
    "start_time": "2023-10-24T08:39:51.411Z"
   },
   {
    "duration": 294,
    "start_time": "2023-10-24T08:39:51.786Z"
   },
   {
    "duration": 261,
    "start_time": "2023-10-24T08:39:52.081Z"
   },
   {
    "duration": 14,
    "start_time": "2023-10-24T08:39:52.345Z"
   },
   {
    "duration": 89,
    "start_time": "2023-10-24T08:39:52.361Z"
   },
   {
    "duration": 21,
    "start_time": "2023-10-24T08:39:52.453Z"
   },
   {
    "duration": 57,
    "start_time": "2023-10-24T08:39:52.476Z"
   },
   {
    "duration": 23,
    "start_time": "2023-10-24T08:39:52.534Z"
   },
   {
    "duration": 48,
    "start_time": "2023-10-24T08:39:52.559Z"
   },
   {
    "duration": 15,
    "start_time": "2023-10-24T09:43:44.227Z"
   },
   {
    "duration": 9,
    "start_time": "2023-10-24T09:44:15.770Z"
   },
   {
    "duration": 14,
    "start_time": "2023-10-24T09:56:19.725Z"
   },
   {
    "duration": 6,
    "start_time": "2023-10-24T09:56:43.598Z"
   },
   {
    "duration": 11,
    "start_time": "2023-10-24T09:56:48.406Z"
   },
   {
    "duration": 11,
    "start_time": "2023-10-24T09:58:29.074Z"
   },
   {
    "duration": 6,
    "start_time": "2023-10-24T09:59:25.861Z"
   },
   {
    "duration": 7,
    "start_time": "2023-10-24T09:59:45.953Z"
   },
   {
    "duration": 19,
    "start_time": "2023-10-24T10:02:28.875Z"
   },
   {
    "duration": 16,
    "start_time": "2023-10-24T10:02:49.155Z"
   },
   {
    "duration": 18,
    "start_time": "2023-10-24T10:03:04.603Z"
   },
   {
    "duration": 9,
    "start_time": "2023-10-24T10:04:36.792Z"
   },
   {
    "duration": 19,
    "start_time": "2023-10-24T10:05:36.463Z"
   },
   {
    "duration": 19,
    "start_time": "2023-10-24T10:05:43.505Z"
   },
   {
    "duration": 23,
    "start_time": "2023-10-24T10:05:54.873Z"
   },
   {
    "duration": 19,
    "start_time": "2023-10-24T10:06:17.763Z"
   },
   {
    "duration": 4,
    "start_time": "2023-10-24T10:07:10.388Z"
   },
   {
    "duration": 20,
    "start_time": "2023-10-24T10:08:19.222Z"
   },
   {
    "duration": 251,
    "start_time": "2023-10-24T10:08:27.646Z"
   },
   {
    "duration": 260,
    "start_time": "2023-10-24T10:08:35.407Z"
   },
   {
    "duration": 1526,
    "start_time": "2023-10-24T15:06:31.965Z"
   },
   {
    "duration": 3,
    "start_time": "2023-10-24T15:06:33.494Z"
   },
   {
    "duration": 152,
    "start_time": "2023-10-24T15:06:33.499Z"
   },
   {
    "duration": 37,
    "start_time": "2023-10-24T15:06:33.653Z"
   },
   {
    "duration": 6,
    "start_time": "2023-10-24T15:06:33.692Z"
   },
   {
    "duration": 27,
    "start_time": "2023-10-24T15:06:33.700Z"
   },
   {
    "duration": 20,
    "start_time": "2023-10-24T15:06:33.728Z"
   },
   {
    "duration": 29,
    "start_time": "2023-10-24T15:06:33.751Z"
   },
   {
    "duration": 14,
    "start_time": "2023-10-24T15:06:33.781Z"
   },
   {
    "duration": 25,
    "start_time": "2023-10-24T15:06:33.797Z"
   },
   {
    "duration": 40,
    "start_time": "2023-10-24T15:06:33.823Z"
   },
   {
    "duration": 5,
    "start_time": "2023-10-24T15:06:33.864Z"
   },
   {
    "duration": 211,
    "start_time": "2023-10-24T15:06:33.870Z"
   },
   {
    "duration": 23,
    "start_time": "2023-10-24T15:06:34.083Z"
   },
   {
    "duration": 12,
    "start_time": "2023-10-24T15:06:34.108Z"
   },
   {
    "duration": 56,
    "start_time": "2023-10-24T15:06:34.122Z"
   },
   {
    "duration": 8,
    "start_time": "2023-10-24T15:06:34.181Z"
   },
   {
    "duration": 14,
    "start_time": "2023-10-24T15:06:34.190Z"
   },
   {
    "duration": 6,
    "start_time": "2023-10-24T15:06:34.205Z"
   },
   {
    "duration": 18,
    "start_time": "2023-10-24T15:06:34.213Z"
   },
   {
    "duration": 12,
    "start_time": "2023-10-24T15:06:34.232Z"
   },
   {
    "duration": 20,
    "start_time": "2023-10-24T15:06:34.246Z"
   },
   {
    "duration": 36,
    "start_time": "2023-10-24T15:06:34.268Z"
   },
   {
    "duration": 27,
    "start_time": "2023-10-24T15:06:34.306Z"
   },
   {
    "duration": 8,
    "start_time": "2023-10-24T15:06:34.335Z"
   },
   {
    "duration": 6,
    "start_time": "2023-10-24T15:06:34.346Z"
   },
   {
    "duration": 9,
    "start_time": "2023-10-24T15:06:34.354Z"
   },
   {
    "duration": 38,
    "start_time": "2023-10-24T15:06:34.368Z"
   },
   {
    "duration": 400,
    "start_time": "2023-10-24T15:06:34.408Z"
   },
   {
    "duration": 667,
    "start_time": "2023-10-24T15:06:34.809Z"
   },
   {
    "duration": 275,
    "start_time": "2023-10-24T15:06:35.478Z"
   },
   {
    "duration": 365,
    "start_time": "2023-10-24T15:06:35.755Z"
   },
   {
    "duration": 304,
    "start_time": "2023-10-24T15:06:36.121Z"
   },
   {
    "duration": 486,
    "start_time": "2023-10-24T15:06:36.426Z"
   },
   {
    "duration": 460,
    "start_time": "2023-10-24T15:06:36.913Z"
   },
   {
    "duration": 390,
    "start_time": "2023-10-24T15:06:37.375Z"
   },
   {
    "duration": 317,
    "start_time": "2023-10-24T15:06:37.768Z"
   },
   {
    "duration": 330,
    "start_time": "2023-10-24T15:06:38.087Z"
   },
   {
    "duration": 265,
    "start_time": "2023-10-24T15:06:38.419Z"
   },
   {
    "duration": 406,
    "start_time": "2023-10-24T15:06:38.685Z"
   },
   {
    "duration": 310,
    "start_time": "2023-10-24T15:06:39.092Z"
   },
   {
    "duration": 291,
    "start_time": "2023-10-24T15:06:39.403Z"
   },
   {
    "duration": 10,
    "start_time": "2023-10-24T15:06:39.696Z"
   },
   {
    "duration": 29,
    "start_time": "2023-10-24T15:06:39.707Z"
   },
   {
    "duration": 18,
    "start_time": "2023-10-24T15:06:39.738Z"
   },
   {
    "duration": 24,
    "start_time": "2023-10-24T15:06:39.760Z"
   },
   {
    "duration": 9,
    "start_time": "2023-10-24T15:06:39.786Z"
   },
   {
    "duration": 16,
    "start_time": "2023-10-24T15:06:39.796Z"
   },
   {
    "duration": 15,
    "start_time": "2023-10-24T15:17:59.307Z"
   },
   {
    "duration": 381,
    "start_time": "2023-10-24T15:25:27.401Z"
   },
   {
    "duration": 296,
    "start_time": "2023-10-24T15:27:12.053Z"
   },
   {
    "duration": 352,
    "start_time": "2023-10-24T15:27:23.840Z"
   },
   {
    "duration": 371,
    "start_time": "2023-10-24T15:29:08.139Z"
   },
   {
    "duration": 207,
    "start_time": "2023-10-24T15:30:15.498Z"
   },
   {
    "duration": 1980,
    "start_time": "2023-10-24T15:32:06.509Z"
   },
   {
    "duration": 293,
    "start_time": "2023-10-24T15:33:30.841Z"
   },
   {
    "duration": 288,
    "start_time": "2023-10-24T15:37:33.498Z"
   },
   {
    "duration": 243,
    "start_time": "2023-10-24T15:38:49.870Z"
   },
   {
    "duration": 375,
    "start_time": "2023-10-24T15:39:09.321Z"
   },
   {
    "duration": 293,
    "start_time": "2023-10-24T15:39:22.951Z"
   },
   {
    "duration": 314,
    "start_time": "2023-10-24T15:47:04.721Z"
   },
   {
    "duration": 322,
    "start_time": "2023-10-24T15:51:41.763Z"
   },
   {
    "duration": 438,
    "start_time": "2023-10-24T15:52:22.066Z"
   },
   {
    "duration": 303,
    "start_time": "2023-10-24T15:55:10.268Z"
   },
   {
    "duration": 1874,
    "start_time": "2023-10-24T15:55:59.729Z"
   },
   {
    "duration": 283,
    "start_time": "2023-10-24T15:56:23.710Z"
   },
   {
    "duration": 73,
    "start_time": "2023-10-24T15:57:52.160Z"
   },
   {
    "duration": 167,
    "start_time": "2023-10-24T15:58:44.954Z"
   },
   {
    "duration": 317,
    "start_time": "2023-10-24T15:59:00.857Z"
   },
   {
    "duration": 257,
    "start_time": "2023-10-24T16:51:39.634Z"
   },
   {
    "duration": 329,
    "start_time": "2023-10-24T16:52:24.207Z"
   },
   {
    "duration": 381,
    "start_time": "2023-10-24T16:53:28.209Z"
   },
   {
    "duration": 281,
    "start_time": "2023-10-24T16:54:22.095Z"
   },
   {
    "duration": 309,
    "start_time": "2023-10-24T16:55:03.129Z"
   },
   {
    "duration": 258,
    "start_time": "2023-10-24T16:55:32.772Z"
   },
   {
    "duration": 292,
    "start_time": "2023-10-24T16:57:36.881Z"
   },
   {
    "duration": 260,
    "start_time": "2023-10-24T16:58:17.756Z"
   },
   {
    "duration": 402,
    "start_time": "2023-10-24T17:02:35.901Z"
   },
   {
    "duration": 1308,
    "start_time": "2023-10-24T17:04:15.913Z"
   },
   {
    "duration": 3,
    "start_time": "2023-10-24T17:04:17.223Z"
   },
   {
    "duration": 150,
    "start_time": "2023-10-24T17:04:17.227Z"
   },
   {
    "duration": 47,
    "start_time": "2023-10-24T17:04:17.381Z"
   },
   {
    "duration": 22,
    "start_time": "2023-10-24T17:04:17.430Z"
   },
   {
    "duration": 27,
    "start_time": "2023-10-24T17:04:17.455Z"
   },
   {
    "duration": 18,
    "start_time": "2023-10-24T17:04:17.484Z"
   },
   {
    "duration": 38,
    "start_time": "2023-10-24T17:04:17.504Z"
   },
   {
    "duration": 27,
    "start_time": "2023-10-24T17:04:17.545Z"
   },
   {
    "duration": 11,
    "start_time": "2023-10-24T17:04:17.574Z"
   },
   {
    "duration": 19,
    "start_time": "2023-10-24T17:04:17.586Z"
   },
   {
    "duration": 6,
    "start_time": "2023-10-24T17:04:17.607Z"
   },
   {
    "duration": 213,
    "start_time": "2023-10-24T17:04:17.614Z"
   },
   {
    "duration": 23,
    "start_time": "2023-10-24T17:04:17.829Z"
   },
   {
    "duration": 12,
    "start_time": "2023-10-24T17:04:17.854Z"
   },
   {
    "duration": 32,
    "start_time": "2023-10-24T17:04:17.868Z"
   },
   {
    "duration": 19,
    "start_time": "2023-10-24T17:04:17.902Z"
   },
   {
    "duration": 23,
    "start_time": "2023-10-24T17:04:17.923Z"
   },
   {
    "duration": 4,
    "start_time": "2023-10-24T17:04:17.948Z"
   },
   {
    "duration": 10,
    "start_time": "2023-10-24T17:04:17.954Z"
   },
   {
    "duration": 11,
    "start_time": "2023-10-24T17:04:17.966Z"
   },
   {
    "duration": 27,
    "start_time": "2023-10-24T17:04:17.978Z"
   },
   {
    "duration": 18,
    "start_time": "2023-10-24T17:04:18.007Z"
   },
   {
    "duration": 43,
    "start_time": "2023-10-24T17:04:18.026Z"
   },
   {
    "duration": 8,
    "start_time": "2023-10-24T17:04:18.072Z"
   },
   {
    "duration": 15,
    "start_time": "2023-10-24T17:04:18.081Z"
   },
   {
    "duration": 17,
    "start_time": "2023-10-24T17:04:18.098Z"
   },
   {
    "duration": 54,
    "start_time": "2023-10-24T17:04:18.120Z"
   },
   {
    "duration": 425,
    "start_time": "2023-10-24T17:04:18.176Z"
   },
   {
    "duration": 666,
    "start_time": "2023-10-24T17:04:18.604Z"
   },
   {
    "duration": 253,
    "start_time": "2023-10-24T17:04:19.272Z"
   },
   {
    "duration": 360,
    "start_time": "2023-10-24T17:04:19.527Z"
   },
   {
    "duration": 307,
    "start_time": "2023-10-24T17:04:19.889Z"
   },
   {
    "duration": 462,
    "start_time": "2023-10-24T17:04:20.198Z"
   },
   {
    "duration": 446,
    "start_time": "2023-10-24T17:04:20.662Z"
   },
   {
    "duration": 427,
    "start_time": "2023-10-24T17:04:21.110Z"
   },
   {
    "duration": 333,
    "start_time": "2023-10-24T17:04:21.538Z"
   },
   {
    "duration": 574,
    "start_time": "2023-10-24T17:04:21.872Z"
   },
   {
    "duration": 360,
    "start_time": "2023-10-24T17:04:22.448Z"
   },
   {
    "duration": 351,
    "start_time": "2023-10-24T17:04:22.810Z"
   },
   {
    "duration": 18,
    "start_time": "2023-10-24T17:04:23.165Z"
   },
   {
    "duration": 370,
    "start_time": "2023-10-24T17:04:23.185Z"
   },
   {
    "duration": 327,
    "start_time": "2023-10-24T17:04:23.557Z"
   },
   {
    "duration": 11,
    "start_time": "2023-10-24T17:04:23.886Z"
   },
   {
    "duration": 32,
    "start_time": "2023-10-24T17:04:23.899Z"
   },
   {
    "duration": 24,
    "start_time": "2023-10-24T17:04:23.933Z"
   },
   {
    "duration": 17,
    "start_time": "2023-10-24T17:04:23.958Z"
   },
   {
    "duration": 9,
    "start_time": "2023-10-24T17:04:23.977Z"
   },
   {
    "duration": 13,
    "start_time": "2023-10-24T17:04:23.988Z"
   },
   {
    "duration": 15,
    "start_time": "2023-10-24T17:09:17.130Z"
   },
   {
    "duration": 1137,
    "start_time": "2023-10-24T17:41:21.804Z"
   },
   {
    "duration": 3,
    "start_time": "2023-10-24T17:41:22.943Z"
   },
   {
    "duration": 157,
    "start_time": "2023-10-24T17:41:22.947Z"
   },
   {
    "duration": 33,
    "start_time": "2023-10-24T17:41:23.107Z"
   },
   {
    "duration": 19,
    "start_time": "2023-10-24T17:41:23.141Z"
   },
   {
    "duration": 33,
    "start_time": "2023-10-24T17:41:23.162Z"
   },
   {
    "duration": 13,
    "start_time": "2023-10-24T17:41:23.197Z"
   },
   {
    "duration": 40,
    "start_time": "2023-10-24T17:41:23.211Z"
   },
   {
    "duration": 284,
    "start_time": "2023-10-24T17:41:23.252Z"
   },
   {
    "duration": 21,
    "start_time": "2023-10-24T17:41:23.538Z"
   },
   {
    "duration": 33,
    "start_time": "2023-10-24T17:41:23.561Z"
   },
   {
    "duration": 17,
    "start_time": "2023-10-24T17:41:23.596Z"
   },
   {
    "duration": 203,
    "start_time": "2023-10-24T17:41:23.615Z"
   },
   {
    "duration": 13,
    "start_time": "2023-10-24T17:41:23.819Z"
   },
   {
    "duration": 33,
    "start_time": "2023-10-24T17:41:23.834Z"
   },
   {
    "duration": 43,
    "start_time": "2023-10-24T17:41:23.869Z"
   },
   {
    "duration": 26,
    "start_time": "2023-10-24T17:41:23.914Z"
   },
   {
    "duration": 23,
    "start_time": "2023-10-24T17:41:23.941Z"
   },
   {
    "duration": 12,
    "start_time": "2023-10-24T17:41:23.966Z"
   },
   {
    "duration": 23,
    "start_time": "2023-10-24T17:41:23.980Z"
   },
   {
    "duration": 28,
    "start_time": "2023-10-24T17:41:24.006Z"
   },
   {
    "duration": 23,
    "start_time": "2023-10-24T17:41:24.036Z"
   },
   {
    "duration": 30,
    "start_time": "2023-10-24T17:41:24.061Z"
   },
   {
    "duration": 19,
    "start_time": "2023-10-24T17:41:24.097Z"
   },
   {
    "duration": 8,
    "start_time": "2023-10-24T17:41:24.118Z"
   },
   {
    "duration": 32,
    "start_time": "2023-10-24T17:41:24.127Z"
   },
   {
    "duration": 8,
    "start_time": "2023-10-24T17:41:24.163Z"
   },
   {
    "duration": 42,
    "start_time": "2023-10-24T17:41:24.176Z"
   },
   {
    "duration": 452,
    "start_time": "2023-10-24T17:41:24.220Z"
   },
   {
    "duration": 631,
    "start_time": "2023-10-24T17:41:24.674Z"
   },
   {
    "duration": 246,
    "start_time": "2023-10-24T17:41:25.307Z"
   },
   {
    "duration": 352,
    "start_time": "2023-10-24T17:41:25.555Z"
   },
   {
    "duration": 261,
    "start_time": "2023-10-24T17:41:25.908Z"
   },
   {
    "duration": 492,
    "start_time": "2023-10-24T17:41:26.171Z"
   },
   {
    "duration": 458,
    "start_time": "2023-10-24T17:41:26.665Z"
   },
   {
    "duration": 339,
    "start_time": "2023-10-24T17:41:27.125Z"
   },
   {
    "duration": 300,
    "start_time": "2023-10-24T17:41:27.466Z"
   },
   {
    "duration": 284,
    "start_time": "2023-10-24T17:41:27.769Z"
   },
   {
    "duration": 320,
    "start_time": "2023-10-24T17:41:28.055Z"
   },
   {
    "duration": 15,
    "start_time": "2023-10-24T17:41:28.377Z"
   },
   {
    "duration": 288,
    "start_time": "2023-10-24T17:41:28.393Z"
   },
   {
    "duration": 11,
    "start_time": "2023-10-24T17:41:28.683Z"
   },
   {
    "duration": 323,
    "start_time": "2023-10-24T17:41:28.696Z"
   },
   {
    "duration": 267,
    "start_time": "2023-10-24T17:41:29.021Z"
   },
   {
    "duration": 11,
    "start_time": "2023-10-24T17:41:29.290Z"
   },
   {
    "duration": 14,
    "start_time": "2023-10-24T17:41:29.303Z"
   },
   {
    "duration": 10,
    "start_time": "2023-10-24T17:41:29.319Z"
   },
   {
    "duration": 29,
    "start_time": "2023-10-24T17:41:29.330Z"
   },
   {
    "duration": 8,
    "start_time": "2023-10-24T17:41:29.360Z"
   },
   {
    "duration": 24,
    "start_time": "2023-10-24T17:41:29.370Z"
   },
   {
    "duration": 5,
    "start_time": "2023-10-24T17:51:52.608Z"
   },
   {
    "duration": 5,
    "start_time": "2023-10-24T17:57:33.059Z"
   },
   {
    "duration": 5,
    "start_time": "2023-10-24T17:57:48.506Z"
   },
   {
    "duration": 4,
    "start_time": "2023-10-24T17:57:53.332Z"
   },
   {
    "duration": 8,
    "start_time": "2023-10-24T17:57:56.705Z"
   },
   {
    "duration": 4,
    "start_time": "2023-10-24T17:58:18.452Z"
   },
   {
    "duration": 3,
    "start_time": "2023-10-24T17:58:27.087Z"
   },
   {
    "duration": 6,
    "start_time": "2023-10-24T17:58:29.475Z"
   },
   {
    "duration": 25,
    "start_time": "2023-10-24T17:58:32.114Z"
   },
   {
    "duration": 4,
    "start_time": "2023-10-24T18:01:35.583Z"
   },
   {
    "duration": 3,
    "start_time": "2023-10-24T18:01:36.284Z"
   },
   {
    "duration": 280,
    "start_time": "2023-10-24T18:01:37.766Z"
   },
   {
    "duration": 27,
    "start_time": "2023-10-24T18:01:39.542Z"
   },
   {
    "duration": 5,
    "start_time": "2023-10-24T18:01:43.261Z"
   },
   {
    "duration": 20,
    "start_time": "2023-10-24T18:01:44.211Z"
   },
   {
    "duration": 9,
    "start_time": "2023-10-24T18:01:45.203Z"
   },
   {
    "duration": 19,
    "start_time": "2023-10-24T18:01:47.863Z"
   },
   {
    "duration": 15,
    "start_time": "2023-10-24T18:01:49.580Z"
   },
   {
    "duration": 9,
    "start_time": "2023-10-24T18:01:56.030Z"
   },
   {
    "duration": 13,
    "start_time": "2023-10-24T18:01:58.121Z"
   },
   {
    "duration": 6,
    "start_time": "2023-10-24T18:02:00.409Z"
   },
   {
    "duration": 163,
    "start_time": "2023-10-24T18:02:01.413Z"
   },
   {
    "duration": 23,
    "start_time": "2023-10-24T18:02:04.074Z"
   },
   {
    "duration": 7,
    "start_time": "2023-10-24T18:02:05.814Z"
   },
   {
    "duration": 21,
    "start_time": "2023-10-24T18:02:06.762Z"
   },
   {
    "duration": 6,
    "start_time": "2023-10-24T18:02:11.059Z"
   },
   {
    "duration": 6,
    "start_time": "2023-10-24T18:02:11.945Z"
   },
   {
    "duration": 5,
    "start_time": "2023-10-24T18:02:17.534Z"
   },
   {
    "duration": 4,
    "start_time": "2023-10-24T18:02:24.622Z"
   },
   {
    "duration": 4,
    "start_time": "2023-10-24T18:02:30.230Z"
   },
   {
    "duration": 4,
    "start_time": "2023-10-24T18:02:33.920Z"
   },
   {
    "duration": 9,
    "start_time": "2023-10-24T18:02:36.095Z"
   },
   {
    "duration": 6,
    "start_time": "2023-10-24T18:02:38.827Z"
   },
   {
    "duration": 3,
    "start_time": "2023-10-24T18:03:52.039Z"
   },
   {
    "duration": 5,
    "start_time": "2023-10-24T18:03:56.359Z"
   },
   {
    "duration": 5,
    "start_time": "2023-10-24T18:04:00.499Z"
   },
   {
    "duration": 4,
    "start_time": "2023-10-24T18:05:23.215Z"
   },
   {
    "duration": 4,
    "start_time": "2023-10-24T18:05:30.695Z"
   },
   {
    "duration": 7,
    "start_time": "2023-10-24T18:05:34.270Z"
   },
   {
    "duration": 26,
    "start_time": "2023-10-24T18:05:35.604Z"
   },
   {
    "duration": 387,
    "start_time": "2023-10-24T18:06:17.905Z"
   },
   {
    "duration": 737,
    "start_time": "2023-10-24T18:06:22.270Z"
   },
   {
    "duration": 241,
    "start_time": "2023-10-24T18:06:31.644Z"
   },
   {
    "duration": 268,
    "start_time": "2023-10-24T18:06:36.704Z"
   },
   {
    "duration": 315,
    "start_time": "2023-10-24T18:06:39.021Z"
   },
   {
    "duration": 533,
    "start_time": "2023-10-24T18:06:49.780Z"
   },
   {
    "duration": 4,
    "start_time": "2023-10-24T18:08:59.506Z"
   },
   {
    "duration": 1536,
    "start_time": "2023-10-24T18:09:23.684Z"
   },
   {
    "duration": 3,
    "start_time": "2023-10-24T18:09:25.222Z"
   },
   {
    "duration": 162,
    "start_time": "2023-10-24T18:09:25.226Z"
   },
   {
    "duration": 43,
    "start_time": "2023-10-24T18:09:25.391Z"
   },
   {
    "duration": 6,
    "start_time": "2023-10-24T18:09:25.444Z"
   },
   {
    "duration": 49,
    "start_time": "2023-10-24T18:09:25.452Z"
   },
   {
    "duration": 8,
    "start_time": "2023-10-24T18:09:25.502Z"
   },
   {
    "duration": 42,
    "start_time": "2023-10-24T18:09:25.512Z"
   },
   {
    "duration": 24,
    "start_time": "2023-10-24T18:09:25.556Z"
   },
   {
    "duration": 46,
    "start_time": "2023-10-24T18:09:25.584Z"
   },
   {
    "duration": 53,
    "start_time": "2023-10-24T18:09:25.632Z"
   },
   {
    "duration": 25,
    "start_time": "2023-10-24T18:09:25.688Z"
   },
   {
    "duration": 245,
    "start_time": "2023-10-24T18:09:25.716Z"
   },
   {
    "duration": 14,
    "start_time": "2023-10-24T18:09:25.963Z"
   },
   {
    "duration": 49,
    "start_time": "2023-10-24T18:09:25.979Z"
   },
   {
    "duration": 80,
    "start_time": "2023-10-24T18:09:26.030Z"
   },
   {
    "duration": 29,
    "start_time": "2023-10-24T18:09:26.112Z"
   },
   {
    "duration": 35,
    "start_time": "2023-10-24T18:09:26.143Z"
   },
   {
    "duration": 25,
    "start_time": "2023-10-24T18:09:26.180Z"
   },
   {
    "duration": 49,
    "start_time": "2023-10-24T18:09:26.206Z"
   },
   {
    "duration": 19,
    "start_time": "2023-10-24T18:09:26.258Z"
   },
   {
    "duration": 33,
    "start_time": "2023-10-24T18:09:26.278Z"
   },
   {
    "duration": 38,
    "start_time": "2023-10-24T18:09:26.314Z"
   },
   {
    "duration": 27,
    "start_time": "2023-10-24T18:09:26.355Z"
   },
   {
    "duration": 47,
    "start_time": "2023-10-24T18:09:26.384Z"
   },
   {
    "duration": 51,
    "start_time": "2023-10-24T18:09:26.433Z"
   },
   {
    "duration": 439,
    "start_time": "2023-10-24T18:09:26.487Z"
   },
   {
    "duration": 681,
    "start_time": "2023-10-24T18:09:26.931Z"
   },
   {
    "duration": 291,
    "start_time": "2023-10-24T18:09:27.615Z"
   },
   {
    "duration": 385,
    "start_time": "2023-10-24T18:09:27.908Z"
   },
   {
    "duration": 304,
    "start_time": "2023-10-24T18:09:28.296Z"
   },
   {
    "duration": 567,
    "start_time": "2023-10-24T18:09:28.602Z"
   },
   {
    "duration": 528,
    "start_time": "2023-10-24T18:09:29.171Z"
   },
   {
    "duration": 428,
    "start_time": "2023-10-24T18:09:29.701Z"
   },
   {
    "duration": 334,
    "start_time": "2023-10-24T18:09:30.131Z"
   },
   {
    "duration": 382,
    "start_time": "2023-10-24T18:09:30.467Z"
   },
   {
    "duration": 367,
    "start_time": "2023-10-24T18:09:30.851Z"
   },
   {
    "duration": 25,
    "start_time": "2023-10-24T18:09:31.221Z"
   },
   {
    "duration": 405,
    "start_time": "2023-10-24T18:09:31.248Z"
   },
   {
    "duration": 12,
    "start_time": "2023-10-24T18:09:31.655Z"
   },
   {
    "duration": 378,
    "start_time": "2023-10-24T18:09:31.669Z"
   },
   {
    "duration": 296,
    "start_time": "2023-10-24T18:09:32.049Z"
   },
   {
    "duration": 11,
    "start_time": "2023-10-24T18:09:32.349Z"
   },
   {
    "duration": 45,
    "start_time": "2023-10-24T18:09:32.361Z"
   },
   {
    "duration": 62,
    "start_time": "2023-10-24T18:09:32.408Z"
   },
   {
    "duration": 83,
    "start_time": "2023-10-24T18:09:32.471Z"
   },
   {
    "duration": 19,
    "start_time": "2023-10-24T18:09:32.556Z"
   },
   {
    "duration": 42,
    "start_time": "2023-10-24T18:09:32.577Z"
   },
   {
    "duration": 4,
    "start_time": "2023-10-24T18:10:17.181Z"
   },
   {
    "duration": 4,
    "start_time": "2023-10-24T18:10:24.269Z"
   },
   {
    "duration": 7,
    "start_time": "2023-10-24T18:10:25.540Z"
   },
   {
    "duration": 31,
    "start_time": "2023-10-24T18:10:26.406Z"
   },
   {
    "duration": 420,
    "start_time": "2023-10-24T18:10:34.695Z"
   },
   {
    "duration": 772,
    "start_time": "2023-10-24T18:10:38.734Z"
   },
   {
    "duration": 224,
    "start_time": "2023-10-24T18:10:43.224Z"
   },
   {
    "duration": 254,
    "start_time": "2023-10-24T18:10:47.072Z"
   },
   {
    "duration": 304,
    "start_time": "2023-10-24T18:10:49.646Z"
   },
   {
    "duration": 516,
    "start_time": "2023-10-24T18:11:08.710Z"
   },
   {
    "duration": 437,
    "start_time": "2023-10-24T18:22:47.812Z"
   },
   {
    "duration": 381,
    "start_time": "2023-10-24T18:23:34.457Z"
   },
   {
    "duration": 280,
    "start_time": "2023-10-24T18:23:39.875Z"
   },
   {
    "duration": 406,
    "start_time": "2023-10-24T18:23:42.199Z"
   },
   {
    "duration": 233,
    "start_time": "2023-10-24T18:23:45.779Z"
   },
   {
    "duration": 15,
    "start_time": "2023-10-24T18:23:49.218Z"
   },
   {
    "duration": 16,
    "start_time": "2023-10-24T18:32:07.417Z"
   },
   {
    "duration": 15,
    "start_time": "2023-10-24T18:32:41.221Z"
   },
   {
    "duration": 12,
    "start_time": "2023-10-24T18:39:50.830Z"
   },
   {
    "duration": 19,
    "start_time": "2023-10-24T18:42:44.360Z"
   },
   {
    "duration": 11,
    "start_time": "2023-10-24T18:45:50.914Z"
   },
   {
    "duration": 16,
    "start_time": "2023-10-24T18:47:19.878Z"
   },
   {
    "duration": 18,
    "start_time": "2023-10-24T19:01:00.247Z"
   },
   {
    "duration": 12,
    "start_time": "2023-10-24T19:02:12.762Z"
   },
   {
    "duration": 314,
    "start_time": "2023-10-24T19:07:03.096Z"
   },
   {
    "duration": 264,
    "start_time": "2023-10-24T19:07:46.099Z"
   },
   {
    "duration": 271,
    "start_time": "2023-10-24T19:07:55.786Z"
   },
   {
    "duration": 253,
    "start_time": "2023-10-24T19:12:02.907Z"
   },
   {
    "duration": 365,
    "start_time": "2023-10-24T19:12:26.183Z"
   },
   {
    "duration": 266,
    "start_time": "2023-10-24T19:13:18.307Z"
   },
   {
    "duration": 349,
    "start_time": "2023-10-24T19:14:19.210Z"
   },
   {
    "duration": 32,
    "start_time": "2023-10-24T19:16:34.395Z"
   },
   {
    "duration": 19,
    "start_time": "2023-10-24T19:17:15.146Z"
   },
   {
    "duration": 18,
    "start_time": "2023-10-24T19:17:45.792Z"
   },
   {
    "duration": 1230,
    "start_time": "2023-10-24T19:25:02.470Z"
   },
   {
    "duration": 2,
    "start_time": "2023-10-24T19:25:03.702Z"
   },
   {
    "duration": 150,
    "start_time": "2023-10-24T19:25:03.707Z"
   },
   {
    "duration": 31,
    "start_time": "2023-10-24T19:25:03.859Z"
   },
   {
    "duration": 7,
    "start_time": "2023-10-24T19:25:03.891Z"
   },
   {
    "duration": 19,
    "start_time": "2023-10-24T19:25:03.900Z"
   },
   {
    "duration": 25,
    "start_time": "2023-10-24T19:25:03.921Z"
   },
   {
    "duration": 19,
    "start_time": "2023-10-24T19:25:03.948Z"
   },
   {
    "duration": 101,
    "start_time": "2023-10-24T19:25:03.969Z"
   },
   {
    "duration": 10,
    "start_time": "2023-10-24T19:25:04.073Z"
   },
   {
    "duration": 24,
    "start_time": "2023-10-24T19:25:04.085Z"
   },
   {
    "duration": 19,
    "start_time": "2023-10-24T19:25:04.111Z"
   },
   {
    "duration": 258,
    "start_time": "2023-10-24T19:25:04.132Z"
   },
   {
    "duration": 20,
    "start_time": "2023-10-24T19:25:04.392Z"
   },
   {
    "duration": 22,
    "start_time": "2023-10-24T19:25:04.418Z"
   },
   {
    "duration": 30,
    "start_time": "2023-10-24T19:25:04.442Z"
   },
   {
    "duration": 11,
    "start_time": "2023-10-24T19:25:04.474Z"
   },
   {
    "duration": 24,
    "start_time": "2023-10-24T19:25:04.487Z"
   },
   {
    "duration": 33,
    "start_time": "2023-10-24T19:25:04.513Z"
   },
   {
    "duration": 6,
    "start_time": "2023-10-24T19:25:04.548Z"
   },
   {
    "duration": 8,
    "start_time": "2023-10-24T19:25:04.555Z"
   },
   {
    "duration": 10,
    "start_time": "2023-10-24T19:25:04.565Z"
   },
   {
    "duration": 15,
    "start_time": "2023-10-24T19:25:04.577Z"
   },
   {
    "duration": 26,
    "start_time": "2023-10-24T19:25:04.593Z"
   },
   {
    "duration": 11,
    "start_time": "2023-10-24T19:25:04.620Z"
   },
   {
    "duration": 26,
    "start_time": "2023-10-24T19:25:04.632Z"
   },
   {
    "duration": 441,
    "start_time": "2023-10-24T19:25:04.660Z"
   },
   {
    "duration": 720,
    "start_time": "2023-10-24T19:25:05.104Z"
   },
   {
    "duration": 251,
    "start_time": "2023-10-24T19:25:05.826Z"
   },
   {
    "duration": 349,
    "start_time": "2023-10-24T19:25:06.079Z"
   },
   {
    "duration": 266,
    "start_time": "2023-10-24T19:25:06.430Z"
   },
   {
    "duration": 505,
    "start_time": "2023-10-24T19:25:06.697Z"
   },
   {
    "duration": 450,
    "start_time": "2023-10-24T19:25:07.204Z"
   },
   {
    "duration": 423,
    "start_time": "2023-10-24T19:25:07.656Z"
   },
   {
    "duration": 300,
    "start_time": "2023-10-24T19:25:08.080Z"
   },
   {
    "duration": 301,
    "start_time": "2023-10-24T19:25:08.383Z"
   },
   {
    "duration": 335,
    "start_time": "2023-10-24T19:25:08.685Z"
   },
   {
    "duration": 24,
    "start_time": "2023-10-24T19:25:09.022Z"
   },
   {
    "duration": 16,
    "start_time": "2023-10-24T19:25:09.048Z"
   },
   {
    "duration": 15,
    "start_time": "2023-10-24T19:25:09.065Z"
   },
   {
    "duration": 321,
    "start_time": "2023-10-24T19:25:09.081Z"
   },
   {
    "duration": 320,
    "start_time": "2023-10-24T19:25:09.404Z"
   },
   {
    "duration": 285,
    "start_time": "2023-10-24T19:25:09.726Z"
   },
   {
    "duration": 11,
    "start_time": "2023-10-24T19:25:10.013Z"
   },
   {
    "duration": 23,
    "start_time": "2023-10-24T19:25:10.026Z"
   },
   {
    "duration": 25,
    "start_time": "2023-10-24T19:25:10.051Z"
   },
   {
    "duration": 27,
    "start_time": "2023-10-24T19:25:10.078Z"
   },
   {
    "duration": 27,
    "start_time": "2023-10-24T19:25:10.107Z"
   },
   {
    "duration": 31,
    "start_time": "2023-10-24T19:25:10.136Z"
   },
   {
    "duration": 348,
    "start_time": "2023-10-24T19:34:41.280Z"
   },
   {
    "duration": 22,
    "start_time": "2023-10-24T19:35:42.322Z"
   },
   {
    "duration": 20,
    "start_time": "2023-10-24T19:35:54.110Z"
   },
   {
    "duration": 268,
    "start_time": "2023-10-24T19:36:29.363Z"
   },
   {
    "duration": 14,
    "start_time": "2023-10-24T19:36:39.643Z"
   },
   {
    "duration": 13,
    "start_time": "2023-10-24T19:36:40.304Z"
   },
   {
    "duration": 14,
    "start_time": "2023-10-24T19:36:41.082Z"
   },
   {
    "duration": 356,
    "start_time": "2023-10-24T19:36:42.795Z"
   },
   {
    "duration": 18,
    "start_time": "2023-10-24T19:40:09.771Z"
   },
   {
    "duration": 13,
    "start_time": "2023-10-24T19:43:11.814Z"
   },
   {
    "duration": 276,
    "start_time": "2023-10-24T19:46:02.328Z"
   },
   {
    "duration": 15,
    "start_time": "2023-10-24T19:46:16.584Z"
   },
   {
    "duration": 14,
    "start_time": "2023-10-24T19:46:17.446Z"
   },
   {
    "duration": 15,
    "start_time": "2023-10-24T19:46:18.222Z"
   },
   {
    "duration": 282,
    "start_time": "2023-10-24T19:46:19.143Z"
   },
   {
    "duration": 242,
    "start_time": "2023-10-24T20:04:55.264Z"
   },
   {
    "duration": 14,
    "start_time": "2023-10-24T20:05:03.533Z"
   },
   {
    "duration": 19,
    "start_time": "2023-10-24T20:05:04.203Z"
   },
   {
    "duration": 13,
    "start_time": "2023-10-24T20:05:04.913Z"
   },
   {
    "duration": 326,
    "start_time": "2023-10-24T20:05:05.656Z"
   },
   {
    "duration": 415,
    "start_time": "2023-10-24T20:05:30.359Z"
   },
   {
    "duration": 253,
    "start_time": "2023-10-24T20:05:47.327Z"
   },
   {
    "duration": 1220,
    "start_time": "2023-10-24T20:07:51.715Z"
   },
   {
    "duration": 3,
    "start_time": "2023-10-24T20:07:52.937Z"
   },
   {
    "duration": 175,
    "start_time": "2023-10-24T20:07:52.941Z"
   },
   {
    "duration": 32,
    "start_time": "2023-10-24T20:07:53.118Z"
   },
   {
    "duration": 4,
    "start_time": "2023-10-24T20:07:53.152Z"
   },
   {
    "duration": 18,
    "start_time": "2023-10-24T20:07:53.158Z"
   },
   {
    "duration": 9,
    "start_time": "2023-10-24T20:07:53.178Z"
   },
   {
    "duration": 23,
    "start_time": "2023-10-24T20:07:53.189Z"
   },
   {
    "duration": 46,
    "start_time": "2023-10-24T20:07:53.213Z"
   },
   {
    "duration": 11,
    "start_time": "2023-10-24T20:07:53.262Z"
   },
   {
    "duration": 14,
    "start_time": "2023-10-24T20:07:53.275Z"
   },
   {
    "duration": 4,
    "start_time": "2023-10-24T20:07:53.291Z"
   },
   {
    "duration": 201,
    "start_time": "2023-10-24T20:07:53.297Z"
   },
   {
    "duration": 13,
    "start_time": "2023-10-24T20:07:53.500Z"
   },
   {
    "duration": 7,
    "start_time": "2023-10-24T20:07:53.515Z"
   },
   {
    "duration": 35,
    "start_time": "2023-10-24T20:07:53.524Z"
   },
   {
    "duration": 7,
    "start_time": "2023-10-24T20:07:53.561Z"
   },
   {
    "duration": 7,
    "start_time": "2023-10-24T20:07:53.570Z"
   },
   {
    "duration": 6,
    "start_time": "2023-10-24T20:07:53.579Z"
   },
   {
    "duration": 6,
    "start_time": "2023-10-24T20:07:53.587Z"
   },
   {
    "duration": 12,
    "start_time": "2023-10-24T20:07:53.595Z"
   },
   {
    "duration": 38,
    "start_time": "2023-10-24T20:07:53.608Z"
   },
   {
    "duration": 14,
    "start_time": "2023-10-24T20:07:53.648Z"
   },
   {
    "duration": 5,
    "start_time": "2023-10-24T20:07:53.664Z"
   },
   {
    "duration": 6,
    "start_time": "2023-10-24T20:07:53.671Z"
   },
   {
    "duration": 38,
    "start_time": "2023-10-24T20:07:53.679Z"
   },
   {
    "duration": 366,
    "start_time": "2023-10-24T20:07:53.719Z"
   },
   {
    "duration": 627,
    "start_time": "2023-10-24T20:07:54.088Z"
   },
   {
    "duration": 232,
    "start_time": "2023-10-24T20:07:54.716Z"
   },
   {
    "duration": 344,
    "start_time": "2023-10-24T20:07:54.950Z"
   },
   {
    "duration": 289,
    "start_time": "2023-10-24T20:07:55.297Z"
   },
   {
    "duration": 460,
    "start_time": "2023-10-24T20:07:55.588Z"
   },
   {
    "duration": 475,
    "start_time": "2023-10-24T20:07:56.050Z"
   },
   {
    "duration": 347,
    "start_time": "2023-10-24T20:07:56.526Z"
   },
   {
    "duration": 310,
    "start_time": "2023-10-24T20:07:56.874Z"
   },
   {
    "duration": 292,
    "start_time": "2023-10-24T20:07:57.187Z"
   },
   {
    "duration": 240,
    "start_time": "2023-10-24T20:07:57.481Z"
   },
   {
    "duration": 21,
    "start_time": "2023-10-24T20:07:57.723Z"
   },
   {
    "duration": 23,
    "start_time": "2023-10-24T20:07:57.746Z"
   },
   {
    "duration": 107,
    "start_time": "2023-10-24T20:07:57.771Z"
   },
   {
    "duration": 270,
    "start_time": "2023-10-24T20:07:57.879Z"
   },
   {
    "duration": 19,
    "start_time": "2023-10-24T20:07:58.151Z"
   },
   {
    "duration": 18,
    "start_time": "2023-10-24T20:07:58.172Z"
   },
   {
    "duration": 14,
    "start_time": "2023-10-24T20:07:58.191Z"
   },
   {
    "duration": 307,
    "start_time": "2023-10-24T20:07:58.207Z"
   },
   {
    "duration": 14,
    "start_time": "2023-10-24T20:07:58.516Z"
   },
   {
    "duration": 41,
    "start_time": "2023-10-24T20:07:58.531Z"
   },
   {
    "duration": 18,
    "start_time": "2023-10-24T20:07:58.574Z"
   },
   {
    "duration": 263,
    "start_time": "2023-10-24T20:07:58.594Z"
   },
   {
    "duration": 11,
    "start_time": "2023-10-24T20:07:58.858Z"
   },
   {
    "duration": 8,
    "start_time": "2023-10-24T20:07:58.871Z"
   },
   {
    "duration": 26,
    "start_time": "2023-10-24T20:07:58.881Z"
   },
   {
    "duration": 43,
    "start_time": "2023-10-24T20:07:58.909Z"
   },
   {
    "duration": 12,
    "start_time": "2023-10-24T20:07:58.954Z"
   },
   {
    "duration": 29,
    "start_time": "2023-10-24T20:07:58.968Z"
   },
   {
    "duration": 1284,
    "start_time": "2023-10-24T20:56:05.895Z"
   },
   {
    "duration": 3,
    "start_time": "2023-10-24T20:56:07.182Z"
   },
   {
    "duration": 164,
    "start_time": "2023-10-24T20:56:07.186Z"
   },
   {
    "duration": 45,
    "start_time": "2023-10-24T20:56:07.353Z"
   },
   {
    "duration": 6,
    "start_time": "2023-10-24T20:56:07.399Z"
   },
   {
    "duration": 31,
    "start_time": "2023-10-24T20:56:07.406Z"
   },
   {
    "duration": 9,
    "start_time": "2023-10-24T20:56:07.444Z"
   },
   {
    "duration": 21,
    "start_time": "2023-10-24T20:56:07.455Z"
   },
   {
    "duration": 18,
    "start_time": "2023-10-24T20:56:07.477Z"
   },
   {
    "duration": 10,
    "start_time": "2023-10-24T20:56:07.498Z"
   },
   {
    "duration": 18,
    "start_time": "2023-10-24T20:56:07.543Z"
   },
   {
    "duration": 6,
    "start_time": "2023-10-24T20:56:07.563Z"
   },
   {
    "duration": 236,
    "start_time": "2023-10-24T20:56:07.571Z"
   },
   {
    "duration": 14,
    "start_time": "2023-10-24T20:56:07.809Z"
   },
   {
    "duration": 24,
    "start_time": "2023-10-24T20:56:07.825Z"
   },
   {
    "duration": 30,
    "start_time": "2023-10-24T20:56:07.851Z"
   },
   {
    "duration": 7,
    "start_time": "2023-10-24T20:56:07.883Z"
   },
   {
    "duration": 6,
    "start_time": "2023-10-24T20:56:07.892Z"
   },
   {
    "duration": 6,
    "start_time": "2023-10-24T20:56:07.899Z"
   },
   {
    "duration": 6,
    "start_time": "2023-10-24T20:56:07.907Z"
   },
   {
    "duration": 36,
    "start_time": "2023-10-24T20:56:07.914Z"
   },
   {
    "duration": 12,
    "start_time": "2023-10-24T20:56:07.952Z"
   },
   {
    "duration": 13,
    "start_time": "2023-10-24T20:56:07.966Z"
   },
   {
    "duration": 26,
    "start_time": "2023-10-24T20:56:07.981Z"
   },
   {
    "duration": 9,
    "start_time": "2023-10-24T20:56:08.009Z"
   },
   {
    "duration": 33,
    "start_time": "2023-10-24T20:56:08.020Z"
   },
   {
    "duration": 400,
    "start_time": "2023-10-24T20:56:08.055Z"
   },
   {
    "duration": 657,
    "start_time": "2023-10-24T20:56:08.460Z"
   },
   {
    "duration": 269,
    "start_time": "2023-10-24T20:56:09.120Z"
   },
   {
    "duration": 379,
    "start_time": "2023-10-24T20:56:09.391Z"
   },
   {
    "duration": 351,
    "start_time": "2023-10-24T20:56:09.773Z"
   },
   {
    "duration": 505,
    "start_time": "2023-10-24T20:56:10.126Z"
   },
   {
    "duration": 447,
    "start_time": "2023-10-24T20:56:10.633Z"
   },
   {
    "duration": 387,
    "start_time": "2023-10-24T20:56:11.082Z"
   },
   {
    "duration": 320,
    "start_time": "2023-10-24T20:56:11.471Z"
   },
   {
    "duration": 331,
    "start_time": "2023-10-24T20:56:11.793Z"
   },
   {
    "duration": 267,
    "start_time": "2023-10-24T20:56:12.126Z"
   },
   {
    "duration": 15,
    "start_time": "2023-10-24T20:56:12.395Z"
   },
   {
    "duration": 20,
    "start_time": "2023-10-24T20:56:12.411Z"
   },
   {
    "duration": 145,
    "start_time": "2023-10-24T20:56:12.432Z"
   },
   {
    "duration": 316,
    "start_time": "2023-10-24T20:56:12.578Z"
   },
   {
    "duration": 16,
    "start_time": "2023-10-24T20:56:12.897Z"
   },
   {
    "duration": 32,
    "start_time": "2023-10-24T20:56:12.915Z"
   },
   {
    "duration": 16,
    "start_time": "2023-10-24T20:56:12.949Z"
   },
   {
    "duration": 345,
    "start_time": "2023-10-24T20:56:12.967Z"
   },
   {
    "duration": 15,
    "start_time": "2023-10-24T20:56:13.314Z"
   },
   {
    "duration": 31,
    "start_time": "2023-10-24T20:56:13.344Z"
   },
   {
    "duration": 30,
    "start_time": "2023-10-24T20:56:13.377Z"
   },
   {
    "duration": 320,
    "start_time": "2023-10-24T20:56:13.409Z"
   },
   {
    "duration": 21,
    "start_time": "2023-10-24T20:56:13.731Z"
   },
   {
    "duration": 35,
    "start_time": "2023-10-24T20:56:13.755Z"
   },
   {
    "duration": 21,
    "start_time": "2023-10-24T20:56:13.792Z"
   },
   {
    "duration": 37,
    "start_time": "2023-10-24T20:56:13.814Z"
   },
   {
    "duration": 32,
    "start_time": "2023-10-24T20:56:13.853Z"
   },
   {
    "duration": 30,
    "start_time": "2023-10-24T20:56:13.887Z"
   },
   {
    "duration": 59,
    "start_time": "2023-10-24T21:48:18.565Z"
   },
   {
    "duration": 1244,
    "start_time": "2023-10-24T21:48:24.316Z"
   },
   {
    "duration": 3,
    "start_time": "2023-10-24T21:48:25.562Z"
   },
   {
    "duration": 196,
    "start_time": "2023-10-24T21:48:25.567Z"
   },
   {
    "duration": 33,
    "start_time": "2023-10-24T21:48:25.766Z"
   },
   {
    "duration": 5,
    "start_time": "2023-10-24T21:48:25.801Z"
   },
   {
    "duration": 33,
    "start_time": "2023-10-24T21:48:25.807Z"
   },
   {
    "duration": 12,
    "start_time": "2023-10-24T21:48:25.841Z"
   },
   {
    "duration": 47,
    "start_time": "2023-10-24T21:48:25.854Z"
   },
   {
    "duration": 29,
    "start_time": "2023-10-24T21:48:25.902Z"
   },
   {
    "duration": 55,
    "start_time": "2023-10-24T21:48:25.934Z"
   },
   {
    "duration": 25,
    "start_time": "2023-10-24T21:48:25.991Z"
   },
   {
    "duration": 10,
    "start_time": "2023-10-24T21:48:26.018Z"
   },
   {
    "duration": 212,
    "start_time": "2023-10-24T21:48:26.030Z"
   },
   {
    "duration": 15,
    "start_time": "2023-10-24T21:48:26.244Z"
   },
   {
    "duration": 13,
    "start_time": "2023-10-24T21:48:26.261Z"
   },
   {
    "duration": 42,
    "start_time": "2023-10-24T21:48:26.275Z"
   },
   {
    "duration": 6,
    "start_time": "2023-10-24T21:48:26.318Z"
   },
   {
    "duration": 22,
    "start_time": "2023-10-24T21:48:26.326Z"
   },
   {
    "duration": 27,
    "start_time": "2023-10-24T21:48:26.350Z"
   },
   {
    "duration": 10,
    "start_time": "2023-10-24T21:48:26.379Z"
   },
   {
    "duration": 28,
    "start_time": "2023-10-24T21:48:26.391Z"
   },
   {
    "duration": 15,
    "start_time": "2023-10-24T21:48:26.421Z"
   },
   {
    "duration": 12,
    "start_time": "2023-10-24T21:48:26.438Z"
   },
   {
    "duration": 23,
    "start_time": "2023-10-24T21:48:26.452Z"
   },
   {
    "duration": 15,
    "start_time": "2023-10-24T21:48:26.477Z"
   },
   {
    "duration": 33,
    "start_time": "2023-10-24T21:48:26.494Z"
   },
   {
    "duration": 366,
    "start_time": "2023-10-24T21:48:26.529Z"
   },
   {
    "duration": 594,
    "start_time": "2023-10-24T21:48:26.903Z"
   },
   {
    "duration": 247,
    "start_time": "2023-10-24T21:48:27.500Z"
   },
   {
    "duration": 373,
    "start_time": "2023-10-24T21:48:27.750Z"
   },
   {
    "duration": 272,
    "start_time": "2023-10-24T21:48:28.125Z"
   },
   {
    "duration": 519,
    "start_time": "2023-10-24T21:48:28.400Z"
   },
   {
    "duration": 474,
    "start_time": "2023-10-24T21:48:28.921Z"
   },
   {
    "duration": 345,
    "start_time": "2023-10-24T21:48:29.397Z"
   },
   {
    "duration": 306,
    "start_time": "2023-10-24T21:48:29.744Z"
   },
   {
    "duration": 323,
    "start_time": "2023-10-24T21:48:30.052Z"
   },
   {
    "duration": 250,
    "start_time": "2023-10-24T21:48:30.377Z"
   },
   {
    "duration": 15,
    "start_time": "2023-10-24T21:48:30.629Z"
   },
   {
    "duration": 142,
    "start_time": "2023-10-24T21:48:30.646Z"
   },
   {
    "duration": 148,
    "start_time": "2023-10-24T21:48:30.790Z"
   },
   {
    "duration": 297,
    "start_time": "2023-10-24T21:48:30.940Z"
   },
   {
    "duration": 15,
    "start_time": "2023-10-24T21:48:31.239Z"
   },
   {
    "duration": 57,
    "start_time": "2023-10-24T21:48:31.256Z"
   },
   {
    "duration": 43,
    "start_time": "2023-10-24T21:48:31.315Z"
   },
   {
    "duration": 562,
    "start_time": "2023-10-24T21:48:31.361Z"
   },
   {
    "duration": 14,
    "start_time": "2023-10-24T21:48:31.925Z"
   },
   {
    "duration": 70,
    "start_time": "2023-10-24T21:48:31.941Z"
   },
   {
    "duration": 14,
    "start_time": "2023-10-24T21:48:32.012Z"
   },
   {
    "duration": 604,
    "start_time": "2023-10-24T21:48:32.027Z"
   },
   {
    "duration": 675,
    "start_time": "2023-10-24T21:48:32.632Z"
   },
   {
    "duration": 11,
    "start_time": "2023-10-24T21:48:33.308Z"
   },
   {
    "duration": 8,
    "start_time": "2023-10-24T21:48:33.321Z"
   },
   {
    "duration": 26,
    "start_time": "2023-10-24T21:48:33.331Z"
   },
   {
    "duration": 49,
    "start_time": "2023-10-24T21:48:33.359Z"
   },
   {
    "duration": 28,
    "start_time": "2023-10-24T21:48:33.411Z"
   },
   {
    "duration": 50,
    "start_time": "2023-10-24T21:48:33.441Z"
   },
   {
    "duration": 349,
    "start_time": "2023-10-24T21:48:44.558Z"
   },
   {
    "duration": 1278,
    "start_time": "2023-10-24T21:56:50.965Z"
   },
   {
    "duration": 4,
    "start_time": "2023-10-24T21:56:52.245Z"
   },
   {
    "duration": 155,
    "start_time": "2023-10-24T21:56:52.251Z"
   },
   {
    "duration": 35,
    "start_time": "2023-10-24T21:56:52.408Z"
   },
   {
    "duration": 60,
    "start_time": "2023-10-24T21:56:52.446Z"
   },
   {
    "duration": 72,
    "start_time": "2023-10-24T21:56:52.508Z"
   },
   {
    "duration": 40,
    "start_time": "2023-10-24T21:56:52.582Z"
   },
   {
    "duration": 53,
    "start_time": "2023-10-24T21:56:52.624Z"
   },
   {
    "duration": 44,
    "start_time": "2023-10-24T21:56:52.679Z"
   },
   {
    "duration": 38,
    "start_time": "2023-10-24T21:56:52.725Z"
   },
   {
    "duration": 58,
    "start_time": "2023-10-24T21:56:52.765Z"
   },
   {
    "duration": 11,
    "start_time": "2023-10-24T21:56:52.825Z"
   },
   {
    "duration": 211,
    "start_time": "2023-10-24T21:56:52.838Z"
   },
   {
    "duration": 15,
    "start_time": "2023-10-24T21:56:53.052Z"
   },
   {
    "duration": 51,
    "start_time": "2023-10-24T21:56:53.069Z"
   },
   {
    "duration": 55,
    "start_time": "2023-10-24T21:56:53.122Z"
   },
   {
    "duration": 42,
    "start_time": "2023-10-24T21:56:53.179Z"
   },
   {
    "duration": 31,
    "start_time": "2023-10-24T21:56:53.223Z"
   },
   {
    "duration": 48,
    "start_time": "2023-10-24T21:56:53.256Z"
   },
   {
    "duration": 37,
    "start_time": "2023-10-24T21:56:53.306Z"
   },
   {
    "duration": 69,
    "start_time": "2023-10-24T21:56:53.345Z"
   },
   {
    "duration": 31,
    "start_time": "2023-10-24T21:56:53.416Z"
   },
   {
    "duration": 35,
    "start_time": "2023-10-24T21:56:53.448Z"
   },
   {
    "duration": 71,
    "start_time": "2023-10-24T21:56:53.485Z"
   },
   {
    "duration": 46,
    "start_time": "2023-10-24T21:56:53.558Z"
   },
   {
    "duration": 55,
    "start_time": "2023-10-24T21:56:53.605Z"
   },
   {
    "duration": 346,
    "start_time": "2023-10-24T21:56:53.661Z"
   },
   {
    "duration": 697,
    "start_time": "2023-10-24T21:56:54.009Z"
   },
   {
    "duration": 269,
    "start_time": "2023-10-24T21:56:54.709Z"
   },
   {
    "duration": 364,
    "start_time": "2023-10-24T21:56:54.980Z"
   },
   {
    "duration": 273,
    "start_time": "2023-10-24T21:56:55.346Z"
   },
   {
    "duration": 482,
    "start_time": "2023-10-24T21:56:55.621Z"
   },
   {
    "duration": 448,
    "start_time": "2023-10-24T21:56:56.104Z"
   },
   {
    "duration": 364,
    "start_time": "2023-10-24T21:56:56.554Z"
   },
   {
    "duration": 312,
    "start_time": "2023-10-24T21:56:56.920Z"
   },
   {
    "duration": 336,
    "start_time": "2023-10-24T21:56:57.234Z"
   },
   {
    "duration": 340,
    "start_time": "2023-10-24T21:56:57.572Z"
   },
   {
    "duration": 14,
    "start_time": "2023-10-24T21:56:57.913Z"
   },
   {
    "duration": 18,
    "start_time": "2023-10-24T21:56:57.929Z"
   },
   {
    "duration": 22,
    "start_time": "2023-10-24T21:56:57.949Z"
   },
   {
    "duration": 299,
    "start_time": "2023-10-24T21:56:57.976Z"
   },
   {
    "duration": 26,
    "start_time": "2023-10-24T21:56:58.277Z"
   },
   {
    "duration": 36,
    "start_time": "2023-10-24T21:56:58.305Z"
   },
   {
    "duration": 23,
    "start_time": "2023-10-24T21:56:58.343Z"
   },
   {
    "duration": 327,
    "start_time": "2023-10-24T21:56:58.368Z"
   },
   {
    "duration": 21,
    "start_time": "2023-10-24T21:56:58.700Z"
   },
   {
    "duration": 52,
    "start_time": "2023-10-24T21:56:58.724Z"
   },
   {
    "duration": 53,
    "start_time": "2023-10-24T21:56:58.778Z"
   },
   {
    "duration": 314,
    "start_time": "2023-10-24T21:56:58.833Z"
   },
   {
    "duration": 293,
    "start_time": "2023-10-24T21:56:59.149Z"
   },
   {
    "duration": 313,
    "start_time": "2023-10-24T21:56:59.444Z"
   },
   {
    "duration": 12,
    "start_time": "2023-10-24T21:56:59.759Z"
   },
   {
    "duration": 41,
    "start_time": "2023-10-24T21:56:59.773Z"
   },
   {
    "duration": 108,
    "start_time": "2023-10-24T21:56:59.815Z"
   },
   {
    "duration": 15,
    "start_time": "2023-10-24T21:56:59.925Z"
   },
   {
    "duration": 17,
    "start_time": "2023-10-24T21:56:59.942Z"
   },
   {
    "duration": 31,
    "start_time": "2023-10-24T21:56:59.961Z"
   },
   {
    "duration": 139,
    "start_time": "2023-10-24T21:56:59.995Z"
   },
   {
    "duration": 23,
    "start_time": "2023-10-24T21:57:00.135Z"
   },
   {
    "duration": 61,
    "start_time": "2023-10-24T21:57:00.161Z"
   },
   {
    "duration": 37,
    "start_time": "2023-10-24T21:57:00.224Z"
   },
   {
    "duration": 39,
    "start_time": "2023-10-24T21:57:00.263Z"
   },
   {
    "duration": 36,
    "start_time": "2023-10-24T21:57:00.304Z"
   },
   {
    "duration": 41,
    "start_time": "2023-10-24T21:57:00.343Z"
   },
   {
    "duration": 784,
    "start_time": "2023-10-24T21:57:00.386Z"
   },
   {
    "duration": 730,
    "start_time": "2023-10-24T21:57:01.172Z"
   },
   {
    "duration": 769,
    "start_time": "2023-10-24T21:57:01.904Z"
   }
  ],
  "kernelspec": {
   "display_name": "Python 3 (ipykernel)",
   "language": "python",
   "name": "python3"
  },
  "language_info": {
   "codemirror_mode": {
    "name": "ipython",
    "version": 3
   },
   "file_extension": ".py",
   "mimetype": "text/x-python",
   "name": "python",
   "nbconvert_exporter": "python",
   "pygments_lexer": "ipython3",
   "version": "3.9.5"
  },
  "toc": {
   "base_numbering": 1,
   "nav_menu": {},
   "number_sections": true,
   "sideBar": true,
   "skip_h1_title": true,
   "title_cell": "Table of Contents",
   "title_sidebar": "Contents",
   "toc_cell": false,
   "toc_position": {},
   "toc_section_display": true,
   "toc_window_display": true
  }
 },
 "nbformat": 4,
 "nbformat_minor": 4
}
