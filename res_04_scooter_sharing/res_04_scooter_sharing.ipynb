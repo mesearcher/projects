{
 "cells": [
  {
   "cell_type": "markdown",
   "id": "934244cd",
   "metadata": {},
   "source": [
    "# Scooter Sharing Analysis"
   ]
  },
  {
   "cell_type": "markdown",
   "id": "448b27fa-37da-49ee-b829-ef0328d60d2a",
   "metadata": {},
   "source": [
    "**Project Objective:**\n",
    "\n",
    "The primary goal of this project is to analyze data from GoFast, an e-scooter sharing service, and test several hypotheses:\n",
    "\n",
    "1. Do subscribed users spend more time riding? We will measure this by comparing the average riding time of subscribed users to non-subscribed users. If confirmed, this could suggest that users with subscriptions are more profitable for the company.\n",
    "2. Can we assert that the average distance traveled by users with a subscription in one trip does not exceed an optimal threshold in terms of scooter wear and tear? We will define and assess this threshold.\n",
    "3. Will the monthly revenue from users with a subscription exceed the revenue from users without a subscription? We will conduct a comparative analysis to determine the financial impact of subscriptions.\n",
    "4. What is the minimum number of promotional codes that must be distributed to ensure a roughly 5% chance of not meeting the marketing department's plan? We will employ statistical methods to calculate this number while maintaining a 5% risk level.\n",
    "5. Can we estimate the probability that notifications will be opened by no more than a specified number of users? We will model the likelihood of notification open rates based on user thresholds.\n",
    "\n",
    "**Data Source:**\n",
    "\n",
    "This project relies on three datasets obtained from GoFast, encompassing user information, ride history, and subscription data. We will perform data cleaning and preprocessing as needed to ensure data quality and relevance.\n",
    "\n",
    "**Expected Outcomes:**\n",
    "\n",
    "Through this analysis, we aim to provide actionable insights for GoFast. We anticipate revealing patterns related to user subscriptions, ride optimization, revenue generation, marketing effectiveness, and user engagement.\n",
    "\n",
    "**Tools and libraries:**\n",
    "- Python\n",
    "- Pandas\n",
    "- Matplotlib\n",
    "- Numpy"
   ]
  },
  {
   "cell_type": "markdown",
   "id": "df98f626-04af-44ad-a9dc-63fa8bcdaa57",
   "metadata": {},
   "source": [
    "# Исследование данных сервиса аренды самокатов"
   ]
  },
  {
   "cell_type": "markdown",
   "id": "2ad45d36",
   "metadata": {},
   "source": [
    "**Аннотация проекта** \n",
    "\n",
    "На данных сервиса аренды самокатов GoFast проведём исследование, результаты которого будут учтены при реализации дальнейших стратегий развития бизнеса. В частности, расширение аудотории пользователей с подпиской.\n",
    "\n",
    "**Цель исследования** — проанализировать данные и оценить следующие предположения:\n",
    "1) Тратят ли пользователи с подпиской больше времени на поездки? Если да, то пользователи с подпиской могут быть «выгоднее» для компании.\n",
    "\n",
    "2) Можно ли сказать, что среднее расстояние, которое проезжают пользователи с подпиской за одну поездку, не превышает оптимального значения с точки зрения износа самоката?\n",
    "\n",
    "3) Будет ли помесячная выручка от пользователей с подпиской выше, чем выручка от пользователей без подписки?\n",
    "\n",
    "4) Какое минимальное количество промокодов нужно разослать, чтобы вероятность не выполнить план отдела маркетинга была примерно 5 %?\n",
    "\n",
    "5) Оценить вероятность того, что уведомление откроют не более заявленного числа пользователей.\n",
    "\n",
    "**Ход исследования**\n",
    "1. Обзор данных.\n",
    "2. Предобработка данных.\n",
    "3. Исследовательский анализ данных.\n",
    "\n",
    "**Описание данных**\n",
    "\n",
    "Датасет представлен тремя разными файлами с информацией о пользователях, их поездках и подписках сервиса аренды самокатов GoFast.\n",
    "\n",
    "**Инструменты и библиотеки:**\n",
    "- Python\n",
    "- Pandas\n",
    "- Matplotlib\n",
    "- Numpy"
   ]
  },
  {
   "cell_type": "code",
   "execution_count": 1,
   "id": "5b9a2729",
   "metadata": {},
   "outputs": [],
   "source": [
    "# импортируем библиотеки\n",
    "import pandas as pd\n",
    "import matplotlib.pyplot as plt\n",
    "import numpy as np\n",
    "from scipy import stats as st\n",
    "from scipy.stats import binom, poisson, norm\n",
    "from math import sqrt, factorial"
   ]
  },
  {
   "cell_type": "code",
   "execution_count": 2,
   "id": "678977ce",
   "metadata": {},
   "outputs": [],
   "source": [
    "# установим настройки для отображения всех столбцов датафрейма\n",
    "pd.set_option('display.max_columns', None)"
   ]
  },
  {
   "cell_type": "markdown",
   "id": "c42cbe00",
   "metadata": {},
   "source": [
    "#### Шаг 1. Загрузка данных"
   ]
  },
  {
   "cell_type": "markdown",
   "id": "bfecab25",
   "metadata": {},
   "source": [
    "Датафрейм представлен тремя разными файлами:\n",
    "1. Пользователи \n",
    "2. Поездки\n",
    "3. Подписки\n",
    "\n",
    "Создадим функции, чтобы нивелировать повторяющиеся действия при выводе основной информации и проверке данных на дубликаты и пустые значения."
   ]
  },
  {
   "cell_type": "code",
   "execution_count": 3,
   "id": "8febcfb6",
   "metadata": {},
   "outputs": [],
   "source": [
    "# определим функцию data_info() для вывода основной информации\n",
    "def data_info(data):\n",
    "    data.info()\n",
    "    display(data.head())"
   ]
  },
  {
   "cell_type": "code",
   "execution_count": 4,
   "id": "2db53fe4",
   "metadata": {},
   "outputs": [],
   "source": [
    "# определим функцию data_isnull_isdup() для проверки на дубликаты и пустые значения\n",
    "def data_isnull_isdup(data):\n",
    "    print('Количество явных дубликатов:', data.duplicated().sum())\n",
    "    print('Количество пропусков:')\n",
    "    print(data.isnull().sum())"
   ]
  },
  {
   "cell_type": "code",
   "execution_count": 6,
   "id": "f40603c3",
   "metadata": {},
   "outputs": [],
   "source": [
    "# считываем данные из csv-файлов и сохраняем в соответствующие датафреймы\n",
    "df_users = pd.read_csv('https://code.s3.yandex.net/datasets/users_go.csv')\n",
    "df_rides = pd.read_csv('https://code.s3.yandex.net/datasets/rides_go.csv')\n",
    "df_subs = pd.read_csv('https://code.s3.yandex.net/datasets/subscriptions_go.csv')"
   ]
  },
  {
   "cell_type": "markdown",
   "id": "eb1387bc",
   "metadata": {},
   "source": [
    "Изучим общую информацию о каждом датафрейме.\n",
    "\n",
    "**Информация о пользователях**"
   ]
  },
  {
   "cell_type": "code",
   "execution_count": 7,
   "id": "93c3ff38",
   "metadata": {},
   "outputs": [
    {
     "name": "stdout",
     "output_type": "stream",
     "text": [
      "<class 'pandas.core.frame.DataFrame'>\n",
      "RangeIndex: 1565 entries, 0 to 1564\n",
      "Data columns (total 5 columns):\n",
      " #   Column             Non-Null Count  Dtype \n",
      "---  ------             --------------  ----- \n",
      " 0   user_id            1565 non-null   int64 \n",
      " 1   name               1565 non-null   object\n",
      " 2   age                1565 non-null   int64 \n",
      " 3   city               1565 non-null   object\n",
      " 4   subscription_type  1565 non-null   object\n",
      "dtypes: int64(2), object(3)\n",
      "memory usage: 61.3+ KB\n"
     ]
    },
    {
     "data": {
      "text/html": [
       "<div>\n",
       "<style scoped>\n",
       "    .dataframe tbody tr th:only-of-type {\n",
       "        vertical-align: middle;\n",
       "    }\n",
       "\n",
       "    .dataframe tbody tr th {\n",
       "        vertical-align: top;\n",
       "    }\n",
       "\n",
       "    .dataframe thead th {\n",
       "        text-align: right;\n",
       "    }\n",
       "</style>\n",
       "<table border=\"1\" class=\"dataframe\">\n",
       "  <thead>\n",
       "    <tr style=\"text-align: right;\">\n",
       "      <th></th>\n",
       "      <th>user_id</th>\n",
       "      <th>name</th>\n",
       "      <th>age</th>\n",
       "      <th>city</th>\n",
       "      <th>subscription_type</th>\n",
       "    </tr>\n",
       "  </thead>\n",
       "  <tbody>\n",
       "    <tr>\n",
       "      <th>0</th>\n",
       "      <td>1</td>\n",
       "      <td>Кира</td>\n",
       "      <td>22</td>\n",
       "      <td>Тюмень</td>\n",
       "      <td>ultra</td>\n",
       "    </tr>\n",
       "    <tr>\n",
       "      <th>1</th>\n",
       "      <td>2</td>\n",
       "      <td>Станислав</td>\n",
       "      <td>31</td>\n",
       "      <td>Омск</td>\n",
       "      <td>ultra</td>\n",
       "    </tr>\n",
       "    <tr>\n",
       "      <th>2</th>\n",
       "      <td>3</td>\n",
       "      <td>Алексей</td>\n",
       "      <td>20</td>\n",
       "      <td>Москва</td>\n",
       "      <td>ultra</td>\n",
       "    </tr>\n",
       "    <tr>\n",
       "      <th>3</th>\n",
       "      <td>4</td>\n",
       "      <td>Константин</td>\n",
       "      <td>26</td>\n",
       "      <td>Ростов-на-Дону</td>\n",
       "      <td>ultra</td>\n",
       "    </tr>\n",
       "    <tr>\n",
       "      <th>4</th>\n",
       "      <td>5</td>\n",
       "      <td>Адель</td>\n",
       "      <td>28</td>\n",
       "      <td>Омск</td>\n",
       "      <td>ultra</td>\n",
       "    </tr>\n",
       "  </tbody>\n",
       "</table>\n",
       "</div>"
      ],
      "text/plain": [
       "   user_id        name  age            city subscription_type\n",
       "0        1        Кира   22          Тюмень             ultra\n",
       "1        2   Станислав   31            Омск             ultra\n",
       "2        3     Алексей   20          Москва             ultra\n",
       "3        4  Константин   26  Ростов-на-Дону             ultra\n",
       "4        5       Адель   28            Омск             ultra"
      ]
     },
     "metadata": {},
     "output_type": "display_data"
    }
   ],
   "source": [
    "# вызовем функцию data_info()\n",
    "data_info(df_users)"
   ]
  },
  {
   "cell_type": "markdown",
   "id": "e24f0d8e",
   "metadata": {},
   "source": [
    "Итак, в таблице 5 столбцов, 2 из которых имеют числовой тип данных. "
   ]
  },
  {
   "cell_type": "markdown",
   "id": "5ff0b1a2",
   "metadata": {},
   "source": [
    "**Информация о поездках**"
   ]
  },
  {
   "cell_type": "code",
   "execution_count": 8,
   "id": "fe3b2bee",
   "metadata": {},
   "outputs": [
    {
     "name": "stdout",
     "output_type": "stream",
     "text": [
      "<class 'pandas.core.frame.DataFrame'>\n",
      "RangeIndex: 18068 entries, 0 to 18067\n",
      "Data columns (total 4 columns):\n",
      " #   Column    Non-Null Count  Dtype  \n",
      "---  ------    --------------  -----  \n",
      " 0   user_id   18068 non-null  int64  \n",
      " 1   distance  18068 non-null  float64\n",
      " 2   duration  18068 non-null  float64\n",
      " 3   date      18068 non-null  object \n",
      "dtypes: float64(2), int64(1), object(1)\n",
      "memory usage: 564.8+ KB\n"
     ]
    },
    {
     "data": {
      "text/html": [
       "<div>\n",
       "<style scoped>\n",
       "    .dataframe tbody tr th:only-of-type {\n",
       "        vertical-align: middle;\n",
       "    }\n",
       "\n",
       "    .dataframe tbody tr th {\n",
       "        vertical-align: top;\n",
       "    }\n",
       "\n",
       "    .dataframe thead th {\n",
       "        text-align: right;\n",
       "    }\n",
       "</style>\n",
       "<table border=\"1\" class=\"dataframe\">\n",
       "  <thead>\n",
       "    <tr style=\"text-align: right;\">\n",
       "      <th></th>\n",
       "      <th>user_id</th>\n",
       "      <th>distance</th>\n",
       "      <th>duration</th>\n",
       "      <th>date</th>\n",
       "    </tr>\n",
       "  </thead>\n",
       "  <tbody>\n",
       "    <tr>\n",
       "      <th>0</th>\n",
       "      <td>1</td>\n",
       "      <td>4409.919140</td>\n",
       "      <td>25.599769</td>\n",
       "      <td>2021-01-01</td>\n",
       "    </tr>\n",
       "    <tr>\n",
       "      <th>1</th>\n",
       "      <td>1</td>\n",
       "      <td>2617.592153</td>\n",
       "      <td>15.816871</td>\n",
       "      <td>2021-01-18</td>\n",
       "    </tr>\n",
       "    <tr>\n",
       "      <th>2</th>\n",
       "      <td>1</td>\n",
       "      <td>754.159807</td>\n",
       "      <td>6.232113</td>\n",
       "      <td>2021-04-20</td>\n",
       "    </tr>\n",
       "    <tr>\n",
       "      <th>3</th>\n",
       "      <td>1</td>\n",
       "      <td>2694.783254</td>\n",
       "      <td>18.511000</td>\n",
       "      <td>2021-08-11</td>\n",
       "    </tr>\n",
       "    <tr>\n",
       "      <th>4</th>\n",
       "      <td>1</td>\n",
       "      <td>4028.687306</td>\n",
       "      <td>26.265803</td>\n",
       "      <td>2021-08-28</td>\n",
       "    </tr>\n",
       "  </tbody>\n",
       "</table>\n",
       "</div>"
      ],
      "text/plain": [
       "   user_id     distance   duration        date\n",
       "0        1  4409.919140  25.599769  2021-01-01\n",
       "1        1  2617.592153  15.816871  2021-01-18\n",
       "2        1   754.159807   6.232113  2021-04-20\n",
       "3        1  2694.783254  18.511000  2021-08-11\n",
       "4        1  4028.687306  26.265803  2021-08-28"
      ]
     },
     "metadata": {},
     "output_type": "display_data"
    }
   ],
   "source": [
    "# вызовем функцию data_info()\n",
    "data_info(df_rides)"
   ]
  },
  {
   "cell_type": "markdown",
   "id": "d5b7a320",
   "metadata": {},
   "source": [
    "Датафрейм содержит 4 столбца, на первый взгляд с числовыми значениями. Однако `date` имеет тип object."
   ]
  },
  {
   "cell_type": "markdown",
   "id": "f90ebd09",
   "metadata": {},
   "source": [
    "**Информация о подписках**"
   ]
  },
  {
   "cell_type": "code",
   "execution_count": 9,
   "id": "29a7db99",
   "metadata": {},
   "outputs": [
    {
     "name": "stdout",
     "output_type": "stream",
     "text": [
      "<class 'pandas.core.frame.DataFrame'>\n",
      "RangeIndex: 2 entries, 0 to 1\n",
      "Data columns (total 4 columns):\n",
      " #   Column             Non-Null Count  Dtype \n",
      "---  ------             --------------  ----- \n",
      " 0   subscription_type  2 non-null      object\n",
      " 1   minute_price       2 non-null      int64 \n",
      " 2   start_ride_price   2 non-null      int64 \n",
      " 3   subscription_fee   2 non-null      int64 \n",
      "dtypes: int64(3), object(1)\n",
      "memory usage: 192.0+ bytes\n"
     ]
    },
    {
     "data": {
      "text/html": [
       "<div>\n",
       "<style scoped>\n",
       "    .dataframe tbody tr th:only-of-type {\n",
       "        vertical-align: middle;\n",
       "    }\n",
       "\n",
       "    .dataframe tbody tr th {\n",
       "        vertical-align: top;\n",
       "    }\n",
       "\n",
       "    .dataframe thead th {\n",
       "        text-align: right;\n",
       "    }\n",
       "</style>\n",
       "<table border=\"1\" class=\"dataframe\">\n",
       "  <thead>\n",
       "    <tr style=\"text-align: right;\">\n",
       "      <th></th>\n",
       "      <th>subscription_type</th>\n",
       "      <th>minute_price</th>\n",
       "      <th>start_ride_price</th>\n",
       "      <th>subscription_fee</th>\n",
       "    </tr>\n",
       "  </thead>\n",
       "  <tbody>\n",
       "    <tr>\n",
       "      <th>0</th>\n",
       "      <td>free</td>\n",
       "      <td>8</td>\n",
       "      <td>50</td>\n",
       "      <td>0</td>\n",
       "    </tr>\n",
       "    <tr>\n",
       "      <th>1</th>\n",
       "      <td>ultra</td>\n",
       "      <td>6</td>\n",
       "      <td>0</td>\n",
       "      <td>199</td>\n",
       "    </tr>\n",
       "  </tbody>\n",
       "</table>\n",
       "</div>"
      ],
      "text/plain": [
       "  subscription_type  minute_price  start_ride_price  subscription_fee\n",
       "0              free             8                50                 0\n",
       "1             ultra             6                 0               199"
      ]
     },
     "metadata": {},
     "output_type": "display_data"
    }
   ],
   "source": [
    "# вызовем функцию data_info()\n",
    "data_info(df_subs)"
   ]
  },
  {
   "cell_type": "markdown",
   "id": "0d4487a9",
   "metadata": {},
   "source": [
    "Датафрейм включает один столбец с типами подписки и три столбца со стоимостью услуг в зависимости от типа подписки."
   ]
  },
  {
   "cell_type": "markdown",
   "id": "cf061a91",
   "metadata": {},
   "source": [
    "**Вывод:** \n",
    "\n",
    "Основываясь на предварительном обзоре датафрейма отметим следующее:\n",
    "- Объёма данных достаточно для проверки гипотез исследования.\n",
    "- При этом количество значений в столбцах не различается. Значит, в данных нет пропущенные значений. \n",
    "- Названия столбцов не отличаются по стилю и соответствуют единообразию.\n",
    "- Столбец `date` необходимо привести к типу даты для исключения возможных ошибок при анализе."
   ]
  },
  {
   "cell_type": "markdown",
   "id": "e95ebca7",
   "metadata": {},
   "source": [
    "#### Шаг 2. Предобработка данных"
   ]
  },
  {
   "cell_type": "markdown",
   "id": "e4ac955c",
   "metadata": {},
   "source": [
    "**Датасет — пользователи**"
   ]
  },
  {
   "cell_type": "code",
   "execution_count": 10,
   "id": "af6d202c",
   "metadata": {},
   "outputs": [
    {
     "name": "stdout",
     "output_type": "stream",
     "text": [
      "Количество явных дубликатов: 31\n",
      "Количество пропусков:\n",
      "user_id              0\n",
      "name                 0\n",
      "age                  0\n",
      "city                 0\n",
      "subscription_type    0\n",
      "dtype: int64\n"
     ]
    }
   ],
   "source": [
    "# вызовем функцию data_isnull_isdup() и определим в каких столбцах есть пропуски и дубликаты \n",
    "data_isnull_isdup(df_users)"
   ]
  },
  {
   "cell_type": "markdown",
   "id": "1a187749",
   "metadata": {},
   "source": [
    "В столбцах не обнаружено пропущенных значений. Вместе с тем есть явные дубликаты, от которых следует избавиться."
   ]
  },
  {
   "cell_type": "code",
   "execution_count": 11,
   "id": "7f5e02b9",
   "metadata": {},
   "outputs": [
    {
     "name": "stdout",
     "output_type": "stream",
     "text": [
      "Количество явных дубликатов: 0\n"
     ]
    }
   ],
   "source": [
    "# избавимся от явных дубликатов при помощи метода drop_duplicates()\n",
    "df_users = df_users.drop_duplicates()\n",
    "print('Количество явных дубликатов:', df_users.duplicated().sum())"
   ]
  },
  {
   "cell_type": "markdown",
   "id": "65041415",
   "metadata": {},
   "source": [
    "Далее проверим наличие неявных дубликатов в колонке `city`. Например, название одного и того же населённого пункта может быть записано по-разному. Такие ошибки тоже повлияют на результат исследования."
   ]
  },
  {
   "cell_type": "code",
   "execution_count": 12,
   "id": "c5524f6a",
   "metadata": {},
   "outputs": [
    {
     "data": {
      "text/plain": [
       "array(['Екатеринбург', 'Краснодар', 'Москва', 'Омск', 'Пятигорск',\n",
       "       'Ростов-на-Дону', 'Сочи', 'Тюмень'], dtype=object)"
      ]
     },
     "execution_count": 12,
     "metadata": {},
     "output_type": "execute_result"
    }
   ],
   "source": [
    "# просмотр уникальных названий населённого пункта\n",
    "df_users['city'].sort_values().unique()"
   ]
  },
  {
   "cell_type": "markdown",
   "id": "ca6cacf5",
   "metadata": {},
   "source": [
    "Названия городов выглядят корректно, неявные дубликаты отсутствуют."
   ]
  },
  {
   "cell_type": "markdown",
   "id": "4cd10f99",
   "metadata": {},
   "source": [
    "**Датасет — поездки**"
   ]
  },
  {
   "cell_type": "code",
   "execution_count": 13,
   "id": "d718fc86",
   "metadata": {},
   "outputs": [
    {
     "name": "stdout",
     "output_type": "stream",
     "text": [
      "Количество явных дубликатов: 0\n",
      "Количество пропусков:\n",
      "user_id     0\n",
      "distance    0\n",
      "duration    0\n",
      "date        0\n",
      "dtype: int64\n"
     ]
    }
   ],
   "source": [
    "# вызовем функцию data_isnull_isdup() и определим в каких столбцах есть пропуски и дубликаты \n",
    "data_isnull_isdup(df_rides)"
   ]
  },
  {
   "cell_type": "markdown",
   "id": "956eea46",
   "metadata": {},
   "source": [
    "Явных дубликатов и пропущенных значений в датасете не обнаружено. Однако, для корректного анализа столбец `date` следует привести к типу даты. Кроме того, для дальнейшего анализа понадобятся значения с номером каждого месяца, создадим для этого отдельный столбец."
   ]
  },
  {
   "cell_type": "code",
   "execution_count": 14,
   "id": "2e0bc6a4",
   "metadata": {},
   "outputs": [
    {
     "data": {
      "text/html": [
       "<div>\n",
       "<style scoped>\n",
       "    .dataframe tbody tr th:only-of-type {\n",
       "        vertical-align: middle;\n",
       "    }\n",
       "\n",
       "    .dataframe tbody tr th {\n",
       "        vertical-align: top;\n",
       "    }\n",
       "\n",
       "    .dataframe thead th {\n",
       "        text-align: right;\n",
       "    }\n",
       "</style>\n",
       "<table border=\"1\" class=\"dataframe\">\n",
       "  <thead>\n",
       "    <tr style=\"text-align: right;\">\n",
       "      <th></th>\n",
       "      <th>user_id</th>\n",
       "      <th>distance</th>\n",
       "      <th>duration</th>\n",
       "      <th>date</th>\n",
       "      <th>month</th>\n",
       "    </tr>\n",
       "  </thead>\n",
       "  <tbody>\n",
       "    <tr>\n",
       "      <th>0</th>\n",
       "      <td>1</td>\n",
       "      <td>4409.919140</td>\n",
       "      <td>25.599769</td>\n",
       "      <td>2021-01-01</td>\n",
       "      <td>1</td>\n",
       "    </tr>\n",
       "    <tr>\n",
       "      <th>1</th>\n",
       "      <td>1</td>\n",
       "      <td>2617.592153</td>\n",
       "      <td>15.816871</td>\n",
       "      <td>2021-01-18</td>\n",
       "      <td>1</td>\n",
       "    </tr>\n",
       "    <tr>\n",
       "      <th>2</th>\n",
       "      <td>1</td>\n",
       "      <td>754.159807</td>\n",
       "      <td>6.232113</td>\n",
       "      <td>2021-04-20</td>\n",
       "      <td>4</td>\n",
       "    </tr>\n",
       "    <tr>\n",
       "      <th>3</th>\n",
       "      <td>1</td>\n",
       "      <td>2694.783254</td>\n",
       "      <td>18.511000</td>\n",
       "      <td>2021-08-11</td>\n",
       "      <td>8</td>\n",
       "    </tr>\n",
       "    <tr>\n",
       "      <th>4</th>\n",
       "      <td>1</td>\n",
       "      <td>4028.687306</td>\n",
       "      <td>26.265803</td>\n",
       "      <td>2021-08-28</td>\n",
       "      <td>8</td>\n",
       "    </tr>\n",
       "  </tbody>\n",
       "</table>\n",
       "</div>"
      ],
      "text/plain": [
       "   user_id     distance   duration       date  month\n",
       "0        1  4409.919140  25.599769 2021-01-01      1\n",
       "1        1  2617.592153  15.816871 2021-01-18      1\n",
       "2        1   754.159807   6.232113 2021-04-20      4\n",
       "3        1  2694.783254  18.511000 2021-08-11      8\n",
       "4        1  4028.687306  26.265803 2021-08-28      8"
      ]
     },
     "execution_count": 14,
     "metadata": {},
     "output_type": "execute_result"
    }
   ],
   "source": [
    "# переведем значения в формат даты\n",
    "df_rides['date'] = pd.to_datetime(df_rides['date'], format='%Y-%m-%d')\n",
    "\n",
    "# добавим столбец с номером месяца на основе столбца date\n",
    "df_rides['month'] = df_rides['date'].dt.month\n",
    "\n",
    "# убедимся, что новый столбец есть в датафрейме\n",
    "df_rides.head()"
   ]
  },
  {
   "cell_type": "code",
   "execution_count": 15,
   "id": "bf9f45d7",
   "metadata": {},
   "outputs": [
    {
     "name": "stdout",
     "output_type": "stream",
     "text": [
      "Самая ранняя дата поездки: 2021-01-01 00:00:00\n",
      "Самая поздняя дата поездки: 2021-12-30 00:00:00\n"
     ]
    }
   ],
   "source": [
    "# оценим за какой период представлены данные о поездках\n",
    "print('Самая ранняя дата поездки:', df_rides['date'].min())\n",
    "print('Самая поздняя дата поездки:', df_rides['date'].max())"
   ]
  },
  {
   "cell_type": "markdown",
   "id": "a9f8447b",
   "metadata": {},
   "source": [
    "В датасете представлены данные за годовой период с января по декабрь 2021 года."
   ]
  },
  {
   "cell_type": "markdown",
   "id": "c6587bbf",
   "metadata": {},
   "source": [
    "**Датасет — подписки**"
   ]
  },
  {
   "cell_type": "code",
   "execution_count": 16,
   "id": "599fa001",
   "metadata": {},
   "outputs": [
    {
     "name": "stdout",
     "output_type": "stream",
     "text": [
      "Количество явных дубликатов: 0\n",
      "Количество пропусков:\n",
      "subscription_type    0\n",
      "minute_price         0\n",
      "start_ride_price     0\n",
      "subscription_fee     0\n",
      "dtype: int64\n"
     ]
    }
   ],
   "source": [
    "# вызовем функцию data_isnull_isdup() и определим в каких столбцах есть пропуски и дубликаты \n",
    "data_isnull_isdup(df_subs)"
   ]
  },
  {
   "cell_type": "markdown",
   "id": "406ce54b",
   "metadata": {},
   "source": [
    "Явных дубликатов и пропущенных значений в датасете не обнаружено.\n",
    "\n",
    "**Вывод:**\n",
    "\n",
    "На предварительном этапе мы рассмотрели три датафрейма сервиса аренды самокатов с информацией о пользователях (df_users), их поездках (df_rides) и подписках (df_subs). \n",
    "\n",
    "В частности, мы определили количество и тип данных в таблицах, проверили столбцы на наличие пропущенных значений, преобразовали тип значений в столбце `date` в соответствующий формат даты, избавились от дубликатов и убедились, что все данные отображаются корректно. \n",
    "\n",
    "Кроме того, мы добавили в датасет с поездками новый столбец с номером каждого месяца. Данные значения будут использованы при анализе для оценки выручки по месяцам.\n",
    "\n",
    "В таком виде данные готовы к более подробному исследовательскому анализу."
   ]
  },
  {
   "cell_type": "markdown",
   "id": "212593c7",
   "metadata": {},
   "source": [
    "#### Шаг 3. Исследовательский анализ данных"
   ]
  },
  {
   "cell_type": "markdown",
   "id": "823e0bed",
   "metadata": {},
   "source": [
    "Рассмотрим более детально информацию о пользователях и поездках. В частности, в рамках данного исследования нас интересуют следующие характеристики:\n",
    "- частота встречаемости городов\n",
    "- соотношение пользователей с подпиской и без подписки\n",
    "- возраст пользователей\n",
    "- расстояние, которое пользователь преодолел за одну поездку\n",
    "- продолжительность поездок"
   ]
  },
  {
   "cell_type": "markdown",
   "id": "ea1c24c4",
   "metadata": {},
   "source": [
    "##### Частота встречаемости городов"
   ]
  },
  {
   "cell_type": "code",
   "execution_count": 17,
   "id": "e3a4274c",
   "metadata": {},
   "outputs": [
    {
     "data": {
      "text/html": [
       "<div>\n",
       "<style scoped>\n",
       "    .dataframe tbody tr th:only-of-type {\n",
       "        vertical-align: middle;\n",
       "    }\n",
       "\n",
       "    .dataframe tbody tr th {\n",
       "        vertical-align: top;\n",
       "    }\n",
       "\n",
       "    .dataframe thead th {\n",
       "        text-align: right;\n",
       "    }\n",
       "</style>\n",
       "<table border=\"1\" class=\"dataframe\">\n",
       "  <thead>\n",
       "    <tr style=\"text-align: right;\">\n",
       "      <th></th>\n",
       "      <th>user_id</th>\n",
       "    </tr>\n",
       "    <tr>\n",
       "      <th>city</th>\n",
       "      <th></th>\n",
       "    </tr>\n",
       "  </thead>\n",
       "  <tbody>\n",
       "    <tr>\n",
       "      <th>Пятигорск</th>\n",
       "      <td>219</td>\n",
       "    </tr>\n",
       "    <tr>\n",
       "      <th>Екатеринбург</th>\n",
       "      <td>204</td>\n",
       "    </tr>\n",
       "    <tr>\n",
       "      <th>Ростов-на-Дону</th>\n",
       "      <td>198</td>\n",
       "    </tr>\n",
       "    <tr>\n",
       "      <th>Краснодар</th>\n",
       "      <td>193</td>\n",
       "    </tr>\n",
       "    <tr>\n",
       "      <th>Сочи</th>\n",
       "      <td>189</td>\n",
       "    </tr>\n",
       "    <tr>\n",
       "      <th>Омск</th>\n",
       "      <td>183</td>\n",
       "    </tr>\n",
       "    <tr>\n",
       "      <th>Тюмень</th>\n",
       "      <td>180</td>\n",
       "    </tr>\n",
       "    <tr>\n",
       "      <th>Москва</th>\n",
       "      <td>168</td>\n",
       "    </tr>\n",
       "  </tbody>\n",
       "</table>\n",
       "</div>"
      ],
      "text/plain": [
       "                user_id\n",
       "city                   \n",
       "Пятигорск           219\n",
       "Екатеринбург        204\n",
       "Ростов-на-Дону      198\n",
       "Краснодар           193\n",
       "Сочи                189\n",
       "Омск                183\n",
       "Тюмень              180\n",
       "Москва              168"
      ]
     },
     "execution_count": 17,
     "metadata": {},
     "output_type": "execute_result"
    }
   ],
   "source": [
    "# создадим сводную таблицу и посчитаем какие города наболее часто представлены среди пользователей сервиса\n",
    "df_users_city_pivot = df_users.pivot_table(index='city', values='user_id', aggfunc='count')\n",
    "# создадим переменную для хранения отсортированной таблицы\n",
    "df_users_city_sorted = df_users_city_pivot.sort_values('user_id', ascending=False)\n",
    "df_users_city_sorted"
   ]
  },
  {
   "cell_type": "code",
   "execution_count": 18,
   "id": "43791823",
   "metadata": {},
   "outputs": [
    {
     "data": {
      "image/png": "[encoded data removed]",
      "text/plain": [
       "<Figure size 432x216 with 1 Axes>"
      ]
     },
     "metadata": {
      "needs_background": "light"
     },
     "output_type": "display_data"
    }
   ],
   "source": [
    "# сохраним данные из 'df_users_city_sorted' в отдельные переменные\n",
    "# название города\n",
    "localities = df_users_city_sorted.index\n",
    "# значение с количеством пользователей\n",
    "counts = df_users_city_sorted['user_id'].sort_values(ascending=False)\n",
    "# построим столбчатую диаграмму\n",
    "plt.figure(figsize=(6, 3))\n",
    "plt.bar(localities, counts)\n",
    "# укажем наименования\n",
    "plt.ylabel('Количество пользователей')\n",
    "plt.title('Частота встречаемости городов')\n",
    "# повернем метки по оси X на 45 градусов\n",
    "plt.xticks(rotation=45, ha=\"right\")\n",
    "# линия сетки на графике\n",
    "plt.grid(True)\n",
    "# выведем диаграмму\n",
    "plt.show()"
   ]
  },
  {
   "cell_type": "markdown",
   "id": "19861dd6",
   "metadata": {},
   "source": [
    "**Вывод:**\n",
    "\n",
    "Среди восьми городов, где представлен сервис аренды самокатов GoFast, наиболее часто встречается Пятигорск. Вместе с тем, наименее часто по сравнению с остальными городами встречается Москва. Вероятно в столице представлен более широкий выбор поставщиков сервиса по аренде самокатов."
   ]
  },
  {
   "cell_type": "markdown",
   "id": "49665072",
   "metadata": {},
   "source": [
    "##### Соотношение пользователей с подпиской и без подписки"
   ]
  },
  {
   "cell_type": "code",
   "execution_count": 19,
   "id": "62b9a166",
   "metadata": {},
   "outputs": [
    {
     "data": {
      "text/html": [
       "<div>\n",
       "<style scoped>\n",
       "    .dataframe tbody tr th:only-of-type {\n",
       "        vertical-align: middle;\n",
       "    }\n",
       "\n",
       "    .dataframe tbody tr th {\n",
       "        vertical-align: top;\n",
       "    }\n",
       "\n",
       "    .dataframe thead th {\n",
       "        text-align: right;\n",
       "    }\n",
       "</style>\n",
       "<table border=\"1\" class=\"dataframe\">\n",
       "  <thead>\n",
       "    <tr style=\"text-align: right;\">\n",
       "      <th></th>\n",
       "      <th>subscription_type</th>\n",
       "      <th>user_id</th>\n",
       "    </tr>\n",
       "  </thead>\n",
       "  <tbody>\n",
       "    <tr>\n",
       "      <th>0</th>\n",
       "      <td>free</td>\n",
       "      <td>835</td>\n",
       "    </tr>\n",
       "    <tr>\n",
       "      <th>1</th>\n",
       "      <td>ultra</td>\n",
       "      <td>699</td>\n",
       "    </tr>\n",
       "  </tbody>\n",
       "</table>\n",
       "</div>"
      ],
      "text/plain": [
       "  subscription_type  user_id\n",
       "0              free      835\n",
       "1             ultra      699"
      ]
     },
     "metadata": {},
     "output_type": "display_data"
    },
    {
     "data": {
      "image/png": "[encoded data removed]",
      "text/plain": [
       "<Figure size 432x216 with 1 Axes>"
      ]
     },
     "metadata": {
      "needs_background": "light"
     },
     "output_type": "display_data"
    }
   ],
   "source": [
    "# создадим сводную таблицу и оценим соотношение пользователей с подпиской и без\n",
    "df_users_subs_pivot = df_users.pivot_table(index='subscription_type', values='user_id', aggfunc='count').reset_index()\n",
    "display(df_users_subs_pivot)\n",
    "# построим столбчатую диаграмму\n",
    "df_users_subs_pivot.plot(x='subscription_type', kind='barh', figsize=(6, 3), grid=True)\n",
    "# укажем наименование и метки\n",
    "plt.title('Соотношение пользователей с подпиской и без')\n",
    "plt.xlabel('Количество пользователей')\n",
    "plt.ylabel('Тип подписки')\n",
    "# выведем диаграмму\n",
    "plt.show()"
   ]
  },
  {
   "cell_type": "markdown",
   "id": "6e926198",
   "metadata": {},
   "source": [
    "График показывает, что по типу подписки большинство составляют пользователи без абонентской платы (free)."
   ]
  },
  {
   "cell_type": "markdown",
   "id": "b4e9ffd5",
   "metadata": {},
   "source": [
    "##### Возраст пользователей"
   ]
  },
  {
   "cell_type": "code",
   "execution_count": 20,
   "id": "af6959e8",
   "metadata": {},
   "outputs": [
    {
     "name": "stdout",
     "output_type": "stream",
     "text": [
      "count    1534.000000\n",
      "mean       24.903520\n",
      "std         4.572367\n",
      "min        12.000000\n",
      "25%        22.000000\n",
      "50%        25.000000\n",
      "75%        28.000000\n",
      "max        43.000000\n",
      "Name: age, dtype: float64\n"
     ]
    },
    {
     "data": {
      "image/png": "[encoded data removed]",
      "text/plain": [
       "<Figure size 432x216 with 1 Axes>"
      ]
     },
     "metadata": {
      "needs_background": "light"
     },
     "output_type": "display_data"
    }
   ],
   "source": [
    "# рассмотрим данные по столбцу 'age'\n",
    "print(df_users['age'].describe())\n",
    "# построим гистограмму\n",
    "df_users['age'].plot(kind='hist', figsize=(6, 3), bins=30, grid=True)\n",
    "# укажем наименование и метки\n",
    "plt.title('Пользователи сервиса аренды самокатов')\n",
    "plt.xlabel('Возраст')\n",
    "plt.ylabel('Количество пользователей')\n",
    "# выведем гистограмму\n",
    "plt.show()"
   ]
  },
  {
   "cell_type": "markdown",
   "id": "b08d9b8b",
   "metadata": {},
   "source": [
    "Заметные на гистограмме особенности распределения также отражены и в числовом описании данных. \n",
    "- Возраст пользователей сервиса аренды самокатов в выборке находится в пределах 12 (min) и 43 (max) лет. \n",
    "- Средний показатель составляет около 25 лет, что согласуется со значением медианы. \n",
    "- В целом форма графика показывает, что крайние значения встречаются довольно редко."
   ]
  },
  {
   "cell_type": "markdown",
   "id": "a2ff2481",
   "metadata": {},
   "source": [
    "##### Расстояние, которое пользователь преодолел за одну поездку"
   ]
  },
  {
   "cell_type": "code",
   "execution_count": 21,
   "id": "c2ce10c5",
   "metadata": {},
   "outputs": [
    {
     "name": "stdout",
     "output_type": "stream",
     "text": [
      "count    18068.000000\n",
      "mean      3070.659976\n",
      "std       1116.831209\n",
      "min          0.855683\n",
      "25%       2543.226360\n",
      "50%       3133.609994\n",
      "75%       3776.222735\n",
      "max       7211.007745\n",
      "Name: distance, dtype: float64\n"
     ]
    },
    {
     "data": {
      "image/png": "[encoded data removed]",
      "text/plain": [
       "<Figure size 432x216 with 1 Axes>"
      ]
     },
     "metadata": {
      "needs_background": "light"
     },
     "output_type": "display_data"
    }
   ],
   "source": [
    "# рассмотрим данные по столбцу 'distance'\n",
    "print(df_rides['distance'].describe())\n",
    "# построим гистограмму\n",
    "df_rides['distance'].plot(kind='hist', figsize=(6, 3), bins=30, grid=True)\n",
    "# укажем наименование и метки\n",
    "plt.title('Пользователи проезжают за одну сессию')\n",
    "plt.xlabel('Расстояние в метрах')\n",
    "plt.ylabel('Количество пользователей')\n",
    "# выведем гистограмму\n",
    "plt.show()"
   ]
  },
  {
   "cell_type": "markdown",
   "id": "8217c449",
   "metadata": {},
   "source": [
    "График показывает, что чаще всего за одну поездку пользователи сервиса аренды самокатов преодолевают расстояние в три километра (mean 3070). Самые дальние расстояния отмечаются в районе семи километров (max 7211). При этом крайние значения встречаются очень редко."
   ]
  },
  {
   "cell_type": "markdown",
   "id": "55d3f6b4",
   "metadata": {},
   "source": [
    "##### Продолжительность поездок"
   ]
  },
  {
   "cell_type": "code",
   "execution_count": 22,
   "id": "a07d667d",
   "metadata": {},
   "outputs": [
    {
     "name": "stdout",
     "output_type": "stream",
     "text": [
      "count    18068.000000\n",
      "mean        17.805011\n",
      "std          6.091051\n",
      "min          0.500000\n",
      "25%         13.597563\n",
      "50%         17.678395\n",
      "75%         21.724800\n",
      "max         40.823963\n",
      "Name: duration, dtype: float64\n"
     ]
    },
    {
     "data": {
      "image/png": "[encoded data removed]",
      "text/plain": [
       "<Figure size 432x216 with 1 Axes>"
      ]
     },
     "metadata": {
      "needs_background": "light"
     },
     "output_type": "display_data"
    }
   ],
   "source": [
    "# рассмотрим данные по столбцу 'duration'\n",
    "print(df_rides['duration'].describe())\n",
    "# построим гистограмму\n",
    "df_rides['duration'].plot(kind='hist', figsize=(6, 3), bins=30, grid=True)\n",
    "# укажем наименование и метки\n",
    "plt.title('Длительность сессии от начала до завершения')\n",
    "plt.xlabel('Время в минутах')\n",
    "plt.ylabel('Количество пользователей')\n",
    "# выведем гистограмму\n",
    "plt.show()"
   ]
  },
  {
   "cell_type": "markdown",
   "id": "81c2c2bf",
   "metadata": {},
   "source": [
    "Согласно гистограмме продолжительность сессии — время с того момента, как пользователь нажал кнопку «Начать поездку» до момента, как он нажал кнопку «Завершить поездку», представлено следующими значениями: \n",
    "- В среднем 17.8 минут (mean).\n",
    "- Максимальная продолжительность отмечается значением 40.8 (max).\n",
    "- Минимальные значения представлены 30 секундами (min). Рассмотрим эти значения более детально."
   ]
  },
  {
   "cell_type": "code",
   "execution_count": 23,
   "id": "bbb77639",
   "metadata": {},
   "outputs": [
    {
     "data": {
      "text/html": [
       "<div>\n",
       "<style scoped>\n",
       "    .dataframe tbody tr th:only-of-type {\n",
       "        vertical-align: middle;\n",
       "    }\n",
       "\n",
       "    .dataframe tbody tr th {\n",
       "        vertical-align: top;\n",
       "    }\n",
       "\n",
       "    .dataframe thead th {\n",
       "        text-align: right;\n",
       "    }\n",
       "</style>\n",
       "<table border=\"1\" class=\"dataframe\">\n",
       "  <thead>\n",
       "    <tr style=\"text-align: right;\">\n",
       "      <th></th>\n",
       "      <th>user_id</th>\n",
       "      <th>distance</th>\n",
       "      <th>duration</th>\n",
       "      <th>date</th>\n",
       "      <th>month</th>\n",
       "    </tr>\n",
       "  </thead>\n",
       "  <tbody>\n",
       "    <tr>\n",
       "      <th>12013</th>\n",
       "      <td>1102</td>\n",
       "      <td>4602.122401</td>\n",
       "      <td>0.5</td>\n",
       "      <td>2021-08-01</td>\n",
       "      <td>8</td>\n",
       "    </tr>\n",
       "    <tr>\n",
       "      <th>17314</th>\n",
       "      <td>1483</td>\n",
       "      <td>4445.481070</td>\n",
       "      <td>0.5</td>\n",
       "      <td>2021-03-06</td>\n",
       "      <td>3</td>\n",
       "    </tr>\n",
       "    <tr>\n",
       "      <th>15029</th>\n",
       "      <td>1318</td>\n",
       "      <td>5894.633314</td>\n",
       "      <td>0.5</td>\n",
       "      <td>2021-03-28</td>\n",
       "      <td>3</td>\n",
       "    </tr>\n",
       "    <tr>\n",
       "      <th>7437</th>\n",
       "      <td>766</td>\n",
       "      <td>4539.088310</td>\n",
       "      <td>0.5</td>\n",
       "      <td>2021-12-22</td>\n",
       "      <td>12</td>\n",
       "    </tr>\n",
       "    <tr>\n",
       "      <th>12967</th>\n",
       "      <td>1172</td>\n",
       "      <td>4907.140751</td>\n",
       "      <td>0.5</td>\n",
       "      <td>2021-12-19</td>\n",
       "      <td>12</td>\n",
       "    </tr>\n",
       "    <tr>\n",
       "      <th>15015</th>\n",
       "      <td>1317</td>\n",
       "      <td>4593.389022</td>\n",
       "      <td>0.5</td>\n",
       "      <td>2021-07-16</td>\n",
       "      <td>7</td>\n",
       "    </tr>\n",
       "    <tr>\n",
       "      <th>13012</th>\n",
       "      <td>1176</td>\n",
       "      <td>4935.071045</td>\n",
       "      <td>0.5</td>\n",
       "      <td>2021-05-14</td>\n",
       "      <td>5</td>\n",
       "    </tr>\n",
       "    <tr>\n",
       "      <th>7508</th>\n",
       "      <td>772</td>\n",
       "      <td>4718.820996</td>\n",
       "      <td>0.5</td>\n",
       "      <td>2021-05-22</td>\n",
       "      <td>5</td>\n",
       "    </tr>\n",
       "    <tr>\n",
       "      <th>16589</th>\n",
       "      <td>1428</td>\n",
       "      <td>5059.187375</td>\n",
       "      <td>0.5</td>\n",
       "      <td>2021-05-06</td>\n",
       "      <td>5</td>\n",
       "    </tr>\n",
       "    <tr>\n",
       "      <th>9049</th>\n",
       "      <td>890</td>\n",
       "      <td>4848.485014</td>\n",
       "      <td>0.5</td>\n",
       "      <td>2021-11-20</td>\n",
       "      <td>11</td>\n",
       "    </tr>\n",
       "  </tbody>\n",
       "</table>\n",
       "</div>"
      ],
      "text/plain": [
       "       user_id     distance  duration       date  month\n",
       "12013     1102  4602.122401       0.5 2021-08-01      8\n",
       "17314     1483  4445.481070       0.5 2021-03-06      3\n",
       "15029     1318  5894.633314       0.5 2021-03-28      3\n",
       "7437       766  4539.088310       0.5 2021-12-22     12\n",
       "12967     1172  4907.140751       0.5 2021-12-19     12\n",
       "15015     1317  4593.389022       0.5 2021-07-16      7\n",
       "13012     1176  4935.071045       0.5 2021-05-14      5\n",
       "7508       772  4718.820996       0.5 2021-05-22      5\n",
       "16589     1428  5059.187375       0.5 2021-05-06      5\n",
       "9049       890  4848.485014       0.5 2021-11-20     11"
      ]
     },
     "execution_count": 23,
     "metadata": {},
     "output_type": "execute_result"
    }
   ],
   "source": [
    "# найдём поездки с минимальными значениями в столбце \n",
    "# отсортируем таблицу по возрастанию и выведем первые 10 строк\n",
    "df_rides.sort_values('duration').head(10)"
   ]
  },
  {
   "cell_type": "markdown",
   "id": "18f241ff",
   "metadata": {},
   "source": [
    "Вызывает сомнения реалистичность данных в плане соотношения продолжительности поездок и расстояния. Неправдоподобным выглядит возможность преодолеть расстояние более 5 километров за 30 секунд на самокате.\n",
    "\n",
    "Нетипично маленькие значения продолжительности поездок признаем аномальными и избавимся от них. Во-первых, их немного. Во-вторых, вероятно, это те поездки, которые по какой-то причине не состоялись, значит, данное условие не входит в фокус нашего исследования.\n",
    "\n",
    "Примем нижнюю границу в пять минут. Это представляется вполне разумным. Если отбросить значения меньше пяти минут, много данных не потеряется.\n",
    "\n",
    "Однако прежде чем избавиться от значений, оценим сколько процентов данных может быть потеряно."
   ]
  },
  {
   "cell_type": "code",
   "execution_count": 24,
   "id": "b2167bb0",
   "metadata": {},
   "outputs": [],
   "source": [
    "# посчитаем общее число строк в df_rides\n",
    "original_df = len(df_rides)"
   ]
  },
  {
   "cell_type": "code",
   "execution_count": 25,
   "id": "32012ee1",
   "metadata": {},
   "outputs": [],
   "source": [
    "# отфильтруем данные согласно условиям и сохраним их в filtered_df \n",
    "filtered_df = df_rides.query('duration >= 3.0')"
   ]
  },
  {
   "cell_type": "code",
   "execution_count": 26,
   "id": "c8655beb",
   "metadata": {},
   "outputs": [],
   "source": [
    "# посчитаем общее число строк в filtered_df\n",
    "good_rows = len(filtered_df)"
   ]
  },
  {
   "cell_type": "code",
   "execution_count": 27,
   "id": "9c9e2fbe",
   "metadata": {},
   "outputs": [],
   "source": [
    "# вычислим число удаленных строк\n",
    "removed_rows = original_df - good_rows"
   ]
  },
  {
   "cell_type": "code",
   "execution_count": 28,
   "id": "2f230560",
   "metadata": {},
   "outputs": [
    {
     "name": "stdout",
     "output_type": "stream",
     "text": [
      "Процент отброшенных аномальных значений: 0.71%\n"
     ]
    }
   ],
   "source": [
    "# рассчитаем процент потерь\n",
    "percentage_removed = (removed_rows / original_df) * 100\n",
    "\n",
    "# выведем результат\n",
    "print(f\"Процент отброшенных аномальных значений: {percentage_removed:.2f}%\")"
   ]
  },
  {
   "cell_type": "markdown",
   "id": "b150f1d1",
   "metadata": {},
   "source": [
    "Потери составляют не более 10%, поэтому смело избавляяемся от аномальных значений."
   ]
  },
  {
   "cell_type": "code",
   "execution_count": 29,
   "id": "ebc124bd",
   "metadata": {},
   "outputs": [],
   "source": [
    "# фильтруем датафрейм при помощи логической индексации\n",
    "df_rides = df_rides[df_rides['duration'] >= 3.0]"
   ]
  },
  {
   "cell_type": "code",
   "execution_count": 30,
   "id": "1cba71ab",
   "metadata": {},
   "outputs": [
    {
     "name": "stdout",
     "output_type": "stream",
     "text": [
      "count    17940.000000\n",
      "mean        17.924702\n",
      "std          5.944528\n",
      "min          3.006979\n",
      "25%         13.697516\n",
      "50%         17.728310\n",
      "75%         21.750785\n",
      "max         40.823963\n",
      "Name: duration, dtype: float64\n"
     ]
    },
    {
     "data": {
      "image/png": "[encoded data removed]",
      "text/plain": [
       "<Figure size 432x216 with 1 Axes>"
      ]
     },
     "metadata": {
      "needs_background": "light"
     },
     "output_type": "display_data"
    }
   ],
   "source": [
    "# рассмотрим данные по столбцу 'duration' после фильтрации\n",
    "print(df_rides['duration'].describe())\n",
    "# построим гистограмму\n",
    "df_rides['duration'].plot(kind='hist', figsize=(6, 3), bins=30, grid=True)\n",
    "# укажем наименование и метки\n",
    "plt.title('Длительность сессии от начала до завершения')\n",
    "plt.xlabel('Время в минутах')\n",
    "plt.ylabel('Количество пользователей')\n",
    "# выведем гистограмму\n",
    "plt.show()"
   ]
  },
  {
   "cell_type": "markdown",
   "id": "3efe9bc3",
   "metadata": {},
   "source": [
    "Все данные сохранены. В числовом описании можно заметить, что среднее и медиана немного изменились, но разница между ними соответствует тем же пределам. Минимальная продолжительность поездок отмечается значением 3.0 (min)."
   ]
  },
  {
   "cell_type": "markdown",
   "id": "4ef51331",
   "metadata": {},
   "source": [
    "#### Шаг 4. Объединение данных"
   ]
  },
  {
   "cell_type": "markdown",
   "id": "1fe2ee60",
   "metadata": {},
   "source": [
    "Для дальнейшего анализа параметров, которые относятся к разным датафреймам, объединим данные о пользователях, поездках и подписках в один датафрейм."
   ]
  },
  {
   "cell_type": "code",
   "execution_count": 31,
   "id": "6bf288b5",
   "metadata": {},
   "outputs": [],
   "source": [
    "# методом merge() объединим строки датафреймов по совпадающим значениям столбца user_id\n",
    "df_merged = df_users.merge(df_rides, on='user_id', how='left')\n",
    "df_merged = df_merged.merge(df_subs, on='subscription_type', how='left')"
   ]
  },
  {
   "cell_type": "code",
   "execution_count": 32,
   "id": "2fa2418d",
   "metadata": {},
   "outputs": [
    {
     "name": "stdout",
     "output_type": "stream",
     "text": [
      "<class 'pandas.core.frame.DataFrame'>\n",
      "Int64Index: 17940 entries, 0 to 17939\n",
      "Data columns (total 12 columns):\n",
      " #   Column             Non-Null Count  Dtype         \n",
      "---  ------             --------------  -----         \n",
      " 0   user_id            17940 non-null  int64         \n",
      " 1   name               17940 non-null  object        \n",
      " 2   age                17940 non-null  int64         \n",
      " 3   city               17940 non-null  object        \n",
      " 4   subscription_type  17940 non-null  object        \n",
      " 5   distance           17940 non-null  float64       \n",
      " 6   duration           17940 non-null  float64       \n",
      " 7   date               17940 non-null  datetime64[ns]\n",
      " 8   month              17940 non-null  int64         \n",
      " 9   minute_price       17940 non-null  int64         \n",
      " 10  start_ride_price   17940 non-null  int64         \n",
      " 11  subscription_fee   17940 non-null  int64         \n",
      "dtypes: datetime64[ns](1), float64(2), int64(6), object(3)\n",
      "memory usage: 1.8+ MB\n"
     ]
    },
    {
     "data": {
      "text/html": [
       "<div>\n",
       "<style scoped>\n",
       "    .dataframe tbody tr th:only-of-type {\n",
       "        vertical-align: middle;\n",
       "    }\n",
       "\n",
       "    .dataframe tbody tr th {\n",
       "        vertical-align: top;\n",
       "    }\n",
       "\n",
       "    .dataframe thead th {\n",
       "        text-align: right;\n",
       "    }\n",
       "</style>\n",
       "<table border=\"1\" class=\"dataframe\">\n",
       "  <thead>\n",
       "    <tr style=\"text-align: right;\">\n",
       "      <th></th>\n",
       "      <th>user_id</th>\n",
       "      <th>name</th>\n",
       "      <th>age</th>\n",
       "      <th>city</th>\n",
       "      <th>subscription_type</th>\n",
       "      <th>distance</th>\n",
       "      <th>duration</th>\n",
       "      <th>date</th>\n",
       "      <th>month</th>\n",
       "      <th>minute_price</th>\n",
       "      <th>start_ride_price</th>\n",
       "      <th>subscription_fee</th>\n",
       "    </tr>\n",
       "  </thead>\n",
       "  <tbody>\n",
       "    <tr>\n",
       "      <th>0</th>\n",
       "      <td>1</td>\n",
       "      <td>Кира</td>\n",
       "      <td>22</td>\n",
       "      <td>Тюмень</td>\n",
       "      <td>ultra</td>\n",
       "      <td>4409.919140</td>\n",
       "      <td>25.599769</td>\n",
       "      <td>2021-01-01</td>\n",
       "      <td>1</td>\n",
       "      <td>6</td>\n",
       "      <td>0</td>\n",
       "      <td>199</td>\n",
       "    </tr>\n",
       "    <tr>\n",
       "      <th>1</th>\n",
       "      <td>1</td>\n",
       "      <td>Кира</td>\n",
       "      <td>22</td>\n",
       "      <td>Тюмень</td>\n",
       "      <td>ultra</td>\n",
       "      <td>2617.592153</td>\n",
       "      <td>15.816871</td>\n",
       "      <td>2021-01-18</td>\n",
       "      <td>1</td>\n",
       "      <td>6</td>\n",
       "      <td>0</td>\n",
       "      <td>199</td>\n",
       "    </tr>\n",
       "    <tr>\n",
       "      <th>2</th>\n",
       "      <td>1</td>\n",
       "      <td>Кира</td>\n",
       "      <td>22</td>\n",
       "      <td>Тюмень</td>\n",
       "      <td>ultra</td>\n",
       "      <td>754.159807</td>\n",
       "      <td>6.232113</td>\n",
       "      <td>2021-04-20</td>\n",
       "      <td>4</td>\n",
       "      <td>6</td>\n",
       "      <td>0</td>\n",
       "      <td>199</td>\n",
       "    </tr>\n",
       "    <tr>\n",
       "      <th>3</th>\n",
       "      <td>1</td>\n",
       "      <td>Кира</td>\n",
       "      <td>22</td>\n",
       "      <td>Тюмень</td>\n",
       "      <td>ultra</td>\n",
       "      <td>2694.783254</td>\n",
       "      <td>18.511000</td>\n",
       "      <td>2021-08-11</td>\n",
       "      <td>8</td>\n",
       "      <td>6</td>\n",
       "      <td>0</td>\n",
       "      <td>199</td>\n",
       "    </tr>\n",
       "    <tr>\n",
       "      <th>4</th>\n",
       "      <td>1</td>\n",
       "      <td>Кира</td>\n",
       "      <td>22</td>\n",
       "      <td>Тюмень</td>\n",
       "      <td>ultra</td>\n",
       "      <td>4028.687306</td>\n",
       "      <td>26.265803</td>\n",
       "      <td>2021-08-28</td>\n",
       "      <td>8</td>\n",
       "      <td>6</td>\n",
       "      <td>0</td>\n",
       "      <td>199</td>\n",
       "    </tr>\n",
       "  </tbody>\n",
       "</table>\n",
       "</div>"
      ],
      "text/plain": [
       "   user_id  name  age    city subscription_type     distance   duration  \\\n",
       "0        1  Кира   22  Тюмень             ultra  4409.919140  25.599769   \n",
       "1        1  Кира   22  Тюмень             ultra  2617.592153  15.816871   \n",
       "2        1  Кира   22  Тюмень             ultra   754.159807   6.232113   \n",
       "3        1  Кира   22  Тюмень             ultra  2694.783254  18.511000   \n",
       "4        1  Кира   22  Тюмень             ultra  4028.687306  26.265803   \n",
       "\n",
       "        date  month  minute_price  start_ride_price  subscription_fee  \n",
       "0 2021-01-01      1             6                 0               199  \n",
       "1 2021-01-18      1             6                 0               199  \n",
       "2 2021-04-20      4             6                 0               199  \n",
       "3 2021-08-11      8             6                 0               199  \n",
       "4 2021-08-28      8             6                 0               199  "
      ]
     },
     "metadata": {},
     "output_type": "display_data"
    }
   ],
   "source": [
    "# вызовем функцию data_info()\n",
    "data_info(df_merged)"
   ]
  },
  {
   "cell_type": "markdown",
   "id": "2f974b8f",
   "metadata": {},
   "source": [
    "Итак, столбцы всех трёх датафреймов теперь хранятся в одной таблице."
   ]
  },
  {
   "cell_type": "markdown",
   "id": "ca1e57ab",
   "metadata": {},
   "source": [
    "##### Создание датафреймов различных по типу подписки\n",
    "\n",
    "Теперь на основе объединённого датафрейма создадим два разных, где будут храниться:\n",
    "- данные о пользователях без подписки\n",
    "- данные о пользователях с подпиской"
   ]
  },
  {
   "cell_type": "code",
   "execution_count": 33,
   "id": "f5dcb279",
   "metadata": {
    "scrolled": true
   },
   "outputs": [
    {
     "data": {
      "text/html": [
       "<div>\n",
       "<style scoped>\n",
       "    .dataframe tbody tr th:only-of-type {\n",
       "        vertical-align: middle;\n",
       "    }\n",
       "\n",
       "    .dataframe tbody tr th {\n",
       "        vertical-align: top;\n",
       "    }\n",
       "\n",
       "    .dataframe thead th {\n",
       "        text-align: right;\n",
       "    }\n",
       "</style>\n",
       "<table border=\"1\" class=\"dataframe\">\n",
       "  <thead>\n",
       "    <tr style=\"text-align: right;\">\n",
       "      <th></th>\n",
       "      <th>user_id</th>\n",
       "      <th>name</th>\n",
       "      <th>age</th>\n",
       "      <th>city</th>\n",
       "      <th>subscription_type</th>\n",
       "      <th>distance</th>\n",
       "      <th>duration</th>\n",
       "      <th>date</th>\n",
       "      <th>month</th>\n",
       "      <th>minute_price</th>\n",
       "      <th>start_ride_price</th>\n",
       "      <th>subscription_fee</th>\n",
       "    </tr>\n",
       "  </thead>\n",
       "  <tbody>\n",
       "    <tr>\n",
       "      <th>6500</th>\n",
       "      <td>700</td>\n",
       "      <td>Айдар</td>\n",
       "      <td>22</td>\n",
       "      <td>Омск</td>\n",
       "      <td>free</td>\n",
       "      <td>2515.690719</td>\n",
       "      <td>14.944286</td>\n",
       "      <td>2021-01-02</td>\n",
       "      <td>1</td>\n",
       "      <td>8</td>\n",
       "      <td>50</td>\n",
       "      <td>0</td>\n",
       "    </tr>\n",
       "    <tr>\n",
       "      <th>6501</th>\n",
       "      <td>700</td>\n",
       "      <td>Айдар</td>\n",
       "      <td>22</td>\n",
       "      <td>Омск</td>\n",
       "      <td>free</td>\n",
       "      <td>846.932642</td>\n",
       "      <td>16.234663</td>\n",
       "      <td>2021-02-01</td>\n",
       "      <td>2</td>\n",
       "      <td>8</td>\n",
       "      <td>50</td>\n",
       "      <td>0</td>\n",
       "    </tr>\n",
       "    <tr>\n",
       "      <th>6502</th>\n",
       "      <td>700</td>\n",
       "      <td>Айдар</td>\n",
       "      <td>22</td>\n",
       "      <td>Омск</td>\n",
       "      <td>free</td>\n",
       "      <td>4004.434142</td>\n",
       "      <td>20.016628</td>\n",
       "      <td>2021-02-04</td>\n",
       "      <td>2</td>\n",
       "      <td>8</td>\n",
       "      <td>50</td>\n",
       "      <td>0</td>\n",
       "    </tr>\n",
       "    <tr>\n",
       "      <th>6503</th>\n",
       "      <td>700</td>\n",
       "      <td>Айдар</td>\n",
       "      <td>22</td>\n",
       "      <td>Омск</td>\n",
       "      <td>free</td>\n",
       "      <td>1205.911290</td>\n",
       "      <td>9.782872</td>\n",
       "      <td>2021-02-10</td>\n",
       "      <td>2</td>\n",
       "      <td>8</td>\n",
       "      <td>50</td>\n",
       "      <td>0</td>\n",
       "    </tr>\n",
       "    <tr>\n",
       "      <th>6504</th>\n",
       "      <td>700</td>\n",
       "      <td>Айдар</td>\n",
       "      <td>22</td>\n",
       "      <td>Омск</td>\n",
       "      <td>free</td>\n",
       "      <td>3047.379435</td>\n",
       "      <td>17.427673</td>\n",
       "      <td>2021-02-14</td>\n",
       "      <td>2</td>\n",
       "      <td>8</td>\n",
       "      <td>50</td>\n",
       "      <td>0</td>\n",
       "    </tr>\n",
       "  </tbody>\n",
       "</table>\n",
       "</div>"
      ],
      "text/plain": [
       "      user_id   name  age  city subscription_type     distance   duration  \\\n",
       "6500      700  Айдар   22  Омск              free  2515.690719  14.944286   \n",
       "6501      700  Айдар   22  Омск              free   846.932642  16.234663   \n",
       "6502      700  Айдар   22  Омск              free  4004.434142  20.016628   \n",
       "6503      700  Айдар   22  Омск              free  1205.911290   9.782872   \n",
       "6504      700  Айдар   22  Омск              free  3047.379435  17.427673   \n",
       "\n",
       "           date  month  minute_price  start_ride_price  subscription_fee  \n",
       "6500 2021-01-02      1             8                50                 0  \n",
       "6501 2021-02-01      2             8                50                 0  \n",
       "6502 2021-02-04      2             8                50                 0  \n",
       "6503 2021-02-10      2             8                50                 0  \n",
       "6504 2021-02-14      2             8                50                 0  "
      ]
     },
     "execution_count": 33,
     "metadata": {},
     "output_type": "execute_result"
    }
   ],
   "source": [
    "# создадим df_free при помощи логической индексации\n",
    "df_subs_free = df_merged[df_merged['subscription_type'] == 'free']\n",
    "df_subs_free.head()"
   ]
  },
  {
   "cell_type": "code",
   "execution_count": 34,
   "id": "4e90d14c",
   "metadata": {},
   "outputs": [
    {
     "name": "stdout",
     "output_type": "stream",
     "text": [
      "Количество пропусков:\n",
      "user_id              0\n",
      "name                 0\n",
      "age                  0\n",
      "city                 0\n",
      "subscription_type    0\n",
      "distance             0\n",
      "duration             0\n",
      "date                 0\n",
      "month                0\n",
      "minute_price         0\n",
      "start_ride_price     0\n",
      "subscription_fee     0\n",
      "dtype: int64\n"
     ]
    }
   ],
   "source": [
    "# убедимся, что после объединения в df_subs_free не возникли пропуски\n",
    "print('Количество пропусков:')\n",
    "print(df_subs_free.isnull().sum())"
   ]
  },
  {
   "cell_type": "code",
   "execution_count": 35,
   "id": "3dc33e22",
   "metadata": {},
   "outputs": [
    {
     "name": "stdout",
     "output_type": "stream",
     "text": [
      "Количество строк: 11440\n",
      "Количество столбцов: 12\n"
     ]
    }
   ],
   "source": [
    "# убедимся, что размер объединенного df_subs_free соответствует ожидаемому\n",
    "# используем атрибут shape, чтобы получить количество строк и столбцов\n",
    "num_rows, num_columns = df_subs_free.shape\n",
    "print(f\"Количество строк: {num_rows}\")\n",
    "print(f\"Количество столбцов: {num_columns}\")"
   ]
  },
  {
   "cell_type": "code",
   "execution_count": 36,
   "id": "ccdc71e7",
   "metadata": {},
   "outputs": [
    {
     "data": {
      "text/html": [
       "<div>\n",
       "<style scoped>\n",
       "    .dataframe tbody tr th:only-of-type {\n",
       "        vertical-align: middle;\n",
       "    }\n",
       "\n",
       "    .dataframe tbody tr th {\n",
       "        vertical-align: top;\n",
       "    }\n",
       "\n",
       "    .dataframe thead th {\n",
       "        text-align: right;\n",
       "    }\n",
       "</style>\n",
       "<table border=\"1\" class=\"dataframe\">\n",
       "  <thead>\n",
       "    <tr style=\"text-align: right;\">\n",
       "      <th></th>\n",
       "      <th>user_id</th>\n",
       "      <th>name</th>\n",
       "      <th>age</th>\n",
       "      <th>city</th>\n",
       "      <th>subscription_type</th>\n",
       "      <th>distance</th>\n",
       "      <th>duration</th>\n",
       "      <th>date</th>\n",
       "      <th>month</th>\n",
       "      <th>minute_price</th>\n",
       "      <th>start_ride_price</th>\n",
       "      <th>subscription_fee</th>\n",
       "    </tr>\n",
       "  </thead>\n",
       "  <tbody>\n",
       "    <tr>\n",
       "      <th>0</th>\n",
       "      <td>1</td>\n",
       "      <td>Кира</td>\n",
       "      <td>22</td>\n",
       "      <td>Тюмень</td>\n",
       "      <td>ultra</td>\n",
       "      <td>4409.919140</td>\n",
       "      <td>25.599769</td>\n",
       "      <td>2021-01-01</td>\n",
       "      <td>1</td>\n",
       "      <td>6</td>\n",
       "      <td>0</td>\n",
       "      <td>199</td>\n",
       "    </tr>\n",
       "    <tr>\n",
       "      <th>1</th>\n",
       "      <td>1</td>\n",
       "      <td>Кира</td>\n",
       "      <td>22</td>\n",
       "      <td>Тюмень</td>\n",
       "      <td>ultra</td>\n",
       "      <td>2617.592153</td>\n",
       "      <td>15.816871</td>\n",
       "      <td>2021-01-18</td>\n",
       "      <td>1</td>\n",
       "      <td>6</td>\n",
       "      <td>0</td>\n",
       "      <td>199</td>\n",
       "    </tr>\n",
       "    <tr>\n",
       "      <th>2</th>\n",
       "      <td>1</td>\n",
       "      <td>Кира</td>\n",
       "      <td>22</td>\n",
       "      <td>Тюмень</td>\n",
       "      <td>ultra</td>\n",
       "      <td>754.159807</td>\n",
       "      <td>6.232113</td>\n",
       "      <td>2021-04-20</td>\n",
       "      <td>4</td>\n",
       "      <td>6</td>\n",
       "      <td>0</td>\n",
       "      <td>199</td>\n",
       "    </tr>\n",
       "    <tr>\n",
       "      <th>3</th>\n",
       "      <td>1</td>\n",
       "      <td>Кира</td>\n",
       "      <td>22</td>\n",
       "      <td>Тюмень</td>\n",
       "      <td>ultra</td>\n",
       "      <td>2694.783254</td>\n",
       "      <td>18.511000</td>\n",
       "      <td>2021-08-11</td>\n",
       "      <td>8</td>\n",
       "      <td>6</td>\n",
       "      <td>0</td>\n",
       "      <td>199</td>\n",
       "    </tr>\n",
       "    <tr>\n",
       "      <th>4</th>\n",
       "      <td>1</td>\n",
       "      <td>Кира</td>\n",
       "      <td>22</td>\n",
       "      <td>Тюмень</td>\n",
       "      <td>ultra</td>\n",
       "      <td>4028.687306</td>\n",
       "      <td>26.265803</td>\n",
       "      <td>2021-08-28</td>\n",
       "      <td>8</td>\n",
       "      <td>6</td>\n",
       "      <td>0</td>\n",
       "      <td>199</td>\n",
       "    </tr>\n",
       "  </tbody>\n",
       "</table>\n",
       "</div>"
      ],
      "text/plain": [
       "   user_id  name  age    city subscription_type     distance   duration  \\\n",
       "0        1  Кира   22  Тюмень             ultra  4409.919140  25.599769   \n",
       "1        1  Кира   22  Тюмень             ultra  2617.592153  15.816871   \n",
       "2        1  Кира   22  Тюмень             ultra   754.159807   6.232113   \n",
       "3        1  Кира   22  Тюмень             ultra  2694.783254  18.511000   \n",
       "4        1  Кира   22  Тюмень             ultra  4028.687306  26.265803   \n",
       "\n",
       "        date  month  minute_price  start_ride_price  subscription_fee  \n",
       "0 2021-01-01      1             6                 0               199  \n",
       "1 2021-01-18      1             6                 0               199  \n",
       "2 2021-04-20      4             6                 0               199  \n",
       "3 2021-08-11      8             6                 0               199  \n",
       "4 2021-08-28      8             6                 0               199  "
      ]
     },
     "execution_count": 36,
     "metadata": {},
     "output_type": "execute_result"
    }
   ],
   "source": [
    "# создадим df_ultra при помощи логической индексации\n",
    "df_subs_ultra = df_merged[df_merged['subscription_type'] == 'ultra']\n",
    "df_subs_ultra.head()"
   ]
  },
  {
   "cell_type": "code",
   "execution_count": 37,
   "id": "6817baf0",
   "metadata": {},
   "outputs": [
    {
     "name": "stdout",
     "output_type": "stream",
     "text": [
      "Количество пропусков:\n",
      "user_id              0\n",
      "name                 0\n",
      "age                  0\n",
      "city                 0\n",
      "subscription_type    0\n",
      "distance             0\n",
      "duration             0\n",
      "date                 0\n",
      "month                0\n",
      "minute_price         0\n",
      "start_ride_price     0\n",
      "subscription_fee     0\n",
      "dtype: int64\n"
     ]
    }
   ],
   "source": [
    "# убедимся, что после объединения в df_subs_ultra не возникли пропуски\n",
    "print('Количество пропусков:')\n",
    "print(df_subs_ultra.isnull().sum())"
   ]
  },
  {
   "cell_type": "code",
   "execution_count": 38,
   "id": "5f8e6090",
   "metadata": {},
   "outputs": [
    {
     "name": "stdout",
     "output_type": "stream",
     "text": [
      "Количество строк: 6500\n",
      "Количество столбцов: 12\n"
     ]
    }
   ],
   "source": [
    "# убедимся, что размер объединенного df_subs_ultra соответствует ожидаемому\n",
    "# используем атрибут shape, чтобы получить количество строк и столбцов\n",
    "num_rows, num_columns = df_subs_ultra.shape\n",
    "print(f\"Количество строк: {num_rows}\")\n",
    "print(f\"Количество столбцов: {num_columns}\")"
   ]
  },
  {
   "cell_type": "markdown",
   "id": "e0f71609",
   "metadata": {},
   "source": [
    "Все данные сохранены, пропущенных значений в объединённых датафреймах не обнаружено, размеры таблиц соответствуют ожидаемым."
   ]
  },
  {
   "cell_type": "markdown",
   "id": "466043e2",
   "metadata": {},
   "source": [
    "##### Визуализация информации о расстоянии и времени поездок для пользователей обеих категорий"
   ]
  },
  {
   "cell_type": "code",
   "execution_count": 39,
   "id": "702560dd",
   "metadata": {
    "scrolled": true
   },
   "outputs": [
    {
     "data": {
      "image/png": "[encoded data removed]",
      "text/plain": [
       "<Figure size 432x216 with 1 Axes>"
      ]
     },
     "metadata": {
      "needs_background": "light"
     },
     "output_type": "display_data"
    }
   ],
   "source": [
    "# построим график для расстояния, которое пользователи проезжают за одну сессию\n",
    "# отобразим данные по обеим категориям\n",
    "ax = df_subs_free['distance'].plot(kind='hist', figsize=(6, 3), histtype='step', bins=30, linewidth=5, label='без подписки', grid=True)\n",
    "ax = df_subs_ultra['distance'].plot(kind='hist', figsize=(6, 3), histtype='step', bins=30, linewidth=5, label='с подпиской', grid=True)\n",
    "# установим метки\n",
    "plt.xlabel('Расстояние в метрах')\n",
    "plt.ylabel('Количество пользователей')\n",
    "plt.title('Пользователи проезжают за одну сессию')\n",
    "# легенда\n",
    "plt.legend()\n",
    "# выведем график\n",
    "plt.show()"
   ]
  },
  {
   "cell_type": "code",
   "execution_count": 40,
   "id": "2b27c364",
   "metadata": {},
   "outputs": [
    {
     "data": {
      "image/png": "[encoded data removed]",
      "text/plain": [
       "<Figure size 432x216 with 1 Axes>"
      ]
     },
     "metadata": {
      "needs_background": "light"
     },
     "output_type": "display_data"
    }
   ],
   "source": [
    "# построим график для продолжительности поездок\n",
    "# отобразим данные по обеим категориям\n",
    "ax = df_subs_free['duration'].plot(kind='hist', figsize=(6, 3), histtype='step', bins=30, linewidth=5, label='без подписки', grid=True)\n",
    "ax = df_subs_ultra['duration'].plot(kind='hist', figsize=(6, 3), histtype='step', bins=30, linewidth=5, label='с подпиской', grid=True)\n",
    "# установим метки\n",
    "plt.xlabel('Время в минутах')\n",
    "plt.ylabel('Количество пользователей')\n",
    "plt.title('Длительность сессии от начала до завершения')\n",
    "# легенда\n",
    "plt.legend()\n",
    "# выведем график\n",
    "plt.show()"
   ]
  },
  {
   "cell_type": "markdown",
   "id": "5e5b30d9",
   "metadata": {},
   "source": [
    "**Вывод:**\n",
    "\n",
    "В целом, согласно форме графиков можно сказать, что расстояние и продолжительность поездок для пользователей обеих категорий характеризуется похожими тенденциями. Разница наблюдается в пределах крайних значений:\n",
    "- Пользователи без подписки чаще склонны завершать поездки уже на первых минутах по сравнению с пользователями с подпиской.\n",
    "- Среди пользователей с подпиской есть те, чья длительность сессии от начала до завершения составляет более 40 минут.\n",
    "- Среди пользователей без подписки чаще встречаются любители преодолевать дальние расстояния на самокате."
   ]
  },
  {
   "cell_type": "markdown",
   "id": "402d620f",
   "metadata": {},
   "source": [
    "#### Шаг 5. Подсчёт выручки"
   ]
  },
  {
   "cell_type": "markdown",
   "id": "b44e77d6",
   "metadata": {},
   "source": [
    "##### Создадим отдельный датафрейм с агрегированными данными\n",
    "\n",
    "Новый датафрейм с агрегированными данными о поездках будет хранить следующие значения для каждого пользователя за каждый месяц:\n",
    "- суммарное расстояние\n",
    "- суммарное время\n",
    "- количество поездок\n",
    "\n",
    "Для подсчёта стоимости продолжительность каждой поездки в каждой строке датафрейма df_merged округлим до следующего целого числа."
   ]
  },
  {
   "cell_type": "code",
   "execution_count": 41,
   "id": "209082be",
   "metadata": {},
   "outputs": [],
   "source": [
    "# округлим значения в столбце duration до следующего целого числа\n",
    "df_merged['duration'] = np.ceil(df_merged['duration'])\n",
    "df_merged['duration'] = df_merged['duration'].astype('int')"
   ]
  },
  {
   "cell_type": "code",
   "execution_count": 42,
   "id": "c20b8b26",
   "metadata": {},
   "outputs": [
    {
     "data": {
      "text/html": [
       "<div>\n",
       "<style scoped>\n",
       "    .dataframe tbody tr th:only-of-type {\n",
       "        vertical-align: middle;\n",
       "    }\n",
       "\n",
       "    .dataframe tbody tr th {\n",
       "        vertical-align: top;\n",
       "    }\n",
       "\n",
       "    .dataframe thead th {\n",
       "        text-align: right;\n",
       "    }\n",
       "</style>\n",
       "<table border=\"1\" class=\"dataframe\">\n",
       "  <thead>\n",
       "    <tr style=\"text-align: right;\">\n",
       "      <th></th>\n",
       "      <th>user_id</th>\n",
       "      <th>month</th>\n",
       "      <th>total_distance</th>\n",
       "      <th>total_duration</th>\n",
       "      <th>number_of_trips</th>\n",
       "    </tr>\n",
       "  </thead>\n",
       "  <tbody>\n",
       "    <tr>\n",
       "      <th>0</th>\n",
       "      <td>1</td>\n",
       "      <td>1</td>\n",
       "      <td>7027.511294</td>\n",
       "      <td>42</td>\n",
       "      <td>2</td>\n",
       "    </tr>\n",
       "    <tr>\n",
       "      <th>1</th>\n",
       "      <td>1</td>\n",
       "      <td>4</td>\n",
       "      <td>754.159807</td>\n",
       "      <td>7</td>\n",
       "      <td>1</td>\n",
       "    </tr>\n",
       "    <tr>\n",
       "      <th>2</th>\n",
       "      <td>1</td>\n",
       "      <td>8</td>\n",
       "      <td>6723.470560</td>\n",
       "      <td>46</td>\n",
       "      <td>2</td>\n",
       "    </tr>\n",
       "    <tr>\n",
       "      <th>3</th>\n",
       "      <td>1</td>\n",
       "      <td>10</td>\n",
       "      <td>5809.911100</td>\n",
       "      <td>32</td>\n",
       "      <td>2</td>\n",
       "    </tr>\n",
       "    <tr>\n",
       "      <th>4</th>\n",
       "      <td>1</td>\n",
       "      <td>11</td>\n",
       "      <td>7003.499363</td>\n",
       "      <td>56</td>\n",
       "      <td>3</td>\n",
       "    </tr>\n",
       "  </tbody>\n",
       "</table>\n",
       "</div>"
      ],
      "text/plain": [
       "   user_id  month  total_distance  total_duration  number_of_trips\n",
       "0        1      1     7027.511294              42                2\n",
       "1        1      4      754.159807               7                1\n",
       "2        1      8     6723.470560              46                2\n",
       "3        1     10     5809.911100              32                2\n",
       "4        1     11     7003.499363              56                3"
      ]
     },
     "execution_count": 42,
     "metadata": {},
     "output_type": "execute_result"
    }
   ],
   "source": [
    "# создадим df_revenue на основе объединённого ранее датафрейма df_merged\n",
    "# сделаем нужные рассчеты, используя pivot_table и функции агрегирования\n",
    "df_revenue = pd.pivot_table(df_merged, \n",
    "                            index=['user_id', 'month'], \n",
    "                            values=['distance', 'duration'], \n",
    "                            aggfunc={'distance': 'sum', 'duration': 'sum', 'user_id': 'count'},\n",
    "                            fill_value=0)\n",
    "\n",
    "# переименуем столбцы\n",
    "df_revenue.columns = ['total_distance', 'total_duration', 'number_of_trips']\n",
    "\n",
    "# сбрасываем индекс, чтобы user_id и month были обычными столбцами\n",
    "df_revenue = df_revenue.reset_index()\n",
    "df_revenue.head()"
   ]
  },
  {
   "cell_type": "markdown",
   "id": "7efddb62",
   "metadata": {},
   "source": [
    "##### Добавим столбец с помесячной выручкой по каждому пользователю\n",
    "\n",
    "Для рассчета выручки по каждому пользователю обратимся к информации об условиях оплаты для подписчиков и тех, у кого нет подписки."
   ]
  },
  {
   "cell_type": "code",
   "execution_count": 43,
   "id": "578e0f2d",
   "metadata": {},
   "outputs": [
    {
     "data": {
      "text/html": [
       "<div>\n",
       "<style scoped>\n",
       "    .dataframe tbody tr th:only-of-type {\n",
       "        vertical-align: middle;\n",
       "    }\n",
       "\n",
       "    .dataframe tbody tr th {\n",
       "        vertical-align: top;\n",
       "    }\n",
       "\n",
       "    .dataframe thead th {\n",
       "        text-align: right;\n",
       "    }\n",
       "</style>\n",
       "<table border=\"1\" class=\"dataframe\">\n",
       "  <thead>\n",
       "    <tr style=\"text-align: right;\">\n",
       "      <th></th>\n",
       "      <th>user_id</th>\n",
       "      <th>month</th>\n",
       "      <th>total_distance</th>\n",
       "      <th>total_duration</th>\n",
       "      <th>number_of_trips</th>\n",
       "      <th>name</th>\n",
       "      <th>age</th>\n",
       "      <th>city</th>\n",
       "      <th>subscription_type</th>\n",
       "      <th>minute_price</th>\n",
       "      <th>start_ride_price</th>\n",
       "      <th>subscription_fee</th>\n",
       "    </tr>\n",
       "  </thead>\n",
       "  <tbody>\n",
       "    <tr>\n",
       "      <th>0</th>\n",
       "      <td>1</td>\n",
       "      <td>1</td>\n",
       "      <td>7027.511294</td>\n",
       "      <td>42</td>\n",
       "      <td>2</td>\n",
       "      <td>Кира</td>\n",
       "      <td>22</td>\n",
       "      <td>Тюмень</td>\n",
       "      <td>ultra</td>\n",
       "      <td>6</td>\n",
       "      <td>0</td>\n",
       "      <td>199</td>\n",
       "    </tr>\n",
       "    <tr>\n",
       "      <th>1</th>\n",
       "      <td>1</td>\n",
       "      <td>4</td>\n",
       "      <td>754.159807</td>\n",
       "      <td>7</td>\n",
       "      <td>1</td>\n",
       "      <td>Кира</td>\n",
       "      <td>22</td>\n",
       "      <td>Тюмень</td>\n",
       "      <td>ultra</td>\n",
       "      <td>6</td>\n",
       "      <td>0</td>\n",
       "      <td>199</td>\n",
       "    </tr>\n",
       "    <tr>\n",
       "      <th>2</th>\n",
       "      <td>1</td>\n",
       "      <td>8</td>\n",
       "      <td>6723.470560</td>\n",
       "      <td>46</td>\n",
       "      <td>2</td>\n",
       "      <td>Кира</td>\n",
       "      <td>22</td>\n",
       "      <td>Тюмень</td>\n",
       "      <td>ultra</td>\n",
       "      <td>6</td>\n",
       "      <td>0</td>\n",
       "      <td>199</td>\n",
       "    </tr>\n",
       "    <tr>\n",
       "      <th>3</th>\n",
       "      <td>1</td>\n",
       "      <td>10</td>\n",
       "      <td>5809.911100</td>\n",
       "      <td>32</td>\n",
       "      <td>2</td>\n",
       "      <td>Кира</td>\n",
       "      <td>22</td>\n",
       "      <td>Тюмень</td>\n",
       "      <td>ultra</td>\n",
       "      <td>6</td>\n",
       "      <td>0</td>\n",
       "      <td>199</td>\n",
       "    </tr>\n",
       "    <tr>\n",
       "      <th>4</th>\n",
       "      <td>1</td>\n",
       "      <td>11</td>\n",
       "      <td>7003.499363</td>\n",
       "      <td>56</td>\n",
       "      <td>3</td>\n",
       "      <td>Кира</td>\n",
       "      <td>22</td>\n",
       "      <td>Тюмень</td>\n",
       "      <td>ultra</td>\n",
       "      <td>6</td>\n",
       "      <td>0</td>\n",
       "      <td>199</td>\n",
       "    </tr>\n",
       "  </tbody>\n",
       "</table>\n",
       "</div>"
      ],
      "text/plain": [
       "   user_id  month  total_distance  total_duration  number_of_trips  name  age  \\\n",
       "0        1      1     7027.511294              42                2  Кира   22   \n",
       "1        1      4      754.159807               7                1  Кира   22   \n",
       "2        1      8     6723.470560              46                2  Кира   22   \n",
       "3        1     10     5809.911100              32                2  Кира   22   \n",
       "4        1     11     7003.499363              56                3  Кира   22   \n",
       "\n",
       "     city subscription_type  minute_price  start_ride_price  subscription_fee  \n",
       "0  Тюмень             ultra             6                 0               199  \n",
       "1  Тюмень             ultra             6                 0               199  \n",
       "2  Тюмень             ultra             6                 0               199  \n",
       "3  Тюмень             ultra             6                 0               199  \n",
       "4  Тюмень             ultra             6                 0               199  "
      ]
     },
     "execution_count": 43,
     "metadata": {},
     "output_type": "execute_result"
    }
   ],
   "source": [
    "# добавим в df_revenue нужные для рассчётов столбцы\n",
    "df_revenue = df_revenue.merge(df_users, how='left', on='user_id')\n",
    "df_revenue = df_revenue.merge(df_subs, how='left', on='subscription_type')\n",
    "df_revenue.head()"
   ]
  },
  {
   "cell_type": "code",
   "execution_count": 44,
   "id": "5d624465",
   "metadata": {},
   "outputs": [
    {
     "data": {
      "text/html": [
       "<div>\n",
       "<style scoped>\n",
       "    .dataframe tbody tr th:only-of-type {\n",
       "        vertical-align: middle;\n",
       "    }\n",
       "\n",
       "    .dataframe tbody tr th {\n",
       "        vertical-align: top;\n",
       "    }\n",
       "\n",
       "    .dataframe thead th {\n",
       "        text-align: right;\n",
       "    }\n",
       "</style>\n",
       "<table border=\"1\" class=\"dataframe\">\n",
       "  <thead>\n",
       "    <tr style=\"text-align: right;\">\n",
       "      <th></th>\n",
       "      <th>user_id</th>\n",
       "      <th>month</th>\n",
       "      <th>number_of_trips</th>\n",
       "      <th>monthly_revenue</th>\n",
       "    </tr>\n",
       "  </thead>\n",
       "  <tbody>\n",
       "    <tr>\n",
       "      <th>0</th>\n",
       "      <td>1</td>\n",
       "      <td>1</td>\n",
       "      <td>2</td>\n",
       "      <td>451</td>\n",
       "    </tr>\n",
       "    <tr>\n",
       "      <th>1</th>\n",
       "      <td>1</td>\n",
       "      <td>4</td>\n",
       "      <td>1</td>\n",
       "      <td>241</td>\n",
       "    </tr>\n",
       "    <tr>\n",
       "      <th>2</th>\n",
       "      <td>1</td>\n",
       "      <td>8</td>\n",
       "      <td>2</td>\n",
       "      <td>475</td>\n",
       "    </tr>\n",
       "    <tr>\n",
       "      <th>3</th>\n",
       "      <td>1</td>\n",
       "      <td>10</td>\n",
       "      <td>2</td>\n",
       "      <td>391</td>\n",
       "    </tr>\n",
       "    <tr>\n",
       "      <th>4</th>\n",
       "      <td>1</td>\n",
       "      <td>11</td>\n",
       "      <td>3</td>\n",
       "      <td>535</td>\n",
       "    </tr>\n",
       "    <tr>\n",
       "      <th>...</th>\n",
       "      <td>...</td>\n",
       "      <td>...</td>\n",
       "      <td>...</td>\n",
       "      <td>...</td>\n",
       "    </tr>\n",
       "    <tr>\n",
       "      <th>11286</th>\n",
       "      <td>1534</td>\n",
       "      <td>6</td>\n",
       "      <td>2</td>\n",
       "      <td>308</td>\n",
       "    </tr>\n",
       "    <tr>\n",
       "      <th>11287</th>\n",
       "      <td>1534</td>\n",
       "      <td>8</td>\n",
       "      <td>2</td>\n",
       "      <td>484</td>\n",
       "    </tr>\n",
       "    <tr>\n",
       "      <th>11288</th>\n",
       "      <td>1534</td>\n",
       "      <td>9</td>\n",
       "      <td>1</td>\n",
       "      <td>234</td>\n",
       "    </tr>\n",
       "    <tr>\n",
       "      <th>11289</th>\n",
       "      <td>1534</td>\n",
       "      <td>11</td>\n",
       "      <td>4</td>\n",
       "      <td>824</td>\n",
       "    </tr>\n",
       "    <tr>\n",
       "      <th>11290</th>\n",
       "      <td>1534</td>\n",
       "      <td>12</td>\n",
       "      <td>1</td>\n",
       "      <td>178</td>\n",
       "    </tr>\n",
       "  </tbody>\n",
       "</table>\n",
       "<p>11291 rows × 4 columns</p>\n",
       "</div>"
      ],
      "text/plain": [
       "       user_id  month  number_of_trips  monthly_revenue\n",
       "0            1      1                2              451\n",
       "1            1      4                1              241\n",
       "2            1      8                2              475\n",
       "3            1     10                2              391\n",
       "4            1     11                3              535\n",
       "...        ...    ...              ...              ...\n",
       "11286     1534      6                2              308\n",
       "11287     1534      8                2              484\n",
       "11288     1534      9                1              234\n",
       "11289     1534     11                4              824\n",
       "11290     1534     12                1              178\n",
       "\n",
       "[11291 rows x 4 columns]"
      ]
     },
     "execution_count": 44,
     "metadata": {},
     "output_type": "execute_result"
    }
   ],
   "source": [
    "# рассчитаем выручку по каждому пользователю и добавим столбец с результатом в df_revenue\n",
    "df_revenue['monthly_revenue'] = (df_revenue['start_ride_price'] * df_revenue['number_of_trips'] +\n",
    "                                 df_revenue['minute_price'] * df_revenue['total_duration'] +\n",
    "                                 df_revenue['subscription_fee'])\n",
    "# выведем результат\n",
    "df_revenue[['user_id', 'month', 'number_of_trips', 'monthly_revenue']]"
   ]
  },
  {
   "cell_type": "markdown",
   "id": "10138c80",
   "metadata": {},
   "source": [
    "**Вывод:**\n",
    "\n",
    "- Создан отдельный датафрейм с агрегированными данными о поездках.\n",
    "- Посчитаны суммарное расстояние, количество поездок и суммарное время для каждого пользователя за каждый месяц.\n",
    "- Добавлен столбец с рассчитанной помесячной выручкой, которую принёс каждый пользователь.\n",
    "\n",
    "Далее перейдем к оценке гипотез в рамках данного исследования."
   ]
  },
  {
   "cell_type": "markdown",
   "id": "41545ac0",
   "metadata": {},
   "source": [
    "#### Шаг 6. Проверка гипотез"
   ]
  },
  {
   "cell_type": "markdown",
   "id": "9fb44df8",
   "metadata": {},
   "source": [
    "##### Тратят ли пользователи с подпиской больше времени на поездки?"
   ]
  },
  {
   "cell_type": "markdown",
   "id": "283f2064",
   "metadata": {},
   "source": [
    "Проверим гипотезу о том, что пользователи с подпиской тратят больше времени на поездки.\n",
    "\n",
    "*Нулевая гипотеза:* средние значения продолжительности поездки пользователей из двух групп равны.\n",
    "\n",
    "*Альтернативная гипотеза:* среднее значение продолжительности поездки пользователей с подпиской больше, чем среднее значение продолжительности поездки пользователей без подписки."
   ]
  },
  {
   "cell_type": "code",
   "execution_count": 45,
   "id": "6c666a09",
   "metadata": {},
   "outputs": [
    {
     "name": "stdout",
     "output_type": "stream",
     "text": [
      "Среднее продолжительности поездки с подпиской: 18.54\n",
      "Среднее продолжительности поездки без подписки: 17.57\n",
      "p-value: 4.339260469446751e-26\n",
      "Отвергаем нулевую гипотезу\n"
     ]
    }
   ],
   "source": [
    "# используем специальный метод ttest_ind() с указанием соответствующего аргумента для проверки альтернативной гипотезы\n",
    "\n",
    "# для наглядной оценки выведем среднее значение для обоих датасетов\n",
    "print('Среднее продолжительности поездки с подпиской:', round(df_subs_ultra['duration'].mean(), 2))\n",
    "print('Среднее продолжительности поездки без подписки:', round(df_subs_free['duration'].mean(), 2))\n",
    "\n",
    "# задаём уровень значимости\n",
    "alpha = 0.05\n",
    "\n",
    "# проводим ttest для двух выборок, в качестве альтернативной используем одностороннюю гипотезу «больше»\n",
    "results_duration = st.ttest_ind(df_subs_ultra['duration'], df_subs_free['duration'], alternative='greater')\n",
    "\n",
    "print(f'p-value: {results_duration.pvalue}')\n",
    "\n",
    "# проверяем p-value\n",
    "if results_duration.pvalue < alpha:\n",
    "    print('Отвергаем нулевую гипотезу')\n",
    "else:\n",
    "    print('Нет оснований отвергнуть нулевую гипотезу')"
   ]
  },
  {
   "cell_type": "markdown",
   "id": "eb6e9811",
   "metadata": {},
   "source": [
    "**Вывод:**\n",
    "\n",
    "Данные дают достаточное основание отвергнуть нулевую гипотезу для выбранного уровня значимости. Значит, можно сделать вывод, что пользователи с подпиской тратят больше времени на поездки.\n",
    "\n",
    "Заметим, что даже при более строгом значении статистической значимости в 1 %, а не 5 % мы бы получили тот же результат: p-value не превышает и этого значения."
   ]
  },
  {
   "cell_type": "markdown",
   "id": "77bfd7b5",
   "metadata": {},
   "source": [
    "##### Можно ли сказать, что среднее расстояние, которое проезжают пользователи с подпиской за одну поездку, не превышает оптимального значения с точки зрения износа самоката?"
   ]
  },
  {
   "cell_type": "markdown",
   "id": "c5065c0f",
   "metadata": {},
   "source": [
    "Расстояние одной поездки в 3130 метров — оптимальное с точки зрения износа самоката.\n",
    "\n",
    "Проверим гипотезу о том, что среднее расстояние, которое проезжают пользователи с подпиской за одну поездку, не превышает 3130 метров.\n",
    "\n",
    "*Нулевая гипотеза:* средние расстояние одной поездки пользователей с подпиской равно 3130 метров.\n",
    "\n",
    "*Альтернативная гипотеза:* средние расстояние одной поездки пользователей с подпиской больше 3130 метров."
   ]
  },
  {
   "cell_type": "code",
   "execution_count": 46,
   "id": "2d0b6e35",
   "metadata": {},
   "outputs": [
    {
     "name": "stdout",
     "output_type": "stream",
     "text": [
      "Среднее значение: 3115.45\n",
      "p-значение: 0.9195368847849785\n",
      "Не получилось отвергнуть нулевую гипотезу\n"
     ]
    }
   ],
   "source": [
    "# используем специальный метод ttest_1samp() для проверки односторонней гипотезы\n",
    "\n",
    "# для наглядной оценки выведем среднее значение\n",
    "print('Среднее значение:', round(df_subs_ultra['distance'].mean(), 2))\n",
    "\n",
    "# устанавливаем проверяемое оптимальное значение\n",
    "optimal_value = 3130\n",
    "\n",
    "# задаём уровень статистической значимости\n",
    "alpha = 0.05\n",
    "\n",
    "# строит распределение со значением\n",
    "results_distance = st.ttest_1samp(df_subs_ultra['distance'], optimal_value, alternative='greater')\n",
    "\n",
    "print('p-значение:', results_distance.pvalue)\n",
    "\n",
    "# проверяем p-value\n",
    "if results_distance.pvalue < alpha:\n",
    "    print('Отвергаем нулевую гипотезу')\n",
    "else:\n",
    "    print('Не получилось отвергнуть нулевую гипотезу')"
   ]
  },
  {
   "cell_type": "markdown",
   "id": "eee0bff2",
   "metadata": {},
   "source": [
    "**Вывод:**\n",
    "\n",
    "Вероятность относительно высока — данные не дают основания отвергнуть это предположение.\n",
    "По-видимому, пользователи с подпиской действительно проезжают за одну поездку не более 3130 метров, что подтверждается и средним значением."
   ]
  },
  {
   "cell_type": "markdown",
   "id": "c66c0aea",
   "metadata": {},
   "source": [
    "##### Будет ли помесячная выручка от пользователей с подпиской по месяцам выше, чем выручка от пользователей без подписки?"
   ]
  },
  {
   "cell_type": "markdown",
   "id": "228737f2",
   "metadata": {},
   "source": [
    "Проверим гипотезу о том, что помесячная выручка от пользователей с подпиской выше, чем выручка от пользователей без подписки.\n",
    "\n",
    "*Нулевая гипотеза:* средние значения помесячной выручки пользователей из двух групп равны.\n",
    "\n",
    "*Альтернативная гипотеза:* среднее значение помесячной выручки пользователей с подпиской выше, чем среднее значение помесячной выручки пользователей без подписки."
   ]
  },
  {
   "cell_type": "code",
   "execution_count": 47,
   "id": "891866ca",
   "metadata": {},
   "outputs": [
    {
     "name": "stdout",
     "output_type": "stream",
     "text": [
      "Среднее помесячной выручки с подпиской: 362.79\n",
      "Среднее помесячной выручки без подписки: 329.41\n",
      "p-value: 2.533717465453254e-30\n",
      "Отвергаем нулевую гипотезу\n"
     ]
    }
   ],
   "source": [
    "# создадим датасеты с выборками для сравнения\n",
    "df_revenue_ultra = df_revenue[df_revenue['subscription_type'] == 'ultra']\n",
    "df_revenue_free = df_revenue[df_revenue['subscription_type'] == 'free']\n",
    "\n",
    "# для наглядной оценки выведем среднее значение для обоих датасетов\n",
    "print('Среднее помесячной выручки с подпиской:', round(df_revenue_ultra['monthly_revenue'].mean(), 2))\n",
    "print('Среднее помесячной выручки без подписки:', round(df_revenue_free['monthly_revenue'].mean(), 2))\n",
    "\n",
    "# задаём уровень значимости\n",
    "alpha = 0.05\n",
    "\n",
    "# проводим ttest для двух выборок, в качестве альтернативной используем одностороннюю гипотезу «больше»\n",
    "results_revenue = st.ttest_ind(df_revenue_ultra['monthly_revenue'], df_revenue_free['monthly_revenue'], alternative='greater')\n",
    "\n",
    "print(f'p-value: {results_revenue.pvalue}')\n",
    "\n",
    "# проверяем p-value\n",
    "if results_revenue.pvalue < alpha:\n",
    "    print('Отвергаем нулевую гипотезу')\n",
    "else:\n",
    "    print('Нет оснований отвергнуть нулевую гипотезу')"
   ]
  },
  {
   "cell_type": "markdown",
   "id": "3e3231a5",
   "metadata": {},
   "source": [
    "**Вывод:**\n",
    "\n",
    "Согласно данным есть основания говорить, что помесячная выручка от пользователей с подпиской выше, чем выручка от пользователей без подписки. По всей видимости, пользователи с подпиской могут быть «выгоднее» для компании."
   ]
  },
  {
   "cell_type": "markdown",
   "id": "f574f7ab",
   "metadata": {},
   "source": [
    "##### Теоретический кейс\n",
    "\n",
    "Представьте такую ситуацию: техническая команда сервиса обновила сервера, с которыми взаимодействует мобильное приложение. Она надеется, что из-за этого количество обращений в техподдержку значимо снизилось. Некоторый файл содержит для каждого пользователя данные о количестве обращений до обновления и после него. Какой тест вам понадобился бы для проверки этой гипотезы?\n",
    "\n",
    "**Ответ:**\n",
    "\n",
    "В данном случае выборки будут зависимыми, или — парными. Парная выборка означает, что некоторая переменная измеряется дважды для одних и тех же объектов. В данном примере это пара измерений для каждого пользователя — до и после обновлений серверов.\n",
    "\n",
    "Чтобы проверить гипотезу о равенстве среднего генеральной совокупности для зависимых (парных) выборок в Python, используется метод `scipy.stats.ttest_rel()`"
   ]
  },
  {
   "cell_type": "markdown",
   "id": "61213c5e",
   "metadata": {},
   "source": [
    "#### Шаг 7. Распределения (необязательное задание)"
   ]
  },
  {
   "cell_type": "markdown",
   "id": "86650006",
   "metadata": {},
   "source": [
    "##### Какое минимальное количество промокодов нужно разослать, чтобы вероятность не выполнить план была примерно 5 %?\n",
    "\n",
    "Отделу маркетинга GoFast поставили задачу: нужно провести акцию с раздачей промокодов на один бесплатный месяц подписки, в рамках которой как минимум 100 существующих клиентов должны продлить эту подписку. То есть по завершении периода действия подписки пользователь может либо отказаться от неё, либо продлить, совершив соответствующий платёж.\n",
    "\n",
    "Эта акция уже проводилась ранее и по итогу выяснилось, что после бесплатного пробного периода подписку продлевают 10 % пользователей. Необходимо выяснить, какое минимальное количество промокодов нужно разослать, чтобы вероятность не выполнить план была примерно 5 %.\n",
    "\n",
    "В представленном случае согласие *(успех)* или отказ *(неудача)* пользователя продлить подписку — это повторяющиеся независимые друг от друга испытания Бернулли. Значит, случайную величину можно описать `биномиальным распределением`.\n",
    "\n",
    "Чтобы определить биномиальное распределение, нужны два параметра: количество попыток n и вероятность успеха p.\n",
    "\n",
    "Известно, что после бесплатного пробного периода подписку продлевают 10 % пользователей, то есть вероятность успеха равна \n",
    "0.1. Тогда вероятность неудачи по схеме Бернулли равна 1 − 0.1 = 0.9.\n",
    "\n",
    "Так как в рамках акции как минимум 100 существующих клиентов должны продлить подписку, а по опыту проведения такой акции известно, что это 10 % пользователей, то допустим, отдел раздаёт 1000 промокодов, то есть n=1000."
   ]
  },
  {
   "cell_type": "code",
   "execution_count": 48,
   "id": "71bb5431",
   "metadata": {},
   "outputs": [
    {
     "data": {
      "image/png": "[encoded data removed]",
      "text/plain": [
       "<Figure size 432x288 with 1 Axes>"
      ]
     },
     "metadata": {
      "needs_background": "light"
     },
     "output_type": "display_data"
    }
   ],
   "source": [
    "# построим график биномиального распределения\n",
    "n = 1000 # количество попыток\n",
    "p = 0.1 # вероятность успеха\n",
    "\n",
    "distr = []\n",
    "\n",
    "for k in range(0, n + 1):\n",
    "    choose = factorial(n) / (factorial(k) * factorial(n - k))\n",
    "    prob = choose * p**k * (1 - p)**(n - k) \n",
    "    distr.append(prob)\n",
    "    \n",
    "plt.bar(range(0, n + 1), distr)\n",
    "None"
   ]
  },
  {
   "cell_type": "markdown",
   "id": "b2b3deb1",
   "metadata": {},
   "source": [
    "График симметричный. Он показывает, что при вероятности успеха *(p)*, равной 1 %, и 1000 попытках *(n)* вероятность, что случится 100 успехов, довольно высока.\n",
    "\n",
    "Далее, чтобы найти минимальное количество промокодов, будем использовать кумулятивную функцию распределения (CDF) для биномиального распределения.\n",
    "\n",
    "В нашем случае нужно найти такое число *n*, чтобы вероятность получить меньше 100 купонов составляла 0.05."
   ]
  },
  {
   "cell_type": "code",
   "execution_count": 49,
   "id": "388ddd17",
   "metadata": {},
   "outputs": [
    {
     "name": "stdout",
     "output_type": "stream",
     "text": [
      "Минимальное количество промокодов: 1161\n"
     ]
    }
   ],
   "source": [
    "# рассчитаем кумулятивную функцию распределения (CDF) непосредственно для каждого значения n\n",
    "# переберём значения n в указанном диапазоне, чтобы определить, \n",
    "# меньше ли совокупная вероятность получения 99 или менее успехов (выполнения плана) при 0,05 \n",
    "\n",
    "for n in range (500, 1500):\n",
    "    if binom.cdf(99, n, p) < 0.05:\n",
    "        print(\"Минимальное количество промокодов:\", n)\n",
    "        break"
   ]
  },
  {
   "cell_type": "markdown",
   "id": "83d3563f",
   "metadata": {},
   "source": [
    "**Вывод:**\n",
    "\n",
    "Чтобы вероятность не выполнить план была примерно 5 %, минимальное количество промокодов, которое нужно разослать составляет 1161."
   ]
  },
  {
   "cell_type": "markdown",
   "id": "5e103477",
   "metadata": {},
   "source": [
    "##### Оценить вероятность того, что уведомление откроют не более заявленного числа пользователей"
   ]
  },
  {
   "cell_type": "markdown",
   "id": "ef5a9ff2",
   "metadata": {},
   "source": [
    "Отдел маркетинга рассылает клиентам push-уведомления в мобильном приложении. Клиенты могут открыть его или не открывать. \n",
    "\n",
    "Известно, что уведомления открывают около 40 % получивших клиентов. Отдел планирует разослать 1 млн уведомлений. \n",
    "\n",
    "1. С помощью аппроксимации построим примерный график распределения.\n",
    "2. Оценим вероятность того, что уведомление откроют не более 399,5 тыс. пользователей."
   ]
  },
  {
   "cell_type": "code",
   "execution_count": 50,
   "id": "0091e2b8",
   "metadata": {},
   "outputs": [
    {
     "data": {
      "image/png": "[encoded data removed]",
      "text/plain": [
       "<Figure size 432x288 with 1 Axes>"
      ]
     },
     "metadata": {
      "needs_background": "light"
     },
     "output_type": "display_data"
    },
    {
     "name": "stdout",
     "output_type": "stream",
     "text": [
      "P(X≤399500) = 0.1537\n"
     ]
    }
   ],
   "source": [
    "# задаём параметры биномиального распределения\n",
    "n = 1000000\n",
    "p = 0.4\n",
    "\n",
    "# задаём параметры нормального распределения равными\n",
    "# мат.ожиданию и дисперсии биномиального распределения\n",
    "mu = n * p\n",
    "sigma = np.sqrt(n * p * (1 - p))\n",
    "\n",
    "# задаём нормальное распределение\n",
    "distr = st.norm(mu, sigma)\n",
    "# зададим набор значений биномиальной величины на выбранном промежутке\n",
    "x = np.linspace(mu - 4 * sigma, mu + 4 * sigma, 1000)\n",
    "\n",
    "# рисуем график нормального распределения\n",
    "plt.plot(x, distr.pdf(x), label=\"Normal Distribution PDF\")\n",
    "\n",
    "# вычисляем кумулятивную вероятность (CDF) для конкретного значения\n",
    "value = 399500\n",
    "probability = distr.cdf(value)\n",
    "\n",
    "# отмечаем точку на кривой распределения\n",
    "plt.axvline(value, color='red', linestyle='--', label=f'X={value}')\n",
    "plt.fill_between(x, 0, distr.pdf(x), where=(x <= value), alpha=0.2, color='red', label=f'P(X≤{value}) = {probability:.4f}')\n",
    "plt.legend()\n",
    "plt.xlabel('X')\n",
    "plt.ylabel('Плотность вероятности')\n",
    "plt.title('Нормальное распределение и кумулятивная вероятность')\n",
    "plt.grid(True)\n",
    "plt.show()\n",
    "\n",
    "print(f'P(X≤{value}) = {probability:.4f}')"
   ]
  },
  {
   "cell_type": "markdown",
   "id": "0b594ceb",
   "metadata": {},
   "source": [
    "**Вывод:**\n",
    "\n",
    "Построен график нормального распределения и отмечена кумулятивная вероятность для данного значения.\n",
    "\n",
    "Вероятность того, что уведомление откроют не более 399,5 тыс. пользователей составляет чуть более 15 %."
   ]
  },
  {
   "cell_type": "markdown",
   "id": "cf9035b1",
   "metadata": {},
   "source": [
    "#### Общий вывод"
   ]
  },
  {
   "cell_type": "markdown",
   "id": "ae05c4fe",
   "metadata": {},
   "source": [
    "На данных сервиса аренды самокатов GoFast было проведено исследование с **целью** проверки предположений. Результаты анализа будут учитываться при реализации дальнейших стратегий развития бизнеса. В частности, расширение аудотории пользователей с подпиской.\n",
    "\n",
    "Работа включала предварительный этап и собственно исследование.\n",
    "\n",
    "На **предварительном этапе** мы изучили основную информацию о трёх датафреймах, определили количество и тип данных в таблицах, проверили столбцы на наличие пропущенных значений, преобразовали тип значений в нужных столбцах, избавились от дубликатов и убедились, что все данные готовы к более подробному исследовательскому анализу. \n",
    "\n",
    "Исследование предполагало анализ информации о пользователях, их поездках и подписках. В частности, были изучены данные о двух группах пользователей сервиса аренды самокатов:\n",
    "- пользователи без подписки \n",
    "- пользователи с подпиской\n",
    "\n",
    "На **этапе иследования** мы провели анализ данных с использованием релевантных методов и подходов, что позволило в некоторой степени оценить интересующие бизнес предположения. \n",
    "\n",
    "**1) Тратят ли пользователи с подпиской больше времени на поездки?** \n",
    "\n",
    "По результатам проверки односторонней гипотезы для средних двух генеральных совокупностей, представленных двумя выборками, были получены значения *(p-value)*, которые дают достаточное основание отвергнуть нулевую гипотезу о равенстве средних значений двух совокупностей для выбранного уровня значимости *(5 %)*. Следовательно, можно сделать вывод, что пользователи с подпиской тратят больше времени на поездки.\n",
    "\n",
    "**2) Можно ли сказать, что среднее расстояние, которое проезжают пользователи с подпиской за одну поездку, не превышает оптимального значения с точки зрения износа самоката?** \n",
    "\n",
    "По результатам проверки двусторонный гипотезы для среднего генеральной совокупности, представленной одной выборкой, были получены значения *(p-value)*, которые не дают достаточное основание отвергнуть предположение о равенстве среднего генеральной совокупности числу для выбранного уровня значимости *(5 %)*. По-видимому, пользователи с подпиской действительно проезжают за одну поездку не более оптимального значения с точки зрения износа самоката — 3130 метров.\n",
    "\n",
    "**3) Будет ли помесячная выручка от пользователей с подпиской выше, чем выручка от пользователей без подписки?**\n",
    "\n",
    "По результатам проверки односторонней гипотезы для средних двух генеральных совокупностей, представленных двумя выборками, были получены значения *(p-value)*, которые дают достаточное основание отвергнуть нулевую гипотезу о равенстве средних значений двух совокупностей для выбранного уровня значимости *(5 %)*. Значит, есть основания говорить, что помесячная выручка от пользователей с подпиской выше, чем выручка от пользователей без подписки. По всей видимости, пользователи с подпиской могут быть «выгоднее» для компании.\n",
    "\n",
    "**4) Какое минимальное количество промокодов нужно разослать, чтобы вероятность не выполнить план отдела маркетинга была примерно 5 %?**\n",
    "\n",
    "В представленном кейсе согласие или отказ пользователя продлить подписку по завершении периода акции — это повторяющиеся независимые друг от друга испытания Бернулли. Значит, случайную величину можно описать биномиальным распределением.\n",
    "\n",
    "Симметричный график показал, что при вероятности успеха *(p)*, равной 1 %, и 1000 попытках *(n)* вероятность, что случится 100 успехов, довольно высока.\n",
    "\n",
    "Результат применения кумулятивной функции *(CDF)* для биномиального распределения позволяет говорить, что минимальное количество промокодов, которое нужно разослать, чтобы вероятность не выполнить план была примерно 5 %, составляет значение 1161.\n",
    "\n",
    "**5) Оценить вероятность того, что уведомление откроют не более заявленного числа пользователей.**\n",
    "\n",
    "С помощью аппроксимации биномиального распределения нормальным, был построен примерный график нормального распределения и отмечена кумулятивная вероятность для указанного значения.\n",
    "\n",
    "Вероятность того, что уведомление откроют не более 399,5 тыс. пользователей составляет чуть более 15 % — *P(X≤399500) = 0.1537*.\n",
    "\n",
    "Согласно результатам проведенного исследования можно заключить, что дальнейшие стратегии бизнеса по расширению аудотории пользователей с подпиской могут быть вполне оправданы — пользователи с подпиской «выгоднее» для компании."
   ]
  }
 ],
 "metadata": {
  "ExecuteTimeLog": [
   {
    "duration": 1280,
    "start_time": "2023-10-09T15:29:18.333Z"
   },
   {
    "duration": 3,
    "start_time": "2023-10-09T15:32:27.601Z"
   },
   {
    "duration": 3,
    "start_time": "2023-10-09T15:34:00.196Z"
   },
   {
    "duration": 3,
    "start_time": "2023-10-09T15:37:53.337Z"
   },
   {
    "duration": 3,
    "start_time": "2023-10-09T15:37:54.354Z"
   },
   {
    "duration": 3,
    "start_time": "2023-10-09T16:48:22.383Z"
   },
   {
    "duration": 214,
    "start_time": "2023-10-09T16:55:32.729Z"
   },
   {
    "duration": 4,
    "start_time": "2023-10-09T17:04:26.012Z"
   },
   {
    "duration": 4,
    "start_time": "2023-10-09T17:04:27.548Z"
   },
   {
    "duration": 74,
    "start_time": "2023-10-09T17:04:28.535Z"
   },
   {
    "duration": 24,
    "start_time": "2023-10-09T17:04:31.596Z"
   },
   {
    "duration": 17,
    "start_time": "2023-10-09T17:10:29.913Z"
   },
   {
    "duration": 20,
    "start_time": "2023-10-09T17:17:38.888Z"
   },
   {
    "duration": 1383,
    "start_time": "2023-10-09T22:16:49.815Z"
   },
   {
    "duration": 5,
    "start_time": "2023-10-09T22:16:51.201Z"
   },
   {
    "duration": 3,
    "start_time": "2023-10-09T22:16:53.341Z"
   },
   {
    "duration": 12,
    "start_time": "2023-10-09T22:16:54.002Z"
   },
   {
    "duration": 209,
    "start_time": "2023-10-09T22:16:57.838Z"
   },
   {
    "duration": 26,
    "start_time": "2023-10-09T22:17:04.270Z"
   },
   {
    "duration": 21,
    "start_time": "2023-10-09T22:17:08.649Z"
   },
   {
    "duration": 20,
    "start_time": "2023-10-09T22:17:13.351Z"
   },
   {
    "duration": 8,
    "start_time": "2023-10-09T22:36:18.368Z"
   },
   {
    "duration": 4,
    "start_time": "2023-10-09T22:37:11.177Z"
   },
   {
    "duration": 75,
    "start_time": "2023-10-09T22:37:11.892Z"
   },
   {
    "duration": 18,
    "start_time": "2023-10-09T22:37:13.324Z"
   },
   {
    "duration": 19,
    "start_time": "2023-10-09T22:37:15.524Z"
   },
   {
    "duration": 16,
    "start_time": "2023-10-09T22:37:21.232Z"
   },
   {
    "duration": 8,
    "start_time": "2023-10-09T22:37:25.712Z"
   },
   {
    "duration": 3,
    "start_time": "2023-10-09T22:39:04.945Z"
   },
   {
    "duration": 74,
    "start_time": "2023-10-09T22:39:05.801Z"
   },
   {
    "duration": 22,
    "start_time": "2023-10-09T22:39:07.173Z"
   },
   {
    "duration": 24,
    "start_time": "2023-10-09T22:39:09.312Z"
   },
   {
    "duration": 15,
    "start_time": "2023-10-09T22:39:11.483Z"
   },
   {
    "duration": 12,
    "start_time": "2023-10-09T22:39:16.297Z"
   },
   {
    "duration": 14,
    "start_time": "2023-10-09T22:50:29.701Z"
   },
   {
    "duration": 9,
    "start_time": "2023-10-09T22:51:00.015Z"
   },
   {
    "duration": 8,
    "start_time": "2023-10-09T22:52:40.332Z"
   },
   {
    "duration": 115,
    "start_time": "2023-10-09T22:55:04.731Z"
   },
   {
    "duration": 8,
    "start_time": "2023-10-09T22:55:20.817Z"
   },
   {
    "duration": 5,
    "start_time": "2023-10-09T23:04:00.010Z"
   },
   {
    "duration": 3,
    "start_time": "2023-10-09T23:04:00.632Z"
   },
   {
    "duration": 68,
    "start_time": "2023-10-09T23:04:01.314Z"
   },
   {
    "duration": 16,
    "start_time": "2023-10-09T23:04:02.640Z"
   },
   {
    "duration": 20,
    "start_time": "2023-10-09T23:04:04.708Z"
   },
   {
    "duration": 19,
    "start_time": "2023-10-09T23:04:06.805Z"
   },
   {
    "duration": 8,
    "start_time": "2023-10-09T23:04:10.749Z"
   },
   {
    "duration": 8,
    "start_time": "2023-10-09T23:04:14.322Z"
   },
   {
    "duration": 7,
    "start_time": "2023-10-09T23:04:18.460Z"
   },
   {
    "duration": 10,
    "start_time": "2023-10-09T23:04:31.885Z"
   },
   {
    "duration": 11,
    "start_time": "2023-10-09T23:14:09.054Z"
   },
   {
    "duration": 7,
    "start_time": "2023-10-09T23:14:28.643Z"
   },
   {
    "duration": 20,
    "start_time": "2023-10-09T23:45:38.675Z"
   },
   {
    "duration": 22,
    "start_time": "2023-10-09T23:46:55.995Z"
   },
   {
    "duration": 6,
    "start_time": "2023-10-09T23:49:15.559Z"
   },
   {
    "duration": 5,
    "start_time": "2023-10-09T23:57:21.837Z"
   },
   {
    "duration": 5,
    "start_time": "2023-10-10T00:03:53.551Z"
   },
   {
    "duration": 10,
    "start_time": "2023-10-10T01:13:07.150Z"
   },
   {
    "duration": 19,
    "start_time": "2023-10-10T01:14:41.730Z"
   },
   {
    "duration": 13,
    "start_time": "2023-10-10T01:15:01.493Z"
   },
   {
    "duration": 16,
    "start_time": "2023-10-10T01:16:44.647Z"
   },
   {
    "duration": 10,
    "start_time": "2023-10-10T01:20:53.998Z"
   },
   {
    "duration": 13,
    "start_time": "2023-10-10T01:21:05.439Z"
   },
   {
    "duration": 14,
    "start_time": "2023-10-10T01:27:28.479Z"
   },
   {
    "duration": 160,
    "start_time": "2023-10-10T01:28:03.899Z"
   },
   {
    "duration": 147,
    "start_time": "2023-10-10T02:21:29.530Z"
   },
   {
    "duration": 147,
    "start_time": "2023-10-10T02:22:25.759Z"
   },
   {
    "duration": 27,
    "start_time": "2023-10-10T02:24:12.240Z"
   },
   {
    "duration": 159,
    "start_time": "2023-10-10T02:24:26.123Z"
   },
   {
    "duration": 171,
    "start_time": "2023-10-10T02:24:49.288Z"
   },
   {
    "duration": 166,
    "start_time": "2023-10-10T02:25:35.755Z"
   },
   {
    "duration": 169,
    "start_time": "2023-10-10T02:40:23.247Z"
   },
   {
    "duration": 187,
    "start_time": "2023-10-10T02:42:22.535Z"
   },
   {
    "duration": 269,
    "start_time": "2023-10-10T02:42:43.253Z"
   },
   {
    "duration": 185,
    "start_time": "2023-10-10T02:43:56.700Z"
   },
   {
    "duration": 190,
    "start_time": "2023-10-10T02:44:47.315Z"
   },
   {
    "duration": 1424,
    "start_time": "2023-10-10T14:53:35.015Z"
   },
   {
    "duration": 3,
    "start_time": "2023-10-10T14:53:36.441Z"
   },
   {
    "duration": 2,
    "start_time": "2023-10-10T14:53:37.748Z"
   },
   {
    "duration": 3,
    "start_time": "2023-10-10T14:53:38.422Z"
   },
   {
    "duration": 199,
    "start_time": "2023-10-10T14:53:39.103Z"
   },
   {
    "duration": 21,
    "start_time": "2023-10-10T14:53:40.390Z"
   },
   {
    "duration": 16,
    "start_time": "2023-10-10T14:53:42.802Z"
   },
   {
    "duration": 14,
    "start_time": "2023-10-10T14:53:44.952Z"
   },
   {
    "duration": 7,
    "start_time": "2023-10-10T14:53:48.465Z"
   },
   {
    "duration": 7,
    "start_time": "2023-10-10T14:53:49.828Z"
   },
   {
    "duration": 5,
    "start_time": "2023-10-10T14:53:53.090Z"
   },
   {
    "duration": 10,
    "start_time": "2023-10-10T14:54:17.823Z"
   },
   {
    "duration": 22,
    "start_time": "2023-10-10T14:54:19.480Z"
   },
   {
    "duration": 5,
    "start_time": "2023-10-10T14:54:20.234Z"
   },
   {
    "duration": 6,
    "start_time": "2023-10-10T14:54:22.336Z"
   },
   {
    "duration": 13,
    "start_time": "2023-10-10T14:54:26.213Z"
   },
   {
    "duration": 155,
    "start_time": "2023-10-10T14:54:27.268Z"
   },
   {
    "duration": 148,
    "start_time": "2023-10-10T14:55:44.841Z"
   },
   {
    "duration": 165,
    "start_time": "2023-10-10T14:55:47.480Z"
   },
   {
    "duration": 168,
    "start_time": "2023-10-10T15:08:32.582Z"
   },
   {
    "duration": 201,
    "start_time": "2023-10-10T15:36:49.982Z"
   },
   {
    "duration": 196,
    "start_time": "2023-10-10T15:37:30.037Z"
   },
   {
    "duration": 226,
    "start_time": "2023-10-10T15:37:55.685Z"
   },
   {
    "duration": 26,
    "start_time": "2023-10-10T16:45:18.171Z"
   },
   {
    "duration": 103,
    "start_time": "2023-10-10T16:47:41.649Z"
   },
   {
    "duration": 17,
    "start_time": "2023-10-10T16:48:18.345Z"
   },
   {
    "duration": 17,
    "start_time": "2023-10-10T16:48:48.734Z"
   },
   {
    "duration": 23,
    "start_time": "2023-10-10T16:50:56.910Z"
   },
   {
    "duration": 23,
    "start_time": "2023-10-10T16:52:41.286Z"
   },
   {
    "duration": 24,
    "start_time": "2023-10-10T16:52:55.757Z"
   },
   {
    "duration": 16,
    "start_time": "2023-10-10T16:54:14.967Z"
   },
   {
    "duration": 22,
    "start_time": "2023-10-10T16:54:31.231Z"
   },
   {
    "duration": 8,
    "start_time": "2023-10-10T17:19:25.274Z"
   },
   {
    "duration": 14,
    "start_time": "2023-10-10T17:20:01.085Z"
   },
   {
    "duration": 21,
    "start_time": "2023-10-10T17:20:46.049Z"
   },
   {
    "duration": 13,
    "start_time": "2023-10-10T17:24:49.274Z"
   },
   {
    "duration": 14,
    "start_time": "2023-10-10T17:24:50.223Z"
   },
   {
    "duration": 284,
    "start_time": "2023-10-10T17:39:06.805Z"
   },
   {
    "duration": 153,
    "start_time": "2023-10-10T17:51:53.037Z"
   },
   {
    "duration": 226,
    "start_time": "2023-10-10T17:54:11.233Z"
   },
   {
    "duration": 189,
    "start_time": "2023-10-10T17:55:49.143Z"
   },
   {
    "duration": 195,
    "start_time": "2023-10-10T17:56:57.470Z"
   },
   {
    "duration": 192,
    "start_time": "2023-10-10T17:57:27.469Z"
   },
   {
    "duration": 268,
    "start_time": "2023-10-10T17:59:26.077Z"
   },
   {
    "duration": 236,
    "start_time": "2023-10-10T18:03:12.077Z"
   },
   {
    "duration": 280,
    "start_time": "2023-10-10T18:06:04.186Z"
   },
   {
    "duration": 3,
    "start_time": "2023-10-10T18:36:41.695Z"
   },
   {
    "duration": 2,
    "start_time": "2023-10-10T18:36:42.367Z"
   },
   {
    "duration": 2,
    "start_time": "2023-10-10T18:36:44.384Z"
   },
   {
    "duration": 3,
    "start_time": "2023-10-10T18:36:45.067Z"
   },
   {
    "duration": 69,
    "start_time": "2023-10-10T18:36:45.703Z"
   },
   {
    "duration": 16,
    "start_time": "2023-10-10T18:36:46.963Z"
   },
   {
    "duration": 16,
    "start_time": "2023-10-10T18:36:49.164Z"
   },
   {
    "duration": 15,
    "start_time": "2023-10-10T18:36:51.172Z"
   },
   {
    "duration": 7,
    "start_time": "2023-10-10T18:36:54.584Z"
   },
   {
    "duration": 10,
    "start_time": "2023-10-10T18:36:55.965Z"
   },
   {
    "duration": 5,
    "start_time": "2023-10-10T18:36:57.191Z"
   },
   {
    "duration": 9,
    "start_time": "2023-10-10T18:36:59.181Z"
   },
   {
    "duration": 16,
    "start_time": "2023-10-10T18:37:00.567Z"
   },
   {
    "duration": 5,
    "start_time": "2023-10-10T18:37:01.270Z"
   },
   {
    "duration": 6,
    "start_time": "2023-10-10T18:37:03.673Z"
   },
   {
    "duration": 12,
    "start_time": "2023-10-10T18:37:07.564Z"
   },
   {
    "duration": 125,
    "start_time": "2023-10-10T18:37:08.711Z"
   },
   {
    "duration": 138,
    "start_time": "2023-10-10T18:37:19.416Z"
   },
   {
    "duration": 234,
    "start_time": "2023-10-10T18:37:23.222Z"
   },
   {
    "duration": 162,
    "start_time": "2023-10-10T18:37:36.764Z"
   },
   {
    "duration": 167,
    "start_time": "2023-10-10T18:37:40.733Z"
   },
   {
    "duration": 15,
    "start_time": "2023-10-10T18:37:45.170Z"
   },
   {
    "duration": 25,
    "start_time": "2023-10-10T18:37:45.867Z"
   },
   {
    "duration": 15,
    "start_time": "2023-10-10T18:37:48.165Z"
   },
   {
    "duration": 13,
    "start_time": "2023-10-10T18:37:48.968Z"
   },
   {
    "duration": 233,
    "start_time": "2023-10-10T18:38:01.495Z"
   },
   {
    "duration": 260,
    "start_time": "2023-10-10T18:38:02.323Z"
   },
   {
    "duration": 1624,
    "start_time": "2023-10-10T21:43:44.179Z"
   },
   {
    "duration": 2,
    "start_time": "2023-10-10T21:43:45.806Z"
   },
   {
    "duration": 5,
    "start_time": "2023-10-10T21:43:46.922Z"
   },
   {
    "duration": 3,
    "start_time": "2023-10-10T21:43:47.587Z"
   },
   {
    "duration": 278,
    "start_time": "2023-10-10T21:43:48.276Z"
   },
   {
    "duration": 31,
    "start_time": "2023-10-10T21:43:49.581Z"
   },
   {
    "duration": 19,
    "start_time": "2023-10-10T21:43:51.635Z"
   },
   {
    "duration": 24,
    "start_time": "2023-10-10T21:43:53.722Z"
   },
   {
    "duration": 11,
    "start_time": "2023-10-10T21:43:57.025Z"
   },
   {
    "duration": 9,
    "start_time": "2023-10-10T21:43:58.334Z"
   },
   {
    "duration": 9,
    "start_time": "2023-10-10T21:43:59.726Z"
   },
   {
    "duration": 10,
    "start_time": "2023-10-10T21:44:01.679Z"
   },
   {
    "duration": 15,
    "start_time": "2023-10-10T21:44:03.245Z"
   },
   {
    "duration": 13,
    "start_time": "2023-10-10T21:44:05.325Z"
   },
   {
    "duration": 12,
    "start_time": "2023-10-10T21:44:07.426Z"
   },
   {
    "duration": 33,
    "start_time": "2023-10-10T21:44:12.398Z"
   },
   {
    "duration": 183,
    "start_time": "2023-10-10T21:44:13.080Z"
   },
   {
    "duration": 186,
    "start_time": "2023-10-10T21:44:15.195Z"
   },
   {
    "duration": 230,
    "start_time": "2023-10-10T21:44:18.187Z"
   },
   {
    "duration": 207,
    "start_time": "2023-10-10T21:44:19.540Z"
   },
   {
    "duration": 262,
    "start_time": "2023-10-10T21:44:21.685Z"
   },
   {
    "duration": 18,
    "start_time": "2023-10-10T21:44:24.878Z"
   },
   {
    "duration": 28,
    "start_time": "2023-10-10T21:44:25.632Z"
   },
   {
    "duration": 19,
    "start_time": "2023-10-10T21:44:27.738Z"
   },
   {
    "duration": 23,
    "start_time": "2023-10-10T21:44:28.427Z"
   },
   {
    "duration": 329,
    "start_time": "2023-10-10T21:44:30.726Z"
   },
   {
    "duration": 309,
    "start_time": "2023-10-10T21:44:31.385Z"
   },
   {
    "duration": 271,
    "start_time": "2023-10-10T22:04:16.003Z"
   },
   {
    "duration": 187,
    "start_time": "2023-10-10T22:05:04.543Z"
   },
   {
    "duration": 209,
    "start_time": "2023-10-10T22:05:25.021Z"
   },
   {
    "duration": 312,
    "start_time": "2023-10-10T22:07:05.779Z"
   },
   {
    "duration": 183,
    "start_time": "2023-10-10T22:09:08.893Z"
   },
   {
    "duration": 201,
    "start_time": "2023-10-10T22:09:43.744Z"
   },
   {
    "duration": 194,
    "start_time": "2023-10-10T22:10:53.901Z"
   },
   {
    "duration": 27,
    "start_time": "2023-10-10T22:36:56.797Z"
   },
   {
    "duration": 35,
    "start_time": "2023-10-10T22:39:16.796Z"
   },
   {
    "duration": 3038,
    "start_time": "2023-10-10T22:42:47.070Z"
   },
   {
    "duration": 2447,
    "start_time": "2023-10-10T22:43:31.230Z"
   },
   {
    "duration": 3538,
    "start_time": "2023-10-10T22:45:19.936Z"
   },
   {
    "duration": 21,
    "start_time": "2023-10-10T22:55:25.064Z"
   },
   {
    "duration": 5,
    "start_time": "2023-10-11T01:12:15.780Z"
   },
   {
    "duration": 3,
    "start_time": "2023-10-11T01:12:16.426Z"
   },
   {
    "duration": 3,
    "start_time": "2023-10-11T01:12:18.419Z"
   },
   {
    "duration": 3,
    "start_time": "2023-10-11T01:12:19.055Z"
   },
   {
    "duration": 82,
    "start_time": "2023-10-11T01:12:19.643Z"
   },
   {
    "duration": 25,
    "start_time": "2023-10-11T01:12:20.901Z"
   },
   {
    "duration": 24,
    "start_time": "2023-10-11T01:12:24.832Z"
   },
   {
    "duration": 16,
    "start_time": "2023-10-11T01:12:41.375Z"
   },
   {
    "duration": 12,
    "start_time": "2023-10-11T01:12:47.383Z"
   },
   {
    "duration": 12,
    "start_time": "2023-10-11T01:12:49.057Z"
   },
   {
    "duration": 7,
    "start_time": "2023-10-11T01:12:50.519Z"
   },
   {
    "duration": 10,
    "start_time": "2023-10-11T01:12:52.747Z"
   },
   {
    "duration": 19,
    "start_time": "2023-10-11T01:12:56.175Z"
   },
   {
    "duration": 10,
    "start_time": "2023-10-11T01:12:57.108Z"
   },
   {
    "duration": 7,
    "start_time": "2023-10-11T01:12:59.290Z"
   },
   {
    "duration": 28,
    "start_time": "2023-10-11T01:13:02.992Z"
   },
   {
    "duration": 179,
    "start_time": "2023-10-11T01:13:05.252Z"
   },
   {
    "duration": 170,
    "start_time": "2023-10-11T01:13:11.566Z"
   },
   {
    "duration": 228,
    "start_time": "2023-10-11T01:13:25.345Z"
   },
   {
    "duration": 197,
    "start_time": "2023-10-11T01:13:28.286Z"
   },
   {
    "duration": 235,
    "start_time": "2023-10-11T01:13:32.262Z"
   },
   {
    "duration": 19,
    "start_time": "2023-10-11T01:13:36.241Z"
   },
   {
    "duration": 27,
    "start_time": "2023-10-11T01:13:37.119Z"
   },
   {
    "duration": 19,
    "start_time": "2023-10-11T01:13:40.158Z"
   },
   {
    "duration": 33,
    "start_time": "2023-10-11T01:13:41.286Z"
   },
   {
    "duration": 192,
    "start_time": "2023-10-11T01:13:44.039Z"
   },
   {
    "duration": 188,
    "start_time": "2023-10-11T01:13:46.180Z"
   },
   {
    "duration": 24,
    "start_time": "2023-10-11T01:13:51.576Z"
   },
   {
    "duration": 31,
    "start_time": "2023-10-11T01:31:14.530Z"
   },
   {
    "duration": 28,
    "start_time": "2023-10-11T01:32:00.984Z"
   },
   {
    "duration": 24,
    "start_time": "2023-10-11T02:08:30.858Z"
   },
   {
    "duration": 25,
    "start_time": "2023-10-11T02:10:06.131Z"
   },
   {
    "duration": 45,
    "start_time": "2023-10-11T02:10:42.680Z"
   },
   {
    "duration": 124,
    "start_time": "2023-10-11T02:12:23.991Z"
   },
   {
    "duration": 55,
    "start_time": "2023-10-11T02:21:28.100Z"
   },
   {
    "duration": 4,
    "start_time": "2023-10-11T02:24:07.497Z"
   },
   {
    "duration": 2,
    "start_time": "2023-10-11T02:24:08.174Z"
   },
   {
    "duration": 3,
    "start_time": "2023-10-11T02:24:10.391Z"
   },
   {
    "duration": 5,
    "start_time": "2023-10-11T02:24:10.700Z"
   },
   {
    "duration": 64,
    "start_time": "2023-10-11T02:24:11.532Z"
   },
   {
    "duration": 16,
    "start_time": "2023-10-11T02:24:12.741Z"
   },
   {
    "duration": 22,
    "start_time": "2023-10-11T02:24:14.860Z"
   },
   {
    "duration": 15,
    "start_time": "2023-10-11T02:24:17.072Z"
   },
   {
    "duration": 12,
    "start_time": "2023-10-11T02:24:20.626Z"
   },
   {
    "duration": 8,
    "start_time": "2023-10-11T02:24:22.652Z"
   },
   {
    "duration": 14,
    "start_time": "2023-10-11T02:24:24.123Z"
   },
   {
    "duration": 10,
    "start_time": "2023-10-11T02:24:26.276Z"
   },
   {
    "duration": 20,
    "start_time": "2023-10-11T02:24:27.632Z"
   },
   {
    "duration": 7,
    "start_time": "2023-10-11T02:24:28.319Z"
   },
   {
    "duration": 6,
    "start_time": "2023-10-11T02:24:30.651Z"
   },
   {
    "duration": 19,
    "start_time": "2023-10-11T02:24:34.558Z"
   },
   {
    "duration": 180,
    "start_time": "2023-10-11T02:24:35.365Z"
   },
   {
    "duration": 199,
    "start_time": "2023-10-11T02:24:38.298Z"
   },
   {
    "duration": 210,
    "start_time": "2023-10-11T02:24:40.636Z"
   },
   {
    "duration": 220,
    "start_time": "2023-10-11T02:24:43.326Z"
   },
   {
    "duration": 220,
    "start_time": "2023-10-11T02:24:45.774Z"
   },
   {
    "duration": 26,
    "start_time": "2023-10-11T02:24:48.626Z"
   },
   {
    "duration": 28,
    "start_time": "2023-10-11T02:24:49.278Z"
   },
   {
    "duration": 16,
    "start_time": "2023-10-11T02:24:51.558Z"
   },
   {
    "duration": 38,
    "start_time": "2023-10-11T02:24:52.298Z"
   },
   {
    "duration": 217,
    "start_time": "2023-10-11T02:24:54.179Z"
   },
   {
    "duration": 205,
    "start_time": "2023-10-11T02:24:55.041Z"
   },
   {
    "duration": 61,
    "start_time": "2023-10-11T02:24:58.596Z"
   },
   {
    "duration": 35,
    "start_time": "2023-10-11T02:25:05.135Z"
   },
   {
    "duration": 3,
    "start_time": "2023-10-11T02:27:38.092Z"
   },
   {
    "duration": 3,
    "start_time": "2023-10-11T02:27:38.689Z"
   },
   {
    "duration": 3,
    "start_time": "2023-10-11T02:27:40.556Z"
   },
   {
    "duration": 3,
    "start_time": "2023-10-11T02:27:41.195Z"
   },
   {
    "duration": 86,
    "start_time": "2023-10-11T02:27:41.882Z"
   },
   {
    "duration": 20,
    "start_time": "2023-10-11T02:27:43.125Z"
   },
   {
    "duration": 18,
    "start_time": "2023-10-11T02:27:45.171Z"
   },
   {
    "duration": 16,
    "start_time": "2023-10-11T02:27:47.142Z"
   },
   {
    "duration": 7,
    "start_time": "2023-10-11T02:27:50.282Z"
   },
   {
    "duration": 9,
    "start_time": "2023-10-11T02:27:51.626Z"
   },
   {
    "duration": 9,
    "start_time": "2023-10-11T02:27:53.022Z"
   },
   {
    "duration": 12,
    "start_time": "2023-10-11T02:27:55.033Z"
   },
   {
    "duration": 26,
    "start_time": "2023-10-11T02:27:56.894Z"
   },
   {
    "duration": 5,
    "start_time": "2023-10-11T02:27:57.651Z"
   },
   {
    "duration": 7,
    "start_time": "2023-10-11T02:28:00.000Z"
   },
   {
    "duration": 17,
    "start_time": "2023-10-11T02:28:04.772Z"
   },
   {
    "duration": 167,
    "start_time": "2023-10-11T02:28:05.479Z"
   },
   {
    "duration": 173,
    "start_time": "2023-10-11T02:28:07.871Z"
   },
   {
    "duration": 217,
    "start_time": "2023-10-11T02:28:10.285Z"
   },
   {
    "duration": 263,
    "start_time": "2023-10-11T02:28:12.477Z"
   },
   {
    "duration": 356,
    "start_time": "2023-10-11T02:28:14.603Z"
   },
   {
    "duration": 20,
    "start_time": "2023-10-11T02:28:19.425Z"
   },
   {
    "duration": 26,
    "start_time": "2023-10-11T02:28:20.129Z"
   },
   {
    "duration": 20,
    "start_time": "2023-10-11T02:28:22.444Z"
   },
   {
    "duration": 15,
    "start_time": "2023-10-11T02:28:23.035Z"
   },
   {
    "duration": 267,
    "start_time": "2023-10-11T02:28:24.633Z"
   },
   {
    "duration": 230,
    "start_time": "2023-10-11T02:28:25.357Z"
   },
   {
    "duration": 23,
    "start_time": "2023-10-11T02:28:29.057Z"
   },
   {
    "duration": 39,
    "start_time": "2023-10-11T02:28:37.096Z"
   },
   {
    "duration": 22,
    "start_time": "2023-10-11T02:29:08.129Z"
   },
   {
    "duration": 3,
    "start_time": "2023-10-11T02:29:19.885Z"
   },
   {
    "duration": 4,
    "start_time": "2023-10-11T02:29:20.525Z"
   },
   {
    "duration": 3,
    "start_time": "2023-10-11T02:29:22.494Z"
   },
   {
    "duration": 7,
    "start_time": "2023-10-11T02:29:23.208Z"
   },
   {
    "duration": 84,
    "start_time": "2023-10-11T02:29:23.871Z"
   },
   {
    "duration": 38,
    "start_time": "2023-10-11T02:29:25.200Z"
   },
   {
    "duration": 21,
    "start_time": "2023-10-11T02:29:27.221Z"
   },
   {
    "duration": 16,
    "start_time": "2023-10-11T02:29:29.183Z"
   },
   {
    "duration": 10,
    "start_time": "2023-10-11T02:29:32.550Z"
   },
   {
    "duration": 9,
    "start_time": "2023-10-11T02:29:33.944Z"
   },
   {
    "duration": 6,
    "start_time": "2023-10-11T02:29:35.367Z"
   },
   {
    "duration": 24,
    "start_time": "2023-10-11T02:29:37.399Z"
   },
   {
    "duration": 18,
    "start_time": "2023-10-11T02:29:38.884Z"
   },
   {
    "duration": 5,
    "start_time": "2023-10-11T02:29:39.566Z"
   },
   {
    "duration": 7,
    "start_time": "2023-10-11T02:29:41.679Z"
   },
   {
    "duration": 15,
    "start_time": "2023-10-11T02:29:45.145Z"
   },
   {
    "duration": 165,
    "start_time": "2023-10-11T02:29:45.887Z"
   },
   {
    "duration": 177,
    "start_time": "2023-10-11T02:29:48.085Z"
   },
   {
    "duration": 196,
    "start_time": "2023-10-11T02:29:50.189Z"
   },
   {
    "duration": 211,
    "start_time": "2023-10-11T02:29:52.321Z"
   },
   {
    "duration": 254,
    "start_time": "2023-10-11T02:29:54.432Z"
   },
   {
    "duration": 38,
    "start_time": "2023-10-11T02:29:57.293Z"
   },
   {
    "duration": 24,
    "start_time": "2023-10-11T02:29:58.470Z"
   },
   {
    "duration": 28,
    "start_time": "2023-10-11T02:30:00.901Z"
   },
   {
    "duration": 16,
    "start_time": "2023-10-11T02:30:01.655Z"
   },
   {
    "duration": 210,
    "start_time": "2023-10-11T02:30:03.089Z"
   },
   {
    "duration": 215,
    "start_time": "2023-10-11T02:30:03.826Z"
   },
   {
    "duration": 40,
    "start_time": "2023-10-11T02:30:07.799Z"
   },
   {
    "duration": 38,
    "start_time": "2023-10-11T02:30:12.307Z"
   },
   {
    "duration": 1481,
    "start_time": "2023-10-11T15:16:09.884Z"
   },
   {
    "duration": 3,
    "start_time": "2023-10-11T15:16:11.368Z"
   },
   {
    "duration": 28,
    "start_time": "2023-10-11T15:16:11.373Z"
   },
   {
    "duration": 6,
    "start_time": "2023-10-11T15:16:11.403Z"
   },
   {
    "duration": 230,
    "start_time": "2023-10-11T15:16:11.412Z"
   },
   {
    "duration": 30,
    "start_time": "2023-10-11T15:16:11.645Z"
   },
   {
    "duration": 20,
    "start_time": "2023-10-11T15:16:11.677Z"
   },
   {
    "duration": 66,
    "start_time": "2023-10-11T15:16:11.700Z"
   },
   {
    "duration": 10,
    "start_time": "2023-10-11T15:16:11.769Z"
   },
   {
    "duration": 19,
    "start_time": "2023-10-11T15:16:11.782Z"
   },
   {
    "duration": 12,
    "start_time": "2023-10-11T15:16:11.803Z"
   },
   {
    "duration": 33,
    "start_time": "2023-10-11T15:16:11.824Z"
   },
   {
    "duration": 27,
    "start_time": "2023-10-11T15:16:12.119Z"
   },
   {
    "duration": 6,
    "start_time": "2023-10-11T15:16:12.881Z"
   },
   {
    "duration": 9,
    "start_time": "2023-10-11T15:16:14.816Z"
   },
   {
    "duration": 17,
    "start_time": "2023-10-11T15:16:18.066Z"
   },
   {
    "duration": 199,
    "start_time": "2023-10-11T15:16:18.922Z"
   },
   {
    "duration": 198,
    "start_time": "2023-10-11T15:16:20.812Z"
   },
   {
    "duration": 260,
    "start_time": "2023-10-11T15:16:22.551Z"
   },
   {
    "duration": 233,
    "start_time": "2023-10-11T15:16:24.321Z"
   },
   {
    "duration": 213,
    "start_time": "2023-10-11T15:16:26.166Z"
   },
   {
    "duration": 21,
    "start_time": "2023-10-11T15:16:28.722Z"
   },
   {
    "duration": 50,
    "start_time": "2023-10-11T15:16:29.415Z"
   },
   {
    "duration": 30,
    "start_time": "2023-10-11T15:16:31.339Z"
   },
   {
    "duration": 18,
    "start_time": "2023-10-11T15:16:32.019Z"
   },
   {
    "duration": 197,
    "start_time": "2023-10-11T15:16:33.325Z"
   },
   {
    "duration": 195,
    "start_time": "2023-10-11T15:16:34.037Z"
   },
   {
    "duration": 41,
    "start_time": "2023-10-11T15:16:42.423Z"
   },
   {
    "duration": 156,
    "start_time": "2023-10-11T15:41:26.129Z"
   },
   {
    "duration": 4,
    "start_time": "2023-10-11T15:42:45.062Z"
   },
   {
    "duration": 4,
    "start_time": "2023-10-11T15:42:45.671Z"
   },
   {
    "duration": 3,
    "start_time": "2023-10-11T15:42:47.390Z"
   },
   {
    "duration": 6,
    "start_time": "2023-10-11T15:42:47.971Z"
   },
   {
    "duration": 80,
    "start_time": "2023-10-11T15:42:48.528Z"
   },
   {
    "duration": 19,
    "start_time": "2023-10-11T15:42:49.685Z"
   },
   {
    "duration": 23,
    "start_time": "2023-10-11T15:42:51.461Z"
   },
   {
    "duration": 28,
    "start_time": "2023-10-11T15:42:53.339Z"
   },
   {
    "duration": 7,
    "start_time": "2023-10-11T15:42:56.214Z"
   },
   {
    "duration": 8,
    "start_time": "2023-10-11T15:42:57.466Z"
   },
   {
    "duration": 7,
    "start_time": "2023-10-11T15:42:58.725Z"
   },
   {
    "duration": 12,
    "start_time": "2023-10-11T15:43:00.540Z"
   },
   {
    "duration": 25,
    "start_time": "2023-10-11T15:43:01.670Z"
   },
   {
    "duration": 7,
    "start_time": "2023-10-11T15:43:02.283Z"
   },
   {
    "duration": 7,
    "start_time": "2023-10-11T15:43:04.046Z"
   },
   {
    "duration": 19,
    "start_time": "2023-10-11T15:43:06.854Z"
   },
   {
    "duration": 176,
    "start_time": "2023-10-11T15:43:07.392Z"
   },
   {
    "duration": 194,
    "start_time": "2023-10-11T15:43:08.996Z"
   },
   {
    "duration": 284,
    "start_time": "2023-10-11T15:43:10.829Z"
   },
   {
    "duration": 200,
    "start_time": "2023-10-11T15:43:12.670Z"
   },
   {
    "duration": 268,
    "start_time": "2023-10-11T15:43:15.002Z"
   },
   {
    "duration": 24,
    "start_time": "2023-10-11T15:43:17.668Z"
   },
   {
    "duration": 39,
    "start_time": "2023-10-11T15:43:18.683Z"
   },
   {
    "duration": 26,
    "start_time": "2023-10-11T15:43:23.390Z"
   },
   {
    "duration": 16,
    "start_time": "2023-10-11T15:43:24.070Z"
   },
   {
    "duration": 222,
    "start_time": "2023-10-11T15:43:25.869Z"
   },
   {
    "duration": 250,
    "start_time": "2023-10-11T15:43:26.617Z"
   },
   {
    "duration": 24,
    "start_time": "2023-10-11T15:43:39.586Z"
   },
   {
    "duration": 41,
    "start_time": "2023-10-11T15:43:48.062Z"
   },
   {
    "duration": 4,
    "start_time": "2023-10-11T15:55:56.664Z"
   },
   {
    "duration": 4,
    "start_time": "2023-10-11T15:55:57.258Z"
   },
   {
    "duration": 3,
    "start_time": "2023-10-11T15:55:59.111Z"
   },
   {
    "duration": 3,
    "start_time": "2023-10-11T15:55:59.795Z"
   },
   {
    "duration": 90,
    "start_time": "2023-10-11T15:56:00.474Z"
   },
   {
    "duration": 26,
    "start_time": "2023-10-11T15:56:01.759Z"
   },
   {
    "duration": 26,
    "start_time": "2023-10-11T15:56:03.770Z"
   },
   {
    "duration": 23,
    "start_time": "2023-10-11T15:56:05.595Z"
   },
   {
    "duration": 10,
    "start_time": "2023-10-11T15:56:08.806Z"
   },
   {
    "duration": 11,
    "start_time": "2023-10-11T15:56:10.111Z"
   },
   {
    "duration": 12,
    "start_time": "2023-10-11T15:56:11.439Z"
   },
   {
    "duration": 16,
    "start_time": "2023-10-11T15:56:13.416Z"
   },
   {
    "duration": 17,
    "start_time": "2023-10-11T15:56:14.717Z"
   },
   {
    "duration": 8,
    "start_time": "2023-10-11T15:56:15.430Z"
   },
   {
    "duration": 7,
    "start_time": "2023-10-11T15:56:17.415Z"
   },
   {
    "duration": 20,
    "start_time": "2023-10-11T15:56:20.753Z"
   },
   {
    "duration": 167,
    "start_time": "2023-10-11T15:56:21.445Z"
   },
   {
    "duration": 186,
    "start_time": "2023-10-11T15:56:23.540Z"
   },
   {
    "duration": 197,
    "start_time": "2023-10-11T15:56:25.693Z"
   },
   {
    "duration": 198,
    "start_time": "2023-10-11T15:56:27.791Z"
   },
   {
    "duration": 224,
    "start_time": "2023-10-11T15:56:30.062Z"
   },
   {
    "duration": 19,
    "start_time": "2023-10-11T15:56:32.865Z"
   },
   {
    "duration": 35,
    "start_time": "2023-10-11T15:56:33.584Z"
   },
   {
    "duration": 24,
    "start_time": "2023-10-11T15:56:36.295Z"
   },
   {
    "duration": 26,
    "start_time": "2023-10-11T15:56:36.948Z"
   },
   {
    "duration": 226,
    "start_time": "2023-10-11T15:56:38.409Z"
   },
   {
    "duration": 289,
    "start_time": "2023-10-11T15:56:39.073Z"
   },
   {
    "duration": 36,
    "start_time": "2023-10-11T15:56:41.860Z"
   },
   {
    "duration": 44,
    "start_time": "2023-10-11T15:56:43.486Z"
   },
   {
    "duration": 31,
    "start_time": "2023-10-11T15:56:52.422Z"
   },
   {
    "duration": 28,
    "start_time": "2023-10-11T15:58:26.103Z"
   },
   {
    "duration": 29,
    "start_time": "2023-10-11T15:58:32.015Z"
   },
   {
    "duration": 2207,
    "start_time": "2023-10-11T15:58:43.083Z"
   },
   {
    "duration": 34,
    "start_time": "2023-10-11T15:59:09.638Z"
   },
   {
    "duration": 3,
    "start_time": "2023-10-11T16:01:59.942Z"
   },
   {
    "duration": 4,
    "start_time": "2023-10-11T16:02:00.553Z"
   },
   {
    "duration": 4,
    "start_time": "2023-10-11T16:02:02.269Z"
   },
   {
    "duration": 4,
    "start_time": "2023-10-11T16:02:02.762Z"
   },
   {
    "duration": 84,
    "start_time": "2023-10-11T16:02:03.322Z"
   },
   {
    "duration": 24,
    "start_time": "2023-10-11T16:02:04.499Z"
   },
   {
    "duration": 24,
    "start_time": "2023-10-11T16:02:06.371Z"
   },
   {
    "duration": 17,
    "start_time": "2023-10-11T16:02:08.167Z"
   },
   {
    "duration": 8,
    "start_time": "2023-10-11T16:02:11.303Z"
   },
   {
    "duration": 8,
    "start_time": "2023-10-11T16:02:12.481Z"
   },
   {
    "duration": 10,
    "start_time": "2023-10-11T16:02:13.745Z"
   },
   {
    "duration": 13,
    "start_time": "2023-10-11T16:02:15.706Z"
   },
   {
    "duration": 18,
    "start_time": "2023-10-11T16:02:17.069Z"
   },
   {
    "duration": 5,
    "start_time": "2023-10-11T16:02:17.707Z"
   },
   {
    "duration": 8,
    "start_time": "2023-10-11T16:02:19.568Z"
   },
   {
    "duration": 23,
    "start_time": "2023-10-11T16:02:22.941Z"
   },
   {
    "duration": 161,
    "start_time": "2023-10-11T16:02:23.776Z"
   },
   {
    "duration": 215,
    "start_time": "2023-10-11T16:02:26.763Z"
   },
   {
    "duration": 228,
    "start_time": "2023-10-11T16:02:28.941Z"
   },
   {
    "duration": 207,
    "start_time": "2023-10-11T16:02:31.088Z"
   },
   {
    "duration": 238,
    "start_time": "2023-10-11T16:02:33.308Z"
   },
   {
    "duration": 19,
    "start_time": "2023-10-11T16:02:36.216Z"
   },
   {
    "duration": 31,
    "start_time": "2023-10-11T16:02:37.392Z"
   },
   {
    "duration": 17,
    "start_time": "2023-10-11T16:02:39.516Z"
   },
   {
    "duration": 25,
    "start_time": "2023-10-11T16:02:40.130Z"
   },
   {
    "duration": 190,
    "start_time": "2023-10-11T16:02:41.419Z"
   },
   {
    "duration": 234,
    "start_time": "2023-10-11T16:02:42.042Z"
   },
   {
    "duration": 27,
    "start_time": "2023-10-11T16:02:50.458Z"
   },
   {
    "duration": 36,
    "start_time": "2023-10-11T16:03:00.937Z"
   },
   {
    "duration": 3,
    "start_time": "2023-10-11T16:17:31.377Z"
   },
   {
    "duration": 2,
    "start_time": "2023-10-11T16:17:31.969Z"
   },
   {
    "duration": 5,
    "start_time": "2023-10-11T16:17:33.649Z"
   },
   {
    "duration": 4,
    "start_time": "2023-10-11T16:17:34.208Z"
   },
   {
    "duration": 86,
    "start_time": "2023-10-11T16:17:34.735Z"
   },
   {
    "duration": 21,
    "start_time": "2023-10-11T16:17:35.767Z"
   },
   {
    "duration": 19,
    "start_time": "2023-10-11T16:17:37.590Z"
   },
   {
    "duration": 16,
    "start_time": "2023-10-11T16:17:39.391Z"
   },
   {
    "duration": 9,
    "start_time": "2023-10-11T16:17:42.325Z"
   },
   {
    "duration": 10,
    "start_time": "2023-10-11T16:17:43.465Z"
   },
   {
    "duration": 7,
    "start_time": "2023-10-11T16:17:44.764Z"
   },
   {
    "duration": 16,
    "start_time": "2023-10-11T16:17:46.979Z"
   },
   {
    "duration": 25,
    "start_time": "2023-10-11T16:17:48.170Z"
   },
   {
    "duration": 7,
    "start_time": "2023-10-11T16:17:48.919Z"
   },
   {
    "duration": 9,
    "start_time": "2023-10-11T16:17:50.933Z"
   },
   {
    "duration": 19,
    "start_time": "2023-10-11T16:17:54.226Z"
   },
   {
    "duration": 161,
    "start_time": "2023-10-11T16:17:54.916Z"
   },
   {
    "duration": 175,
    "start_time": "2023-10-11T16:17:57.644Z"
   },
   {
    "duration": 288,
    "start_time": "2023-10-11T16:18:00.011Z"
   },
   {
    "duration": 402,
    "start_time": "2023-10-11T16:18:02.267Z"
   },
   {
    "duration": 236,
    "start_time": "2023-10-11T16:18:04.454Z"
   },
   {
    "duration": 16,
    "start_time": "2023-10-11T16:18:07.388Z"
   },
   {
    "duration": 31,
    "start_time": "2023-10-11T16:18:08.440Z"
   },
   {
    "duration": 27,
    "start_time": "2023-10-11T16:18:10.671Z"
   },
   {
    "duration": 23,
    "start_time": "2023-10-11T16:18:11.303Z"
   },
   {
    "duration": 195,
    "start_time": "2023-10-11T16:18:12.605Z"
   },
   {
    "duration": 206,
    "start_time": "2023-10-11T16:18:13.263Z"
   },
   {
    "duration": 36,
    "start_time": "2023-10-11T16:18:15.970Z"
   },
   {
    "duration": 37,
    "start_time": "2023-10-11T16:18:21.445Z"
   },
   {
    "duration": 43,
    "start_time": "2023-10-11T16:18:51.578Z"
   },
   {
    "duration": 35,
    "start_time": "2023-10-11T16:20:01.120Z"
   },
   {
    "duration": 1854,
    "start_time": "2023-10-11T16:20:34.128Z"
   },
   {
    "duration": 49,
    "start_time": "2023-10-11T16:21:16.732Z"
   },
   {
    "duration": 52,
    "start_time": "2023-10-11T16:21:18.603Z"
   },
   {
    "duration": 23,
    "start_time": "2023-10-11T16:21:21.572Z"
   },
   {
    "duration": 34,
    "start_time": "2023-10-11T16:22:01.732Z"
   },
   {
    "duration": 9,
    "start_time": "2023-10-11T16:26:16.619Z"
   },
   {
    "duration": 1633,
    "start_time": "2023-10-11T16:26:46.257Z"
   },
   {
    "duration": 13,
    "start_time": "2023-10-11T16:27:00.559Z"
   },
   {
    "duration": 13,
    "start_time": "2023-10-11T16:27:46.490Z"
   },
   {
    "duration": 15,
    "start_time": "2023-10-11T16:28:15.289Z"
   },
   {
    "duration": 7,
    "start_time": "2023-10-11T16:37:50.615Z"
   },
   {
    "duration": 4,
    "start_time": "2023-10-11T16:40:28.633Z"
   },
   {
    "duration": 4,
    "start_time": "2023-10-11T16:40:29.263Z"
   },
   {
    "duration": 6,
    "start_time": "2023-10-11T16:40:30.846Z"
   },
   {
    "duration": 4,
    "start_time": "2023-10-11T16:40:31.420Z"
   },
   {
    "duration": 70,
    "start_time": "2023-10-11T16:40:31.997Z"
   },
   {
    "duration": 18,
    "start_time": "2023-10-11T16:40:33.123Z"
   },
   {
    "duration": 25,
    "start_time": "2023-10-11T16:40:35.184Z"
   },
   {
    "duration": 17,
    "start_time": "2023-10-11T16:40:37.141Z"
   },
   {
    "duration": 11,
    "start_time": "2023-10-11T16:40:40.607Z"
   },
   {
    "duration": 9,
    "start_time": "2023-10-11T16:40:42.067Z"
   },
   {
    "duration": 7,
    "start_time": "2023-10-11T16:40:43.413Z"
   },
   {
    "duration": 16,
    "start_time": "2023-10-11T16:40:45.285Z"
   },
   {
    "duration": 19,
    "start_time": "2023-10-11T16:40:46.601Z"
   },
   {
    "duration": 5,
    "start_time": "2023-10-11T16:40:47.262Z"
   },
   {
    "duration": 7,
    "start_time": "2023-10-11T16:40:49.343Z"
   },
   {
    "duration": 18,
    "start_time": "2023-10-11T16:40:52.523Z"
   },
   {
    "duration": 169,
    "start_time": "2023-10-11T16:40:53.651Z"
   },
   {
    "duration": 158,
    "start_time": "2023-10-11T16:40:56.253Z"
   },
   {
    "duration": 191,
    "start_time": "2023-10-11T16:40:59.815Z"
   },
   {
    "duration": 187,
    "start_time": "2023-10-11T16:41:02.726Z"
   },
   {
    "duration": 251,
    "start_time": "2023-10-11T16:41:05.709Z"
   },
   {
    "duration": 18,
    "start_time": "2023-10-11T16:41:09.257Z"
   },
   {
    "duration": 38,
    "start_time": "2023-10-11T16:41:10.332Z"
   },
   {
    "duration": 17,
    "start_time": "2023-10-11T16:41:13.804Z"
   },
   {
    "duration": 16,
    "start_time": "2023-10-11T16:41:19.705Z"
   },
   {
    "duration": 210,
    "start_time": "2023-10-11T16:41:22.046Z"
   },
   {
    "duration": 189,
    "start_time": "2023-10-11T16:41:23.116Z"
   },
   {
    "duration": 5,
    "start_time": "2023-10-11T16:41:26.637Z"
   },
   {
    "duration": 32,
    "start_time": "2023-10-11T16:41:27.481Z"
   },
   {
    "duration": 37,
    "start_time": "2023-10-11T16:41:41.120Z"
   },
   {
    "duration": 19,
    "start_time": "2023-10-11T16:41:52.032Z"
   },
   {
    "duration": 26,
    "start_time": "2023-10-11T16:42:27.907Z"
   },
   {
    "duration": 26,
    "start_time": "2023-10-11T16:43:15.500Z"
   },
   {
    "duration": 23,
    "start_time": "2023-10-11T16:43:35.564Z"
   },
   {
    "duration": 1471,
    "start_time": "2023-10-11T20:35:45.176Z"
   },
   {
    "duration": 3,
    "start_time": "2023-10-11T20:35:46.649Z"
   },
   {
    "duration": 5,
    "start_time": "2023-10-11T20:35:47.742Z"
   },
   {
    "duration": 4,
    "start_time": "2023-10-11T20:35:48.374Z"
   },
   {
    "duration": 252,
    "start_time": "2023-10-11T20:35:49.017Z"
   },
   {
    "duration": 29,
    "start_time": "2023-10-11T20:35:50.203Z"
   },
   {
    "duration": 25,
    "start_time": "2023-10-11T20:35:52.222Z"
   },
   {
    "duration": 15,
    "start_time": "2023-10-11T20:35:54.178Z"
   },
   {
    "duration": 7,
    "start_time": "2023-10-11T20:35:57.538Z"
   },
   {
    "duration": 8,
    "start_time": "2023-10-11T20:35:58.879Z"
   },
   {
    "duration": 9,
    "start_time": "2023-10-11T20:36:00.229Z"
   },
   {
    "duration": 10,
    "start_time": "2023-10-11T20:36:02.180Z"
   },
   {
    "duration": 17,
    "start_time": "2023-10-11T20:36:03.500Z"
   },
   {
    "duration": 6,
    "start_time": "2023-10-11T20:36:04.185Z"
   },
   {
    "duration": 7,
    "start_time": "2023-10-11T20:36:06.169Z"
   },
   {
    "duration": 14,
    "start_time": "2023-10-11T20:36:09.542Z"
   },
   {
    "duration": 184,
    "start_time": "2023-10-11T20:36:10.281Z"
   },
   {
    "duration": 160,
    "start_time": "2023-10-11T20:36:12.287Z"
   },
   {
    "duration": 203,
    "start_time": "2023-10-11T20:36:14.382Z"
   },
   {
    "duration": 190,
    "start_time": "2023-10-11T20:36:16.366Z"
   },
   {
    "duration": 186,
    "start_time": "2023-10-11T20:36:18.403Z"
   },
   {
    "duration": 20,
    "start_time": "2023-10-11T20:36:21.212Z"
   },
   {
    "duration": 24,
    "start_time": "2023-10-11T20:36:21.895Z"
   },
   {
    "duration": 16,
    "start_time": "2023-10-11T20:36:24.007Z"
   },
   {
    "duration": 13,
    "start_time": "2023-10-11T20:36:24.773Z"
   },
   {
    "duration": 178,
    "start_time": "2023-10-11T20:36:26.239Z"
   },
   {
    "duration": 169,
    "start_time": "2023-10-11T20:36:26.937Z"
   },
   {
    "duration": 5,
    "start_time": "2023-10-11T20:36:29.814Z"
   },
   {
    "duration": 24,
    "start_time": "2023-10-11T20:36:30.552Z"
   },
   {
    "duration": 33,
    "start_time": "2023-10-11T20:36:40.106Z"
   },
   {
    "duration": 17,
    "start_time": "2023-10-11T20:36:44.238Z"
   },
   {
    "duration": 6,
    "start_time": "2023-10-11T20:36:56.394Z"
   },
   {
    "duration": 11,
    "start_time": "2023-10-11T20:37:26.625Z"
   },
   {
    "duration": 5,
    "start_time": "2023-10-11T20:37:34.978Z"
   },
   {
    "duration": 8,
    "start_time": "2023-10-11T20:53:29.619Z"
   },
   {
    "duration": 9,
    "start_time": "2023-10-11T20:56:44.976Z"
   },
   {
    "duration": 3,
    "start_time": "2023-10-11T22:45:03.360Z"
   },
   {
    "duration": 3,
    "start_time": "2023-10-11T22:45:04.119Z"
   },
   {
    "duration": 3,
    "start_time": "2023-10-11T22:45:06.292Z"
   },
   {
    "duration": 3,
    "start_time": "2023-10-11T22:45:06.995Z"
   },
   {
    "duration": 70,
    "start_time": "2023-10-11T22:45:07.649Z"
   },
   {
    "duration": 16,
    "start_time": "2023-10-11T22:45:08.970Z"
   },
   {
    "duration": 16,
    "start_time": "2023-10-11T22:45:11.065Z"
   },
   {
    "duration": 14,
    "start_time": "2023-10-11T22:45:13.092Z"
   },
   {
    "duration": 6,
    "start_time": "2023-10-11T22:45:16.553Z"
   },
   {
    "duration": 8,
    "start_time": "2023-10-11T22:45:17.887Z"
   },
   {
    "duration": 6,
    "start_time": "2023-10-11T22:45:19.330Z"
   },
   {
    "duration": 10,
    "start_time": "2023-10-11T22:45:21.833Z"
   },
   {
    "duration": 15,
    "start_time": "2023-10-11T22:45:23.512Z"
   },
   {
    "duration": 4,
    "start_time": "2023-10-11T22:45:24.257Z"
   },
   {
    "duration": 6,
    "start_time": "2023-10-11T22:45:26.830Z"
   },
   {
    "duration": 11,
    "start_time": "2023-10-11T22:45:30.197Z"
   },
   {
    "duration": 139,
    "start_time": "2023-10-11T22:45:30.867Z"
   },
   {
    "duration": 147,
    "start_time": "2023-10-11T22:45:32.952Z"
   },
   {
    "duration": 242,
    "start_time": "2023-10-11T22:45:34.999Z"
   },
   {
    "duration": 165,
    "start_time": "2023-10-11T22:45:37.099Z"
   },
   {
    "duration": 172,
    "start_time": "2023-10-11T22:45:39.246Z"
   },
   {
    "duration": 15,
    "start_time": "2023-10-11T22:45:43.260Z"
   },
   {
    "duration": 23,
    "start_time": "2023-10-11T22:45:43.932Z"
   },
   {
    "duration": 22,
    "start_time": "2023-10-11T22:45:45.979Z"
   },
   {
    "duration": 13,
    "start_time": "2023-10-11T22:45:46.598Z"
   },
   {
    "duration": 160,
    "start_time": "2023-10-11T22:45:47.891Z"
   },
   {
    "duration": 154,
    "start_time": "2023-10-11T22:45:48.601Z"
   },
   {
    "duration": 4,
    "start_time": "2023-10-11T22:45:51.449Z"
   },
   {
    "duration": 26,
    "start_time": "2023-10-11T22:45:52.109Z"
   },
   {
    "duration": 21,
    "start_time": "2023-10-11T22:45:53.436Z"
   },
   {
    "duration": 13,
    "start_time": "2023-10-11T22:45:54.120Z"
   },
   {
    "duration": 8,
    "start_time": "2023-10-11T22:45:59.352Z"
   },
   {
    "duration": 5,
    "start_time": "2023-10-11T22:46:12.648Z"
   },
   {
    "duration": 7,
    "start_time": "2023-10-11T23:10:56.712Z"
   },
   {
    "duration": 3,
    "start_time": "2023-10-11T23:13:04.373Z"
   },
   {
    "duration": 2,
    "start_time": "2023-10-11T23:13:05.058Z"
   },
   {
    "duration": 3,
    "start_time": "2023-10-11T23:13:07.029Z"
   },
   {
    "duration": 3,
    "start_time": "2023-10-11T23:13:07.679Z"
   },
   {
    "duration": 69,
    "start_time": "2023-10-11T23:13:08.325Z"
   },
   {
    "duration": 16,
    "start_time": "2023-10-11T23:13:09.535Z"
   },
   {
    "duration": 18,
    "start_time": "2023-10-11T23:13:11.409Z"
   },
   {
    "duration": 16,
    "start_time": "2023-10-11T23:13:13.302Z"
   },
   {
    "duration": 7,
    "start_time": "2023-10-11T23:13:16.611Z"
   },
   {
    "duration": 7,
    "start_time": "2023-10-11T23:13:17.902Z"
   },
   {
    "duration": 7,
    "start_time": "2023-10-11T23:13:19.207Z"
   },
   {
    "duration": 13,
    "start_time": "2023-10-11T23:13:21.181Z"
   },
   {
    "duration": 18,
    "start_time": "2023-10-11T23:13:22.487Z"
   },
   {
    "duration": 5,
    "start_time": "2023-10-11T23:13:23.204Z"
   },
   {
    "duration": 7,
    "start_time": "2023-10-11T23:13:25.265Z"
   },
   {
    "duration": 13,
    "start_time": "2023-10-11T23:13:28.609Z"
   },
   {
    "duration": 131,
    "start_time": "2023-10-11T23:13:29.269Z"
   },
   {
    "duration": 146,
    "start_time": "2023-10-11T23:13:31.095Z"
   },
   {
    "duration": 172,
    "start_time": "2023-10-11T23:13:32.993Z"
   },
   {
    "duration": 174,
    "start_time": "2023-10-11T23:13:34.969Z"
   },
   {
    "duration": 177,
    "start_time": "2023-10-11T23:13:36.995Z"
   },
   {
    "duration": 15,
    "start_time": "2023-10-11T23:13:39.735Z"
   },
   {
    "duration": 22,
    "start_time": "2023-10-11T23:13:40.999Z"
   },
   {
    "duration": 15,
    "start_time": "2023-10-11T23:13:45.243Z"
   },
   {
    "duration": 14,
    "start_time": "2023-10-11T23:13:53.580Z"
   },
   {
    "duration": 162,
    "start_time": "2023-10-11T23:13:55.056Z"
   },
   {
    "duration": 266,
    "start_time": "2023-10-11T23:13:55.730Z"
   },
   {
    "duration": 4,
    "start_time": "2023-10-11T23:13:58.126Z"
   },
   {
    "duration": 25,
    "start_time": "2023-10-11T23:13:58.733Z"
   },
   {
    "duration": 21,
    "start_time": "2023-10-11T23:14:00.014Z"
   },
   {
    "duration": 13,
    "start_time": "2023-10-11T23:14:00.817Z"
   },
   {
    "duration": 7,
    "start_time": "2023-10-11T23:14:04.098Z"
   },
   {
    "duration": 6,
    "start_time": "2023-10-11T23:14:08.328Z"
   },
   {
    "duration": 1551,
    "start_time": "2023-10-11T23:24:42.044Z"
   },
   {
    "duration": 1484,
    "start_time": "2023-10-11T23:25:30.800Z"
   },
   {
    "duration": 12,
    "start_time": "2023-10-11T23:26:33.925Z"
   },
   {
    "duration": 11,
    "start_time": "2023-10-11T23:26:56.842Z"
   },
   {
    "duration": 16,
    "start_time": "2023-10-11T23:27:20.325Z"
   },
   {
    "duration": 11,
    "start_time": "2023-10-11T23:29:07.591Z"
   },
   {
    "duration": 12,
    "start_time": "2023-10-11T23:29:22.162Z"
   },
   {
    "duration": 11,
    "start_time": "2023-10-11T23:29:31.555Z"
   },
   {
    "duration": 11,
    "start_time": "2023-10-11T23:29:43.835Z"
   },
   {
    "duration": 6,
    "start_time": "2023-10-11T23:30:21.827Z"
   },
   {
    "duration": 7,
    "start_time": "2023-10-11T23:30:29.362Z"
   },
   {
    "duration": 5,
    "start_time": "2023-10-11T23:30:41.051Z"
   },
   {
    "duration": 7,
    "start_time": "2023-10-11T23:31:13.720Z"
   },
   {
    "duration": 7,
    "start_time": "2023-10-11T23:32:09.058Z"
   },
   {
    "duration": 4,
    "start_time": "2023-10-12T01:39:52.464Z"
   },
   {
    "duration": 3,
    "start_time": "2023-10-12T01:39:53.065Z"
   },
   {
    "duration": 3,
    "start_time": "2023-10-12T01:39:55.009Z"
   },
   {
    "duration": 4,
    "start_time": "2023-10-12T01:39:55.607Z"
   },
   {
    "duration": 69,
    "start_time": "2023-10-12T01:39:56.164Z"
   },
   {
    "duration": 16,
    "start_time": "2023-10-12T01:39:57.279Z"
   },
   {
    "duration": 16,
    "start_time": "2023-10-12T01:39:59.091Z"
   },
   {
    "duration": 15,
    "start_time": "2023-10-12T01:40:00.920Z"
   },
   {
    "duration": 7,
    "start_time": "2023-10-12T01:40:03.807Z"
   },
   {
    "duration": 7,
    "start_time": "2023-10-12T01:40:04.972Z"
   },
   {
    "duration": 5,
    "start_time": "2023-10-12T01:40:06.143Z"
   },
   {
    "duration": 10,
    "start_time": "2023-10-12T01:40:07.872Z"
   },
   {
    "duration": 17,
    "start_time": "2023-10-12T01:40:09.077Z"
   },
   {
    "duration": 5,
    "start_time": "2023-10-12T01:40:09.658Z"
   },
   {
    "duration": 6,
    "start_time": "2023-10-12T01:40:11.371Z"
   },
   {
    "duration": 13,
    "start_time": "2023-10-12T01:40:14.389Z"
   },
   {
    "duration": 135,
    "start_time": "2023-10-12T01:40:15.013Z"
   },
   {
    "duration": 162,
    "start_time": "2023-10-12T01:40:16.830Z"
   },
   {
    "duration": 176,
    "start_time": "2023-10-12T01:40:18.803Z"
   },
   {
    "duration": 171,
    "start_time": "2023-10-12T01:40:20.807Z"
   },
   {
    "duration": 181,
    "start_time": "2023-10-12T01:40:22.785Z"
   },
   {
    "duration": 16,
    "start_time": "2023-10-12T01:40:25.626Z"
   },
   {
    "duration": 23,
    "start_time": "2023-10-12T01:40:26.233Z"
   },
   {
    "duration": 17,
    "start_time": "2023-10-12T01:40:28.141Z"
   },
   {
    "duration": 15,
    "start_time": "2023-10-12T01:40:28.802Z"
   },
   {
    "duration": 169,
    "start_time": "2023-10-12T01:40:30.123Z"
   },
   {
    "duration": 163,
    "start_time": "2023-10-12T01:40:30.781Z"
   },
   {
    "duration": 5,
    "start_time": "2023-10-12T01:40:33.262Z"
   },
   {
    "duration": 26,
    "start_time": "2023-10-12T01:40:33.838Z"
   },
   {
    "duration": 21,
    "start_time": "2023-10-12T01:40:34.991Z"
   },
   {
    "duration": 13,
    "start_time": "2023-10-12T01:40:35.601Z"
   },
   {
    "duration": 7,
    "start_time": "2023-10-12T01:40:38.653Z"
   },
   {
    "duration": 8,
    "start_time": "2023-10-12T01:40:40.883Z"
   },
   {
    "duration": 14,
    "start_time": "2023-10-12T01:40:43.401Z"
   },
   {
    "duration": 228,
    "start_time": "2023-10-12T01:40:52.936Z"
   },
   {
    "duration": 307,
    "start_time": "2023-10-12T01:41:09.011Z"
   },
   {
    "duration": 13,
    "start_time": "2023-10-12T02:11:51.611Z"
   },
   {
    "duration": 13,
    "start_time": "2023-10-12T02:12:52.085Z"
   },
   {
    "duration": 10,
    "start_time": "2023-10-12T02:14:26.487Z"
   },
   {
    "duration": 4,
    "start_time": "2023-10-12T02:14:41.281Z"
   },
   {
    "duration": 198,
    "start_time": "2023-10-12T02:15:42.608Z"
   },
   {
    "duration": 6,
    "start_time": "2023-10-12T02:39:57.115Z"
   },
   {
    "duration": 5,
    "start_time": "2023-10-12T02:53:26.344Z"
   },
   {
    "duration": 424,
    "start_time": "2023-10-12T03:00:31.912Z"
   },
   {
    "duration": 337,
    "start_time": "2023-10-12T03:10:13.516Z"
   },
   {
    "duration": 1260,
    "start_time": "2023-10-12T17:43:07.232Z"
   },
   {
    "duration": 3,
    "start_time": "2023-10-12T17:43:08.494Z"
   },
   {
    "duration": 3,
    "start_time": "2023-10-12T17:43:09.558Z"
   },
   {
    "duration": 3,
    "start_time": "2023-10-12T17:43:10.081Z"
   },
   {
    "duration": 281,
    "start_time": "2023-10-12T17:43:10.660Z"
   },
   {
    "duration": 19,
    "start_time": "2023-10-12T17:43:11.769Z"
   },
   {
    "duration": 24,
    "start_time": "2023-10-12T17:43:14.234Z"
   },
   {
    "duration": 16,
    "start_time": "2023-10-12T17:43:16.056Z"
   },
   {
    "duration": 7,
    "start_time": "2023-10-12T17:43:19.017Z"
   },
   {
    "duration": 8,
    "start_time": "2023-10-12T17:43:20.215Z"
   },
   {
    "duration": 6,
    "start_time": "2023-10-12T17:43:21.524Z"
   },
   {
    "duration": 10,
    "start_time": "2023-10-12T17:43:23.359Z"
   },
   {
    "duration": 22,
    "start_time": "2023-10-12T17:43:24.657Z"
   },
   {
    "duration": 5,
    "start_time": "2023-10-12T17:43:25.289Z"
   },
   {
    "duration": 6,
    "start_time": "2023-10-12T17:43:27.239Z"
   },
   {
    "duration": 19,
    "start_time": "2023-10-12T17:43:30.482Z"
   },
   {
    "duration": 152,
    "start_time": "2023-10-12T17:43:31.169Z"
   },
   {
    "duration": 144,
    "start_time": "2023-10-12T17:43:33.314Z"
   },
   {
    "duration": 168,
    "start_time": "2023-10-12T17:43:35.433Z"
   },
   {
    "duration": 178,
    "start_time": "2023-10-12T17:43:37.455Z"
   },
   {
    "duration": 185,
    "start_time": "2023-10-12T17:43:39.585Z"
   },
   {
    "duration": 16,
    "start_time": "2023-10-12T17:43:42.627Z"
   },
   {
    "duration": 23,
    "start_time": "2023-10-12T17:43:43.382Z"
   },
   {
    "duration": 16,
    "start_time": "2023-10-12T17:43:46.116Z"
   },
   {
    "duration": 14,
    "start_time": "2023-10-12T17:43:47.170Z"
   },
   {
    "duration": 163,
    "start_time": "2023-10-12T17:43:49.019Z"
   },
   {
    "duration": 169,
    "start_time": "2023-10-12T17:43:49.943Z"
   },
   {
    "duration": 5,
    "start_time": "2023-10-12T17:43:53.268Z"
   },
   {
    "duration": 24,
    "start_time": "2023-10-12T17:43:53.961Z"
   },
   {
    "duration": 19,
    "start_time": "2023-10-12T17:43:55.476Z"
   },
   {
    "duration": 12,
    "start_time": "2023-10-12T17:43:56.920Z"
   },
   {
    "duration": 7,
    "start_time": "2023-10-12T17:44:02.156Z"
   },
   {
    "duration": 6,
    "start_time": "2023-10-12T17:44:04.682Z"
   },
   {
    "duration": 16,
    "start_time": "2023-10-12T17:44:07.374Z"
   },
   {
    "duration": 1589,
    "start_time": "2023-10-12T18:31:46.761Z"
   },
   {
    "duration": 331,
    "start_time": "2023-10-12T18:33:08.561Z"
   },
   {
    "duration": 1387,
    "start_time": "2023-10-12T18:33:48.754Z"
   },
   {
    "duration": 235,
    "start_time": "2023-10-12T18:37:11.376Z"
   },
   {
    "duration": 1629,
    "start_time": "2023-10-12T18:38:24.987Z"
   },
   {
    "duration": 100,
    "start_time": "2023-10-12T18:55:33.422Z"
   },
   {
    "duration": 125,
    "start_time": "2023-10-12T18:55:47.195Z"
   },
   {
    "duration": 128,
    "start_time": "2023-10-12T19:00:48.727Z"
   },
   {
    "duration": 110,
    "start_time": "2023-10-12T19:03:55.331Z"
   },
   {
    "duration": 423,
    "start_time": "2023-10-12T19:10:44.711Z"
   },
   {
    "duration": 3,
    "start_time": "2023-10-12T21:41:18.650Z"
   },
   {
    "duration": 3,
    "start_time": "2023-10-12T21:41:19.449Z"
   },
   {
    "duration": 3,
    "start_time": "2023-10-12T21:41:23.947Z"
   },
   {
    "duration": 3,
    "start_time": "2023-10-12T21:41:27.437Z"
   },
   {
    "duration": 186,
    "start_time": "2023-10-12T21:41:30.515Z"
   },
   {
    "duration": 16,
    "start_time": "2023-10-12T21:41:32.593Z"
   },
   {
    "duration": 17,
    "start_time": "2023-10-12T21:41:36.440Z"
   },
   {
    "duration": 13,
    "start_time": "2023-10-12T21:41:39.106Z"
   },
   {
    "duration": 9,
    "start_time": "2023-10-12T21:43:12.037Z"
   },
   {
    "duration": 6,
    "start_time": "2023-10-12T21:43:13.235Z"
   },
   {
    "duration": 6,
    "start_time": "2023-10-12T21:43:14.477Z"
   },
   {
    "duration": 10,
    "start_time": "2023-10-12T21:43:16.413Z"
   },
   {
    "duration": 16,
    "start_time": "2023-10-12T21:43:17.690Z"
   },
   {
    "duration": 5,
    "start_time": "2023-10-12T21:43:18.326Z"
   },
   {
    "duration": 5,
    "start_time": "2023-10-12T21:43:20.266Z"
   },
   {
    "duration": 13,
    "start_time": "2023-10-12T21:43:27.055Z"
   },
   {
    "duration": 131,
    "start_time": "2023-10-12T21:43:30.768Z"
   },
   {
    "duration": 138,
    "start_time": "2023-10-12T21:43:33.489Z"
   },
   {
    "duration": 180,
    "start_time": "2023-10-12T21:43:37.464Z"
   },
   {
    "duration": 167,
    "start_time": "2023-10-12T21:43:40.353Z"
   },
   {
    "duration": 305,
    "start_time": "2023-10-12T21:43:42.625Z"
   },
   {
    "duration": 20,
    "start_time": "2023-10-12T21:43:45.337Z"
   },
   {
    "duration": 22,
    "start_time": "2023-10-12T21:43:45.997Z"
   },
   {
    "duration": 16,
    "start_time": "2023-10-12T21:43:48.163Z"
   },
   {
    "duration": 13,
    "start_time": "2023-10-12T21:43:48.914Z"
   },
   {
    "duration": 165,
    "start_time": "2023-10-12T21:43:50.417Z"
   },
   {
    "duration": 183,
    "start_time": "2023-10-12T21:44:34.134Z"
   },
   {
    "duration": 4,
    "start_time": "2023-10-12T21:44:47.666Z"
   },
   {
    "duration": 24,
    "start_time": "2023-10-12T21:44:48.309Z"
   },
   {
    "duration": 19,
    "start_time": "2023-10-12T21:44:49.864Z"
   },
   {
    "duration": 12,
    "start_time": "2023-10-12T21:44:50.666Z"
   },
   {
    "duration": 8,
    "start_time": "2023-10-12T21:44:54.234Z"
   },
   {
    "duration": 7,
    "start_time": "2023-10-12T21:44:57.008Z"
   },
   {
    "duration": 10,
    "start_time": "2023-10-12T21:45:00.001Z"
   },
   {
    "duration": 1436,
    "start_time": "2023-10-12T21:45:03.743Z"
   },
   {
    "duration": 127,
    "start_time": "2023-10-12T21:45:05.268Z"
   },
   {
    "duration": 342,
    "start_time": "2023-10-12T21:45:08.519Z"
   },
   {
    "duration": 3,
    "start_time": "2023-10-12T22:53:01.927Z"
   },
   {
    "duration": 2,
    "start_time": "2023-10-12T22:53:02.603Z"
   },
   {
    "duration": 3,
    "start_time": "2023-10-12T22:53:04.641Z"
   },
   {
    "duration": 3,
    "start_time": "2023-10-12T22:53:05.298Z"
   },
   {
    "duration": 66,
    "start_time": "2023-10-12T22:53:05.971Z"
   },
   {
    "duration": 15,
    "start_time": "2023-10-12T22:53:07.344Z"
   },
   {
    "duration": 17,
    "start_time": "2023-10-12T22:53:09.460Z"
   },
   {
    "duration": 14,
    "start_time": "2023-10-12T22:53:11.491Z"
   },
   {
    "duration": 7,
    "start_time": "2023-10-12T22:53:15.060Z"
   },
   {
    "duration": 8,
    "start_time": "2023-10-12T22:53:16.501Z"
   },
   {
    "duration": 6,
    "start_time": "2023-10-12T22:53:17.971Z"
   },
   {
    "duration": 10,
    "start_time": "2023-10-12T22:53:20.067Z"
   },
   {
    "duration": 15,
    "start_time": "2023-10-12T22:53:21.483Z"
   },
   {
    "duration": 5,
    "start_time": "2023-10-12T22:53:22.167Z"
   },
   {
    "duration": 6,
    "start_time": "2023-10-12T22:53:24.258Z"
   },
   {
    "duration": 13,
    "start_time": "2023-10-12T22:53:27.782Z"
   },
   {
    "duration": 123,
    "start_time": "2023-10-12T22:53:28.463Z"
   },
   {
    "duration": 140,
    "start_time": "2023-10-12T22:53:30.650Z"
   },
   {
    "duration": 154,
    "start_time": "2023-10-12T22:53:32.786Z"
   },
   {
    "duration": 163,
    "start_time": "2023-10-12T22:53:34.960Z"
   },
   {
    "duration": 166,
    "start_time": "2023-10-12T22:53:37.171Z"
   },
   {
    "duration": 16,
    "start_time": "2023-10-12T22:53:40.094Z"
   },
   {
    "duration": 23,
    "start_time": "2023-10-12T22:53:40.775Z"
   },
   {
    "duration": 16,
    "start_time": "2023-10-12T22:53:42.905Z"
   },
   {
    "duration": 14,
    "start_time": "2023-10-12T22:53:43.590Z"
   },
   {
    "duration": 154,
    "start_time": "2023-10-12T22:53:45.053Z"
   },
   {
    "duration": 277,
    "start_time": "2023-10-12T22:53:45.779Z"
   },
   {
    "duration": 5,
    "start_time": "2023-10-12T22:53:48.595Z"
   },
   {
    "duration": 23,
    "start_time": "2023-10-12T22:53:49.282Z"
   },
   {
    "duration": 19,
    "start_time": "2023-10-12T22:53:50.703Z"
   },
   {
    "duration": 13,
    "start_time": "2023-10-12T22:53:51.467Z"
   },
   {
    "duration": 6,
    "start_time": "2023-10-12T22:53:55.834Z"
   },
   {
    "duration": 6,
    "start_time": "2023-10-12T22:54:00.249Z"
   },
   {
    "duration": 12,
    "start_time": "2023-10-12T22:54:03.017Z"
   },
   {
    "duration": 1330,
    "start_time": "2023-10-12T22:54:11.729Z"
   },
   {
    "duration": 113,
    "start_time": "2023-10-12T22:54:13.391Z"
   },
   {
    "duration": 281,
    "start_time": "2023-10-12T22:54:16.574Z"
   },
   {
    "duration": 3,
    "start_time": "2023-10-12T22:56:49.623Z"
   },
   {
    "duration": 2,
    "start_time": "2023-10-12T22:56:50.308Z"
   },
   {
    "duration": 2,
    "start_time": "2023-10-12T22:56:52.226Z"
   },
   {
    "duration": 3,
    "start_time": "2023-10-12T22:56:52.863Z"
   },
   {
    "duration": 66,
    "start_time": "2023-10-12T22:56:53.570Z"
   },
   {
    "duration": 15,
    "start_time": "2023-10-12T22:56:54.981Z"
   },
   {
    "duration": 16,
    "start_time": "2023-10-12T22:56:57.044Z"
   },
   {
    "duration": 14,
    "start_time": "2023-10-12T22:56:59.130Z"
   },
   {
    "duration": 7,
    "start_time": "2023-10-12T22:57:02.557Z"
   },
   {
    "duration": 6,
    "start_time": "2023-10-12T22:57:03.943Z"
   },
   {
    "duration": 5,
    "start_time": "2023-10-12T22:57:05.318Z"
   },
   {
    "duration": 10,
    "start_time": "2023-10-12T22:57:07.321Z"
   },
   {
    "duration": 15,
    "start_time": "2023-10-12T22:57:08.699Z"
   },
   {
    "duration": 5,
    "start_time": "2023-10-12T22:57:09.411Z"
   },
   {
    "duration": 6,
    "start_time": "2023-10-12T22:57:11.422Z"
   },
   {
    "duration": 12,
    "start_time": "2023-10-12T22:57:14.669Z"
   },
   {
    "duration": 124,
    "start_time": "2023-10-12T22:57:15.379Z"
   },
   {
    "duration": 138,
    "start_time": "2023-10-12T22:57:17.546Z"
   },
   {
    "duration": 169,
    "start_time": "2023-10-12T22:57:19.648Z"
   },
   {
    "duration": 160,
    "start_time": "2023-10-12T22:57:21.674Z"
   },
   {
    "duration": 183,
    "start_time": "2023-10-12T22:57:24.117Z"
   },
   {
    "duration": 16,
    "start_time": "2023-10-12T22:57:26.875Z"
   },
   {
    "duration": 23,
    "start_time": "2023-10-12T22:57:27.540Z"
   },
   {
    "duration": 15,
    "start_time": "2023-10-12T22:57:29.619Z"
   },
   {
    "duration": 16,
    "start_time": "2023-10-12T22:57:30.306Z"
   },
   {
    "duration": 155,
    "start_time": "2023-10-12T22:57:31.717Z"
   },
   {
    "duration": 149,
    "start_time": "2023-10-12T22:57:32.390Z"
   },
   {
    "duration": 4,
    "start_time": "2023-10-12T22:57:35.214Z"
   },
   {
    "duration": 23,
    "start_time": "2023-10-12T22:57:35.918Z"
   },
   {
    "duration": 19,
    "start_time": "2023-10-12T22:57:37.350Z"
   },
   {
    "duration": 14,
    "start_time": "2023-10-12T22:57:39.655Z"
   },
   {
    "duration": 8,
    "start_time": "2023-10-12T22:57:44.423Z"
   },
   {
    "duration": 6,
    "start_time": "2023-10-12T22:57:53.042Z"
   },
   {
    "duration": 12,
    "start_time": "2023-10-12T22:57:58.034Z"
   },
   {
    "duration": 1444,
    "start_time": "2023-10-12T22:58:10.301Z"
   },
   {
    "duration": 263,
    "start_time": "2023-10-12T22:58:12.786Z"
   },
   {
    "duration": 333,
    "start_time": "2023-10-12T22:58:15.725Z"
   },
   {
    "duration": 1368,
    "start_time": "2023-10-14T02:24:12.022Z"
   },
   {
    "duration": 3,
    "start_time": "2023-10-14T02:24:13.392Z"
   },
   {
    "duration": 3,
    "start_time": "2023-10-14T02:24:15.247Z"
   },
   {
    "duration": 4,
    "start_time": "2023-10-14T02:24:16.445Z"
   },
   {
    "duration": 208,
    "start_time": "2023-10-14T02:24:17.063Z"
   },
   {
    "duration": 20,
    "start_time": "2023-10-14T02:24:18.351Z"
   },
   {
    "duration": 17,
    "start_time": "2023-10-14T02:24:20.329Z"
   },
   {
    "duration": 16,
    "start_time": "2023-10-14T02:24:22.288Z"
   },
   {
    "duration": 8,
    "start_time": "2023-10-14T02:24:25.632Z"
   },
   {
    "duration": 10,
    "start_time": "2023-10-14T02:24:27.305Z"
   },
   {
    "duration": 6,
    "start_time": "2023-10-14T02:24:30.182Z"
   },
   {
    "duration": 11,
    "start_time": "2023-10-14T02:24:32.559Z"
   },
   {
    "duration": 17,
    "start_time": "2023-10-14T02:24:34.174Z"
   },
   {
    "duration": 5,
    "start_time": "2023-10-14T02:24:35.538Z"
   },
   {
    "duration": 6,
    "start_time": "2023-10-14T02:24:37.600Z"
   },
   {
    "duration": 15,
    "start_time": "2023-10-14T02:24:42.657Z"
   },
   {
    "duration": 149,
    "start_time": "2023-10-14T02:24:43.224Z"
   },
   {
    "duration": 154,
    "start_time": "2023-10-14T02:24:45.981Z"
   },
   {
    "duration": 175,
    "start_time": "2023-10-14T02:24:54.378Z"
   },
   {
    "duration": 179,
    "start_time": "2023-10-14T02:24:58.486Z"
   },
   {
    "duration": 198,
    "start_time": "2023-10-14T02:25:00.773Z"
   },
   {
    "duration": 19,
    "start_time": "2023-10-14T02:25:08.697Z"
   },
   {
    "duration": 23,
    "start_time": "2023-10-14T02:25:09.751Z"
   },
   {
    "duration": 16,
    "start_time": "2023-10-14T02:25:15.361Z"
   },
   {
    "duration": 11,
    "start_time": "2023-10-14T02:25:22.401Z"
   },
   {
    "duration": 4,
    "start_time": "2023-10-14T02:25:43.614Z"
   },
   {
    "duration": 14,
    "start_time": "2023-10-14T02:26:25.679Z"
   },
   {
    "duration": 7,
    "start_time": "2023-10-14T02:26:27.199Z"
   },
   {
    "duration": 7,
    "start_time": "2023-10-14T02:26:42.654Z"
   },
   {
    "duration": 3,
    "start_time": "2023-10-14T02:26:44.438Z"
   },
   {
    "duration": 95,
    "start_time": "2023-10-14T02:34:11.790Z"
   },
   {
    "duration": 117,
    "start_time": "2023-10-14T02:35:42.838Z"
   },
   {
    "duration": 273,
    "start_time": "2023-10-14T02:36:34.965Z"
   },
   {
    "duration": 138,
    "start_time": "2023-10-14T02:36:57.722Z"
   },
   {
    "duration": 8,
    "start_time": "2023-10-14T02:44:31.556Z"
   },
   {
    "duration": 7,
    "start_time": "2023-10-14T02:45:21.809Z"
   },
   {
    "duration": 4,
    "start_time": "2023-10-14T02:45:25.308Z"
   },
   {
    "duration": 207,
    "start_time": "2023-10-14T02:45:51.625Z"
   },
   {
    "duration": 203,
    "start_time": "2023-10-14T02:45:52.347Z"
   },
   {
    "duration": 5,
    "start_time": "2023-10-14T02:45:56.225Z"
   },
   {
    "duration": 27,
    "start_time": "2023-10-14T02:45:57.009Z"
   },
   {
    "duration": 23,
    "start_time": "2023-10-14T02:45:58.439Z"
   },
   {
    "duration": 17,
    "start_time": "2023-10-14T02:45:59.423Z"
   },
   {
    "duration": 8,
    "start_time": "2023-10-14T02:46:11.534Z"
   },
   {
    "duration": 7,
    "start_time": "2023-10-14T02:47:04.261Z"
   },
   {
    "duration": 1257,
    "start_time": "2023-10-14T16:05:09.514Z"
   },
   {
    "duration": 4,
    "start_time": "2023-10-14T16:12:47.069Z"
   },
   {
    "duration": 2,
    "start_time": "2023-10-14T16:13:18.592Z"
   },
   {
    "duration": 3,
    "start_time": "2023-10-14T16:14:12.550Z"
   },
   {
    "duration": 3,
    "start_time": "2023-10-14T16:15:35.692Z"
   },
   {
    "duration": 4,
    "start_time": "2023-10-14T16:15:37.462Z"
   },
   {
    "duration": 191,
    "start_time": "2023-10-14T16:15:38.450Z"
   },
   {
    "duration": 19,
    "start_time": "2023-10-14T16:15:48.686Z"
   },
   {
    "duration": 20,
    "start_time": "2023-10-14T16:16:02.361Z"
   },
   {
    "duration": 13,
    "start_time": "2023-10-14T16:16:11.833Z"
   },
   {
    "duration": 7,
    "start_time": "2023-10-14T16:16:20.478Z"
   },
   {
    "duration": 8,
    "start_time": "2023-10-14T16:16:22.297Z"
   },
   {
    "duration": 5,
    "start_time": "2023-10-14T16:16:38.020Z"
   },
   {
    "duration": 12,
    "start_time": "2023-10-14T16:16:42.645Z"
   },
   {
    "duration": 14,
    "start_time": "2023-10-14T16:16:44.569Z"
   },
   {
    "duration": 5,
    "start_time": "2023-10-14T16:17:01.801Z"
   },
   {
    "duration": 7,
    "start_time": "2023-10-14T16:17:07.538Z"
   },
   {
    "duration": 15,
    "start_time": "2023-10-14T16:17:18.133Z"
   },
   {
    "duration": 143,
    "start_time": "2023-10-14T16:17:23.118Z"
   },
   {
    "duration": 138,
    "start_time": "2023-10-14T16:17:30.576Z"
   },
   {
    "duration": 156,
    "start_time": "2023-10-14T16:17:49.403Z"
   },
   {
    "duration": 145,
    "start_time": "2023-10-14T16:28:41.319Z"
   },
   {
    "duration": 156,
    "start_time": "2023-10-14T16:28:43.653Z"
   },
   {
    "duration": 11,
    "start_time": "2023-10-14T16:37:19.815Z"
   },
   {
    "duration": 22,
    "start_time": "2023-10-14T16:50:30.669Z"
   },
   {
    "duration": 13,
    "start_time": "2023-10-14T16:50:46.088Z"
   },
   {
    "duration": 34,
    "start_time": "2023-10-14T16:54:38.730Z"
   },
   {
    "duration": 12,
    "start_time": "2023-10-14T16:55:05.324Z"
   },
   {
    "duration": 3,
    "start_time": "2023-10-14T16:55:32.577Z"
   },
   {
    "duration": 5,
    "start_time": "2023-10-14T16:57:23.028Z"
   },
   {
    "duration": 2,
    "start_time": "2023-10-14T16:57:43.933Z"
   },
   {
    "duration": 3,
    "start_time": "2023-10-14T16:58:00.218Z"
   },
   {
    "duration": 3,
    "start_time": "2023-10-14T16:58:18.171Z"
   },
   {
    "duration": 3,
    "start_time": "2023-10-14T16:59:01.267Z"
   },
   {
    "duration": 3,
    "start_time": "2023-10-14T16:59:02.851Z"
   },
   {
    "duration": 3,
    "start_time": "2023-10-14T16:59:04.333Z"
   },
   {
    "duration": 2,
    "start_time": "2023-10-14T16:59:05.436Z"
   },
   {
    "duration": 73,
    "start_time": "2023-10-14T16:59:06.019Z"
   },
   {
    "duration": 15,
    "start_time": "2023-10-14T16:59:07.097Z"
   },
   {
    "duration": 14,
    "start_time": "2023-10-14T16:59:08.721Z"
   },
   {
    "duration": 12,
    "start_time": "2023-10-14T16:59:10.398Z"
   },
   {
    "duration": 6,
    "start_time": "2023-10-14T16:59:13.113Z"
   },
   {
    "duration": 7,
    "start_time": "2023-10-14T16:59:14.155Z"
   },
   {
    "duration": 5,
    "start_time": "2023-10-14T16:59:15.366Z"
   },
   {
    "duration": 10,
    "start_time": "2023-10-14T16:59:17.157Z"
   },
   {
    "duration": 13,
    "start_time": "2023-10-14T16:59:18.258Z"
   },
   {
    "duration": 10,
    "start_time": "2023-10-14T16:59:19.345Z"
   },
   {
    "duration": 5,
    "start_time": "2023-10-14T16:59:21.061Z"
   },
   {
    "duration": 14,
    "start_time": "2023-10-14T16:59:24.281Z"
   },
   {
    "duration": 126,
    "start_time": "2023-10-14T16:59:24.824Z"
   },
   {
    "duration": 134,
    "start_time": "2023-10-14T16:59:26.530Z"
   },
   {
    "duration": 142,
    "start_time": "2023-10-14T16:59:28.982Z"
   },
   {
    "duration": 153,
    "start_time": "2023-10-14T16:59:31.949Z"
   },
   {
    "duration": 221,
    "start_time": "2023-10-14T16:59:33.738Z"
   },
   {
    "duration": 13,
    "start_time": "2023-10-14T16:59:38.306Z"
   },
   {
    "duration": 2,
    "start_time": "2023-10-14T16:59:40.522Z"
   },
   {
    "duration": 5,
    "start_time": "2023-10-14T16:59:42.368Z"
   },
   {
    "duration": 2,
    "start_time": "2023-10-14T16:59:43.006Z"
   },
   {
    "duration": 4,
    "start_time": "2023-10-14T16:59:43.653Z"
   },
   {
    "duration": 4,
    "start_time": "2023-10-14T16:59:44.454Z"
   },
   {
    "duration": 2,
    "start_time": "2023-10-14T17:03:37.483Z"
   },
   {
    "duration": 12,
    "start_time": "2023-10-14T17:03:38.057Z"
   },
   {
    "duration": 2,
    "start_time": "2023-10-14T17:03:38.680Z"
   },
   {
    "duration": 2,
    "start_time": "2023-10-14T17:03:39.279Z"
   },
   {
    "duration": 10,
    "start_time": "2023-10-14T17:03:39.953Z"
   },
   {
    "duration": 3,
    "start_time": "2023-10-14T17:08:46.949Z"
   },
   {
    "duration": 6,
    "start_time": "2023-10-14T17:08:48.439Z"
   },
   {
    "duration": 2,
    "start_time": "2023-10-14T17:08:50.033Z"
   },
   {
    "duration": 15,
    "start_time": "2023-10-14T17:08:51.042Z"
   },
   {
    "duration": 99,
    "start_time": "2023-10-14T17:08:51.574Z"
   },
   {
    "duration": 33,
    "start_time": "2023-10-14T17:08:52.626Z"
   },
   {
    "duration": 15,
    "start_time": "2023-10-14T17:08:54.380Z"
   },
   {
    "duration": 16,
    "start_time": "2023-10-14T17:08:56.267Z"
   },
   {
    "duration": 6,
    "start_time": "2023-10-14T17:08:59.206Z"
   },
   {
    "duration": 8,
    "start_time": "2023-10-14T17:09:00.396Z"
   },
   {
    "duration": 5,
    "start_time": "2023-10-14T17:09:01.510Z"
   },
   {
    "duration": 12,
    "start_time": "2023-10-14T17:09:03.382Z"
   },
   {
    "duration": 24,
    "start_time": "2023-10-14T17:09:04.835Z"
   },
   {
    "duration": 5,
    "start_time": "2023-10-14T17:09:06.011Z"
   },
   {
    "duration": 6,
    "start_time": "2023-10-14T17:09:07.753Z"
   },
   {
    "duration": 19,
    "start_time": "2023-10-14T17:09:11.162Z"
   },
   {
    "duration": 137,
    "start_time": "2023-10-14T17:09:11.719Z"
   },
   {
    "duration": 190,
    "start_time": "2023-10-14T17:09:13.328Z"
   },
   {
    "duration": 207,
    "start_time": "2023-10-14T17:09:15.791Z"
   },
   {
    "duration": 158,
    "start_time": "2023-10-14T17:09:19.262Z"
   },
   {
    "duration": 175,
    "start_time": "2023-10-14T17:09:21.100Z"
   },
   {
    "duration": 12,
    "start_time": "2023-10-14T17:09:24.524Z"
   },
   {
    "duration": 2,
    "start_time": "2023-10-14T17:09:28.588Z"
   },
   {
    "duration": 6,
    "start_time": "2023-10-14T17:09:29.180Z"
   },
   {
    "duration": 16,
    "start_time": "2023-10-14T17:09:30.453Z"
   },
   {
    "duration": 2,
    "start_time": "2023-10-14T17:09:31.676Z"
   },
   {
    "duration": 6,
    "start_time": "2023-10-14T17:09:33.239Z"
   },
   {
    "duration": 5,
    "start_time": "2023-10-14T17:09:53.597Z"
   },
   {
    "duration": 191,
    "start_time": "2023-10-14T17:10:34.415Z"
   },
   {
    "duration": 3,
    "start_time": "2023-10-14T17:13:01.166Z"
   },
   {
    "duration": 3,
    "start_time": "2023-10-14T17:13:02.620Z"
   },
   {
    "duration": 3,
    "start_time": "2023-10-14T17:13:04.232Z"
   },
   {
    "duration": 3,
    "start_time": "2023-10-14T17:13:05.327Z"
   },
   {
    "duration": 76,
    "start_time": "2023-10-14T17:13:05.876Z"
   },
   {
    "duration": 14,
    "start_time": "2023-10-14T17:13:07.008Z"
   },
   {
    "duration": 14,
    "start_time": "2023-10-14T17:13:08.779Z"
   },
   {
    "duration": 17,
    "start_time": "2023-10-14T17:13:10.613Z"
   },
   {
    "duration": 18,
    "start_time": "2023-10-14T17:13:13.537Z"
   },
   {
    "duration": 7,
    "start_time": "2023-10-14T17:13:14.721Z"
   },
   {
    "duration": 6,
    "start_time": "2023-10-14T17:13:15.866Z"
   },
   {
    "duration": 9,
    "start_time": "2023-10-14T17:13:17.587Z"
   },
   {
    "duration": 37,
    "start_time": "2023-10-14T17:13:18.829Z"
   },
   {
    "duration": 4,
    "start_time": "2023-10-14T17:13:19.913Z"
   },
   {
    "duration": 6,
    "start_time": "2023-10-14T17:13:21.701Z"
   },
   {
    "duration": 11,
    "start_time": "2023-10-14T17:13:25.104Z"
   },
   {
    "duration": 136,
    "start_time": "2023-10-14T17:13:25.661Z"
   },
   {
    "duration": 135,
    "start_time": "2023-10-14T17:13:27.383Z"
   },
   {
    "duration": 156,
    "start_time": "2023-10-14T17:13:29.878Z"
   },
   {
    "duration": 157,
    "start_time": "2023-10-14T17:13:33.060Z"
   },
   {
    "duration": 271,
    "start_time": "2023-10-14T17:13:36.232Z"
   },
   {
    "duration": 26,
    "start_time": "2023-10-14T17:13:40.653Z"
   },
   {
    "duration": 2,
    "start_time": "2023-10-14T17:13:43.084Z"
   },
   {
    "duration": 6,
    "start_time": "2023-10-14T17:13:43.822Z"
   },
   {
    "duration": 2,
    "start_time": "2023-10-14T17:13:44.605Z"
   },
   {
    "duration": 10,
    "start_time": "2023-10-14T17:13:45.254Z"
   },
   {
    "duration": 3,
    "start_time": "2023-10-14T17:13:45.966Z"
   },
   {
    "duration": 3,
    "start_time": "2023-10-14T17:13:48.420Z"
   },
   {
    "duration": 182,
    "start_time": "2023-10-14T17:13:49.527Z"
   },
   {
    "duration": 16,
    "start_time": "2023-10-14T17:24:16.001Z"
   },
   {
    "duration": 193,
    "start_time": "2023-10-14T17:25:59.489Z"
   },
   {
    "duration": 189,
    "start_time": "2023-10-14T17:38:46.545Z"
   },
   {
    "duration": 20,
    "start_time": "2023-10-14T17:39:03.973Z"
   },
   {
    "duration": 21,
    "start_time": "2023-10-14T17:39:05.873Z"
   },
   {
    "duration": 20,
    "start_time": "2023-10-14T17:39:19.658Z"
   },
   {
    "duration": 6,
    "start_time": "2023-10-14T17:39:21.426Z"
   },
   {
    "duration": 3,
    "start_time": "2023-10-14T17:39:22.297Z"
   },
   {
    "duration": 17,
    "start_time": "2023-10-14T17:39:23.969Z"
   },
   {
    "duration": 6,
    "start_time": "2023-10-14T17:39:25.402Z"
   },
   {
    "duration": 3,
    "start_time": "2023-10-14T17:39:27.915Z"
   },
   {
    "duration": 10,
    "start_time": "2023-10-14T17:46:43.094Z"
   },
   {
    "duration": 3,
    "start_time": "2023-10-14T17:46:49.846Z"
   },
   {
    "duration": 5,
    "start_time": "2023-10-14T17:46:50.414Z"
   },
   {
    "duration": 2,
    "start_time": "2023-10-14T17:46:50.985Z"
   },
   {
    "duration": 2,
    "start_time": "2023-10-14T17:46:51.523Z"
   },
   {
    "duration": 4,
    "start_time": "2023-10-14T17:46:52.092Z"
   },
   {
    "duration": 5,
    "start_time": "2023-10-14T17:46:53.567Z"
   },
   {
    "duration": 162,
    "start_time": "2023-10-14T17:46:54.786Z"
   },
   {
    "duration": 16,
    "start_time": "2023-10-14T17:47:00.007Z"
   },
   {
    "duration": 19,
    "start_time": "2023-10-14T17:47:00.592Z"
   },
   {
    "duration": 17,
    "start_time": "2023-10-14T17:47:02.322Z"
   },
   {
    "duration": 6,
    "start_time": "2023-10-14T17:47:02.867Z"
   },
   {
    "duration": 3,
    "start_time": "2023-10-14T17:47:03.408Z"
   },
   {
    "duration": 15,
    "start_time": "2023-10-14T17:47:03.946Z"
   },
   {
    "duration": 6,
    "start_time": "2023-10-14T17:47:04.476Z"
   },
   {
    "duration": 4,
    "start_time": "2023-10-14T17:47:04.987Z"
   },
   {
    "duration": 162,
    "start_time": "2023-10-14T17:47:15.697Z"
   },
   {
    "duration": 171,
    "start_time": "2023-10-14T17:47:16.303Z"
   },
   {
    "duration": 4,
    "start_time": "2023-10-14T17:47:20.144Z"
   },
   {
    "duration": 20,
    "start_time": "2023-10-14T17:47:20.875Z"
   },
   {
    "duration": 22,
    "start_time": "2023-10-14T17:47:22.576Z"
   },
   {
    "duration": 17,
    "start_time": "2023-10-14T17:47:23.336Z"
   },
   {
    "duration": 6,
    "start_time": "2023-10-14T17:47:43.270Z"
   },
   {
    "duration": 7,
    "start_time": "2023-10-14T17:59:56.592Z"
   },
   {
    "duration": 9,
    "start_time": "2023-10-14T18:09:48.432Z"
   },
   {
    "duration": 1175,
    "start_time": "2023-10-14T18:10:03.849Z"
   },
   {
    "duration": 130,
    "start_time": "2023-10-14T18:10:11.790Z"
   },
   {
    "duration": 106,
    "start_time": "2023-10-14T18:25:41.319Z"
   },
   {
    "duration": 106,
    "start_time": "2023-10-14T18:26:04.043Z"
   },
   {
    "duration": 69,
    "start_time": "2023-10-14T18:28:13.765Z"
   },
   {
    "duration": 79,
    "start_time": "2023-10-14T18:47:14.360Z"
   },
   {
    "duration": 351,
    "start_time": "2023-10-14T18:51:59.138Z"
   },
   {
    "duration": 4,
    "start_time": "2023-10-14T18:55:29.791Z"
   },
   {
    "duration": 1404,
    "start_time": "2023-10-14T22:41:05.525Z"
   },
   {
    "duration": 3,
    "start_time": "2023-10-14T22:41:07.714Z"
   },
   {
    "duration": 11,
    "start_time": "2023-10-14T22:41:09.358Z"
   },
   {
    "duration": 3,
    "start_time": "2023-10-14T22:41:10.399Z"
   },
   {
    "duration": 219,
    "start_time": "2023-10-14T22:41:10.980Z"
   },
   {
    "duration": 26,
    "start_time": "2023-10-14T22:41:12.016Z"
   },
   {
    "duration": 31,
    "start_time": "2023-10-14T22:41:13.639Z"
   },
   {
    "duration": 13,
    "start_time": "2023-10-14T22:41:15.267Z"
   },
   {
    "duration": 7,
    "start_time": "2023-10-14T22:41:17.822Z"
   },
   {
    "duration": 8,
    "start_time": "2023-10-14T22:41:20.617Z"
   },
   {
    "duration": 6,
    "start_time": "2023-10-14T22:41:21.772Z"
   },
   {
    "duration": 17,
    "start_time": "2023-10-14T22:41:23.637Z"
   },
   {
    "duration": 26,
    "start_time": "2023-10-14T22:41:24.763Z"
   },
   {
    "duration": 6,
    "start_time": "2023-10-14T22:41:25.970Z"
   },
   {
    "duration": 6,
    "start_time": "2023-10-14T22:41:27.710Z"
   },
   {
    "duration": 15,
    "start_time": "2023-10-14T22:41:31.671Z"
   },
   {
    "duration": 180,
    "start_time": "2023-10-14T22:41:32.457Z"
   },
   {
    "duration": 181,
    "start_time": "2023-10-14T22:41:34.742Z"
   },
   {
    "duration": 189,
    "start_time": "2023-10-14T22:41:37.886Z"
   },
   {
    "duration": 202,
    "start_time": "2023-10-14T22:41:42.271Z"
   },
   {
    "duration": 193,
    "start_time": "2023-10-14T22:41:44.082Z"
   },
   {
    "duration": 13,
    "start_time": "2023-10-14T22:41:51.596Z"
   },
   {
    "duration": 3,
    "start_time": "2023-10-14T22:41:55.011Z"
   },
   {
    "duration": 6,
    "start_time": "2023-10-14T22:41:55.619Z"
   },
   {
    "duration": 3,
    "start_time": "2023-10-14T22:41:56.232Z"
   },
   {
    "duration": 2,
    "start_time": "2023-10-14T22:41:57.287Z"
   },
   {
    "duration": 3,
    "start_time": "2023-10-14T22:41:58.817Z"
   },
   {
    "duration": 5,
    "start_time": "2023-10-14T22:42:08.621Z"
   },
   {
    "duration": 201,
    "start_time": "2023-10-14T22:42:09.629Z"
   },
   {
    "duration": 17,
    "start_time": "2023-10-14T22:42:15.568Z"
   },
   {
    "duration": 41,
    "start_time": "2023-10-14T22:42:16.229Z"
   },
   {
    "duration": 32,
    "start_time": "2023-10-14T22:42:30.428Z"
   },
   {
    "duration": 7,
    "start_time": "2023-10-14T22:42:31.084Z"
   },
   {
    "duration": 4,
    "start_time": "2023-10-14T22:42:33.500Z"
   },
   {
    "duration": 15,
    "start_time": "2023-10-14T22:42:34.987Z"
   },
   {
    "duration": 6,
    "start_time": "2023-10-14T22:42:36.201Z"
   },
   {
    "duration": 6,
    "start_time": "2023-10-14T22:42:36.953Z"
   },
   {
    "duration": 166,
    "start_time": "2023-10-14T22:42:47.760Z"
   },
   {
    "duration": 173,
    "start_time": "2023-10-14T22:42:48.545Z"
   },
   {
    "duration": 6,
    "start_time": "2023-10-14T22:42:57.200Z"
   },
   {
    "duration": 37,
    "start_time": "2023-10-14T22:42:57.828Z"
   },
   {
    "duration": 21,
    "start_time": "2023-10-14T22:42:59.659Z"
   },
   {
    "duration": 13,
    "start_time": "2023-10-14T22:43:00.987Z"
   },
   {
    "duration": 14,
    "start_time": "2023-10-14T22:43:09.850Z"
   },
   {
    "duration": 6,
    "start_time": "2023-10-14T22:43:15.790Z"
   },
   {
    "duration": 12,
    "start_time": "2023-10-14T22:43:23.330Z"
   },
   {
    "duration": 1552,
    "start_time": "2023-10-14T22:44:02.010Z"
   },
   {
    "duration": 175,
    "start_time": "2023-10-14T22:53:50.420Z"
   },
   {
    "duration": 346,
    "start_time": "2023-10-14T22:55:42.483Z"
   }
  ],
  "kernelspec": {
   "display_name": "Python 3 (ipykernel)",
   "language": "python",
   "name": "python3"
  },
  "language_info": {
   "codemirror_mode": {
    "name": "ipython",
    "version": 3
   },
   "file_extension": ".py",
   "mimetype": "text/x-python",
   "name": "python",
   "nbconvert_exporter": "python",
   "pygments_lexer": "ipython3",
   "version": "3.9.5"
  },
  "toc": {
   "base_numbering": 1,
   "nav_menu": {},
   "number_sections": true,
   "sideBar": true,
   "skip_h1_title": true,
   "title_cell": "Table of Contents",
   "title_sidebar": "Contents",
   "toc_cell": false,
   "toc_position": {},
   "toc_section_display": true,
   "toc_window_display": false
  }
 },
 "nbformat": 4,
 "nbformat_minor": 5
}
