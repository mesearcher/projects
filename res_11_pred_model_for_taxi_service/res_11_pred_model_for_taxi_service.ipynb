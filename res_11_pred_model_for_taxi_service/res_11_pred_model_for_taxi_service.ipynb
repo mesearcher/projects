{
 "cells": [
  {
   "cell_type": "markdown",
   "metadata": {},
   "source": [
    "## Predictive Model for Taxi Service"
   ]
  },
  {
   "cell_type": "markdown",
   "metadata": {},
   "source": [
    "**Project Objectives:**\n",
    "\n",
    "The project aims to develop a model that predicts the number of taxi orders for the next hour. To achieve this, the following steps will be taken:\n",
    "\n",
    "1. Data Pre-processing\n",
    "2. Exploratory Analysis\n",
    "3. Data Preparation for Machine Learning\n",
    "4. Model Selection and Training Algorithm\n",
    "5. Training, Setting, Testing, and Checking Model Quality\n",
    "6. Forecast and Conclusion\n",
    "\n",
    "In alignment with the customer’s business objectives, the project involves creating a model for predicting taxi service load, specifically addressing peak hours (a linear regression problem for time series forecasting).\n",
    "\n",
    "**Data Source:**\n",
    "\n",
    "The dataset provided by the customer contains historical data on taxi orders at airports.\n",
    "\n",
    "**Tools and libraries:**\n",
    "- Python\n",
    "- Pandas\n",
    "- Matplotlib\n",
    "- Numpy\n",
    "- Sklearn\n",
    "- Seaborn\n",
    "- LightGBM"
   ]
  },
  {
   "cell_type": "markdown",
   "metadata": {},
   "source": [
    "#  Прогнозная модель для предсказания заказов такси"
   ]
  },
  {
   "cell_type": "markdown",
   "metadata": {},
   "source": [
    "**Аннотация проекта**\n",
    "\n",
    "На данных сервиса такси проводится исследовательский анализ с последующей разработкой решения на основе моделирования, которое позволит компании оптимизировать сервис с учётом динамики заказов в час пик.\n",
    "\n",
    "**Цель исследования** — разработать модель для прогноза количества заказов такси на следующий час. Для этого будут выполнены следующие шаги:\n",
    "\n",
    "- Предварительная обработка данных.\n",
    "- Исследовательский анализ.\n",
    "- Подготовка данных для машинного обучения.\n",
    "- Выбор модели и алгоритма её обучения.\n",
    "- Обучение, настройка, тестирование и оценка качества моделей.\n",
    "- Прогноз и выводы.\n",
    "\n",
    "Учитывая бизнес-задачи заказчика, предстоит разработать прогнозную модель для предсказания загруженности сервиса такси с учётом часов пиковой нагрузки (задача линейной регрессии для прогнозирования временных рядов).\n",
    "\n",
    "**Согласно условиям** показатель метрики *RMSE* на тестовой выборке не должен превышать значение 48.\n",
    "\n",
    "**Описание данных**\n",
    "\n",
    "Датасет, представленный заказчиком, содержит исторические данные о заказах такси в аэропортах.\n",
    "\n",
    "**Инструменты и библиотеки:**\n",
    "- Python\n",
    "- Pandas\n",
    "- Matplotlib\n",
    "- Numpy\n",
    "- Sklearn\n",
    "- Seaborn\n",
    "- LightGBM"
   ]
  },
  {
   "cell_type": "code",
   "execution_count": 1,
   "metadata": {},
   "outputs": [
    {
     "name": "stderr",
     "output_type": "stream",
     "text": [
      "\n",
      "[notice] A new release of pip is available: 23.2.1 -> 24.0\n",
      "[notice] To update, run: python.exe -m pip install --upgrade pip\n"
     ]
    }
   ],
   "source": [
    "! pip install phik -q"
   ]
  },
  {
   "cell_type": "code",
   "execution_count": 2,
   "metadata": {},
   "outputs": [
    {
     "name": "stderr",
     "output_type": "stream",
     "text": [
      "\n",
      "[notice] A new release of pip is available: 23.2.1 -> 24.0\n",
      "[notice] To update, run: python.exe -m pip install --upgrade pip\n"
     ]
    }
   ],
   "source": [
    "! pip install --upgrade scikit-learn -q"
   ]
  },
  {
   "cell_type": "code",
   "execution_count": 3,
   "metadata": {},
   "outputs": [],
   "source": [
    "# импорт библиотек, модулей и функций\n",
    "import sklearn\n",
    "import pandas as pd\n",
    "import numpy as np\n",
    "import matplotlib.pyplot as plt\n",
    "from pandas.plotting import parallel_coordinates\n",
    "import seaborn as sns\n",
    "import lightgbm as lgb\n",
    "import re, time\n",
    "import warnings\n",
    "\n",
    "# модуль для анализа временных рядов\n",
    "from statsmodels.tsa.seasonal import seasonal_decompose\n",
    "# модуль для оценки стационарности временных рядов\n",
    "from statsmodels.tsa.stattools import adfuller\n",
    "# функция для оценки автокорреляции\n",
    "from statsmodels.graphics import tsaplots\n",
    "\n",
    "# инструменты для пайплайн\n",
    "from sklearn.pipeline import Pipeline\n",
    "# функция для разделения датасета на выборки\n",
    "from sklearn.model_selection import train_test_split\n",
    "\n",
    "# классы для моделей машинного обучения\n",
    "from sklearn.linear_model import LinearRegression\n",
    "from sklearn.ensemble import RandomForestRegressor\n",
    "from lightgbm import LGBMRegressor\n",
    "\n",
    "# инструменты для автоподбора гиперпараметров\n",
    "from sklearn.model_selection import RandomizedSearchCV, TimeSeriesSplit\n",
    "from scipy.stats import randint\n",
    "# импорт функций для расчёта метрик\n",
    "from sklearn.metrics import mean_squared_error\n",
    "# модуль для создания контролируемого и воспроизводимого источника случайных чисел\n",
    "from numpy.random import RandomState"
   ]
  },
  {
   "cell_type": "code",
   "execution_count": 4,
   "metadata": {},
   "outputs": [],
   "source": [
    "# установим настройки для отображения всех столбцов датафрейма\n",
    "pd.set_option('display.max_columns', None)"
   ]
  },
  {
   "cell_type": "markdown",
   "metadata": {},
   "source": [
    "## Загрузка данных"
   ]
  },
  {
   "cell_type": "markdown",
   "metadata": {},
   "source": [
    "- Загрузим файл и проверим, что данные в таблице соответствуют описанию.\n",
    "- Выполним ресемплирование данных по одному часу."
   ]
  },
  {
   "cell_type": "code",
   "execution_count": 5,
   "metadata": {},
   "outputs": [
    {
     "data": {
      "text/html": [
       "<div>\n",
       "<style scoped>\n",
       "    .dataframe tbody tr th:only-of-type {\n",
       "        vertical-align: middle;\n",
       "    }\n",
       "\n",
       "    .dataframe tbody tr th {\n",
       "        vertical-align: top;\n",
       "    }\n",
       "\n",
       "    .dataframe thead th {\n",
       "        text-align: right;\n",
       "    }\n",
       "</style>\n",
       "<table border=\"1\" class=\"dataframe\">\n",
       "  <thead>\n",
       "    <tr style=\"text-align: right;\">\n",
       "      <th></th>\n",
       "      <th>num_orders</th>\n",
       "    </tr>\n",
       "    <tr>\n",
       "      <th>datetime</th>\n",
       "      <th></th>\n",
       "    </tr>\n",
       "  </thead>\n",
       "  <tbody>\n",
       "    <tr>\n",
       "      <th>2018-03-01 00:00:00</th>\n",
       "      <td>9</td>\n",
       "    </tr>\n",
       "    <tr>\n",
       "      <th>2018-03-01 00:10:00</th>\n",
       "      <td>14</td>\n",
       "    </tr>\n",
       "    <tr>\n",
       "      <th>2018-03-01 00:20:00</th>\n",
       "      <td>28</td>\n",
       "    </tr>\n",
       "    <tr>\n",
       "      <th>2018-03-01 00:30:00</th>\n",
       "      <td>20</td>\n",
       "    </tr>\n",
       "    <tr>\n",
       "      <th>2018-03-01 00:40:00</th>\n",
       "      <td>32</td>\n",
       "    </tr>\n",
       "  </tbody>\n",
       "</table>\n",
       "</div>"
      ],
      "text/plain": [
       "                     num_orders\n",
       "datetime                       \n",
       "2018-03-01 00:00:00           9\n",
       "2018-03-01 00:10:00          14\n",
       "2018-03-01 00:20:00          28\n",
       "2018-03-01 00:30:00          20\n",
       "2018-03-01 00:40:00          32"
      ]
     },
     "execution_count": 5,
     "metadata": {},
     "output_type": "execute_result"
    }
   ],
   "source": [
    "# считываем данные из csv-файла и сохраняем в датафрейм\n",
    "df = pd.read_csv('https://code.s3.yandex.net/datasets/taxi.csv', index_col=[0], parse_dates=[0])\n",
    "# выведем первые пять строк\n",
    "df.head()"
   ]
  },
  {
   "cell_type": "code",
   "execution_count": 6,
   "metadata": {},
   "outputs": [
    {
     "data": {
      "text/plain": [
       "True"
      ]
     },
     "execution_count": 6,
     "metadata": {},
     "output_type": "execute_result"
    }
   ],
   "source": [
    "# преобразуем индекс в объекты datetime\n",
    "df.index = pd.to_datetime(df.index)\n",
    "# сортировка, чтобы гарантировать, что ресемплинг будет выполнен на отсортированном индексе\n",
    "df.sort_index(inplace=True)\n",
    "# проверим в хронологическом ли порядке расположены дата и время\n",
    "df.index.is_monotonic"
   ]
  },
  {
   "cell_type": "code",
   "execution_count": 7,
   "metadata": {},
   "outputs": [],
   "source": [
    "# выполним ресемплинг с интервалом 1 час\n",
    "df = df.resample('1H').sum()"
   ]
  },
  {
   "cell_type": "code",
   "execution_count": 8,
   "metadata": {},
   "outputs": [
    {
     "data": {
      "text/html": [
       "<div>\n",
       "<style scoped>\n",
       "    .dataframe tbody tr th:only-of-type {\n",
       "        vertical-align: middle;\n",
       "    }\n",
       "\n",
       "    .dataframe tbody tr th {\n",
       "        vertical-align: top;\n",
       "    }\n",
       "\n",
       "    .dataframe thead th {\n",
       "        text-align: right;\n",
       "    }\n",
       "</style>\n",
       "<table border=\"1\" class=\"dataframe\">\n",
       "  <thead>\n",
       "    <tr style=\"text-align: right;\">\n",
       "      <th></th>\n",
       "      <th>num_orders</th>\n",
       "    </tr>\n",
       "    <tr>\n",
       "      <th>datetime</th>\n",
       "      <th></th>\n",
       "    </tr>\n",
       "  </thead>\n",
       "  <tbody>\n",
       "    <tr>\n",
       "      <th>2018-03-01 00:00:00</th>\n",
       "      <td>124</td>\n",
       "    </tr>\n",
       "    <tr>\n",
       "      <th>2018-03-01 01:00:00</th>\n",
       "      <td>85</td>\n",
       "    </tr>\n",
       "    <tr>\n",
       "      <th>2018-03-01 02:00:00</th>\n",
       "      <td>71</td>\n",
       "    </tr>\n",
       "    <tr>\n",
       "      <th>2018-03-01 03:00:00</th>\n",
       "      <td>66</td>\n",
       "    </tr>\n",
       "    <tr>\n",
       "      <th>2018-03-01 04:00:00</th>\n",
       "      <td>43</td>\n",
       "    </tr>\n",
       "  </tbody>\n",
       "</table>\n",
       "</div>"
      ],
      "text/plain": [
       "                     num_orders\n",
       "datetime                       \n",
       "2018-03-01 00:00:00         124\n",
       "2018-03-01 01:00:00          85\n",
       "2018-03-01 02:00:00          71\n",
       "2018-03-01 03:00:00          66\n",
       "2018-03-01 04:00:00          43"
      ]
     },
     "execution_count": 8,
     "metadata": {},
     "output_type": "execute_result"
    }
   ],
   "source": [
    "# выведем первые пять строк\n",
    "df.head()"
   ]
  },
  {
   "cell_type": "code",
   "execution_count": 9,
   "metadata": {},
   "outputs": [
    {
     "data": {
      "text/plain": [
       "num_orders    0\n",
       "dtype: int64"
      ]
     },
     "execution_count": 9,
     "metadata": {},
     "output_type": "execute_result"
    }
   ],
   "source": [
    "# оценим количество пропусков\n",
    "df.isna().sum()"
   ]
  },
  {
   "cell_type": "code",
   "execution_count": 10,
   "metadata": {},
   "outputs": [
    {
     "name": "stdout",
     "output_type": "stream",
     "text": [
      "<class 'pandas.core.frame.DataFrame'>\n",
      "DatetimeIndex: 4416 entries, 2018-03-01 00:00:00 to 2018-08-31 23:00:00\n",
      "Freq: H\n",
      "Data columns (total 1 columns):\n",
      " #   Column      Non-Null Count  Dtype\n",
      "---  ------      --------------  -----\n",
      " 0   num_orders  4416 non-null   int64\n",
      "dtypes: int64(1)\n",
      "memory usage: 69.0 KB\n"
     ]
    }
   ],
   "source": [
    "# выведем основную информацию о таблице\n",
    "df.info()"
   ]
  },
  {
   "cell_type": "markdown",
   "metadata": {},
   "source": [
    "**Вывод:**\n",
    "- Данные загружены и корректно отображаются в таблице.\n",
    "- Таблица содержит два столбца, из них один входной признак формата даты и целевой признак числового типа.\n",
    "- Столбец `num_orders` — целевой признак, содержит количественные значения числа заказов такси.\n",
    "- Данные охватывают период с 2018-03-01 00:00:00 по 2018-08-31 23:00:00 и представлены с десятиминутным интервалом.\n",
    "- Дата и время расположены в хронологическом порядке.\n",
    "- Выполнена сортировка, чтобы гарантировать ресемплирование на отсортированном индексе. После ресемплинга данные представлены с часовым интервалом.\n",
    "- Пропусков не обнаружено."
   ]
  },
  {
   "cell_type": "markdown",
   "metadata": {},
   "source": [
    "## Анализ и подготовка данных"
   ]
  },
  {
   "cell_type": "markdown",
   "metadata": {},
   "source": [
    "1. Построим графики и оценим характеристики данных временных рядов.\n",
    "2. Для адекватного обучения модели, которая по историческим данным предскажет будущие значения временного ряда, создадим новые признаки на основе данных временного ряда."
   ]
  },
  {
   "cell_type": "code",
   "execution_count": 11,
   "metadata": {},
   "outputs": [
    {
     "data": {
      "image/png": "[encoded data removed]",
      "text/plain": [
       "<Figure size 864x432 with 1 Axes>"
      ]
     },
     "metadata": {
      "needs_background": "light"
     },
     "output_type": "display_data"
    }
   ],
   "source": [
    "# визуализируем временной ряд\n",
    "df['num_orders'].plot(figsize=(12, 6))\n",
    "plt.title('Временной ряд числа заказов такси')\n",
    "plt.xlabel('Период')\n",
    "plt.ylabel('Количество заказов')\n",
    "plt.show()"
   ]
  },
  {
   "cell_type": "markdown",
   "metadata": {},
   "source": [
    "**Вывод:**\n",
    "- На графике временной ряд стохастического процесса. На первый взгляд, имеет вид стационарного временного ряда.\n",
    "- Однако, для более ясной оценки типа временного ряда, построим дополнительные графики по выделенным промежуткам."
   ]
  },
  {
   "cell_type": "code",
   "execution_count": 12,
   "metadata": {},
   "outputs": [
    {
     "data": {
      "image/png": "[encoded data removed]",
      "text/plain": [
       "<Figure size 864x360 with 2 Axes>"
      ]
     },
     "metadata": {
      "needs_background": "light"
     },
     "output_type": "display_data"
    }
   ],
   "source": [
    "# рассмотрим графики заказов для первого и последнего месяцев периода\n",
    "fig, axs = plt.subplots(1, 2, figsize=(12, 5))\n",
    "\n",
    "df.loc['2018-03'].plot(ax=axs[0], title='Месячный график заказов такси')\n",
    "axs[0].set_xlabel('Недели марта')\n",
    "axs[0].set_ylabel('Количество заказов')\n",
    "\n",
    "df.loc['2018-08'].plot(ax=axs[1], title='Месячный график заказов такси')\n",
    "axs[1].set_xlabel('Недели августа')\n",
    "axs[1].set_ylabel('Количество заказов')\n",
    "\n",
    "plt.tight_layout()\n",
    "plt.show()"
   ]
  },
  {
   "cell_type": "code",
   "execution_count": 13,
   "metadata": {},
   "outputs": [
    {
     "data": {
      "image/png": "[encoded data removed]",
      "text/plain": [
       "<Figure size 864x360 with 2 Axes>"
      ]
     },
     "metadata": {
      "needs_background": "light"
     },
     "output_type": "display_data"
    }
   ],
   "source": [
    "# рассмотрим недельный график заказов в первую и последнюю недели периода\n",
    "fig, axs = plt.subplots(1, 2, figsize=(12, 5))\n",
    "\n",
    "df.loc['2018-03-01':'2018-03-07'].plot(ax=axs[0], title='Недельный график заказов такси')\n",
    "axs[0].set_xlabel('День первой недели марта')\n",
    "axs[0].set_ylabel('Количество заказов')\n",
    "\n",
    "df.loc['2018-08-25':'2018-08-31'].plot(ax=axs[1], title='Недельный график заказов такси')\n",
    "axs[1].set_xlabel('День последней недели августа')\n",
    "axs[1].set_ylabel('Количество заказов')\n",
    "\n",
    "plt.tight_layout()\n",
    "plt.show()"
   ]
  },
  {
   "cell_type": "code",
   "execution_count": 14,
   "metadata": {},
   "outputs": [
    {
     "data": {
      "image/png": "[encoded data removed]",
      "text/plain": [
       "<Figure size 864x360 with 2 Axes>"
      ]
     },
     "metadata": {
      "needs_background": "light"
     },
     "output_type": "display_data"
    }
   ],
   "source": [
    "# рассмотрим суточный график заказов в первый и последний дни периода\n",
    "fig, axs = plt.subplots(1, 2, figsize=(12, 5))\n",
    "\n",
    "df.head(24).plot(ax=axs[0], title='Суточный график заказов такси')\n",
    "axs[0].set_xlabel('Время заказов в первый день периода')\n",
    "axs[0].set_ylabel('Количество заказов')\n",
    "\n",
    "df.tail(24).plot(ax=axs[1], title='Суточный график заказов такси')\n",
    "axs[1].set_xlabel('Время заказов в последний день периода')\n",
    "axs[1].set_ylabel('Количество заказов')\n",
    "\n",
    "plt.tight_layout()\n",
    "plt.show()"
   ]
  },
  {
   "cell_type": "markdown",
   "metadata": {},
   "source": [
    "**Вывод:**\n",
    "- Оценка отдельных срезов в промежутке *месяц — неделя — день* слабо проясняет характер данных.\n",
    "- Можно проследить суточные пики заказов такси в районе полуночи и спады ранним утром.\n",
    "- Далее построим сводный график заказов такси по дням недели."
   ]
  },
  {
   "cell_type": "code",
   "execution_count": 15,
   "metadata": {},
   "outputs": [
    {
     "data": {
      "image/png": "[encoded data removed]",
      "text/plain": [
       "<Figure size 432x288 with 1 Axes>"
      ]
     },
     "metadata": {
      "needs_background": "light"
     },
     "output_type": "display_data"
    }
   ],
   "source": [
    "# построим сводный график заказов такси по дням недели\n",
    "df_wd = df.resample('1D').sum()\n",
    "df_wd = df_wd.assign(wd=df_wd.index.weekday)\n",
    "\n",
    "sns.lineplot(data=df_wd, x='wd', y='num_orders')\n",
    "plt.xlabel('День недели')\n",
    "plt.ylabel('Количество заказов')\n",
    "plt.title('График заказов такси по дням недели')\n",
    "plt.show()"
   ]
  },
  {
   "cell_type": "markdown",
   "metadata": {},
   "source": [
    "**Вывод:**\n",
    "- График показывает устойчивую популярность заказов такси в понедельник и в пятницу.\n",
    "- Далее проследим сезонность и тенденции. Сделаем декомпозицию с ресемплированием по часу. Рассмотрим период в несколько дней и оценим суточную сезонность, то есть как количество заказов зависит от времени суток."
   ]
  },
  {
   "cell_type": "code",
   "execution_count": 16,
   "metadata": {},
   "outputs": [
    {
     "data": {
      "image/png": "[encoded data removed]",
      "text/plain": [
       "<Figure size 864x576 with 4 Axes>"
      ]
     },
     "metadata": {
      "needs_background": "light"
     },
     "output_type": "display_data"
    }
   ],
   "source": [
    "# извлечение определенного периода\n",
    "df_hourly = df['2018-08-01':'2018-08-03']\n",
    "\n",
    "# сезонная декомпозиция\n",
    "result = seasonal_decompose(df_hourly['num_orders'], model='additive', period=24)\n",
    "\n",
    "# графики декомпозиции\n",
    "plt.figure(figsize=(12, 8))\n",
    "\n",
    "# исходный временной ряд\n",
    "plt.subplot(4, 1, 1)\n",
    "plt.plot(df_hourly['num_orders'], label='Исходный временной ряд')\n",
    "plt.legend()\n",
    "plt.xlabel('Дата и время')\n",
    "plt.ylabel('Число заказов')\n",
    "\n",
    "# график тренда\n",
    "plt.subplot(4, 1, 2)\n",
    "plt.plot(result.trend, label='Суточный тренд')\n",
    "plt.legend()\n",
    "plt.xlabel('Дата и время')\n",
    "plt.ylabel('Тренд')\n",
    "\n",
    "# график сезонности\n",
    "plt.subplot(4, 1, 3)\n",
    "plt.plot(result.seasonal, label='Суточная сезонность')\n",
    "plt.legend()\n",
    "plt.xlabel('Дата и время')\n",
    "plt.ylabel('Сезонность')\n",
    "\n",
    "# график остатков\n",
    "plt.subplot(4, 1, 4)\n",
    "plt.plot(result.resid, label='Суточные остатки')\n",
    "plt.legend()\n",
    "plt.xlabel('Дата и время')\n",
    "plt.ylabel('Остатки')\n",
    "\n",
    "plt.tight_layout()\n",
    "plt.show()"
   ]
  },
  {
   "cell_type": "markdown",
   "metadata": {},
   "source": [
    "**Исследуем остатки** по всему периоду (5 месяцев), чтобы проследить будет ли изменение в какой-то из периодов. Тогда увеличение количества и разброса остатков в конце графика — к августу, будет говорить о том, что модели будет сложнее, выучив закономерности предыдущего периода, корректно предсказывать количество заказов на август.\n",
    "\n",
    "В таком случае можно предположить, что ожидаем снижение качества модели на тестовой выборке и это не будет связанно с качеством модели."
   ]
  },
  {
   "cell_type": "code",
   "execution_count": 17,
   "metadata": {},
   "outputs": [
    {
     "data": {
      "image/png": "[encoded data removed]",
      "text/plain": [
       "<Figure size 432x288 with 1 Axes>"
      ]
     },
     "metadata": {
      "needs_background": "light"
     },
     "output_type": "display_data"
    }
   ],
   "source": [
    "# декомпозиция остатков по всему периоду\n",
    "res = seasonal_decompose(df['num_orders'])\n",
    "\n",
    "plt.plot(res.resid, label='Суточные остатки')\n",
    "plt.legend()\n",
    "plt.xlabel('Дата и время')\n",
    "plt.ylabel('Остатки')\n",
    "\n",
    "plt.show()"
   ]
  },
  {
   "cell_type": "markdown",
   "metadata": {},
   "source": [
    "**Вывод:**\n",
    "- Оценивая общий тренд, можно отметить, что число заказов такси увеличивается в зависимости от времени суток.\n",
    "- Сезонность связана с периодами в пределах суток, в частности, со временем полуночи.\n",
    "- График остатков отражает основные закономерности временного ряда. Необычно большие остатки в определенных точках могут указывать на выбросы или аномалии в данных, это может привести к неточным прогнозам в аналогичных случаях в будущем.\n",
    "- Прогнозировать данные помогают стационарные ряды. Стационарные временные ряды — это ряды, у которых среднее и стандартное отклонение не меняются.\n",
    "- Для проверки стационарности используем тест Дики-Фуллера. "
   ]
  },
  {
   "cell_type": "code",
   "execution_count": 18,
   "metadata": {},
   "outputs": [
    {
     "name": "stdout",
     "output_type": "stream",
     "text": [
      "ADF Statistic: -3.068924289027954\n",
      "p-value: 0.028940051402613028\n"
     ]
    }
   ],
   "source": [
    "# тест Дики-Фуллера\n",
    "adf_result = adfuller(df['num_orders'])\n",
    "print('ADF Statistic:', adf_result[0])\n",
    "print('p-value:', adf_result[1])"
   ]
  },
  {
   "cell_type": "markdown",
   "metadata": {},
   "source": [
    "**Вывод:**\n",
    "- Тест показывает значение p меньше уровня значимости, следовательно данные можно считать стационарными.\n",
    "- Далее для корректного обучения модели, создадим новые признаки на основе данных временного ряда.\n",
    "\n",
    "В нашем распоряжении данные за шесть месяцев, значит годовую сезонность проследить невозможно. При этом можно предсказать сезонность в пределах месяца, **создав признаки** на уровень ниже месяца, то есть недельные отстающие значения/лаги."
   ]
  },
  {
   "cell_type": "code",
   "execution_count": 19,
   "metadata": {},
   "outputs": [],
   "source": [
    "# функция добавит в датафрейм три календарных признака: день, день недели и час\n",
    "def make_features(data, max_lag, rolling_mean_size):\n",
    "    data['day'] = data.index.day\n",
    "    data['dayofweek'] = data.index.dayofweek\n",
    "    data['hour'] = data.index.hour\n",
    "    # создает отстающие признаки для выявления временных зависимостей и закономерностей в данных \n",
    "    for lag in range(1, max_lag + 1):\n",
    "        data['lag_{}'.format(lag)] = data['num_orders'].shift(lag)\n",
    "    # вычисляет скользящее среднее значение для выявления общего тренда временного ряда\n",
    "    data['rolling_mean'] = data['num_orders'].shift().rolling(rolling_mean_size).mean()"
   ]
  },
  {
   "cell_type": "markdown",
   "metadata": {},
   "source": [
    "Один из самых важных признаков в задаче временных рядов — это так называемые «лаги», то есть, значения предыдущих периодов наблюдения. Мы помним, что модель не считает по столбцам таблицы, она считает и подбирает веса к строкам датасета. Соответственно, если мы хотим, чтобы модель предсказывала следующее значение, опираясь на предыдущие, нужно, чтобы она эти предыдущие значения увидела (по горизонтали датасета).\n",
    "Поэтому важно создать новые колонки с отстающими значениями. Особенно полезны будут те лаги, которые имеют высокую корреляцию с таргетом. \n",
    "\n",
    "Логично, что высокая корреляция будет при выраженной сезонности. Если у нас посуточная сезонность, то каждый час одних суток будет немного похож по динамике заказов на тот же час предыдущих суток (например, к 17:00 количество заказов увеличивается, к 00:00 еще, а к 6:00 падает до минимума, и так каждый день). Значит, нам понадобится 24-й лаг, который будет отражать суточную сезонность. Если есть недельная сезонность, то по этой же причине нам будет очень важен 168-й лаг (24 часа * 7 дней = 168).\n",
    "\n",
    "Значимость лагов можно посмотреть по **автокорреляции**."
   ]
  },
  {
   "cell_type": "code",
   "execution_count": 20,
   "metadata": {},
   "outputs": [
    {
     "data": {
      "image/png": "[encoded data removed]",
      "text/plain": [
       "<Figure size 1332x432 with 1 Axes>"
      ]
     },
     "metadata": {
      "needs_background": "light"
     },
     "output_type": "display_data"
    }
   ],
   "source": [
    "# оценка значимости лагов\n",
    "ts = df['num_orders']\n",
    "\n",
    "fig = tsaplots.plot_acf(ts,lags= 190)\n",
    "fig.set_size_inches(18.5, 6)\n",
    "plt.ylim(-.1, 1.1)\n",
    "plt.show() "
   ]
  },
  {
   "cell_type": "markdown",
   "metadata": {},
   "source": [
    "**Вывод:**\n",
    "- Функция показывает, как признак коррелирует с предыдущими. Область синей заливки обозначает порог статистической значимости, если значение внутри, корреляция уже не заслуживает доверия (статзначимость вычисляется по тесту Стьюдента)."
   ]
  },
  {
   "cell_type": "code",
   "execution_count": 21,
   "metadata": {},
   "outputs": [
    {
     "data": {
      "text/html": [
       "<div>\n",
       "<style scoped>\n",
       "    .dataframe tbody tr th:only-of-type {\n",
       "        vertical-align: middle;\n",
       "    }\n",
       "\n",
       "    .dataframe tbody tr th {\n",
       "        vertical-align: top;\n",
       "    }\n",
       "\n",
       "    .dataframe thead th {\n",
       "        text-align: right;\n",
       "    }\n",
       "</style>\n",
       "<table border=\"1\" class=\"dataframe\">\n",
       "  <thead>\n",
       "    <tr style=\"text-align: right;\">\n",
       "      <th></th>\n",
       "      <th>num_orders</th>\n",
       "      <th>day</th>\n",
       "      <th>dayofweek</th>\n",
       "      <th>hour</th>\n",
       "      <th>lag_1</th>\n",
       "      <th>lag_2</th>\n",
       "      <th>lag_3</th>\n",
       "      <th>lag_4</th>\n",
       "      <th>lag_5</th>\n",
       "      <th>lag_6</th>\n",
       "      <th>lag_7</th>\n",
       "      <th>lag_8</th>\n",
       "      <th>lag_9</th>\n",
       "      <th>lag_10</th>\n",
       "      <th>lag_11</th>\n",
       "      <th>lag_12</th>\n",
       "      <th>lag_13</th>\n",
       "      <th>lag_14</th>\n",
       "      <th>lag_15</th>\n",
       "      <th>lag_16</th>\n",
       "      <th>lag_17</th>\n",
       "      <th>lag_18</th>\n",
       "      <th>lag_19</th>\n",
       "      <th>lag_20</th>\n",
       "      <th>lag_21</th>\n",
       "      <th>lag_22</th>\n",
       "      <th>lag_23</th>\n",
       "      <th>lag_24</th>\n",
       "      <th>lag_25</th>\n",
       "      <th>lag_26</th>\n",
       "      <th>lag_27</th>\n",
       "      <th>lag_28</th>\n",
       "      <th>lag_29</th>\n",
       "      <th>lag_30</th>\n",
       "      <th>lag_31</th>\n",
       "      <th>lag_32</th>\n",
       "      <th>lag_33</th>\n",
       "      <th>lag_34</th>\n",
       "      <th>lag_35</th>\n",
       "      <th>lag_36</th>\n",
       "      <th>lag_37</th>\n",
       "      <th>lag_38</th>\n",
       "      <th>lag_39</th>\n",
       "      <th>lag_40</th>\n",
       "      <th>lag_41</th>\n",
       "      <th>lag_42</th>\n",
       "      <th>lag_43</th>\n",
       "      <th>lag_44</th>\n",
       "      <th>lag_45</th>\n",
       "      <th>lag_46</th>\n",
       "      <th>lag_47</th>\n",
       "      <th>lag_48</th>\n",
       "      <th>lag_49</th>\n",
       "      <th>lag_50</th>\n",
       "      <th>lag_51</th>\n",
       "      <th>lag_52</th>\n",
       "      <th>lag_53</th>\n",
       "      <th>lag_54</th>\n",
       "      <th>lag_55</th>\n",
       "      <th>lag_56</th>\n",
       "      <th>lag_57</th>\n",
       "      <th>lag_58</th>\n",
       "      <th>lag_59</th>\n",
       "      <th>lag_60</th>\n",
       "      <th>lag_61</th>\n",
       "      <th>lag_62</th>\n",
       "      <th>lag_63</th>\n",
       "      <th>lag_64</th>\n",
       "      <th>lag_65</th>\n",
       "      <th>lag_66</th>\n",
       "      <th>lag_67</th>\n",
       "      <th>lag_68</th>\n",
       "      <th>lag_69</th>\n",
       "      <th>lag_70</th>\n",
       "      <th>lag_71</th>\n",
       "      <th>lag_72</th>\n",
       "      <th>lag_73</th>\n",
       "      <th>lag_74</th>\n",
       "      <th>lag_75</th>\n",
       "      <th>lag_76</th>\n",
       "      <th>lag_77</th>\n",
       "      <th>lag_78</th>\n",
       "      <th>lag_79</th>\n",
       "      <th>lag_80</th>\n",
       "      <th>lag_81</th>\n",
       "      <th>lag_82</th>\n",
       "      <th>lag_83</th>\n",
       "      <th>lag_84</th>\n",
       "      <th>lag_85</th>\n",
       "      <th>lag_86</th>\n",
       "      <th>lag_87</th>\n",
       "      <th>lag_88</th>\n",
       "      <th>lag_89</th>\n",
       "      <th>lag_90</th>\n",
       "      <th>lag_91</th>\n",
       "      <th>lag_92</th>\n",
       "      <th>lag_93</th>\n",
       "      <th>lag_94</th>\n",
       "      <th>lag_95</th>\n",
       "      <th>lag_96</th>\n",
       "      <th>lag_97</th>\n",
       "      <th>lag_98</th>\n",
       "      <th>lag_99</th>\n",
       "      <th>lag_100</th>\n",
       "      <th>lag_101</th>\n",
       "      <th>lag_102</th>\n",
       "      <th>lag_103</th>\n",
       "      <th>lag_104</th>\n",
       "      <th>lag_105</th>\n",
       "      <th>lag_106</th>\n",
       "      <th>lag_107</th>\n",
       "      <th>lag_108</th>\n",
       "      <th>lag_109</th>\n",
       "      <th>lag_110</th>\n",
       "      <th>lag_111</th>\n",
       "      <th>lag_112</th>\n",
       "      <th>lag_113</th>\n",
       "      <th>lag_114</th>\n",
       "      <th>lag_115</th>\n",
       "      <th>lag_116</th>\n",
       "      <th>lag_117</th>\n",
       "      <th>lag_118</th>\n",
       "      <th>lag_119</th>\n",
       "      <th>lag_120</th>\n",
       "      <th>lag_121</th>\n",
       "      <th>lag_122</th>\n",
       "      <th>lag_123</th>\n",
       "      <th>lag_124</th>\n",
       "      <th>lag_125</th>\n",
       "      <th>lag_126</th>\n",
       "      <th>lag_127</th>\n",
       "      <th>lag_128</th>\n",
       "      <th>lag_129</th>\n",
       "      <th>lag_130</th>\n",
       "      <th>lag_131</th>\n",
       "      <th>lag_132</th>\n",
       "      <th>lag_133</th>\n",
       "      <th>lag_134</th>\n",
       "      <th>lag_135</th>\n",
       "      <th>lag_136</th>\n",
       "      <th>lag_137</th>\n",
       "      <th>lag_138</th>\n",
       "      <th>lag_139</th>\n",
       "      <th>lag_140</th>\n",
       "      <th>lag_141</th>\n",
       "      <th>lag_142</th>\n",
       "      <th>lag_143</th>\n",
       "      <th>lag_144</th>\n",
       "      <th>lag_145</th>\n",
       "      <th>lag_146</th>\n",
       "      <th>lag_147</th>\n",
       "      <th>lag_148</th>\n",
       "      <th>lag_149</th>\n",
       "      <th>lag_150</th>\n",
       "      <th>lag_151</th>\n",
       "      <th>lag_152</th>\n",
       "      <th>lag_153</th>\n",
       "      <th>lag_154</th>\n",
       "      <th>lag_155</th>\n",
       "      <th>lag_156</th>\n",
       "      <th>lag_157</th>\n",
       "      <th>lag_158</th>\n",
       "      <th>lag_159</th>\n",
       "      <th>lag_160</th>\n",
       "      <th>lag_161</th>\n",
       "      <th>lag_162</th>\n",
       "      <th>lag_163</th>\n",
       "      <th>lag_164</th>\n",
       "      <th>lag_165</th>\n",
       "      <th>lag_166</th>\n",
       "      <th>lag_167</th>\n",
       "      <th>lag_168</th>\n",
       "      <th>rolling_mean</th>\n",
       "    </tr>\n",
       "    <tr>\n",
       "      <th>datetime</th>\n",
       "      <th></th>\n",
       "      <th></th>\n",
       "      <th></th>\n",
       "      <th></th>\n",
       "      <th></th>\n",
       "      <th></th>\n",
       "      <th></th>\n",
       "      <th></th>\n",
       "      <th></th>\n",
       "      <th></th>\n",
       "      <th></th>\n",
       "      <th></th>\n",
       "      <th></th>\n",
       "      <th></th>\n",
       "      <th></th>\n",
       "      <th></th>\n",
       "      <th></th>\n",
       "      <th></th>\n",
       "      <th></th>\n",
       "      <th></th>\n",
       "      <th></th>\n",
       "      <th></th>\n",
       "      <th></th>\n",
       "      <th></th>\n",
       "      <th></th>\n",
       "      <th></th>\n",
       "      <th></th>\n",
       "      <th></th>\n",
       "      <th></th>\n",
       "      <th></th>\n",
       "      <th></th>\n",
       "      <th></th>\n",
       "      <th></th>\n",
       "      <th></th>\n",
       "      <th></th>\n",
       "      <th></th>\n",
       "      <th></th>\n",
       "      <th></th>\n",
       "      <th></th>\n",
       "      <th></th>\n",
       "      <th></th>\n",
       "      <th></th>\n",
       "      <th></th>\n",
       "      <th></th>\n",
       "      <th></th>\n",
       "      <th></th>\n",
       "      <th></th>\n",
       "      <th></th>\n",
       "      <th></th>\n",
       "      <th></th>\n",
       "      <th></th>\n",
       "      <th></th>\n",
       "      <th></th>\n",
       "      <th></th>\n",
       "      <th></th>\n",
       "      <th></th>\n",
       "      <th></th>\n",
       "      <th></th>\n",
       "      <th></th>\n",
       "      <th></th>\n",
       "      <th></th>\n",
       "      <th></th>\n",
       "      <th></th>\n",
       "      <th></th>\n",
       "      <th></th>\n",
       "      <th></th>\n",
       "      <th></th>\n",
       "      <th></th>\n",
       "      <th></th>\n",
       "      <th></th>\n",
       "      <th></th>\n",
       "      <th></th>\n",
       "      <th></th>\n",
       "      <th></th>\n",
       "      <th></th>\n",
       "      <th></th>\n",
       "      <th></th>\n",
       "      <th></th>\n",
       "      <th></th>\n",
       "      <th></th>\n",
       "      <th></th>\n",
       "      <th></th>\n",
       "      <th></th>\n",
       "      <th></th>\n",
       "      <th></th>\n",
       "      <th></th>\n",
       "      <th></th>\n",
       "      <th></th>\n",
       "      <th></th>\n",
       "      <th></th>\n",
       "      <th></th>\n",
       "      <th></th>\n",
       "      <th></th>\n",
       "      <th></th>\n",
       "      <th></th>\n",
       "      <th></th>\n",
       "      <th></th>\n",
       "      <th></th>\n",
       "      <th></th>\n",
       "      <th></th>\n",
       "      <th></th>\n",
       "      <th></th>\n",
       "      <th></th>\n",
       "      <th></th>\n",
       "      <th></th>\n",
       "      <th></th>\n",
       "      <th></th>\n",
       "      <th></th>\n",
       "      <th></th>\n",
       "      <th></th>\n",
       "      <th></th>\n",
       "      <th></th>\n",
       "      <th></th>\n",
       "      <th></th>\n",
       "      <th></th>\n",
       "      <th></th>\n",
       "      <th></th>\n",
       "      <th></th>\n",
       "      <th></th>\n",
       "      <th></th>\n",
       "      <th></th>\n",
       "      <th></th>\n",
       "      <th></th>\n",
       "      <th></th>\n",
       "      <th></th>\n",
       "      <th></th>\n",
       "      <th></th>\n",
       "      <th></th>\n",
       "      <th></th>\n",
       "      <th></th>\n",
       "      <th></th>\n",
       "      <th></th>\n",
       "      <th></th>\n",
       "      <th></th>\n",
       "      <th></th>\n",
       "      <th></th>\n",
       "      <th></th>\n",
       "      <th></th>\n",
       "      <th></th>\n",
       "      <th></th>\n",
       "      <th></th>\n",
       "      <th></th>\n",
       "      <th></th>\n",
       "      <th></th>\n",
       "      <th></th>\n",
       "      <th></th>\n",
       "      <th></th>\n",
       "      <th></th>\n",
       "      <th></th>\n",
       "      <th></th>\n",
       "      <th></th>\n",
       "      <th></th>\n",
       "      <th></th>\n",
       "      <th></th>\n",
       "      <th></th>\n",
       "      <th></th>\n",
       "      <th></th>\n",
       "      <th></th>\n",
       "      <th></th>\n",
       "      <th></th>\n",
       "      <th></th>\n",
       "      <th></th>\n",
       "      <th></th>\n",
       "      <th></th>\n",
       "      <th></th>\n",
       "      <th></th>\n",
       "      <th></th>\n",
       "      <th></th>\n",
       "      <th></th>\n",
       "      <th></th>\n",
       "      <th></th>\n",
       "      <th></th>\n",
       "      <th></th>\n",
       "    </tr>\n",
       "  </thead>\n",
       "  <tbody>\n",
       "    <tr>\n",
       "      <th>2018-03-01 00:00:00</th>\n",
       "      <td>124</td>\n",
       "      <td>1</td>\n",
       "      <td>3</td>\n",
       "      <td>0</td>\n",
       "      <td>NaN</td>\n",
       "      <td>NaN</td>\n",
       "      <td>NaN</td>\n",
       "      <td>NaN</td>\n",
       "      <td>NaN</td>\n",
       "      <td>NaN</td>\n",
       "      <td>NaN</td>\n",
       "      <td>NaN</td>\n",
       "      <td>NaN</td>\n",
       "      <td>NaN</td>\n",
       "      <td>NaN</td>\n",
       "      <td>NaN</td>\n",
       "      <td>NaN</td>\n",
       "      <td>NaN</td>\n",
       "      <td>NaN</td>\n",
       "      <td>NaN</td>\n",
       "      <td>NaN</td>\n",
       "      <td>NaN</td>\n",
       "      <td>NaN</td>\n",
       "      <td>NaN</td>\n",
       "      <td>NaN</td>\n",
       "      <td>NaN</td>\n",
       "      <td>NaN</td>\n",
       "      <td>NaN</td>\n",
       "      <td>NaN</td>\n",
       "      <td>NaN</td>\n",
       "      <td>NaN</td>\n",
       "      <td>NaN</td>\n",
       "      <td>NaN</td>\n",
       "      <td>NaN</td>\n",
       "      <td>NaN</td>\n",
       "      <td>NaN</td>\n",
       "      <td>NaN</td>\n",
       "      <td>NaN</td>\n",
       "      <td>NaN</td>\n",
       "      <td>NaN</td>\n",
       "      <td>NaN</td>\n",
       "      <td>NaN</td>\n",
       "      <td>NaN</td>\n",
       "      <td>NaN</td>\n",
       "      <td>NaN</td>\n",
       "      <td>NaN</td>\n",
       "      <td>NaN</td>\n",
       "      <td>NaN</td>\n",
       "      <td>NaN</td>\n",
       "      <td>NaN</td>\n",
       "      <td>NaN</td>\n",
       "      <td>NaN</td>\n",
       "      <td>NaN</td>\n",
       "      <td>NaN</td>\n",
       "      <td>NaN</td>\n",
       "      <td>NaN</td>\n",
       "      <td>NaN</td>\n",
       "      <td>NaN</td>\n",
       "      <td>NaN</td>\n",
       "      <td>NaN</td>\n",
       "      <td>NaN</td>\n",
       "      <td>NaN</td>\n",
       "      <td>NaN</td>\n",
       "      <td>NaN</td>\n",
       "      <td>NaN</td>\n",
       "      <td>NaN</td>\n",
       "      <td>NaN</td>\n",
       "      <td>NaN</td>\n",
       "      <td>NaN</td>\n",
       "      <td>NaN</td>\n",
       "      <td>NaN</td>\n",
       "      <td>NaN</td>\n",
       "      <td>NaN</td>\n",
       "      <td>NaN</td>\n",
       "      <td>NaN</td>\n",
       "      <td>NaN</td>\n",
       "      <td>NaN</td>\n",
       "      <td>NaN</td>\n",
       "      <td>NaN</td>\n",
       "      <td>NaN</td>\n",
       "      <td>NaN</td>\n",
       "      <td>NaN</td>\n",
       "      <td>NaN</td>\n",
       "      <td>NaN</td>\n",
       "      <td>NaN</td>\n",
       "      <td>NaN</td>\n",
       "      <td>NaN</td>\n",
       "      <td>NaN</td>\n",
       "      <td>NaN</td>\n",
       "      <td>NaN</td>\n",
       "      <td>NaN</td>\n",
       "      <td>NaN</td>\n",
       "      <td>NaN</td>\n",
       "      <td>NaN</td>\n",
       "      <td>NaN</td>\n",
       "      <td>NaN</td>\n",
       "      <td>NaN</td>\n",
       "      <td>NaN</td>\n",
       "      <td>NaN</td>\n",
       "      <td>NaN</td>\n",
       "      <td>NaN</td>\n",
       "      <td>NaN</td>\n",
       "      <td>NaN</td>\n",
       "      <td>NaN</td>\n",
       "      <td>NaN</td>\n",
       "      <td>NaN</td>\n",
       "      <td>NaN</td>\n",
       "      <td>NaN</td>\n",
       "      <td>NaN</td>\n",
       "      <td>NaN</td>\n",
       "      <td>NaN</td>\n",
       "      <td>NaN</td>\n",
       "      <td>NaN</td>\n",
       "      <td>NaN</td>\n",
       "      <td>NaN</td>\n",
       "      <td>NaN</td>\n",
       "      <td>NaN</td>\n",
       "      <td>NaN</td>\n",
       "      <td>NaN</td>\n",
       "      <td>NaN</td>\n",
       "      <td>NaN</td>\n",
       "      <td>NaN</td>\n",
       "      <td>NaN</td>\n",
       "      <td>NaN</td>\n",
       "      <td>NaN</td>\n",
       "      <td>NaN</td>\n",
       "      <td>NaN</td>\n",
       "      <td>NaN</td>\n",
       "      <td>NaN</td>\n",
       "      <td>NaN</td>\n",
       "      <td>NaN</td>\n",
       "      <td>NaN</td>\n",
       "      <td>NaN</td>\n",
       "      <td>NaN</td>\n",
       "      <td>NaN</td>\n",
       "      <td>NaN</td>\n",
       "      <td>NaN</td>\n",
       "      <td>NaN</td>\n",
       "      <td>NaN</td>\n",
       "      <td>NaN</td>\n",
       "      <td>NaN</td>\n",
       "      <td>NaN</td>\n",
       "      <td>NaN</td>\n",
       "      <td>NaN</td>\n",
       "      <td>NaN</td>\n",
       "      <td>NaN</td>\n",
       "      <td>NaN</td>\n",
       "      <td>NaN</td>\n",
       "      <td>NaN</td>\n",
       "      <td>NaN</td>\n",
       "      <td>NaN</td>\n",
       "      <td>NaN</td>\n",
       "      <td>NaN</td>\n",
       "      <td>NaN</td>\n",
       "      <td>NaN</td>\n",
       "      <td>NaN</td>\n",
       "      <td>NaN</td>\n",
       "      <td>NaN</td>\n",
       "      <td>NaN</td>\n",
       "      <td>NaN</td>\n",
       "      <td>NaN</td>\n",
       "      <td>NaN</td>\n",
       "      <td>NaN</td>\n",
       "      <td>NaN</td>\n",
       "      <td>NaN</td>\n",
       "      <td>NaN</td>\n",
       "      <td>NaN</td>\n",
       "      <td>NaN</td>\n",
       "      <td>NaN</td>\n",
       "      <td>NaN</td>\n",
       "      <td>NaN</td>\n",
       "      <td>NaN</td>\n",
       "      <td>NaN</td>\n",
       "    </tr>\n",
       "    <tr>\n",
       "      <th>2018-03-01 01:00:00</th>\n",
       "      <td>85</td>\n",
       "      <td>1</td>\n",
       "      <td>3</td>\n",
       "      <td>1</td>\n",
       "      <td>124.0</td>\n",
       "      <td>NaN</td>\n",
       "      <td>NaN</td>\n",
       "      <td>NaN</td>\n",
       "      <td>NaN</td>\n",
       "      <td>NaN</td>\n",
       "      <td>NaN</td>\n",
       "      <td>NaN</td>\n",
       "      <td>NaN</td>\n",
       "      <td>NaN</td>\n",
       "      <td>NaN</td>\n",
       "      <td>NaN</td>\n",
       "      <td>NaN</td>\n",
       "      <td>NaN</td>\n",
       "      <td>NaN</td>\n",
       "      <td>NaN</td>\n",
       "      <td>NaN</td>\n",
       "      <td>NaN</td>\n",
       "      <td>NaN</td>\n",
       "      <td>NaN</td>\n",
       "      <td>NaN</td>\n",
       "      <td>NaN</td>\n",
       "      <td>NaN</td>\n",
       "      <td>NaN</td>\n",
       "      <td>NaN</td>\n",
       "      <td>NaN</td>\n",
       "      <td>NaN</td>\n",
       "      <td>NaN</td>\n",
       "      <td>NaN</td>\n",
       "      <td>NaN</td>\n",
       "      <td>NaN</td>\n",
       "      <td>NaN</td>\n",
       "      <td>NaN</td>\n",
       "      <td>NaN</td>\n",
       "      <td>NaN</td>\n",
       "      <td>NaN</td>\n",
       "      <td>NaN</td>\n",
       "      <td>NaN</td>\n",
       "      <td>NaN</td>\n",
       "      <td>NaN</td>\n",
       "      <td>NaN</td>\n",
       "      <td>NaN</td>\n",
       "      <td>NaN</td>\n",
       "      <td>NaN</td>\n",
       "      <td>NaN</td>\n",
       "      <td>NaN</td>\n",
       "      <td>NaN</td>\n",
       "      <td>NaN</td>\n",
       "      <td>NaN</td>\n",
       "      <td>NaN</td>\n",
       "      <td>NaN</td>\n",
       "      <td>NaN</td>\n",
       "      <td>NaN</td>\n",
       "      <td>NaN</td>\n",
       "      <td>NaN</td>\n",
       "      <td>NaN</td>\n",
       "      <td>NaN</td>\n",
       "      <td>NaN</td>\n",
       "      <td>NaN</td>\n",
       "      <td>NaN</td>\n",
       "      <td>NaN</td>\n",
       "      <td>NaN</td>\n",
       "      <td>NaN</td>\n",
       "      <td>NaN</td>\n",
       "      <td>NaN</td>\n",
       "      <td>NaN</td>\n",
       "      <td>NaN</td>\n",
       "      <td>NaN</td>\n",
       "      <td>NaN</td>\n",
       "      <td>NaN</td>\n",
       "      <td>NaN</td>\n",
       "      <td>NaN</td>\n",
       "      <td>NaN</td>\n",
       "      <td>NaN</td>\n",
       "      <td>NaN</td>\n",
       "      <td>NaN</td>\n",
       "      <td>NaN</td>\n",
       "      <td>NaN</td>\n",
       "      <td>NaN</td>\n",
       "      <td>NaN</td>\n",
       "      <td>NaN</td>\n",
       "      <td>NaN</td>\n",
       "      <td>NaN</td>\n",
       "      <td>NaN</td>\n",
       "      <td>NaN</td>\n",
       "      <td>NaN</td>\n",
       "      <td>NaN</td>\n",
       "      <td>NaN</td>\n",
       "      <td>NaN</td>\n",
       "      <td>NaN</td>\n",
       "      <td>NaN</td>\n",
       "      <td>NaN</td>\n",
       "      <td>NaN</td>\n",
       "      <td>NaN</td>\n",
       "      <td>NaN</td>\n",
       "      <td>NaN</td>\n",
       "      <td>NaN</td>\n",
       "      <td>NaN</td>\n",
       "      <td>NaN</td>\n",
       "      <td>NaN</td>\n",
       "      <td>NaN</td>\n",
       "      <td>NaN</td>\n",
       "      <td>NaN</td>\n",
       "      <td>NaN</td>\n",
       "      <td>NaN</td>\n",
       "      <td>NaN</td>\n",
       "      <td>NaN</td>\n",
       "      <td>NaN</td>\n",
       "      <td>NaN</td>\n",
       "      <td>NaN</td>\n",
       "      <td>NaN</td>\n",
       "      <td>NaN</td>\n",
       "      <td>NaN</td>\n",
       "      <td>NaN</td>\n",
       "      <td>NaN</td>\n",
       "      <td>NaN</td>\n",
       "      <td>NaN</td>\n",
       "      <td>NaN</td>\n",
       "      <td>NaN</td>\n",
       "      <td>NaN</td>\n",
       "      <td>NaN</td>\n",
       "      <td>NaN</td>\n",
       "      <td>NaN</td>\n",
       "      <td>NaN</td>\n",
       "      <td>NaN</td>\n",
       "      <td>NaN</td>\n",
       "      <td>NaN</td>\n",
       "      <td>NaN</td>\n",
       "      <td>NaN</td>\n",
       "      <td>NaN</td>\n",
       "      <td>NaN</td>\n",
       "      <td>NaN</td>\n",
       "      <td>NaN</td>\n",
       "      <td>NaN</td>\n",
       "      <td>NaN</td>\n",
       "      <td>NaN</td>\n",
       "      <td>NaN</td>\n",
       "      <td>NaN</td>\n",
       "      <td>NaN</td>\n",
       "      <td>NaN</td>\n",
       "      <td>NaN</td>\n",
       "      <td>NaN</td>\n",
       "      <td>NaN</td>\n",
       "      <td>NaN</td>\n",
       "      <td>NaN</td>\n",
       "      <td>NaN</td>\n",
       "      <td>NaN</td>\n",
       "      <td>NaN</td>\n",
       "      <td>NaN</td>\n",
       "      <td>NaN</td>\n",
       "      <td>NaN</td>\n",
       "      <td>NaN</td>\n",
       "      <td>NaN</td>\n",
       "      <td>NaN</td>\n",
       "      <td>NaN</td>\n",
       "      <td>NaN</td>\n",
       "      <td>NaN</td>\n",
       "      <td>NaN</td>\n",
       "      <td>NaN</td>\n",
       "      <td>NaN</td>\n",
       "      <td>NaN</td>\n",
       "      <td>NaN</td>\n",
       "      <td>NaN</td>\n",
       "      <td>NaN</td>\n",
       "      <td>NaN</td>\n",
       "      <td>NaN</td>\n",
       "      <td>NaN</td>\n",
       "      <td>NaN</td>\n",
       "      <td>NaN</td>\n",
       "    </tr>\n",
       "    <tr>\n",
       "      <th>2018-03-01 02:00:00</th>\n",
       "      <td>71</td>\n",
       "      <td>1</td>\n",
       "      <td>3</td>\n",
       "      <td>2</td>\n",
       "      <td>85.0</td>\n",
       "      <td>124.0</td>\n",
       "      <td>NaN</td>\n",
       "      <td>NaN</td>\n",
       "      <td>NaN</td>\n",
       "      <td>NaN</td>\n",
       "      <td>NaN</td>\n",
       "      <td>NaN</td>\n",
       "      <td>NaN</td>\n",
       "      <td>NaN</td>\n",
       "      <td>NaN</td>\n",
       "      <td>NaN</td>\n",
       "      <td>NaN</td>\n",
       "      <td>NaN</td>\n",
       "      <td>NaN</td>\n",
       "      <td>NaN</td>\n",
       "      <td>NaN</td>\n",
       "      <td>NaN</td>\n",
       "      <td>NaN</td>\n",
       "      <td>NaN</td>\n",
       "      <td>NaN</td>\n",
       "      <td>NaN</td>\n",
       "      <td>NaN</td>\n",
       "      <td>NaN</td>\n",
       "      <td>NaN</td>\n",
       "      <td>NaN</td>\n",
       "      <td>NaN</td>\n",
       "      <td>NaN</td>\n",
       "      <td>NaN</td>\n",
       "      <td>NaN</td>\n",
       "      <td>NaN</td>\n",
       "      <td>NaN</td>\n",
       "      <td>NaN</td>\n",
       "      <td>NaN</td>\n",
       "      <td>NaN</td>\n",
       "      <td>NaN</td>\n",
       "      <td>NaN</td>\n",
       "      <td>NaN</td>\n",
       "      <td>NaN</td>\n",
       "      <td>NaN</td>\n",
       "      <td>NaN</td>\n",
       "      <td>NaN</td>\n",
       "      <td>NaN</td>\n",
       "      <td>NaN</td>\n",
       "      <td>NaN</td>\n",
       "      <td>NaN</td>\n",
       "      <td>NaN</td>\n",
       "      <td>NaN</td>\n",
       "      <td>NaN</td>\n",
       "      <td>NaN</td>\n",
       "      <td>NaN</td>\n",
       "      <td>NaN</td>\n",
       "      <td>NaN</td>\n",
       "      <td>NaN</td>\n",
       "      <td>NaN</td>\n",
       "      <td>NaN</td>\n",
       "      <td>NaN</td>\n",
       "      <td>NaN</td>\n",
       "      <td>NaN</td>\n",
       "      <td>NaN</td>\n",
       "      <td>NaN</td>\n",
       "      <td>NaN</td>\n",
       "      <td>NaN</td>\n",
       "      <td>NaN</td>\n",
       "      <td>NaN</td>\n",
       "      <td>NaN</td>\n",
       "      <td>NaN</td>\n",
       "      <td>NaN</td>\n",
       "      <td>NaN</td>\n",
       "      <td>NaN</td>\n",
       "      <td>NaN</td>\n",
       "      <td>NaN</td>\n",
       "      <td>NaN</td>\n",
       "      <td>NaN</td>\n",
       "      <td>NaN</td>\n",
       "      <td>NaN</td>\n",
       "      <td>NaN</td>\n",
       "      <td>NaN</td>\n",
       "      <td>NaN</td>\n",
       "      <td>NaN</td>\n",
       "      <td>NaN</td>\n",
       "      <td>NaN</td>\n",
       "      <td>NaN</td>\n",
       "      <td>NaN</td>\n",
       "      <td>NaN</td>\n",
       "      <td>NaN</td>\n",
       "      <td>NaN</td>\n",
       "      <td>NaN</td>\n",
       "      <td>NaN</td>\n",
       "      <td>NaN</td>\n",
       "      <td>NaN</td>\n",
       "      <td>NaN</td>\n",
       "      <td>NaN</td>\n",
       "      <td>NaN</td>\n",
       "      <td>NaN</td>\n",
       "      <td>NaN</td>\n",
       "      <td>NaN</td>\n",
       "      <td>NaN</td>\n",
       "      <td>NaN</td>\n",
       "      <td>NaN</td>\n",
       "      <td>NaN</td>\n",
       "      <td>NaN</td>\n",
       "      <td>NaN</td>\n",
       "      <td>NaN</td>\n",
       "      <td>NaN</td>\n",
       "      <td>NaN</td>\n",
       "      <td>NaN</td>\n",
       "      <td>NaN</td>\n",
       "      <td>NaN</td>\n",
       "      <td>NaN</td>\n",
       "      <td>NaN</td>\n",
       "      <td>NaN</td>\n",
       "      <td>NaN</td>\n",
       "      <td>NaN</td>\n",
       "      <td>NaN</td>\n",
       "      <td>NaN</td>\n",
       "      <td>NaN</td>\n",
       "      <td>NaN</td>\n",
       "      <td>NaN</td>\n",
       "      <td>NaN</td>\n",
       "      <td>NaN</td>\n",
       "      <td>NaN</td>\n",
       "      <td>NaN</td>\n",
       "      <td>NaN</td>\n",
       "      <td>NaN</td>\n",
       "      <td>NaN</td>\n",
       "      <td>NaN</td>\n",
       "      <td>NaN</td>\n",
       "      <td>NaN</td>\n",
       "      <td>NaN</td>\n",
       "      <td>NaN</td>\n",
       "      <td>NaN</td>\n",
       "      <td>NaN</td>\n",
       "      <td>NaN</td>\n",
       "      <td>NaN</td>\n",
       "      <td>NaN</td>\n",
       "      <td>NaN</td>\n",
       "      <td>NaN</td>\n",
       "      <td>NaN</td>\n",
       "      <td>NaN</td>\n",
       "      <td>NaN</td>\n",
       "      <td>NaN</td>\n",
       "      <td>NaN</td>\n",
       "      <td>NaN</td>\n",
       "      <td>NaN</td>\n",
       "      <td>NaN</td>\n",
       "      <td>NaN</td>\n",
       "      <td>NaN</td>\n",
       "      <td>NaN</td>\n",
       "      <td>NaN</td>\n",
       "      <td>NaN</td>\n",
       "      <td>NaN</td>\n",
       "      <td>NaN</td>\n",
       "      <td>NaN</td>\n",
       "      <td>NaN</td>\n",
       "      <td>NaN</td>\n",
       "      <td>NaN</td>\n",
       "      <td>NaN</td>\n",
       "      <td>NaN</td>\n",
       "      <td>NaN</td>\n",
       "      <td>NaN</td>\n",
       "      <td>NaN</td>\n",
       "      <td>NaN</td>\n",
       "      <td>NaN</td>\n",
       "      <td>NaN</td>\n",
       "      <td>NaN</td>\n",
       "      <td>NaN</td>\n",
       "      <td>NaN</td>\n",
       "      <td>NaN</td>\n",
       "    </tr>\n",
       "    <tr>\n",
       "      <th>2018-03-01 03:00:00</th>\n",
       "      <td>66</td>\n",
       "      <td>1</td>\n",
       "      <td>3</td>\n",
       "      <td>3</td>\n",
       "      <td>71.0</td>\n",
       "      <td>85.0</td>\n",
       "      <td>124.0</td>\n",
       "      <td>NaN</td>\n",
       "      <td>NaN</td>\n",
       "      <td>NaN</td>\n",
       "      <td>NaN</td>\n",
       "      <td>NaN</td>\n",
       "      <td>NaN</td>\n",
       "      <td>NaN</td>\n",
       "      <td>NaN</td>\n",
       "      <td>NaN</td>\n",
       "      <td>NaN</td>\n",
       "      <td>NaN</td>\n",
       "      <td>NaN</td>\n",
       "      <td>NaN</td>\n",
       "      <td>NaN</td>\n",
       "      <td>NaN</td>\n",
       "      <td>NaN</td>\n",
       "      <td>NaN</td>\n",
       "      <td>NaN</td>\n",
       "      <td>NaN</td>\n",
       "      <td>NaN</td>\n",
       "      <td>NaN</td>\n",
       "      <td>NaN</td>\n",
       "      <td>NaN</td>\n",
       "      <td>NaN</td>\n",
       "      <td>NaN</td>\n",
       "      <td>NaN</td>\n",
       "      <td>NaN</td>\n",
       "      <td>NaN</td>\n",
       "      <td>NaN</td>\n",
       "      <td>NaN</td>\n",
       "      <td>NaN</td>\n",
       "      <td>NaN</td>\n",
       "      <td>NaN</td>\n",
       "      <td>NaN</td>\n",
       "      <td>NaN</td>\n",
       "      <td>NaN</td>\n",
       "      <td>NaN</td>\n",
       "      <td>NaN</td>\n",
       "      <td>NaN</td>\n",
       "      <td>NaN</td>\n",
       "      <td>NaN</td>\n",
       "      <td>NaN</td>\n",
       "      <td>NaN</td>\n",
       "      <td>NaN</td>\n",
       "      <td>NaN</td>\n",
       "      <td>NaN</td>\n",
       "      <td>NaN</td>\n",
       "      <td>NaN</td>\n",
       "      <td>NaN</td>\n",
       "      <td>NaN</td>\n",
       "      <td>NaN</td>\n",
       "      <td>NaN</td>\n",
       "      <td>NaN</td>\n",
       "      <td>NaN</td>\n",
       "      <td>NaN</td>\n",
       "      <td>NaN</td>\n",
       "      <td>NaN</td>\n",
       "      <td>NaN</td>\n",
       "      <td>NaN</td>\n",
       "      <td>NaN</td>\n",
       "      <td>NaN</td>\n",
       "      <td>NaN</td>\n",
       "      <td>NaN</td>\n",
       "      <td>NaN</td>\n",
       "      <td>NaN</td>\n",
       "      <td>NaN</td>\n",
       "      <td>NaN</td>\n",
       "      <td>NaN</td>\n",
       "      <td>NaN</td>\n",
       "      <td>NaN</td>\n",
       "      <td>NaN</td>\n",
       "      <td>NaN</td>\n",
       "      <td>NaN</td>\n",
       "      <td>NaN</td>\n",
       "      <td>NaN</td>\n",
       "      <td>NaN</td>\n",
       "      <td>NaN</td>\n",
       "      <td>NaN</td>\n",
       "      <td>NaN</td>\n",
       "      <td>NaN</td>\n",
       "      <td>NaN</td>\n",
       "      <td>NaN</td>\n",
       "      <td>NaN</td>\n",
       "      <td>NaN</td>\n",
       "      <td>NaN</td>\n",
       "      <td>NaN</td>\n",
       "      <td>NaN</td>\n",
       "      <td>NaN</td>\n",
       "      <td>NaN</td>\n",
       "      <td>NaN</td>\n",
       "      <td>NaN</td>\n",
       "      <td>NaN</td>\n",
       "      <td>NaN</td>\n",
       "      <td>NaN</td>\n",
       "      <td>NaN</td>\n",
       "      <td>NaN</td>\n",
       "      <td>NaN</td>\n",
       "      <td>NaN</td>\n",
       "      <td>NaN</td>\n",
       "      <td>NaN</td>\n",
       "      <td>NaN</td>\n",
       "      <td>NaN</td>\n",
       "      <td>NaN</td>\n",
       "      <td>NaN</td>\n",
       "      <td>NaN</td>\n",
       "      <td>NaN</td>\n",
       "      <td>NaN</td>\n",
       "      <td>NaN</td>\n",
       "      <td>NaN</td>\n",
       "      <td>NaN</td>\n",
       "      <td>NaN</td>\n",
       "      <td>NaN</td>\n",
       "      <td>NaN</td>\n",
       "      <td>NaN</td>\n",
       "      <td>NaN</td>\n",
       "      <td>NaN</td>\n",
       "      <td>NaN</td>\n",
       "      <td>NaN</td>\n",
       "      <td>NaN</td>\n",
       "      <td>NaN</td>\n",
       "      <td>NaN</td>\n",
       "      <td>NaN</td>\n",
       "      <td>NaN</td>\n",
       "      <td>NaN</td>\n",
       "      <td>NaN</td>\n",
       "      <td>NaN</td>\n",
       "      <td>NaN</td>\n",
       "      <td>NaN</td>\n",
       "      <td>NaN</td>\n",
       "      <td>NaN</td>\n",
       "      <td>NaN</td>\n",
       "      <td>NaN</td>\n",
       "      <td>NaN</td>\n",
       "      <td>NaN</td>\n",
       "      <td>NaN</td>\n",
       "      <td>NaN</td>\n",
       "      <td>NaN</td>\n",
       "      <td>NaN</td>\n",
       "      <td>NaN</td>\n",
       "      <td>NaN</td>\n",
       "      <td>NaN</td>\n",
       "      <td>NaN</td>\n",
       "      <td>NaN</td>\n",
       "      <td>NaN</td>\n",
       "      <td>NaN</td>\n",
       "      <td>NaN</td>\n",
       "      <td>NaN</td>\n",
       "      <td>NaN</td>\n",
       "      <td>NaN</td>\n",
       "      <td>NaN</td>\n",
       "      <td>NaN</td>\n",
       "      <td>NaN</td>\n",
       "      <td>NaN</td>\n",
       "      <td>NaN</td>\n",
       "      <td>NaN</td>\n",
       "      <td>NaN</td>\n",
       "      <td>NaN</td>\n",
       "      <td>NaN</td>\n",
       "      <td>NaN</td>\n",
       "      <td>NaN</td>\n",
       "      <td>NaN</td>\n",
       "      <td>NaN</td>\n",
       "      <td>NaN</td>\n",
       "      <td>NaN</td>\n",
       "      <td>NaN</td>\n",
       "      <td>NaN</td>\n",
       "    </tr>\n",
       "    <tr>\n",
       "      <th>2018-03-01 04:00:00</th>\n",
       "      <td>43</td>\n",
       "      <td>1</td>\n",
       "      <td>3</td>\n",
       "      <td>4</td>\n",
       "      <td>66.0</td>\n",
       "      <td>71.0</td>\n",
       "      <td>85.0</td>\n",
       "      <td>124.0</td>\n",
       "      <td>NaN</td>\n",
       "      <td>NaN</td>\n",
       "      <td>NaN</td>\n",
       "      <td>NaN</td>\n",
       "      <td>NaN</td>\n",
       "      <td>NaN</td>\n",
       "      <td>NaN</td>\n",
       "      <td>NaN</td>\n",
       "      <td>NaN</td>\n",
       "      <td>NaN</td>\n",
       "      <td>NaN</td>\n",
       "      <td>NaN</td>\n",
       "      <td>NaN</td>\n",
       "      <td>NaN</td>\n",
       "      <td>NaN</td>\n",
       "      <td>NaN</td>\n",
       "      <td>NaN</td>\n",
       "      <td>NaN</td>\n",
       "      <td>NaN</td>\n",
       "      <td>NaN</td>\n",
       "      <td>NaN</td>\n",
       "      <td>NaN</td>\n",
       "      <td>NaN</td>\n",
       "      <td>NaN</td>\n",
       "      <td>NaN</td>\n",
       "      <td>NaN</td>\n",
       "      <td>NaN</td>\n",
       "      <td>NaN</td>\n",
       "      <td>NaN</td>\n",
       "      <td>NaN</td>\n",
       "      <td>NaN</td>\n",
       "      <td>NaN</td>\n",
       "      <td>NaN</td>\n",
       "      <td>NaN</td>\n",
       "      <td>NaN</td>\n",
       "      <td>NaN</td>\n",
       "      <td>NaN</td>\n",
       "      <td>NaN</td>\n",
       "      <td>NaN</td>\n",
       "      <td>NaN</td>\n",
       "      <td>NaN</td>\n",
       "      <td>NaN</td>\n",
       "      <td>NaN</td>\n",
       "      <td>NaN</td>\n",
       "      <td>NaN</td>\n",
       "      <td>NaN</td>\n",
       "      <td>NaN</td>\n",
       "      <td>NaN</td>\n",
       "      <td>NaN</td>\n",
       "      <td>NaN</td>\n",
       "      <td>NaN</td>\n",
       "      <td>NaN</td>\n",
       "      <td>NaN</td>\n",
       "      <td>NaN</td>\n",
       "      <td>NaN</td>\n",
       "      <td>NaN</td>\n",
       "      <td>NaN</td>\n",
       "      <td>NaN</td>\n",
       "      <td>NaN</td>\n",
       "      <td>NaN</td>\n",
       "      <td>NaN</td>\n",
       "      <td>NaN</td>\n",
       "      <td>NaN</td>\n",
       "      <td>NaN</td>\n",
       "      <td>NaN</td>\n",
       "      <td>NaN</td>\n",
       "      <td>NaN</td>\n",
       "      <td>NaN</td>\n",
       "      <td>NaN</td>\n",
       "      <td>NaN</td>\n",
       "      <td>NaN</td>\n",
       "      <td>NaN</td>\n",
       "      <td>NaN</td>\n",
       "      <td>NaN</td>\n",
       "      <td>NaN</td>\n",
       "      <td>NaN</td>\n",
       "      <td>NaN</td>\n",
       "      <td>NaN</td>\n",
       "      <td>NaN</td>\n",
       "      <td>NaN</td>\n",
       "      <td>NaN</td>\n",
       "      <td>NaN</td>\n",
       "      <td>NaN</td>\n",
       "      <td>NaN</td>\n",
       "      <td>NaN</td>\n",
       "      <td>NaN</td>\n",
       "      <td>NaN</td>\n",
       "      <td>NaN</td>\n",
       "      <td>NaN</td>\n",
       "      <td>NaN</td>\n",
       "      <td>NaN</td>\n",
       "      <td>NaN</td>\n",
       "      <td>NaN</td>\n",
       "      <td>NaN</td>\n",
       "      <td>NaN</td>\n",
       "      <td>NaN</td>\n",
       "      <td>NaN</td>\n",
       "      <td>NaN</td>\n",
       "      <td>NaN</td>\n",
       "      <td>NaN</td>\n",
       "      <td>NaN</td>\n",
       "      <td>NaN</td>\n",
       "      <td>NaN</td>\n",
       "      <td>NaN</td>\n",
       "      <td>NaN</td>\n",
       "      <td>NaN</td>\n",
       "      <td>NaN</td>\n",
       "      <td>NaN</td>\n",
       "      <td>NaN</td>\n",
       "      <td>NaN</td>\n",
       "      <td>NaN</td>\n",
       "      <td>NaN</td>\n",
       "      <td>NaN</td>\n",
       "      <td>NaN</td>\n",
       "      <td>NaN</td>\n",
       "      <td>NaN</td>\n",
       "      <td>NaN</td>\n",
       "      <td>NaN</td>\n",
       "      <td>NaN</td>\n",
       "      <td>NaN</td>\n",
       "      <td>NaN</td>\n",
       "      <td>NaN</td>\n",
       "      <td>NaN</td>\n",
       "      <td>NaN</td>\n",
       "      <td>NaN</td>\n",
       "      <td>NaN</td>\n",
       "      <td>NaN</td>\n",
       "      <td>NaN</td>\n",
       "      <td>NaN</td>\n",
       "      <td>NaN</td>\n",
       "      <td>NaN</td>\n",
       "      <td>NaN</td>\n",
       "      <td>NaN</td>\n",
       "      <td>NaN</td>\n",
       "      <td>NaN</td>\n",
       "      <td>NaN</td>\n",
       "      <td>NaN</td>\n",
       "      <td>NaN</td>\n",
       "      <td>NaN</td>\n",
       "      <td>NaN</td>\n",
       "      <td>NaN</td>\n",
       "      <td>NaN</td>\n",
       "      <td>NaN</td>\n",
       "      <td>NaN</td>\n",
       "      <td>NaN</td>\n",
       "      <td>NaN</td>\n",
       "      <td>NaN</td>\n",
       "      <td>NaN</td>\n",
       "      <td>NaN</td>\n",
       "      <td>NaN</td>\n",
       "      <td>NaN</td>\n",
       "      <td>NaN</td>\n",
       "      <td>NaN</td>\n",
       "      <td>NaN</td>\n",
       "      <td>NaN</td>\n",
       "      <td>NaN</td>\n",
       "      <td>NaN</td>\n",
       "      <td>NaN</td>\n",
       "      <td>NaN</td>\n",
       "      <td>NaN</td>\n",
       "      <td>NaN</td>\n",
       "      <td>NaN</td>\n",
       "      <td>NaN</td>\n",
       "      <td>NaN</td>\n",
       "      <td>NaN</td>\n",
       "    </tr>\n",
       "  </tbody>\n",
       "</table>\n",
       "</div>"
      ],
      "text/plain": [
       "                     num_orders  day  dayofweek  hour  lag_1  lag_2  lag_3  \\\n",
       "datetime                                                                     \n",
       "2018-03-01 00:00:00         124    1          3     0    NaN    NaN    NaN   \n",
       "2018-03-01 01:00:00          85    1          3     1  124.0    NaN    NaN   \n",
       "2018-03-01 02:00:00          71    1          3     2   85.0  124.0    NaN   \n",
       "2018-03-01 03:00:00          66    1          3     3   71.0   85.0  124.0   \n",
       "2018-03-01 04:00:00          43    1          3     4   66.0   71.0   85.0   \n",
       "\n",
       "                     lag_4  lag_5  lag_6  lag_7  lag_8  lag_9  lag_10  lag_11  \\\n",
       "datetime                                                                        \n",
       "2018-03-01 00:00:00    NaN    NaN    NaN    NaN    NaN    NaN     NaN     NaN   \n",
       "2018-03-01 01:00:00    NaN    NaN    NaN    NaN    NaN    NaN     NaN     NaN   \n",
       "2018-03-01 02:00:00    NaN    NaN    NaN    NaN    NaN    NaN     NaN     NaN   \n",
       "2018-03-01 03:00:00    NaN    NaN    NaN    NaN    NaN    NaN     NaN     NaN   \n",
       "2018-03-01 04:00:00  124.0    NaN    NaN    NaN    NaN    NaN     NaN     NaN   \n",
       "\n",
       "                     lag_12  lag_13  lag_14  lag_15  lag_16  lag_17  lag_18  \\\n",
       "datetime                                                                      \n",
       "2018-03-01 00:00:00     NaN     NaN     NaN     NaN     NaN     NaN     NaN   \n",
       "2018-03-01 01:00:00     NaN     NaN     NaN     NaN     NaN     NaN     NaN   \n",
       "2018-03-01 02:00:00     NaN     NaN     NaN     NaN     NaN     NaN     NaN   \n",
       "2018-03-01 03:00:00     NaN     NaN     NaN     NaN     NaN     NaN     NaN   \n",
       "2018-03-01 04:00:00     NaN     NaN     NaN     NaN     NaN     NaN     NaN   \n",
       "\n",
       "                     lag_19  lag_20  lag_21  lag_22  lag_23  lag_24  lag_25  \\\n",
       "datetime                                                                      \n",
       "2018-03-01 00:00:00     NaN     NaN     NaN     NaN     NaN     NaN     NaN   \n",
       "2018-03-01 01:00:00     NaN     NaN     NaN     NaN     NaN     NaN     NaN   \n",
       "2018-03-01 02:00:00     NaN     NaN     NaN     NaN     NaN     NaN     NaN   \n",
       "2018-03-01 03:00:00     NaN     NaN     NaN     NaN     NaN     NaN     NaN   \n",
       "2018-03-01 04:00:00     NaN     NaN     NaN     NaN     NaN     NaN     NaN   \n",
       "\n",
       "                     lag_26  lag_27  lag_28  lag_29  lag_30  lag_31  lag_32  \\\n",
       "datetime                                                                      \n",
       "2018-03-01 00:00:00     NaN     NaN     NaN     NaN     NaN     NaN     NaN   \n",
       "2018-03-01 01:00:00     NaN     NaN     NaN     NaN     NaN     NaN     NaN   \n",
       "2018-03-01 02:00:00     NaN     NaN     NaN     NaN     NaN     NaN     NaN   \n",
       "2018-03-01 03:00:00     NaN     NaN     NaN     NaN     NaN     NaN     NaN   \n",
       "2018-03-01 04:00:00     NaN     NaN     NaN     NaN     NaN     NaN     NaN   \n",
       "\n",
       "                     lag_33  lag_34  lag_35  lag_36  lag_37  lag_38  lag_39  \\\n",
       "datetime                                                                      \n",
       "2018-03-01 00:00:00     NaN     NaN     NaN     NaN     NaN     NaN     NaN   \n",
       "2018-03-01 01:00:00     NaN     NaN     NaN     NaN     NaN     NaN     NaN   \n",
       "2018-03-01 02:00:00     NaN     NaN     NaN     NaN     NaN     NaN     NaN   \n",
       "2018-03-01 03:00:00     NaN     NaN     NaN     NaN     NaN     NaN     NaN   \n",
       "2018-03-01 04:00:00     NaN     NaN     NaN     NaN     NaN     NaN     NaN   \n",
       "\n",
       "                     lag_40  lag_41  lag_42  lag_43  lag_44  lag_45  lag_46  \\\n",
       "datetime                                                                      \n",
       "2018-03-01 00:00:00     NaN     NaN     NaN     NaN     NaN     NaN     NaN   \n",
       "2018-03-01 01:00:00     NaN     NaN     NaN     NaN     NaN     NaN     NaN   \n",
       "2018-03-01 02:00:00     NaN     NaN     NaN     NaN     NaN     NaN     NaN   \n",
       "2018-03-01 03:00:00     NaN     NaN     NaN     NaN     NaN     NaN     NaN   \n",
       "2018-03-01 04:00:00     NaN     NaN     NaN     NaN     NaN     NaN     NaN   \n",
       "\n",
       "                     lag_47  lag_48  lag_49  lag_50  lag_51  lag_52  lag_53  \\\n",
       "datetime                                                                      \n",
       "2018-03-01 00:00:00     NaN     NaN     NaN     NaN     NaN     NaN     NaN   \n",
       "2018-03-01 01:00:00     NaN     NaN     NaN     NaN     NaN     NaN     NaN   \n",
       "2018-03-01 02:00:00     NaN     NaN     NaN     NaN     NaN     NaN     NaN   \n",
       "2018-03-01 03:00:00     NaN     NaN     NaN     NaN     NaN     NaN     NaN   \n",
       "2018-03-01 04:00:00     NaN     NaN     NaN     NaN     NaN     NaN     NaN   \n",
       "\n",
       "                     lag_54  lag_55  lag_56  lag_57  lag_58  lag_59  lag_60  \\\n",
       "datetime                                                                      \n",
       "2018-03-01 00:00:00     NaN     NaN     NaN     NaN     NaN     NaN     NaN   \n",
       "2018-03-01 01:00:00     NaN     NaN     NaN     NaN     NaN     NaN     NaN   \n",
       "2018-03-01 02:00:00     NaN     NaN     NaN     NaN     NaN     NaN     NaN   \n",
       "2018-03-01 03:00:00     NaN     NaN     NaN     NaN     NaN     NaN     NaN   \n",
       "2018-03-01 04:00:00     NaN     NaN     NaN     NaN     NaN     NaN     NaN   \n",
       "\n",
       "                     lag_61  lag_62  lag_63  lag_64  lag_65  lag_66  lag_67  \\\n",
       "datetime                                                                      \n",
       "2018-03-01 00:00:00     NaN     NaN     NaN     NaN     NaN     NaN     NaN   \n",
       "2018-03-01 01:00:00     NaN     NaN     NaN     NaN     NaN     NaN     NaN   \n",
       "2018-03-01 02:00:00     NaN     NaN     NaN     NaN     NaN     NaN     NaN   \n",
       "2018-03-01 03:00:00     NaN     NaN     NaN     NaN     NaN     NaN     NaN   \n",
       "2018-03-01 04:00:00     NaN     NaN     NaN     NaN     NaN     NaN     NaN   \n",
       "\n",
       "                     lag_68  lag_69  lag_70  lag_71  lag_72  lag_73  lag_74  \\\n",
       "datetime                                                                      \n",
       "2018-03-01 00:00:00     NaN     NaN     NaN     NaN     NaN     NaN     NaN   \n",
       "2018-03-01 01:00:00     NaN     NaN     NaN     NaN     NaN     NaN     NaN   \n",
       "2018-03-01 02:00:00     NaN     NaN     NaN     NaN     NaN     NaN     NaN   \n",
       "2018-03-01 03:00:00     NaN     NaN     NaN     NaN     NaN     NaN     NaN   \n",
       "2018-03-01 04:00:00     NaN     NaN     NaN     NaN     NaN     NaN     NaN   \n",
       "\n",
       "                     lag_75  lag_76  lag_77  lag_78  lag_79  lag_80  lag_81  \\\n",
       "datetime                                                                      \n",
       "2018-03-01 00:00:00     NaN     NaN     NaN     NaN     NaN     NaN     NaN   \n",
       "2018-03-01 01:00:00     NaN     NaN     NaN     NaN     NaN     NaN     NaN   \n",
       "2018-03-01 02:00:00     NaN     NaN     NaN     NaN     NaN     NaN     NaN   \n",
       "2018-03-01 03:00:00     NaN     NaN     NaN     NaN     NaN     NaN     NaN   \n",
       "2018-03-01 04:00:00     NaN     NaN     NaN     NaN     NaN     NaN     NaN   \n",
       "\n",
       "                     lag_82  lag_83  lag_84  lag_85  lag_86  lag_87  lag_88  \\\n",
       "datetime                                                                      \n",
       "2018-03-01 00:00:00     NaN     NaN     NaN     NaN     NaN     NaN     NaN   \n",
       "2018-03-01 01:00:00     NaN     NaN     NaN     NaN     NaN     NaN     NaN   \n",
       "2018-03-01 02:00:00     NaN     NaN     NaN     NaN     NaN     NaN     NaN   \n",
       "2018-03-01 03:00:00     NaN     NaN     NaN     NaN     NaN     NaN     NaN   \n",
       "2018-03-01 04:00:00     NaN     NaN     NaN     NaN     NaN     NaN     NaN   \n",
       "\n",
       "                     lag_89  lag_90  lag_91  lag_92  lag_93  lag_94  lag_95  \\\n",
       "datetime                                                                      \n",
       "2018-03-01 00:00:00     NaN     NaN     NaN     NaN     NaN     NaN     NaN   \n",
       "2018-03-01 01:00:00     NaN     NaN     NaN     NaN     NaN     NaN     NaN   \n",
       "2018-03-01 02:00:00     NaN     NaN     NaN     NaN     NaN     NaN     NaN   \n",
       "2018-03-01 03:00:00     NaN     NaN     NaN     NaN     NaN     NaN     NaN   \n",
       "2018-03-01 04:00:00     NaN     NaN     NaN     NaN     NaN     NaN     NaN   \n",
       "\n",
       "                     lag_96  lag_97  lag_98  lag_99  lag_100  lag_101  \\\n",
       "datetime                                                                \n",
       "2018-03-01 00:00:00     NaN     NaN     NaN     NaN      NaN      NaN   \n",
       "2018-03-01 01:00:00     NaN     NaN     NaN     NaN      NaN      NaN   \n",
       "2018-03-01 02:00:00     NaN     NaN     NaN     NaN      NaN      NaN   \n",
       "2018-03-01 03:00:00     NaN     NaN     NaN     NaN      NaN      NaN   \n",
       "2018-03-01 04:00:00     NaN     NaN     NaN     NaN      NaN      NaN   \n",
       "\n",
       "                     lag_102  lag_103  lag_104  lag_105  lag_106  lag_107  \\\n",
       "datetime                                                                    \n",
       "2018-03-01 00:00:00      NaN      NaN      NaN      NaN      NaN      NaN   \n",
       "2018-03-01 01:00:00      NaN      NaN      NaN      NaN      NaN      NaN   \n",
       "2018-03-01 02:00:00      NaN      NaN      NaN      NaN      NaN      NaN   \n",
       "2018-03-01 03:00:00      NaN      NaN      NaN      NaN      NaN      NaN   \n",
       "2018-03-01 04:00:00      NaN      NaN      NaN      NaN      NaN      NaN   \n",
       "\n",
       "                     lag_108  lag_109  lag_110  lag_111  lag_112  lag_113  \\\n",
       "datetime                                                                    \n",
       "2018-03-01 00:00:00      NaN      NaN      NaN      NaN      NaN      NaN   \n",
       "2018-03-01 01:00:00      NaN      NaN      NaN      NaN      NaN      NaN   \n",
       "2018-03-01 02:00:00      NaN      NaN      NaN      NaN      NaN      NaN   \n",
       "2018-03-01 03:00:00      NaN      NaN      NaN      NaN      NaN      NaN   \n",
       "2018-03-01 04:00:00      NaN      NaN      NaN      NaN      NaN      NaN   \n",
       "\n",
       "                     lag_114  lag_115  lag_116  lag_117  lag_118  lag_119  \\\n",
       "datetime                                                                    \n",
       "2018-03-01 00:00:00      NaN      NaN      NaN      NaN      NaN      NaN   \n",
       "2018-03-01 01:00:00      NaN      NaN      NaN      NaN      NaN      NaN   \n",
       "2018-03-01 02:00:00      NaN      NaN      NaN      NaN      NaN      NaN   \n",
       "2018-03-01 03:00:00      NaN      NaN      NaN      NaN      NaN      NaN   \n",
       "2018-03-01 04:00:00      NaN      NaN      NaN      NaN      NaN      NaN   \n",
       "\n",
       "                     lag_120  lag_121  lag_122  lag_123  lag_124  lag_125  \\\n",
       "datetime                                                                    \n",
       "2018-03-01 00:00:00      NaN      NaN      NaN      NaN      NaN      NaN   \n",
       "2018-03-01 01:00:00      NaN      NaN      NaN      NaN      NaN      NaN   \n",
       "2018-03-01 02:00:00      NaN      NaN      NaN      NaN      NaN      NaN   \n",
       "2018-03-01 03:00:00      NaN      NaN      NaN      NaN      NaN      NaN   \n",
       "2018-03-01 04:00:00      NaN      NaN      NaN      NaN      NaN      NaN   \n",
       "\n",
       "                     lag_126  lag_127  lag_128  lag_129  lag_130  lag_131  \\\n",
       "datetime                                                                    \n",
       "2018-03-01 00:00:00      NaN      NaN      NaN      NaN      NaN      NaN   \n",
       "2018-03-01 01:00:00      NaN      NaN      NaN      NaN      NaN      NaN   \n",
       "2018-03-01 02:00:00      NaN      NaN      NaN      NaN      NaN      NaN   \n",
       "2018-03-01 03:00:00      NaN      NaN      NaN      NaN      NaN      NaN   \n",
       "2018-03-01 04:00:00      NaN      NaN      NaN      NaN      NaN      NaN   \n",
       "\n",
       "                     lag_132  lag_133  lag_134  lag_135  lag_136  lag_137  \\\n",
       "datetime                                                                    \n",
       "2018-03-01 00:00:00      NaN      NaN      NaN      NaN      NaN      NaN   \n",
       "2018-03-01 01:00:00      NaN      NaN      NaN      NaN      NaN      NaN   \n",
       "2018-03-01 02:00:00      NaN      NaN      NaN      NaN      NaN      NaN   \n",
       "2018-03-01 03:00:00      NaN      NaN      NaN      NaN      NaN      NaN   \n",
       "2018-03-01 04:00:00      NaN      NaN      NaN      NaN      NaN      NaN   \n",
       "\n",
       "                     lag_138  lag_139  lag_140  lag_141  lag_142  lag_143  \\\n",
       "datetime                                                                    \n",
       "2018-03-01 00:00:00      NaN      NaN      NaN      NaN      NaN      NaN   \n",
       "2018-03-01 01:00:00      NaN      NaN      NaN      NaN      NaN      NaN   \n",
       "2018-03-01 02:00:00      NaN      NaN      NaN      NaN      NaN      NaN   \n",
       "2018-03-01 03:00:00      NaN      NaN      NaN      NaN      NaN      NaN   \n",
       "2018-03-01 04:00:00      NaN      NaN      NaN      NaN      NaN      NaN   \n",
       "\n",
       "                     lag_144  lag_145  lag_146  lag_147  lag_148  lag_149  \\\n",
       "datetime                                                                    \n",
       "2018-03-01 00:00:00      NaN      NaN      NaN      NaN      NaN      NaN   \n",
       "2018-03-01 01:00:00      NaN      NaN      NaN      NaN      NaN      NaN   \n",
       "2018-03-01 02:00:00      NaN      NaN      NaN      NaN      NaN      NaN   \n",
       "2018-03-01 03:00:00      NaN      NaN      NaN      NaN      NaN      NaN   \n",
       "2018-03-01 04:00:00      NaN      NaN      NaN      NaN      NaN      NaN   \n",
       "\n",
       "                     lag_150  lag_151  lag_152  lag_153  lag_154  lag_155  \\\n",
       "datetime                                                                    \n",
       "2018-03-01 00:00:00      NaN      NaN      NaN      NaN      NaN      NaN   \n",
       "2018-03-01 01:00:00      NaN      NaN      NaN      NaN      NaN      NaN   \n",
       "2018-03-01 02:00:00      NaN      NaN      NaN      NaN      NaN      NaN   \n",
       "2018-03-01 03:00:00      NaN      NaN      NaN      NaN      NaN      NaN   \n",
       "2018-03-01 04:00:00      NaN      NaN      NaN      NaN      NaN      NaN   \n",
       "\n",
       "                     lag_156  lag_157  lag_158  lag_159  lag_160  lag_161  \\\n",
       "datetime                                                                    \n",
       "2018-03-01 00:00:00      NaN      NaN      NaN      NaN      NaN      NaN   \n",
       "2018-03-01 01:00:00      NaN      NaN      NaN      NaN      NaN      NaN   \n",
       "2018-03-01 02:00:00      NaN      NaN      NaN      NaN      NaN      NaN   \n",
       "2018-03-01 03:00:00      NaN      NaN      NaN      NaN      NaN      NaN   \n",
       "2018-03-01 04:00:00      NaN      NaN      NaN      NaN      NaN      NaN   \n",
       "\n",
       "                     lag_162  lag_163  lag_164  lag_165  lag_166  lag_167  \\\n",
       "datetime                                                                    \n",
       "2018-03-01 00:00:00      NaN      NaN      NaN      NaN      NaN      NaN   \n",
       "2018-03-01 01:00:00      NaN      NaN      NaN      NaN      NaN      NaN   \n",
       "2018-03-01 02:00:00      NaN      NaN      NaN      NaN      NaN      NaN   \n",
       "2018-03-01 03:00:00      NaN      NaN      NaN      NaN      NaN      NaN   \n",
       "2018-03-01 04:00:00      NaN      NaN      NaN      NaN      NaN      NaN   \n",
       "\n",
       "                     lag_168  rolling_mean  \n",
       "datetime                                    \n",
       "2018-03-01 00:00:00      NaN           NaN  \n",
       "2018-03-01 01:00:00      NaN           NaN  \n",
       "2018-03-01 02:00:00      NaN           NaN  \n",
       "2018-03-01 03:00:00      NaN           NaN  \n",
       "2018-03-01 04:00:00      NaN           NaN  "
      ]
     },
     "execution_count": 21,
     "metadata": {},
     "output_type": "execute_result"
    }
   ],
   "source": [
    "# вызовем функцию \n",
    "make_features(df, 168, 168)\n",
    "df.head()"
   ]
  },
  {
   "cell_type": "markdown",
   "metadata": {},
   "source": [
    "**Вывод:**\n",
    "- Итоговый датасет включает следующие типы признаков: календарные признаки, отстающие значения и скользящее среднее.\n",
    "- Из-за специфики создания отстающих признаков в первых строках датасета появились пропущенные значения. Пропуски удалим."
   ]
  },
  {
   "cell_type": "code",
   "execution_count": 22,
   "metadata": {},
   "outputs": [],
   "source": [
    "# удаление пропусков\n",
    "df = df.dropna()"
   ]
  },
  {
   "cell_type": "markdown",
   "metadata": {},
   "source": [
    "## Обучение моделей"
   ]
  },
  {
   "cell_type": "markdown",
   "metadata": {},
   "source": [
    "1. Протестируем три модели: *LinearRegression()*, *RandomForestRegressor()*, *LGBMRegressor()*.\n",
    "2. Для каждой подберём гиперпараметры, используя рандомизированный поиск и *TimeSeriesSplit* для корректного разделения временных рядов в перекрестной проверке.\n",
    "3. Оценим точность прогнозов моделей при помощи метрики *RMSE*, которая измеряет среднюю величину ошибок между прогнозируемыми и фактическими значениями."
   ]
  },
  {
   "cell_type": "code",
   "execution_count": 23,
   "metadata": {},
   "outputs": [],
   "source": [
    "# объявляем константы\n",
    "RANDOM_STATE = 42\n",
    "\n",
    "# разделяем датасет на выборки\n",
    "X = df.drop('num_orders', axis=1)\n",
    "y = df['num_orders']\n",
    "X_train, X_test, y_train, y_test = train_test_split(X, y, test_size=0.1, shuffle=False)"
   ]
  },
  {
   "cell_type": "code",
   "execution_count": null,
   "metadata": {},
   "outputs": [],
   "source": [
    "%%time\n",
    "# pipeline\n",
    "pipe = Pipeline([\n",
    "    ('models', LinearRegression())\n",
    "])\n",
    "\n",
    "# установим параметры для моделей\n",
    "param_grid = [\n",
    "    # базовая модель Linear Regression\n",
    "    {\n",
    "        'models': [LinearRegression()],\n",
    "        'models__fit_intercept': [True, False]\n",
    "    },\n",
    "    # параметры для Random Forest Regressor\n",
    "    {\n",
    "        'models': [RandomForestRegressor()],\n",
    "        'models__n_estimators': randint(100, 500),\n",
    "        'models__max_depth': [None, 10, 20, 30, 40, 50],\n",
    "        'models__min_samples_split': [2, 5, 10],\n",
    "        'models__min_samples_leaf': [1, 2, 4]\n",
    "    },\n",
    "    # параметры для LGBM Regressor\n",
    "    {\n",
    "        'models': [LGBMRegressor(boosting_type='gbdt', random_state=RANDOM_STATE)],\n",
    "        'models__learning_rate': [0.01, 0.05, 0.1],\n",
    "        'models__num_leaves': [30, 50, 70],\n",
    "        'models__n_estimators': [100, 500, 1000]\n",
    "    }\n",
    "]\n",
    "\n",
    "# TimeSeriesSplit для корректного разделения временных рядов в перекрестной проверке\n",
    "tscv = TimeSeriesSplit(n_splits=5)\n",
    "\n",
    "# рандомизированный поиск\n",
    "randomized_search = RandomizedSearchCV(\n",
    "    pipe,\n",
    "    param_distributions=param_grid,\n",
    "    cv=tscv,\n",
    "    scoring='neg_root_mean_squared_error',\n",
    "    random_state=RANDOM_STATE,\n",
    "    n_jobs=-1\n",
    ")\n",
    "\n",
    "# обучаем модель\n",
    "randomized_search.fit(X_train, y_train)\n",
    "\n",
    "# выведем результаты оценки 10 лучших моделей\n",
    "results = pd.DataFrame(randomized_search.cv_results_)\n",
    "with pd.option_context('max_colwidth', 3000):\n",
    "    display(results[['rank_test_score', 'param_models', 'mean_test_score', 'params']]\n",
    "            .sort_values('rank_test_score').head(10))"
   ]
  },
  {
   "cell_type": "code",
   "execution_count": null,
   "metadata": {},
   "outputs": [],
   "source": [
    "# график параллельных координат\n",
    "plot_cols = ['param_models__n_estimators', 'param_models__max_depth', 'param_models__min_samples_split']\n",
    "plt.figure(figsize=(12, 8))\n",
    "parallel_coordinates(results[plot_cols + ['mean_test_score']], 'mean_test_score')\n",
    "plt.title('График параллельных координат гиперпараметров')\n",
    "plt.show()"
   ]
  },
  {
   "cell_type": "markdown",
   "metadata": {},
   "source": [
    "**Вывод:**\n",
    "- `param_models__n_estimators` — количество деревьев в модели ансамбля для `RandomForestRegressor` и `LGBMRegressor` существенно влияет на производительность моделей.\n",
    "- Более высокое значение `max_depth` может отразить более сложные взаимосвязи в данных, но также может привести к переобучению. Одним из показателей переобучения будет являться более низкая оценка модели на тестовой выборке."
   ]
  },
  {
   "cell_type": "markdown",
   "metadata": {},
   "source": [
    "## Тестирование модели"
   ]
  },
  {
   "cell_type": "markdown",
   "metadata": {},
   "source": [
    "1. Проанализируем производительность моделей.\n",
    "2. Оценим качество лучшей модели на тестовой выборке."
   ]
  },
  {
   "cell_type": "code",
   "execution_count": null,
   "metadata": {},
   "outputs": [],
   "source": [
    "# вывод соответствующей информации\n",
    "print(\"Сравнение моделей:\")\n",
    "print(\"---------------------------------------------------------------------------------------------------\")\n",
    "print(\"{:<25} | {:<20} | {:<23} | {:<12}\".format(\"Модель\", \"Время обучения (сек)\", \"Время прогноза (сек)\", \"RMSE оценка\"))\n",
    "print(\"---------------------------------------------------------------------------------------------------\")\n",
    "\n",
    "# вывод информации для каждой модели\n",
    "for i in range(results.shape[0]):\n",
    "    model_name = results.loc[i, \"param_models\"].__class__.__name__\n",
    "    train_time = results.loc[i, \"mean_fit_time\"]\n",
    "    pred_time = results.loc[i, \"mean_score_time\"]\n",
    "    rmse_score = -results.loc[i, \"mean_test_score\"]\n",
    "\n",
    "    print(\"{:<25} | {:<20.3f} s | {:<23.3f} s | {:<12.0f}\".format(model_name, train_time, pred_time, rmse_score))\n",
    "\n",
    "print(\"---------------------------------------------------------------------------------------------------\")\n",
    "\n",
    "# параметры лучшей модели с учетом прогнозных способностей\n",
    "best_model_idx = results[\"mean_test_score\"].idxmax()\n",
    "best_model_params = results.loc[best_model_idx, \"params\"]\n",
    "best_model_metric = -results.loc[best_model_idx, \"mean_test_score\"]\n",
    "\n",
    "print(\"\\nЛучшая модель:\")\n",
    "print(\"---------------------------------------------------------------------------------------------------\")\n",
    "print(\"Параметры:\", best_model_params)\n",
    "print(\"RMSE оценка: {:.2f}\".format(best_model_metric))"
   ]
  },
  {
   "cell_type": "markdown",
   "metadata": {},
   "source": [
    "**Вывод:**\n",
    "\n",
    "Анализируя производительность различных конфигураций гиперпараметров для моделей регрессии, отметим следующее:\n",
    "- Наиболее эффективной моделью согласно метрике оказалась базовая модель `LinearRegression`.\n",
    "- `RandomForestRegressor` и `LGBMRegressor` также показывают высокие оценки, однако, время обучения при текущих параметрах для указанных моделей значительно более затратно по сравнению с моделью линейной регрессии.\n",
    "- Таким образом, в данном контексте базовая модель `LinearRegression` оказалась более эффективной с точки зрения прогнозных способностей и скорости обучения."
   ]
  },
  {
   "cell_type": "code",
   "execution_count": null,
   "metadata": {},
   "outputs": [],
   "source": [
    "# оценка на тестовой выборке\n",
    "best_model = randomized_search.best_estimator_\n",
    "y_pred_test = best_model.predict(X_test)\n",
    "test_rmse = np.sqrt(mean_squared_error(y_test, y_pred_test))\n",
    "print(f'RMSE на тестовой выборке: {test_rmse:.0f}')"
   ]
  },
  {
   "cell_type": "code",
   "execution_count": null,
   "metadata": {},
   "outputs": [],
   "source": [
    "# проверка модели на адекватность\n",
    "pred_previous = y_test.shift()\n",
    "pred_previous.iloc[0] = y_train.iloc[-1]"
   ]
  },
  {
   "cell_type": "code",
   "execution_count": null,
   "metadata": {},
   "outputs": [],
   "source": [
    "# выводим бейзлайн при константном предсказании предыдущим значением\n",
    "np.sqrt(mean_squared_error(y_test, pred_previous))"
   ]
  },
  {
   "cell_type": "code",
   "execution_count": null,
   "metadata": {},
   "outputs": [],
   "source": [
    "# график результатов проверки\n",
    "plt.figure(figsize=(18, 8))\n",
    "plt.xlabel('Временной период')\n",
    "plt.ylabel('Количество заказов такси')\n",
    "plt.title('Сравнение исходных и предсказанных значений')\n",
    "\n",
    "plt.plot(y_test, label='Исходные значения')\n",
    "plt.plot(pred_previous, label='Предсказанные значения')\n",
    "\n",
    "plt.legend()\n",
    "plt.show()"
   ]
  },
  {
   "cell_type": "markdown",
   "metadata": {},
   "source": [
    "**Вывод:**\n",
    "- Заметна существенная разница в производительности модели между обучающим и тестовым наборами. Это может указывать на потенциальные проблемы с переобучением. Оценки RMSE составили 23 и 34 соответственно.\n",
    "- Похоже модель слишком хорошо уловила закономерности обучающего набора, которые плохо обобщаются на новом, не знакомом наборе.\n",
    "- При этом прогнозные способности модели удовлетворяют условиям заказчика — показатель метрики RMSE на тестовой выборке составляет 34, то есть не превышает значение 48."
   ]
  },
  {
   "cell_type": "markdown",
   "metadata": {},
   "source": [
    "## Итоговый вывод"
   ]
  },
  {
   "cell_type": "markdown",
   "metadata": {},
   "source": [
    "На данных сервиса такси был проведён исследовательский анализ с последующей разработкой решения на основе моделирования, которое позволит компании оптимизировать сервис с учётом динамики заказов в час пик.\n",
    "\n",
    "Учитывая бизнес-задачи заказчика предстояло разработать модель для прогноза количества заказов такси на следующий час с учётом пиковой нагрузки (задача линейной регрессии для прогнозирования временных рядов).\n",
    "\n",
    "Работа включала предварительный этап, исследовательский анализ данных, обучение разных моделей с подбором гиперпараметров, анализ моделей и проверку на тестовой выборке.\n",
    "\n",
    "На **предварительном этапе** мы изучили основные сведения о датасете, определили количество и тип данных в таблице, проверили на наличие пропусков и убедились, что все данные отображаются корректно.\n",
    "\n",
    "На этапе **исследовательского анализа** были построены графики для оценки характера данных временных рядов, для проверки стационарности использовался тест Дики-Фуллера. Кроме того, для адекватного обучения модели, которая по историческим данным предскажет будущие значения временного ряда, были созданы новые признаки на основе данных временного ряда.\n",
    "\n",
    "Этап **разработки модели** включал подготовку данных для обучения, настройку гиперпараметров, обучение модели оценку качества с использованием метрики RMSE и получение прогнозных значений.\n",
    "\n",
    "На этапе **анализа моделей** проводилось сопоставление результатов с учётом оценки качества прогноза и гиперпараметров.\n",
    "\n",
    "В контексте поставленной задачи мы рассмотрели возможности следующих регрессоров:\n",
    "- `LinearRegression()` — служит базовой или эталонной моделью во время настройки гиперпараметров, чтобы на её основе найти модели, которые работают значительно лучше, чем базовый уровень.\n",
    "- `RandomForestRegressor()` — метод ансамблевого обучения, благодаря усреднению по нескольким деревьям, случайный лес может быть более надежным и менее склонным к переобучению.\n",
    "- `LGBMRegressor()` — использует древовидные алгоритмы обучения с градиентным бустингом, деревья решений строятся таким образом, чтобы оптимизировать уменьшение функции потерь на каждом этапе.\n",
    "\n",
    "**Основные результаты:**\n",
    "\n",
    "1. В ходе исследовательского анализа удалось проследить некоторые закономерности в данных временного ряда. В частности:\n",
    "- Отмечаются суточные пики заказов такси в районе полуночи и спады ранним утром.\n",
    "- Сводный график заказов такси по дням недели показывает устойчивую популярность сервиса в понедельник и в пятницу.\n",
    "- Тренд связан с временем года: летом число заказов такси, по сравнению с весной, выше.\n",
    "2. Результат **теста Дики-Фуллера** показал, что данные можно считать стационарными (p-value: 0.028).\n",
    "3. Для адекватного обучения модели, которая по историческим данным предскажет будущие значения временного ряда, были созданы **новые признаки** на основе данных временного ряда: *календарные признаки*, *отстающие значения* и *скользящее среднее*.\n",
    "4. Из трёх моделей наиболее эффективной с точки зрения **прогнозных способностей** оказалась базовая модель `LinearRegression`.\n",
    "- Оценка **RMSE** лучшей модели на **тренировочной** выборке составила *23*, на **тестовой** *34*. Такая существенная разница в производительности модели между обучающим и тестовым наборами может указывать на потенциальные проблемы с переобучением. По-видимому, модель слишком хорошо уловила закономерности обучающего набора, которые плохо обобщаются на новом, не знакомом наборе.\n",
    "- `RandomForestRegressor` и `LGBMRegressor` также показывают высокие оценки, однако, время обучения при текущих параметрах для указанных моделей значительно более затратно по сравнению с моделью линейной регрессии.\n",
    "5. Таким образом, в данном контексте базовая модель `LinearRegression` оказалась более эффективной с точки зрения прогнозных способностей и скорости обучения. Однако, потенциал всех протестированных алгоритмов не ограничевается рамками данного исследования."
   ]
  },
  {
   "cell_type": "markdown",
   "metadata": {},
   "source": [
    "## Чек-лист проверки"
   ]
  },
  {
   "cell_type": "markdown",
   "metadata": {},
   "source": [
    "- [x]  Jupyter Notebook открыт\n",
    "- [x]  Весь код выполняется без ошибок\n",
    "- [x]  Ячейки с кодом расположены в порядке исполнения\n",
    "- [x]  Данные загружены и подготовлены\n",
    "- [x]  Данные проанализированы\n",
    "- [x]  Модель обучена, гиперпараметры подобраны\n",
    "- [x]  Качество моделей проверено, выводы сделаны\n",
    "- [x]  Значение *RMSE* на тестовой выборке не больше 48"
   ]
  }
 ],
 "metadata": {
  "ExecuteTimeLog": [
   {
    "duration": 3214,
    "start_time": "2024-02-14T17:17:52.781Z"
   },
   {
    "duration": 5590,
    "start_time": "2024-02-14T17:18:06.210Z"
   },
   {
    "duration": 1428,
    "start_time": "2024-02-14T17:21:41.638Z"
   },
   {
    "duration": 3,
    "start_time": "2024-02-14T17:21:43.710Z"
   },
   {
    "duration": 79,
    "start_time": "2024-02-14T17:22:23.647Z"
   },
   {
    "duration": 3,
    "start_time": "2024-02-14T17:22:27.232Z"
   },
   {
    "duration": 3,
    "start_time": "2024-02-14T17:26:30.022Z"
   },
   {
    "duration": 3,
    "start_time": "2024-02-14T17:50:44.540Z"
   },
   {
    "duration": 103,
    "start_time": "2024-02-14T17:50:45.265Z"
   },
   {
    "duration": 89,
    "start_time": "2024-02-14T17:51:09.834Z"
   },
   {
    "duration": 3,
    "start_time": "2024-02-14T17:51:42.443Z"
   },
   {
    "duration": 91,
    "start_time": "2024-02-14T17:51:43.068Z"
   },
   {
    "duration": 137,
    "start_time": "2024-02-14T17:54:13.104Z"
   },
   {
    "duration": 80,
    "start_time": "2024-02-14T17:54:53.156Z"
   },
   {
    "duration": 75,
    "start_time": "2024-02-14T18:00:27.496Z"
   },
   {
    "duration": 6,
    "start_time": "2024-02-14T18:00:32.900Z"
   },
   {
    "duration": 8,
    "start_time": "2024-02-14T18:04:01.364Z"
   },
   {
    "duration": 18,
    "start_time": "2024-02-14T18:05:09.685Z"
   },
   {
    "duration": 16,
    "start_time": "2024-02-14T18:05:48.979Z"
   },
   {
    "duration": 3131,
    "start_time": "2024-02-14T22:40:54.725Z"
   },
   {
    "duration": 6008,
    "start_time": "2024-02-14T22:40:57.859Z"
   },
   {
    "duration": 1459,
    "start_time": "2024-02-14T22:41:03.869Z"
   },
   {
    "duration": 3,
    "start_time": "2024-02-14T22:41:05.331Z"
   },
   {
    "duration": 12,
    "start_time": "2024-02-14T22:41:05.336Z"
   },
   {
    "duration": 129,
    "start_time": "2024-02-14T22:41:05.349Z"
   },
   {
    "duration": 7,
    "start_time": "2024-02-14T22:41:05.480Z"
   },
   {
    "duration": 7,
    "start_time": "2024-02-14T22:41:05.489Z"
   },
   {
    "duration": 18,
    "start_time": "2024-02-14T22:41:05.498Z"
   },
   {
    "duration": 77,
    "start_time": "2024-02-14T22:43:17.476Z"
   },
   {
    "duration": 67,
    "start_time": "2024-02-14T22:45:18.667Z"
   },
   {
    "duration": 79,
    "start_time": "2024-02-14T22:45:52.372Z"
   },
   {
    "duration": 12,
    "start_time": "2024-02-14T22:46:30.402Z"
   },
   {
    "duration": 7,
    "start_time": "2024-02-14T22:46:35.794Z"
   },
   {
    "duration": 6,
    "start_time": "2024-02-14T22:46:36.985Z"
   },
   {
    "duration": 2285,
    "start_time": "2024-02-14T22:54:18.476Z"
   },
   {
    "duration": 2686,
    "start_time": "2024-02-14T22:54:20.763Z"
   },
   {
    "duration": 85,
    "start_time": "2024-02-14T22:54:23.451Z"
   },
   {
    "duration": 0,
    "start_time": "2024-02-14T22:54:23.538Z"
   },
   {
    "duration": 3,
    "start_time": "2024-02-14T22:54:23.896Z"
   },
   {
    "duration": 74,
    "start_time": "2024-02-14T22:54:27.906Z"
   },
   {
    "duration": 86,
    "start_time": "2024-02-14T22:54:33.354Z"
   },
   {
    "duration": 6,
    "start_time": "2024-02-14T22:54:43.035Z"
   },
   {
    "duration": 6,
    "start_time": "2024-02-14T22:54:44.377Z"
   },
   {
    "duration": 53,
    "start_time": "2024-02-14T22:55:33.113Z"
   },
   {
    "duration": 6,
    "start_time": "2024-02-14T22:55:38.950Z"
   },
   {
    "duration": 3,
    "start_time": "2024-02-14T22:55:39.815Z"
   },
   {
    "duration": 3,
    "start_time": "2024-02-14T22:55:41.730Z"
   },
   {
    "duration": 90,
    "start_time": "2024-02-14T22:55:42.306Z"
   },
   {
    "duration": 11,
    "start_time": "2024-02-14T22:55:43.402Z"
   },
   {
    "duration": 7,
    "start_time": "2024-02-14T22:55:44.470Z"
   },
   {
    "duration": 6,
    "start_time": "2024-02-14T22:55:46.551Z"
   },
   {
    "duration": 6,
    "start_time": "2024-02-14T23:17:49.592Z"
   },
   {
    "duration": 4,
    "start_time": "2024-02-14T23:19:24.088Z"
   },
   {
    "duration": 2,
    "start_time": "2024-02-14T23:19:24.634Z"
   },
   {
    "duration": 2,
    "start_time": "2024-02-14T23:19:27.409Z"
   },
   {
    "duration": 75,
    "start_time": "2024-02-14T23:19:28.312Z"
   },
   {
    "duration": 6,
    "start_time": "2024-02-14T23:19:40.155Z"
   },
   {
    "duration": 84,
    "start_time": "2024-02-14T23:22:40.639Z"
   },
   {
    "duration": 12,
    "start_time": "2024-02-14T23:22:43.469Z"
   },
   {
    "duration": 6,
    "start_time": "2024-02-14T23:22:51.096Z"
   },
   {
    "duration": 6,
    "start_time": "2024-02-14T23:22:51.908Z"
   },
   {
    "duration": 19,
    "start_time": "2024-02-14T23:23:00.471Z"
   },
   {
    "duration": 7,
    "start_time": "2024-02-14T23:23:05.717Z"
   },
   {
    "duration": 6,
    "start_time": "2024-02-14T23:23:38.966Z"
   },
   {
    "duration": 63,
    "start_time": "2024-02-14T23:24:19.698Z"
   },
   {
    "duration": 11,
    "start_time": "2024-02-14T23:24:20.316Z"
   },
   {
    "duration": 6,
    "start_time": "2024-02-14T23:24:22.049Z"
   },
   {
    "duration": 10,
    "start_time": "2024-02-14T23:24:56.748Z"
   },
   {
    "duration": 62,
    "start_time": "2024-02-14T23:25:06.238Z"
   },
   {
    "duration": 10,
    "start_time": "2024-02-14T23:25:07.666Z"
   },
   {
    "duration": 10,
    "start_time": "2024-02-14T23:25:10.637Z"
   },
   {
    "duration": 9,
    "start_time": "2024-02-14T23:26:16.111Z"
   },
   {
    "duration": 9,
    "start_time": "2024-02-14T23:26:52.589Z"
   },
   {
    "duration": 19,
    "start_time": "2024-02-14T23:29:41.118Z"
   },
   {
    "duration": 7,
    "start_time": "2024-02-14T23:29:51.754Z"
   },
   {
    "duration": 3,
    "start_time": "2024-02-14T23:31:54.444Z"
   },
   {
    "duration": 71,
    "start_time": "2024-02-14T23:31:56.196Z"
   },
   {
    "duration": 11,
    "start_time": "2024-02-14T23:31:57.271Z"
   },
   {
    "duration": 12,
    "start_time": "2024-02-14T23:31:58.383Z"
   },
   {
    "duration": 6,
    "start_time": "2024-02-14T23:32:00.251Z"
   },
   {
    "duration": 7,
    "start_time": "2024-02-14T23:32:00.891Z"
   },
   {
    "duration": 19,
    "start_time": "2024-02-14T23:32:04.772Z"
   },
   {
    "duration": 5,
    "start_time": "2024-02-14T23:32:06.691Z"
   },
   {
    "duration": 21,
    "start_time": "2024-02-14T23:37:16.971Z"
   },
   {
    "duration": 12,
    "start_time": "2024-02-14T23:42:44.411Z"
   },
   {
    "duration": 6,
    "start_time": "2024-02-14T23:43:22.458Z"
   },
   {
    "duration": 4,
    "start_time": "2024-02-14T23:46:55.837Z"
   },
   {
    "duration": 2,
    "start_time": "2024-02-14T23:46:56.488Z"
   },
   {
    "duration": 510,
    "start_time": "2024-02-14T23:46:58.502Z"
   },
   {
    "duration": 11,
    "start_time": "2024-02-14T23:47:00.375Z"
   },
   {
    "duration": 9,
    "start_time": "2024-02-14T23:47:01.883Z"
   },
   {
    "duration": 7,
    "start_time": "2024-02-14T23:47:08.292Z"
   },
   {
    "duration": 6,
    "start_time": "2024-02-14T23:47:09.606Z"
   },
   {
    "duration": 5,
    "start_time": "2024-02-14T23:47:14.667Z"
   },
   {
    "duration": 224,
    "start_time": "2024-02-15T00:00:28.377Z"
   },
   {
    "duration": 273,
    "start_time": "2024-02-15T00:00:40.954Z"
   },
   {
    "duration": 266,
    "start_time": "2024-02-15T00:13:25.346Z"
   },
   {
    "duration": 228,
    "start_time": "2024-02-15T00:13:49.382Z"
   },
   {
    "duration": 229,
    "start_time": "2024-02-15T00:14:08.310Z"
   },
   {
    "duration": 227,
    "start_time": "2024-02-15T00:15:39.761Z"
   },
   {
    "duration": 219,
    "start_time": "2024-02-15T00:16:11.301Z"
   },
   {
    "duration": 305,
    "start_time": "2024-02-15T00:16:35.399Z"
   },
   {
    "duration": 218,
    "start_time": "2024-02-15T01:54:01.605Z"
   },
   {
    "duration": 2250,
    "start_time": "2024-02-15T01:54:26.093Z"
   },
   {
    "duration": 2665,
    "start_time": "2024-02-15T01:54:28.346Z"
   },
   {
    "duration": 1185,
    "start_time": "2024-02-15T01:54:31.013Z"
   },
   {
    "duration": 3,
    "start_time": "2024-02-15T01:54:32.200Z"
   },
   {
    "duration": 271,
    "start_time": "2024-02-15T01:54:32.205Z"
   },
   {
    "duration": 12,
    "start_time": "2024-02-15T01:54:32.478Z"
   },
   {
    "duration": 11,
    "start_time": "2024-02-15T01:54:32.492Z"
   },
   {
    "duration": 7,
    "start_time": "2024-02-15T01:54:32.505Z"
   },
   {
    "duration": 6,
    "start_time": "2024-02-15T01:54:32.513Z"
   },
   {
    "duration": 14,
    "start_time": "2024-02-15T01:54:32.520Z"
   },
   {
    "duration": 249,
    "start_time": "2024-02-15T01:54:32.536Z"
   },
   {
    "duration": 290,
    "start_time": "2024-02-15T01:54:32.787Z"
   },
   {
    "duration": 219,
    "start_time": "2024-02-15T01:55:04.463Z"
   },
   {
    "duration": 240,
    "start_time": "2024-02-15T01:56:28.742Z"
   },
   {
    "duration": 9,
    "start_time": "2024-02-15T02:10:12.679Z"
   },
   {
    "duration": 4,
    "start_time": "2024-02-15T02:12:13.596Z"
   },
   {
    "duration": 2,
    "start_time": "2024-02-15T02:12:14.157Z"
   },
   {
    "duration": 76,
    "start_time": "2024-02-15T02:12:15.695Z"
   },
   {
    "duration": 10,
    "start_time": "2024-02-15T02:12:16.860Z"
   },
   {
    "duration": 7,
    "start_time": "2024-02-15T02:12:17.573Z"
   },
   {
    "duration": 7,
    "start_time": "2024-02-15T02:12:18.339Z"
   },
   {
    "duration": 5,
    "start_time": "2024-02-15T02:12:19.088Z"
   },
   {
    "duration": 10,
    "start_time": "2024-02-15T02:12:19.825Z"
   },
   {
    "duration": 228,
    "start_time": "2024-02-15T02:20:34.116Z"
   },
   {
    "duration": 229,
    "start_time": "2024-02-15T02:24:28.455Z"
   },
   {
    "duration": 682,
    "start_time": "2024-02-15T02:26:29.266Z"
   },
   {
    "duration": 139,
    "start_time": "2024-02-15T02:35:05.888Z"
   },
   {
    "duration": 198,
    "start_time": "2024-02-15T02:35:29.386Z"
   },
   {
    "duration": 161,
    "start_time": "2024-02-15T02:38:58.919Z"
   },
   {
    "duration": 138,
    "start_time": "2024-02-15T02:41:16.474Z"
   },
   {
    "duration": 116,
    "start_time": "2024-02-15T02:43:01.199Z"
   },
   {
    "duration": 150,
    "start_time": "2024-02-15T02:43:09.087Z"
   },
   {
    "duration": 157,
    "start_time": "2024-02-15T02:43:23.981Z"
   },
   {
    "duration": 9,
    "start_time": "2024-02-15T02:46:38.998Z"
   },
   {
    "duration": 205,
    "start_time": "2024-02-15T02:46:46.824Z"
   },
   {
    "duration": 223,
    "start_time": "2024-02-15T02:48:07.188Z"
   },
   {
    "duration": 186,
    "start_time": "2024-02-15T03:13:48.424Z"
   },
   {
    "duration": 2281,
    "start_time": "2024-02-15T03:14:55.573Z"
   },
   {
    "duration": 2701,
    "start_time": "2024-02-15T03:14:57.856Z"
   },
   {
    "duration": 1303,
    "start_time": "2024-02-15T03:15:00.560Z"
   },
   {
    "duration": 2,
    "start_time": "2024-02-15T03:15:01.866Z"
   },
   {
    "duration": 165,
    "start_time": "2024-02-15T03:15:01.869Z"
   },
   {
    "duration": 12,
    "start_time": "2024-02-15T03:15:02.036Z"
   },
   {
    "duration": 12,
    "start_time": "2024-02-15T03:15:02.049Z"
   },
   {
    "duration": 9,
    "start_time": "2024-02-15T03:15:02.062Z"
   },
   {
    "duration": 18,
    "start_time": "2024-02-15T03:15:02.072Z"
   },
   {
    "duration": 26,
    "start_time": "2024-02-15T03:15:02.092Z"
   },
   {
    "duration": 237,
    "start_time": "2024-02-15T03:15:02.119Z"
   },
   {
    "duration": 232,
    "start_time": "2024-02-15T03:15:02.358Z"
   },
   {
    "duration": 150,
    "start_time": "2024-02-15T03:15:02.592Z"
   },
   {
    "duration": 214,
    "start_time": "2024-02-15T03:15:02.744Z"
   },
   {
    "duration": 191,
    "start_time": "2024-02-15T03:15:02.965Z"
   },
   {
    "duration": 3360,
    "start_time": "2024-02-15T15:24:37.884Z"
   },
   {
    "duration": 5725,
    "start_time": "2024-02-15T15:24:41.246Z"
   },
   {
    "duration": 1323,
    "start_time": "2024-02-15T15:24:46.973Z"
   },
   {
    "duration": 3,
    "start_time": "2024-02-15T15:24:48.298Z"
   },
   {
    "duration": 131,
    "start_time": "2024-02-15T15:24:48.302Z"
   },
   {
    "duration": 10,
    "start_time": "2024-02-15T15:24:48.435Z"
   },
   {
    "duration": 29,
    "start_time": "2024-02-15T15:24:48.446Z"
   },
   {
    "duration": 23,
    "start_time": "2024-02-15T15:24:48.476Z"
   },
   {
    "duration": 13,
    "start_time": "2024-02-15T15:24:48.501Z"
   },
   {
    "duration": 14,
    "start_time": "2024-02-15T15:24:48.515Z"
   },
   {
    "duration": 254,
    "start_time": "2024-02-15T15:24:48.531Z"
   },
   {
    "duration": 130,
    "start_time": "2024-02-15T15:24:48.786Z"
   },
   {
    "duration": 140,
    "start_time": "2024-02-15T15:24:48.917Z"
   },
   {
    "duration": 210,
    "start_time": "2024-02-15T15:24:49.059Z"
   },
   {
    "duration": 175,
    "start_time": "2024-02-15T15:24:49.270Z"
   },
   {
    "duration": 188,
    "start_time": "2024-02-15T15:29:11.465Z"
   },
   {
    "duration": 182,
    "start_time": "2024-02-15T15:33:43.299Z"
   },
   {
    "duration": 116,
    "start_time": "2024-02-15T15:34:37.811Z"
   },
   {
    "duration": 117,
    "start_time": "2024-02-15T15:35:29.367Z"
   },
   {
    "duration": 133,
    "start_time": "2024-02-15T15:40:49.113Z"
   },
   {
    "duration": 377,
    "start_time": "2024-02-15T15:44:59.589Z"
   },
   {
    "duration": 108,
    "start_time": "2024-02-15T15:45:28.770Z"
   },
   {
    "duration": 387,
    "start_time": "2024-02-15T15:47:28.581Z"
   },
   {
    "duration": 197,
    "start_time": "2024-02-15T15:48:01.351Z"
   },
   {
    "duration": 377,
    "start_time": "2024-02-15T15:50:51.681Z"
   },
   {
    "duration": 413,
    "start_time": "2024-02-15T15:55:47.359Z"
   },
   {
    "duration": 387,
    "start_time": "2024-02-15T15:57:59.699Z"
   },
   {
    "duration": 380,
    "start_time": "2024-02-15T15:59:32.506Z"
   },
   {
    "duration": 477,
    "start_time": "2024-02-15T15:59:46.784Z"
   },
   {
    "duration": 496,
    "start_time": "2024-02-15T16:02:43.554Z"
   },
   {
    "duration": 516,
    "start_time": "2024-02-15T16:04:09.063Z"
   },
   {
    "duration": 405,
    "start_time": "2024-02-15T16:04:34.699Z"
   },
   {
    "duration": 241,
    "start_time": "2024-02-15T16:08:16.268Z"
   },
   {
    "duration": 212,
    "start_time": "2024-02-15T16:10:34.429Z"
   },
   {
    "duration": 213,
    "start_time": "2024-02-15T16:11:58.751Z"
   },
   {
    "duration": 951,
    "start_time": "2024-02-15T16:21:08.587Z"
   },
   {
    "duration": 853,
    "start_time": "2024-02-15T16:22:14.701Z"
   },
   {
    "duration": 860,
    "start_time": "2024-02-15T16:22:26.643Z"
   },
   {
    "duration": 477,
    "start_time": "2024-02-15T16:24:32.002Z"
   },
   {
    "duration": 415,
    "start_time": "2024-02-15T16:26:16.175Z"
   },
   {
    "duration": 387,
    "start_time": "2024-02-15T16:28:07.337Z"
   },
   {
    "duration": 21,
    "start_time": "2024-02-15T16:35:23.655Z"
   },
   {
    "duration": 1193,
    "start_time": "2024-02-15T16:36:40.430Z"
   },
   {
    "duration": 591,
    "start_time": "2024-02-15T16:47:42.010Z"
   },
   {
    "duration": 2542,
    "start_time": "2024-02-15T17:32:02.128Z"
   },
   {
    "duration": 2926,
    "start_time": "2024-02-15T17:32:04.673Z"
   },
   {
    "duration": 1179,
    "start_time": "2024-02-15T17:32:07.601Z"
   },
   {
    "duration": 2,
    "start_time": "2024-02-15T17:32:08.781Z"
   },
   {
    "duration": 113,
    "start_time": "2024-02-15T17:32:08.785Z"
   },
   {
    "duration": 10,
    "start_time": "2024-02-15T17:32:08.899Z"
   },
   {
    "duration": 18,
    "start_time": "2024-02-15T17:32:08.910Z"
   },
   {
    "duration": 5,
    "start_time": "2024-02-15T17:32:08.929Z"
   },
   {
    "duration": 6,
    "start_time": "2024-02-15T17:32:08.935Z"
   },
   {
    "duration": 25,
    "start_time": "2024-02-15T17:32:08.942Z"
   },
   {
    "duration": 209,
    "start_time": "2024-02-15T17:32:08.968Z"
   },
   {
    "duration": 566,
    "start_time": "2024-02-15T17:32:09.178Z"
   },
   {
    "duration": 407,
    "start_time": "2024-02-15T17:32:09.745Z"
   },
   {
    "duration": 398,
    "start_time": "2024-02-15T17:32:10.154Z"
   },
   {
    "duration": 227,
    "start_time": "2024-02-15T17:32:10.553Z"
   },
   {
    "duration": 409,
    "start_time": "2024-02-15T17:32:10.781Z"
   },
   {
    "duration": 1410,
    "start_time": "2024-02-15T17:32:11.192Z"
   },
   {
    "duration": 3678,
    "start_time": "2024-02-15T23:15:52.038Z"
   },
   {
    "duration": 6954,
    "start_time": "2024-02-15T23:15:55.719Z"
   },
   {
    "duration": 1708,
    "start_time": "2024-02-15T23:16:02.675Z"
   },
   {
    "duration": 6,
    "start_time": "2024-02-15T23:16:04.385Z"
   },
   {
    "duration": 145,
    "start_time": "2024-02-15T23:16:04.393Z"
   },
   {
    "duration": 14,
    "start_time": "2024-02-15T23:16:04.540Z"
   },
   {
    "duration": 12,
    "start_time": "2024-02-15T23:16:04.555Z"
   },
   {
    "duration": 7,
    "start_time": "2024-02-15T23:16:04.569Z"
   },
   {
    "duration": 19,
    "start_time": "2024-02-15T23:16:04.578Z"
   },
   {
    "duration": 19,
    "start_time": "2024-02-15T23:16:04.600Z"
   },
   {
    "duration": 366,
    "start_time": "2024-02-15T23:16:04.621Z"
   },
   {
    "duration": 657,
    "start_time": "2024-02-15T23:16:04.991Z"
   },
   {
    "duration": 484,
    "start_time": "2024-02-15T23:16:05.650Z"
   },
   {
    "duration": 455,
    "start_time": "2024-02-15T23:16:06.136Z"
   },
   {
    "duration": 278,
    "start_time": "2024-02-15T23:16:06.593Z"
   },
   {
    "duration": 557,
    "start_time": "2024-02-15T23:16:06.873Z"
   },
   {
    "duration": 2160,
    "start_time": "2024-02-15T23:16:07.432Z"
   },
   {
    "duration": 2150,
    "start_time": "2024-02-16T01:26:06.143Z"
   },
   {
    "duration": 8,
    "start_time": "2024-02-16T01:26:25.577Z"
   },
   {
    "duration": 5,
    "start_time": "2024-02-16T02:08:46.753Z"
   },
   {
    "duration": 33,
    "start_time": "2024-02-16T02:09:32.924Z"
   },
   {
    "duration": 2538,
    "start_time": "2024-02-16T02:11:16.107Z"
   },
   {
    "duration": 3093,
    "start_time": "2024-02-16T02:11:18.647Z"
   },
   {
    "duration": 1378,
    "start_time": "2024-02-16T02:11:21.742Z"
   },
   {
    "duration": 2,
    "start_time": "2024-02-16T02:11:23.122Z"
   },
   {
    "duration": 163,
    "start_time": "2024-02-16T02:11:23.126Z"
   },
   {
    "duration": 13,
    "start_time": "2024-02-16T02:11:23.291Z"
   },
   {
    "duration": 14,
    "start_time": "2024-02-16T02:11:23.305Z"
   },
   {
    "duration": 12,
    "start_time": "2024-02-16T02:11:23.320Z"
   },
   {
    "duration": 9,
    "start_time": "2024-02-16T02:11:23.333Z"
   },
   {
    "duration": 11,
    "start_time": "2024-02-16T02:11:23.345Z"
   },
   {
    "duration": 281,
    "start_time": "2024-02-16T02:11:23.358Z"
   },
   {
    "duration": 728,
    "start_time": "2024-02-16T02:11:23.640Z"
   },
   {
    "duration": 454,
    "start_time": "2024-02-16T02:11:24.370Z"
   },
   {
    "duration": 456,
    "start_time": "2024-02-16T02:11:24.826Z"
   },
   {
    "duration": 303,
    "start_time": "2024-02-16T02:11:25.285Z"
   },
   {
    "duration": 516,
    "start_time": "2024-02-16T02:11:25.591Z"
   },
   {
    "duration": 2185,
    "start_time": "2024-02-16T02:11:26.108Z"
   },
   {
    "duration": 96,
    "start_time": "2024-02-16T02:11:28.295Z"
   },
   {
    "duration": 33,
    "start_time": "2024-02-16T02:11:28.393Z"
   },
   {
    "duration": 3596,
    "start_time": "2024-02-16T15:12:28.063Z"
   },
   {
    "duration": 6716,
    "start_time": "2024-02-16T15:12:31.662Z"
   },
   {
    "duration": 1668,
    "start_time": "2024-02-16T15:12:38.380Z"
   },
   {
    "duration": 4,
    "start_time": "2024-02-16T15:12:40.051Z"
   },
   {
    "duration": 169,
    "start_time": "2024-02-16T15:12:40.057Z"
   },
   {
    "duration": 14,
    "start_time": "2024-02-16T15:12:40.228Z"
   },
   {
    "duration": 12,
    "start_time": "2024-02-16T15:12:40.244Z"
   },
   {
    "duration": 16,
    "start_time": "2024-02-16T15:12:40.258Z"
   },
   {
    "duration": 11,
    "start_time": "2024-02-16T15:12:40.277Z"
   },
   {
    "duration": 35,
    "start_time": "2024-02-16T15:12:40.291Z"
   },
   {
    "duration": 385,
    "start_time": "2024-02-16T15:12:40.327Z"
   },
   {
    "duration": 708,
    "start_time": "2024-02-16T15:12:40.714Z"
   },
   {
    "duration": 549,
    "start_time": "2024-02-16T15:12:41.425Z"
   },
   {
    "duration": 471,
    "start_time": "2024-02-16T15:12:41.977Z"
   },
   {
    "duration": 286,
    "start_time": "2024-02-16T15:12:42.450Z"
   },
   {
    "duration": 578,
    "start_time": "2024-02-16T15:12:42.738Z"
   },
   {
    "duration": 2005,
    "start_time": "2024-02-16T15:12:43.323Z"
   },
   {
    "duration": 96,
    "start_time": "2024-02-16T15:12:45.330Z"
   },
   {
    "duration": 115,
    "start_time": "2024-02-16T15:12:45.432Z"
   },
   {
    "duration": 20,
    "start_time": "2024-02-16T15:34:00.556Z"
   },
   {
    "duration": 18,
    "start_time": "2024-02-16T15:43:03.669Z"
   },
   {
    "duration": 27,
    "start_time": "2024-02-16T15:43:38.930Z"
   },
   {
    "duration": 26,
    "start_time": "2024-02-16T15:44:03.890Z"
   },
   {
    "duration": 31,
    "start_time": "2024-02-16T15:44:17.886Z"
   },
   {
    "duration": 21,
    "start_time": "2024-02-16T15:44:39.798Z"
   },
   {
    "duration": 6,
    "start_time": "2024-02-16T15:44:44.637Z"
   },
   {
    "duration": 21,
    "start_time": "2024-02-16T15:44:45.318Z"
   },
   {
    "duration": 23,
    "start_time": "2024-02-16T15:44:53.762Z"
   },
   {
    "duration": 8,
    "start_time": "2024-02-16T15:53:10.823Z"
   },
   {
    "duration": 2691,
    "start_time": "2024-02-16T15:53:38.941Z"
   },
   {
    "duration": 3070,
    "start_time": "2024-02-16T15:53:41.635Z"
   },
   {
    "duration": 1482,
    "start_time": "2024-02-16T15:53:44.707Z"
   },
   {
    "duration": 4,
    "start_time": "2024-02-16T15:53:46.191Z"
   },
   {
    "duration": 126,
    "start_time": "2024-02-16T15:53:46.198Z"
   },
   {
    "duration": 15,
    "start_time": "2024-02-16T15:53:46.326Z"
   },
   {
    "duration": 18,
    "start_time": "2024-02-16T15:53:46.343Z"
   },
   {
    "duration": 12,
    "start_time": "2024-02-16T15:53:46.363Z"
   },
   {
    "duration": 8,
    "start_time": "2024-02-16T15:53:46.377Z"
   },
   {
    "duration": 12,
    "start_time": "2024-02-16T15:53:46.388Z"
   },
   {
    "duration": 292,
    "start_time": "2024-02-16T15:53:46.423Z"
   },
   {
    "duration": 737,
    "start_time": "2024-02-16T15:53:46.717Z"
   },
   {
    "duration": 501,
    "start_time": "2024-02-16T15:53:47.456Z"
   },
   {
    "duration": 470,
    "start_time": "2024-02-16T15:53:47.960Z"
   },
   {
    "duration": 283,
    "start_time": "2024-02-16T15:53:48.432Z"
   },
   {
    "duration": 544,
    "start_time": "2024-02-16T15:53:48.722Z"
   },
   {
    "duration": 1956,
    "start_time": "2024-02-16T15:53:49.267Z"
   },
   {
    "duration": 97,
    "start_time": "2024-02-16T15:53:51.226Z"
   },
   {
    "duration": 33,
    "start_time": "2024-02-16T15:53:51.325Z"
   },
   {
    "duration": 7,
    "start_time": "2024-02-16T15:53:51.360Z"
   },
   {
    "duration": 3,
    "start_time": "2024-02-16T15:53:51.369Z"
   },
   {
    "duration": 11,
    "start_time": "2024-02-16T16:02:51.023Z"
   },
   {
    "duration": 5,
    "start_time": "2024-02-16T16:39:12.018Z"
   },
   {
    "duration": 12,
    "start_time": "2024-02-16T16:39:58.037Z"
   },
   {
    "duration": 34,
    "start_time": "2024-02-16T16:52:15.364Z"
   },
   {
    "duration": 8,
    "start_time": "2024-02-16T16:52:46.892Z"
   },
   {
    "duration": 2633,
    "start_time": "2024-02-16T16:53:01.233Z"
   },
   {
    "duration": 3077,
    "start_time": "2024-02-16T16:53:03.868Z"
   },
   {
    "duration": 1411,
    "start_time": "2024-02-16T16:53:06.948Z"
   },
   {
    "duration": 3,
    "start_time": "2024-02-16T16:53:08.361Z"
   },
   {
    "duration": 149,
    "start_time": "2024-02-16T16:53:08.365Z"
   },
   {
    "duration": 13,
    "start_time": "2024-02-16T16:53:08.515Z"
   },
   {
    "duration": 11,
    "start_time": "2024-02-16T16:53:08.530Z"
   },
   {
    "duration": 7,
    "start_time": "2024-02-16T16:53:08.542Z"
   },
   {
    "duration": 6,
    "start_time": "2024-02-16T16:53:08.550Z"
   },
   {
    "duration": 13,
    "start_time": "2024-02-16T16:53:08.559Z"
   },
   {
    "duration": 362,
    "start_time": "2024-02-16T16:53:08.573Z"
   },
   {
    "duration": 617,
    "start_time": "2024-02-16T16:53:08.937Z"
   },
   {
    "duration": 495,
    "start_time": "2024-02-16T16:53:09.556Z"
   },
   {
    "duration": 466,
    "start_time": "2024-02-16T16:53:10.052Z"
   },
   {
    "duration": 296,
    "start_time": "2024-02-16T16:53:10.523Z"
   },
   {
    "duration": 544,
    "start_time": "2024-02-16T16:53:10.822Z"
   },
   {
    "duration": 2162,
    "start_time": "2024-02-16T16:53:11.368Z"
   },
   {
    "duration": 112,
    "start_time": "2024-02-16T16:53:13.532Z"
   },
   {
    "duration": 40,
    "start_time": "2024-02-16T16:53:13.724Z"
   },
   {
    "duration": 8,
    "start_time": "2024-02-16T16:53:13.765Z"
   },
   {
    "duration": 8,
    "start_time": "2024-02-16T16:53:13.774Z"
   },
   {
    "duration": 139,
    "start_time": "2024-02-16T17:27:13.938Z"
   },
   {
    "duration": 5,
    "start_time": "2024-02-16T17:29:03.902Z"
   },
   {
    "duration": 2577,
    "start_time": "2024-02-16T17:29:10.676Z"
   },
   {
    "duration": 2973,
    "start_time": "2024-02-16T17:29:13.255Z"
   },
   {
    "duration": 1446,
    "start_time": "2024-02-16T17:29:16.230Z"
   },
   {
    "duration": 3,
    "start_time": "2024-02-16T17:29:17.679Z"
   },
   {
    "duration": 106,
    "start_time": "2024-02-16T17:29:17.683Z"
   },
   {
    "duration": 13,
    "start_time": "2024-02-16T17:29:17.791Z"
   },
   {
    "duration": 37,
    "start_time": "2024-02-16T17:29:17.805Z"
   },
   {
    "duration": 7,
    "start_time": "2024-02-16T17:29:17.844Z"
   },
   {
    "duration": 6,
    "start_time": "2024-02-16T17:29:17.853Z"
   },
   {
    "duration": 41,
    "start_time": "2024-02-16T17:29:17.862Z"
   },
   {
    "duration": 353,
    "start_time": "2024-02-16T17:29:17.905Z"
   },
   {
    "duration": 654,
    "start_time": "2024-02-16T17:29:18.260Z"
   },
   {
    "duration": 499,
    "start_time": "2024-02-16T17:29:18.916Z"
   },
   {
    "duration": 483,
    "start_time": "2024-02-16T17:29:19.416Z"
   },
   {
    "duration": 276,
    "start_time": "2024-02-16T17:29:19.901Z"
   },
   {
    "duration": 550,
    "start_time": "2024-02-16T17:29:20.178Z"
   },
   {
    "duration": 2192,
    "start_time": "2024-02-16T17:29:20.730Z"
   },
   {
    "duration": 95,
    "start_time": "2024-02-16T17:29:22.928Z"
   },
   {
    "duration": 29,
    "start_time": "2024-02-16T17:29:23.026Z"
   },
   {
    "duration": 7,
    "start_time": "2024-02-16T17:29:23.057Z"
   },
   {
    "duration": 452562,
    "start_time": "2024-02-16T17:29:23.066Z"
   },
   {
    "duration": 10,
    "start_time": "2024-02-16T17:50:58.420Z"
   },
   {
    "duration": 220484,
    "start_time": "2024-02-16T17:53:16.348Z"
   },
   {
    "duration": 11,
    "start_time": "2024-02-16T18:10:28.067Z"
   },
   {
    "duration": 2580,
    "start_time": "2024-02-16T18:10:55.210Z"
   },
   {
    "duration": 3061,
    "start_time": "2024-02-16T18:10:57.793Z"
   },
   {
    "duration": 1434,
    "start_time": "2024-02-16T18:11:00.856Z"
   },
   {
    "duration": 2,
    "start_time": "2024-02-16T18:11:02.292Z"
   },
   {
    "duration": 270,
    "start_time": "2024-02-16T18:11:02.297Z"
   },
   {
    "duration": 13,
    "start_time": "2024-02-16T18:11:02.569Z"
   },
   {
    "duration": 37,
    "start_time": "2024-02-16T18:11:02.583Z"
   },
   {
    "duration": 12,
    "start_time": "2024-02-16T18:11:02.621Z"
   },
   {
    "duration": 7,
    "start_time": "2024-02-16T18:11:02.635Z"
   },
   {
    "duration": 14,
    "start_time": "2024-02-16T18:11:02.644Z"
   },
   {
    "duration": 378,
    "start_time": "2024-02-16T18:11:02.660Z"
   },
   {
    "duration": 654,
    "start_time": "2024-02-16T18:11:03.040Z"
   },
   {
    "duration": 470,
    "start_time": "2024-02-16T18:11:03.696Z"
   },
   {
    "duration": 464,
    "start_time": "2024-02-16T18:11:04.169Z"
   },
   {
    "duration": 298,
    "start_time": "2024-02-16T18:11:04.634Z"
   },
   {
    "duration": 537,
    "start_time": "2024-02-16T18:11:04.934Z"
   },
   {
    "duration": 2159,
    "start_time": "2024-02-16T18:11:05.473Z"
   },
   {
    "duration": 92,
    "start_time": "2024-02-16T18:11:07.731Z"
   },
   {
    "duration": 35,
    "start_time": "2024-02-16T18:11:07.826Z"
   },
   {
    "duration": 8,
    "start_time": "2024-02-16T18:11:07.863Z"
   },
   {
    "duration": 12,
    "start_time": "2024-02-16T18:11:07.873Z"
   },
   {
    "duration": 11,
    "start_time": "2024-02-16T18:11:07.887Z"
   },
   {
    "duration": 221936,
    "start_time": "2024-02-16T18:11:07.900Z"
   },
   {
    "duration": 12,
    "start_time": "2024-02-16T18:22:16.479Z"
   },
   {
    "duration": 3846,
    "start_time": "2024-02-16T22:01:40.663Z"
   },
   {
    "duration": 7000,
    "start_time": "2024-02-16T22:01:44.511Z"
   },
   {
    "duration": 1661,
    "start_time": "2024-02-16T22:01:51.513Z"
   },
   {
    "duration": 3,
    "start_time": "2024-02-16T22:01:53.176Z"
   },
   {
    "duration": 162,
    "start_time": "2024-02-16T22:01:53.181Z"
   },
   {
    "duration": 14,
    "start_time": "2024-02-16T22:01:53.345Z"
   },
   {
    "duration": 22,
    "start_time": "2024-02-16T22:01:53.360Z"
   },
   {
    "duration": 14,
    "start_time": "2024-02-16T22:01:53.384Z"
   },
   {
    "duration": 14,
    "start_time": "2024-02-16T22:01:53.399Z"
   },
   {
    "duration": 13,
    "start_time": "2024-02-16T22:01:53.415Z"
   },
   {
    "duration": 386,
    "start_time": "2024-02-16T22:01:53.430Z"
   },
   {
    "duration": 710,
    "start_time": "2024-02-16T22:01:53.818Z"
   },
   {
    "duration": 495,
    "start_time": "2024-02-16T22:01:54.530Z"
   },
   {
    "duration": 472,
    "start_time": "2024-02-16T22:01:55.028Z"
   },
   {
    "duration": 278,
    "start_time": "2024-02-16T22:01:55.502Z"
   },
   {
    "duration": 565,
    "start_time": "2024-02-16T22:01:55.781Z"
   },
   {
    "duration": 2252,
    "start_time": "2024-02-16T22:01:56.348Z"
   },
   {
    "duration": 100,
    "start_time": "2024-02-16T22:01:58.694Z"
   },
   {
    "duration": 152,
    "start_time": "2024-02-16T22:01:58.797Z"
   },
   {
    "duration": 7,
    "start_time": "2024-02-16T22:01:58.951Z"
   },
   {
    "duration": 53,
    "start_time": "2024-02-16T22:01:58.960Z"
   },
   {
    "duration": 19,
    "start_time": "2024-02-16T22:01:59.014Z"
   },
   {
    "duration": 5,
    "start_time": "2024-02-16T22:01:59.035Z"
   },
   {
    "duration": 220351,
    "start_time": "2024-02-16T22:01:59.041Z"
   },
   {
    "duration": 2710,
    "start_time": "2024-02-16T22:31:14.458Z"
   },
   {
    "duration": 3168,
    "start_time": "2024-02-16T22:31:17.171Z"
   },
   {
    "duration": 1391,
    "start_time": "2024-02-16T22:31:20.342Z"
   },
   {
    "duration": 3,
    "start_time": "2024-02-16T22:31:21.735Z"
   },
   {
    "duration": 95,
    "start_time": "2024-02-16T22:31:21.740Z"
   },
   {
    "duration": 12,
    "start_time": "2024-02-16T22:31:21.837Z"
   },
   {
    "duration": 13,
    "start_time": "2024-02-16T22:31:21.851Z"
   },
   {
    "duration": 18,
    "start_time": "2024-02-16T22:31:21.865Z"
   },
   {
    "duration": 35,
    "start_time": "2024-02-16T22:31:21.885Z"
   },
   {
    "duration": 27,
    "start_time": "2024-02-16T22:31:21.922Z"
   },
   {
    "duration": 359,
    "start_time": "2024-02-16T22:31:21.951Z"
   },
   {
    "duration": 672,
    "start_time": "2024-02-16T22:31:22.312Z"
   },
   {
    "duration": 506,
    "start_time": "2024-02-16T22:31:22.985Z"
   },
   {
    "duration": 516,
    "start_time": "2024-02-16T22:31:23.494Z"
   },
   {
    "duration": 292,
    "start_time": "2024-02-16T22:31:24.012Z"
   },
   {
    "duration": 577,
    "start_time": "2024-02-16T22:31:24.305Z"
   },
   {
    "duration": 2309,
    "start_time": "2024-02-16T22:31:24.883Z"
   },
   {
    "duration": 7,
    "start_time": "2024-02-16T22:31:27.195Z"
   },
   {
    "duration": 126,
    "start_time": "2024-02-16T22:31:27.204Z"
   },
   {
    "duration": 8,
    "start_time": "2024-02-16T22:31:27.332Z"
   },
   {
    "duration": 16,
    "start_time": "2024-02-16T22:31:27.341Z"
   },
   {
    "duration": 6645,
    "start_time": "2024-02-16T22:31:27.359Z"
   },
   {
    "duration": 19696,
    "start_time": "2024-02-16T22:31:34.006Z"
   },
   {
    "duration": 0,
    "start_time": "2024-02-16T22:31:53.703Z"
   },
   {
    "duration": 19716,
    "start_time": "2024-02-16T22:35:30.195Z"
   },
   {
    "duration": 20181,
    "start_time": "2024-02-16T22:36:55.215Z"
   },
   {
    "duration": 5703,
    "start_time": "2024-02-16T22:39:58.002Z"
   },
   {
    "duration": 2678,
    "start_time": "2024-02-16T22:40:25.894Z"
   },
   {
    "duration": 3266,
    "start_time": "2024-02-16T22:40:28.574Z"
   },
   {
    "duration": 1497,
    "start_time": "2024-02-16T22:40:31.842Z"
   },
   {
    "duration": 3,
    "start_time": "2024-02-16T22:40:33.341Z"
   },
   {
    "duration": 86,
    "start_time": "2024-02-16T22:40:33.346Z"
   },
   {
    "duration": 13,
    "start_time": "2024-02-16T22:40:33.434Z"
   },
   {
    "duration": 11,
    "start_time": "2024-02-16T22:40:33.450Z"
   },
   {
    "duration": 8,
    "start_time": "2024-02-16T22:40:33.463Z"
   },
   {
    "duration": 19,
    "start_time": "2024-02-16T22:40:33.473Z"
   },
   {
    "duration": 13,
    "start_time": "2024-02-16T22:40:33.495Z"
   },
   {
    "duration": 388,
    "start_time": "2024-02-16T22:40:33.510Z"
   },
   {
    "duration": 648,
    "start_time": "2024-02-16T22:40:33.900Z"
   },
   {
    "duration": 466,
    "start_time": "2024-02-16T22:40:34.550Z"
   },
   {
    "duration": 474,
    "start_time": "2024-02-16T22:40:35.018Z"
   },
   {
    "duration": 298,
    "start_time": "2024-02-16T22:40:35.494Z"
   },
   {
    "duration": 542,
    "start_time": "2024-02-16T22:40:35.793Z"
   },
   {
    "duration": 1560,
    "start_time": "2024-02-16T22:40:36.337Z"
   },
   {
    "duration": 101,
    "start_time": "2024-02-16T22:40:37.900Z"
   },
   {
    "duration": 107,
    "start_time": "2024-02-16T22:40:38.006Z"
   },
   {
    "duration": 7,
    "start_time": "2024-02-16T22:40:38.115Z"
   },
   {
    "duration": 12,
    "start_time": "2024-02-16T22:40:38.124Z"
   },
   {
    "duration": 6055,
    "start_time": "2024-02-16T22:40:38.138Z"
   },
   {
    "duration": 19782,
    "start_time": "2024-02-16T22:40:44.194Z"
   },
   {
    "duration": 2,
    "start_time": "2024-02-16T22:41:03.978Z"
   },
   {
    "duration": 20555,
    "start_time": "2024-02-16T22:47:28.436Z"
   },
   {
    "duration": 20060,
    "start_time": "2024-02-16T22:48:45.407Z"
   },
   {
    "duration": 19464,
    "start_time": "2024-02-16T22:49:53.085Z"
   },
   {
    "duration": 19699,
    "start_time": "2024-02-16T22:50:45.607Z"
   },
   {
    "duration": 205376,
    "start_time": "2024-02-16T23:15:17.619Z"
   },
   {
    "duration": 11,
    "start_time": "2024-02-17T01:21:43.999Z"
   },
   {
    "duration": 9,
    "start_time": "2024-02-17T02:00:58.976Z"
   },
   {
    "duration": 120600,
    "start_time": "2024-02-17T02:01:05.018Z"
   },
   {
    "duration": 120581,
    "start_time": "2024-02-17T02:03:40.228Z"
   },
   {
    "duration": 2568,
    "start_time": "2024-02-17T02:08:53.080Z"
   },
   {
    "duration": 3085,
    "start_time": "2024-02-17T02:08:55.651Z"
   },
   {
    "duration": 1442,
    "start_time": "2024-02-17T02:08:58.738Z"
   },
   {
    "duration": 3,
    "start_time": "2024-02-17T02:09:00.182Z"
   },
   {
    "duration": 201,
    "start_time": "2024-02-17T02:09:00.191Z"
   },
   {
    "duration": 13,
    "start_time": "2024-02-17T02:09:00.394Z"
   },
   {
    "duration": 50,
    "start_time": "2024-02-17T02:09:00.409Z"
   },
   {
    "duration": 44,
    "start_time": "2024-02-17T02:09:00.461Z"
   },
   {
    "duration": 33,
    "start_time": "2024-02-17T02:09:00.507Z"
   },
   {
    "duration": 33,
    "start_time": "2024-02-17T02:09:00.544Z"
   },
   {
    "duration": 388,
    "start_time": "2024-02-17T02:09:00.579Z"
   },
   {
    "duration": 640,
    "start_time": "2024-02-17T02:09:00.968Z"
   },
   {
    "duration": 505,
    "start_time": "2024-02-17T02:09:01.609Z"
   },
   {
    "duration": 491,
    "start_time": "2024-02-17T02:09:02.115Z"
   },
   {
    "duration": 266,
    "start_time": "2024-02-17T02:09:02.608Z"
   },
   {
    "duration": 525,
    "start_time": "2024-02-17T02:09:02.875Z"
   },
   {
    "duration": 2098,
    "start_time": "2024-02-17T02:09:03.402Z"
   },
   {
    "duration": 96,
    "start_time": "2024-02-17T02:09:05.502Z"
   },
   {
    "duration": 123,
    "start_time": "2024-02-17T02:09:05.600Z"
   },
   {
    "duration": 7,
    "start_time": "2024-02-17T02:09:05.724Z"
   },
   {
    "duration": 11,
    "start_time": "2024-02-17T02:09:05.733Z"
   },
   {
    "duration": 6,
    "start_time": "2024-02-17T02:09:05.745Z"
   },
   {
    "duration": 116866,
    "start_time": "2024-02-17T02:09:05.753Z"
   },
   {
    "duration": 14,
    "start_time": "2024-02-17T02:17:24.705Z"
   },
   {
    "duration": 136,
    "start_time": "2024-02-17T02:19:05.104Z"
   },
   {
    "duration": 11,
    "start_time": "2024-02-17T02:19:57.204Z"
   },
   {
    "duration": 10,
    "start_time": "2024-02-17T02:22:55.404Z"
   },
   {
    "duration": 14,
    "start_time": "2024-02-17T02:23:48.318Z"
   },
   {
    "duration": 20,
    "start_time": "2024-02-17T02:25:21.352Z"
   },
   {
    "duration": 11,
    "start_time": "2024-02-17T02:30:53.979Z"
   },
   {
    "duration": 11,
    "start_time": "2024-02-17T02:46:12.719Z"
   },
   {
    "duration": 10,
    "start_time": "2024-02-17T02:46:43.169Z"
   },
   {
    "duration": 11,
    "start_time": "2024-02-17T02:49:38.752Z"
   },
   {
    "duration": 3,
    "start_time": "2024-02-17T02:49:47.370Z"
   },
   {
    "duration": 6,
    "start_time": "2024-02-17T02:50:52.812Z"
   },
   {
    "duration": 27,
    "start_time": "2024-02-17T02:51:44.425Z"
   },
   {
    "duration": 27,
    "start_time": "2024-02-17T02:52:24.054Z"
   },
   {
    "duration": 7,
    "start_time": "2024-02-17T02:52:52.391Z"
   },
   {
    "duration": 2629,
    "start_time": "2024-02-17T02:56:44.982Z"
   },
   {
    "duration": 3191,
    "start_time": "2024-02-17T02:56:47.613Z"
   },
   {
    "duration": 1400,
    "start_time": "2024-02-17T02:56:50.806Z"
   },
   {
    "duration": 3,
    "start_time": "2024-02-17T02:56:52.208Z"
   },
   {
    "duration": 83,
    "start_time": "2024-02-17T02:56:52.212Z"
   },
   {
    "duration": 12,
    "start_time": "2024-02-17T02:56:52.297Z"
   },
   {
    "duration": 17,
    "start_time": "2024-02-17T02:56:52.310Z"
   },
   {
    "duration": 27,
    "start_time": "2024-02-17T02:56:52.328Z"
   },
   {
    "duration": 15,
    "start_time": "2024-02-17T02:56:52.356Z"
   },
   {
    "duration": 26,
    "start_time": "2024-02-17T02:56:52.374Z"
   },
   {
    "duration": 366,
    "start_time": "2024-02-17T02:56:52.401Z"
   },
   {
    "duration": 635,
    "start_time": "2024-02-17T02:56:52.769Z"
   },
   {
    "duration": 494,
    "start_time": "2024-02-17T02:56:53.405Z"
   },
   {
    "duration": 478,
    "start_time": "2024-02-17T02:56:53.901Z"
   },
   {
    "duration": 272,
    "start_time": "2024-02-17T02:56:54.381Z"
   },
   {
    "duration": 537,
    "start_time": "2024-02-17T02:56:54.654Z"
   },
   {
    "duration": 2199,
    "start_time": "2024-02-17T02:56:55.193Z"
   },
   {
    "duration": 98,
    "start_time": "2024-02-17T02:56:57.394Z"
   },
   {
    "duration": 30,
    "start_time": "2024-02-17T02:56:57.493Z"
   },
   {
    "duration": 9,
    "start_time": "2024-02-17T02:56:57.526Z"
   },
   {
    "duration": 6,
    "start_time": "2024-02-17T02:56:57.536Z"
   },
   {
    "duration": 116871,
    "start_time": "2024-02-17T02:56:57.544Z"
   },
   {
    "duration": 9,
    "start_time": "2024-02-17T02:58:54.416Z"
   },
   {
    "duration": 71,
    "start_time": "2024-02-17T02:58:54.427Z"
   },
   {
    "duration": 128,
    "start_time": "2024-02-17T03:06:21.804Z"
   },
   {
    "duration": 118237,
    "start_time": "2024-02-17T03:07:54.866Z"
   },
   {
    "duration": 3502,
    "start_time": "2024-02-17T15:45:15.472Z"
   },
   {
    "duration": 6677,
    "start_time": "2024-02-17T15:45:18.976Z"
   },
   {
    "duration": 1675,
    "start_time": "2024-02-17T15:45:25.656Z"
   },
   {
    "duration": 3,
    "start_time": "2024-02-17T15:45:27.334Z"
   },
   {
    "duration": 158,
    "start_time": "2024-02-17T15:45:27.339Z"
   },
   {
    "duration": 12,
    "start_time": "2024-02-17T15:45:27.499Z"
   },
   {
    "duration": 39,
    "start_time": "2024-02-17T15:45:27.513Z"
   },
   {
    "duration": 16,
    "start_time": "2024-02-17T15:45:27.554Z"
   },
   {
    "duration": 9,
    "start_time": "2024-02-17T15:45:27.571Z"
   },
   {
    "duration": 17,
    "start_time": "2024-02-17T15:45:27.582Z"
   },
   {
    "duration": 368,
    "start_time": "2024-02-17T15:45:27.600Z"
   },
   {
    "duration": 652,
    "start_time": "2024-02-17T15:45:27.969Z"
   },
   {
    "duration": 474,
    "start_time": "2024-02-17T15:45:28.623Z"
   },
   {
    "duration": 515,
    "start_time": "2024-02-17T15:45:29.098Z"
   },
   {
    "duration": 292,
    "start_time": "2024-02-17T15:45:29.615Z"
   },
   {
    "duration": 545,
    "start_time": "2024-02-17T15:45:29.908Z"
   },
   {
    "duration": 2230,
    "start_time": "2024-02-17T15:45:30.454Z"
   },
   {
    "duration": 5,
    "start_time": "2024-02-17T15:45:32.779Z"
   },
   {
    "duration": 176,
    "start_time": "2024-02-17T15:45:32.785Z"
   },
   {
    "duration": 18,
    "start_time": "2024-02-17T15:45:32.962Z"
   },
   {
    "duration": 7,
    "start_time": "2024-02-17T15:45:32.982Z"
   },
   {
    "duration": 125519,
    "start_time": "2024-02-17T15:45:32.990Z"
   },
   {
    "duration": 69,
    "start_time": "2024-02-17T15:47:38.511Z"
   },
   {
    "duration": 14,
    "start_time": "2024-02-17T15:47:38.582Z"
   },
   {
    "duration": 5,
    "start_time": "2024-02-17T15:56:54.927Z"
   },
   {
    "duration": 2553,
    "start_time": "2024-02-17T15:57:02.703Z"
   },
   {
    "duration": 2992,
    "start_time": "2024-02-17T15:57:05.259Z"
   },
   {
    "duration": 1419,
    "start_time": "2024-02-17T15:57:08.253Z"
   },
   {
    "duration": 2,
    "start_time": "2024-02-17T15:57:09.674Z"
   },
   {
    "duration": 77,
    "start_time": "2024-02-17T15:57:09.680Z"
   },
   {
    "duration": 12,
    "start_time": "2024-02-17T15:57:09.759Z"
   },
   {
    "duration": 9,
    "start_time": "2024-02-17T15:57:09.772Z"
   },
   {
    "duration": 7,
    "start_time": "2024-02-17T15:57:09.782Z"
   },
   {
    "duration": 5,
    "start_time": "2024-02-17T15:57:09.790Z"
   },
   {
    "duration": 13,
    "start_time": "2024-02-17T15:57:09.797Z"
   },
   {
    "duration": 355,
    "start_time": "2024-02-17T15:57:09.812Z"
   },
   {
    "duration": 616,
    "start_time": "2024-02-17T15:57:10.169Z"
   },
   {
    "duration": 483,
    "start_time": "2024-02-17T15:57:10.788Z"
   },
   {
    "duration": 473,
    "start_time": "2024-02-17T15:57:11.280Z"
   },
   {
    "duration": 282,
    "start_time": "2024-02-17T15:57:11.758Z"
   },
   {
    "duration": 541,
    "start_time": "2024-02-17T15:57:12.042Z"
   },
   {
    "duration": 2201,
    "start_time": "2024-02-17T15:57:12.584Z"
   },
   {
    "duration": 94,
    "start_time": "2024-02-17T15:57:14.787Z"
   },
   {
    "duration": 116,
    "start_time": "2024-02-17T15:57:14.884Z"
   },
   {
    "duration": 13,
    "start_time": "2024-02-17T15:57:15.002Z"
   },
   {
    "duration": 27,
    "start_time": "2024-02-17T15:57:15.017Z"
   },
   {
    "duration": 87662,
    "start_time": "2024-02-17T15:57:15.046Z"
   },
   {
    "duration": 77,
    "start_time": "2024-02-17T15:58:42.710Z"
   },
   {
    "duration": 17,
    "start_time": "2024-02-17T15:58:42.789Z"
   },
   {
    "duration": 2551,
    "start_time": "2024-02-17T16:04:18.247Z"
   },
   {
    "duration": 2985,
    "start_time": "2024-02-17T16:04:20.800Z"
   },
   {
    "duration": 1386,
    "start_time": "2024-02-17T16:04:23.787Z"
   },
   {
    "duration": 5,
    "start_time": "2024-02-17T16:04:25.175Z"
   },
   {
    "duration": 79,
    "start_time": "2024-02-17T16:04:25.181Z"
   },
   {
    "duration": 12,
    "start_time": "2024-02-17T16:04:25.261Z"
   },
   {
    "duration": 13,
    "start_time": "2024-02-17T16:04:25.275Z"
   },
   {
    "duration": 8,
    "start_time": "2024-02-17T16:04:25.289Z"
   },
   {
    "duration": 10,
    "start_time": "2024-02-17T16:04:25.298Z"
   },
   {
    "duration": 9,
    "start_time": "2024-02-17T16:04:25.311Z"
   },
   {
    "duration": 331,
    "start_time": "2024-02-17T16:04:25.321Z"
   },
   {
    "duration": 655,
    "start_time": "2024-02-17T16:04:25.654Z"
   },
   {
    "duration": 475,
    "start_time": "2024-02-17T16:04:26.311Z"
   },
   {
    "duration": 477,
    "start_time": "2024-02-17T16:04:26.787Z"
   },
   {
    "duration": 318,
    "start_time": "2024-02-17T16:04:27.266Z"
   },
   {
    "duration": 519,
    "start_time": "2024-02-17T16:04:27.586Z"
   },
   {
    "duration": 1979,
    "start_time": "2024-02-17T16:04:28.106Z"
   },
   {
    "duration": 105,
    "start_time": "2024-02-17T16:04:30.087Z"
   },
   {
    "duration": 37,
    "start_time": "2024-02-17T16:04:30.281Z"
   },
   {
    "duration": 31,
    "start_time": "2024-02-17T16:04:30.320Z"
   },
   {
    "duration": 57,
    "start_time": "2024-02-17T16:04:30.353Z"
   },
   {
    "duration": 87472,
    "start_time": "2024-02-17T16:04:30.412Z"
   },
   {
    "duration": 11,
    "start_time": "2024-02-17T16:05:57.886Z"
   },
   {
    "duration": 9,
    "start_time": "2024-02-17T16:05:57.899Z"
   },
   {
    "duration": 131,
    "start_time": "2024-02-17T16:08:51.017Z"
   },
   {
    "duration": 454,
    "start_time": "2024-02-17T16:09:12.999Z"
   },
   {
    "duration": 174,
    "start_time": "2024-02-17T16:10:37.538Z"
   },
   {
    "duration": 5,
    "start_time": "2024-02-17T16:14:41.949Z"
   },
   {
    "duration": 384,
    "start_time": "2024-02-17T16:17:31.582Z"
   },
   {
    "duration": 1456,
    "start_time": "2024-02-17T16:34:35.279Z"
   },
   {
    "duration": 550,
    "start_time": "2024-02-17T16:35:22.035Z"
   },
   {
    "duration": 228,
    "start_time": "2024-02-17T16:36:03.652Z"
   },
   {
    "duration": 311,
    "start_time": "2024-02-17T16:36:26.545Z"
   },
   {
    "duration": 15,
    "start_time": "2024-02-17T17:10:18.535Z"
   },
   {
    "duration": 339513,
    "start_time": "2024-02-17T17:18:54.488Z"
   },
   {
    "duration": 2576,
    "start_time": "2024-02-17T17:27:31.984Z"
   },
   {
    "duration": 3091,
    "start_time": "2024-02-17T17:27:34.562Z"
   },
   {
    "duration": 1474,
    "start_time": "2024-02-17T17:27:37.656Z"
   },
   {
    "duration": 3,
    "start_time": "2024-02-17T17:27:39.133Z"
   },
   {
    "duration": 87,
    "start_time": "2024-02-17T17:27:39.137Z"
   },
   {
    "duration": 12,
    "start_time": "2024-02-17T17:27:39.226Z"
   },
   {
    "duration": 16,
    "start_time": "2024-02-17T17:27:39.240Z"
   },
   {
    "duration": 10,
    "start_time": "2024-02-17T17:27:39.258Z"
   },
   {
    "duration": 14,
    "start_time": "2024-02-17T17:27:39.269Z"
   },
   {
    "duration": 10,
    "start_time": "2024-02-17T17:27:39.285Z"
   },
   {
    "duration": 366,
    "start_time": "2024-02-17T17:27:39.297Z"
   },
   {
    "duration": 632,
    "start_time": "2024-02-17T17:27:39.665Z"
   },
   {
    "duration": 488,
    "start_time": "2024-02-17T17:27:40.300Z"
   },
   {
    "duration": 508,
    "start_time": "2024-02-17T17:27:40.790Z"
   },
   {
    "duration": 273,
    "start_time": "2024-02-17T17:27:41.300Z"
   },
   {
    "duration": 537,
    "start_time": "2024-02-17T17:27:41.575Z"
   },
   {
    "duration": 2074,
    "start_time": "2024-02-17T17:27:42.115Z"
   },
   {
    "duration": 6,
    "start_time": "2024-02-17T17:27:44.281Z"
   },
   {
    "duration": 118,
    "start_time": "2024-02-17T17:27:44.290Z"
   },
   {
    "duration": 7,
    "start_time": "2024-02-17T17:27:44.409Z"
   },
   {
    "duration": 27,
    "start_time": "2024-02-17T17:27:44.417Z"
   },
   {
    "duration": 92964,
    "start_time": "2024-02-17T17:27:44.446Z"
   },
   {
    "duration": 536,
    "start_time": "2024-02-17T17:29:17.412Z"
   },
   {
    "duration": 11,
    "start_time": "2024-02-17T17:29:17.950Z"
   },
   {
    "duration": 23,
    "start_time": "2024-02-17T17:29:17.963Z"
   },
   {
    "duration": 92094,
    "start_time": "2024-02-17T17:32:19.212Z"
   },
   {
    "duration": 14,
    "start_time": "2024-02-17T17:51:21.396Z"
   },
   {
    "duration": 17,
    "start_time": "2024-02-17T17:51:32.326Z"
   },
   {
    "duration": 2614,
    "start_time": "2024-02-17T17:52:13.424Z"
   },
   {
    "duration": 3167,
    "start_time": "2024-02-17T17:52:16.041Z"
   },
   {
    "duration": 1431,
    "start_time": "2024-02-17T17:52:19.210Z"
   },
   {
    "duration": 3,
    "start_time": "2024-02-17T17:52:20.643Z"
   },
   {
    "duration": 179,
    "start_time": "2024-02-17T17:52:20.648Z"
   },
   {
    "duration": 20,
    "start_time": "2024-02-17T17:52:20.829Z"
   },
   {
    "duration": 39,
    "start_time": "2024-02-17T17:52:20.851Z"
   },
   {
    "duration": 17,
    "start_time": "2024-02-17T17:52:20.892Z"
   },
   {
    "duration": 19,
    "start_time": "2024-02-17T17:52:20.911Z"
   },
   {
    "duration": 18,
    "start_time": "2024-02-17T17:52:20.934Z"
   },
   {
    "duration": 372,
    "start_time": "2024-02-17T17:52:20.954Z"
   },
   {
    "duration": 677,
    "start_time": "2024-02-17T17:52:21.328Z"
   },
   {
    "duration": 540,
    "start_time": "2024-02-17T17:52:22.007Z"
   },
   {
    "duration": 523,
    "start_time": "2024-02-17T17:52:22.550Z"
   },
   {
    "duration": 318,
    "start_time": "2024-02-17T17:52:23.074Z"
   },
   {
    "duration": 548,
    "start_time": "2024-02-17T17:52:23.395Z"
   },
   {
    "duration": 1842,
    "start_time": "2024-02-17T17:52:23.945Z"
   },
   {
    "duration": 88,
    "start_time": "2024-02-17T17:52:25.794Z"
   },
   {
    "duration": 120,
    "start_time": "2024-02-17T17:52:25.890Z"
   },
   {
    "duration": 6,
    "start_time": "2024-02-17T17:52:26.012Z"
   },
   {
    "duration": 16,
    "start_time": "2024-02-17T17:52:26.020Z"
   },
   {
    "duration": 570375,
    "start_time": "2024-02-17T17:52:26.037Z"
   },
   {
    "duration": 455,
    "start_time": "2024-02-17T18:01:56.413Z"
   },
   {
    "duration": 25,
    "start_time": "2024-02-17T18:01:56.869Z"
   },
   {
    "duration": 18,
    "start_time": "2024-02-17T18:01:56.896Z"
   },
   {
    "duration": 3237,
    "start_time": "2024-02-17T23:05:05.063Z"
   },
   {
    "duration": 6038,
    "start_time": "2024-02-17T23:05:08.303Z"
   },
   {
    "duration": 1519,
    "start_time": "2024-02-17T23:05:14.343Z"
   },
   {
    "duration": 2,
    "start_time": "2024-02-17T23:05:15.864Z"
   },
   {
    "duration": 156,
    "start_time": "2024-02-17T23:05:15.868Z"
   },
   {
    "duration": 11,
    "start_time": "2024-02-17T23:05:16.026Z"
   },
   {
    "duration": 11,
    "start_time": "2024-02-17T23:05:16.038Z"
   },
   {
    "duration": 6,
    "start_time": "2024-02-17T23:05:16.050Z"
   },
   {
    "duration": 8,
    "start_time": "2024-02-17T23:05:16.057Z"
   },
   {
    "duration": 9,
    "start_time": "2024-02-17T23:05:16.067Z"
   },
   {
    "duration": 322,
    "start_time": "2024-02-17T23:05:16.078Z"
   },
   {
    "duration": 675,
    "start_time": "2024-02-17T23:05:16.401Z"
   },
   {
    "duration": 445,
    "start_time": "2024-02-17T23:05:17.077Z"
   },
   {
    "duration": 417,
    "start_time": "2024-02-17T23:05:17.523Z"
   },
   {
    "duration": 247,
    "start_time": "2024-02-17T23:05:17.941Z"
   },
   {
    "duration": 473,
    "start_time": "2024-02-17T23:05:18.189Z"
   },
   {
    "duration": 2109,
    "start_time": "2024-02-17T23:05:18.665Z"
   },
   {
    "duration": 93,
    "start_time": "2024-02-17T23:05:20.775Z"
   },
   {
    "duration": 215,
    "start_time": "2024-02-17T23:05:20.872Z"
   },
   {
    "duration": 7,
    "start_time": "2024-02-17T23:05:21.089Z"
   },
   {
    "duration": 6,
    "start_time": "2024-02-17T23:05:21.098Z"
   },
   {
    "duration": 75878,
    "start_time": "2024-02-17T23:05:21.106Z"
   },
   {
    "duration": 322,
    "start_time": "2024-02-17T23:06:36.985Z"
   },
   {
    "duration": 8,
    "start_time": "2024-02-17T23:06:37.309Z"
   },
   {
    "duration": 48,
    "start_time": "2024-02-17T23:06:37.319Z"
   },
   {
    "duration": 39869,
    "start_time": "2024-02-17T23:56:25.500Z"
   },
   {
    "duration": 326,
    "start_time": "2024-02-17T23:57:43.255Z"
   },
   {
    "duration": 10,
    "start_time": "2024-02-17T23:57:56.011Z"
   },
   {
    "duration": 2235,
    "start_time": "2024-02-17T23:58:31.605Z"
   },
   {
    "duration": 2670,
    "start_time": "2024-02-17T23:58:33.842Z"
   },
   {
    "duration": 1213,
    "start_time": "2024-02-17T23:58:36.515Z"
   },
   {
    "duration": 3,
    "start_time": "2024-02-17T23:58:37.729Z"
   },
   {
    "duration": 106,
    "start_time": "2024-02-17T23:58:37.734Z"
   },
   {
    "duration": 11,
    "start_time": "2024-02-17T23:58:37.842Z"
   },
   {
    "duration": 14,
    "start_time": "2024-02-17T23:58:37.854Z"
   },
   {
    "duration": 5,
    "start_time": "2024-02-17T23:58:37.869Z"
   },
   {
    "duration": 21,
    "start_time": "2024-02-17T23:58:37.876Z"
   },
   {
    "duration": 11,
    "start_time": "2024-02-17T23:58:37.898Z"
   },
   {
    "duration": 313,
    "start_time": "2024-02-17T23:58:37.911Z"
   },
   {
    "duration": 590,
    "start_time": "2024-02-17T23:58:38.226Z"
   },
   {
    "duration": 434,
    "start_time": "2024-02-17T23:58:38.817Z"
   },
   {
    "duration": 420,
    "start_time": "2024-02-17T23:58:39.253Z"
   },
   {
    "duration": 264,
    "start_time": "2024-02-17T23:58:39.674Z"
   },
   {
    "duration": 446,
    "start_time": "2024-02-17T23:58:39.939Z"
   },
   {
    "duration": 1787,
    "start_time": "2024-02-17T23:58:40.387Z"
   },
   {
    "duration": 5,
    "start_time": "2024-02-17T23:58:42.266Z"
   },
   {
    "duration": 123,
    "start_time": "2024-02-17T23:58:42.274Z"
   },
   {
    "duration": 7,
    "start_time": "2024-02-17T23:58:42.399Z"
   },
   {
    "duration": 15,
    "start_time": "2024-02-17T23:58:42.407Z"
   },
   {
    "duration": 38080,
    "start_time": "2024-02-17T23:58:42.424Z"
   },
   {
    "duration": 369,
    "start_time": "2024-02-17T23:59:20.506Z"
   },
   {
    "duration": 9,
    "start_time": "2024-02-17T23:59:20.877Z"
   },
   {
    "duration": 22,
    "start_time": "2024-02-17T23:59:20.887Z"
   },
   {
    "duration": 2279,
    "start_time": "2024-02-18T00:00:05.436Z"
   },
   {
    "duration": 2773,
    "start_time": "2024-02-18T00:00:07.718Z"
   },
   {
    "duration": 1295,
    "start_time": "2024-02-18T00:00:10.493Z"
   },
   {
    "duration": 3,
    "start_time": "2024-02-18T00:00:11.789Z"
   },
   {
    "duration": 80,
    "start_time": "2024-02-18T00:00:11.794Z"
   },
   {
    "duration": 10,
    "start_time": "2024-02-18T00:00:11.876Z"
   },
   {
    "duration": 12,
    "start_time": "2024-02-18T00:00:11.887Z"
   },
   {
    "duration": 6,
    "start_time": "2024-02-18T00:00:11.900Z"
   },
   {
    "duration": 9,
    "start_time": "2024-02-18T00:00:11.907Z"
   },
   {
    "duration": 9,
    "start_time": "2024-02-18T00:00:11.918Z"
   },
   {
    "duration": 319,
    "start_time": "2024-02-18T00:00:11.928Z"
   },
   {
    "duration": 572,
    "start_time": "2024-02-18T00:00:12.248Z"
   },
   {
    "duration": 423,
    "start_time": "2024-02-18T00:00:12.821Z"
   },
   {
    "duration": 426,
    "start_time": "2024-02-18T00:00:13.247Z"
   },
   {
    "duration": 254,
    "start_time": "2024-02-18T00:00:13.675Z"
   },
   {
    "duration": 467,
    "start_time": "2024-02-18T00:00:13.931Z"
   },
   {
    "duration": 1966,
    "start_time": "2024-02-18T00:00:14.399Z"
   },
   {
    "duration": 6,
    "start_time": "2024-02-18T00:00:16.367Z"
   },
   {
    "duration": 119,
    "start_time": "2024-02-18T00:00:16.375Z"
   },
   {
    "duration": 7,
    "start_time": "2024-02-18T00:00:16.495Z"
   },
   {
    "duration": 6,
    "start_time": "2024-02-18T00:00:16.503Z"
   },
   {
    "duration": 75476,
    "start_time": "2024-02-18T00:00:16.510Z"
   },
   {
    "duration": 433,
    "start_time": "2024-02-18T00:01:31.988Z"
   },
   {
    "duration": 9,
    "start_time": "2024-02-18T00:01:32.423Z"
   },
   {
    "duration": 28,
    "start_time": "2024-02-18T00:01:32.444Z"
   },
   {
    "duration": 29,
    "start_time": "2024-02-18T00:11:02.225Z"
   },
   {
    "duration": 2234,
    "start_time": "2024-02-18T00:11:13.164Z"
   },
   {
    "duration": 2700,
    "start_time": "2024-02-18T00:11:15.400Z"
   },
   {
    "duration": 1258,
    "start_time": "2024-02-18T00:11:18.101Z"
   },
   {
    "duration": 4,
    "start_time": "2024-02-18T00:11:19.361Z"
   },
   {
    "duration": 150,
    "start_time": "2024-02-18T00:11:19.366Z"
   },
   {
    "duration": 11,
    "start_time": "2024-02-18T00:11:19.517Z"
   },
   {
    "duration": 9,
    "start_time": "2024-02-18T00:11:19.529Z"
   },
   {
    "duration": 5,
    "start_time": "2024-02-18T00:11:19.540Z"
   },
   {
    "duration": 9,
    "start_time": "2024-02-18T00:11:19.546Z"
   },
   {
    "duration": 12,
    "start_time": "2024-02-18T00:11:19.557Z"
   },
   {
    "duration": 309,
    "start_time": "2024-02-18T00:11:19.570Z"
   },
   {
    "duration": 600,
    "start_time": "2024-02-18T00:11:19.880Z"
   },
   {
    "duration": 451,
    "start_time": "2024-02-18T00:11:20.481Z"
   },
   {
    "duration": 392,
    "start_time": "2024-02-18T00:11:20.933Z"
   },
   {
    "duration": 231,
    "start_time": "2024-02-18T00:11:21.326Z"
   },
   {
    "duration": 456,
    "start_time": "2024-02-18T00:11:21.558Z"
   },
   {
    "duration": 1650,
    "start_time": "2024-02-18T00:11:22.015Z"
   },
   {
    "duration": 97,
    "start_time": "2024-02-18T00:11:23.668Z"
   },
   {
    "duration": 39,
    "start_time": "2024-02-18T00:11:23.767Z"
   },
   {
    "duration": 7,
    "start_time": "2024-02-18T00:11:23.807Z"
   },
   {
    "duration": 6,
    "start_time": "2024-02-18T00:11:23.815Z"
   },
   {
    "duration": 99453,
    "start_time": "2024-02-18T00:11:23.822Z"
   },
   {
    "duration": 415,
    "start_time": "2024-02-18T00:13:03.276Z"
   },
   {
    "duration": 8,
    "start_time": "2024-02-18T00:13:03.693Z"
   },
   {
    "duration": 13,
    "start_time": "2024-02-18T00:13:03.702Z"
   },
   {
    "duration": 2309,
    "start_time": "2024-02-18T00:14:54.064Z"
   },
   {
    "duration": 2729,
    "start_time": "2024-02-18T00:14:56.375Z"
   },
   {
    "duration": 1278,
    "start_time": "2024-02-18T00:14:59.106Z"
   },
   {
    "duration": 3,
    "start_time": "2024-02-18T00:15:00.386Z"
   },
   {
    "duration": 123,
    "start_time": "2024-02-18T00:15:00.390Z"
   },
   {
    "duration": 11,
    "start_time": "2024-02-18T00:15:00.515Z"
   },
   {
    "duration": 23,
    "start_time": "2024-02-18T00:15:00.528Z"
   },
   {
    "duration": 27,
    "start_time": "2024-02-18T00:15:00.553Z"
   },
   {
    "duration": 27,
    "start_time": "2024-02-18T00:15:00.581Z"
   },
   {
    "duration": 42,
    "start_time": "2024-02-18T00:15:00.610Z"
   },
   {
    "duration": 351,
    "start_time": "2024-02-18T00:15:00.654Z"
   },
   {
    "duration": 625,
    "start_time": "2024-02-18T00:15:01.007Z"
   },
   {
    "duration": 427,
    "start_time": "2024-02-18T00:15:01.634Z"
   },
   {
    "duration": 457,
    "start_time": "2024-02-18T00:15:02.065Z"
   },
   {
    "duration": 240,
    "start_time": "2024-02-18T00:15:02.524Z"
   },
   {
    "duration": 447,
    "start_time": "2024-02-18T00:15:02.766Z"
   },
   {
    "duration": 2057,
    "start_time": "2024-02-18T00:15:03.214Z"
   },
   {
    "duration": 92,
    "start_time": "2024-02-18T00:15:05.274Z"
   },
   {
    "duration": 116,
    "start_time": "2024-02-18T00:15:05.368Z"
   },
   {
    "duration": 6,
    "start_time": "2024-02-18T00:15:05.485Z"
   },
   {
    "duration": 6,
    "start_time": "2024-02-18T00:15:05.492Z"
   },
   {
    "duration": 51096,
    "start_time": "2024-02-18T00:15:05.499Z"
   },
   {
    "duration": 497,
    "start_time": "2024-02-18T00:15:56.596Z"
   },
   {
    "duration": 10,
    "start_time": "2024-02-18T00:15:57.095Z"
   },
   {
    "duration": 61,
    "start_time": "2024-02-18T00:15:57.106Z"
   },
   {
    "duration": 22,
    "start_time": "2024-02-18T00:17:12.569Z"
   },
   {
    "duration": 2222,
    "start_time": "2024-02-18T00:17:22.234Z"
   },
   {
    "duration": 2618,
    "start_time": "2024-02-18T00:17:24.459Z"
   },
   {
    "duration": 1268,
    "start_time": "2024-02-18T00:17:27.079Z"
   },
   {
    "duration": 2,
    "start_time": "2024-02-18T00:17:28.349Z"
   },
   {
    "duration": 80,
    "start_time": "2024-02-18T00:17:28.353Z"
   },
   {
    "duration": 10,
    "start_time": "2024-02-18T00:17:28.434Z"
   },
   {
    "duration": 9,
    "start_time": "2024-02-18T00:17:28.445Z"
   },
   {
    "duration": 5,
    "start_time": "2024-02-18T00:17:28.455Z"
   },
   {
    "duration": 5,
    "start_time": "2024-02-18T00:17:28.462Z"
   },
   {
    "duration": 9,
    "start_time": "2024-02-18T00:17:28.469Z"
   },
   {
    "duration": 310,
    "start_time": "2024-02-18T00:17:28.479Z"
   },
   {
    "duration": 582,
    "start_time": "2024-02-18T00:17:28.790Z"
   },
   {
    "duration": 464,
    "start_time": "2024-02-18T00:17:29.373Z"
   },
   {
    "duration": 407,
    "start_time": "2024-02-18T00:17:29.838Z"
   },
   {
    "duration": 255,
    "start_time": "2024-02-18T00:17:30.247Z"
   },
   {
    "duration": 463,
    "start_time": "2024-02-18T00:17:30.503Z"
   },
   {
    "duration": 1798,
    "start_time": "2024-02-18T00:17:30.967Z"
   },
   {
    "duration": 5,
    "start_time": "2024-02-18T00:17:32.768Z"
   },
   {
    "duration": 116,
    "start_time": "2024-02-18T00:17:32.775Z"
   },
   {
    "duration": 8,
    "start_time": "2024-02-18T00:17:32.893Z"
   },
   {
    "duration": 11,
    "start_time": "2024-02-18T00:17:32.902Z"
   },
   {
    "duration": 72568,
    "start_time": "2024-02-18T00:17:32.915Z"
   },
   {
    "duration": 449,
    "start_time": "2024-02-18T00:18:45.484Z"
   },
   {
    "duration": 8,
    "start_time": "2024-02-18T00:18:45.934Z"
   },
   {
    "duration": 23,
    "start_time": "2024-02-18T00:18:45.943Z"
   },
   {
    "duration": 21,
    "start_time": "2024-02-18T00:21:12.981Z"
   },
   {
    "duration": 2258,
    "start_time": "2024-02-18T00:21:21.313Z"
   },
   {
    "duration": 2720,
    "start_time": "2024-02-18T00:21:23.573Z"
   },
   {
    "duration": 1218,
    "start_time": "2024-02-18T00:21:26.295Z"
   },
   {
    "duration": 3,
    "start_time": "2024-02-18T00:21:27.514Z"
   },
   {
    "duration": 96,
    "start_time": "2024-02-18T00:21:27.519Z"
   },
   {
    "duration": 11,
    "start_time": "2024-02-18T00:21:27.616Z"
   },
   {
    "duration": 8,
    "start_time": "2024-02-18T00:21:27.628Z"
   },
   {
    "duration": 6,
    "start_time": "2024-02-18T00:21:27.637Z"
   },
   {
    "duration": 8,
    "start_time": "2024-02-18T00:21:27.644Z"
   },
   {
    "duration": 12,
    "start_time": "2024-02-18T00:21:27.653Z"
   },
   {
    "duration": 290,
    "start_time": "2024-02-18T00:21:27.666Z"
   },
   {
    "duration": 550,
    "start_time": "2024-02-18T00:21:27.958Z"
   },
   {
    "duration": 431,
    "start_time": "2024-02-18T00:21:28.509Z"
   },
   {
    "duration": 434,
    "start_time": "2024-02-18T00:21:28.943Z"
   },
   {
    "duration": 239,
    "start_time": "2024-02-18T00:21:29.379Z"
   },
   {
    "duration": 475,
    "start_time": "2024-02-18T00:21:29.620Z"
   },
   {
    "duration": 1977,
    "start_time": "2024-02-18T00:21:30.096Z"
   },
   {
    "duration": 93,
    "start_time": "2024-02-18T00:21:32.075Z"
   },
   {
    "duration": 115,
    "start_time": "2024-02-18T00:21:32.170Z"
   },
   {
    "duration": 5,
    "start_time": "2024-02-18T00:21:32.287Z"
   },
   {
    "duration": 5,
    "start_time": "2024-02-18T00:21:32.294Z"
   },
   {
    "duration": 51689,
    "start_time": "2024-02-18T00:21:32.300Z"
   },
   {
    "duration": 493,
    "start_time": "2024-02-18T00:22:23.991Z"
   },
   {
    "duration": 10,
    "start_time": "2024-02-18T00:22:24.486Z"
   },
   {
    "duration": 69,
    "start_time": "2024-02-18T00:22:24.497Z"
   },
   {
    "duration": 22,
    "start_time": "2024-02-18T00:25:50.864Z"
   },
   {
    "duration": 2248,
    "start_time": "2024-02-18T00:27:54.394Z"
   },
   {
    "duration": 2677,
    "start_time": "2024-02-18T00:27:56.644Z"
   },
   {
    "duration": 1225,
    "start_time": "2024-02-18T00:27:59.323Z"
   },
   {
    "duration": 2,
    "start_time": "2024-02-18T00:28:00.550Z"
   },
   {
    "duration": 126,
    "start_time": "2024-02-18T00:28:00.554Z"
   },
   {
    "duration": 11,
    "start_time": "2024-02-18T00:28:00.682Z"
   },
   {
    "duration": 56,
    "start_time": "2024-02-18T00:28:00.694Z"
   },
   {
    "duration": 28,
    "start_time": "2024-02-18T00:28:00.752Z"
   },
   {
    "duration": 42,
    "start_time": "2024-02-18T00:28:00.782Z"
   },
   {
    "duration": 44,
    "start_time": "2024-02-18T00:28:00.826Z"
   },
   {
    "duration": 351,
    "start_time": "2024-02-18T00:28:00.871Z"
   },
   {
    "duration": 640,
    "start_time": "2024-02-18T00:28:01.224Z"
   },
   {
    "duration": 458,
    "start_time": "2024-02-18T00:28:01.865Z"
   },
   {
    "duration": 418,
    "start_time": "2024-02-18T00:28:02.324Z"
   },
   {
    "duration": 265,
    "start_time": "2024-02-18T00:28:02.744Z"
   },
   {
    "duration": 445,
    "start_time": "2024-02-18T00:28:03.011Z"
   },
   {
    "duration": 1607,
    "start_time": "2024-02-18T00:28:03.458Z"
   },
   {
    "duration": 93,
    "start_time": "2024-02-18T00:28:05.072Z"
   },
   {
    "duration": 32,
    "start_time": "2024-02-18T00:28:05.167Z"
   },
   {
    "duration": 6,
    "start_time": "2024-02-18T00:28:05.200Z"
   },
   {
    "duration": 5,
    "start_time": "2024-02-18T00:28:05.208Z"
   },
   {
    "duration": 321852,
    "start_time": "2024-02-18T00:28:05.215Z"
   },
   {
    "duration": 441,
    "start_time": "2024-02-18T00:33:27.068Z"
   },
   {
    "duration": 9,
    "start_time": "2024-02-18T00:33:27.511Z"
   },
   {
    "duration": 50,
    "start_time": "2024-02-18T00:33:27.521Z"
   },
   {
    "duration": 2276,
    "start_time": "2024-02-18T00:45:37.008Z"
   },
   {
    "duration": 2692,
    "start_time": "2024-02-18T00:45:39.286Z"
   },
   {
    "duration": 1220,
    "start_time": "2024-02-18T00:45:41.980Z"
   },
   {
    "duration": 2,
    "start_time": "2024-02-18T00:45:43.202Z"
   },
   {
    "duration": 82,
    "start_time": "2024-02-18T00:45:43.205Z"
   },
   {
    "duration": 10,
    "start_time": "2024-02-18T00:45:43.288Z"
   },
   {
    "duration": 7,
    "start_time": "2024-02-18T00:45:43.299Z"
   },
   {
    "duration": 5,
    "start_time": "2024-02-18T00:45:43.308Z"
   },
   {
    "duration": 5,
    "start_time": "2024-02-18T00:45:43.314Z"
   },
   {
    "duration": 9,
    "start_time": "2024-02-18T00:45:43.321Z"
   },
   {
    "duration": 321,
    "start_time": "2024-02-18T00:45:43.331Z"
   },
   {
    "duration": 574,
    "start_time": "2024-02-18T00:45:43.654Z"
   },
   {
    "duration": 401,
    "start_time": "2024-02-18T00:45:44.229Z"
   },
   {
    "duration": 389,
    "start_time": "2024-02-18T00:45:44.632Z"
   },
   {
    "duration": 255,
    "start_time": "2024-02-18T00:45:45.022Z"
   },
   {
    "duration": 438,
    "start_time": "2024-02-18T00:45:45.278Z"
   },
   {
    "duration": 1950,
    "start_time": "2024-02-18T00:45:45.717Z"
   },
   {
    "duration": 7,
    "start_time": "2024-02-18T00:45:47.672Z"
   },
   {
    "duration": 41,
    "start_time": "2024-02-18T00:45:47.767Z"
   },
   {
    "duration": 9,
    "start_time": "2024-02-18T00:45:47.810Z"
   },
   {
    "duration": 12,
    "start_time": "2024-02-18T00:45:47.820Z"
   },
   {
    "duration": 394361,
    "start_time": "2024-02-18T00:45:47.833Z"
   },
   {
    "duration": 397,
    "start_time": "2024-02-18T00:52:22.196Z"
   },
   {
    "duration": 9,
    "start_time": "2024-02-18T00:52:22.595Z"
   },
   {
    "duration": 67,
    "start_time": "2024-02-18T00:52:22.605Z"
   },
   {
    "duration": 2323,
    "start_time": "2024-02-18T01:03:08.239Z"
   },
   {
    "duration": 2696,
    "start_time": "2024-02-18T01:03:10.565Z"
   },
   {
    "duration": 1278,
    "start_time": "2024-02-18T01:03:13.263Z"
   },
   {
    "duration": 2,
    "start_time": "2024-02-18T01:03:14.543Z"
   },
   {
    "duration": 82,
    "start_time": "2024-02-18T01:03:14.547Z"
   },
   {
    "duration": 11,
    "start_time": "2024-02-18T01:03:14.630Z"
   },
   {
    "duration": 8,
    "start_time": "2024-02-18T01:03:14.643Z"
   },
   {
    "duration": 7,
    "start_time": "2024-02-18T01:03:14.652Z"
   },
   {
    "duration": 14,
    "start_time": "2024-02-18T01:03:14.661Z"
   },
   {
    "duration": 12,
    "start_time": "2024-02-18T01:03:14.677Z"
   },
   {
    "duration": 292,
    "start_time": "2024-02-18T01:03:14.691Z"
   },
   {
    "duration": 548,
    "start_time": "2024-02-18T01:03:14.984Z"
   },
   {
    "duration": 443,
    "start_time": "2024-02-18T01:03:15.533Z"
   },
   {
    "duration": 439,
    "start_time": "2024-02-18T01:03:15.977Z"
   },
   {
    "duration": 240,
    "start_time": "2024-02-18T01:03:16.418Z"
   },
   {
    "duration": 476,
    "start_time": "2024-02-18T01:03:16.664Z"
   },
   {
    "duration": 1632,
    "start_time": "2024-02-18T01:03:17.142Z"
   },
   {
    "duration": 6,
    "start_time": "2024-02-18T01:03:18.867Z"
   },
   {
    "duration": 33,
    "start_time": "2024-02-18T01:03:18.971Z"
   },
   {
    "duration": 8,
    "start_time": "2024-02-18T01:03:19.006Z"
   },
   {
    "duration": 7,
    "start_time": "2024-02-18T01:03:19.016Z"
   },
   {
    "duration": 395767,
    "start_time": "2024-02-18T01:03:19.024Z"
   },
   {
    "duration": 340,
    "start_time": "2024-02-18T01:09:54.792Z"
   },
   {
    "duration": 9,
    "start_time": "2024-02-18T01:09:55.134Z"
   },
   {
    "duration": 121,
    "start_time": "2024-02-18T01:09:55.144Z"
   },
   {
    "duration": 3473,
    "start_time": "2024-02-18T07:04:26.417Z"
   },
   {
    "duration": 6656,
    "start_time": "2024-02-18T07:04:29.893Z"
   },
   {
    "duration": 1596,
    "start_time": "2024-02-18T07:04:36.551Z"
   },
   {
    "duration": 3,
    "start_time": "2024-02-18T07:04:38.150Z"
   },
   {
    "duration": 152,
    "start_time": "2024-02-18T07:04:38.155Z"
   },
   {
    "duration": 13,
    "start_time": "2024-02-18T07:04:38.309Z"
   },
   {
    "duration": 15,
    "start_time": "2024-02-18T07:04:38.324Z"
   },
   {
    "duration": 23,
    "start_time": "2024-02-18T07:04:38.341Z"
   },
   {
    "duration": 9,
    "start_time": "2024-02-18T07:04:38.366Z"
   },
   {
    "duration": 34,
    "start_time": "2024-02-18T07:04:38.377Z"
   },
   {
    "duration": 343,
    "start_time": "2024-02-18T07:04:38.413Z"
   },
   {
    "duration": 648,
    "start_time": "2024-02-18T07:04:38.757Z"
   },
   {
    "duration": 471,
    "start_time": "2024-02-18T07:04:39.407Z"
   },
   {
    "duration": 479,
    "start_time": "2024-02-18T07:04:39.880Z"
   },
   {
    "duration": 264,
    "start_time": "2024-02-18T07:04:40.361Z"
   },
   {
    "duration": 526,
    "start_time": "2024-02-18T07:04:40.626Z"
   },
   {
    "duration": 2127,
    "start_time": "2024-02-18T07:04:41.153Z"
   },
   {
    "duration": 96,
    "start_time": "2024-02-18T07:04:43.282Z"
   },
   {
    "duration": 208,
    "start_time": "2024-02-18T07:04:43.380Z"
   },
   {
    "duration": 423,
    "start_time": "2024-02-18T07:04:43.589Z"
   },
   {
    "duration": 3299,
    "start_time": "2024-02-19T15:08:01.877Z"
   },
   {
    "duration": 5921,
    "start_time": "2024-02-19T15:08:05.179Z"
   },
   {
    "duration": 1470,
    "start_time": "2024-02-19T15:08:11.102Z"
   },
   {
    "duration": 2,
    "start_time": "2024-02-19T15:08:12.574Z"
   },
   {
    "duration": 235,
    "start_time": "2024-02-19T15:08:12.578Z"
   },
   {
    "duration": 11,
    "start_time": "2024-02-19T15:08:12.814Z"
   },
   {
    "duration": 37,
    "start_time": "2024-02-19T15:08:12.826Z"
   },
   {
    "duration": 28,
    "start_time": "2024-02-19T15:08:12.865Z"
   },
   {
    "duration": 13,
    "start_time": "2024-02-19T15:08:12.895Z"
   },
   {
    "duration": 23,
    "start_time": "2024-02-19T15:08:12.910Z"
   },
   {
    "duration": 304,
    "start_time": "2024-02-19T15:08:12.935Z"
   },
   {
    "duration": 631,
    "start_time": "2024-02-19T15:08:13.240Z"
   },
   {
    "duration": 443,
    "start_time": "2024-02-19T15:08:13.873Z"
   },
   {
    "duration": 412,
    "start_time": "2024-02-19T15:08:14.317Z"
   },
   {
    "duration": 242,
    "start_time": "2024-02-19T15:08:14.731Z"
   },
   {
    "duration": 621,
    "start_time": "2024-02-19T15:08:14.975Z"
   },
   {
    "duration": 2271,
    "start_time": "2024-02-19T15:08:15.597Z"
   },
   {
    "duration": 6,
    "start_time": "2024-02-19T15:08:17.960Z"
   },
   {
    "duration": 121,
    "start_time": "2024-02-19T15:08:17.968Z"
   },
   {
    "duration": 416,
    "start_time": "2024-02-19T15:08:18.091Z"
   },
   {
    "duration": 7,
    "start_time": "2024-02-19T15:08:18.509Z"
   },
   {
    "duration": 31,
    "start_time": "2024-02-19T15:08:18.517Z"
   },
   {
    "duration": 371044,
    "start_time": "2024-02-19T15:08:18.550Z"
   },
   {
    "duration": 440,
    "start_time": "2024-02-19T15:14:29.596Z"
   },
   {
    "duration": 9,
    "start_time": "2024-02-19T15:14:30.038Z"
   },
   {
    "duration": 114,
    "start_time": "2024-02-19T15:14:30.049Z"
   },
   {
    "duration": 140,
    "start_time": "2024-02-19T15:21:50.402Z"
   },
   {
    "duration": 28,
    "start_time": "2024-02-19T15:22:15.008Z"
   },
   {
    "duration": 2383,
    "start_time": "2024-02-19T15:22:28.584Z"
   },
   {
    "duration": 2813,
    "start_time": "2024-02-19T15:22:30.969Z"
   },
   {
    "duration": 1286,
    "start_time": "2024-02-19T15:22:33.784Z"
   },
   {
    "duration": 2,
    "start_time": "2024-02-19T15:22:35.072Z"
   },
   {
    "duration": 86,
    "start_time": "2024-02-19T15:22:35.076Z"
   },
   {
    "duration": 11,
    "start_time": "2024-02-19T15:22:35.164Z"
   },
   {
    "duration": 54,
    "start_time": "2024-02-19T15:22:35.176Z"
   },
   {
    "duration": 31,
    "start_time": "2024-02-19T15:22:35.231Z"
   },
   {
    "duration": 11,
    "start_time": "2024-02-19T15:22:35.263Z"
   },
   {
    "duration": 36,
    "start_time": "2024-02-19T15:22:35.276Z"
   },
   {
    "duration": 336,
    "start_time": "2024-02-19T15:22:35.313Z"
   },
   {
    "duration": 581,
    "start_time": "2024-02-19T15:22:35.650Z"
   },
   {
    "duration": 436,
    "start_time": "2024-02-19T15:22:36.233Z"
   },
   {
    "duration": 448,
    "start_time": "2024-02-19T15:22:36.671Z"
   },
   {
    "duration": 246,
    "start_time": "2024-02-19T15:22:37.121Z"
   },
   {
    "duration": 566,
    "start_time": "2024-02-19T15:22:37.368Z"
   },
   {
    "duration": 2225,
    "start_time": "2024-02-19T15:22:37.935Z"
   },
   {
    "duration": 95,
    "start_time": "2024-02-19T15:22:40.164Z"
   },
   {
    "duration": 124,
    "start_time": "2024-02-19T15:22:40.261Z"
   },
   {
    "duration": 339,
    "start_time": "2024-02-19T15:22:40.386Z"
   },
   {
    "duration": 7,
    "start_time": "2024-02-19T15:22:40.727Z"
   },
   {
    "duration": 54,
    "start_time": "2024-02-19T15:22:40.735Z"
   },
   {
    "duration": 1992397,
    "start_time": "2024-02-19T15:22:40.791Z"
   },
   {
    "duration": 344,
    "start_time": "2024-02-19T15:55:53.190Z"
   },
   {
    "duration": 8,
    "start_time": "2024-02-19T15:55:53.536Z"
   },
   {
    "duration": 77,
    "start_time": "2024-02-19T15:55:53.545Z"
   },
   {
    "duration": 142,
    "start_time": "2024-02-19T15:59:53.891Z"
   },
   {
    "duration": 2326,
    "start_time": "2024-02-19T16:00:56.712Z"
   },
   {
    "duration": 2818,
    "start_time": "2024-02-19T16:00:59.040Z"
   },
   {
    "duration": 1321,
    "start_time": "2024-02-19T16:01:01.860Z"
   },
   {
    "duration": 3,
    "start_time": "2024-02-19T16:01:03.183Z"
   },
   {
    "duration": 314,
    "start_time": "2024-02-19T16:01:03.187Z"
   },
   {
    "duration": 11,
    "start_time": "2024-02-19T16:01:03.503Z"
   },
   {
    "duration": 10,
    "start_time": "2024-02-19T16:01:03.516Z"
   },
   {
    "duration": 8,
    "start_time": "2024-02-19T16:01:03.528Z"
   },
   {
    "duration": 6,
    "start_time": "2024-02-19T16:01:03.537Z"
   },
   {
    "duration": 14,
    "start_time": "2024-02-19T16:01:03.546Z"
   },
   {
    "duration": 330,
    "start_time": "2024-02-19T16:01:03.562Z"
   },
   {
    "duration": 602,
    "start_time": "2024-02-19T16:01:03.893Z"
   },
   {
    "duration": 434,
    "start_time": "2024-02-19T16:01:04.497Z"
   },
   {
    "duration": 406,
    "start_time": "2024-02-19T16:01:04.933Z"
   },
   {
    "duration": 254,
    "start_time": "2024-02-19T16:01:05.341Z"
   },
   {
    "duration": 330,
    "start_time": "2024-02-19T16:01:05.596Z"
   },
   {
    "duration": 1735,
    "start_time": "2024-02-19T16:01:05.927Z"
   },
   {
    "duration": 95,
    "start_time": "2024-02-19T16:01:07.665Z"
   },
   {
    "duration": 116,
    "start_time": "2024-02-19T16:01:07.762Z"
   },
   {
    "duration": 318,
    "start_time": "2024-02-19T16:01:07.880Z"
   },
   {
    "duration": 8,
    "start_time": "2024-02-19T16:01:08.200Z"
   },
   {
    "duration": 7,
    "start_time": "2024-02-19T16:01:08.209Z"
   },
   {
    "duration": 2393,
    "start_time": "2024-02-19T16:02:09.964Z"
   },
   {
    "duration": 2800,
    "start_time": "2024-02-19T16:02:12.360Z"
   },
   {
    "duration": 1266,
    "start_time": "2024-02-19T16:02:15.162Z"
   },
   {
    "duration": 2,
    "start_time": "2024-02-19T16:02:16.430Z"
   },
   {
    "duration": 99,
    "start_time": "2024-02-19T16:02:16.434Z"
   },
   {
    "duration": 11,
    "start_time": "2024-02-19T16:02:16.535Z"
   },
   {
    "duration": 13,
    "start_time": "2024-02-19T16:02:16.547Z"
   },
   {
    "duration": 6,
    "start_time": "2024-02-19T16:02:16.561Z"
   },
   {
    "duration": 23,
    "start_time": "2024-02-19T16:02:16.568Z"
   },
   {
    "duration": 35,
    "start_time": "2024-02-19T16:02:16.593Z"
   },
   {
    "duration": 326,
    "start_time": "2024-02-19T16:02:16.629Z"
   },
   {
    "duration": 558,
    "start_time": "2024-02-19T16:02:16.957Z"
   },
   {
    "duration": 458,
    "start_time": "2024-02-19T16:02:17.516Z"
   },
   {
    "duration": 441,
    "start_time": "2024-02-19T16:02:17.976Z"
   },
   {
    "duration": 263,
    "start_time": "2024-02-19T16:02:18.418Z"
   },
   {
    "duration": 297,
    "start_time": "2024-02-19T16:02:18.683Z"
   },
   {
    "duration": 1781,
    "start_time": "2024-02-19T16:02:18.982Z"
   },
   {
    "duration": 94,
    "start_time": "2024-02-19T16:02:20.765Z"
   },
   {
    "duration": 123,
    "start_time": "2024-02-19T16:02:20.861Z"
   },
   {
    "duration": 335,
    "start_time": "2024-02-19T16:02:20.985Z"
   },
   {
    "duration": 7,
    "start_time": "2024-02-19T16:02:21.321Z"
   },
   {
    "duration": 29,
    "start_time": "2024-02-19T16:02:21.329Z"
   },
   {
    "duration": 2352,
    "start_time": "2024-02-19T16:31:42.160Z"
   },
   {
    "duration": 2788,
    "start_time": "2024-02-19T16:31:44.515Z"
   },
   {
    "duration": 1332,
    "start_time": "2024-02-19T16:31:47.305Z"
   },
   {
    "duration": 2,
    "start_time": "2024-02-19T16:31:48.639Z"
   },
   {
    "duration": 150,
    "start_time": "2024-02-19T16:31:48.643Z"
   },
   {
    "duration": 11,
    "start_time": "2024-02-19T16:31:48.795Z"
   },
   {
    "duration": 14,
    "start_time": "2024-02-19T16:31:48.808Z"
   },
   {
    "duration": 6,
    "start_time": "2024-02-19T16:31:48.823Z"
   },
   {
    "duration": 6,
    "start_time": "2024-02-19T16:31:48.830Z"
   },
   {
    "duration": 23,
    "start_time": "2024-02-19T16:31:48.838Z"
   },
   {
    "duration": 322,
    "start_time": "2024-02-19T16:31:48.862Z"
   },
   {
    "duration": 562,
    "start_time": "2024-02-19T16:31:49.185Z"
   },
   {
    "duration": 450,
    "start_time": "2024-02-19T16:31:49.749Z"
   },
   {
    "duration": 435,
    "start_time": "2024-02-19T16:31:50.201Z"
   },
   {
    "duration": 257,
    "start_time": "2024-02-19T16:31:50.637Z"
   },
   {
    "duration": 133,
    "start_time": "2024-02-19T16:31:50.896Z"
   },
   {
    "duration": 0,
    "start_time": "2024-02-19T16:31:51.030Z"
   },
   {
    "duration": 0,
    "start_time": "2024-02-19T16:31:51.031Z"
   },
   {
    "duration": 0,
    "start_time": "2024-02-19T16:31:51.032Z"
   },
   {
    "duration": 0,
    "start_time": "2024-02-19T16:31:51.033Z"
   },
   {
    "duration": 0,
    "start_time": "2024-02-19T16:31:51.034Z"
   },
   {
    "duration": 0,
    "start_time": "2024-02-19T16:31:51.035Z"
   },
   {
    "duration": 0,
    "start_time": "2024-02-19T16:31:51.037Z"
   },
   {
    "duration": 0,
    "start_time": "2024-02-19T16:31:51.038Z"
   },
   {
    "duration": 0,
    "start_time": "2024-02-19T16:31:51.059Z"
   },
   {
    "duration": 0,
    "start_time": "2024-02-19T16:31:51.060Z"
   },
   {
    "duration": 0,
    "start_time": "2024-02-19T16:31:51.061Z"
   },
   {
    "duration": 17,
    "start_time": "2024-02-19T16:33:38.642Z"
   },
   {
    "duration": 2342,
    "start_time": "2024-02-19T16:33:51.856Z"
   },
   {
    "duration": 2837,
    "start_time": "2024-02-19T16:33:54.201Z"
   },
   {
    "duration": 1408,
    "start_time": "2024-02-19T16:33:57.040Z"
   },
   {
    "duration": 2,
    "start_time": "2024-02-19T16:33:58.450Z"
   },
   {
    "duration": 92,
    "start_time": "2024-02-19T16:33:58.458Z"
   },
   {
    "duration": 20,
    "start_time": "2024-02-19T16:33:58.551Z"
   },
   {
    "duration": 8,
    "start_time": "2024-02-19T16:33:58.574Z"
   },
   {
    "duration": 6,
    "start_time": "2024-02-19T16:33:58.584Z"
   },
   {
    "duration": 8,
    "start_time": "2024-02-19T16:33:58.592Z"
   },
   {
    "duration": 20,
    "start_time": "2024-02-19T16:33:58.601Z"
   },
   {
    "duration": 327,
    "start_time": "2024-02-19T16:33:58.622Z"
   },
   {
    "duration": 612,
    "start_time": "2024-02-19T16:33:58.951Z"
   },
   {
    "duration": 509,
    "start_time": "2024-02-19T16:33:59.565Z"
   },
   {
    "duration": 510,
    "start_time": "2024-02-19T16:34:00.078Z"
   },
   {
    "duration": 263,
    "start_time": "2024-02-19T16:34:00.589Z"
   },
   {
    "duration": 141,
    "start_time": "2024-02-19T16:34:00.853Z"
   },
   {
    "duration": 0,
    "start_time": "2024-02-19T16:34:00.996Z"
   },
   {
    "duration": 0,
    "start_time": "2024-02-19T16:34:00.998Z"
   },
   {
    "duration": 0,
    "start_time": "2024-02-19T16:34:00.999Z"
   },
   {
    "duration": 0,
    "start_time": "2024-02-19T16:34:01.001Z"
   },
   {
    "duration": 0,
    "start_time": "2024-02-19T16:34:01.002Z"
   },
   {
    "duration": 0,
    "start_time": "2024-02-19T16:34:01.004Z"
   },
   {
    "duration": 0,
    "start_time": "2024-02-19T16:34:01.005Z"
   },
   {
    "duration": 0,
    "start_time": "2024-02-19T16:34:01.007Z"
   },
   {
    "duration": 0,
    "start_time": "2024-02-19T16:34:01.008Z"
   },
   {
    "duration": 0,
    "start_time": "2024-02-19T16:34:01.010Z"
   },
   {
    "duration": 0,
    "start_time": "2024-02-19T16:34:01.011Z"
   },
   {
    "duration": 355,
    "start_time": "2024-02-19T16:37:03.025Z"
   },
   {
    "duration": 18,
    "start_time": "2024-02-19T16:42:07.400Z"
   },
   {
    "duration": 15,
    "start_time": "2024-02-19T16:43:32.572Z"
   },
   {
    "duration": 157,
    "start_time": "2024-02-19T16:44:24.071Z"
   },
   {
    "duration": 26,
    "start_time": "2024-02-19T16:45:01.040Z"
   },
   {
    "duration": 2545,
    "start_time": "2024-02-19T16:46:55.734Z"
   },
   {
    "duration": 3056,
    "start_time": "2024-02-19T16:46:58.282Z"
   },
   {
    "duration": 1397,
    "start_time": "2024-02-19T16:47:01.341Z"
   },
   {
    "duration": 2,
    "start_time": "2024-02-19T16:47:02.740Z"
   },
   {
    "duration": 98,
    "start_time": "2024-02-19T16:47:02.744Z"
   },
   {
    "duration": 11,
    "start_time": "2024-02-19T16:47:02.844Z"
   },
   {
    "duration": 12,
    "start_time": "2024-02-19T16:47:02.856Z"
   },
   {
    "duration": 7,
    "start_time": "2024-02-19T16:47:02.869Z"
   },
   {
    "duration": 12,
    "start_time": "2024-02-19T16:47:02.877Z"
   },
   {
    "duration": 12,
    "start_time": "2024-02-19T16:47:02.890Z"
   },
   {
    "duration": 328,
    "start_time": "2024-02-19T16:47:02.903Z"
   },
   {
    "duration": 687,
    "start_time": "2024-02-19T16:47:03.232Z"
   },
   {
    "duration": 419,
    "start_time": "2024-02-19T16:47:03.921Z"
   },
   {
    "duration": 436,
    "start_time": "2024-02-19T16:47:04.342Z"
   },
   {
    "duration": 308,
    "start_time": "2024-02-19T16:47:04.780Z"
   },
   {
    "duration": 399,
    "start_time": "2024-02-19T16:47:05.090Z"
   },
   {
    "duration": 1182,
    "start_time": "2024-02-19T16:47:05.491Z"
   },
   {
    "duration": 5,
    "start_time": "2024-02-19T16:47:06.760Z"
   },
   {
    "duration": 124,
    "start_time": "2024-02-19T16:47:06.767Z"
   },
   {
    "duration": 328,
    "start_time": "2024-02-19T16:47:06.893Z"
   },
   {
    "duration": 8,
    "start_time": "2024-02-19T16:47:07.222Z"
   },
   {
    "duration": 5,
    "start_time": "2024-02-19T16:47:07.231Z"
   },
   {
    "duration": 2415,
    "start_time": "2024-02-19T16:48:37.695Z"
   },
   {
    "duration": 2846,
    "start_time": "2024-02-19T16:48:40.113Z"
   },
   {
    "duration": 1350,
    "start_time": "2024-02-19T16:48:42.961Z"
   },
   {
    "duration": 2,
    "start_time": "2024-02-19T16:48:44.313Z"
   },
   {
    "duration": 78,
    "start_time": "2024-02-19T16:48:44.317Z"
   },
   {
    "duration": 12,
    "start_time": "2024-02-19T16:48:44.397Z"
   },
   {
    "duration": 30,
    "start_time": "2024-02-19T16:48:44.411Z"
   },
   {
    "duration": 6,
    "start_time": "2024-02-19T16:48:44.443Z"
   },
   {
    "duration": 9,
    "start_time": "2024-02-19T16:48:44.451Z"
   },
   {
    "duration": 10,
    "start_time": "2024-02-19T16:48:44.462Z"
   },
   {
    "duration": 319,
    "start_time": "2024-02-19T16:48:44.473Z"
   },
   {
    "duration": 618,
    "start_time": "2024-02-19T16:48:44.793Z"
   },
   {
    "duration": 445,
    "start_time": "2024-02-19T16:48:45.413Z"
   },
   {
    "duration": 472,
    "start_time": "2024-02-19T16:48:45.860Z"
   },
   {
    "duration": 271,
    "start_time": "2024-02-19T16:48:46.334Z"
   },
   {
    "duration": 373,
    "start_time": "2024-02-19T16:48:46.606Z"
   },
   {
    "duration": 1578,
    "start_time": "2024-02-19T16:48:46.981Z"
   },
   {
    "duration": 94,
    "start_time": "2024-02-19T16:48:48.565Z"
   },
   {
    "duration": 36,
    "start_time": "2024-02-19T16:48:48.661Z"
   },
   {
    "duration": 335,
    "start_time": "2024-02-19T16:48:48.698Z"
   },
   {
    "duration": 7,
    "start_time": "2024-02-19T16:48:49.034Z"
   },
   {
    "duration": 17,
    "start_time": "2024-02-19T16:48:49.043Z"
   },
   {
    "duration": 2380,
    "start_time": "2024-02-19T16:51:02.825Z"
   },
   {
    "duration": 2882,
    "start_time": "2024-02-19T16:51:05.207Z"
   },
   {
    "duration": 1333,
    "start_time": "2024-02-19T16:51:08.091Z"
   },
   {
    "duration": 3,
    "start_time": "2024-02-19T16:51:09.426Z"
   },
   {
    "duration": 102,
    "start_time": "2024-02-19T16:51:09.431Z"
   },
   {
    "duration": 16,
    "start_time": "2024-02-19T16:51:09.534Z"
   },
   {
    "duration": 8,
    "start_time": "2024-02-19T16:51:09.552Z"
   },
   {
    "duration": 7,
    "start_time": "2024-02-19T16:51:09.562Z"
   },
   {
    "duration": 5,
    "start_time": "2024-02-19T16:51:09.570Z"
   },
   {
    "duration": 10,
    "start_time": "2024-02-19T16:51:09.577Z"
   },
   {
    "duration": 317,
    "start_time": "2024-02-19T16:51:09.588Z"
   },
   {
    "duration": 644,
    "start_time": "2024-02-19T16:51:09.907Z"
   },
   {
    "duration": 464,
    "start_time": "2024-02-19T16:51:10.553Z"
   },
   {
    "duration": 441,
    "start_time": "2024-02-19T16:51:11.019Z"
   },
   {
    "duration": 250,
    "start_time": "2024-02-19T16:51:11.462Z"
   },
   {
    "duration": 407,
    "start_time": "2024-02-19T16:51:11.714Z"
   },
   {
    "duration": 2944,
    "start_time": "2024-02-19T16:51:12.122Z"
   },
   {
    "duration": 92,
    "start_time": "2024-02-19T16:51:15.068Z"
   },
   {
    "duration": 134,
    "start_time": "2024-02-19T16:51:15.162Z"
   },
   {
    "duration": 350,
    "start_time": "2024-02-19T16:51:15.297Z"
   },
   {
    "duration": 24,
    "start_time": "2024-02-19T16:51:15.649Z"
   },
   {
    "duration": 8,
    "start_time": "2024-02-19T16:51:15.675Z"
   },
   {
    "duration": 2512,
    "start_time": "2024-02-19T16:57:44.122Z"
   },
   {
    "duration": 2857,
    "start_time": "2024-02-19T16:57:46.636Z"
   },
   {
    "duration": 1338,
    "start_time": "2024-02-19T16:57:49.496Z"
   },
   {
    "duration": 2,
    "start_time": "2024-02-19T16:57:50.836Z"
   },
   {
    "duration": 87,
    "start_time": "2024-02-19T16:57:50.840Z"
   },
   {
    "duration": 11,
    "start_time": "2024-02-19T16:57:50.929Z"
   },
   {
    "duration": 9,
    "start_time": "2024-02-19T16:57:50.941Z"
   },
   {
    "duration": 6,
    "start_time": "2024-02-19T16:57:50.952Z"
   },
   {
    "duration": 6,
    "start_time": "2024-02-19T16:57:50.960Z"
   },
   {
    "duration": 10,
    "start_time": "2024-02-19T16:57:50.968Z"
   },
   {
    "duration": 342,
    "start_time": "2024-02-19T16:57:50.979Z"
   },
   {
    "duration": 613,
    "start_time": "2024-02-19T16:57:51.322Z"
   },
   {
    "duration": 446,
    "start_time": "2024-02-19T16:57:51.937Z"
   },
   {
    "duration": 436,
    "start_time": "2024-02-19T16:57:52.384Z"
   },
   {
    "duration": 249,
    "start_time": "2024-02-19T16:57:52.821Z"
   },
   {
    "duration": 752,
    "start_time": "2024-02-19T16:57:53.072Z"
   },
   {
    "duration": 521,
    "start_time": "2024-02-19T16:57:53.825Z"
   },
   {
    "duration": 2013,
    "start_time": "2024-02-19T16:57:54.347Z"
   },
   {
    "duration": 96,
    "start_time": "2024-02-19T16:57:56.365Z"
   },
   {
    "duration": 42,
    "start_time": "2024-02-19T16:57:56.463Z"
   },
   {
    "duration": 329,
    "start_time": "2024-02-19T16:57:56.507Z"
   },
   {
    "duration": 21,
    "start_time": "2024-02-19T16:57:56.838Z"
   },
   {
    "duration": 7,
    "start_time": "2024-02-19T16:57:56.861Z"
   },
   {
    "duration": 2300,
    "start_time": "2024-02-19T17:09:55.515Z"
   },
   {
    "duration": 2797,
    "start_time": "2024-02-19T17:09:57.817Z"
   },
   {
    "duration": 1300,
    "start_time": "2024-02-19T17:10:00.616Z"
   },
   {
    "duration": 3,
    "start_time": "2024-02-19T17:10:01.918Z"
   },
   {
    "duration": 191,
    "start_time": "2024-02-19T17:10:01.922Z"
   },
   {
    "duration": 12,
    "start_time": "2024-02-19T17:10:02.115Z"
   },
   {
    "duration": 30,
    "start_time": "2024-02-19T17:10:02.129Z"
   },
   {
    "duration": 14,
    "start_time": "2024-02-19T17:10:02.160Z"
   },
   {
    "duration": 26,
    "start_time": "2024-02-19T17:10:02.175Z"
   },
   {
    "duration": 12,
    "start_time": "2024-02-19T17:10:02.203Z"
   },
   {
    "duration": 319,
    "start_time": "2024-02-19T17:10:02.217Z"
   },
   {
    "duration": 601,
    "start_time": "2024-02-19T17:10:02.538Z"
   },
   {
    "duration": 460,
    "start_time": "2024-02-19T17:10:03.141Z"
   },
   {
    "duration": 426,
    "start_time": "2024-02-19T17:10:03.602Z"
   },
   {
    "duration": 282,
    "start_time": "2024-02-19T17:10:04.030Z"
   },
   {
    "duration": 224,
    "start_time": "2024-02-19T17:10:04.313Z"
   },
   {
    "duration": 0,
    "start_time": "2024-02-19T17:10:04.538Z"
   },
   {
    "duration": 0,
    "start_time": "2024-02-19T17:10:04.539Z"
   },
   {
    "duration": 0,
    "start_time": "2024-02-19T17:10:04.541Z"
   },
   {
    "duration": 0,
    "start_time": "2024-02-19T17:10:04.542Z"
   },
   {
    "duration": 0,
    "start_time": "2024-02-19T17:10:04.543Z"
   },
   {
    "duration": 0,
    "start_time": "2024-02-19T17:10:04.544Z"
   },
   {
    "duration": 0,
    "start_time": "2024-02-19T17:10:04.546Z"
   },
   {
    "duration": 0,
    "start_time": "2024-02-19T17:10:04.558Z"
   },
   {
    "duration": 0,
    "start_time": "2024-02-19T17:10:04.559Z"
   },
   {
    "duration": 0,
    "start_time": "2024-02-19T17:10:04.560Z"
   },
   {
    "duration": 2345,
    "start_time": "2024-02-19T17:11:03.924Z"
   },
   {
    "duration": 2754,
    "start_time": "2024-02-19T17:11:06.271Z"
   },
   {
    "duration": 1225,
    "start_time": "2024-02-19T17:11:09.027Z"
   },
   {
    "duration": 3,
    "start_time": "2024-02-19T17:11:10.254Z"
   },
   {
    "duration": 96,
    "start_time": "2024-02-19T17:11:10.258Z"
   },
   {
    "duration": 12,
    "start_time": "2024-02-19T17:11:10.356Z"
   },
   {
    "duration": 13,
    "start_time": "2024-02-19T17:11:10.369Z"
   },
   {
    "duration": 14,
    "start_time": "2024-02-19T17:11:10.384Z"
   },
   {
    "duration": 30,
    "start_time": "2024-02-19T17:11:10.400Z"
   },
   {
    "duration": 12,
    "start_time": "2024-02-19T17:11:10.433Z"
   },
   {
    "duration": 318,
    "start_time": "2024-02-19T17:11:10.446Z"
   },
   {
    "duration": 570,
    "start_time": "2024-02-19T17:11:10.765Z"
   },
   {
    "duration": 415,
    "start_time": "2024-02-19T17:11:11.337Z"
   },
   {
    "duration": 424,
    "start_time": "2024-02-19T17:11:11.753Z"
   },
   {
    "duration": 243,
    "start_time": "2024-02-19T17:11:12.178Z"
   },
   {
    "duration": 721,
    "start_time": "2024-02-19T17:11:12.422Z"
   },
   {
    "duration": 2015,
    "start_time": "2024-02-19T17:11:13.145Z"
   },
   {
    "duration": 6,
    "start_time": "2024-02-19T17:11:15.162Z"
   },
   {
    "duration": 42,
    "start_time": "2024-02-19T17:11:15.259Z"
   },
   {
    "duration": 328,
    "start_time": "2024-02-19T17:11:15.303Z"
   },
   {
    "duration": 7,
    "start_time": "2024-02-19T17:11:15.633Z"
   },
   {
    "duration": 19,
    "start_time": "2024-02-19T17:11:15.641Z"
   },
   {
    "duration": 2351,
    "start_time": "2024-02-19T17:12:53.522Z"
   },
   {
    "duration": 2819,
    "start_time": "2024-02-19T17:12:55.875Z"
   },
   {
    "duration": 1285,
    "start_time": "2024-02-19T17:12:58.696Z"
   },
   {
    "duration": 2,
    "start_time": "2024-02-19T17:12:59.983Z"
   },
   {
    "duration": 132,
    "start_time": "2024-02-19T17:12:59.987Z"
   },
   {
    "duration": 12,
    "start_time": "2024-02-19T17:13:00.121Z"
   },
   {
    "duration": 30,
    "start_time": "2024-02-19T17:13:00.135Z"
   },
   {
    "duration": 28,
    "start_time": "2024-02-19T17:13:00.167Z"
   },
   {
    "duration": 13,
    "start_time": "2024-02-19T17:13:00.197Z"
   },
   {
    "duration": 31,
    "start_time": "2024-02-19T17:13:00.213Z"
   },
   {
    "duration": 390,
    "start_time": "2024-02-19T17:13:00.246Z"
   },
   {
    "duration": 629,
    "start_time": "2024-02-19T17:13:00.638Z"
   },
   {
    "duration": 483,
    "start_time": "2024-02-19T17:13:01.269Z"
   },
   {
    "duration": 496,
    "start_time": "2024-02-19T17:13:01.754Z"
   },
   {
    "duration": 249,
    "start_time": "2024-02-19T17:13:02.252Z"
   },
   {
    "duration": 810,
    "start_time": "2024-02-19T17:13:02.503Z"
   },
   {
    "duration": 1947,
    "start_time": "2024-02-19T17:13:03.315Z"
   },
   {
    "duration": 6,
    "start_time": "2024-02-19T17:13:05.264Z"
   },
   {
    "duration": 129,
    "start_time": "2024-02-19T17:13:05.271Z"
   },
   {
    "duration": 348,
    "start_time": "2024-02-19T17:13:05.401Z"
   },
   {
    "duration": 12,
    "start_time": "2024-02-19T17:13:05.751Z"
   },
   {
    "duration": 5,
    "start_time": "2024-02-19T17:13:05.765Z"
   },
   {
    "duration": 2346,
    "start_time": "2024-02-19T17:15:03.115Z"
   },
   {
    "duration": 2832,
    "start_time": "2024-02-19T17:15:05.464Z"
   },
   {
    "duration": 1381,
    "start_time": "2024-02-19T17:15:08.298Z"
   },
   {
    "duration": 3,
    "start_time": "2024-02-19T17:15:09.681Z"
   },
   {
    "duration": 83,
    "start_time": "2024-02-19T17:15:09.686Z"
   },
   {
    "duration": 12,
    "start_time": "2024-02-19T17:15:09.771Z"
   },
   {
    "duration": 16,
    "start_time": "2024-02-19T17:15:09.784Z"
   },
   {
    "duration": 15,
    "start_time": "2024-02-19T17:15:09.802Z"
   },
   {
    "duration": 9,
    "start_time": "2024-02-19T17:15:09.818Z"
   },
   {
    "duration": 11,
    "start_time": "2024-02-19T17:15:09.829Z"
   },
   {
    "duration": 327,
    "start_time": "2024-02-19T17:15:09.841Z"
   },
   {
    "duration": 585,
    "start_time": "2024-02-19T17:15:10.170Z"
   },
   {
    "duration": 471,
    "start_time": "2024-02-19T17:15:10.758Z"
   },
   {
    "duration": 431,
    "start_time": "2024-02-19T17:15:11.231Z"
   },
   {
    "duration": 250,
    "start_time": "2024-02-19T17:15:11.664Z"
   },
   {
    "duration": 756,
    "start_time": "2024-02-19T17:15:11.915Z"
   },
   {
    "duration": 1890,
    "start_time": "2024-02-19T17:15:12.672Z"
   },
   {
    "duration": 6,
    "start_time": "2024-02-19T17:15:14.564Z"
   },
   {
    "duration": 117,
    "start_time": "2024-02-19T17:15:14.572Z"
   },
   {
    "duration": 352,
    "start_time": "2024-02-19T17:15:14.690Z"
   },
   {
    "duration": 16,
    "start_time": "2024-02-19T17:15:15.043Z"
   },
   {
    "duration": 15,
    "start_time": "2024-02-19T17:15:15.061Z"
   },
   {
    "duration": 3070,
    "start_time": "2024-02-19T20:15:13.060Z"
   },
   {
    "duration": 6768,
    "start_time": "2024-02-19T20:15:16.132Z"
   },
   {
    "duration": 1611,
    "start_time": "2024-02-19T20:15:22.901Z"
   },
   {
    "duration": 3,
    "start_time": "2024-02-19T20:15:24.515Z"
   },
   {
    "duration": 178,
    "start_time": "2024-02-19T20:15:24.520Z"
   },
   {
    "duration": 14,
    "start_time": "2024-02-19T20:15:24.700Z"
   },
   {
    "duration": 23,
    "start_time": "2024-02-19T20:15:24.715Z"
   },
   {
    "duration": 7,
    "start_time": "2024-02-19T20:15:24.740Z"
   },
   {
    "duration": 9,
    "start_time": "2024-02-19T20:15:24.749Z"
   },
   {
    "duration": 19,
    "start_time": "2024-02-19T20:15:24.761Z"
   },
   {
    "duration": 338,
    "start_time": "2024-02-19T20:15:24.782Z"
   },
   {
    "duration": 656,
    "start_time": "2024-02-19T20:15:25.121Z"
   },
   {
    "duration": 431,
    "start_time": "2024-02-19T20:15:25.779Z"
   },
   {
    "duration": 412,
    "start_time": "2024-02-19T20:15:26.211Z"
   },
   {
    "duration": 252,
    "start_time": "2024-02-19T20:15:26.632Z"
   },
   {
    "duration": 736,
    "start_time": "2024-02-19T20:15:26.886Z"
   },
   {
    "duration": 2215,
    "start_time": "2024-02-19T20:15:27.623Z"
   },
   {
    "duration": 95,
    "start_time": "2024-02-19T20:15:29.840Z"
   },
   {
    "duration": 119,
    "start_time": "2024-02-19T20:15:29.937Z"
   },
   {
    "duration": 354,
    "start_time": "2024-02-19T20:15:30.058Z"
   },
   {
    "duration": 7,
    "start_time": "2024-02-19T20:15:30.414Z"
   },
   {
    "duration": 15,
    "start_time": "2024-02-19T20:15:30.423Z"
   },
   {
    "duration": 412820,
    "start_time": "2024-02-19T20:15:30.439Z"
   },
   {
    "duration": 350,
    "start_time": "2024-02-19T20:22:23.260Z"
   },
   {
    "duration": 10,
    "start_time": "2024-02-19T20:22:23.611Z"
   },
   {
    "duration": 112,
    "start_time": "2024-02-19T20:22:23.622Z"
   },
   {
    "duration": 146,
    "start_time": "2024-02-19T20:34:43.478Z"
   },
   {
    "duration": 607,
    "start_time": "2024-02-19T21:08:50.979Z"
   },
   {
    "duration": 692,
    "start_time": "2024-02-19T21:09:15.309Z"
   },
   {
    "duration": 645,
    "start_time": "2024-02-19T22:45:41.862Z"
   },
   {
    "duration": 765,
    "start_time": "2024-02-19T22:56:09.828Z"
   },
   {
    "duration": 625,
    "start_time": "2024-02-19T22:56:36.201Z"
   },
   {
    "duration": 715,
    "start_time": "2024-02-19T22:57:01.874Z"
   },
   {
    "duration": 679,
    "start_time": "2024-02-19T22:58:10.690Z"
   },
   {
    "duration": 629,
    "start_time": "2024-02-19T22:58:20.789Z"
   },
   {
    "duration": 657,
    "start_time": "2024-02-19T22:59:53.459Z"
   },
   {
    "duration": 748,
    "start_time": "2024-02-19T23:01:44.604Z"
   },
   {
    "duration": 6,
    "start_time": "2024-02-19T23:21:54.818Z"
   },
   {
    "duration": 31,
    "start_time": "2024-02-19T23:24:53.235Z"
   },
   {
    "duration": 122,
    "start_time": "2024-02-19T23:25:12.326Z"
   },
   {
    "duration": 16,
    "start_time": "2024-02-19T23:25:18.184Z"
   },
   {
    "duration": 16,
    "start_time": "2024-02-19T23:25:26.379Z"
   },
   {
    "duration": 15,
    "start_time": "2024-02-19T23:25:30.922Z"
   },
   {
    "duration": 31,
    "start_time": "2024-02-19T23:25:45.957Z"
   },
   {
    "duration": 20,
    "start_time": "2024-02-19T23:26:02.108Z"
   },
   {
    "duration": 2335,
    "start_time": "2024-02-19T23:52:29.206Z"
   },
   {
    "duration": 2696,
    "start_time": "2024-02-19T23:52:31.543Z"
   },
   {
    "duration": 1277,
    "start_time": "2024-02-19T23:52:34.241Z"
   },
   {
    "duration": 2,
    "start_time": "2024-02-19T23:52:35.520Z"
   },
   {
    "duration": 138,
    "start_time": "2024-02-19T23:52:35.524Z"
   },
   {
    "duration": 11,
    "start_time": "2024-02-19T23:52:35.664Z"
   },
   {
    "duration": 24,
    "start_time": "2024-02-19T23:52:35.677Z"
   },
   {
    "duration": 12,
    "start_time": "2024-02-19T23:52:35.702Z"
   },
   {
    "duration": 5,
    "start_time": "2024-02-19T23:52:35.715Z"
   },
   {
    "duration": 13,
    "start_time": "2024-02-19T23:52:35.721Z"
   },
   {
    "duration": 294,
    "start_time": "2024-02-19T23:52:35.735Z"
   },
   {
    "duration": 581,
    "start_time": "2024-02-19T23:52:36.032Z"
   },
   {
    "duration": 414,
    "start_time": "2024-02-19T23:52:36.615Z"
   },
   {
    "duration": 406,
    "start_time": "2024-02-19T23:52:37.030Z"
   },
   {
    "duration": 234,
    "start_time": "2024-02-19T23:52:37.438Z"
   },
   {
    "duration": 744,
    "start_time": "2024-02-19T23:52:37.674Z"
   },
   {
    "duration": 1916,
    "start_time": "2024-02-19T23:52:38.420Z"
   },
   {
    "duration": 96,
    "start_time": "2024-02-19T23:52:40.338Z"
   },
   {
    "duration": 128,
    "start_time": "2024-02-19T23:52:40.437Z"
   },
   {
    "duration": 326,
    "start_time": "2024-02-19T23:52:40.566Z"
   },
   {
    "duration": 7,
    "start_time": "2024-02-19T23:52:40.893Z"
   },
   {
    "duration": 6,
    "start_time": "2024-02-19T23:52:40.901Z"
   },
   {
    "duration": 382737,
    "start_time": "2024-02-19T23:52:40.909Z"
   },
   {
    "duration": 326,
    "start_time": "2024-02-19T23:59:03.647Z"
   },
   {
    "duration": 11,
    "start_time": "2024-02-19T23:59:03.975Z"
   },
   {
    "duration": 52,
    "start_time": "2024-02-19T23:59:03.987Z"
   },
   {
    "duration": 117,
    "start_time": "2024-02-20T00:14:34.078Z"
   },
   {
    "duration": 13,
    "start_time": "2024-02-20T00:28:46.326Z"
   },
   {
    "duration": 174,
    "start_time": "2024-02-20T00:29:06.635Z"
   },
   {
    "duration": 11,
    "start_time": "2024-02-20T00:30:24.408Z"
   },
   {
    "duration": 171,
    "start_time": "2024-02-20T00:30:40.627Z"
   },
   {
    "duration": 187,
    "start_time": "2024-02-20T00:38:46.190Z"
   },
   {
    "duration": 2281,
    "start_time": "2024-02-20T00:39:37.851Z"
   },
   {
    "duration": 2700,
    "start_time": "2024-02-20T00:39:40.134Z"
   },
   {
    "duration": 1287,
    "start_time": "2024-02-20T00:39:42.836Z"
   },
   {
    "duration": 3,
    "start_time": "2024-02-20T00:39:44.125Z"
   },
   {
    "duration": 120,
    "start_time": "2024-02-20T00:39:44.129Z"
   },
   {
    "duration": 11,
    "start_time": "2024-02-20T00:39:44.251Z"
   },
   {
    "duration": 51,
    "start_time": "2024-02-20T00:39:44.263Z"
   },
   {
    "duration": 6,
    "start_time": "2024-02-20T00:39:44.316Z"
   },
   {
    "duration": 8,
    "start_time": "2024-02-20T00:39:44.323Z"
   },
   {
    "duration": 10,
    "start_time": "2024-02-20T00:39:44.332Z"
   },
   {
    "duration": 296,
    "start_time": "2024-02-20T00:39:44.344Z"
   },
   {
    "duration": 583,
    "start_time": "2024-02-20T00:39:44.642Z"
   },
   {
    "duration": 439,
    "start_time": "2024-02-20T00:39:45.227Z"
   },
   {
    "duration": 418,
    "start_time": "2024-02-20T00:39:45.669Z"
   },
   {
    "duration": 241,
    "start_time": "2024-02-20T00:39:46.088Z"
   },
   {
    "duration": 791,
    "start_time": "2024-02-20T00:39:46.333Z"
   },
   {
    "duration": 2116,
    "start_time": "2024-02-20T00:39:47.125Z"
   },
   {
    "duration": 92,
    "start_time": "2024-02-20T00:39:49.243Z"
   },
   {
    "duration": 288,
    "start_time": "2024-02-20T00:39:49.338Z"
   },
   {
    "duration": 298,
    "start_time": "2024-02-20T00:39:49.627Z"
   },
   {
    "duration": 28,
    "start_time": "2024-02-20T00:39:49.926Z"
   },
   {
    "duration": 13,
    "start_time": "2024-02-20T00:39:49.955Z"
   },
   {
    "duration": 2019070,
    "start_time": "2024-02-20T00:39:49.969Z"
   },
   {
    "duration": 331,
    "start_time": "2024-02-20T01:13:29.041Z"
   },
   {
    "duration": 8,
    "start_time": "2024-02-20T01:13:29.373Z"
   },
   {
    "duration": 57,
    "start_time": "2024-02-20T01:13:29.383Z"
   },
   {
    "duration": 9,
    "start_time": "2024-02-20T02:23:24.873Z"
   },
   {
    "duration": 116,
    "start_time": "2024-02-20T02:26:12.986Z"
   },
   {
    "duration": 4,
    "start_time": "2024-02-20T02:26:56.786Z"
   },
   {
    "duration": 8,
    "start_time": "2024-02-20T02:28:12.530Z"
   },
   {
    "duration": 3,
    "start_time": "2024-02-20T02:30:52.447Z"
   },
   {
    "duration": 182,
    "start_time": "2024-02-20T02:31:09.743Z"
   },
   {
    "duration": 162,
    "start_time": "2024-02-20T02:32:34.450Z"
   },
   {
    "duration": 226,
    "start_time": "2024-02-20T02:35:03.623Z"
   },
   {
    "duration": 184,
    "start_time": "2024-02-20T02:36:19.445Z"
   },
   {
    "duration": 230,
    "start_time": "2024-02-20T02:37:37.462Z"
   },
   {
    "duration": 355,
    "start_time": "2024-02-20T02:58:45.132Z"
   },
   {
    "duration": 41,
    "start_time": "2024-02-20T03:00:06.530Z"
   },
   {
    "duration": 286,
    "start_time": "2024-02-20T03:00:36.896Z"
   },
   {
    "duration": 293,
    "start_time": "2024-02-20T03:08:06.804Z"
   },
   {
    "duration": 312,
    "start_time": "2024-02-20T03:08:25.796Z"
   },
   {
    "duration": 350,
    "start_time": "2024-02-20T03:08:37.683Z"
   },
   {
    "duration": 11,
    "start_time": "2024-02-20T03:18:12.763Z"
   },
   {
    "duration": 353,
    "start_time": "2024-02-20T03:22:37.571Z"
   },
   {
    "duration": 412,
    "start_time": "2024-02-20T03:25:38.385Z"
   },
   {
    "duration": 8,
    "start_time": "2024-02-20T03:27:27.341Z"
   },
   {
    "duration": 3,
    "start_time": "2024-02-20T03:27:28.556Z"
   },
   {
    "duration": 323,
    "start_time": "2024-02-20T03:27:29.607Z"
   },
   {
    "duration": 2280,
    "start_time": "2024-02-20T03:28:11.554Z"
   },
   {
    "duration": 2729,
    "start_time": "2024-02-20T03:28:13.836Z"
   },
   {
    "duration": 1249,
    "start_time": "2024-02-20T03:28:16.567Z"
   },
   {
    "duration": 3,
    "start_time": "2024-02-20T03:28:17.818Z"
   },
   {
    "duration": 155,
    "start_time": "2024-02-20T03:28:17.822Z"
   },
   {
    "duration": 11,
    "start_time": "2024-02-20T03:28:17.979Z"
   },
   {
    "duration": 13,
    "start_time": "2024-02-20T03:28:17.991Z"
   },
   {
    "duration": 7,
    "start_time": "2024-02-20T03:28:18.005Z"
   },
   {
    "duration": 6,
    "start_time": "2024-02-20T03:28:18.013Z"
   },
   {
    "duration": 31,
    "start_time": "2024-02-20T03:28:18.021Z"
   },
   {
    "duration": 333,
    "start_time": "2024-02-20T03:28:18.053Z"
   },
   {
    "duration": 601,
    "start_time": "2024-02-20T03:28:18.388Z"
   },
   {
    "duration": 419,
    "start_time": "2024-02-20T03:28:18.990Z"
   },
   {
    "duration": 417,
    "start_time": "2024-02-20T03:28:19.410Z"
   },
   {
    "duration": 239,
    "start_time": "2024-02-20T03:28:19.832Z"
   },
   {
    "duration": 724,
    "start_time": "2024-02-20T03:28:20.072Z"
   },
   {
    "duration": 2039,
    "start_time": "2024-02-20T03:28:20.798Z"
   },
   {
    "duration": 95,
    "start_time": "2024-02-20T03:28:22.839Z"
   },
   {
    "duration": 286,
    "start_time": "2024-02-20T03:28:22.936Z"
   },
   {
    "duration": 283,
    "start_time": "2024-02-20T03:28:23.224Z"
   },
   {
    "duration": 31,
    "start_time": "2024-02-20T03:28:23.509Z"
   },
   {
    "duration": 11,
    "start_time": "2024-02-20T03:28:23.541Z"
   },
   {
    "duration": 1916288,
    "start_time": "2024-02-20T03:28:23.553Z"
   },
   {
    "duration": 342,
    "start_time": "2024-02-20T04:00:19.842Z"
   },
   {
    "duration": 10,
    "start_time": "2024-02-20T04:00:20.186Z"
   },
   {
    "duration": 37,
    "start_time": "2024-02-20T04:00:20.197Z"
   },
   {
    "duration": 4,
    "start_time": "2024-02-20T04:00:20.236Z"
   },
   {
    "duration": 283,
    "start_time": "2024-02-20T04:00:20.333Z"
   },
   {
    "duration": 49,
    "start_time": "2024-02-20T05:49:07.459Z"
   },
   {
    "duration": 5836,
    "start_time": "2024-02-20T05:50:16.684Z"
   },
   {
    "duration": 132482,
    "start_time": "2024-02-20T05:50:22.522Z"
   },
   {
    "duration": 1588,
    "start_time": "2024-02-20T05:52:35.007Z"
   },
   {
    "duration": 3,
    "start_time": "2024-02-20T05:52:36.597Z"
   },
   {
    "duration": 228,
    "start_time": "2024-02-20T05:52:36.601Z"
   },
   {
    "duration": 13,
    "start_time": "2024-02-20T05:52:36.830Z"
   },
   {
    "duration": 13,
    "start_time": "2024-02-20T05:52:36.845Z"
   },
   {
    "duration": 7,
    "start_time": "2024-02-20T05:52:36.859Z"
   },
   {
    "duration": 8,
    "start_time": "2024-02-20T05:52:36.867Z"
   },
   {
    "duration": 22,
    "start_time": "2024-02-20T05:52:36.878Z"
   },
   {
    "duration": 373,
    "start_time": "2024-02-20T05:52:36.901Z"
   },
   {
    "duration": 669,
    "start_time": "2024-02-20T05:52:37.276Z"
   },
   {
    "duration": 482,
    "start_time": "2024-02-20T05:52:37.948Z"
   },
   {
    "duration": 440,
    "start_time": "2024-02-20T05:52:38.432Z"
   },
   {
    "duration": 287,
    "start_time": "2024-02-20T05:52:38.875Z"
   },
   {
    "duration": 836,
    "start_time": "2024-02-20T05:52:39.172Z"
   },
   {
    "duration": 2563,
    "start_time": "2024-02-20T05:52:40.010Z"
   },
   {
    "duration": 96,
    "start_time": "2024-02-20T05:52:42.576Z"
   },
   {
    "duration": 348,
    "start_time": "2024-02-20T05:52:42.674Z"
   },
   {
    "duration": 429,
    "start_time": "2024-02-20T05:52:43.024Z"
   },
   {
    "duration": 35,
    "start_time": "2024-02-20T05:52:43.455Z"
   },
   {
    "duration": 14,
    "start_time": "2024-02-20T05:52:43.492Z"
   },
   {
    "duration": 2047178,
    "start_time": "2024-02-20T05:52:43.507Z"
   },
   {
    "duration": 345,
    "start_time": "2024-02-20T06:26:50.687Z"
   },
   {
    "duration": 9,
    "start_time": "2024-02-20T06:26:51.034Z"
   },
   {
    "duration": 32,
    "start_time": "2024-02-20T06:26:51.044Z"
   },
   {
    "duration": 98,
    "start_time": "2024-02-20T06:26:51.078Z"
   },
   {
    "duration": 340,
    "start_time": "2024-02-20T06:26:51.180Z"
   },
   {
    "duration": 10,
    "start_time": "2024-02-20T06:27:53.803Z"
   },
   {
    "duration": 3126,
    "start_time": "2024-02-20T09:45:34.824Z"
   },
   {
    "duration": 6703,
    "start_time": "2024-02-20T09:45:37.953Z"
   },
   {
    "duration": 1622,
    "start_time": "2024-02-20T09:45:44.658Z"
   },
   {
    "duration": 3,
    "start_time": "2024-02-20T09:45:46.283Z"
   },
   {
    "duration": 202,
    "start_time": "2024-02-20T09:45:46.287Z"
   },
   {
    "duration": 12,
    "start_time": "2024-02-20T09:45:46.491Z"
   },
   {
    "duration": 16,
    "start_time": "2024-02-20T09:45:46.505Z"
   },
   {
    "duration": 6,
    "start_time": "2024-02-20T09:45:46.523Z"
   },
   {
    "duration": 12,
    "start_time": "2024-02-20T09:45:46.531Z"
   },
   {
    "duration": 18,
    "start_time": "2024-02-20T09:45:46.547Z"
   },
   {
    "duration": 323,
    "start_time": "2024-02-20T09:45:46.567Z"
   },
   {
    "duration": 668,
    "start_time": "2024-02-20T09:45:46.891Z"
   },
   {
    "duration": 477,
    "start_time": "2024-02-20T09:45:47.561Z"
   },
   {
    "duration": 426,
    "start_time": "2024-02-20T09:45:48.039Z"
   },
   {
    "duration": 238,
    "start_time": "2024-02-20T09:45:48.467Z"
   },
   {
    "duration": 742,
    "start_time": "2024-02-20T09:45:48.707Z"
   },
   {
    "duration": 235,
    "start_time": "2024-02-20T09:45:49.451Z"
   },
   {
    "duration": 143,
    "start_time": "2024-02-20T09:46:00.683Z"
   },
   {
    "duration": 188,
    "start_time": "2024-02-20T09:46:31.393Z"
   },
   {
    "duration": 2322,
    "start_time": "2024-02-20T10:05:28.215Z"
   },
   {
    "duration": 2803,
    "start_time": "2024-02-20T10:05:30.540Z"
   },
   {
    "duration": 6,
    "start_time": "2024-02-20T10:05:33.345Z"
   },
   {
    "duration": 28,
    "start_time": "2024-02-20T10:05:33.352Z"
   },
   {
    "duration": 96,
    "start_time": "2024-02-20T10:05:33.383Z"
   },
   {
    "duration": 12,
    "start_time": "2024-02-20T10:05:33.480Z"
   },
   {
    "duration": 28,
    "start_time": "2024-02-20T10:05:33.493Z"
   },
   {
    "duration": 21,
    "start_time": "2024-02-20T10:05:33.523Z"
   },
   {
    "duration": 23,
    "start_time": "2024-02-20T10:05:33.546Z"
   },
   {
    "duration": 18,
    "start_time": "2024-02-20T10:05:33.570Z"
   },
   {
    "duration": 230,
    "start_time": "2024-02-20T10:05:33.589Z"
   },
   {
    "duration": 630,
    "start_time": "2024-02-20T10:05:33.821Z"
   },
   {
    "duration": 472,
    "start_time": "2024-02-20T10:05:34.453Z"
   },
   {
    "duration": 412,
    "start_time": "2024-02-20T10:05:34.927Z"
   },
   {
    "duration": 347,
    "start_time": "2024-02-20T10:05:35.340Z"
   },
   {
    "duration": 686,
    "start_time": "2024-02-20T10:05:35.689Z"
   },
   {
    "duration": 166,
    "start_time": "2024-02-20T10:05:36.377Z"
   },
   {
    "duration": 1816,
    "start_time": "2024-02-20T10:05:36.545Z"
   },
   {
    "duration": 4,
    "start_time": "2024-02-20T10:05:38.458Z"
   },
   {
    "duration": 197,
    "start_time": "2024-02-20T10:05:38.463Z"
   },
   {
    "duration": 376,
    "start_time": "2024-02-20T10:05:38.661Z"
   },
   {
    "duration": 29,
    "start_time": "2024-02-20T10:05:39.038Z"
   },
   {
    "duration": 12,
    "start_time": "2024-02-20T10:05:39.068Z"
   },
   {
    "duration": 4,
    "start_time": "2024-02-20T10:06:16.126Z"
   },
   {
    "duration": 4,
    "start_time": "2024-02-20T10:06:24.324Z"
   }
  ],
  "kernelspec": {
   "display_name": "Python 3 (ipykernel)",
   "language": "python",
   "name": "python3"
  },
  "language_info": {
   "codemirror_mode": {
    "name": "ipython",
    "version": 3
   },
   "file_extension": ".py",
   "mimetype": "text/x-python",
   "name": "python",
   "nbconvert_exporter": "python",
   "pygments_lexer": "ipython3",
   "version": "3.9.5"
  },
  "toc": {
   "base_numbering": 1,
   "nav_menu": {},
   "number_sections": true,
   "sideBar": true,
   "skip_h1_title": true,
   "title_cell": "Содержание",
   "title_sidebar": "Contents",
   "toc_cell": true,
   "toc_position": {
    "height": "calc(100% - 180px)",
    "left": "10px",
    "top": "150px",
    "width": "165px"
   },
   "toc_section_display": true,
   "toc_window_display": false
  }
 },
 "nbformat": 4,
 "nbformat_minor": 4
}
